{
 "cells": [
  {
   "cell_type": "markdown",
   "metadata": {},
   "source": [
    "# NET ART REVOLUTION?\n",
    "\n",
    "**Abstract**\n",
    "\n",
    "The advent of the internet and personal computers as tools of communication and creation radically transformed the world we live in over the past 40 years. The impacts of both technologies across various fields and topics have been well documented, including their impact on the art world. Regarding the latter, discussion is often focused on how the internet and computers have transformed art creation as well as the ways in which memory institutions function and interact with their audiences. Slightly less focus has been given on how the technologies may have impacted how artworks are acquired. Net Art Revolution? aims to look at this particular aspect of the digital revolution by analyzing data from two different NYC-based institutions -- MoMA, representing the more traditional art world, and Rhizome, a smaller institution dedicated to digital-born art and culture, often refered to as net art. Both institutions make data about their collections publicly available -- MoMA in csv and json formats, Rhizome as Linked Open Data -- and this data is used to investigate our primary research question: **Did the internet and personal computers have an impact on the make up of art collections?** \n",
    "\n",
    "\n",
    "This project was undertaken by Margherita Donelli, Chiara Catizone, and Laurent Fintoni for the Electronic Publishing and Digital Storytelling (a.y. 2021-2022) final examination, as part of the *Digital Humanities and Digital Knowledge Master's Degree* at the University of Bologna."
   ]
  },
  {
   "cell_type": "markdown",
   "metadata": {},
   "source": [
    "***"
   ]
  },
  {
   "cell_type": "code",
   "execution_count": 1,
   "metadata": {},
   "outputs": [],
   "source": [
    "#IMPORTS + PATH\n",
    "path = './'\n",
    "\n",
    "#GENERIC\n",
    "import sys\n",
    "import pandas as pd\n",
    "import numpy as np\n",
    "import re\n",
    "import ssl\n",
    "ssl._create_default_https_context = ssl._create_unverified_context\n",
    "#PLOTLY\n",
    "import plotly.express as px\n",
    "import plotly.graph_objects as go\n",
    "import plotly.io as pio\n",
    "import pycountry\n",
    "import chart_studio.tools as tls\n",
    "import ipywidgets as ipw\n",
    "from statsmodels.graphics.mosaicplot import mosaic\n",
    "from plotly.subplots import make_subplots\n",
    "#PREPPING/CLEANING\n",
    "from SPARQLWrapper import SPARQLWrapper, JSON\n",
    "from functools import reduce\n",
    "from collections import defaultdict\n",
    "pio.templates.default = \"simple_white\"\n",
    "#SCRAPING\n",
    "from __future__ import print_function\n",
    "from bs4 import BeautifulSoup\n",
    "import requests\n",
    "#KEYWORDS\n",
    "import nltk\n",
    "from nltk.corpus import stopwords\n",
    "from nltk import word_tokenize \n",
    "from nltk.util import ngrams"
   ]
  },
  {
   "cell_type": "code",
   "execution_count": 2,
   "metadata": {},
   "outputs": [],
   "source": [
    "#FUNCTIONS\n",
    "\n",
    "#CLEAN DATA\n",
    "def normalizeDate(year):\n",
    "    if  re.match('.*\\d\\d\\d\\d.*', str(year)):\n",
    "        newDate = re.findall(r'\\d\\d\\d\\d', year)\n",
    "        #modify the date in order to normalize it using the first year in the list \n",
    "        return int(newDate[0])\n",
    "        \n",
    "    else: \n",
    "        return 0\n",
    "\n",
    "def getGender(ids):\n",
    "    listIds = str(ids).split(', ')\n",
    "    listGenders = list()\n",
    "    for id in listIds:\n",
    "        gender = artists[artists['ID']== id]\n",
    "        if len(gender)>0:\n",
    "            gender = gender['Gender'].values[0]\n",
    "            listGenders.append(gender)\n",
    "        else:\n",
    "            listGenders.append('missing')\n",
    "\n",
    "    \n",
    "    return \", \".join(listGenders)\n",
    "\n",
    "def getNationality(ids):\n",
    "    listIds = str(ids).split(', ')\n",
    "    listNationality = list()\n",
    "    for id in listIds:\n",
    "        nationality = artists[artists['ID']== id]\n",
    "        if len(nationality)>0:\n",
    "            nationality = nationality['Nationality'].values[0]\n",
    "            listNationality.append(nationality)\n",
    "        else:\n",
    "            listNationality.append('missing')\n",
    "\n",
    "    \n",
    "    return \", \".join(listNationality)\n",
    "\n",
    "#SPARQL QUERY\n",
    "def get_results(endpoint_url, query):\n",
    "    user_agent = \"WDQS-example Python/%s.%s\" % (sys.version_info[0], sys.version_info[1])\n",
    "    # TODO adjust user agent; see https://w.wiki/CX6\n",
    "    sparql = SPARQLWrapper(endpoint_url, agent=user_agent)\n",
    "    sparql.setQuery(query)\n",
    "    sparql.setReturnFormat(JSON)\n",
    "    return sparql.query().convert()\n",
    "\n",
    "#Scrape summaries, descriptions and artists statements from Rhizome website \n",
    "def url_to_text_rhizome(url):\n",
    "    page = requests.get(url).text\n",
    "    soup = BeautifulSoup(page, \"html.parser\")\n",
    "    accordion = [p.text.strip() for p in soup.find(id=\"AccordionDescriptionBody\").find_all('div')]\n",
    "    print(url)\n",
    "    return accordion\n",
    "\n",
    "#Extract text from MoMA website w/ exclusions for 404 status, missing URLs, and pages w/ no despcription\n",
    "def url_to_text_moma(url):\n",
    "    if url != 'missing':\n",
    "        page = requests.get(url)\n",
    "        status = page.status_code\n",
    "        if status != 404:\n",
    "            soup = BeautifulSoup(page.content, \"html.parser\")\n",
    "            try:\n",
    "                if soup.find(class_=\"uneven-columns--work\").find(class_='main-content') is not None:\n",
    "                    text = soup.find(class_=\"uneven-columns--work\").find(class_='main-content').find_all('p')\n",
    "                else:\n",
    "                    text = ''\n",
    "            except AttributeError:\n",
    "                text = ''\n",
    "                pass\n",
    "        else:\n",
    "            text = '404'\n",
    "    else:\n",
    "        text = 'missing'     \n",
    "    print(url)\n",
    "    return text\n",
    "\n",
    "#Extract keywords Rhizome and pass them to a new column\n",
    "def get_keywords(row):\n",
    "    punct_tokenizer = nltk.RegexpTokenizer(r\"\\w+\")\n",
    "    some_text = row['Text']\n",
    "    tokens = punct_tokenizer.tokenize(some_text)\n",
    "    keywords = [keyword for keyword in tokens if keyword.isalpha() and not keyword in stop_words]\n",
    "    freqdist = nltk.FreqDist(keywords)\n",
    "    most_common = freqdist.most_common(20)\n",
    "    most_common_list = []\n",
    "    for t in most_common:\n",
    "        most_common_list.append(t[0])\n",
    "    keywords_string = ', '.join(most_common_list)\n",
    "    return keywords_string\n",
    "\n",
    "#get keywords MoMA \n",
    "def get_keywords_2(row):\n",
    "    punct_tokenizer = nltk.RegexpTokenizer(r\"\\w+\")\n",
    "    some_text = row['text']\n",
    "    tokens = punct_tokenizer.tokenize(some_text)\n",
    "    keywords = [keyword for keyword in tokens if keyword.isalpha() and not keyword in stop_words]\n",
    "    freqdist = nltk.FreqDist(keywords)\n",
    "    most_common = freqdist.most_common(20)\n",
    "    most_common_list = []\n",
    "    for t in most_common:\n",
    "        most_common_list.append(t[0])\n",
    "    keywords_string = ', '.join(most_common_list)\n",
    "    return keywords_string\n",
    "\n",
    "#group genders \n",
    "def group_genders(df):\n",
    "    collectives = ['M', 'F', 'missing', 'NB']\n",
    "    df = df['Gender'].value_counts().rename_axis('Gender').reset_index(name='Counts')\n",
    "    df_collectives = ['Collectives & Collabs', df[df.Gender.str.contains(',')]['Counts'].sum()]\n",
    "    df = df.loc[~df.Gender.isin(collectives) == False].reset_index(drop=True)\n",
    "    df.loc[5] = df_collectives\n",
    "    df = df.sort_values(by='Counts', ascending=False).replace('M', 'Male').replace('F', 'Female').replace('missing', 'Missing')\n",
    "    return df\n",
    "\n",
    "#group genders by department and source\n",
    "def group_genders_dept(df, period, department):\n",
    "    collectives = ['M', 'F', 'missing', 'NB']\n",
    "    df = df['Gender'].value_counts().rename_axis('Gender').reset_index(name='Counts')\n",
    "    df_collectives = ['Collectives & Collabs', df[df.Gender.str.contains(',')]['Counts'].sum()]\n",
    "    df = df.loc[~df.Gender.isin(collectives) == False].reset_index(drop=True)\n",
    "    df.loc[5] = df_collectives\n",
    "    df = df.sort_values(by='Counts', ascending=False).replace('M', 'Male').replace('F', 'Female').replace('missing', 'Missing')\n",
    "    df['Period'] = period\n",
    "    df['Department'] = department\n",
    "    if period == 'Before 1983':\n",
    "        df['Counts'] = df['Counts'].div(100).round(2)\n",
    "        df['Counts'] = df['Counts'].multiply(43).round(2)\n",
    "        df['Counts'] = df['Counts'].astype(int)\n",
    "    df = df.sort_values(by='Counts', ascending=False).replace('M', 'Male').replace('F', 'Female').replace('missing', 'Missing')\n",
    "    return df\n",
    "\n",
    "#Turn nationalities into north/south divide\n",
    "def getContinent(string):\n",
    "    if string in north:\n",
    "        return 'North Globe'\n",
    "    elif string in south:\n",
    "        return 'South Globe'\n",
    "    else: \n",
    "        'missing'\n",
    "\n",
    "#Get country codes\n",
    "def do_fuzzy_search(country):\n",
    "    try:\n",
    "        result = pycountry.countries.search_fuzzy(country)\n",
    "        return result[0].alpha_3\n",
    "    except:\n",
    "        return np.nan"
   ]
  },
  {
   "cell_type": "code",
   "execution_count": 3,
   "metadata": {},
   "outputs": [],
   "source": [
    "#LOAD ALL NEEDED PICKLED DATA\n",
    "\n",
    "#complete DFs\n",
    "rhz_artworks = pd.read_pickle(path+'Rhizome_data/pickles/rhizome_artworks_extra.pkl')\n",
    "rhz_artworks = rhz_artworks.replace('N/B', 'NB')\n",
    "moma_artworks = pd.read_pickle(path+'MOMA_data/pickle/MoMAartworks.pkl')\n",
    "moma_artworks_old =  pd.read_pickle(path+'MOMA_data/pickle/old_artworks.pkl')\n",
    "moma_artworks_new = pd.read_pickle(path+'MOMA_data/pickle/new_artworks.pkl')\n",
    "moma_rhz_compare = moma_artworks_new.loc[moma_artworks_new['dateAcquired'] >= 2000]\n",
    "\n",
    "#MoMA department DFs\n",
    "moma_draw = moma_artworks.loc[moma_artworks['Department'] == 'Drawings & Prints']\n",
    "moma_draw_before = moma_draw.loc[moma_draw['dateCreated'] <= 1982]\n",
    "moma_draw_after = moma_draw.loc[moma_draw['dateCreated'] >= 1983]\n",
    "moma_films = moma_artworks.loc[moma_artworks['Department'] == 'Film']\n",
    "moma_films_before = moma_films.loc[moma_films['dateCreated'] <= 1982]\n",
    "moma_films_after = moma_films.loc[moma_films['dateCreated'] >= 1983]\n",
    "moma_media = moma_artworks.loc[moma_artworks['Department'] == 'Media and Performance']\n",
    "moma_media_before = moma_media.loc[moma_media['dateCreated'] <= 1982]\n",
    "moma_media_after = moma_media.loc[moma_media['dateCreated'] >= 1983]\n",
    "moma_photo = moma_artworks.loc[moma_artworks['Department'] == 'Photography']\n",
    "moma_photo_before = moma_photo.loc[moma_photo['dateCreated'] <= 1982]\n",
    "moma_photo_after = moma_photo.loc[moma_photo['dateCreated'] >= 1983]\n",
    "\n",
    "#Rhizome with text\n",
    "rhizome_txt_clean = pd.read_pickle(path+'Rhizome_data/pickles/rhizome_artworks_extra_text_clean.pkl')\n",
    "rhizome_txt_stop_kw = pd.read_pickle(path+'Rhizome_data/pickles/rhizome_artworks_extra_text_clean_stop_keywords.pkl')\n",
    "\n",
    "#MoMA with text\n",
    "moma_arch_cont_text_stop = pd.read_pickle(path+'MOMA_data/pickle/departments/architecture_design_cont_text_final_stop.pkl')\n",
    "moma_arch_mod_text_stop = pd.read_pickle(path+'MOMA_data/pickle/departments/architecture_design_mod_text_only_final_stop.pkl')\n",
    "moma_draw_cont_text_stop = pd.read_pickle(path+'MOMA_data/pickle/departments/draws_prints_cont_text_final_stop.pkl')\n",
    "moma_draw_mod_text_stop = pd.read_pickle(path+'MOMA_data/pickle/departments/draws_prints_mod_text_final_stop.pkl')\n",
    "moma_films_cont_text_stop = pd.read_pickle(path+'MOMA_data/pickle/departments/films_cont_text_final_stop.pkl')\n",
    "moma_films_mod_text_stop = pd.read_pickle(path+'MOMA_data/pickle/departments/films_mod_text_final_stop.pkl')\n",
    "moma_media_cont_text_stop = pd.read_pickle(path+'MOMA_data/pickle/departments/media_perf_cont_text_final_stop.pkl')\n",
    "moma_media_mod_text_stop = pd.read_pickle(path+'MOMA_data/pickle/departments/media_perf_mod_text_final_stop.pkl')\n",
    "moma_paint_cont_text_stop = pd.read_pickle(path+'MOMA_data/pickle/departments/paint_sculp_cont_text_final_stop.pkl')\n",
    "moma_paint_mod_text_stop = pd.read_pickle(path+'MOMA_data/pickle/departments/paint_sculp_mod_text_final_stop.pkl')\n",
    "moma_photo_cont_text_stop = pd.read_pickle(path+'MOMA_data/pickle/departments/photo_cont_text_final_stop.pkl')\n",
    "moma_photo_mod_text_stop = pd.read_pickle(path+'MOMA_data/pickle/departments/photo_mod_text_final_stop.pkl')\n",
    "moma_full_text_stop = pd.concat([moma_arch_cont_text_stop, moma_draw_cont_text_stop, moma_draw_mod_text_stop, moma_films_cont_text_stop, moma_films_mod_text_stop, moma_media_cont_text_stop, moma_media_mod_text_stop, moma_paint_cont_text_stop, moma_paint_mod_text_stop, moma_photo_cont_text_stop, moma_photo_mod_text_stop])\n"
   ]
  },
  {
   "cell_type": "markdown",
   "metadata": {},
   "source": [
    "***"
   ]
  },
  {
   "cell_type": "markdown",
   "metadata": {},
   "source": [
    "## Assessing the Available Data (Everyone)\n",
    "\n",
    "Our research began by looking at the available datasets. We downloaded [MoMA's publicly available dumps](https://github.com/MuseumofModernArt/collection) and looked at their formatting, and we then explored Rhizome's dataset (AKA the ArtBase) via their [SPARQL endpoint](https://query.artbase.rhizome.org/). The first key observations were as follows:\n",
    "- MoMA's artworks and artists datasets are linked via an ID system, which did not exist in Rhizome\n",
    "- Rhizome's dataset has more missing information such as biographical information of artists \n",
    "- The sizes of the datasets are drastically different with Rhizome's artists set being 10% of MoMA's and its artworks set being 1.6% percent of MoMA's \n",
    "\n",
    "We contacted Rhizome with some questions about how their data was formatted and they did eventually supply us with a copy of their RDF dump as of February 2022. We used this RDF file to primarily check our queries and extracted all the data we needed directly via the endpoint. We would like to acknowledge and thank Dragan Espenschied, Preservation Director at Rhizome, for his willingness to answer some of our questions about the formatting of Rhizome's data and supplying us with a copy of the RDF dump. "
   ]
  },
  {
   "cell_type": "markdown",
   "metadata": {},
   "source": [
    "***"
   ]
  },
  {
   "cell_type": "markdown",
   "metadata": {},
   "source": [
    "## Cleaning and Preparing MoMA Data (Chiara)\n",
    "\n",
    "For the artworks dataset we selected the columns in MoMA's datasets most relevant to our research, as well as most aligned with existing Rhizome data formatting. These were: Title; Artist; ConstituentID (linking system); Date (renamed to Date Created); Medium; Department; DateAcquired; URL (for web scraping); ThumbnailURL (for potential use of images). We also decided to split the artworks dataset by Departments, created subsequent filtered sets for potential more meaningful analysis with Rhizome's datasets.<br><br>\n",
    "For the artists dataset all columns were kept as they were deemed potentially useful and we then used the Constituent ID mechanism to populate the artworks dataset with two key values for our analysis: gender and nationality. This way we would be able to work primarily from the artworks dataset. <br><br>\n",
    "Finally we also selected 1983 as a date for the MoMA artworks dataset that could be a pivot to help us see changes between art before and after the internet. 1983 was chosen as this is the year that the first artwork was created in Rhizome as well as the year in which TCP/IP was standardized, in effect a turning point towards the ubiquity of the worldwide web. The MoMA dataset was duplicated into a before and after version.<br><br>\n",
    "Finally, considering that we knew there would be missing data relevant to our research (such as gender) we decided to normalize all missing categorical values using the string 'missing' and all numerical values using 0 and transformed all dates to 4-digit years as we did not want to go more granular than the year level when looking at time. "
   ]
  },
  {
   "cell_type": "code",
   "execution_count": 236,
   "metadata": {},
   "outputs": [],
   "source": [
    "\"\"\" #select and clean artist columns \n",
    "original_artists = pd.read_csv(path+'MOMA_data/csv/Artists.csv')\n",
    "artists= original_artists[['ConstituentID','DisplayName','Nationality','Gender','BeginDate','EndDate','Wiki QID','ULAN']]\n",
    "artists.rename(columns={'ConstituentID': 'ID', 'DisplayName': 'Artist','BeginDate': 'Birth', 'EndDate': 'Death'}, inplace=True)\n",
    "artists['Gender'] = artists['Gender'].fillna('missing').astype('str')\n",
    "artists['Wiki QID'] = artists['Wiki QID'].fillna('missing').astype('str')\n",
    "artists['ULAN'] = artists['ULAN'].fillna('0').astype('int')\n",
    "artists['ID'] = artists['ID'].fillna('0').astype('str')\n",
    "artists['Artist'] = artists['Artist'].fillna('Unknown').astype('str')\n",
    "artists['Nationality'] = artists['Nationality'].fillna('missing').astype('str')\n",
    "artists['Gender'] = artists['Gender'].fillna('missing').astype('str')\n",
    "artists['Birth'] = artists['Birth'].fillna('0').astype('int')\n",
    "artists['Death'] = artists['Death'].fillna('0').astype('int')\n",
    "\n",
    "#normalize gender labels to M, F, NB for ease of comparison w/ Rhizome\n",
    "for x, row in artists.iterrows():\n",
    "    if re.match(r'[M|m]ale', row.Gender):\n",
    "        artists.at[x, 'Gender'] = 'M'\n",
    "    elif re.match(r'[F|f]emale',row.Gender):\n",
    "        artists.at[x, 'Gender'] = 'F'\n",
    "    elif re.match(r'Non-[B|b]inary', row.Gender):\n",
    "        artists.at[x, 'Gender'] = 'NB'\n",
    "\n",
    "#clean original artworks df\n",
    "original_artworks = pd.read_csv(path+'MOMA_data/csv/Artworks.csv')\n",
    "original_artworks =  original_artworks[['Title','Artist','ConstituentID','Date','Medium','Department','DateAcquired','URL','ThumbnailURL']]\n",
    "original_artworks['Date'] = original_artworks['Date'].apply(lambda x: normalizeDate(x))\n",
    "original_artworks['DateAcquired']=original_artworks['DateAcquired'].where((original_artworks['DateAcquired'].str.len() <= 4), original_artworks['DateAcquired'].str[0:4])\n",
    "original_artworks['Gender'] = original_artworks['ConstituentID'].apply(lambda x: getGender(x))\n",
    "original_artworks['Nationality'] = original_artworks['ConstituentID'].apply(lambda x: getNationality(x))\n",
    "\n",
    "original_artworks = original_artworks.rename(columns={\"Date\": \"dateCreated\", \"DateAcquired\": \"dateAcquired\"})\n",
    "original_artworks['Title'] = original_artworks['Title'].fillna('Unknown')\n",
    "original_artworks['dateAcquired'] = original_artworks['dateAcquired'].astype('str')\n",
    "original_artworks['dateAcquired'] = original_artworks['dateAcquired'].replace('nan', str('0'))\n",
    "original_artworks['dateAcquired']=original_artworks['dateAcquired'].astype('int')\n",
    "original_artworks['dateCreated'] = original_artworks['dateCreated'].astype('str')\n",
    "original_artworks['dateCreated'] = original_artworks['dateCreated'].replace('nan', str('0'))\n",
    "original_artworks['dateCreated']=original_artworks['dateCreated'].astype('int')\n",
    "\n",
    "#pickle for reuse\n",
    "artists.to_pickle(path+'MoMA_data/pickle/MoMAartists.pkl')\n",
    "original_artworks.to_pickle(path+'MoMA_data/pickle/MoMAartworks.pkl')\n",
    "\n",
    "#create time-based subsets\n",
    "before83 = original_artworks[(original_artworks['dateAcquired'] < 1983) & (original_artworks['dateCreated'] < 1983)]\n",
    "after83 = original_artworks[(original_artworks['dateAcquired'] >= 1983) & (original_artworks['dateCreated'] >= 1983)]\n",
    "before83.to_pickle(path+'MoMA_data/pickle/old_artworks.pkl')\n",
    "after83.to_pickle(path+'MoMA_data/pickle/new_artworks.pkl')\n",
    "\n",
    "#split artwork datasets further based on department for ease of comparison\n",
    "architecture_design = before83[before83['Department'] == \"Architecture & Design\"]\n",
    "architecture_design.to_pickle(path+'MoMA_data/pickle/departments/architecture_design_mod.pkl')\n",
    "architecture_design_img  = before83[before83['Department'] == \"Architecture & Design - Image Archive\"]\n",
    "architecture_design_img.to_pickle(path+'MoMA_data/pickle/departments/architecture_design_img_mod.pkl')\n",
    "draws_prints= before83[before83['Department'] == \"Drawings & Prints\"]\n",
    "draws_prints.to_pickle(path+'MoMA_data/pickle/departments/draws_prints_mod.pkl')\n",
    "films= before83[before83['Department'] == \"Film\"]\n",
    "films.to_pickle(path+'MoMA_data/pickle/departments/films_mod.pkl')\n",
    "fluxus= before83[before83['Department'] == \"Fluxus Collection\"]\n",
    "fluxus.to_pickle(path+'MoMA_data/pickle/departments/fluxus_mod.pkl')\n",
    "media_perf= before83[before83['Department'] == \"Media and Performance\"]\n",
    "media_perf.to_pickle(path+'MoMA_data/pickle/departments/media_perf_mod.pkl')\n",
    "painting_sculp= before83[before83['Department'] == \"Painting & Sculpture\"]\n",
    "painting_sculp.to_pickle(path+'MoMA_data/pickle/departments/paint_sculp_mod.pkl')\n",
    "photo= before83[before83['Department'] == \"Photography\"]\n",
    "photo.to_pickle(path+'MoMA_data/pickle/departments/photo_mod.pkl')\n",
    "architecture_design = after83[after83['Department'] == \"Architecture & Design\"]\n",
    "architecture_design.to_pickle(path+'MoMA_data/pickle/departments/architecture_design_cont.pkl')\n",
    "architecture_design_img  = after83[after83['Department'] == \"Architecture & Design - Image Archive\"]\n",
    "architecture_design_img.to_pickle(path+'MoMA_data/pickle/departments/architecture_design_img_cont.pkl')\n",
    "draws_prints= after83[after83['Department'] == \"Drawings & Prints\"]\n",
    "draws_prints.to_pickle(path+'MoMA_data/pickle/departments/draws_prints_cont.pkl')\n",
    "films= after83[after83['Department'] == \"Film\"]\n",
    "films.to_pickle(path+'MoMA_data/pickle/departments/films_cont.pkl')\n",
    "fluxus= after83[after83['Department'] == \"Fluxus Collection\"]\n",
    "fluxus.to_pickle(path+'MoMA_data/pickle/departments/fluxus_cont.pkl')\"\"\"  \"\"\"\n",
    "media_perf= after83[after83['Department'] == \"Media and Performance\"]\n",
    "media_perf.to_pickle(path+'MoMA_data/pickle/departments/media_perf_cont.pkl')\n",
    "painting_sculp= after83[after83['Department'] == \"Painting & Sculpture\"]\n",
    "painting_sculp.to_pickle(path+'MoMA_data/pickle/departments/paint_sculp_cont.pkl')\n",
    "photo= after83[after83['Department'] == \"Photography\"]\n",
    "photo.to_pickle(path+'MoMA_data/pickle/departments/photo_cont.pkl') \"\"\""
   ]
  },
  {
   "cell_type": "code",
   "execution_count": 237,
   "metadata": {},
   "outputs": [
    {
     "data": {
      "text/html": [
       "<div>\n",
       "<style scoped>\n",
       "    .dataframe tbody tr th:only-of-type {\n",
       "        vertical-align: middle;\n",
       "    }\n",
       "\n",
       "    .dataframe tbody tr th {\n",
       "        vertical-align: top;\n",
       "    }\n",
       "\n",
       "    .dataframe thead th {\n",
       "        text-align: right;\n",
       "    }\n",
       "</style>\n",
       "<table border=\"1\" class=\"dataframe\">\n",
       "  <thead>\n",
       "    <tr style=\"text-align: right;\">\n",
       "      <th></th>\n",
       "      <th>Title</th>\n",
       "      <th>Artist</th>\n",
       "      <th>ConstituentID</th>\n",
       "      <th>dateCreated</th>\n",
       "      <th>Medium</th>\n",
       "      <th>Department</th>\n",
       "      <th>dateAcquired</th>\n",
       "      <th>URL</th>\n",
       "      <th>ThumbnailURL</th>\n",
       "      <th>Gender</th>\n",
       "      <th>Nationality</th>\n",
       "    </tr>\n",
       "  </thead>\n",
       "  <tbody>\n",
       "    <tr>\n",
       "      <th>0</th>\n",
       "      <td>Ferdinandsbrücke Project, Vienna, Austria (Ele...</td>\n",
       "      <td>Otto Wagner</td>\n",
       "      <td>6210</td>\n",
       "      <td>1896</td>\n",
       "      <td>Ink and cut-and-pasted painted pages on paper</td>\n",
       "      <td>Architecture &amp; Design</td>\n",
       "      <td>1996</td>\n",
       "      <td>http://www.moma.org/collection/works/2</td>\n",
       "      <td>http://www.moma.org/media/W1siZiIsIjU5NDA1Il0s...</td>\n",
       "      <td>M</td>\n",
       "      <td>Austrian</td>\n",
       "    </tr>\n",
       "    <tr>\n",
       "      <th>1</th>\n",
       "      <td>City of Music, National Superior Conservatory ...</td>\n",
       "      <td>Christian de Portzamparc</td>\n",
       "      <td>7470</td>\n",
       "      <td>1987</td>\n",
       "      <td>Paint and colored pencil on print</td>\n",
       "      <td>Architecture &amp; Design</td>\n",
       "      <td>1995</td>\n",
       "      <td>http://www.moma.org/collection/works/3</td>\n",
       "      <td>http://www.moma.org/media/W1siZiIsIjk3Il0sWyJw...</td>\n",
       "      <td>M</td>\n",
       "      <td>French</td>\n",
       "    </tr>\n",
       "    <tr>\n",
       "      <th>2</th>\n",
       "      <td>Villa near Vienna Project, Outside Vienna, Aus...</td>\n",
       "      <td>Emil Hoppe</td>\n",
       "      <td>7605</td>\n",
       "      <td>1903</td>\n",
       "      <td>Graphite, pen, color pencil, ink, and gouache ...</td>\n",
       "      <td>Architecture &amp; Design</td>\n",
       "      <td>1997</td>\n",
       "      <td>http://www.moma.org/collection/works/4</td>\n",
       "      <td>http://www.moma.org/media/W1siZiIsIjk4Il0sWyJw...</td>\n",
       "      <td>M</td>\n",
       "      <td>Austrian</td>\n",
       "    </tr>\n",
       "    <tr>\n",
       "      <th>3</th>\n",
       "      <td>The Manhattan Transcripts Project, New York, N...</td>\n",
       "      <td>Bernard Tschumi</td>\n",
       "      <td>7056</td>\n",
       "      <td>1980</td>\n",
       "      <td>Photographic reproduction with colored synthet...</td>\n",
       "      <td>Architecture &amp; Design</td>\n",
       "      <td>1995</td>\n",
       "      <td>http://www.moma.org/collection/works/5</td>\n",
       "      <td>http://www.moma.org/media/W1siZiIsIjEyNCJdLFsi...</td>\n",
       "      <td>M</td>\n",
       "      <td>missing</td>\n",
       "    </tr>\n",
       "    <tr>\n",
       "      <th>4</th>\n",
       "      <td>Villa, project, outside Vienna, Austria, Exter...</td>\n",
       "      <td>Emil Hoppe</td>\n",
       "      <td>7605</td>\n",
       "      <td>1903</td>\n",
       "      <td>Graphite, color pencil, ink, and gouache on tr...</td>\n",
       "      <td>Architecture &amp; Design</td>\n",
       "      <td>1997</td>\n",
       "      <td>http://www.moma.org/collection/works/6</td>\n",
       "      <td>http://www.moma.org/media/W1siZiIsIjEyNiJdLFsi...</td>\n",
       "      <td>M</td>\n",
       "      <td>Austrian</td>\n",
       "    </tr>\n",
       "  </tbody>\n",
       "</table>\n",
       "</div>"
      ],
      "text/plain": [
       "                                               Title  \\\n",
       "0  Ferdinandsbrücke Project, Vienna, Austria (Ele...   \n",
       "1  City of Music, National Superior Conservatory ...   \n",
       "2  Villa near Vienna Project, Outside Vienna, Aus...   \n",
       "3  The Manhattan Transcripts Project, New York, N...   \n",
       "4  Villa, project, outside Vienna, Austria, Exter...   \n",
       "\n",
       "                     Artist ConstituentID  dateCreated  \\\n",
       "0               Otto Wagner          6210         1896   \n",
       "1  Christian de Portzamparc          7470         1987   \n",
       "2                Emil Hoppe          7605         1903   \n",
       "3           Bernard Tschumi          7056         1980   \n",
       "4                Emil Hoppe          7605         1903   \n",
       "\n",
       "                                              Medium             Department  \\\n",
       "0      Ink and cut-and-pasted painted pages on paper  Architecture & Design   \n",
       "1                  Paint and colored pencil on print  Architecture & Design   \n",
       "2  Graphite, pen, color pencil, ink, and gouache ...  Architecture & Design   \n",
       "3  Photographic reproduction with colored synthet...  Architecture & Design   \n",
       "4  Graphite, color pencil, ink, and gouache on tr...  Architecture & Design   \n",
       "\n",
       "   dateAcquired                                     URL  \\\n",
       "0          1996  http://www.moma.org/collection/works/2   \n",
       "1          1995  http://www.moma.org/collection/works/3   \n",
       "2          1997  http://www.moma.org/collection/works/4   \n",
       "3          1995  http://www.moma.org/collection/works/5   \n",
       "4          1997  http://www.moma.org/collection/works/6   \n",
       "\n",
       "                                        ThumbnailURL Gender Nationality  \n",
       "0  http://www.moma.org/media/W1siZiIsIjU5NDA1Il0s...      M    Austrian  \n",
       "1  http://www.moma.org/media/W1siZiIsIjk3Il0sWyJw...      M      French  \n",
       "2  http://www.moma.org/media/W1siZiIsIjk4Il0sWyJw...      M    Austrian  \n",
       "3  http://www.moma.org/media/W1siZiIsIjEyNCJdLFsi...      M     missing  \n",
       "4  http://www.moma.org/media/W1siZiIsIjEyNiJdLFsi...      M    Austrian  "
      ]
     },
     "execution_count": 237,
     "metadata": {},
     "output_type": "execute_result"
    }
   ],
   "source": [
    "#show result\n",
    "original_artworks = pd.read_pickle(path+'MoMA_data/pickle/MoMAartworks.pkl')\n",
    "original_artworks.head()"
   ]
  },
  {
   "cell_type": "markdown",
   "metadata": {},
   "source": [
    "***"
   ]
  },
  {
   "cell_type": "markdown",
   "metadata": {},
   "source": [
    "## Cleaning and Preparing Rhizome Data (Laurent & Margherita)\n",
    "\n",
    "We began our exploration of Rhizome's dataset with a variety of SPARQL queries before settling on the following three to help us build artworks and artists datasets that could be equivalent to MoMA's: all the artists with available biographic information, all artworks with available metadata (title, dates, associated artist, website URLs), and artists who are/aren't part of a collective. These queries were conducted directly on the endpoint (and checked against the local RDF file for consistency) to retrieve them as csv files and are replicated below formatted using the SPARQLwrapper library.\n"
   ]
  },
  {
   "cell_type": "code",
   "execution_count": null,
   "metadata": {},
   "outputs": [],
   "source": [
    "#set endpoint\n",
    "\n",
    "endpoint_url = \"https://query.artbase.rhizome.org/proxy/wdqs/bigdata/namespace/wdq/sparql\"\n",
    "\n",
    "#query to get all artworks and available information \n",
    "query_all_artworks = \"\"\"SELECT ?artwork_page ?artwork_label ?artist_label ?accession ?inception ?summary_url ?description_url ?statement_url\n",
    "{ \n",
    "  ?artwork rdfs:label ?artwork_label ;\n",
    "   rt:P3 r:Q5 ;\n",
    "   rt:P29 ?artist .\n",
    "   ?artist rdfs:label ?artist_label . \n",
    "   ?artwork_page schema:about ?artwork .\n",
    "  OPTIONAL {\n",
    "   ?artwork rt:P85 ?accession ;\n",
    "           rt:P26 ?inception . }\n",
    "  OPTIONAL {\n",
    "  ?artwork rt:P123 ?summary_description .\n",
    "  ?summary_description rt:P3 r:Q4985 ;\n",
    "          rdfs:label ?summary_label .\n",
    "  ?summary_url schema:about ?summary_description .}\n",
    "  OPTIONAL {\n",
    "  ?artwork rt:P123 ?description .\n",
    "  ?description rt:P3 r:Q9759 ;\n",
    "          rdfs:label ?description_label .\n",
    "  ?description_url schema:about ?description . }\n",
    "  OPTIONAL {\n",
    "    ?artwork rt:P123 ?statement .\n",
    "  ?statement rt:P3 r:Q11838 ;\n",
    "          rdfs:label ?statement_label .\n",
    "  ?statement_url schema:about ?statement .\n",
    "}}\n",
    "\n",
    "\"\"\"\n",
    "#collectives and their individual members\n",
    "query_artists = '''SELECT ?subject ?member ?collectiveLabel ?memberLabel\n",
    "WHERE { \n",
    "  ?subject rt:P3 r:Q7;\n",
    "           rdfs:label ?collectiveLabel;\n",
    "           rt:P43 ?member.\n",
    "  ?member rdfs:label ?memberLabel.\n",
    "  \n",
    "SERVICE wikibase:label { bd:serviceParam wikibase:language \"en\" }}'''\n",
    "\n",
    "#artists who aren't in a collective \n",
    "query_collective_filter = '''SELECT DISTINCT ?artistLabel ?artistPage\n",
    "WHERE {\n",
    "?artwork rt:P3 r:Q5.\n",
    "?artwork rt:P29 ?artist.\n",
    "?artist rt:P3 r:Q6.\n",
    "?artistPage schema:about ?artist ;\n",
    "schema:isPartOf <https://artbase.rhizome.org/> .\n",
    "SERVICE wikibase:label { bd:serviceParam wikibase:language \"en\" }\n",
    "FILTER (?artist not in (r:Q7) )\n",
    "}\n",
    "ORDER BY ?artistLabel\n",
    "}'''\n",
    "\n",
    "results = get_results(endpoint_url, query_all_artworks)\n",
    "\n",
    "for result in results[\"results\"][\"bindings\"]:\n",
    "    print(result)"
   ]
  },
  {
   "cell_type": "markdown",
   "metadata": {},
   "source": [
    "The resulting datasets were however not complete enough for us to conduct a meaningful analysis. The major issue was that very few of Rhizome's artists had biographical information in the ArtBase, and with gender and nationality being key variables for our exploration we needed to complete this information. We tried a variety of automated ways -- including using Google's [Graph Search API](https://developers.google.com/knowledge-graph) -- however they proved limiting as the majority of artists in Rhizome's ArtBase are not popular enough to appear in Google's graph or if they did they were likely to have a name similar to someone else. <br><br>\n",
    "In the end we decided to complete our dataset manually by conducting searches for nationality, gender, birth and death dates as well as WikiData and ULAN IDs. We used a simple common procedure: take the artist name and input it into Google and [Getty's ULAN database](https://www.getty.edu/research/tools/vocabularies/ulan/); from there try to quickly assert if information is available and input it. We also gave ourselves the following leeway: if an artist's gender or nationality was not clearly stated we inferred it from available text (such as the use of pronouns and primary places of work/study), and we added this into a separate gender/nationality column marked as guessed to differentiate it from the confirmed information. In total we guessed/inferred 224 nationalities and 233 genders.<br><br>\n",
    "The final results of this work can be seen in the artists_complete.csv file held in the Rhizome_data folder. <br><br>\n",
    "Following this we ran the Rhizome datasets through some scripts to align them with the MoMA datasets as well as perform the same linking exercise using an ID system that would allow us to have an artwork dataset containing gender and nationality information for our analysis. At this point guessed/inferred gender and nationality were combined with the confirmed information. We also decided that artists who were part of a collective would be treated as a collective only unless they also appeared in the ArtBase as a solo artist or unless the collective was larger than 2 artists. This decision was made to allow us to increase the Rhizome dataset as much as possible to help with our analysis, and was refined over various iterations including some discoveries during the scraping stage (see below) which revealed that Rhizome contained artworks on their site that were not yet fully catalogued in the ArtBase. <br><br>\n",
    "As a result the total artists dataset increased from 1,272 entries to 1,299, while the artworks dataset remained constant at 2,270 (Rhizome publicly claims the ArtBase to contain more than 2,200 artworks). \n"
   ]
  },
  {
   "cell_type": "code",
   "execution_count": null,
   "metadata": {},
   "outputs": [],
   "source": [
    "#create a df for artists, pickle \n",
    "rhz_artists= pd.read_csv('./Rhizome_data/csv/artists_complete.csv', dtype='string')\n",
    "#set empty fields w/ missing\n",
    "rhz_artists['artistLabel'] = rhz_artists['artistLabel'].fillna('')\n",
    "rhz_artists['artistPage'] = rhz_artists['artistPage'].fillna('')\n",
    "rhz_artists['Nationality'] = rhz_artists['Nationality'].fillna('')\n",
    "rhz_artists['Nationality Guessed'] = rhz_artists['Nationality Guessed'].fillna('')\n",
    "rhz_artists['Gender'] = rhz_artists['Gender'].fillna('')\n",
    "rhz_artists['Gender Guessed'] = rhz_artists['Gender Guessed'].fillna('')\n",
    "rhz_artists['Birth'] = rhz_artists['Birth'].fillna('0').astype('int')\n",
    "rhz_artists['Death'] = rhz_artists['Death'].fillna('0').astype('int')\n",
    "rhz_artists['Wiki QID'] = rhz_artists['Wiki QID'].fillna('')\n",
    "rhz_artists['ULAN'] = rhz_artists['ULAN'].fillna('')\n",
    "#set collective fields to empty not missing \n",
    "rhz_artists['collectiveLabel'] = rhz_artists['collectiveLabel'].fillna('')\n",
    "rhz_artists['collectivePage'] = rhz_artists['collectivePage'].fillna('')\n",
    "#create and populate ID field to cross reference with artworks \n",
    "rhz_artists['ID'] = range(1, 1+len(rhz_artists))\n",
    "rhz_artists['ID'] = rhz_artists['ID'].astype('string')\n",
    "#drop the notes column \n",
    "rhz_artists = rhz_artists.drop('Notes', axis=1)\n",
    "#rename columns \n",
    "rhz_artists.rename(columns={'artistLabel': 'Artist', 'artistPage': 'Artist URL', 'collectiveLabel': 'Collective', 'collectivePage': 'Collective URL', 'Wiki QID': 'WikiQID', 'Nationality Guessed': 'nationalityGuessed', 'Gender Guessed': 'genderGuessed', 'Wiki QID': 'wikiQID'}, inplace=True)\n",
    "\n",
    "#rhz_artists.to_pickle(path+'Rhizome_data/pickles/rhizome_artists.pkl')\n",
    "\n",
    "#create a second artists DF w/ concataned gender and nationality columns \n",
    "rhz_artists_extra = rhz_artists.copy()\n",
    "rhz_artists_extra['Gender'] = rhz_artists_extra['Gender'].str.cat(rhz_artists_extra['genderGuessed'], join='outer', na_rep='missing')\n",
    "rhz_artists_extra = rhz_artists_extra.drop('genderGuessed', axis=1)\n",
    "rhz_artists_extra.loc[rhz_artists_extra['Gender'] == '', 'Gender'] = 'missing'\n",
    "rhz_artists_extra['Nationality'] = rhz_artists_extra['Nationality'].str.cat(rhz_artists_extra['nationalityGuessed'], join='outer', na_rep='missing')\n",
    "rhz_artists_extra = rhz_artists_extra.drop('nationalityGuessed', axis=1)\n",
    "rhz_artists_extra.loc[rhz_artists_extra['Nationality'] == '', 'Nationality'] = 'missing'\n",
    "\n",
    "#rhz_artists_extra.to_csv(path+'Rhizome_data/pickles/rhizome_artists_extra.csv')\n",
    "#rhz_artists_extra.to_pickle(path+'Rhizome_data/pickles/rhizome_artists_extra.pkl')\n",
    "\n",
    "#create a df for artworks, pickle \n",
    "rhz_artworks= pd.read_csv('./Rhizome_data/csv/artwork_complete.csv', dtype='string')\n",
    "#set empty fields w/ missing or empty strings \n",
    "rhz_artworks['accession'] = rhz_artworks['accession'].fillna('0')\n",
    "rhz_artworks.loc[:,'accession'] = rhz_artworks['accession'].where((rhz_artworks['accession'].str.len() <= 4), rhz_artworks['accession'].str[0:4])\n",
    "rhz_artworks['inception'] = rhz_artworks['inception'].fillna('0')\n",
    "rhz_artworks.loc[:,'inception'] = rhz_artworks['inception'].where((rhz_artworks['inception'].str.len() <= 4), rhz_artworks['inception'].str[0:4])\n",
    "url_columns = ['summary_url', 'summary_url_2', 'description_url', 'description_url_2', 'statement_url']\n",
    "rhz_artworks[url_columns] = rhz_artworks[url_columns].fillna('')\n",
    "#rename columns \n",
    "rhz_artworks.rename(columns={'artwork_label': 'Title', 'artist_label': 'Artist', 'accession': 'dateAcquired', 'inception': 'dateCreated', 'artwork_page': 'URL'}, inplace=True)\n",
    "#auto populate ID based on artist df \n",
    "for index, row in rhz_artworks.iterrows():\n",
    "    ids = list()\n",
    "    artist = getattr(row, 'Artist')\n",
    "    artist = artist.split(', ')\n",
    "    artists = rhz_artists_extra[['Artist', 'ID']]\n",
    "    artists = dict(list(zip(artists.Artist, artists.ID)))\n",
    "    collective_ids = defaultdict(list)\n",
    "    for i, j in zip(rhz_artists_extra.Collective,rhz_artists_extra.ID):\n",
    "        collective_ids[i].append(j)\n",
    "    collective_ids = dict(collective_ids)\n",
    "    del collective_ids['']\n",
    "    for k, v in collective_ids.items():\n",
    "        collective_ids.update({k: ', '.join([n for n in v])})\n",
    "\n",
    "    for person in artist:\n",
    "        if person in artists:\n",
    "            ids.append(str(artists[person]))\n",
    "        elif person in collective_ids:\n",
    "            ids.append(collective_ids[person])\n",
    "        else:\n",
    "            ids.append('missing')\n",
    "    string = ', '.join(ids)\n",
    "\n",
    "    rhz_artworks.at[index, 'ID'] = string\n",
    "\n",
    "#rhz_artworks.to_pickle(path+'Rhizome_data/pickles/rhizome_artworks.pkl')\n",
    "\n",
    "#create a second df for artworks w/ additional artist info for visualisation \n",
    "rhz_artworks_extra = rhz_artworks.copy()\n",
    "rhz_artworks_extra.drop(['summary_url', 'summary_url_2', 'description_url', 'description_url_2', 'statement_url'], inplace=True, axis=1)\n",
    "\n",
    "#add nationality \n",
    "for index, row in rhz_artworks_extra.iterrows():\n",
    "    nationality = list()\n",
    "    artist = getattr(row, 'Artist')\n",
    "    artist = artist.split(', ')\n",
    "    artists = rhz_artists_extra[['Artist', 'Nationality']]\n",
    "    artists = dict(list(zip(artists.Artist, artists.Nationality)))\n",
    "    collectives_nat = defaultdict(list)\n",
    "    for i, j in zip(rhz_artists_extra.Collective,rhz_artists_extra.Nationality):\n",
    "        collectives_nat[i].append(j)\n",
    "    collectives_nat = dict(collectives_nat)\n",
    "    del collectives_nat['']\n",
    "    for k, v in collectives_nat.items():\n",
    "        collectives_nat.update({k: ', '.join([n for n in v])})\n",
    "\n",
    "    for person in artist:\n",
    "        if person in artists:\n",
    "            nationality.append(str(artists[person]))\n",
    "        elif person in collectives_nat:\n",
    "            nationality.append(collectives_nat[person])\n",
    "        else:\n",
    "            nationality.append('missing')\n",
    "    string_nationality = ', '.join(nationality)\n",
    "\n",
    "    rhz_artworks_extra.at[index, 'Nationality'] = string_nationality\n",
    "    \n",
    "#add gender \n",
    "for index, row in rhz_artworks_extra.iterrows():\n",
    "    gender = list()\n",
    "    artist = getattr(row, 'Artist')\n",
    "    artist = artist.split(', ')\n",
    "    artists = rhz_artists_extra[['Artist', 'Gender']]\n",
    "    artists = dict(list(zip(artists.Artist, artists.Gender)))\n",
    "    collectives_gen = defaultdict(list)\n",
    "    for i, j in zip(rhz_artists_extra.Collective,rhz_artists_extra.Gender):\n",
    "        collectives_gen[i].append(j)\n",
    "    collectives_gen = dict(collectives_gen)\n",
    "    del collectives_gen['']\n",
    "    for k, v in collectives_gen.items():\n",
    "        collectives_gen.update({k: ', '.join([n for n in v])})\n",
    "\n",
    "    for person in artist:\n",
    "        if person in artists:\n",
    "            gender.append(str(artists[person]))\n",
    "        elif person in collectives_gen:\n",
    "            gender.append(collectives_gen[person])\n",
    "        else:\n",
    "            gender.append('missing')\n",
    "    string_gender = ', '.join(gender)\n",
    "\n",
    "    rhz_artworks_extra.at[index, 'Gender'] = string_gender\n",
    "\n",
    "#rhz_artworks_extra.to_pickle(path+'Rhizome_data/pickles/rhizome_artworks_extra.pkl')\n",
    "#rhz_artworks_extra.to_csv(path+'Rhizome_data/pickles/rhizome_artworks_extra.csv')"
   ]
  },
  {
   "cell_type": "code",
   "execution_count": 12,
   "metadata": {},
   "outputs": [
    {
     "data": {
      "text/html": [
       "<div>\n",
       "<style scoped>\n",
       "    .dataframe tbody tr th:only-of-type {\n",
       "        vertical-align: middle;\n",
       "    }\n",
       "\n",
       "    .dataframe tbody tr th {\n",
       "        vertical-align: top;\n",
       "    }\n",
       "\n",
       "    .dataframe thead th {\n",
       "        text-align: right;\n",
       "    }\n",
       "</style>\n",
       "<table border=\"1\" class=\"dataframe\">\n",
       "  <thead>\n",
       "    <tr style=\"text-align: right;\">\n",
       "      <th></th>\n",
       "      <th>ID</th>\n",
       "      <th>URL</th>\n",
       "      <th>Title</th>\n",
       "      <th>Artist</th>\n",
       "      <th>dateAcquired</th>\n",
       "      <th>dateCreated</th>\n",
       "      <th>Nationality</th>\n",
       "      <th>Gender</th>\n",
       "    </tr>\n",
       "  </thead>\n",
       "  <tbody>\n",
       "    <tr>\n",
       "      <th>0</th>\n",
       "      <td>879</td>\n",
       "      <td>https://artbase.rhizome.org/wiki/Q2423</td>\n",
       "      <td>ZUR FARBENLEHRE (THEORY OF COLOURS)</td>\n",
       "      <td>Steven Jones</td>\n",
       "      <td>2007</td>\n",
       "      <td>2007</td>\n",
       "      <td>British</td>\n",
       "      <td>M</td>\n",
       "    </tr>\n",
       "    <tr>\n",
       "      <th>1</th>\n",
       "      <td>1020</td>\n",
       "      <td>https://artbase.rhizome.org/wiki/Q4089</td>\n",
       "      <td>Zones de Convergence</td>\n",
       "      <td>cicero</td>\n",
       "      <td>2005</td>\n",
       "      <td>2005</td>\n",
       "      <td>missing</td>\n",
       "      <td>missing</td>\n",
       "    </tr>\n",
       "    <tr>\n",
       "      <th>2</th>\n",
       "      <td>243, 701</td>\n",
       "      <td>https://artbase.rhizome.org/wiki/Q1475</td>\n",
       "      <td>Zombie and Mummy</td>\n",
       "      <td>Dragan Espenschied, Olia Lialina</td>\n",
       "      <td>2004</td>\n",
       "      <td>2002</td>\n",
       "      <td>German, Russian</td>\n",
       "      <td>M, F</td>\n",
       "    </tr>\n",
       "    <tr>\n",
       "      <th>3</th>\n",
       "      <td>312</td>\n",
       "      <td>https://artbase.rhizome.org/wiki/Q4374</td>\n",
       "      <td>Zaira, City of Memories</td>\n",
       "      <td>Gokcen Erguven</td>\n",
       "      <td>2004</td>\n",
       "      <td>2004</td>\n",
       "      <td>Turkish</td>\n",
       "      <td>F</td>\n",
       "    </tr>\n",
       "    <tr>\n",
       "      <th>4</th>\n",
       "      <td>920</td>\n",
       "      <td>https://artbase.rhizome.org/wiki/Q3972</td>\n",
       "      <td>Z_G [zeitgeist gestalten]</td>\n",
       "      <td>Tiago Borges</td>\n",
       "      <td>2008</td>\n",
       "      <td>2007</td>\n",
       "      <td>Angolan</td>\n",
       "      <td>M</td>\n",
       "    </tr>\n",
       "  </tbody>\n",
       "</table>\n",
       "</div>"
      ],
      "text/plain": [
       "         ID                                     URL  \\\n",
       "0       879  https://artbase.rhizome.org/wiki/Q2423   \n",
       "1      1020  https://artbase.rhizome.org/wiki/Q4089   \n",
       "2  243, 701  https://artbase.rhizome.org/wiki/Q1475   \n",
       "3       312  https://artbase.rhizome.org/wiki/Q4374   \n",
       "4       920  https://artbase.rhizome.org/wiki/Q3972   \n",
       "\n",
       "                                 Title                            Artist  \\\n",
       "0  ZUR FARBENLEHRE (THEORY OF COLOURS)                      Steven Jones   \n",
       "1                 Zones de Convergence                            cicero   \n",
       "2                     Zombie and Mummy  Dragan Espenschied, Olia Lialina   \n",
       "3              Zaira, City of Memories                    Gokcen Erguven   \n",
       "4            Z_G [zeitgeist gestalten]                      Tiago Borges   \n",
       "\n",
       "  dateAcquired dateCreated      Nationality   Gender  \n",
       "0         2007        2007          British        M  \n",
       "1         2005        2005          missing  missing  \n",
       "2         2004        2002  German, Russian     M, F  \n",
       "3         2004        2004         Turkish         F  \n",
       "4         2008        2007          Angolan        M  "
      ]
     },
     "execution_count": 12,
     "metadata": {},
     "output_type": "execute_result"
    }
   ],
   "source": [
    "#show result\n",
    "rhz_artworks_extra = pd.read_pickle(path+'Rhizome_data/pickles/rhizome_artworks_extra.pkl')\n",
    "rhz_artworks_extra.head()"
   ]
  },
  {
   "cell_type": "markdown",
   "metadata": {},
   "source": [
    "***"
   ]
  },
  {
   "cell_type": "markdown",
   "metadata": {},
   "source": [
    "## Scraping Text (Laurent)\n",
    "\n",
    "One last data preparation step involved scraping text about artworks from both MoMA and Rhizome's websites. This was suggested early on in our exploration process and as we came to better understand the differences between the available datasets we decided that grabbing the text might prove useful as an additional variable for our analysis. In addition it was decided that by doing this we might be able to create department/medium information for Rhizome somewhat equivalent to MoMA's.<br><br>\n",
    "After some trials with the html construction of the Rhizome artwork pages we decided to grab the `<div>` that includes all three possible descriptions (summary, artist statement, description).  "
   ]
  },
  {
   "cell_type": "code",
   "execution_count": null,
   "metadata": {},
   "outputs": [],
   "source": [
    "#COMMENTED OUT TO AVOID BINDER RUNNING IT - grab URLs from artworks DF, scrape them and return them back to the DF\n",
    "#rhz_artworks_extra = pd.read_pickle(path+'Rhizome_data/pickles/rhizome_artworks_extra.pkl')\n",
    "#urls = rhz_artworks_extra['URL'].to_list()\n",
    "#scrapes = [url_to_text_rhizome(u) for u in urls]\n",
    "#rhz_artworks_extra_text = rhz_artworks_extra.copy()\n",
    "#rhz_artworks_extra_text['Text'] = pd.Series(scrapes)\n",
    "#fix an erroneous ID in original first round of scraping \n",
    "#rhz_artworks_extra_text.loc[777, 'ID'] = '926, 1268'\n",
    "#rhz_artworks_extra_text = rhz_artworks_extra_text.astype(str)\n",
    "#rhz_artworks_extra_text.to_pickle(path+'Rhizome_data/pickles/rhizome_artworks_extra_text.pkl')"
   ]
  },
  {
   "cell_type": "code",
   "execution_count": 14,
   "metadata": {},
   "outputs": [
    {
     "data": {
      "text/html": [
       "<div>\n",
       "<style scoped>\n",
       "    .dataframe tbody tr th:only-of-type {\n",
       "        vertical-align: middle;\n",
       "    }\n",
       "\n",
       "    .dataframe tbody tr th {\n",
       "        vertical-align: top;\n",
       "    }\n",
       "\n",
       "    .dataframe thead th {\n",
       "        text-align: right;\n",
       "    }\n",
       "</style>\n",
       "<table border=\"1\" class=\"dataframe\">\n",
       "  <thead>\n",
       "    <tr style=\"text-align: right;\">\n",
       "      <th></th>\n",
       "      <th>ID</th>\n",
       "      <th>URL</th>\n",
       "      <th>Title</th>\n",
       "      <th>Artist</th>\n",
       "      <th>dateAcquired</th>\n",
       "      <th>dateCreated</th>\n",
       "      <th>Nationality</th>\n",
       "      <th>Gender</th>\n",
       "      <th>Text</th>\n",
       "    </tr>\n",
       "  </thead>\n",
       "  <tbody>\n",
       "    <tr>\n",
       "      <th>0</th>\n",
       "      <td>879</td>\n",
       "      <td>https://artbase.rhizome.org/wiki/Q2423</td>\n",
       "      <td>ZUR FARBENLEHRE (THEORY OF COLOURS)</td>\n",
       "      <td>Steven Jones</td>\n",
       "      <td>2007</td>\n",
       "      <td>2007</td>\n",
       "      <td>British</td>\n",
       "      <td>M</td>\n",
       "      <td>['summary edit\\n\\n\\t\\t\\t\\tA short film.\\n\"When...</td>\n",
       "    </tr>\n",
       "    <tr>\n",
       "      <th>1</th>\n",
       "      <td>1020</td>\n",
       "      <td>https://artbase.rhizome.org/wiki/Q4089</td>\n",
       "      <td>Zones de Convergence</td>\n",
       "      <td>cicero</td>\n",
       "      <td>2005</td>\n",
       "      <td>2005</td>\n",
       "      <td>missing</td>\n",
       "      <td>missing</td>\n",
       "      <td>['description edit\\n\\n\\t\\t\\t\\t‘Zones de Conver...</td>\n",
       "    </tr>\n",
       "    <tr>\n",
       "      <th>2</th>\n",
       "      <td>243, 701</td>\n",
       "      <td>https://artbase.rhizome.org/wiki/Q1475</td>\n",
       "      <td>Zombie and Mummy</td>\n",
       "      <td>Dragan Espenschied, Olia Lialina</td>\n",
       "      <td>2004</td>\n",
       "      <td>2002</td>\n",
       "      <td>German, Russian</td>\n",
       "      <td>M, F</td>\n",
       "      <td>['summary edit\\n\\n Zombie and Mummy is a websi...</td>\n",
       "    </tr>\n",
       "    <tr>\n",
       "      <th>3</th>\n",
       "      <td>312</td>\n",
       "      <td>https://artbase.rhizome.org/wiki/Q4374</td>\n",
       "      <td>Zaira, City of Memories</td>\n",
       "      <td>Gokcen Erguven</td>\n",
       "      <td>2004</td>\n",
       "      <td>2004</td>\n",
       "      <td>Turkish</td>\n",
       "      <td>F</td>\n",
       "      <td>['description edit\\n\\n\\t\\t\\t\\tThe project is b...</td>\n",
       "    </tr>\n",
       "    <tr>\n",
       "      <th>4</th>\n",
       "      <td>920</td>\n",
       "      <td>https://artbase.rhizome.org/wiki/Q3972</td>\n",
       "      <td>Z_G [zeitgeist gestalten]</td>\n",
       "      <td>Tiago Borges</td>\n",
       "      <td>2008</td>\n",
       "      <td>2007</td>\n",
       "      <td>Angolan</td>\n",
       "      <td>M</td>\n",
       "      <td>['description edit\\n\\n\\t\\t\\t\\tfrom looking at ...</td>\n",
       "    </tr>\n",
       "  </tbody>\n",
       "</table>\n",
       "</div>"
      ],
      "text/plain": [
       "         ID                                     URL  \\\n",
       "0       879  https://artbase.rhizome.org/wiki/Q2423   \n",
       "1      1020  https://artbase.rhizome.org/wiki/Q4089   \n",
       "2  243, 701  https://artbase.rhizome.org/wiki/Q1475   \n",
       "3       312  https://artbase.rhizome.org/wiki/Q4374   \n",
       "4       920  https://artbase.rhizome.org/wiki/Q3972   \n",
       "\n",
       "                                 Title                            Artist  \\\n",
       "0  ZUR FARBENLEHRE (THEORY OF COLOURS)                      Steven Jones   \n",
       "1                 Zones de Convergence                            cicero   \n",
       "2                     Zombie and Mummy  Dragan Espenschied, Olia Lialina   \n",
       "3              Zaira, City of Memories                    Gokcen Erguven   \n",
       "4            Z_G [zeitgeist gestalten]                      Tiago Borges   \n",
       "\n",
       "  dateAcquired dateCreated      Nationality   Gender  \\\n",
       "0         2007        2007          British        M   \n",
       "1         2005        2005          missing  missing   \n",
       "2         2004        2002  German, Russian     M, F   \n",
       "3         2004        2004         Turkish         F   \n",
       "4         2008        2007          Angolan        M   \n",
       "\n",
       "                                                Text  \n",
       "0  ['summary edit\\n\\n\\t\\t\\t\\tA short film.\\n\"When...  \n",
       "1  ['description edit\\n\\n\\t\\t\\t\\t‘Zones de Conver...  \n",
       "2  ['summary edit\\n\\n Zombie and Mummy is a websi...  \n",
       "3  ['description edit\\n\\n\\t\\t\\t\\tThe project is b...  \n",
       "4  ['description edit\\n\\n\\t\\t\\t\\tfrom looking at ...  "
      ]
     },
     "execution_count": 14,
     "metadata": {},
     "output_type": "execute_result"
    }
   ],
   "source": [
    "#show result\n",
    "rhz_artworks_extra_text = pd.read_pickle(path+'Rhizome_data/pickles/rhizome_artworks_extra_text.pkl')\n",
    "rhz_artworks_extra_text.head()"
   ]
  },
  {
   "cell_type": "markdown",
   "metadata": {},
   "source": [
    "For MOMA URLs there was only one possible description on the page but the containing `<div>` is repeated elsewhere so we used its parent container to only extract what we needed. Considering the size of the MoMA dataset we used the department splits created earlier to go through it in chunks. We show the process for one dept only, but this was repeated for all of them."
   ]
  },
  {
   "cell_type": "code",
   "execution_count": null,
   "metadata": {},
   "outputs": [],
   "source": [
    "#load department DFs\n",
    "moma_arch_cont = pd.read_pickle(path+'MOMA_data/pickle/departments/architecture_design_cont.pkl')\n",
    "moma_arch_mod = pd.read_pickle(path+'MOMA_data/pickle/departments/architecture_design_mod.pkl')\n",
    "moma_design_cont = pd.read_pickle(path+'MOMA_data/pickle/departments/architecture_design_img_cont.pkl')\n",
    "moma_design_mod = pd.read_pickle(path+'MOMA_data/pickle/departments/architecture_design_img_mod.pkl')\n",
    "moma_draw_cont = pd.read_pickle(path+'MOMA_data/pickle/departments/draws_prints_cont.pkl')\n",
    "moma_draw_mod = pd.read_pickle(path+'MOMA_data/pickle/departments/draws_prints_mod.pkl')\n",
    "moma_films_cont = pd.read_pickle(path+'MOMA_data/pickle/departments/films_cont.pkl')\n",
    "moma_films_mod = pd.read_pickle(path+'MOMA_data/pickle/departments/films_mod.pkl')\n",
    "moma_fluxus_cont = pd.read_pickle(path+'MOMA_data/pickle/departments/fluxus_cont.pkl')\n",
    "moma_fluxus_mod = pd.read_pickle(path+'MOMA_data/pickle/departments/fluxus_mod.pkl')\n",
    "moma_media_cont = pd.read_pickle(path+'MOMA_data/pickle/departments/media_perf_cont.pkl')\n",
    "moma_media_mod = pd.read_pickle(path+'MOMA_data/pickle/departments/media_perf_mod.pkl')\n",
    "moma_paint_cont = pd.read_pickle(path+'MOMA_data/pickle/departments/paint_sculp_cont.pkl')\n",
    "moma_paint_mod = pd.read_pickle(path+'MOMA_data/pickle/departments/paint_sculp_mod.pkl')\n",
    "moma_photo_cont = pd.read_pickle(path+'MOMA_data/pickle/departments/photo_cont.pkl')\n",
    "moma_photo_mod = pd.read_pickle(path+'MOMA_data/pickle/departments/photo_mod.pkl')\n",
    "\n",
    "#COMMENTED OUT TO AVOID BINDER RUNNING IT - grab all links from a dept as a list \n",
    "#links = moma_photo_mod['URL'].to_list()\n",
    "#process links w/ function \n",
    "#moma_photo_to_add = [url_to_text_moma(u) for u in links]\n",
    "#add results back to a copy of the original DF\n",
    "#moma_photo_mod_text = moma_photo_mod.copy()\n",
    "#moma_photo_mod_text['Text'] = moma_photo_to_add\n",
    "#moma_photo_mod_text['Text'] = moma_photo_mod_text['Text'].astype(str)\n",
    "#moma_photo_mod_text.to_pickle(path+'MOMA_data/pickle/departments/photo_mod_text.pkl')\n"
   ]
  },
  {
   "cell_type": "code",
   "execution_count": 16,
   "metadata": {},
   "outputs": [
    {
     "data": {
      "text/html": [
       "<div>\n",
       "<style scoped>\n",
       "    .dataframe tbody tr th:only-of-type {\n",
       "        vertical-align: middle;\n",
       "    }\n",
       "\n",
       "    .dataframe tbody tr th {\n",
       "        vertical-align: top;\n",
       "    }\n",
       "\n",
       "    .dataframe thead th {\n",
       "        text-align: right;\n",
       "    }\n",
       "</style>\n",
       "<table border=\"1\" class=\"dataframe\">\n",
       "  <thead>\n",
       "    <tr style=\"text-align: right;\">\n",
       "      <th></th>\n",
       "      <th>Title</th>\n",
       "      <th>Artist</th>\n",
       "      <th>ID</th>\n",
       "      <th>DateCreated</th>\n",
       "      <th>Medium</th>\n",
       "      <th>Department</th>\n",
       "      <th>DateAcquired</th>\n",
       "      <th>URL</th>\n",
       "      <th>ThumbnailURL</th>\n",
       "      <th>Nationality</th>\n",
       "      <th>Gender</th>\n",
       "      <th>Text</th>\n",
       "    </tr>\n",
       "  </thead>\n",
       "  <tbody>\n",
       "    <tr>\n",
       "      <th>1</th>\n",
       "      <td>City of Music, National Superior Conservatory ...</td>\n",
       "      <td>Christian de Portzamparc</td>\n",
       "      <td>7470</td>\n",
       "      <td>1987</td>\n",
       "      <td>Paint and colored pencil on print</td>\n",
       "      <td>Architecture &amp; Design</td>\n",
       "      <td>1995</td>\n",
       "      <td>http://www.moma.org/collection/works/3</td>\n",
       "      <td>http://www.moma.org/media/W1siZiIsIjk3Il0sWyJw...</td>\n",
       "      <td>French</td>\n",
       "      <td>M</td>\n",
       "      <td>missing</td>\n",
       "    </tr>\n",
       "    <tr>\n",
       "      <th>3</th>\n",
       "      <td>The Manhattan Transcripts Project, New York, N...</td>\n",
       "      <td>Bernard Tschumi</td>\n",
       "      <td>7056</td>\n",
       "      <td>1980</td>\n",
       "      <td>Photographic reproduction with colored synthet...</td>\n",
       "      <td>Architecture &amp; Design</td>\n",
       "      <td>1995</td>\n",
       "      <td>http://www.moma.org/collection/works/5</td>\n",
       "      <td>http://www.moma.org/media/W1siZiIsIjEyNCJdLFsi...</td>\n",
       "      <td>missing</td>\n",
       "      <td>M</td>\n",
       "      <td>The Manhattan Transcripts are theoretical prop...</td>\n",
       "    </tr>\n",
       "    <tr>\n",
       "      <th>31</th>\n",
       "      <td>The Manhattan Transcripts Project, New York, N...</td>\n",
       "      <td>Bernard Tschumi</td>\n",
       "      <td>7056</td>\n",
       "      <td>1980</td>\n",
       "      <td>Photographic reproduction with colored synthet...</td>\n",
       "      <td>Architecture &amp; Design</td>\n",
       "      <td>1995</td>\n",
       "      <td>http://www.moma.org/collection/works/33</td>\n",
       "      <td>http://www.moma.org/media/W1siZiIsIjIwMCJdLFsi...</td>\n",
       "      <td>missing</td>\n",
       "      <td>M</td>\n",
       "      <td>The Manhattan Transcripts are theoretical prop...</td>\n",
       "    </tr>\n",
       "    <tr>\n",
       "      <th>35</th>\n",
       "      <td>The Manhattan Transcripts Project, New York, N...</td>\n",
       "      <td>Bernard Tschumi</td>\n",
       "      <td>7056</td>\n",
       "      <td>1980</td>\n",
       "      <td>Photographic reproduction with colored synthet...</td>\n",
       "      <td>Architecture &amp; Design</td>\n",
       "      <td>1995</td>\n",
       "      <td>http://www.moma.org/collection/works/38</td>\n",
       "      <td>http://www.moma.org/media/W1siZiIsIjI2NyJdLFsi...</td>\n",
       "      <td>missing</td>\n",
       "      <td>M</td>\n",
       "      <td>The Manhattan Transcripts are theoretical prop...</td>\n",
       "    </tr>\n",
       "    <tr>\n",
       "      <th>40</th>\n",
       "      <td>The Manhattan Transcripts Project, New York, N...</td>\n",
       "      <td>Bernard Tschumi</td>\n",
       "      <td>7056</td>\n",
       "      <td>1980</td>\n",
       "      <td>Ink on tracing paper</td>\n",
       "      <td>Architecture &amp; Design</td>\n",
       "      <td>1995</td>\n",
       "      <td>http://www.moma.org/collection/works/44</td>\n",
       "      <td>http://www.moma.org/media/W1siZiIsIjI5NiJdLFsi...</td>\n",
       "      <td>missing</td>\n",
       "      <td>M</td>\n",
       "      <td>The Manhattan Transcripts are theoretical prop...</td>\n",
       "    </tr>\n",
       "  </tbody>\n",
       "</table>\n",
       "</div>"
      ],
      "text/plain": [
       "                                                Title  \\\n",
       "1   City of Music, National Superior Conservatory ...   \n",
       "3   The Manhattan Transcripts Project, New York, N...   \n",
       "31  The Manhattan Transcripts Project, New York, N...   \n",
       "35  The Manhattan Transcripts Project, New York, N...   \n",
       "40  The Manhattan Transcripts Project, New York, N...   \n",
       "\n",
       "                      Artist    ID  DateCreated  \\\n",
       "1   Christian de Portzamparc  7470         1987   \n",
       "3            Bernard Tschumi  7056         1980   \n",
       "31           Bernard Tschumi  7056         1980   \n",
       "35           Bernard Tschumi  7056         1980   \n",
       "40           Bernard Tschumi  7056         1980   \n",
       "\n",
       "                                               Medium             Department  \\\n",
       "1                   Paint and colored pencil on print  Architecture & Design   \n",
       "3   Photographic reproduction with colored synthet...  Architecture & Design   \n",
       "31  Photographic reproduction with colored synthet...  Architecture & Design   \n",
       "35  Photographic reproduction with colored synthet...  Architecture & Design   \n",
       "40                               Ink on tracing paper  Architecture & Design   \n",
       "\n",
       "   DateAcquired                                      URL  \\\n",
       "1          1995   http://www.moma.org/collection/works/3   \n",
       "3          1995   http://www.moma.org/collection/works/5   \n",
       "31         1995  http://www.moma.org/collection/works/33   \n",
       "35         1995  http://www.moma.org/collection/works/38   \n",
       "40         1995  http://www.moma.org/collection/works/44   \n",
       "\n",
       "                                         ThumbnailURL Nationality Gender  \\\n",
       "1   http://www.moma.org/media/W1siZiIsIjk3Il0sWyJw...      French      M   \n",
       "3   http://www.moma.org/media/W1siZiIsIjEyNCJdLFsi...     missing      M   \n",
       "31  http://www.moma.org/media/W1siZiIsIjIwMCJdLFsi...     missing      M   \n",
       "35  http://www.moma.org/media/W1siZiIsIjI2NyJdLFsi...     missing      M   \n",
       "40  http://www.moma.org/media/W1siZiIsIjI5NiJdLFsi...     missing      M   \n",
       "\n",
       "                                                 Text  \n",
       "1                                             missing  \n",
       "3   The Manhattan Transcripts are theoretical prop...  \n",
       "31  The Manhattan Transcripts are theoretical prop...  \n",
       "35  The Manhattan Transcripts are theoretical prop...  \n",
       "40  The Manhattan Transcripts are theoretical prop...  "
      ]
     },
     "execution_count": 16,
     "metadata": {},
     "output_type": "execute_result"
    }
   ],
   "source": [
    "#show results\n",
    "moma_arch_cont_text = pd.read_pickle(path+'MOMA_data/pickle/departments/architecture_design_cont_text.pkl')\n",
    "moma_arch_cont_text.head()"
   ]
  },
  {
   "cell_type": "markdown",
   "metadata": {},
   "source": [
    "### Cleaning & Keywords\n",
    "\n",
    "Scraping rhizome resulted in text that heavy with encoding noise. We cleaned it as best we could without damaging the underlying text and then analyzed the text for the most common words usng NLTK's stopwords and our own custom list based on analysis on the scraped results and some early tests. We then extracted 20 keywords from each text and assigned those to their own column. "
   ]
  },
  {
   "cell_type": "code",
   "execution_count": null,
   "metadata": {},
   "outputs": [],
   "source": [
    "#load the DF w/ scraped text\n",
    "rhz_artworks_extra_text = pd.read_pickle(path+'Rhizome_data/pickles/rhizome_artworks_extra_text.pkl')\n",
    "rhz_artworks_extra_text = rhz_artworks_extra_text.astype('string')\n",
    "\n",
    "#remove all punctuation\n",
    "rhz_artworks_extra_text['Text'] = rhz_artworks_extra_text['Text'].replace(regex=r'[^\\w\\s]', value='')\n",
    "\n",
    "#create a list of strings to remove from all scrapes\n",
    "remove = ['description editnntttt', '[', ']', 'nnn', 'description edit', 'editnn', 'summary edit', 'tttt', 'nn']\n",
    "for char in remove:\n",
    "    rhz_artworks_extra_text['Text'] = rhz_artworks_extra_text['Text'].str.replace(char, '')\n",
    "\n",
    "#export cleaned version to pickle\n",
    "rhz_artworks_extra_text_clean = rhz_artworks_extra_text.copy()\n",
    "rhz_artworks_extra_text_clean.to_pickle(path+'Rhizome_data/pickles/rhizome_artworks_extra_text_clean.pkl')\n",
    "\n",
    "# create a list of stop words and add custom stopwords\n",
    "stop_words = set(stopwords.words(\"english\"))\n",
    "new_words =  ['rhizome', 'attributed', 'summary', 'inception', 'staff', 'attribution', 'summary', 'legacy', 'nattributed']\n",
    "stop_words = stop_words.union(new_words)\n",
    "\n",
    "#remove stopwords from cleanedtext \n",
    "rhz_artworks_extra_text_clean['Text'] = rhz_artworks_extra_text_clean['Text'].str.lower()\n",
    "rhz_artworks_extra_text_clean['Text'] = rhz_artworks_extra_text_clean['Text'].apply(lambda x: ' '.join([item for item in x.split() if item not in stop_words]))\n",
    "#remove errand string\n",
    "rhz_artworks_extra_text_clean['Text'] = rhz_artworks_extra_text_clean['Text'].replace(regex={r'.attributed.': '', r'.legacy descriptive tags.': '', r'.attribution: staff.': '', r'.attribution.': '', r'.inception.': '', r'http[a-z]*\\s': ' '})\n",
    "\n",
    "#extract kws and assign them to new column\n",
    "rhz_artworks_extra_text_clean['Keywords'] = rhz_artworks_extra_text_clean.apply(lambda row:get_keywords(row), axis=1) \n",
    "\n",
    "#export new pickle for reuse\n",
    "rhz_artworks_extra_text_clean.to_pickle(path+'Rhizome_data/rhizome_artworks_extra_text_clean_stop_keywords.pkl')\n"
   ]
  },
  {
   "cell_type": "code",
   "execution_count": 18,
   "metadata": {},
   "outputs": [
    {
     "data": {
      "text/html": [
       "<div>\n",
       "<style scoped>\n",
       "    .dataframe tbody tr th:only-of-type {\n",
       "        vertical-align: middle;\n",
       "    }\n",
       "\n",
       "    .dataframe tbody tr th {\n",
       "        vertical-align: top;\n",
       "    }\n",
       "\n",
       "    .dataframe thead th {\n",
       "        text-align: right;\n",
       "    }\n",
       "</style>\n",
       "<table border=\"1\" class=\"dataframe\">\n",
       "  <thead>\n",
       "    <tr style=\"text-align: right;\">\n",
       "      <th></th>\n",
       "      <th>ID</th>\n",
       "      <th>URL</th>\n",
       "      <th>Title</th>\n",
       "      <th>Artist</th>\n",
       "      <th>dateAcquired</th>\n",
       "      <th>dateCreated</th>\n",
       "      <th>Nationality</th>\n",
       "      <th>Gender</th>\n",
       "      <th>Text</th>\n",
       "      <th>Keywords</th>\n",
       "    </tr>\n",
       "  </thead>\n",
       "  <tbody>\n",
       "    <tr>\n",
       "      <th>0</th>\n",
       "      <td>879</td>\n",
       "      <td>https://artbase.rhizome.org/wiki/Q2423</td>\n",
       "      <td>ZUR FARBENLEHRE (THEORY OF COLOURS)</td>\n",
       "      <td>Steven Jones</td>\n",
       "      <td>2007</td>\n",
       "      <td>2007</td>\n",
       "      <td>British</td>\n",
       "      <td>M</td>\n",
       "      <td>short filmnwhen eye sees colour immediately ex...</td>\n",
       "      <td>colour, march, eye, sees, immediately, excited...</td>\n",
       "    </tr>\n",
       "    <tr>\n",
       "      <th>1</th>\n",
       "      <td>1020</td>\n",
       "      <td>https://artbase.rhizome.org/wiki/Q4089</td>\n",
       "      <td>Zones de Convergence</td>\n",
       "      <td>cicero</td>\n",
       "      <td>2005</td>\n",
       "      <td>2005</td>\n",
       "      <td>missing</td>\n",
       "      <td>missing</td>\n",
       "      <td>zones de convergence treats days summit g8 evi...</td>\n",
       "      <td>summit, art, august, zones, de, convergence, t...</td>\n",
       "    </tr>\n",
       "    <tr>\n",
       "      <th>2</th>\n",
       "      <td>243, 701</td>\n",
       "      <td>https://artbase.rhizome.org/wiki/Q1475</td>\n",
       "      <td>Zombie and Mummy</td>\n",
       "      <td>Dragan Espenschied, Olia Lialina</td>\n",
       "      <td>2004</td>\n",
       "      <td>2002</td>\n",
       "      <td>German, Russian</td>\n",
       "      <td>M, F</td>\n",
       "      <td>zombie mummy website hosted episodic online co...</td>\n",
       "      <td>zombie, site, olia, espenschied, mummy, advent...</td>\n",
       "    </tr>\n",
       "    <tr>\n",
       "      <th>3</th>\n",
       "      <td>312</td>\n",
       "      <td>https://artbase.rhizome.org/wiki/Q4374</td>\n",
       "      <td>Zaira, City of Memories</td>\n",
       "      <td>Gokcen Erguven</td>\n",
       "      <td>2004</td>\n",
       "      <td>2004</td>\n",
       "      <td>Turkish</td>\n",
       "      <td>F</td>\n",
       "      <td>project based solely italo calvinos novel call...</td>\n",
       "      <td>cities, content, city, zaira, project, based, ...</td>\n",
       "    </tr>\n",
       "    <tr>\n",
       "      <th>4</th>\n",
       "      <td>920</td>\n",
       "      <td>https://artbase.rhizome.org/wiki/Q3972</td>\n",
       "      <td>Z_G [zeitgeist gestalten]</td>\n",
       "      <td>Tiago Borges</td>\n",
       "      <td>2008</td>\n",
       "      <td>2007</td>\n",
       "      <td>Angolan</td>\n",
       "      <td>M</td>\n",
       "      <td>looking den zeitgeist gestalten design spirit ...</td>\n",
       "      <td>experience, web, page, den, zeitgeist, gestalt...</td>\n",
       "    </tr>\n",
       "  </tbody>\n",
       "</table>\n",
       "</div>"
      ],
      "text/plain": [
       "         ID                                     URL  \\\n",
       "0       879  https://artbase.rhizome.org/wiki/Q2423   \n",
       "1      1020  https://artbase.rhizome.org/wiki/Q4089   \n",
       "2  243, 701  https://artbase.rhizome.org/wiki/Q1475   \n",
       "3       312  https://artbase.rhizome.org/wiki/Q4374   \n",
       "4       920  https://artbase.rhizome.org/wiki/Q3972   \n",
       "\n",
       "                                 Title                            Artist  \\\n",
       "0  ZUR FARBENLEHRE (THEORY OF COLOURS)                      Steven Jones   \n",
       "1                 Zones de Convergence                            cicero   \n",
       "2                     Zombie and Mummy  Dragan Espenschied, Olia Lialina   \n",
       "3              Zaira, City of Memories                    Gokcen Erguven   \n",
       "4            Z_G [zeitgeist gestalten]                      Tiago Borges   \n",
       "\n",
       "  dateAcquired dateCreated      Nationality   Gender  \\\n",
       "0         2007        2007          British        M   \n",
       "1         2005        2005          missing  missing   \n",
       "2         2004        2002  German, Russian     M, F   \n",
       "3         2004        2004         Turkish         F   \n",
       "4         2008        2007          Angolan        M   \n",
       "\n",
       "                                                Text  \\\n",
       "0  short filmnwhen eye sees colour immediately ex...   \n",
       "1  zones de convergence treats days summit g8 evi...   \n",
       "2  zombie mummy website hosted episodic online co...   \n",
       "3  project based solely italo calvinos novel call...   \n",
       "4  looking den zeitgeist gestalten design spirit ...   \n",
       "\n",
       "                                            Keywords  \n",
       "0  colour, march, eye, sees, immediately, excited...  \n",
       "1  summit, art, august, zones, de, convergence, t...  \n",
       "2  zombie, site, olia, espenschied, mummy, advent...  \n",
       "3  cities, content, city, zaira, project, based, ...  \n",
       "4  experience, web, page, den, zeitgeist, gestalt...  "
      ]
     },
     "execution_count": 18,
     "metadata": {},
     "output_type": "execute_result"
    }
   ],
   "source": [
    "#show results\n",
    "rhz_artworks_extra_text_clean = pd.read_pickle(path+'Rhizome_data/pickles/rhizome_artworks_extra_text_clean_stop_keywords.pkl')\n",
    "rhz_artworks_extra_text_clean.head()"
   ]
  },
  {
   "cell_type": "markdown",
   "metadata": {},
   "source": [
    "For MoMA the scrapes were cleaner of encoding noise so we simply ran everything through the same stopwords (and a different set of custom stopwords) and then removed empty entries. Out of over 138K artworks in MoMA's dataset we found text for 2,880 items.<br><br>\n",
    "**NB**: while scraping one of the larger departments we made an error that resulted in the dataframe including only the extracted text (with the other original information dropped). Rather than rescrape everything we kept this DF but subjected it to slightly different processing as seen below."
   ]
  },
  {
   "cell_type": "code",
   "execution_count": null,
   "metadata": {},
   "outputs": [],
   "source": [
    "#load DFs with text\n",
    "moma_arch_cont_text = pd.read_pickle(path+'MOMA_data/pickle/departments/architecture_design_cont_text.pkl')\n",
    "moma_arch_mod_text = pd.read_pickle(path+'MOMA_data/pickle/departments/architecture_design_mod_text_only.pkl')\n",
    "moma_draw_cont_text = pd.read_pickle(path+'MOMA_data/pickle/departments/draws_prints_cont_text.pkl')\n",
    "moma_draw_mod_text = pd.read_pickle(path+'MOMA_data/pickle/departments/draws_prints_mod_text.pkl')\n",
    "moma_films_cont_text = pd.read_pickle(path+'MOMA_data/pickle/departments/films_cont_text.pkl')\n",
    "moma_films_mod_text = pd.read_pickle(path+'MOMA_data/pickle/departments/films_mod_text.pkl')\n",
    "moma_media_cont_text = pd.read_pickle(path+'MOMA_data/pickle/departments/media_perf_cont_text.pkl')\n",
    "moma_media_mod_text = pd.read_pickle(path+'MOMA_data/pickle/departments/media_perf_mod_text.pkl')\n",
    "moma_paint_cont_text = pd.read_pickle(path+'MOMA_data/pickle/departments/paint_sculp_cont_text.pkl')\n",
    "moma_paint_mod_text = pd.read_pickle(path+'MOMA_data/pickle/departments/paint_sculp_mod_text.pkl')\n",
    "moma_photo_cont_text = pd.read_pickle(path+'MOMA_data/pickle/departments/photo_cont_text.pkl')\n",
    "moma_photo_mod_text = pd.read_pickle(path+'MOMA_data/pickle/departments/photo_mod_text.pkl')\n",
    "\n",
    "#DFs to list then clean them \n",
    "moma_texts = [moma_arch_cont_text, moma_draw_cont_text, moma_draw_mod_text, moma_films_cont_text, moma_films_mod_text, moma_media_cont_text, moma_media_mod_text, moma_paint_cont_text, moma_paint_mod_text, moma_photo_cont_text, moma_photo_mod_text]\n",
    "\n",
    "remove = ['[', ']', '</p>', '<p>', '<strong>', '</strong>', '<em>', '</em>', '</br>']\n",
    "for text in moma_texts:\n",
    "    for char in remove:\n",
    "        text['Text'] = text['Text'].str.replace(char, '')\n",
    "\n",
    "#exception for DF that was formatted differently due to scraping error (it has one column only w/ scraped text)\n",
    "for char in remove:\n",
    "    moma_arch_mod_text['text'] = moma_arch_mod_text['text'].str.replace(char, '')\n",
    "\n",
    "#replace empty strings w/ missing value to filter useful results only\n",
    "moma_arch_cont_text['Text'] = moma_arch_cont_text['Text'].replace([''], 'missing')\n",
    "moma_arch_mod_text['text'] = moma_arch_mod_text['text'].replace([''], 'missing')\n",
    "moma_draw_cont_text['Text'] = moma_draw_cont_text['Text'].replace([''], 'missing')\n",
    "moma_draw_mod_text['Text'] = moma_draw_mod_text['Text'].replace([''], 'missing')\n",
    "moma_films_cont_text['Text'] = moma_films_cont_text['Text'].replace([''], 'missing')\n",
    "moma_films_mod_text['Text'] = moma_films_mod_text['Text'].replace([''], 'missing')\n",
    "moma_media_cont_text['Text'] = moma_media_cont_text['Text'].replace([''], 'missing')\n",
    "moma_media_mod_text['Text'] = moma_media_mod_text['Text'].replace([''], 'missing')\n",
    "moma_paint_cont_text['Text'] = moma_paint_cont_text['Text'].replace([''], 'missing')\n",
    "moma_paint_mod_text['Text'] = moma_paint_mod_text['Text'].replace([''], 'missing')\n",
    "moma_photo_cont_text['Text'] = moma_photo_cont_text['Text'].replace([''], 'missing')\n",
    "moma_photo_mod_text['Text'] = moma_photo_mod_text['Text'].replace([''], 'missing')\n",
    "\n",
    "#save cleaned DFs back \n",
    "moma_arch_cont_text.to_pickle(path+'MOMA_data/pickle/departments/architecture_design_cont_text.pkl')\n",
    "moma_arch_mod_text.to_pickle(path+'MOMA_data/pickle/departments/architecture_design_mod_text_only.pkl')\n",
    "moma_draw_cont_text.to_pickle(path+'MOMA_data/pickle/departments/draws_prints_cont_text.pkl')\n",
    "moma_draw_mod_text.to_pickle(path+'MOMA_data/pickle/departments/draws_prints_mod_text.pkl')\n",
    "moma_films_cont_text.to_pickle(path+'MOMA_data/pickle/departments/films_cont_text.pkl')\n",
    "moma_films_mod_text.to_pickle(path+'MOMA_data/pickle/departments/films_mod_text.pkl')\n",
    "moma_media_cont_text.to_pickle(path+'MOMA_data/pickle/departments/media_perf_cont_text.pkl')\n",
    "moma_media_mod_text.to_pickle(path+'MOMA_data/pickle/departments/media_perf_mod_text.pkl')\n",
    "moma_paint_cont_text.to_pickle(path+'MOMA_data/pickle/departments/paint_sculp_cont_text.pkl')\n",
    "moma_paint_mod_text.to_pickle(path+'MOMA_data/pickle/departments/paint_sculp_mod_text.pkl')\n",
    "moma_photo_cont_text.to_pickle(path+'MOMA_data/pickle/departments/photo_cont_text.pkl')\n",
    "moma_photo_mod_text.to_pickle(path+'MOMA_data/pickle/departments/photo_mod_text.pkl')\n",
    "\n",
    "#reduce DFs down to entries w/ only useful text and remove duplicates \n",
    "moma_arch_cont_text_final = moma_arch_cont_text.loc[moma_arch_cont_text['Text'] != 'missing']\n",
    "moma_arch_cont_text_final = moma_arch_cont_text_final.drop_duplicates(subset=['Text'])\n",
    "moma_arch_mod_text_final = moma_arch_mod_text.loc[moma_arch_mod_text['text'] != 'missing']\n",
    "moma_arch_mod_text_final = moma_arch_mod_text_final.drop_duplicates(subset=['text'])\n",
    "moma_draw_cont_text_final = moma_draw_cont_text.loc[moma_draw_cont_text['Text'] != 'missing']\n",
    "moma_draw_cont_text_final = moma_draw_cont_text_final.drop_duplicates(subset=['Text'])\n",
    "moma_draw_mod_text_final = moma_draw_mod_text.loc[moma_draw_mod_text['Text'] != 'missing']\n",
    "moma_draw_mod_text_final = moma_draw_mod_text_final.drop_duplicates(subset=['Text'])\n",
    "moma_films_cont_text_final = moma_films_cont_text.loc[moma_films_cont_text['Text'] != 'missing']\n",
    "moma_films_cont_text_final = moma_films_cont_text_final.drop_duplicates(subset=['Text'])\n",
    "moma_films_mod_text_final = moma_films_mod_text.loc[moma_films_mod_text['Text'] != 'missing']\n",
    "moma_films_mod_text_final = moma_films_mod_text_final.drop_duplicates(subset=['Text'])\n",
    "moma_media_cont_text_final = moma_media_cont_text.loc[moma_media_cont_text['Text'] != 'missing']\n",
    "moma_media_cont_text_final = moma_media_cont_text_final.drop_duplicates(subset=['Text'])\n",
    "moma_media_mod_text_final = moma_media_mod_text.loc[moma_media_mod_text['Text'] != 'missing']\n",
    "moma_media_mod_text_final = moma_media_mod_text_final.drop_duplicates(subset=['Text'])\n",
    "moma_paint_cont_text_final = moma_paint_cont_text.loc[moma_paint_cont_text['Text'] != 'missing']\n",
    "moma_paint_cont_text_final = moma_paint_cont_text_final.drop_duplicates(subset=['Text'])\n",
    "moma_paint_mod_text_final = moma_paint_mod_text.loc[moma_paint_mod_text['Text'] != 'missing']\n",
    "moma_paint_mod_text_final = moma_paint_mod_text_final.drop_duplicates(subset=['Text'])\n",
    "moma_photo_cont_text_final = moma_photo_cont_text.loc[moma_photo_cont_text['Text'] != 'missing']\n",
    "moma_photo_cont_text_final = moma_photo_cont_text_final.drop_duplicates(subset=['Text'])\n",
    "moma_photo_mod_text_final = moma_photo_mod_text.loc[moma_photo_mod_text['Text'] != 'missing']\n",
    "moma_photo_mod_text_final = moma_photo_mod_text_final.drop_duplicates(subset=['Text'])\n",
    "\n",
    "#save DFs\n",
    "moma_arch_cont_text_final.to_pickle(path+'MOMA_data/pickle/departments/architecture_design_cont_text_final.pkl')\n",
    "moma_arch_mod_text_final.to_pickle(path+'MOMA_data/pickle/departments/architecture_design_mod_text_only_final.pkl')\n",
    "moma_draw_cont_text_final.to_pickle(path+'MOMA_data/pickle/departments/draws_prints_cont_text_final.pkl')\n",
    "moma_draw_mod_text_final.to_pickle(path+'MOMA_data/pickle/departments/draws_prints_mod_text_final.pkl')\n",
    "moma_films_cont_text_final.to_pickle(path+'MOMA_data/pickle/departments/films_cont_text_final.pkl')\n",
    "moma_films_mod_text_final.to_pickle(path+'MOMA_data/pickle/departments/films_mod_text_final.pkl')\n",
    "moma_media_cont_text_final.to_pickle(path+'MOMA_data/pickle/departments/media_perf_cont_text_final.pkl')\n",
    "moma_media_mod_text_final.to_pickle(path+'MOMA_data/pickle/departments/media_perf_mod_text_final.pkl')\n",
    "moma_paint_cont_text_final.to_pickle(path+'MOMA_data/pickle/departments/paint_sculp_cont_text_final.pkl')\n",
    "moma_paint_mod_text_final.to_pickle(path+'MOMA_data/pickle/departments/paint_sculp_mod_text_final.pkl')\n",
    "moma_photo_cont_text_final.to_pickle(path+'MOMA_data/pickle/departments/photo_cont_text_final.pkl')\n",
    "moma_photo_mod_text_final.to_pickle(path+'MOMA_data/pickle/departments/photo_mod_text_final.pkl')\n",
    "\n",
    "#load stopwords and remove them\n",
    "stop_words = set(stopwords.words(\"english\"))\n",
    "new_words =  ['.', 'one', 'two', 'also']\n",
    "stop_words = stop_words.union(new_words)\n",
    "\n",
    "moma_texts_final = [moma_arch_cont_text_final, moma_draw_cont_text_final, moma_draw_mod_text_final, moma_films_cont_text_final, moma_films_mod_text_final, moma_media_cont_text_final, moma_media_mod_text_final, moma_paint_cont_text_final, moma_paint_mod_text_final, moma_photo_cont_text_final, moma_photo_mod_text_final]\n",
    "\n",
    "for text in moma_texts_final:\n",
    "    text['Text'] = text['Text'].str.lower()\n",
    "    text['Text'] = text['Text'].apply(lambda x: ' '.join([item for item in x.split() if item not in stop_words]))\n",
    "\n",
    "#exception \n",
    "moma_arch_mod_text_final['text'] = moma_arch_mod_text_final['text'].str.lower()\n",
    "moma_arch_mod_text_final['text'] = moma_arch_mod_text_final['text'].apply(lambda x: ' '.join([item for item in x.split() if item not in stop_words]))\n",
    "\n",
    "#get keywords\n",
    "moma_arch_cont_text_final['Keywords'] = moma_arch_cont_text_final.apply(lambda row:get_keywords(row), axis=1)\n",
    "moma_draw_cont_text_final['Keywords'] = moma_draw_cont_text_final.apply(lambda row:get_keywords(row), axis=1) \n",
    "moma_draw_mod_text_final['Keywords'] = moma_draw_mod_text_final.apply(lambda row:get_keywords(row), axis=1) \n",
    "moma_films_cont_text_final['Keywords'] = moma_films_cont_text_final.apply(lambda row:get_keywords(row), axis=1)\n",
    "moma_films_mod_text_final['Keywords'] = moma_films_mod_text_final.apply(lambda row:get_keywords(row), axis=1) \n",
    "moma_media_cont_text_final['Keywords'] = moma_media_cont_text_final.apply(lambda row:get_keywords(row), axis=1)\n",
    "moma_media_mod_text_final['Keywords'] = moma_media_mod_text_final.apply(lambda row:get_keywords(row), axis=1)\n",
    "moma_paint_cont_text_final['Keywords'] = moma_paint_cont_text_final.apply(lambda row:get_keywords(row), axis=1)\n",
    "moma_paint_mod_text_final['Keywords'] = moma_paint_mod_text_final.apply(lambda row:get_keywords(row), axis=1)\n",
    "moma_photo_cont_text_final['Keywords'] = moma_photo_cont_text_final.apply(lambda row:get_keywords(row), axis=1)\n",
    "moma_photo_mod_text_final['Keywords'] = moma_photo_mod_text_final.apply(lambda row:get_keywords(row), axis=1)\n",
    "moma_arch_mod_text_final['Keywords'] = moma_arch_mod_text_final.apply(lambda row:get_keywords_2(row), axis=1) \n",
    "\n",
    "#pickle version w/ stopwords removed and keywords added\n",
    "moma_arch_cont_text_final.to_pickle(path+'MOMA_data/pickle/departments/architecture_design_cont_text_final_stop.pkl')\n",
    "moma_arch_mod_text_final.to_pickle(path+'MOMA_data/pickle/departments/architecture_design_mod_text_only_final_stop.pkl')\n",
    "moma_draw_cont_text_final.to_pickle(path+'MOMA_data/pickle/departments/draws_prints_cont_text_final_stop.pkl')\n",
    "moma_draw_mod_text_final.to_pickle(path+'MOMA_data/pickle/departments/draws_prints_mod_text_final_stop.pkl')\n",
    "moma_films_cont_text_final.to_pickle(path+'MOMA_data/pickle/departments/films_cont_text_final_stop.pkl')\n",
    "moma_films_mod_text_final.to_pickle(path+'MOMA_data/pickle/departments/films_mod_text_final_stop.pkl')\n",
    "moma_media_cont_text_final.to_pickle(path+'MOMA_data/pickle/departments/media_perf_cont_text_final_stop.pkl')\n",
    "moma_media_mod_text_final.to_pickle(path+'MOMA_data/pickle/departments/media_perf_mod_text_final_stop.pkl')\n",
    "moma_paint_cont_text_final.to_pickle(path+'MOMA_data/pickle/departments/paint_sculp_cont_text_final_stop.pkl')\n",
    "moma_paint_mod_text_final.to_pickle(path+'MOMA_data/pickle/departments/paint_sculp_mod_text_final_stop.pkl')\n",
    "moma_photo_cont_text_final.to_pickle(path+'MOMA_data/pickle/departments/photo_cont_text_final_stop.pkl')\n",
    "moma_photo_mod_text_final.to_pickle(path+'MOMA_data/pickle/departments/photo_mod_text_final_stop.pkl')\n"
   ]
  },
  {
   "cell_type": "code",
   "execution_count": 19,
   "metadata": {},
   "outputs": [
    {
     "data": {
      "text/html": [
       "<div>\n",
       "<style scoped>\n",
       "    .dataframe tbody tr th:only-of-type {\n",
       "        vertical-align: middle;\n",
       "    }\n",
       "\n",
       "    .dataframe tbody tr th {\n",
       "        vertical-align: top;\n",
       "    }\n",
       "\n",
       "    .dataframe thead th {\n",
       "        text-align: right;\n",
       "    }\n",
       "</style>\n",
       "<table border=\"1\" class=\"dataframe\">\n",
       "  <thead>\n",
       "    <tr style=\"text-align: right;\">\n",
       "      <th></th>\n",
       "      <th>Title</th>\n",
       "      <th>Artist</th>\n",
       "      <th>ID</th>\n",
       "      <th>DateCreated</th>\n",
       "      <th>Medium</th>\n",
       "      <th>Department</th>\n",
       "      <th>DateAcquired</th>\n",
       "      <th>URL</th>\n",
       "      <th>ThumbnailURL</th>\n",
       "      <th>Nationality</th>\n",
       "      <th>Gender</th>\n",
       "      <th>Text</th>\n",
       "      <th>Keywords</th>\n",
       "    </tr>\n",
       "  </thead>\n",
       "  <tbody>\n",
       "    <tr>\n",
       "      <th>3</th>\n",
       "      <td>The Manhattan Transcripts Project, New York, N...</td>\n",
       "      <td>Bernard Tschumi</td>\n",
       "      <td>7056</td>\n",
       "      <td>1980</td>\n",
       "      <td>Photographic reproduction with colored synthet...</td>\n",
       "      <td>Architecture &amp; Design</td>\n",
       "      <td>1995</td>\n",
       "      <td>http://www.moma.org/collection/works/5</td>\n",
       "      <td>http://www.moma.org/media/W1siZiIsIjEyNCJdLFsi...</td>\n",
       "      <td>missing</td>\n",
       "      <td>M</td>\n",
       "      <td>manhattan transcripts theoretical propositions...</td>\n",
       "      <td>events, architecture, manhattan, transcripts, ...</td>\n",
       "    </tr>\n",
       "    <tr>\n",
       "      <th>35</th>\n",
       "      <td>The Manhattan Transcripts Project, New York, N...</td>\n",
       "      <td>Bernard Tschumi</td>\n",
       "      <td>7056</td>\n",
       "      <td>1980</td>\n",
       "      <td>Photographic reproduction with colored synthet...</td>\n",
       "      <td>Architecture &amp; Design</td>\n",
       "      <td>1995</td>\n",
       "      <td>http://www.moma.org/collection/works/38</td>\n",
       "      <td>http://www.moma.org/media/W1siZiIsIjI2NyJdLFsi...</td>\n",
       "      <td>missing</td>\n",
       "      <td>M</td>\n",
       "      <td>manhattan transcripts theoretical propositions...</td>\n",
       "      <td>events, architecture, manhattan, movement, tra...</td>\n",
       "    </tr>\n",
       "    <tr>\n",
       "      <th>151</th>\n",
       "      <td>Slow House Project, North Haven, New York, Pla...</td>\n",
       "      <td>Diller + Scofidio, Elizabeth Diller, Ricardo S...</td>\n",
       "      <td>8707, 6951, 6952</td>\n",
       "      <td>1989</td>\n",
       "      <td>Computer-generated print on frosted polymer sh...</td>\n",
       "      <td>Architecture &amp; Design</td>\n",
       "      <td>1992</td>\n",
       "      <td>http://www.moma.org/collection/works/201</td>\n",
       "      <td>http://www.moma.org/media/W1siZiIsIjE5MjQiXSxb...</td>\n",
       "      <td>American, American, American</td>\n",
       "      <td>missing, F, M</td>\n",
       "      <td>elizabeth diller ricardo scofidio's slow house...</td>\n",
       "      <td>house, drawing, view, diller, scofidio, city, ...</td>\n",
       "    </tr>\n",
       "    <tr>\n",
       "      <th>152</th>\n",
       "      <td>The Peak Project, Hong Kong, China (Exterior p...</td>\n",
       "      <td>Zaha Hadid</td>\n",
       "      <td>6953</td>\n",
       "      <td>1991</td>\n",
       "      <td>Synthetic polymer on paper mounted on canvas</td>\n",
       "      <td>Architecture &amp; Design</td>\n",
       "      <td>1992</td>\n",
       "      <td>http://www.moma.org/collection/works/202</td>\n",
       "      <td>http://www.moma.org/media/W1siZiIsIjE5MzgiXSxb...</td>\n",
       "      <td>British</td>\n",
       "      <td>F</td>\n",
       "      <td>painting depicts hadid’s winning entry archite...</td>\n",
       "      <td>hadid, painting, hills, structure, forms, winn...</td>\n",
       "    </tr>\n",
       "    <tr>\n",
       "      <th>170</th>\n",
       "      <td>Chikatsu-Asuka Historical Museum, Minami-Kawac...</td>\n",
       "      <td>Tadao Ando</td>\n",
       "      <td>7055</td>\n",
       "      <td>1989</td>\n",
       "      <td>Graphite and crayon with scoring on paper</td>\n",
       "      <td>Architecture &amp; Design</td>\n",
       "      <td>1993</td>\n",
       "      <td>http://www.moma.org/collection/works/224</td>\n",
       "      <td>http://www.moma.org/media/W1siZiIsIjI0MjEiXSxb...</td>\n",
       "      <td>Japanese</td>\n",
       "      <td>M</td>\n",
       "      <td>tadao ando's drawings like hieroglyphic map re...</td>\n",
       "      <td>ando, museum, building, landscape, tadao, like...</td>\n",
       "    </tr>\n",
       "  </tbody>\n",
       "</table>\n",
       "</div>"
      ],
      "text/plain": [
       "                                                 Title  \\\n",
       "3    The Manhattan Transcripts Project, New York, N...   \n",
       "35   The Manhattan Transcripts Project, New York, N...   \n",
       "151  Slow House Project, North Haven, New York, Pla...   \n",
       "152  The Peak Project, Hong Kong, China (Exterior p...   \n",
       "170  Chikatsu-Asuka Historical Museum, Minami-Kawac...   \n",
       "\n",
       "                                                Artist                ID  \\\n",
       "3                                      Bernard Tschumi              7056   \n",
       "35                                     Bernard Tschumi              7056   \n",
       "151  Diller + Scofidio, Elizabeth Diller, Ricardo S...  8707, 6951, 6952   \n",
       "152                                         Zaha Hadid              6953   \n",
       "170                                         Tadao Ando              7055   \n",
       "\n",
       "     DateCreated                                             Medium  \\\n",
       "3           1980  Photographic reproduction with colored synthet...   \n",
       "35          1980  Photographic reproduction with colored synthet...   \n",
       "151         1989  Computer-generated print on frosted polymer sh...   \n",
       "152         1991       Synthetic polymer on paper mounted on canvas   \n",
       "170         1989          Graphite and crayon with scoring on paper   \n",
       "\n",
       "                Department DateAcquired  \\\n",
       "3    Architecture & Design         1995   \n",
       "35   Architecture & Design         1995   \n",
       "151  Architecture & Design         1992   \n",
       "152  Architecture & Design         1992   \n",
       "170  Architecture & Design         1993   \n",
       "\n",
       "                                          URL  \\\n",
       "3      http://www.moma.org/collection/works/5   \n",
       "35    http://www.moma.org/collection/works/38   \n",
       "151  http://www.moma.org/collection/works/201   \n",
       "152  http://www.moma.org/collection/works/202   \n",
       "170  http://www.moma.org/collection/works/224   \n",
       "\n",
       "                                          ThumbnailURL  \\\n",
       "3    http://www.moma.org/media/W1siZiIsIjEyNCJdLFsi...   \n",
       "35   http://www.moma.org/media/W1siZiIsIjI2NyJdLFsi...   \n",
       "151  http://www.moma.org/media/W1siZiIsIjE5MjQiXSxb...   \n",
       "152  http://www.moma.org/media/W1siZiIsIjE5MzgiXSxb...   \n",
       "170  http://www.moma.org/media/W1siZiIsIjI0MjEiXSxb...   \n",
       "\n",
       "                      Nationality         Gender  \\\n",
       "3                         missing              M   \n",
       "35                        missing              M   \n",
       "151  American, American, American  missing, F, M   \n",
       "152                       British              F   \n",
       "170                      Japanese              M   \n",
       "\n",
       "                                                  Text  \\\n",
       "3    manhattan transcripts theoretical propositions...   \n",
       "35   manhattan transcripts theoretical propositions...   \n",
       "151  elizabeth diller ricardo scofidio's slow house...   \n",
       "152  painting depicts hadid’s winning entry archite...   \n",
       "170  tadao ando's drawings like hieroglyphic map re...   \n",
       "\n",
       "                                              Keywords  \n",
       "3    events, architecture, manhattan, transcripts, ...  \n",
       "35   events, architecture, manhattan, movement, tra...  \n",
       "151  house, drawing, view, diller, scofidio, city, ...  \n",
       "152  hadid, painting, hills, structure, forms, winn...  \n",
       "170  ando, museum, building, landscape, tadao, like...  "
      ]
     },
     "execution_count": 19,
     "metadata": {},
     "output_type": "execute_result"
    }
   ],
   "source": [
    "#show results\n",
    "moma_arch_cont_text_final = pd.read_pickle(path+'MOMA_data/pickle/departments/architecture_design_cont_text_final_stop.pkl')\n",
    "moma_arch_cont_text_final.head()"
   ]
  },
  {
   "cell_type": "markdown",
   "metadata": {},
   "source": [
    "***"
   ]
  },
  {
   "cell_type": "markdown",
   "metadata": {},
   "source": [
    "## Manipulating and Visualising the Data (Everyone)\n",
    "\n",
    "For our manipulation and visualisation of the data we decided on a workflow inspired by what we learnt during the class. Starting from our initial research question -- Did the internet and personal computers have an impact on the make up of art collections? -- we looked at the types of variable we had available, their potential relationships, and the ways in which this could help us explore and visualize the data. <br><br>\n",
    "We ended up deciding on the following variables as essential to our exploration: \n",
    "- Gender (categorical/nominal)\n",
    "- Nationality (categorical/nominal)\n",
    "- Date Created and Acquired (ordinal)\n",
    "- Departments (categorical)\n",
    "- Keywords (treated as numerical)\n",
    "\n",
    "Considering the difference in size between our datasets we eventually decided to settle on the following approach to help our manipulation, visualization, and storytelling: the Rhizome dataset would be used in full, MoMA would only be used in full untouched for the first visualization and subsequently would only be used as either full with the 1983 pivot date (to see if the internet and personal computers might have made a difference in acquisitions) or as a trimmed-down version for comparison with Rhizome, aligned to Rhizome by using the same creation date for the first artwork (1893) and the same first acquisition date (2000).<br><br> \n",
    "Therefore we would in effect have three versions of the MoMA dataset: the full version (138K items); a version split at 1983 as a pivot date (69,310 items vs 30,227); and a version trimmed alongside Rhizome's key dates (21,580 items). With this we felt we could more confidently work on the data as when comparing MoMA before and after 1983 we could divide any needed counts for the pre-1983 period by 43% and when comparing MoMA and Rhizome we could divide needed counts by 10%.<br><br>\n",
    "As part of the cleaning work we decided that it would be useful to represent collectives as a type of gender as they are relevant to Rhizome and help expand gender beyond the male/female binary. Similarly we found many artists in Rhizome with dual nationalities. In MoMA, collectives were not clearly marked but once we connected artworks to genders and nationalities we could see that some of them also had multiple artists. As such we decided to represent artworks with multiple creators as belonging to collectives and collaborations in terms of gender and for nationalities TK TK TK.<br><br>\n",
    "From there we discussed what types of visualizations we might want -- comparisons, relationships, distribution, composition etc... -- and ended up with a list of questions expanding from the initial research question and which became a guide for both creating visualizations and building the story. For the latter we also made use of Miro to create a storyboard of the website and help decide which sub question/visualization would prove essential. <br><br>\n",
    "The final list of questions and their associated viusalizations and datasets were:\n",
    "1. **What is the gender representation in each dataset?**\n",
    "    - Rhizome vs MoMA full + MoMA before and after 1983 \n",
    "    - Pie charts -> gender as categorical and numerical  \n",
    "2. **How does gender representation compare between both datasets?** \n",
    "    - Rhizome vs MoMA sampled\n",
    "    - Pie charts -> gender as categorical and numerical \n",
    "3. **How many artworks were created by collectives and what is their gender breakdown?** \n",
    "    - Rhizome vs MoMA sampled\n",
    "    - Sunburst charts -> gender as categorical and numerical  \n",
    "4. **How does gender representation compare between datasets alongside departments?** \n",
    "    - Rhizome vs MoMA sampled + MoMA before and after 1983 \n",
    "    - Barcharts -> gender as categorical and numerical + departments as categorical\n",
    "5. **What is the nationality representation in each dataset?**\n",
    "    - Rhizome vs MoMA sampled \n",
    "    - Map -> nationality as categorical and numerical  \n",
    "6. **How does nationality representation compare between datasets?** \n",
    "    - Rhizome vs MoMA sampled\n",
    "    - Bar charts -> nationality as numerical + dataset as categorical (with additional filtering using the concept of Global North/South divide)\n",
    "7. **How does nationality relate to gender?** \n",
    "    - Rhizome vs MoMA sampled\n",
    "    - Parallel chart -> gender as categorical + department as categorical + nationality as categorical and numerical (with some additional filtering using the concept of Global North/South divide)\n",
    "8. **Which years have the highest acquisition date in relation to gender and/or nationality?**\n",
    "    - Rhizome vs MoMA sampled \n",
    "    - Scatter plot -> date created/acquired as ordinal + gender/nationality as categorical and numerical (with some additional filtering using the concept of Global North/South divide)\n",
    "9. **Which keywords are most prominent in artwork descriptions?** \n",
    "    - Rhizome vs MoMA TBC\n",
    "    - Tree maps -> TBC\n",
    "10. **How do keywords relate to gender and/or nationality?**\n",
    "    - TBC\n",
    "    - TBC\n",
    "\n",
    "Let's do this! 💪"
   ]
  },
  {
   "cell_type": "markdown",
   "metadata": {},
   "source": [
    "***"
   ]
  },
  {
   "cell_type": "markdown",
   "metadata": {},
   "source": [
    "### Representing Gender by Dataset (Margherita & Laurent)\n",
    "\n",
    "We decided to use pie and sunburst charts to give a simple overall perspective of the gender breakdown, and the collectives and collaborations segment is pulled out of the pie charts to link it directly to the sunburst charts in the storytelling. <br><br>\n",
    "For the sunburst charts we tried to automate the counting process but kept hitting some walls with regular expressions so in the end we exported the needed data to csv and did some regex and counting in Excel as the Plotly figure could be easily manuallly populated. "
   ]
  },
  {
   "cell_type": "markdown",
   "metadata": {},
   "source": [
    "TO DO \n",
    "- Align legend/category order \n",
    "- Make a note in story that collectives include artists who worked together but may not be a collective as such because of inability to easily identify collectives in MoMA"
   ]
  },
  {
   "cell_type": "code",
   "execution_count": 4,
   "metadata": {},
   "outputs": [
    {
     "data": {
      "application/vnd.jupyter.widget-view+json": {
       "model_id": "303b10217c194bb299ecf95933553605",
       "version_major": 2,
       "version_minor": 0
      },
      "text/plain": [
       "HBox(children=(FigureWidget({\n",
       "    'data': [{'domain': {'x': [0.0, 1.0], 'y': [0.0, 1.0]},\n",
       "              'hover…"
      ]
     },
     "metadata": {},
     "output_type": "display_data"
    }
   ],
   "source": [
    "#Rhizome vs MoMA full\n",
    "rhz_gender_rep = group_genders(rhz_artworks)\n",
    "moma_gender_rep = group_genders(moma_artworks)\n",
    "\n",
    "rhz_gender_pie = px.pie(rhz_gender_rep, values='Counts', names='Gender',\n",
    "             title='Gender Breakdown of Rhizome Collection', color_discrete_sequence = ['#007c91', \"#ff5252\", \"#8c7b75\", \"#ce93d8\", \"#ffd54f\",])\n",
    "\n",
    "rhz_gender_pie.update_traces(textposition='auto', textinfo='label+percent', hoverinfo='label+value+percent', hovertemplate=None, pull=[0, 0, 0, 0.2])\n",
    "rhz_gender_pie.update_layout(width=800, title_x=0.5)\n",
    "\n",
    "moma_gender_pie = px.pie(moma_gender_rep, values='Counts', names='Gender',\n",
    "             title='Gender Breakdown of MoMA Collection (Full)', color_discrete_sequence = ['#007c91', \"#ff5252\", \"#8c7b75\", \"#ce93d8\", \"#ffd54f\",])\n",
    "moma_gender_pie.update_traces(textposition='auto', textinfo='label+percent', hoverinfo='label+value+percent', hovertemplate=None, pull=[0, 0, 0, 0.2])\n",
    "moma_gender_pie.update_layout(width=800, title_x=0.5)\n",
    "\n",
    "rhz_gender_pie = go.FigureWidget(rhz_gender_pie)\n",
    "moma_gender_pie = go.FigureWidget(moma_gender_pie)\n",
    "gender_pies = ipw.HBox([rhz_gender_pie, moma_gender_pie])\n",
    "gender_pies"
   ]
  },
  {
   "cell_type": "code",
   "execution_count": 5,
   "metadata": {},
   "outputs": [
    {
     "data": {
      "application/vnd.jupyter.widget-view+json": {
       "model_id": "447292544d0b42b5b071590fa1c6d55e",
       "version_major": 2,
       "version_minor": 0
      },
      "text/plain": [
       "HBox(children=(FigureWidget({\n",
       "    'data': [{'domain': {'x': [0.0, 1.0], 'y': [0.0, 1.0]},\n",
       "              'hover…"
      ]
     },
     "metadata": {},
     "output_type": "display_data"
    }
   ],
   "source": [
    "#Rhizome vs MoMA sampled\n",
    "moma_rhz_compare_gender_rep = group_genders(moma_rhz_compare)\n",
    "\n",
    "moma_gender_pie_2 = px.pie(moma_rhz_compare_gender_rep, values='Counts', names='Gender',\n",
    "             title='Gender Breakdown of MoMA Collection (Sampled)',\n",
    "             color_discrete_sequence = ['#007c91', \"#ff5252\", \"#ce93d8\", \"#8c7b75\", \"#ffd54f\"])\n",
    "moma_gender_pie_2.update_traces(textposition='auto', textinfo='label+percent', hoverinfo='label+value+percent', hovertemplate=None, pull=[0, 0, 0, 0.2], sort=False)\n",
    "moma_gender_pie_2.update_layout(width=800, title_x=0.5)\n",
    "\n",
    "moma_gender_pie_2 = go.FigureWidget(moma_gender_pie_2)\n",
    "gender_pies_2 = ipw.HBox([rhz_gender_pie, moma_gender_pie_2])\n",
    "gender_pies_2"
   ]
  },
  {
   "cell_type": "code",
   "execution_count": 6,
   "metadata": {},
   "outputs": [
    {
     "data": {
      "application/vnd.jupyter.widget-view+json": {
       "model_id": "0b4a00e5c2c44b2e8a8632b7db8fbf1e",
       "version_major": 2,
       "version_minor": 0
      },
      "text/plain": [
       "HBox(children=(FigureWidget({\n",
       "    'data': [{'domain': {'x': [0.0, 1.0], 'y': [0.0, 1.0]},\n",
       "              'hover…"
      ]
     },
     "metadata": {},
     "output_type": "display_data"
    }
   ],
   "source": [
    "#create a DF w/ genders and counts, group collectives together\n",
    "moma_b4_gender_rep = group_genders(moma_artworks_old)\n",
    "moma_after_gender_rep = group_genders(moma_artworks_new)\n",
    "\n",
    "moma_gender_pie_b4 = px.pie(moma_b4_gender_rep, values='Counts', names='Gender',\n",
    "             title='Gender Breakdown of MoMA Collection Before 1983',\n",
    "            color_discrete_sequence = ['#007c91', \"#ff5252\", \"#8c7b75\", \"#ce93d8\", \"#ffd54f\",])\n",
    "moma_gender_pie_b4.update_traces(textposition='auto', textinfo='label+percent', hoverinfo='label+value+percent', hovertemplate=None, pull=[0, 0, 0, 0.2])\n",
    "moma_gender_pie_b4.update_layout(width=800, title_x=0.5)\n",
    "\n",
    "moma_gender_pie_after = px.pie(moma_after_gender_rep, values='Counts', names='Gender',\n",
    "             title='Gender Breakdown of MoMA Collection After 1983',\n",
    "            color_discrete_sequence = ['#007c91', \"#ff5252\", \"#ce93d8\", \"#8c7b75\", \"#ffd54f\"]\n",
    ")\n",
    "moma_gender_pie_after.update_traces(textposition='auto', textinfo='label+percent', hoverinfo='label+value+percent', hovertemplate=None, pull=[0, 0, 0, 0.2])\n",
    "moma_gender_pie_after.update_layout(width=800,  title_x=0.5)\n",
    "\n",
    "moma_gender_pie_3 = go.FigureWidget(moma_gender_pie_b4)\n",
    "moma_gender_pie_4 = go.FigureWidget(moma_gender_pie_after)\n",
    "gender_pies_3 = ipw.HBox([moma_gender_pie_3, moma_gender_pie_4])\n",
    "gender_pies_3"
   ]
  },
  {
   "cell_type": "code",
   "execution_count": 7,
   "metadata": {},
   "outputs": [],
   "source": [
    "#count genders, remove M and F only, send to csv for counting\n",
    "moma_gender_counts = moma_rhz_compare['Gender'].value_counts()\n",
    "rhz_gender_counts = rhz_artworks['Gender'].value_counts()\n",
    "#choose only collectives\n",
    "moma_gender_collectives = moma_gender_counts[3:].reset_index()\n",
    "moma_gender_collectives.to_csv(path+'MOMA_data/csv/moma_collectives_gender.csv')\n",
    "rhz_gender_collectives = rhz_gender_counts[3:].reset_index()\n",
    "rhz_gender_collectives.to_csv(path+'Rhizome_data/csv/rhz_collectives_gender.csv')"
   ]
  },
  {
   "cell_type": "code",
   "execution_count": 8,
   "metadata": {},
   "outputs": [
    {
     "data": {
      "application/vnd.jupyter.widget-view+json": {
       "model_id": "5dad076da9fc463faaa6d29781270dd3",
       "version_major": 2,
       "version_minor": 0
      },
      "text/plain": [
       "HBox(children=(FigureWidget({\n",
       "    'data': [{'hoverinfo': 'label+value',\n",
       "              'labels': [Collectives &…"
      ]
     },
     "metadata": {},
     "output_type": "display_data"
    }
   ],
   "source": [
    "#Rhizome vs MoMA sampled - collectives gender rep \n",
    "#set color sequence\n",
    "scale1=['#ffffff', '#007c91','#007c91', '#007c91', '#ff5252' ,  \"#ff5252\",  \"#ff5252\",  \"#ce93d8\", \"#ce93d8\"]\n",
    "\n",
    "rhz_sun =go.Figure(go.Sunburst(\n",
    "    labels=[\"Collectives & Collabs\", \"Males\", \"Male Only\", \"Male & Missing\", \"Females\", \"Female Only\", \"Female & Missing\", \"Mixed Gender\", 'Incl. Missing Gender'],\n",
    "    parents=[\"\", \"Collectives & Collabs\",\"Males\", \"Males\", \"Collectives & Collabs\", \"Females\", \"Females\", \"Collectives & Collabs\", 'Mixed Gender'],\n",
    "    values=[131, 37, 35, 2, 9, 6, 3, 85, 2], \n",
    "),layout=dict(title=dict(text=\"Gender Breakdown of Rhizome Collectives & Collaborations\")))\n",
    "rhz_sun.update_traces(textinfo='label+value', hoverinfo='label+value', hovertemplate=None, \n",
    "    marker=dict(colors = scale1))\n",
    "rhz_sun.update_layout(height=800, title_x=0.5, uniformtext=dict(minsize=8, mode='hide'))\n",
    "\n",
    "moma_sun =go.Figure(go.Sunburst(\n",
    "    labels=[\"Collectives & Collabs\", \"Males\", \"Male Only\", \"Male & Missing\", \"Females\", \"Female Only\", \"Female & Missing\", \"Mixed Gender\", 'Incl. Missing Gender', 'Incl. Non-Binary'],\n",
    "    parents=[\"\", \"Collectives & Collabs\",\"Males\", \"Males\", \"Collectives & Collabs\", \"Females\", \"Females\", \"Collectives & Collabs\", 'Mixed Gender', 'Mixed Gender'],\n",
    "    values=[1923, 903, 435, 468, 206, 135, 71, 814, 289, 1]\n",
    "),layout=dict(title=dict(text=\"Gender Breakdown of MoMA Collectives & Collaborations\")))\n",
    "moma_sun.update_traces(textinfo='label+value', hoverinfo='label+value', hovertemplate=None,\n",
    "       marker=dict(colors = scale1))\n",
    "moma_sun.update_layout(height=800, title_x=0.5, uniformtext=dict(minsize=8, mode='hide'))\n",
    "\n",
    "rhz_sun = go.FigureWidget(rhz_sun)\n",
    "moma_sun = go.FigureWidget(moma_sun)\n",
    "rhz_moma_sun = ipw.HBox([rhz_sun, moma_sun])\n",
    "rhz_moma_sun"
   ]
  },
  {
   "cell_type": "markdown",
   "metadata": {},
   "source": [
    "***"
   ]
  },
  {
   "cell_type": "markdown",
   "metadata": {},
   "source": [
    "### Representing Gender by Departments (Everyone)\n",
    "\n",
    "When it came to gender and departments we decided to use barcharts and facet the results to allow the user to see things more clearly: in the first chart the facet is department because they're even, and this way you can easily see if gender representation changes before and after 1983; in the second chart we used the databases as the facet because the departments have been reduced to three and this way you can more easily see that Rhizome has acquired more evenly across departments.<br><br>\n",
    "We also decided to use a shared logarithmic representation of the y axis for the first chart as we had some outliers in the Drawings & Prints department that made a standard barchart representation more difficult to read. <br><br>\n",
    "For the departments we started with the four MoMA departments we felt were most aligned to the types of art also found in Rhizome: film, photography, media and performance, and drawing and prints. The latter might seem odd but there are over 300 items in the Rhizome collection that make reference to print and drawing. To align them with Rhizome we first created four equivalent departments for Rhizome, using the description text to assign them, and then we combined photography and drawings & prints into still images for MoMA and for Rhizome we combined installations with net art. The result is three overall departments: still images, moving images, and media and performance.<br><br>\n",
    "A note on the Rhizome department assignment: the process is far from perfect as it looks for a specific keyword in the text and uses the first one it finds to assign the department. Therefore it misses out on artworks that could potentially belong to multiple departments but considering MoMA is strict with its department assignment we feel taking the same approach for Rhizome is appropriate. <br><br>\n",
    "Lastly, 9% of the Rhizome dataset does not have a department assigned after filtering (due to the keywords not appearing in the text or there not being any text associated with the artwork). So we added 9% to the Rhizome numbers to keep them in line with the percentage reduction applied to the MoMA sampled dataset (10%)."
   ]
  },
  {
   "cell_type": "code",
   "execution_count": 9,
   "metadata": {},
   "outputs": [],
   "source": [
    "#get gender counts, source, department\n",
    "moma_draw_before_gender_rep = group_genders_dept(moma_draw_before, 'Before 1983', 'Drawings & Prints')\n",
    "moma_draw_after_gender_rep = group_genders_dept(moma_draw_after, 'After 1983', 'Drawings & Prints')\n",
    "moma_films_before_gender_rep = group_genders_dept(moma_films_before, 'Before 1983', 'Film')\n",
    "moma_films_after_gender_rep = group_genders_dept(moma_films_after, 'After 1983', 'Film')\n",
    "moma_media_before_gender_rep = group_genders_dept(moma_media_before, 'Before 1983', 'Media and Performance')\n",
    "moma_media_after_gender_rep = group_genders_dept(moma_media_after, 'After 1983', 'Media and Performance')\n",
    "moma_photo_before_gender_rep = group_genders_dept(moma_photo_before, 'Before 1983', 'Photography')\n",
    "moma_photo_after_gender_rep = group_genders_dept(moma_photo_after, 'After 1983', 'Photography')\n",
    "\n",
    "#group all together\n",
    "moma_draw_gender_rep_all = pd.concat([moma_draw_before_gender_rep, moma_draw_after_gender_rep])\n",
    "moma_films_gender_rep_all = pd.concat([moma_films_before_gender_rep, moma_films_after_gender_rep])\n",
    "moma_media_gender_rep_all = pd.concat([moma_media_before_gender_rep, moma_media_after_gender_rep])\n",
    "moma_photo_gender_rep_all = pd.concat([moma_photo_before_gender_rep, moma_photo_after_gender_rep])\n",
    "moma_depts_gender_rep_all = pd.concat([moma_photo_gender_rep_all, moma_media_gender_rep_all, moma_films_gender_rep_all, moma_draw_gender_rep_all])\n",
    "moma_depts_gender_rep_all = moma_depts_gender_rep_all.reset_index(drop='True')"
   ]
  },
  {
   "cell_type": "code",
   "execution_count": 11,
   "metadata": {},
   "outputs": [
    {
     "data": {
      "application/vnd.plotly.v1+json": {
       "config": {
        "plotlyServerURL": "https://plot.ly"
       },
       "data": [
        {
         "alignmentgroup": "True",
         "hoverinfo": "x+y",
         "legendgroup": "Before 1983",
         "marker": {
          "color": "#49599a",
          "pattern": {
           "shape": ""
          }
         },
         "name": "Before 1983",
         "offsetgroup": "Before 1983",
         "orientation": "v",
         "showlegend": true,
         "text": [
          8805,
          1398,
          1092,
          564
         ],
         "textposition": "auto",
         "type": "bar",
         "x": [
          "Male",
          "Missing",
          "Female",
          "Collectives & Collabs"
         ],
         "xaxis": "x3",
         "y": [
          8805,
          1398,
          1092,
          564
         ],
         "yaxis": "y3"
        },
        {
         "alignmentgroup": "True",
         "hoverinfo": "x+y",
         "legendgroup": "Before 1983",
         "marker": {
          "color": "#49599a",
          "pattern": {
           "shape": ""
          }
         },
         "name": "Before 1983",
         "offsetgroup": "Before 1983",
         "orientation": "v",
         "showlegend": false,
         "text": [
          307,
          119,
          60,
          4
         ],
         "textposition": "auto",
         "type": "bar",
         "x": [
          "Male",
          "Female",
          "Collectives & Collabs",
          "Missing"
         ],
         "xaxis": "x4",
         "y": [
          307,
          119,
          60,
          4
         ],
         "yaxis": "y4"
        },
        {
         "alignmentgroup": "True",
         "hoverinfo": "x+y",
         "legendgroup": "Before 1983",
         "marker": {
          "color": "#49599a",
          "pattern": {
           "shape": ""
          }
         },
         "name": "Before 1983",
         "offsetgroup": "Before 1983",
         "orientation": "v",
         "showlegend": false,
         "text": [
          193,
          165,
          86,
          22
         ],
         "textposition": "auto",
         "type": "bar",
         "x": [
          "Collectives & Collabs",
          "Male",
          "Missing",
          "Female"
         ],
         "xaxis": "x",
         "y": [
          193,
          165,
          86,
          22
         ],
         "yaxis": "y"
        },
        {
         "alignmentgroup": "True",
         "hoverinfo": "x+y",
         "legendgroup": "Before 1983",
         "marker": {
          "color": "#49599a",
          "pattern": {
           "shape": ""
          }
         },
         "name": "Before 1983",
         "offsetgroup": "Before 1983",
         "orientation": "v",
         "showlegend": false,
         "text": [
          20840,
          1801,
          716,
          700
         ],
         "textposition": "auto",
         "type": "bar",
         "x": [
          "Male",
          "Female",
          "Missing",
          "Collectives & Collabs"
         ],
         "xaxis": "x2",
         "y": [
          20840,
          1801,
          716,
          700
         ],
         "yaxis": "y2"
        },
        {
         "alignmentgroup": "True",
         "hoverinfo": "x+y",
         "legendgroup": "After 1983",
         "marker": {
          "color": "#aab6fe",
          "pattern": {
           "shape": ""
          }
         },
         "name": "After 1983",
         "offsetgroup": "After 1983",
         "orientation": "v",
         "showlegend": true,
         "text": [
          3027,
          1115,
          92,
          80
         ],
         "textposition": "auto",
         "type": "bar",
         "x": [
          "Male",
          "Female",
          "Collectives & Collabs",
          "Missing"
         ],
         "xaxis": "x3",
         "y": [
          3027,
          1115,
          92,
          80
         ],
         "yaxis": "y3"
        },
        {
         "alignmentgroup": "True",
         "hoverinfo": "x+y",
         "legendgroup": "After 1983",
         "marker": {
          "color": "#aab6fe",
          "pattern": {
           "shape": ""
          }
         },
         "name": "After 1983",
         "offsetgroup": "After 1983",
         "orientation": "v",
         "showlegend": false,
         "text": [
          1126,
          367,
          297,
          10,
          9
         ],
         "textposition": "auto",
         "type": "bar",
         "x": [
          "Male",
          "Female",
          "Collectives & Collabs",
          "NB",
          "Missing"
         ],
         "xaxis": "x4",
         "y": [
          1126,
          367,
          297,
          10,
          9
         ],
         "yaxis": "y4"
        },
        {
         "alignmentgroup": "True",
         "hoverinfo": "x+y",
         "legendgroup": "After 1983",
         "marker": {
          "color": "#aab6fe",
          "pattern": {
           "shape": ""
          }
         },
         "name": "After 1983",
         "offsetgroup": "After 1983",
         "orientation": "v",
         "showlegend": false,
         "text": [
          253,
          73,
          51,
          31
         ],
         "textposition": "auto",
         "type": "bar",
         "x": [
          "Male",
          "Female",
          "Missing",
          "Collectives & Collabs"
         ],
         "xaxis": "x",
         "y": [
          253,
          73,
          51,
          31
         ],
         "yaxis": "y"
        },
        {
         "alignmentgroup": "True",
         "hoverinfo": "x+y",
         "legendgroup": "After 1983",
         "marker": {
          "color": "#aab6fe",
          "pattern": {
           "shape": ""
          }
         },
         "name": "After 1983",
         "offsetgroup": "After 1983",
         "orientation": "v",
         "showlegend": false,
         "text": [
          12658,
          6329,
          841,
          337
         ],
         "textposition": "auto",
         "type": "bar",
         "x": [
          "Male",
          "Female",
          "Collectives & Collabs",
          "Missing"
         ],
         "xaxis": "x2",
         "y": [
          12658,
          6329,
          841,
          337
         ],
         "yaxis": "y2"
        }
       ],
       "layout": {
        "annotations": [
         {
          "font": {},
          "showarrow": false,
          "text": "Department=Film",
          "x": 0.235,
          "xanchor": "center",
          "xref": "paper",
          "y": 0.46499999999999997,
          "yanchor": "bottom",
          "yref": "paper"
         },
         {
          "font": {},
          "showarrow": false,
          "text": "Department=Drawings & Prints",
          "x": 0.765,
          "xanchor": "center",
          "xref": "paper",
          "y": 0.46499999999999997,
          "yanchor": "bottom",
          "yref": "paper"
         },
         {
          "font": {},
          "showarrow": false,
          "text": "Department=Photography",
          "x": 0.235,
          "xanchor": "center",
          "xref": "paper",
          "y": 0.9999999999999999,
          "yanchor": "bottom",
          "yref": "paper"
         },
         {
          "font": {},
          "showarrow": false,
          "text": "Department=Media and Performance",
          "x": 0.765,
          "xanchor": "center",
          "xref": "paper",
          "y": 0.9999999999999999,
          "yanchor": "bottom",
          "yref": "paper"
         }
        ],
        "barmode": "group",
        "height": 800,
        "legend": {
         "title": {
          "text": "Period"
         },
         "tracegroupgap": 0
        },
        "template": {
         "data": {
          "bar": [
           {
            "error_x": {
             "color": "rgb(36,36,36)"
            },
            "error_y": {
             "color": "rgb(36,36,36)"
            },
            "marker": {
             "line": {
              "color": "white",
              "width": 0.5
             },
             "pattern": {
              "fillmode": "overlay",
              "size": 10,
              "solidity": 0.2
             }
            },
            "type": "bar"
           }
          ],
          "barpolar": [
           {
            "marker": {
             "line": {
              "color": "white",
              "width": 0.5
             },
             "pattern": {
              "fillmode": "overlay",
              "size": 10,
              "solidity": 0.2
             }
            },
            "type": "barpolar"
           }
          ],
          "carpet": [
           {
            "aaxis": {
             "endlinecolor": "rgb(36,36,36)",
             "gridcolor": "white",
             "linecolor": "white",
             "minorgridcolor": "white",
             "startlinecolor": "rgb(36,36,36)"
            },
            "baxis": {
             "endlinecolor": "rgb(36,36,36)",
             "gridcolor": "white",
             "linecolor": "white",
             "minorgridcolor": "white",
             "startlinecolor": "rgb(36,36,36)"
            },
            "type": "carpet"
           }
          ],
          "choropleth": [
           {
            "colorbar": {
             "outlinewidth": 1,
             "tickcolor": "rgb(36,36,36)",
             "ticks": "outside"
            },
            "type": "choropleth"
           }
          ],
          "contour": [
           {
            "colorbar": {
             "outlinewidth": 1,
             "tickcolor": "rgb(36,36,36)",
             "ticks": "outside"
            },
            "colorscale": [
             [
              0,
              "#440154"
             ],
             [
              0.1111111111111111,
              "#482878"
             ],
             [
              0.2222222222222222,
              "#3e4989"
             ],
             [
              0.3333333333333333,
              "#31688e"
             ],
             [
              0.4444444444444444,
              "#26828e"
             ],
             [
              0.5555555555555556,
              "#1f9e89"
             ],
             [
              0.6666666666666666,
              "#35b779"
             ],
             [
              0.7777777777777778,
              "#6ece58"
             ],
             [
              0.8888888888888888,
              "#b5de2b"
             ],
             [
              1,
              "#fde725"
             ]
            ],
            "type": "contour"
           }
          ],
          "contourcarpet": [
           {
            "colorbar": {
             "outlinewidth": 1,
             "tickcolor": "rgb(36,36,36)",
             "ticks": "outside"
            },
            "type": "contourcarpet"
           }
          ],
          "heatmap": [
           {
            "colorbar": {
             "outlinewidth": 1,
             "tickcolor": "rgb(36,36,36)",
             "ticks": "outside"
            },
            "colorscale": [
             [
              0,
              "#440154"
             ],
             [
              0.1111111111111111,
              "#482878"
             ],
             [
              0.2222222222222222,
              "#3e4989"
             ],
             [
              0.3333333333333333,
              "#31688e"
             ],
             [
              0.4444444444444444,
              "#26828e"
             ],
             [
              0.5555555555555556,
              "#1f9e89"
             ],
             [
              0.6666666666666666,
              "#35b779"
             ],
             [
              0.7777777777777778,
              "#6ece58"
             ],
             [
              0.8888888888888888,
              "#b5de2b"
             ],
             [
              1,
              "#fde725"
             ]
            ],
            "type": "heatmap"
           }
          ],
          "heatmapgl": [
           {
            "colorbar": {
             "outlinewidth": 1,
             "tickcolor": "rgb(36,36,36)",
             "ticks": "outside"
            },
            "colorscale": [
             [
              0,
              "#440154"
             ],
             [
              0.1111111111111111,
              "#482878"
             ],
             [
              0.2222222222222222,
              "#3e4989"
             ],
             [
              0.3333333333333333,
              "#31688e"
             ],
             [
              0.4444444444444444,
              "#26828e"
             ],
             [
              0.5555555555555556,
              "#1f9e89"
             ],
             [
              0.6666666666666666,
              "#35b779"
             ],
             [
              0.7777777777777778,
              "#6ece58"
             ],
             [
              0.8888888888888888,
              "#b5de2b"
             ],
             [
              1,
              "#fde725"
             ]
            ],
            "type": "heatmapgl"
           }
          ],
          "histogram": [
           {
            "marker": {
             "line": {
              "color": "white",
              "width": 0.6
             }
            },
            "type": "histogram"
           }
          ],
          "histogram2d": [
           {
            "colorbar": {
             "outlinewidth": 1,
             "tickcolor": "rgb(36,36,36)",
             "ticks": "outside"
            },
            "colorscale": [
             [
              0,
              "#440154"
             ],
             [
              0.1111111111111111,
              "#482878"
             ],
             [
              0.2222222222222222,
              "#3e4989"
             ],
             [
              0.3333333333333333,
              "#31688e"
             ],
             [
              0.4444444444444444,
              "#26828e"
             ],
             [
              0.5555555555555556,
              "#1f9e89"
             ],
             [
              0.6666666666666666,
              "#35b779"
             ],
             [
              0.7777777777777778,
              "#6ece58"
             ],
             [
              0.8888888888888888,
              "#b5de2b"
             ],
             [
              1,
              "#fde725"
             ]
            ],
            "type": "histogram2d"
           }
          ],
          "histogram2dcontour": [
           {
            "colorbar": {
             "outlinewidth": 1,
             "tickcolor": "rgb(36,36,36)",
             "ticks": "outside"
            },
            "colorscale": [
             [
              0,
              "#440154"
             ],
             [
              0.1111111111111111,
              "#482878"
             ],
             [
              0.2222222222222222,
              "#3e4989"
             ],
             [
              0.3333333333333333,
              "#31688e"
             ],
             [
              0.4444444444444444,
              "#26828e"
             ],
             [
              0.5555555555555556,
              "#1f9e89"
             ],
             [
              0.6666666666666666,
              "#35b779"
             ],
             [
              0.7777777777777778,
              "#6ece58"
             ],
             [
              0.8888888888888888,
              "#b5de2b"
             ],
             [
              1,
              "#fde725"
             ]
            ],
            "type": "histogram2dcontour"
           }
          ],
          "mesh3d": [
           {
            "colorbar": {
             "outlinewidth": 1,
             "tickcolor": "rgb(36,36,36)",
             "ticks": "outside"
            },
            "type": "mesh3d"
           }
          ],
          "parcoords": [
           {
            "line": {
             "colorbar": {
              "outlinewidth": 1,
              "tickcolor": "rgb(36,36,36)",
              "ticks": "outside"
             }
            },
            "type": "parcoords"
           }
          ],
          "pie": [
           {
            "automargin": true,
            "type": "pie"
           }
          ],
          "scatter": [
           {
            "fillpattern": {
             "fillmode": "overlay",
             "size": 10,
             "solidity": 0.2
            },
            "type": "scatter"
           }
          ],
          "scatter3d": [
           {
            "line": {
             "colorbar": {
              "outlinewidth": 1,
              "tickcolor": "rgb(36,36,36)",
              "ticks": "outside"
             }
            },
            "marker": {
             "colorbar": {
              "outlinewidth": 1,
              "tickcolor": "rgb(36,36,36)",
              "ticks": "outside"
             }
            },
            "type": "scatter3d"
           }
          ],
          "scattercarpet": [
           {
            "marker": {
             "colorbar": {
              "outlinewidth": 1,
              "tickcolor": "rgb(36,36,36)",
              "ticks": "outside"
             }
            },
            "type": "scattercarpet"
           }
          ],
          "scattergeo": [
           {
            "marker": {
             "colorbar": {
              "outlinewidth": 1,
              "tickcolor": "rgb(36,36,36)",
              "ticks": "outside"
             }
            },
            "type": "scattergeo"
           }
          ],
          "scattergl": [
           {
            "marker": {
             "colorbar": {
              "outlinewidth": 1,
              "tickcolor": "rgb(36,36,36)",
              "ticks": "outside"
             }
            },
            "type": "scattergl"
           }
          ],
          "scattermapbox": [
           {
            "marker": {
             "colorbar": {
              "outlinewidth": 1,
              "tickcolor": "rgb(36,36,36)",
              "ticks": "outside"
             }
            },
            "type": "scattermapbox"
           }
          ],
          "scatterpolar": [
           {
            "marker": {
             "colorbar": {
              "outlinewidth": 1,
              "tickcolor": "rgb(36,36,36)",
              "ticks": "outside"
             }
            },
            "type": "scatterpolar"
           }
          ],
          "scatterpolargl": [
           {
            "marker": {
             "colorbar": {
              "outlinewidth": 1,
              "tickcolor": "rgb(36,36,36)",
              "ticks": "outside"
             }
            },
            "type": "scatterpolargl"
           }
          ],
          "scatterternary": [
           {
            "marker": {
             "colorbar": {
              "outlinewidth": 1,
              "tickcolor": "rgb(36,36,36)",
              "ticks": "outside"
             }
            },
            "type": "scatterternary"
           }
          ],
          "surface": [
           {
            "colorbar": {
             "outlinewidth": 1,
             "tickcolor": "rgb(36,36,36)",
             "ticks": "outside"
            },
            "colorscale": [
             [
              0,
              "#440154"
             ],
             [
              0.1111111111111111,
              "#482878"
             ],
             [
              0.2222222222222222,
              "#3e4989"
             ],
             [
              0.3333333333333333,
              "#31688e"
             ],
             [
              0.4444444444444444,
              "#26828e"
             ],
             [
              0.5555555555555556,
              "#1f9e89"
             ],
             [
              0.6666666666666666,
              "#35b779"
             ],
             [
              0.7777777777777778,
              "#6ece58"
             ],
             [
              0.8888888888888888,
              "#b5de2b"
             ],
             [
              1,
              "#fde725"
             ]
            ],
            "type": "surface"
           }
          ],
          "table": [
           {
            "cells": {
             "fill": {
              "color": "rgb(237,237,237)"
             },
             "line": {
              "color": "white"
             }
            },
            "header": {
             "fill": {
              "color": "rgb(217,217,217)"
             },
             "line": {
              "color": "white"
             }
            },
            "type": "table"
           }
          ]
         },
         "layout": {
          "annotationdefaults": {
           "arrowhead": 0,
           "arrowwidth": 1
          },
          "autotypenumbers": "strict",
          "coloraxis": {
           "colorbar": {
            "outlinewidth": 1,
            "tickcolor": "rgb(36,36,36)",
            "ticks": "outside"
           }
          },
          "colorscale": {
           "diverging": [
            [
             0,
             "rgb(103,0,31)"
            ],
            [
             0.1,
             "rgb(178,24,43)"
            ],
            [
             0.2,
             "rgb(214,96,77)"
            ],
            [
             0.3,
             "rgb(244,165,130)"
            ],
            [
             0.4,
             "rgb(253,219,199)"
            ],
            [
             0.5,
             "rgb(247,247,247)"
            ],
            [
             0.6,
             "rgb(209,229,240)"
            ],
            [
             0.7,
             "rgb(146,197,222)"
            ],
            [
             0.8,
             "rgb(67,147,195)"
            ],
            [
             0.9,
             "rgb(33,102,172)"
            ],
            [
             1,
             "rgb(5,48,97)"
            ]
           ],
           "sequential": [
            [
             0,
             "#440154"
            ],
            [
             0.1111111111111111,
             "#482878"
            ],
            [
             0.2222222222222222,
             "#3e4989"
            ],
            [
             0.3333333333333333,
             "#31688e"
            ],
            [
             0.4444444444444444,
             "#26828e"
            ],
            [
             0.5555555555555556,
             "#1f9e89"
            ],
            [
             0.6666666666666666,
             "#35b779"
            ],
            [
             0.7777777777777778,
             "#6ece58"
            ],
            [
             0.8888888888888888,
             "#b5de2b"
            ],
            [
             1,
             "#fde725"
            ]
           ],
           "sequentialminus": [
            [
             0,
             "#440154"
            ],
            [
             0.1111111111111111,
             "#482878"
            ],
            [
             0.2222222222222222,
             "#3e4989"
            ],
            [
             0.3333333333333333,
             "#31688e"
            ],
            [
             0.4444444444444444,
             "#26828e"
            ],
            [
             0.5555555555555556,
             "#1f9e89"
            ],
            [
             0.6666666666666666,
             "#35b779"
            ],
            [
             0.7777777777777778,
             "#6ece58"
            ],
            [
             0.8888888888888888,
             "#b5de2b"
            ],
            [
             1,
             "#fde725"
            ]
           ]
          },
          "colorway": [
           "#1F77B4",
           "#FF7F0E",
           "#2CA02C",
           "#D62728",
           "#9467BD",
           "#8C564B",
           "#E377C2",
           "#7F7F7F",
           "#BCBD22",
           "#17BECF"
          ],
          "font": {
           "color": "rgb(36,36,36)"
          },
          "geo": {
           "bgcolor": "white",
           "lakecolor": "white",
           "landcolor": "white",
           "showlakes": true,
           "showland": true,
           "subunitcolor": "white"
          },
          "hoverlabel": {
           "align": "left"
          },
          "hovermode": "closest",
          "mapbox": {
           "style": "light"
          },
          "paper_bgcolor": "white",
          "plot_bgcolor": "white",
          "polar": {
           "angularaxis": {
            "gridcolor": "rgb(232,232,232)",
            "linecolor": "rgb(36,36,36)",
            "showgrid": false,
            "showline": true,
            "ticks": "outside"
           },
           "bgcolor": "white",
           "radialaxis": {
            "gridcolor": "rgb(232,232,232)",
            "linecolor": "rgb(36,36,36)",
            "showgrid": false,
            "showline": true,
            "ticks": "outside"
           }
          },
          "scene": {
           "xaxis": {
            "backgroundcolor": "white",
            "gridcolor": "rgb(232,232,232)",
            "gridwidth": 2,
            "linecolor": "rgb(36,36,36)",
            "showbackground": true,
            "showgrid": false,
            "showline": true,
            "ticks": "outside",
            "zeroline": false,
            "zerolinecolor": "rgb(36,36,36)"
           },
           "yaxis": {
            "backgroundcolor": "white",
            "gridcolor": "rgb(232,232,232)",
            "gridwidth": 2,
            "linecolor": "rgb(36,36,36)",
            "showbackground": true,
            "showgrid": false,
            "showline": true,
            "ticks": "outside",
            "zeroline": false,
            "zerolinecolor": "rgb(36,36,36)"
           },
           "zaxis": {
            "backgroundcolor": "white",
            "gridcolor": "rgb(232,232,232)",
            "gridwidth": 2,
            "linecolor": "rgb(36,36,36)",
            "showbackground": true,
            "showgrid": false,
            "showline": true,
            "ticks": "outside",
            "zeroline": false,
            "zerolinecolor": "rgb(36,36,36)"
           }
          },
          "shapedefaults": {
           "fillcolor": "black",
           "line": {
            "width": 0
           },
           "opacity": 0.3
          },
          "ternary": {
           "aaxis": {
            "gridcolor": "rgb(232,232,232)",
            "linecolor": "rgb(36,36,36)",
            "showgrid": false,
            "showline": true,
            "ticks": "outside"
           },
           "baxis": {
            "gridcolor": "rgb(232,232,232)",
            "linecolor": "rgb(36,36,36)",
            "showgrid": false,
            "showline": true,
            "ticks": "outside"
           },
           "bgcolor": "white",
           "caxis": {
            "gridcolor": "rgb(232,232,232)",
            "linecolor": "rgb(36,36,36)",
            "showgrid": false,
            "showline": true,
            "ticks": "outside"
           }
          },
          "title": {
           "x": 0.05
          },
          "xaxis": {
           "automargin": true,
           "gridcolor": "rgb(232,232,232)",
           "linecolor": "rgb(36,36,36)",
           "showgrid": false,
           "showline": true,
           "ticks": "outside",
           "title": {
            "standoff": 15
           },
           "zeroline": false,
           "zerolinecolor": "rgb(36,36,36)"
          },
          "yaxis": {
           "automargin": true,
           "gridcolor": "rgb(232,232,232)",
           "linecolor": "rgb(36,36,36)",
           "showgrid": false,
           "showline": true,
           "ticks": "outside",
           "title": {
            "standoff": 15
           },
           "zeroline": false,
           "zerolinecolor": "rgb(36,36,36)"
          }
         }
        },
        "title": {
         "text": "Gender Representation in MoMA Departments before and after 1983",
         "x": 0.5
        },
        "width": 1600,
        "xaxis": {
         "anchor": "y",
         "categoryarray": [
          "Male",
          "Female",
          "Collectives & Collabs",
          "Missing",
          "NB"
         ],
         "categoryorder": "array",
         "domain": [
          0,
          0.47
         ],
         "showticklabels": true,
         "title": {
          "text": "Gender"
         }
        },
        "xaxis2": {
         "anchor": "y2",
         "categoryarray": [
          "Male",
          "Female",
          "Collectives & Collabs",
          "Missing",
          "NB"
         ],
         "categoryorder": "array",
         "domain": [
          0.53,
          1
         ],
         "matches": "x",
         "showticklabels": true,
         "title": {
          "text": "Gender"
         }
        },
        "xaxis3": {
         "anchor": "y3",
         "categoryarray": [
          "Male",
          "Female",
          "Collectives & Collabs",
          "Missing",
          "NB"
         ],
         "categoryorder": "array",
         "domain": [
          0,
          0.47
         ],
         "matches": "x",
         "showticklabels": true
        },
        "xaxis4": {
         "anchor": "y4",
         "categoryarray": [
          "Male",
          "Female",
          "Collectives & Collabs",
          "Missing",
          "NB"
         ],
         "categoryorder": "array",
         "domain": [
          0.53,
          1
         ],
         "matches": "x",
         "showticklabels": true
        },
        "yaxis": {
         "anchor": "x",
         "domain": [
          0,
          0.46499999999999997
         ],
         "showticklabels": true,
         "title": {
          "text": "Counts"
         },
         "type": "log"
        },
        "yaxis2": {
         "anchor": "x2",
         "domain": [
          0,
          0.46499999999999997
         ],
         "matches": "y",
         "showticklabels": true,
         "type": "log"
        },
        "yaxis3": {
         "anchor": "x3",
         "domain": [
          0.5349999999999999,
          0.9999999999999999
         ],
         "matches": "y",
         "showticklabels": true,
         "title": {
          "text": "Counts"
         },
         "type": "log"
        },
        "yaxis4": {
         "anchor": "x4",
         "domain": [
          0.5349999999999999,
          0.9999999999999999
         ],
         "matches": "y",
         "showticklabels": true,
         "type": "log"
        }
       }
      },
      "text/html": [
       "<div>                            <div id=\"84f42a99-6826-49cd-9c47-30052f217444\" class=\"plotly-graph-div\" style=\"height:800px; width:1600px;\"></div>            <script type=\"text/javascript\">                require([\"plotly\"], function(Plotly) {                    window.PLOTLYENV=window.PLOTLYENV || {};                                    if (document.getElementById(\"84f42a99-6826-49cd-9c47-30052f217444\")) {                    Plotly.newPlot(                        \"84f42a99-6826-49cd-9c47-30052f217444\",                        [{\"alignmentgroup\":\"True\",\"legendgroup\":\"Before 1983\",\"marker\":{\"color\":\"#49599a\",\"pattern\":{\"shape\":\"\"}},\"name\":\"Before 1983\",\"offsetgroup\":\"Before 1983\",\"orientation\":\"v\",\"showlegend\":true,\"text\":[8805.0,1398.0,1092.0,564.0],\"textposition\":\"auto\",\"x\":[\"Male\",\"Missing\",\"Female\",\"Collectives & Collabs\"],\"xaxis\":\"x3\",\"y\":[8805,1398,1092,564],\"yaxis\":\"y3\",\"type\":\"bar\",\"hoverinfo\":\"x+y\"},{\"alignmentgroup\":\"True\",\"legendgroup\":\"Before 1983\",\"marker\":{\"color\":\"#49599a\",\"pattern\":{\"shape\":\"\"}},\"name\":\"Before 1983\",\"offsetgroup\":\"Before 1983\",\"orientation\":\"v\",\"showlegend\":false,\"text\":[307.0,119.0,60.0,4.0],\"textposition\":\"auto\",\"x\":[\"Male\",\"Female\",\"Collectives & Collabs\",\"Missing\"],\"xaxis\":\"x4\",\"y\":[307,119,60,4],\"yaxis\":\"y4\",\"type\":\"bar\",\"hoverinfo\":\"x+y\"},{\"alignmentgroup\":\"True\",\"legendgroup\":\"Before 1983\",\"marker\":{\"color\":\"#49599a\",\"pattern\":{\"shape\":\"\"}},\"name\":\"Before 1983\",\"offsetgroup\":\"Before 1983\",\"orientation\":\"v\",\"showlegend\":false,\"text\":[193.0,165.0,86.0,22.0],\"textposition\":\"auto\",\"x\":[\"Collectives & Collabs\",\"Male\",\"Missing\",\"Female\"],\"xaxis\":\"x\",\"y\":[193,165,86,22],\"yaxis\":\"y\",\"type\":\"bar\",\"hoverinfo\":\"x+y\"},{\"alignmentgroup\":\"True\",\"legendgroup\":\"Before 1983\",\"marker\":{\"color\":\"#49599a\",\"pattern\":{\"shape\":\"\"}},\"name\":\"Before 1983\",\"offsetgroup\":\"Before 1983\",\"orientation\":\"v\",\"showlegend\":false,\"text\":[20840.0,1801.0,716.0,700.0],\"textposition\":\"auto\",\"x\":[\"Male\",\"Female\",\"Missing\",\"Collectives & Collabs\"],\"xaxis\":\"x2\",\"y\":[20840,1801,716,700],\"yaxis\":\"y2\",\"type\":\"bar\",\"hoverinfo\":\"x+y\"},{\"alignmentgroup\":\"True\",\"legendgroup\":\"After 1983\",\"marker\":{\"color\":\"#aab6fe\",\"pattern\":{\"shape\":\"\"}},\"name\":\"After 1983\",\"offsetgroup\":\"After 1983\",\"orientation\":\"v\",\"showlegend\":true,\"text\":[3027.0,1115.0,92.0,80.0],\"textposition\":\"auto\",\"x\":[\"Male\",\"Female\",\"Collectives & Collabs\",\"Missing\"],\"xaxis\":\"x3\",\"y\":[3027,1115,92,80],\"yaxis\":\"y3\",\"type\":\"bar\",\"hoverinfo\":\"x+y\"},{\"alignmentgroup\":\"True\",\"legendgroup\":\"After 1983\",\"marker\":{\"color\":\"#aab6fe\",\"pattern\":{\"shape\":\"\"}},\"name\":\"After 1983\",\"offsetgroup\":\"After 1983\",\"orientation\":\"v\",\"showlegend\":false,\"text\":[1126.0,367.0,297.0,10.0,9.0],\"textposition\":\"auto\",\"x\":[\"Male\",\"Female\",\"Collectives & Collabs\",\"NB\",\"Missing\"],\"xaxis\":\"x4\",\"y\":[1126,367,297,10,9],\"yaxis\":\"y4\",\"type\":\"bar\",\"hoverinfo\":\"x+y\"},{\"alignmentgroup\":\"True\",\"legendgroup\":\"After 1983\",\"marker\":{\"color\":\"#aab6fe\",\"pattern\":{\"shape\":\"\"}},\"name\":\"After 1983\",\"offsetgroup\":\"After 1983\",\"orientation\":\"v\",\"showlegend\":false,\"text\":[253.0,73.0,51.0,31.0],\"textposition\":\"auto\",\"x\":[\"Male\",\"Female\",\"Missing\",\"Collectives & Collabs\"],\"xaxis\":\"x\",\"y\":[253,73,51,31],\"yaxis\":\"y\",\"type\":\"bar\",\"hoverinfo\":\"x+y\"},{\"alignmentgroup\":\"True\",\"legendgroup\":\"After 1983\",\"marker\":{\"color\":\"#aab6fe\",\"pattern\":{\"shape\":\"\"}},\"name\":\"After 1983\",\"offsetgroup\":\"After 1983\",\"orientation\":\"v\",\"showlegend\":false,\"text\":[12658.0,6329.0,841.0,337.0],\"textposition\":\"auto\",\"x\":[\"Male\",\"Female\",\"Collectives & Collabs\",\"Missing\"],\"xaxis\":\"x2\",\"y\":[12658,6329,841,337],\"yaxis\":\"y2\",\"type\":\"bar\",\"hoverinfo\":\"x+y\"}],                        {\"template\":{\"data\":{\"histogram2dcontour\":[{\"type\":\"histogram2dcontour\",\"colorbar\":{\"outlinewidth\":1,\"tickcolor\":\"rgb(36,36,36)\",\"ticks\":\"outside\"},\"colorscale\":[[0.0,\"#440154\"],[0.1111111111111111,\"#482878\"],[0.2222222222222222,\"#3e4989\"],[0.3333333333333333,\"#31688e\"],[0.4444444444444444,\"#26828e\"],[0.5555555555555556,\"#1f9e89\"],[0.6666666666666666,\"#35b779\"],[0.7777777777777778,\"#6ece58\"],[0.8888888888888888,\"#b5de2b\"],[1.0,\"#fde725\"]]}],\"choropleth\":[{\"type\":\"choropleth\",\"colorbar\":{\"outlinewidth\":1,\"tickcolor\":\"rgb(36,36,36)\",\"ticks\":\"outside\"}}],\"histogram2d\":[{\"type\":\"histogram2d\",\"colorbar\":{\"outlinewidth\":1,\"tickcolor\":\"rgb(36,36,36)\",\"ticks\":\"outside\"},\"colorscale\":[[0.0,\"#440154\"],[0.1111111111111111,\"#482878\"],[0.2222222222222222,\"#3e4989\"],[0.3333333333333333,\"#31688e\"],[0.4444444444444444,\"#26828e\"],[0.5555555555555556,\"#1f9e89\"],[0.6666666666666666,\"#35b779\"],[0.7777777777777778,\"#6ece58\"],[0.8888888888888888,\"#b5de2b\"],[1.0,\"#fde725\"]]}],\"heatmap\":[{\"type\":\"heatmap\",\"colorbar\":{\"outlinewidth\":1,\"tickcolor\":\"rgb(36,36,36)\",\"ticks\":\"outside\"},\"colorscale\":[[0.0,\"#440154\"],[0.1111111111111111,\"#482878\"],[0.2222222222222222,\"#3e4989\"],[0.3333333333333333,\"#31688e\"],[0.4444444444444444,\"#26828e\"],[0.5555555555555556,\"#1f9e89\"],[0.6666666666666666,\"#35b779\"],[0.7777777777777778,\"#6ece58\"],[0.8888888888888888,\"#b5de2b\"],[1.0,\"#fde725\"]]}],\"heatmapgl\":[{\"type\":\"heatmapgl\",\"colorbar\":{\"outlinewidth\":1,\"tickcolor\":\"rgb(36,36,36)\",\"ticks\":\"outside\"},\"colorscale\":[[0.0,\"#440154\"],[0.1111111111111111,\"#482878\"],[0.2222222222222222,\"#3e4989\"],[0.3333333333333333,\"#31688e\"],[0.4444444444444444,\"#26828e\"],[0.5555555555555556,\"#1f9e89\"],[0.6666666666666666,\"#35b779\"],[0.7777777777777778,\"#6ece58\"],[0.8888888888888888,\"#b5de2b\"],[1.0,\"#fde725\"]]}],\"contourcarpet\":[{\"type\":\"contourcarpet\",\"colorbar\":{\"outlinewidth\":1,\"tickcolor\":\"rgb(36,36,36)\",\"ticks\":\"outside\"}}],\"contour\":[{\"type\":\"contour\",\"colorbar\":{\"outlinewidth\":1,\"tickcolor\":\"rgb(36,36,36)\",\"ticks\":\"outside\"},\"colorscale\":[[0.0,\"#440154\"],[0.1111111111111111,\"#482878\"],[0.2222222222222222,\"#3e4989\"],[0.3333333333333333,\"#31688e\"],[0.4444444444444444,\"#26828e\"],[0.5555555555555556,\"#1f9e89\"],[0.6666666666666666,\"#35b779\"],[0.7777777777777778,\"#6ece58\"],[0.8888888888888888,\"#b5de2b\"],[1.0,\"#fde725\"]]}],\"surface\":[{\"type\":\"surface\",\"colorbar\":{\"outlinewidth\":1,\"tickcolor\":\"rgb(36,36,36)\",\"ticks\":\"outside\"},\"colorscale\":[[0.0,\"#440154\"],[0.1111111111111111,\"#482878\"],[0.2222222222222222,\"#3e4989\"],[0.3333333333333333,\"#31688e\"],[0.4444444444444444,\"#26828e\"],[0.5555555555555556,\"#1f9e89\"],[0.6666666666666666,\"#35b779\"],[0.7777777777777778,\"#6ece58\"],[0.8888888888888888,\"#b5de2b\"],[1.0,\"#fde725\"]]}],\"mesh3d\":[{\"type\":\"mesh3d\",\"colorbar\":{\"outlinewidth\":1,\"tickcolor\":\"rgb(36,36,36)\",\"ticks\":\"outside\"}}],\"scatter\":[{\"fillpattern\":{\"fillmode\":\"overlay\",\"size\":10,\"solidity\":0.2},\"type\":\"scatter\"}],\"parcoords\":[{\"type\":\"parcoords\",\"line\":{\"colorbar\":{\"outlinewidth\":1,\"tickcolor\":\"rgb(36,36,36)\",\"ticks\":\"outside\"}}}],\"scatterpolargl\":[{\"type\":\"scatterpolargl\",\"marker\":{\"colorbar\":{\"outlinewidth\":1,\"tickcolor\":\"rgb(36,36,36)\",\"ticks\":\"outside\"}}}],\"bar\":[{\"error_x\":{\"color\":\"rgb(36,36,36)\"},\"error_y\":{\"color\":\"rgb(36,36,36)\"},\"marker\":{\"line\":{\"color\":\"white\",\"width\":0.5},\"pattern\":{\"fillmode\":\"overlay\",\"size\":10,\"solidity\":0.2}},\"type\":\"bar\"}],\"scattergeo\":[{\"type\":\"scattergeo\",\"marker\":{\"colorbar\":{\"outlinewidth\":1,\"tickcolor\":\"rgb(36,36,36)\",\"ticks\":\"outside\"}}}],\"scatterpolar\":[{\"type\":\"scatterpolar\",\"marker\":{\"colorbar\":{\"outlinewidth\":1,\"tickcolor\":\"rgb(36,36,36)\",\"ticks\":\"outside\"}}}],\"histogram\":[{\"marker\":{\"line\":{\"color\":\"white\",\"width\":0.6}},\"type\":\"histogram\"}],\"scattergl\":[{\"type\":\"scattergl\",\"marker\":{\"colorbar\":{\"outlinewidth\":1,\"tickcolor\":\"rgb(36,36,36)\",\"ticks\":\"outside\"}}}],\"scatter3d\":[{\"type\":\"scatter3d\",\"line\":{\"colorbar\":{\"outlinewidth\":1,\"tickcolor\":\"rgb(36,36,36)\",\"ticks\":\"outside\"}},\"marker\":{\"colorbar\":{\"outlinewidth\":1,\"tickcolor\":\"rgb(36,36,36)\",\"ticks\":\"outside\"}}}],\"scattermapbox\":[{\"type\":\"scattermapbox\",\"marker\":{\"colorbar\":{\"outlinewidth\":1,\"tickcolor\":\"rgb(36,36,36)\",\"ticks\":\"outside\"}}}],\"scatterternary\":[{\"type\":\"scatterternary\",\"marker\":{\"colorbar\":{\"outlinewidth\":1,\"tickcolor\":\"rgb(36,36,36)\",\"ticks\":\"outside\"}}}],\"scattercarpet\":[{\"type\":\"scattercarpet\",\"marker\":{\"colorbar\":{\"outlinewidth\":1,\"tickcolor\":\"rgb(36,36,36)\",\"ticks\":\"outside\"}}}],\"carpet\":[{\"aaxis\":{\"endlinecolor\":\"rgb(36,36,36)\",\"gridcolor\":\"white\",\"linecolor\":\"white\",\"minorgridcolor\":\"white\",\"startlinecolor\":\"rgb(36,36,36)\"},\"baxis\":{\"endlinecolor\":\"rgb(36,36,36)\",\"gridcolor\":\"white\",\"linecolor\":\"white\",\"minorgridcolor\":\"white\",\"startlinecolor\":\"rgb(36,36,36)\"},\"type\":\"carpet\"}],\"table\":[{\"cells\":{\"fill\":{\"color\":\"rgb(237,237,237)\"},\"line\":{\"color\":\"white\"}},\"header\":{\"fill\":{\"color\":\"rgb(217,217,217)\"},\"line\":{\"color\":\"white\"}},\"type\":\"table\"}],\"barpolar\":[{\"marker\":{\"line\":{\"color\":\"white\",\"width\":0.5},\"pattern\":{\"fillmode\":\"overlay\",\"size\":10,\"solidity\":0.2}},\"type\":\"barpolar\"}],\"pie\":[{\"automargin\":true,\"type\":\"pie\"}]},\"layout\":{\"autotypenumbers\":\"strict\",\"colorway\":[\"#1F77B4\",\"#FF7F0E\",\"#2CA02C\",\"#D62728\",\"#9467BD\",\"#8C564B\",\"#E377C2\",\"#7F7F7F\",\"#BCBD22\",\"#17BECF\"],\"font\":{\"color\":\"rgb(36,36,36)\"},\"hovermode\":\"closest\",\"hoverlabel\":{\"align\":\"left\"},\"paper_bgcolor\":\"white\",\"plot_bgcolor\":\"white\",\"polar\":{\"bgcolor\":\"white\",\"angularaxis\":{\"gridcolor\":\"rgb(232,232,232)\",\"linecolor\":\"rgb(36,36,36)\",\"showgrid\":false,\"showline\":true,\"ticks\":\"outside\"},\"radialaxis\":{\"gridcolor\":\"rgb(232,232,232)\",\"linecolor\":\"rgb(36,36,36)\",\"showgrid\":false,\"showline\":true,\"ticks\":\"outside\"}},\"ternary\":{\"bgcolor\":\"white\",\"aaxis\":{\"gridcolor\":\"rgb(232,232,232)\",\"linecolor\":\"rgb(36,36,36)\",\"showgrid\":false,\"showline\":true,\"ticks\":\"outside\"},\"baxis\":{\"gridcolor\":\"rgb(232,232,232)\",\"linecolor\":\"rgb(36,36,36)\",\"showgrid\":false,\"showline\":true,\"ticks\":\"outside\"},\"caxis\":{\"gridcolor\":\"rgb(232,232,232)\",\"linecolor\":\"rgb(36,36,36)\",\"showgrid\":false,\"showline\":true,\"ticks\":\"outside\"}},\"coloraxis\":{\"colorbar\":{\"outlinewidth\":1,\"tickcolor\":\"rgb(36,36,36)\",\"ticks\":\"outside\"}},\"colorscale\":{\"sequential\":[[0.0,\"#440154\"],[0.1111111111111111,\"#482878\"],[0.2222222222222222,\"#3e4989\"],[0.3333333333333333,\"#31688e\"],[0.4444444444444444,\"#26828e\"],[0.5555555555555556,\"#1f9e89\"],[0.6666666666666666,\"#35b779\"],[0.7777777777777778,\"#6ece58\"],[0.8888888888888888,\"#b5de2b\"],[1.0,\"#fde725\"]],\"sequentialminus\":[[0.0,\"#440154\"],[0.1111111111111111,\"#482878\"],[0.2222222222222222,\"#3e4989\"],[0.3333333333333333,\"#31688e\"],[0.4444444444444444,\"#26828e\"],[0.5555555555555556,\"#1f9e89\"],[0.6666666666666666,\"#35b779\"],[0.7777777777777778,\"#6ece58\"],[0.8888888888888888,\"#b5de2b\"],[1.0,\"#fde725\"]],\"diverging\":[[0.0,\"rgb(103,0,31)\"],[0.1,\"rgb(178,24,43)\"],[0.2,\"rgb(214,96,77)\"],[0.3,\"rgb(244,165,130)\"],[0.4,\"rgb(253,219,199)\"],[0.5,\"rgb(247,247,247)\"],[0.6,\"rgb(209,229,240)\"],[0.7,\"rgb(146,197,222)\"],[0.8,\"rgb(67,147,195)\"],[0.9,\"rgb(33,102,172)\"],[1.0,\"rgb(5,48,97)\"]]},\"xaxis\":{\"gridcolor\":\"rgb(232,232,232)\",\"linecolor\":\"rgb(36,36,36)\",\"showgrid\":false,\"showline\":true,\"ticks\":\"outside\",\"title\":{\"standoff\":15},\"zerolinecolor\":\"rgb(36,36,36)\",\"automargin\":true,\"zeroline\":false},\"yaxis\":{\"gridcolor\":\"rgb(232,232,232)\",\"linecolor\":\"rgb(36,36,36)\",\"showgrid\":false,\"showline\":true,\"ticks\":\"outside\",\"title\":{\"standoff\":15},\"zerolinecolor\":\"rgb(36,36,36)\",\"automargin\":true,\"zeroline\":false},\"scene\":{\"xaxis\":{\"backgroundcolor\":\"white\",\"gridcolor\":\"rgb(232,232,232)\",\"linecolor\":\"rgb(36,36,36)\",\"showbackground\":true,\"showgrid\":false,\"showline\":true,\"ticks\":\"outside\",\"zerolinecolor\":\"rgb(36,36,36)\",\"gridwidth\":2,\"zeroline\":false},\"yaxis\":{\"backgroundcolor\":\"white\",\"gridcolor\":\"rgb(232,232,232)\",\"linecolor\":\"rgb(36,36,36)\",\"showbackground\":true,\"showgrid\":false,\"showline\":true,\"ticks\":\"outside\",\"zerolinecolor\":\"rgb(36,36,36)\",\"gridwidth\":2,\"zeroline\":false},\"zaxis\":{\"backgroundcolor\":\"white\",\"gridcolor\":\"rgb(232,232,232)\",\"linecolor\":\"rgb(36,36,36)\",\"showbackground\":true,\"showgrid\":false,\"showline\":true,\"ticks\":\"outside\",\"zerolinecolor\":\"rgb(36,36,36)\",\"gridwidth\":2,\"zeroline\":false}},\"shapedefaults\":{\"fillcolor\":\"black\",\"line\":{\"width\":0},\"opacity\":0.3},\"annotationdefaults\":{\"arrowhead\":0,\"arrowwidth\":1},\"geo\":{\"bgcolor\":\"white\",\"landcolor\":\"white\",\"subunitcolor\":\"white\",\"showland\":true,\"showlakes\":true,\"lakecolor\":\"white\"},\"title\":{\"x\":0.05},\"mapbox\":{\"style\":\"light\"}}},\"xaxis\":{\"anchor\":\"y\",\"domain\":[0.0,0.47],\"title\":{\"text\":\"Gender\"},\"showticklabels\":true,\"categoryorder\":\"array\",\"categoryarray\":[\"Male\",\"Female\",\"Collectives & Collabs\",\"Missing\",\"NB\"]},\"yaxis\":{\"anchor\":\"x\",\"domain\":[0.0,0.46499999999999997],\"title\":{\"text\":\"Counts\"},\"type\":\"log\",\"showticklabels\":true},\"xaxis2\":{\"anchor\":\"y2\",\"domain\":[0.53,1.0],\"matches\":\"x\",\"title\":{\"text\":\"Gender\"},\"showticklabels\":true,\"categoryorder\":\"array\",\"categoryarray\":[\"Male\",\"Female\",\"Collectives & Collabs\",\"Missing\",\"NB\"]},\"yaxis2\":{\"anchor\":\"x2\",\"domain\":[0.0,0.46499999999999997],\"matches\":\"y\",\"showticklabels\":true,\"type\":\"log\"},\"xaxis3\":{\"anchor\":\"y3\",\"domain\":[0.0,0.47],\"matches\":\"x\",\"showticklabels\":true,\"categoryorder\":\"array\",\"categoryarray\":[\"Male\",\"Female\",\"Collectives & Collabs\",\"Missing\",\"NB\"]},\"yaxis3\":{\"anchor\":\"x3\",\"domain\":[0.5349999999999999,0.9999999999999999],\"matches\":\"y\",\"title\":{\"text\":\"Counts\"},\"type\":\"log\",\"showticklabels\":true},\"xaxis4\":{\"anchor\":\"y4\",\"domain\":[0.53,1.0],\"matches\":\"x\",\"showticklabels\":true,\"categoryorder\":\"array\",\"categoryarray\":[\"Male\",\"Female\",\"Collectives & Collabs\",\"Missing\",\"NB\"]},\"yaxis4\":{\"anchor\":\"x4\",\"domain\":[0.5349999999999999,0.9999999999999999],\"matches\":\"y\",\"showticklabels\":true,\"type\":\"log\"},\"annotations\":[{\"font\":{},\"showarrow\":false,\"text\":\"Department=Film\",\"x\":0.235,\"xanchor\":\"center\",\"xref\":\"paper\",\"y\":0.46499999999999997,\"yanchor\":\"bottom\",\"yref\":\"paper\"},{\"font\":{},\"showarrow\":false,\"text\":\"Department=Drawings & Prints\",\"x\":0.765,\"xanchor\":\"center\",\"xref\":\"paper\",\"y\":0.46499999999999997,\"yanchor\":\"bottom\",\"yref\":\"paper\"},{\"font\":{},\"showarrow\":false,\"text\":\"Department=Photography\",\"x\":0.235,\"xanchor\":\"center\",\"xref\":\"paper\",\"y\":0.9999999999999999,\"yanchor\":\"bottom\",\"yref\":\"paper\"},{\"font\":{},\"showarrow\":false,\"text\":\"Department=Media and Performance\",\"x\":0.765,\"xanchor\":\"center\",\"xref\":\"paper\",\"y\":0.9999999999999999,\"yanchor\":\"bottom\",\"yref\":\"paper\"}],\"legend\":{\"title\":{\"text\":\"Period\"},\"tracegroupgap\":0},\"title\":{\"text\":\"Gender Representation in MoMA Departments before and after 1983\",\"x\":0.5},\"barmode\":\"group\",\"height\":800,\"width\":1600},                        {\"responsive\": true}                    ).then(function(){\n",
       "                            \n",
       "var gd = document.getElementById('84f42a99-6826-49cd-9c47-30052f217444');\n",
       "var x = new MutationObserver(function (mutations, observer) {{\n",
       "        var display = window.getComputedStyle(gd).display;\n",
       "        if (!display || display === 'none') {{\n",
       "            console.log([gd, 'removed!']);\n",
       "            Plotly.purge(gd);\n",
       "            observer.disconnect();\n",
       "        }}\n",
       "}});\n",
       "\n",
       "// Listen for the removal of the full notebook cells\n",
       "var notebookContainer = gd.closest('#notebook-container');\n",
       "if (notebookContainer) {{\n",
       "    x.observe(notebookContainer, {childList: true});\n",
       "}}\n",
       "\n",
       "// Listen for the clearing of the current output cell\n",
       "var outputEl = gd.closest('.output');\n",
       "if (outputEl) {{\n",
       "    x.observe(outputEl, {childList: true});\n",
       "}}\n",
       "\n",
       "                        })                };                });            </script>        </div>"
      ]
     },
     "metadata": {},
     "output_type": "display_data"
    }
   ],
   "source": [
    "fig = px.bar(moma_depts_gender_rep_all, x=\"Gender\", y=\"Counts\", color=\"Period\", facet_col=\"Department\",\n",
    "    facet_col_spacing=0.06,  facet_col_wrap=2, title=\"Gender Representation in MoMA Departments before and after 1983\",\n",
    "    barmode='group', log_y=True,color_discrete_map={\"Before 1983\": \"#49599a\", \"After 1983\": \"#aab6fe\"},\n",
    "    category_orders={\"Period\": [\"Before 1983\", 'After 1983']}, text='Counts')\n",
    "fig.update_xaxes(showticklabels=True, categoryorder='array', categoryarray=['Male', 'Female', 'Collectives & Collabs', 'Missing', 'NB'])\n",
    "fig.update_yaxes(showticklabels=True)\n",
    "fig.update_traces(textposition=\"auto\", hoverinfo='x+y', hovertemplate=None)\n",
    "fig.update_layout(height=800, width=1600, title_x=0.5)\n",
    "fig.show()"
   ]
  },
  {
   "cell_type": "code",
   "execution_count": 13,
   "metadata": {},
   "outputs": [
    {
     "data": {
      "application/vnd.plotly.v1+json": {
       "config": {
        "plotlyServerURL": "https://plot.ly"
       },
       "data": [
        {
         "alignmentgroup": "True",
         "hoverinfo": "x+y",
         "legendgroup": "Before 1983",
         "marker": {
          "color": "#49599a",
          "pattern": {
           "shape": ""
          }
         },
         "name": "Before 1983",
         "offsetgroup": "Before 1983",
         "orientation": "v",
         "showlegend": true,
         "text": [
          8805,
          1398,
          1092,
          564
         ],
         "textposition": "auto",
         "type": "bar",
         "x": [
          "Male",
          "Missing",
          "Female",
          "Collectives & Collabs"
         ],
         "xaxis": "x3",
         "y": [
          8805,
          1398,
          1092,
          564
         ],
         "yaxis": "y3"
        },
        {
         "alignmentgroup": "True",
         "hoverinfo": "x+y",
         "legendgroup": "Before 1983",
         "marker": {
          "color": "#49599a",
          "pattern": {
           "shape": ""
          }
         },
         "name": "Before 1983",
         "offsetgroup": "Before 1983",
         "orientation": "v",
         "showlegend": false,
         "text": [
          307,
          119,
          60,
          4
         ],
         "textposition": "auto",
         "type": "bar",
         "x": [
          "Male",
          "Female",
          "Collectives & Collabs",
          "Missing"
         ],
         "xaxis": "x4",
         "y": [
          307,
          119,
          60,
          4
         ],
         "yaxis": "y4"
        },
        {
         "alignmentgroup": "True",
         "hoverinfo": "x+y",
         "legendgroup": "Before 1983",
         "marker": {
          "color": "#49599a",
          "pattern": {
           "shape": ""
          }
         },
         "name": "Before 1983",
         "offsetgroup": "Before 1983",
         "orientation": "v",
         "showlegend": false,
         "text": [
          193,
          165,
          86,
          22
         ],
         "textposition": "auto",
         "type": "bar",
         "x": [
          "Collectives & Collabs",
          "Male",
          "Missing",
          "Female"
         ],
         "xaxis": "x",
         "y": [
          193,
          165,
          86,
          22
         ],
         "yaxis": "y"
        },
        {
         "alignmentgroup": "True",
         "hoverinfo": "x+y",
         "legendgroup": "Before 1983",
         "marker": {
          "color": "#49599a",
          "pattern": {
           "shape": ""
          }
         },
         "name": "Before 1983",
         "offsetgroup": "Before 1983",
         "orientation": "v",
         "showlegend": false,
         "text": [
          20840,
          1801,
          716,
          700
         ],
         "textposition": "auto",
         "type": "bar",
         "x": [
          "Male",
          "Female",
          "Missing",
          "Collectives & Collabs"
         ],
         "xaxis": "x2",
         "y": [
          20840,
          1801,
          716,
          700
         ],
         "yaxis": "y2"
        },
        {
         "alignmentgroup": "True",
         "hoverinfo": "x+y",
         "legendgroup": "After 1983",
         "marker": {
          "color": "#aab6fe",
          "pattern": {
           "shape": ""
          }
         },
         "name": "After 1983",
         "offsetgroup": "After 1983",
         "orientation": "v",
         "showlegend": true,
         "text": [
          3027,
          1115,
          92,
          80
         ],
         "textposition": "auto",
         "type": "bar",
         "x": [
          "Male",
          "Female",
          "Collectives & Collabs",
          "Missing"
         ],
         "xaxis": "x3",
         "y": [
          3027,
          1115,
          92,
          80
         ],
         "yaxis": "y3"
        },
        {
         "alignmentgroup": "True",
         "hoverinfo": "x+y",
         "legendgroup": "After 1983",
         "marker": {
          "color": "#aab6fe",
          "pattern": {
           "shape": ""
          }
         },
         "name": "After 1983",
         "offsetgroup": "After 1983",
         "orientation": "v",
         "showlegend": false,
         "text": [
          1126,
          367,
          297,
          10,
          9
         ],
         "textposition": "auto",
         "type": "bar",
         "x": [
          "Male",
          "Female",
          "Collectives & Collabs",
          "NB",
          "Missing"
         ],
         "xaxis": "x4",
         "y": [
          1126,
          367,
          297,
          10,
          9
         ],
         "yaxis": "y4"
        },
        {
         "alignmentgroup": "True",
         "hoverinfo": "x+y",
         "legendgroup": "After 1983",
         "marker": {
          "color": "#aab6fe",
          "pattern": {
           "shape": ""
          }
         },
         "name": "After 1983",
         "offsetgroup": "After 1983",
         "orientation": "v",
         "showlegend": false,
         "text": [
          253,
          73,
          51,
          31
         ],
         "textposition": "auto",
         "type": "bar",
         "x": [
          "Male",
          "Female",
          "Missing",
          "Collectives & Collabs"
         ],
         "xaxis": "x",
         "y": [
          253,
          73,
          51,
          31
         ],
         "yaxis": "y"
        },
        {
         "alignmentgroup": "True",
         "hoverinfo": "x+y",
         "legendgroup": "After 1983",
         "marker": {
          "color": "#aab6fe",
          "pattern": {
           "shape": ""
          }
         },
         "name": "After 1983",
         "offsetgroup": "After 1983",
         "orientation": "v",
         "showlegend": false,
         "text": [
          12658,
          6329,
          841,
          337
         ],
         "textposition": "auto",
         "type": "bar",
         "x": [
          "Male",
          "Female",
          "Collectives & Collabs",
          "Missing"
         ],
         "xaxis": "x2",
         "y": [
          12658,
          6329,
          841,
          337
         ],
         "yaxis": "y2"
        }
       ],
       "layout": {
        "annotations": [
         {
          "font": {},
          "showarrow": false,
          "text": "Department=Film",
          "x": 0.235,
          "xanchor": "center",
          "xref": "paper",
          "y": 0.46499999999999997,
          "yanchor": "bottom",
          "yref": "paper"
         },
         {
          "font": {},
          "showarrow": false,
          "text": "Department=Drawings & Prints",
          "x": 0.765,
          "xanchor": "center",
          "xref": "paper",
          "y": 0.46499999999999997,
          "yanchor": "bottom",
          "yref": "paper"
         },
         {
          "font": {},
          "showarrow": false,
          "text": "Department=Photography",
          "x": 0.235,
          "xanchor": "center",
          "xref": "paper",
          "y": 0.9999999999999999,
          "yanchor": "bottom",
          "yref": "paper"
         },
         {
          "font": {},
          "showarrow": false,
          "text": "Department=Media and Performance",
          "x": 0.765,
          "xanchor": "center",
          "xref": "paper",
          "y": 0.9999999999999999,
          "yanchor": "bottom",
          "yref": "paper"
         }
        ],
        "barmode": "group",
        "height": 800,
        "legend": {
         "title": {
          "text": "Period"
         },
         "tracegroupgap": 0
        },
        "template": {
         "data": {
          "bar": [
           {
            "error_x": {
             "color": "rgb(36,36,36)"
            },
            "error_y": {
             "color": "rgb(36,36,36)"
            },
            "marker": {
             "line": {
              "color": "white",
              "width": 0.5
             },
             "pattern": {
              "fillmode": "overlay",
              "size": 10,
              "solidity": 0.2
             }
            },
            "type": "bar"
           }
          ],
          "barpolar": [
           {
            "marker": {
             "line": {
              "color": "white",
              "width": 0.5
             },
             "pattern": {
              "fillmode": "overlay",
              "size": 10,
              "solidity": 0.2
             }
            },
            "type": "barpolar"
           }
          ],
          "carpet": [
           {
            "aaxis": {
             "endlinecolor": "rgb(36,36,36)",
             "gridcolor": "white",
             "linecolor": "white",
             "minorgridcolor": "white",
             "startlinecolor": "rgb(36,36,36)"
            },
            "baxis": {
             "endlinecolor": "rgb(36,36,36)",
             "gridcolor": "white",
             "linecolor": "white",
             "minorgridcolor": "white",
             "startlinecolor": "rgb(36,36,36)"
            },
            "type": "carpet"
           }
          ],
          "choropleth": [
           {
            "colorbar": {
             "outlinewidth": 1,
             "tickcolor": "rgb(36,36,36)",
             "ticks": "outside"
            },
            "type": "choropleth"
           }
          ],
          "contour": [
           {
            "colorbar": {
             "outlinewidth": 1,
             "tickcolor": "rgb(36,36,36)",
             "ticks": "outside"
            },
            "colorscale": [
             [
              0,
              "#440154"
             ],
             [
              0.1111111111111111,
              "#482878"
             ],
             [
              0.2222222222222222,
              "#3e4989"
             ],
             [
              0.3333333333333333,
              "#31688e"
             ],
             [
              0.4444444444444444,
              "#26828e"
             ],
             [
              0.5555555555555556,
              "#1f9e89"
             ],
             [
              0.6666666666666666,
              "#35b779"
             ],
             [
              0.7777777777777778,
              "#6ece58"
             ],
             [
              0.8888888888888888,
              "#b5de2b"
             ],
             [
              1,
              "#fde725"
             ]
            ],
            "type": "contour"
           }
          ],
          "contourcarpet": [
           {
            "colorbar": {
             "outlinewidth": 1,
             "tickcolor": "rgb(36,36,36)",
             "ticks": "outside"
            },
            "type": "contourcarpet"
           }
          ],
          "heatmap": [
           {
            "colorbar": {
             "outlinewidth": 1,
             "tickcolor": "rgb(36,36,36)",
             "ticks": "outside"
            },
            "colorscale": [
             [
              0,
              "#440154"
             ],
             [
              0.1111111111111111,
              "#482878"
             ],
             [
              0.2222222222222222,
              "#3e4989"
             ],
             [
              0.3333333333333333,
              "#31688e"
             ],
             [
              0.4444444444444444,
              "#26828e"
             ],
             [
              0.5555555555555556,
              "#1f9e89"
             ],
             [
              0.6666666666666666,
              "#35b779"
             ],
             [
              0.7777777777777778,
              "#6ece58"
             ],
             [
              0.8888888888888888,
              "#b5de2b"
             ],
             [
              1,
              "#fde725"
             ]
            ],
            "type": "heatmap"
           }
          ],
          "heatmapgl": [
           {
            "colorbar": {
             "outlinewidth": 1,
             "tickcolor": "rgb(36,36,36)",
             "ticks": "outside"
            },
            "colorscale": [
             [
              0,
              "#440154"
             ],
             [
              0.1111111111111111,
              "#482878"
             ],
             [
              0.2222222222222222,
              "#3e4989"
             ],
             [
              0.3333333333333333,
              "#31688e"
             ],
             [
              0.4444444444444444,
              "#26828e"
             ],
             [
              0.5555555555555556,
              "#1f9e89"
             ],
             [
              0.6666666666666666,
              "#35b779"
             ],
             [
              0.7777777777777778,
              "#6ece58"
             ],
             [
              0.8888888888888888,
              "#b5de2b"
             ],
             [
              1,
              "#fde725"
             ]
            ],
            "type": "heatmapgl"
           }
          ],
          "histogram": [
           {
            "marker": {
             "line": {
              "color": "white",
              "width": 0.6
             }
            },
            "type": "histogram"
           }
          ],
          "histogram2d": [
           {
            "colorbar": {
             "outlinewidth": 1,
             "tickcolor": "rgb(36,36,36)",
             "ticks": "outside"
            },
            "colorscale": [
             [
              0,
              "#440154"
             ],
             [
              0.1111111111111111,
              "#482878"
             ],
             [
              0.2222222222222222,
              "#3e4989"
             ],
             [
              0.3333333333333333,
              "#31688e"
             ],
             [
              0.4444444444444444,
              "#26828e"
             ],
             [
              0.5555555555555556,
              "#1f9e89"
             ],
             [
              0.6666666666666666,
              "#35b779"
             ],
             [
              0.7777777777777778,
              "#6ece58"
             ],
             [
              0.8888888888888888,
              "#b5de2b"
             ],
             [
              1,
              "#fde725"
             ]
            ],
            "type": "histogram2d"
           }
          ],
          "histogram2dcontour": [
           {
            "colorbar": {
             "outlinewidth": 1,
             "tickcolor": "rgb(36,36,36)",
             "ticks": "outside"
            },
            "colorscale": [
             [
              0,
              "#440154"
             ],
             [
              0.1111111111111111,
              "#482878"
             ],
             [
              0.2222222222222222,
              "#3e4989"
             ],
             [
              0.3333333333333333,
              "#31688e"
             ],
             [
              0.4444444444444444,
              "#26828e"
             ],
             [
              0.5555555555555556,
              "#1f9e89"
             ],
             [
              0.6666666666666666,
              "#35b779"
             ],
             [
              0.7777777777777778,
              "#6ece58"
             ],
             [
              0.8888888888888888,
              "#b5de2b"
             ],
             [
              1,
              "#fde725"
             ]
            ],
            "type": "histogram2dcontour"
           }
          ],
          "mesh3d": [
           {
            "colorbar": {
             "outlinewidth": 1,
             "tickcolor": "rgb(36,36,36)",
             "ticks": "outside"
            },
            "type": "mesh3d"
           }
          ],
          "parcoords": [
           {
            "line": {
             "colorbar": {
              "outlinewidth": 1,
              "tickcolor": "rgb(36,36,36)",
              "ticks": "outside"
             }
            },
            "type": "parcoords"
           }
          ],
          "pie": [
           {
            "automargin": true,
            "type": "pie"
           }
          ],
          "scatter": [
           {
            "fillpattern": {
             "fillmode": "overlay",
             "size": 10,
             "solidity": 0.2
            },
            "type": "scatter"
           }
          ],
          "scatter3d": [
           {
            "line": {
             "colorbar": {
              "outlinewidth": 1,
              "tickcolor": "rgb(36,36,36)",
              "ticks": "outside"
             }
            },
            "marker": {
             "colorbar": {
              "outlinewidth": 1,
              "tickcolor": "rgb(36,36,36)",
              "ticks": "outside"
             }
            },
            "type": "scatter3d"
           }
          ],
          "scattercarpet": [
           {
            "marker": {
             "colorbar": {
              "outlinewidth": 1,
              "tickcolor": "rgb(36,36,36)",
              "ticks": "outside"
             }
            },
            "type": "scattercarpet"
           }
          ],
          "scattergeo": [
           {
            "marker": {
             "colorbar": {
              "outlinewidth": 1,
              "tickcolor": "rgb(36,36,36)",
              "ticks": "outside"
             }
            },
            "type": "scattergeo"
           }
          ],
          "scattergl": [
           {
            "marker": {
             "colorbar": {
              "outlinewidth": 1,
              "tickcolor": "rgb(36,36,36)",
              "ticks": "outside"
             }
            },
            "type": "scattergl"
           }
          ],
          "scattermapbox": [
           {
            "marker": {
             "colorbar": {
              "outlinewidth": 1,
              "tickcolor": "rgb(36,36,36)",
              "ticks": "outside"
             }
            },
            "type": "scattermapbox"
           }
          ],
          "scatterpolar": [
           {
            "marker": {
             "colorbar": {
              "outlinewidth": 1,
              "tickcolor": "rgb(36,36,36)",
              "ticks": "outside"
             }
            },
            "type": "scatterpolar"
           }
          ],
          "scatterpolargl": [
           {
            "marker": {
             "colorbar": {
              "outlinewidth": 1,
              "tickcolor": "rgb(36,36,36)",
              "ticks": "outside"
             }
            },
            "type": "scatterpolargl"
           }
          ],
          "scatterternary": [
           {
            "marker": {
             "colorbar": {
              "outlinewidth": 1,
              "tickcolor": "rgb(36,36,36)",
              "ticks": "outside"
             }
            },
            "type": "scatterternary"
           }
          ],
          "surface": [
           {
            "colorbar": {
             "outlinewidth": 1,
             "tickcolor": "rgb(36,36,36)",
             "ticks": "outside"
            },
            "colorscale": [
             [
              0,
              "#440154"
             ],
             [
              0.1111111111111111,
              "#482878"
             ],
             [
              0.2222222222222222,
              "#3e4989"
             ],
             [
              0.3333333333333333,
              "#31688e"
             ],
             [
              0.4444444444444444,
              "#26828e"
             ],
             [
              0.5555555555555556,
              "#1f9e89"
             ],
             [
              0.6666666666666666,
              "#35b779"
             ],
             [
              0.7777777777777778,
              "#6ece58"
             ],
             [
              0.8888888888888888,
              "#b5de2b"
             ],
             [
              1,
              "#fde725"
             ]
            ],
            "type": "surface"
           }
          ],
          "table": [
           {
            "cells": {
             "fill": {
              "color": "rgb(237,237,237)"
             },
             "line": {
              "color": "white"
             }
            },
            "header": {
             "fill": {
              "color": "rgb(217,217,217)"
             },
             "line": {
              "color": "white"
             }
            },
            "type": "table"
           }
          ]
         },
         "layout": {
          "annotationdefaults": {
           "arrowhead": 0,
           "arrowwidth": 1
          },
          "autotypenumbers": "strict",
          "coloraxis": {
           "colorbar": {
            "outlinewidth": 1,
            "tickcolor": "rgb(36,36,36)",
            "ticks": "outside"
           }
          },
          "colorscale": {
           "diverging": [
            [
             0,
             "rgb(103,0,31)"
            ],
            [
             0.1,
             "rgb(178,24,43)"
            ],
            [
             0.2,
             "rgb(214,96,77)"
            ],
            [
             0.3,
             "rgb(244,165,130)"
            ],
            [
             0.4,
             "rgb(253,219,199)"
            ],
            [
             0.5,
             "rgb(247,247,247)"
            ],
            [
             0.6,
             "rgb(209,229,240)"
            ],
            [
             0.7,
             "rgb(146,197,222)"
            ],
            [
             0.8,
             "rgb(67,147,195)"
            ],
            [
             0.9,
             "rgb(33,102,172)"
            ],
            [
             1,
             "rgb(5,48,97)"
            ]
           ],
           "sequential": [
            [
             0,
             "#440154"
            ],
            [
             0.1111111111111111,
             "#482878"
            ],
            [
             0.2222222222222222,
             "#3e4989"
            ],
            [
             0.3333333333333333,
             "#31688e"
            ],
            [
             0.4444444444444444,
             "#26828e"
            ],
            [
             0.5555555555555556,
             "#1f9e89"
            ],
            [
             0.6666666666666666,
             "#35b779"
            ],
            [
             0.7777777777777778,
             "#6ece58"
            ],
            [
             0.8888888888888888,
             "#b5de2b"
            ],
            [
             1,
             "#fde725"
            ]
           ],
           "sequentialminus": [
            [
             0,
             "#440154"
            ],
            [
             0.1111111111111111,
             "#482878"
            ],
            [
             0.2222222222222222,
             "#3e4989"
            ],
            [
             0.3333333333333333,
             "#31688e"
            ],
            [
             0.4444444444444444,
             "#26828e"
            ],
            [
             0.5555555555555556,
             "#1f9e89"
            ],
            [
             0.6666666666666666,
             "#35b779"
            ],
            [
             0.7777777777777778,
             "#6ece58"
            ],
            [
             0.8888888888888888,
             "#b5de2b"
            ],
            [
             1,
             "#fde725"
            ]
           ]
          },
          "colorway": [
           "#1F77B4",
           "#FF7F0E",
           "#2CA02C",
           "#D62728",
           "#9467BD",
           "#8C564B",
           "#E377C2",
           "#7F7F7F",
           "#BCBD22",
           "#17BECF"
          ],
          "font": {
           "color": "rgb(36,36,36)"
          },
          "geo": {
           "bgcolor": "white",
           "lakecolor": "white",
           "landcolor": "white",
           "showlakes": true,
           "showland": true,
           "subunitcolor": "white"
          },
          "hoverlabel": {
           "align": "left"
          },
          "hovermode": "closest",
          "mapbox": {
           "style": "light"
          },
          "paper_bgcolor": "white",
          "plot_bgcolor": "white",
          "polar": {
           "angularaxis": {
            "gridcolor": "rgb(232,232,232)",
            "linecolor": "rgb(36,36,36)",
            "showgrid": false,
            "showline": true,
            "ticks": "outside"
           },
           "bgcolor": "white",
           "radialaxis": {
            "gridcolor": "rgb(232,232,232)",
            "linecolor": "rgb(36,36,36)",
            "showgrid": false,
            "showline": true,
            "ticks": "outside"
           }
          },
          "scene": {
           "xaxis": {
            "backgroundcolor": "white",
            "gridcolor": "rgb(232,232,232)",
            "gridwidth": 2,
            "linecolor": "rgb(36,36,36)",
            "showbackground": true,
            "showgrid": false,
            "showline": true,
            "ticks": "outside",
            "zeroline": false,
            "zerolinecolor": "rgb(36,36,36)"
           },
           "yaxis": {
            "backgroundcolor": "white",
            "gridcolor": "rgb(232,232,232)",
            "gridwidth": 2,
            "linecolor": "rgb(36,36,36)",
            "showbackground": true,
            "showgrid": false,
            "showline": true,
            "ticks": "outside",
            "zeroline": false,
            "zerolinecolor": "rgb(36,36,36)"
           },
           "zaxis": {
            "backgroundcolor": "white",
            "gridcolor": "rgb(232,232,232)",
            "gridwidth": 2,
            "linecolor": "rgb(36,36,36)",
            "showbackground": true,
            "showgrid": false,
            "showline": true,
            "ticks": "outside",
            "zeroline": false,
            "zerolinecolor": "rgb(36,36,36)"
           }
          },
          "shapedefaults": {
           "fillcolor": "black",
           "line": {
            "width": 0
           },
           "opacity": 0.3
          },
          "ternary": {
           "aaxis": {
            "gridcolor": "rgb(232,232,232)",
            "linecolor": "rgb(36,36,36)",
            "showgrid": false,
            "showline": true,
            "ticks": "outside"
           },
           "baxis": {
            "gridcolor": "rgb(232,232,232)",
            "linecolor": "rgb(36,36,36)",
            "showgrid": false,
            "showline": true,
            "ticks": "outside"
           },
           "bgcolor": "white",
           "caxis": {
            "gridcolor": "rgb(232,232,232)",
            "linecolor": "rgb(36,36,36)",
            "showgrid": false,
            "showline": true,
            "ticks": "outside"
           }
          },
          "title": {
           "x": 0.05
          },
          "xaxis": {
           "automargin": true,
           "gridcolor": "rgb(232,232,232)",
           "linecolor": "rgb(36,36,36)",
           "showgrid": false,
           "showline": true,
           "ticks": "outside",
           "title": {
            "standoff": 15
           },
           "zeroline": false,
           "zerolinecolor": "rgb(36,36,36)"
          },
          "yaxis": {
           "automargin": true,
           "gridcolor": "rgb(232,232,232)",
           "linecolor": "rgb(36,36,36)",
           "showgrid": false,
           "showline": true,
           "ticks": "outside",
           "title": {
            "standoff": 15
           },
           "zeroline": false,
           "zerolinecolor": "rgb(36,36,36)"
          }
         }
        },
        "title": {
         "text": "Gender Representation in MoMA Departments before and after 1983",
         "x": 0.5
        },
        "width": 1600,
        "xaxis": {
         "anchor": "y",
         "categoryarray": [
          "Male",
          "Female",
          "Collectives & Collabs",
          "Missing",
          "NB"
         ],
         "categoryorder": "array",
         "domain": [
          0,
          0.47
         ],
         "showticklabels": true,
         "title": {
          "text": "Gender"
         }
        },
        "xaxis2": {
         "anchor": "y2",
         "categoryarray": [
          "Male",
          "Female",
          "Collectives & Collabs",
          "Missing",
          "NB"
         ],
         "categoryorder": "array",
         "domain": [
          0.53,
          1
         ],
         "matches": "x",
         "showticklabels": true,
         "title": {
          "text": "Gender"
         }
        },
        "xaxis3": {
         "anchor": "y3",
         "categoryarray": [
          "Male",
          "Female",
          "Collectives & Collabs",
          "Missing",
          "NB"
         ],
         "categoryorder": "array",
         "domain": [
          0,
          0.47
         ],
         "matches": "x",
         "showticklabels": true
        },
        "xaxis4": {
         "anchor": "y4",
         "categoryarray": [
          "Male",
          "Female",
          "Collectives & Collabs",
          "Missing",
          "NB"
         ],
         "categoryorder": "array",
         "domain": [
          0.53,
          1
         ],
         "matches": "x",
         "showticklabels": true
        },
        "yaxis": {
         "anchor": "x",
         "domain": [
          0,
          0.46499999999999997
         ],
         "showticklabels": true,
         "title": {
          "text": "Counts"
         }
        },
        "yaxis2": {
         "anchor": "x2",
         "domain": [
          0,
          0.46499999999999997
         ],
         "showticklabels": true
        },
        "yaxis3": {
         "anchor": "x3",
         "domain": [
          0.5349999999999999,
          0.9999999999999999
         ],
         "showticklabels": true,
         "title": {
          "text": "Counts"
         }
        },
        "yaxis4": {
         "anchor": "x4",
         "domain": [
          0.5349999999999999,
          0.9999999999999999
         ],
         "showticklabels": true
        }
       }
      },
      "text/html": [
       "<div>                            <div id=\"30551623-4b6f-4b55-9c94-bb223d684550\" class=\"plotly-graph-div\" style=\"height:800px; width:1600px;\"></div>            <script type=\"text/javascript\">                require([\"plotly\"], function(Plotly) {                    window.PLOTLYENV=window.PLOTLYENV || {};                                    if (document.getElementById(\"30551623-4b6f-4b55-9c94-bb223d684550\")) {                    Plotly.newPlot(                        \"30551623-4b6f-4b55-9c94-bb223d684550\",                        [{\"alignmentgroup\":\"True\",\"legendgroup\":\"Before 1983\",\"marker\":{\"color\":\"#49599a\",\"pattern\":{\"shape\":\"\"}},\"name\":\"Before 1983\",\"offsetgroup\":\"Before 1983\",\"orientation\":\"v\",\"showlegend\":true,\"text\":[8805.0,1398.0,1092.0,564.0],\"textposition\":\"auto\",\"x\":[\"Male\",\"Missing\",\"Female\",\"Collectives & Collabs\"],\"xaxis\":\"x3\",\"y\":[8805,1398,1092,564],\"yaxis\":\"y3\",\"type\":\"bar\",\"hoverinfo\":\"x+y\"},{\"alignmentgroup\":\"True\",\"legendgroup\":\"Before 1983\",\"marker\":{\"color\":\"#49599a\",\"pattern\":{\"shape\":\"\"}},\"name\":\"Before 1983\",\"offsetgroup\":\"Before 1983\",\"orientation\":\"v\",\"showlegend\":false,\"text\":[307.0,119.0,60.0,4.0],\"textposition\":\"auto\",\"x\":[\"Male\",\"Female\",\"Collectives & Collabs\",\"Missing\"],\"xaxis\":\"x4\",\"y\":[307,119,60,4],\"yaxis\":\"y4\",\"type\":\"bar\",\"hoverinfo\":\"x+y\"},{\"alignmentgroup\":\"True\",\"legendgroup\":\"Before 1983\",\"marker\":{\"color\":\"#49599a\",\"pattern\":{\"shape\":\"\"}},\"name\":\"Before 1983\",\"offsetgroup\":\"Before 1983\",\"orientation\":\"v\",\"showlegend\":false,\"text\":[193.0,165.0,86.0,22.0],\"textposition\":\"auto\",\"x\":[\"Collectives & Collabs\",\"Male\",\"Missing\",\"Female\"],\"xaxis\":\"x\",\"y\":[193,165,86,22],\"yaxis\":\"y\",\"type\":\"bar\",\"hoverinfo\":\"x+y\"},{\"alignmentgroup\":\"True\",\"legendgroup\":\"Before 1983\",\"marker\":{\"color\":\"#49599a\",\"pattern\":{\"shape\":\"\"}},\"name\":\"Before 1983\",\"offsetgroup\":\"Before 1983\",\"orientation\":\"v\",\"showlegend\":false,\"text\":[20840.0,1801.0,716.0,700.0],\"textposition\":\"auto\",\"x\":[\"Male\",\"Female\",\"Missing\",\"Collectives & Collabs\"],\"xaxis\":\"x2\",\"y\":[20840,1801,716,700],\"yaxis\":\"y2\",\"type\":\"bar\",\"hoverinfo\":\"x+y\"},{\"alignmentgroup\":\"True\",\"legendgroup\":\"After 1983\",\"marker\":{\"color\":\"#aab6fe\",\"pattern\":{\"shape\":\"\"}},\"name\":\"After 1983\",\"offsetgroup\":\"After 1983\",\"orientation\":\"v\",\"showlegend\":true,\"text\":[3027.0,1115.0,92.0,80.0],\"textposition\":\"auto\",\"x\":[\"Male\",\"Female\",\"Collectives & Collabs\",\"Missing\"],\"xaxis\":\"x3\",\"y\":[3027,1115,92,80],\"yaxis\":\"y3\",\"type\":\"bar\",\"hoverinfo\":\"x+y\"},{\"alignmentgroup\":\"True\",\"legendgroup\":\"After 1983\",\"marker\":{\"color\":\"#aab6fe\",\"pattern\":{\"shape\":\"\"}},\"name\":\"After 1983\",\"offsetgroup\":\"After 1983\",\"orientation\":\"v\",\"showlegend\":false,\"text\":[1126.0,367.0,297.0,10.0,9.0],\"textposition\":\"auto\",\"x\":[\"Male\",\"Female\",\"Collectives & Collabs\",\"NB\",\"Missing\"],\"xaxis\":\"x4\",\"y\":[1126,367,297,10,9],\"yaxis\":\"y4\",\"type\":\"bar\",\"hoverinfo\":\"x+y\"},{\"alignmentgroup\":\"True\",\"legendgroup\":\"After 1983\",\"marker\":{\"color\":\"#aab6fe\",\"pattern\":{\"shape\":\"\"}},\"name\":\"After 1983\",\"offsetgroup\":\"After 1983\",\"orientation\":\"v\",\"showlegend\":false,\"text\":[253.0,73.0,51.0,31.0],\"textposition\":\"auto\",\"x\":[\"Male\",\"Female\",\"Missing\",\"Collectives & Collabs\"],\"xaxis\":\"x\",\"y\":[253,73,51,31],\"yaxis\":\"y\",\"type\":\"bar\",\"hoverinfo\":\"x+y\"},{\"alignmentgroup\":\"True\",\"legendgroup\":\"After 1983\",\"marker\":{\"color\":\"#aab6fe\",\"pattern\":{\"shape\":\"\"}},\"name\":\"After 1983\",\"offsetgroup\":\"After 1983\",\"orientation\":\"v\",\"showlegend\":false,\"text\":[12658.0,6329.0,841.0,337.0],\"textposition\":\"auto\",\"x\":[\"Male\",\"Female\",\"Collectives & Collabs\",\"Missing\"],\"xaxis\":\"x2\",\"y\":[12658,6329,841,337],\"yaxis\":\"y2\",\"type\":\"bar\",\"hoverinfo\":\"x+y\"}],                        {\"template\":{\"data\":{\"histogram2dcontour\":[{\"type\":\"histogram2dcontour\",\"colorbar\":{\"outlinewidth\":1,\"tickcolor\":\"rgb(36,36,36)\",\"ticks\":\"outside\"},\"colorscale\":[[0.0,\"#440154\"],[0.1111111111111111,\"#482878\"],[0.2222222222222222,\"#3e4989\"],[0.3333333333333333,\"#31688e\"],[0.4444444444444444,\"#26828e\"],[0.5555555555555556,\"#1f9e89\"],[0.6666666666666666,\"#35b779\"],[0.7777777777777778,\"#6ece58\"],[0.8888888888888888,\"#b5de2b\"],[1.0,\"#fde725\"]]}],\"choropleth\":[{\"type\":\"choropleth\",\"colorbar\":{\"outlinewidth\":1,\"tickcolor\":\"rgb(36,36,36)\",\"ticks\":\"outside\"}}],\"histogram2d\":[{\"type\":\"histogram2d\",\"colorbar\":{\"outlinewidth\":1,\"tickcolor\":\"rgb(36,36,36)\",\"ticks\":\"outside\"},\"colorscale\":[[0.0,\"#440154\"],[0.1111111111111111,\"#482878\"],[0.2222222222222222,\"#3e4989\"],[0.3333333333333333,\"#31688e\"],[0.4444444444444444,\"#26828e\"],[0.5555555555555556,\"#1f9e89\"],[0.6666666666666666,\"#35b779\"],[0.7777777777777778,\"#6ece58\"],[0.8888888888888888,\"#b5de2b\"],[1.0,\"#fde725\"]]}],\"heatmap\":[{\"type\":\"heatmap\",\"colorbar\":{\"outlinewidth\":1,\"tickcolor\":\"rgb(36,36,36)\",\"ticks\":\"outside\"},\"colorscale\":[[0.0,\"#440154\"],[0.1111111111111111,\"#482878\"],[0.2222222222222222,\"#3e4989\"],[0.3333333333333333,\"#31688e\"],[0.4444444444444444,\"#26828e\"],[0.5555555555555556,\"#1f9e89\"],[0.6666666666666666,\"#35b779\"],[0.7777777777777778,\"#6ece58\"],[0.8888888888888888,\"#b5de2b\"],[1.0,\"#fde725\"]]}],\"heatmapgl\":[{\"type\":\"heatmapgl\",\"colorbar\":{\"outlinewidth\":1,\"tickcolor\":\"rgb(36,36,36)\",\"ticks\":\"outside\"},\"colorscale\":[[0.0,\"#440154\"],[0.1111111111111111,\"#482878\"],[0.2222222222222222,\"#3e4989\"],[0.3333333333333333,\"#31688e\"],[0.4444444444444444,\"#26828e\"],[0.5555555555555556,\"#1f9e89\"],[0.6666666666666666,\"#35b779\"],[0.7777777777777778,\"#6ece58\"],[0.8888888888888888,\"#b5de2b\"],[1.0,\"#fde725\"]]}],\"contourcarpet\":[{\"type\":\"contourcarpet\",\"colorbar\":{\"outlinewidth\":1,\"tickcolor\":\"rgb(36,36,36)\",\"ticks\":\"outside\"}}],\"contour\":[{\"type\":\"contour\",\"colorbar\":{\"outlinewidth\":1,\"tickcolor\":\"rgb(36,36,36)\",\"ticks\":\"outside\"},\"colorscale\":[[0.0,\"#440154\"],[0.1111111111111111,\"#482878\"],[0.2222222222222222,\"#3e4989\"],[0.3333333333333333,\"#31688e\"],[0.4444444444444444,\"#26828e\"],[0.5555555555555556,\"#1f9e89\"],[0.6666666666666666,\"#35b779\"],[0.7777777777777778,\"#6ece58\"],[0.8888888888888888,\"#b5de2b\"],[1.0,\"#fde725\"]]}],\"surface\":[{\"type\":\"surface\",\"colorbar\":{\"outlinewidth\":1,\"tickcolor\":\"rgb(36,36,36)\",\"ticks\":\"outside\"},\"colorscale\":[[0.0,\"#440154\"],[0.1111111111111111,\"#482878\"],[0.2222222222222222,\"#3e4989\"],[0.3333333333333333,\"#31688e\"],[0.4444444444444444,\"#26828e\"],[0.5555555555555556,\"#1f9e89\"],[0.6666666666666666,\"#35b779\"],[0.7777777777777778,\"#6ece58\"],[0.8888888888888888,\"#b5de2b\"],[1.0,\"#fde725\"]]}],\"mesh3d\":[{\"type\":\"mesh3d\",\"colorbar\":{\"outlinewidth\":1,\"tickcolor\":\"rgb(36,36,36)\",\"ticks\":\"outside\"}}],\"scatter\":[{\"fillpattern\":{\"fillmode\":\"overlay\",\"size\":10,\"solidity\":0.2},\"type\":\"scatter\"}],\"parcoords\":[{\"type\":\"parcoords\",\"line\":{\"colorbar\":{\"outlinewidth\":1,\"tickcolor\":\"rgb(36,36,36)\",\"ticks\":\"outside\"}}}],\"scatterpolargl\":[{\"type\":\"scatterpolargl\",\"marker\":{\"colorbar\":{\"outlinewidth\":1,\"tickcolor\":\"rgb(36,36,36)\",\"ticks\":\"outside\"}}}],\"bar\":[{\"error_x\":{\"color\":\"rgb(36,36,36)\"},\"error_y\":{\"color\":\"rgb(36,36,36)\"},\"marker\":{\"line\":{\"color\":\"white\",\"width\":0.5},\"pattern\":{\"fillmode\":\"overlay\",\"size\":10,\"solidity\":0.2}},\"type\":\"bar\"}],\"scattergeo\":[{\"type\":\"scattergeo\",\"marker\":{\"colorbar\":{\"outlinewidth\":1,\"tickcolor\":\"rgb(36,36,36)\",\"ticks\":\"outside\"}}}],\"scatterpolar\":[{\"type\":\"scatterpolar\",\"marker\":{\"colorbar\":{\"outlinewidth\":1,\"tickcolor\":\"rgb(36,36,36)\",\"ticks\":\"outside\"}}}],\"histogram\":[{\"marker\":{\"line\":{\"color\":\"white\",\"width\":0.6}},\"type\":\"histogram\"}],\"scattergl\":[{\"type\":\"scattergl\",\"marker\":{\"colorbar\":{\"outlinewidth\":1,\"tickcolor\":\"rgb(36,36,36)\",\"ticks\":\"outside\"}}}],\"scatter3d\":[{\"type\":\"scatter3d\",\"line\":{\"colorbar\":{\"outlinewidth\":1,\"tickcolor\":\"rgb(36,36,36)\",\"ticks\":\"outside\"}},\"marker\":{\"colorbar\":{\"outlinewidth\":1,\"tickcolor\":\"rgb(36,36,36)\",\"ticks\":\"outside\"}}}],\"scattermapbox\":[{\"type\":\"scattermapbox\",\"marker\":{\"colorbar\":{\"outlinewidth\":1,\"tickcolor\":\"rgb(36,36,36)\",\"ticks\":\"outside\"}}}],\"scatterternary\":[{\"type\":\"scatterternary\",\"marker\":{\"colorbar\":{\"outlinewidth\":1,\"tickcolor\":\"rgb(36,36,36)\",\"ticks\":\"outside\"}}}],\"scattercarpet\":[{\"type\":\"scattercarpet\",\"marker\":{\"colorbar\":{\"outlinewidth\":1,\"tickcolor\":\"rgb(36,36,36)\",\"ticks\":\"outside\"}}}],\"carpet\":[{\"aaxis\":{\"endlinecolor\":\"rgb(36,36,36)\",\"gridcolor\":\"white\",\"linecolor\":\"white\",\"minorgridcolor\":\"white\",\"startlinecolor\":\"rgb(36,36,36)\"},\"baxis\":{\"endlinecolor\":\"rgb(36,36,36)\",\"gridcolor\":\"white\",\"linecolor\":\"white\",\"minorgridcolor\":\"white\",\"startlinecolor\":\"rgb(36,36,36)\"},\"type\":\"carpet\"}],\"table\":[{\"cells\":{\"fill\":{\"color\":\"rgb(237,237,237)\"},\"line\":{\"color\":\"white\"}},\"header\":{\"fill\":{\"color\":\"rgb(217,217,217)\"},\"line\":{\"color\":\"white\"}},\"type\":\"table\"}],\"barpolar\":[{\"marker\":{\"line\":{\"color\":\"white\",\"width\":0.5},\"pattern\":{\"fillmode\":\"overlay\",\"size\":10,\"solidity\":0.2}},\"type\":\"barpolar\"}],\"pie\":[{\"automargin\":true,\"type\":\"pie\"}]},\"layout\":{\"autotypenumbers\":\"strict\",\"colorway\":[\"#1F77B4\",\"#FF7F0E\",\"#2CA02C\",\"#D62728\",\"#9467BD\",\"#8C564B\",\"#E377C2\",\"#7F7F7F\",\"#BCBD22\",\"#17BECF\"],\"font\":{\"color\":\"rgb(36,36,36)\"},\"hovermode\":\"closest\",\"hoverlabel\":{\"align\":\"left\"},\"paper_bgcolor\":\"white\",\"plot_bgcolor\":\"white\",\"polar\":{\"bgcolor\":\"white\",\"angularaxis\":{\"gridcolor\":\"rgb(232,232,232)\",\"linecolor\":\"rgb(36,36,36)\",\"showgrid\":false,\"showline\":true,\"ticks\":\"outside\"},\"radialaxis\":{\"gridcolor\":\"rgb(232,232,232)\",\"linecolor\":\"rgb(36,36,36)\",\"showgrid\":false,\"showline\":true,\"ticks\":\"outside\"}},\"ternary\":{\"bgcolor\":\"white\",\"aaxis\":{\"gridcolor\":\"rgb(232,232,232)\",\"linecolor\":\"rgb(36,36,36)\",\"showgrid\":false,\"showline\":true,\"ticks\":\"outside\"},\"baxis\":{\"gridcolor\":\"rgb(232,232,232)\",\"linecolor\":\"rgb(36,36,36)\",\"showgrid\":false,\"showline\":true,\"ticks\":\"outside\"},\"caxis\":{\"gridcolor\":\"rgb(232,232,232)\",\"linecolor\":\"rgb(36,36,36)\",\"showgrid\":false,\"showline\":true,\"ticks\":\"outside\"}},\"coloraxis\":{\"colorbar\":{\"outlinewidth\":1,\"tickcolor\":\"rgb(36,36,36)\",\"ticks\":\"outside\"}},\"colorscale\":{\"sequential\":[[0.0,\"#440154\"],[0.1111111111111111,\"#482878\"],[0.2222222222222222,\"#3e4989\"],[0.3333333333333333,\"#31688e\"],[0.4444444444444444,\"#26828e\"],[0.5555555555555556,\"#1f9e89\"],[0.6666666666666666,\"#35b779\"],[0.7777777777777778,\"#6ece58\"],[0.8888888888888888,\"#b5de2b\"],[1.0,\"#fde725\"]],\"sequentialminus\":[[0.0,\"#440154\"],[0.1111111111111111,\"#482878\"],[0.2222222222222222,\"#3e4989\"],[0.3333333333333333,\"#31688e\"],[0.4444444444444444,\"#26828e\"],[0.5555555555555556,\"#1f9e89\"],[0.6666666666666666,\"#35b779\"],[0.7777777777777778,\"#6ece58\"],[0.8888888888888888,\"#b5de2b\"],[1.0,\"#fde725\"]],\"diverging\":[[0.0,\"rgb(103,0,31)\"],[0.1,\"rgb(178,24,43)\"],[0.2,\"rgb(214,96,77)\"],[0.3,\"rgb(244,165,130)\"],[0.4,\"rgb(253,219,199)\"],[0.5,\"rgb(247,247,247)\"],[0.6,\"rgb(209,229,240)\"],[0.7,\"rgb(146,197,222)\"],[0.8,\"rgb(67,147,195)\"],[0.9,\"rgb(33,102,172)\"],[1.0,\"rgb(5,48,97)\"]]},\"xaxis\":{\"gridcolor\":\"rgb(232,232,232)\",\"linecolor\":\"rgb(36,36,36)\",\"showgrid\":false,\"showline\":true,\"ticks\":\"outside\",\"title\":{\"standoff\":15},\"zerolinecolor\":\"rgb(36,36,36)\",\"automargin\":true,\"zeroline\":false},\"yaxis\":{\"gridcolor\":\"rgb(232,232,232)\",\"linecolor\":\"rgb(36,36,36)\",\"showgrid\":false,\"showline\":true,\"ticks\":\"outside\",\"title\":{\"standoff\":15},\"zerolinecolor\":\"rgb(36,36,36)\",\"automargin\":true,\"zeroline\":false},\"scene\":{\"xaxis\":{\"backgroundcolor\":\"white\",\"gridcolor\":\"rgb(232,232,232)\",\"linecolor\":\"rgb(36,36,36)\",\"showbackground\":true,\"showgrid\":false,\"showline\":true,\"ticks\":\"outside\",\"zerolinecolor\":\"rgb(36,36,36)\",\"gridwidth\":2,\"zeroline\":false},\"yaxis\":{\"backgroundcolor\":\"white\",\"gridcolor\":\"rgb(232,232,232)\",\"linecolor\":\"rgb(36,36,36)\",\"showbackground\":true,\"showgrid\":false,\"showline\":true,\"ticks\":\"outside\",\"zerolinecolor\":\"rgb(36,36,36)\",\"gridwidth\":2,\"zeroline\":false},\"zaxis\":{\"backgroundcolor\":\"white\",\"gridcolor\":\"rgb(232,232,232)\",\"linecolor\":\"rgb(36,36,36)\",\"showbackground\":true,\"showgrid\":false,\"showline\":true,\"ticks\":\"outside\",\"zerolinecolor\":\"rgb(36,36,36)\",\"gridwidth\":2,\"zeroline\":false}},\"shapedefaults\":{\"fillcolor\":\"black\",\"line\":{\"width\":0},\"opacity\":0.3},\"annotationdefaults\":{\"arrowhead\":0,\"arrowwidth\":1},\"geo\":{\"bgcolor\":\"white\",\"landcolor\":\"white\",\"subunitcolor\":\"white\",\"showland\":true,\"showlakes\":true,\"lakecolor\":\"white\"},\"title\":{\"x\":0.05},\"mapbox\":{\"style\":\"light\"}}},\"xaxis\":{\"anchor\":\"y\",\"domain\":[0.0,0.47],\"title\":{\"text\":\"Gender\"},\"showticklabels\":true,\"categoryorder\":\"array\",\"categoryarray\":[\"Male\",\"Female\",\"Collectives & Collabs\",\"Missing\",\"NB\"]},\"yaxis\":{\"anchor\":\"x\",\"domain\":[0.0,0.46499999999999997],\"title\":{\"text\":\"Counts\"},\"showticklabels\":true},\"xaxis2\":{\"anchor\":\"y2\",\"domain\":[0.53,1.0],\"matches\":\"x\",\"title\":{\"text\":\"Gender\"},\"showticklabels\":true,\"categoryorder\":\"array\",\"categoryarray\":[\"Male\",\"Female\",\"Collectives & Collabs\",\"Missing\",\"NB\"]},\"yaxis2\":{\"anchor\":\"x2\",\"domain\":[0.0,0.46499999999999997],\"showticklabels\":true},\"xaxis3\":{\"anchor\":\"y3\",\"domain\":[0.0,0.47],\"matches\":\"x\",\"showticklabels\":true,\"categoryorder\":\"array\",\"categoryarray\":[\"Male\",\"Female\",\"Collectives & Collabs\",\"Missing\",\"NB\"]},\"yaxis3\":{\"anchor\":\"x3\",\"domain\":[0.5349999999999999,0.9999999999999999],\"title\":{\"text\":\"Counts\"},\"showticklabels\":true},\"xaxis4\":{\"anchor\":\"y4\",\"domain\":[0.53,1.0],\"matches\":\"x\",\"showticklabels\":true,\"categoryorder\":\"array\",\"categoryarray\":[\"Male\",\"Female\",\"Collectives & Collabs\",\"Missing\",\"NB\"]},\"yaxis4\":{\"anchor\":\"x4\",\"domain\":[0.5349999999999999,0.9999999999999999],\"showticklabels\":true},\"annotations\":[{\"font\":{},\"showarrow\":false,\"text\":\"Department=Film\",\"x\":0.235,\"xanchor\":\"center\",\"xref\":\"paper\",\"y\":0.46499999999999997,\"yanchor\":\"bottom\",\"yref\":\"paper\"},{\"font\":{},\"showarrow\":false,\"text\":\"Department=Drawings & Prints\",\"x\":0.765,\"xanchor\":\"center\",\"xref\":\"paper\",\"y\":0.46499999999999997,\"yanchor\":\"bottom\",\"yref\":\"paper\"},{\"font\":{},\"showarrow\":false,\"text\":\"Department=Photography\",\"x\":0.235,\"xanchor\":\"center\",\"xref\":\"paper\",\"y\":0.9999999999999999,\"yanchor\":\"bottom\",\"yref\":\"paper\"},{\"font\":{},\"showarrow\":false,\"text\":\"Department=Media and Performance\",\"x\":0.765,\"xanchor\":\"center\",\"xref\":\"paper\",\"y\":0.9999999999999999,\"yanchor\":\"bottom\",\"yref\":\"paper\"}],\"legend\":{\"title\":{\"text\":\"Period\"},\"tracegroupgap\":0},\"title\":{\"text\":\"Gender Representation in MoMA Departments before and after 1983\",\"x\":0.5},\"barmode\":\"group\",\"height\":800,\"width\":1600},                        {\"responsive\": true}                    ).then(function(){\n",
       "                            \n",
       "var gd = document.getElementById('30551623-4b6f-4b55-9c94-bb223d684550');\n",
       "var x = new MutationObserver(function (mutations, observer) {{\n",
       "        var display = window.getComputedStyle(gd).display;\n",
       "        if (!display || display === 'none') {{\n",
       "            console.log([gd, 'removed!']);\n",
       "            Plotly.purge(gd);\n",
       "            observer.disconnect();\n",
       "        }}\n",
       "}});\n",
       "\n",
       "// Listen for the removal of the full notebook cells\n",
       "var notebookContainer = gd.closest('#notebook-container');\n",
       "if (notebookContainer) {{\n",
       "    x.observe(notebookContainer, {childList: true});\n",
       "}}\n",
       "\n",
       "// Listen for the clearing of the current output cell\n",
       "var outputEl = gd.closest('.output');\n",
       "if (outputEl) {{\n",
       "    x.observe(outputEl, {childList: true});\n",
       "}}\n",
       "\n",
       "                        })                };                });            </script>        </div>"
      ]
     },
     "metadata": {},
     "output_type": "display_data"
    }
   ],
   "source": [
    "fig = px.bar(moma_depts_gender_rep_all, x=\"Gender\", y=\"Counts\", color=\"Period\", facet_col=\"Department\", facet_col_spacing=0.06,  facet_col_wrap=2, title=\"Gender Representation in MoMA Departments before and after 1983\", barmode='group',color_discrete_map={\"Before 1983\": \"#49599a\", \"After 1983\": \"#aab6fe\"}, category_orders={\"Period\": [\"Before 1983\", 'After 1983']}, text='Counts')\n",
    "fig.update_xaxes(showticklabels=True, categoryorder='array', categoryarray=['Male', 'Female', 'Collectives & Collabs', 'Missing', 'NB'])\n",
    "fig.update_yaxes(matches=None, showticklabels=True)\n",
    "fig.update_traces(textposition=\"auto\", hoverinfo='x+y', hovertemplate=None)\n",
    "fig.update_layout(height=800, width=1600, title_x=0.5)\n",
    "fig.show()"
   ]
  },
  {
   "cell_type": "code",
   "execution_count": 14,
   "metadata": {},
   "outputs": [],
   "source": [
    "#create a list of rhizome mediums based on keywords research \n",
    "rhz_medium = rhizome_txt_stop_kw.copy()\n",
    "rhz_medium = rhz_medium.replace('N/B', 'NB')\n",
    "# create a list of our conditionsP\n",
    "conditions = [\n",
    "    (rhz_medium['Text'].str.contains('video|film|animation|movie|tv', regex=True)),\n",
    "    (rhz_medium['Text'].str.contains('images|image|photographs|photography|photo|photos|painting|drawing', regex=True)),\n",
    "    (rhz_medium['Text'].str.contains('installation|performance|sound|audio|song|music', regex=True)),\n",
    "    (rhz_medium['Text'].str.contains('website|flash|java|data|database|webpage|net|internet|site|sites|online|webbased|augmented|virtual|reality|game|interaction|interactive|interface|project|xml|mashup|map|generative|wifi|network|email|computer', regex=True)),\n",
    "    ]\n",
    "\n",
    "# create a list of the values we want to assign for each condition\n",
    "values = ['Moving Images', 'Still Images', 'Installation & Performance', 'Net Art']\n",
    "\n",
    "# create a new column and use np.select to assign values to it using our lists as arguments\n",
    "rhz_medium['Medium'] = np.select(conditions, values)\n",
    "\n",
    "# display updated DataFrame\n",
    "rhz_medium['Medium'] = rhz_medium['Medium'].replace('0', 'missing')\n",
    "rhz_medium['Medium'] = rhz_medium['Medium'].astype(str)"
   ]
  },
  {
   "cell_type": "code",
   "execution_count": 15,
   "metadata": {},
   "outputs": [],
   "source": [
    "#count Rhizome genders by department\n",
    "rhz_gender_rep_mi = group_genders(rhz_medium.loc[rhz_medium['Medium'] == 'Moving Images'])\n",
    "rhz_gender_rep_img = group_genders(rhz_medium.loc[rhz_medium['Medium'] == 'Still Images'])\n",
    "rhz_gender_rep_intall = group_genders(rhz_medium.loc[rhz_medium['Medium'] == 'Installation & Performance'])\n",
    "rhz_gender_rep_netart = group_genders(rhz_medium.loc[rhz_medium['Medium'] == 'Net Art'])\n",
    "rhz_gender_rep_mi['Department'] = 'Moving Images'\n",
    "rhz_gender_rep_img['Department'] = 'Still Images'\n",
    "rhz_gender_rep_intall['Department'] = 'Installation'\n",
    "rhz_gender_rep_netart['Department'] = 'Net Art'\n",
    "rhz_rep_all = pd.concat([rhz_gender_rep_mi, rhz_gender_rep_img, rhz_gender_rep_intall, rhz_gender_rep_netart])\n",
    "rhz_rep_all['Source'] = 'Rhizome'\n",
    "\n",
    "#align departments alongside new 3x3 grouping\n",
    "rhz_rep_all = rhz_rep_all.replace(['Installation', 'Net Art'], 'Media and Performance').groupby(['Department', 'Source', 'Gender'],as_index=False).agg({'Counts': 'sum'})\n",
    "moma_depts_gender_rep_all_2 = moma_depts_gender_rep_all.replace(['Photography', 'Drawings & Prints'], 'Still Images').replace(['Film'], 'Moving Images').groupby(['Department', 'Period', 'Gender'],as_index=False).agg({'Counts': 'sum'})\n",
    "\n",
    "#create a combined dataframe\n",
    "moma_depts_gender_rep_all_2 = moma_depts_gender_rep_all_2.loc[moma_depts_gender_rep_all_2['Period'] == 'After 1983']\n",
    "moma_depts_gender_rep_all_2['Counts'] = moma_depts_gender_rep_all_2['Counts'].div(10).round(2)\n",
    "moma_depts_gender_rep_all_2['Counts'] = moma_depts_gender_rep_all_2['Counts'].astype(int)\n",
    "moma_depts_gender_rep_all_2['Source'] = 'MoMA'\n",
    "rhz_rep_all['Counts'] = rhz_rep_all['Counts'].multiply(1.09)\n",
    "rhz_rep_all['Counts'] = rhz_rep_all['Counts'].apply(np.floor)\n",
    "rhz_rep_all['Counts'] = rhz_rep_all['Counts'].astype(int)\n",
    "moma_rhz_gender_compare = pd.concat([rhz_rep_all, moma_depts_gender_rep_all_2])\n",
    "moma_rhz_gender_compare = moma_rhz_gender_compare.drop('Period', axis=1)"
   ]
  },
  {
   "cell_type": "markdown",
   "metadata": {},
   "source": [
    "ALT TITLES:\n",
    "- How Genders Compare Between Rhizome and MoMA by Department\n",
    "- Gender Make-up of Departments in Rhizome and MoMA (sampled)"
   ]
  },
  {
   "cell_type": "code",
   "execution_count": 19,
   "metadata": {},
   "outputs": [
    {
     "data": {
      "application/vnd.plotly.v1+json": {
       "config": {
        "plotlyServerURL": "https://plot.ly"
       },
       "data": [
        {
         "alignmentgroup": "True",
         "hoverinfo": "x+y",
         "legendgroup": "Still Images",
         "marker": {
          "color": "#90caf9",
          "pattern": {
           "shape": ""
          }
         },
         "name": "Still Images",
         "offsetgroup": "Still Images",
         "orientation": "v",
         "showlegend": true,
         "textposition": "outside",
         "texttemplate": "%{y}",
         "type": "bar",
         "x": [
          "Missing",
          "Female",
          "Collectives & Collabs",
          "Male"
         ],
         "xaxis": "x",
         "y": [
          41,
          744,
          93,
          1568
         ],
         "yaxis": "y"
        },
        {
         "alignmentgroup": "True",
         "hoverinfo": "x+y",
         "legendgroup": "Still Images",
         "marker": {
          "color": "#90caf9",
          "pattern": {
           "shape": ""
          }
         },
         "name": "Still Images",
         "offsetgroup": "Still Images",
         "orientation": "v",
         "showlegend": false,
         "textposition": "outside",
         "texttemplate": "%{y}",
         "type": "bar",
         "x": [
          "Female",
          "Collectives & Collabs",
          "Male",
          "Missing"
         ],
         "xaxis": "x2",
         "y": [
          112,
          20,
          282,
          20
         ],
         "yaxis": "y2"
        },
        {
         "alignmentgroup": "True",
         "hoverinfo": "x+y",
         "legendgroup": "Media and Performance",
         "marker": {
          "color": "#ffe082",
          "pattern": {
           "shape": ""
          }
         },
         "name": "Media and Performance",
         "offsetgroup": "Media and Performance",
         "orientation": "v",
         "showlegend": true,
         "textposition": "outside",
         "texttemplate": "%{y}",
         "type": "bar",
         "x": [
          "NB",
          "Missing",
          "Male",
          "Female",
          "Collectives & Collabs"
         ],
         "xaxis": "x",
         "y": [
          1,
          0,
          112,
          36,
          29
         ],
         "yaxis": "y"
        },
        {
         "alignmentgroup": "True",
         "hoverinfo": "x+y",
         "legendgroup": "Media and Performance",
         "marker": {
          "color": "#ffe082",
          "pattern": {
           "shape": ""
          }
         },
         "name": "Media and Performance",
         "offsetgroup": "Media and Performance",
         "orientation": "v",
         "showlegend": false,
         "textposition": "outside",
         "texttemplate": "%{y}",
         "type": "bar",
         "x": [
          "Collectives & Collabs",
          "Missing",
          "Male",
          "Female"
         ],
         "xaxis": "x2",
         "y": [
          56,
          69,
          538,
          192
         ],
         "yaxis": "y2"
        },
        {
         "alignmentgroup": "True",
         "hoverinfo": "x+y",
         "legendgroup": "Moving Images",
         "marker": {
          "color": "#b94e52",
          "pattern": {
           "shape": ""
          }
         },
         "name": "Moving Images",
         "offsetgroup": "Moving Images",
         "orientation": "v",
         "showlegend": true,
         "textposition": "outside",
         "texttemplate": "%{y}",
         "type": "bar",
         "x": [
          "Missing",
          "Male",
          "Female",
          "Collectives & Collabs"
         ],
         "xaxis": "x",
         "y": [
          5,
          25,
          7,
          3
         ],
         "yaxis": "y"
        },
        {
         "alignmentgroup": "True",
         "hoverinfo": "x+y",
         "legendgroup": "Moving Images",
         "marker": {
          "color": "#b94e52",
          "pattern": {
           "shape": ""
          }
         },
         "name": "Moving Images",
         "offsetgroup": "Moving Images",
         "orientation": "v",
         "showlegend": false,
         "textposition": "outside",
         "texttemplate": "%{y}",
         "type": "bar",
         "x": [
          "NB",
          "Missing",
          "Male",
          "Female",
          "Collectives & Collabs"
         ],
         "xaxis": "x2",
         "y": [
          2,
          55,
          612,
          237,
          51
         ],
         "yaxis": "y2"
        }
       ],
       "layout": {
        "annotations": [
         {
          "font": {},
          "showarrow": false,
          "text": "Source=MoMA",
          "x": 0.235,
          "xanchor": "center",
          "xref": "paper",
          "y": 1,
          "yanchor": "bottom",
          "yref": "paper"
         },
         {
          "font": {},
          "showarrow": false,
          "text": "Source=Rhizome",
          "x": 0.765,
          "xanchor": "center",
          "xref": "paper",
          "y": 1,
          "yanchor": "bottom",
          "yref": "paper"
         }
        ],
        "barmode": "group",
        "height": 800,
        "legend": {
         "title": {
          "text": "Department"
         },
         "tracegroupgap": 0
        },
        "template": {
         "data": {
          "bar": [
           {
            "error_x": {
             "color": "rgb(36,36,36)"
            },
            "error_y": {
             "color": "rgb(36,36,36)"
            },
            "marker": {
             "line": {
              "color": "white",
              "width": 0.5
             },
             "pattern": {
              "fillmode": "overlay",
              "size": 10,
              "solidity": 0.2
             }
            },
            "type": "bar"
           }
          ],
          "barpolar": [
           {
            "marker": {
             "line": {
              "color": "white",
              "width": 0.5
             },
             "pattern": {
              "fillmode": "overlay",
              "size": 10,
              "solidity": 0.2
             }
            },
            "type": "barpolar"
           }
          ],
          "carpet": [
           {
            "aaxis": {
             "endlinecolor": "rgb(36,36,36)",
             "gridcolor": "white",
             "linecolor": "white",
             "minorgridcolor": "white",
             "startlinecolor": "rgb(36,36,36)"
            },
            "baxis": {
             "endlinecolor": "rgb(36,36,36)",
             "gridcolor": "white",
             "linecolor": "white",
             "minorgridcolor": "white",
             "startlinecolor": "rgb(36,36,36)"
            },
            "type": "carpet"
           }
          ],
          "choropleth": [
           {
            "colorbar": {
             "outlinewidth": 1,
             "tickcolor": "rgb(36,36,36)",
             "ticks": "outside"
            },
            "type": "choropleth"
           }
          ],
          "contour": [
           {
            "colorbar": {
             "outlinewidth": 1,
             "tickcolor": "rgb(36,36,36)",
             "ticks": "outside"
            },
            "colorscale": [
             [
              0,
              "#440154"
             ],
             [
              0.1111111111111111,
              "#482878"
             ],
             [
              0.2222222222222222,
              "#3e4989"
             ],
             [
              0.3333333333333333,
              "#31688e"
             ],
             [
              0.4444444444444444,
              "#26828e"
             ],
             [
              0.5555555555555556,
              "#1f9e89"
             ],
             [
              0.6666666666666666,
              "#35b779"
             ],
             [
              0.7777777777777778,
              "#6ece58"
             ],
             [
              0.8888888888888888,
              "#b5de2b"
             ],
             [
              1,
              "#fde725"
             ]
            ],
            "type": "contour"
           }
          ],
          "contourcarpet": [
           {
            "colorbar": {
             "outlinewidth": 1,
             "tickcolor": "rgb(36,36,36)",
             "ticks": "outside"
            },
            "type": "contourcarpet"
           }
          ],
          "heatmap": [
           {
            "colorbar": {
             "outlinewidth": 1,
             "tickcolor": "rgb(36,36,36)",
             "ticks": "outside"
            },
            "colorscale": [
             [
              0,
              "#440154"
             ],
             [
              0.1111111111111111,
              "#482878"
             ],
             [
              0.2222222222222222,
              "#3e4989"
             ],
             [
              0.3333333333333333,
              "#31688e"
             ],
             [
              0.4444444444444444,
              "#26828e"
             ],
             [
              0.5555555555555556,
              "#1f9e89"
             ],
             [
              0.6666666666666666,
              "#35b779"
             ],
             [
              0.7777777777777778,
              "#6ece58"
             ],
             [
              0.8888888888888888,
              "#b5de2b"
             ],
             [
              1,
              "#fde725"
             ]
            ],
            "type": "heatmap"
           }
          ],
          "heatmapgl": [
           {
            "colorbar": {
             "outlinewidth": 1,
             "tickcolor": "rgb(36,36,36)",
             "ticks": "outside"
            },
            "colorscale": [
             [
              0,
              "#440154"
             ],
             [
              0.1111111111111111,
              "#482878"
             ],
             [
              0.2222222222222222,
              "#3e4989"
             ],
             [
              0.3333333333333333,
              "#31688e"
             ],
             [
              0.4444444444444444,
              "#26828e"
             ],
             [
              0.5555555555555556,
              "#1f9e89"
             ],
             [
              0.6666666666666666,
              "#35b779"
             ],
             [
              0.7777777777777778,
              "#6ece58"
             ],
             [
              0.8888888888888888,
              "#b5de2b"
             ],
             [
              1,
              "#fde725"
             ]
            ],
            "type": "heatmapgl"
           }
          ],
          "histogram": [
           {
            "marker": {
             "line": {
              "color": "white",
              "width": 0.6
             }
            },
            "type": "histogram"
           }
          ],
          "histogram2d": [
           {
            "colorbar": {
             "outlinewidth": 1,
             "tickcolor": "rgb(36,36,36)",
             "ticks": "outside"
            },
            "colorscale": [
             [
              0,
              "#440154"
             ],
             [
              0.1111111111111111,
              "#482878"
             ],
             [
              0.2222222222222222,
              "#3e4989"
             ],
             [
              0.3333333333333333,
              "#31688e"
             ],
             [
              0.4444444444444444,
              "#26828e"
             ],
             [
              0.5555555555555556,
              "#1f9e89"
             ],
             [
              0.6666666666666666,
              "#35b779"
             ],
             [
              0.7777777777777778,
              "#6ece58"
             ],
             [
              0.8888888888888888,
              "#b5de2b"
             ],
             [
              1,
              "#fde725"
             ]
            ],
            "type": "histogram2d"
           }
          ],
          "histogram2dcontour": [
           {
            "colorbar": {
             "outlinewidth": 1,
             "tickcolor": "rgb(36,36,36)",
             "ticks": "outside"
            },
            "colorscale": [
             [
              0,
              "#440154"
             ],
             [
              0.1111111111111111,
              "#482878"
             ],
             [
              0.2222222222222222,
              "#3e4989"
             ],
             [
              0.3333333333333333,
              "#31688e"
             ],
             [
              0.4444444444444444,
              "#26828e"
             ],
             [
              0.5555555555555556,
              "#1f9e89"
             ],
             [
              0.6666666666666666,
              "#35b779"
             ],
             [
              0.7777777777777778,
              "#6ece58"
             ],
             [
              0.8888888888888888,
              "#b5de2b"
             ],
             [
              1,
              "#fde725"
             ]
            ],
            "type": "histogram2dcontour"
           }
          ],
          "mesh3d": [
           {
            "colorbar": {
             "outlinewidth": 1,
             "tickcolor": "rgb(36,36,36)",
             "ticks": "outside"
            },
            "type": "mesh3d"
           }
          ],
          "parcoords": [
           {
            "line": {
             "colorbar": {
              "outlinewidth": 1,
              "tickcolor": "rgb(36,36,36)",
              "ticks": "outside"
             }
            },
            "type": "parcoords"
           }
          ],
          "pie": [
           {
            "automargin": true,
            "type": "pie"
           }
          ],
          "scatter": [
           {
            "fillpattern": {
             "fillmode": "overlay",
             "size": 10,
             "solidity": 0.2
            },
            "type": "scatter"
           }
          ],
          "scatter3d": [
           {
            "line": {
             "colorbar": {
              "outlinewidth": 1,
              "tickcolor": "rgb(36,36,36)",
              "ticks": "outside"
             }
            },
            "marker": {
             "colorbar": {
              "outlinewidth": 1,
              "tickcolor": "rgb(36,36,36)",
              "ticks": "outside"
             }
            },
            "type": "scatter3d"
           }
          ],
          "scattercarpet": [
           {
            "marker": {
             "colorbar": {
              "outlinewidth": 1,
              "tickcolor": "rgb(36,36,36)",
              "ticks": "outside"
             }
            },
            "type": "scattercarpet"
           }
          ],
          "scattergeo": [
           {
            "marker": {
             "colorbar": {
              "outlinewidth": 1,
              "tickcolor": "rgb(36,36,36)",
              "ticks": "outside"
             }
            },
            "type": "scattergeo"
           }
          ],
          "scattergl": [
           {
            "marker": {
             "colorbar": {
              "outlinewidth": 1,
              "tickcolor": "rgb(36,36,36)",
              "ticks": "outside"
             }
            },
            "type": "scattergl"
           }
          ],
          "scattermapbox": [
           {
            "marker": {
             "colorbar": {
              "outlinewidth": 1,
              "tickcolor": "rgb(36,36,36)",
              "ticks": "outside"
             }
            },
            "type": "scattermapbox"
           }
          ],
          "scatterpolar": [
           {
            "marker": {
             "colorbar": {
              "outlinewidth": 1,
              "tickcolor": "rgb(36,36,36)",
              "ticks": "outside"
             }
            },
            "type": "scatterpolar"
           }
          ],
          "scatterpolargl": [
           {
            "marker": {
             "colorbar": {
              "outlinewidth": 1,
              "tickcolor": "rgb(36,36,36)",
              "ticks": "outside"
             }
            },
            "type": "scatterpolargl"
           }
          ],
          "scatterternary": [
           {
            "marker": {
             "colorbar": {
              "outlinewidth": 1,
              "tickcolor": "rgb(36,36,36)",
              "ticks": "outside"
             }
            },
            "type": "scatterternary"
           }
          ],
          "surface": [
           {
            "colorbar": {
             "outlinewidth": 1,
             "tickcolor": "rgb(36,36,36)",
             "ticks": "outside"
            },
            "colorscale": [
             [
              0,
              "#440154"
             ],
             [
              0.1111111111111111,
              "#482878"
             ],
             [
              0.2222222222222222,
              "#3e4989"
             ],
             [
              0.3333333333333333,
              "#31688e"
             ],
             [
              0.4444444444444444,
              "#26828e"
             ],
             [
              0.5555555555555556,
              "#1f9e89"
             ],
             [
              0.6666666666666666,
              "#35b779"
             ],
             [
              0.7777777777777778,
              "#6ece58"
             ],
             [
              0.8888888888888888,
              "#b5de2b"
             ],
             [
              1,
              "#fde725"
             ]
            ],
            "type": "surface"
           }
          ],
          "table": [
           {
            "cells": {
             "fill": {
              "color": "rgb(237,237,237)"
             },
             "line": {
              "color": "white"
             }
            },
            "header": {
             "fill": {
              "color": "rgb(217,217,217)"
             },
             "line": {
              "color": "white"
             }
            },
            "type": "table"
           }
          ]
         },
         "layout": {
          "annotationdefaults": {
           "arrowhead": 0,
           "arrowwidth": 1
          },
          "autotypenumbers": "strict",
          "coloraxis": {
           "colorbar": {
            "outlinewidth": 1,
            "tickcolor": "rgb(36,36,36)",
            "ticks": "outside"
           }
          },
          "colorscale": {
           "diverging": [
            [
             0,
             "rgb(103,0,31)"
            ],
            [
             0.1,
             "rgb(178,24,43)"
            ],
            [
             0.2,
             "rgb(214,96,77)"
            ],
            [
             0.3,
             "rgb(244,165,130)"
            ],
            [
             0.4,
             "rgb(253,219,199)"
            ],
            [
             0.5,
             "rgb(247,247,247)"
            ],
            [
             0.6,
             "rgb(209,229,240)"
            ],
            [
             0.7,
             "rgb(146,197,222)"
            ],
            [
             0.8,
             "rgb(67,147,195)"
            ],
            [
             0.9,
             "rgb(33,102,172)"
            ],
            [
             1,
             "rgb(5,48,97)"
            ]
           ],
           "sequential": [
            [
             0,
             "#440154"
            ],
            [
             0.1111111111111111,
             "#482878"
            ],
            [
             0.2222222222222222,
             "#3e4989"
            ],
            [
             0.3333333333333333,
             "#31688e"
            ],
            [
             0.4444444444444444,
             "#26828e"
            ],
            [
             0.5555555555555556,
             "#1f9e89"
            ],
            [
             0.6666666666666666,
             "#35b779"
            ],
            [
             0.7777777777777778,
             "#6ece58"
            ],
            [
             0.8888888888888888,
             "#b5de2b"
            ],
            [
             1,
             "#fde725"
            ]
           ],
           "sequentialminus": [
            [
             0,
             "#440154"
            ],
            [
             0.1111111111111111,
             "#482878"
            ],
            [
             0.2222222222222222,
             "#3e4989"
            ],
            [
             0.3333333333333333,
             "#31688e"
            ],
            [
             0.4444444444444444,
             "#26828e"
            ],
            [
             0.5555555555555556,
             "#1f9e89"
            ],
            [
             0.6666666666666666,
             "#35b779"
            ],
            [
             0.7777777777777778,
             "#6ece58"
            ],
            [
             0.8888888888888888,
             "#b5de2b"
            ],
            [
             1,
             "#fde725"
            ]
           ]
          },
          "colorway": [
           "#1F77B4",
           "#FF7F0E",
           "#2CA02C",
           "#D62728",
           "#9467BD",
           "#8C564B",
           "#E377C2",
           "#7F7F7F",
           "#BCBD22",
           "#17BECF"
          ],
          "font": {
           "color": "rgb(36,36,36)"
          },
          "geo": {
           "bgcolor": "white",
           "lakecolor": "white",
           "landcolor": "white",
           "showlakes": true,
           "showland": true,
           "subunitcolor": "white"
          },
          "hoverlabel": {
           "align": "left"
          },
          "hovermode": "closest",
          "mapbox": {
           "style": "light"
          },
          "paper_bgcolor": "white",
          "plot_bgcolor": "white",
          "polar": {
           "angularaxis": {
            "gridcolor": "rgb(232,232,232)",
            "linecolor": "rgb(36,36,36)",
            "showgrid": false,
            "showline": true,
            "ticks": "outside"
           },
           "bgcolor": "white",
           "radialaxis": {
            "gridcolor": "rgb(232,232,232)",
            "linecolor": "rgb(36,36,36)",
            "showgrid": false,
            "showline": true,
            "ticks": "outside"
           }
          },
          "scene": {
           "xaxis": {
            "backgroundcolor": "white",
            "gridcolor": "rgb(232,232,232)",
            "gridwidth": 2,
            "linecolor": "rgb(36,36,36)",
            "showbackground": true,
            "showgrid": false,
            "showline": true,
            "ticks": "outside",
            "zeroline": false,
            "zerolinecolor": "rgb(36,36,36)"
           },
           "yaxis": {
            "backgroundcolor": "white",
            "gridcolor": "rgb(232,232,232)",
            "gridwidth": 2,
            "linecolor": "rgb(36,36,36)",
            "showbackground": true,
            "showgrid": false,
            "showline": true,
            "ticks": "outside",
            "zeroline": false,
            "zerolinecolor": "rgb(36,36,36)"
           },
           "zaxis": {
            "backgroundcolor": "white",
            "gridcolor": "rgb(232,232,232)",
            "gridwidth": 2,
            "linecolor": "rgb(36,36,36)",
            "showbackground": true,
            "showgrid": false,
            "showline": true,
            "ticks": "outside",
            "zeroline": false,
            "zerolinecolor": "rgb(36,36,36)"
           }
          },
          "shapedefaults": {
           "fillcolor": "black",
           "line": {
            "width": 0
           },
           "opacity": 0.3
          },
          "ternary": {
           "aaxis": {
            "gridcolor": "rgb(232,232,232)",
            "linecolor": "rgb(36,36,36)",
            "showgrid": false,
            "showline": true,
            "ticks": "outside"
           },
           "baxis": {
            "gridcolor": "rgb(232,232,232)",
            "linecolor": "rgb(36,36,36)",
            "showgrid": false,
            "showline": true,
            "ticks": "outside"
           },
           "bgcolor": "white",
           "caxis": {
            "gridcolor": "rgb(232,232,232)",
            "linecolor": "rgb(36,36,36)",
            "showgrid": false,
            "showline": true,
            "ticks": "outside"
           }
          },
          "title": {
           "x": 0.05
          },
          "xaxis": {
           "automargin": true,
           "gridcolor": "rgb(232,232,232)",
           "linecolor": "rgb(36,36,36)",
           "showgrid": false,
           "showline": true,
           "ticks": "outside",
           "title": {
            "standoff": 15
           },
           "zeroline": false,
           "zerolinecolor": "rgb(36,36,36)"
          },
          "yaxis": {
           "automargin": true,
           "gridcolor": "rgb(232,232,232)",
           "linecolor": "rgb(36,36,36)",
           "showgrid": false,
           "showline": true,
           "ticks": "outside",
           "title": {
            "standoff": 15
           },
           "zeroline": false,
           "zerolinecolor": "rgb(36,36,36)"
          }
         }
        },
        "title": {
         "text": "Gender Representation Between Rhizome and MoMA (sampled) by Departments",
         "x": 0.5
        },
        "width": 1600,
        "xaxis": {
         "anchor": "y",
         "categoryarray": [
          "Male",
          "Female",
          "Collectives & Collabs",
          "Missing",
          "NB"
         ],
         "categoryorder": "array",
         "domain": [
          0,
          0.47
         ],
         "showticklabels": true,
         "title": {
          "text": "Gender"
         }
        },
        "xaxis2": {
         "anchor": "y2",
         "categoryarray": [
          "Male",
          "Female",
          "Collectives & Collabs",
          "Missing",
          "NB"
         ],
         "categoryorder": "array",
         "domain": [
          0.53,
          1
         ],
         "showticklabels": true,
         "title": {
          "text": "Gender"
         }
        },
        "yaxis": {
         "anchor": "x",
         "domain": [
          0,
          1
         ],
         "showticklabels": true,
         "title": {
          "text": "Counts"
         },
         "type": "log"
        },
        "yaxis2": {
         "anchor": "x2",
         "domain": [
          0,
          1
         ],
         "matches": "y",
         "showticklabels": true,
         "type": "log"
        }
       }
      },
      "text/html": [
       "<div>                            <div id=\"68e55fb0-2251-40e3-ae36-34ea0bfa43ab\" class=\"plotly-graph-div\" style=\"height:800px; width:1600px;\"></div>            <script type=\"text/javascript\">                require([\"plotly\"], function(Plotly) {                    window.PLOTLYENV=window.PLOTLYENV || {};                                    if (document.getElementById(\"68e55fb0-2251-40e3-ae36-34ea0bfa43ab\")) {                    Plotly.newPlot(                        \"68e55fb0-2251-40e3-ae36-34ea0bfa43ab\",                        [{\"alignmentgroup\":\"True\",\"legendgroup\":\"Still Images\",\"marker\":{\"color\":\"#90caf9\",\"pattern\":{\"shape\":\"\"}},\"name\":\"Still Images\",\"offsetgroup\":\"Still Images\",\"orientation\":\"v\",\"showlegend\":true,\"textposition\":\"outside\",\"texttemplate\":\"%{y}\",\"x\":[\"Missing\",\"Female\",\"Collectives & Collabs\",\"Male\"],\"xaxis\":\"x\",\"y\":[41,744,93,1568],\"yaxis\":\"y\",\"type\":\"bar\",\"hoverinfo\":\"x+y\"},{\"alignmentgroup\":\"True\",\"legendgroup\":\"Still Images\",\"marker\":{\"color\":\"#90caf9\",\"pattern\":{\"shape\":\"\"}},\"name\":\"Still Images\",\"offsetgroup\":\"Still Images\",\"orientation\":\"v\",\"showlegend\":false,\"textposition\":\"outside\",\"texttemplate\":\"%{y}\",\"x\":[\"Female\",\"Collectives & Collabs\",\"Male\",\"Missing\"],\"xaxis\":\"x2\",\"y\":[112,20,282,20],\"yaxis\":\"y2\",\"type\":\"bar\",\"hoverinfo\":\"x+y\"},{\"alignmentgroup\":\"True\",\"legendgroup\":\"Media and Performance\",\"marker\":{\"color\":\"#ffe082\",\"pattern\":{\"shape\":\"\"}},\"name\":\"Media and Performance\",\"offsetgroup\":\"Media and Performance\",\"orientation\":\"v\",\"showlegend\":true,\"textposition\":\"outside\",\"texttemplate\":\"%{y}\",\"x\":[\"NB\",\"Missing\",\"Male\",\"Female\",\"Collectives & Collabs\"],\"xaxis\":\"x\",\"y\":[1,0,112,36,29],\"yaxis\":\"y\",\"type\":\"bar\",\"hoverinfo\":\"x+y\"},{\"alignmentgroup\":\"True\",\"legendgroup\":\"Media and Performance\",\"marker\":{\"color\":\"#ffe082\",\"pattern\":{\"shape\":\"\"}},\"name\":\"Media and Performance\",\"offsetgroup\":\"Media and Performance\",\"orientation\":\"v\",\"showlegend\":false,\"textposition\":\"outside\",\"texttemplate\":\"%{y}\",\"x\":[\"Collectives & Collabs\",\"Missing\",\"Male\",\"Female\"],\"xaxis\":\"x2\",\"y\":[56,69,538,192],\"yaxis\":\"y2\",\"type\":\"bar\",\"hoverinfo\":\"x+y\"},{\"alignmentgroup\":\"True\",\"legendgroup\":\"Moving Images\",\"marker\":{\"color\":\"#b94e52\",\"pattern\":{\"shape\":\"\"}},\"name\":\"Moving Images\",\"offsetgroup\":\"Moving Images\",\"orientation\":\"v\",\"showlegend\":true,\"textposition\":\"outside\",\"texttemplate\":\"%{y}\",\"x\":[\"Missing\",\"Male\",\"Female\",\"Collectives & Collabs\"],\"xaxis\":\"x\",\"y\":[5,25,7,3],\"yaxis\":\"y\",\"type\":\"bar\",\"hoverinfo\":\"x+y\"},{\"alignmentgroup\":\"True\",\"legendgroup\":\"Moving Images\",\"marker\":{\"color\":\"#b94e52\",\"pattern\":{\"shape\":\"\"}},\"name\":\"Moving Images\",\"offsetgroup\":\"Moving Images\",\"orientation\":\"v\",\"showlegend\":false,\"textposition\":\"outside\",\"texttemplate\":\"%{y}\",\"x\":[\"NB\",\"Missing\",\"Male\",\"Female\",\"Collectives & Collabs\"],\"xaxis\":\"x2\",\"y\":[2,55,612,237,51],\"yaxis\":\"y2\",\"type\":\"bar\",\"hoverinfo\":\"x+y\"}],                        {\"template\":{\"data\":{\"histogram2dcontour\":[{\"type\":\"histogram2dcontour\",\"colorbar\":{\"outlinewidth\":1,\"tickcolor\":\"rgb(36,36,36)\",\"ticks\":\"outside\"},\"colorscale\":[[0.0,\"#440154\"],[0.1111111111111111,\"#482878\"],[0.2222222222222222,\"#3e4989\"],[0.3333333333333333,\"#31688e\"],[0.4444444444444444,\"#26828e\"],[0.5555555555555556,\"#1f9e89\"],[0.6666666666666666,\"#35b779\"],[0.7777777777777778,\"#6ece58\"],[0.8888888888888888,\"#b5de2b\"],[1.0,\"#fde725\"]]}],\"choropleth\":[{\"type\":\"choropleth\",\"colorbar\":{\"outlinewidth\":1,\"tickcolor\":\"rgb(36,36,36)\",\"ticks\":\"outside\"}}],\"histogram2d\":[{\"type\":\"histogram2d\",\"colorbar\":{\"outlinewidth\":1,\"tickcolor\":\"rgb(36,36,36)\",\"ticks\":\"outside\"},\"colorscale\":[[0.0,\"#440154\"],[0.1111111111111111,\"#482878\"],[0.2222222222222222,\"#3e4989\"],[0.3333333333333333,\"#31688e\"],[0.4444444444444444,\"#26828e\"],[0.5555555555555556,\"#1f9e89\"],[0.6666666666666666,\"#35b779\"],[0.7777777777777778,\"#6ece58\"],[0.8888888888888888,\"#b5de2b\"],[1.0,\"#fde725\"]]}],\"heatmap\":[{\"type\":\"heatmap\",\"colorbar\":{\"outlinewidth\":1,\"tickcolor\":\"rgb(36,36,36)\",\"ticks\":\"outside\"},\"colorscale\":[[0.0,\"#440154\"],[0.1111111111111111,\"#482878\"],[0.2222222222222222,\"#3e4989\"],[0.3333333333333333,\"#31688e\"],[0.4444444444444444,\"#26828e\"],[0.5555555555555556,\"#1f9e89\"],[0.6666666666666666,\"#35b779\"],[0.7777777777777778,\"#6ece58\"],[0.8888888888888888,\"#b5de2b\"],[1.0,\"#fde725\"]]}],\"heatmapgl\":[{\"type\":\"heatmapgl\",\"colorbar\":{\"outlinewidth\":1,\"tickcolor\":\"rgb(36,36,36)\",\"ticks\":\"outside\"},\"colorscale\":[[0.0,\"#440154\"],[0.1111111111111111,\"#482878\"],[0.2222222222222222,\"#3e4989\"],[0.3333333333333333,\"#31688e\"],[0.4444444444444444,\"#26828e\"],[0.5555555555555556,\"#1f9e89\"],[0.6666666666666666,\"#35b779\"],[0.7777777777777778,\"#6ece58\"],[0.8888888888888888,\"#b5de2b\"],[1.0,\"#fde725\"]]}],\"contourcarpet\":[{\"type\":\"contourcarpet\",\"colorbar\":{\"outlinewidth\":1,\"tickcolor\":\"rgb(36,36,36)\",\"ticks\":\"outside\"}}],\"contour\":[{\"type\":\"contour\",\"colorbar\":{\"outlinewidth\":1,\"tickcolor\":\"rgb(36,36,36)\",\"ticks\":\"outside\"},\"colorscale\":[[0.0,\"#440154\"],[0.1111111111111111,\"#482878\"],[0.2222222222222222,\"#3e4989\"],[0.3333333333333333,\"#31688e\"],[0.4444444444444444,\"#26828e\"],[0.5555555555555556,\"#1f9e89\"],[0.6666666666666666,\"#35b779\"],[0.7777777777777778,\"#6ece58\"],[0.8888888888888888,\"#b5de2b\"],[1.0,\"#fde725\"]]}],\"surface\":[{\"type\":\"surface\",\"colorbar\":{\"outlinewidth\":1,\"tickcolor\":\"rgb(36,36,36)\",\"ticks\":\"outside\"},\"colorscale\":[[0.0,\"#440154\"],[0.1111111111111111,\"#482878\"],[0.2222222222222222,\"#3e4989\"],[0.3333333333333333,\"#31688e\"],[0.4444444444444444,\"#26828e\"],[0.5555555555555556,\"#1f9e89\"],[0.6666666666666666,\"#35b779\"],[0.7777777777777778,\"#6ece58\"],[0.8888888888888888,\"#b5de2b\"],[1.0,\"#fde725\"]]}],\"mesh3d\":[{\"type\":\"mesh3d\",\"colorbar\":{\"outlinewidth\":1,\"tickcolor\":\"rgb(36,36,36)\",\"ticks\":\"outside\"}}],\"scatter\":[{\"fillpattern\":{\"fillmode\":\"overlay\",\"size\":10,\"solidity\":0.2},\"type\":\"scatter\"}],\"parcoords\":[{\"type\":\"parcoords\",\"line\":{\"colorbar\":{\"outlinewidth\":1,\"tickcolor\":\"rgb(36,36,36)\",\"ticks\":\"outside\"}}}],\"scatterpolargl\":[{\"type\":\"scatterpolargl\",\"marker\":{\"colorbar\":{\"outlinewidth\":1,\"tickcolor\":\"rgb(36,36,36)\",\"ticks\":\"outside\"}}}],\"bar\":[{\"error_x\":{\"color\":\"rgb(36,36,36)\"},\"error_y\":{\"color\":\"rgb(36,36,36)\"},\"marker\":{\"line\":{\"color\":\"white\",\"width\":0.5},\"pattern\":{\"fillmode\":\"overlay\",\"size\":10,\"solidity\":0.2}},\"type\":\"bar\"}],\"scattergeo\":[{\"type\":\"scattergeo\",\"marker\":{\"colorbar\":{\"outlinewidth\":1,\"tickcolor\":\"rgb(36,36,36)\",\"ticks\":\"outside\"}}}],\"scatterpolar\":[{\"type\":\"scatterpolar\",\"marker\":{\"colorbar\":{\"outlinewidth\":1,\"tickcolor\":\"rgb(36,36,36)\",\"ticks\":\"outside\"}}}],\"histogram\":[{\"marker\":{\"line\":{\"color\":\"white\",\"width\":0.6}},\"type\":\"histogram\"}],\"scattergl\":[{\"type\":\"scattergl\",\"marker\":{\"colorbar\":{\"outlinewidth\":1,\"tickcolor\":\"rgb(36,36,36)\",\"ticks\":\"outside\"}}}],\"scatter3d\":[{\"type\":\"scatter3d\",\"line\":{\"colorbar\":{\"outlinewidth\":1,\"tickcolor\":\"rgb(36,36,36)\",\"ticks\":\"outside\"}},\"marker\":{\"colorbar\":{\"outlinewidth\":1,\"tickcolor\":\"rgb(36,36,36)\",\"ticks\":\"outside\"}}}],\"scattermapbox\":[{\"type\":\"scattermapbox\",\"marker\":{\"colorbar\":{\"outlinewidth\":1,\"tickcolor\":\"rgb(36,36,36)\",\"ticks\":\"outside\"}}}],\"scatterternary\":[{\"type\":\"scatterternary\",\"marker\":{\"colorbar\":{\"outlinewidth\":1,\"tickcolor\":\"rgb(36,36,36)\",\"ticks\":\"outside\"}}}],\"scattercarpet\":[{\"type\":\"scattercarpet\",\"marker\":{\"colorbar\":{\"outlinewidth\":1,\"tickcolor\":\"rgb(36,36,36)\",\"ticks\":\"outside\"}}}],\"carpet\":[{\"aaxis\":{\"endlinecolor\":\"rgb(36,36,36)\",\"gridcolor\":\"white\",\"linecolor\":\"white\",\"minorgridcolor\":\"white\",\"startlinecolor\":\"rgb(36,36,36)\"},\"baxis\":{\"endlinecolor\":\"rgb(36,36,36)\",\"gridcolor\":\"white\",\"linecolor\":\"white\",\"minorgridcolor\":\"white\",\"startlinecolor\":\"rgb(36,36,36)\"},\"type\":\"carpet\"}],\"table\":[{\"cells\":{\"fill\":{\"color\":\"rgb(237,237,237)\"},\"line\":{\"color\":\"white\"}},\"header\":{\"fill\":{\"color\":\"rgb(217,217,217)\"},\"line\":{\"color\":\"white\"}},\"type\":\"table\"}],\"barpolar\":[{\"marker\":{\"line\":{\"color\":\"white\",\"width\":0.5},\"pattern\":{\"fillmode\":\"overlay\",\"size\":10,\"solidity\":0.2}},\"type\":\"barpolar\"}],\"pie\":[{\"automargin\":true,\"type\":\"pie\"}]},\"layout\":{\"autotypenumbers\":\"strict\",\"colorway\":[\"#1F77B4\",\"#FF7F0E\",\"#2CA02C\",\"#D62728\",\"#9467BD\",\"#8C564B\",\"#E377C2\",\"#7F7F7F\",\"#BCBD22\",\"#17BECF\"],\"font\":{\"color\":\"rgb(36,36,36)\"},\"hovermode\":\"closest\",\"hoverlabel\":{\"align\":\"left\"},\"paper_bgcolor\":\"white\",\"plot_bgcolor\":\"white\",\"polar\":{\"bgcolor\":\"white\",\"angularaxis\":{\"gridcolor\":\"rgb(232,232,232)\",\"linecolor\":\"rgb(36,36,36)\",\"showgrid\":false,\"showline\":true,\"ticks\":\"outside\"},\"radialaxis\":{\"gridcolor\":\"rgb(232,232,232)\",\"linecolor\":\"rgb(36,36,36)\",\"showgrid\":false,\"showline\":true,\"ticks\":\"outside\"}},\"ternary\":{\"bgcolor\":\"white\",\"aaxis\":{\"gridcolor\":\"rgb(232,232,232)\",\"linecolor\":\"rgb(36,36,36)\",\"showgrid\":false,\"showline\":true,\"ticks\":\"outside\"},\"baxis\":{\"gridcolor\":\"rgb(232,232,232)\",\"linecolor\":\"rgb(36,36,36)\",\"showgrid\":false,\"showline\":true,\"ticks\":\"outside\"},\"caxis\":{\"gridcolor\":\"rgb(232,232,232)\",\"linecolor\":\"rgb(36,36,36)\",\"showgrid\":false,\"showline\":true,\"ticks\":\"outside\"}},\"coloraxis\":{\"colorbar\":{\"outlinewidth\":1,\"tickcolor\":\"rgb(36,36,36)\",\"ticks\":\"outside\"}},\"colorscale\":{\"sequential\":[[0.0,\"#440154\"],[0.1111111111111111,\"#482878\"],[0.2222222222222222,\"#3e4989\"],[0.3333333333333333,\"#31688e\"],[0.4444444444444444,\"#26828e\"],[0.5555555555555556,\"#1f9e89\"],[0.6666666666666666,\"#35b779\"],[0.7777777777777778,\"#6ece58\"],[0.8888888888888888,\"#b5de2b\"],[1.0,\"#fde725\"]],\"sequentialminus\":[[0.0,\"#440154\"],[0.1111111111111111,\"#482878\"],[0.2222222222222222,\"#3e4989\"],[0.3333333333333333,\"#31688e\"],[0.4444444444444444,\"#26828e\"],[0.5555555555555556,\"#1f9e89\"],[0.6666666666666666,\"#35b779\"],[0.7777777777777778,\"#6ece58\"],[0.8888888888888888,\"#b5de2b\"],[1.0,\"#fde725\"]],\"diverging\":[[0.0,\"rgb(103,0,31)\"],[0.1,\"rgb(178,24,43)\"],[0.2,\"rgb(214,96,77)\"],[0.3,\"rgb(244,165,130)\"],[0.4,\"rgb(253,219,199)\"],[0.5,\"rgb(247,247,247)\"],[0.6,\"rgb(209,229,240)\"],[0.7,\"rgb(146,197,222)\"],[0.8,\"rgb(67,147,195)\"],[0.9,\"rgb(33,102,172)\"],[1.0,\"rgb(5,48,97)\"]]},\"xaxis\":{\"gridcolor\":\"rgb(232,232,232)\",\"linecolor\":\"rgb(36,36,36)\",\"showgrid\":false,\"showline\":true,\"ticks\":\"outside\",\"title\":{\"standoff\":15},\"zerolinecolor\":\"rgb(36,36,36)\",\"automargin\":true,\"zeroline\":false},\"yaxis\":{\"gridcolor\":\"rgb(232,232,232)\",\"linecolor\":\"rgb(36,36,36)\",\"showgrid\":false,\"showline\":true,\"ticks\":\"outside\",\"title\":{\"standoff\":15},\"zerolinecolor\":\"rgb(36,36,36)\",\"automargin\":true,\"zeroline\":false},\"scene\":{\"xaxis\":{\"backgroundcolor\":\"white\",\"gridcolor\":\"rgb(232,232,232)\",\"linecolor\":\"rgb(36,36,36)\",\"showbackground\":true,\"showgrid\":false,\"showline\":true,\"ticks\":\"outside\",\"zerolinecolor\":\"rgb(36,36,36)\",\"gridwidth\":2,\"zeroline\":false},\"yaxis\":{\"backgroundcolor\":\"white\",\"gridcolor\":\"rgb(232,232,232)\",\"linecolor\":\"rgb(36,36,36)\",\"showbackground\":true,\"showgrid\":false,\"showline\":true,\"ticks\":\"outside\",\"zerolinecolor\":\"rgb(36,36,36)\",\"gridwidth\":2,\"zeroline\":false},\"zaxis\":{\"backgroundcolor\":\"white\",\"gridcolor\":\"rgb(232,232,232)\",\"linecolor\":\"rgb(36,36,36)\",\"showbackground\":true,\"showgrid\":false,\"showline\":true,\"ticks\":\"outside\",\"zerolinecolor\":\"rgb(36,36,36)\",\"gridwidth\":2,\"zeroline\":false}},\"shapedefaults\":{\"fillcolor\":\"black\",\"line\":{\"width\":0},\"opacity\":0.3},\"annotationdefaults\":{\"arrowhead\":0,\"arrowwidth\":1},\"geo\":{\"bgcolor\":\"white\",\"landcolor\":\"white\",\"subunitcolor\":\"white\",\"showland\":true,\"showlakes\":true,\"lakecolor\":\"white\"},\"title\":{\"x\":0.05},\"mapbox\":{\"style\":\"light\"}}},\"xaxis\":{\"anchor\":\"y\",\"domain\":[0.0,0.47],\"title\":{\"text\":\"Gender\"},\"showticklabels\":true,\"categoryorder\":\"array\",\"categoryarray\":[\"Male\",\"Female\",\"Collectives & Collabs\",\"Missing\",\"NB\"]},\"yaxis\":{\"anchor\":\"x\",\"domain\":[0.0,1.0],\"title\":{\"text\":\"Counts\"},\"type\":\"log\",\"showticklabels\":true},\"xaxis2\":{\"anchor\":\"y2\",\"domain\":[0.53,1.0],\"title\":{\"text\":\"Gender\"},\"showticklabels\":true,\"categoryorder\":\"array\",\"categoryarray\":[\"Male\",\"Female\",\"Collectives & Collabs\",\"Missing\",\"NB\"]},\"yaxis2\":{\"anchor\":\"x2\",\"domain\":[0.0,1.0],\"matches\":\"y\",\"showticklabels\":true,\"type\":\"log\"},\"annotations\":[{\"font\":{},\"showarrow\":false,\"text\":\"Source=MoMA\",\"x\":0.235,\"xanchor\":\"center\",\"xref\":\"paper\",\"y\":1.0,\"yanchor\":\"bottom\",\"yref\":\"paper\"},{\"font\":{},\"showarrow\":false,\"text\":\"Source=Rhizome\",\"x\":0.765,\"xanchor\":\"center\",\"xref\":\"paper\",\"y\":1.0,\"yanchor\":\"bottom\",\"yref\":\"paper\"}],\"legend\":{\"title\":{\"text\":\"Department\"},\"tracegroupgap\":0},\"title\":{\"text\":\"Gender Representation Between Rhizome and MoMA (sampled) by Departments\",\"x\":0.5},\"barmode\":\"group\",\"height\":800,\"width\":1600},                        {\"responsive\": true}                    ).then(function(){\n",
       "                            \n",
       "var gd = document.getElementById('68e55fb0-2251-40e3-ae36-34ea0bfa43ab');\n",
       "var x = new MutationObserver(function (mutations, observer) {{\n",
       "        var display = window.getComputedStyle(gd).display;\n",
       "        if (!display || display === 'none') {{\n",
       "            console.log([gd, 'removed!']);\n",
       "            Plotly.purge(gd);\n",
       "            observer.disconnect();\n",
       "        }}\n",
       "}});\n",
       "\n",
       "// Listen for the removal of the full notebook cells\n",
       "var notebookContainer = gd.closest('#notebook-container');\n",
       "if (notebookContainer) {{\n",
       "    x.observe(notebookContainer, {childList: true});\n",
       "}}\n",
       "\n",
       "// Listen for the clearing of the current output cell\n",
       "var outputEl = gd.closest('.output');\n",
       "if (outputEl) {{\n",
       "    x.observe(outputEl, {childList: true});\n",
       "}}\n",
       "\n",
       "                        })                };                });            </script>        </div>"
      ]
     },
     "metadata": {},
     "output_type": "display_data"
    }
   ],
   "source": [
    "fig = px.bar(moma_rhz_gender_compare.sort_values(by='Source'), x=\"Gender\", y=\"Counts\", color=\"Department\", facet_col=\"Source\",\n",
    "             facet_col_spacing=0.06,  facet_col_wrap=2,\n",
    "             title=\"Gender Representation Between Rhizome and MoMA (sampled) by Departments\", barmode='group', log_y=True,\n",
    "             text_auto=True, color_discrete_map ={\"Still Images\":\"#90caf9\", \"Media and Performance\":\"#ffe082\", \"Moving Images\":\"#b94e52\"} , category_orders={\"Department\": [\"Still Images\", 'Media and Performance', \"Moving Images\"]})\n",
    "fig.update_xaxes(matches=None, showticklabels=True,  categoryorder='array', categoryarray=['Male', 'Female', 'Collectives & Collabs', 'Missing', 'NB'])\n",
    "fig.update_yaxes(showticklabels=True)\n",
    "fig.update_traces(textposition=\"outside\", hoverinfo='x+y', hovertemplate=None), \n",
    "fig.update_layout(height=800, width=1600, title_x=0.5)\n",
    "fig.show()"
   ]
  },
  {
   "cell_type": "markdown",
   "metadata": {},
   "source": [
    "***"
   ]
  },
  {
   "cell_type": "markdown",
   "metadata": {},
   "source": [
    "### Representing Nationality by Dataset (Chiara)\n",
    "\n",
    "For the nationalities we decided to use maps for a simple and interactive visualisation of how the collections are spread across the globe. \n",
    "\n",
    "maps + bar chart -> no number normalization MoMA to avoid 0 for countries w/ less than 10"
   ]
  },
  {
   "cell_type": "code",
   "execution_count": null,
   "metadata": {},
   "outputs": [],
   "source": [
    "#Create a DF of MoMA nationalities transformed into countries and country code w/ counts\n",
    "\n",
    "#create working df for MoMA sam create dictionary keeping saved the 'others' nationalities\n",
    "nationalities = ', '.join(moma_rhz_compare.Nationality)\n",
    "nationalities = list(set(nationalities.split(', ')))\n",
    "df_moma_complete = pd.DataFrame(columns= [\"Nationality\", \"dateAcquired\", \"Count\", \"Females\", \"Males\", 'Missing', 'Non-Binary']) \n",
    "\n",
    "OthersMoma = dict()\n",
    "for nat in nationalities:\n",
    "    nat_sub =  moma_rhz_compare[moma_rhz_compare.Nationality == nat]   \n",
    "     \n",
    "    nat_sub.dateAcquired = nat_sub.dateAcquired.astype('str')\n",
    "    years = ', '.join(nat_sub.dateAcquired)\n",
    "    years = sorted(list([item[:4] for item in list(set(years.split(', ')))]))[0:-1]\n",
    "    for year in years:\n",
    "        year_sub = nat_sub[nat_sub.dateAcquired == year]\n",
    "        entries_year = len(year_sub)\n",
    "        f_count = len(year_sub[year_sub.Gender == 'F'])\n",
    "        m_count = len(year_sub[year_sub.Gender == 'M'])\n",
    "        missing_count = len(year_sub[year_sub.Gender == 'missing'])\n",
    "        nonbinary_count = len(year_sub[year_sub.Gender == 'NB'])\n",
    "        df_moma_complete.loc[len(df_moma_complete.index)] = [nat, year, entries_year, f_count, m_count, missing_count, nonbinary_count]\n",
    "  \n",
    "\n",
    "df_moma_complete.dateAcquired = df_moma_complete.dateAcquired.astype('int')\n",
    "MC_working_final = df_moma_complete.groupby(['Nationality','dateAcquired'],as_index=False).agg({'Count': 'sum','Females': 'sum','Males': 'sum','Missing': 'sum','Non-Binary': 'sum'})\n",
    "\n",
    "#create MOMA df with country names instead of nationality\n",
    "natios_MOMA = set(df_moma_complete.Nationality)\n",
    "\n",
    "missing = pd.DataFrame({'Aalborgenser': ['Korean', 'Native American', 'Canadian Inuit'], 'Aalborg': ['Korea', 'United States', 'Canada']})\n",
    "missing\n",
    "df_natParse = pd.read_csv('https://raw.githubusercontent.com/knowitall/chunkedextractor/master/src/main/resources/edu/knowitall/chunkedextractor/demonyms.csv')\n",
    "correct_country = pd.concat([missing, df_natParse])\n",
    "Country_df=df_moma_complete.copy()\n",
    "\n",
    "for item in natios_MOMA:\n",
    "    my = correct_country[correct_country['Aalborgenser'] == item]\n",
    "    \n",
    "    country = my[:1]['Aalborg'].values\n",
    "    \n",
    "    if len(country)>0:\n",
    "        country_str = my[:1]['Aalborg'].values[0]\n",
    "\n",
    "        Country_df.loc[Country_df[\"Nationality\"] == item, \"Nationality\"] = country_str\n",
    "\n",
    "MC_countries_count = pd.DataFrame(columns= ['Nation', 'Count'])\n",
    "\n",
    "new_set = set(Country_df.Nationality)\n",
    "for item in new_set:\n",
    "    subCountry = Country_df[Country_df['Nationality'] == item]\n",
    "    sum_acquisitions = subCountry['Count'].sum()\n",
    "    MC_countries_count.loc[len(MC_countries_count.index)] = [item, sum_acquisitions]\n",
    "\n",
    "MC_countries_count[\"country_code\"] = MC_countries_count[\"Nation\"].apply(lambda country: do_fuzzy_search(country))\n",
    "#MC_countries_count['Count'] = MC_countries_count['Count'].div(10).round(2)\n",
    "#MC_countries_count['Count'] = MC_countries_count['Count'].astype(int)"
   ]
  },
  {
   "cell_type": "code",
   "execution_count": 56,
   "metadata": {},
   "outputs": [
    {
     "data": {
      "text/plain": [
       "10470"
      ]
     },
     "execution_count": 56,
     "metadata": {},
     "output_type": "execute_result"
    }
   ],
   "source": [
    "len(moma_rhz_compare.loc[moma_rhz_compare['Nationality'] == 'American'])"
   ]
  },
  {
   "cell_type": "code",
   "execution_count": 65,
   "metadata": {},
   "outputs": [
    {
     "data": {
      "text/plain": [
       "18522"
      ]
     },
     "execution_count": 65,
     "metadata": {},
     "output_type": "execute_result"
    }
   ],
   "source": [
    "MC_countries_count.Count.sum()"
   ]
  },
  {
   "cell_type": "code",
   "execution_count": 39,
   "metadata": {},
   "outputs": [
    {
     "data": {
      "text/html": [
       "<div>\n",
       "<style scoped>\n",
       "    .dataframe tbody tr th:only-of-type {\n",
       "        vertical-align: middle;\n",
       "    }\n",
       "\n",
       "    .dataframe tbody tr th {\n",
       "        vertical-align: top;\n",
       "    }\n",
       "\n",
       "    .dataframe thead th {\n",
       "        text-align: right;\n",
       "    }\n",
       "</style>\n",
       "<table border=\"1\" class=\"dataframe\">\n",
       "  <thead>\n",
       "    <tr style=\"text-align: right;\">\n",
       "      <th></th>\n",
       "      <th>Nation</th>\n",
       "      <th>Count</th>\n",
       "      <th>country_code</th>\n",
       "    </tr>\n",
       "  </thead>\n",
       "  <tbody>\n",
       "    <tr>\n",
       "      <th>41</th>\n",
       "      <td>missing</td>\n",
       "      <td>417</td>\n",
       "      <td>nan</td>\n",
       "    </tr>\n",
       "    <tr>\n",
       "      <th>45</th>\n",
       "      <td>Nationality unknown</td>\n",
       "      <td>20</td>\n",
       "      <td>nan</td>\n",
       "    </tr>\n",
       "    <tr>\n",
       "      <th>46</th>\n",
       "      <td>Scotland</td>\n",
       "      <td>49</td>\n",
       "      <td>nan</td>\n",
       "    </tr>\n",
       "    <tr>\n",
       "      <th>61</th>\n",
       "      <td>Ivory Coast</td>\n",
       "      <td>1</td>\n",
       "      <td>nan</td>\n",
       "    </tr>\n",
       "    <tr>\n",
       "      <th>68</th>\n",
       "      <td>Yugoslavia</td>\n",
       "      <td>41</td>\n",
       "      <td>nan</td>\n",
       "    </tr>\n",
       "  </tbody>\n",
       "</table>\n",
       "</div>"
      ],
      "text/plain": [
       "                 Nation  Count country_code\n",
       "41              missing    417          nan\n",
       "45  Nationality unknown     20          nan\n",
       "46             Scotland     49          nan\n",
       "61          Ivory Coast      1          nan\n",
       "68           Yugoslavia     41          nan"
      ]
     },
     "execution_count": 39,
     "metadata": {},
     "output_type": "execute_result"
    }
   ],
   "source": [
    "MC_countries_count[\"country_code\"] = MC_countries_count[\"country_code\"].astype(str)\n",
    "MC_countries_count.loc[MC_countries_count['country_code'] == 'nan']"
   ]
  },
  {
   "cell_type": "code",
   "execution_count": 46,
   "metadata": {},
   "outputs": [
    {
     "data": {
      "text/html": [
       "<div>\n",
       "<style scoped>\n",
       "    .dataframe tbody tr th:only-of-type {\n",
       "        vertical-align: middle;\n",
       "    }\n",
       "\n",
       "    .dataframe tbody tr th {\n",
       "        vertical-align: top;\n",
       "    }\n",
       "\n",
       "    .dataframe thead th {\n",
       "        text-align: right;\n",
       "    }\n",
       "</style>\n",
       "<table border=\"1\" class=\"dataframe\">\n",
       "  <thead>\n",
       "    <tr style=\"text-align: right;\">\n",
       "      <th></th>\n",
       "      <th>Title</th>\n",
       "      <th>Artist</th>\n",
       "      <th>ConstituentID</th>\n",
       "      <th>dateCreated</th>\n",
       "      <th>Medium</th>\n",
       "      <th>Department</th>\n",
       "      <th>dateAcquired</th>\n",
       "      <th>URL</th>\n",
       "      <th>ThumbnailURL</th>\n",
       "      <th>Gender</th>\n",
       "      <th>Nationality</th>\n",
       "    </tr>\n",
       "  </thead>\n",
       "  <tbody>\n",
       "    <tr>\n",
       "      <th>66</th>\n",
       "      <td>Villa dall'Ava, Paris (Saint-Cloud), France, E...</td>\n",
       "      <td>Rem Koolhaas, Madelon Vriesendorp</td>\n",
       "      <td>6956, 6957</td>\n",
       "      <td>1987</td>\n",
       "      <td>Synthetic polymer paint and ink on paper</td>\n",
       "      <td>Architecture &amp; Design</td>\n",
       "      <td>2000</td>\n",
       "      <td>http://www.moma.org/collection/works/82</td>\n",
       "      <td>http://www.moma.org/media/W1siZiIsIjYwMTEyIl0s...</td>\n",
       "      <td>M, F</td>\n",
       "      <td>Dutch, Dutch</td>\n",
       "    </tr>\n",
       "    <tr>\n",
       "      <th>1271</th>\n",
       "      <td>Moosk Wall Mounted Radio</td>\n",
       "      <td>Philippe Starck, Jerome Olivet</td>\n",
       "      <td>8418, 8487</td>\n",
       "      <td>1996</td>\n",
       "      <td>ABS (acrylonitrite-butadiene-styrene)</td>\n",
       "      <td>Architecture &amp; Design</td>\n",
       "      <td>2000</td>\n",
       "      <td>http://www.moma.org/collection/works/1922</td>\n",
       "      <td>http://www.moma.org/media/W1siZiIsIjIyNjI3NSJd...</td>\n",
       "      <td>M, M</td>\n",
       "      <td>French, missing</td>\n",
       "    </tr>\n",
       "    <tr>\n",
       "      <th>1371</th>\n",
       "      <td>Blue Mirror Cloth with Wrinkles</td>\n",
       "      <td>Koichi Yoshimura, Reiko Sudo</td>\n",
       "      <td>7505, 7045</td>\n",
       "      <td>1995</td>\n",
       "      <td>Polyester and polyester monofilament</td>\n",
       "      <td>Architecture &amp; Design</td>\n",
       "      <td>2000</td>\n",
       "      <td>http://www.moma.org/collection/works/2051</td>\n",
       "      <td>http://www.moma.org/media/W1siZiIsIjU5NTczIl0s...</td>\n",
       "      <td>M, F</td>\n",
       "      <td>Japanese, Japanese</td>\n",
       "    </tr>\n",
       "    <tr>\n",
       "      <th>2367</th>\n",
       "      <td>Cone Chair</td>\n",
       "      <td>Fernando Campana, Humberto Campana</td>\n",
       "      <td>8456, 8457</td>\n",
       "      <td>1997</td>\n",
       "      <td>Stainless steel and clear polycarbonate</td>\n",
       "      <td>Architecture &amp; Design</td>\n",
       "      <td>2000</td>\n",
       "      <td>http://www.moma.org/collection/works/3194</td>\n",
       "      <td>http://www.moma.org/media/W1siZiIsIjIxMDk4NiJd...</td>\n",
       "      <td>M, M</td>\n",
       "      <td>Brazilian, Brazilian</td>\n",
       "    </tr>\n",
       "    <tr>\n",
       "      <th>2369</th>\n",
       "      <td>Inflating Table</td>\n",
       "      <td>Fernando Campana, Humberto Campana</td>\n",
       "      <td>8456, 8457</td>\n",
       "      <td>1996</td>\n",
       "      <td>Polyvinylchloride (PVC) film and anodized alum...</td>\n",
       "      <td>Architecture &amp; Design</td>\n",
       "      <td>2000</td>\n",
       "      <td>http://www.moma.org/collection/works/3196</td>\n",
       "      <td>NaN</td>\n",
       "      <td>M, M</td>\n",
       "      <td>Brazilian, Brazilian</td>\n",
       "    </tr>\n",
       "    <tr>\n",
       "      <th>...</th>\n",
       "      <td>...</td>\n",
       "      <td>...</td>\n",
       "      <td>...</td>\n",
       "      <td>...</td>\n",
       "      <td>...</td>\n",
       "      <td>...</td>\n",
       "      <td>...</td>\n",
       "      <td>...</td>\n",
       "      <td>...</td>\n",
       "      <td>...</td>\n",
       "      <td>...</td>\n",
       "    </tr>\n",
       "    <tr>\n",
       "      <th>137691</th>\n",
       "      <td>Algae Geographies cup</td>\n",
       "      <td>Atelier Luma/ Luma Arles, Eric Klarenbeek, Maa...</td>\n",
       "      <td>131930, 132165, 132166, 132113</td>\n",
       "      <td>2019</td>\n",
       "      <td>Microalgae and sugar-based biopolymer</td>\n",
       "      <td>Architecture &amp; Design</td>\n",
       "      <td>2019</td>\n",
       "      <td>NaN</td>\n",
       "      <td>NaN</td>\n",
       "      <td>missing, M, F, missing</td>\n",
       "      <td>missing, Dutch, Dutch, Dutch</td>\n",
       "    </tr>\n",
       "    <tr>\n",
       "      <th>137692</th>\n",
       "      <td>Algae Geographies cup</td>\n",
       "      <td>Atelier Luma/ Luma Arles, Eric Klarenbeek, Maa...</td>\n",
       "      <td>131930, 132165, 132166, 132113</td>\n",
       "      <td>2019</td>\n",
       "      <td>Microalgae and sugar-based biopolymer</td>\n",
       "      <td>Architecture &amp; Design</td>\n",
       "      <td>2019</td>\n",
       "      <td>NaN</td>\n",
       "      <td>NaN</td>\n",
       "      <td>missing, M, F, missing</td>\n",
       "      <td>missing, Dutch, Dutch, Dutch</td>\n",
       "    </tr>\n",
       "    <tr>\n",
       "      <th>137693</th>\n",
       "      <td>Algae Geographies cup</td>\n",
       "      <td>Atelier Luma/ Luma Arles, Eric Klarenbeek, Maa...</td>\n",
       "      <td>131930, 132165, 132166, 132113</td>\n",
       "      <td>2019</td>\n",
       "      <td>Microalgae and sugar-based biopolymer</td>\n",
       "      <td>Architecture &amp; Design</td>\n",
       "      <td>2019</td>\n",
       "      <td>NaN</td>\n",
       "      <td>NaN</td>\n",
       "      <td>missing, M, F, missing</td>\n",
       "      <td>missing, Dutch, Dutch, Dutch</td>\n",
       "    </tr>\n",
       "    <tr>\n",
       "      <th>137694</th>\n",
       "      <td>Algae Geographies cup</td>\n",
       "      <td>Atelier Luma/ Luma Arles, Eric Klarenbeek, Maa...</td>\n",
       "      <td>131930, 132165, 132166, 132113</td>\n",
       "      <td>2019</td>\n",
       "      <td>Microalgae and sugar-based biopolymer</td>\n",
       "      <td>Architecture &amp; Design</td>\n",
       "      <td>2019</td>\n",
       "      <td>NaN</td>\n",
       "      <td>NaN</td>\n",
       "      <td>missing, M, F, missing</td>\n",
       "      <td>missing, Dutch, Dutch, Dutch</td>\n",
       "    </tr>\n",
       "    <tr>\n",
       "      <th>137695</th>\n",
       "      <td>Algae Geographies cup</td>\n",
       "      <td>Atelier Luma/ Luma Arles, Eric Klarenbeek, Maa...</td>\n",
       "      <td>131930, 132165, 132166, 132113</td>\n",
       "      <td>2019</td>\n",
       "      <td>Microalgae and sugar-based biopolymer</td>\n",
       "      <td>Architecture &amp; Design</td>\n",
       "      <td>2019</td>\n",
       "      <td>NaN</td>\n",
       "      <td>NaN</td>\n",
       "      <td>missing, M, F, missing</td>\n",
       "      <td>missing, Dutch, Dutch, Dutch</td>\n",
       "    </tr>\n",
       "  </tbody>\n",
       "</table>\n",
       "<p>1923 rows × 11 columns</p>\n",
       "</div>"
      ],
      "text/plain": [
       "                                                    Title  \\\n",
       "66      Villa dall'Ava, Paris (Saint-Cloud), France, E...   \n",
       "1271                             Moosk Wall Mounted Radio   \n",
       "1371                      Blue Mirror Cloth with Wrinkles   \n",
       "2367                                           Cone Chair   \n",
       "2369                                      Inflating Table   \n",
       "...                                                   ...   \n",
       "137691                              Algae Geographies cup   \n",
       "137692                              Algae Geographies cup   \n",
       "137693                              Algae Geographies cup   \n",
       "137694                              Algae Geographies cup   \n",
       "137695                              Algae Geographies cup   \n",
       "\n",
       "                                                   Artist  \\\n",
       "66                      Rem Koolhaas, Madelon Vriesendorp   \n",
       "1271                       Philippe Starck, Jerome Olivet   \n",
       "1371                         Koichi Yoshimura, Reiko Sudo   \n",
       "2367                   Fernando Campana, Humberto Campana   \n",
       "2369                   Fernando Campana, Humberto Campana   \n",
       "...                                                   ...   \n",
       "137691  Atelier Luma/ Luma Arles, Eric Klarenbeek, Maa...   \n",
       "137692  Atelier Luma/ Luma Arles, Eric Klarenbeek, Maa...   \n",
       "137693  Atelier Luma/ Luma Arles, Eric Klarenbeek, Maa...   \n",
       "137694  Atelier Luma/ Luma Arles, Eric Klarenbeek, Maa...   \n",
       "137695  Atelier Luma/ Luma Arles, Eric Klarenbeek, Maa...   \n",
       "\n",
       "                         ConstituentID  dateCreated  \\\n",
       "66                          6956, 6957         1987   \n",
       "1271                        8418, 8487         1996   \n",
       "1371                        7505, 7045         1995   \n",
       "2367                        8456, 8457         1997   \n",
       "2369                        8456, 8457         1996   \n",
       "...                                ...          ...   \n",
       "137691  131930, 132165, 132166, 132113         2019   \n",
       "137692  131930, 132165, 132166, 132113         2019   \n",
       "137693  131930, 132165, 132166, 132113         2019   \n",
       "137694  131930, 132165, 132166, 132113         2019   \n",
       "137695  131930, 132165, 132166, 132113         2019   \n",
       "\n",
       "                                                   Medium  \\\n",
       "66               Synthetic polymer paint and ink on paper   \n",
       "1271                ABS (acrylonitrite-butadiene-styrene)   \n",
       "1371                 Polyester and polyester monofilament   \n",
       "2367              Stainless steel and clear polycarbonate   \n",
       "2369    Polyvinylchloride (PVC) film and anodized alum...   \n",
       "...                                                   ...   \n",
       "137691              Microalgae and sugar-based biopolymer   \n",
       "137692              Microalgae and sugar-based biopolymer   \n",
       "137693              Microalgae and sugar-based biopolymer   \n",
       "137694              Microalgae and sugar-based biopolymer   \n",
       "137695              Microalgae and sugar-based biopolymer   \n",
       "\n",
       "                   Department  dateAcquired  \\\n",
       "66      Architecture & Design          2000   \n",
       "1271    Architecture & Design          2000   \n",
       "1371    Architecture & Design          2000   \n",
       "2367    Architecture & Design          2000   \n",
       "2369    Architecture & Design          2000   \n",
       "...                       ...           ...   \n",
       "137691  Architecture & Design          2019   \n",
       "137692  Architecture & Design          2019   \n",
       "137693  Architecture & Design          2019   \n",
       "137694  Architecture & Design          2019   \n",
       "137695  Architecture & Design          2019   \n",
       "\n",
       "                                              URL  \\\n",
       "66        http://www.moma.org/collection/works/82   \n",
       "1271    http://www.moma.org/collection/works/1922   \n",
       "1371    http://www.moma.org/collection/works/2051   \n",
       "2367    http://www.moma.org/collection/works/3194   \n",
       "2369    http://www.moma.org/collection/works/3196   \n",
       "...                                           ...   \n",
       "137691                                        NaN   \n",
       "137692                                        NaN   \n",
       "137693                                        NaN   \n",
       "137694                                        NaN   \n",
       "137695                                        NaN   \n",
       "\n",
       "                                             ThumbnailURL  \\\n",
       "66      http://www.moma.org/media/W1siZiIsIjYwMTEyIl0s...   \n",
       "1271    http://www.moma.org/media/W1siZiIsIjIyNjI3NSJd...   \n",
       "1371    http://www.moma.org/media/W1siZiIsIjU5NTczIl0s...   \n",
       "2367    http://www.moma.org/media/W1siZiIsIjIxMDk4NiJd...   \n",
       "2369                                                  NaN   \n",
       "...                                                   ...   \n",
       "137691                                                NaN   \n",
       "137692                                                NaN   \n",
       "137693                                                NaN   \n",
       "137694                                                NaN   \n",
       "137695                                                NaN   \n",
       "\n",
       "                        Gender                   Nationality  \n",
       "66                        M, F                  Dutch, Dutch  \n",
       "1271                      M, M               French, missing  \n",
       "1371                      M, F            Japanese, Japanese  \n",
       "2367                      M, M          Brazilian, Brazilian  \n",
       "2369                      M, M          Brazilian, Brazilian  \n",
       "...                        ...                           ...  \n",
       "137691  missing, M, F, missing  missing, Dutch, Dutch, Dutch  \n",
       "137692  missing, M, F, missing  missing, Dutch, Dutch, Dutch  \n",
       "137693  missing, M, F, missing  missing, Dutch, Dutch, Dutch  \n",
       "137694  missing, M, F, missing  missing, Dutch, Dutch, Dutch  \n",
       "137695  missing, M, F, missing  missing, Dutch, Dutch, Dutch  \n",
       "\n",
       "[1923 rows x 11 columns]"
      ]
     },
     "execution_count": 46,
     "metadata": {},
     "output_type": "execute_result"
    }
   ],
   "source": [
    "test = moma_rhz_compare.loc[moma_rhz_compare.Nationality.str.contains(',')]\n",
    "test "
   ]
  },
  {
   "cell_type": "code",
   "execution_count": null,
   "metadata": {},
   "outputs": [],
   "source": [
    "#Create a DF of Rhizome nationalities transformed into countries and country code w/ counts\n",
    "\n",
    "# create working df for RHZ create dictionary keeping saved the 'others' nationalities\n",
    "nationalities = ', '.join(rhz_artworks.Nationality)\n",
    "nationalities = list(set(nationalities.split(', ')))\n",
    "rhz_complete = pd.DataFrame(columns= [\"Nationality\", \"dateAcquired\", \"Count\", \"Females\", \"Males\", 'Missing', 'Non-Binary']) \n",
    "\n",
    "OthersRHZ = dict()\n",
    "for nat in nationalities:\n",
    "    nat_sub =  rhz_artworks[rhz_artworks.Nationality == nat]   \n",
    "     \n",
    "    nat_sub.dateAcquired = nat_sub.dateAcquired.astype('str')\n",
    "    years = ', '.join(nat_sub.dateAcquired)\n",
    "    years = sorted(list([item[:4] for item in list(set(years.split(', ')))]))[0:-1]\n",
    "    for year in years:\n",
    "        year_sub = nat_sub[nat_sub.dateAcquired == year]\n",
    "        entries_year = len(year_sub)\n",
    "        f_count = len(year_sub[year_sub.Gender == 'F'])\n",
    "        m_count = len(year_sub[year_sub.Gender == 'M'])\n",
    "        missing_count = len(year_sub[year_sub.Gender == 'missing'])\n",
    "        nonbinary_count = len(year_sub[year_sub.Gender == 'NB'])\n",
    "        rhz_complete.loc[len(rhz_complete.index)] = [nat, year, entries_year, f_count, m_count, missing_count, nonbinary_count]\n",
    "  \n",
    "\n",
    "rhz_complete.dateAcquired = rhz_complete.dateAcquired.astype('int')\n",
    "RHZ_working_final = rhz_complete.groupby(['Nationality','dateAcquired'],as_index=False).agg({'Count': 'sum','Females': 'sum','Males': 'sum','Missing': 'sum','Non-Binary': 'sum'})\n",
    "\n",
    "\n",
    "# create MOMA df with country names instead of nationality\n",
    "natios_RHZ = set(rhz_complete.Nationality)\n",
    "\n",
    "missing = pd.DataFrame({'Aalborgenser': ['Korean', 'Native American', 'Canadian Inuit'], 'Aalborg': ['Korea', 'United States', 'Canada']})\n",
    "missing\n",
    "df_natParse = pd.read_csv('https://raw.githubusercontent.com/knowitall/chunkedextractor/master/src/main/resources/edu/knowitall/chunkedextractor/demonyms.csv')\n",
    "correct_country = pd.concat([missing, df_natParse])\n",
    "Country_df=rhz_complete.copy()\n",
    "\n",
    "for item in natios_RHZ:\n",
    "    my = correct_country[correct_country['Aalborgenser'] == item]\n",
    "    \n",
    "    country = my[:1]['Aalborg'].values\n",
    "    \n",
    "    if len(country)>0:\n",
    "        country_str = my[:1]['Aalborg'].values[0]\n",
    "\n",
    "        Country_df.loc[Country_df[\"Nationality\"] == item, \"Nationality\"] = country_str\n",
    "\n",
    "RHZ_countries_count = pd.DataFrame(columns= ['Nation', 'Count'])\n",
    "\n",
    "new_set = set(Country_df.Nationality)\n",
    "for item in new_set:\n",
    "    subCountry = Country_df[Country_df['Nationality'] == item]\n",
    "    sum_acquisitions = subCountry['Count'].sum()\n",
    "    RHZ_countries_count.loc[len(RHZ_countries_count.index)] = [item, sum_acquisitions]\n",
    "\n",
    "RHZ_countries_count[\"country_code\"] = RHZ_countries_count[\"Nation\"].apply(lambda country: do_fuzzy_search(country))"
   ]
  },
  {
   "cell_type": "code",
   "execution_count": 41,
   "metadata": {},
   "outputs": [
    {
     "data": {
      "text/html": [
       "<div>\n",
       "<style scoped>\n",
       "    .dataframe tbody tr th:only-of-type {\n",
       "        vertical-align: middle;\n",
       "    }\n",
       "\n",
       "    .dataframe tbody tr th {\n",
       "        vertical-align: top;\n",
       "    }\n",
       "\n",
       "    .dataframe thead th {\n",
       "        text-align: right;\n",
       "    }\n",
       "</style>\n",
       "<table border=\"1\" class=\"dataframe\">\n",
       "  <thead>\n",
       "    <tr style=\"text-align: right;\">\n",
       "      <th></th>\n",
       "      <th>Nation</th>\n",
       "      <th>Count</th>\n",
       "      <th>country_code</th>\n",
       "    </tr>\n",
       "  </thead>\n",
       "  <tbody>\n",
       "    <tr>\n",
       "      <th>2</th>\n",
       "      <td>Finnish</td>\n",
       "      <td>1</td>\n",
       "      <td>nan</td>\n",
       "    </tr>\n",
       "    <tr>\n",
       "      <th>6</th>\n",
       "      <td>Brasilian</td>\n",
       "      <td>21</td>\n",
       "      <td>nan</td>\n",
       "    </tr>\n",
       "    <tr>\n",
       "      <th>12</th>\n",
       "      <td>Dutch/Brazilian</td>\n",
       "      <td>66</td>\n",
       "      <td>nan</td>\n",
       "    </tr>\n",
       "    <tr>\n",
       "      <th>13</th>\n",
       "      <td>American/British</td>\n",
       "      <td>2</td>\n",
       "      <td>nan</td>\n",
       "    </tr>\n",
       "    <tr>\n",
       "      <th>14</th>\n",
       "      <td>British/Canadian</td>\n",
       "      <td>2</td>\n",
       "      <td>nan</td>\n",
       "    </tr>\n",
       "    <tr>\n",
       "      <th>15</th>\n",
       "      <td>British/Irish</td>\n",
       "      <td>6</td>\n",
       "      <td>nan</td>\n",
       "    </tr>\n",
       "    <tr>\n",
       "      <th>20</th>\n",
       "      <td>American/Canadian</td>\n",
       "      <td>1</td>\n",
       "      <td>nan</td>\n",
       "    </tr>\n",
       "    <tr>\n",
       "      <th>21</th>\n",
       "      <td>Icelandic/American</td>\n",
       "      <td>6</td>\n",
       "      <td>nan</td>\n",
       "    </tr>\n",
       "    <tr>\n",
       "      <th>23</th>\n",
       "      <td>Greek/Australian</td>\n",
       "      <td>1</td>\n",
       "      <td>nan</td>\n",
       "    </tr>\n",
       "    <tr>\n",
       "      <th>25</th>\n",
       "      <td>Chilean?Chilean</td>\n",
       "      <td>2</td>\n",
       "      <td>nan</td>\n",
       "    </tr>\n",
       "    <tr>\n",
       "      <th>29</th>\n",
       "      <td>Polish/American</td>\n",
       "      <td>2</td>\n",
       "      <td>nan</td>\n",
       "    </tr>\n",
       "    <tr>\n",
       "      <th>34</th>\n",
       "      <td>missing</td>\n",
       "      <td>606</td>\n",
       "      <td>nan</td>\n",
       "    </tr>\n",
       "    <tr>\n",
       "      <th>37</th>\n",
       "      <td>Afghan/American</td>\n",
       "      <td>1</td>\n",
       "      <td>nan</td>\n",
       "    </tr>\n",
       "    <tr>\n",
       "      <th>39</th>\n",
       "      <td>American/South African</td>\n",
       "      <td>8</td>\n",
       "      <td>nan</td>\n",
       "    </tr>\n",
       "    <tr>\n",
       "      <th>40</th>\n",
       "      <td>Brasilian/American</td>\n",
       "      <td>3</td>\n",
       "      <td>nan</td>\n",
       "    </tr>\n",
       "    <tr>\n",
       "      <th>58</th>\n",
       "      <td>Mexican/American</td>\n",
       "      <td>1</td>\n",
       "      <td>nan</td>\n",
       "    </tr>\n",
       "  </tbody>\n",
       "</table>\n",
       "</div>"
      ],
      "text/plain": [
       "                    Nation  Count country_code\n",
       "2                 Finnish       1          nan\n",
       "6                Brasilian     21          nan\n",
       "12         Dutch/Brazilian     66          nan\n",
       "13        American/British      2          nan\n",
       "14        British/Canadian      2          nan\n",
       "15           British/Irish      6          nan\n",
       "20       American/Canadian      1          nan\n",
       "21      Icelandic/American      6          nan\n",
       "23        Greek/Australian      1          nan\n",
       "25         Chilean?Chilean      2          nan\n",
       "29         Polish/American      2          nan\n",
       "34                 missing    606          nan\n",
       "37         Afghan/American      1          nan\n",
       "39  American/South African      8          nan\n",
       "40      Brasilian/American      3          nan\n",
       "58        Mexican/American      1          nan"
      ]
     },
     "execution_count": 41,
     "metadata": {},
     "output_type": "execute_result"
    }
   ],
   "source": [
    "RHZ_countries_count[\"country_code\"] = RHZ_countries_count[\"country_code\"].astype(str)\n",
    "RHZ_countries_count.loc[RHZ_countries_count['country_code'] == 'nan']"
   ]
  },
  {
   "cell_type": "code",
   "execution_count": 319,
   "metadata": {},
   "outputs": [
    {
     "data": {
      "application/vnd.jupyter.widget-view+json": {
       "model_id": "ebbdf0af36f741ab8d8921d41c8812bf",
       "version_major": 2,
       "version_minor": 0
      },
      "text/plain": [
       "VBox(children=(FigureWidget({\n",
       "    'data': [{'autocolorscale': False,\n",
       "              'colorbar': {'title': {'tex…"
      ]
     },
     "metadata": {},
     "output_type": "display_data"
    }
   ],
   "source": [
    "#MAP IT! \n",
    "\n",
    "moma_map = go.Figure(data=go.Choropleth(\n",
    "    locations = MC_countries_count['country_code'],\n",
    "    z = MC_countries_count['Count'].apply(np.floor),\n",
    "    text = MC_countries_count['Nation'],\n",
    "    colorscale=[\n",
    "            [0,\"#8e5a79\"],\n",
    "            [0.3 ,\"#925f7d\"],\n",
    "            [0.325 ,\"#966582\"],\n",
    "            [0.350 ,\"#9a6a87\"],\n",
    "            [0.375,\"#9e708b\"],\n",
    "            [0.4 ,\"#a27590\"],\n",
    "            [0.525 ,\"#b690a6\"],\n",
    "            [0.550 ,\"#ba96ab\"],\n",
    "            [0.575,\"#be9baf\"],\n",
    "            [0.6 ,\"#c2a0b4\"],\n",
    "            [0.625 ,\"#c6a6b8\"],\n",
    "            [0.650 ,\"#caabbd\"],\n",
    "            [0.675,\"#ceb1c2\"],\n",
    "            [0.7 ,\"#d2b6c6\"],\n",
    "            [0.725 ,\"#d6bccb\"],\n",
    "            [0.995 ,\"#d9c1cf\"],\n",
    "            [1, \"#FFFFFF\"]],\n",
    "    autocolorscale=False,\n",
    "    reversescale=True,\n",
    "    marker_line_color='darkgray',\n",
    "    marker_line_width=0.5,\n",
    "    colorbar_title = 'Total artworks',\n",
    "))\n",
    "\n",
    "moma_map.update_traces(hoverinfo='z+text')\n",
    "\n",
    "moma_map.update_layout(\n",
    "    title_text='Nationality of Solo Artists in MoMA Collection (Sampled)',\n",
    "    geo=dict(\n",
    "        showframe=False,\n",
    "        showcoastlines=False,\n",
    "        projection_type='natural earth',\n",
    "        showocean=True, oceancolor=\"LightBlue\"\n",
    "    ),\n",
    "    height = 700, title_x = 0.5\n",
    ")\n",
    "\n",
    "rhz_map = go.Figure(data=go.Choropleth(\n",
    "    locations = RHZ_countries_count['country_code'],\n",
    "    z = RHZ_countries_count['Count'].apply(np.floor),\n",
    "    text = RHZ_countries_count['Nation'],\n",
    "    colorscale=[\n",
    "            [0,\"#8e5a79\"],\n",
    "            [0.3 ,\"#925f7d\"],\n",
    "            [0.325 ,\"#966582\"],\n",
    "            [0.350 ,\"#9a6a87\"],\n",
    "            [0.375,\"#9e708b\"],\n",
    "            [0.4 ,\"#a27590\"],\n",
    "            [0.525 ,\"#b690a6\"],\n",
    "            [0.550 ,\"#ba96ab\"],\n",
    "            [0.575,\"#be9baf\"],\n",
    "            [0.6 ,\"#c2a0b4\"],\n",
    "            [0.625 ,\"#c6a6b8\"],\n",
    "            [0.650 ,\"#caabbd\"],\n",
    "            [0.675,\"#ceb1c2\"],\n",
    "            [0.7 ,\"#d2b6c6\"],\n",
    "            [0.725 ,\"#d6bccb\"],\n",
    "            [0.995 ,\"#d9c1cf\"],\n",
    "            [1, \"#FFFFFF\"]],\n",
    "    autocolorscale=False,\n",
    "    reversescale=True,\n",
    "    marker_line_color='darkgray',\n",
    "    marker_line_width=0.5,\n",
    "    colorbar_title = 'Total artworks',\n",
    "))\n",
    "\n",
    "rhz_map.update_traces(hoverinfo='z+text')\n",
    "\n",
    "rhz_map.update_layout(\n",
    "    title_text='Nationality of Solo Artists in Rhizome Collection',\n",
    "    geo=dict(\n",
    "        showframe=False,\n",
    "        showcoastlines=False,\n",
    "        projection_type='natural earth',\n",
    "        showocean=True, oceancolor=\"LightBlue\"\n",
    "    ),\n",
    "    height = 700, title_x=0.5\n",
    ")\n",
    "\n",
    "rhz_map = go.FigureWidget(rhz_map)\n",
    "moma_map = go.FigureWidget(moma_map)\n",
    "maps = ipw.VBox([rhz_map, moma_map])\n",
    "maps"
   ]
  },
  {
   "cell_type": "code",
   "execution_count": 14,
   "metadata": {},
   "outputs": [],
   "source": [
    "north_south_divide = pd.read_excel(path+'divide_list.xlsx')\n",
    "global_north = north_south_divide.loc[north_south_divide['Divide'] == 'Global North']\n",
    "global_north = global_north['Country'].to_list()\n",
    "global_south = north_south_divide.loc[north_south_divide['Divide'] == 'Global South']\n",
    "global_south = global_south['Country'].to_list()\n",
    "\n",
    "#Mixed  = ['Afghan/American', 'Dutch/Brazilian', 'Iranian/Canadian''British/Canadian']\n",
    "Nope = ['Nationality unknown', 'missing']"
   ]
  },
  {
   "cell_type": "code",
   "execution_count": 11,
   "metadata": {},
   "outputs": [],
   "source": [
    "def getContinent(nation):\n",
    "    if nation in global_north:\n",
    "        return 'Global North'\n",
    "    elif nation in global_south:\n",
    "        return 'Global South'\n",
    "    else: \n",
    "        'missing'"
   ]
  },
  {
   "cell_type": "code",
   "execution_count": 27,
   "metadata": {},
   "outputs": [
    {
     "data": {
      "text/html": [
       "<div>\n",
       "<style scoped>\n",
       "    .dataframe tbody tr th:only-of-type {\n",
       "        vertical-align: middle;\n",
       "    }\n",
       "\n",
       "    .dataframe tbody tr th {\n",
       "        vertical-align: top;\n",
       "    }\n",
       "\n",
       "    .dataframe thead th {\n",
       "        text-align: right;\n",
       "    }\n",
       "</style>\n",
       "<table border=\"1\" class=\"dataframe\">\n",
       "  <thead>\n",
       "    <tr style=\"text-align: right;\">\n",
       "      <th></th>\n",
       "      <th>Nation</th>\n",
       "      <th>Count</th>\n",
       "      <th>country_code</th>\n",
       "      <th>Divide</th>\n",
       "    </tr>\n",
       "  </thead>\n",
       "  <tbody>\n",
       "    <tr>\n",
       "      <th>11</th>\n",
       "      <td>Bosnia And Herzegovina</td>\n",
       "      <td>4</td>\n",
       "      <td>BIH</td>\n",
       "      <td>None</td>\n",
       "    </tr>\n",
       "    <tr>\n",
       "      <th>33</th>\n",
       "      <td>Republic Of The Congo</td>\n",
       "      <td>1</td>\n",
       "      <td>COG</td>\n",
       "      <td>None</td>\n",
       "    </tr>\n",
       "    <tr>\n",
       "      <th>36</th>\n",
       "      <td>Russia</td>\n",
       "      <td>35</td>\n",
       "      <td>RUS</td>\n",
       "      <td>None</td>\n",
       "    </tr>\n",
       "    <tr>\n",
       "      <th>38</th>\n",
       "      <td>Korea</td>\n",
       "      <td>67</td>\n",
       "      <td>PRK</td>\n",
       "      <td>None</td>\n",
       "    </tr>\n",
       "    <tr>\n",
       "      <th>41</th>\n",
       "      <td>missing</td>\n",
       "      <td>417</td>\n",
       "      <td>NaN</td>\n",
       "      <td>None</td>\n",
       "    </tr>\n",
       "    <tr>\n",
       "      <th>45</th>\n",
       "      <td>Nationality unknown</td>\n",
       "      <td>20</td>\n",
       "      <td>NaN</td>\n",
       "      <td>None</td>\n",
       "    </tr>\n",
       "    <tr>\n",
       "      <th>46</th>\n",
       "      <td>Scotland</td>\n",
       "      <td>49</td>\n",
       "      <td>NaN</td>\n",
       "      <td>None</td>\n",
       "    </tr>\n",
       "    <tr>\n",
       "      <th>61</th>\n",
       "      <td>Ivory Coast</td>\n",
       "      <td>1</td>\n",
       "      <td>NaN</td>\n",
       "      <td>None</td>\n",
       "    </tr>\n",
       "    <tr>\n",
       "      <th>62</th>\n",
       "      <td>The Bahamas</td>\n",
       "      <td>2</td>\n",
       "      <td>BHS</td>\n",
       "      <td>None</td>\n",
       "    </tr>\n",
       "    <tr>\n",
       "      <th>65</th>\n",
       "      <td>Palestine</td>\n",
       "      <td>1</td>\n",
       "      <td>PSE</td>\n",
       "      <td>None</td>\n",
       "    </tr>\n",
       "    <tr>\n",
       "      <th>68</th>\n",
       "      <td>Yugoslavia</td>\n",
       "      <td>41</td>\n",
       "      <td>NaN</td>\n",
       "      <td>None</td>\n",
       "    </tr>\n",
       "    <tr>\n",
       "      <th>71</th>\n",
       "      <td>Iran</td>\n",
       "      <td>6</td>\n",
       "      <td>IRN</td>\n",
       "      <td>None</td>\n",
       "    </tr>\n",
       "  </tbody>\n",
       "</table>\n",
       "</div>"
      ],
      "text/plain": [
       "                    Nation  Count country_code Divide\n",
       "11  Bosnia And Herzegovina      4          BIH   None\n",
       "33   Republic Of The Congo      1          COG   None\n",
       "36                  Russia     35          RUS   None\n",
       "38                   Korea     67          PRK   None\n",
       "41                 missing    417          NaN   None\n",
       "45     Nationality unknown     20          NaN   None\n",
       "46                Scotland     49          NaN   None\n",
       "61             Ivory Coast      1          NaN   None\n",
       "62             The Bahamas      2          BHS   None\n",
       "65               Palestine      1          PSE   None\n",
       "68              Yugoslavia     41          NaN   None\n",
       "71                    Iran      6          IRN   None"
      ]
     },
     "execution_count": 27,
     "metadata": {},
     "output_type": "execute_result"
    }
   ],
   "source": [
    "test = MC_countries_count.copy()\n",
    "test[\"Divide\"] = test[\"Nation\"].apply(lambda nation: getContinent(nation))\n",
    "test[\"Divide\"] = test[\"Divide\"].astype(str)\n",
    "test.loc[test['Divide'] == 'None']"
   ]
  },
  {
   "cell_type": "code",
   "execution_count": 336,
   "metadata": {},
   "outputs": [],
   "source": [
    "moma_artworks_old['Period'] ='Before 1983'\n",
    "moma_artworks_new['Period'] = 'After 1983'\n",
    "Moma_by_periods = pd.concat([moma_artworks_old,moma_artworks_new])\n",
    "department = ['Film','Media and Performance', 'Drawings & Prints', 'Photography']\n",
    "df_Moma_by_periods = pd.DataFrame(columns= ['Continent', 'Nationality', 'Department','Period', \"Count\", \"Females\", \"Males\", 'Missing', 'Non-Binary', 'Collectives']) \n",
    "\n",
    "Moma_by_periods[\"country_code\"] = Moma_by_periods[\"Nationality\"].apply(lambda country: do_fuzzy_search(country))"
   ]
  },
  {
   "cell_type": "code",
   "execution_count": 335,
   "metadata": {},
   "outputs": [
    {
     "ename": "NameError",
     "evalue": "name 'north' is not defined",
     "output_type": "error",
     "traceback": [
      "\u001b[0;31m---------------------------------------------------------------------------\u001b[0m",
      "\u001b[0;31mNameError\u001b[0m                                 Traceback (most recent call last)",
      "\u001b[0;32m/var/folders/d1/gjlb4c2x5qld93w00hwqj3yh0000gn/T/ipykernel_11279/1733238210.py\u001b[0m in \u001b[0;36m<cell line: 9>\u001b[0;34m()\u001b[0m\n\u001b[1;32m     11\u001b[0m     \u001b[0mnats\u001b[0m \u001b[0;34m=\u001b[0m \u001b[0mset\u001b[0m\u001b[0;34m(\u001b[0m\u001b[0;34m', '\u001b[0m\u001b[0;34m.\u001b[0m\u001b[0mjoin\u001b[0m\u001b[0;34m(\u001b[0m\u001b[0mdep_sub\u001b[0m\u001b[0;34m.\u001b[0m\u001b[0mNationality\u001b[0m\u001b[0;34m)\u001b[0m\u001b[0;34m.\u001b[0m\u001b[0msplit\u001b[0m\u001b[0;34m(\u001b[0m\u001b[0;34m', '\u001b[0m\u001b[0;34m)\u001b[0m\u001b[0;34m)\u001b[0m\u001b[0;34m\u001b[0m\u001b[0;34m\u001b[0m\u001b[0m\n\u001b[1;32m     12\u001b[0m     \u001b[0;32mfor\u001b[0m \u001b[0mnat\u001b[0m \u001b[0;32min\u001b[0m \u001b[0mnats\u001b[0m\u001b[0;34m:\u001b[0m\u001b[0;34m\u001b[0m\u001b[0;34m\u001b[0m\u001b[0m\n\u001b[0;32m---> 13\u001b[0;31m         \u001b[0mcontinent\u001b[0m \u001b[0;34m=\u001b[0m \u001b[0mgetContinent\u001b[0m\u001b[0;34m(\u001b[0m\u001b[0mnat\u001b[0m\u001b[0;34m)\u001b[0m\u001b[0;34m\u001b[0m\u001b[0;34m\u001b[0m\u001b[0m\n\u001b[0m\u001b[1;32m     14\u001b[0m         \u001b[0mnats_sub\u001b[0m \u001b[0;34m=\u001b[0m \u001b[0mdep_sub\u001b[0m\u001b[0;34m[\u001b[0m\u001b[0mdep_sub\u001b[0m\u001b[0;34m.\u001b[0m\u001b[0mNationality\u001b[0m\u001b[0;34m.\u001b[0m\u001b[0mstr\u001b[0m\u001b[0;34m.\u001b[0m\u001b[0mcontains\u001b[0m\u001b[0;34m(\u001b[0m\u001b[0mnat\u001b[0m\u001b[0;34m,\u001b[0m \u001b[0mregex\u001b[0m\u001b[0;34m=\u001b[0m \u001b[0;32mTrue\u001b[0m\u001b[0;34m,\u001b[0m \u001b[0mna\u001b[0m\u001b[0;34m=\u001b[0m\u001b[0;32mFalse\u001b[0m\u001b[0;34m)\u001b[0m\u001b[0;34m]\u001b[0m\u001b[0;34m\u001b[0m\u001b[0;34m\u001b[0m\u001b[0m\n\u001b[1;32m     15\u001b[0m         \u001b[0mperiods\u001b[0m \u001b[0;34m=\u001b[0m \u001b[0;34m', '\u001b[0m\u001b[0;34m.\u001b[0m\u001b[0mjoin\u001b[0m\u001b[0;34m(\u001b[0m\u001b[0mnats_sub\u001b[0m\u001b[0;34m.\u001b[0m\u001b[0mPeriod\u001b[0m\u001b[0;34m)\u001b[0m\u001b[0;34m\u001b[0m\u001b[0;34m\u001b[0m\u001b[0m\n",
      "\u001b[0;32m/var/folders/d1/gjlb4c2x5qld93w00hwqj3yh0000gn/T/ipykernel_11279/2080012239.py\u001b[0m in \u001b[0;36mgetContinent\u001b[0;34m(string)\u001b[0m\n\u001b[1;32m    135\u001b[0m \u001b[0;31m#Turn nationalities into countries\u001b[0m\u001b[0;34m\u001b[0m\u001b[0;34m\u001b[0m\u001b[0m\n\u001b[1;32m    136\u001b[0m \u001b[0;32mdef\u001b[0m \u001b[0mgetContinent\u001b[0m\u001b[0;34m(\u001b[0m\u001b[0mstring\u001b[0m\u001b[0;34m)\u001b[0m\u001b[0;34m:\u001b[0m\u001b[0;34m\u001b[0m\u001b[0;34m\u001b[0m\u001b[0m\n\u001b[0;32m--> 137\u001b[0;31m     \u001b[0;32mif\u001b[0m \u001b[0mstring\u001b[0m \u001b[0;32min\u001b[0m \u001b[0mnorth\u001b[0m\u001b[0;34m:\u001b[0m\u001b[0;34m\u001b[0m\u001b[0;34m\u001b[0m\u001b[0m\n\u001b[0m\u001b[1;32m    138\u001b[0m         \u001b[0;32mreturn\u001b[0m \u001b[0;34m'North Globe'\u001b[0m\u001b[0;34m\u001b[0m\u001b[0;34m\u001b[0m\u001b[0m\n\u001b[1;32m    139\u001b[0m     \u001b[0;32melif\u001b[0m \u001b[0mstring\u001b[0m \u001b[0;32min\u001b[0m \u001b[0msouth\u001b[0m\u001b[0;34m:\u001b[0m\u001b[0;34m\u001b[0m\u001b[0;34m\u001b[0m\u001b[0m\n",
      "\u001b[0;31mNameError\u001b[0m: name 'north' is not defined"
     ]
    }
   ],
   "source": [
    "#make working df for moma complete\n",
    "moma_artworks_old['Period'] ='Before 1983'\n",
    "moma_artworks_new['Period'] = 'After 1983'\n",
    "Moma_by_periods = pd.concat([moma_artworks_old,moma_artworks_new])\n",
    "department = ['Film','Media and Performance', 'Drawings & Prints', 'Photography']\n",
    "df_Moma_by_periods = pd.DataFrame(columns= ['Continent', 'Nationality', 'Department','Period', \"Count\", \"Females\", \"Males\", 'Missing', 'Non-Binary', 'Collectives']) \n",
    "\n",
    "OthersMoma = dict()\n",
    "for dep in department:\n",
    "    dep_sub =  Moma_by_periods[Moma_by_periods.Department == dep]  \n",
    "    nats = set(', '.join(dep_sub.Nationality).split(', '))\n",
    "    for nat in nats:\n",
    "        continent = getContinent(nat)\n",
    "        nats_sub = dep_sub[dep_sub.Nationality.str.contains(nat, regex= True, na=False)]\n",
    "        periods = ', '.join(nats_sub.Period)\n",
    "        periods = set(', '.join(nats_sub.Period).split(', '))\n",
    "        for period in periods:\n",
    "            final_sub = nats_sub[nats_sub['Period']==period]\n",
    "            tot = len(final_sub) \n",
    "            period = final_sub.Period.values[0]\n",
    "            f_count = len(final_sub[final_sub.Gender == 'F'])\n",
    "            m_count = len(final_sub[final_sub.Gender == 'M'])\n",
    "            missing_count = len(final_sub[final_sub.Gender == 'missing'])\n",
    "            nonbinary_count = len(final_sub[final_sub.Gender == 'NB'])\n",
    "            collectives_count = len(final_sub[final_sub.Gender.str.contains(',', regex= True, na=False)])\n",
    "            df_Moma_by_periods.loc[len(df_Moma_by_periods.index)] = [continent, nat, dep,period, tot, f_count, m_count, missing_count, nonbinary_count, collectives_count]\n",
    "\n",
    "df_Moma_by_periods = df_Moma_by_periods.groupby(['Continent', 'Nationality','Department', 'Period'],as_index=False).agg({'Count': 'sum','Females': 'sum','Males': 'sum','Missing': 'sum','Non-Binary': 'sum', 'Collectives': 'sum'})\n"
   ]
  }
 ],
 "metadata": {
  "interpreter": {
   "hash": "aee8b7b246df8f9039afb4144a1f6fd8d2ca17a180786b69acc140d282b71a49"
  },
  "kernelspec": {
   "display_name": "Python 3 (ipykernel)",
   "language": "python",
   "name": "python3"
  },
  "language_info": {
   "codemirror_mode": {
    "name": "ipython",
    "version": 3
   },
   "file_extension": ".py",
   "mimetype": "text/x-python",
   "name": "python",
   "nbconvert_exporter": "python",
   "pygments_lexer": "ipython3",
   "version": "3.9.9"
  }
 },
 "nbformat": 4,
 "nbformat_minor": 2
}
