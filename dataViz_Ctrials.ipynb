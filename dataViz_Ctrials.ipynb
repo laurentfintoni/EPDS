{
 "cells": [
  {
   "cell_type": "markdown",
   "metadata": {},
   "source": [
    "# Initial research questions\n",
    "\n",
    "* comparative analysis of gender representation in artwork creation between born digital and analogue art collections\n",
    "* with also, potentially, some details on medium, location…\n",
    "* semantic analysis of the narrative about the artworks or what are the keywords associated with different artwork types\n",
    "\n",
    "### The story could be:\n",
    "The internet was supposed to revolutionize things, so how did it do when looking at who makes art and who gets included in collections?\n"
   ]
  },
  {
   "cell_type": "markdown",
   "metadata": {},
   "source": [
    "A simple way to plan your work is:\n",
    "\n",
    " * choose the research question\n",
    " * map the question to pieces of information needed to answer the question (e.g. periods, countings)\n",
    " * map the data to specific data types (categorical, numerical, ordinal)\n",
    " * choose the plot(s) that better help you to visualise some pattern (e.g. a bar chart)\n",
    " * get your data in some form (SPARQL query results)\n",
    " * filter/ manipulate your data (select the variables that matter, make operations like countings) \n",
    " * create a data structure that fits the plotting requirements (a table, a JSON etc) including the number of variables needed (e.g. one categorical and one numerical)\n"
   ]
  },
  {
   "cell_type": "code",
   "execution_count": 980,
   "metadata": {},
   "outputs": [],
   "source": [
    "#imports \n",
    "\n",
    "import plotly.graph_objects as go\n",
    "import plotly.express as px\n",
    "import pandas as pd\n",
    "from plotly.subplots import make_subplots\n",
    "import pycountry\n",
    "import numpy as np\n",
    "import seaborn as sns\n",
    "import matplotlib.pyplot as plt\n",
    "import matplotlib.ticker as ticker\n",
    "import pandas as pd\n",
    "import plotly.express as px\n",
    "import plotly.graph_objects as go\n",
    "import numpy as np\n",
    "from wordcloud import *\n",
    "from functools import reduce\n",
    "pd.set_option('display.max_rows', 200)\n",
    "from statsmodels.graphics.mosaicplot import mosaic\n",
    "from plotly.subplots import make_subplots"
   ]
  },
  {
   "cell_type": "code",
   "execution_count": 981,
   "metadata": {},
   "outputs": [],
   "source": [
    "# upload datasets \n",
    "path = './'\n",
    "\n",
    "#complete DFs\n",
    "rhz_artworks = pd.read_pickle(path+'Rhizome_data/rhizome_artworks_extra.pkl')\n",
    "rhz_artists = pd.read_pickle(path+'Rhizome_data/rhizome_artists_extra.pkl')\n",
    "moma_artists = pd.read_pickle(path+'MOMA_data/pickle/MoMAArtists.pkl')\n",
    "moma_artworks = pd.read_pickle(path+'MOMA_data/pickle/MoMAartworks.pkl')\n",
    "moma_artworks_old =  pd.read_pickle(path+'MOMA_data/pickle/old_artworks.pkl')\n",
    "moma_artworks_old['DateAcquired'] = moma_artworks_old['DateAcquired'].replace('nan', str('0'))\n",
    "moma_artworks_old['DateAcquired']=moma_artworks_old['DateAcquired'].astype('int')\n",
    "moma_artworks_new =  pd.read_pickle(path+'MOMA_data/pickle/new_artworks.pkl')\n",
    "moma_artworks_new['DateAcquired'] = moma_artworks_new['DateAcquired'].replace('nan', str('0'))\n",
    "moma_artworks_new['DateAcquired']=moma_artworks_new['DateAcquired'].astype('int')\n",
    "moma_artworks_new =  moma_artworks_new.loc[moma_artworks_new['DateAcquired'] >= 1980]\n",
    "moma_rhz_compare = moma_artworks_new.loc[moma_artworks_new['DateAcquired'] >= 2000]\n",
    "moma_rhz_compare = moma_rhz_compare.loc[moma_rhz_compare['DateCreated'] >= 1983]\n",
    "\n",
    "#MoMA department DFs\n",
    "moma_arch_cont = pd.read_pickle(path+'MOMA_data/pickle/departments/architecture_design_cont.pkl')\n",
    "moma_arch_mod = pd.read_pickle(path+'MOMA_data/pickle/departments/architecture_design_mod.pkl')\n",
    "moma_design_cont = pd.read_pickle(path+'MOMA_data/pickle/departments/architecture_design_img_cont.pkl')\n",
    "moma_design_mod = pd.read_pickle(path+'MOMA_data/pickle/departments/architecture_design_img_mod.pkl')\n",
    "moma_draw_cont = pd.read_pickle(path+'MOMA_data/pickle/departments/draws_prints_cont.pkl')\n",
    "moma_draw_mod = pd.read_pickle(path+'MOMA_data/pickle/departments/draws_prints_mod.pkl')\n",
    "moma_films_cont = pd.read_pickle(path+'MOMA_data/pickle/departments/films_cont.pkl')\n",
    "moma_films_mod = pd.read_pickle(path+'MOMA_data/pickle/departments/films_mod.pkl')\n",
    "moma_fluxus_cont = pd.read_pickle(path+'MOMA_data/pickle/departments/fluxus_cont.pkl')\n",
    "moma_fluxus_mod = pd.read_pickle(path+'MOMA_data/pickle/departments/fluxus_mod.pkl')\n",
    "moma_media_cont = pd.read_pickle(path+'MOMA_data/pickle/departments/media_perf_cont.pkl')\n",
    "moma_media_mod = pd.read_pickle(path+'MOMA_data/pickle/departments/media_perf_mod.pkl')\n",
    "moma_paint_cont = pd.read_pickle(path+'MOMA_data/pickle/departments/paint_sculp_cont.pkl')\n",
    "moma_paint_mod = pd.read_pickle(path+'MOMA_data/pickle/departments/paint_sculp_mod.pkl')\n",
    "moma_photo_cont = pd.read_pickle(path+'MOMA_data/pickle/departments/photo_cont.pkl')\n",
    "moma_photo_mod = pd.read_pickle(path+'MOMA_data/pickle/departments/photo_mod.pkl')\n",
    "\n",
    "#Rhizome with text\n",
    "rhizome_txt_clean = pd.read_pickle(path+'Rhizome_data/rhizome_artworks_extra_text_clean.pkl')\n",
    "rhizome_txt_stop_kw = pd.read_pickle(path+'Rhizome_data/rhizome_artworks_extra_text_clean_stop_keywords.pkl')\n",
    "\n",
    "#MoMA with text\n",
    "moma_arch_cont_text = pd.read_pickle(path+'MOMA_data/pickle/departments/architecture_design_cont_text_final.pkl')\n",
    "moma_arch_mod_text = pd.read_pickle(path+'MOMA_data/pickle/departments/architecture_design_mod_text_only_final.pkl')\n",
    "moma_draw_cont_text = pd.read_pickle(path+'MOMA_data/pickle/departments/draws_prints_cont_text_final.pkl')\n",
    "moma_draw_mod_text = pd.read_pickle(path+'MOMA_data/pickle/departments/draws_prints_mod_text_final.pkl')\n",
    "moma_films_cont_text = pd.read_pickle(path+'MOMA_data/pickle/departments/films_cont_text_final.pkl')\n",
    "moma_films_mod_text = pd.read_pickle(path+'MOMA_data/pickle/departments/films_mod_text_final.pkl')\n",
    "moma_fluxus_cont_text = pd.read_pickle(path+'MOMA_data/pickle/departments/fluxus_cont_text_final.pkl')\n",
    "moma_fluxus_mod_text = pd.read_pickle(path+'MOMA_data/pickle/departments/fluxus_mod_text_final.pkl')\n",
    "moma_media_cont_text = pd.read_pickle(path+'MOMA_data/pickle/departments/media_perf_cont_text_final.pkl')\n",
    "moma_media_mod_text = pd.read_pickle(path+'MOMA_data/pickle/departments/media_perf_mod_text_final.pkl')\n",
    "moma_paint_cont_text = pd.read_pickle(path+'MOMA_data/pickle/departments/paint_sculp_cont_text_final.pkl')\n",
    "moma_paint_mod_text = pd.read_pickle(path+'MOMA_data/pickle/departments/paint_sculp_mod_text_final.pkl')\n",
    "moma_photo_cont_text = pd.read_pickle(path+'MOMA_data/pickle/departments/photo_cont_text_final.pkl')\n",
    "moma_photo_mod_text = pd.read_pickle(path+'MOMA_data/pickle/departments/photo_mod_text_final.pkl')\n",
    "\n",
    "#moma text stop\n",
    "moma_arch_cont_text_stop = pd.read_pickle(path+'MOMA_data/pickle/departments/architecture_design_cont_text_final_stop.pkl')\n",
    "moma_arch_mod_text_stop = pd.read_pickle(path+'MOMA_data/pickle/departments/architecture_design_mod_text_only_final_stop.pkl')\n",
    "moma_draw_cont_text_stop = pd.read_pickle(path+'MOMA_data/pickle/departments/draws_prints_cont_text_final_stop.pkl')\n",
    "moma_draw_mod_text_stop = pd.read_pickle(path+'MOMA_data/pickle/departments/draws_prints_mod_text_final_stop.pkl')\n",
    "moma_films_cont_text_stop = pd.read_pickle(path+'MOMA_data/pickle/departments/films_cont_text_final_stop.pkl')\n",
    "moma_films_mod_text_stop = pd.read_pickle(path+'MOMA_data/pickle/departments/films_mod_text_final_stop.pkl')\n",
    "moma_fluxus_cont_text_stop = pd.read_pickle(path+'MOMA_data/pickle/departments/fluxus_cont_text_final_stop.pkl')\n",
    "moma_fluxus_mod_text_stop = pd.read_pickle(path+'MOMA_data/pickle/departments/fluxus_mod_text_final_stop.pkl')\n",
    "moma_media_cont_text_stop = pd.read_pickle(path+'MOMA_data/pickle/departments/media_perf_cont_text_final_stop.pkl')\n",
    "moma_media_mod_text_stop = pd.read_pickle(path+'MOMA_data/pickle/departments/media_perf_mod_text_final_stop.pkl')\n",
    "moma_paint_cont_text_stop = pd.read_pickle(path+'MOMA_data/pickle/departments/paint_sculp_cont_text_final_stop.pkl')\n",
    "moma_paint_mod_text_stop = pd.read_pickle(path+'MOMA_data/pickle/departments/paint_sculp_mod_text_final_stop.pkl')\n",
    "moma_photo_cont_text_stop = pd.read_pickle(path+'MOMA_data/pickle/departments/photo_cont_text_final_stop.pkl')\n",
    "moma_photo_mod_text_stop = pd.read_pickle(path+'MOMA_data/pickle/departments/photo_mod_text_final_stop.pkl')"
   ]
  },
  {
   "cell_type": "code",
   "execution_count": 982,
   "metadata": {},
   "outputs": [],
   "source": [
    "def getDecade(date):\n",
    "    decade = str(date)[:-1]\n",
    "    if decade == '':\n",
    "       decade = '0'\n",
    "    decade_int = int(decade)*10\n",
    "    return decade_int"
   ]
  },
  {
   "cell_type": "code",
   "execution_count": 983,
   "metadata": {},
   "outputs": [
    {
     "name": "stdout",
     "output_type": "stream",
     "text": [
      "59\n"
     ]
    }
   ],
   "source": [
    "#set 53 different colors for moma nationalities and 59 for rhiome\n",
    "momacolorscale = ['#FFC0CB', '#FF69B4', '#DB7093', '#C71585', '#E6E6FA', '#DDA0DD', '#EE82EE', '#9932CC', '#8B008B', '#9370DB', '#483D8B', '#4B0082', '#FA8072', '#DC143C', '#8B0000', '#FF8C00', '#FF4500', '#FFD700', '#FFFF00', '#F0E68C', '#7FFF00', '#32CD32', '#90EE90', '#00FA9A', '#3CB371', '#006400', '#9ACD32', '#6B8E23', '#66CDAA', '#20B2AA', '#5F9EA0', '#4682B4', '#B0C4DE', '#87CEFA', '#6495ED', '#00BFFF', '#1E90FF', '#0000CD', '#191970', '#FFDEAD', '#DEB887', '#BC8F8F', '#DAA520', '#B8860B', '#D2691E', '#8B4513', '#A52A2A', '#F0FFF0', '#708090', '#2F4F4F', '#696969', '#8FBC8F', '#00CED1' ]\n",
    "rhzcolorscale = ['#FFFAFA','#FFC0CB', '#FF69B4', '#DB7093', '#C71585', '#E6E6FA', '#DDA0DD', '#EE82EE', '#9932CC', '#8B008B', '#9370DB', '#483D8B', '#4B0082', '#FA8072', '#DC143C', '#8B0000', '#FF8C00', '#FF4500', '#FFD700', '#FFFF00', '#F0E68C', '#7FFF00', '#32CD32', '#90EE90', '#00FA9A', '#3CB371', '#006400', '#9ACD32', '#6B8E23', '#66CDAA', '#20B2AA', '#5F9EA0', '#4682B4', '#B0C4DE', '#87CEFA', '#6495ED', '#00BFFF', '#1E90FF', '#0000CD', '#191970', '#FFDEAD', '#DEB887', '#BC8F8F', '#DAA520', '#B8860B', '#D2691E', '#8B4513', '#A52A2A', '#F0FFF0', '#708090', '#2F4F4F', '#696969', '#8FBC8F', '#00CED1', '#F0FFF0', '#F0FFFF', '#F5F5DC', '#FFFFF0', '#FFE4E1' ]\n",
    "print(len(rhzcolorscale))"
   ]
  },
  {
   "cell_type": "markdown",
   "metadata": {},
   "source": [
    "## 4 What is the nationality representation in each datasets?\n",
    "\n",
    "\n",
    "Viz: stacked area chart (Chiara) + breakdown by decades \n",
    "Story: AMERICA!!! BUT ALSO FRANCE!!!! Basically colonialism. \n",
    "\n",
    "does nationality representation change over time as a percentage of the total acquisitions? is there a way to talk about representation based on nationality in the story? \n"
   ]
  },
  {
   "cell_type": "code",
   "execution_count": 992,
   "metadata": {},
   "outputs": [
    {
     "data": {
      "text/plain": [
       "{'F',\n",
       " 'F, F',\n",
       " 'F, F, F',\n",
       " 'F, F, F, M',\n",
       " 'F, F, F, M, M, missing',\n",
       " 'F, F, F, missing',\n",
       " 'F, F, M',\n",
       " 'F, F, M, F, M',\n",
       " 'F, F, M, F, M, M, M, missing',\n",
       " 'F, F, M, F, missing',\n",
       " 'F, F, M, M, F, missing',\n",
       " 'F, F, M, M, M, missing',\n",
       " 'F, F, M, M, missing',\n",
       " 'F, F, M, missing',\n",
       " 'F, F, missing',\n",
       " 'F, M',\n",
       " 'F, M, F',\n",
       " 'F, M, F, M, M',\n",
       " 'F, M, F, M, M, M',\n",
       " 'F, M, F, M, M, M, M',\n",
       " 'F, M, F, M, M, missing, missing',\n",
       " 'F, M, F, M, missing',\n",
       " 'F, M, M',\n",
       " 'F, M, M, F, F, missing',\n",
       " 'F, M, M, F, M, M',\n",
       " 'F, M, M, F, M, missing',\n",
       " 'F, M, M, F, missing',\n",
       " 'F, M, M, F, missing, missing',\n",
       " 'F, M, M, M',\n",
       " 'F, M, M, M, M, F, missing, M',\n",
       " 'F, M, M, M, M, M, F, M, F, F, M, M, F, M, M, M, M, F, M, M, F, F, M, M, M, M, M, F, F, missing',\n",
       " 'F, M, M, M, M, M, F, M, M, F, M, missing',\n",
       " 'F, M, M, M, M, M, M, M, M, F, M, M, M, M, M, M, missing',\n",
       " 'F, M, M, M, M, M, M, M, M, M, M, M, F, M, M, M, M, missing',\n",
       " 'F, M, M, M, M, M, M, M, M, M, M, M, M, M, M, M, F, M, M, M, M, M, M, M, M, M, M, M, M, missing',\n",
       " 'F, M, M, M, M, M, M, M, M, M, M, missing',\n",
       " 'F, M, M, M, M, missing',\n",
       " 'F, M, M, M, missing',\n",
       " 'F, M, M, missing',\n",
       " 'F, M, M, missing, M, M, M, missing, F, M, missing, missing, F, M, M',\n",
       " 'F, M, missing',\n",
       " 'F, M, missing, M, M, M, M, M, missing',\n",
       " 'F, M, missing, M, missing',\n",
       " 'F, M, missing, missing',\n",
       " 'F, missing',\n",
       " 'F, missing, F, M',\n",
       " 'F, missing, M',\n",
       " 'F, missing, M, F, M, F, M',\n",
       " 'F, missing, M, M, M, M',\n",
       " 'F, missing, M, M, M, M, M, missing, M, M, M, F',\n",
       " 'F, missing, M, missing',\n",
       " 'F, missing, missing',\n",
       " 'F, missing, missing, missing',\n",
       " 'M',\n",
       " 'M, F',\n",
       " 'M, F, F',\n",
       " 'M, F, F, F',\n",
       " 'M, F, F, M',\n",
       " 'M, F, F, M, M, M, F, M, F, M, M, F, F, M, M, M, M, M, M, M, M, M, M, M, M, M, M, M, M, missing',\n",
       " 'M, F, F, M, M, M, M, M, M, M, missing',\n",
       " 'M, F, F, M, M, missing',\n",
       " 'M, F, F, M, missing',\n",
       " 'M, F, M',\n",
       " 'M, F, M, F',\n",
       " 'M, F, M, F, M, missing',\n",
       " 'M, F, M, F, missing',\n",
       " 'M, F, M, M',\n",
       " 'M, F, M, M, M',\n",
       " 'M, F, M, M, M, F, M',\n",
       " 'M, F, M, M, M, F, missing',\n",
       " 'M, F, M, M, M, M, F, F, M, M, M, M, F, M, M, F, M, M, M, M, M, M, M, M, M, M, M, F, missing',\n",
       " 'M, F, M, M, M, M, M, F, F, F, M, missing',\n",
       " 'M, F, M, M, M, M, M, M, F, M, F, missing',\n",
       " 'M, F, M, M, M, M, M, M, F, M, M, M, M, M, M, M, M, missing',\n",
       " 'M, F, M, M, M, M, M, M, M, M, M, M, M, M, M, M, M, M, M, M, missing',\n",
       " 'M, F, M, M, M, M, M, M, M, M, missing',\n",
       " 'M, F, M, M, M, M, M, M, M, missing, M, missing',\n",
       " 'M, F, M, M, M, M, M, missing',\n",
       " 'M, F, M, M, M, missing',\n",
       " 'M, F, M, M, M, missing, M, M, M',\n",
       " 'M, F, M, M, missing',\n",
       " 'M, F, M, M, missing, missing',\n",
       " 'M, F, M, missing',\n",
       " 'M, F, M, missing, missing',\n",
       " 'M, F, missing',\n",
       " 'M, F, missing, M',\n",
       " 'M, F, missing, M, missing',\n",
       " 'M, F, missing, missing',\n",
       " 'M, M',\n",
       " 'M, M, F',\n",
       " 'M, M, F, F',\n",
       " 'M, M, F, F, F, M',\n",
       " 'M, M, F, M',\n",
       " 'M, M, F, M, M',\n",
       " 'M, M, F, M, M, F, missing, M, missing, M, M, M, M, missing',\n",
       " 'M, M, F, M, M, M',\n",
       " 'M, M, F, M, M, M, M',\n",
       " 'M, M, F, M, M, M, M, F, M, M, missing, M, M, M, missing',\n",
       " 'M, M, F, M, M, M, M, M',\n",
       " 'M, M, F, M, M, M, M, M, F, M, missing',\n",
       " 'M, M, F, M, M, M, M, M, M, F, missing',\n",
       " 'M, M, F, M, M, M, missing',\n",
       " 'M, M, F, M, M, missing',\n",
       " 'M, M, F, M, missing',\n",
       " 'M, M, F, M, missing, missing',\n",
       " 'M, M, F, missing',\n",
       " 'M, M, F, missing, M, missing',\n",
       " 'M, M, M',\n",
       " 'M, M, M, F',\n",
       " 'M, M, M, F, F, M, M, F, M, M, M, missing',\n",
       " 'M, M, M, F, M, F, missing',\n",
       " 'M, M, M, F, M, M',\n",
       " 'M, M, M, F, M, M, M',\n",
       " 'M, M, M, F, M, M, M, F, M, F, M, M, M, M, missing',\n",
       " 'M, M, M, F, M, M, M, M, M, M, F, M, M, M, M, M, M, M, M, M, missing',\n",
       " 'M, M, M, F, M, M, M, M, M, missing',\n",
       " 'M, M, M, F, M, missing',\n",
       " 'M, M, M, F, missing',\n",
       " 'M, M, M, F, missing, M',\n",
       " 'M, M, M, M',\n",
       " 'M, M, M, M, F',\n",
       " 'M, M, M, M, F, F, F, missing',\n",
       " 'M, M, M, M, F, M',\n",
       " 'M, M, M, M, F, M, F',\n",
       " 'M, M, M, M, F, M, M, F, M, M, M, M, M, M, M, M, M, M, M, M, missing',\n",
       " 'M, M, M, M, F, M, M, M, M, M',\n",
       " 'M, M, M, M, F, M, M, M, M, M, M, M, M, M, M, M, M, M, M, M, missing',\n",
       " 'M, M, M, M, F, M, M, M, M, M, M, M, M, M, M, M, missing, M, M, missing',\n",
       " 'M, M, M, M, F, M, M, missing',\n",
       " 'M, M, M, M, F, M, missing',\n",
       " 'M, M, M, M, F, missing',\n",
       " 'M, M, M, M, M',\n",
       " 'M, M, M, M, M, F',\n",
       " 'M, M, M, M, M, F, F, M, M, M, M',\n",
       " 'M, M, M, M, M, F, F, missing',\n",
       " 'M, M, M, M, M, F, M, F, M, M, missing',\n",
       " 'M, M, M, M, M, F, M, M, M, F, M, F, missing',\n",
       " 'M, M, M, M, M, F, M, M, M, M, M, F, M, M, M, missing',\n",
       " 'M, M, M, M, M, M',\n",
       " 'M, M, M, M, M, M, F, M',\n",
       " 'M, M, M, M, M, M, F, M, M, M, M, M, F, missing',\n",
       " 'M, M, M, M, M, M, F, M, M, M, missing',\n",
       " 'M, M, M, M, M, M, M',\n",
       " 'M, M, M, M, M, M, M, F, M, M, M, M, M, M, M, missing',\n",
       " 'M, M, M, M, M, M, M, F, M, M, M, missing',\n",
       " 'M, M, M, M, M, M, M, M',\n",
       " 'M, M, M, M, M, M, M, M, F, F, missing',\n",
       " 'M, M, M, M, M, M, M, M, F, M, M, M, M, M, M, M, missing',\n",
       " 'M, M, M, M, M, M, M, M, M, F, M',\n",
       " 'M, M, M, M, M, M, M, M, M, F, M, M, M, M, M, M, M, F, M, F, M, M, M, M, M, missing',\n",
       " 'M, M, M, M, M, M, M, M, M, F, M, M, missing',\n",
       " 'M, M, M, M, M, M, M, M, M, F, M, missing',\n",
       " 'M, M, M, M, M, M, M, M, M, F, missing, F, M, M, M, M, M, M, missing',\n",
       " 'M, M, M, M, M, M, M, M, M, M, M, F, F, M, M, M, M, M, M, M, missing',\n",
       " 'M, M, M, M, M, M, M, M, M, M, M, M, M, M, F, F, M, M, M, F, M, F, F, F, missing',\n",
       " 'M, M, M, M, M, M, M, M, M, M, M, M, M, M, M, F, M',\n",
       " 'M, M, M, M, M, M, M, M, M, M, M, M, M, M, M, M, M, M, F, M, M, missing',\n",
       " 'M, M, M, M, M, M, M, M, M, M, M, M, M, M, M, M, M, M, M, F, M, M, M, missing',\n",
       " 'M, M, M, M, M, M, M, M, M, M, M, M, M, M, M, M, M, M, M, missing',\n",
       " 'M, M, M, M, M, M, M, M, M, M, M, M, M, missing',\n",
       " 'M, M, M, M, M, M, M, M, M, M, M, M, missing',\n",
       " 'M, M, M, M, M, M, M, M, M, M, M, missing',\n",
       " 'M, M, M, M, M, M, M, M, M, M, M, missing, M, M, M, M, M, M, M, M, M, M, M, M, M, M, M, M, M, missing',\n",
       " 'M, M, M, M, M, M, M, M, M, M, missing',\n",
       " 'M, M, M, M, M, M, M, M, M, missing',\n",
       " 'M, M, M, M, M, M, M, M, missing',\n",
       " 'M, M, M, M, M, M, M, missing',\n",
       " 'M, M, M, M, M, M, missing',\n",
       " 'M, M, M, M, M, M, missing, missing, M, M',\n",
       " 'M, M, M, M, M, missing',\n",
       " 'M, M, M, M, M, missing, M, M, M, M, M, M, M, M, M, M, M, M, M, M',\n",
       " 'M, M, M, M, M, missing, missing, M, M, F, M, M, M, missing, missing, M, M, M, M, F',\n",
       " 'M, M, M, M, M, missing, missing, M, M, F, M, M, M, missing, missing, M, M, M, M, F, M, M, M, M, M, missing, M',\n",
       " 'M, M, M, M, missing',\n",
       " 'M, M, M, M, missing, F, M, M, M, M',\n",
       " 'M, M, M, M, missing, M, M, M, M, M, M, M, M, M, M, M, M, missing',\n",
       " 'M, M, M, M, missing, missing, missing',\n",
       " 'M, M, M, missing',\n",
       " 'M, M, M, missing, F, missing',\n",
       " 'M, M, M, missing, M, M',\n",
       " 'M, M, M, missing, M, M, F',\n",
       " 'M, M, M, missing, M, missing',\n",
       " 'M, M, M, missing, missing',\n",
       " 'M, M, missing',\n",
       " 'M, M, missing, F',\n",
       " 'M, M, missing, M',\n",
       " 'M, M, missing, M, M',\n",
       " 'M, M, missing, M, M, M',\n",
       " 'M, M, missing, M, M, M, M',\n",
       " 'M, M, missing, M, M, M, M, F, M, M, M, F, M, missing',\n",
       " 'M, M, missing, M, M, M, M, M, M, M, M, missing',\n",
       " 'M, M, missing, M, missing',\n",
       " 'M, M, missing, missing',\n",
       " 'M, M, missing, missing, F, M',\n",
       " 'M, M, missing, missing, M',\n",
       " 'M, M, missing, missing, M, missing, missing, missing',\n",
       " 'M, M, missing, missing, missing',\n",
       " 'M, missing',\n",
       " 'M, missing, F',\n",
       " 'M, missing, F, M',\n",
       " 'M, missing, F, M, M, M, M',\n",
       " 'M, missing, F, M, M, M, missing, M, M, missing, missing',\n",
       " 'M, missing, F, M, missing, missing',\n",
       " 'M, missing, M',\n",
       " 'M, missing, M, F',\n",
       " 'M, missing, M, F, M, M, M, M, F',\n",
       " 'M, missing, M, M',\n",
       " 'M, missing, M, M, F, M',\n",
       " 'M, missing, M, M, F, M, M, missing, M, M, missing, missing',\n",
       " 'M, missing, M, M, F, missing',\n",
       " 'M, missing, M, M, M',\n",
       " 'M, missing, M, M, M, M',\n",
       " 'M, missing, M, M, M, M, M',\n",
       " 'M, missing, M, M, M, M, M, M, M, M, F, missing',\n",
       " 'M, missing, M, M, M, M, M, M, M, M, M, F, M, M, missing',\n",
       " 'M, missing, M, M, M, M, M, M, missing',\n",
       " 'M, missing, M, M, M, M, missing',\n",
       " 'M, missing, M, M, missing',\n",
       " 'M, missing, M, M, missing, missing',\n",
       " 'M, missing, M, missing',\n",
       " 'M, missing, M, missing, F',\n",
       " 'M, missing, M, missing, M',\n",
       " 'M, missing, M, missing, M, missing',\n",
       " 'M, missing, M, missing, M, missing, missing, missing',\n",
       " 'M, missing, M, missing, missing',\n",
       " 'M, missing, missing',\n",
       " 'M, missing, missing, M',\n",
       " 'M, missing, missing, M, M, M, missing',\n",
       " 'M, missing, missing, M, missing',\n",
       " 'M, missing, missing, missing',\n",
       " 'M, missing, missing, missing, M',\n",
       " 'M, missing, missing, missing, M, missing',\n",
       " 'M, missing, missing, missing, missing',\n",
       " 'M, missing, missing, missing, missing, missing, M, missing, missing, missing',\n",
       " 'NB',\n",
       " 'missing',\n",
       " 'missing, F',\n",
       " 'missing, F, F',\n",
       " 'missing, F, F, F',\n",
       " 'missing, F, F, F, F, F, F, F, F, F, F, F, F, F, F, F, F, F, F, F, F',\n",
       " 'missing, F, F, F, F, M',\n",
       " 'missing, F, F, F, M, M, M, F, F, missing, M, M, F, M',\n",
       " 'missing, F, F, M',\n",
       " 'missing, F, F, M, F, F, F, F, M, M, F, M',\n",
       " 'missing, F, F, M, F, M',\n",
       " 'missing, F, F, M, M',\n",
       " 'missing, F, F, M, M, M',\n",
       " 'missing, F, F, M, M, M, M',\n",
       " 'missing, F, F, M, M, M, M, M, M, F, M, M, M, missing, M, M, M, F, M, M, M, F',\n",
       " 'missing, F, F, missing, M',\n",
       " 'missing, F, M',\n",
       " 'missing, F, M, F',\n",
       " 'missing, F, M, F, F, F, M, M, M, F',\n",
       " 'missing, F, M, F, M, F, M',\n",
       " 'missing, F, M, F, M, F, M, M, M, M, M, M, F, M, F, M, M',\n",
       " 'missing, F, M, F, M, M, F, M',\n",
       " 'missing, F, M, F, M, M, M, M',\n",
       " 'missing, F, M, M',\n",
       " 'missing, F, M, M, F',\n",
       " 'missing, F, M, M, F, F, M',\n",
       " 'missing, F, M, M, F, F, M, M, M, M, M, M, M',\n",
       " 'missing, F, M, M, F, M',\n",
       " 'missing, F, M, M, F, M, M, F, M, M, M',\n",
       " 'missing, F, M, M, M',\n",
       " 'missing, F, M, M, M, F, F, F',\n",
       " 'missing, F, M, M, M, M',\n",
       " 'missing, F, M, M, M, M, F, M, M',\n",
       " 'missing, F, M, M, M, M, M, F, F, M, M, F, M, M, M, M, F, M, F, M, M, F, F, M, M, M, M, M, M, F, F',\n",
       " 'missing, F, M, M, M, M, M, M, M, M, M',\n",
       " 'missing, F, M, M, M, M, missing',\n",
       " 'missing, F, M, M, M, M, missing, M, missing, missing',\n",
       " 'missing, F, M, missing',\n",
       " 'missing, F, M, missing, M',\n",
       " 'missing, F, missing, missing',\n",
       " 'missing, M',\n",
       " 'missing, M, F',\n",
       " 'missing, M, F, F',\n",
       " 'missing, M, F, F, F, M, F, missing, M, M, F',\n",
       " 'missing, M, F, F, M',\n",
       " 'missing, M, F, F, missing, M, M, M, missing, missing, missing, missing, missing, missing, missing, missing, missing',\n",
       " 'missing, M, F, M',\n",
       " 'missing, M, F, M, F, M',\n",
       " 'missing, M, F, M, M',\n",
       " 'missing, M, F, M, M, F',\n",
       " 'missing, M, F, M, M, M',\n",
       " 'missing, M, F, M, M, M, F, F, F, M',\n",
       " 'missing, M, F, M, M, M, F, F, M, M, M, M, F, M, F, F, M, F, F, M, M, F, M, F, F, M, F, M, F, F, F, F, M, M, M, M, M, F, M, missing, M, F, M, M, F, M, M',\n",
       " 'missing, M, F, M, M, M, M, F, M, M, F',\n",
       " 'missing, M, F, M, M, M, M, M',\n",
       " 'missing, M, F, M, M, M, M, M, M',\n",
       " 'missing, M, F, M, M, M, M, missing, M, M, F, M, M, F, M, missing, M, F, M, F, M, M, M, M, M, F, M, M, M, M, M',\n",
       " 'missing, M, F, M, M, missing, missing',\n",
       " 'missing, M, F, missing',\n",
       " 'missing, M, F, missing, M, M',\n",
       " 'missing, M, M',\n",
       " 'missing, M, M, F',\n",
       " 'missing, M, M, F, F',\n",
       " 'missing, M, M, F, F, F, F',\n",
       " 'missing, M, M, F, F, M',\n",
       " 'missing, M, M, F, M',\n",
       " 'missing, M, M, F, M, M, F',\n",
       " 'missing, M, M, F, M, M, M, F, M',\n",
       " 'missing, M, M, F, M, M, M, M',\n",
       " 'missing, M, M, F, M, M, M, M, M, M, M',\n",
       " 'missing, M, M, F, M, M, M, M, M, M, M, M',\n",
       " 'missing, M, M, M',\n",
       " 'missing, M, M, M, F',\n",
       " 'missing, M, M, M, F, F, M, F, M, M, M, F, M, F, M, F, M, M, M',\n",
       " 'missing, M, M, M, F, F, M, M, M, M, M, M, M, M',\n",
       " 'missing, M, M, M, F, M',\n",
       " 'missing, M, M, M, F, M, M, M, M, M, M, M, M, M, F, M, M',\n",
       " 'missing, M, M, M, F, M, M, M, M, missing, M, M',\n",
       " 'missing, M, M, M, F, M, missing, M, missing, missing, M, M, M, F, M, missing, missing, M, missing, missing',\n",
       " 'missing, M, M, M, M',\n",
       " 'missing, M, M, M, M, F',\n",
       " 'missing, M, M, M, M, F, M, F, M',\n",
       " 'missing, M, M, M, M, F, M, M, F, M, M, M',\n",
       " 'missing, M, M, M, M, F, M, M, M, M, M, M, M, M, M, M, F',\n",
       " 'missing, M, M, M, M, F, M, M, M, M, M, M, missing, M, M',\n",
       " 'missing, M, M, M, M, F, M, M, M, M, M, M, missing, M, M, M, M',\n",
       " 'missing, M, M, M, M, M',\n",
       " 'missing, M, M, M, M, M, F, F',\n",
       " 'missing, M, M, M, M, M, F, M, M, M, M',\n",
       " 'missing, M, M, M, M, M, F, M, M, M, M, F, M, M',\n",
       " 'missing, M, M, M, M, M, F, M, M, M, M, M',\n",
       " 'missing, M, M, M, M, M, F, M, M, M, M, M, M, M, M, M, M, F, M, M, M, F',\n",
       " 'missing, M, M, M, M, M, M',\n",
       " 'missing, M, M, M, M, M, M, M',\n",
       " 'missing, M, M, M, M, M, M, M, F, M, F, M',\n",
       " 'missing, M, M, M, M, M, M, M, F, M, M',\n",
       " 'missing, M, M, M, M, M, M, M, M',\n",
       " 'missing, M, M, M, M, M, M, M, M, F',\n",
       " 'missing, M, M, M, M, M, M, M, M, F, M, M, M, M, M',\n",
       " 'missing, M, M, M, M, M, M, M, M, M',\n",
       " 'missing, M, M, M, M, M, M, M, M, M, F',\n",
       " 'missing, M, M, M, M, M, M, M, M, M, M',\n",
       " 'missing, M, M, M, M, M, M, M, M, M, M, F, M, M, M, M, M, M',\n",
       " 'missing, M, M, M, M, M, M, M, M, M, M, M, F, M',\n",
       " 'missing, M, M, M, M, M, M, M, M, M, M, M, F, M, M, F, M, M, M, M, M, M, M, M, M, M, M, M',\n",
       " 'missing, M, M, M, M, M, M, M, M, M, M, M, M',\n",
       " 'missing, M, M, M, M, M, M, M, M, M, M, M, M, M',\n",
       " 'missing, M, M, M, M, M, M, M, M, M, M, M, M, M, F, M, M, M, M, M, M, M, M, M',\n",
       " 'missing, M, M, M, M, M, M, M, M, M, M, M, M, M, M, M, M, M, M, M',\n",
       " 'missing, M, M, M, M, M, M, M, missing, missing, M, F, M, F, M, M, M, M, M, F, M, M',\n",
       " 'missing, M, M, M, M, M, missing',\n",
       " 'missing, M, M, M, M, M, missing, missing, M, missing, M, F, M, M, M, M, M, M, M, F, M, M, M, M, M, missing, M',\n",
       " 'missing, M, M, M, M, missing, M',\n",
       " 'missing, M, M, M, M, missing, M, F, M, M, F, M, M, M, M, M, M, M, F, M, M, M, M',\n",
       " 'missing, M, M, M, M, missing, M, M, missing, M, missing, M, missing, M, missing, M, M, missing',\n",
       " 'missing, M, M, M, missing',\n",
       " 'missing, M, M, M, missing, F, missing, missing, missing',\n",
       " 'missing, M, M, M, missing, M, M, M, M',\n",
       " 'missing, M, M, M, missing, missing, missing, missing, missing',\n",
       " 'missing, M, M, missing',\n",
       " 'missing, M, M, missing, F, M',\n",
       " 'missing, M, M, missing, M, F, F',\n",
       " 'missing, M, M, missing, M, F, missing, M, M, M, F, F, M, M, M, F, M, M, F, M, M, M, M',\n",
       " 'missing, M, M, missing, M, M, F, M, F, M, M, M, F, M, M, M, M',\n",
       " 'missing, M, M, missing, M, M, M',\n",
       " 'missing, M, M, missing, M, M, M, F',\n",
       " 'missing, M, M, missing, M, M, M, M, F, F, M, M, M, M',\n",
       " 'missing, M, M, missing, M, M, M, missing, M, missing, missing, M, M, missing',\n",
       " 'missing, M, M, missing, missing, M, M, M, M, M, M, M, M, M, M, M, M, M, M, missing',\n",
       " 'missing, M, NB, F, F, F',\n",
       " 'missing, M, missing',\n",
       " 'missing, M, missing, M, M, M, F',\n",
       " 'missing, M, missing, M, missing, M, F, M, M, M',\n",
       " 'missing, M, missing, M, missing, M, M',\n",
       " 'missing, M, missing, M, missing, M, missing, missing',\n",
       " 'missing, M, missing, missing',\n",
       " 'missing, M, missing, missing, F, M',\n",
       " 'missing, M, missing, missing, M',\n",
       " 'missing, M, missing, missing, M, missing, M, missing, M, F, missing, M, missing, F, missing, missing, F, M',\n",
       " 'missing, M, missing, missing, missing',\n",
       " 'missing, missing',\n",
       " 'missing, missing, F, F, F, F',\n",
       " 'missing, missing, F, M, M, missing',\n",
       " 'missing, missing, F, missing, M, M, missing, M, M, F, M, M, missing, missing, missing, M, M, missing, M, M, M, M, M, M, missing',\n",
       " 'missing, missing, F, missing, missing',\n",
       " 'missing, missing, F, missing, missing, M, F, missing, M, missing, M, missing',\n",
       " 'missing, missing, M',\n",
       " 'missing, missing, M, F, F, M, F',\n",
       " 'missing, missing, M, M',\n",
       " 'missing, missing, M, M, M',\n",
       " 'missing, missing, M, M, M, M',\n",
       " 'missing, missing, M, M, M, M, missing, missing, missing, missing, missing, missing',\n",
       " 'missing, missing, M, M, M, missing, missing, missing',\n",
       " 'missing, missing, M, M, missing',\n",
       " 'missing, missing, M, missing',\n",
       " 'missing, missing, M, missing, M, M',\n",
       " 'missing, missing, missing',\n",
       " 'missing, missing, missing, M',\n",
       " 'missing, missing, missing, M, missing, F',\n",
       " 'missing, missing, missing, missing',\n",
       " 'missing, missing, missing, missing, M, missing, missing',\n",
       " 'missing, missing, missing, missing, missing',\n",
       " 'missing, missing, missing, missing, missing, missing',\n",
       " 'missing, missing, missing, missing, missing, missing, M',\n",
       " 'missing, missing, missing, missing, missing, missing, missing, M',\n",
       " 'missing, missing, missing, missing, missing, missing, missing, M, M, M, M, M, M, F, F, M',\n",
       " 'missing, missing, missing, missing, missing, missing, missing, missing, missing, M',\n",
       " 'missing, missing, missing, missing, missing, missing, missing, missing, missing, missing, missing, missing, missing, M',\n",
       " 'missing, missing, missing, missing, missing, missing, missing, missing, missing, missing, missing, missing, missing, missing, missing, M',\n",
       " 'missing, missing, missing, missing, missing, missing, missing, missing, missing, missing, missing, missing, missing, missing, missing, missing, missing, missing, missing, missing, missing, M'}"
      ]
     },
     "execution_count": 992,
     "metadata": {},
     "output_type": "execute_result"
    }
   ],
   "source": [
    "set(MoMA_complete.Gender)"
   ]
  },
  {
   "cell_type": "code",
   "execution_count": 996,
   "metadata": {},
   "outputs": [
    {
     "name": "stderr",
     "output_type": "stream",
     "text": [
      "/var/folders/qj/xh48vw9d4z5_h6wzs6r2smdh0000gn/T/ipykernel_761/4283813275.py:11: SettingWithCopyWarning:\n",
      "\n",
      "\n",
      "A value is trying to be set on a copy of a slice from a DataFrame.\n",
      "Try using .loc[row_indexer,col_indexer] = value instead\n",
      "\n",
      "See the caveats in the documentation: https://pandas.pydata.org/pandas-docs/stable/user_guide/indexing.html#returning-a-view-versus-a-copy\n",
      "\n",
      "/var/folders/qj/xh48vw9d4z5_h6wzs6r2smdh0000gn/T/ipykernel_761/4283813275.py:11: SettingWithCopyWarning:\n",
      "\n",
      "\n",
      "A value is trying to be set on a copy of a slice from a DataFrame.\n",
      "Try using .loc[row_indexer,col_indexer] = value instead\n",
      "\n",
      "See the caveats in the documentation: https://pandas.pydata.org/pandas-docs/stable/user_guide/indexing.html#returning-a-view-versus-a-copy\n",
      "\n",
      "/var/folders/qj/xh48vw9d4z5_h6wzs6r2smdh0000gn/T/ipykernel_761/4283813275.py:11: SettingWithCopyWarning:\n",
      "\n",
      "\n",
      "A value is trying to be set on a copy of a slice from a DataFrame.\n",
      "Try using .loc[row_indexer,col_indexer] = value instead\n",
      "\n",
      "See the caveats in the documentation: https://pandas.pydata.org/pandas-docs/stable/user_guide/indexing.html#returning-a-view-versus-a-copy\n",
      "\n",
      "/var/folders/qj/xh48vw9d4z5_h6wzs6r2smdh0000gn/T/ipykernel_761/4283813275.py:11: SettingWithCopyWarning:\n",
      "\n",
      "\n",
      "A value is trying to be set on a copy of a slice from a DataFrame.\n",
      "Try using .loc[row_indexer,col_indexer] = value instead\n",
      "\n",
      "See the caveats in the documentation: https://pandas.pydata.org/pandas-docs/stable/user_guide/indexing.html#returning-a-view-versus-a-copy\n",
      "\n",
      "/var/folders/qj/xh48vw9d4z5_h6wzs6r2smdh0000gn/T/ipykernel_761/4283813275.py:11: SettingWithCopyWarning:\n",
      "\n",
      "\n",
      "A value is trying to be set on a copy of a slice from a DataFrame.\n",
      "Try using .loc[row_indexer,col_indexer] = value instead\n",
      "\n",
      "See the caveats in the documentation: https://pandas.pydata.org/pandas-docs/stable/user_guide/indexing.html#returning-a-view-versus-a-copy\n",
      "\n",
      "/var/folders/qj/xh48vw9d4z5_h6wzs6r2smdh0000gn/T/ipykernel_761/4283813275.py:11: SettingWithCopyWarning:\n",
      "\n",
      "\n",
      "A value is trying to be set on a copy of a slice from a DataFrame.\n",
      "Try using .loc[row_indexer,col_indexer] = value instead\n",
      "\n",
      "See the caveats in the documentation: https://pandas.pydata.org/pandas-docs/stable/user_guide/indexing.html#returning-a-view-versus-a-copy\n",
      "\n",
      "/var/folders/qj/xh48vw9d4z5_h6wzs6r2smdh0000gn/T/ipykernel_761/4283813275.py:11: SettingWithCopyWarning:\n",
      "\n",
      "\n",
      "A value is trying to be set on a copy of a slice from a DataFrame.\n",
      "Try using .loc[row_indexer,col_indexer] = value instead\n",
      "\n",
      "See the caveats in the documentation: https://pandas.pydata.org/pandas-docs/stable/user_guide/indexing.html#returning-a-view-versus-a-copy\n",
      "\n",
      "/var/folders/qj/xh48vw9d4z5_h6wzs6r2smdh0000gn/T/ipykernel_761/4283813275.py:11: SettingWithCopyWarning:\n",
      "\n",
      "\n",
      "A value is trying to be set on a copy of a slice from a DataFrame.\n",
      "Try using .loc[row_indexer,col_indexer] = value instead\n",
      "\n",
      "See the caveats in the documentation: https://pandas.pydata.org/pandas-docs/stable/user_guide/indexing.html#returning-a-view-versus-a-copy\n",
      "\n",
      "/var/folders/qj/xh48vw9d4z5_h6wzs6r2smdh0000gn/T/ipykernel_761/4283813275.py:11: SettingWithCopyWarning:\n",
      "\n",
      "\n",
      "A value is trying to be set on a copy of a slice from a DataFrame.\n",
      "Try using .loc[row_indexer,col_indexer] = value instead\n",
      "\n",
      "See the caveats in the documentation: https://pandas.pydata.org/pandas-docs/stable/user_guide/indexing.html#returning-a-view-versus-a-copy\n",
      "\n",
      "/var/folders/qj/xh48vw9d4z5_h6wzs6r2smdh0000gn/T/ipykernel_761/4283813275.py:11: SettingWithCopyWarning:\n",
      "\n",
      "\n",
      "A value is trying to be set on a copy of a slice from a DataFrame.\n",
      "Try using .loc[row_indexer,col_indexer] = value instead\n",
      "\n",
      "See the caveats in the documentation: https://pandas.pydata.org/pandas-docs/stable/user_guide/indexing.html#returning-a-view-versus-a-copy\n",
      "\n",
      "/var/folders/qj/xh48vw9d4z5_h6wzs6r2smdh0000gn/T/ipykernel_761/4283813275.py:11: SettingWithCopyWarning:\n",
      "\n",
      "\n",
      "A value is trying to be set on a copy of a slice from a DataFrame.\n",
      "Try using .loc[row_indexer,col_indexer] = value instead\n",
      "\n",
      "See the caveats in the documentation: https://pandas.pydata.org/pandas-docs/stable/user_guide/indexing.html#returning-a-view-versus-a-copy\n",
      "\n",
      "/var/folders/qj/xh48vw9d4z5_h6wzs6r2smdh0000gn/T/ipykernel_761/4283813275.py:11: SettingWithCopyWarning:\n",
      "\n",
      "\n",
      "A value is trying to be set on a copy of a slice from a DataFrame.\n",
      "Try using .loc[row_indexer,col_indexer] = value instead\n",
      "\n",
      "See the caveats in the documentation: https://pandas.pydata.org/pandas-docs/stable/user_guide/indexing.html#returning-a-view-versus-a-copy\n",
      "\n",
      "/var/folders/qj/xh48vw9d4z5_h6wzs6r2smdh0000gn/T/ipykernel_761/4283813275.py:11: SettingWithCopyWarning:\n",
      "\n",
      "\n",
      "A value is trying to be set on a copy of a slice from a DataFrame.\n",
      "Try using .loc[row_indexer,col_indexer] = value instead\n",
      "\n",
      "See the caveats in the documentation: https://pandas.pydata.org/pandas-docs/stable/user_guide/indexing.html#returning-a-view-versus-a-copy\n",
      "\n",
      "/var/folders/qj/xh48vw9d4z5_h6wzs6r2smdh0000gn/T/ipykernel_761/4283813275.py:11: SettingWithCopyWarning:\n",
      "\n",
      "\n",
      "A value is trying to be set on a copy of a slice from a DataFrame.\n",
      "Try using .loc[row_indexer,col_indexer] = value instead\n",
      "\n",
      "See the caveats in the documentation: https://pandas.pydata.org/pandas-docs/stable/user_guide/indexing.html#returning-a-view-versus-a-copy\n",
      "\n",
      "/var/folders/qj/xh48vw9d4z5_h6wzs6r2smdh0000gn/T/ipykernel_761/4283813275.py:11: SettingWithCopyWarning:\n",
      "\n",
      "\n",
      "A value is trying to be set on a copy of a slice from a DataFrame.\n",
      "Try using .loc[row_indexer,col_indexer] = value instead\n",
      "\n",
      "See the caveats in the documentation: https://pandas.pydata.org/pandas-docs/stable/user_guide/indexing.html#returning-a-view-versus-a-copy\n",
      "\n",
      "/var/folders/qj/xh48vw9d4z5_h6wzs6r2smdh0000gn/T/ipykernel_761/4283813275.py:11: SettingWithCopyWarning:\n",
      "\n",
      "\n",
      "A value is trying to be set on a copy of a slice from a DataFrame.\n",
      "Try using .loc[row_indexer,col_indexer] = value instead\n",
      "\n",
      "See the caveats in the documentation: https://pandas.pydata.org/pandas-docs/stable/user_guide/indexing.html#returning-a-view-versus-a-copy\n",
      "\n",
      "/var/folders/qj/xh48vw9d4z5_h6wzs6r2smdh0000gn/T/ipykernel_761/4283813275.py:11: SettingWithCopyWarning:\n",
      "\n",
      "\n",
      "A value is trying to be set on a copy of a slice from a DataFrame.\n",
      "Try using .loc[row_indexer,col_indexer] = value instead\n",
      "\n",
      "See the caveats in the documentation: https://pandas.pydata.org/pandas-docs/stable/user_guide/indexing.html#returning-a-view-versus-a-copy\n",
      "\n",
      "/var/folders/qj/xh48vw9d4z5_h6wzs6r2smdh0000gn/T/ipykernel_761/4283813275.py:11: SettingWithCopyWarning:\n",
      "\n",
      "\n",
      "A value is trying to be set on a copy of a slice from a DataFrame.\n",
      "Try using .loc[row_indexer,col_indexer] = value instead\n",
      "\n",
      "See the caveats in the documentation: https://pandas.pydata.org/pandas-docs/stable/user_guide/indexing.html#returning-a-view-versus-a-copy\n",
      "\n",
      "/var/folders/qj/xh48vw9d4z5_h6wzs6r2smdh0000gn/T/ipykernel_761/4283813275.py:11: SettingWithCopyWarning:\n",
      "\n",
      "\n",
      "A value is trying to be set on a copy of a slice from a DataFrame.\n",
      "Try using .loc[row_indexer,col_indexer] = value instead\n",
      "\n",
      "See the caveats in the documentation: https://pandas.pydata.org/pandas-docs/stable/user_guide/indexing.html#returning-a-view-versus-a-copy\n",
      "\n",
      "/var/folders/qj/xh48vw9d4z5_h6wzs6r2smdh0000gn/T/ipykernel_761/4283813275.py:11: SettingWithCopyWarning:\n",
      "\n",
      "\n",
      "A value is trying to be set on a copy of a slice from a DataFrame.\n",
      "Try using .loc[row_indexer,col_indexer] = value instead\n",
      "\n",
      "See the caveats in the documentation: https://pandas.pydata.org/pandas-docs/stable/user_guide/indexing.html#returning-a-view-versus-a-copy\n",
      "\n",
      "/var/folders/qj/xh48vw9d4z5_h6wzs6r2smdh0000gn/T/ipykernel_761/4283813275.py:11: SettingWithCopyWarning:\n",
      "\n",
      "\n",
      "A value is trying to be set on a copy of a slice from a DataFrame.\n",
      "Try using .loc[row_indexer,col_indexer] = value instead\n",
      "\n",
      "See the caveats in the documentation: https://pandas.pydata.org/pandas-docs/stable/user_guide/indexing.html#returning-a-view-versus-a-copy\n",
      "\n",
      "/var/folders/qj/xh48vw9d4z5_h6wzs6r2smdh0000gn/T/ipykernel_761/4283813275.py:11: SettingWithCopyWarning:\n",
      "\n",
      "\n",
      "A value is trying to be set on a copy of a slice from a DataFrame.\n",
      "Try using .loc[row_indexer,col_indexer] = value instead\n",
      "\n",
      "See the caveats in the documentation: https://pandas.pydata.org/pandas-docs/stable/user_guide/indexing.html#returning-a-view-versus-a-copy\n",
      "\n",
      "/var/folders/qj/xh48vw9d4z5_h6wzs6r2smdh0000gn/T/ipykernel_761/4283813275.py:11: SettingWithCopyWarning:\n",
      "\n",
      "\n",
      "A value is trying to be set on a copy of a slice from a DataFrame.\n",
      "Try using .loc[row_indexer,col_indexer] = value instead\n",
      "\n",
      "See the caveats in the documentation: https://pandas.pydata.org/pandas-docs/stable/user_guide/indexing.html#returning-a-view-versus-a-copy\n",
      "\n",
      "/var/folders/qj/xh48vw9d4z5_h6wzs6r2smdh0000gn/T/ipykernel_761/4283813275.py:11: SettingWithCopyWarning:\n",
      "\n",
      "\n",
      "A value is trying to be set on a copy of a slice from a DataFrame.\n",
      "Try using .loc[row_indexer,col_indexer] = value instead\n",
      "\n",
      "See the caveats in the documentation: https://pandas.pydata.org/pandas-docs/stable/user_guide/indexing.html#returning-a-view-versus-a-copy\n",
      "\n",
      "/var/folders/qj/xh48vw9d4z5_h6wzs6r2smdh0000gn/T/ipykernel_761/4283813275.py:11: SettingWithCopyWarning:\n",
      "\n",
      "\n",
      "A value is trying to be set on a copy of a slice from a DataFrame.\n",
      "Try using .loc[row_indexer,col_indexer] = value instead\n",
      "\n",
      "See the caveats in the documentation: https://pandas.pydata.org/pandas-docs/stable/user_guide/indexing.html#returning-a-view-versus-a-copy\n",
      "\n",
      "/var/folders/qj/xh48vw9d4z5_h6wzs6r2smdh0000gn/T/ipykernel_761/4283813275.py:11: SettingWithCopyWarning:\n",
      "\n",
      "\n",
      "A value is trying to be set on a copy of a slice from a DataFrame.\n",
      "Try using .loc[row_indexer,col_indexer] = value instead\n",
      "\n",
      "See the caveats in the documentation: https://pandas.pydata.org/pandas-docs/stable/user_guide/indexing.html#returning-a-view-versus-a-copy\n",
      "\n",
      "/var/folders/qj/xh48vw9d4z5_h6wzs6r2smdh0000gn/T/ipykernel_761/4283813275.py:11: SettingWithCopyWarning:\n",
      "\n",
      "\n",
      "A value is trying to be set on a copy of a slice from a DataFrame.\n",
      "Try using .loc[row_indexer,col_indexer] = value instead\n",
      "\n",
      "See the caveats in the documentation: https://pandas.pydata.org/pandas-docs/stable/user_guide/indexing.html#returning-a-view-versus-a-copy\n",
      "\n",
      "/var/folders/qj/xh48vw9d4z5_h6wzs6r2smdh0000gn/T/ipykernel_761/4283813275.py:11: SettingWithCopyWarning:\n",
      "\n",
      "\n",
      "A value is trying to be set on a copy of a slice from a DataFrame.\n",
      "Try using .loc[row_indexer,col_indexer] = value instead\n",
      "\n",
      "See the caveats in the documentation: https://pandas.pydata.org/pandas-docs/stable/user_guide/indexing.html#returning-a-view-versus-a-copy\n",
      "\n",
      "/var/folders/qj/xh48vw9d4z5_h6wzs6r2smdh0000gn/T/ipykernel_761/4283813275.py:11: SettingWithCopyWarning:\n",
      "\n",
      "\n",
      "A value is trying to be set on a copy of a slice from a DataFrame.\n",
      "Try using .loc[row_indexer,col_indexer] = value instead\n",
      "\n",
      "See the caveats in the documentation: https://pandas.pydata.org/pandas-docs/stable/user_guide/indexing.html#returning-a-view-versus-a-copy\n",
      "\n",
      "/var/folders/qj/xh48vw9d4z5_h6wzs6r2smdh0000gn/T/ipykernel_761/4283813275.py:11: SettingWithCopyWarning:\n",
      "\n",
      "\n",
      "A value is trying to be set on a copy of a slice from a DataFrame.\n",
      "Try using .loc[row_indexer,col_indexer] = value instead\n",
      "\n",
      "See the caveats in the documentation: https://pandas.pydata.org/pandas-docs/stable/user_guide/indexing.html#returning-a-view-versus-a-copy\n",
      "\n",
      "/var/folders/qj/xh48vw9d4z5_h6wzs6r2smdh0000gn/T/ipykernel_761/4283813275.py:11: SettingWithCopyWarning:\n",
      "\n",
      "\n",
      "A value is trying to be set on a copy of a slice from a DataFrame.\n",
      "Try using .loc[row_indexer,col_indexer] = value instead\n",
      "\n",
      "See the caveats in the documentation: https://pandas.pydata.org/pandas-docs/stable/user_guide/indexing.html#returning-a-view-versus-a-copy\n",
      "\n",
      "/var/folders/qj/xh48vw9d4z5_h6wzs6r2smdh0000gn/T/ipykernel_761/4283813275.py:11: SettingWithCopyWarning:\n",
      "\n",
      "\n",
      "A value is trying to be set on a copy of a slice from a DataFrame.\n",
      "Try using .loc[row_indexer,col_indexer] = value instead\n",
      "\n",
      "See the caveats in the documentation: https://pandas.pydata.org/pandas-docs/stable/user_guide/indexing.html#returning-a-view-versus-a-copy\n",
      "\n",
      "/var/folders/qj/xh48vw9d4z5_h6wzs6r2smdh0000gn/T/ipykernel_761/4283813275.py:11: SettingWithCopyWarning:\n",
      "\n",
      "\n",
      "A value is trying to be set on a copy of a slice from a DataFrame.\n",
      "Try using .loc[row_indexer,col_indexer] = value instead\n",
      "\n",
      "See the caveats in the documentation: https://pandas.pydata.org/pandas-docs/stable/user_guide/indexing.html#returning-a-view-versus-a-copy\n",
      "\n",
      "/var/folders/qj/xh48vw9d4z5_h6wzs6r2smdh0000gn/T/ipykernel_761/4283813275.py:11: SettingWithCopyWarning:\n",
      "\n",
      "\n",
      "A value is trying to be set on a copy of a slice from a DataFrame.\n",
      "Try using .loc[row_indexer,col_indexer] = value instead\n",
      "\n",
      "See the caveats in the documentation: https://pandas.pydata.org/pandas-docs/stable/user_guide/indexing.html#returning-a-view-versus-a-copy\n",
      "\n",
      "/var/folders/qj/xh48vw9d4z5_h6wzs6r2smdh0000gn/T/ipykernel_761/4283813275.py:11: SettingWithCopyWarning:\n",
      "\n",
      "\n",
      "A value is trying to be set on a copy of a slice from a DataFrame.\n",
      "Try using .loc[row_indexer,col_indexer] = value instead\n",
      "\n",
      "See the caveats in the documentation: https://pandas.pydata.org/pandas-docs/stable/user_guide/indexing.html#returning-a-view-versus-a-copy\n",
      "\n",
      "/var/folders/qj/xh48vw9d4z5_h6wzs6r2smdh0000gn/T/ipykernel_761/4283813275.py:11: SettingWithCopyWarning:\n",
      "\n",
      "\n",
      "A value is trying to be set on a copy of a slice from a DataFrame.\n",
      "Try using .loc[row_indexer,col_indexer] = value instead\n",
      "\n",
      "See the caveats in the documentation: https://pandas.pydata.org/pandas-docs/stable/user_guide/indexing.html#returning-a-view-versus-a-copy\n",
      "\n",
      "/var/folders/qj/xh48vw9d4z5_h6wzs6r2smdh0000gn/T/ipykernel_761/4283813275.py:11: SettingWithCopyWarning:\n",
      "\n",
      "\n",
      "A value is trying to be set on a copy of a slice from a DataFrame.\n",
      "Try using .loc[row_indexer,col_indexer] = value instead\n",
      "\n",
      "See the caveats in the documentation: https://pandas.pydata.org/pandas-docs/stable/user_guide/indexing.html#returning-a-view-versus-a-copy\n",
      "\n",
      "/var/folders/qj/xh48vw9d4z5_h6wzs6r2smdh0000gn/T/ipykernel_761/4283813275.py:11: SettingWithCopyWarning:\n",
      "\n",
      "\n",
      "A value is trying to be set on a copy of a slice from a DataFrame.\n",
      "Try using .loc[row_indexer,col_indexer] = value instead\n",
      "\n",
      "See the caveats in the documentation: https://pandas.pydata.org/pandas-docs/stable/user_guide/indexing.html#returning-a-view-versus-a-copy\n",
      "\n",
      "/var/folders/qj/xh48vw9d4z5_h6wzs6r2smdh0000gn/T/ipykernel_761/4283813275.py:11: SettingWithCopyWarning:\n",
      "\n",
      "\n",
      "A value is trying to be set on a copy of a slice from a DataFrame.\n",
      "Try using .loc[row_indexer,col_indexer] = value instead\n",
      "\n",
      "See the caveats in the documentation: https://pandas.pydata.org/pandas-docs/stable/user_guide/indexing.html#returning-a-view-versus-a-copy\n",
      "\n",
      "/var/folders/qj/xh48vw9d4z5_h6wzs6r2smdh0000gn/T/ipykernel_761/4283813275.py:11: SettingWithCopyWarning:\n",
      "\n",
      "\n",
      "A value is trying to be set on a copy of a slice from a DataFrame.\n",
      "Try using .loc[row_indexer,col_indexer] = value instead\n",
      "\n",
      "See the caveats in the documentation: https://pandas.pydata.org/pandas-docs/stable/user_guide/indexing.html#returning-a-view-versus-a-copy\n",
      "\n",
      "/var/folders/qj/xh48vw9d4z5_h6wzs6r2smdh0000gn/T/ipykernel_761/4283813275.py:11: SettingWithCopyWarning:\n",
      "\n",
      "\n",
      "A value is trying to be set on a copy of a slice from a DataFrame.\n",
      "Try using .loc[row_indexer,col_indexer] = value instead\n",
      "\n",
      "See the caveats in the documentation: https://pandas.pydata.org/pandas-docs/stable/user_guide/indexing.html#returning-a-view-versus-a-copy\n",
      "\n",
      "/var/folders/qj/xh48vw9d4z5_h6wzs6r2smdh0000gn/T/ipykernel_761/4283813275.py:11: SettingWithCopyWarning:\n",
      "\n",
      "\n",
      "A value is trying to be set on a copy of a slice from a DataFrame.\n",
      "Try using .loc[row_indexer,col_indexer] = value instead\n",
      "\n",
      "See the caveats in the documentation: https://pandas.pydata.org/pandas-docs/stable/user_guide/indexing.html#returning-a-view-versus-a-copy\n",
      "\n",
      "/var/folders/qj/xh48vw9d4z5_h6wzs6r2smdh0000gn/T/ipykernel_761/4283813275.py:11: SettingWithCopyWarning:\n",
      "\n",
      "\n",
      "A value is trying to be set on a copy of a slice from a DataFrame.\n",
      "Try using .loc[row_indexer,col_indexer] = value instead\n",
      "\n",
      "See the caveats in the documentation: https://pandas.pydata.org/pandas-docs/stable/user_guide/indexing.html#returning-a-view-versus-a-copy\n",
      "\n",
      "/var/folders/qj/xh48vw9d4z5_h6wzs6r2smdh0000gn/T/ipykernel_761/4283813275.py:11: SettingWithCopyWarning:\n",
      "\n",
      "\n",
      "A value is trying to be set on a copy of a slice from a DataFrame.\n",
      "Try using .loc[row_indexer,col_indexer] = value instead\n",
      "\n",
      "See the caveats in the documentation: https://pandas.pydata.org/pandas-docs/stable/user_guide/indexing.html#returning-a-view-versus-a-copy\n",
      "\n",
      "/var/folders/qj/xh48vw9d4z5_h6wzs6r2smdh0000gn/T/ipykernel_761/4283813275.py:11: SettingWithCopyWarning:\n",
      "\n",
      "\n",
      "A value is trying to be set on a copy of a slice from a DataFrame.\n",
      "Try using .loc[row_indexer,col_indexer] = value instead\n",
      "\n",
      "See the caveats in the documentation: https://pandas.pydata.org/pandas-docs/stable/user_guide/indexing.html#returning-a-view-versus-a-copy\n",
      "\n",
      "/var/folders/qj/xh48vw9d4z5_h6wzs6r2smdh0000gn/T/ipykernel_761/4283813275.py:11: SettingWithCopyWarning:\n",
      "\n",
      "\n",
      "A value is trying to be set on a copy of a slice from a DataFrame.\n",
      "Try using .loc[row_indexer,col_indexer] = value instead\n",
      "\n",
      "See the caveats in the documentation: https://pandas.pydata.org/pandas-docs/stable/user_guide/indexing.html#returning-a-view-versus-a-copy\n",
      "\n",
      "/var/folders/qj/xh48vw9d4z5_h6wzs6r2smdh0000gn/T/ipykernel_761/4283813275.py:11: SettingWithCopyWarning:\n",
      "\n",
      "\n",
      "A value is trying to be set on a copy of a slice from a DataFrame.\n",
      "Try using .loc[row_indexer,col_indexer] = value instead\n",
      "\n",
      "See the caveats in the documentation: https://pandas.pydata.org/pandas-docs/stable/user_guide/indexing.html#returning-a-view-versus-a-copy\n",
      "\n",
      "/var/folders/qj/xh48vw9d4z5_h6wzs6r2smdh0000gn/T/ipykernel_761/4283813275.py:11: SettingWithCopyWarning:\n",
      "\n",
      "\n",
      "A value is trying to be set on a copy of a slice from a DataFrame.\n",
      "Try using .loc[row_indexer,col_indexer] = value instead\n",
      "\n",
      "See the caveats in the documentation: https://pandas.pydata.org/pandas-docs/stable/user_guide/indexing.html#returning-a-view-versus-a-copy\n",
      "\n",
      "/var/folders/qj/xh48vw9d4z5_h6wzs6r2smdh0000gn/T/ipykernel_761/4283813275.py:11: SettingWithCopyWarning:\n",
      "\n",
      "\n",
      "A value is trying to be set on a copy of a slice from a DataFrame.\n",
      "Try using .loc[row_indexer,col_indexer] = value instead\n",
      "\n",
      "See the caveats in the documentation: https://pandas.pydata.org/pandas-docs/stable/user_guide/indexing.html#returning-a-view-versus-a-copy\n",
      "\n",
      "/var/folders/qj/xh48vw9d4z5_h6wzs6r2smdh0000gn/T/ipykernel_761/4283813275.py:11: SettingWithCopyWarning:\n",
      "\n",
      "\n",
      "A value is trying to be set on a copy of a slice from a DataFrame.\n",
      "Try using .loc[row_indexer,col_indexer] = value instead\n",
      "\n",
      "See the caveats in the documentation: https://pandas.pydata.org/pandas-docs/stable/user_guide/indexing.html#returning-a-view-versus-a-copy\n",
      "\n",
      "/var/folders/qj/xh48vw9d4z5_h6wzs6r2smdh0000gn/T/ipykernel_761/4283813275.py:11: SettingWithCopyWarning:\n",
      "\n",
      "\n",
      "A value is trying to be set on a copy of a slice from a DataFrame.\n",
      "Try using .loc[row_indexer,col_indexer] = value instead\n",
      "\n",
      "See the caveats in the documentation: https://pandas.pydata.org/pandas-docs/stable/user_guide/indexing.html#returning-a-view-versus-a-copy\n",
      "\n",
      "/var/folders/qj/xh48vw9d4z5_h6wzs6r2smdh0000gn/T/ipykernel_761/4283813275.py:11: SettingWithCopyWarning:\n",
      "\n",
      "\n",
      "A value is trying to be set on a copy of a slice from a DataFrame.\n",
      "Try using .loc[row_indexer,col_indexer] = value instead\n",
      "\n",
      "See the caveats in the documentation: https://pandas.pydata.org/pandas-docs/stable/user_guide/indexing.html#returning-a-view-versus-a-copy\n",
      "\n",
      "/var/folders/qj/xh48vw9d4z5_h6wzs6r2smdh0000gn/T/ipykernel_761/4283813275.py:11: SettingWithCopyWarning:\n",
      "\n",
      "\n",
      "A value is trying to be set on a copy of a slice from a DataFrame.\n",
      "Try using .loc[row_indexer,col_indexer] = value instead\n",
      "\n",
      "See the caveats in the documentation: https://pandas.pydata.org/pandas-docs/stable/user_guide/indexing.html#returning-a-view-versus-a-copy\n",
      "\n",
      "/var/folders/qj/xh48vw9d4z5_h6wzs6r2smdh0000gn/T/ipykernel_761/4283813275.py:11: SettingWithCopyWarning:\n",
      "\n",
      "\n",
      "A value is trying to be set on a copy of a slice from a DataFrame.\n",
      "Try using .loc[row_indexer,col_indexer] = value instead\n",
      "\n",
      "See the caveats in the documentation: https://pandas.pydata.org/pandas-docs/stable/user_guide/indexing.html#returning-a-view-versus-a-copy\n",
      "\n",
      "/var/folders/qj/xh48vw9d4z5_h6wzs6r2smdh0000gn/T/ipykernel_761/4283813275.py:11: SettingWithCopyWarning:\n",
      "\n",
      "\n",
      "A value is trying to be set on a copy of a slice from a DataFrame.\n",
      "Try using .loc[row_indexer,col_indexer] = value instead\n",
      "\n",
      "See the caveats in the documentation: https://pandas.pydata.org/pandas-docs/stable/user_guide/indexing.html#returning-a-view-versus-a-copy\n",
      "\n",
      "/var/folders/qj/xh48vw9d4z5_h6wzs6r2smdh0000gn/T/ipykernel_761/4283813275.py:11: SettingWithCopyWarning:\n",
      "\n",
      "\n",
      "A value is trying to be set on a copy of a slice from a DataFrame.\n",
      "Try using .loc[row_indexer,col_indexer] = value instead\n",
      "\n",
      "See the caveats in the documentation: https://pandas.pydata.org/pandas-docs/stable/user_guide/indexing.html#returning-a-view-versus-a-copy\n",
      "\n",
      "/var/folders/qj/xh48vw9d4z5_h6wzs6r2smdh0000gn/T/ipykernel_761/4283813275.py:11: SettingWithCopyWarning:\n",
      "\n",
      "\n",
      "A value is trying to be set on a copy of a slice from a DataFrame.\n",
      "Try using .loc[row_indexer,col_indexer] = value instead\n",
      "\n",
      "See the caveats in the documentation: https://pandas.pydata.org/pandas-docs/stable/user_guide/indexing.html#returning-a-view-versus-a-copy\n",
      "\n",
      "/var/folders/qj/xh48vw9d4z5_h6wzs6r2smdh0000gn/T/ipykernel_761/4283813275.py:11: SettingWithCopyWarning:\n",
      "\n",
      "\n",
      "A value is trying to be set on a copy of a slice from a DataFrame.\n",
      "Try using .loc[row_indexer,col_indexer] = value instead\n",
      "\n",
      "See the caveats in the documentation: https://pandas.pydata.org/pandas-docs/stable/user_guide/indexing.html#returning-a-view-versus-a-copy\n",
      "\n",
      "/var/folders/qj/xh48vw9d4z5_h6wzs6r2smdh0000gn/T/ipykernel_761/4283813275.py:11: SettingWithCopyWarning:\n",
      "\n",
      "\n",
      "A value is trying to be set on a copy of a slice from a DataFrame.\n",
      "Try using .loc[row_indexer,col_indexer] = value instead\n",
      "\n",
      "See the caveats in the documentation: https://pandas.pydata.org/pandas-docs/stable/user_guide/indexing.html#returning-a-view-versus-a-copy\n",
      "\n",
      "/var/folders/qj/xh48vw9d4z5_h6wzs6r2smdh0000gn/T/ipykernel_761/4283813275.py:11: SettingWithCopyWarning:\n",
      "\n",
      "\n",
      "A value is trying to be set on a copy of a slice from a DataFrame.\n",
      "Try using .loc[row_indexer,col_indexer] = value instead\n",
      "\n",
      "See the caveats in the documentation: https://pandas.pydata.org/pandas-docs/stable/user_guide/indexing.html#returning-a-view-versus-a-copy\n",
      "\n",
      "/var/folders/qj/xh48vw9d4z5_h6wzs6r2smdh0000gn/T/ipykernel_761/4283813275.py:11: SettingWithCopyWarning:\n",
      "\n",
      "\n",
      "A value is trying to be set on a copy of a slice from a DataFrame.\n",
      "Try using .loc[row_indexer,col_indexer] = value instead\n",
      "\n",
      "See the caveats in the documentation: https://pandas.pydata.org/pandas-docs/stable/user_guide/indexing.html#returning-a-view-versus-a-copy\n",
      "\n",
      "/var/folders/qj/xh48vw9d4z5_h6wzs6r2smdh0000gn/T/ipykernel_761/4283813275.py:11: SettingWithCopyWarning:\n",
      "\n",
      "\n",
      "A value is trying to be set on a copy of a slice from a DataFrame.\n",
      "Try using .loc[row_indexer,col_indexer] = value instead\n",
      "\n",
      "See the caveats in the documentation: https://pandas.pydata.org/pandas-docs/stable/user_guide/indexing.html#returning-a-view-versus-a-copy\n",
      "\n",
      "/var/folders/qj/xh48vw9d4z5_h6wzs6r2smdh0000gn/T/ipykernel_761/4283813275.py:11: SettingWithCopyWarning:\n",
      "\n",
      "\n",
      "A value is trying to be set on a copy of a slice from a DataFrame.\n",
      "Try using .loc[row_indexer,col_indexer] = value instead\n",
      "\n",
      "See the caveats in the documentation: https://pandas.pydata.org/pandas-docs/stable/user_guide/indexing.html#returning-a-view-versus-a-copy\n",
      "\n",
      "/var/folders/qj/xh48vw9d4z5_h6wzs6r2smdh0000gn/T/ipykernel_761/4283813275.py:11: SettingWithCopyWarning:\n",
      "\n",
      "\n",
      "A value is trying to be set on a copy of a slice from a DataFrame.\n",
      "Try using .loc[row_indexer,col_indexer] = value instead\n",
      "\n",
      "See the caveats in the documentation: https://pandas.pydata.org/pandas-docs/stable/user_guide/indexing.html#returning-a-view-versus-a-copy\n",
      "\n",
      "/var/folders/qj/xh48vw9d4z5_h6wzs6r2smdh0000gn/T/ipykernel_761/4283813275.py:11: SettingWithCopyWarning:\n",
      "\n",
      "\n",
      "A value is trying to be set on a copy of a slice from a DataFrame.\n",
      "Try using .loc[row_indexer,col_indexer] = value instead\n",
      "\n",
      "See the caveats in the documentation: https://pandas.pydata.org/pandas-docs/stable/user_guide/indexing.html#returning-a-view-versus-a-copy\n",
      "\n",
      "/var/folders/qj/xh48vw9d4z5_h6wzs6r2smdh0000gn/T/ipykernel_761/4283813275.py:11: SettingWithCopyWarning:\n",
      "\n",
      "\n",
      "A value is trying to be set on a copy of a slice from a DataFrame.\n",
      "Try using .loc[row_indexer,col_indexer] = value instead\n",
      "\n",
      "See the caveats in the documentation: https://pandas.pydata.org/pandas-docs/stable/user_guide/indexing.html#returning-a-view-versus-a-copy\n",
      "\n",
      "/var/folders/qj/xh48vw9d4z5_h6wzs6r2smdh0000gn/T/ipykernel_761/4283813275.py:11: SettingWithCopyWarning:\n",
      "\n",
      "\n",
      "A value is trying to be set on a copy of a slice from a DataFrame.\n",
      "Try using .loc[row_indexer,col_indexer] = value instead\n",
      "\n",
      "See the caveats in the documentation: https://pandas.pydata.org/pandas-docs/stable/user_guide/indexing.html#returning-a-view-versus-a-copy\n",
      "\n",
      "/var/folders/qj/xh48vw9d4z5_h6wzs6r2smdh0000gn/T/ipykernel_761/4283813275.py:11: SettingWithCopyWarning:\n",
      "\n",
      "\n",
      "A value is trying to be set on a copy of a slice from a DataFrame.\n",
      "Try using .loc[row_indexer,col_indexer] = value instead\n",
      "\n",
      "See the caveats in the documentation: https://pandas.pydata.org/pandas-docs/stable/user_guide/indexing.html#returning-a-view-versus-a-copy\n",
      "\n",
      "/var/folders/qj/xh48vw9d4z5_h6wzs6r2smdh0000gn/T/ipykernel_761/4283813275.py:11: SettingWithCopyWarning:\n",
      "\n",
      "\n",
      "A value is trying to be set on a copy of a slice from a DataFrame.\n",
      "Try using .loc[row_indexer,col_indexer] = value instead\n",
      "\n",
      "See the caveats in the documentation: https://pandas.pydata.org/pandas-docs/stable/user_guide/indexing.html#returning-a-view-versus-a-copy\n",
      "\n",
      "/var/folders/qj/xh48vw9d4z5_h6wzs6r2smdh0000gn/T/ipykernel_761/4283813275.py:11: SettingWithCopyWarning:\n",
      "\n",
      "\n",
      "A value is trying to be set on a copy of a slice from a DataFrame.\n",
      "Try using .loc[row_indexer,col_indexer] = value instead\n",
      "\n",
      "See the caveats in the documentation: https://pandas.pydata.org/pandas-docs/stable/user_guide/indexing.html#returning-a-view-versus-a-copy\n",
      "\n",
      "/var/folders/qj/xh48vw9d4z5_h6wzs6r2smdh0000gn/T/ipykernel_761/4283813275.py:11: SettingWithCopyWarning:\n",
      "\n",
      "\n",
      "A value is trying to be set on a copy of a slice from a DataFrame.\n",
      "Try using .loc[row_indexer,col_indexer] = value instead\n",
      "\n",
      "See the caveats in the documentation: https://pandas.pydata.org/pandas-docs/stable/user_guide/indexing.html#returning-a-view-versus-a-copy\n",
      "\n",
      "/var/folders/qj/xh48vw9d4z5_h6wzs6r2smdh0000gn/T/ipykernel_761/4283813275.py:11: SettingWithCopyWarning:\n",
      "\n",
      "\n",
      "A value is trying to be set on a copy of a slice from a DataFrame.\n",
      "Try using .loc[row_indexer,col_indexer] = value instead\n",
      "\n",
      "See the caveats in the documentation: https://pandas.pydata.org/pandas-docs/stable/user_guide/indexing.html#returning-a-view-versus-a-copy\n",
      "\n",
      "/var/folders/qj/xh48vw9d4z5_h6wzs6r2smdh0000gn/T/ipykernel_761/4283813275.py:11: SettingWithCopyWarning:\n",
      "\n",
      "\n",
      "A value is trying to be set on a copy of a slice from a DataFrame.\n",
      "Try using .loc[row_indexer,col_indexer] = value instead\n",
      "\n",
      "See the caveats in the documentation: https://pandas.pydata.org/pandas-docs/stable/user_guide/indexing.html#returning-a-view-versus-a-copy\n",
      "\n",
      "/var/folders/qj/xh48vw9d4z5_h6wzs6r2smdh0000gn/T/ipykernel_761/4283813275.py:11: SettingWithCopyWarning:\n",
      "\n",
      "\n",
      "A value is trying to be set on a copy of a slice from a DataFrame.\n",
      "Try using .loc[row_indexer,col_indexer] = value instead\n",
      "\n",
      "See the caveats in the documentation: https://pandas.pydata.org/pandas-docs/stable/user_guide/indexing.html#returning-a-view-versus-a-copy\n",
      "\n",
      "/var/folders/qj/xh48vw9d4z5_h6wzs6r2smdh0000gn/T/ipykernel_761/4283813275.py:11: SettingWithCopyWarning:\n",
      "\n",
      "\n",
      "A value is trying to be set on a copy of a slice from a DataFrame.\n",
      "Try using .loc[row_indexer,col_indexer] = value instead\n",
      "\n",
      "See the caveats in the documentation: https://pandas.pydata.org/pandas-docs/stable/user_guide/indexing.html#returning-a-view-versus-a-copy\n",
      "\n",
      "/var/folders/qj/xh48vw9d4z5_h6wzs6r2smdh0000gn/T/ipykernel_761/4283813275.py:11: SettingWithCopyWarning:\n",
      "\n",
      "\n",
      "A value is trying to be set on a copy of a slice from a DataFrame.\n",
      "Try using .loc[row_indexer,col_indexer] = value instead\n",
      "\n",
      "See the caveats in the documentation: https://pandas.pydata.org/pandas-docs/stable/user_guide/indexing.html#returning-a-view-versus-a-copy\n",
      "\n",
      "/var/folders/qj/xh48vw9d4z5_h6wzs6r2smdh0000gn/T/ipykernel_761/4283813275.py:11: SettingWithCopyWarning:\n",
      "\n",
      "\n",
      "A value is trying to be set on a copy of a slice from a DataFrame.\n",
      "Try using .loc[row_indexer,col_indexer] = value instead\n",
      "\n",
      "See the caveats in the documentation: https://pandas.pydata.org/pandas-docs/stable/user_guide/indexing.html#returning-a-view-versus-a-copy\n",
      "\n",
      "/var/folders/qj/xh48vw9d4z5_h6wzs6r2smdh0000gn/T/ipykernel_761/4283813275.py:11: SettingWithCopyWarning:\n",
      "\n",
      "\n",
      "A value is trying to be set on a copy of a slice from a DataFrame.\n",
      "Try using .loc[row_indexer,col_indexer] = value instead\n",
      "\n",
      "See the caveats in the documentation: https://pandas.pydata.org/pandas-docs/stable/user_guide/indexing.html#returning-a-view-versus-a-copy\n",
      "\n",
      "/var/folders/qj/xh48vw9d4z5_h6wzs6r2smdh0000gn/T/ipykernel_761/4283813275.py:11: SettingWithCopyWarning:\n",
      "\n",
      "\n",
      "A value is trying to be set on a copy of a slice from a DataFrame.\n",
      "Try using .loc[row_indexer,col_indexer] = value instead\n",
      "\n",
      "See the caveats in the documentation: https://pandas.pydata.org/pandas-docs/stable/user_guide/indexing.html#returning-a-view-versus-a-copy\n",
      "\n",
      "/var/folders/qj/xh48vw9d4z5_h6wzs6r2smdh0000gn/T/ipykernel_761/4283813275.py:11: SettingWithCopyWarning:\n",
      "\n",
      "\n",
      "A value is trying to be set on a copy of a slice from a DataFrame.\n",
      "Try using .loc[row_indexer,col_indexer] = value instead\n",
      "\n",
      "See the caveats in the documentation: https://pandas.pydata.org/pandas-docs/stable/user_guide/indexing.html#returning-a-view-versus-a-copy\n",
      "\n",
      "/var/folders/qj/xh48vw9d4z5_h6wzs6r2smdh0000gn/T/ipykernel_761/4283813275.py:11: SettingWithCopyWarning:\n",
      "\n",
      "\n",
      "A value is trying to be set on a copy of a slice from a DataFrame.\n",
      "Try using .loc[row_indexer,col_indexer] = value instead\n",
      "\n",
      "See the caveats in the documentation: https://pandas.pydata.org/pandas-docs/stable/user_guide/indexing.html#returning-a-view-versus-a-copy\n",
      "\n",
      "/var/folders/qj/xh48vw9d4z5_h6wzs6r2smdh0000gn/T/ipykernel_761/4283813275.py:11: SettingWithCopyWarning:\n",
      "\n",
      "\n",
      "A value is trying to be set on a copy of a slice from a DataFrame.\n",
      "Try using .loc[row_indexer,col_indexer] = value instead\n",
      "\n",
      "See the caveats in the documentation: https://pandas.pydata.org/pandas-docs/stable/user_guide/indexing.html#returning-a-view-versus-a-copy\n",
      "\n",
      "/var/folders/qj/xh48vw9d4z5_h6wzs6r2smdh0000gn/T/ipykernel_761/4283813275.py:11: SettingWithCopyWarning:\n",
      "\n",
      "\n",
      "A value is trying to be set on a copy of a slice from a DataFrame.\n",
      "Try using .loc[row_indexer,col_indexer] = value instead\n",
      "\n",
      "See the caveats in the documentation: https://pandas.pydata.org/pandas-docs/stable/user_guide/indexing.html#returning-a-view-versus-a-copy\n",
      "\n",
      "/var/folders/qj/xh48vw9d4z5_h6wzs6r2smdh0000gn/T/ipykernel_761/4283813275.py:11: SettingWithCopyWarning:\n",
      "\n",
      "\n",
      "A value is trying to be set on a copy of a slice from a DataFrame.\n",
      "Try using .loc[row_indexer,col_indexer] = value instead\n",
      "\n",
      "See the caveats in the documentation: https://pandas.pydata.org/pandas-docs/stable/user_guide/indexing.html#returning-a-view-versus-a-copy\n",
      "\n",
      "/var/folders/qj/xh48vw9d4z5_h6wzs6r2smdh0000gn/T/ipykernel_761/4283813275.py:11: SettingWithCopyWarning:\n",
      "\n",
      "\n",
      "A value is trying to be set on a copy of a slice from a DataFrame.\n",
      "Try using .loc[row_indexer,col_indexer] = value instead\n",
      "\n",
      "See the caveats in the documentation: https://pandas.pydata.org/pandas-docs/stable/user_guide/indexing.html#returning-a-view-versus-a-copy\n",
      "\n",
      "/var/folders/qj/xh48vw9d4z5_h6wzs6r2smdh0000gn/T/ipykernel_761/4283813275.py:11: SettingWithCopyWarning:\n",
      "\n",
      "\n",
      "A value is trying to be set on a copy of a slice from a DataFrame.\n",
      "Try using .loc[row_indexer,col_indexer] = value instead\n",
      "\n",
      "See the caveats in the documentation: https://pandas.pydata.org/pandas-docs/stable/user_guide/indexing.html#returning-a-view-versus-a-copy\n",
      "\n",
      "/var/folders/qj/xh48vw9d4z5_h6wzs6r2smdh0000gn/T/ipykernel_761/4283813275.py:11: SettingWithCopyWarning:\n",
      "\n",
      "\n",
      "A value is trying to be set on a copy of a slice from a DataFrame.\n",
      "Try using .loc[row_indexer,col_indexer] = value instead\n",
      "\n",
      "See the caveats in the documentation: https://pandas.pydata.org/pandas-docs/stable/user_guide/indexing.html#returning-a-view-versus-a-copy\n",
      "\n",
      "/var/folders/qj/xh48vw9d4z5_h6wzs6r2smdh0000gn/T/ipykernel_761/4283813275.py:11: SettingWithCopyWarning:\n",
      "\n",
      "\n",
      "A value is trying to be set on a copy of a slice from a DataFrame.\n",
      "Try using .loc[row_indexer,col_indexer] = value instead\n",
      "\n",
      "See the caveats in the documentation: https://pandas.pydata.org/pandas-docs/stable/user_guide/indexing.html#returning-a-view-versus-a-copy\n",
      "\n",
      "/var/folders/qj/xh48vw9d4z5_h6wzs6r2smdh0000gn/T/ipykernel_761/4283813275.py:11: SettingWithCopyWarning:\n",
      "\n",
      "\n",
      "A value is trying to be set on a copy of a slice from a DataFrame.\n",
      "Try using .loc[row_indexer,col_indexer] = value instead\n",
      "\n",
      "See the caveats in the documentation: https://pandas.pydata.org/pandas-docs/stable/user_guide/indexing.html#returning-a-view-versus-a-copy\n",
      "\n",
      "/var/folders/qj/xh48vw9d4z5_h6wzs6r2smdh0000gn/T/ipykernel_761/4283813275.py:11: SettingWithCopyWarning:\n",
      "\n",
      "\n",
      "A value is trying to be set on a copy of a slice from a DataFrame.\n",
      "Try using .loc[row_indexer,col_indexer] = value instead\n",
      "\n",
      "See the caveats in the documentation: https://pandas.pydata.org/pandas-docs/stable/user_guide/indexing.html#returning-a-view-versus-a-copy\n",
      "\n",
      "/var/folders/qj/xh48vw9d4z5_h6wzs6r2smdh0000gn/T/ipykernel_761/4283813275.py:11: SettingWithCopyWarning:\n",
      "\n",
      "\n",
      "A value is trying to be set on a copy of a slice from a DataFrame.\n",
      "Try using .loc[row_indexer,col_indexer] = value instead\n",
      "\n",
      "See the caveats in the documentation: https://pandas.pydata.org/pandas-docs/stable/user_guide/indexing.html#returning-a-view-versus-a-copy\n",
      "\n",
      "/var/folders/qj/xh48vw9d4z5_h6wzs6r2smdh0000gn/T/ipykernel_761/4283813275.py:11: SettingWithCopyWarning:\n",
      "\n",
      "\n",
      "A value is trying to be set on a copy of a slice from a DataFrame.\n",
      "Try using .loc[row_indexer,col_indexer] = value instead\n",
      "\n",
      "See the caveats in the documentation: https://pandas.pydata.org/pandas-docs/stable/user_guide/indexing.html#returning-a-view-versus-a-copy\n",
      "\n",
      "/var/folders/qj/xh48vw9d4z5_h6wzs6r2smdh0000gn/T/ipykernel_761/4283813275.py:11: SettingWithCopyWarning:\n",
      "\n",
      "\n",
      "A value is trying to be set on a copy of a slice from a DataFrame.\n",
      "Try using .loc[row_indexer,col_indexer] = value instead\n",
      "\n",
      "See the caveats in the documentation: https://pandas.pydata.org/pandas-docs/stable/user_guide/indexing.html#returning-a-view-versus-a-copy\n",
      "\n",
      "/var/folders/qj/xh48vw9d4z5_h6wzs6r2smdh0000gn/T/ipykernel_761/4283813275.py:11: SettingWithCopyWarning:\n",
      "\n",
      "\n",
      "A value is trying to be set on a copy of a slice from a DataFrame.\n",
      "Try using .loc[row_indexer,col_indexer] = value instead\n",
      "\n",
      "See the caveats in the documentation: https://pandas.pydata.org/pandas-docs/stable/user_guide/indexing.html#returning-a-view-versus-a-copy\n",
      "\n",
      "/var/folders/qj/xh48vw9d4z5_h6wzs6r2smdh0000gn/T/ipykernel_761/4283813275.py:11: SettingWithCopyWarning:\n",
      "\n",
      "\n",
      "A value is trying to be set on a copy of a slice from a DataFrame.\n",
      "Try using .loc[row_indexer,col_indexer] = value instead\n",
      "\n",
      "See the caveats in the documentation: https://pandas.pydata.org/pandas-docs/stable/user_guide/indexing.html#returning-a-view-versus-a-copy\n",
      "\n",
      "/var/folders/qj/xh48vw9d4z5_h6wzs6r2smdh0000gn/T/ipykernel_761/4283813275.py:11: SettingWithCopyWarning:\n",
      "\n",
      "\n",
      "A value is trying to be set on a copy of a slice from a DataFrame.\n",
      "Try using .loc[row_indexer,col_indexer] = value instead\n",
      "\n",
      "See the caveats in the documentation: https://pandas.pydata.org/pandas-docs/stable/user_guide/indexing.html#returning-a-view-versus-a-copy\n",
      "\n",
      "/var/folders/qj/xh48vw9d4z5_h6wzs6r2smdh0000gn/T/ipykernel_761/4283813275.py:11: SettingWithCopyWarning:\n",
      "\n",
      "\n",
      "A value is trying to be set on a copy of a slice from a DataFrame.\n",
      "Try using .loc[row_indexer,col_indexer] = value instead\n",
      "\n",
      "See the caveats in the documentation: https://pandas.pydata.org/pandas-docs/stable/user_guide/indexing.html#returning-a-view-versus-a-copy\n",
      "\n"
     ]
    }
   ],
   "source": [
    "# create working df for MoMA complete create dictionary keeping saved the 'others' nationalities\n",
    "MoMA_complete = pd.concat([moma_artworks_old,moma_artworks_new])\n",
    "nationalities = ', '.join(MoMA_complete.Nationality)\n",
    "nationalities = list(set(nationalities.split(', ')))\n",
    "df_moma_complete = pd.DataFrame(columns= [\"Nationality\", \"DateAcquired\", \"Count\", \"Females\", \"Males\", 'Missing', 'Non-Binary']) \n",
    "\n",
    "OthersMoma = dict()\n",
    "for nat in nationalities:\n",
    "    nat_sub =  MoMA_complete[MoMA_complete.Nationality == nat]   \n",
    "     \n",
    "    nat_sub.DateAcquired = nat_sub.DateAcquired.astype('str')\n",
    "    years = ', '.join(nat_sub.DateAcquired)\n",
    "    years = sorted(list([item[:4] for item in list(set(years.split(', ')))]))[0:-1]\n",
    "    for year in years:\n",
    "        year_sub = nat_sub[nat_sub.DateAcquired == year]\n",
    "        entries_year = len(year_sub)\n",
    "        f_count = len(year_sub[year_sub.Gender == 'F'])\n",
    "        m_count = len(year_sub[year_sub.Gender == 'M'])\n",
    "        missing_count = len(year_sub[year_sub.Gender == 'missing'])\n",
    "        nonbinary_count = len(year_sub[year_sub.Gender == 'NB'])\n",
    "\n",
    "        if entries_year < 100:\n",
    "            if year not in OthersMoma:\n",
    "                OthersMoma[year] = set([nat])\n",
    "            else: \n",
    "                new = OthersMoma[year]\n",
    "                new.add(nat)\n",
    "                OthersMoma[year] = set(new)\n",
    "            nationality = 'others'\n",
    "            \n",
    "        else: \n",
    "            nationality = nat\n",
    "        df_moma_complete.loc[len(df_moma_complete.index)] = [nationality, year, entries_year, f_count, m_count, missing_count, nonbinary_count]\n",
    "  \n",
    "\n",
    "df_moma_complete.DateAcquired = df_moma_complete.DateAcquired.astype('int')\n",
    "df_moma_complete['Decade'] = 'todo'\n",
    "df_moma_complete[\"Decade\"] = df_moma_complete[\"DateAcquired\"].apply(lambda date: getDecade(date))\n",
    "# replot dataset any nationality that has count < 5 becomes 'Others'\n",
    "MC_working = df_moma_complete[df_moma_complete.DateAcquired > 1929]\n",
    "MC_working.DateAcquired.astype('int')\n",
    "MC_working_final = MC_working.groupby(['Nationality','DateAcquired', 'Decade'],as_index=False).agg({'Count': 'sum','Females': 'sum','Males': 'sum','Missing': 'sum','Non-Binary': 'sum'})\n",
    "MC_working_final = MC_working_final.sort_values(by='Decade')"
   ]
  },
  {
   "cell_type": "code",
   "execution_count": 985,
   "metadata": {},
   "outputs": [
    {
     "name": "stderr",
     "output_type": "stream",
     "text": [
      "/var/folders/qj/xh48vw9d4z5_h6wzs6r2smdh0000gn/T/ipykernel_761/3514150225.py:9: SettingWithCopyWarning:\n",
      "\n",
      "\n",
      "A value is trying to be set on a copy of a slice from a DataFrame.\n",
      "Try using .loc[row_indexer,col_indexer] = value instead\n",
      "\n",
      "See the caveats in the documentation: https://pandas.pydata.org/pandas-docs/stable/user_guide/indexing.html#returning-a-view-versus-a-copy\n",
      "\n",
      "/var/folders/qj/xh48vw9d4z5_h6wzs6r2smdh0000gn/T/ipykernel_761/3514150225.py:9: SettingWithCopyWarning:\n",
      "\n",
      "\n",
      "A value is trying to be set on a copy of a slice from a DataFrame.\n",
      "Try using .loc[row_indexer,col_indexer] = value instead\n",
      "\n",
      "See the caveats in the documentation: https://pandas.pydata.org/pandas-docs/stable/user_guide/indexing.html#returning-a-view-versus-a-copy\n",
      "\n",
      "/var/folders/qj/xh48vw9d4z5_h6wzs6r2smdh0000gn/T/ipykernel_761/3514150225.py:9: SettingWithCopyWarning:\n",
      "\n",
      "\n",
      "A value is trying to be set on a copy of a slice from a DataFrame.\n",
      "Try using .loc[row_indexer,col_indexer] = value instead\n",
      "\n",
      "See the caveats in the documentation: https://pandas.pydata.org/pandas-docs/stable/user_guide/indexing.html#returning-a-view-versus-a-copy\n",
      "\n",
      "/var/folders/qj/xh48vw9d4z5_h6wzs6r2smdh0000gn/T/ipykernel_761/3514150225.py:9: SettingWithCopyWarning:\n",
      "\n",
      "\n",
      "A value is trying to be set on a copy of a slice from a DataFrame.\n",
      "Try using .loc[row_indexer,col_indexer] = value instead\n",
      "\n",
      "See the caveats in the documentation: https://pandas.pydata.org/pandas-docs/stable/user_guide/indexing.html#returning-a-view-versus-a-copy\n",
      "\n",
      "/var/folders/qj/xh48vw9d4z5_h6wzs6r2smdh0000gn/T/ipykernel_761/3514150225.py:9: SettingWithCopyWarning:\n",
      "\n",
      "\n",
      "A value is trying to be set on a copy of a slice from a DataFrame.\n",
      "Try using .loc[row_indexer,col_indexer] = value instead\n",
      "\n",
      "See the caveats in the documentation: https://pandas.pydata.org/pandas-docs/stable/user_guide/indexing.html#returning-a-view-versus-a-copy\n",
      "\n",
      "/var/folders/qj/xh48vw9d4z5_h6wzs6r2smdh0000gn/T/ipykernel_761/3514150225.py:9: SettingWithCopyWarning:\n",
      "\n",
      "\n",
      "A value is trying to be set on a copy of a slice from a DataFrame.\n",
      "Try using .loc[row_indexer,col_indexer] = value instead\n",
      "\n",
      "See the caveats in the documentation: https://pandas.pydata.org/pandas-docs/stable/user_guide/indexing.html#returning-a-view-versus-a-copy\n",
      "\n",
      "/var/folders/qj/xh48vw9d4z5_h6wzs6r2smdh0000gn/T/ipykernel_761/3514150225.py:9: SettingWithCopyWarning:\n",
      "\n",
      "\n",
      "A value is trying to be set on a copy of a slice from a DataFrame.\n",
      "Try using .loc[row_indexer,col_indexer] = value instead\n",
      "\n",
      "See the caveats in the documentation: https://pandas.pydata.org/pandas-docs/stable/user_guide/indexing.html#returning-a-view-versus-a-copy\n",
      "\n",
      "/var/folders/qj/xh48vw9d4z5_h6wzs6r2smdh0000gn/T/ipykernel_761/3514150225.py:9: SettingWithCopyWarning:\n",
      "\n",
      "\n",
      "A value is trying to be set on a copy of a slice from a DataFrame.\n",
      "Try using .loc[row_indexer,col_indexer] = value instead\n",
      "\n",
      "See the caveats in the documentation: https://pandas.pydata.org/pandas-docs/stable/user_guide/indexing.html#returning-a-view-versus-a-copy\n",
      "\n",
      "/var/folders/qj/xh48vw9d4z5_h6wzs6r2smdh0000gn/T/ipykernel_761/3514150225.py:9: SettingWithCopyWarning:\n",
      "\n",
      "\n",
      "A value is trying to be set on a copy of a slice from a DataFrame.\n",
      "Try using .loc[row_indexer,col_indexer] = value instead\n",
      "\n",
      "See the caveats in the documentation: https://pandas.pydata.org/pandas-docs/stable/user_guide/indexing.html#returning-a-view-versus-a-copy\n",
      "\n",
      "/var/folders/qj/xh48vw9d4z5_h6wzs6r2smdh0000gn/T/ipykernel_761/3514150225.py:9: SettingWithCopyWarning:\n",
      "\n",
      "\n",
      "A value is trying to be set on a copy of a slice from a DataFrame.\n",
      "Try using .loc[row_indexer,col_indexer] = value instead\n",
      "\n",
      "See the caveats in the documentation: https://pandas.pydata.org/pandas-docs/stable/user_guide/indexing.html#returning-a-view-versus-a-copy\n",
      "\n",
      "/var/folders/qj/xh48vw9d4z5_h6wzs6r2smdh0000gn/T/ipykernel_761/3514150225.py:9: SettingWithCopyWarning:\n",
      "\n",
      "\n",
      "A value is trying to be set on a copy of a slice from a DataFrame.\n",
      "Try using .loc[row_indexer,col_indexer] = value instead\n",
      "\n",
      "See the caveats in the documentation: https://pandas.pydata.org/pandas-docs/stable/user_guide/indexing.html#returning-a-view-versus-a-copy\n",
      "\n",
      "/var/folders/qj/xh48vw9d4z5_h6wzs6r2smdh0000gn/T/ipykernel_761/3514150225.py:9: SettingWithCopyWarning:\n",
      "\n",
      "\n",
      "A value is trying to be set on a copy of a slice from a DataFrame.\n",
      "Try using .loc[row_indexer,col_indexer] = value instead\n",
      "\n",
      "See the caveats in the documentation: https://pandas.pydata.org/pandas-docs/stable/user_guide/indexing.html#returning-a-view-versus-a-copy\n",
      "\n",
      "/var/folders/qj/xh48vw9d4z5_h6wzs6r2smdh0000gn/T/ipykernel_761/3514150225.py:9: SettingWithCopyWarning:\n",
      "\n",
      "\n",
      "A value is trying to be set on a copy of a slice from a DataFrame.\n",
      "Try using .loc[row_indexer,col_indexer] = value instead\n",
      "\n",
      "See the caveats in the documentation: https://pandas.pydata.org/pandas-docs/stable/user_guide/indexing.html#returning-a-view-versus-a-copy\n",
      "\n",
      "/var/folders/qj/xh48vw9d4z5_h6wzs6r2smdh0000gn/T/ipykernel_761/3514150225.py:9: SettingWithCopyWarning:\n",
      "\n",
      "\n",
      "A value is trying to be set on a copy of a slice from a DataFrame.\n",
      "Try using .loc[row_indexer,col_indexer] = value instead\n",
      "\n",
      "See the caveats in the documentation: https://pandas.pydata.org/pandas-docs/stable/user_guide/indexing.html#returning-a-view-versus-a-copy\n",
      "\n",
      "/var/folders/qj/xh48vw9d4z5_h6wzs6r2smdh0000gn/T/ipykernel_761/3514150225.py:9: SettingWithCopyWarning:\n",
      "\n",
      "\n",
      "A value is trying to be set on a copy of a slice from a DataFrame.\n",
      "Try using .loc[row_indexer,col_indexer] = value instead\n",
      "\n",
      "See the caveats in the documentation: https://pandas.pydata.org/pandas-docs/stable/user_guide/indexing.html#returning-a-view-versus-a-copy\n",
      "\n",
      "/var/folders/qj/xh48vw9d4z5_h6wzs6r2smdh0000gn/T/ipykernel_761/3514150225.py:9: SettingWithCopyWarning:\n",
      "\n",
      "\n",
      "A value is trying to be set on a copy of a slice from a DataFrame.\n",
      "Try using .loc[row_indexer,col_indexer] = value instead\n",
      "\n",
      "See the caveats in the documentation: https://pandas.pydata.org/pandas-docs/stable/user_guide/indexing.html#returning-a-view-versus-a-copy\n",
      "\n",
      "/var/folders/qj/xh48vw9d4z5_h6wzs6r2smdh0000gn/T/ipykernel_761/3514150225.py:9: SettingWithCopyWarning:\n",
      "\n",
      "\n",
      "A value is trying to be set on a copy of a slice from a DataFrame.\n",
      "Try using .loc[row_indexer,col_indexer] = value instead\n",
      "\n",
      "See the caveats in the documentation: https://pandas.pydata.org/pandas-docs/stable/user_guide/indexing.html#returning-a-view-versus-a-copy\n",
      "\n",
      "/var/folders/qj/xh48vw9d4z5_h6wzs6r2smdh0000gn/T/ipykernel_761/3514150225.py:9: SettingWithCopyWarning:\n",
      "\n",
      "\n",
      "A value is trying to be set on a copy of a slice from a DataFrame.\n",
      "Try using .loc[row_indexer,col_indexer] = value instead\n",
      "\n",
      "See the caveats in the documentation: https://pandas.pydata.org/pandas-docs/stable/user_guide/indexing.html#returning-a-view-versus-a-copy\n",
      "\n",
      "/var/folders/qj/xh48vw9d4z5_h6wzs6r2smdh0000gn/T/ipykernel_761/3514150225.py:9: SettingWithCopyWarning:\n",
      "\n",
      "\n",
      "A value is trying to be set on a copy of a slice from a DataFrame.\n",
      "Try using .loc[row_indexer,col_indexer] = value instead\n",
      "\n",
      "See the caveats in the documentation: https://pandas.pydata.org/pandas-docs/stable/user_guide/indexing.html#returning-a-view-versus-a-copy\n",
      "\n",
      "/var/folders/qj/xh48vw9d4z5_h6wzs6r2smdh0000gn/T/ipykernel_761/3514150225.py:9: SettingWithCopyWarning:\n",
      "\n",
      "\n",
      "A value is trying to be set on a copy of a slice from a DataFrame.\n",
      "Try using .loc[row_indexer,col_indexer] = value instead\n",
      "\n",
      "See the caveats in the documentation: https://pandas.pydata.org/pandas-docs/stable/user_guide/indexing.html#returning-a-view-versus-a-copy\n",
      "\n",
      "/var/folders/qj/xh48vw9d4z5_h6wzs6r2smdh0000gn/T/ipykernel_761/3514150225.py:9: SettingWithCopyWarning:\n",
      "\n",
      "\n",
      "A value is trying to be set on a copy of a slice from a DataFrame.\n",
      "Try using .loc[row_indexer,col_indexer] = value instead\n",
      "\n",
      "See the caveats in the documentation: https://pandas.pydata.org/pandas-docs/stable/user_guide/indexing.html#returning-a-view-versus-a-copy\n",
      "\n",
      "/var/folders/qj/xh48vw9d4z5_h6wzs6r2smdh0000gn/T/ipykernel_761/3514150225.py:9: SettingWithCopyWarning:\n",
      "\n",
      "\n",
      "A value is trying to be set on a copy of a slice from a DataFrame.\n",
      "Try using .loc[row_indexer,col_indexer] = value instead\n",
      "\n",
      "See the caveats in the documentation: https://pandas.pydata.org/pandas-docs/stable/user_guide/indexing.html#returning-a-view-versus-a-copy\n",
      "\n",
      "/var/folders/qj/xh48vw9d4z5_h6wzs6r2smdh0000gn/T/ipykernel_761/3514150225.py:9: SettingWithCopyWarning:\n",
      "\n",
      "\n",
      "A value is trying to be set on a copy of a slice from a DataFrame.\n",
      "Try using .loc[row_indexer,col_indexer] = value instead\n",
      "\n",
      "See the caveats in the documentation: https://pandas.pydata.org/pandas-docs/stable/user_guide/indexing.html#returning-a-view-versus-a-copy\n",
      "\n",
      "/var/folders/qj/xh48vw9d4z5_h6wzs6r2smdh0000gn/T/ipykernel_761/3514150225.py:9: SettingWithCopyWarning:\n",
      "\n",
      "\n",
      "A value is trying to be set on a copy of a slice from a DataFrame.\n",
      "Try using .loc[row_indexer,col_indexer] = value instead\n",
      "\n",
      "See the caveats in the documentation: https://pandas.pydata.org/pandas-docs/stable/user_guide/indexing.html#returning-a-view-versus-a-copy\n",
      "\n",
      "/var/folders/qj/xh48vw9d4z5_h6wzs6r2smdh0000gn/T/ipykernel_761/3514150225.py:9: SettingWithCopyWarning:\n",
      "\n",
      "\n",
      "A value is trying to be set on a copy of a slice from a DataFrame.\n",
      "Try using .loc[row_indexer,col_indexer] = value instead\n",
      "\n",
      "See the caveats in the documentation: https://pandas.pydata.org/pandas-docs/stable/user_guide/indexing.html#returning-a-view-versus-a-copy\n",
      "\n",
      "/var/folders/qj/xh48vw9d4z5_h6wzs6r2smdh0000gn/T/ipykernel_761/3514150225.py:9: SettingWithCopyWarning:\n",
      "\n",
      "\n",
      "A value is trying to be set on a copy of a slice from a DataFrame.\n",
      "Try using .loc[row_indexer,col_indexer] = value instead\n",
      "\n",
      "See the caveats in the documentation: https://pandas.pydata.org/pandas-docs/stable/user_guide/indexing.html#returning-a-view-versus-a-copy\n",
      "\n",
      "/var/folders/qj/xh48vw9d4z5_h6wzs6r2smdh0000gn/T/ipykernel_761/3514150225.py:9: SettingWithCopyWarning:\n",
      "\n",
      "\n",
      "A value is trying to be set on a copy of a slice from a DataFrame.\n",
      "Try using .loc[row_indexer,col_indexer] = value instead\n",
      "\n",
      "See the caveats in the documentation: https://pandas.pydata.org/pandas-docs/stable/user_guide/indexing.html#returning-a-view-versus-a-copy\n",
      "\n",
      "/var/folders/qj/xh48vw9d4z5_h6wzs6r2smdh0000gn/T/ipykernel_761/3514150225.py:9: SettingWithCopyWarning:\n",
      "\n",
      "\n",
      "A value is trying to be set on a copy of a slice from a DataFrame.\n",
      "Try using .loc[row_indexer,col_indexer] = value instead\n",
      "\n",
      "See the caveats in the documentation: https://pandas.pydata.org/pandas-docs/stable/user_guide/indexing.html#returning-a-view-versus-a-copy\n",
      "\n",
      "/var/folders/qj/xh48vw9d4z5_h6wzs6r2smdh0000gn/T/ipykernel_761/3514150225.py:9: SettingWithCopyWarning:\n",
      "\n",
      "\n",
      "A value is trying to be set on a copy of a slice from a DataFrame.\n",
      "Try using .loc[row_indexer,col_indexer] = value instead\n",
      "\n",
      "See the caveats in the documentation: https://pandas.pydata.org/pandas-docs/stable/user_guide/indexing.html#returning-a-view-versus-a-copy\n",
      "\n",
      "/var/folders/qj/xh48vw9d4z5_h6wzs6r2smdh0000gn/T/ipykernel_761/3514150225.py:9: SettingWithCopyWarning:\n",
      "\n",
      "\n",
      "A value is trying to be set on a copy of a slice from a DataFrame.\n",
      "Try using .loc[row_indexer,col_indexer] = value instead\n",
      "\n",
      "See the caveats in the documentation: https://pandas.pydata.org/pandas-docs/stable/user_guide/indexing.html#returning-a-view-versus-a-copy\n",
      "\n",
      "/var/folders/qj/xh48vw9d4z5_h6wzs6r2smdh0000gn/T/ipykernel_761/3514150225.py:9: SettingWithCopyWarning:\n",
      "\n",
      "\n",
      "A value is trying to be set on a copy of a slice from a DataFrame.\n",
      "Try using .loc[row_indexer,col_indexer] = value instead\n",
      "\n",
      "See the caveats in the documentation: https://pandas.pydata.org/pandas-docs/stable/user_guide/indexing.html#returning-a-view-versus-a-copy\n",
      "\n",
      "/var/folders/qj/xh48vw9d4z5_h6wzs6r2smdh0000gn/T/ipykernel_761/3514150225.py:9: SettingWithCopyWarning:\n",
      "\n",
      "\n",
      "A value is trying to be set on a copy of a slice from a DataFrame.\n",
      "Try using .loc[row_indexer,col_indexer] = value instead\n",
      "\n",
      "See the caveats in the documentation: https://pandas.pydata.org/pandas-docs/stable/user_guide/indexing.html#returning-a-view-versus-a-copy\n",
      "\n",
      "/var/folders/qj/xh48vw9d4z5_h6wzs6r2smdh0000gn/T/ipykernel_761/3514150225.py:9: SettingWithCopyWarning:\n",
      "\n",
      "\n",
      "A value is trying to be set on a copy of a slice from a DataFrame.\n",
      "Try using .loc[row_indexer,col_indexer] = value instead\n",
      "\n",
      "See the caveats in the documentation: https://pandas.pydata.org/pandas-docs/stable/user_guide/indexing.html#returning-a-view-versus-a-copy\n",
      "\n",
      "/var/folders/qj/xh48vw9d4z5_h6wzs6r2smdh0000gn/T/ipykernel_761/3514150225.py:9: SettingWithCopyWarning:\n",
      "\n",
      "\n",
      "A value is trying to be set on a copy of a slice from a DataFrame.\n",
      "Try using .loc[row_indexer,col_indexer] = value instead\n",
      "\n",
      "See the caveats in the documentation: https://pandas.pydata.org/pandas-docs/stable/user_guide/indexing.html#returning-a-view-versus-a-copy\n",
      "\n",
      "/var/folders/qj/xh48vw9d4z5_h6wzs6r2smdh0000gn/T/ipykernel_761/3514150225.py:9: SettingWithCopyWarning:\n",
      "\n",
      "\n",
      "A value is trying to be set on a copy of a slice from a DataFrame.\n",
      "Try using .loc[row_indexer,col_indexer] = value instead\n",
      "\n",
      "See the caveats in the documentation: https://pandas.pydata.org/pandas-docs/stable/user_guide/indexing.html#returning-a-view-versus-a-copy\n",
      "\n",
      "/var/folders/qj/xh48vw9d4z5_h6wzs6r2smdh0000gn/T/ipykernel_761/3514150225.py:9: SettingWithCopyWarning:\n",
      "\n",
      "\n",
      "A value is trying to be set on a copy of a slice from a DataFrame.\n",
      "Try using .loc[row_indexer,col_indexer] = value instead\n",
      "\n",
      "See the caveats in the documentation: https://pandas.pydata.org/pandas-docs/stable/user_guide/indexing.html#returning-a-view-versus-a-copy\n",
      "\n",
      "/var/folders/qj/xh48vw9d4z5_h6wzs6r2smdh0000gn/T/ipykernel_761/3514150225.py:9: SettingWithCopyWarning:\n",
      "\n",
      "\n",
      "A value is trying to be set on a copy of a slice from a DataFrame.\n",
      "Try using .loc[row_indexer,col_indexer] = value instead\n",
      "\n",
      "See the caveats in the documentation: https://pandas.pydata.org/pandas-docs/stable/user_guide/indexing.html#returning-a-view-versus-a-copy\n",
      "\n",
      "/var/folders/qj/xh48vw9d4z5_h6wzs6r2smdh0000gn/T/ipykernel_761/3514150225.py:9: SettingWithCopyWarning:\n",
      "\n",
      "\n",
      "A value is trying to be set on a copy of a slice from a DataFrame.\n",
      "Try using .loc[row_indexer,col_indexer] = value instead\n",
      "\n",
      "See the caveats in the documentation: https://pandas.pydata.org/pandas-docs/stable/user_guide/indexing.html#returning-a-view-versus-a-copy\n",
      "\n",
      "/var/folders/qj/xh48vw9d4z5_h6wzs6r2smdh0000gn/T/ipykernel_761/3514150225.py:9: SettingWithCopyWarning:\n",
      "\n",
      "\n",
      "A value is trying to be set on a copy of a slice from a DataFrame.\n",
      "Try using .loc[row_indexer,col_indexer] = value instead\n",
      "\n",
      "See the caveats in the documentation: https://pandas.pydata.org/pandas-docs/stable/user_guide/indexing.html#returning-a-view-versus-a-copy\n",
      "\n",
      "/var/folders/qj/xh48vw9d4z5_h6wzs6r2smdh0000gn/T/ipykernel_761/3514150225.py:9: SettingWithCopyWarning:\n",
      "\n",
      "\n",
      "A value is trying to be set on a copy of a slice from a DataFrame.\n",
      "Try using .loc[row_indexer,col_indexer] = value instead\n",
      "\n",
      "See the caveats in the documentation: https://pandas.pydata.org/pandas-docs/stable/user_guide/indexing.html#returning-a-view-versus-a-copy\n",
      "\n",
      "/var/folders/qj/xh48vw9d4z5_h6wzs6r2smdh0000gn/T/ipykernel_761/3514150225.py:9: SettingWithCopyWarning:\n",
      "\n",
      "\n",
      "A value is trying to be set on a copy of a slice from a DataFrame.\n",
      "Try using .loc[row_indexer,col_indexer] = value instead\n",
      "\n",
      "See the caveats in the documentation: https://pandas.pydata.org/pandas-docs/stable/user_guide/indexing.html#returning-a-view-versus-a-copy\n",
      "\n",
      "/var/folders/qj/xh48vw9d4z5_h6wzs6r2smdh0000gn/T/ipykernel_761/3514150225.py:9: SettingWithCopyWarning:\n",
      "\n",
      "\n",
      "A value is trying to be set on a copy of a slice from a DataFrame.\n",
      "Try using .loc[row_indexer,col_indexer] = value instead\n",
      "\n",
      "See the caveats in the documentation: https://pandas.pydata.org/pandas-docs/stable/user_guide/indexing.html#returning-a-view-versus-a-copy\n",
      "\n",
      "/var/folders/qj/xh48vw9d4z5_h6wzs6r2smdh0000gn/T/ipykernel_761/3514150225.py:9: SettingWithCopyWarning:\n",
      "\n",
      "\n",
      "A value is trying to be set on a copy of a slice from a DataFrame.\n",
      "Try using .loc[row_indexer,col_indexer] = value instead\n",
      "\n",
      "See the caveats in the documentation: https://pandas.pydata.org/pandas-docs/stable/user_guide/indexing.html#returning-a-view-versus-a-copy\n",
      "\n",
      "/var/folders/qj/xh48vw9d4z5_h6wzs6r2smdh0000gn/T/ipykernel_761/3514150225.py:9: SettingWithCopyWarning:\n",
      "\n",
      "\n",
      "A value is trying to be set on a copy of a slice from a DataFrame.\n",
      "Try using .loc[row_indexer,col_indexer] = value instead\n",
      "\n",
      "See the caveats in the documentation: https://pandas.pydata.org/pandas-docs/stable/user_guide/indexing.html#returning-a-view-versus-a-copy\n",
      "\n",
      "/var/folders/qj/xh48vw9d4z5_h6wzs6r2smdh0000gn/T/ipykernel_761/3514150225.py:9: SettingWithCopyWarning:\n",
      "\n",
      "\n",
      "A value is trying to be set on a copy of a slice from a DataFrame.\n",
      "Try using .loc[row_indexer,col_indexer] = value instead\n",
      "\n",
      "See the caveats in the documentation: https://pandas.pydata.org/pandas-docs/stable/user_guide/indexing.html#returning-a-view-versus-a-copy\n",
      "\n",
      "/var/folders/qj/xh48vw9d4z5_h6wzs6r2smdh0000gn/T/ipykernel_761/3514150225.py:9: SettingWithCopyWarning:\n",
      "\n",
      "\n",
      "A value is trying to be set on a copy of a slice from a DataFrame.\n",
      "Try using .loc[row_indexer,col_indexer] = value instead\n",
      "\n",
      "See the caveats in the documentation: https://pandas.pydata.org/pandas-docs/stable/user_guide/indexing.html#returning-a-view-versus-a-copy\n",
      "\n",
      "/var/folders/qj/xh48vw9d4z5_h6wzs6r2smdh0000gn/T/ipykernel_761/3514150225.py:9: SettingWithCopyWarning:\n",
      "\n",
      "\n",
      "A value is trying to be set on a copy of a slice from a DataFrame.\n",
      "Try using .loc[row_indexer,col_indexer] = value instead\n",
      "\n",
      "See the caveats in the documentation: https://pandas.pydata.org/pandas-docs/stable/user_guide/indexing.html#returning-a-view-versus-a-copy\n",
      "\n",
      "/var/folders/qj/xh48vw9d4z5_h6wzs6r2smdh0000gn/T/ipykernel_761/3514150225.py:9: SettingWithCopyWarning:\n",
      "\n",
      "\n",
      "A value is trying to be set on a copy of a slice from a DataFrame.\n",
      "Try using .loc[row_indexer,col_indexer] = value instead\n",
      "\n",
      "See the caveats in the documentation: https://pandas.pydata.org/pandas-docs/stable/user_guide/indexing.html#returning-a-view-versus-a-copy\n",
      "\n",
      "/var/folders/qj/xh48vw9d4z5_h6wzs6r2smdh0000gn/T/ipykernel_761/3514150225.py:9: SettingWithCopyWarning:\n",
      "\n",
      "\n",
      "A value is trying to be set on a copy of a slice from a DataFrame.\n",
      "Try using .loc[row_indexer,col_indexer] = value instead\n",
      "\n",
      "See the caveats in the documentation: https://pandas.pydata.org/pandas-docs/stable/user_guide/indexing.html#returning-a-view-versus-a-copy\n",
      "\n",
      "/var/folders/qj/xh48vw9d4z5_h6wzs6r2smdh0000gn/T/ipykernel_761/3514150225.py:9: SettingWithCopyWarning:\n",
      "\n",
      "\n",
      "A value is trying to be set on a copy of a slice from a DataFrame.\n",
      "Try using .loc[row_indexer,col_indexer] = value instead\n",
      "\n",
      "See the caveats in the documentation: https://pandas.pydata.org/pandas-docs/stable/user_guide/indexing.html#returning-a-view-versus-a-copy\n",
      "\n",
      "/var/folders/qj/xh48vw9d4z5_h6wzs6r2smdh0000gn/T/ipykernel_761/3514150225.py:9: SettingWithCopyWarning:\n",
      "\n",
      "\n",
      "A value is trying to be set on a copy of a slice from a DataFrame.\n",
      "Try using .loc[row_indexer,col_indexer] = value instead\n",
      "\n",
      "See the caveats in the documentation: https://pandas.pydata.org/pandas-docs/stable/user_guide/indexing.html#returning-a-view-versus-a-copy\n",
      "\n",
      "/var/folders/qj/xh48vw9d4z5_h6wzs6r2smdh0000gn/T/ipykernel_761/3514150225.py:9: SettingWithCopyWarning:\n",
      "\n",
      "\n",
      "A value is trying to be set on a copy of a slice from a DataFrame.\n",
      "Try using .loc[row_indexer,col_indexer] = value instead\n",
      "\n",
      "See the caveats in the documentation: https://pandas.pydata.org/pandas-docs/stable/user_guide/indexing.html#returning-a-view-versus-a-copy\n",
      "\n",
      "/var/folders/qj/xh48vw9d4z5_h6wzs6r2smdh0000gn/T/ipykernel_761/3514150225.py:9: SettingWithCopyWarning:\n",
      "\n",
      "\n",
      "A value is trying to be set on a copy of a slice from a DataFrame.\n",
      "Try using .loc[row_indexer,col_indexer] = value instead\n",
      "\n",
      "See the caveats in the documentation: https://pandas.pydata.org/pandas-docs/stable/user_guide/indexing.html#returning-a-view-versus-a-copy\n",
      "\n",
      "/var/folders/qj/xh48vw9d4z5_h6wzs6r2smdh0000gn/T/ipykernel_761/3514150225.py:9: SettingWithCopyWarning:\n",
      "\n",
      "\n",
      "A value is trying to be set on a copy of a slice from a DataFrame.\n",
      "Try using .loc[row_indexer,col_indexer] = value instead\n",
      "\n",
      "See the caveats in the documentation: https://pandas.pydata.org/pandas-docs/stable/user_guide/indexing.html#returning-a-view-versus-a-copy\n",
      "\n",
      "/var/folders/qj/xh48vw9d4z5_h6wzs6r2smdh0000gn/T/ipykernel_761/3514150225.py:9: SettingWithCopyWarning:\n",
      "\n",
      "\n",
      "A value is trying to be set on a copy of a slice from a DataFrame.\n",
      "Try using .loc[row_indexer,col_indexer] = value instead\n",
      "\n",
      "See the caveats in the documentation: https://pandas.pydata.org/pandas-docs/stable/user_guide/indexing.html#returning-a-view-versus-a-copy\n",
      "\n",
      "/var/folders/qj/xh48vw9d4z5_h6wzs6r2smdh0000gn/T/ipykernel_761/3514150225.py:9: SettingWithCopyWarning:\n",
      "\n",
      "\n",
      "A value is trying to be set on a copy of a slice from a DataFrame.\n",
      "Try using .loc[row_indexer,col_indexer] = value instead\n",
      "\n",
      "See the caveats in the documentation: https://pandas.pydata.org/pandas-docs/stable/user_guide/indexing.html#returning-a-view-versus-a-copy\n",
      "\n",
      "/var/folders/qj/xh48vw9d4z5_h6wzs6r2smdh0000gn/T/ipykernel_761/3514150225.py:9: SettingWithCopyWarning:\n",
      "\n",
      "\n",
      "A value is trying to be set on a copy of a slice from a DataFrame.\n",
      "Try using .loc[row_indexer,col_indexer] = value instead\n",
      "\n",
      "See the caveats in the documentation: https://pandas.pydata.org/pandas-docs/stable/user_guide/indexing.html#returning-a-view-versus-a-copy\n",
      "\n",
      "/var/folders/qj/xh48vw9d4z5_h6wzs6r2smdh0000gn/T/ipykernel_761/3514150225.py:9: SettingWithCopyWarning:\n",
      "\n",
      "\n",
      "A value is trying to be set on a copy of a slice from a DataFrame.\n",
      "Try using .loc[row_indexer,col_indexer] = value instead\n",
      "\n",
      "See the caveats in the documentation: https://pandas.pydata.org/pandas-docs/stable/user_guide/indexing.html#returning-a-view-versus-a-copy\n",
      "\n",
      "/var/folders/qj/xh48vw9d4z5_h6wzs6r2smdh0000gn/T/ipykernel_761/3514150225.py:9: SettingWithCopyWarning:\n",
      "\n",
      "\n",
      "A value is trying to be set on a copy of a slice from a DataFrame.\n",
      "Try using .loc[row_indexer,col_indexer] = value instead\n",
      "\n",
      "See the caveats in the documentation: https://pandas.pydata.org/pandas-docs/stable/user_guide/indexing.html#returning-a-view-versus-a-copy\n",
      "\n"
     ]
    },
    {
     "data": {
      "text/plain": [
       "{'2001': {'American ',\n",
       "  'American/British',\n",
       "  'American/South African',\n",
       "  'Argentine',\n",
       "  'Australian',\n",
       "  'Austrian',\n",
       "  'Belgian',\n",
       "  'Brasilian',\n",
       "  'British',\n",
       "  'Canadian',\n",
       "  'Czech',\n",
       "  'Dutch',\n",
       "  'Finnish ',\n",
       "  'French',\n",
       "  'German',\n",
       "  'Iranian',\n",
       "  'Israeli',\n",
       "  'Italian',\n",
       "  'Italian ',\n",
       "  'Japanese',\n",
       "  'Mexican',\n",
       "  'Norwegian',\n",
       "  'Polish',\n",
       "  'Russian',\n",
       "  'Serbian',\n",
       "  'Slovenian',\n",
       "  'South Korean',\n",
       "  'Spanish',\n",
       "  'Swedish',\n",
       "  'Taiwanese',\n",
       "  'Venezuelan'},\n",
       " '2002': {'American ',\n",
       "  'American/South African',\n",
       "  'Argentine',\n",
       "  'Argentine ',\n",
       "  'Australian',\n",
       "  'Austrian',\n",
       "  'Belgian',\n",
       "  'Brasilian',\n",
       "  'British',\n",
       "  'British/Canadian',\n",
       "  'Canadian',\n",
       "  'Chilean?Chilean',\n",
       "  'Chinese',\n",
       "  'German',\n",
       "  'Greek',\n",
       "  'Hungarian',\n",
       "  'Icelandic/American',\n",
       "  'Indian',\n",
       "  'Irish',\n",
       "  'Israeli',\n",
       "  'Italian',\n",
       "  'Japanese',\n",
       "  'Mexican',\n",
       "  'Norwegian',\n",
       "  'Polish',\n",
       "  'Russian',\n",
       "  'South African',\n",
       "  'South Korean',\n",
       "  'Spanish',\n",
       "  'Swedish',\n",
       "  'Swiss',\n",
       "  'Taiwanese'},\n",
       " '2003': {'American ',\n",
       "  'American/British',\n",
       "  'American/Canadian',\n",
       "  'Argentine',\n",
       "  'Austrian',\n",
       "  'Belgian',\n",
       "  'Brasilian',\n",
       "  'Brasilian/American',\n",
       "  'British',\n",
       "  'British/Canadian',\n",
       "  'Canadian',\n",
       "  'Chilean?Chilean',\n",
       "  'Croatian',\n",
       "  'Czech',\n",
       "  'Dutch',\n",
       "  'French',\n",
       "  'German',\n",
       "  'Greek',\n",
       "  'Greek/Australian',\n",
       "  'Hungarian',\n",
       "  'Icelandic/American',\n",
       "  'Israeli',\n",
       "  'Italian',\n",
       "  'Japanese',\n",
       "  'Mexican',\n",
       "  'Polish/American',\n",
       "  'Portuguese',\n",
       "  'Spanish',\n",
       "  'Swedish',\n",
       "  'Swiss',\n",
       "  'Turkish'},\n",
       " '2005': {'American ',\n",
       "  'American/South African',\n",
       "  'Argentine',\n",
       "  'Australian',\n",
       "  'Austrian',\n",
       "  'Belgian',\n",
       "  'Brasilian',\n",
       "  'British',\n",
       "  'Canadian',\n",
       "  'Chilean',\n",
       "  'Colombian',\n",
       "  'Croatian',\n",
       "  'Dutch',\n",
       "  'French',\n",
       "  'German',\n",
       "  'Greek',\n",
       "  'Icelandic/American',\n",
       "  'Israeli',\n",
       "  'Italian',\n",
       "  'Japanese',\n",
       "  'Mexican',\n",
       "  'New Zealander',\n",
       "  'Polish',\n",
       "  'Portuguese',\n",
       "  'Slovenian',\n",
       "  'South Korean',\n",
       "  'Swiss'},\n",
       " '2006': {'American ',\n",
       "  'Argentine',\n",
       "  'Australian',\n",
       "  'Austrian',\n",
       "  'British',\n",
       "  'Canadian',\n",
       "  'Czech',\n",
       "  'Dutch',\n",
       "  'Finnish',\n",
       "  'French',\n",
       "  'German',\n",
       "  'Icelandic/American',\n",
       "  'Israeli',\n",
       "  'Italian',\n",
       "  'Japanese',\n",
       "  'Mexican/American',\n",
       "  'Polish',\n",
       "  'Portuguese',\n",
       "  'Serbian',\n",
       "  'South Korean',\n",
       "  'Spanish',\n",
       "  'Swiss',\n",
       "  'Taiwanese',\n",
       "  'Turkish'},\n",
       " '2007': {'American ',\n",
       "  'Argentine',\n",
       "  'Australian',\n",
       "  'Austrian',\n",
       "  'Brasilian',\n",
       "  'British',\n",
       "  'British/Irish',\n",
       "  'Canadian',\n",
       "  'Colombian',\n",
       "  'Dutch',\n",
       "  'French',\n",
       "  'Indian',\n",
       "  'Israeli',\n",
       "  'Italian',\n",
       "  'Mexican',\n",
       "  'Polish',\n",
       "  'Portuguese',\n",
       "  'Russian',\n",
       "  'Slovenian',\n",
       "  'Spanish',\n",
       "  'Swedish',\n",
       "  'Swiss',\n",
       "  'Taiwanese',\n",
       "  'Turkish'},\n",
       " '2009': {'American ',\n",
       "  'American/South African',\n",
       "  'Austrian',\n",
       "  'British',\n",
       "  'Canadian',\n",
       "  'French',\n",
       "  'German',\n",
       "  'Italian',\n",
       "  'Polish',\n",
       "  'Swedish'},\n",
       " '2011': {'Afghan/American',\n",
       "  'Australian',\n",
       "  'British/Irish',\n",
       "  'Canadian',\n",
       "  'Dutch',\n",
       "  'French',\n",
       "  'Italian',\n",
       "  'Polish',\n",
       "  'Spanish',\n",
       "  'missing'},\n",
       " '2012': {'Australian',\n",
       "  'British',\n",
       "  'Dutch',\n",
       "  'German',\n",
       "  'Italian',\n",
       "  'Spanish',\n",
       "  'missing'},\n",
       " '2004': {'American ',\n",
       "  'American/South African',\n",
       "  'Argentine',\n",
       "  'Australian',\n",
       "  'Austrian',\n",
       "  'Belgian',\n",
       "  'Brasilian',\n",
       "  'British',\n",
       "  'Canadian',\n",
       "  'Chilean',\n",
       "  'Dutch',\n",
       "  'German',\n",
       "  'Icelandic/American',\n",
       "  'Israeli',\n",
       "  'Japanese',\n",
       "  'Mexican',\n",
       "  'New Zealander',\n",
       "  'Polish',\n",
       "  'Polish/American',\n",
       "  'Portuguese',\n",
       "  'Russian',\n",
       "  'South African',\n",
       "  'South Korean',\n",
       "  'Swedish',\n",
       "  'Taiwanese',\n",
       "  'Turkish'},\n",
       " '2008': {'Argentine',\n",
       "  'Australian',\n",
       "  'Austrian',\n",
       "  'Belgian',\n",
       "  'British',\n",
       "  'British/Irish',\n",
       "  'Canadian',\n",
       "  'Dutch',\n",
       "  'Dutch/Brazilian',\n",
       "  'French',\n",
       "  'German',\n",
       "  'Greek',\n",
       "  'Israeli',\n",
       "  'Polish',\n",
       "  'Swedish'},\n",
       " '2010': {'American', 'Australian', 'Austrian', 'Dutch', 'German', 'missing'},\n",
       " '0': {'American',\n",
       "  'Austrian',\n",
       "  'Brasilian',\n",
       "  'Brasilian/American',\n",
       "  'British',\n",
       "  'Canadian',\n",
       "  'German',\n",
       "  'Swedish',\n",
       "  'Taiwanese',\n",
       "  'missing'},\n",
       " '2000': {'American', 'British', 'Canadian', 'Japanese', 'missing'},\n",
       " '2013': {'American', 'British', 'missing'},\n",
       " '2015': {'American'}}"
      ]
     },
     "execution_count": 985,
     "metadata": {},
     "output_type": "execute_result"
    }
   ],
   "source": [
    "# create working df for RHIZOME complete create dictionary keeping saved the 'others' nationalities\n",
    "nationalities = ', '.join(rhz_artworks.Nationality)\n",
    "nationalities = list(set(nationalities.split(', ')))\n",
    "df_rhz_nats = pd.DataFrame(columns= [\"Nationality\", \"DateAcquired\", \"Count\", \"Females\", \"Males\"]) \n",
    "\n",
    "OthersRhz = dict()\n",
    "for nat in nationalities:\n",
    "    nat_sub =  rhz_artworks[rhz_artworks.Nationality == nat]    \n",
    "    nat_sub.dateAcquired = nat_sub.dateAcquired.astype('str')\n",
    "    years = ', '.join(nat_sub.dateAcquired)\n",
    "    years = sorted(list([item[:4] for item in list(set(years.split(', ')))]))[0:-1]\n",
    "    for year in years:\n",
    "        year_sub = nat_sub[nat_sub.dateAcquired == year]\n",
    "        entries_year = len(year_sub)\n",
    "        f_count = len(year_sub[year_sub.Gender == 'F'])\n",
    "        m_count = len(year_sub[year_sub.Gender == 'M'])\n",
    "        missing_count = len(year_sub[year_sub.Gender == 'missing'])\n",
    "        nonbinary_count = len(year_sub[year_sub.Gender == 'NB'])\n",
    "        if entries_year < 20: \n",
    "            if year not in OthersRhz:\n",
    "                OthersRhz[year] = set([nat])\n",
    "            else: \n",
    "                new = OthersRhz[year]\n",
    "                new.add(nat)\n",
    "                OthersRhz[year] = set(new)\n",
    "            nationality = 'others'\n",
    "        else: \n",
    "            nationality = nat\n",
    "        df_rhz_nats.loc[len(df_rhz_nats.index)] = [nat, year, entries_year, f_count, m_count]\n",
    "\n",
    "df_rhz_nats.DateAcquired = df_rhz_nats.DateAcquired.astype('int')\n",
    "df_rhz_nats['Decade'] = 'todo'\n",
    "df_rhz_nats[\"Decade\"] = df_rhz_nats[\"DateAcquired\"].apply(lambda date: getDecade(date))\n",
    "RH_working = df_rhz_nats[df_rhz_nats.DateAcquired > 0]\n",
    "RH_working_final = RH_working.groupby(['Nationality','DateAcquired', 'Decade'],as_index=False).agg({'Count': 'sum','Females': 'sum' ,'Males': 'sum','Missing': 'sum','Non-Binary': 'sum'})\n",
    "RH_working_final = RH_working_final.sort_values(by='Decade')"
   ]
  },
  {
   "cell_type": "code",
   "execution_count": 986,
   "metadata": {},
   "outputs": [],
   "source": [
    "# create MOMA df with country names instead of nationality\n",
    "natios_MOMA = set(df_moma_complete.Nationality)\n",
    "\n",
    "missing = pd.DataFrame({'Aalborgenser': ['Korean', 'Native American', 'Canadian Inuit'], 'Aalborg': ['Korea', 'United States', 'Canada']})\n",
    "missing\n",
    "df_natParse = pd.read_csv('https://raw.githubusercontent.com/knowitall/chunkedextractor/master/src/main/resources/edu/knowitall/chunkedextractor/demonyms.csv')\n",
    "correct_country = pd.concat([missing, df_natParse])\n",
    "Country_df=df_moma_complete.copy()\n",
    "\n",
    "Country_df = Country_df[Country_df.DateAcquired <2000]\n",
    "for item in natios_MOMA:\n",
    "    my = correct_country[correct_country['Aalborgenser'] == item]\n",
    "    \n",
    "    country = my[:1]['Aalborg'].values\n",
    "    if len(country)>0:\n",
    "        country_str = my[:1]['Aalborg'].values[0]\n",
    "\n",
    "        Country_df.loc[Country_df[\"Nationality\"] == item, \"Nationality\"] = country_str\n",
    "\n",
    "MC_countries_count = pd.DataFrame(columns= ['Nation', 'Count'])\n",
    "\n",
    "new_set = set(Country_df.Nationality)\n",
    "for item in new_set:\n",
    "    subCountry = Country_df[Country_df['Nationality'] == item]\n",
    "    sum_acquisitions = subCountry['Count'].sum()\n",
    "    MC_countries_count.loc[len(MC_countries_count.index)] = [item, sum_acquisitions]\n",
    "\n",
    "def do_fuzzy_search(country):\n",
    "    try:\n",
    "        result = pycountry.countries.search_fuzzy(country)\n",
    "        return result[0].alpha_3\n",
    "    except:\n",
    "        return np.nan\n",
    "\n",
    "MC_countries_count[\"country_code\"] = MC_countries_count[\"Nation\"].apply(lambda country: do_fuzzy_search(country))"
   ]
  },
  {
   "cell_type": "code",
   "execution_count": 987,
   "metadata": {},
   "outputs": [],
   "source": [
    "# create Rhizome df with country neames instead of nationality\n",
    "natios_RH = set(df_rhz_nats.Nationality)\n",
    "Country_df=df_rhz_nats.copy()\n",
    "for item in natios_RH:\n",
    "    my = correct_country[correct_country['Aalborgenser'] == item]\n",
    "    \n",
    "    country = my[:1]['Aalborg'].values\n",
    "    if len(country)>0:\n",
    "        country_str = my[:1]['Aalborg'].values[0]\n",
    "\n",
    "        Country_df.loc[Country_df[\"Nationality\"] == item, \"Nationality\"] = country_str\n",
    "\n",
    "RH_countries_count = pd.DataFrame(columns= ['Nation', 'Count'])\n",
    "\n",
    "new_set = set(Country_df.Nationality)\n",
    "for item in new_set:\n",
    "    subCountry = Country_df[Country_df['Nationality'] == item]\n",
    "    sum_acquisitions = subCountry['Count'].sum()\n",
    "    RH_countries_count.loc[len(RH_countries_count.index)] = [item, sum_acquisitions]\n",
    "\n",
    "def do_fuzzy_search(country):\n",
    "    try:\n",
    "        result = pycountry.countries.search_fuzzy(country)\n",
    "        return result[0].alpha_3\n",
    "    except:\n",
    "        return np.nan\n",
    "\n",
    "RH_countries_count[\"country_code\"] = RH_countries_count[\"Nation\"].apply(lambda country: do_fuzzy_search(country))"
   ]
  },
  {
   "cell_type": "markdown",
   "metadata": {},
   "source": [
    "### Plots: Choropleth Maps\n",
    "##### Variables: Country, Artworks count, country code"
   ]
  },
  {
   "cell_type": "code",
   "execution_count": 988,
   "metadata": {},
   "outputs": [
    {
     "data": {
      "text/html": [
       "<div>\n",
       "<style scoped>\n",
       "    .dataframe tbody tr th:only-of-type {\n",
       "        vertical-align: middle;\n",
       "    }\n",
       "\n",
       "    .dataframe tbody tr th {\n",
       "        vertical-align: top;\n",
       "    }\n",
       "\n",
       "    .dataframe thead th {\n",
       "        text-align: right;\n",
       "    }\n",
       "</style>\n",
       "<table border=\"1\" class=\"dataframe\">\n",
       "  <thead>\n",
       "    <tr style=\"text-align: right;\">\n",
       "      <th></th>\n",
       "      <th>Nation</th>\n",
       "      <th>Count</th>\n",
       "      <th>country_code</th>\n",
       "    </tr>\n",
       "  </thead>\n",
       "  <tbody>\n",
       "    <tr>\n",
       "      <th>0</th>\n",
       "      <td>France</td>\n",
       "      <td>18702</td>\n",
       "      <td>FRA</td>\n",
       "    </tr>\n",
       "    <tr>\n",
       "      <th>1</th>\n",
       "      <td>Belgium</td>\n",
       "      <td>632</td>\n",
       "      <td>BEL</td>\n",
       "    </tr>\n",
       "    <tr>\n",
       "      <th>2</th>\n",
       "      <td>United States</td>\n",
       "      <td>35957</td>\n",
       "      <td>USA</td>\n",
       "    </tr>\n",
       "    <tr>\n",
       "      <th>3</th>\n",
       "      <td>Japan</td>\n",
       "      <td>125</td>\n",
       "      <td>JPN</td>\n",
       "    </tr>\n",
       "    <tr>\n",
       "      <th>4</th>\n",
       "      <td>United Kingdom</td>\n",
       "      <td>2134</td>\n",
       "      <td>GBR</td>\n",
       "    </tr>\n",
       "  </tbody>\n",
       "</table>\n",
       "</div>"
      ],
      "text/plain": [
       "           Nation  Count country_code\n",
       "0          France  18702          FRA\n",
       "1         Belgium    632          BEL\n",
       "2   United States  35957          USA\n",
       "3           Japan    125          JPN\n",
       "4  United Kingdom   2134          GBR"
      ]
     },
     "execution_count": 988,
     "metadata": {},
     "output_type": "execute_result"
    }
   ],
   "source": [
    "#DF example \n",
    "MC_countries_count.head()"
   ]
  },
  {
   "cell_type": "markdown",
   "metadata": {},
   "source": [
    "### Moma complete DF"
   ]
  },
  {
   "cell_type": "code",
   "execution_count": 989,
   "metadata": {},
   "outputs": [
    {
     "ename": "SyntaxError",
     "evalue": "expression cannot contain assignment, perhaps you meant \"==\"? (2015783055.py, line 7)",
     "output_type": "error",
     "traceback": [
      "\u001b[0;36m  File \u001b[0;32m\"/var/folders/qj/xh48vw9d4z5_h6wzs6r2smdh0000gn/T/ipykernel_761/2015783055.py\"\u001b[0;36m, line \u001b[0;32m7\u001b[0m\n\u001b[0;31m    thick0=;\u001b[0m\n\u001b[0m    ^\u001b[0m\n\u001b[0;31mSyntaxError\u001b[0m\u001b[0;31m:\u001b[0m expression cannot contain assignment, perhaps you meant \"==\"?\n"
     ]
    }
   ],
   "source": [
    "# create moma map plot\n",
    "\n",
    "fig = go.Figure(data=go.Choropleth(\n",
    "    locations = MC_countries_count['country_code'],\n",
    "    z = MC_countries_count['Count'],\n",
    "    text = MC_countries_count['Nation'],\n",
    "    thick0=;\n",
    "    colorscale=[\n",
    "            [0,\"#8e5a79\"],\n",
    "            [0.3 ,\"#925f7d\"],\n",
    "            [0.325 ,\"#966582\"],\n",
    "            [0.350 ,\"#9a6a87\"],\n",
    "            [0.375,\"#9e708b\"],\n",
    "            [0.4 ,\"#a27590\"],\n",
    "            [0.525 ,\"#b690a6\"],\n",
    "            [0.550 ,\"#ba96ab\"],\n",
    "            [0.575,\"#be9baf\"],\n",
    "            [0.6 ,\"#c2a0b4\"],\n",
    "            [0.625 ,\"#c6a6b8\"],\n",
    "            [0.650 ,\"#caabbd\"],\n",
    "            [0.675,\"#ceb1c2\"],\n",
    "            [0.7 ,\"#d2b6c6\"],\n",
    "            [0.725 ,\"#d6bccb\"],\n",
    "            [0.995 ,\"#d9c1cf\"],\n",
    "            [1, \"#FFFFFF\"]],\n",
    "    autocolorscale=False,\n",
    "    reversescale=True,\n",
    "    marker_line_color='darkgray',\n",
    "    marker_line_width=0.5,\n",
    "    colorbar_title = 'Total artworks',\n",
    "))\n",
    "\n",
    "fig.update_layout(\n",
    "    title_text='Moma artworks acquired after the 2000, spread over Nations',\n",
    "    geo=dict(\n",
    "        showframe=False,\n",
    "        showcoastlines=False,\n",
    "        projection_type='orthographic',\n",
    "        showocean=True, oceancolor=\"LightBlue\"\n",
    "    ),\n",
    "    height = 700,\n",
    ")\n",
    "\n",
    "\n",
    "fig.show()"
   ]
  },
  {
   "cell_type": "markdown",
   "metadata": {},
   "source": [
    "### Rhizome DF"
   ]
  },
  {
   "cell_type": "code",
   "execution_count": null,
   "metadata": {},
   "outputs": [
    {
     "data": {
      "application/vnd.plotly.v1+json": {
       "config": {
        "plotlyServerURL": "https://plot.ly"
       },
       "data": [
        {
         "autocolorscale": false,
         "colorbar": {
          "title": {
           "text": "Total artworks"
          }
         },
         "colorscale": [
          [
           0,
           "#8e5a79"
          ],
          [
           0.3,
           "#925f7d"
          ],
          [
           0.325,
           "#966582"
          ],
          [
           0.35,
           "#9a6a87"
          ],
          [
           0.375,
           "#9e708b"
          ],
          [
           0.4,
           "#a27590"
          ],
          [
           0.525,
           "#b690a6"
          ],
          [
           0.55,
           "#ba96ab"
          ],
          [
           0.575,
           "#be9baf"
          ],
          [
           0.6,
           "#c2a0b4"
          ],
          [
           0.625,
           "#c6a6b8"
          ],
          [
           0.65,
           "#caabbd"
          ],
          [
           0.675,
           "#ceb1c2"
          ],
          [
           0.7,
           "#d2b6c6"
          ],
          [
           0.725,
           "#d6bccb"
          ],
          [
           0.995,
           "#d9c1cf"
          ],
          [
           1,
           "#FFFFFF"
          ]
         ],
         "locations": [
          "HRV",
          null,
          null,
          "GBR",
          "POL",
          "ISR",
          "NZL",
          "ZAF",
          "MEX",
          "COL",
          "ESP",
          "CHL",
          "ARG",
          "IRN",
          "JPN",
          null,
          "ITA",
          null,
          "SRB",
          "NOR",
          null,
          "CHN",
          "KOR",
          null,
          "DEU",
          "SVN",
          null,
          "CHE",
          null,
          "SWE",
          "GRC",
          "TUR",
          null,
          "VEN",
          "NLD",
          null,
          "FIN",
          null,
          "RUS",
          "IRL",
          null,
          "ITA",
          null,
          "IND",
          "CAN",
          null,
          "FRA",
          "BEL",
          "TWN",
          "USA",
          "AUS",
          null,
          null,
          "ARG",
          "PRT",
          "AUT",
          "CZE",
          "HUN",
          "ASM"
         ],
         "marker": {
          "line": {
           "color": "darkgray",
           "width": 0.5
          }
         },
         "reversescale": true,
         "text": [
          "Croatia",
          "Polish/American",
          "Chilean?Chilean",
          "United Kingdom",
          "Poland",
          "Israel",
          "New Zealand",
          "South Africa",
          "Mexico",
          "Colombia",
          "Spain",
          "Chile",
          "Argentina",
          "Iran",
          "Japan",
          "Icelandic/American",
          "Italian ",
          "missing",
          "Serbia",
          "Norway",
          "American/British",
          "China",
          "South Korea",
          "American/Canadian",
          "Germany",
          "Slovenia",
          "Mexican/American",
          "Switzerland",
          "Greek/Australian",
          "Sweden",
          "Greece",
          "Turkey",
          "Finnish ",
          "Venezuela",
          "Netherlands",
          "British/Irish",
          "Finland",
          "British/Canadian",
          "Russia",
          "Ireland",
          "Brasilian/American",
          "Italy",
          "American/South African",
          "India",
          "Canada",
          "Brasilian",
          "France",
          "Belgium",
          "Taiwan",
          "United States",
          "Australia",
          "Dutch/Brazilian",
          "Afghan/American",
          "Argentine ",
          "Portugal",
          "Austria",
          "Czech Republic",
          "Hungary",
          "American "
         ],
         "type": "choropleth",
         "z": [
          2,
          2,
          2,
          79,
          20,
          26,
          4,
          2,
          11,
          7,
          20,
          2,
          19,
          1,
          20,
          6,
          1,
          606,
          6,
          2,
          2,
          2,
          11,
          1,
          87,
          3,
          1,
          10,
          1,
          29,
          4,
          7,
          1,
          1,
          32,
          6,
          1,
          2,
          11,
          1,
          3,
          37,
          8,
          2,
          82,
          21,
          130,
          11,
          7,
          473,
          30,
          66,
          1,
          2,
          11,
          36,
          5,
          2,
          29
         ]
        }
       ],
       "layout": {
        "geo": {
         "oceancolor": "LightBlue",
         "projection": {
          "type": "orthographic"
         },
         "showcoastlines": false,
         "showframe": false,
         "showocean": true
        },
        "height": 700,
        "template": {
         "data": {
          "bar": [
           {
            "error_x": {
             "color": "#2a3f5f"
            },
            "error_y": {
             "color": "#2a3f5f"
            },
            "marker": {
             "line": {
              "color": "#E5ECF6",
              "width": 0.5
             },
             "pattern": {
              "fillmode": "overlay",
              "size": 10,
              "solidity": 0.2
             }
            },
            "type": "bar"
           }
          ],
          "barpolar": [
           {
            "marker": {
             "line": {
              "color": "#E5ECF6",
              "width": 0.5
             },
             "pattern": {
              "fillmode": "overlay",
              "size": 10,
              "solidity": 0.2
             }
            },
            "type": "barpolar"
           }
          ],
          "carpet": [
           {
            "aaxis": {
             "endlinecolor": "#2a3f5f",
             "gridcolor": "white",
             "linecolor": "white",
             "minorgridcolor": "white",
             "startlinecolor": "#2a3f5f"
            },
            "baxis": {
             "endlinecolor": "#2a3f5f",
             "gridcolor": "white",
             "linecolor": "white",
             "minorgridcolor": "white",
             "startlinecolor": "#2a3f5f"
            },
            "type": "carpet"
           }
          ],
          "choropleth": [
           {
            "colorbar": {
             "outlinewidth": 0,
             "ticks": ""
            },
            "type": "choropleth"
           }
          ],
          "contour": [
           {
            "colorbar": {
             "outlinewidth": 0,
             "ticks": ""
            },
            "colorscale": [
             [
              0,
              "#0d0887"
             ],
             [
              0.1111111111111111,
              "#46039f"
             ],
             [
              0.2222222222222222,
              "#7201a8"
             ],
             [
              0.3333333333333333,
              "#9c179e"
             ],
             [
              0.4444444444444444,
              "#bd3786"
             ],
             [
              0.5555555555555556,
              "#d8576b"
             ],
             [
              0.6666666666666666,
              "#ed7953"
             ],
             [
              0.7777777777777778,
              "#fb9f3a"
             ],
             [
              0.8888888888888888,
              "#fdca26"
             ],
             [
              1,
              "#f0f921"
             ]
            ],
            "type": "contour"
           }
          ],
          "contourcarpet": [
           {
            "colorbar": {
             "outlinewidth": 0,
             "ticks": ""
            },
            "type": "contourcarpet"
           }
          ],
          "heatmap": [
           {
            "colorbar": {
             "outlinewidth": 0,
             "ticks": ""
            },
            "colorscale": [
             [
              0,
              "#0d0887"
             ],
             [
              0.1111111111111111,
              "#46039f"
             ],
             [
              0.2222222222222222,
              "#7201a8"
             ],
             [
              0.3333333333333333,
              "#9c179e"
             ],
             [
              0.4444444444444444,
              "#bd3786"
             ],
             [
              0.5555555555555556,
              "#d8576b"
             ],
             [
              0.6666666666666666,
              "#ed7953"
             ],
             [
              0.7777777777777778,
              "#fb9f3a"
             ],
             [
              0.8888888888888888,
              "#fdca26"
             ],
             [
              1,
              "#f0f921"
             ]
            ],
            "type": "heatmap"
           }
          ],
          "heatmapgl": [
           {
            "colorbar": {
             "outlinewidth": 0,
             "ticks": ""
            },
            "colorscale": [
             [
              0,
              "#0d0887"
             ],
             [
              0.1111111111111111,
              "#46039f"
             ],
             [
              0.2222222222222222,
              "#7201a8"
             ],
             [
              0.3333333333333333,
              "#9c179e"
             ],
             [
              0.4444444444444444,
              "#bd3786"
             ],
             [
              0.5555555555555556,
              "#d8576b"
             ],
             [
              0.6666666666666666,
              "#ed7953"
             ],
             [
              0.7777777777777778,
              "#fb9f3a"
             ],
             [
              0.8888888888888888,
              "#fdca26"
             ],
             [
              1,
              "#f0f921"
             ]
            ],
            "type": "heatmapgl"
           }
          ],
          "histogram": [
           {
            "marker": {
             "pattern": {
              "fillmode": "overlay",
              "size": 10,
              "solidity": 0.2
             }
            },
            "type": "histogram"
           }
          ],
          "histogram2d": [
           {
            "colorbar": {
             "outlinewidth": 0,
             "ticks": ""
            },
            "colorscale": [
             [
              0,
              "#0d0887"
             ],
             [
              0.1111111111111111,
              "#46039f"
             ],
             [
              0.2222222222222222,
              "#7201a8"
             ],
             [
              0.3333333333333333,
              "#9c179e"
             ],
             [
              0.4444444444444444,
              "#bd3786"
             ],
             [
              0.5555555555555556,
              "#d8576b"
             ],
             [
              0.6666666666666666,
              "#ed7953"
             ],
             [
              0.7777777777777778,
              "#fb9f3a"
             ],
             [
              0.8888888888888888,
              "#fdca26"
             ],
             [
              1,
              "#f0f921"
             ]
            ],
            "type": "histogram2d"
           }
          ],
          "histogram2dcontour": [
           {
            "colorbar": {
             "outlinewidth": 0,
             "ticks": ""
            },
            "colorscale": [
             [
              0,
              "#0d0887"
             ],
             [
              0.1111111111111111,
              "#46039f"
             ],
             [
              0.2222222222222222,
              "#7201a8"
             ],
             [
              0.3333333333333333,
              "#9c179e"
             ],
             [
              0.4444444444444444,
              "#bd3786"
             ],
             [
              0.5555555555555556,
              "#d8576b"
             ],
             [
              0.6666666666666666,
              "#ed7953"
             ],
             [
              0.7777777777777778,
              "#fb9f3a"
             ],
             [
              0.8888888888888888,
              "#fdca26"
             ],
             [
              1,
              "#f0f921"
             ]
            ],
            "type": "histogram2dcontour"
           }
          ],
          "mesh3d": [
           {
            "colorbar": {
             "outlinewidth": 0,
             "ticks": ""
            },
            "type": "mesh3d"
           }
          ],
          "parcoords": [
           {
            "line": {
             "colorbar": {
              "outlinewidth": 0,
              "ticks": ""
             }
            },
            "type": "parcoords"
           }
          ],
          "pie": [
           {
            "automargin": true,
            "type": "pie"
           }
          ],
          "scatter": [
           {
            "fillpattern": {
             "fillmode": "overlay",
             "size": 10,
             "solidity": 0.2
            },
            "type": "scatter"
           }
          ],
          "scatter3d": [
           {
            "line": {
             "colorbar": {
              "outlinewidth": 0,
              "ticks": ""
             }
            },
            "marker": {
             "colorbar": {
              "outlinewidth": 0,
              "ticks": ""
             }
            },
            "type": "scatter3d"
           }
          ],
          "scattercarpet": [
           {
            "marker": {
             "colorbar": {
              "outlinewidth": 0,
              "ticks": ""
             }
            },
            "type": "scattercarpet"
           }
          ],
          "scattergeo": [
           {
            "marker": {
             "colorbar": {
              "outlinewidth": 0,
              "ticks": ""
             }
            },
            "type": "scattergeo"
           }
          ],
          "scattergl": [
           {
            "marker": {
             "colorbar": {
              "outlinewidth": 0,
              "ticks": ""
             }
            },
            "type": "scattergl"
           }
          ],
          "scattermapbox": [
           {
            "marker": {
             "colorbar": {
              "outlinewidth": 0,
              "ticks": ""
             }
            },
            "type": "scattermapbox"
           }
          ],
          "scatterpolar": [
           {
            "marker": {
             "colorbar": {
              "outlinewidth": 0,
              "ticks": ""
             }
            },
            "type": "scatterpolar"
           }
          ],
          "scatterpolargl": [
           {
            "marker": {
             "colorbar": {
              "outlinewidth": 0,
              "ticks": ""
             }
            },
            "type": "scatterpolargl"
           }
          ],
          "scatterternary": [
           {
            "marker": {
             "colorbar": {
              "outlinewidth": 0,
              "ticks": ""
             }
            },
            "type": "scatterternary"
           }
          ],
          "surface": [
           {
            "colorbar": {
             "outlinewidth": 0,
             "ticks": ""
            },
            "colorscale": [
             [
              0,
              "#0d0887"
             ],
             [
              0.1111111111111111,
              "#46039f"
             ],
             [
              0.2222222222222222,
              "#7201a8"
             ],
             [
              0.3333333333333333,
              "#9c179e"
             ],
             [
              0.4444444444444444,
              "#bd3786"
             ],
             [
              0.5555555555555556,
              "#d8576b"
             ],
             [
              0.6666666666666666,
              "#ed7953"
             ],
             [
              0.7777777777777778,
              "#fb9f3a"
             ],
             [
              0.8888888888888888,
              "#fdca26"
             ],
             [
              1,
              "#f0f921"
             ]
            ],
            "type": "surface"
           }
          ],
          "table": [
           {
            "cells": {
             "fill": {
              "color": "#EBF0F8"
             },
             "line": {
              "color": "white"
             }
            },
            "header": {
             "fill": {
              "color": "#C8D4E3"
             },
             "line": {
              "color": "white"
             }
            },
            "type": "table"
           }
          ]
         },
         "layout": {
          "annotationdefaults": {
           "arrowcolor": "#2a3f5f",
           "arrowhead": 0,
           "arrowwidth": 1
          },
          "autotypenumbers": "strict",
          "coloraxis": {
           "colorbar": {
            "outlinewidth": 0,
            "ticks": ""
           }
          },
          "colorscale": {
           "diverging": [
            [
             0,
             "#8e0152"
            ],
            [
             0.1,
             "#c51b7d"
            ],
            [
             0.2,
             "#de77ae"
            ],
            [
             0.3,
             "#f1b6da"
            ],
            [
             0.4,
             "#fde0ef"
            ],
            [
             0.5,
             "#f7f7f7"
            ],
            [
             0.6,
             "#e6f5d0"
            ],
            [
             0.7,
             "#b8e186"
            ],
            [
             0.8,
             "#7fbc41"
            ],
            [
             0.9,
             "#4d9221"
            ],
            [
             1,
             "#276419"
            ]
           ],
           "sequential": [
            [
             0,
             "#0d0887"
            ],
            [
             0.1111111111111111,
             "#46039f"
            ],
            [
             0.2222222222222222,
             "#7201a8"
            ],
            [
             0.3333333333333333,
             "#9c179e"
            ],
            [
             0.4444444444444444,
             "#bd3786"
            ],
            [
             0.5555555555555556,
             "#d8576b"
            ],
            [
             0.6666666666666666,
             "#ed7953"
            ],
            [
             0.7777777777777778,
             "#fb9f3a"
            ],
            [
             0.8888888888888888,
             "#fdca26"
            ],
            [
             1,
             "#f0f921"
            ]
           ],
           "sequentialminus": [
            [
             0,
             "#0d0887"
            ],
            [
             0.1111111111111111,
             "#46039f"
            ],
            [
             0.2222222222222222,
             "#7201a8"
            ],
            [
             0.3333333333333333,
             "#9c179e"
            ],
            [
             0.4444444444444444,
             "#bd3786"
            ],
            [
             0.5555555555555556,
             "#d8576b"
            ],
            [
             0.6666666666666666,
             "#ed7953"
            ],
            [
             0.7777777777777778,
             "#fb9f3a"
            ],
            [
             0.8888888888888888,
             "#fdca26"
            ],
            [
             1,
             "#f0f921"
            ]
           ]
          },
          "colorway": [
           "#636efa",
           "#EF553B",
           "#00cc96",
           "#ab63fa",
           "#FFA15A",
           "#19d3f3",
           "#FF6692",
           "#B6E880",
           "#FF97FF",
           "#FECB52"
          ],
          "font": {
           "color": "#2a3f5f"
          },
          "geo": {
           "bgcolor": "white",
           "lakecolor": "white",
           "landcolor": "#E5ECF6",
           "showlakes": true,
           "showland": true,
           "subunitcolor": "white"
          },
          "hoverlabel": {
           "align": "left"
          },
          "hovermode": "closest",
          "mapbox": {
           "style": "light"
          },
          "paper_bgcolor": "white",
          "plot_bgcolor": "#E5ECF6",
          "polar": {
           "angularaxis": {
            "gridcolor": "white",
            "linecolor": "white",
            "ticks": ""
           },
           "bgcolor": "#E5ECF6",
           "radialaxis": {
            "gridcolor": "white",
            "linecolor": "white",
            "ticks": ""
           }
          },
          "scene": {
           "xaxis": {
            "backgroundcolor": "#E5ECF6",
            "gridcolor": "white",
            "gridwidth": 2,
            "linecolor": "white",
            "showbackground": true,
            "ticks": "",
            "zerolinecolor": "white"
           },
           "yaxis": {
            "backgroundcolor": "#E5ECF6",
            "gridcolor": "white",
            "gridwidth": 2,
            "linecolor": "white",
            "showbackground": true,
            "ticks": "",
            "zerolinecolor": "white"
           },
           "zaxis": {
            "backgroundcolor": "#E5ECF6",
            "gridcolor": "white",
            "gridwidth": 2,
            "linecolor": "white",
            "showbackground": true,
            "ticks": "",
            "zerolinecolor": "white"
           }
          },
          "shapedefaults": {
           "line": {
            "color": "#2a3f5f"
           }
          },
          "ternary": {
           "aaxis": {
            "gridcolor": "white",
            "linecolor": "white",
            "ticks": ""
           },
           "baxis": {
            "gridcolor": "white",
            "linecolor": "white",
            "ticks": ""
           },
           "bgcolor": "#E5ECF6",
           "caxis": {
            "gridcolor": "white",
            "linecolor": "white",
            "ticks": ""
           }
          },
          "title": {
           "x": 0.05
          },
          "xaxis": {
           "automargin": true,
           "gridcolor": "white",
           "linecolor": "white",
           "ticks": "",
           "title": {
            "standoff": 15
           },
           "zerolinecolor": "white",
           "zerolinewidth": 2
          },
          "yaxis": {
           "automargin": true,
           "gridcolor": "white",
           "linecolor": "white",
           "ticks": "",
           "title": {
            "standoff": 15
           },
           "zerolinecolor": "white",
           "zerolinewidth": 2
          }
         }
        },
        "title": {
         "text": "Rhizome total artworks number spread over nations"
        }
       }
      }
     },
     "metadata": {},
     "output_type": "display_data"
    }
   ],
   "source": [
    "# create Rhizome map plot\n",
    "\n",
    "fig = go.Figure(data=go.Choropleth(\n",
    "    locations = RH_countries_count['country_code'],\n",
    "    z = RH_countries_count['Count'],\n",
    "    text = RH_countries_count['Nation'],\n",
    "    colorscale=[\n",
    "            [0,\"#8e5a79\"],\n",
    "            [0.3 ,\"#925f7d\"],\n",
    "            [0.325 ,\"#966582\"],\n",
    "            [0.350 ,\"#9a6a87\"],\n",
    "            [0.375,\"#9e708b\"],\n",
    "            [0.4 ,\"#a27590\"],\n",
    "            [0.525 ,\"#b690a6\"],\n",
    "            [0.550 ,\"#ba96ab\"],\n",
    "            [0.575,\"#be9baf\"],\n",
    "            [0.6 ,\"#c2a0b4\"],\n",
    "            [0.625 ,\"#c6a6b8\"],\n",
    "            [0.650 ,\"#caabbd\"],\n",
    "            [0.675,\"#ceb1c2\"],\n",
    "            [0.7 ,\"#d2b6c6\"],\n",
    "            [0.725 ,\"#d6bccb\"],\n",
    "            [0.995 ,\"#d9c1cf\"],\n",
    "            [1, \"#FFFFFF\"]],\n",
    "    autocolorscale=False,\n",
    "    reversescale=True,\n",
    "    marker_line_color='darkgray',\n",
    "    marker_line_width=0.5,\n",
    "    colorbar_title = 'Total artworks',\n",
    "))\n",
    "\n",
    "fig.update_layout(\n",
    "    title_text='Rhizome total artworks number spread over nations',\n",
    "    geo=dict(\n",
    "        showframe=False,\n",
    "        showcoastlines=False,\n",
    "        projection_type='orthographic',\n",
    "        showocean=True, oceancolor=\"LightBlue\"\n",
    "    ),\n",
    "    height = 700,\n",
    ")\n",
    "\n",
    "fig.show()"
   ]
  },
  {
   "cell_type": "markdown",
   "metadata": {},
   "source": [
    "\n",
    "### Plots: Stacked bar charts \n",
    "##### Variables: Nationality, Acquisition date, Artworks count for nationality"
   ]
  },
  {
   "cell_type": "code",
   "execution_count": null,
   "metadata": {},
   "outputs": [
    {
     "data": {
      "text/plain": [
       "59"
      ]
     },
     "execution_count": 977,
     "metadata": {},
     "output_type": "execute_result"
    }
   ],
   "source": [
    "len(set(RH_working_final.Nationality))"
   ]
  },
  {
   "cell_type": "code",
   "execution_count": null,
   "metadata": {},
   "outputs": [
    {
     "data": {
      "text/html": [
       "<div>\n",
       "<style scoped>\n",
       "    .dataframe tbody tr th:only-of-type {\n",
       "        vertical-align: middle;\n",
       "    }\n",
       "\n",
       "    .dataframe tbody tr th {\n",
       "        vertical-align: top;\n",
       "    }\n",
       "\n",
       "    .dataframe thead th {\n",
       "        text-align: right;\n",
       "    }\n",
       "</style>\n",
       "<table border=\"1\" class=\"dataframe\">\n",
       "  <thead>\n",
       "    <tr style=\"text-align: right;\">\n",
       "      <th></th>\n",
       "      <th>Nationality</th>\n",
       "      <th>DateAcquired</th>\n",
       "      <th>Decade</th>\n",
       "      <th>Count</th>\n",
       "      <th>Females</th>\n",
       "      <th>Males</th>\n",
       "    </tr>\n",
       "  </thead>\n",
       "  <tbody>\n",
       "    <tr>\n",
       "      <th>137</th>\n",
       "      <td>German</td>\n",
       "      <td>2001</td>\n",
       "      <td>2000</td>\n",
       "      <td>7</td>\n",
       "      <td>1</td>\n",
       "      <td>6</td>\n",
       "    </tr>\n",
       "    <tr>\n",
       "      <th>157</th>\n",
       "      <td>Icelandic/American</td>\n",
       "      <td>2004</td>\n",
       "      <td>2000</td>\n",
       "      <td>1</td>\n",
       "      <td>0</td>\n",
       "      <td>1</td>\n",
       "    </tr>\n",
       "    <tr>\n",
       "      <th>158</th>\n",
       "      <td>Icelandic/American</td>\n",
       "      <td>2005</td>\n",
       "      <td>2000</td>\n",
       "      <td>1</td>\n",
       "      <td>0</td>\n",
       "      <td>1</td>\n",
       "    </tr>\n",
       "    <tr>\n",
       "      <th>159</th>\n",
       "      <td>Icelandic/American</td>\n",
       "      <td>2006</td>\n",
       "      <td>2000</td>\n",
       "      <td>1</td>\n",
       "      <td>0</td>\n",
       "      <td>1</td>\n",
       "    </tr>\n",
       "    <tr>\n",
       "      <th>160</th>\n",
       "      <td>Indian</td>\n",
       "      <td>2002</td>\n",
       "      <td>2000</td>\n",
       "      <td>1</td>\n",
       "      <td>0</td>\n",
       "      <td>1</td>\n",
       "    </tr>\n",
       "  </tbody>\n",
       "</table>\n",
       "</div>"
      ],
      "text/plain": [
       "            Nationality  DateAcquired  Decade  Count  Females  Males\n",
       "137              German          2001    2000      7        1      6\n",
       "157  Icelandic/American          2004    2000      1        0      1\n",
       "158  Icelandic/American          2005    2000      1        0      1\n",
       "159  Icelandic/American          2006    2000      1        0      1\n",
       "160              Indian          2002    2000      1        0      1"
      ]
     },
     "execution_count": 965,
     "metadata": {},
     "output_type": "execute_result"
    }
   ],
   "source": [
    "#DF example \n",
    "RH_working_final.head()"
   ]
  },
  {
   "cell_type": "code",
   "execution_count": null,
   "metadata": {},
   "outputs": [
    {
     "data": {
      "application/vnd.plotly.v1+json": {
       "config": {
        "plotlyServerURL": "https://plot.ly"
       },
       "data": [
        {
         "alignmentgroup": "True",
         "hovertemplate": "Nationality=American<br>Decade=1930<br>DateAcquired=%{x}<br>Count=%{y}<extra></extra>",
         "legendgroup": "American",
         "marker": {
          "color": "#FFC0CB",
          "pattern": {
           "shape": ""
          }
         },
         "name": "American",
         "offsetgroup": "American",
         "orientation": "v",
         "showlegend": true,
         "textposition": "auto",
         "type": "bar",
         "x": [
          1934,
          1937,
          1939,
          1935
         ],
         "xaxis": "x9",
         "y": [
          111,
          106,
          250,
          269
         ],
         "yaxis": "y9"
        },
        {
         "alignmentgroup": "True",
         "hovertemplate": "Nationality=American<br>Decade=1940<br>DateAcquired=%{x}<br>Count=%{y}<extra></extra>",
         "legendgroup": "American",
         "marker": {
          "color": "#FFC0CB",
          "pattern": {
           "shape": ""
          }
         },
         "name": "American",
         "offsetgroup": "American",
         "orientation": "v",
         "showlegend": false,
         "textposition": "auto",
         "type": "bar",
         "x": [
          1941,
          1943,
          1944,
          1947,
          1948,
          1940,
          1942,
          1949
         ],
         "xaxis": "x10",
         "y": [
          659,
          222,
          220,
          216,
          130,
          1113,
          564,
          238
         ],
         "yaxis": "y10"
        },
        {
         "alignmentgroup": "True",
         "hovertemplate": "Nationality=American<br>Decade=1950<br>DateAcquired=%{x}<br>Count=%{y}<extra></extra>",
         "legendgroup": "American",
         "marker": {
          "color": "#FFC0CB",
          "pattern": {
           "shape": ""
          }
         },
         "name": "American",
         "offsetgroup": "American",
         "orientation": "v",
         "showlegend": false,
         "textposition": "auto",
         "type": "bar",
         "x": [
          1954,
          1953,
          1952,
          1951,
          1950,
          1955,
          1956,
          1959,
          1957
         ],
         "xaxis": "x7",
         "y": [
          162,
          158,
          200,
          131,
          152,
          110,
          287,
          483,
          107
         ],
         "yaxis": "y7"
        },
        {
         "alignmentgroup": "True",
         "hovertemplate": "Nationality=American<br>Decade=1960<br>DateAcquired=%{x}<br>Count=%{y}<extra></extra>",
         "legendgroup": "American",
         "marker": {
          "color": "#FFC0CB",
          "pattern": {
           "shape": ""
          }
         },
         "name": "American",
         "offsetgroup": "American",
         "orientation": "v",
         "showlegend": false,
         "textposition": "auto",
         "type": "bar",
         "x": [
          1965,
          1966,
          1964,
          1963,
          1962,
          1961,
          1960,
          1969,
          1967,
          1968
         ],
         "xaxis": "x8",
         "y": [
          650,
          839,
          1420,
          569,
          212,
          265,
          221,
          1558,
          1117,
          1073
         ],
         "yaxis": "y8"
        },
        {
         "alignmentgroup": "True",
         "hovertemplate": "Nationality=American<br>Decade=1970<br>DateAcquired=%{x}<br>Count=%{y}<extra></extra>",
         "legendgroup": "American",
         "marker": {
          "color": "#FFC0CB",
          "pattern": {
           "shape": ""
          }
         },
         "name": "American",
         "offsetgroup": "American",
         "orientation": "v",
         "showlegend": false,
         "textposition": "auto",
         "type": "bar",
         "x": [
          1970,
          1971,
          1972,
          1973,
          1979,
          1978,
          1974,
          1975,
          1977,
          1976
         ],
         "xaxis": "x5",
         "y": [
          755,
          458,
          407,
          548,
          584,
          533,
          2616,
          636,
          658,
          504
         ],
         "yaxis": "y5"
        },
        {
         "alignmentgroup": "True",
         "hovertemplate": "Nationality=American<br>Decade=1980<br>DateAcquired=%{x}<br>Count=%{y}<extra></extra>",
         "legendgroup": "American",
         "marker": {
          "color": "#FFC0CB",
          "pattern": {
           "shape": ""
          }
         },
         "name": "American",
         "offsetgroup": "American",
         "orientation": "v",
         "showlegend": false,
         "textposition": "auto",
         "type": "bar",
         "x": [
          1980,
          1982,
          1983,
          1984,
          1985,
          1986,
          1987,
          1981,
          1988,
          1989
         ],
         "xaxis": "x6",
         "y": [
          397,
          307,
          635,
          585,
          417,
          614,
          554,
          582,
          512,
          428
         ],
         "yaxis": "y6"
        },
        {
         "alignmentgroup": "True",
         "hovertemplate": "Nationality=American<br>Decade=1990<br>DateAcquired=%{x}<br>Count=%{y}<extra></extra>",
         "legendgroup": "American",
         "marker": {
          "color": "#FFC0CB",
          "pattern": {
           "shape": ""
          }
         },
         "name": "American",
         "offsetgroup": "American",
         "orientation": "v",
         "showlegend": false,
         "textposition": "auto",
         "type": "bar",
         "x": [
          1999,
          1993,
          1997,
          1996,
          1995,
          1994,
          1992,
          1991,
          1990,
          1998
         ],
         "xaxis": "x3",
         "y": [
          499,
          827,
          543,
          581,
          691,
          583,
          584,
          497,
          704,
          499
         ],
         "yaxis": "y3"
        },
        {
         "alignmentgroup": "True",
         "hovertemplate": "Nationality=American<br>Decade=2000<br>DateAcquired=%{x}<br>Count=%{y}<extra></extra>",
         "legendgroup": "American",
         "marker": {
          "color": "#FFC0CB",
          "pattern": {
           "shape": ""
          }
         },
         "name": "American",
         "offsetgroup": "American",
         "orientation": "v",
         "showlegend": false,
         "textposition": "auto",
         "type": "bar",
         "x": [
          2008,
          2009,
          2006,
          2007,
          2004,
          2005,
          2001,
          2002,
          2003,
          2000
         ],
         "xaxis": "x4",
         "y": [
          3913,
          694,
          650,
          638,
          384,
          2180,
          947,
          276,
          280,
          1250
         ],
         "yaxis": "y4"
        },
        {
         "alignmentgroup": "True",
         "hovertemplate": "Nationality=American<br>Decade=2010<br>DateAcquired=%{x}<br>Count=%{y}<extra></extra>",
         "legendgroup": "American",
         "marker": {
          "color": "#FFC0CB",
          "pattern": {
           "shape": ""
          }
         },
         "name": "American",
         "offsetgroup": "American",
         "orientation": "v",
         "showlegend": false,
         "textposition": "auto",
         "type": "bar",
         "x": [
          2018,
          2019,
          2016,
          2017,
          2010,
          2011,
          2012,
          2013,
          2014,
          2015
         ],
         "xaxis": "x",
         "y": [
          989,
          518,
          780,
          434,
          619,
          667,
          1496,
          1379,
          953,
          1141
         ],
         "yaxis": "y"
        },
        {
         "alignmentgroup": "True",
         "hovertemplate": "Nationality=others<br>Decade=1930<br>DateAcquired=%{x}<br>Count=%{y}<extra></extra>",
         "legendgroup": "others",
         "marker": {
          "color": "#FF69B4",
          "pattern": {
           "shape": ""
          }
         },
         "name": "others",
         "offsetgroup": "others",
         "orientation": "v",
         "showlegend": true,
         "textposition": "auto",
         "type": "bar",
         "x": [
          1939,
          1938,
          1937,
          1936,
          1935,
          1934,
          1932,
          1931,
          1930,
          1933
         ],
         "xaxis": "x9",
         "y": [
          147,
          123,
          206,
          145,
          143,
          139,
          17,
          3,
          7,
          93
         ],
         "yaxis": "y9"
        },
        {
         "alignmentgroup": "True",
         "hovertemplate": "Nationality=others<br>Decade=1940<br>DateAcquired=%{x}<br>Count=%{y}<extra></extra>",
         "legendgroup": "others",
         "marker": {
          "color": "#FF69B4",
          "pattern": {
           "shape": ""
          }
         },
         "name": "others",
         "offsetgroup": "others",
         "orientation": "v",
         "showlegend": false,
         "textposition": "auto",
         "type": "bar",
         "x": [
          1947,
          1946,
          1945,
          1944,
          1942,
          1941,
          1940,
          1948,
          1949,
          1943
         ],
         "xaxis": "x10",
         "y": [
          220,
          165,
          284,
          119,
          226,
          245,
          210,
          119,
          237,
          249
         ],
         "yaxis": "y10"
        },
        {
         "alignmentgroup": "True",
         "hovertemplate": "Nationality=others<br>Decade=1950<br>DateAcquired=%{x}<br>Count=%{y}<extra></extra>",
         "legendgroup": "others",
         "marker": {
          "color": "#FF69B4",
          "pattern": {
           "shape": ""
          }
         },
         "name": "others",
         "offsetgroup": "others",
         "orientation": "v",
         "showlegend": false,
         "textposition": "auto",
         "type": "bar",
         "x": [
          1956,
          1957,
          1955,
          1954,
          1953,
          1952,
          1951,
          1950,
          1958,
          1959
         ],
         "xaxis": "x7",
         "y": [
          293,
          192,
          310,
          331,
          199,
          202,
          134,
          184,
          444,
          220
         ],
         "yaxis": "y7"
        },
        {
         "alignmentgroup": "True",
         "hovertemplate": "Nationality=others<br>Decade=1960<br>DateAcquired=%{x}<br>Count=%{y}<extra></extra>",
         "legendgroup": "others",
         "marker": {
          "color": "#FF69B4",
          "pattern": {
           "shape": ""
          }
         },
         "name": "others",
         "offsetgroup": "others",
         "orientation": "v",
         "showlegend": false,
         "textposition": "auto",
         "type": "bar",
         "x": [
          1969,
          1968,
          1967,
          1966,
          1965,
          1964,
          1963,
          1962,
          1961,
          1960
         ],
         "xaxis": "x8",
         "y": [
          593,
          527,
          622,
          395,
          600,
          497,
          241,
          227,
          173,
          225
         ],
         "yaxis": "y8"
        },
        {
         "alignmentgroup": "True",
         "hovertemplate": "Nationality=others<br>Decade=1970<br>DateAcquired=%{x}<br>Count=%{y}<extra></extra>",
         "legendgroup": "others",
         "marker": {
          "color": "#FF69B4",
          "pattern": {
           "shape": ""
          }
         },
         "name": "others",
         "offsetgroup": "others",
         "orientation": "v",
         "showlegend": false,
         "textposition": "auto",
         "type": "bar",
         "x": [
          1979,
          1970,
          1971,
          1972,
          1973,
          1974,
          1975,
          1976,
          1977,
          1978
         ],
         "xaxis": "x5",
         "y": [
          405,
          308,
          211,
          330,
          343,
          489,
          199,
          273,
          401,
          397
         ],
         "yaxis": "y5"
        },
        {
         "alignmentgroup": "True",
         "hovertemplate": "Nationality=others<br>Decade=1980<br>DateAcquired=%{x}<br>Count=%{y}<extra></extra>",
         "legendgroup": "others",
         "marker": {
          "color": "#FF69B4",
          "pattern": {
           "shape": ""
          }
         },
         "name": "others",
         "offsetgroup": "others",
         "orientation": "v",
         "showlegend": false,
         "textposition": "auto",
         "type": "bar",
         "x": [
          1980,
          1989,
          1988,
          1987,
          1986,
          1985,
          1983,
          1982,
          1981,
          1984
         ],
         "xaxis": "x6",
         "y": [
          261,
          265,
          466,
          454,
          385,
          345,
          289,
          284,
          315,
          244
         ],
         "yaxis": "y6"
        },
        {
         "alignmentgroup": "True",
         "hovertemplate": "Nationality=others<br>Decade=1990<br>DateAcquired=%{x}<br>Count=%{y}<extra></extra>",
         "legendgroup": "others",
         "marker": {
          "color": "#FF69B4",
          "pattern": {
           "shape": ""
          }
         },
         "name": "others",
         "offsetgroup": "others",
         "orientation": "v",
         "showlegend": false,
         "textposition": "auto",
         "type": "bar",
         "x": [
          1999,
          1998,
          1990,
          1997,
          1996,
          1991,
          1992,
          1993,
          1994,
          1995
         ],
         "xaxis": "x3",
         "y": [
          275,
          346,
          265,
          357,
          289,
          302,
          557,
          378,
          312,
          257
         ],
         "yaxis": "y3"
        },
        {
         "alignmentgroup": "True",
         "hovertemplate": "Nationality=others<br>Decade=2000<br>DateAcquired=%{x}<br>Count=%{y}<extra></extra>",
         "legendgroup": "others",
         "marker": {
          "color": "#FF69B4",
          "pattern": {
           "shape": ""
          }
         },
         "name": "others",
         "offsetgroup": "others",
         "orientation": "v",
         "showlegend": false,
         "textposition": "auto",
         "type": "bar",
         "x": [
          2000,
          2009,
          2007,
          2006,
          2005,
          2004,
          2003,
          2002,
          2001,
          2008
         ],
         "xaxis": "x4",
         "y": [
          344,
          315,
          438,
          660,
          892,
          291,
          214,
          255,
          503,
          734
         ],
         "yaxis": "y4"
        },
        {
         "alignmentgroup": "True",
         "hovertemplate": "Nationality=others<br>Decade=2010<br>DateAcquired=%{x}<br>Count=%{y}<extra></extra>",
         "legendgroup": "others",
         "marker": {
          "color": "#FF69B4",
          "pattern": {
           "shape": ""
          }
         },
         "name": "others",
         "offsetgroup": "others",
         "orientation": "v",
         "showlegend": false,
         "textposition": "auto",
         "type": "bar",
         "x": [
          2016,
          2017,
          2014,
          2015,
          2013,
          2010,
          2011,
          2012,
          2018,
          2019
         ],
         "xaxis": "x",
         "y": [
          404,
          477,
          703,
          954,
          580,
          318,
          588,
          810,
          486,
          117
         ],
         "yaxis": "y"
        },
        {
         "alignmentgroup": "True",
         "hovertemplate": "Nationality=French<br>Decade=1940<br>DateAcquired=%{x}<br>Count=%{y}<extra></extra>",
         "legendgroup": "French",
         "marker": {
          "color": "#DB7093",
          "pattern": {
           "shape": ""
          }
         },
         "name": "French",
         "offsetgroup": "French",
         "orientation": "v",
         "showlegend": true,
         "textposition": "auto",
         "type": "bar",
         "x": [
          1940,
          1948,
          1949
         ],
         "xaxis": "x10",
         "y": [
          196,
          158,
          474
         ],
         "yaxis": "y10"
        },
        {
         "alignmentgroup": "True",
         "hovertemplate": "Nationality=French<br>Decade=1950<br>DateAcquired=%{x}<br>Count=%{y}<extra></extra>",
         "legendgroup": "French",
         "marker": {
          "color": "#DB7093",
          "pattern": {
           "shape": ""
          }
         },
         "name": "French",
         "offsetgroup": "French",
         "orientation": "v",
         "showlegend": false,
         "textposition": "auto",
         "type": "bar",
         "x": [
          1950,
          1951,
          1954,
          1956,
          1958
         ],
         "xaxis": "x7",
         "y": [
          112,
          247,
          245,
          265,
          226
         ],
         "yaxis": "y7"
        },
        {
         "alignmentgroup": "True",
         "hovertemplate": "Nationality=French<br>Decade=1960<br>DateAcquired=%{x}<br>Count=%{y}<extra></extra>",
         "legendgroup": "French",
         "marker": {
          "color": "#DB7093",
          "pattern": {
           "shape": ""
          }
         },
         "name": "French",
         "offsetgroup": "French",
         "orientation": "v",
         "showlegend": false,
         "textposition": "auto",
         "type": "bar",
         "x": [
          1967,
          1968,
          1963,
          1964,
          1965,
          1966
         ],
         "xaxis": "x8",
         "y": [
          163,
          5225,
          110,
          8465,
          640,
          467
         ],
         "yaxis": "y8"
        },
        {
         "alignmentgroup": "True",
         "hovertemplate": "Nationality=French<br>Decade=1970<br>DateAcquired=%{x}<br>Count=%{y}<extra></extra>",
         "legendgroup": "French",
         "marker": {
          "color": "#DB7093",
          "pattern": {
           "shape": ""
          }
         },
         "name": "French",
         "offsetgroup": "French",
         "orientation": "v",
         "showlegend": false,
         "textposition": "auto",
         "type": "bar",
         "x": [
          1979,
          1978,
          1973,
          1975
         ],
         "xaxis": "x5",
         "y": [
          103,
          110,
          165,
          139
         ],
         "yaxis": "y5"
        },
        {
         "alignmentgroup": "True",
         "hovertemplate": "Nationality=French<br>Decade=1980<br>DateAcquired=%{x}<br>Count=%{y}<extra></extra>",
         "legendgroup": "French",
         "marker": {
          "color": "#DB7093",
          "pattern": {
           "shape": ""
          }
         },
         "name": "French",
         "offsetgroup": "French",
         "orientation": "v",
         "showlegend": false,
         "textposition": "auto",
         "type": "bar",
         "x": [
          1987,
          1985,
          1982
         ],
         "xaxis": "x6",
         "y": [
          153,
          110,
          237
         ],
         "yaxis": "y6"
        },
        {
         "alignmentgroup": "True",
         "hovertemplate": "Nationality=French<br>Decade=1990<br>DateAcquired=%{x}<br>Count=%{y}<extra></extra>",
         "legendgroup": "French",
         "marker": {
          "color": "#DB7093",
          "pattern": {
           "shape": ""
          }
         },
         "name": "French",
         "offsetgroup": "French",
         "orientation": "v",
         "showlegend": false,
         "textposition": "auto",
         "type": "bar",
         "x": [
          1999
         ],
         "xaxis": "x3",
         "y": [
          272
         ],
         "yaxis": "y3"
        },
        {
         "alignmentgroup": "True",
         "hovertemplate": "Nationality=French<br>Decade=2000<br>DateAcquired=%{x}<br>Count=%{y}<extra></extra>",
         "legendgroup": "French",
         "marker": {
          "color": "#DB7093",
          "pattern": {
           "shape": ""
          }
         },
         "name": "French",
         "offsetgroup": "French",
         "orientation": "v",
         "showlegend": false,
         "textposition": "auto",
         "type": "bar",
         "x": [
          2009,
          2000,
          2008
         ],
         "xaxis": "x4",
         "y": [
          201,
          204,
          385
         ],
         "yaxis": "y4"
        },
        {
         "alignmentgroup": "True",
         "hovertemplate": "Nationality=French<br>Decade=2010<br>DateAcquired=%{x}<br>Count=%{y}<extra></extra>",
         "legendgroup": "French",
         "marker": {
          "color": "#DB7093",
          "pattern": {
           "shape": ""
          }
         },
         "name": "French",
         "offsetgroup": "French",
         "orientation": "v",
         "showlegend": false,
         "textposition": "auto",
         "type": "bar",
         "x": [
          2018
         ],
         "xaxis": "x",
         "y": [
          116
         ],
         "yaxis": "y"
        },
        {
         "alignmentgroup": "True",
         "hovertemplate": "Nationality=Spanish<br>Decade=1940<br>DateAcquired=%{x}<br>Count=%{y}<extra></extra>",
         "legendgroup": "Spanish",
         "marker": {
          "color": "#C71585",
          "pattern": {
           "shape": ""
          }
         },
         "name": "Spanish",
         "offsetgroup": "Spanish",
         "orientation": "v",
         "showlegend": true,
         "textposition": "auto",
         "type": "bar",
         "x": [
          1949
         ],
         "xaxis": "x10",
         "y": [
          144
         ],
         "yaxis": "y10"
        },
        {
         "alignmentgroup": "True",
         "hovertemplate": "Nationality=Spanish<br>Decade=1960<br>DateAcquired=%{x}<br>Count=%{y}<extra></extra>",
         "legendgroup": "Spanish",
         "marker": {
          "color": "#C71585",
          "pattern": {
           "shape": ""
          }
         },
         "name": "Spanish",
         "offsetgroup": "Spanish",
         "orientation": "v",
         "showlegend": false,
         "textposition": "auto",
         "type": "bar",
         "x": [
          1964
         ],
         "xaxis": "x8",
         "y": [
          1191
         ],
         "yaxis": "y8"
        },
        {
         "alignmentgroup": "True",
         "hovertemplate": "Nationality=Spanish<br>Decade=1990<br>DateAcquired=%{x}<br>Count=%{y}<extra></extra>",
         "legendgroup": "Spanish",
         "marker": {
          "color": "#C71585",
          "pattern": {
           "shape": ""
          }
         },
         "name": "Spanish",
         "offsetgroup": "Spanish",
         "orientation": "v",
         "showlegend": false,
         "textposition": "auto",
         "type": "bar",
         "x": [
          1990
         ],
         "xaxis": "x3",
         "y": [
          134
         ],
         "yaxis": "y3"
        },
        {
         "alignmentgroup": "True",
         "hovertemplate": "Nationality=Belgian<br>Decade=1940<br>DateAcquired=%{x}<br>Count=%{y}<extra></extra>",
         "legendgroup": "Belgian",
         "marker": {
          "color": "#E6E6FA",
          "pattern": {
           "shape": ""
          }
         },
         "name": "Belgian",
         "offsetgroup": "Belgian",
         "orientation": "v",
         "showlegend": true,
         "textposition": "auto",
         "type": "bar",
         "x": [
          1949
         ],
         "xaxis": "x10",
         "y": [
          210
         ],
         "yaxis": "y10"
        },
        {
         "alignmentgroup": "True",
         "hovertemplate": "Nationality=Belgian<br>Decade=1960<br>DateAcquired=%{x}<br>Count=%{y}<extra></extra>",
         "legendgroup": "Belgian",
         "marker": {
          "color": "#E6E6FA",
          "pattern": {
           "shape": ""
          }
         },
         "name": "Belgian",
         "offsetgroup": "Belgian",
         "orientation": "v",
         "showlegend": false,
         "textposition": "auto",
         "type": "bar",
         "x": [
          1964
         ],
         "xaxis": "x8",
         "y": [
          133
         ],
         "yaxis": "y8"
        },
        {
         "alignmentgroup": "True",
         "hovertemplate": "Nationality=Belgian<br>Decade=1970<br>DateAcquired=%{x}<br>Count=%{y}<extra></extra>",
         "legendgroup": "Belgian",
         "marker": {
          "color": "#E6E6FA",
          "pattern": {
           "shape": ""
          }
         },
         "name": "Belgian",
         "offsetgroup": "Belgian",
         "orientation": "v",
         "showlegend": false,
         "textposition": "auto",
         "type": "bar",
         "x": [
          1978
         ],
         "xaxis": "x5",
         "y": [
          289
         ],
         "yaxis": "y5"
        },
        {
         "alignmentgroup": "True",
         "hovertemplate": "Nationality=Belgian<br>Decade=2000<br>DateAcquired=%{x}<br>Count=%{y}<extra></extra>",
         "legendgroup": "Belgian",
         "marker": {
          "color": "#E6E6FA",
          "pattern": {
           "shape": ""
          }
         },
         "name": "Belgian",
         "offsetgroup": "Belgian",
         "orientation": "v",
         "showlegend": false,
         "textposition": "auto",
         "type": "bar",
         "x": [
          2007
         ],
         "xaxis": "x4",
         "y": [
          145
         ],
         "yaxis": "y4"
        },
        {
         "alignmentgroup": "True",
         "hovertemplate": "Nationality=German<br>Decade=1940<br>DateAcquired=%{x}<br>Count=%{y}<extra></extra>",
         "legendgroup": "German",
         "marker": {
          "color": "#DDA0DD",
          "pattern": {
           "shape": ""
          }
         },
         "name": "German",
         "offsetgroup": "German",
         "orientation": "v",
         "showlegend": true,
         "textposition": "auto",
         "type": "bar",
         "x": [
          1949
         ],
         "xaxis": "x10",
         "y": [
          172
         ],
         "yaxis": "y10"
        },
        {
         "alignmentgroup": "True",
         "hovertemplate": "Nationality=German<br>Decade=1950<br>DateAcquired=%{x}<br>Count=%{y}<extra></extra>",
         "legendgroup": "German",
         "marker": {
          "color": "#DDA0DD",
          "pattern": {
           "shape": ""
          }
         },
         "name": "German",
         "offsetgroup": "German",
         "orientation": "v",
         "showlegend": false,
         "textposition": "auto",
         "type": "bar",
         "x": [
          1956,
          1954,
          1953,
          1952,
          1951
         ],
         "xaxis": "x7",
         "y": [
          273,
          128,
          109,
          140,
          104
         ],
         "yaxis": "y7"
        },
        {
         "alignmentgroup": "True",
         "hovertemplate": "Nationality=German<br>Decade=1960<br>DateAcquired=%{x}<br>Count=%{y}<extra></extra>",
         "legendgroup": "German",
         "marker": {
          "color": "#DDA0DD",
          "pattern": {
           "shape": ""
          }
         },
         "name": "German",
         "offsetgroup": "German",
         "orientation": "v",
         "showlegend": false,
         "textposition": "auto",
         "type": "bar",
         "x": [
          1967,
          1961,
          1964
         ],
         "xaxis": "x8",
         "y": [
          134,
          108,
          230
         ],
         "yaxis": "y8"
        },
        {
         "alignmentgroup": "True",
         "hovertemplate": "Nationality=German<br>Decade=1980<br>DateAcquired=%{x}<br>Count=%{y}<extra></extra>",
         "legendgroup": "German",
         "marker": {
          "color": "#DDA0DD",
          "pattern": {
           "shape": ""
          }
         },
         "name": "German",
         "offsetgroup": "German",
         "orientation": "v",
         "showlegend": false,
         "textposition": "auto",
         "type": "bar",
         "x": [
          1985
         ],
         "xaxis": "x6",
         "y": [
          130
         ],
         "yaxis": "y6"
        },
        {
         "alignmentgroup": "True",
         "hovertemplate": "Nationality=German<br>Decade=1990<br>DateAcquired=%{x}<br>Count=%{y}<extra></extra>",
         "legendgroup": "German",
         "marker": {
          "color": "#DDA0DD",
          "pattern": {
           "shape": ""
          }
         },
         "name": "German",
         "offsetgroup": "German",
         "orientation": "v",
         "showlegend": false,
         "textposition": "auto",
         "type": "bar",
         "x": [
          1999,
          1998,
          1990
         ],
         "xaxis": "x3",
         "y": [
          339,
          267,
          135
         ],
         "yaxis": "y3"
        },
        {
         "alignmentgroup": "True",
         "hovertemplate": "Nationality=German<br>Decade=2000<br>DateAcquired=%{x}<br>Count=%{y}<extra></extra>",
         "legendgroup": "German",
         "marker": {
          "color": "#DDA0DD",
          "pattern": {
           "shape": ""
          }
         },
         "name": "German",
         "offsetgroup": "German",
         "orientation": "v",
         "showlegend": false,
         "textposition": "auto",
         "type": "bar",
         "x": [
          2005,
          2008,
          2001
         ],
         "xaxis": "x4",
         "y": [
          469,
          180,
          210
         ],
         "yaxis": "y4"
        },
        {
         "alignmentgroup": "True",
         "hovertemplate": "Nationality=German<br>Decade=2010<br>DateAcquired=%{x}<br>Count=%{y}<extra></extra>",
         "legendgroup": "German",
         "marker": {
          "color": "#DDA0DD",
          "pattern": {
           "shape": ""
          }
         },
         "name": "German",
         "offsetgroup": "German",
         "orientation": "v",
         "showlegend": false,
         "textposition": "auto",
         "type": "bar",
         "x": [
          2018,
          2015,
          2011,
          2010,
          2016
         ],
         "xaxis": "x",
         "y": [
          113,
          1104,
          401,
          151,
          139
         ],
         "yaxis": "y"
        },
        {
         "alignmentgroup": "True",
         "hovertemplate": "Nationality=Italian<br>Decade=1940<br>DateAcquired=%{x}<br>Count=%{y}<extra></extra>",
         "legendgroup": "Italian",
         "marker": {
          "color": "#EE82EE",
          "pattern": {
           "shape": ""
          }
         },
         "name": "Italian",
         "offsetgroup": "Italian",
         "orientation": "v",
         "showlegend": true,
         "textposition": "auto",
         "type": "bar",
         "x": [
          1949
         ],
         "xaxis": "x10",
         "y": [
          100
         ],
         "yaxis": "y10"
        },
        {
         "alignmentgroup": "True",
         "hovertemplate": "Nationality=Italian<br>Decade=1960<br>DateAcquired=%{x}<br>Count=%{y}<extra></extra>",
         "legendgroup": "Italian",
         "marker": {
          "color": "#EE82EE",
          "pattern": {
           "shape": ""
          }
         },
         "name": "Italian",
         "offsetgroup": "Italian",
         "orientation": "v",
         "showlegend": false,
         "textposition": "auto",
         "type": "bar",
         "x": [
          1964
         ],
         "xaxis": "x8",
         "y": [
          146
         ],
         "yaxis": "y8"
        },
        {
         "alignmentgroup": "True",
         "hovertemplate": "Nationality=Italian<br>Decade=1970<br>DateAcquired=%{x}<br>Count=%{y}<extra></extra>",
         "legendgroup": "Italian",
         "marker": {
          "color": "#EE82EE",
          "pattern": {
           "shape": ""
          }
         },
         "name": "Italian",
         "offsetgroup": "Italian",
         "orientation": "v",
         "showlegend": false,
         "textposition": "auto",
         "type": "bar",
         "x": [
          1974
         ],
         "xaxis": "x5",
         "y": [
          112
         ],
         "yaxis": "y5"
        },
        {
         "alignmentgroup": "True",
         "hovertemplate": "Nationality=Italian<br>Decade=2010<br>DateAcquired=%{x}<br>Count=%{y}<extra></extra>",
         "legendgroup": "Italian",
         "marker": {
          "color": "#EE82EE",
          "pattern": {
           "shape": ""
          }
         },
         "name": "Italian",
         "offsetgroup": "Italian",
         "orientation": "v",
         "showlegend": false,
         "textposition": "auto",
         "type": "bar",
         "x": [
          2016,
          2015,
          2013,
          2012,
          2010
         ],
         "xaxis": "x",
         "y": [
          123,
          100,
          156,
          192,
          133
         ],
         "yaxis": "y"
        },
        {
         "alignmentgroup": "True",
         "hovertemplate": "Nationality=Mexican<br>Decade=1940<br>DateAcquired=%{x}<br>Count=%{y}<extra></extra>",
         "legendgroup": "Mexican",
         "marker": {
          "color": "#9932CC",
          "pattern": {
           "shape": ""
          }
         },
         "name": "Mexican",
         "offsetgroup": "Mexican",
         "orientation": "v",
         "showlegend": true,
         "textposition": "auto",
         "type": "bar",
         "x": [
          1942
         ],
         "xaxis": "x10",
         "y": [
          103
         ],
         "yaxis": "y10"
        },
        {
         "alignmentgroup": "True",
         "hovertemplate": "Nationality=Mexican<br>Decade=1960<br>DateAcquired=%{x}<br>Count=%{y}<extra></extra>",
         "legendgroup": "Mexican",
         "marker": {
          "color": "#9932CC",
          "pattern": {
           "shape": ""
          }
         },
         "name": "Mexican",
         "offsetgroup": "Mexican",
         "orientation": "v",
         "showlegend": false,
         "textposition": "auto",
         "type": "bar",
         "x": [
          1965
         ],
         "xaxis": "x8",
         "y": [
          113
         ],
         "yaxis": "y8"
        },
        {
         "alignmentgroup": "True",
         "hovertemplate": "Nationality=missing<br>Decade=1940<br>DateAcquired=%{x}<br>Count=%{y}<extra></extra>",
         "legendgroup": "missing",
         "marker": {
          "color": "#8B008B",
          "pattern": {
           "shape": ""
          }
         },
         "name": "missing",
         "offsetgroup": "missing",
         "orientation": "v",
         "showlegend": true,
         "textposition": "auto",
         "type": "bar",
         "x": [
          1943
         ],
         "xaxis": "x10",
         "y": [
          383
         ],
         "yaxis": "y10"
        },
        {
         "alignmentgroup": "True",
         "hovertemplate": "Nationality=missing<br>Decade=1970<br>DateAcquired=%{x}<br>Count=%{y}<extra></extra>",
         "legendgroup": "missing",
         "marker": {
          "color": "#8B008B",
          "pattern": {
           "shape": ""
          }
         },
         "name": "missing",
         "offsetgroup": "missing",
         "orientation": "v",
         "showlegend": false,
         "textposition": "auto",
         "type": "bar",
         "x": [
          1971
         ],
         "xaxis": "x5",
         "y": [
          256
         ],
         "yaxis": "y5"
        },
        {
         "alignmentgroup": "True",
         "hovertemplate": "Nationality=missing<br>Decade=1980<br>DateAcquired=%{x}<br>Count=%{y}<extra></extra>",
         "legendgroup": "missing",
         "marker": {
          "color": "#8B008B",
          "pattern": {
           "shape": ""
          }
         },
         "name": "missing",
         "offsetgroup": "missing",
         "orientation": "v",
         "showlegend": false,
         "textposition": "auto",
         "type": "bar",
         "x": [
          1989
         ],
         "xaxis": "x6",
         "y": [
          175
         ],
         "yaxis": "y6"
        },
        {
         "alignmentgroup": "True",
         "hovertemplate": "Nationality=missing<br>Decade=2000<br>DateAcquired=%{x}<br>Count=%{y}<extra></extra>",
         "legendgroup": "missing",
         "marker": {
          "color": "#8B008B",
          "pattern": {
           "shape": ""
          }
         },
         "name": "missing",
         "offsetgroup": "missing",
         "orientation": "v",
         "showlegend": false,
         "textposition": "auto",
         "type": "bar",
         "x": [
          2007,
          2001,
          2005,
          2008
         ],
         "xaxis": "x4",
         "y": [
          166,
          794,
          156,
          906
         ],
         "yaxis": "y4"
        },
        {
         "alignmentgroup": "True",
         "hovertemplate": "Nationality=missing<br>Decade=2010<br>DateAcquired=%{x}<br>Count=%{y}<extra></extra>",
         "legendgroup": "missing",
         "marker": {
          "color": "#8B008B",
          "pattern": {
           "shape": ""
          }
         },
         "name": "missing",
         "offsetgroup": "missing",
         "orientation": "v",
         "showlegend": false,
         "textposition": "auto",
         "type": "bar",
         "x": [
          2017,
          2013,
          2010,
          2019
         ],
         "xaxis": "x",
         "y": [
          597,
          172,
          619,
          216
         ],
         "yaxis": "y"
        },
        {
         "alignmentgroup": "True",
         "hovertemplate": "Nationality=Nationality unknown<br>Decade=1940<br>DateAcquired=%{x}<br>Count=%{y}<extra></extra>",
         "legendgroup": "Nationality unknown",
         "marker": {
          "color": "#9370DB",
          "pattern": {
           "shape": ""
          }
         },
         "name": "Nationality unknown",
         "offsetgroup": "Nationality unknown",
         "orientation": "v",
         "showlegend": true,
         "textposition": "auto",
         "type": "bar",
         "x": [
          1943
         ],
         "xaxis": "x10",
         "y": [
          263
         ],
         "yaxis": "y10"
        },
        {
         "alignmentgroup": "True",
         "hovertemplate": "Nationality=Nationality unknown<br>Decade=1990<br>DateAcquired=%{x}<br>Count=%{y}<extra></extra>",
         "legendgroup": "Nationality unknown",
         "marker": {
          "color": "#9370DB",
          "pattern": {
           "shape": ""
          }
         },
         "name": "Nationality unknown",
         "offsetgroup": "Nationality unknown",
         "orientation": "v",
         "showlegend": false,
         "textposition": "auto",
         "type": "bar",
         "x": [
          1999
         ],
         "xaxis": "x3",
         "y": [
          139
         ],
         "yaxis": "y3"
        },
        {
         "alignmentgroup": "True",
         "hovertemplate": "Nationality=Nationality unknown<br>Decade=2000<br>DateAcquired=%{x}<br>Count=%{y}<extra></extra>",
         "legendgroup": "Nationality unknown",
         "marker": {
          "color": "#9370DB",
          "pattern": {
           "shape": ""
          }
         },
         "name": "Nationality unknown",
         "offsetgroup": "Nationality unknown",
         "orientation": "v",
         "showlegend": false,
         "textposition": "auto",
         "type": "bar",
         "x": [
          2001
         ],
         "xaxis": "x4",
         "y": [
          159
         ],
         "yaxis": "y4"
        },
        {
         "alignmentgroup": "True",
         "hovertemplate": "Nationality=Japanese<br>Decade=1950<br>DateAcquired=%{x}<br>Count=%{y}<extra></extra>",
         "legendgroup": "Japanese",
         "marker": {
          "color": "#483D8B",
          "pattern": {
           "shape": ""
          }
         },
         "name": "Japanese",
         "offsetgroup": "Japanese",
         "orientation": "v",
         "showlegend": true,
         "textposition": "auto",
         "type": "bar",
         "x": [
          1959
         ],
         "xaxis": "x7",
         "y": [
          125
         ],
         "yaxis": "y7"
        },
        {
         "alignmentgroup": "True",
         "hovertemplate": "Nationality=Japanese<br>Decade=2000<br>DateAcquired=%{x}<br>Count=%{y}<extra></extra>",
         "legendgroup": "Japanese",
         "marker": {
          "color": "#483D8B",
          "pattern": {
           "shape": ""
          }
         },
         "name": "Japanese",
         "offsetgroup": "Japanese",
         "orientation": "v",
         "showlegend": false,
         "textposition": "auto",
         "type": "bar",
         "x": [
          2007,
          2005,
          2002,
          2008
         ],
         "xaxis": "x4",
         "y": [
          188,
          104,
          146,
          221
         ],
         "yaxis": "y4"
        },
        {
         "alignmentgroup": "True",
         "hovertemplate": "Nationality=Russian<br>Decade=1960<br>DateAcquired=%{x}<br>Count=%{y}<extra></extra>",
         "legendgroup": "Russian",
         "marker": {
          "color": "#4B0082",
          "pattern": {
           "shape": ""
          }
         },
         "name": "Russian",
         "offsetgroup": "Russian",
         "orientation": "v",
         "showlegend": true,
         "textposition": "auto",
         "type": "bar",
         "x": [
          1962
         ],
         "xaxis": "x8",
         "y": [
          126
         ],
         "yaxis": "y8"
        },
        {
         "alignmentgroup": "True",
         "hovertemplate": "Nationality=Russian<br>Decade=1970<br>DateAcquired=%{x}<br>Count=%{y}<extra></extra>",
         "legendgroup": "Russian",
         "marker": {
          "color": "#4B0082",
          "pattern": {
           "shape": ""
          }
         },
         "name": "Russian",
         "offsetgroup": "Russian",
         "orientation": "v",
         "showlegend": false,
         "textposition": "auto",
         "type": "bar",
         "x": [
          1977
         ],
         "xaxis": "x5",
         "y": [
          115
         ],
         "yaxis": "y5"
        },
        {
         "alignmentgroup": "True",
         "hovertemplate": "Nationality=Russian<br>Decade=2000<br>DateAcquired=%{x}<br>Count=%{y}<extra></extra>",
         "legendgroup": "Russian",
         "marker": {
          "color": "#4B0082",
          "pattern": {
           "shape": ""
          }
         },
         "name": "Russian",
         "offsetgroup": "Russian",
         "orientation": "v",
         "showlegend": false,
         "textposition": "auto",
         "type": "bar",
         "x": [
          2001
         ],
         "xaxis": "x4",
         "y": [
          1070
         ],
         "yaxis": "y4"
        },
        {
         "alignmentgroup": "True",
         "hovertemplate": "Nationality=Russian<br>Decade=2010<br>DateAcquired=%{x}<br>Count=%{y}<extra></extra>",
         "legendgroup": "Russian",
         "marker": {
          "color": "#4B0082",
          "pattern": {
           "shape": ""
          }
         },
         "name": "Russian",
         "offsetgroup": "Russian",
         "orientation": "v",
         "showlegend": false,
         "textposition": "auto",
         "type": "bar",
         "x": [
          2018
         ],
         "xaxis": "x",
         "y": [
          110
         ],
         "yaxis": "y"
        },
        {
         "alignmentgroup": "True",
         "hovertemplate": "Nationality=Czech<br>Decade=1960<br>DateAcquired=%{x}<br>Count=%{y}<extra></extra>",
         "legendgroup": "Czech",
         "marker": {
          "color": "#FA8072",
          "pattern": {
           "shape": ""
          }
         },
         "name": "Czech",
         "offsetgroup": "Czech",
         "orientation": "v",
         "showlegend": true,
         "textposition": "auto",
         "type": "bar",
         "x": [
          1966
         ],
         "xaxis": "x8",
         "y": [
          120
         ],
         "yaxis": "y8"
        },
        {
         "alignmentgroup": "True",
         "hovertemplate": "Nationality=Czech<br>Decade=1990<br>DateAcquired=%{x}<br>Count=%{y}<extra></extra>",
         "legendgroup": "Czech",
         "marker": {
          "color": "#FA8072",
          "pattern": {
           "shape": ""
          }
         },
         "name": "Czech",
         "offsetgroup": "Czech",
         "orientation": "v",
         "showlegend": false,
         "textposition": "auto",
         "type": "bar",
         "x": [
          1999
         ],
         "xaxis": "x3",
         "y": [
          119
         ],
         "yaxis": "y3"
        },
        {
         "alignmentgroup": "True",
         "hovertemplate": "Nationality=Czech<br>Decade=2000<br>DateAcquired=%{x}<br>Count=%{y}<extra></extra>",
         "legendgroup": "Czech",
         "marker": {
          "color": "#FA8072",
          "pattern": {
           "shape": ""
          }
         },
         "name": "Czech",
         "offsetgroup": "Czech",
         "orientation": "v",
         "showlegend": false,
         "textposition": "auto",
         "type": "bar",
         "x": [
          2008
         ],
         "xaxis": "x4",
         "y": [
          169
         ],
         "yaxis": "y4"
        },
        {
         "alignmentgroup": "True",
         "hovertemplate": "Nationality=British<br>Decade=1960<br>DateAcquired=%{x}<br>Count=%{y}<extra></extra>",
         "legendgroup": "British",
         "marker": {
          "color": "#DC143C",
          "pattern": {
           "shape": ""
          }
         },
         "name": "British",
         "offsetgroup": "British",
         "orientation": "v",
         "showlegend": true,
         "textposition": "auto",
         "type": "bar",
         "x": [
          1967,
          1964
         ],
         "xaxis": "x8",
         "y": [
          224,
          683
         ],
         "yaxis": "y8"
        },
        {
         "alignmentgroup": "True",
         "hovertemplate": "Nationality=British<br>Decade=1970<br>DateAcquired=%{x}<br>Count=%{y}<extra></extra>",
         "legendgroup": "British",
         "marker": {
          "color": "#DC143C",
          "pattern": {
           "shape": ""
          }
         },
         "name": "British",
         "offsetgroup": "British",
         "orientation": "v",
         "showlegend": false,
         "textposition": "auto",
         "type": "bar",
         "x": [
          1976,
          1974,
          1972,
          1971,
          1970
         ],
         "xaxis": "x5",
         "y": [
          104,
          133,
          110,
          111,
          135
         ],
         "yaxis": "y5"
        },
        {
         "alignmentgroup": "True",
         "hovertemplate": "Nationality=British<br>Decade=1980<br>DateAcquired=%{x}<br>Count=%{y}<extra></extra>",
         "legendgroup": "British",
         "marker": {
          "color": "#DC143C",
          "pattern": {
           "shape": ""
          }
         },
         "name": "British",
         "offsetgroup": "British",
         "orientation": "v",
         "showlegend": false,
         "textposition": "auto",
         "type": "bar",
         "x": [
          1983,
          1981
         ],
         "xaxis": "x6",
         "y": [
          196,
          258
         ],
         "yaxis": "y6"
        },
        {
         "alignmentgroup": "True",
         "hovertemplate": "Nationality=British<br>Decade=2000<br>DateAcquired=%{x}<br>Count=%{y}<extra></extra>",
         "legendgroup": "British",
         "marker": {
          "color": "#DC143C",
          "pattern": {
           "shape": ""
          }
         },
         "name": "British",
         "offsetgroup": "British",
         "orientation": "v",
         "showlegend": false,
         "textposition": "auto",
         "type": "bar",
         "x": [
          2005,
          2006
         ],
         "xaxis": "x4",
         "y": [
          169,
          126
         ],
         "yaxis": "y4"
        },
        {
         "alignmentgroup": "True",
         "hovertemplate": "Nationality=British<br>Decade=2010<br>DateAcquired=%{x}<br>Count=%{y}<extra></extra>",
         "legendgroup": "British",
         "marker": {
          "color": "#DC143C",
          "pattern": {
           "shape": ""
          }
         },
         "name": "British",
         "offsetgroup": "British",
         "orientation": "v",
         "showlegend": false,
         "textposition": "auto",
         "type": "bar",
         "x": [
          2014,
          2011
         ],
         "xaxis": "x",
         "y": [
          188,
          131
         ],
         "yaxis": "y"
        },
        {
         "alignmentgroup": "True",
         "hovertemplate": "Nationality=Canadian<br>Decade=1990<br>DateAcquired=%{x}<br>Count=%{y}<extra></extra>",
         "legendgroup": "Canadian",
         "marker": {
          "color": "#8B0000",
          "pattern": {
           "shape": ""
          }
         },
         "name": "Canadian",
         "offsetgroup": "Canadian",
         "orientation": "v",
         "showlegend": true,
         "textposition": "auto",
         "type": "bar",
         "x": [
          1999
         ],
         "xaxis": "x3",
         "y": [
          103
         ],
         "yaxis": "y3"
        },
        {
         "alignmentgroup": "True",
         "hovertemplate": "Nationality=Colombian<br>Decade=2000<br>DateAcquired=%{x}<br>Count=%{y}<extra></extra>",
         "legendgroup": "Colombian",
         "marker": {
          "color": "#FF8C00",
          "pattern": {
           "shape": ""
          }
         },
         "name": "Colombian",
         "offsetgroup": "Colombian",
         "orientation": "v",
         "showlegend": true,
         "textposition": "auto",
         "type": "bar",
         "x": [
          2009
         ],
         "xaxis": "x4",
         "y": [
          257
         ],
         "yaxis": "y4"
        },
        {
         "alignmentgroup": "True",
         "hovertemplate": "Nationality=Colombian<br>Decade=2010<br>DateAcquired=%{x}<br>Count=%{y}<extra></extra>",
         "legendgroup": "Colombian",
         "marker": {
          "color": "#FF8C00",
          "pattern": {
           "shape": ""
          }
         },
         "name": "Colombian",
         "offsetgroup": "Colombian",
         "orientation": "v",
         "showlegend": false,
         "textposition": "auto",
         "type": "bar",
         "x": [
          2010
         ],
         "xaxis": "x",
         "y": [
          124
         ],
         "yaxis": "y"
        },
        {
         "alignmentgroup": "True",
         "hovertemplate": "Nationality=Dutch<br>Decade=2000<br>DateAcquired=%{x}<br>Count=%{y}<extra></extra>",
         "legendgroup": "Dutch",
         "marker": {
          "color": "#FF4500",
          "pattern": {
           "shape": ""
          }
         },
         "name": "Dutch",
         "offsetgroup": "Dutch",
         "orientation": "v",
         "showlegend": true,
         "textposition": "auto",
         "type": "bar",
         "x": [
          2007
         ],
         "xaxis": "x4",
         "y": [
          153
         ],
         "yaxis": "y4"
        },
        {
         "alignmentgroup": "True",
         "hovertemplate": "Nationality=Dutch<br>Decade=2010<br>DateAcquired=%{x}<br>Count=%{y}<extra></extra>",
         "legendgroup": "Dutch",
         "marker": {
          "color": "#FF4500",
          "pattern": {
           "shape": ""
          }
         },
         "name": "Dutch",
         "offsetgroup": "Dutch",
         "orientation": "v",
         "showlegend": false,
         "textposition": "auto",
         "type": "bar",
         "x": [
          2015,
          2014
         ],
         "xaxis": "x",
         "y": [
          111,
          417
         ],
         "yaxis": "y"
        },
        {
         "alignmentgroup": "True",
         "hovertemplate": "Nationality=Argentine<br>Decade=2000<br>DateAcquired=%{x}<br>Count=%{y}<extra></extra>",
         "legendgroup": "Argentine",
         "marker": {
          "color": "#FFD700",
          "pattern": {
           "shape": ""
          }
         },
         "name": "Argentine",
         "offsetgroup": "Argentine",
         "orientation": "v",
         "showlegend": true,
         "textposition": "auto",
         "type": "bar",
         "x": [
          2007
         ],
         "xaxis": "x4",
         "y": [
          214
         ],
         "yaxis": "y4"
        },
        {
         "alignmentgroup": "True",
         "hovertemplate": "Nationality=Swiss<br>Decade=2000<br>DateAcquired=%{x}<br>Count=%{y}<extra></extra>",
         "legendgroup": "Swiss",
         "marker": {
          "color": "#FFFF00",
          "pattern": {
           "shape": ""
          }
         },
         "name": "Swiss",
         "offsetgroup": "Swiss",
         "orientation": "v",
         "showlegend": true,
         "textposition": "auto",
         "type": "bar",
         "x": [
          2007
         ],
         "xaxis": "x4",
         "y": [
          222
         ],
         "yaxis": "y4"
        },
        {
         "alignmentgroup": "True",
         "hovertemplate": "Nationality=Swiss<br>Decade=2010<br>DateAcquired=%{x}<br>Count=%{y}<extra></extra>",
         "legendgroup": "Swiss",
         "marker": {
          "color": "#FFFF00",
          "pattern": {
           "shape": ""
          }
         },
         "name": "Swiss",
         "offsetgroup": "Swiss",
         "orientation": "v",
         "showlegend": false,
         "textposition": "auto",
         "type": "bar",
         "x": [
          2018,
          2012
         ],
         "xaxis": "x",
         "y": [
          113,
          208
         ],
         "yaxis": "y"
        },
        {
         "alignmentgroup": "True",
         "hovertemplate": "Nationality=Brazilian<br>Decade=2010<br>DateAcquired=%{x}<br>Count=%{y}<extra></extra>",
         "legendgroup": "Brazilian",
         "marker": {
          "color": "#F0E68C",
          "pattern": {
           "shape": ""
          }
         },
         "name": "Brazilian",
         "offsetgroup": "Brazilian",
         "orientation": "v",
         "showlegend": true,
         "textposition": "auto",
         "type": "bar",
         "x": [
          2016
         ],
         "xaxis": "x",
         "y": [
          112
         ],
         "yaxis": "y"
        },
        {
         "alignmentgroup": "True",
         "hovertemplate": "Nationality=Portuguese<br>Decade=2010<br>DateAcquired=%{x}<br>Count=%{y}<extra></extra>",
         "legendgroup": "Portuguese",
         "marker": {
          "color": "#7FFF00",
          "pattern": {
           "shape": ""
          }
         },
         "name": "Portuguese",
         "offsetgroup": "Portuguese",
         "orientation": "v",
         "showlegend": true,
         "textposition": "auto",
         "type": "bar",
         "x": [
          2012
         ],
         "xaxis": "x",
         "y": [
          124
         ],
         "yaxis": "y"
        }
       ],
       "layout": {
        "annotations": [
         {
          "font": {},
          "showarrow": false,
          "text": "Decade=2010",
          "x": 0.235,
          "xanchor": "center",
          "xref": "paper",
          "y": 0.144,
          "yanchor": "bottom",
          "yref": "paper"
         },
         {
          "font": {},
          "showarrow": false,
          "text": "Decade=1990",
          "x": 0.235,
          "xanchor": "center",
          "xref": "paper",
          "y": 0.358,
          "yanchor": "bottom",
          "yref": "paper"
         },
         {
          "font": {},
          "showarrow": false,
          "text": "Decade=2000",
          "x": 0.765,
          "xanchor": "center",
          "xref": "paper",
          "y": 0.358,
          "yanchor": "bottom",
          "yref": "paper"
         },
         {
          "font": {},
          "showarrow": false,
          "text": "Decade=1970",
          "x": 0.235,
          "xanchor": "center",
          "xref": "paper",
          "y": 0.572,
          "yanchor": "bottom",
          "yref": "paper"
         },
         {
          "font": {},
          "showarrow": false,
          "text": "Decade=1980",
          "x": 0.765,
          "xanchor": "center",
          "xref": "paper",
          "y": 0.572,
          "yanchor": "bottom",
          "yref": "paper"
         },
         {
          "font": {},
          "showarrow": false,
          "text": "Decade=1950",
          "x": 0.235,
          "xanchor": "center",
          "xref": "paper",
          "y": 0.7859999999999999,
          "yanchor": "bottom",
          "yref": "paper"
         },
         {
          "font": {},
          "showarrow": false,
          "text": "Decade=1960",
          "x": 0.765,
          "xanchor": "center",
          "xref": "paper",
          "y": 0.7859999999999999,
          "yanchor": "bottom",
          "yref": "paper"
         },
         {
          "font": {},
          "showarrow": false,
          "text": "Decade=1930",
          "x": 0.235,
          "xanchor": "center",
          "xref": "paper",
          "y": 1,
          "yanchor": "bottom",
          "yref": "paper"
         },
         {
          "font": {},
          "showarrow": false,
          "text": "Decade=1940",
          "x": 0.765,
          "xanchor": "center",
          "xref": "paper",
          "y": 1,
          "yanchor": "bottom",
          "yref": "paper"
         }
        ],
        "barmode": "relative",
        "height": 1800,
        "legend": {
         "title": {
          "text": "Nationality"
         },
         "tracegroupgap": 0
        },
        "template": {
         "data": {
          "bar": [
           {
            "error_x": {
             "color": "#2a3f5f"
            },
            "error_y": {
             "color": "#2a3f5f"
            },
            "marker": {
             "line": {
              "color": "#E5ECF6",
              "width": 0.5
             },
             "pattern": {
              "fillmode": "overlay",
              "size": 10,
              "solidity": 0.2
             }
            },
            "type": "bar"
           }
          ],
          "barpolar": [
           {
            "marker": {
             "line": {
              "color": "#E5ECF6",
              "width": 0.5
             },
             "pattern": {
              "fillmode": "overlay",
              "size": 10,
              "solidity": 0.2
             }
            },
            "type": "barpolar"
           }
          ],
          "carpet": [
           {
            "aaxis": {
             "endlinecolor": "#2a3f5f",
             "gridcolor": "white",
             "linecolor": "white",
             "minorgridcolor": "white",
             "startlinecolor": "#2a3f5f"
            },
            "baxis": {
             "endlinecolor": "#2a3f5f",
             "gridcolor": "white",
             "linecolor": "white",
             "minorgridcolor": "white",
             "startlinecolor": "#2a3f5f"
            },
            "type": "carpet"
           }
          ],
          "choropleth": [
           {
            "colorbar": {
             "outlinewidth": 0,
             "ticks": ""
            },
            "type": "choropleth"
           }
          ],
          "contour": [
           {
            "colorbar": {
             "outlinewidth": 0,
             "ticks": ""
            },
            "colorscale": [
             [
              0,
              "#0d0887"
             ],
             [
              0.1111111111111111,
              "#46039f"
             ],
             [
              0.2222222222222222,
              "#7201a8"
             ],
             [
              0.3333333333333333,
              "#9c179e"
             ],
             [
              0.4444444444444444,
              "#bd3786"
             ],
             [
              0.5555555555555556,
              "#d8576b"
             ],
             [
              0.6666666666666666,
              "#ed7953"
             ],
             [
              0.7777777777777778,
              "#fb9f3a"
             ],
             [
              0.8888888888888888,
              "#fdca26"
             ],
             [
              1,
              "#f0f921"
             ]
            ],
            "type": "contour"
           }
          ],
          "contourcarpet": [
           {
            "colorbar": {
             "outlinewidth": 0,
             "ticks": ""
            },
            "type": "contourcarpet"
           }
          ],
          "heatmap": [
           {
            "colorbar": {
             "outlinewidth": 0,
             "ticks": ""
            },
            "colorscale": [
             [
              0,
              "#0d0887"
             ],
             [
              0.1111111111111111,
              "#46039f"
             ],
             [
              0.2222222222222222,
              "#7201a8"
             ],
             [
              0.3333333333333333,
              "#9c179e"
             ],
             [
              0.4444444444444444,
              "#bd3786"
             ],
             [
              0.5555555555555556,
              "#d8576b"
             ],
             [
              0.6666666666666666,
              "#ed7953"
             ],
             [
              0.7777777777777778,
              "#fb9f3a"
             ],
             [
              0.8888888888888888,
              "#fdca26"
             ],
             [
              1,
              "#f0f921"
             ]
            ],
            "type": "heatmap"
           }
          ],
          "heatmapgl": [
           {
            "colorbar": {
             "outlinewidth": 0,
             "ticks": ""
            },
            "colorscale": [
             [
              0,
              "#0d0887"
             ],
             [
              0.1111111111111111,
              "#46039f"
             ],
             [
              0.2222222222222222,
              "#7201a8"
             ],
             [
              0.3333333333333333,
              "#9c179e"
             ],
             [
              0.4444444444444444,
              "#bd3786"
             ],
             [
              0.5555555555555556,
              "#d8576b"
             ],
             [
              0.6666666666666666,
              "#ed7953"
             ],
             [
              0.7777777777777778,
              "#fb9f3a"
             ],
             [
              0.8888888888888888,
              "#fdca26"
             ],
             [
              1,
              "#f0f921"
             ]
            ],
            "type": "heatmapgl"
           }
          ],
          "histogram": [
           {
            "marker": {
             "pattern": {
              "fillmode": "overlay",
              "size": 10,
              "solidity": 0.2
             }
            },
            "type": "histogram"
           }
          ],
          "histogram2d": [
           {
            "colorbar": {
             "outlinewidth": 0,
             "ticks": ""
            },
            "colorscale": [
             [
              0,
              "#0d0887"
             ],
             [
              0.1111111111111111,
              "#46039f"
             ],
             [
              0.2222222222222222,
              "#7201a8"
             ],
             [
              0.3333333333333333,
              "#9c179e"
             ],
             [
              0.4444444444444444,
              "#bd3786"
             ],
             [
              0.5555555555555556,
              "#d8576b"
             ],
             [
              0.6666666666666666,
              "#ed7953"
             ],
             [
              0.7777777777777778,
              "#fb9f3a"
             ],
             [
              0.8888888888888888,
              "#fdca26"
             ],
             [
              1,
              "#f0f921"
             ]
            ],
            "type": "histogram2d"
           }
          ],
          "histogram2dcontour": [
           {
            "colorbar": {
             "outlinewidth": 0,
             "ticks": ""
            },
            "colorscale": [
             [
              0,
              "#0d0887"
             ],
             [
              0.1111111111111111,
              "#46039f"
             ],
             [
              0.2222222222222222,
              "#7201a8"
             ],
             [
              0.3333333333333333,
              "#9c179e"
             ],
             [
              0.4444444444444444,
              "#bd3786"
             ],
             [
              0.5555555555555556,
              "#d8576b"
             ],
             [
              0.6666666666666666,
              "#ed7953"
             ],
             [
              0.7777777777777778,
              "#fb9f3a"
             ],
             [
              0.8888888888888888,
              "#fdca26"
             ],
             [
              1,
              "#f0f921"
             ]
            ],
            "type": "histogram2dcontour"
           }
          ],
          "mesh3d": [
           {
            "colorbar": {
             "outlinewidth": 0,
             "ticks": ""
            },
            "type": "mesh3d"
           }
          ],
          "parcoords": [
           {
            "line": {
             "colorbar": {
              "outlinewidth": 0,
              "ticks": ""
             }
            },
            "type": "parcoords"
           }
          ],
          "pie": [
           {
            "automargin": true,
            "type": "pie"
           }
          ],
          "scatter": [
           {
            "fillpattern": {
             "fillmode": "overlay",
             "size": 10,
             "solidity": 0.2
            },
            "type": "scatter"
           }
          ],
          "scatter3d": [
           {
            "line": {
             "colorbar": {
              "outlinewidth": 0,
              "ticks": ""
             }
            },
            "marker": {
             "colorbar": {
              "outlinewidth": 0,
              "ticks": ""
             }
            },
            "type": "scatter3d"
           }
          ],
          "scattercarpet": [
           {
            "marker": {
             "colorbar": {
              "outlinewidth": 0,
              "ticks": ""
             }
            },
            "type": "scattercarpet"
           }
          ],
          "scattergeo": [
           {
            "marker": {
             "colorbar": {
              "outlinewidth": 0,
              "ticks": ""
             }
            },
            "type": "scattergeo"
           }
          ],
          "scattergl": [
           {
            "marker": {
             "colorbar": {
              "outlinewidth": 0,
              "ticks": ""
             }
            },
            "type": "scattergl"
           }
          ],
          "scattermapbox": [
           {
            "marker": {
             "colorbar": {
              "outlinewidth": 0,
              "ticks": ""
             }
            },
            "type": "scattermapbox"
           }
          ],
          "scatterpolar": [
           {
            "marker": {
             "colorbar": {
              "outlinewidth": 0,
              "ticks": ""
             }
            },
            "type": "scatterpolar"
           }
          ],
          "scatterpolargl": [
           {
            "marker": {
             "colorbar": {
              "outlinewidth": 0,
              "ticks": ""
             }
            },
            "type": "scatterpolargl"
           }
          ],
          "scatterternary": [
           {
            "marker": {
             "colorbar": {
              "outlinewidth": 0,
              "ticks": ""
             }
            },
            "type": "scatterternary"
           }
          ],
          "surface": [
           {
            "colorbar": {
             "outlinewidth": 0,
             "ticks": ""
            },
            "colorscale": [
             [
              0,
              "#0d0887"
             ],
             [
              0.1111111111111111,
              "#46039f"
             ],
             [
              0.2222222222222222,
              "#7201a8"
             ],
             [
              0.3333333333333333,
              "#9c179e"
             ],
             [
              0.4444444444444444,
              "#bd3786"
             ],
             [
              0.5555555555555556,
              "#d8576b"
             ],
             [
              0.6666666666666666,
              "#ed7953"
             ],
             [
              0.7777777777777778,
              "#fb9f3a"
             ],
             [
              0.8888888888888888,
              "#fdca26"
             ],
             [
              1,
              "#f0f921"
             ]
            ],
            "type": "surface"
           }
          ],
          "table": [
           {
            "cells": {
             "fill": {
              "color": "#EBF0F8"
             },
             "line": {
              "color": "white"
             }
            },
            "header": {
             "fill": {
              "color": "#C8D4E3"
             },
             "line": {
              "color": "white"
             }
            },
            "type": "table"
           }
          ]
         },
         "layout": {
          "annotationdefaults": {
           "arrowcolor": "#2a3f5f",
           "arrowhead": 0,
           "arrowwidth": 1
          },
          "autotypenumbers": "strict",
          "coloraxis": {
           "colorbar": {
            "outlinewidth": 0,
            "ticks": ""
           }
          },
          "colorscale": {
           "diverging": [
            [
             0,
             "#8e0152"
            ],
            [
             0.1,
             "#c51b7d"
            ],
            [
             0.2,
             "#de77ae"
            ],
            [
             0.3,
             "#f1b6da"
            ],
            [
             0.4,
             "#fde0ef"
            ],
            [
             0.5,
             "#f7f7f7"
            ],
            [
             0.6,
             "#e6f5d0"
            ],
            [
             0.7,
             "#b8e186"
            ],
            [
             0.8,
             "#7fbc41"
            ],
            [
             0.9,
             "#4d9221"
            ],
            [
             1,
             "#276419"
            ]
           ],
           "sequential": [
            [
             0,
             "#0d0887"
            ],
            [
             0.1111111111111111,
             "#46039f"
            ],
            [
             0.2222222222222222,
             "#7201a8"
            ],
            [
             0.3333333333333333,
             "#9c179e"
            ],
            [
             0.4444444444444444,
             "#bd3786"
            ],
            [
             0.5555555555555556,
             "#d8576b"
            ],
            [
             0.6666666666666666,
             "#ed7953"
            ],
            [
             0.7777777777777778,
             "#fb9f3a"
            ],
            [
             0.8888888888888888,
             "#fdca26"
            ],
            [
             1,
             "#f0f921"
            ]
           ],
           "sequentialminus": [
            [
             0,
             "#0d0887"
            ],
            [
             0.1111111111111111,
             "#46039f"
            ],
            [
             0.2222222222222222,
             "#7201a8"
            ],
            [
             0.3333333333333333,
             "#9c179e"
            ],
            [
             0.4444444444444444,
             "#bd3786"
            ],
            [
             0.5555555555555556,
             "#d8576b"
            ],
            [
             0.6666666666666666,
             "#ed7953"
            ],
            [
             0.7777777777777778,
             "#fb9f3a"
            ],
            [
             0.8888888888888888,
             "#fdca26"
            ],
            [
             1,
             "#f0f921"
            ]
           ]
          },
          "colorway": [
           "#636efa",
           "#EF553B",
           "#00cc96",
           "#ab63fa",
           "#FFA15A",
           "#19d3f3",
           "#FF6692",
           "#B6E880",
           "#FF97FF",
           "#FECB52"
          ],
          "font": {
           "color": "#2a3f5f"
          },
          "geo": {
           "bgcolor": "white",
           "lakecolor": "white",
           "landcolor": "#E5ECF6",
           "showlakes": true,
           "showland": true,
           "subunitcolor": "white"
          },
          "hoverlabel": {
           "align": "left"
          },
          "hovermode": "closest",
          "mapbox": {
           "style": "light"
          },
          "paper_bgcolor": "white",
          "plot_bgcolor": "#E5ECF6",
          "polar": {
           "angularaxis": {
            "gridcolor": "white",
            "linecolor": "white",
            "ticks": ""
           },
           "bgcolor": "#E5ECF6",
           "radialaxis": {
            "gridcolor": "white",
            "linecolor": "white",
            "ticks": ""
           }
          },
          "scene": {
           "xaxis": {
            "backgroundcolor": "#E5ECF6",
            "gridcolor": "white",
            "gridwidth": 2,
            "linecolor": "white",
            "showbackground": true,
            "ticks": "",
            "zerolinecolor": "white"
           },
           "yaxis": {
            "backgroundcolor": "#E5ECF6",
            "gridcolor": "white",
            "gridwidth": 2,
            "linecolor": "white",
            "showbackground": true,
            "ticks": "",
            "zerolinecolor": "white"
           },
           "zaxis": {
            "backgroundcolor": "#E5ECF6",
            "gridcolor": "white",
            "gridwidth": 2,
            "linecolor": "white",
            "showbackground": true,
            "ticks": "",
            "zerolinecolor": "white"
           }
          },
          "shapedefaults": {
           "line": {
            "color": "#2a3f5f"
           }
          },
          "ternary": {
           "aaxis": {
            "gridcolor": "white",
            "linecolor": "white",
            "ticks": ""
           },
           "baxis": {
            "gridcolor": "white",
            "linecolor": "white",
            "ticks": ""
           },
           "bgcolor": "#E5ECF6",
           "caxis": {
            "gridcolor": "white",
            "linecolor": "white",
            "ticks": ""
           }
          },
          "title": {
           "x": 0.05
          },
          "xaxis": {
           "automargin": true,
           "gridcolor": "white",
           "linecolor": "white",
           "ticks": "",
           "title": {
            "standoff": 15
           },
           "zerolinecolor": "white",
           "zerolinewidth": 2
          },
          "yaxis": {
           "automargin": true,
           "gridcolor": "white",
           "linecolor": "white",
           "ticks": "",
           "title": {
            "standoff": 15
           },
           "zerolinecolor": "white",
           "zerolinewidth": 2
          }
         }
        },
        "title": {
         "text": "Artworks acquired by MoMA over decades split by nationality"
        },
        "xaxis": {
         "anchor": "y",
         "domain": [
          0,
          0.47
         ],
         "showticklabels": true,
         "title": {
          "text": "DateAcquired"
         }
        },
        "xaxis10": {
         "anchor": "y10",
         "domain": [
          0.53,
          1
         ],
         "showticklabels": true
        },
        "xaxis2": {
         "anchor": "y2",
         "domain": [
          0.53,
          1
         ],
         "showticklabels": true,
         "title": {
          "text": "DateAcquired"
         }
        },
        "xaxis3": {
         "anchor": "y3",
         "domain": [
          0,
          0.47
         ],
         "showticklabels": true
        },
        "xaxis4": {
         "anchor": "y4",
         "domain": [
          0.53,
          1
         ],
         "showticklabels": true
        },
        "xaxis5": {
         "anchor": "y5",
         "domain": [
          0,
          0.47
         ],
         "showticklabels": true
        },
        "xaxis6": {
         "anchor": "y6",
         "domain": [
          0.53,
          1
         ],
         "showticklabels": true
        },
        "xaxis7": {
         "anchor": "y7",
         "domain": [
          0,
          0.47
         ],
         "showticklabels": true
        },
        "xaxis8": {
         "anchor": "y8",
         "domain": [
          0.53,
          1
         ],
         "showticklabels": true
        },
        "xaxis9": {
         "anchor": "y9",
         "domain": [
          0,
          0.47
         ],
         "showticklabels": true
        },
        "yaxis": {
         "anchor": "x",
         "domain": [
          0,
          0.144
         ],
         "showticklabels": true,
         "title": {
          "text": "Count"
         }
        },
        "yaxis10": {
         "anchor": "x10",
         "domain": [
          0.856,
          1
         ],
         "showticklabels": true
        },
        "yaxis2": {
         "anchor": "x2",
         "domain": [
          0,
          0.144
         ],
         "showticklabels": true
        },
        "yaxis3": {
         "anchor": "x3",
         "domain": [
          0.214,
          0.358
         ],
         "showticklabels": true,
         "title": {
          "text": "Count"
         }
        },
        "yaxis4": {
         "anchor": "x4",
         "domain": [
          0.214,
          0.358
         ],
         "showticklabels": true
        },
        "yaxis5": {
         "anchor": "x5",
         "domain": [
          0.428,
          0.572
         ],
         "showticklabels": true,
         "title": {
          "text": "Count"
         }
        },
        "yaxis6": {
         "anchor": "x6",
         "domain": [
          0.428,
          0.572
         ],
         "showticklabels": true
        },
        "yaxis7": {
         "anchor": "x7",
         "domain": [
          0.6419999999999999,
          0.7859999999999999
         ],
         "showticklabels": true,
         "title": {
          "text": "Count"
         }
        },
        "yaxis8": {
         "anchor": "x8",
         "domain": [
          0.6419999999999999,
          0.7859999999999999
         ],
         "showticklabels": true
        },
        "yaxis9": {
         "anchor": "x9",
         "domain": [
          0.856,
          1
         ],
         "showticklabels": true,
         "title": {
          "text": "Count"
         }
        }
       }
      }
     },
     "metadata": {},
     "output_type": "display_data"
    },
    {
     "data": {
      "application/vnd.plotly.v1+json": {
       "config": {
        "plotlyServerURL": "https://plot.ly"
       },
       "data": [
        {
         "alignmentgroup": "True",
         "hovertemplate": "Nationality=German<br>Decade=2000<br>DateAcquired=%{x}<br>Count=%{y}<extra></extra>",
         "legendgroup": "German",
         "marker": {
          "color": "#FFFAFA",
          "pattern": {
           "shape": ""
          }
         },
         "name": "German",
         "offsetgroup": "German",
         "orientation": "v",
         "showlegend": true,
         "textposition": "auto",
         "type": "bar",
         "x": [
          2001,
          2002,
          2003,
          2004,
          2005,
          2006,
          2007,
          2008,
          2009
         ],
         "xaxis": "x",
         "y": [
          7,
          11,
          4,
          8,
          11,
          9,
          20,
          3,
          2
         ],
         "yaxis": "y"
        },
        {
         "alignmentgroup": "True",
         "hovertemplate": "Nationality=German<br>Decade=2010<br>DateAcquired=%{x}<br>Count=%{y}<extra></extra>",
         "legendgroup": "German",
         "marker": {
          "color": "#FFFAFA",
          "pattern": {
           "shape": ""
          }
         },
         "name": "German",
         "offsetgroup": "German",
         "orientation": "v",
         "showlegend": false,
         "textposition": "auto",
         "type": "bar",
         "x": [
          2010,
          2012
         ],
         "xaxis": "x2",
         "y": [
          2,
          8
         ],
         "yaxis": "y2"
        },
        {
         "alignmentgroup": "True",
         "hovertemplate": "Nationality=Icelandic/American<br>Decade=2000<br>DateAcquired=%{x}<br>Count=%{y}<extra></extra>",
         "legendgroup": "Icelandic/American",
         "marker": {
          "color": "#FFC0CB",
          "pattern": {
           "shape": ""
          }
         },
         "name": "Icelandic/American",
         "offsetgroup": "Icelandic/American",
         "orientation": "v",
         "showlegend": true,
         "textposition": "auto",
         "type": "bar",
         "x": [
          2004,
          2005,
          2006,
          2003,
          2002
         ],
         "xaxis": "x",
         "y": [
          1,
          1,
          1,
          1,
          2
         ],
         "yaxis": "y"
        },
        {
         "alignmentgroup": "True",
         "hovertemplate": "Nationality=Indian<br>Decade=2000<br>DateAcquired=%{x}<br>Count=%{y}<extra></extra>",
         "legendgroup": "Indian",
         "marker": {
          "color": "#FF69B4",
          "pattern": {
           "shape": ""
          }
         },
         "name": "Indian",
         "offsetgroup": "Indian",
         "orientation": "v",
         "showlegend": true,
         "textposition": "auto",
         "type": "bar",
         "x": [
          2002,
          2007
         ],
         "xaxis": "x",
         "y": [
          1,
          1
         ],
         "yaxis": "y"
        },
        {
         "alignmentgroup": "True",
         "hovertemplate": "Nationality=Iranian<br>Decade=2000<br>DateAcquired=%{x}<br>Count=%{y}<extra></extra>",
         "legendgroup": "Iranian",
         "marker": {
          "color": "#DB7093",
          "pattern": {
           "shape": ""
          }
         },
         "name": "Iranian",
         "offsetgroup": "Iranian",
         "orientation": "v",
         "showlegend": true,
         "textposition": "auto",
         "type": "bar",
         "x": [
          2001
         ],
         "xaxis": "x",
         "y": [
          1
         ],
         "yaxis": "y"
        },
        {
         "alignmentgroup": "True",
         "hovertemplate": "Nationality=Irish<br>Decade=2000<br>DateAcquired=%{x}<br>Count=%{y}<extra></extra>",
         "legendgroup": "Irish",
         "marker": {
          "color": "#C71585",
          "pattern": {
           "shape": ""
          }
         },
         "name": "Irish",
         "offsetgroup": "Irish",
         "orientation": "v",
         "showlegend": true,
         "textposition": "auto",
         "type": "bar",
         "x": [
          2002
         ],
         "xaxis": "x",
         "y": [
          1
         ],
         "yaxis": "y"
        },
        {
         "alignmentgroup": "True",
         "hovertemplate": "Nationality=Israeli<br>Decade=2000<br>DateAcquired=%{x}<br>Count=%{y}<extra></extra>",
         "legendgroup": "Israeli",
         "marker": {
          "color": "#E6E6FA",
          "pattern": {
           "shape": ""
          }
         },
         "name": "Israeli",
         "offsetgroup": "Israeli",
         "orientation": "v",
         "showlegend": true,
         "textposition": "auto",
         "type": "bar",
         "x": [
          2001,
          2002,
          2003,
          2004,
          2005,
          2006,
          2007,
          2008
         ],
         "xaxis": "x",
         "y": [
          5,
          1,
          1,
          13,
          1,
          1,
          1,
          3
         ],
         "yaxis": "y"
        },
        {
         "alignmentgroup": "True",
         "hovertemplate": "Nationality=Italian<br>Decade=2000<br>DateAcquired=%{x}<br>Count=%{y}<extra></extra>",
         "legendgroup": "Italian",
         "marker": {
          "color": "#DDA0DD",
          "pattern": {
           "shape": ""
          }
         },
         "name": "Italian",
         "offsetgroup": "Italian",
         "orientation": "v",
         "showlegend": true,
         "textposition": "auto",
         "type": "bar",
         "x": [
          2001,
          2002,
          2003,
          2005,
          2006,
          2007,
          2009
         ],
         "xaxis": "x",
         "y": [
          4,
          9,
          3,
          8,
          3,
          5,
          1
         ],
         "yaxis": "y"
        },
        {
         "alignmentgroup": "True",
         "hovertemplate": "Nationality=Italian<br>Decade=2010<br>DateAcquired=%{x}<br>Count=%{y}<extra></extra>",
         "legendgroup": "Italian",
         "marker": {
          "color": "#DDA0DD",
          "pattern": {
           "shape": ""
          }
         },
         "name": "Italian",
         "offsetgroup": "Italian",
         "orientation": "v",
         "showlegend": false,
         "textposition": "auto",
         "type": "bar",
         "x": [
          2011,
          2012
         ],
         "xaxis": "x2",
         "y": [
          1,
          3
         ],
         "yaxis": "y2"
        },
        {
         "alignmentgroup": "True",
         "hovertemplate": "Nationality=Taiwanese<br>Decade=2000<br>DateAcquired=%{x}<br>Count=%{y}<extra></extra>",
         "legendgroup": "Taiwanese",
         "marker": {
          "color": "#EE82EE",
          "pattern": {
           "shape": ""
          }
         },
         "name": "Taiwanese",
         "offsetgroup": "Taiwanese",
         "orientation": "v",
         "showlegend": true,
         "textposition": "auto",
         "type": "bar",
         "x": [
          2002,
          2001,
          2007,
          2006,
          2004
         ],
         "xaxis": "x",
         "y": [
          1,
          2,
          1,
          1,
          1
         ],
         "yaxis": "y"
        },
        {
         "alignmentgroup": "True",
         "hovertemplate": "Nationality=Italian <br>Decade=2000<br>DateAcquired=%{x}<br>Count=%{y}<extra></extra>",
         "legendgroup": "Italian ",
         "marker": {
          "color": "#9932CC",
          "pattern": {
           "shape": ""
          }
         },
         "name": "Italian ",
         "offsetgroup": "Italian ",
         "orientation": "v",
         "showlegend": true,
         "textposition": "auto",
         "type": "bar",
         "x": [
          2001
         ],
         "xaxis": "x",
         "y": [
          1
         ],
         "yaxis": "y"
        },
        {
         "alignmentgroup": "True",
         "hovertemplate": "Nationality=Japanese<br>Decade=2000<br>DateAcquired=%{x}<br>Count=%{y}<extra></extra>",
         "legendgroup": "Japanese",
         "marker": {
          "color": "#8B008B",
          "pattern": {
           "shape": ""
          }
         },
         "name": "Japanese",
         "offsetgroup": "Japanese",
         "orientation": "v",
         "showlegend": true,
         "textposition": "auto",
         "type": "bar",
         "x": [
          2000,
          2001,
          2002,
          2003,
          2005,
          2004,
          2006
         ],
         "xaxis": "x",
         "y": [
          1,
          2,
          1,
          2,
          7,
          2,
          5
         ],
         "yaxis": "y"
        },
        {
         "alignmentgroup": "True",
         "hovertemplate": "Nationality=Hungarian<br>Decade=2000<br>DateAcquired=%{x}<br>Count=%{y}<extra></extra>",
         "legendgroup": "Hungarian",
         "marker": {
          "color": "#9370DB",
          "pattern": {
           "shape": ""
          }
         },
         "name": "Hungarian",
         "offsetgroup": "Hungarian",
         "orientation": "v",
         "showlegend": true,
         "textposition": "auto",
         "type": "bar",
         "x": [
          2002,
          2003
         ],
         "xaxis": "x",
         "y": [
          1,
          1
         ],
         "yaxis": "y"
        },
        {
         "alignmentgroup": "True",
         "hovertemplate": "Nationality=Finnish <br>Decade=2000<br>DateAcquired=%{x}<br>Count=%{y}<extra></extra>",
         "legendgroup": "Finnish ",
         "marker": {
          "color": "#483D8B",
          "pattern": {
           "shape": ""
          }
         },
         "name": "Finnish ",
         "offsetgroup": "Finnish ",
         "orientation": "v",
         "showlegend": true,
         "textposition": "auto",
         "type": "bar",
         "x": [
          2001
         ],
         "xaxis": "x",
         "y": [
          1
         ],
         "yaxis": "y"
        },
        {
         "alignmentgroup": "True",
         "hovertemplate": "Nationality=French<br>Decade=2000<br>DateAcquired=%{x}<br>Count=%{y}<extra></extra>",
         "legendgroup": "French",
         "marker": {
          "color": "#4B0082",
          "pattern": {
           "shape": ""
          }
         },
         "name": "French",
         "offsetgroup": "French",
         "orientation": "v",
         "showlegend": true,
         "textposition": "auto",
         "type": "bar",
         "x": [
          2001,
          2002,
          2003,
          2004,
          2005,
          2006,
          2007,
          2008,
          2009
         ],
         "xaxis": "x",
         "y": [
          14,
          26,
          18,
          26,
          13,
          15,
          15,
          1,
          1
         ],
         "yaxis": "y"
        },
        {
         "alignmentgroup": "True",
         "hovertemplate": "Nationality=French<br>Decade=2010<br>DateAcquired=%{x}<br>Count=%{y}<extra></extra>",
         "legendgroup": "French",
         "marker": {
          "color": "#4B0082",
          "pattern": {
           "shape": ""
          }
         },
         "name": "French",
         "offsetgroup": "French",
         "orientation": "v",
         "showlegend": false,
         "textposition": "auto",
         "type": "bar",
         "x": [
          2011
         ],
         "xaxis": "x2",
         "y": [
          1
         ],
         "yaxis": "y2"
        },
        {
         "alignmentgroup": "True",
         "hovertemplate": "Nationality=Turkish<br>Decade=2000<br>DateAcquired=%{x}<br>Count=%{y}<extra></extra>",
         "legendgroup": "Turkish",
         "marker": {
          "color": "#FA8072",
          "pattern": {
           "shape": ""
          }
         },
         "name": "Turkish",
         "offsetgroup": "Turkish",
         "orientation": "v",
         "showlegend": true,
         "textposition": "auto",
         "type": "bar",
         "x": [
          2003,
          2004,
          2006,
          2007
         ],
         "xaxis": "x",
         "y": [
          1,
          3,
          1,
          2
         ],
         "yaxis": "y"
        },
        {
         "alignmentgroup": "True",
         "hovertemplate": "Nationality=Greek<br>Decade=2000<br>DateAcquired=%{x}<br>Count=%{y}<extra></extra>",
         "legendgroup": "Greek",
         "marker": {
          "color": "#DC143C",
          "pattern": {
           "shape": ""
          }
         },
         "name": "Greek",
         "offsetgroup": "Greek",
         "orientation": "v",
         "showlegend": true,
         "textposition": "auto",
         "type": "bar",
         "x": [
          2002,
          2003,
          2005,
          2008
         ],
         "xaxis": "x",
         "y": [
          1,
          1,
          1,
          1
         ],
         "yaxis": "y"
        },
        {
         "alignmentgroup": "True",
         "hovertemplate": "Nationality=Greek/Australian<br>Decade=2000<br>DateAcquired=%{x}<br>Count=%{y}<extra></extra>",
         "legendgroup": "Greek/Australian",
         "marker": {
          "color": "#8B0000",
          "pattern": {
           "shape": ""
          }
         },
         "name": "Greek/Australian",
         "offsetgroup": "Greek/Australian",
         "orientation": "v",
         "showlegend": true,
         "textposition": "auto",
         "type": "bar",
         "x": [
          2003
         ],
         "xaxis": "x",
         "y": [
          1
         ],
         "yaxis": "y"
        },
        {
         "alignmentgroup": "True",
         "hovertemplate": "Nationality=Finnish<br>Decade=2000<br>DateAcquired=%{x}<br>Count=%{y}<extra></extra>",
         "legendgroup": "Finnish",
         "marker": {
          "color": "#FF8C00",
          "pattern": {
           "shape": ""
          }
         },
         "name": "Finnish",
         "offsetgroup": "Finnish",
         "orientation": "v",
         "showlegend": true,
         "textposition": "auto",
         "type": "bar",
         "x": [
          2006
         ],
         "xaxis": "x",
         "y": [
          1
         ],
         "yaxis": "y"
        },
        {
         "alignmentgroup": "True",
         "hovertemplate": "Nationality=Russian<br>Decade=2000<br>DateAcquired=%{x}<br>Count=%{y}<extra></extra>",
         "legendgroup": "Russian",
         "marker": {
          "color": "#FF4500",
          "pattern": {
           "shape": ""
          }
         },
         "name": "Russian",
         "offsetgroup": "Russian",
         "orientation": "v",
         "showlegend": true,
         "textposition": "auto",
         "type": "bar",
         "x": [
          2007,
          2004,
          2002,
          2001
         ],
         "xaxis": "x",
         "y": [
          1,
          3,
          2,
          5
         ],
         "yaxis": "y"
        },
        {
         "alignmentgroup": "True",
         "hovertemplate": "Nationality=Serbian<br>Decade=2000<br>DateAcquired=%{x}<br>Count=%{y}<extra></extra>",
         "legendgroup": "Serbian",
         "marker": {
          "color": "#FFD700",
          "pattern": {
           "shape": ""
          }
         },
         "name": "Serbian",
         "offsetgroup": "Serbian",
         "orientation": "v",
         "showlegend": true,
         "textposition": "auto",
         "type": "bar",
         "x": [
          2001,
          2006
         ],
         "xaxis": "x",
         "y": [
          1,
          5
         ],
         "yaxis": "y"
        },
        {
         "alignmentgroup": "True",
         "hovertemplate": "Nationality=Slovenian<br>Decade=2000<br>DateAcquired=%{x}<br>Count=%{y}<extra></extra>",
         "legendgroup": "Slovenian",
         "marker": {
          "color": "#FFFF00",
          "pattern": {
           "shape": ""
          }
         },
         "name": "Slovenian",
         "offsetgroup": "Slovenian",
         "orientation": "v",
         "showlegend": true,
         "textposition": "auto",
         "type": "bar",
         "x": [
          2001,
          2005,
          2007
         ],
         "xaxis": "x",
         "y": [
          1,
          1,
          1
         ],
         "yaxis": "y"
        },
        {
         "alignmentgroup": "True",
         "hovertemplate": "Nationality=South African<br>Decade=2000<br>DateAcquired=%{x}<br>Count=%{y}<extra></extra>",
         "legendgroup": "South African",
         "marker": {
          "color": "#F0E68C",
          "pattern": {
           "shape": ""
          }
         },
         "name": "South African",
         "offsetgroup": "South African",
         "orientation": "v",
         "showlegend": true,
         "textposition": "auto",
         "type": "bar",
         "x": [
          2002,
          2004
         ],
         "xaxis": "x",
         "y": [
          1,
          1
         ],
         "yaxis": "y"
        },
        {
         "alignmentgroup": "True",
         "hovertemplate": "Nationality=South Korean<br>Decade=2000<br>DateAcquired=%{x}<br>Count=%{y}<extra></extra>",
         "legendgroup": "South Korean",
         "marker": {
          "color": "#7FFF00",
          "pattern": {
           "shape": ""
          }
         },
         "name": "South Korean",
         "offsetgroup": "South Korean",
         "orientation": "v",
         "showlegend": true,
         "textposition": "auto",
         "type": "bar",
         "x": [
          2001,
          2002,
          2004,
          2005,
          2006
         ],
         "xaxis": "x",
         "y": [
          2,
          3,
          1,
          2,
          3
         ],
         "yaxis": "y"
        },
        {
         "alignmentgroup": "True",
         "hovertemplate": "Nationality=Spanish<br>Decade=2000<br>DateAcquired=%{x}<br>Count=%{y}<extra></extra>",
         "legendgroup": "Spanish",
         "marker": {
          "color": "#32CD32",
          "pattern": {
           "shape": ""
          }
         },
         "name": "Spanish",
         "offsetgroup": "Spanish",
         "orientation": "v",
         "showlegend": true,
         "textposition": "auto",
         "type": "bar",
         "x": [
          2001,
          2002,
          2003,
          2006,
          2007
         ],
         "xaxis": "x",
         "y": [
          4,
          5,
          4,
          1,
          3
         ],
         "yaxis": "y"
        },
        {
         "alignmentgroup": "True",
         "hovertemplate": "Nationality=Spanish<br>Decade=2010<br>DateAcquired=%{x}<br>Count=%{y}<extra></extra>",
         "legendgroup": "Spanish",
         "marker": {
          "color": "#32CD32",
          "pattern": {
           "shape": ""
          }
         },
         "name": "Spanish",
         "offsetgroup": "Spanish",
         "orientation": "v",
         "showlegend": false,
         "textposition": "auto",
         "type": "bar",
         "x": [
          2011,
          2012
         ],
         "xaxis": "x2",
         "y": [
          1,
          2
         ],
         "yaxis": "y2"
        },
        {
         "alignmentgroup": "True",
         "hovertemplate": "Nationality=Swiss<br>Decade=2000<br>DateAcquired=%{x}<br>Count=%{y}<extra></extra>",
         "legendgroup": "Swiss",
         "marker": {
          "color": "#90EE90",
          "pattern": {
           "shape": ""
          }
         },
         "name": "Swiss",
         "offsetgroup": "Swiss",
         "orientation": "v",
         "showlegend": true,
         "textposition": "auto",
         "type": "bar",
         "x": [
          2006,
          2005,
          2007,
          2002,
          2003
         ],
         "xaxis": "x",
         "y": [
          1,
          5,
          2,
          1,
          1
         ],
         "yaxis": "y"
        },
        {
         "alignmentgroup": "True",
         "hovertemplate": "Nationality=Swedish<br>Decade=2000<br>DateAcquired=%{x}<br>Count=%{y}<extra></extra>",
         "legendgroup": "Swedish",
         "marker": {
          "color": "#00FA9A",
          "pattern": {
           "shape": ""
          }
         },
         "name": "Swedish",
         "offsetgroup": "Swedish",
         "orientation": "v",
         "showlegend": true,
         "textposition": "auto",
         "type": "bar",
         "x": [
          2001,
          2002,
          2003,
          2004,
          2007,
          2008,
          2009
         ],
         "xaxis": "x",
         "y": [
          10,
          2,
          1,
          1,
          8,
          2,
          4
         ],
         "yaxis": "y"
        },
        {
         "alignmentgroup": "True",
         "hovertemplate": "Nationality=Portuguese<br>Decade=2000<br>DateAcquired=%{x}<br>Count=%{y}<extra></extra>",
         "legendgroup": "Portuguese",
         "marker": {
          "color": "#3CB371",
          "pattern": {
           "shape": ""
          }
         },
         "name": "Portuguese",
         "offsetgroup": "Portuguese",
         "orientation": "v",
         "showlegend": true,
         "textposition": "auto",
         "type": "bar",
         "x": [
          2007,
          2003,
          2004,
          2005,
          2006
         ],
         "xaxis": "x",
         "y": [
          4,
          1,
          2,
          2,
          2
         ],
         "yaxis": "y"
        },
        {
         "alignmentgroup": "True",
         "hovertemplate": "Nationality=Mexican<br>Decade=2000<br>DateAcquired=%{x}<br>Count=%{y}<extra></extra>",
         "legendgroup": "Mexican",
         "marker": {
          "color": "#006400",
          "pattern": {
           "shape": ""
          }
         },
         "name": "Mexican",
         "offsetgroup": "Mexican",
         "orientation": "v",
         "showlegend": true,
         "textposition": "auto",
         "type": "bar",
         "x": [
          2001,
          2002,
          2003,
          2004,
          2005,
          2007
         ],
         "xaxis": "x",
         "y": [
          2,
          3,
          1,
          1,
          3,
          1
         ],
         "yaxis": "y"
        },
        {
         "alignmentgroup": "True",
         "hovertemplate": "Nationality=Mexican/American<br>Decade=2000<br>DateAcquired=%{x}<br>Count=%{y}<extra></extra>",
         "legendgroup": "Mexican/American",
         "marker": {
          "color": "#9ACD32",
          "pattern": {
           "shape": ""
          }
         },
         "name": "Mexican/American",
         "offsetgroup": "Mexican/American",
         "orientation": "v",
         "showlegend": true,
         "textposition": "auto",
         "type": "bar",
         "x": [
          2006
         ],
         "xaxis": "x",
         "y": [
          1
         ],
         "yaxis": "y"
        },
        {
         "alignmentgroup": "True",
         "hovertemplate": "Nationality=New Zealander<br>Decade=2000<br>DateAcquired=%{x}<br>Count=%{y}<extra></extra>",
         "legendgroup": "New Zealander",
         "marker": {
          "color": "#6B8E23",
          "pattern": {
           "shape": ""
          }
         },
         "name": "New Zealander",
         "offsetgroup": "New Zealander",
         "orientation": "v",
         "showlegend": true,
         "textposition": "auto",
         "type": "bar",
         "x": [
          2004,
          2005
         ],
         "xaxis": "x",
         "y": [
          1,
          3
         ],
         "yaxis": "y"
        },
        {
         "alignmentgroup": "True",
         "hovertemplate": "Nationality=Norwegian<br>Decade=2000<br>DateAcquired=%{x}<br>Count=%{y}<extra></extra>",
         "legendgroup": "Norwegian",
         "marker": {
          "color": "#66CDAA",
          "pattern": {
           "shape": ""
          }
         },
         "name": "Norwegian",
         "offsetgroup": "Norwegian",
         "orientation": "v",
         "showlegend": true,
         "textposition": "auto",
         "type": "bar",
         "x": [
          2001,
          2002
         ],
         "xaxis": "x",
         "y": [
          1,
          1
         ],
         "yaxis": "y"
        },
        {
         "alignmentgroup": "True",
         "hovertemplate": "Nationality=Polish<br>Decade=2000<br>DateAcquired=%{x}<br>Count=%{y}<extra></extra>",
         "legendgroup": "Polish",
         "marker": {
          "color": "#20B2AA",
          "pattern": {
           "shape": ""
          }
         },
         "name": "Polish",
         "offsetgroup": "Polish",
         "orientation": "v",
         "showlegend": true,
         "textposition": "auto",
         "type": "bar",
         "x": [
          2001,
          2002,
          2004,
          2005,
          2006,
          2007,
          2008,
          2009
         ],
         "xaxis": "x",
         "y": [
          3,
          2,
          1,
          1,
          3,
          3,
          5,
          1
         ],
         "yaxis": "y"
        },
        {
         "alignmentgroup": "True",
         "hovertemplate": "Nationality=Polish<br>Decade=2010<br>DateAcquired=%{x}<br>Count=%{y}<extra></extra>",
         "legendgroup": "Polish",
         "marker": {
          "color": "#20B2AA",
          "pattern": {
           "shape": ""
          }
         },
         "name": "Polish",
         "offsetgroup": "Polish",
         "orientation": "v",
         "showlegend": false,
         "textposition": "auto",
         "type": "bar",
         "x": [
          2011
         ],
         "xaxis": "x2",
         "y": [
          1
         ],
         "yaxis": "y2"
        },
        {
         "alignmentgroup": "True",
         "hovertemplate": "Nationality=Polish/American<br>Decade=2000<br>DateAcquired=%{x}<br>Count=%{y}<extra></extra>",
         "legendgroup": "Polish/American",
         "marker": {
          "color": "#5F9EA0",
          "pattern": {
           "shape": ""
          }
         },
         "name": "Polish/American",
         "offsetgroup": "Polish/American",
         "orientation": "v",
         "showlegend": true,
         "textposition": "auto",
         "type": "bar",
         "x": [
          2003,
          2004
         ],
         "xaxis": "x",
         "y": [
          1,
          1
         ],
         "yaxis": "y"
        },
        {
         "alignmentgroup": "True",
         "hovertemplate": "Nationality=Dutch/Brazilian<br>Decade=2000<br>DateAcquired=%{x}<br>Count=%{y}<extra></extra>",
         "legendgroup": "Dutch/Brazilian",
         "marker": {
          "color": "#4682B4",
          "pattern": {
           "shape": ""
          }
         },
         "name": "Dutch/Brazilian",
         "offsetgroup": "Dutch/Brazilian",
         "orientation": "v",
         "showlegend": true,
         "textposition": "auto",
         "type": "bar",
         "x": [
          2008
         ],
         "xaxis": "x",
         "y": [
          1
         ],
         "yaxis": "y"
        },
        {
         "alignmentgroup": "True",
         "hovertemplate": "Nationality=Argentine<br>Decade=2000<br>DateAcquired=%{x}<br>Count=%{y}<extra></extra>",
         "legendgroup": "Argentine",
         "marker": {
          "color": "#B0C4DE",
          "pattern": {
           "shape": ""
          }
         },
         "name": "Argentine",
         "offsetgroup": "Argentine",
         "orientation": "v",
         "showlegend": true,
         "textposition": "auto",
         "type": "bar",
         "x": [
          2003,
          2004,
          2005,
          2006,
          2007,
          2008,
          2002,
          2001
         ],
         "xaxis": "x",
         "y": [
          2,
          6,
          4,
          1,
          1,
          1,
          2,
          2
         ],
         "yaxis": "y"
        },
        {
         "alignmentgroup": "True",
         "hovertemplate": "Nationality=Argentine <br>Decade=2000<br>DateAcquired=%{x}<br>Count=%{y}<extra></extra>",
         "legendgroup": "Argentine ",
         "marker": {
          "color": "#87CEFA",
          "pattern": {
           "shape": ""
          }
         },
         "name": "Argentine ",
         "offsetgroup": "Argentine ",
         "orientation": "v",
         "showlegend": true,
         "textposition": "auto",
         "type": "bar",
         "x": [
          2002
         ],
         "xaxis": "x",
         "y": [
          2
         ],
         "yaxis": "y"
        },
        {
         "alignmentgroup": "True",
         "hovertemplate": "Nationality=Australian<br>Decade=2000<br>DateAcquired=%{x}<br>Count=%{y}<extra></extra>",
         "legendgroup": "Australian",
         "marker": {
          "color": "#6495ED",
          "pattern": {
           "shape": ""
          }
         },
         "name": "Australian",
         "offsetgroup": "Australian",
         "orientation": "v",
         "showlegend": true,
         "textposition": "auto",
         "type": "bar",
         "x": [
          2001,
          2002,
          2004,
          2005,
          2006,
          2007,
          2008
         ],
         "xaxis": "x",
         "y": [
          5,
          2,
          5,
          8,
          3,
          2,
          1
         ],
         "yaxis": "y"
        },
        {
         "alignmentgroup": "True",
         "hovertemplate": "Nationality=Australian<br>Decade=2010<br>DateAcquired=%{x}<br>Count=%{y}<extra></extra>",
         "legendgroup": "Australian",
         "marker": {
          "color": "#6495ED",
          "pattern": {
           "shape": ""
          }
         },
         "name": "Australian",
         "offsetgroup": "Australian",
         "orientation": "v",
         "showlegend": false,
         "textposition": "auto",
         "type": "bar",
         "x": [
          2010,
          2011,
          2012
         ],
         "xaxis": "x2",
         "y": [
          2,
          1,
          1
         ],
         "yaxis": "y2"
        },
        {
         "alignmentgroup": "True",
         "hovertemplate": "Nationality=missing<br>Decade=2000<br>DateAcquired=%{x}<br>Count=%{y}<extra></extra>",
         "legendgroup": "missing",
         "marker": {
          "color": "#00BFFF",
          "pattern": {
           "shape": ""
          }
         },
         "name": "missing",
         "offsetgroup": "missing",
         "orientation": "v",
         "showlegend": true,
         "textposition": "auto",
         "type": "bar",
         "x": [
          2006,
          2005,
          2004,
          2009,
          2008,
          2007,
          2003,
          2000,
          2001,
          2002
         ],
         "xaxis": "x",
         "y": [
          56,
          74,
          83,
          21,
          40,
          78,
          45,
          1,
          74,
          100
         ],
         "yaxis": "y"
        },
        {
         "alignmentgroup": "True",
         "hovertemplate": "Nationality=missing<br>Decade=2010<br>DateAcquired=%{x}<br>Count=%{y}<extra></extra>",
         "legendgroup": "missing",
         "marker": {
          "color": "#00BFFF",
          "pattern": {
           "shape": ""
          }
         },
         "name": "missing",
         "offsetgroup": "missing",
         "orientation": "v",
         "showlegend": false,
         "textposition": "auto",
         "type": "bar",
         "x": [
          2011,
          2010,
          2012,
          2013
         ],
         "xaxis": "x2",
         "y": [
          11,
          5,
          13,
          1
         ],
         "yaxis": "y2"
        },
        {
         "alignmentgroup": "True",
         "hovertemplate": "Nationality=Austrian<br>Decade=2000<br>DateAcquired=%{x}<br>Count=%{y}<extra></extra>",
         "legendgroup": "Austrian",
         "marker": {
          "color": "#1E90FF",
          "pattern": {
           "shape": ""
          }
         },
         "name": "Austrian",
         "offsetgroup": "Austrian",
         "orientation": "v",
         "showlegend": true,
         "textposition": "auto",
         "type": "bar",
         "x": [
          2001,
          2002,
          2003,
          2004,
          2005,
          2006,
          2007,
          2008,
          2009
         ],
         "xaxis": "x",
         "y": [
          7,
          5,
          1,
          4,
          2,
          2,
          7,
          5,
          1
         ],
         "yaxis": "y"
        },
        {
         "alignmentgroup": "True",
         "hovertemplate": "Nationality=Austrian<br>Decade=2010<br>DateAcquired=%{x}<br>Count=%{y}<extra></extra>",
         "legendgroup": "Austrian",
         "marker": {
          "color": "#1E90FF",
          "pattern": {
           "shape": ""
          }
         },
         "name": "Austrian",
         "offsetgroup": "Austrian",
         "orientation": "v",
         "showlegend": false,
         "textposition": "auto",
         "type": "bar",
         "x": [
          2010
         ],
         "xaxis": "x2",
         "y": [
          1
         ],
         "yaxis": "y2"
        },
        {
         "alignmentgroup": "True",
         "hovertemplate": "Nationality=American/South African<br>Decade=2000<br>DateAcquired=%{x}<br>Count=%{y}<extra></extra>",
         "legendgroup": "American/South African",
         "marker": {
          "color": "#0000CD",
          "pattern": {
           "shape": ""
          }
         },
         "name": "American/South African",
         "offsetgroup": "American/South African",
         "orientation": "v",
         "showlegend": true,
         "textposition": "auto",
         "type": "bar",
         "x": [
          2009,
          2005,
          2001,
          2002,
          2004
         ],
         "xaxis": "x",
         "y": [
          1,
          2,
          3,
          1,
          1
         ],
         "yaxis": "y"
        },
        {
         "alignmentgroup": "True",
         "hovertemplate": "Nationality=American<br>Decade=2000<br>DateAcquired=%{x}<br>Count=%{y}<extra></extra>",
         "legendgroup": "American",
         "marker": {
          "color": "#191970",
          "pattern": {
           "shape": ""
          }
         },
         "name": "American",
         "offsetgroup": "American",
         "orientation": "v",
         "showlegend": true,
         "textposition": "auto",
         "type": "bar",
         "x": [
          2000,
          2001,
          2002,
          2003,
          2004,
          2005,
          2006,
          2007,
          2008,
          2009
         ],
         "xaxis": "x",
         "y": [
          4,
          54,
          44,
          26,
          44,
          52,
          53,
          65,
          34,
          29
         ],
         "yaxis": "y"
        },
        {
         "alignmentgroup": "True",
         "hovertemplate": "Nationality=American<br>Decade=2010<br>DateAcquired=%{x}<br>Count=%{y}<extra></extra>",
         "legendgroup": "American",
         "marker": {
          "color": "#191970",
          "pattern": {
           "shape": ""
          }
         },
         "name": "American",
         "offsetgroup": "American",
         "orientation": "v",
         "showlegend": false,
         "textposition": "auto",
         "type": "bar",
         "x": [
          2010,
          2011,
          2012,
          2013,
          2015
         ],
         "xaxis": "x2",
         "y": [
          7,
          23,
          22,
          3,
          4
         ],
         "yaxis": "y2"
        },
        {
         "alignmentgroup": "True",
         "hovertemplate": "Nationality=American <br>Decade=2000<br>DateAcquired=%{x}<br>Count=%{y}<extra></extra>",
         "legendgroup": "American ",
         "marker": {
          "color": "#FFDEAD",
          "pattern": {
           "shape": ""
          }
         },
         "name": "American ",
         "offsetgroup": "American ",
         "orientation": "v",
         "showlegend": true,
         "textposition": "auto",
         "type": "bar",
         "x": [
          2001,
          2002,
          2003,
          2004,
          2005,
          2006,
          2007,
          2009
         ],
         "xaxis": "x",
         "y": [
          4,
          2,
          1,
          5,
          1,
          10,
          5,
          1
         ],
         "yaxis": "y"
        },
        {
         "alignmentgroup": "True",
         "hovertemplate": "Nationality=American/British<br>Decade=2000<br>DateAcquired=%{x}<br>Count=%{y}<extra></extra>",
         "legendgroup": "American/British",
         "marker": {
          "color": "#DEB887",
          "pattern": {
           "shape": ""
          }
         },
         "name": "American/British",
         "offsetgroup": "American/British",
         "orientation": "v",
         "showlegend": true,
         "textposition": "auto",
         "type": "bar",
         "x": [
          2001,
          2003
         ],
         "xaxis": "x",
         "y": [
          1,
          1
         ],
         "yaxis": "y"
        },
        {
         "alignmentgroup": "True",
         "hovertemplate": "Nationality=American/Canadian<br>Decade=2000<br>DateAcquired=%{x}<br>Count=%{y}<extra></extra>",
         "legendgroup": "American/Canadian",
         "marker": {
          "color": "#BC8F8F",
          "pattern": {
           "shape": ""
          }
         },
         "name": "American/Canadian",
         "offsetgroup": "American/Canadian",
         "orientation": "v",
         "showlegend": true,
         "textposition": "auto",
         "type": "bar",
         "x": [
          2003
         ],
         "xaxis": "x",
         "y": [
          1
         ],
         "yaxis": "y"
        },
        {
         "alignmentgroup": "True",
         "hovertemplate": "Nationality=Belgian<br>Decade=2000<br>DateAcquired=%{x}<br>Count=%{y}<extra></extra>",
         "legendgroup": "Belgian",
         "marker": {
          "color": "#DAA520",
          "pattern": {
           "shape": ""
          }
         },
         "name": "Belgian",
         "offsetgroup": "Belgian",
         "orientation": "v",
         "showlegend": true,
         "textposition": "auto",
         "type": "bar",
         "x": [
          2001,
          2003,
          2002,
          2004,
          2005,
          2008
         ],
         "xaxis": "x",
         "y": [
          1,
          1,
          2,
          2,
          3,
          2
         ],
         "yaxis": "y"
        },
        {
         "alignmentgroup": "True",
         "hovertemplate": "Nationality=Canadian<br>Decade=2000<br>DateAcquired=%{x}<br>Count=%{y}<extra></extra>",
         "legendgroup": "Canadian",
         "marker": {
          "color": "#B8860B",
          "pattern": {
           "shape": ""
          }
         },
         "name": "Canadian",
         "offsetgroup": "Canadian",
         "orientation": "v",
         "showlegend": true,
         "textposition": "auto",
         "type": "bar",
         "x": [
          2004,
          2005,
          2006,
          2007,
          2008,
          2009,
          2002,
          2003,
          2000,
          2001
         ],
         "xaxis": "x",
         "y": [
          11,
          16,
          12,
          11,
          4,
          1,
          6,
          4,
          1,
          11
         ],
         "yaxis": "y"
        },
        {
         "alignmentgroup": "True",
         "hovertemplate": "Nationality=Canadian<br>Decade=2010<br>DateAcquired=%{x}<br>Count=%{y}<extra></extra>",
         "legendgroup": "Canadian",
         "marker": {
          "color": "#B8860B",
          "pattern": {
           "shape": ""
          }
         },
         "name": "Canadian",
         "offsetgroup": "Canadian",
         "orientation": "v",
         "showlegend": false,
         "textposition": "auto",
         "type": "bar",
         "x": [
          2011
         ],
         "xaxis": "x2",
         "y": [
          4
         ],
         "yaxis": "y2"
        },
        {
         "alignmentgroup": "True",
         "hovertemplate": "Nationality=Venezuelan<br>Decade=2000<br>DateAcquired=%{x}<br>Count=%{y}<extra></extra>",
         "legendgroup": "Venezuelan",
         "marker": {
          "color": "#D2691E",
          "pattern": {
           "shape": ""
          }
         },
         "name": "Venezuelan",
         "offsetgroup": "Venezuelan",
         "orientation": "v",
         "showlegend": true,
         "textposition": "auto",
         "type": "bar",
         "x": [
          2001
         ],
         "xaxis": "x",
         "y": [
          1
         ],
         "yaxis": "y"
        },
        {
         "alignmentgroup": "True",
         "hovertemplate": "Nationality=Chilean<br>Decade=2000<br>DateAcquired=%{x}<br>Count=%{y}<extra></extra>",
         "legendgroup": "Chilean",
         "marker": {
          "color": "#8B4513",
          "pattern": {
           "shape": ""
          }
         },
         "name": "Chilean",
         "offsetgroup": "Chilean",
         "orientation": "v",
         "showlegend": true,
         "textposition": "auto",
         "type": "bar",
         "x": [
          2004,
          2005
         ],
         "xaxis": "x",
         "y": [
          1,
          1
         ],
         "yaxis": "y"
        },
        {
         "alignmentgroup": "True",
         "hovertemplate": "Nationality=Chilean?Chilean<br>Decade=2000<br>DateAcquired=%{x}<br>Count=%{y}<extra></extra>",
         "legendgroup": "Chilean?Chilean",
         "marker": {
          "color": "#A52A2A",
          "pattern": {
           "shape": ""
          }
         },
         "name": "Chilean?Chilean",
         "offsetgroup": "Chilean?Chilean",
         "orientation": "v",
         "showlegend": true,
         "textposition": "auto",
         "type": "bar",
         "x": [
          2002,
          2003
         ],
         "xaxis": "x",
         "y": [
          1,
          1
         ],
         "yaxis": "y"
        },
        {
         "alignmentgroup": "True",
         "hovertemplate": "Nationality=Chinese<br>Decade=2000<br>DateAcquired=%{x}<br>Count=%{y}<extra></extra>",
         "legendgroup": "Chinese",
         "marker": {
          "color": "#F0FFF0",
          "pattern": {
           "shape": ""
          }
         },
         "name": "Chinese",
         "offsetgroup": "Chinese",
         "orientation": "v",
         "showlegend": true,
         "textposition": "auto",
         "type": "bar",
         "x": [
          2002
         ],
         "xaxis": "x",
         "y": [
          2
         ],
         "yaxis": "y"
        },
        {
         "alignmentgroup": "True",
         "hovertemplate": "Nationality=Colombian<br>Decade=2000<br>DateAcquired=%{x}<br>Count=%{y}<extra></extra>",
         "legendgroup": "Colombian",
         "marker": {
          "color": "#708090",
          "pattern": {
           "shape": ""
          }
         },
         "name": "Colombian",
         "offsetgroup": "Colombian",
         "orientation": "v",
         "showlegend": true,
         "textposition": "auto",
         "type": "bar",
         "x": [
          2005,
          2007
         ],
         "xaxis": "x",
         "y": [
          2,
          5
         ],
         "yaxis": "y"
        },
        {
         "alignmentgroup": "True",
         "hovertemplate": "Nationality=Croatian<br>Decade=2000<br>DateAcquired=%{x}<br>Count=%{y}<extra></extra>",
         "legendgroup": "Croatian",
         "marker": {
          "color": "#2F4F4F",
          "pattern": {
           "shape": ""
          }
         },
         "name": "Croatian",
         "offsetgroup": "Croatian",
         "orientation": "v",
         "showlegend": true,
         "textposition": "auto",
         "type": "bar",
         "x": [
          2003,
          2005
         ],
         "xaxis": "x",
         "y": [
          1,
          1
         ],
         "yaxis": "y"
        },
        {
         "alignmentgroup": "True",
         "hovertemplate": "Nationality=Czech<br>Decade=2000<br>DateAcquired=%{x}<br>Count=%{y}<extra></extra>",
         "legendgroup": "Czech",
         "marker": {
          "color": "#696969",
          "pattern": {
           "shape": ""
          }
         },
         "name": "Czech",
         "offsetgroup": "Czech",
         "orientation": "v",
         "showlegend": true,
         "textposition": "auto",
         "type": "bar",
         "x": [
          2001,
          2003,
          2006
         ],
         "xaxis": "x",
         "y": [
          2,
          1,
          2
         ],
         "yaxis": "y"
        },
        {
         "alignmentgroup": "True",
         "hovertemplate": "Nationality=Dutch<br>Decade=2000<br>DateAcquired=%{x}<br>Count=%{y}<extra></extra>",
         "legendgroup": "Dutch",
         "marker": {
          "color": "#8FBC8F",
          "pattern": {
           "shape": ""
          }
         },
         "name": "Dutch",
         "offsetgroup": "Dutch",
         "orientation": "v",
         "showlegend": true,
         "textposition": "auto",
         "type": "bar",
         "x": [
          2001,
          2003,
          2004,
          2005,
          2006,
          2007,
          2008
         ],
         "xaxis": "x",
         "y": [
          6,
          1,
          9,
          5,
          4,
          2,
          2
         ],
         "yaxis": "y"
        },
        {
         "alignmentgroup": "True",
         "hovertemplate": "Nationality=Dutch<br>Decade=2010<br>DateAcquired=%{x}<br>Count=%{y}<extra></extra>",
         "legendgroup": "Dutch",
         "marker": {
          "color": "#8FBC8F",
          "pattern": {
           "shape": ""
          }
         },
         "name": "Dutch",
         "offsetgroup": "Dutch",
         "orientation": "v",
         "showlegend": false,
         "textposition": "auto",
         "type": "bar",
         "x": [
          2010,
          2011,
          2012
         ],
         "xaxis": "x2",
         "y": [
          1,
          1,
          1
         ],
         "yaxis": "y2"
        },
        {
         "alignmentgroup": "True",
         "hovertemplate": "Nationality=Brasilian<br>Decade=2000<br>DateAcquired=%{x}<br>Count=%{y}<extra></extra>",
         "legendgroup": "Brasilian",
         "marker": {
          "color": "#00CED1",
          "pattern": {
           "shape": ""
          }
         },
         "name": "Brasilian",
         "offsetgroup": "Brasilian",
         "orientation": "v",
         "showlegend": true,
         "textposition": "auto",
         "type": "bar",
         "x": [
          2001,
          2002,
          2003,
          2004,
          2005,
          2007
         ],
         "xaxis": "x",
         "y": [
          3,
          4,
          1,
          3,
          1,
          8
         ],
         "yaxis": "y"
        },
        {
         "alignmentgroup": "True",
         "hovertemplate": "Nationality=Brasilian/American<br>Decade=2000<br>DateAcquired=%{x}<br>Count=%{y}<extra></extra>",
         "legendgroup": "Brasilian/American",
         "marker": {
          "color": "#F0FFF0",
          "pattern": {
           "shape": ""
          }
         },
         "name": "Brasilian/American",
         "offsetgroup": "Brasilian/American",
         "orientation": "v",
         "showlegend": true,
         "textposition": "auto",
         "type": "bar",
         "x": [
          2003
         ],
         "xaxis": "x",
         "y": [
          2
         ],
         "yaxis": "y"
        },
        {
         "alignmentgroup": "True",
         "hovertemplate": "Nationality=British<br>Decade=2000<br>DateAcquired=%{x}<br>Count=%{y}<extra></extra>",
         "legendgroup": "British",
         "marker": {
          "color": "#F0FFFF",
          "pattern": {
           "shape": ""
          }
         },
         "name": "British",
         "offsetgroup": "British",
         "orientation": "v",
         "showlegend": true,
         "textposition": "auto",
         "type": "bar",
         "x": [
          2000,
          2001,
          2002,
          2004,
          2003,
          2008,
          2007,
          2006,
          2005,
          2009
         ],
         "xaxis": "x",
         "y": [
          1,
          3,
          15,
          11,
          5,
          6,
          15,
          8,
          11,
          1
         ],
         "yaxis": "y"
        },
        {
         "alignmentgroup": "True",
         "hovertemplate": "Nationality=British<br>Decade=2010<br>DateAcquired=%{x}<br>Count=%{y}<extra></extra>",
         "legendgroup": "British",
         "marker": {
          "color": "#F0FFFF",
          "pattern": {
           "shape": ""
          }
         },
         "name": "British",
         "offsetgroup": "British",
         "orientation": "v",
         "showlegend": false,
         "textposition": "auto",
         "type": "bar",
         "x": [
          2012,
          2013
         ],
         "xaxis": "x2",
         "y": [
          1,
          1
         ],
         "yaxis": "y2"
        },
        {
         "alignmentgroup": "True",
         "hovertemplate": "Nationality=British/Irish<br>Decade=2000<br>DateAcquired=%{x}<br>Count=%{y}<extra></extra>",
         "legendgroup": "British/Irish",
         "marker": {
          "color": "#F5F5DC",
          "pattern": {
           "shape": ""
          }
         },
         "name": "British/Irish",
         "offsetgroup": "British/Irish",
         "orientation": "v",
         "showlegend": true,
         "textposition": "auto",
         "type": "bar",
         "x": [
          2008,
          2007
         ],
         "xaxis": "x",
         "y": [
          1,
          4
         ],
         "yaxis": "y"
        },
        {
         "alignmentgroup": "True",
         "hovertemplate": "Nationality=British/Irish<br>Decade=2010<br>DateAcquired=%{x}<br>Count=%{y}<extra></extra>",
         "legendgroup": "British/Irish",
         "marker": {
          "color": "#F5F5DC",
          "pattern": {
           "shape": ""
          }
         },
         "name": "British/Irish",
         "offsetgroup": "British/Irish",
         "orientation": "v",
         "showlegend": false,
         "textposition": "auto",
         "type": "bar",
         "x": [
          2011
         ],
         "xaxis": "x2",
         "y": [
          1
         ],
         "yaxis": "y2"
        },
        {
         "alignmentgroup": "True",
         "hovertemplate": "Nationality=British/Canadian<br>Decade=2000<br>DateAcquired=%{x}<br>Count=%{y}<extra></extra>",
         "legendgroup": "British/Canadian",
         "marker": {
          "color": "#FFFFF0",
          "pattern": {
           "shape": ""
          }
         },
         "name": "British/Canadian",
         "offsetgroup": "British/Canadian",
         "orientation": "v",
         "showlegend": true,
         "textposition": "auto",
         "type": "bar",
         "x": [
          2003,
          2002
         ],
         "xaxis": "x",
         "y": [
          1,
          1
         ],
         "yaxis": "y"
        },
        {
         "alignmentgroup": "True",
         "hovertemplate": "Nationality=Afghan/American<br>Decade=2010<br>DateAcquired=%{x}<br>Count=%{y}<extra></extra>",
         "legendgroup": "Afghan/American",
         "marker": {
          "color": "#FFE4E1",
          "pattern": {
           "shape": ""
          }
         },
         "name": "Afghan/American",
         "offsetgroup": "Afghan/American",
         "orientation": "v",
         "showlegend": true,
         "textposition": "auto",
         "type": "bar",
         "x": [
          2011
         ],
         "xaxis": "x2",
         "y": [
          1
         ],
         "yaxis": "y2"
        }
       ],
       "layout": {
        "annotations": [
         {
          "font": {},
          "showarrow": false,
          "text": "Decade=2000",
          "x": 0.235,
          "xanchor": "center",
          "xref": "paper",
          "y": 1,
          "yanchor": "bottom",
          "yref": "paper"
         },
         {
          "font": {},
          "showarrow": false,
          "text": "Decade=2010",
          "x": 0.765,
          "xanchor": "center",
          "xref": "paper",
          "y": 1,
          "yanchor": "bottom",
          "yref": "paper"
         }
        ],
        "barmode": "relative",
        "height": 700,
        "legend": {
         "title": {
          "text": "Nationality"
         },
         "tracegroupgap": 0
        },
        "template": {
         "data": {
          "bar": [
           {
            "error_x": {
             "color": "#2a3f5f"
            },
            "error_y": {
             "color": "#2a3f5f"
            },
            "marker": {
             "line": {
              "color": "#E5ECF6",
              "width": 0.5
             },
             "pattern": {
              "fillmode": "overlay",
              "size": 10,
              "solidity": 0.2
             }
            },
            "type": "bar"
           }
          ],
          "barpolar": [
           {
            "marker": {
             "line": {
              "color": "#E5ECF6",
              "width": 0.5
             },
             "pattern": {
              "fillmode": "overlay",
              "size": 10,
              "solidity": 0.2
             }
            },
            "type": "barpolar"
           }
          ],
          "carpet": [
           {
            "aaxis": {
             "endlinecolor": "#2a3f5f",
             "gridcolor": "white",
             "linecolor": "white",
             "minorgridcolor": "white",
             "startlinecolor": "#2a3f5f"
            },
            "baxis": {
             "endlinecolor": "#2a3f5f",
             "gridcolor": "white",
             "linecolor": "white",
             "minorgridcolor": "white",
             "startlinecolor": "#2a3f5f"
            },
            "type": "carpet"
           }
          ],
          "choropleth": [
           {
            "colorbar": {
             "outlinewidth": 0,
             "ticks": ""
            },
            "type": "choropleth"
           }
          ],
          "contour": [
           {
            "colorbar": {
             "outlinewidth": 0,
             "ticks": ""
            },
            "colorscale": [
             [
              0,
              "#0d0887"
             ],
             [
              0.1111111111111111,
              "#46039f"
             ],
             [
              0.2222222222222222,
              "#7201a8"
             ],
             [
              0.3333333333333333,
              "#9c179e"
             ],
             [
              0.4444444444444444,
              "#bd3786"
             ],
             [
              0.5555555555555556,
              "#d8576b"
             ],
             [
              0.6666666666666666,
              "#ed7953"
             ],
             [
              0.7777777777777778,
              "#fb9f3a"
             ],
             [
              0.8888888888888888,
              "#fdca26"
             ],
             [
              1,
              "#f0f921"
             ]
            ],
            "type": "contour"
           }
          ],
          "contourcarpet": [
           {
            "colorbar": {
             "outlinewidth": 0,
             "ticks": ""
            },
            "type": "contourcarpet"
           }
          ],
          "heatmap": [
           {
            "colorbar": {
             "outlinewidth": 0,
             "ticks": ""
            },
            "colorscale": [
             [
              0,
              "#0d0887"
             ],
             [
              0.1111111111111111,
              "#46039f"
             ],
             [
              0.2222222222222222,
              "#7201a8"
             ],
             [
              0.3333333333333333,
              "#9c179e"
             ],
             [
              0.4444444444444444,
              "#bd3786"
             ],
             [
              0.5555555555555556,
              "#d8576b"
             ],
             [
              0.6666666666666666,
              "#ed7953"
             ],
             [
              0.7777777777777778,
              "#fb9f3a"
             ],
             [
              0.8888888888888888,
              "#fdca26"
             ],
             [
              1,
              "#f0f921"
             ]
            ],
            "type": "heatmap"
           }
          ],
          "heatmapgl": [
           {
            "colorbar": {
             "outlinewidth": 0,
             "ticks": ""
            },
            "colorscale": [
             [
              0,
              "#0d0887"
             ],
             [
              0.1111111111111111,
              "#46039f"
             ],
             [
              0.2222222222222222,
              "#7201a8"
             ],
             [
              0.3333333333333333,
              "#9c179e"
             ],
             [
              0.4444444444444444,
              "#bd3786"
             ],
             [
              0.5555555555555556,
              "#d8576b"
             ],
             [
              0.6666666666666666,
              "#ed7953"
             ],
             [
              0.7777777777777778,
              "#fb9f3a"
             ],
             [
              0.8888888888888888,
              "#fdca26"
             ],
             [
              1,
              "#f0f921"
             ]
            ],
            "type": "heatmapgl"
           }
          ],
          "histogram": [
           {
            "marker": {
             "pattern": {
              "fillmode": "overlay",
              "size": 10,
              "solidity": 0.2
             }
            },
            "type": "histogram"
           }
          ],
          "histogram2d": [
           {
            "colorbar": {
             "outlinewidth": 0,
             "ticks": ""
            },
            "colorscale": [
             [
              0,
              "#0d0887"
             ],
             [
              0.1111111111111111,
              "#46039f"
             ],
             [
              0.2222222222222222,
              "#7201a8"
             ],
             [
              0.3333333333333333,
              "#9c179e"
             ],
             [
              0.4444444444444444,
              "#bd3786"
             ],
             [
              0.5555555555555556,
              "#d8576b"
             ],
             [
              0.6666666666666666,
              "#ed7953"
             ],
             [
              0.7777777777777778,
              "#fb9f3a"
             ],
             [
              0.8888888888888888,
              "#fdca26"
             ],
             [
              1,
              "#f0f921"
             ]
            ],
            "type": "histogram2d"
           }
          ],
          "histogram2dcontour": [
           {
            "colorbar": {
             "outlinewidth": 0,
             "ticks": ""
            },
            "colorscale": [
             [
              0,
              "#0d0887"
             ],
             [
              0.1111111111111111,
              "#46039f"
             ],
             [
              0.2222222222222222,
              "#7201a8"
             ],
             [
              0.3333333333333333,
              "#9c179e"
             ],
             [
              0.4444444444444444,
              "#bd3786"
             ],
             [
              0.5555555555555556,
              "#d8576b"
             ],
             [
              0.6666666666666666,
              "#ed7953"
             ],
             [
              0.7777777777777778,
              "#fb9f3a"
             ],
             [
              0.8888888888888888,
              "#fdca26"
             ],
             [
              1,
              "#f0f921"
             ]
            ],
            "type": "histogram2dcontour"
           }
          ],
          "mesh3d": [
           {
            "colorbar": {
             "outlinewidth": 0,
             "ticks": ""
            },
            "type": "mesh3d"
           }
          ],
          "parcoords": [
           {
            "line": {
             "colorbar": {
              "outlinewidth": 0,
              "ticks": ""
             }
            },
            "type": "parcoords"
           }
          ],
          "pie": [
           {
            "automargin": true,
            "type": "pie"
           }
          ],
          "scatter": [
           {
            "fillpattern": {
             "fillmode": "overlay",
             "size": 10,
             "solidity": 0.2
            },
            "type": "scatter"
           }
          ],
          "scatter3d": [
           {
            "line": {
             "colorbar": {
              "outlinewidth": 0,
              "ticks": ""
             }
            },
            "marker": {
             "colorbar": {
              "outlinewidth": 0,
              "ticks": ""
             }
            },
            "type": "scatter3d"
           }
          ],
          "scattercarpet": [
           {
            "marker": {
             "colorbar": {
              "outlinewidth": 0,
              "ticks": ""
             }
            },
            "type": "scattercarpet"
           }
          ],
          "scattergeo": [
           {
            "marker": {
             "colorbar": {
              "outlinewidth": 0,
              "ticks": ""
             }
            },
            "type": "scattergeo"
           }
          ],
          "scattergl": [
           {
            "marker": {
             "colorbar": {
              "outlinewidth": 0,
              "ticks": ""
             }
            },
            "type": "scattergl"
           }
          ],
          "scattermapbox": [
           {
            "marker": {
             "colorbar": {
              "outlinewidth": 0,
              "ticks": ""
             }
            },
            "type": "scattermapbox"
           }
          ],
          "scatterpolar": [
           {
            "marker": {
             "colorbar": {
              "outlinewidth": 0,
              "ticks": ""
             }
            },
            "type": "scatterpolar"
           }
          ],
          "scatterpolargl": [
           {
            "marker": {
             "colorbar": {
              "outlinewidth": 0,
              "ticks": ""
             }
            },
            "type": "scatterpolargl"
           }
          ],
          "scatterternary": [
           {
            "marker": {
             "colorbar": {
              "outlinewidth": 0,
              "ticks": ""
             }
            },
            "type": "scatterternary"
           }
          ],
          "surface": [
           {
            "colorbar": {
             "outlinewidth": 0,
             "ticks": ""
            },
            "colorscale": [
             [
              0,
              "#0d0887"
             ],
             [
              0.1111111111111111,
              "#46039f"
             ],
             [
              0.2222222222222222,
              "#7201a8"
             ],
             [
              0.3333333333333333,
              "#9c179e"
             ],
             [
              0.4444444444444444,
              "#bd3786"
             ],
             [
              0.5555555555555556,
              "#d8576b"
             ],
             [
              0.6666666666666666,
              "#ed7953"
             ],
             [
              0.7777777777777778,
              "#fb9f3a"
             ],
             [
              0.8888888888888888,
              "#fdca26"
             ],
             [
              1,
              "#f0f921"
             ]
            ],
            "type": "surface"
           }
          ],
          "table": [
           {
            "cells": {
             "fill": {
              "color": "#EBF0F8"
             },
             "line": {
              "color": "white"
             }
            },
            "header": {
             "fill": {
              "color": "#C8D4E3"
             },
             "line": {
              "color": "white"
             }
            },
            "type": "table"
           }
          ]
         },
         "layout": {
          "annotationdefaults": {
           "arrowcolor": "#2a3f5f",
           "arrowhead": 0,
           "arrowwidth": 1
          },
          "autotypenumbers": "strict",
          "coloraxis": {
           "colorbar": {
            "outlinewidth": 0,
            "ticks": ""
           }
          },
          "colorscale": {
           "diverging": [
            [
             0,
             "#8e0152"
            ],
            [
             0.1,
             "#c51b7d"
            ],
            [
             0.2,
             "#de77ae"
            ],
            [
             0.3,
             "#f1b6da"
            ],
            [
             0.4,
             "#fde0ef"
            ],
            [
             0.5,
             "#f7f7f7"
            ],
            [
             0.6,
             "#e6f5d0"
            ],
            [
             0.7,
             "#b8e186"
            ],
            [
             0.8,
             "#7fbc41"
            ],
            [
             0.9,
             "#4d9221"
            ],
            [
             1,
             "#276419"
            ]
           ],
           "sequential": [
            [
             0,
             "#0d0887"
            ],
            [
             0.1111111111111111,
             "#46039f"
            ],
            [
             0.2222222222222222,
             "#7201a8"
            ],
            [
             0.3333333333333333,
             "#9c179e"
            ],
            [
             0.4444444444444444,
             "#bd3786"
            ],
            [
             0.5555555555555556,
             "#d8576b"
            ],
            [
             0.6666666666666666,
             "#ed7953"
            ],
            [
             0.7777777777777778,
             "#fb9f3a"
            ],
            [
             0.8888888888888888,
             "#fdca26"
            ],
            [
             1,
             "#f0f921"
            ]
           ],
           "sequentialminus": [
            [
             0,
             "#0d0887"
            ],
            [
             0.1111111111111111,
             "#46039f"
            ],
            [
             0.2222222222222222,
             "#7201a8"
            ],
            [
             0.3333333333333333,
             "#9c179e"
            ],
            [
             0.4444444444444444,
             "#bd3786"
            ],
            [
             0.5555555555555556,
             "#d8576b"
            ],
            [
             0.6666666666666666,
             "#ed7953"
            ],
            [
             0.7777777777777778,
             "#fb9f3a"
            ],
            [
             0.8888888888888888,
             "#fdca26"
            ],
            [
             1,
             "#f0f921"
            ]
           ]
          },
          "colorway": [
           "#636efa",
           "#EF553B",
           "#00cc96",
           "#ab63fa",
           "#FFA15A",
           "#19d3f3",
           "#FF6692",
           "#B6E880",
           "#FF97FF",
           "#FECB52"
          ],
          "font": {
           "color": "#2a3f5f"
          },
          "geo": {
           "bgcolor": "white",
           "lakecolor": "white",
           "landcolor": "#E5ECF6",
           "showlakes": true,
           "showland": true,
           "subunitcolor": "white"
          },
          "hoverlabel": {
           "align": "left"
          },
          "hovermode": "closest",
          "mapbox": {
           "style": "light"
          },
          "paper_bgcolor": "white",
          "plot_bgcolor": "#E5ECF6",
          "polar": {
           "angularaxis": {
            "gridcolor": "white",
            "linecolor": "white",
            "ticks": ""
           },
           "bgcolor": "#E5ECF6",
           "radialaxis": {
            "gridcolor": "white",
            "linecolor": "white",
            "ticks": ""
           }
          },
          "scene": {
           "xaxis": {
            "backgroundcolor": "#E5ECF6",
            "gridcolor": "white",
            "gridwidth": 2,
            "linecolor": "white",
            "showbackground": true,
            "ticks": "",
            "zerolinecolor": "white"
           },
           "yaxis": {
            "backgroundcolor": "#E5ECF6",
            "gridcolor": "white",
            "gridwidth": 2,
            "linecolor": "white",
            "showbackground": true,
            "ticks": "",
            "zerolinecolor": "white"
           },
           "zaxis": {
            "backgroundcolor": "#E5ECF6",
            "gridcolor": "white",
            "gridwidth": 2,
            "linecolor": "white",
            "showbackground": true,
            "ticks": "",
            "zerolinecolor": "white"
           }
          },
          "shapedefaults": {
           "line": {
            "color": "#2a3f5f"
           }
          },
          "ternary": {
           "aaxis": {
            "gridcolor": "white",
            "linecolor": "white",
            "ticks": ""
           },
           "baxis": {
            "gridcolor": "white",
            "linecolor": "white",
            "ticks": ""
           },
           "bgcolor": "#E5ECF6",
           "caxis": {
            "gridcolor": "white",
            "linecolor": "white",
            "ticks": ""
           }
          },
          "title": {
           "x": 0.05
          },
          "xaxis": {
           "automargin": true,
           "gridcolor": "white",
           "linecolor": "white",
           "ticks": "",
           "title": {
            "standoff": 15
           },
           "zerolinecolor": "white",
           "zerolinewidth": 2
          },
          "yaxis": {
           "automargin": true,
           "gridcolor": "white",
           "linecolor": "white",
           "ticks": "",
           "title": {
            "standoff": 15
           },
           "zerolinecolor": "white",
           "zerolinewidth": 2
          }
         }
        },
        "title": {
         "text": "Artworks acquired by Rhizome over decades split by nationality"
        },
        "xaxis": {
         "anchor": "y",
         "domain": [
          0,
          0.47
         ],
         "title": {
          "text": "DateAcquired"
         }
        },
        "xaxis2": {
         "anchor": "y2",
         "domain": [
          0.53,
          1
         ],
         "title": {
          "text": "DateAcquired"
         }
        },
        "yaxis": {
         "anchor": "x",
         "domain": [
          0,
          1
         ],
         "showticklabels": true,
         "title": {
          "text": "Count"
         }
        },
        "yaxis2": {
         "anchor": "x2",
         "domain": [
          0,
          1
         ],
         "showticklabels": true
        }
       }
      }
     },
     "metadata": {},
     "output_type": "display_data"
    }
   ],
   "source": [
    "#TO DOs:\n",
    "# write down color patterns to keep them differentiated [need to do next step before to count the total colors needed] OK\n",
    "# replot dataset any nationality that has count < 5 becomes 'Others' OK\n",
    "# if we can do facets  we keep decades OK\n",
    "# make them all barplots OK\n",
    "# varible like an array the names of nats that are count < 5 to keeep them for later OK\n",
    "#plots for both Galleries OK\n",
    "\n",
    "#MOMA\n",
    "fig11 = px.bar(MC_working_final, x=\"DateAcquired\", y=\"Count\", color=\"Nationality\", color_discrete_sequence= momacolorscale,facet_col=\"Decade\", facet_col_spacing=0.06,  facet_col_wrap=2, title=\"Artworks acquired by MoMA over decades split by nationality\")\n",
    "fig11.update_xaxes(matches=None, showticklabels=True)\n",
    "fig11.update_yaxes(matches=None, showticklabels=True)\n",
    "fig11.update_layout(height=1800)\n",
    "fig11.show()\n",
    "\n",
    "#RHZ\n",
    "fig12 = px.bar(RH_working_final, x=\"DateAcquired\", y=\"Count\", color=\"Nationality\",facet_col=\"Decade\", color_discrete_sequence=rhzcolorscale, facet_col_spacing=0.06, facet_col_wrap=2, title=\"Artworks acquired by Rhizome over decades split by nationality\")\n",
    "fig12.update_xaxes(matches=None)\n",
    "fig12.update_yaxes(matches=None, showticklabels=True)\n",
    "fig12.update_layout(height=700)\n",
    "fig12.show()"
   ]
  },
  {
   "cell_type": "markdown",
   "metadata": {},
   "source": [
    "## 5a How does nationality representation within each dataset compare? \n",
    "-> across time OR total OR medium\n",
    "\n",
    "Viz: \n",
    "\n",
    "1/moma pre v moma post w/ bar or column charts (maybe stacked bar chart) \n",
    "\n",
    "2/  rhizome v moma1983 w/ sampling (shrink down by 100%?) over time w/ line plot \n",
    "\n",
    "\n",
    "Story: ?? \n",
    "\n"
   ]
  },
  {
   "cell_type": "code",
   "execution_count": null,
   "metadata": {},
   "outputs": [
    {
     "name": "stderr",
     "output_type": "stream",
     "text": [
      "/var/folders/qj/xh48vw9d4z5_h6wzs6r2smdh0000gn/T/ipykernel_761/4273738026.py:12: SettingWithCopyWarning:\n",
      "\n",
      "\n",
      "A value is trying to be set on a copy of a slice from a DataFrame.\n",
      "Try using .loc[row_indexer,col_indexer] = value instead\n",
      "\n",
      "See the caveats in the documentation: https://pandas.pydata.org/pandas-docs/stable/user_guide/indexing.html#returning-a-view-versus-a-copy\n",
      "\n",
      "/var/folders/qj/xh48vw9d4z5_h6wzs6r2smdh0000gn/T/ipykernel_761/4273738026.py:12: SettingWithCopyWarning:\n",
      "\n",
      "\n",
      "A value is trying to be set on a copy of a slice from a DataFrame.\n",
      "Try using .loc[row_indexer,col_indexer] = value instead\n",
      "\n",
      "See the caveats in the documentation: https://pandas.pydata.org/pandas-docs/stable/user_guide/indexing.html#returning-a-view-versus-a-copy\n",
      "\n",
      "/var/folders/qj/xh48vw9d4z5_h6wzs6r2smdh0000gn/T/ipykernel_761/4273738026.py:12: SettingWithCopyWarning:\n",
      "\n",
      "\n",
      "A value is trying to be set on a copy of a slice from a DataFrame.\n",
      "Try using .loc[row_indexer,col_indexer] = value instead\n",
      "\n",
      "See the caveats in the documentation: https://pandas.pydata.org/pandas-docs/stable/user_guide/indexing.html#returning-a-view-versus-a-copy\n",
      "\n",
      "/var/folders/qj/xh48vw9d4z5_h6wzs6r2smdh0000gn/T/ipykernel_761/4273738026.py:12: SettingWithCopyWarning:\n",
      "\n",
      "\n",
      "A value is trying to be set on a copy of a slice from a DataFrame.\n",
      "Try using .loc[row_indexer,col_indexer] = value instead\n",
      "\n",
      "See the caveats in the documentation: https://pandas.pydata.org/pandas-docs/stable/user_guide/indexing.html#returning-a-view-versus-a-copy\n",
      "\n",
      "/var/folders/qj/xh48vw9d4z5_h6wzs6r2smdh0000gn/T/ipykernel_761/4273738026.py:12: SettingWithCopyWarning:\n",
      "\n",
      "\n",
      "A value is trying to be set on a copy of a slice from a DataFrame.\n",
      "Try using .loc[row_indexer,col_indexer] = value instead\n",
      "\n",
      "See the caveats in the documentation: https://pandas.pydata.org/pandas-docs/stable/user_guide/indexing.html#returning-a-view-versus-a-copy\n",
      "\n",
      "/var/folders/qj/xh48vw9d4z5_h6wzs6r2smdh0000gn/T/ipykernel_761/4273738026.py:12: SettingWithCopyWarning:\n",
      "\n",
      "\n",
      "A value is trying to be set on a copy of a slice from a DataFrame.\n",
      "Try using .loc[row_indexer,col_indexer] = value instead\n",
      "\n",
      "See the caveats in the documentation: https://pandas.pydata.org/pandas-docs/stable/user_guide/indexing.html#returning-a-view-versus-a-copy\n",
      "\n",
      "/var/folders/qj/xh48vw9d4z5_h6wzs6r2smdh0000gn/T/ipykernel_761/4273738026.py:12: SettingWithCopyWarning:\n",
      "\n",
      "\n",
      "A value is trying to be set on a copy of a slice from a DataFrame.\n",
      "Try using .loc[row_indexer,col_indexer] = value instead\n",
      "\n",
      "See the caveats in the documentation: https://pandas.pydata.org/pandas-docs/stable/user_guide/indexing.html#returning-a-view-versus-a-copy\n",
      "\n",
      "/var/folders/qj/xh48vw9d4z5_h6wzs6r2smdh0000gn/T/ipykernel_761/4273738026.py:12: SettingWithCopyWarning:\n",
      "\n",
      "\n",
      "A value is trying to be set on a copy of a slice from a DataFrame.\n",
      "Try using .loc[row_indexer,col_indexer] = value instead\n",
      "\n",
      "See the caveats in the documentation: https://pandas.pydata.org/pandas-docs/stable/user_guide/indexing.html#returning-a-view-versus-a-copy\n",
      "\n",
      "/var/folders/qj/xh48vw9d4z5_h6wzs6r2smdh0000gn/T/ipykernel_761/4273738026.py:12: SettingWithCopyWarning:\n",
      "\n",
      "\n",
      "A value is trying to be set on a copy of a slice from a DataFrame.\n",
      "Try using .loc[row_indexer,col_indexer] = value instead\n",
      "\n",
      "See the caveats in the documentation: https://pandas.pydata.org/pandas-docs/stable/user_guide/indexing.html#returning-a-view-versus-a-copy\n",
      "\n",
      "/var/folders/qj/xh48vw9d4z5_h6wzs6r2smdh0000gn/T/ipykernel_761/4273738026.py:12: SettingWithCopyWarning:\n",
      "\n",
      "\n",
      "A value is trying to be set on a copy of a slice from a DataFrame.\n",
      "Try using .loc[row_indexer,col_indexer] = value instead\n",
      "\n",
      "See the caveats in the documentation: https://pandas.pydata.org/pandas-docs/stable/user_guide/indexing.html#returning-a-view-versus-a-copy\n",
      "\n",
      "/var/folders/qj/xh48vw9d4z5_h6wzs6r2smdh0000gn/T/ipykernel_761/4273738026.py:12: SettingWithCopyWarning:\n",
      "\n",
      "\n",
      "A value is trying to be set on a copy of a slice from a DataFrame.\n",
      "Try using .loc[row_indexer,col_indexer] = value instead\n",
      "\n",
      "See the caveats in the documentation: https://pandas.pydata.org/pandas-docs/stable/user_guide/indexing.html#returning-a-view-versus-a-copy\n",
      "\n",
      "/var/folders/qj/xh48vw9d4z5_h6wzs6r2smdh0000gn/T/ipykernel_761/4273738026.py:12: SettingWithCopyWarning:\n",
      "\n",
      "\n",
      "A value is trying to be set on a copy of a slice from a DataFrame.\n",
      "Try using .loc[row_indexer,col_indexer] = value instead\n",
      "\n",
      "See the caveats in the documentation: https://pandas.pydata.org/pandas-docs/stable/user_guide/indexing.html#returning-a-view-versus-a-copy\n",
      "\n",
      "/var/folders/qj/xh48vw9d4z5_h6wzs6r2smdh0000gn/T/ipykernel_761/4273738026.py:12: SettingWithCopyWarning:\n",
      "\n",
      "\n",
      "A value is trying to be set on a copy of a slice from a DataFrame.\n",
      "Try using .loc[row_indexer,col_indexer] = value instead\n",
      "\n",
      "See the caveats in the documentation: https://pandas.pydata.org/pandas-docs/stable/user_guide/indexing.html#returning-a-view-versus-a-copy\n",
      "\n",
      "/var/folders/qj/xh48vw9d4z5_h6wzs6r2smdh0000gn/T/ipykernel_761/4273738026.py:12: SettingWithCopyWarning:\n",
      "\n",
      "\n",
      "A value is trying to be set on a copy of a slice from a DataFrame.\n",
      "Try using .loc[row_indexer,col_indexer] = value instead\n",
      "\n",
      "See the caveats in the documentation: https://pandas.pydata.org/pandas-docs/stable/user_guide/indexing.html#returning-a-view-versus-a-copy\n",
      "\n",
      "/var/folders/qj/xh48vw9d4z5_h6wzs6r2smdh0000gn/T/ipykernel_761/4273738026.py:12: SettingWithCopyWarning:\n",
      "\n",
      "\n",
      "A value is trying to be set on a copy of a slice from a DataFrame.\n",
      "Try using .loc[row_indexer,col_indexer] = value instead\n",
      "\n",
      "See the caveats in the documentation: https://pandas.pydata.org/pandas-docs/stable/user_guide/indexing.html#returning-a-view-versus-a-copy\n",
      "\n",
      "/var/folders/qj/xh48vw9d4z5_h6wzs6r2smdh0000gn/T/ipykernel_761/4273738026.py:12: SettingWithCopyWarning:\n",
      "\n",
      "\n",
      "A value is trying to be set on a copy of a slice from a DataFrame.\n",
      "Try using .loc[row_indexer,col_indexer] = value instead\n",
      "\n",
      "See the caveats in the documentation: https://pandas.pydata.org/pandas-docs/stable/user_guide/indexing.html#returning-a-view-versus-a-copy\n",
      "\n",
      "/var/folders/qj/xh48vw9d4z5_h6wzs6r2smdh0000gn/T/ipykernel_761/4273738026.py:12: SettingWithCopyWarning:\n",
      "\n",
      "\n",
      "A value is trying to be set on a copy of a slice from a DataFrame.\n",
      "Try using .loc[row_indexer,col_indexer] = value instead\n",
      "\n",
      "See the caveats in the documentation: https://pandas.pydata.org/pandas-docs/stable/user_guide/indexing.html#returning-a-view-versus-a-copy\n",
      "\n",
      "/var/folders/qj/xh48vw9d4z5_h6wzs6r2smdh0000gn/T/ipykernel_761/4273738026.py:12: SettingWithCopyWarning:\n",
      "\n",
      "\n",
      "A value is trying to be set on a copy of a slice from a DataFrame.\n",
      "Try using .loc[row_indexer,col_indexer] = value instead\n",
      "\n",
      "See the caveats in the documentation: https://pandas.pydata.org/pandas-docs/stable/user_guide/indexing.html#returning-a-view-versus-a-copy\n",
      "\n",
      "/var/folders/qj/xh48vw9d4z5_h6wzs6r2smdh0000gn/T/ipykernel_761/4273738026.py:12: SettingWithCopyWarning:\n",
      "\n",
      "\n",
      "A value is trying to be set on a copy of a slice from a DataFrame.\n",
      "Try using .loc[row_indexer,col_indexer] = value instead\n",
      "\n",
      "See the caveats in the documentation: https://pandas.pydata.org/pandas-docs/stable/user_guide/indexing.html#returning-a-view-versus-a-copy\n",
      "\n",
      "/var/folders/qj/xh48vw9d4z5_h6wzs6r2smdh0000gn/T/ipykernel_761/4273738026.py:12: SettingWithCopyWarning:\n",
      "\n",
      "\n",
      "A value is trying to be set on a copy of a slice from a DataFrame.\n",
      "Try using .loc[row_indexer,col_indexer] = value instead\n",
      "\n",
      "See the caveats in the documentation: https://pandas.pydata.org/pandas-docs/stable/user_guide/indexing.html#returning-a-view-versus-a-copy\n",
      "\n",
      "/var/folders/qj/xh48vw9d4z5_h6wzs6r2smdh0000gn/T/ipykernel_761/4273738026.py:12: SettingWithCopyWarning:\n",
      "\n",
      "\n",
      "A value is trying to be set on a copy of a slice from a DataFrame.\n",
      "Try using .loc[row_indexer,col_indexer] = value instead\n",
      "\n",
      "See the caveats in the documentation: https://pandas.pydata.org/pandas-docs/stable/user_guide/indexing.html#returning-a-view-versus-a-copy\n",
      "\n",
      "/var/folders/qj/xh48vw9d4z5_h6wzs6r2smdh0000gn/T/ipykernel_761/4273738026.py:12: SettingWithCopyWarning:\n",
      "\n",
      "\n",
      "A value is trying to be set on a copy of a slice from a DataFrame.\n",
      "Try using .loc[row_indexer,col_indexer] = value instead\n",
      "\n",
      "See the caveats in the documentation: https://pandas.pydata.org/pandas-docs/stable/user_guide/indexing.html#returning-a-view-versus-a-copy\n",
      "\n",
      "/var/folders/qj/xh48vw9d4z5_h6wzs6r2smdh0000gn/T/ipykernel_761/4273738026.py:12: SettingWithCopyWarning:\n",
      "\n",
      "\n",
      "A value is trying to be set on a copy of a slice from a DataFrame.\n",
      "Try using .loc[row_indexer,col_indexer] = value instead\n",
      "\n",
      "See the caveats in the documentation: https://pandas.pydata.org/pandas-docs/stable/user_guide/indexing.html#returning-a-view-versus-a-copy\n",
      "\n",
      "/var/folders/qj/xh48vw9d4z5_h6wzs6r2smdh0000gn/T/ipykernel_761/4273738026.py:12: SettingWithCopyWarning:\n",
      "\n",
      "\n",
      "A value is trying to be set on a copy of a slice from a DataFrame.\n",
      "Try using .loc[row_indexer,col_indexer] = value instead\n",
      "\n",
      "See the caveats in the documentation: https://pandas.pydata.org/pandas-docs/stable/user_guide/indexing.html#returning-a-view-versus-a-copy\n",
      "\n",
      "/var/folders/qj/xh48vw9d4z5_h6wzs6r2smdh0000gn/T/ipykernel_761/4273738026.py:12: SettingWithCopyWarning:\n",
      "\n",
      "\n",
      "A value is trying to be set on a copy of a slice from a DataFrame.\n",
      "Try using .loc[row_indexer,col_indexer] = value instead\n",
      "\n",
      "See the caveats in the documentation: https://pandas.pydata.org/pandas-docs/stable/user_guide/indexing.html#returning-a-view-versus-a-copy\n",
      "\n",
      "/var/folders/qj/xh48vw9d4z5_h6wzs6r2smdh0000gn/T/ipykernel_761/4273738026.py:12: SettingWithCopyWarning:\n",
      "\n",
      "\n",
      "A value is trying to be set on a copy of a slice from a DataFrame.\n",
      "Try using .loc[row_indexer,col_indexer] = value instead\n",
      "\n",
      "See the caveats in the documentation: https://pandas.pydata.org/pandas-docs/stable/user_guide/indexing.html#returning-a-view-versus-a-copy\n",
      "\n",
      "/var/folders/qj/xh48vw9d4z5_h6wzs6r2smdh0000gn/T/ipykernel_761/4273738026.py:12: SettingWithCopyWarning:\n",
      "\n",
      "\n",
      "A value is trying to be set on a copy of a slice from a DataFrame.\n",
      "Try using .loc[row_indexer,col_indexer] = value instead\n",
      "\n",
      "See the caveats in the documentation: https://pandas.pydata.org/pandas-docs/stable/user_guide/indexing.html#returning-a-view-versus-a-copy\n",
      "\n",
      "/var/folders/qj/xh48vw9d4z5_h6wzs6r2smdh0000gn/T/ipykernel_761/4273738026.py:12: SettingWithCopyWarning:\n",
      "\n",
      "\n",
      "A value is trying to be set on a copy of a slice from a DataFrame.\n",
      "Try using .loc[row_indexer,col_indexer] = value instead\n",
      "\n",
      "See the caveats in the documentation: https://pandas.pydata.org/pandas-docs/stable/user_guide/indexing.html#returning-a-view-versus-a-copy\n",
      "\n",
      "/var/folders/qj/xh48vw9d4z5_h6wzs6r2smdh0000gn/T/ipykernel_761/4273738026.py:12: SettingWithCopyWarning:\n",
      "\n",
      "\n",
      "A value is trying to be set on a copy of a slice from a DataFrame.\n",
      "Try using .loc[row_indexer,col_indexer] = value instead\n",
      "\n",
      "See the caveats in the documentation: https://pandas.pydata.org/pandas-docs/stable/user_guide/indexing.html#returning-a-view-versus-a-copy\n",
      "\n",
      "/var/folders/qj/xh48vw9d4z5_h6wzs6r2smdh0000gn/T/ipykernel_761/4273738026.py:12: SettingWithCopyWarning:\n",
      "\n",
      "\n",
      "A value is trying to be set on a copy of a slice from a DataFrame.\n",
      "Try using .loc[row_indexer,col_indexer] = value instead\n",
      "\n",
      "See the caveats in the documentation: https://pandas.pydata.org/pandas-docs/stable/user_guide/indexing.html#returning-a-view-versus-a-copy\n",
      "\n",
      "/var/folders/qj/xh48vw9d4z5_h6wzs6r2smdh0000gn/T/ipykernel_761/4273738026.py:12: SettingWithCopyWarning:\n",
      "\n",
      "\n",
      "A value is trying to be set on a copy of a slice from a DataFrame.\n",
      "Try using .loc[row_indexer,col_indexer] = value instead\n",
      "\n",
      "See the caveats in the documentation: https://pandas.pydata.org/pandas-docs/stable/user_guide/indexing.html#returning-a-view-versus-a-copy\n",
      "\n",
      "/var/folders/qj/xh48vw9d4z5_h6wzs6r2smdh0000gn/T/ipykernel_761/4273738026.py:12: SettingWithCopyWarning:\n",
      "\n",
      "\n",
      "A value is trying to be set on a copy of a slice from a DataFrame.\n",
      "Try using .loc[row_indexer,col_indexer] = value instead\n",
      "\n",
      "See the caveats in the documentation: https://pandas.pydata.org/pandas-docs/stable/user_guide/indexing.html#returning-a-view-versus-a-copy\n",
      "\n",
      "/var/folders/qj/xh48vw9d4z5_h6wzs6r2smdh0000gn/T/ipykernel_761/4273738026.py:12: SettingWithCopyWarning:\n",
      "\n",
      "\n",
      "A value is trying to be set on a copy of a slice from a DataFrame.\n",
      "Try using .loc[row_indexer,col_indexer] = value instead\n",
      "\n",
      "See the caveats in the documentation: https://pandas.pydata.org/pandas-docs/stable/user_guide/indexing.html#returning-a-view-versus-a-copy\n",
      "\n",
      "/var/folders/qj/xh48vw9d4z5_h6wzs6r2smdh0000gn/T/ipykernel_761/4273738026.py:12: SettingWithCopyWarning:\n",
      "\n",
      "\n",
      "A value is trying to be set on a copy of a slice from a DataFrame.\n",
      "Try using .loc[row_indexer,col_indexer] = value instead\n",
      "\n",
      "See the caveats in the documentation: https://pandas.pydata.org/pandas-docs/stable/user_guide/indexing.html#returning-a-view-versus-a-copy\n",
      "\n",
      "/var/folders/qj/xh48vw9d4z5_h6wzs6r2smdh0000gn/T/ipykernel_761/4273738026.py:12: SettingWithCopyWarning:\n",
      "\n",
      "\n",
      "A value is trying to be set on a copy of a slice from a DataFrame.\n",
      "Try using .loc[row_indexer,col_indexer] = value instead\n",
      "\n",
      "See the caveats in the documentation: https://pandas.pydata.org/pandas-docs/stable/user_guide/indexing.html#returning-a-view-versus-a-copy\n",
      "\n",
      "/var/folders/qj/xh48vw9d4z5_h6wzs6r2smdh0000gn/T/ipykernel_761/4273738026.py:12: SettingWithCopyWarning:\n",
      "\n",
      "\n",
      "A value is trying to be set on a copy of a slice from a DataFrame.\n",
      "Try using .loc[row_indexer,col_indexer] = value instead\n",
      "\n",
      "See the caveats in the documentation: https://pandas.pydata.org/pandas-docs/stable/user_guide/indexing.html#returning-a-view-versus-a-copy\n",
      "\n",
      "/var/folders/qj/xh48vw9d4z5_h6wzs6r2smdh0000gn/T/ipykernel_761/4273738026.py:12: SettingWithCopyWarning:\n",
      "\n",
      "\n",
      "A value is trying to be set on a copy of a slice from a DataFrame.\n",
      "Try using .loc[row_indexer,col_indexer] = value instead\n",
      "\n",
      "See the caveats in the documentation: https://pandas.pydata.org/pandas-docs/stable/user_guide/indexing.html#returning-a-view-versus-a-copy\n",
      "\n",
      "/var/folders/qj/xh48vw9d4z5_h6wzs6r2smdh0000gn/T/ipykernel_761/4273738026.py:12: SettingWithCopyWarning:\n",
      "\n",
      "\n",
      "A value is trying to be set on a copy of a slice from a DataFrame.\n",
      "Try using .loc[row_indexer,col_indexer] = value instead\n",
      "\n",
      "See the caveats in the documentation: https://pandas.pydata.org/pandas-docs/stable/user_guide/indexing.html#returning-a-view-versus-a-copy\n",
      "\n",
      "/var/folders/qj/xh48vw9d4z5_h6wzs6r2smdh0000gn/T/ipykernel_761/4273738026.py:12: SettingWithCopyWarning:\n",
      "\n",
      "\n",
      "A value is trying to be set on a copy of a slice from a DataFrame.\n",
      "Try using .loc[row_indexer,col_indexer] = value instead\n",
      "\n",
      "See the caveats in the documentation: https://pandas.pydata.org/pandas-docs/stable/user_guide/indexing.html#returning-a-view-versus-a-copy\n",
      "\n",
      "/var/folders/qj/xh48vw9d4z5_h6wzs6r2smdh0000gn/T/ipykernel_761/4273738026.py:12: SettingWithCopyWarning:\n",
      "\n",
      "\n",
      "A value is trying to be set on a copy of a slice from a DataFrame.\n",
      "Try using .loc[row_indexer,col_indexer] = value instead\n",
      "\n",
      "See the caveats in the documentation: https://pandas.pydata.org/pandas-docs/stable/user_guide/indexing.html#returning-a-view-versus-a-copy\n",
      "\n",
      "/var/folders/qj/xh48vw9d4z5_h6wzs6r2smdh0000gn/T/ipykernel_761/4273738026.py:12: SettingWithCopyWarning:\n",
      "\n",
      "\n",
      "A value is trying to be set on a copy of a slice from a DataFrame.\n",
      "Try using .loc[row_indexer,col_indexer] = value instead\n",
      "\n",
      "See the caveats in the documentation: https://pandas.pydata.org/pandas-docs/stable/user_guide/indexing.html#returning-a-view-versus-a-copy\n",
      "\n",
      "/var/folders/qj/xh48vw9d4z5_h6wzs6r2smdh0000gn/T/ipykernel_761/4273738026.py:12: SettingWithCopyWarning:\n",
      "\n",
      "\n",
      "A value is trying to be set on a copy of a slice from a DataFrame.\n",
      "Try using .loc[row_indexer,col_indexer] = value instead\n",
      "\n",
      "See the caveats in the documentation: https://pandas.pydata.org/pandas-docs/stable/user_guide/indexing.html#returning-a-view-versus-a-copy\n",
      "\n",
      "/var/folders/qj/xh48vw9d4z5_h6wzs6r2smdh0000gn/T/ipykernel_761/4273738026.py:12: SettingWithCopyWarning:\n",
      "\n",
      "\n",
      "A value is trying to be set on a copy of a slice from a DataFrame.\n",
      "Try using .loc[row_indexer,col_indexer] = value instead\n",
      "\n",
      "See the caveats in the documentation: https://pandas.pydata.org/pandas-docs/stable/user_guide/indexing.html#returning-a-view-versus-a-copy\n",
      "\n",
      "/var/folders/qj/xh48vw9d4z5_h6wzs6r2smdh0000gn/T/ipykernel_761/4273738026.py:12: SettingWithCopyWarning:\n",
      "\n",
      "\n",
      "A value is trying to be set on a copy of a slice from a DataFrame.\n",
      "Try using .loc[row_indexer,col_indexer] = value instead\n",
      "\n",
      "See the caveats in the documentation: https://pandas.pydata.org/pandas-docs/stable/user_guide/indexing.html#returning-a-view-versus-a-copy\n",
      "\n",
      "/var/folders/qj/xh48vw9d4z5_h6wzs6r2smdh0000gn/T/ipykernel_761/4273738026.py:12: SettingWithCopyWarning:\n",
      "\n",
      "\n",
      "A value is trying to be set on a copy of a slice from a DataFrame.\n",
      "Try using .loc[row_indexer,col_indexer] = value instead\n",
      "\n",
      "See the caveats in the documentation: https://pandas.pydata.org/pandas-docs/stable/user_guide/indexing.html#returning-a-view-versus-a-copy\n",
      "\n",
      "/var/folders/qj/xh48vw9d4z5_h6wzs6r2smdh0000gn/T/ipykernel_761/4273738026.py:12: SettingWithCopyWarning:\n",
      "\n",
      "\n",
      "A value is trying to be set on a copy of a slice from a DataFrame.\n",
      "Try using .loc[row_indexer,col_indexer] = value instead\n",
      "\n",
      "See the caveats in the documentation: https://pandas.pydata.org/pandas-docs/stable/user_guide/indexing.html#returning-a-view-versus-a-copy\n",
      "\n",
      "/var/folders/qj/xh48vw9d4z5_h6wzs6r2smdh0000gn/T/ipykernel_761/4273738026.py:12: SettingWithCopyWarning:\n",
      "\n",
      "\n",
      "A value is trying to be set on a copy of a slice from a DataFrame.\n",
      "Try using .loc[row_indexer,col_indexer] = value instead\n",
      "\n",
      "See the caveats in the documentation: https://pandas.pydata.org/pandas-docs/stable/user_guide/indexing.html#returning-a-view-versus-a-copy\n",
      "\n",
      "/var/folders/qj/xh48vw9d4z5_h6wzs6r2smdh0000gn/T/ipykernel_761/4273738026.py:12: SettingWithCopyWarning:\n",
      "\n",
      "\n",
      "A value is trying to be set on a copy of a slice from a DataFrame.\n",
      "Try using .loc[row_indexer,col_indexer] = value instead\n",
      "\n",
      "See the caveats in the documentation: https://pandas.pydata.org/pandas-docs/stable/user_guide/indexing.html#returning-a-view-versus-a-copy\n",
      "\n",
      "/var/folders/qj/xh48vw9d4z5_h6wzs6r2smdh0000gn/T/ipykernel_761/4273738026.py:12: SettingWithCopyWarning:\n",
      "\n",
      "\n",
      "A value is trying to be set on a copy of a slice from a DataFrame.\n",
      "Try using .loc[row_indexer,col_indexer] = value instead\n",
      "\n",
      "See the caveats in the documentation: https://pandas.pydata.org/pandas-docs/stable/user_guide/indexing.html#returning-a-view-versus-a-copy\n",
      "\n",
      "/var/folders/qj/xh48vw9d4z5_h6wzs6r2smdh0000gn/T/ipykernel_761/4273738026.py:12: SettingWithCopyWarning:\n",
      "\n",
      "\n",
      "A value is trying to be set on a copy of a slice from a DataFrame.\n",
      "Try using .loc[row_indexer,col_indexer] = value instead\n",
      "\n",
      "See the caveats in the documentation: https://pandas.pydata.org/pandas-docs/stable/user_guide/indexing.html#returning-a-view-versus-a-copy\n",
      "\n",
      "/var/folders/qj/xh48vw9d4z5_h6wzs6r2smdh0000gn/T/ipykernel_761/4273738026.py:12: SettingWithCopyWarning:\n",
      "\n",
      "\n",
      "A value is trying to be set on a copy of a slice from a DataFrame.\n",
      "Try using .loc[row_indexer,col_indexer] = value instead\n",
      "\n",
      "See the caveats in the documentation: https://pandas.pydata.org/pandas-docs/stable/user_guide/indexing.html#returning-a-view-versus-a-copy\n",
      "\n",
      "/var/folders/qj/xh48vw9d4z5_h6wzs6r2smdh0000gn/T/ipykernel_761/4273738026.py:12: SettingWithCopyWarning:\n",
      "\n",
      "\n",
      "A value is trying to be set on a copy of a slice from a DataFrame.\n",
      "Try using .loc[row_indexer,col_indexer] = value instead\n",
      "\n",
      "See the caveats in the documentation: https://pandas.pydata.org/pandas-docs/stable/user_guide/indexing.html#returning-a-view-versus-a-copy\n",
      "\n",
      "/var/folders/qj/xh48vw9d4z5_h6wzs6r2smdh0000gn/T/ipykernel_761/4273738026.py:12: SettingWithCopyWarning:\n",
      "\n",
      "\n",
      "A value is trying to be set on a copy of a slice from a DataFrame.\n",
      "Try using .loc[row_indexer,col_indexer] = value instead\n",
      "\n",
      "See the caveats in the documentation: https://pandas.pydata.org/pandas-docs/stable/user_guide/indexing.html#returning-a-view-versus-a-copy\n",
      "\n",
      "/var/folders/qj/xh48vw9d4z5_h6wzs6r2smdh0000gn/T/ipykernel_761/4273738026.py:12: SettingWithCopyWarning:\n",
      "\n",
      "\n",
      "A value is trying to be set on a copy of a slice from a DataFrame.\n",
      "Try using .loc[row_indexer,col_indexer] = value instead\n",
      "\n",
      "See the caveats in the documentation: https://pandas.pydata.org/pandas-docs/stable/user_guide/indexing.html#returning-a-view-versus-a-copy\n",
      "\n",
      "/var/folders/qj/xh48vw9d4z5_h6wzs6r2smdh0000gn/T/ipykernel_761/4273738026.py:12: SettingWithCopyWarning:\n",
      "\n",
      "\n",
      "A value is trying to be set on a copy of a slice from a DataFrame.\n",
      "Try using .loc[row_indexer,col_indexer] = value instead\n",
      "\n",
      "See the caveats in the documentation: https://pandas.pydata.org/pandas-docs/stable/user_guide/indexing.html#returning-a-view-versus-a-copy\n",
      "\n",
      "/var/folders/qj/xh48vw9d4z5_h6wzs6r2smdh0000gn/T/ipykernel_761/4273738026.py:12: SettingWithCopyWarning:\n",
      "\n",
      "\n",
      "A value is trying to be set on a copy of a slice from a DataFrame.\n",
      "Try using .loc[row_indexer,col_indexer] = value instead\n",
      "\n",
      "See the caveats in the documentation: https://pandas.pydata.org/pandas-docs/stable/user_guide/indexing.html#returning-a-view-versus-a-copy\n",
      "\n",
      "/var/folders/qj/xh48vw9d4z5_h6wzs6r2smdh0000gn/T/ipykernel_761/4273738026.py:12: SettingWithCopyWarning:\n",
      "\n",
      "\n",
      "A value is trying to be set on a copy of a slice from a DataFrame.\n",
      "Try using .loc[row_indexer,col_indexer] = value instead\n",
      "\n",
      "See the caveats in the documentation: https://pandas.pydata.org/pandas-docs/stable/user_guide/indexing.html#returning-a-view-versus-a-copy\n",
      "\n",
      "/var/folders/qj/xh48vw9d4z5_h6wzs6r2smdh0000gn/T/ipykernel_761/4273738026.py:12: SettingWithCopyWarning:\n",
      "\n",
      "\n",
      "A value is trying to be set on a copy of a slice from a DataFrame.\n",
      "Try using .loc[row_indexer,col_indexer] = value instead\n",
      "\n",
      "See the caveats in the documentation: https://pandas.pydata.org/pandas-docs/stable/user_guide/indexing.html#returning-a-view-versus-a-copy\n",
      "\n",
      "/var/folders/qj/xh48vw9d4z5_h6wzs6r2smdh0000gn/T/ipykernel_761/4273738026.py:12: SettingWithCopyWarning:\n",
      "\n",
      "\n",
      "A value is trying to be set on a copy of a slice from a DataFrame.\n",
      "Try using .loc[row_indexer,col_indexer] = value instead\n",
      "\n",
      "See the caveats in the documentation: https://pandas.pydata.org/pandas-docs/stable/user_guide/indexing.html#returning-a-view-versus-a-copy\n",
      "\n",
      "/var/folders/qj/xh48vw9d4z5_h6wzs6r2smdh0000gn/T/ipykernel_761/4273738026.py:12: SettingWithCopyWarning:\n",
      "\n",
      "\n",
      "A value is trying to be set on a copy of a slice from a DataFrame.\n",
      "Try using .loc[row_indexer,col_indexer] = value instead\n",
      "\n",
      "See the caveats in the documentation: https://pandas.pydata.org/pandas-docs/stable/user_guide/indexing.html#returning-a-view-versus-a-copy\n",
      "\n",
      "/var/folders/qj/xh48vw9d4z5_h6wzs6r2smdh0000gn/T/ipykernel_761/4273738026.py:12: SettingWithCopyWarning:\n",
      "\n",
      "\n",
      "A value is trying to be set on a copy of a slice from a DataFrame.\n",
      "Try using .loc[row_indexer,col_indexer] = value instead\n",
      "\n",
      "See the caveats in the documentation: https://pandas.pydata.org/pandas-docs/stable/user_guide/indexing.html#returning-a-view-versus-a-copy\n",
      "\n",
      "/var/folders/qj/xh48vw9d4z5_h6wzs6r2smdh0000gn/T/ipykernel_761/4273738026.py:12: SettingWithCopyWarning:\n",
      "\n",
      "\n",
      "A value is trying to be set on a copy of a slice from a DataFrame.\n",
      "Try using .loc[row_indexer,col_indexer] = value instead\n",
      "\n",
      "See the caveats in the documentation: https://pandas.pydata.org/pandas-docs/stable/user_guide/indexing.html#returning-a-view-versus-a-copy\n",
      "\n",
      "/var/folders/qj/xh48vw9d4z5_h6wzs6r2smdh0000gn/T/ipykernel_761/4273738026.py:12: SettingWithCopyWarning:\n",
      "\n",
      "\n",
      "A value is trying to be set on a copy of a slice from a DataFrame.\n",
      "Try using .loc[row_indexer,col_indexer] = value instead\n",
      "\n",
      "See the caveats in the documentation: https://pandas.pydata.org/pandas-docs/stable/user_guide/indexing.html#returning-a-view-versus-a-copy\n",
      "\n",
      "/var/folders/qj/xh48vw9d4z5_h6wzs6r2smdh0000gn/T/ipykernel_761/4273738026.py:12: SettingWithCopyWarning:\n",
      "\n",
      "\n",
      "A value is trying to be set on a copy of a slice from a DataFrame.\n",
      "Try using .loc[row_indexer,col_indexer] = value instead\n",
      "\n",
      "See the caveats in the documentation: https://pandas.pydata.org/pandas-docs/stable/user_guide/indexing.html#returning-a-view-versus-a-copy\n",
      "\n",
      "/var/folders/qj/xh48vw9d4z5_h6wzs6r2smdh0000gn/T/ipykernel_761/4273738026.py:12: SettingWithCopyWarning:\n",
      "\n",
      "\n",
      "A value is trying to be set on a copy of a slice from a DataFrame.\n",
      "Try using .loc[row_indexer,col_indexer] = value instead\n",
      "\n",
      "See the caveats in the documentation: https://pandas.pydata.org/pandas-docs/stable/user_guide/indexing.html#returning-a-view-versus-a-copy\n",
      "\n",
      "/var/folders/qj/xh48vw9d4z5_h6wzs6r2smdh0000gn/T/ipykernel_761/4273738026.py:12: SettingWithCopyWarning:\n",
      "\n",
      "\n",
      "A value is trying to be set on a copy of a slice from a DataFrame.\n",
      "Try using .loc[row_indexer,col_indexer] = value instead\n",
      "\n",
      "See the caveats in the documentation: https://pandas.pydata.org/pandas-docs/stable/user_guide/indexing.html#returning-a-view-versus-a-copy\n",
      "\n",
      "/var/folders/qj/xh48vw9d4z5_h6wzs6r2smdh0000gn/T/ipykernel_761/4273738026.py:12: SettingWithCopyWarning:\n",
      "\n",
      "\n",
      "A value is trying to be set on a copy of a slice from a DataFrame.\n",
      "Try using .loc[row_indexer,col_indexer] = value instead\n",
      "\n",
      "See the caveats in the documentation: https://pandas.pydata.org/pandas-docs/stable/user_guide/indexing.html#returning-a-view-versus-a-copy\n",
      "\n",
      "/var/folders/qj/xh48vw9d4z5_h6wzs6r2smdh0000gn/T/ipykernel_761/4273738026.py:12: SettingWithCopyWarning:\n",
      "\n",
      "\n",
      "A value is trying to be set on a copy of a slice from a DataFrame.\n",
      "Try using .loc[row_indexer,col_indexer] = value instead\n",
      "\n",
      "See the caveats in the documentation: https://pandas.pydata.org/pandas-docs/stable/user_guide/indexing.html#returning-a-view-versus-a-copy\n",
      "\n",
      "/var/folders/qj/xh48vw9d4z5_h6wzs6r2smdh0000gn/T/ipykernel_761/4273738026.py:12: SettingWithCopyWarning:\n",
      "\n",
      "\n",
      "A value is trying to be set on a copy of a slice from a DataFrame.\n",
      "Try using .loc[row_indexer,col_indexer] = value instead\n",
      "\n",
      "See the caveats in the documentation: https://pandas.pydata.org/pandas-docs/stable/user_guide/indexing.html#returning-a-view-versus-a-copy\n",
      "\n",
      "/var/folders/qj/xh48vw9d4z5_h6wzs6r2smdh0000gn/T/ipykernel_761/4273738026.py:12: SettingWithCopyWarning:\n",
      "\n",
      "\n",
      "A value is trying to be set on a copy of a slice from a DataFrame.\n",
      "Try using .loc[row_indexer,col_indexer] = value instead\n",
      "\n",
      "See the caveats in the documentation: https://pandas.pydata.org/pandas-docs/stable/user_guide/indexing.html#returning-a-view-versus-a-copy\n",
      "\n",
      "/var/folders/qj/xh48vw9d4z5_h6wzs6r2smdh0000gn/T/ipykernel_761/4273738026.py:12: SettingWithCopyWarning:\n",
      "\n",
      "\n",
      "A value is trying to be set on a copy of a slice from a DataFrame.\n",
      "Try using .loc[row_indexer,col_indexer] = value instead\n",
      "\n",
      "See the caveats in the documentation: https://pandas.pydata.org/pandas-docs/stable/user_guide/indexing.html#returning-a-view-versus-a-copy\n",
      "\n",
      "/var/folders/qj/xh48vw9d4z5_h6wzs6r2smdh0000gn/T/ipykernel_761/4273738026.py:12: SettingWithCopyWarning:\n",
      "\n",
      "\n",
      "A value is trying to be set on a copy of a slice from a DataFrame.\n",
      "Try using .loc[row_indexer,col_indexer] = value instead\n",
      "\n",
      "See the caveats in the documentation: https://pandas.pydata.org/pandas-docs/stable/user_guide/indexing.html#returning-a-view-versus-a-copy\n",
      "\n",
      "/var/folders/qj/xh48vw9d4z5_h6wzs6r2smdh0000gn/T/ipykernel_761/4273738026.py:12: SettingWithCopyWarning:\n",
      "\n",
      "\n",
      "A value is trying to be set on a copy of a slice from a DataFrame.\n",
      "Try using .loc[row_indexer,col_indexer] = value instead\n",
      "\n",
      "See the caveats in the documentation: https://pandas.pydata.org/pandas-docs/stable/user_guide/indexing.html#returning-a-view-versus-a-copy\n",
      "\n",
      "/var/folders/qj/xh48vw9d4z5_h6wzs6r2smdh0000gn/T/ipykernel_761/4273738026.py:12: SettingWithCopyWarning:\n",
      "\n",
      "\n",
      "A value is trying to be set on a copy of a slice from a DataFrame.\n",
      "Try using .loc[row_indexer,col_indexer] = value instead\n",
      "\n",
      "See the caveats in the documentation: https://pandas.pydata.org/pandas-docs/stable/user_guide/indexing.html#returning-a-view-versus-a-copy\n",
      "\n",
      "/var/folders/qj/xh48vw9d4z5_h6wzs6r2smdh0000gn/T/ipykernel_761/4273738026.py:12: SettingWithCopyWarning:\n",
      "\n",
      "\n",
      "A value is trying to be set on a copy of a slice from a DataFrame.\n",
      "Try using .loc[row_indexer,col_indexer] = value instead\n",
      "\n",
      "See the caveats in the documentation: https://pandas.pydata.org/pandas-docs/stable/user_guide/indexing.html#returning-a-view-versus-a-copy\n",
      "\n",
      "/var/folders/qj/xh48vw9d4z5_h6wzs6r2smdh0000gn/T/ipykernel_761/4273738026.py:12: SettingWithCopyWarning:\n",
      "\n",
      "\n",
      "A value is trying to be set on a copy of a slice from a DataFrame.\n",
      "Try using .loc[row_indexer,col_indexer] = value instead\n",
      "\n",
      "See the caveats in the documentation: https://pandas.pydata.org/pandas-docs/stable/user_guide/indexing.html#returning-a-view-versus-a-copy\n",
      "\n",
      "/var/folders/qj/xh48vw9d4z5_h6wzs6r2smdh0000gn/T/ipykernel_761/4273738026.py:12: SettingWithCopyWarning:\n",
      "\n",
      "\n",
      "A value is trying to be set on a copy of a slice from a DataFrame.\n",
      "Try using .loc[row_indexer,col_indexer] = value instead\n",
      "\n",
      "See the caveats in the documentation: https://pandas.pydata.org/pandas-docs/stable/user_guide/indexing.html#returning-a-view-versus-a-copy\n",
      "\n"
     ]
    },
    {
     "data": {
      "text/plain": [
       "{'2000': {'Argentine',\n",
       "  'Bahamian',\n",
       "  'Belgian',\n",
       "  'Brazilian',\n",
       "  'Canadian',\n",
       "  'Cuban',\n",
       "  'Dutch',\n",
       "  'Finnish',\n",
       "  'Hungarian',\n",
       "  'Icelandic',\n",
       "  'Iranian',\n",
       "  'Israeli',\n",
       "  'Korean',\n",
       "  'Pakistani',\n",
       "  'South African',\n",
       "  'Spanish',\n",
       "  'Swiss',\n",
       "  'Taiwanese',\n",
       "  'Thai',\n",
       "  'missing'},\n",
       " '2001': {'Austrian',\n",
       "  'Bahamian',\n",
       "  'Belgian',\n",
       "  'Bosnian',\n",
       "  'Canadian',\n",
       "  'Cuban',\n",
       "  'Danish',\n",
       "  'Dutch',\n",
       "  'French',\n",
       "  'Hungarian',\n",
       "  'Indian',\n",
       "  'Italian',\n",
       "  'Korean',\n",
       "  'Mexican',\n",
       "  'Nationality unknown',\n",
       "  'Pakistani',\n",
       "  'Polish',\n",
       "  'Russian',\n",
       "  'Scottish',\n",
       "  'Spanish',\n",
       "  'Swedish',\n",
       "  'Swiss',\n",
       "  'Turkish',\n",
       "  'Ukrainian',\n",
       "  'missing'},\n",
       " '2002': {'Argentine',\n",
       "  'Austrian',\n",
       "  'Belgian',\n",
       "  'Brazilian',\n",
       "  'Canadian',\n",
       "  'Chinese',\n",
       "  'Congolese',\n",
       "  'Cuban',\n",
       "  'Danish',\n",
       "  'Dutch',\n",
       "  'French',\n",
       "  'Israeli',\n",
       "  'Korean',\n",
       "  'Mexican',\n",
       "  'Polish',\n",
       "  'South African',\n",
       "  'Swedish',\n",
       "  'missing'},\n",
       " '2003': {'Belgian',\n",
       "  'Brazilian',\n",
       "  'Canadian',\n",
       "  'Chinese',\n",
       "  'Cuban',\n",
       "  'Dutch',\n",
       "  'French',\n",
       "  'Icelandic',\n",
       "  'Israeli',\n",
       "  'Italian',\n",
       "  'Japanese',\n",
       "  'Korean',\n",
       "  'Lebanese',\n",
       "  'Palestinian',\n",
       "  'Peruvian',\n",
       "  'Polish',\n",
       "  'Uruguayan',\n",
       "  'missing'},\n",
       " '2004': {'Albanian',\n",
       "  'Belgian',\n",
       "  'Bulgarian',\n",
       "  'Chilean',\n",
       "  'Colombian',\n",
       "  'Cuban',\n",
       "  'Danish',\n",
       "  'Dutch',\n",
       "  'Finnish',\n",
       "  'French',\n",
       "  'Irish',\n",
       "  'Israeli',\n",
       "  'Italian',\n",
       "  'Korean',\n",
       "  'Lebanese',\n",
       "  'Mexican',\n",
       "  'Spanish',\n",
       "  'Swedish',\n",
       "  'Swiss',\n",
       "  'Turkish',\n",
       "  'Venezuelan'},\n",
       " '2009': {'Argentine',\n",
       "  'Brazilian',\n",
       "  'Canadian',\n",
       "  'Chinese',\n",
       "  'Cuban',\n",
       "  'Danish',\n",
       "  'Dutch',\n",
       "  'French',\n",
       "  'German',\n",
       "  'Israeli',\n",
       "  'Italian',\n",
       "  'Japanese',\n",
       "  'Norwegian',\n",
       "  'Serbian',\n",
       "  'Slovak',\n",
       "  'Swedish',\n",
       "  'Swiss',\n",
       "  'Yugoslav'},\n",
       " '2010': {'Australian',\n",
       "  'Austrian',\n",
       "  'Belgian',\n",
       "  'Bosnian',\n",
       "  'Brazilian',\n",
       "  'Chilean',\n",
       "  'Danish',\n",
       "  'Dutch',\n",
       "  'Finnish',\n",
       "  'French',\n",
       "  'Israeli',\n",
       "  'Japanese',\n",
       "  'Mexican',\n",
       "  'Nationality unknown',\n",
       "  'Polish',\n",
       "  'Russian',\n",
       "  'Swiss',\n",
       "  'Uruguayan',\n",
       "  'Venezuelan',\n",
       "  'Zimbabwean'},\n",
       " '2011': {'Argentine',\n",
       "  'Austrian',\n",
       "  'Belgian',\n",
       "  'Brazilian',\n",
       "  'Canadian',\n",
       "  'Chilean',\n",
       "  'Chinese',\n",
       "  'Danish',\n",
       "  'Dutch',\n",
       "  'Georgian',\n",
       "  'Icelandic',\n",
       "  'Indian',\n",
       "  'Iranian',\n",
       "  'Israeli',\n",
       "  'Italian',\n",
       "  'Korean',\n",
       "  'Lebanese',\n",
       "  'Mexican',\n",
       "  'Peruvian',\n",
       "  'Polish',\n",
       "  'South African',\n",
       "  'Thai',\n",
       "  'Turkish',\n",
       "  'missing'},\n",
       " '2012': {'Brazilian',\n",
       "  'Canadian',\n",
       "  'Chinese',\n",
       "  'Danish',\n",
       "  'Dutch',\n",
       "  'Egyptian',\n",
       "  'Hungarian',\n",
       "  'Indian',\n",
       "  'Irish',\n",
       "  'Korean',\n",
       "  'Lebanese',\n",
       "  'Malaysian',\n",
       "  'Mexican',\n",
       "  'Moroccan',\n",
       "  'Polish',\n",
       "  'Russian',\n",
       "  'South African',\n",
       "  'Spanish',\n",
       "  'Swedish',\n",
       "  'Thai',\n",
       "  'Turkish',\n",
       "  'Yugoslav'},\n",
       " '2013': {'Algerian',\n",
       "  'Argentine',\n",
       "  'Belgian',\n",
       "  'Brazilian',\n",
       "  'Chinese',\n",
       "  'Czech',\n",
       "  'Danish',\n",
       "  'Dutch',\n",
       "  'Finnish',\n",
       "  'Hungarian',\n",
       "  'Icelandic',\n",
       "  'Iranian',\n",
       "  'Italian',\n",
       "  'Korean',\n",
       "  'Lebanese',\n",
       "  'Macedonian',\n",
       "  'Moroccan',\n",
       "  'New Zealander',\n",
       "  'Norwegian',\n",
       "  'Polish',\n",
       "  'Portuguese',\n",
       "  'Romanian',\n",
       "  'Russian',\n",
       "  'South African',\n",
       "  'Swedish',\n",
       "  'Uruguayan'},\n",
       " '2015': {'Austrian',\n",
       "  'Belgian',\n",
       "  'Brazilian',\n",
       "  'Chilean',\n",
       "  'Chinese',\n",
       "  'Colombian',\n",
       "  'Cuban',\n",
       "  'Dutch',\n",
       "  'Icelandic',\n",
       "  'Indian',\n",
       "  'Irish',\n",
       "  'Korean',\n",
       "  'Thai'},\n",
       " '2016': {'Australian',\n",
       "  'Austrian',\n",
       "  'Belgian',\n",
       "  'Canadian',\n",
       "  'Chinese',\n",
       "  'Czech',\n",
       "  'Dutch',\n",
       "  'Indian',\n",
       "  'Israeli',\n",
       "  'Lebanese',\n",
       "  'New Zealander',\n",
       "  'Pakistani',\n",
       "  'South African',\n",
       "  'Swedish',\n",
       "  'Swiss',\n",
       "  'Turkish',\n",
       "  'Venezuelan',\n",
       "  'missing'},\n",
       " '2017': {'Austrian',\n",
       "  'Canadian',\n",
       "  'Chinese',\n",
       "  'Cuban',\n",
       "  'Dutch',\n",
       "  'Italian',\n",
       "  'Japanese',\n",
       "  'Korean',\n",
       "  'Lebanese',\n",
       "  'Polish',\n",
       "  'South African',\n",
       "  'Spanish',\n",
       "  'Swedish',\n",
       "  'Swiss',\n",
       "  'Thai',\n",
       "  'Uruguayan',\n",
       "  'missing'},\n",
       " '2018': {'Colombian', 'Dutch', 'French', 'Italian', 'Japanese', 'missing'},\n",
       " '2019': {'Dutch', 'Emirati', 'missing'},\n",
       " '2007': {'Austrian',\n",
       "  'Brazilian',\n",
       "  'Canadian',\n",
       "  'Colombian',\n",
       "  'Cuban',\n",
       "  'Czech',\n",
       "  'Danish',\n",
       "  'Egyptian',\n",
       "  'Ghanaian',\n",
       "  'Indian',\n",
       "  'Iranian',\n",
       "  'Irish',\n",
       "  'Israeli',\n",
       "  'Italian',\n",
       "  'Japanese',\n",
       "  'Kenyan',\n",
       "  'Mexican',\n",
       "  'Norwegian',\n",
       "  'Peruvian',\n",
       "  'Romanian',\n",
       "  'Scottish',\n",
       "  'Spanish',\n",
       "  'Venezuelan'},\n",
       " '2014': {'Argentine',\n",
       "  'Austrian',\n",
       "  'Belgian',\n",
       "  'Canadian',\n",
       "  'Chilean',\n",
       "  'Chinese',\n",
       "  'Croatian',\n",
       "  'Czech',\n",
       "  'Danish',\n",
       "  'Egyptian',\n",
       "  'Georgian',\n",
       "  'Greek',\n",
       "  'Israeli',\n",
       "  'Italian',\n",
       "  'Japanese',\n",
       "  'Korean',\n",
       "  'Lebanese',\n",
       "  'Malaysian',\n",
       "  'Mexican',\n",
       "  'Moroccan',\n",
       "  'New Zealander',\n",
       "  'Peruvian',\n",
       "  'Polish',\n",
       "  'Portuguese',\n",
       "  'South African',\n",
       "  'Thai',\n",
       "  'Turkish'},\n",
       " '2006': {'Albanian',\n",
       "  'Australian',\n",
       "  'Belgian',\n",
       "  'Bosnian',\n",
       "  'Brazilian',\n",
       "  'Chinese',\n",
       "  'Colombian',\n",
       "  'Croatian',\n",
       "  'Czech',\n",
       "  'Danish',\n",
       "  'Egyptian',\n",
       "  'Finnish',\n",
       "  'Hungarian',\n",
       "  'Icelandic',\n",
       "  'Irish',\n",
       "  'Israeli',\n",
       "  'Ivorian',\n",
       "  'Korean',\n",
       "  'Lithuanian',\n",
       "  'Malaysian',\n",
       "  'Norwegian',\n",
       "  'Polish',\n",
       "  'Romanian',\n",
       "  'Scottish',\n",
       "  'Serbian',\n",
       "  'Singaporean',\n",
       "  'Slovak',\n",
       "  'Slovenian',\n",
       "  'Swedish',\n",
       "  'Thai',\n",
       "  'Turkish'},\n",
       " '2008': {'Argentine',\n",
       "  'Australian',\n",
       "  'Austrian',\n",
       "  'Colombian',\n",
       "  'Cuban',\n",
       "  'Czech',\n",
       "  'Georgian',\n",
       "  'Ghanaian',\n",
       "  'Icelandic',\n",
       "  'Irish',\n",
       "  'Israeli',\n",
       "  'Lithuanian',\n",
       "  'Mexican',\n",
       "  'Peruvian',\n",
       "  'Scottish',\n",
       "  'South African',\n",
       "  'Spanish',\n",
       "  'Swedish',\n",
       "  'Thai'},\n",
       " '2005': {'Albanian',\n",
       "  'Argentine',\n",
       "  'Bulgarian',\n",
       "  'Colombian',\n",
       "  'Cuban',\n",
       "  'Czech',\n",
       "  'Danish',\n",
       "  'Egyptian',\n",
       "  'Georgian',\n",
       "  'Indian',\n",
       "  'Israeli',\n",
       "  'Kenyan',\n",
       "  'Korean',\n",
       "  'Norwegian',\n",
       "  'Pakistani',\n",
       "  'Peruvian',\n",
       "  'Slovenian',\n",
       "  'Swedish',\n",
       "  'Thai',\n",
       "  'Uruguayan',\n",
       "  'Venezuelan'}}"
      ]
     },
     "execution_count": 864,
     "metadata": {},
     "output_type": "execute_result"
    }
   ],
   "source": [
    "# create working df for MoMA datasets made for comparisons with rhizome create dictionary keeping saved the 'others' nationalities\n",
    "#make count proportional dividing it by 10 OK\n",
    "\n",
    "nationalities = ', '.join(moma_rhz_compare.Nationality)\n",
    "nationalities = list(set(nationalities.split(', ')))\n",
    "df_moma_rhz_compare = pd.DataFrame(columns= [\"Nationality\", \"DateAcquired\", \"Count\", \"Females\"]) \n",
    "\n",
    "OthersMomaComp = dict()\n",
    "for nat in nationalities:\n",
    "    nat_sub =  moma_rhz_compare[moma_rhz_compare.Nationality == nat]   \n",
    "     \n",
    "    nat_sub.DateAcquired = nat_sub.DateAcquired.astype('str')\n",
    "    years = ', '.join(nat_sub.DateAcquired)\n",
    "    years = sorted(list([item[:4] for item in list(set(years.split(', ')))]))[0:-1]\n",
    "    for year in years:\n",
    "        year_sub = nat_sub[nat_sub.DateAcquired == year]\n",
    "        entries_year = len(year_sub)\n",
    "        f_count = len(year_sub[year_sub.Gender == 'F'])\n",
    "        missing_count = len(year_sub[year_sub.Gender == ''])\n",
    "        if entries_year < 10:\n",
    "            if year not in OthersMomaComp:\n",
    "                OthersMomaComp[year] = set([nat])\n",
    "            else: \n",
    "                new = OthersMomaComp[year]\n",
    "                new.add(nat)\n",
    "                OthersMomaComp[year] = set(new)\n",
    "            nationality = 'others'\n",
    "            \n",
    "        else: \n",
    "            nationality = nat\n",
    "        df_moma_rhz_compare.loc[len(df_moma_rhz_compare.index)] = [nationality, year, entries_year, f_count]\n",
    "  \n",
    "\n",
    "df_moma_rhz_compare.DateAcquired = df_moma_rhz_compare.DateAcquired.astype('int')\n",
    "df_moma_rhz_compare['Decade'] = 'todo'\n",
    "df_moma_rhz_compare[\"Decade\"] = df_moma_rhz_compare[\"DateAcquired\"].apply(lambda date: getDecade(date))\n",
    "# replot dataset any nationality that has count < 5 becomes 'Others'\n",
    "MComparison_working = df_moma_rhz_compare[df_moma_rhz_compare.DateAcquired > 1929]\n",
    "MComparison_working.DateAcquired.astype('int')\n",
    "MComparison_working_final = MComparison_working.groupby(['Nationality','DateAcquired', 'Decade'],as_index=False).agg({'Count': 'sum','Females': 'sum'})\n",
    "MComparison_working_final = MComparison_working_final.sort_values(by='Decade')\n",
    "MComparison_working_final[\"Count\"] = MComparison_working_final[\"Count\"].apply(lambda count: count.div(10).round(2))\n",
    "\n",
    "px.imshow()\n"
   ]
  },
  {
   "cell_type": "markdown",
   "metadata": {},
   "source": [
    "For comparison purposes the MoMa's dataset compared is a preprocessed one containing only artworks produced since 1983 and acquired from the museum since 2000. \n",
    "\n",
    "The counts have been cut down by 10% in order to male comparison even between thhe sets, as moma's for comparison is still 10 times biger than Rhizome's."
   ]
  },
  {
   "cell_type": "code",
   "execution_count": null,
   "metadata": {},
   "outputs": [
    {
     "data": {
      "text/html": [
       "<div>\n",
       "<style scoped>\n",
       "    .dataframe tbody tr th:only-of-type {\n",
       "        vertical-align: middle;\n",
       "    }\n",
       "\n",
       "    .dataframe tbody tr th {\n",
       "        vertical-align: top;\n",
       "    }\n",
       "\n",
       "    .dataframe thead th {\n",
       "        text-align: right;\n",
       "    }\n",
       "</style>\n",
       "<table border=\"1\" class=\"dataframe\">\n",
       "  <thead>\n",
       "    <tr style=\"text-align: right;\">\n",
       "      <th></th>\n",
       "      <th>Nationality</th>\n",
       "      <th>DateAcquired</th>\n",
       "      <th>Moma</th>\n",
       "      <th>Rhizome</th>\n",
       "    </tr>\n",
       "  </thead>\n",
       "  <tbody>\n",
       "    <tr>\n",
       "      <th>0</th>\n",
       "      <td>American</td>\n",
       "      <td>2000</td>\n",
       "      <td>37</td>\n",
       "      <td>4</td>\n",
       "    </tr>\n",
       "    <tr>\n",
       "      <th>61</th>\n",
       "      <td>British</td>\n",
       "      <td>2000</td>\n",
       "      <td>1</td>\n",
       "      <td>1</td>\n",
       "    </tr>\n",
       "    <tr>\n",
       "      <th>80</th>\n",
       "      <td>Canadian</td>\n",
       "      <td>2000</td>\n",
       "      <td>0</td>\n",
       "      <td>1</td>\n",
       "    </tr>\n",
       "    <tr>\n",
       "      <th>132</th>\n",
       "      <td>French</td>\n",
       "      <td>2000</td>\n",
       "      <td>7</td>\n",
       "      <td>0</td>\n",
       "    </tr>\n",
       "    <tr>\n",
       "      <th>149</th>\n",
       "      <td>German</td>\n",
       "      <td>2000</td>\n",
       "      <td>1</td>\n",
       "      <td>0</td>\n",
       "    </tr>\n",
       "    <tr>\n",
       "      <th>...</th>\n",
       "      <td>...</td>\n",
       "      <td>...</td>\n",
       "      <td>...</td>\n",
       "      <td>...</td>\n",
       "    </tr>\n",
       "    <tr>\n",
       "      <th>172</th>\n",
       "      <td>Indian</td>\n",
       "      <td>2018</td>\n",
       "      <td>4</td>\n",
       "      <td>0</td>\n",
       "    </tr>\n",
       "    <tr>\n",
       "      <th>18</th>\n",
       "      <td>American</td>\n",
       "      <td>2018</td>\n",
       "      <td>33</td>\n",
       "      <td>0</td>\n",
       "    </tr>\n",
       "    <tr>\n",
       "      <th>94</th>\n",
       "      <td>Canadian</td>\n",
       "      <td>2019</td>\n",
       "      <td>1</td>\n",
       "      <td>0</td>\n",
       "    </tr>\n",
       "    <tr>\n",
       "      <th>208</th>\n",
       "      <td>Japanese</td>\n",
       "      <td>2019</td>\n",
       "      <td>1</td>\n",
       "      <td>0</td>\n",
       "    </tr>\n",
       "    <tr>\n",
       "      <th>19</th>\n",
       "      <td>American</td>\n",
       "      <td>2019</td>\n",
       "      <td>27</td>\n",
       "      <td>0</td>\n",
       "    </tr>\n",
       "  </tbody>\n",
       "</table>\n",
       "<p>302 rows × 4 columns</p>\n",
       "</div>"
      ],
      "text/plain": [
       "    Nationality  DateAcquired  Moma  Rhizome\n",
       "0      American          2000    37        4\n",
       "61      British          2000     1        1\n",
       "80     Canadian          2000     0        1\n",
       "132      French          2000     7        0\n",
       "149      German          2000     1        0\n",
       "..          ...           ...   ...      ...\n",
       "172      Indian          2018     4        0\n",
       "18     American          2018    33        0\n",
       "94     Canadian          2019     1        0\n",
       "208    Japanese          2019     1        0\n",
       "19     American          2019    27        0\n",
       "\n",
       "[302 rows x 4 columns]"
      ]
     },
     "execution_count": 954,
     "metadata": {},
     "output_type": "execute_result"
    }
   ],
   "source": [
    "#create df with common nationalities for comparison \n",
    "nats_M = set(MComparison_working_final.Nationality)\n",
    "nats_RH = set(df_rhz_nats.Nationality)\n",
    "common_nats = nats_M & nats_RH\n",
    "\n",
    "Moma_common_nats_df = pd.DataFrame()\n",
    "Rh_common_nats_df = pd.DataFrame()\n",
    "for item in common_nats:\n",
    "    #moma\n",
    "    moma = MComparison_working_final[MComparison_working_final.Nationality == item].drop('Females', axis = 1)\n",
    "    Moma_common_nats_df = pd.concat([Moma_common_nats_df, moma])\n",
    "    #rhizme\n",
    "    rh = df_rhz_nats[df_rhz_nats.Nationality == item].drop('Females', axis = 1)\n",
    "    Rh_common_nats_df = pd.concat([Rh_common_nats_df, rh])\n",
    "    \n",
    "\n",
    "\n",
    "Moma_common_nats_df = Moma_common_nats_df.rename(columns={'Count':'Moma'})\n",
    "Rh_common_nats_df = Rh_common_nats_df.rename(columns={'Count':'Rhizome'})\n",
    "\n",
    "workingDF = pd.concat([Moma_common_nats_df, Rh_common_nats_df], axis=0, ignore_index=True)\n",
    "workingDF['Moma'] = workingDF['Moma'].fillna('0').astype('int')\n",
    "workingDF['Rhizome'] = workingDF['Rhizome'].fillna('0').astype('int')\n",
    "workingDF['DateAcquired'] = workingDF['DateAcquired'].astype('int')\n",
    "workingDF = workingDF[workingDF.DateAcquired > 0]\n",
    "workingDF_final = workingDF.groupby(['Nationality','DateAcquired'],as_index=False).agg({'Moma': 'sum','Rhizome': 'sum'})\n",
    "workingDF_final = workingDF_final.sort_values(by='DateAcquired')"
   ]
  },
  {
   "cell_type": "markdown",
   "metadata": {},
   "source": [
    "### Plots: Line charts \n",
    "##### Variables: Nationality, Acquisition date, artworks aquired by MoMA, artworks aquired by Rhizome\n",
    "\n"
   ]
  },
  {
   "cell_type": "code",
   "execution_count": null,
   "metadata": {},
   "outputs": [
    {
     "data": {
      "text/html": [
       "<div>\n",
       "<style scoped>\n",
       "    .dataframe tbody tr th:only-of-type {\n",
       "        vertical-align: middle;\n",
       "    }\n",
       "\n",
       "    .dataframe tbody tr th {\n",
       "        vertical-align: top;\n",
       "    }\n",
       "\n",
       "    .dataframe thead th {\n",
       "        text-align: right;\n",
       "    }\n",
       "</style>\n",
       "<table border=\"1\" class=\"dataframe\">\n",
       "  <thead>\n",
       "    <tr style=\"text-align: right;\">\n",
       "      <th></th>\n",
       "      <th>Nationality</th>\n",
       "      <th>DateAcquired</th>\n",
       "      <th>Moma</th>\n",
       "      <th>Rhizome</th>\n",
       "    </tr>\n",
       "  </thead>\n",
       "  <tbody>\n",
       "    <tr>\n",
       "      <th>0</th>\n",
       "      <td>American</td>\n",
       "      <td>2000</td>\n",
       "      <td>37</td>\n",
       "      <td>4</td>\n",
       "    </tr>\n",
       "    <tr>\n",
       "      <th>61</th>\n",
       "      <td>British</td>\n",
       "      <td>2000</td>\n",
       "      <td>1</td>\n",
       "      <td>1</td>\n",
       "    </tr>\n",
       "    <tr>\n",
       "      <th>80</th>\n",
       "      <td>Canadian</td>\n",
       "      <td>2000</td>\n",
       "      <td>0</td>\n",
       "      <td>1</td>\n",
       "    </tr>\n",
       "    <tr>\n",
       "      <th>132</th>\n",
       "      <td>French</td>\n",
       "      <td>2000</td>\n",
       "      <td>7</td>\n",
       "      <td>0</td>\n",
       "    </tr>\n",
       "    <tr>\n",
       "      <th>149</th>\n",
       "      <td>German</td>\n",
       "      <td>2000</td>\n",
       "      <td>1</td>\n",
       "      <td>0</td>\n",
       "    </tr>\n",
       "  </tbody>\n",
       "</table>\n",
       "</div>"
      ],
      "text/plain": [
       "    Nationality  DateAcquired  Moma  Rhizome\n",
       "0      American          2000    37        4\n",
       "61      British          2000     1        1\n",
       "80     Canadian          2000     0        1\n",
       "132      French          2000     7        0\n",
       "149      German          2000     1        0"
      ]
     },
     "execution_count": 960,
     "metadata": {},
     "output_type": "execute_result"
    }
   ],
   "source": [
    "#DF example\n",
    "workingDF_final.head()"
   ]
  },
  {
   "cell_type": "markdown",
   "metadata": {},
   "source": [
    "### Comparison acquisition of artworks by nationality -- Moma after 1980 vs. Rhizome Collection by decades"
   ]
  },
  {
   "cell_type": "code",
   "execution_count": null,
   "metadata": {},
   "outputs": [
    {
     "data": {
      "application/vnd.plotly.v1+json": {
       "config": {
        "plotlyServerURL": "https://plot.ly"
       },
       "data": [
        {
         "hovertemplate": "variable=Moma<br>Nationality=American<br>DateAcquired=%{x}<br>value=%{y}<extra></extra>",
         "legendgroup": "Moma",
         "line": {
          "color": "#00cc96",
          "dash": "solid"
         },
         "marker": {
          "symbol": "circle"
         },
         "mode": "lines+markers",
         "name": "Moma",
         "orientation": "v",
         "showlegend": true,
         "type": "scatter",
         "x": [
          2000,
          2001,
          2002,
          2003,
          2004,
          2005,
          2006,
          2007,
          2008,
          2009,
          2010,
          2011,
          2012,
          2013,
          2014,
          2015,
          2016,
          2017,
          2018,
          2019
         ],
         "xaxis": "x29",
         "y": [
          37,
          32,
          17,
          15,
          24,
          164,
          54,
          28,
          132,
          36,
          37,
          35,
          103,
          73,
          58,
          51,
          47,
          23,
          33,
          27
         ],
         "yaxis": "y29"
        },
        {
         "hovertemplate": "variable=Moma<br>Nationality=British<br>DateAcquired=%{x}<br>value=%{y}<extra></extra>",
         "legendgroup": "Moma",
         "line": {
          "color": "#00cc96",
          "dash": "solid"
         },
         "marker": {
          "symbol": "circle"
         },
         "mode": "lines+markers",
         "name": "Moma",
         "orientation": "v",
         "showlegend": false,
         "type": "scatter",
         "x": [
          2000,
          2001,
          2002,
          2003,
          2004,
          2005,
          2006,
          2007,
          2008,
          2009,
          2010,
          2011,
          2012,
          2013,
          2014,
          2015,
          2016,
          2017,
          2018
         ],
         "xaxis": "x30",
         "y": [
          1,
          3,
          6,
          3,
          2,
          14,
          9,
          4,
          2,
          1,
          1,
          2,
          2,
          4,
          16,
          5,
          3,
          1,
          2
         ],
         "yaxis": "y30"
        },
        {
         "hovertemplate": "variable=Moma<br>Nationality=Canadian<br>DateAcquired=%{x}<br>value=%{y}<extra></extra>",
         "legendgroup": "Moma",
         "line": {
          "color": "#00cc96",
          "dash": "solid"
         },
         "marker": {
          "symbol": "circle"
         },
         "mode": "lines+markers",
         "name": "Moma",
         "orientation": "v",
         "showlegend": false,
         "type": "scatter",
         "x": [
          2000,
          2001,
          2002,
          2003,
          2004,
          2005,
          2006,
          2007,
          2008,
          2009,
          2011,
          2013,
          2015,
          2018,
          2019
         ],
         "xaxis": "x27",
         "y": [
          0,
          0,
          0,
          0,
          4,
          9,
          1,
          0,
          3,
          0,
          0,
          6,
          1,
          1,
          1
         ],
         "yaxis": "y27"
        },
        {
         "hovertemplate": "variable=Moma<br>Nationality=French<br>DateAcquired=%{x}<br>value=%{y}<extra></extra>",
         "legendgroup": "Moma",
         "line": {
          "color": "#00cc96",
          "dash": "solid"
         },
         "marker": {
          "symbol": "circle"
         },
         "mode": "lines+markers",
         "name": "Moma",
         "orientation": "v",
         "showlegend": false,
         "type": "scatter",
         "x": [
          2000,
          2001,
          2002,
          2003,
          2004,
          2005,
          2006,
          2007,
          2008,
          2009,
          2011,
          2012,
          2013,
          2014,
          2015,
          2016,
          2017
         ],
         "xaxis": "x28",
         "y": [
          7,
          0,
          0,
          0,
          0,
          2,
          2,
          2,
          3,
          0,
          1,
          2,
          3,
          1,
          1,
          1,
          3
         ],
         "yaxis": "y28"
        },
        {
         "hovertemplate": "variable=Moma<br>Nationality=German<br>DateAcquired=%{x}<br>value=%{y}<extra></extra>",
         "legendgroup": "Moma",
         "line": {
          "color": "#00cc96",
          "dash": "solid"
         },
         "marker": {
          "symbol": "circle"
         },
         "mode": "lines+markers",
         "name": "Moma",
         "orientation": "v",
         "showlegend": false,
         "type": "scatter",
         "x": [
          2000,
          2001,
          2002,
          2003,
          2004,
          2005,
          2006,
          2007,
          2008,
          2009,
          2010,
          2011,
          2012,
          2013,
          2014,
          2015,
          2016,
          2017,
          2018
         ],
         "xaxis": "x25",
         "y": [
          1,
          6,
          1,
          1,
          1,
          36,
          6,
          2,
          3,
          0,
          1,
          23,
          8,
          2,
          3,
          23,
          12,
          4,
          1
         ],
         "yaxis": "y25"
        },
        {
         "hovertemplate": "variable=Moma<br>Nationality=Italian<br>DateAcquired=%{x}<br>value=%{y}<extra></extra>",
         "legendgroup": "Moma",
         "line": {
          "color": "#00cc96",
          "dash": "solid"
         },
         "marker": {
          "symbol": "circle"
         },
         "mode": "lines+markers",
         "name": "Moma",
         "orientation": "v",
         "showlegend": false,
         "type": "scatter",
         "x": [
          2000,
          2001,
          2002,
          2003,
          2005,
          2006,
          2007,
          2008,
          2009,
          2010,
          2011,
          2012,
          2015,
          2016
         ],
         "xaxis": "x26",
         "y": [
          1,
          0,
          0,
          0,
          4,
          1,
          0,
          5,
          0,
          1,
          0,
          0,
          2,
          6
         ],
         "yaxis": "y26"
        },
        {
         "hovertemplate": "variable=Moma<br>Nationality=Japanese<br>DateAcquired=%{x}<br>value=%{y}<extra></extra>",
         "legendgroup": "Moma",
         "line": {
          "color": "#00cc96",
          "dash": "solid"
         },
         "marker": {
          "symbol": "circle"
         },
         "mode": "lines+markers",
         "name": "Moma",
         "orientation": "v",
         "showlegend": false,
         "type": "scatter",
         "x": [
          2000,
          2001,
          2002,
          2003,
          2004,
          2005,
          2006,
          2008,
          2012,
          2013,
          2015,
          2016,
          2019
         ],
         "xaxis": "x23",
         "y": [
          1,
          1,
          14,
          0,
          1,
          9,
          2,
          1,
          1,
          1,
          2,
          2,
          1
         ],
         "yaxis": "y23"
        },
        {
         "hovertemplate": "variable=Moma<br>Nationality=Mexican<br>DateAcquired=%{x}<br>value=%{y}<extra></extra>",
         "legendgroup": "Moma",
         "line": {
          "color": "#00cc96",
          "dash": "solid"
         },
         "marker": {
          "symbol": "circle"
         },
         "mode": "lines+markers",
         "name": "Moma",
         "orientation": "v",
         "showlegend": false,
         "type": "scatter",
         "x": [
          2000,
          2001,
          2002,
          2003,
          2004,
          2005,
          2006,
          2007,
          2009,
          2013,
          2015,
          2016,
          2017,
          2018
         ],
         "xaxis": "x24",
         "y": [
          1,
          0,
          0,
          0,
          0,
          1,
          1,
          0,
          1,
          1,
          3,
          1,
          1,
          1
         ],
         "yaxis": "y24"
        },
        {
         "hovertemplate": "variable=Moma<br>Nationality=Australian<br>DateAcquired=%{x}<br>value=%{y}<extra></extra>",
         "legendgroup": "Moma",
         "line": {
          "color": "#00cc96",
          "dash": "solid"
         },
         "marker": {
          "symbol": "circle"
         },
         "mode": "lines+markers",
         "name": "Moma",
         "orientation": "v",
         "showlegend": false,
         "type": "scatter",
         "x": [
          2000,
          2001,
          2002,
          2004,
          2005,
          2006,
          2007,
          2008,
          2010,
          2011,
          2012
         ],
         "xaxis": "x21",
         "y": [
          1,
          0,
          0,
          0,
          1,
          0,
          0,
          0,
          0,
          0,
          0
         ],
         "yaxis": "y21"
        },
        {
         "hovertemplate": "variable=Moma<br>Nationality=missing<br>DateAcquired=%{x}<br>value=%{y}<extra></extra>",
         "legendgroup": "Moma",
         "line": {
          "color": "#00cc96",
          "dash": "solid"
         },
         "marker": {
          "symbol": "circle"
         },
         "mode": "lines+markers",
         "name": "Moma",
         "orientation": "v",
         "showlegend": false,
         "type": "scatter",
         "x": [
          2000,
          2001,
          2002,
          2003,
          2004,
          2005,
          2006,
          2007,
          2008,
          2009,
          2010,
          2011,
          2012,
          2013,
          2014,
          2015
         ],
         "xaxis": "x22",
         "y": [
          0,
          0,
          0,
          0,
          0,
          1,
          9,
          2,
          2,
          4,
          1,
          0,
          3,
          8,
          1,
          3
         ],
         "yaxis": "y22"
        },
        {
         "hovertemplate": "variable=Moma<br>Nationality=Norwegian<br>DateAcquired=%{x}<br>value=%{y}<extra></extra>",
         "legendgroup": "Moma",
         "line": {
          "color": "#00cc96",
          "dash": "solid"
         },
         "marker": {
          "symbol": "circle"
         },
         "mode": "lines+markers",
         "name": "Moma",
         "orientation": "v",
         "showlegend": false,
         "type": "scatter",
         "x": [
          2001,
          2002,
          2012
         ],
         "xaxis": "x19",
         "y": [
          0,
          0,
          4
         ],
         "yaxis": "y19"
        },
        {
         "hovertemplate": "variable=Moma<br>Nationality=Austrian<br>DateAcquired=%{x}<br>value=%{y}<extra></extra>",
         "legendgroup": "Moma",
         "line": {
          "color": "#00cc96",
          "dash": "solid"
         },
         "marker": {
          "symbol": "circle"
         },
         "mode": "lines+markers",
         "name": "Moma",
         "orientation": "v",
         "showlegend": false,
         "type": "scatter",
         "x": [
          2001,
          2002,
          2003,
          2004,
          2005,
          2006,
          2007,
          2008,
          2009,
          2010,
          2012
         ],
         "xaxis": "x20",
         "y": [
          0,
          0,
          0,
          0,
          6,
          7,
          0,
          0,
          0,
          0,
          1
         ],
         "yaxis": "y20"
        },
        {
         "hovertemplate": "variable=Moma<br>Nationality=Belgian<br>DateAcquired=%{x}<br>value=%{y}<extra></extra>",
         "legendgroup": "Moma",
         "line": {
          "color": "#00cc96",
          "dash": "solid"
         },
         "marker": {
          "symbol": "circle"
         },
         "mode": "lines+markers",
         "name": "Moma",
         "orientation": "v",
         "showlegend": false,
         "type": "scatter",
         "x": [
          2001,
          2002,
          2003,
          2004,
          2005,
          2007,
          2008,
          2009
         ],
         "xaxis": "x17",
         "y": [
          0,
          0,
          0,
          0,
          1,
          14,
          1,
          1
         ],
         "yaxis": "y17"
        },
        {
         "hovertemplate": "variable=Moma<br>Nationality=Croatian<br>DateAcquired=%{x}<br>value=%{y}<extra></extra>",
         "legendgroup": "Moma",
         "line": {
          "color": "#00cc96",
          "dash": "solid"
         },
         "marker": {
          "symbol": "circle"
         },
         "mode": "lines+markers",
         "name": "Moma",
         "orientation": "v",
         "showlegend": false,
         "type": "scatter",
         "x": [
          2001,
          2003,
          2005,
          2007,
          2011
         ],
         "xaxis": "x18",
         "y": [
          3,
          0,
          0,
          1,
          1
         ],
         "yaxis": "y18"
        },
        {
         "hovertemplate": "variable=Moma<br>Nationality=Dutch<br>DateAcquired=%{x}<br>value=%{y}<extra></extra>",
         "legendgroup": "Moma",
         "line": {
          "color": "#00cc96",
          "dash": "solid"
         },
         "marker": {
          "symbol": "circle"
         },
         "mode": "lines+markers",
         "name": "Moma",
         "orientation": "v",
         "showlegend": false,
         "type": "scatter",
         "x": [
          2001,
          2003,
          2004,
          2005,
          2006,
          2007,
          2008,
          2010,
          2011,
          2012,
          2014
         ],
         "xaxis": "x15",
         "y": [
          0,
          0,
          0,
          3,
          1,
          8,
          1,
          0,
          0,
          0,
          1
         ],
         "yaxis": "y15"
        },
        {
         "hovertemplate": "variable=Moma<br>Nationality=Polish<br>DateAcquired=%{x}<br>value=%{y}<extra></extra>",
         "legendgroup": "Moma",
         "line": {
          "color": "#00cc96",
          "dash": "solid"
         },
         "marker": {
          "symbol": "circle"
         },
         "mode": "lines+markers",
         "name": "Moma",
         "orientation": "v",
         "showlegend": false,
         "type": "scatter",
         "x": [
          2001,
          2002,
          2004,
          2005,
          2006,
          2007,
          2008,
          2009,
          2011,
          2015
         ],
         "xaxis": "x16",
         "y": [
          0,
          0,
          0,
          1,
          0,
          0,
          3,
          0,
          0,
          2
         ],
         "yaxis": "y16"
        },
        {
         "hovertemplate": "variable=Moma<br>Nationality=Venezuelan<br>DateAcquired=%{x}<br>value=%{y}<extra></extra>",
         "legendgroup": "Moma",
         "line": {
          "color": "#00cc96",
          "dash": "solid"
         },
         "marker": {
          "symbol": "circle"
         },
         "mode": "lines+markers",
         "name": "Moma",
         "orientation": "v",
         "showlegend": false,
         "type": "scatter",
         "x": [
          2001,
          2002,
          2015
         ],
         "xaxis": "x13",
         "y": [
          0,
          1,
          1
         ],
         "yaxis": "y13"
        },
        {
         "hovertemplate": "variable=Moma<br>Nationality=Spanish<br>DateAcquired=%{x}<br>value=%{y}<extra></extra>",
         "legendgroup": "Moma",
         "line": {
          "color": "#00cc96",
          "dash": "solid"
         },
         "marker": {
          "symbol": "circle"
         },
         "mode": "lines+markers",
         "name": "Moma",
         "orientation": "v",
         "showlegend": false,
         "type": "scatter",
         "x": [
          2001,
          2002,
          2003,
          2005,
          2006,
          2007,
          2011,
          2012,
          2013,
          2015
         ],
         "xaxis": "x14",
         "y": [
          0,
          0,
          0,
          3,
          1,
          0,
          0,
          0,
          3,
          3
         ],
         "yaxis": "y14"
        },
        {
         "hovertemplate": "variable=Moma<br>Nationality=Israeli<br>DateAcquired=%{x}<br>value=%{y}<extra></extra>",
         "legendgroup": "Moma",
         "line": {
          "color": "#00cc96",
          "dash": "solid"
         },
         "marker": {
          "symbol": "circle"
         },
         "mode": "lines+markers",
         "name": "Moma",
         "orientation": "v",
         "showlegend": false,
         "type": "scatter",
         "x": [
          2001,
          2002,
          2003,
          2004,
          2005,
          2006,
          2007,
          2008,
          2015
         ],
         "xaxis": "x11",
         "y": [
          0,
          0,
          0,
          0,
          0,
          0,
          0,
          0,
          6
         ],
         "yaxis": "y11"
        },
        {
         "hovertemplate": "variable=Moma<br>Nationality=South African<br>DateAcquired=%{x}<br>value=%{y}<extra></extra>",
         "legendgroup": "Moma",
         "line": {
          "color": "#00cc96",
          "dash": "solid"
         },
         "marker": {
          "symbol": "circle"
         },
         "mode": "lines+markers",
         "name": "Moma",
         "orientation": "v",
         "showlegend": false,
         "type": "scatter",
         "x": [
          2001,
          2002,
          2004,
          2005,
          2006,
          2007,
          2009,
          2010,
          2015
         ],
         "xaxis": "x12",
         "y": [
          1,
          0,
          1,
          7,
          5,
          4,
          2,
          3,
          1
         ],
         "yaxis": "y12"
        },
        {
         "hovertemplate": "variable=Moma<br>Nationality=Slovenian<br>DateAcquired=%{x}<br>value=%{y}<extra></extra>",
         "legendgroup": "Moma",
         "line": {
          "color": "#00cc96",
          "dash": "solid"
         },
         "marker": {
          "symbol": "circle"
         },
         "mode": "lines+markers",
         "name": "Moma",
         "orientation": "v",
         "showlegend": false,
         "type": "scatter",
         "x": [
          2001,
          2005,
          2007,
          2012
         ],
         "xaxis": "x9",
         "y": [
          0,
          0,
          0,
          1
         ],
         "yaxis": "y9"
        },
        {
         "hovertemplate": "variable=Moma<br>Nationality=Russian<br>DateAcquired=%{x}<br>value=%{y}<extra></extra>",
         "legendgroup": "Moma",
         "line": {
          "color": "#00cc96",
          "dash": "solid"
         },
         "marker": {
          "symbol": "circle"
         },
         "mode": "lines+markers",
         "name": "Moma",
         "orientation": "v",
         "showlegend": false,
         "type": "scatter",
         "x": [
          2001,
          2002,
          2004,
          2006,
          2007,
          2016
         ],
         "xaxis": "x10",
         "y": [
          0,
          0,
          0,
          1,
          0,
          1
         ],
         "yaxis": "y10"
        },
        {
         "hovertemplate": "variable=Moma<br>Nationality=Argentine<br>DateAcquired=%{x}<br>value=%{y}<extra></extra>",
         "legendgroup": "Moma",
         "line": {
          "color": "#00cc96",
          "dash": "solid"
         },
         "marker": {
          "symbol": "circle"
         },
         "mode": "lines+markers",
         "name": "Moma",
         "orientation": "v",
         "showlegend": false,
         "type": "scatter",
         "x": [
          2001,
          2002,
          2003,
          2004,
          2005,
          2006,
          2007,
          2008,
          2016,
          2017,
          2018
         ],
         "xaxis": "x7",
         "y": [
          0,
          0,
          1,
          0,
          0,
          1,
          10,
          0,
          1,
          1,
          1
         ],
         "yaxis": "y7"
        },
        {
         "hovertemplate": "variable=Moma<br>Nationality=Chinese<br>DateAcquired=%{x}<br>value=%{y}<extra></extra>",
         "legendgroup": "Moma",
         "line": {
          "color": "#00cc96",
          "dash": "solid"
         },
         "marker": {
          "symbol": "circle"
         },
         "mode": "lines+markers",
         "name": "Moma",
         "orientation": "v",
         "showlegend": false,
         "type": "scatter",
         "x": [
          2002,
          2004,
          2005,
          2007,
          2008,
          2010,
          2018
         ],
         "xaxis": "x8",
         "y": [
          0,
          1,
          1,
          1,
          3,
          3,
          2
         ],
         "yaxis": "y8"
        },
        {
         "hovertemplate": "variable=Moma<br>Nationality=Swiss<br>DateAcquired=%{x}<br>value=%{y}<extra></extra>",
         "legendgroup": "Moma",
         "line": {
          "color": "#00cc96",
          "dash": "solid"
         },
         "marker": {
          "symbol": "circle"
         },
         "mode": "lines+markers",
         "name": "Moma",
         "orientation": "v",
         "showlegend": false,
         "type": "scatter",
         "x": [
          2002,
          2003,
          2005,
          2006,
          2007,
          2008,
          2011,
          2012,
          2013,
          2014,
          2015,
          2018
         ],
         "xaxis": "x5",
         "y": [
          0,
          2,
          3,
          1,
          11,
          2,
          1,
          1,
          3,
          2,
          1,
          10
         ],
         "yaxis": "y5"
        },
        {
         "hovertemplate": "variable=Moma<br>Nationality=Indian<br>DateAcquired=%{x}<br>value=%{y}<extra></extra>",
         "legendgroup": "Moma",
         "line": {
          "color": "#00cc96",
          "dash": "solid"
         },
         "marker": {
          "symbol": "circle"
         },
         "mode": "lines+markers",
         "name": "Moma",
         "orientation": "v",
         "showlegend": false,
         "type": "scatter",
         "x": [
          2002,
          2007,
          2013,
          2017,
          2018
         ],
         "xaxis": "x6",
         "y": [
          0,
          0,
          1,
          1,
          4
         ],
         "yaxis": "y6"
        },
        {
         "hovertemplate": "variable=Moma<br>Nationality=Portuguese<br>DateAcquired=%{x}<br>value=%{y}<extra></extra>",
         "legendgroup": "Moma",
         "line": {
          "color": "#00cc96",
          "dash": "solid"
         },
         "marker": {
          "symbol": "circle"
         },
         "mode": "lines+markers",
         "name": "Moma",
         "orientation": "v",
         "showlegend": false,
         "type": "scatter",
         "x": [
          2003,
          2004,
          2005,
          2006,
          2007,
          2012
         ],
         "xaxis": "x3",
         "y": [
          0,
          0,
          0,
          0,
          0,
          2
         ],
         "yaxis": "y3"
        },
        {
         "hovertemplate": "variable=Moma<br>Nationality=Chilean<br>DateAcquired=%{x}<br>value=%{y}<extra></extra>",
         "legendgroup": "Moma",
         "line": {
          "color": "#00cc96",
          "dash": "solid"
         },
         "marker": {
          "symbol": "circle"
         },
         "mode": "lines+markers",
         "name": "Moma",
         "orientation": "v",
         "showlegend": false,
         "type": "scatter",
         "x": [
          2004,
          2005,
          2013,
          2017
         ],
         "xaxis": "x4",
         "y": [
          0,
          0,
          1,
          1
         ],
         "yaxis": "y4"
        },
        {
         "hovertemplate": "variable=Moma<br>Nationality=Colombian<br>DateAcquired=%{x}<br>value=%{y}<extra></extra>",
         "legendgroup": "Moma",
         "line": {
          "color": "#00cc96",
          "dash": "solid"
         },
         "marker": {
          "symbol": "circle"
         },
         "mode": "lines+markers",
         "name": "Moma",
         "orientation": "v",
         "showlegend": false,
         "type": "scatter",
         "x": [
          2005,
          2007,
          2009,
          2010,
          2011,
          2012,
          2014,
          2017
         ],
         "xaxis": "x",
         "y": [
          0,
          0,
          22,
          10,
          4,
          3,
          3,
          2
         ],
         "yaxis": "y"
        },
        {
         "hovertemplate": "variable=Moma<br>Nationality=Finnish<br>DateAcquired=%{x}<br>value=%{y}<extra></extra>",
         "legendgroup": "Moma",
         "line": {
          "color": "#00cc96",
          "dash": "solid"
         },
         "marker": {
          "symbol": "circle"
         },
         "mode": "lines+markers",
         "name": "Moma",
         "orientation": "v",
         "showlegend": false,
         "type": "scatter",
         "x": [
          2005,
          2006
         ],
         "xaxis": "x2",
         "y": [
          2,
          0
         ],
         "yaxis": "y2"
        },
        {
         "hovertemplate": "variable=Rhizome<br>Nationality=American<br>DateAcquired=%{x}<br>value=%{y}<extra></extra>",
         "legendgroup": "Rhizome",
         "line": {
          "color": "#ab63fa",
          "dash": "solid"
         },
         "marker": {
          "symbol": "circle"
         },
         "mode": "lines+markers",
         "name": "Rhizome",
         "orientation": "v",
         "showlegend": true,
         "type": "scatter",
         "x": [
          2000,
          2001,
          2002,
          2003,
          2004,
          2005,
          2006,
          2007,
          2008,
          2009,
          2010,
          2011,
          2012,
          2013,
          2014,
          2015,
          2016,
          2017,
          2018,
          2019
         ],
         "xaxis": "x29",
         "y": [
          4,
          54,
          44,
          26,
          44,
          52,
          53,
          65,
          34,
          29,
          7,
          23,
          22,
          3,
          0,
          4,
          0,
          0,
          0,
          0
         ],
         "yaxis": "y29"
        },
        {
         "hovertemplate": "variable=Rhizome<br>Nationality=British<br>DateAcquired=%{x}<br>value=%{y}<extra></extra>",
         "legendgroup": "Rhizome",
         "line": {
          "color": "#ab63fa",
          "dash": "solid"
         },
         "marker": {
          "symbol": "circle"
         },
         "mode": "lines+markers",
         "name": "Rhizome",
         "orientation": "v",
         "showlegend": false,
         "type": "scatter",
         "x": [
          2000,
          2001,
          2002,
          2003,
          2004,
          2005,
          2006,
          2007,
          2008,
          2009,
          2010,
          2011,
          2012,
          2013,
          2014,
          2015,
          2016,
          2017,
          2018
         ],
         "xaxis": "x30",
         "y": [
          1,
          3,
          15,
          5,
          11,
          11,
          8,
          15,
          6,
          1,
          0,
          0,
          1,
          1,
          0,
          0,
          0,
          0,
          0
         ],
         "yaxis": "y30"
        },
        {
         "hovertemplate": "variable=Rhizome<br>Nationality=Canadian<br>DateAcquired=%{x}<br>value=%{y}<extra></extra>",
         "legendgroup": "Rhizome",
         "line": {
          "color": "#ab63fa",
          "dash": "solid"
         },
         "marker": {
          "symbol": "circle"
         },
         "mode": "lines+markers",
         "name": "Rhizome",
         "orientation": "v",
         "showlegend": false,
         "type": "scatter",
         "x": [
          2000,
          2001,
          2002,
          2003,
          2004,
          2005,
          2006,
          2007,
          2008,
          2009,
          2011,
          2013,
          2015,
          2018,
          2019
         ],
         "xaxis": "x27",
         "y": [
          1,
          11,
          6,
          4,
          11,
          16,
          12,
          11,
          4,
          1,
          4,
          0,
          0,
          0,
          0
         ],
         "yaxis": "y27"
        },
        {
         "hovertemplate": "variable=Rhizome<br>Nationality=French<br>DateAcquired=%{x}<br>value=%{y}<extra></extra>",
         "legendgroup": "Rhizome",
         "line": {
          "color": "#ab63fa",
          "dash": "solid"
         },
         "marker": {
          "symbol": "circle"
         },
         "mode": "lines+markers",
         "name": "Rhizome",
         "orientation": "v",
         "showlegend": false,
         "type": "scatter",
         "x": [
          2000,
          2001,
          2002,
          2003,
          2004,
          2005,
          2006,
          2007,
          2008,
          2009,
          2011,
          2012,
          2013,
          2014,
          2015,
          2016,
          2017
         ],
         "xaxis": "x28",
         "y": [
          0,
          14,
          26,
          18,
          26,
          13,
          15,
          15,
          1,
          1,
          1,
          0,
          0,
          0,
          0,
          0,
          0
         ],
         "yaxis": "y28"
        },
        {
         "hovertemplate": "variable=Rhizome<br>Nationality=German<br>DateAcquired=%{x}<br>value=%{y}<extra></extra>",
         "legendgroup": "Rhizome",
         "line": {
          "color": "#ab63fa",
          "dash": "solid"
         },
         "marker": {
          "symbol": "circle"
         },
         "mode": "lines+markers",
         "name": "Rhizome",
         "orientation": "v",
         "showlegend": false,
         "type": "scatter",
         "x": [
          2000,
          2001,
          2002,
          2003,
          2004,
          2005,
          2006,
          2007,
          2008,
          2009,
          2010,
          2011,
          2012,
          2013,
          2014,
          2015,
          2016,
          2017,
          2018
         ],
         "xaxis": "x25",
         "y": [
          0,
          7,
          11,
          4,
          8,
          11,
          9,
          20,
          3,
          2,
          2,
          0,
          8,
          0,
          0,
          0,
          0,
          0,
          0
         ],
         "yaxis": "y25"
        },
        {
         "hovertemplate": "variable=Rhizome<br>Nationality=Italian<br>DateAcquired=%{x}<br>value=%{y}<extra></extra>",
         "legendgroup": "Rhizome",
         "line": {
          "color": "#ab63fa",
          "dash": "solid"
         },
         "marker": {
          "symbol": "circle"
         },
         "mode": "lines+markers",
         "name": "Rhizome",
         "orientation": "v",
         "showlegend": false,
         "type": "scatter",
         "x": [
          2000,
          2001,
          2002,
          2003,
          2005,
          2006,
          2007,
          2008,
          2009,
          2010,
          2011,
          2012,
          2015,
          2016
         ],
         "xaxis": "x26",
         "y": [
          0,
          4,
          9,
          3,
          8,
          3,
          5,
          0,
          1,
          0,
          1,
          3,
          0,
          0
         ],
         "yaxis": "y26"
        },
        {
         "hovertemplate": "variable=Rhizome<br>Nationality=Japanese<br>DateAcquired=%{x}<br>value=%{y}<extra></extra>",
         "legendgroup": "Rhizome",
         "line": {
          "color": "#ab63fa",
          "dash": "solid"
         },
         "marker": {
          "symbol": "circle"
         },
         "mode": "lines+markers",
         "name": "Rhizome",
         "orientation": "v",
         "showlegend": false,
         "type": "scatter",
         "x": [
          2000,
          2001,
          2002,
          2003,
          2004,
          2005,
          2006,
          2008,
          2012,
          2013,
          2015,
          2016,
          2019
         ],
         "xaxis": "x23",
         "y": [
          1,
          2,
          1,
          2,
          2,
          7,
          5,
          0,
          0,
          0,
          0,
          0,
          0
         ],
         "yaxis": "y23"
        },
        {
         "hovertemplate": "variable=Rhizome<br>Nationality=Mexican<br>DateAcquired=%{x}<br>value=%{y}<extra></extra>",
         "legendgroup": "Rhizome",
         "line": {
          "color": "#ab63fa",
          "dash": "solid"
         },
         "marker": {
          "symbol": "circle"
         },
         "mode": "lines+markers",
         "name": "Rhizome",
         "orientation": "v",
         "showlegend": false,
         "type": "scatter",
         "x": [
          2000,
          2001,
          2002,
          2003,
          2004,
          2005,
          2006,
          2007,
          2009,
          2013,
          2015,
          2016,
          2017,
          2018
         ],
         "xaxis": "x24",
         "y": [
          0,
          2,
          3,
          1,
          1,
          3,
          0,
          1,
          0,
          0,
          0,
          0,
          0,
          0
         ],
         "yaxis": "y24"
        },
        {
         "hovertemplate": "variable=Rhizome<br>Nationality=Australian<br>DateAcquired=%{x}<br>value=%{y}<extra></extra>",
         "legendgroup": "Rhizome",
         "line": {
          "color": "#ab63fa",
          "dash": "solid"
         },
         "marker": {
          "symbol": "circle"
         },
         "mode": "lines+markers",
         "name": "Rhizome",
         "orientation": "v",
         "showlegend": false,
         "type": "scatter",
         "x": [
          2000,
          2001,
          2002,
          2004,
          2005,
          2006,
          2007,
          2008,
          2010,
          2011,
          2012
         ],
         "xaxis": "x21",
         "y": [
          0,
          5,
          2,
          5,
          8,
          3,
          2,
          1,
          2,
          1,
          1
         ],
         "yaxis": "y21"
        },
        {
         "hovertemplate": "variable=Rhizome<br>Nationality=missing<br>DateAcquired=%{x}<br>value=%{y}<extra></extra>",
         "legendgroup": "Rhizome",
         "line": {
          "color": "#ab63fa",
          "dash": "solid"
         },
         "marker": {
          "symbol": "circle"
         },
         "mode": "lines+markers",
         "name": "Rhizome",
         "orientation": "v",
         "showlegend": false,
         "type": "scatter",
         "x": [
          2000,
          2001,
          2002,
          2003,
          2004,
          2005,
          2006,
          2007,
          2008,
          2009,
          2010,
          2011,
          2012,
          2013,
          2014,
          2015
         ],
         "xaxis": "x22",
         "y": [
          1,
          74,
          100,
          45,
          83,
          74,
          56,
          78,
          40,
          21,
          5,
          11,
          13,
          1,
          0,
          0
         ],
         "yaxis": "y22"
        },
        {
         "hovertemplate": "variable=Rhizome<br>Nationality=Norwegian<br>DateAcquired=%{x}<br>value=%{y}<extra></extra>",
         "legendgroup": "Rhizome",
         "line": {
          "color": "#ab63fa",
          "dash": "solid"
         },
         "marker": {
          "symbol": "circle"
         },
         "mode": "lines+markers",
         "name": "Rhizome",
         "orientation": "v",
         "showlegend": false,
         "type": "scatter",
         "x": [
          2001,
          2002,
          2012
         ],
         "xaxis": "x19",
         "y": [
          1,
          1,
          0
         ],
         "yaxis": "y19"
        },
        {
         "hovertemplate": "variable=Rhizome<br>Nationality=Austrian<br>DateAcquired=%{x}<br>value=%{y}<extra></extra>",
         "legendgroup": "Rhizome",
         "line": {
          "color": "#ab63fa",
          "dash": "solid"
         },
         "marker": {
          "symbol": "circle"
         },
         "mode": "lines+markers",
         "name": "Rhizome",
         "orientation": "v",
         "showlegend": false,
         "type": "scatter",
         "x": [
          2001,
          2002,
          2003,
          2004,
          2005,
          2006,
          2007,
          2008,
          2009,
          2010,
          2012
         ],
         "xaxis": "x20",
         "y": [
          7,
          5,
          1,
          4,
          2,
          2,
          7,
          5,
          1,
          1,
          0
         ],
         "yaxis": "y20"
        },
        {
         "hovertemplate": "variable=Rhizome<br>Nationality=Belgian<br>DateAcquired=%{x}<br>value=%{y}<extra></extra>",
         "legendgroup": "Rhizome",
         "line": {
          "color": "#ab63fa",
          "dash": "solid"
         },
         "marker": {
          "symbol": "circle"
         },
         "mode": "lines+markers",
         "name": "Rhizome",
         "orientation": "v",
         "showlegend": false,
         "type": "scatter",
         "x": [
          2001,
          2002,
          2003,
          2004,
          2005,
          2007,
          2008,
          2009
         ],
         "xaxis": "x17",
         "y": [
          1,
          2,
          1,
          2,
          3,
          0,
          2,
          0
         ],
         "yaxis": "y17"
        },
        {
         "hovertemplate": "variable=Rhizome<br>Nationality=Croatian<br>DateAcquired=%{x}<br>value=%{y}<extra></extra>",
         "legendgroup": "Rhizome",
         "line": {
          "color": "#ab63fa",
          "dash": "solid"
         },
         "marker": {
          "symbol": "circle"
         },
         "mode": "lines+markers",
         "name": "Rhizome",
         "orientation": "v",
         "showlegend": false,
         "type": "scatter",
         "x": [
          2001,
          2003,
          2005,
          2007,
          2011
         ],
         "xaxis": "x18",
         "y": [
          0,
          1,
          1,
          0,
          0
         ],
         "yaxis": "y18"
        },
        {
         "hovertemplate": "variable=Rhizome<br>Nationality=Dutch<br>DateAcquired=%{x}<br>value=%{y}<extra></extra>",
         "legendgroup": "Rhizome",
         "line": {
          "color": "#ab63fa",
          "dash": "solid"
         },
         "marker": {
          "symbol": "circle"
         },
         "mode": "lines+markers",
         "name": "Rhizome",
         "orientation": "v",
         "showlegend": false,
         "type": "scatter",
         "x": [
          2001,
          2003,
          2004,
          2005,
          2006,
          2007,
          2008,
          2010,
          2011,
          2012,
          2014
         ],
         "xaxis": "x15",
         "y": [
          6,
          1,
          9,
          5,
          4,
          2,
          2,
          1,
          1,
          1,
          0
         ],
         "yaxis": "y15"
        },
        {
         "hovertemplate": "variable=Rhizome<br>Nationality=Polish<br>DateAcquired=%{x}<br>value=%{y}<extra></extra>",
         "legendgroup": "Rhizome",
         "line": {
          "color": "#ab63fa",
          "dash": "solid"
         },
         "marker": {
          "symbol": "circle"
         },
         "mode": "lines+markers",
         "name": "Rhizome",
         "orientation": "v",
         "showlegend": false,
         "type": "scatter",
         "x": [
          2001,
          2002,
          2004,
          2005,
          2006,
          2007,
          2008,
          2009,
          2011,
          2015
         ],
         "xaxis": "x16",
         "y": [
          3,
          2,
          1,
          1,
          3,
          3,
          5,
          1,
          1,
          0
         ],
         "yaxis": "y16"
        },
        {
         "hovertemplate": "variable=Rhizome<br>Nationality=Venezuelan<br>DateAcquired=%{x}<br>value=%{y}<extra></extra>",
         "legendgroup": "Rhizome",
         "line": {
          "color": "#ab63fa",
          "dash": "solid"
         },
         "marker": {
          "symbol": "circle"
         },
         "mode": "lines+markers",
         "name": "Rhizome",
         "orientation": "v",
         "showlegend": false,
         "type": "scatter",
         "x": [
          2001,
          2002,
          2015
         ],
         "xaxis": "x13",
         "y": [
          1,
          0,
          0
         ],
         "yaxis": "y13"
        },
        {
         "hovertemplate": "variable=Rhizome<br>Nationality=Spanish<br>DateAcquired=%{x}<br>value=%{y}<extra></extra>",
         "legendgroup": "Rhizome",
         "line": {
          "color": "#ab63fa",
          "dash": "solid"
         },
         "marker": {
          "symbol": "circle"
         },
         "mode": "lines+markers",
         "name": "Rhizome",
         "orientation": "v",
         "showlegend": false,
         "type": "scatter",
         "x": [
          2001,
          2002,
          2003,
          2005,
          2006,
          2007,
          2011,
          2012,
          2013,
          2015
         ],
         "xaxis": "x14",
         "y": [
          4,
          5,
          4,
          0,
          1,
          3,
          1,
          2,
          0,
          0
         ],
         "yaxis": "y14"
        },
        {
         "hovertemplate": "variable=Rhizome<br>Nationality=Israeli<br>DateAcquired=%{x}<br>value=%{y}<extra></extra>",
         "legendgroup": "Rhizome",
         "line": {
          "color": "#ab63fa",
          "dash": "solid"
         },
         "marker": {
          "symbol": "circle"
         },
         "mode": "lines+markers",
         "name": "Rhizome",
         "orientation": "v",
         "showlegend": false,
         "type": "scatter",
         "x": [
          2001,
          2002,
          2003,
          2004,
          2005,
          2006,
          2007,
          2008,
          2015
         ],
         "xaxis": "x11",
         "y": [
          5,
          1,
          1,
          13,
          1,
          1,
          1,
          3,
          0
         ],
         "yaxis": "y11"
        },
        {
         "hovertemplate": "variable=Rhizome<br>Nationality=South African<br>DateAcquired=%{x}<br>value=%{y}<extra></extra>",
         "legendgroup": "Rhizome",
         "line": {
          "color": "#ab63fa",
          "dash": "solid"
         },
         "marker": {
          "symbol": "circle"
         },
         "mode": "lines+markers",
         "name": "Rhizome",
         "orientation": "v",
         "showlegend": false,
         "type": "scatter",
         "x": [
          2001,
          2002,
          2004,
          2005,
          2006,
          2007,
          2009,
          2010,
          2015
         ],
         "xaxis": "x12",
         "y": [
          0,
          1,
          1,
          0,
          0,
          0,
          0,
          0,
          0
         ],
         "yaxis": "y12"
        },
        {
         "hovertemplate": "variable=Rhizome<br>Nationality=Slovenian<br>DateAcquired=%{x}<br>value=%{y}<extra></extra>",
         "legendgroup": "Rhizome",
         "line": {
          "color": "#ab63fa",
          "dash": "solid"
         },
         "marker": {
          "symbol": "circle"
         },
         "mode": "lines+markers",
         "name": "Rhizome",
         "orientation": "v",
         "showlegend": false,
         "type": "scatter",
         "x": [
          2001,
          2005,
          2007,
          2012
         ],
         "xaxis": "x9",
         "y": [
          1,
          1,
          1,
          0
         ],
         "yaxis": "y9"
        },
        {
         "hovertemplate": "variable=Rhizome<br>Nationality=Russian<br>DateAcquired=%{x}<br>value=%{y}<extra></extra>",
         "legendgroup": "Rhizome",
         "line": {
          "color": "#ab63fa",
          "dash": "solid"
         },
         "marker": {
          "symbol": "circle"
         },
         "mode": "lines+markers",
         "name": "Rhizome",
         "orientation": "v",
         "showlegend": false,
         "type": "scatter",
         "x": [
          2001,
          2002,
          2004,
          2006,
          2007,
          2016
         ],
         "xaxis": "x10",
         "y": [
          5,
          2,
          3,
          0,
          1,
          0
         ],
         "yaxis": "y10"
        },
        {
         "hovertemplate": "variable=Rhizome<br>Nationality=Argentine<br>DateAcquired=%{x}<br>value=%{y}<extra></extra>",
         "legendgroup": "Rhizome",
         "line": {
          "color": "#ab63fa",
          "dash": "solid"
         },
         "marker": {
          "symbol": "circle"
         },
         "mode": "lines+markers",
         "name": "Rhizome",
         "orientation": "v",
         "showlegend": false,
         "type": "scatter",
         "x": [
          2001,
          2002,
          2003,
          2004,
          2005,
          2006,
          2007,
          2008,
          2016,
          2017,
          2018
         ],
         "xaxis": "x7",
         "y": [
          2,
          2,
          2,
          6,
          4,
          1,
          1,
          1,
          0,
          0,
          0
         ],
         "yaxis": "y7"
        },
        {
         "hovertemplate": "variable=Rhizome<br>Nationality=Chinese<br>DateAcquired=%{x}<br>value=%{y}<extra></extra>",
         "legendgroup": "Rhizome",
         "line": {
          "color": "#ab63fa",
          "dash": "solid"
         },
         "marker": {
          "symbol": "circle"
         },
         "mode": "lines+markers",
         "name": "Rhizome",
         "orientation": "v",
         "showlegend": false,
         "type": "scatter",
         "x": [
          2002,
          2004,
          2005,
          2007,
          2008,
          2010,
          2018
         ],
         "xaxis": "x8",
         "y": [
          2,
          0,
          0,
          0,
          0,
          0,
          0
         ],
         "yaxis": "y8"
        },
        {
         "hovertemplate": "variable=Rhizome<br>Nationality=Swiss<br>DateAcquired=%{x}<br>value=%{y}<extra></extra>",
         "legendgroup": "Rhizome",
         "line": {
          "color": "#ab63fa",
          "dash": "solid"
         },
         "marker": {
          "symbol": "circle"
         },
         "mode": "lines+markers",
         "name": "Rhizome",
         "orientation": "v",
         "showlegend": false,
         "type": "scatter",
         "x": [
          2002,
          2003,
          2005,
          2006,
          2007,
          2008,
          2011,
          2012,
          2013,
          2014,
          2015,
          2018
         ],
         "xaxis": "x5",
         "y": [
          1,
          1,
          5,
          1,
          2,
          0,
          0,
          0,
          0,
          0,
          0,
          0
         ],
         "yaxis": "y5"
        },
        {
         "hovertemplate": "variable=Rhizome<br>Nationality=Indian<br>DateAcquired=%{x}<br>value=%{y}<extra></extra>",
         "legendgroup": "Rhizome",
         "line": {
          "color": "#ab63fa",
          "dash": "solid"
         },
         "marker": {
          "symbol": "circle"
         },
         "mode": "lines+markers",
         "name": "Rhizome",
         "orientation": "v",
         "showlegend": false,
         "type": "scatter",
         "x": [
          2002,
          2007,
          2013,
          2017,
          2018
         ],
         "xaxis": "x6",
         "y": [
          1,
          1,
          0,
          0,
          0
         ],
         "yaxis": "y6"
        },
        {
         "hovertemplate": "variable=Rhizome<br>Nationality=Portuguese<br>DateAcquired=%{x}<br>value=%{y}<extra></extra>",
         "legendgroup": "Rhizome",
         "line": {
          "color": "#ab63fa",
          "dash": "solid"
         },
         "marker": {
          "symbol": "circle"
         },
         "mode": "lines+markers",
         "name": "Rhizome",
         "orientation": "v",
         "showlegend": false,
         "type": "scatter",
         "x": [
          2003,
          2004,
          2005,
          2006,
          2007,
          2012
         ],
         "xaxis": "x3",
         "y": [
          1,
          2,
          2,
          2,
          4,
          0
         ],
         "yaxis": "y3"
        },
        {
         "hovertemplate": "variable=Rhizome<br>Nationality=Chilean<br>DateAcquired=%{x}<br>value=%{y}<extra></extra>",
         "legendgroup": "Rhizome",
         "line": {
          "color": "#ab63fa",
          "dash": "solid"
         },
         "marker": {
          "symbol": "circle"
         },
         "mode": "lines+markers",
         "name": "Rhizome",
         "orientation": "v",
         "showlegend": false,
         "type": "scatter",
         "x": [
          2004,
          2005,
          2013,
          2017
         ],
         "xaxis": "x4",
         "y": [
          1,
          1,
          0,
          0
         ],
         "yaxis": "y4"
        },
        {
         "hovertemplate": "variable=Rhizome<br>Nationality=Colombian<br>DateAcquired=%{x}<br>value=%{y}<extra></extra>",
         "legendgroup": "Rhizome",
         "line": {
          "color": "#ab63fa",
          "dash": "solid"
         },
         "marker": {
          "symbol": "circle"
         },
         "mode": "lines+markers",
         "name": "Rhizome",
         "orientation": "v",
         "showlegend": false,
         "type": "scatter",
         "x": [
          2005,
          2007,
          2009,
          2010,
          2011,
          2012,
          2014,
          2017
         ],
         "xaxis": "x",
         "y": [
          2,
          5,
          0,
          0,
          0,
          0,
          0,
          0
         ],
         "yaxis": "y"
        },
        {
         "hovertemplate": "variable=Rhizome<br>Nationality=Finnish<br>DateAcquired=%{x}<br>value=%{y}<extra></extra>",
         "legendgroup": "Rhizome",
         "line": {
          "color": "#ab63fa",
          "dash": "solid"
         },
         "marker": {
          "symbol": "circle"
         },
         "mode": "lines+markers",
         "name": "Rhizome",
         "orientation": "v",
         "showlegend": false,
         "type": "scatter",
         "x": [
          2005,
          2006
         ],
         "xaxis": "x2",
         "y": [
          0,
          1
         ],
         "yaxis": "y2"
        }
       ],
       "layout": {
        "annotations": [
         {
          "font": {},
          "showarrow": false,
          "text": "Nationality=Colombian",
          "x": 0.24,
          "xanchor": "center",
          "xref": "paper",
          "y": 0.048,
          "yanchor": "bottom",
          "yref": "paper"
         },
         {
          "font": {},
          "showarrow": false,
          "text": "Nationality=Finnish",
          "x": 0.76,
          "xanchor": "center",
          "xref": "paper",
          "y": 0.048,
          "yanchor": "bottom",
          "yref": "paper"
         },
         {
          "font": {},
          "showarrow": false,
          "text": "Nationality=Portuguese",
          "x": 0.24,
          "xanchor": "center",
          "xref": "paper",
          "y": 0.116,
          "yanchor": "bottom",
          "yref": "paper"
         },
         {
          "font": {},
          "showarrow": false,
          "text": "Nationality=Chilean",
          "x": 0.76,
          "xanchor": "center",
          "xref": "paper",
          "y": 0.116,
          "yanchor": "bottom",
          "yref": "paper"
         },
         {
          "font": {},
          "showarrow": false,
          "text": "Nationality=Swiss",
          "x": 0.24,
          "xanchor": "center",
          "xref": "paper",
          "y": 0.184,
          "yanchor": "bottom",
          "yref": "paper"
         },
         {
          "font": {},
          "showarrow": false,
          "text": "Nationality=Indian",
          "x": 0.76,
          "xanchor": "center",
          "xref": "paper",
          "y": 0.184,
          "yanchor": "bottom",
          "yref": "paper"
         },
         {
          "font": {},
          "showarrow": false,
          "text": "Nationality=Argentine",
          "x": 0.24,
          "xanchor": "center",
          "xref": "paper",
          "y": 0.252,
          "yanchor": "bottom",
          "yref": "paper"
         },
         {
          "font": {},
          "showarrow": false,
          "text": "Nationality=Chinese",
          "x": 0.76,
          "xanchor": "center",
          "xref": "paper",
          "y": 0.252,
          "yanchor": "bottom",
          "yref": "paper"
         },
         {
          "font": {},
          "showarrow": false,
          "text": "Nationality=Slovenian",
          "x": 0.24,
          "xanchor": "center",
          "xref": "paper",
          "y": 0.32,
          "yanchor": "bottom",
          "yref": "paper"
         },
         {
          "font": {},
          "showarrow": false,
          "text": "Nationality=Russian",
          "x": 0.76,
          "xanchor": "center",
          "xref": "paper",
          "y": 0.32,
          "yanchor": "bottom",
          "yref": "paper"
         },
         {
          "font": {},
          "showarrow": false,
          "text": "Nationality=Israeli",
          "x": 0.24,
          "xanchor": "center",
          "xref": "paper",
          "y": 0.38799999999999996,
          "yanchor": "bottom",
          "yref": "paper"
         },
         {
          "font": {},
          "showarrow": false,
          "text": "Nationality=South African",
          "x": 0.76,
          "xanchor": "center",
          "xref": "paper",
          "y": 0.38799999999999996,
          "yanchor": "bottom",
          "yref": "paper"
         },
         {
          "font": {},
          "showarrow": false,
          "text": "Nationality=Venezuelan",
          "x": 0.24,
          "xanchor": "center",
          "xref": "paper",
          "y": 0.45599999999999996,
          "yanchor": "bottom",
          "yref": "paper"
         },
         {
          "font": {},
          "showarrow": false,
          "text": "Nationality=Spanish",
          "x": 0.76,
          "xanchor": "center",
          "xref": "paper",
          "y": 0.45599999999999996,
          "yanchor": "bottom",
          "yref": "paper"
         },
         {
          "font": {},
          "showarrow": false,
          "text": "Nationality=Dutch",
          "x": 0.24,
          "xanchor": "center",
          "xref": "paper",
          "y": 0.524,
          "yanchor": "bottom",
          "yref": "paper"
         },
         {
          "font": {},
          "showarrow": false,
          "text": "Nationality=Polish",
          "x": 0.76,
          "xanchor": "center",
          "xref": "paper",
          "y": 0.524,
          "yanchor": "bottom",
          "yref": "paper"
         },
         {
          "font": {},
          "showarrow": false,
          "text": "Nationality=Belgian",
          "x": 0.24,
          "xanchor": "center",
          "xref": "paper",
          "y": 0.592,
          "yanchor": "bottom",
          "yref": "paper"
         },
         {
          "font": {},
          "showarrow": false,
          "text": "Nationality=Croatian",
          "x": 0.76,
          "xanchor": "center",
          "xref": "paper",
          "y": 0.592,
          "yanchor": "bottom",
          "yref": "paper"
         },
         {
          "font": {},
          "showarrow": false,
          "text": "Nationality=Norwegian",
          "x": 0.24,
          "xanchor": "center",
          "xref": "paper",
          "y": 0.6599999999999999,
          "yanchor": "bottom",
          "yref": "paper"
         },
         {
          "font": {},
          "showarrow": false,
          "text": "Nationality=Austrian",
          "x": 0.76,
          "xanchor": "center",
          "xref": "paper",
          "y": 0.6599999999999999,
          "yanchor": "bottom",
          "yref": "paper"
         },
         {
          "font": {},
          "showarrow": false,
          "text": "Nationality=Australian",
          "x": 0.24,
          "xanchor": "center",
          "xref": "paper",
          "y": 0.728,
          "yanchor": "bottom",
          "yref": "paper"
         },
         {
          "font": {},
          "showarrow": false,
          "text": "Nationality=missing",
          "x": 0.76,
          "xanchor": "center",
          "xref": "paper",
          "y": 0.728,
          "yanchor": "bottom",
          "yref": "paper"
         },
         {
          "font": {},
          "showarrow": false,
          "text": "Nationality=Japanese",
          "x": 0.24,
          "xanchor": "center",
          "xref": "paper",
          "y": 0.7959999999999999,
          "yanchor": "bottom",
          "yref": "paper"
         },
         {
          "font": {},
          "showarrow": false,
          "text": "Nationality=Mexican",
          "x": 0.76,
          "xanchor": "center",
          "xref": "paper",
          "y": 0.7959999999999999,
          "yanchor": "bottom",
          "yref": "paper"
         },
         {
          "font": {},
          "showarrow": false,
          "text": "Nationality=German",
          "x": 0.24,
          "xanchor": "center",
          "xref": "paper",
          "y": 0.864,
          "yanchor": "bottom",
          "yref": "paper"
         },
         {
          "font": {},
          "showarrow": false,
          "text": "Nationality=Italian",
          "x": 0.76,
          "xanchor": "center",
          "xref": "paper",
          "y": 0.864,
          "yanchor": "bottom",
          "yref": "paper"
         },
         {
          "font": {},
          "showarrow": false,
          "text": "Nationality=Canadian",
          "x": 0.24,
          "xanchor": "center",
          "xref": "paper",
          "y": 0.932,
          "yanchor": "bottom",
          "yref": "paper"
         },
         {
          "font": {},
          "showarrow": false,
          "text": "Nationality=French",
          "x": 0.76,
          "xanchor": "center",
          "xref": "paper",
          "y": 0.932,
          "yanchor": "bottom",
          "yref": "paper"
         },
         {
          "font": {},
          "showarrow": false,
          "text": "Nationality=American",
          "x": 0.24,
          "xanchor": "center",
          "xref": "paper",
          "y": 1,
          "yanchor": "bottom",
          "yref": "paper"
         },
         {
          "font": {},
          "showarrow": false,
          "text": "Nationality=British",
          "x": 0.76,
          "xanchor": "center",
          "xref": "paper",
          "y": 1,
          "yanchor": "bottom",
          "yref": "paper"
         }
        ],
        "height": 2800,
        "legend": {
         "title": {
          "text": "variable"
         },
         "tracegroupgap": 0
        },
        "template": {
         "data": {
          "bar": [
           {
            "error_x": {
             "color": "#2a3f5f"
            },
            "error_y": {
             "color": "#2a3f5f"
            },
            "marker": {
             "line": {
              "color": "#E5ECF6",
              "width": 0.5
             },
             "pattern": {
              "fillmode": "overlay",
              "size": 10,
              "solidity": 0.2
             }
            },
            "type": "bar"
           }
          ],
          "barpolar": [
           {
            "marker": {
             "line": {
              "color": "#E5ECF6",
              "width": 0.5
             },
             "pattern": {
              "fillmode": "overlay",
              "size": 10,
              "solidity": 0.2
             }
            },
            "type": "barpolar"
           }
          ],
          "carpet": [
           {
            "aaxis": {
             "endlinecolor": "#2a3f5f",
             "gridcolor": "white",
             "linecolor": "white",
             "minorgridcolor": "white",
             "startlinecolor": "#2a3f5f"
            },
            "baxis": {
             "endlinecolor": "#2a3f5f",
             "gridcolor": "white",
             "linecolor": "white",
             "minorgridcolor": "white",
             "startlinecolor": "#2a3f5f"
            },
            "type": "carpet"
           }
          ],
          "choropleth": [
           {
            "colorbar": {
             "outlinewidth": 0,
             "ticks": ""
            },
            "type": "choropleth"
           }
          ],
          "contour": [
           {
            "colorbar": {
             "outlinewidth": 0,
             "ticks": ""
            },
            "colorscale": [
             [
              0,
              "#0d0887"
             ],
             [
              0.1111111111111111,
              "#46039f"
             ],
             [
              0.2222222222222222,
              "#7201a8"
             ],
             [
              0.3333333333333333,
              "#9c179e"
             ],
             [
              0.4444444444444444,
              "#bd3786"
             ],
             [
              0.5555555555555556,
              "#d8576b"
             ],
             [
              0.6666666666666666,
              "#ed7953"
             ],
             [
              0.7777777777777778,
              "#fb9f3a"
             ],
             [
              0.8888888888888888,
              "#fdca26"
             ],
             [
              1,
              "#f0f921"
             ]
            ],
            "type": "contour"
           }
          ],
          "contourcarpet": [
           {
            "colorbar": {
             "outlinewidth": 0,
             "ticks": ""
            },
            "type": "contourcarpet"
           }
          ],
          "heatmap": [
           {
            "colorbar": {
             "outlinewidth": 0,
             "ticks": ""
            },
            "colorscale": [
             [
              0,
              "#0d0887"
             ],
             [
              0.1111111111111111,
              "#46039f"
             ],
             [
              0.2222222222222222,
              "#7201a8"
             ],
             [
              0.3333333333333333,
              "#9c179e"
             ],
             [
              0.4444444444444444,
              "#bd3786"
             ],
             [
              0.5555555555555556,
              "#d8576b"
             ],
             [
              0.6666666666666666,
              "#ed7953"
             ],
             [
              0.7777777777777778,
              "#fb9f3a"
             ],
             [
              0.8888888888888888,
              "#fdca26"
             ],
             [
              1,
              "#f0f921"
             ]
            ],
            "type": "heatmap"
           }
          ],
          "heatmapgl": [
           {
            "colorbar": {
             "outlinewidth": 0,
             "ticks": ""
            },
            "colorscale": [
             [
              0,
              "#0d0887"
             ],
             [
              0.1111111111111111,
              "#46039f"
             ],
             [
              0.2222222222222222,
              "#7201a8"
             ],
             [
              0.3333333333333333,
              "#9c179e"
             ],
             [
              0.4444444444444444,
              "#bd3786"
             ],
             [
              0.5555555555555556,
              "#d8576b"
             ],
             [
              0.6666666666666666,
              "#ed7953"
             ],
             [
              0.7777777777777778,
              "#fb9f3a"
             ],
             [
              0.8888888888888888,
              "#fdca26"
             ],
             [
              1,
              "#f0f921"
             ]
            ],
            "type": "heatmapgl"
           }
          ],
          "histogram": [
           {
            "marker": {
             "pattern": {
              "fillmode": "overlay",
              "size": 10,
              "solidity": 0.2
             }
            },
            "type": "histogram"
           }
          ],
          "histogram2d": [
           {
            "colorbar": {
             "outlinewidth": 0,
             "ticks": ""
            },
            "colorscale": [
             [
              0,
              "#0d0887"
             ],
             [
              0.1111111111111111,
              "#46039f"
             ],
             [
              0.2222222222222222,
              "#7201a8"
             ],
             [
              0.3333333333333333,
              "#9c179e"
             ],
             [
              0.4444444444444444,
              "#bd3786"
             ],
             [
              0.5555555555555556,
              "#d8576b"
             ],
             [
              0.6666666666666666,
              "#ed7953"
             ],
             [
              0.7777777777777778,
              "#fb9f3a"
             ],
             [
              0.8888888888888888,
              "#fdca26"
             ],
             [
              1,
              "#f0f921"
             ]
            ],
            "type": "histogram2d"
           }
          ],
          "histogram2dcontour": [
           {
            "colorbar": {
             "outlinewidth": 0,
             "ticks": ""
            },
            "colorscale": [
             [
              0,
              "#0d0887"
             ],
             [
              0.1111111111111111,
              "#46039f"
             ],
             [
              0.2222222222222222,
              "#7201a8"
             ],
             [
              0.3333333333333333,
              "#9c179e"
             ],
             [
              0.4444444444444444,
              "#bd3786"
             ],
             [
              0.5555555555555556,
              "#d8576b"
             ],
             [
              0.6666666666666666,
              "#ed7953"
             ],
             [
              0.7777777777777778,
              "#fb9f3a"
             ],
             [
              0.8888888888888888,
              "#fdca26"
             ],
             [
              1,
              "#f0f921"
             ]
            ],
            "type": "histogram2dcontour"
           }
          ],
          "mesh3d": [
           {
            "colorbar": {
             "outlinewidth": 0,
             "ticks": ""
            },
            "type": "mesh3d"
           }
          ],
          "parcoords": [
           {
            "line": {
             "colorbar": {
              "outlinewidth": 0,
              "ticks": ""
             }
            },
            "type": "parcoords"
           }
          ],
          "pie": [
           {
            "automargin": true,
            "type": "pie"
           }
          ],
          "scatter": [
           {
            "fillpattern": {
             "fillmode": "overlay",
             "size": 10,
             "solidity": 0.2
            },
            "type": "scatter"
           }
          ],
          "scatter3d": [
           {
            "line": {
             "colorbar": {
              "outlinewidth": 0,
              "ticks": ""
             }
            },
            "marker": {
             "colorbar": {
              "outlinewidth": 0,
              "ticks": ""
             }
            },
            "type": "scatter3d"
           }
          ],
          "scattercarpet": [
           {
            "marker": {
             "colorbar": {
              "outlinewidth": 0,
              "ticks": ""
             }
            },
            "type": "scattercarpet"
           }
          ],
          "scattergeo": [
           {
            "marker": {
             "colorbar": {
              "outlinewidth": 0,
              "ticks": ""
             }
            },
            "type": "scattergeo"
           }
          ],
          "scattergl": [
           {
            "marker": {
             "colorbar": {
              "outlinewidth": 0,
              "ticks": ""
             }
            },
            "type": "scattergl"
           }
          ],
          "scattermapbox": [
           {
            "marker": {
             "colorbar": {
              "outlinewidth": 0,
              "ticks": ""
             }
            },
            "type": "scattermapbox"
           }
          ],
          "scatterpolar": [
           {
            "marker": {
             "colorbar": {
              "outlinewidth": 0,
              "ticks": ""
             }
            },
            "type": "scatterpolar"
           }
          ],
          "scatterpolargl": [
           {
            "marker": {
             "colorbar": {
              "outlinewidth": 0,
              "ticks": ""
             }
            },
            "type": "scatterpolargl"
           }
          ],
          "scatterternary": [
           {
            "marker": {
             "colorbar": {
              "outlinewidth": 0,
              "ticks": ""
             }
            },
            "type": "scatterternary"
           }
          ],
          "surface": [
           {
            "colorbar": {
             "outlinewidth": 0,
             "ticks": ""
            },
            "colorscale": [
             [
              0,
              "#0d0887"
             ],
             [
              0.1111111111111111,
              "#46039f"
             ],
             [
              0.2222222222222222,
              "#7201a8"
             ],
             [
              0.3333333333333333,
              "#9c179e"
             ],
             [
              0.4444444444444444,
              "#bd3786"
             ],
             [
              0.5555555555555556,
              "#d8576b"
             ],
             [
              0.6666666666666666,
              "#ed7953"
             ],
             [
              0.7777777777777778,
              "#fb9f3a"
             ],
             [
              0.8888888888888888,
              "#fdca26"
             ],
             [
              1,
              "#f0f921"
             ]
            ],
            "type": "surface"
           }
          ],
          "table": [
           {
            "cells": {
             "fill": {
              "color": "#EBF0F8"
             },
             "line": {
              "color": "white"
             }
            },
            "header": {
             "fill": {
              "color": "#C8D4E3"
             },
             "line": {
              "color": "white"
             }
            },
            "type": "table"
           }
          ]
         },
         "layout": {
          "annotationdefaults": {
           "arrowcolor": "#2a3f5f",
           "arrowhead": 0,
           "arrowwidth": 1
          },
          "autotypenumbers": "strict",
          "coloraxis": {
           "colorbar": {
            "outlinewidth": 0,
            "ticks": ""
           }
          },
          "colorscale": {
           "diverging": [
            [
             0,
             "#8e0152"
            ],
            [
             0.1,
             "#c51b7d"
            ],
            [
             0.2,
             "#de77ae"
            ],
            [
             0.3,
             "#f1b6da"
            ],
            [
             0.4,
             "#fde0ef"
            ],
            [
             0.5,
             "#f7f7f7"
            ],
            [
             0.6,
             "#e6f5d0"
            ],
            [
             0.7,
             "#b8e186"
            ],
            [
             0.8,
             "#7fbc41"
            ],
            [
             0.9,
             "#4d9221"
            ],
            [
             1,
             "#276419"
            ]
           ],
           "sequential": [
            [
             0,
             "#0d0887"
            ],
            [
             0.1111111111111111,
             "#46039f"
            ],
            [
             0.2222222222222222,
             "#7201a8"
            ],
            [
             0.3333333333333333,
             "#9c179e"
            ],
            [
             0.4444444444444444,
             "#bd3786"
            ],
            [
             0.5555555555555556,
             "#d8576b"
            ],
            [
             0.6666666666666666,
             "#ed7953"
            ],
            [
             0.7777777777777778,
             "#fb9f3a"
            ],
            [
             0.8888888888888888,
             "#fdca26"
            ],
            [
             1,
             "#f0f921"
            ]
           ],
           "sequentialminus": [
            [
             0,
             "#0d0887"
            ],
            [
             0.1111111111111111,
             "#46039f"
            ],
            [
             0.2222222222222222,
             "#7201a8"
            ],
            [
             0.3333333333333333,
             "#9c179e"
            ],
            [
             0.4444444444444444,
             "#bd3786"
            ],
            [
             0.5555555555555556,
             "#d8576b"
            ],
            [
             0.6666666666666666,
             "#ed7953"
            ],
            [
             0.7777777777777778,
             "#fb9f3a"
            ],
            [
             0.8888888888888888,
             "#fdca26"
            ],
            [
             1,
             "#f0f921"
            ]
           ]
          },
          "colorway": [
           "#636efa",
           "#EF553B",
           "#00cc96",
           "#ab63fa",
           "#FFA15A",
           "#19d3f3",
           "#FF6692",
           "#B6E880",
           "#FF97FF",
           "#FECB52"
          ],
          "font": {
           "color": "#2a3f5f"
          },
          "geo": {
           "bgcolor": "white",
           "lakecolor": "white",
           "landcolor": "#E5ECF6",
           "showlakes": true,
           "showland": true,
           "subunitcolor": "white"
          },
          "hoverlabel": {
           "align": "left"
          },
          "hovermode": "closest",
          "mapbox": {
           "style": "light"
          },
          "paper_bgcolor": "white",
          "plot_bgcolor": "#E5ECF6",
          "polar": {
           "angularaxis": {
            "gridcolor": "white",
            "linecolor": "white",
            "ticks": ""
           },
           "bgcolor": "#E5ECF6",
           "radialaxis": {
            "gridcolor": "white",
            "linecolor": "white",
            "ticks": ""
           }
          },
          "scene": {
           "xaxis": {
            "backgroundcolor": "#E5ECF6",
            "gridcolor": "white",
            "gridwidth": 2,
            "linecolor": "white",
            "showbackground": true,
            "ticks": "",
            "zerolinecolor": "white"
           },
           "yaxis": {
            "backgroundcolor": "#E5ECF6",
            "gridcolor": "white",
            "gridwidth": 2,
            "linecolor": "white",
            "showbackground": true,
            "ticks": "",
            "zerolinecolor": "white"
           },
           "zaxis": {
            "backgroundcolor": "#E5ECF6",
            "gridcolor": "white",
            "gridwidth": 2,
            "linecolor": "white",
            "showbackground": true,
            "ticks": "",
            "zerolinecolor": "white"
           }
          },
          "shapedefaults": {
           "line": {
            "color": "#2a3f5f"
           }
          },
          "ternary": {
           "aaxis": {
            "gridcolor": "white",
            "linecolor": "white",
            "ticks": ""
           },
           "baxis": {
            "gridcolor": "white",
            "linecolor": "white",
            "ticks": ""
           },
           "bgcolor": "#E5ECF6",
           "caxis": {
            "gridcolor": "white",
            "linecolor": "white",
            "ticks": ""
           }
          },
          "title": {
           "x": 0.05
          },
          "xaxis": {
           "automargin": true,
           "gridcolor": "white",
           "linecolor": "white",
           "ticks": "",
           "title": {
            "standoff": 15
           },
           "zerolinecolor": "white",
           "zerolinewidth": 2
          },
          "yaxis": {
           "automargin": true,
           "gridcolor": "white",
           "linecolor": "white",
           "ticks": "",
           "title": {
            "standoff": 15
           },
           "zerolinecolor": "white",
           "zerolinewidth": 2
          }
         }
        },
        "title": {
         "text": "Comparision of acquisitions over the year between nationalities, both in MoMa and Rhizome's data sets"
        },
        "width": 1100,
        "xaxis": {
         "anchor": "y",
         "domain": [
          0,
          0.48
         ],
         "showticklabels": true,
         "title": {
          "text": "DateAcquired"
         }
        },
        "xaxis10": {
         "anchor": "y10",
         "domain": [
          0.52,
          1
         ],
         "showticklabels": true
        },
        "xaxis11": {
         "anchor": "y11",
         "domain": [
          0,
          0.48
         ],
         "showticklabels": true
        },
        "xaxis12": {
         "anchor": "y12",
         "domain": [
          0.52,
          1
         ],
         "showticklabels": true
        },
        "xaxis13": {
         "anchor": "y13",
         "domain": [
          0,
          0.48
         ],
         "showticklabels": true
        },
        "xaxis14": {
         "anchor": "y14",
         "domain": [
          0.52,
          1
         ],
         "showticklabels": true
        },
        "xaxis15": {
         "anchor": "y15",
         "domain": [
          0,
          0.48
         ],
         "showticklabels": true
        },
        "xaxis16": {
         "anchor": "y16",
         "domain": [
          0.52,
          1
         ],
         "showticklabels": true
        },
        "xaxis17": {
         "anchor": "y17",
         "domain": [
          0,
          0.48
         ],
         "showticklabels": true
        },
        "xaxis18": {
         "anchor": "y18",
         "domain": [
          0.52,
          1
         ],
         "showticklabels": true
        },
        "xaxis19": {
         "anchor": "y19",
         "domain": [
          0,
          0.48
         ],
         "showticklabels": true
        },
        "xaxis2": {
         "anchor": "y2",
         "domain": [
          0.52,
          1
         ],
         "showticklabels": true,
         "title": {
          "text": "DateAcquired"
         }
        },
        "xaxis20": {
         "anchor": "y20",
         "domain": [
          0.52,
          1
         ],
         "showticklabels": true
        },
        "xaxis21": {
         "anchor": "y21",
         "domain": [
          0,
          0.48
         ],
         "showticklabels": true
        },
        "xaxis22": {
         "anchor": "y22",
         "domain": [
          0.52,
          1
         ],
         "showticklabels": true
        },
        "xaxis23": {
         "anchor": "y23",
         "domain": [
          0,
          0.48
         ],
         "showticklabels": true
        },
        "xaxis24": {
         "anchor": "y24",
         "domain": [
          0.52,
          1
         ],
         "showticklabels": true
        },
        "xaxis25": {
         "anchor": "y25",
         "domain": [
          0,
          0.48
         ],
         "showticklabels": true
        },
        "xaxis26": {
         "anchor": "y26",
         "domain": [
          0.52,
          1
         ],
         "showticklabels": true
        },
        "xaxis27": {
         "anchor": "y27",
         "domain": [
          0,
          0.48
         ],
         "showticklabels": true
        },
        "xaxis28": {
         "anchor": "y28",
         "domain": [
          0.52,
          1
         ],
         "showticklabels": true
        },
        "xaxis29": {
         "anchor": "y29",
         "domain": [
          0,
          0.48
         ],
         "showticklabels": true
        },
        "xaxis3": {
         "anchor": "y3",
         "domain": [
          0,
          0.48
         ],
         "showticklabels": true
        },
        "xaxis30": {
         "anchor": "y30",
         "domain": [
          0.52,
          1
         ],
         "showticklabels": true
        },
        "xaxis4": {
         "anchor": "y4",
         "domain": [
          0.52,
          1
         ],
         "showticklabels": true
        },
        "xaxis5": {
         "anchor": "y5",
         "domain": [
          0,
          0.48
         ],
         "showticklabels": true
        },
        "xaxis6": {
         "anchor": "y6",
         "domain": [
          0.52,
          1
         ],
         "showticklabels": true
        },
        "xaxis7": {
         "anchor": "y7",
         "domain": [
          0,
          0.48
         ],
         "showticklabels": true
        },
        "xaxis8": {
         "anchor": "y8",
         "domain": [
          0.52,
          1
         ],
         "showticklabels": true
        },
        "xaxis9": {
         "anchor": "y9",
         "domain": [
          0,
          0.48
         ],
         "showticklabels": true
        },
        "yaxis": {
         "anchor": "x",
         "domain": [
          0,
          0.048
         ],
         "showticklabels": true,
         "title": {
          "text": "value"
         }
        },
        "yaxis10": {
         "anchor": "x10",
         "domain": [
          0.272,
          0.32
         ],
         "showticklabels": true
        },
        "yaxis11": {
         "anchor": "x11",
         "domain": [
          0.33999999999999997,
          0.38799999999999996
         ],
         "showticklabels": true,
         "title": {
          "text": "value"
         }
        },
        "yaxis12": {
         "anchor": "x12",
         "domain": [
          0.33999999999999997,
          0.38799999999999996
         ],
         "showticklabels": true
        },
        "yaxis13": {
         "anchor": "x13",
         "domain": [
          0.408,
          0.45599999999999996
         ],
         "showticklabels": true,
         "title": {
          "text": "value"
         }
        },
        "yaxis14": {
         "anchor": "x14",
         "domain": [
          0.408,
          0.45599999999999996
         ],
         "showticklabels": true
        },
        "yaxis15": {
         "anchor": "x15",
         "domain": [
          0.476,
          0.524
         ],
         "showticklabels": true,
         "title": {
          "text": "value"
         }
        },
        "yaxis16": {
         "anchor": "x16",
         "domain": [
          0.476,
          0.524
         ],
         "showticklabels": true
        },
        "yaxis17": {
         "anchor": "x17",
         "domain": [
          0.5439999999999999,
          0.592
         ],
         "showticklabels": true,
         "title": {
          "text": "value"
         }
        },
        "yaxis18": {
         "anchor": "x18",
         "domain": [
          0.5439999999999999,
          0.592
         ],
         "showticklabels": true
        },
        "yaxis19": {
         "anchor": "x19",
         "domain": [
          0.6119999999999999,
          0.6599999999999999
         ],
         "showticklabels": true,
         "title": {
          "text": "value"
         }
        },
        "yaxis2": {
         "anchor": "x2",
         "domain": [
          0,
          0.048
         ],
         "showticklabels": true
        },
        "yaxis20": {
         "anchor": "x20",
         "domain": [
          0.6119999999999999,
          0.6599999999999999
         ],
         "showticklabels": true
        },
        "yaxis21": {
         "anchor": "x21",
         "domain": [
          0.6799999999999999,
          0.728
         ],
         "showticklabels": true,
         "title": {
          "text": "value"
         }
        },
        "yaxis22": {
         "anchor": "x22",
         "domain": [
          0.6799999999999999,
          0.728
         ],
         "showticklabels": true
        },
        "yaxis23": {
         "anchor": "x23",
         "domain": [
          0.7479999999999999,
          0.7959999999999999
         ],
         "showticklabels": true,
         "title": {
          "text": "value"
         }
        },
        "yaxis24": {
         "anchor": "x24",
         "domain": [
          0.7479999999999999,
          0.7959999999999999
         ],
         "showticklabels": true
        },
        "yaxis25": {
         "anchor": "x25",
         "domain": [
          0.816,
          0.864
         ],
         "showticklabels": true,
         "title": {
          "text": "value"
         }
        },
        "yaxis26": {
         "anchor": "x26",
         "domain": [
          0.816,
          0.864
         ],
         "showticklabels": true
        },
        "yaxis27": {
         "anchor": "x27",
         "domain": [
          0.884,
          0.932
         ],
         "showticklabels": true,
         "title": {
          "text": "value"
         }
        },
        "yaxis28": {
         "anchor": "x28",
         "domain": [
          0.884,
          0.932
         ],
         "showticklabels": true
        },
        "yaxis29": {
         "anchor": "x29",
         "domain": [
          0.9520000000000001,
          1
         ],
         "showticklabels": true,
         "title": {
          "text": "value"
         }
        },
        "yaxis3": {
         "anchor": "x3",
         "domain": [
          0.068,
          0.116
         ],
         "showticklabels": true,
         "title": {
          "text": "value"
         }
        },
        "yaxis30": {
         "anchor": "x30",
         "domain": [
          0.9520000000000001,
          1
         ],
         "showticklabels": true
        },
        "yaxis4": {
         "anchor": "x4",
         "domain": [
          0.068,
          0.116
         ],
         "showticklabels": true
        },
        "yaxis5": {
         "anchor": "x5",
         "domain": [
          0.136,
          0.184
         ],
         "showticklabels": true,
         "title": {
          "text": "value"
         }
        },
        "yaxis6": {
         "anchor": "x6",
         "domain": [
          0.136,
          0.184
         ],
         "showticklabels": true
        },
        "yaxis7": {
         "anchor": "x7",
         "domain": [
          0.20400000000000001,
          0.252
         ],
         "showticklabels": true,
         "title": {
          "text": "value"
         }
        },
        "yaxis8": {
         "anchor": "x8",
         "domain": [
          0.20400000000000001,
          0.252
         ],
         "showticklabels": true
        },
        "yaxis9": {
         "anchor": "x9",
         "domain": [
          0.272,
          0.32
         ],
         "showticklabels": true,
         "title": {
          "text": "value"
         }
        }
       }
      }
     },
     "metadata": {},
     "output_type": "display_data"
    }
   ],
   "source": [
    "#create subplots for nationalities and their figuresàuse them in the story as pictograms, \n",
    "# see if artists are related and subgroup nationalities in Global-noth (colonizers) and gglobal south (colonised pops) \n",
    "# and is also interesting to look at exact matches\n",
    "\n",
    "\n",
    "fig = px.line(workingDF_final, x=\"DateAcquired\", y=['Moma', 'Rhizome'], facet_col='Nationality', facet_col_wrap=2,\n",
    "              facet_row_spacing=0.02, # default is 0.07 when facet_col_wrap is used\n",
    "              facet_col_spacing=0.04, # default is 0.03\n",
    "              height=2800, width=1100,\n",
    "              markers=True,\n",
    "              color_discrete_map={\"Count Moma\": \"#456987\",\"Count Rhizome\": \"#147852\"},\n",
    "              title=\"Comparision of acquisitions over the year between nationalities, both in MoMa and Rhizome's data sets\")\n",
    "\n",
    "fig.update_xaxes(matches=None, showticklabels=True)\n",
    "fig.update_yaxes(matches=None, showticklabels=True)\n",
    "fig.show()"
   ]
  },
  {
   "cell_type": "markdown",
   "metadata": {},
   "source": [
    "Find the artists in the original dfs and see if if there are some interesting matches "
   ]
  },
  {
   "cell_type": "markdown",
   "metadata": {},
   "source": [
    "## 5b How does nationality representation relate to gender? Rhizome vs MoMA 1983+ / MoMA pre-83 v MoMA post-83\n",
    "\n",
    "--> gender proportions for each nationality across time OR total OR medium \n",
    "\n",
    "Viz: bubble charts (Chiara) w/ male / female / collectives across time + total  \n",
    "\n",
    "Story: maybe similar to 4? \n"
   ]
  },
  {
   "cell_type": "markdown",
   "metadata": {},
   "source": [
    "### Plots: Columns stacked bar charts \n",
    "##### Variables: Acquisition date, Nationality, Gender, Artworks for Gender "
   ]
  },
  {
   "cell_type": "code",
   "execution_count": null,
   "metadata": {},
   "outputs": [
    {
     "data": {
      "text/html": [
       "<div>\n",
       "<style scoped>\n",
       "    .dataframe tbody tr th:only-of-type {\n",
       "        vertical-align: middle;\n",
       "    }\n",
       "\n",
       "    .dataframe tbody tr th {\n",
       "        vertical-align: top;\n",
       "    }\n",
       "\n",
       "    .dataframe thead th {\n",
       "        text-align: right;\n",
       "    }\n",
       "</style>\n",
       "<table border=\"1\" class=\"dataframe\">\n",
       "  <thead>\n",
       "    <tr style=\"text-align: right;\">\n",
       "      <th></th>\n",
       "      <th>Nationality</th>\n",
       "      <th>DateAcquired</th>\n",
       "      <th>Decade</th>\n",
       "      <th>Count</th>\n",
       "      <th>Females</th>\n",
       "      <th>Males</th>\n",
       "    </tr>\n",
       "  </thead>\n",
       "  <tbody>\n",
       "    <tr>\n",
       "      <th>137</th>\n",
       "      <td>German</td>\n",
       "      <td>2001</td>\n",
       "      <td>2000</td>\n",
       "      <td>7</td>\n",
       "      <td>1</td>\n",
       "      <td>6</td>\n",
       "    </tr>\n",
       "    <tr>\n",
       "      <th>157</th>\n",
       "      <td>Icelandic/American</td>\n",
       "      <td>2004</td>\n",
       "      <td>2000</td>\n",
       "      <td>1</td>\n",
       "      <td>0</td>\n",
       "      <td>1</td>\n",
       "    </tr>\n",
       "    <tr>\n",
       "      <th>158</th>\n",
       "      <td>Icelandic/American</td>\n",
       "      <td>2005</td>\n",
       "      <td>2000</td>\n",
       "      <td>1</td>\n",
       "      <td>0</td>\n",
       "      <td>1</td>\n",
       "    </tr>\n",
       "    <tr>\n",
       "      <th>159</th>\n",
       "      <td>Icelandic/American</td>\n",
       "      <td>2006</td>\n",
       "      <td>2000</td>\n",
       "      <td>1</td>\n",
       "      <td>0</td>\n",
       "      <td>1</td>\n",
       "    </tr>\n",
       "    <tr>\n",
       "      <th>160</th>\n",
       "      <td>Indian</td>\n",
       "      <td>2002</td>\n",
       "      <td>2000</td>\n",
       "      <td>1</td>\n",
       "      <td>0</td>\n",
       "      <td>1</td>\n",
       "    </tr>\n",
       "  </tbody>\n",
       "</table>\n",
       "</div>"
      ],
      "text/plain": [
       "            Nationality  DateAcquired  Decade  Count  Females  Males\n",
       "137              German          2001    2000      7        1      6\n",
       "157  Icelandic/American          2004    2000      1        0      1\n",
       "158  Icelandic/American          2005    2000      1        0      1\n",
       "159  Icelandic/American          2006    2000      1        0      1\n",
       "160              Indian          2002    2000      1        0      1"
      ]
     },
     "execution_count": 966,
     "metadata": {},
     "output_type": "execute_result"
    }
   ],
   "source": [
    "#DF example \n",
    "RH_working_final.head()"
   ]
  },
  {
   "cell_type": "code",
   "execution_count": null,
   "metadata": {},
   "outputs": [],
   "source": [
    "fig11 = px.bar(RH_working_final, x=\"DateAcquired\", y=\"Count\", color=\"   12\", color_discrete_sequence= momacolorscale,facet_col=\"Decade\", facet_col_spacing=0.06,  facet_col_wrap=2, title=\"Artworks acquired by MoMA over decades split by nationality\")\n",
    "fig11.update_xaxes(matches=None, showticklabels=True)\n",
    "fig11.update_yaxes(matches=None, showticklabels=True)\n",
    "fig11.update_layout(height=1800)\n",
    "fig11.show()\n"
   ]
  },
  {
   "cell_type": "markdown",
   "metadata": {},
   "source": [
    "### Plots: Bubble charts charts \n",
    "##### Variables: Acquisition date, Nationality, Gender, Artworks for Gender "
   ]
  },
  {
   "cell_type": "markdown",
   "metadata": {},
   "source": [
    "Make the same scatters as Marghe did but with nationalities + scattered plot below in Q7 try with 18 commons or 10"
   ]
  },
  {
   "cell_type": "code",
   "execution_count": null,
   "metadata": {},
   "outputs": [],
   "source": [
    "fig = px.scatter(group_counts, y=\"Gender\", x=\"DateAcquired\", color=\"DbProv\", size=\"sizeXgroup\", facet_col='Source')\n",
    "\n",
    "fig.update_xaxes(tick0=1980)\n",
    "\n",
    "fig.show()"
   ]
  },
  {
   "cell_type": "markdown",
   "metadata": {},
   "source": [
    "### Moma old"
   ]
  },
  {
   "cell_type": "code",
   "execution_count": null,
   "metadata": {},
   "outputs": [
    {
     "name": "stderr",
     "output_type": "stream",
     "text": [
      "/var/folders/qj/xh48vw9d4z5_h6wzs6r2smdh0000gn/T/ipykernel_761/2668487341.py:11: SettingWithCopyWarning:\n",
      "\n",
      "\n",
      "A value is trying to be set on a copy of a slice from a DataFrame.\n",
      "Try using .loc[row_indexer,col_indexer] = value instead\n",
      "\n",
      "See the caveats in the documentation: https://pandas.pydata.org/pandas-docs/stable/user_guide/indexing.html#returning-a-view-versus-a-copy\n",
      "\n",
      "/var/folders/qj/xh48vw9d4z5_h6wzs6r2smdh0000gn/T/ipykernel_761/2668487341.py:11: SettingWithCopyWarning:\n",
      "\n",
      "\n",
      "A value is trying to be set on a copy of a slice from a DataFrame.\n",
      "Try using .loc[row_indexer,col_indexer] = value instead\n",
      "\n",
      "See the caveats in the documentation: https://pandas.pydata.org/pandas-docs/stable/user_guide/indexing.html#returning-a-view-versus-a-copy\n",
      "\n",
      "/var/folders/qj/xh48vw9d4z5_h6wzs6r2smdh0000gn/T/ipykernel_761/2668487341.py:11: SettingWithCopyWarning:\n",
      "\n",
      "\n",
      "A value is trying to be set on a copy of a slice from a DataFrame.\n",
      "Try using .loc[row_indexer,col_indexer] = value instead\n",
      "\n",
      "See the caveats in the documentation: https://pandas.pydata.org/pandas-docs/stable/user_guide/indexing.html#returning-a-view-versus-a-copy\n",
      "\n",
      "/var/folders/qj/xh48vw9d4z5_h6wzs6r2smdh0000gn/T/ipykernel_761/2668487341.py:11: SettingWithCopyWarning:\n",
      "\n",
      "\n",
      "A value is trying to be set on a copy of a slice from a DataFrame.\n",
      "Try using .loc[row_indexer,col_indexer] = value instead\n",
      "\n",
      "See the caveats in the documentation: https://pandas.pydata.org/pandas-docs/stable/user_guide/indexing.html#returning-a-view-versus-a-copy\n",
      "\n",
      "/var/folders/qj/xh48vw9d4z5_h6wzs6r2smdh0000gn/T/ipykernel_761/2668487341.py:11: SettingWithCopyWarning:\n",
      "\n",
      "\n",
      "A value is trying to be set on a copy of a slice from a DataFrame.\n",
      "Try using .loc[row_indexer,col_indexer] = value instead\n",
      "\n",
      "See the caveats in the documentation: https://pandas.pydata.org/pandas-docs/stable/user_guide/indexing.html#returning-a-view-versus-a-copy\n",
      "\n",
      "/var/folders/qj/xh48vw9d4z5_h6wzs6r2smdh0000gn/T/ipykernel_761/2668487341.py:11: SettingWithCopyWarning:\n",
      "\n",
      "\n",
      "A value is trying to be set on a copy of a slice from a DataFrame.\n",
      "Try using .loc[row_indexer,col_indexer] = value instead\n",
      "\n",
      "See the caveats in the documentation: https://pandas.pydata.org/pandas-docs/stable/user_guide/indexing.html#returning-a-view-versus-a-copy\n",
      "\n",
      "/var/folders/qj/xh48vw9d4z5_h6wzs6r2smdh0000gn/T/ipykernel_761/2668487341.py:11: SettingWithCopyWarning:\n",
      "\n",
      "\n",
      "A value is trying to be set on a copy of a slice from a DataFrame.\n",
      "Try using .loc[row_indexer,col_indexer] = value instead\n",
      "\n",
      "See the caveats in the documentation: https://pandas.pydata.org/pandas-docs/stable/user_guide/indexing.html#returning-a-view-versus-a-copy\n",
      "\n",
      "/var/folders/qj/xh48vw9d4z5_h6wzs6r2smdh0000gn/T/ipykernel_761/2668487341.py:11: SettingWithCopyWarning:\n",
      "\n",
      "\n",
      "A value is trying to be set on a copy of a slice from a DataFrame.\n",
      "Try using .loc[row_indexer,col_indexer] = value instead\n",
      "\n",
      "See the caveats in the documentation: https://pandas.pydata.org/pandas-docs/stable/user_guide/indexing.html#returning-a-view-versus-a-copy\n",
      "\n",
      "/var/folders/qj/xh48vw9d4z5_h6wzs6r2smdh0000gn/T/ipykernel_761/2668487341.py:11: SettingWithCopyWarning:\n",
      "\n",
      "\n",
      "A value is trying to be set on a copy of a slice from a DataFrame.\n",
      "Try using .loc[row_indexer,col_indexer] = value instead\n",
      "\n",
      "See the caveats in the documentation: https://pandas.pydata.org/pandas-docs/stable/user_guide/indexing.html#returning-a-view-versus-a-copy\n",
      "\n",
      "/var/folders/qj/xh48vw9d4z5_h6wzs6r2smdh0000gn/T/ipykernel_761/2668487341.py:11: SettingWithCopyWarning:\n",
      "\n",
      "\n",
      "A value is trying to be set on a copy of a slice from a DataFrame.\n",
      "Try using .loc[row_indexer,col_indexer] = value instead\n",
      "\n",
      "See the caveats in the documentation: https://pandas.pydata.org/pandas-docs/stable/user_guide/indexing.html#returning-a-view-versus-a-copy\n",
      "\n",
      "/var/folders/qj/xh48vw9d4z5_h6wzs6r2smdh0000gn/T/ipykernel_761/2668487341.py:11: SettingWithCopyWarning:\n",
      "\n",
      "\n",
      "A value is trying to be set on a copy of a slice from a DataFrame.\n",
      "Try using .loc[row_indexer,col_indexer] = value instead\n",
      "\n",
      "See the caveats in the documentation: https://pandas.pydata.org/pandas-docs/stable/user_guide/indexing.html#returning-a-view-versus-a-copy\n",
      "\n",
      "/var/folders/qj/xh48vw9d4z5_h6wzs6r2smdh0000gn/T/ipykernel_761/2668487341.py:11: SettingWithCopyWarning:\n",
      "\n",
      "\n",
      "A value is trying to be set on a copy of a slice from a DataFrame.\n",
      "Try using .loc[row_indexer,col_indexer] = value instead\n",
      "\n",
      "See the caveats in the documentation: https://pandas.pydata.org/pandas-docs/stable/user_guide/indexing.html#returning-a-view-versus-a-copy\n",
      "\n",
      "/var/folders/qj/xh48vw9d4z5_h6wzs6r2smdh0000gn/T/ipykernel_761/2668487341.py:11: SettingWithCopyWarning:\n",
      "\n",
      "\n",
      "A value is trying to be set on a copy of a slice from a DataFrame.\n",
      "Try using .loc[row_indexer,col_indexer] = value instead\n",
      "\n",
      "See the caveats in the documentation: https://pandas.pydata.org/pandas-docs/stable/user_guide/indexing.html#returning-a-view-versus-a-copy\n",
      "\n",
      "/var/folders/qj/xh48vw9d4z5_h6wzs6r2smdh0000gn/T/ipykernel_761/2668487341.py:11: SettingWithCopyWarning:\n",
      "\n",
      "\n",
      "A value is trying to be set on a copy of a slice from a DataFrame.\n",
      "Try using .loc[row_indexer,col_indexer] = value instead\n",
      "\n",
      "See the caveats in the documentation: https://pandas.pydata.org/pandas-docs/stable/user_guide/indexing.html#returning-a-view-versus-a-copy\n",
      "\n",
      "/var/folders/qj/xh48vw9d4z5_h6wzs6r2smdh0000gn/T/ipykernel_761/2668487341.py:11: SettingWithCopyWarning:\n",
      "\n",
      "\n",
      "A value is trying to be set on a copy of a slice from a DataFrame.\n",
      "Try using .loc[row_indexer,col_indexer] = value instead\n",
      "\n",
      "See the caveats in the documentation: https://pandas.pydata.org/pandas-docs/stable/user_guide/indexing.html#returning-a-view-versus-a-copy\n",
      "\n",
      "/var/folders/qj/xh48vw9d4z5_h6wzs6r2smdh0000gn/T/ipykernel_761/2668487341.py:11: SettingWithCopyWarning:\n",
      "\n",
      "\n",
      "A value is trying to be set on a copy of a slice from a DataFrame.\n",
      "Try using .loc[row_indexer,col_indexer] = value instead\n",
      "\n",
      "See the caveats in the documentation: https://pandas.pydata.org/pandas-docs/stable/user_guide/indexing.html#returning-a-view-versus-a-copy\n",
      "\n",
      "/var/folders/qj/xh48vw9d4z5_h6wzs6r2smdh0000gn/T/ipykernel_761/2668487341.py:11: SettingWithCopyWarning:\n",
      "\n",
      "\n",
      "A value is trying to be set on a copy of a slice from a DataFrame.\n",
      "Try using .loc[row_indexer,col_indexer] = value instead\n",
      "\n",
      "See the caveats in the documentation: https://pandas.pydata.org/pandas-docs/stable/user_guide/indexing.html#returning-a-view-versus-a-copy\n",
      "\n",
      "/var/folders/qj/xh48vw9d4z5_h6wzs6r2smdh0000gn/T/ipykernel_761/2668487341.py:11: SettingWithCopyWarning:\n",
      "\n",
      "\n",
      "A value is trying to be set on a copy of a slice from a DataFrame.\n",
      "Try using .loc[row_indexer,col_indexer] = value instead\n",
      "\n",
      "See the caveats in the documentation: https://pandas.pydata.org/pandas-docs/stable/user_guide/indexing.html#returning-a-view-versus-a-copy\n",
      "\n",
      "/var/folders/qj/xh48vw9d4z5_h6wzs6r2smdh0000gn/T/ipykernel_761/2668487341.py:11: SettingWithCopyWarning:\n",
      "\n",
      "\n",
      "A value is trying to be set on a copy of a slice from a DataFrame.\n",
      "Try using .loc[row_indexer,col_indexer] = value instead\n",
      "\n",
      "See the caveats in the documentation: https://pandas.pydata.org/pandas-docs/stable/user_guide/indexing.html#returning-a-view-versus-a-copy\n",
      "\n",
      "/var/folders/qj/xh48vw9d4z5_h6wzs6r2smdh0000gn/T/ipykernel_761/2668487341.py:11: SettingWithCopyWarning:\n",
      "\n",
      "\n",
      "A value is trying to be set on a copy of a slice from a DataFrame.\n",
      "Try using .loc[row_indexer,col_indexer] = value instead\n",
      "\n",
      "See the caveats in the documentation: https://pandas.pydata.org/pandas-docs/stable/user_guide/indexing.html#returning-a-view-versus-a-copy\n",
      "\n",
      "/var/folders/qj/xh48vw9d4z5_h6wzs6r2smdh0000gn/T/ipykernel_761/2668487341.py:11: SettingWithCopyWarning:\n",
      "\n",
      "\n",
      "A value is trying to be set on a copy of a slice from a DataFrame.\n",
      "Try using .loc[row_indexer,col_indexer] = value instead\n",
      "\n",
      "See the caveats in the documentation: https://pandas.pydata.org/pandas-docs/stable/user_guide/indexing.html#returning-a-view-versus-a-copy\n",
      "\n",
      "/var/folders/qj/xh48vw9d4z5_h6wzs6r2smdh0000gn/T/ipykernel_761/2668487341.py:11: SettingWithCopyWarning:\n",
      "\n",
      "\n",
      "A value is trying to be set on a copy of a slice from a DataFrame.\n",
      "Try using .loc[row_indexer,col_indexer] = value instead\n",
      "\n",
      "See the caveats in the documentation: https://pandas.pydata.org/pandas-docs/stable/user_guide/indexing.html#returning-a-view-versus-a-copy\n",
      "\n",
      "/var/folders/qj/xh48vw9d4z5_h6wzs6r2smdh0000gn/T/ipykernel_761/2668487341.py:11: SettingWithCopyWarning:\n",
      "\n",
      "\n",
      "A value is trying to be set on a copy of a slice from a DataFrame.\n",
      "Try using .loc[row_indexer,col_indexer] = value instead\n",
      "\n",
      "See the caveats in the documentation: https://pandas.pydata.org/pandas-docs/stable/user_guide/indexing.html#returning-a-view-versus-a-copy\n",
      "\n",
      "/var/folders/qj/xh48vw9d4z5_h6wzs6r2smdh0000gn/T/ipykernel_761/2668487341.py:11: SettingWithCopyWarning:\n",
      "\n",
      "\n",
      "A value is trying to be set on a copy of a slice from a DataFrame.\n",
      "Try using .loc[row_indexer,col_indexer] = value instead\n",
      "\n",
      "See the caveats in the documentation: https://pandas.pydata.org/pandas-docs/stable/user_guide/indexing.html#returning-a-view-versus-a-copy\n",
      "\n",
      "/var/folders/qj/xh48vw9d4z5_h6wzs6r2smdh0000gn/T/ipykernel_761/2668487341.py:11: SettingWithCopyWarning:\n",
      "\n",
      "\n",
      "A value is trying to be set on a copy of a slice from a DataFrame.\n",
      "Try using .loc[row_indexer,col_indexer] = value instead\n",
      "\n",
      "See the caveats in the documentation: https://pandas.pydata.org/pandas-docs/stable/user_guide/indexing.html#returning-a-view-versus-a-copy\n",
      "\n",
      "/var/folders/qj/xh48vw9d4z5_h6wzs6r2smdh0000gn/T/ipykernel_761/2668487341.py:11: SettingWithCopyWarning:\n",
      "\n",
      "\n",
      "A value is trying to be set on a copy of a slice from a DataFrame.\n",
      "Try using .loc[row_indexer,col_indexer] = value instead\n",
      "\n",
      "See the caveats in the documentation: https://pandas.pydata.org/pandas-docs/stable/user_guide/indexing.html#returning-a-view-versus-a-copy\n",
      "\n",
      "/var/folders/qj/xh48vw9d4z5_h6wzs6r2smdh0000gn/T/ipykernel_761/2668487341.py:11: SettingWithCopyWarning:\n",
      "\n",
      "\n",
      "A value is trying to be set on a copy of a slice from a DataFrame.\n",
      "Try using .loc[row_indexer,col_indexer] = value instead\n",
      "\n",
      "See the caveats in the documentation: https://pandas.pydata.org/pandas-docs/stable/user_guide/indexing.html#returning-a-view-versus-a-copy\n",
      "\n",
      "/var/folders/qj/xh48vw9d4z5_h6wzs6r2smdh0000gn/T/ipykernel_761/2668487341.py:11: SettingWithCopyWarning:\n",
      "\n",
      "\n",
      "A value is trying to be set on a copy of a slice from a DataFrame.\n",
      "Try using .loc[row_indexer,col_indexer] = value instead\n",
      "\n",
      "See the caveats in the documentation: https://pandas.pydata.org/pandas-docs/stable/user_guide/indexing.html#returning-a-view-versus-a-copy\n",
      "\n",
      "/var/folders/qj/xh48vw9d4z5_h6wzs6r2smdh0000gn/T/ipykernel_761/2668487341.py:11: SettingWithCopyWarning:\n",
      "\n",
      "\n",
      "A value is trying to be set on a copy of a slice from a DataFrame.\n",
      "Try using .loc[row_indexer,col_indexer] = value instead\n",
      "\n",
      "See the caveats in the documentation: https://pandas.pydata.org/pandas-docs/stable/user_guide/indexing.html#returning-a-view-versus-a-copy\n",
      "\n",
      "/var/folders/qj/xh48vw9d4z5_h6wzs6r2smdh0000gn/T/ipykernel_761/2668487341.py:11: SettingWithCopyWarning:\n",
      "\n",
      "\n",
      "A value is trying to be set on a copy of a slice from a DataFrame.\n",
      "Try using .loc[row_indexer,col_indexer] = value instead\n",
      "\n",
      "See the caveats in the documentation: https://pandas.pydata.org/pandas-docs/stable/user_guide/indexing.html#returning-a-view-versus-a-copy\n",
      "\n",
      "/var/folders/qj/xh48vw9d4z5_h6wzs6r2smdh0000gn/T/ipykernel_761/2668487341.py:11: SettingWithCopyWarning:\n",
      "\n",
      "\n",
      "A value is trying to be set on a copy of a slice from a DataFrame.\n",
      "Try using .loc[row_indexer,col_indexer] = value instead\n",
      "\n",
      "See the caveats in the documentation: https://pandas.pydata.org/pandas-docs/stable/user_guide/indexing.html#returning-a-view-versus-a-copy\n",
      "\n",
      "/var/folders/qj/xh48vw9d4z5_h6wzs6r2smdh0000gn/T/ipykernel_761/2668487341.py:11: SettingWithCopyWarning:\n",
      "\n",
      "\n",
      "A value is trying to be set on a copy of a slice from a DataFrame.\n",
      "Try using .loc[row_indexer,col_indexer] = value instead\n",
      "\n",
      "See the caveats in the documentation: https://pandas.pydata.org/pandas-docs/stable/user_guide/indexing.html#returning-a-view-versus-a-copy\n",
      "\n",
      "/var/folders/qj/xh48vw9d4z5_h6wzs6r2smdh0000gn/T/ipykernel_761/2668487341.py:11: SettingWithCopyWarning:\n",
      "\n",
      "\n",
      "A value is trying to be set on a copy of a slice from a DataFrame.\n",
      "Try using .loc[row_indexer,col_indexer] = value instead\n",
      "\n",
      "See the caveats in the documentation: https://pandas.pydata.org/pandas-docs/stable/user_guide/indexing.html#returning-a-view-versus-a-copy\n",
      "\n",
      "/var/folders/qj/xh48vw9d4z5_h6wzs6r2smdh0000gn/T/ipykernel_761/2668487341.py:11: SettingWithCopyWarning:\n",
      "\n",
      "\n",
      "A value is trying to be set on a copy of a slice from a DataFrame.\n",
      "Try using .loc[row_indexer,col_indexer] = value instead\n",
      "\n",
      "See the caveats in the documentation: https://pandas.pydata.org/pandas-docs/stable/user_guide/indexing.html#returning-a-view-versus-a-copy\n",
      "\n",
      "/var/folders/qj/xh48vw9d4z5_h6wzs6r2smdh0000gn/T/ipykernel_761/2668487341.py:11: SettingWithCopyWarning:\n",
      "\n",
      "\n",
      "A value is trying to be set on a copy of a slice from a DataFrame.\n",
      "Try using .loc[row_indexer,col_indexer] = value instead\n",
      "\n",
      "See the caveats in the documentation: https://pandas.pydata.org/pandas-docs/stable/user_guide/indexing.html#returning-a-view-versus-a-copy\n",
      "\n",
      "/var/folders/qj/xh48vw9d4z5_h6wzs6r2smdh0000gn/T/ipykernel_761/2668487341.py:11: SettingWithCopyWarning:\n",
      "\n",
      "\n",
      "A value is trying to be set on a copy of a slice from a DataFrame.\n",
      "Try using .loc[row_indexer,col_indexer] = value instead\n",
      "\n",
      "See the caveats in the documentation: https://pandas.pydata.org/pandas-docs/stable/user_guide/indexing.html#returning-a-view-versus-a-copy\n",
      "\n",
      "/var/folders/qj/xh48vw9d4z5_h6wzs6r2smdh0000gn/T/ipykernel_761/2668487341.py:11: SettingWithCopyWarning:\n",
      "\n",
      "\n",
      "A value is trying to be set on a copy of a slice from a DataFrame.\n",
      "Try using .loc[row_indexer,col_indexer] = value instead\n",
      "\n",
      "See the caveats in the documentation: https://pandas.pydata.org/pandas-docs/stable/user_guide/indexing.html#returning-a-view-versus-a-copy\n",
      "\n"
     ]
    }
   ],
   "source": [
    "# create subset for females \n",
    "old = moma_artworks_old.copy()\n",
    "\n",
    "nationalities = ', '.join(old.Nationality)\n",
    "nationalities = list(set(nationalities.split(', ')))\n",
    "df_MO_nats_F = pd.DataFrame(columns= [\"Nationality\", \"DateAcquired\", \"Count\", \"Gender\"]) \n",
    "\n",
    "for nat in nationalities:\n",
    "    nat_sub =  old[old.Nationality == nat]\n",
    "    sub_f = nat_sub[nat_sub.Gender == 'F']   \n",
    "    sub_f.DateAcquired = sub_f.DateAcquired.astype('str')\n",
    "    years = ', '.join(sub_f.DateAcquired)\n",
    "    years = sorted(list([item[:4] for item in list(set(years.split(', ')))]))[0:-1]\n",
    "    for year in years:\n",
    "        year_sub = sub_f[sub_f.DateAcquired == year]\n",
    "        f_count = len(year_sub[year_sub.Gender == 'F'])\n",
    "        df_MO_nats_F.loc[len(df_MO_nats_F.index)] = [nat, year, f_count, 'F']\n",
    "\n",
    "df_MO_nats_F.DateAcquired = df_MO_nats_F.DateAcquired.astype('int')\n",
    "df_MO_nats_F = df_MO_nats_F[df_MO_nats_F.DateAcquired >0]"
   ]
  },
  {
   "cell_type": "code",
   "execution_count": null,
   "metadata": {},
   "outputs": [
    {
     "name": "stderr",
     "output_type": "stream",
     "text": [
      "/var/folders/qj/xh48vw9d4z5_h6wzs6r2smdh0000gn/T/ipykernel_761/2920755204.py:7: SettingWithCopyWarning:\n",
      "\n",
      "\n",
      "A value is trying to be set on a copy of a slice from a DataFrame.\n",
      "Try using .loc[row_indexer,col_indexer] = value instead\n",
      "\n",
      "See the caveats in the documentation: https://pandas.pydata.org/pandas-docs/stable/user_guide/indexing.html#returning-a-view-versus-a-copy\n",
      "\n",
      "/var/folders/qj/xh48vw9d4z5_h6wzs6r2smdh0000gn/T/ipykernel_761/2920755204.py:7: SettingWithCopyWarning:\n",
      "\n",
      "\n",
      "A value is trying to be set on a copy of a slice from a DataFrame.\n",
      "Try using .loc[row_indexer,col_indexer] = value instead\n",
      "\n",
      "See the caveats in the documentation: https://pandas.pydata.org/pandas-docs/stable/user_guide/indexing.html#returning-a-view-versus-a-copy\n",
      "\n",
      "/var/folders/qj/xh48vw9d4z5_h6wzs6r2smdh0000gn/T/ipykernel_761/2920755204.py:7: SettingWithCopyWarning:\n",
      "\n",
      "\n",
      "A value is trying to be set on a copy of a slice from a DataFrame.\n",
      "Try using .loc[row_indexer,col_indexer] = value instead\n",
      "\n",
      "See the caveats in the documentation: https://pandas.pydata.org/pandas-docs/stable/user_guide/indexing.html#returning-a-view-versus-a-copy\n",
      "\n",
      "/var/folders/qj/xh48vw9d4z5_h6wzs6r2smdh0000gn/T/ipykernel_761/2920755204.py:7: SettingWithCopyWarning:\n",
      "\n",
      "\n",
      "A value is trying to be set on a copy of a slice from a DataFrame.\n",
      "Try using .loc[row_indexer,col_indexer] = value instead\n",
      "\n",
      "See the caveats in the documentation: https://pandas.pydata.org/pandas-docs/stable/user_guide/indexing.html#returning-a-view-versus-a-copy\n",
      "\n",
      "/var/folders/qj/xh48vw9d4z5_h6wzs6r2smdh0000gn/T/ipykernel_761/2920755204.py:7: SettingWithCopyWarning:\n",
      "\n",
      "\n",
      "A value is trying to be set on a copy of a slice from a DataFrame.\n",
      "Try using .loc[row_indexer,col_indexer] = value instead\n",
      "\n",
      "See the caveats in the documentation: https://pandas.pydata.org/pandas-docs/stable/user_guide/indexing.html#returning-a-view-versus-a-copy\n",
      "\n",
      "/var/folders/qj/xh48vw9d4z5_h6wzs6r2smdh0000gn/T/ipykernel_761/2920755204.py:7: SettingWithCopyWarning:\n",
      "\n",
      "\n",
      "A value is trying to be set on a copy of a slice from a DataFrame.\n",
      "Try using .loc[row_indexer,col_indexer] = value instead\n",
      "\n",
      "See the caveats in the documentation: https://pandas.pydata.org/pandas-docs/stable/user_guide/indexing.html#returning-a-view-versus-a-copy\n",
      "\n",
      "/var/folders/qj/xh48vw9d4z5_h6wzs6r2smdh0000gn/T/ipykernel_761/2920755204.py:7: SettingWithCopyWarning:\n",
      "\n",
      "\n",
      "A value is trying to be set on a copy of a slice from a DataFrame.\n",
      "Try using .loc[row_indexer,col_indexer] = value instead\n",
      "\n",
      "See the caveats in the documentation: https://pandas.pydata.org/pandas-docs/stable/user_guide/indexing.html#returning-a-view-versus-a-copy\n",
      "\n",
      "/var/folders/qj/xh48vw9d4z5_h6wzs6r2smdh0000gn/T/ipykernel_761/2920755204.py:7: SettingWithCopyWarning:\n",
      "\n",
      "\n",
      "A value is trying to be set on a copy of a slice from a DataFrame.\n",
      "Try using .loc[row_indexer,col_indexer] = value instead\n",
      "\n",
      "See the caveats in the documentation: https://pandas.pydata.org/pandas-docs/stable/user_guide/indexing.html#returning-a-view-versus-a-copy\n",
      "\n",
      "/var/folders/qj/xh48vw9d4z5_h6wzs6r2smdh0000gn/T/ipykernel_761/2920755204.py:7: SettingWithCopyWarning:\n",
      "\n",
      "\n",
      "A value is trying to be set on a copy of a slice from a DataFrame.\n",
      "Try using .loc[row_indexer,col_indexer] = value instead\n",
      "\n",
      "See the caveats in the documentation: https://pandas.pydata.org/pandas-docs/stable/user_guide/indexing.html#returning-a-view-versus-a-copy\n",
      "\n",
      "/var/folders/qj/xh48vw9d4z5_h6wzs6r2smdh0000gn/T/ipykernel_761/2920755204.py:7: SettingWithCopyWarning:\n",
      "\n",
      "\n",
      "A value is trying to be set on a copy of a slice from a DataFrame.\n",
      "Try using .loc[row_indexer,col_indexer] = value instead\n",
      "\n",
      "See the caveats in the documentation: https://pandas.pydata.org/pandas-docs/stable/user_guide/indexing.html#returning-a-view-versus-a-copy\n",
      "\n",
      "/var/folders/qj/xh48vw9d4z5_h6wzs6r2smdh0000gn/T/ipykernel_761/2920755204.py:7: SettingWithCopyWarning:\n",
      "\n",
      "\n",
      "A value is trying to be set on a copy of a slice from a DataFrame.\n",
      "Try using .loc[row_indexer,col_indexer] = value instead\n",
      "\n",
      "See the caveats in the documentation: https://pandas.pydata.org/pandas-docs/stable/user_guide/indexing.html#returning-a-view-versus-a-copy\n",
      "\n",
      "/var/folders/qj/xh48vw9d4z5_h6wzs6r2smdh0000gn/T/ipykernel_761/2920755204.py:7: SettingWithCopyWarning:\n",
      "\n",
      "\n",
      "A value is trying to be set on a copy of a slice from a DataFrame.\n",
      "Try using .loc[row_indexer,col_indexer] = value instead\n",
      "\n",
      "See the caveats in the documentation: https://pandas.pydata.org/pandas-docs/stable/user_guide/indexing.html#returning-a-view-versus-a-copy\n",
      "\n",
      "/var/folders/qj/xh48vw9d4z5_h6wzs6r2smdh0000gn/T/ipykernel_761/2920755204.py:7: SettingWithCopyWarning:\n",
      "\n",
      "\n",
      "A value is trying to be set on a copy of a slice from a DataFrame.\n",
      "Try using .loc[row_indexer,col_indexer] = value instead\n",
      "\n",
      "See the caveats in the documentation: https://pandas.pydata.org/pandas-docs/stable/user_guide/indexing.html#returning-a-view-versus-a-copy\n",
      "\n",
      "/var/folders/qj/xh48vw9d4z5_h6wzs6r2smdh0000gn/T/ipykernel_761/2920755204.py:7: SettingWithCopyWarning:\n",
      "\n",
      "\n",
      "A value is trying to be set on a copy of a slice from a DataFrame.\n",
      "Try using .loc[row_indexer,col_indexer] = value instead\n",
      "\n",
      "See the caveats in the documentation: https://pandas.pydata.org/pandas-docs/stable/user_guide/indexing.html#returning-a-view-versus-a-copy\n",
      "\n",
      "/var/folders/qj/xh48vw9d4z5_h6wzs6r2smdh0000gn/T/ipykernel_761/2920755204.py:7: SettingWithCopyWarning:\n",
      "\n",
      "\n",
      "A value is trying to be set on a copy of a slice from a DataFrame.\n",
      "Try using .loc[row_indexer,col_indexer] = value instead\n",
      "\n",
      "See the caveats in the documentation: https://pandas.pydata.org/pandas-docs/stable/user_guide/indexing.html#returning-a-view-versus-a-copy\n",
      "\n",
      "/var/folders/qj/xh48vw9d4z5_h6wzs6r2smdh0000gn/T/ipykernel_761/2920755204.py:7: SettingWithCopyWarning:\n",
      "\n",
      "\n",
      "A value is trying to be set on a copy of a slice from a DataFrame.\n",
      "Try using .loc[row_indexer,col_indexer] = value instead\n",
      "\n",
      "See the caveats in the documentation: https://pandas.pydata.org/pandas-docs/stable/user_guide/indexing.html#returning-a-view-versus-a-copy\n",
      "\n",
      "/var/folders/qj/xh48vw9d4z5_h6wzs6r2smdh0000gn/T/ipykernel_761/2920755204.py:7: SettingWithCopyWarning:\n",
      "\n",
      "\n",
      "A value is trying to be set on a copy of a slice from a DataFrame.\n",
      "Try using .loc[row_indexer,col_indexer] = value instead\n",
      "\n",
      "See the caveats in the documentation: https://pandas.pydata.org/pandas-docs/stable/user_guide/indexing.html#returning-a-view-versus-a-copy\n",
      "\n",
      "/var/folders/qj/xh48vw9d4z5_h6wzs6r2smdh0000gn/T/ipykernel_761/2920755204.py:7: SettingWithCopyWarning:\n",
      "\n",
      "\n",
      "A value is trying to be set on a copy of a slice from a DataFrame.\n",
      "Try using .loc[row_indexer,col_indexer] = value instead\n",
      "\n",
      "See the caveats in the documentation: https://pandas.pydata.org/pandas-docs/stable/user_guide/indexing.html#returning-a-view-versus-a-copy\n",
      "\n",
      "/var/folders/qj/xh48vw9d4z5_h6wzs6r2smdh0000gn/T/ipykernel_761/2920755204.py:7: SettingWithCopyWarning:\n",
      "\n",
      "\n",
      "A value is trying to be set on a copy of a slice from a DataFrame.\n",
      "Try using .loc[row_indexer,col_indexer] = value instead\n",
      "\n",
      "See the caveats in the documentation: https://pandas.pydata.org/pandas-docs/stable/user_guide/indexing.html#returning-a-view-versus-a-copy\n",
      "\n",
      "/var/folders/qj/xh48vw9d4z5_h6wzs6r2smdh0000gn/T/ipykernel_761/2920755204.py:7: SettingWithCopyWarning:\n",
      "\n",
      "\n",
      "A value is trying to be set on a copy of a slice from a DataFrame.\n",
      "Try using .loc[row_indexer,col_indexer] = value instead\n",
      "\n",
      "See the caveats in the documentation: https://pandas.pydata.org/pandas-docs/stable/user_guide/indexing.html#returning-a-view-versus-a-copy\n",
      "\n",
      "/var/folders/qj/xh48vw9d4z5_h6wzs6r2smdh0000gn/T/ipykernel_761/2920755204.py:7: SettingWithCopyWarning:\n",
      "\n",
      "\n",
      "A value is trying to be set on a copy of a slice from a DataFrame.\n",
      "Try using .loc[row_indexer,col_indexer] = value instead\n",
      "\n",
      "See the caveats in the documentation: https://pandas.pydata.org/pandas-docs/stable/user_guide/indexing.html#returning-a-view-versus-a-copy\n",
      "\n",
      "/var/folders/qj/xh48vw9d4z5_h6wzs6r2smdh0000gn/T/ipykernel_761/2920755204.py:7: SettingWithCopyWarning:\n",
      "\n",
      "\n",
      "A value is trying to be set on a copy of a slice from a DataFrame.\n",
      "Try using .loc[row_indexer,col_indexer] = value instead\n",
      "\n",
      "See the caveats in the documentation: https://pandas.pydata.org/pandas-docs/stable/user_guide/indexing.html#returning-a-view-versus-a-copy\n",
      "\n",
      "/var/folders/qj/xh48vw9d4z5_h6wzs6r2smdh0000gn/T/ipykernel_761/2920755204.py:7: SettingWithCopyWarning:\n",
      "\n",
      "\n",
      "A value is trying to be set on a copy of a slice from a DataFrame.\n",
      "Try using .loc[row_indexer,col_indexer] = value instead\n",
      "\n",
      "See the caveats in the documentation: https://pandas.pydata.org/pandas-docs/stable/user_guide/indexing.html#returning-a-view-versus-a-copy\n",
      "\n",
      "/var/folders/qj/xh48vw9d4z5_h6wzs6r2smdh0000gn/T/ipykernel_761/2920755204.py:7: SettingWithCopyWarning:\n",
      "\n",
      "\n",
      "A value is trying to be set on a copy of a slice from a DataFrame.\n",
      "Try using .loc[row_indexer,col_indexer] = value instead\n",
      "\n",
      "See the caveats in the documentation: https://pandas.pydata.org/pandas-docs/stable/user_guide/indexing.html#returning-a-view-versus-a-copy\n",
      "\n",
      "/var/folders/qj/xh48vw9d4z5_h6wzs6r2smdh0000gn/T/ipykernel_761/2920755204.py:7: SettingWithCopyWarning:\n",
      "\n",
      "\n",
      "A value is trying to be set on a copy of a slice from a DataFrame.\n",
      "Try using .loc[row_indexer,col_indexer] = value instead\n",
      "\n",
      "See the caveats in the documentation: https://pandas.pydata.org/pandas-docs/stable/user_guide/indexing.html#returning-a-view-versus-a-copy\n",
      "\n",
      "/var/folders/qj/xh48vw9d4z5_h6wzs6r2smdh0000gn/T/ipykernel_761/2920755204.py:7: SettingWithCopyWarning:\n",
      "\n",
      "\n",
      "A value is trying to be set on a copy of a slice from a DataFrame.\n",
      "Try using .loc[row_indexer,col_indexer] = value instead\n",
      "\n",
      "See the caveats in the documentation: https://pandas.pydata.org/pandas-docs/stable/user_guide/indexing.html#returning-a-view-versus-a-copy\n",
      "\n",
      "/var/folders/qj/xh48vw9d4z5_h6wzs6r2smdh0000gn/T/ipykernel_761/2920755204.py:7: SettingWithCopyWarning:\n",
      "\n",
      "\n",
      "A value is trying to be set on a copy of a slice from a DataFrame.\n",
      "Try using .loc[row_indexer,col_indexer] = value instead\n",
      "\n",
      "See the caveats in the documentation: https://pandas.pydata.org/pandas-docs/stable/user_guide/indexing.html#returning-a-view-versus-a-copy\n",
      "\n",
      "/var/folders/qj/xh48vw9d4z5_h6wzs6r2smdh0000gn/T/ipykernel_761/2920755204.py:7: SettingWithCopyWarning:\n",
      "\n",
      "\n",
      "A value is trying to be set on a copy of a slice from a DataFrame.\n",
      "Try using .loc[row_indexer,col_indexer] = value instead\n",
      "\n",
      "See the caveats in the documentation: https://pandas.pydata.org/pandas-docs/stable/user_guide/indexing.html#returning-a-view-versus-a-copy\n",
      "\n",
      "/var/folders/qj/xh48vw9d4z5_h6wzs6r2smdh0000gn/T/ipykernel_761/2920755204.py:7: SettingWithCopyWarning:\n",
      "\n",
      "\n",
      "A value is trying to be set on a copy of a slice from a DataFrame.\n",
      "Try using .loc[row_indexer,col_indexer] = value instead\n",
      "\n",
      "See the caveats in the documentation: https://pandas.pydata.org/pandas-docs/stable/user_guide/indexing.html#returning-a-view-versus-a-copy\n",
      "\n",
      "/var/folders/qj/xh48vw9d4z5_h6wzs6r2smdh0000gn/T/ipykernel_761/2920755204.py:7: SettingWithCopyWarning:\n",
      "\n",
      "\n",
      "A value is trying to be set on a copy of a slice from a DataFrame.\n",
      "Try using .loc[row_indexer,col_indexer] = value instead\n",
      "\n",
      "See the caveats in the documentation: https://pandas.pydata.org/pandas-docs/stable/user_guide/indexing.html#returning-a-view-versus-a-copy\n",
      "\n",
      "/var/folders/qj/xh48vw9d4z5_h6wzs6r2smdh0000gn/T/ipykernel_761/2920755204.py:7: SettingWithCopyWarning:\n",
      "\n",
      "\n",
      "A value is trying to be set on a copy of a slice from a DataFrame.\n",
      "Try using .loc[row_indexer,col_indexer] = value instead\n",
      "\n",
      "See the caveats in the documentation: https://pandas.pydata.org/pandas-docs/stable/user_guide/indexing.html#returning-a-view-versus-a-copy\n",
      "\n",
      "/var/folders/qj/xh48vw9d4z5_h6wzs6r2smdh0000gn/T/ipykernel_761/2920755204.py:7: SettingWithCopyWarning:\n",
      "\n",
      "\n",
      "A value is trying to be set on a copy of a slice from a DataFrame.\n",
      "Try using .loc[row_indexer,col_indexer] = value instead\n",
      "\n",
      "See the caveats in the documentation: https://pandas.pydata.org/pandas-docs/stable/user_guide/indexing.html#returning-a-view-versus-a-copy\n",
      "\n",
      "/var/folders/qj/xh48vw9d4z5_h6wzs6r2smdh0000gn/T/ipykernel_761/2920755204.py:7: SettingWithCopyWarning:\n",
      "\n",
      "\n",
      "A value is trying to be set on a copy of a slice from a DataFrame.\n",
      "Try using .loc[row_indexer,col_indexer] = value instead\n",
      "\n",
      "See the caveats in the documentation: https://pandas.pydata.org/pandas-docs/stable/user_guide/indexing.html#returning-a-view-versus-a-copy\n",
      "\n",
      "/var/folders/qj/xh48vw9d4z5_h6wzs6r2smdh0000gn/T/ipykernel_761/2920755204.py:7: SettingWithCopyWarning:\n",
      "\n",
      "\n",
      "A value is trying to be set on a copy of a slice from a DataFrame.\n",
      "Try using .loc[row_indexer,col_indexer] = value instead\n",
      "\n",
      "See the caveats in the documentation: https://pandas.pydata.org/pandas-docs/stable/user_guide/indexing.html#returning-a-view-versus-a-copy\n",
      "\n",
      "/var/folders/qj/xh48vw9d4z5_h6wzs6r2smdh0000gn/T/ipykernel_761/2920755204.py:7: SettingWithCopyWarning:\n",
      "\n",
      "\n",
      "A value is trying to be set on a copy of a slice from a DataFrame.\n",
      "Try using .loc[row_indexer,col_indexer] = value instead\n",
      "\n",
      "See the caveats in the documentation: https://pandas.pydata.org/pandas-docs/stable/user_guide/indexing.html#returning-a-view-versus-a-copy\n",
      "\n",
      "/var/folders/qj/xh48vw9d4z5_h6wzs6r2smdh0000gn/T/ipykernel_761/2920755204.py:7: SettingWithCopyWarning:\n",
      "\n",
      "\n",
      "A value is trying to be set on a copy of a slice from a DataFrame.\n",
      "Try using .loc[row_indexer,col_indexer] = value instead\n",
      "\n",
      "See the caveats in the documentation: https://pandas.pydata.org/pandas-docs/stable/user_guide/indexing.html#returning-a-view-versus-a-copy\n",
      "\n",
      "/var/folders/qj/xh48vw9d4z5_h6wzs6r2smdh0000gn/T/ipykernel_761/2920755204.py:7: SettingWithCopyWarning:\n",
      "\n",
      "\n",
      "A value is trying to be set on a copy of a slice from a DataFrame.\n",
      "Try using .loc[row_indexer,col_indexer] = value instead\n",
      "\n",
      "See the caveats in the documentation: https://pandas.pydata.org/pandas-docs/stable/user_guide/indexing.html#returning-a-view-versus-a-copy\n",
      "\n",
      "/var/folders/qj/xh48vw9d4z5_h6wzs6r2smdh0000gn/T/ipykernel_761/2920755204.py:7: SettingWithCopyWarning:\n",
      "\n",
      "\n",
      "A value is trying to be set on a copy of a slice from a DataFrame.\n",
      "Try using .loc[row_indexer,col_indexer] = value instead\n",
      "\n",
      "See the caveats in the documentation: https://pandas.pydata.org/pandas-docs/stable/user_guide/indexing.html#returning-a-view-versus-a-copy\n",
      "\n",
      "/var/folders/qj/xh48vw9d4z5_h6wzs6r2smdh0000gn/T/ipykernel_761/2920755204.py:7: SettingWithCopyWarning:\n",
      "\n",
      "\n",
      "A value is trying to be set on a copy of a slice from a DataFrame.\n",
      "Try using .loc[row_indexer,col_indexer] = value instead\n",
      "\n",
      "See the caveats in the documentation: https://pandas.pydata.org/pandas-docs/stable/user_guide/indexing.html#returning-a-view-versus-a-copy\n",
      "\n",
      "/var/folders/qj/xh48vw9d4z5_h6wzs6r2smdh0000gn/T/ipykernel_761/2920755204.py:7: SettingWithCopyWarning:\n",
      "\n",
      "\n",
      "A value is trying to be set on a copy of a slice from a DataFrame.\n",
      "Try using .loc[row_indexer,col_indexer] = value instead\n",
      "\n",
      "See the caveats in the documentation: https://pandas.pydata.org/pandas-docs/stable/user_guide/indexing.html#returning-a-view-versus-a-copy\n",
      "\n",
      "/var/folders/qj/xh48vw9d4z5_h6wzs6r2smdh0000gn/T/ipykernel_761/2920755204.py:7: SettingWithCopyWarning:\n",
      "\n",
      "\n",
      "A value is trying to be set on a copy of a slice from a DataFrame.\n",
      "Try using .loc[row_indexer,col_indexer] = value instead\n",
      "\n",
      "See the caveats in the documentation: https://pandas.pydata.org/pandas-docs/stable/user_guide/indexing.html#returning-a-view-versus-a-copy\n",
      "\n",
      "/var/folders/qj/xh48vw9d4z5_h6wzs6r2smdh0000gn/T/ipykernel_761/2920755204.py:7: SettingWithCopyWarning:\n",
      "\n",
      "\n",
      "A value is trying to be set on a copy of a slice from a DataFrame.\n",
      "Try using .loc[row_indexer,col_indexer] = value instead\n",
      "\n",
      "See the caveats in the documentation: https://pandas.pydata.org/pandas-docs/stable/user_guide/indexing.html#returning-a-view-versus-a-copy\n",
      "\n",
      "/var/folders/qj/xh48vw9d4z5_h6wzs6r2smdh0000gn/T/ipykernel_761/2920755204.py:7: SettingWithCopyWarning:\n",
      "\n",
      "\n",
      "A value is trying to be set on a copy of a slice from a DataFrame.\n",
      "Try using .loc[row_indexer,col_indexer] = value instead\n",
      "\n",
      "See the caveats in the documentation: https://pandas.pydata.org/pandas-docs/stable/user_guide/indexing.html#returning-a-view-versus-a-copy\n",
      "\n",
      "/var/folders/qj/xh48vw9d4z5_h6wzs6r2smdh0000gn/T/ipykernel_761/2920755204.py:7: SettingWithCopyWarning:\n",
      "\n",
      "\n",
      "A value is trying to be set on a copy of a slice from a DataFrame.\n",
      "Try using .loc[row_indexer,col_indexer] = value instead\n",
      "\n",
      "See the caveats in the documentation: https://pandas.pydata.org/pandas-docs/stable/user_guide/indexing.html#returning-a-view-versus-a-copy\n",
      "\n"
     ]
    }
   ],
   "source": [
    "#create subset for males \n",
    "df_MO_nats_M = pd.DataFrame(columns= [\"Nationality\", \"DateAcquired\", \"Count\", \"Gender\"]) \n",
    "\n",
    "for nat in nationalities:\n",
    "    nat_sub =  old[old.Nationality == nat]\n",
    "    sub_m = nat_sub[nat_sub.Gender == 'M']   \n",
    "    sub_m.DateAcquired = sub_m.DateAcquired.astype('str')\n",
    "    years = ', '.join(sub_m.DateAcquired)\n",
    "    years = sorted(list([item[:4] for item in list(set(years.split(', ')))]))[0:-1]\n",
    "    for year in years:\n",
    "        year_sub = sub_m[sub_m.DateAcquired == year]\n",
    "        m_count = len(year_sub[year_sub.Gender == 'M'])\n",
    "        df_MO_nats_M.loc[len(df_MO_nats_M.index)] = [nat, year, m_count, 'M']\n",
    "\n",
    "df_MO_nats_M.DateAcquired = df_MO_nats_M.DateAcquired.astype('int')\n",
    "df_MO_nats_M = df_MO_nats_M[df_MO_nats_M.DateAcquired >0]"
   ]
  },
  {
   "cell_type": "code",
   "execution_count": null,
   "metadata": {},
   "outputs": [
    {
     "data": {
      "text/html": [
       "<div>\n",
       "<style scoped>\n",
       "    .dataframe tbody tr th:only-of-type {\n",
       "        vertical-align: middle;\n",
       "    }\n",
       "\n",
       "    .dataframe tbody tr th {\n",
       "        vertical-align: top;\n",
       "    }\n",
       "\n",
       "    .dataframe thead th {\n",
       "        text-align: right;\n",
       "    }\n",
       "</style>\n",
       "<table border=\"1\" class=\"dataframe\">\n",
       "  <thead>\n",
       "    <tr style=\"text-align: right;\">\n",
       "      <th></th>\n",
       "      <th>Nationality</th>\n",
       "      <th>DateAcquired</th>\n",
       "      <th>Count</th>\n",
       "      <th>Gender</th>\n",
       "    </tr>\n",
       "  </thead>\n",
       "  <tbody>\n",
       "    <tr>\n",
       "      <th>0</th>\n",
       "      <td>Italian</td>\n",
       "      <td>1944</td>\n",
       "      <td>1</td>\n",
       "      <td>F</td>\n",
       "    </tr>\n",
       "    <tr>\n",
       "      <th>1</th>\n",
       "      <td>Italian</td>\n",
       "      <td>1949</td>\n",
       "      <td>3</td>\n",
       "      <td>F</td>\n",
       "    </tr>\n",
       "    <tr>\n",
       "      <th>2</th>\n",
       "      <td>Italian</td>\n",
       "      <td>1959</td>\n",
       "      <td>2</td>\n",
       "      <td>F</td>\n",
       "    </tr>\n",
       "    <tr>\n",
       "      <th>3</th>\n",
       "      <td>Italian</td>\n",
       "      <td>1963</td>\n",
       "      <td>1</td>\n",
       "      <td>F</td>\n",
       "    </tr>\n",
       "    <tr>\n",
       "      <th>4</th>\n",
       "      <td>Italian</td>\n",
       "      <td>1964</td>\n",
       "      <td>9</td>\n",
       "      <td>F</td>\n",
       "    </tr>\n",
       "    <tr>\n",
       "      <th>...</th>\n",
       "      <td>...</td>\n",
       "      <td>...</td>\n",
       "      <td>...</td>\n",
       "      <td>...</td>\n",
       "    </tr>\n",
       "    <tr>\n",
       "      <th>1813</th>\n",
       "      <td>Guatemalan</td>\n",
       "      <td>1959</td>\n",
       "      <td>1</td>\n",
       "      <td>M</td>\n",
       "    </tr>\n",
       "    <tr>\n",
       "      <th>1814</th>\n",
       "      <td>Guatemalan</td>\n",
       "      <td>1961</td>\n",
       "      <td>1</td>\n",
       "      <td>M</td>\n",
       "    </tr>\n",
       "    <tr>\n",
       "      <th>1815</th>\n",
       "      <td>Guatemalan</td>\n",
       "      <td>1964</td>\n",
       "      <td>2</td>\n",
       "      <td>M</td>\n",
       "    </tr>\n",
       "    <tr>\n",
       "      <th>1816</th>\n",
       "      <td>Guatemalan</td>\n",
       "      <td>1966</td>\n",
       "      <td>1</td>\n",
       "      <td>M</td>\n",
       "    </tr>\n",
       "    <tr>\n",
       "      <th>1817</th>\n",
       "      <td>Guatemalan</td>\n",
       "      <td>1970</td>\n",
       "      <td>2</td>\n",
       "      <td>M</td>\n",
       "    </tr>\n",
       "  </tbody>\n",
       "</table>\n",
       "<p>2329 rows × 4 columns</p>\n",
       "</div>"
      ],
      "text/plain": [
       "     Nationality  DateAcquired  Count Gender\n",
       "0        Italian          1944      1      F\n",
       "1        Italian          1949      3      F\n",
       "2        Italian          1959      2      F\n",
       "3        Italian          1963      1      F\n",
       "4        Italian          1964      9      F\n",
       "...          ...           ...    ...    ...\n",
       "1813  Guatemalan          1959      1      M\n",
       "1814  Guatemalan          1961      1      M\n",
       "1815  Guatemalan          1964      2      M\n",
       "1816  Guatemalan          1966      1      M\n",
       "1817  Guatemalan          1970      2      M\n",
       "\n",
       "[2329 rows x 4 columns]"
      ]
     },
     "execution_count": 872,
     "metadata": {},
     "output_type": "execute_result"
    }
   ],
   "source": [
    "Moma_old_MFnat"
   ]
  },
  {
   "cell_type": "code",
   "execution_count": null,
   "metadata": {},
   "outputs": [
    {
     "data": {
      "application/vnd.plotly.v1+json": {
       "config": {
        "plotlyServerURL": "https://plot.ly"
       },
       "data": [
        {
         "hovertemplate": "Gender=F<br>Nationality=%{x}<br>DateAcquired=%{y}<br>Count=%{marker.size}<extra></extra>",
         "legendgroup": "F",
         "marker": {
          "color": "red",
          "opacity": 0.3,
          "size": [
           1,
           3,
           2,
           1,
           9,
           28,
           1,
           1,
           9,
           1,
           10,
           1,
           3,
           1,
           53,
           1,
           1,
           1,
           1,
           13,
           1,
           1,
           1,
           1,
           1,
           49,
           1,
           1,
           8,
           4,
           2,
           1,
           3,
           1,
           2,
           3,
           3,
           1,
           3,
           5,
           5,
           1,
           4,
           2,
           3,
           4,
           1,
           3,
           3,
           1,
           2,
           1,
           8,
           3,
           3,
           1,
           5,
           2,
           1,
           4,
           1,
           1,
           3,
           1,
           1,
           3,
           4,
           2,
           4,
           2,
           1,
           9,
           4,
           1,
           1,
           2,
           1,
           1,
           1,
           1,
           1,
           1,
           1,
           1,
           5,
           26,
           4,
           1,
           3,
           1,
           2,
           1,
           2,
           1,
           4,
           1,
           2,
           1,
           1,
           2,
           1,
           17,
           11,
           5,
           62,
           16,
           48,
           23,
           1,
           1,
           13,
           1,
           3,
           16,
           12,
           42,
           1,
           6,
           1,
           4,
           10,
           1,
           10,
           11,
           2,
           1,
           1,
           1,
           1,
           1,
           1,
           4,
           5,
           1,
           1,
           1,
           2,
           2,
           1,
           1,
           1,
           3,
           1,
           4,
           1,
           18,
           32,
           1,
           1,
           1,
           3,
           1,
           1,
           4,
           1,
           11,
           1,
           2,
           3,
           3,
           8,
           1,
           1,
           2,
           1,
           2,
           1,
           3,
           1,
           1,
           1,
           3,
           1,
           1,
           1,
           1,
           9,
           3,
           1,
           1,
           1,
           3,
           2,
           5,
           2,
           4,
           9,
           3,
           1,
           1,
           2,
           3,
           1,
           1,
           1,
           1,
           1,
           1,
           1,
           1,
           1,
           2,
           1,
           3,
           4,
           3,
           2,
           11,
           1,
           1,
           2,
           2,
           1,
           1,
           2,
           3,
           7,
           1,
           24,
           3,
           1,
           1,
           10,
           3,
           7,
           1,
           1,
           6,
           5,
           1,
           1,
           9,
           1,
           1,
           1,
           1,
           7,
           1,
           1,
           2,
           1,
           1,
           1,
           1,
           1,
           2,
           1,
           1,
           4,
           2,
           3,
           3,
           4,
           137,
           37,
           72,
           14,
           16,
           2,
           4,
           80,
           12,
           10,
           12,
           69,
           35,
           8,
           8,
           7,
           16,
           5,
           5,
           49,
           22,
           22,
           21,
           40,
           106,
           180,
           25,
           173,
           46,
           154,
           135,
           37,
           45,
           80,
           441,
           34,
           34,
           89,
           73,
           98,
           106,
           54,
           8,
           43,
           24,
           34,
           8,
           33,
           19,
           16,
           125,
           8,
           100,
           90,
           63,
           426,
           13,
           18,
           20,
           13,
           10,
           11,
           59,
           20,
           200,
           141,
           171,
           44,
           85,
           340,
           4,
           4,
           1,
           3,
           3,
           4,
           2,
           2,
           2,
           2,
           3,
           3,
           3,
           1,
           3,
           2,
           2,
           1,
           97,
           1,
           1,
           3,
           1,
           1,
           1,
           1,
           3,
           1,
           1,
           2,
           3,
           4,
           1,
           1,
           2,
           3,
           1,
           1,
           3,
           24,
           1,
           1,
           1,
           1,
           1,
           28,
           6,
           1,
           3,
           1,
           2,
           1,
           5,
           1,
           2,
           1,
           1,
           1,
           1,
           3,
           2,
           1,
           1,
           1,
           1,
           1,
           1,
           1,
           1,
           1,
           1,
           1,
           1,
           8,
           1,
           1,
           1,
           1,
           6,
           5,
           3,
           1,
           17,
           2,
           9,
           44,
           1,
           6,
           2,
           5,
           2,
           23,
           1,
           9,
           1,
           2,
           1,
           1,
           4,
           1,
           1,
           1,
           3,
           11,
           1,
           1,
           75,
           1,
           1,
           3,
           3,
           3,
           1,
           6,
           3,
           25,
           7,
           2,
           1,
           3,
           49,
           1,
           12,
           1,
           1,
           5,
           1,
           3,
           1,
           1,
           2,
           1
          ],
          "sizemode": "area",
          "sizeref": 20.965,
          "symbol": "circle"
         },
         "mode": "markers",
         "name": "F",
         "showlegend": true,
         "type": "scattergl",
         "x": [
          "Italian",
          "Italian",
          "Italian",
          "Italian",
          "Italian",
          "Italian",
          "Italian",
          "Italian",
          "Italian",
          "Italian",
          "Italian",
          "Italian",
          "Italian",
          "Italian",
          "Italian",
          "Dutch",
          "Dutch",
          "Dutch",
          "Dutch",
          "Dutch",
          "Dutch",
          "Dutch",
          "Dutch",
          "Dutch",
          "Dutch",
          "Dutch",
          "Belgian",
          "Belgian",
          "British",
          "British",
          "British",
          "British",
          "British",
          "British",
          "British",
          "British",
          "British",
          "British",
          "British",
          "British",
          "British",
          "British",
          "British",
          "British",
          "British",
          "British",
          "British",
          "British",
          "British",
          "British",
          "British",
          "British",
          "British",
          "British",
          "British",
          "British",
          "British",
          "British",
          "British",
          "British",
          "British",
          "British",
          "British",
          "British",
          "British",
          "British",
          "British",
          "British",
          "Finnish",
          "Finnish",
          "Finnish",
          "Finnish",
          "Finnish",
          "Finnish",
          "Austrian",
          "Austrian",
          "Austrian",
          "Austrian",
          "Austrian",
          "Austrian",
          "Austrian",
          "Austrian",
          "Austrian",
          "Austrian",
          "Austrian",
          "Austrian",
          "Austrian",
          "Czech",
          "Czech",
          "Czech",
          "Czech",
          "Czech",
          "Czech",
          "Czech",
          "Russian",
          "Russian",
          "Russian",
          "Russian",
          "Russian",
          "Russian",
          "Russian",
          "Russian",
          "Russian",
          "Russian",
          "Russian",
          "Russian",
          "Russian",
          "Russian",
          "Russian",
          "Russian",
          "Russian",
          "Russian",
          "Russian",
          "Russian",
          "Russian",
          "Russian",
          "Chilean",
          "Chilean",
          "Chilean",
          "Croatian",
          "Hungarian",
          "Hungarian",
          "Hungarian",
          "Polish",
          "Polish",
          "Polish",
          "Polish",
          "Polish",
          "Polish",
          "Polish",
          "Polish",
          "Polish",
          "Polish",
          "Polish",
          "Colombian",
          "Colombian",
          "Cuban",
          "Cuban",
          "Cuban",
          "Icelandic",
          "Icelandic",
          "Icelandic",
          "German",
          "German",
          "German",
          "German",
          "German",
          "German",
          "German",
          "German",
          "German",
          "German",
          "German",
          "German",
          "German",
          "German",
          "German",
          "German",
          "German",
          "German",
          "German",
          "German",
          "German",
          "German",
          "German",
          "German",
          "German",
          "German",
          "German",
          "German",
          "German",
          "German",
          "German",
          "German",
          "German",
          "German",
          "German",
          "German",
          "German",
          "German",
          "German",
          "German",
          "German",
          "German",
          "German",
          "German",
          "German",
          "Indian",
          "Lebanese",
          "Slovenian",
          "Nationality unknown",
          "Nationality unknown",
          "Nationality unknown",
          "Nationality unknown",
          "Nationality unknown",
          "Nationality unknown",
          "Brazilian",
          "Brazilian",
          "Brazilian",
          "Brazilian",
          "Brazilian",
          "Brazilian",
          "Brazilian",
          "Brazilian",
          "Brazilian",
          "Brazilian",
          "Brazilian",
          "Brazilian",
          "Brazilian",
          "Brazilian",
          "Brazilian",
          "Brazilian",
          "Brazilian",
          "Brazilian",
          "Brazilian",
          "Brazilian",
          "Brazilian",
          "Brazilian",
          "Brazilian",
          "Brazilian",
          "missing",
          "missing",
          "missing",
          "missing",
          "Argentine",
          "Argentine",
          "Argentine",
          "Argentine",
          "Argentine",
          "Argentine",
          "Argentine",
          "Argentine",
          "Argentine",
          "Argentine",
          "Israeli",
          "Israeli",
          "Israeli",
          "Israeli",
          "Israeli",
          "Israeli",
          "Swedish",
          "Swedish",
          "Swedish",
          "Swedish",
          "Swedish",
          "Swedish",
          "American",
          "American",
          "American",
          "American",
          "American",
          "American",
          "American",
          "American",
          "American",
          "American",
          "American",
          "American",
          "American",
          "American",
          "American",
          "American",
          "American",
          "American",
          "American",
          "American",
          "American",
          "American",
          "American",
          "American",
          "American",
          "American",
          "American",
          "American",
          "American",
          "American",
          "American",
          "American",
          "American",
          "American",
          "American",
          "American",
          "American",
          "American",
          "American",
          "American",
          "American",
          "American",
          "American",
          "American",
          "American",
          "American",
          "American",
          "American",
          "American",
          "American",
          "American",
          "American",
          "American",
          "American",
          "American",
          "American",
          "American",
          "American",
          "American",
          "American",
          "American",
          "American",
          "American",
          "American",
          "American",
          "American",
          "American",
          "American",
          "American",
          "American",
          "American",
          "American",
          "American",
          "American",
          "American",
          "American",
          "American",
          "Japanese",
          "Japanese",
          "Japanese",
          "Japanese",
          "Japanese",
          "Japanese",
          "Japanese",
          "Japanese",
          "Japanese",
          "Japanese",
          "Japanese",
          "Japanese",
          "Japanese",
          "Japanese",
          "Japanese",
          "Japanese",
          "Japanese",
          "Japanese",
          "Japanese",
          "Japanese",
          "Japanese",
          "Japanese",
          "Yugoslav",
          "Yugoslav",
          "Yugoslav",
          "Australian",
          "Australian",
          "Canadian",
          "Canadian",
          "Canadian",
          "Canadian",
          "Canadian",
          "Canadian",
          "Canadian",
          "Spanish",
          "Spanish",
          "Swiss",
          "Swiss",
          "Swiss",
          "Swiss",
          "Swiss",
          "Swiss",
          "Swiss",
          "Swiss",
          "Swiss",
          "Swiss",
          "Swiss",
          "Swiss",
          "Swiss",
          "Swiss",
          "Swiss",
          "Swiss",
          "Swiss",
          "Swiss",
          "Swiss",
          "Swiss",
          "Swiss",
          "Swiss",
          "Swiss",
          "Swiss",
          "Swiss",
          "Mexican",
          "Mexican",
          "Mexican",
          "Mexican",
          "Mexican",
          "Mexican",
          "Mexican",
          "Mexican",
          "Mexican",
          "Mexican",
          "Mexican",
          "Mexican",
          "Mexican",
          "Mexican",
          "Venezuelan",
          "Venezuelan",
          "Venezuelan",
          "Venezuelan",
          "Venezuelan",
          "Venezuelan",
          "Venezuelan",
          "Venezuelan",
          "Venezuelan",
          "Venezuelan",
          "Venezuelan",
          "Venezuelan",
          "Venezuelan",
          "Venezuelan",
          "Venezuelan",
          "French",
          "French",
          "French",
          "French",
          "French",
          "French",
          "French",
          "French",
          "French",
          "French",
          "French",
          "French",
          "French",
          "French",
          "French",
          "French",
          "French",
          "French",
          "French",
          "French",
          "French",
          "French",
          "French",
          "French",
          "French",
          "French",
          "French",
          "French",
          "French",
          "French",
          "French",
          "French",
          "French",
          "French",
          "French",
          "French",
          "French",
          "French",
          "Danish",
          "Danish",
          "Danish",
          "Danish"
         ],
         "xaxis": "x",
         "y": [
          1944,
          1949,
          1959,
          1963,
          1964,
          1965,
          1966,
          1972,
          1974,
          1978,
          1979,
          1983,
          1988,
          2012,
          2016,
          1935,
          1949,
          1951,
          1963,
          1976,
          1981,
          1989,
          1990,
          1997,
          2014,
          2018,
          1947,
          1974,
          1936,
          1937,
          1941,
          1943,
          1945,
          1948,
          1949,
          1950,
          1952,
          1953,
          1954,
          1956,
          1958,
          1960,
          1961,
          1963,
          1964,
          1965,
          1966,
          1968,
          1969,
          1971,
          1972,
          1974,
          1975,
          1977,
          1978,
          1979,
          1980,
          1981,
          1984,
          1985,
          1986,
          1987,
          1989,
          1992,
          2004,
          2006,
          2014,
          2018,
          1958,
          1962,
          1966,
          1983,
          1984,
          1995,
          1950,
          1964,
          1972,
          1974,
          1979,
          1985,
          1990,
          1998,
          2006,
          2008,
          2010,
          2012,
          2018,
          1947,
          1953,
          1964,
          1969,
          1970,
          1990,
          2012,
          1937,
          1941,
          1943,
          1947,
          1958,
          1961,
          1967,
          1972,
          1974,
          1976,
          1977,
          1978,
          1979,
          1982,
          1983,
          1984,
          1985,
          1990,
          1991,
          1993,
          2002,
          2018,
          1964,
          1968,
          1969,
          2010,
          1940,
          2008,
          2012,
          1941,
          1949,
          1959,
          1960,
          1961,
          1964,
          1965,
          1970,
          1974,
          1992,
          2008,
          1974,
          1982,
          1942,
          1944,
          1987,
          1953,
          1961,
          2000,
          1934,
          1938,
          1939,
          1940,
          1941,
          1944,
          1947,
          1948,
          1949,
          1952,
          1953,
          1954,
          1955,
          1958,
          1960,
          1961,
          1963,
          1964,
          1965,
          1967,
          1969,
          1970,
          1973,
          1977,
          1978,
          1979,
          1981,
          1982,
          1984,
          1985,
          1987,
          1988,
          1990,
          1991,
          1992,
          1997,
          1998,
          2000,
          2002,
          2008,
          2010,
          2012,
          2014,
          2016,
          2018,
          2006,
          2018,
          2012,
          1940,
          1941,
          1944,
          1955,
          1970,
          1977,
          1941,
          1942,
          1946,
          1947,
          1951,
          1958,
          1961,
          1964,
          1967,
          1968,
          1969,
          1973,
          1974,
          1975,
          1980,
          1991,
          1999,
          2000,
          2004,
          2006,
          2008,
          2010,
          2016,
          2018,
          1988,
          2002,
          2008,
          2014,
          1942,
          1957,
          1963,
          1967,
          1968,
          1969,
          1974,
          2012,
          2016,
          2018,
          1953,
          1954,
          1964,
          1965,
          1970,
          1974,
          1942,
          1950,
          1954,
          1967,
          1972,
          1984,
          1932,
          1934,
          1935,
          1936,
          1937,
          1938,
          1939,
          1940,
          1941,
          1942,
          1943,
          1944,
          1945,
          1946,
          1947,
          1948,
          1949,
          1950,
          1951,
          1952,
          1953,
          1954,
          1955,
          1956,
          1957,
          1958,
          1959,
          1960,
          1961,
          1962,
          1963,
          1964,
          1965,
          1966,
          1967,
          1968,
          1969,
          1970,
          1971,
          1972,
          1973,
          1974,
          1975,
          1976,
          1977,
          1978,
          1979,
          1980,
          1981,
          1982,
          1983,
          1984,
          1985,
          1986,
          1987,
          1988,
          1989,
          1990,
          1991,
          1992,
          1993,
          1994,
          1995,
          1996,
          1997,
          1998,
          1999,
          2000,
          2002,
          2004,
          2006,
          2008,
          2010,
          2012,
          2014,
          2016,
          2018,
          1954,
          1957,
          1958,
          1959,
          1965,
          1967,
          1970,
          1978,
          1979,
          1981,
          1982,
          1994,
          1996,
          1997,
          1999,
          2000,
          2002,
          2006,
          2008,
          2010,
          2012,
          2014,
          1967,
          1971,
          2014,
          1949,
          1973,
          1951,
          1956,
          1964,
          1965,
          1967,
          1969,
          1979,
          1936,
          2018,
          1945,
          1946,
          1949,
          1958,
          1959,
          1964,
          1967,
          1968,
          1969,
          1970,
          1973,
          1974,
          1977,
          1980,
          1983,
          1984,
          1985,
          1987,
          1988,
          1991,
          1992,
          1998,
          2010,
          2016,
          2018,
          1942,
          1943,
          1954,
          1969,
          1973,
          1974,
          1976,
          1986,
          1987,
          1992,
          1995,
          1998,
          2016,
          2018,
          1960,
          1962,
          1963,
          1965,
          1967,
          1968,
          1969,
          1970,
          1971,
          1973,
          1974,
          1976,
          2004,
          2008,
          2016,
          1934,
          1940,
          1947,
          1949,
          1950,
          1951,
          1952,
          1953,
          1954,
          1955,
          1956,
          1957,
          1958,
          1959,
          1960,
          1963,
          1964,
          1965,
          1966,
          1967,
          1968,
          1970,
          1971,
          1973,
          1977,
          1978,
          1980,
          1985,
          1986,
          1987,
          1988,
          1989,
          1991,
          1993,
          1997,
          1998,
          2000,
          2018,
          1980,
          1988,
          1992,
          2000
         ],
         "yaxis": "y"
        },
        {
         "hovertemplate": "Gender=M<br>Nationality=%{x}<br>DateAcquired=%{y}<br>Count=%{marker.size}<extra></extra>",
         "legendgroup": "M",
         "marker": {
          "color": "blue",
          "opacity": 0.3,
          "size": [
           1,
           2,
           3,
           2,
           4,
           1,
           2,
           4,
           2,
           4,
           1,
           2,
           6,
           94,
           6,
           4,
           9,
           16,
           26,
           15,
           45,
           11,
           36,
           5,
           12,
           5,
           10,
           39,
           136,
           68,
           73,
           71,
           65,
           29,
           9,
           1,
           24,
           17,
           103,
           3,
           20,
           14,
           39,
           30,
           5,
           21,
           1,
           6,
           5,
           9,
           25,
           16,
           2,
           3,
           1,
           32,
           1,
           3,
           9,
           10,
           18,
           5,
           4,
           41,
           1,
           5,
           7,
           20,
           113,
           190,
           6,
           1,
           3,
           1,
           1,
           5,
           2,
           4,
           2,
           2,
           1,
           6,
           13,
           2,
           5,
           9,
           1,
           6,
           30,
           4,
           6,
           10,
           6,
           3,
           8,
           7,
           1,
           6,
           20,
           5,
           24,
           13,
           10,
           10,
           10,
           6,
           7,
           16,
           42,
           24,
           3,
           8,
           8,
           3,
           4,
           5,
           22,
           4,
           3,
           3,
           3,
           1,
           1,
           4,
           2,
           2,
           1,
           2,
           1,
           24,
           6,
           1,
           56,
           2,
           399,
           3,
           28,
           5,
           2,
           1,
           1,
           13,
           4,
           1,
           1,
           1,
           210,
           1,
           9,
           4,
           1,
           12,
           4,
           8,
           7,
           2,
           46,
           1,
           6,
           7,
           133,
           26,
           19,
           10,
           3,
           1,
           6,
           3,
           4,
           2,
           289,
           24,
           2,
           12,
           5,
           1,
           3,
           6,
           1,
           4,
           54,
           1,
           1,
           17,
           3,
           2,
           2,
           3,
           1,
           1,
           1,
           1,
           2,
           1,
           1,
           12,
           50,
           15,
           3,
           8,
           16,
           2,
           82,
           1,
           74,
           1,
           4,
           6,
           57,
           20,
           27,
           24,
           19,
           25,
           17,
           42,
           7,
           32,
           18,
           13,
           8,
           15,
           7,
           679,
           56,
           40,
           223,
           70,
           71,
           135,
           110,
           108,
           11,
           132,
           11,
           103,
           74,
           65,
           48,
           7,
           250,
           34,
           188,
           7,
           19,
           25,
           14,
           14,
           56,
           17,
           2,
           8,
           5,
           28,
           4,
           34,
           3,
           1,
           28,
           2,
           2,
           31,
           45,
           5,
           48,
           19,
           1,
           9,
           2,
           5,
           5,
           1,
           1,
           1,
           2,
           2,
           11,
           1,
           2,
           16,
           2,
           2,
           2,
           1,
           3,
           1,
           1,
           2,
           2,
           9,
           5,
           2,
           2,
           6,
           1,
           9,
           4,
           6,
           4,
           1,
           1,
           4,
           1,
           6,
           1,
           2,
           1,
           1,
           1,
           3,
           4,
           2,
           1,
           21,
           4,
           17,
           4,
           4,
           25,
           11,
           2,
           7,
           8,
           1,
           6,
           1,
           3,
           3,
           16,
           75,
           4,
           11,
           18,
           9,
           3,
           1,
           13,
           3,
           10,
           10,
           6,
           2,
           5,
           13,
           12,
           5,
           3,
           5,
           4,
           4,
           19,
           1,
           2,
           7,
           6,
           2,
           1,
           7,
           2,
           2,
           4,
           9,
           10,
           9,
           12,
           29,
           2,
           1,
           2,
           9,
           3,
           1,
           1,
           34,
           4,
           2,
           1,
           12,
           1,
           120,
           63,
           5,
           3,
           2,
           18,
           17,
           11,
           2,
           6,
           3,
           3,
           25,
           3,
           3,
           1,
           5,
           1,
           5,
           2,
           2,
           117,
           3,
           1,
           144,
           2,
           19,
           1,
           2,
           22,
           13,
           3,
           1,
           1,
           9,
           14,
           7,
           11,
           1,
           1,
           2,
           3,
           1,
           8,
           3,
           1,
           21,
           126,
           3,
           1,
           5,
           10,
           6,
           3,
           14,
           1,
           2,
           6,
           4,
           9,
           47,
           12,
           15,
           25,
           1,
           4,
           3,
           1,
           34,
           6,
           6,
           1,
           13,
           2,
           3,
           1,
           1,
           10,
           24,
           46,
           4,
           6,
           2,
           1,
           36,
           1,
           8,
           2,
           1,
           1,
           1,
           1,
           1,
           1,
           2,
           1,
           2,
           2,
           9,
           1,
           2,
           1,
           3,
           1,
           1,
           32,
           7,
           23,
           2,
           36,
           18,
           47,
           7,
           29,
           1,
           2,
           5,
           2,
           9,
           10,
           1,
           1,
           57,
           3,
           1,
           8,
           7,
           1,
           4,
           1,
           2,
           4,
           1,
           1,
           1,
           1,
           2,
           2,
           1,
           3,
           6,
           1,
           2,
           1,
           1,
           2,
           1,
           1,
           1,
           2,
           2,
           1,
           1,
           1,
           1,
           1,
           1,
           2,
           1,
           1,
           5,
           12,
           1,
           6,
           16,
           1,
           1,
           1,
           4,
           2,
           1,
           4,
           8,
           1,
           4,
           19,
           2,
           1,
           18,
           5,
           8,
           19,
           4,
           2,
           1,
           6,
           1,
           1,
           2,
           2,
           11,
           2,
           3,
           3,
           1,
           11,
           21,
           1,
           3,
           1,
           1,
           1,
           5,
           2,
           10,
           5,
           2,
           5,
           10,
           14,
           6,
           1,
           1,
           1,
           7,
           2,
           33,
           1,
           3,
           16,
           2,
           7,
           6,
           4,
           4,
           1,
           1,
           1,
           1,
           20,
           1,
           1,
           1,
           1,
           32,
           5,
           2,
           4,
           12,
           1,
           2,
           1,
           1,
           1,
           3,
           7,
           9,
           1,
           3,
           4,
           1,
           1,
           3,
           1,
           1,
           2,
           1,
           1,
           1,
           7,
           2,
           1,
           2,
           1,
           1,
           4,
           10,
           50,
           7,
           3,
           28,
           1,
           32,
           78,
           30,
           52,
           44,
           9,
           31,
           3,
           36,
           33,
           169,
           97,
           103,
           139,
           99,
           120,
           83,
           264,
           47,
           44,
           10,
           15,
           106,
           65,
           28,
           226,
           62,
           93,
           131,
           85,
           92,
           43,
           26,
           20,
           78,
           49,
           14,
           4,
           57,
           30,
           79,
           47,
           9,
           53,
           16,
           15,
           67,
           19,
           29,
           18,
           7,
           23,
           21,
           11,
           9,
           35,
           10,
           11,
           21,
           44,
           275,
           16,
           11,
           2,
           16,
           141,
           131,
           6,
           39,
           12,
           85,
           1,
           1,
           5,
           2,
           5,
           9,
           3,
           12,
           3,
           6,
           2,
           1,
           1,
           2,
           30,
           2,
           2,
           3,
           1,
           1,
           1,
           2,
           2,
           3,
           5,
           2,
           2,
           1,
           3,
           1,
           1,
           1,
           2,
           46,
           1,
           1,
           4,
           1,
           2,
           1,
           1,
           1,
           1,
           1,
           2,
           1,
           1,
           6,
           2,
           9,
           1,
           1,
           4,
           6,
           3,
           3,
           2,
           2,
           26,
           21,
           2,
           2,
           1,
           5,
           3,
           1,
           1,
           2,
           1,
           8,
           11,
           4,
           3,
           1,
           1,
           2,
           10,
           2,
           1,
           1,
           1,
           2,
           5,
           2,
           16,
           2,
           15,
           18,
           25,
           5,
           6,
           7,
           2,
           1,
           6,
           4,
           1,
           1,
           1,
           2,
           1,
           1,
           11,
           6,
           1,
           1,
           5,
           1,
           1,
           1,
           4,
           11,
           2,
           1,
           2,
           1,
           19,
           2,
           14,
           33,
           49,
           3,
           11,
           1,
           7,
           1,
           4,
           5,
           2,
           12,
           2,
           3,
           14,
           1,
           3,
           4,
           70,
           2,
           12,
           2,
           3,
           3,
           6,
           1,
           1,
           2,
           5,
           1,
           2,
           1,
           1,
           1,
           2,
           5,
           1,
           1,
           1,
           36,
           3,
           14,
           6,
           2,
           1,
           1,
           1,
           20,
           1,
           29,
           2,
           1,
           2,
           1,
           3,
           9,
           6,
           7,
           40,
           17,
           62,
           1,
           11,
           19,
           1,
           4,
           1,
           6,
           2,
           1,
           3,
           3,
           1,
           1,
           1,
           4,
           10,
           13,
           36,
           33,
           1,
           1,
           101,
           1,
           1,
           3,
           8,
           1,
           3,
           1,
           1,
           1,
           63,
           5,
           30,
           3,
           3,
           1,
           29,
           7,
           5,
           1,
           3,
           1,
           3,
           2,
           1,
           1,
           6,
           1,
           1,
           1,
           2,
           4,
           1,
           1,
           3,
           1,
           4,
           7,
           5,
           6,
           7,
           2,
           9,
           2,
           4,
           10,
           1,
           2,
           3,
           2,
           1,
           20,
           1,
           2,
           1,
           1,
           2,
           1,
           33,
           2,
           5,
           2,
           2,
           1,
           2,
           4,
           1,
           8,
           3,
           2,
           1,
           2,
           92,
           90,
           265,
           34,
           102,
           78,
           243,
           956,
           617,
           486,
           192,
           193,
           43,
           53,
           110,
           91,
           228,
           127,
           62,
           165,
           147,
           150,
           101,
           254,
           101,
           79,
           432,
           198,
           242,
           190,
           528,
           1313,
           467,
           814,
           941,
           1024,
           1402,
           617,
           421,
           362,
           467,
           2174,
           602,
           466,
           568,
           449,
           486,
           239,
           384,
           191,
           223,
           278,
           190,
           226,
           269,
           102,
           143,
           138,
           151,
           198,
           188,
           196,
           82,
           143,
           201,
           209,
           276,
           698,
           87,
           76,
           62,
           2303,
           95,
           245,
           222,
           113,
           263,
           4,
           1,
           1,
           1,
           43,
           6,
           4,
           6,
           8,
           121,
           6,
           6,
           1,
           11,
           23,
           90,
           31,
           63,
           16,
           26,
           21,
           31,
           23,
           23,
           56,
           4,
           62,
           99,
           53,
           30,
           10,
           11,
           14,
           13,
           3,
           1,
           5,
           4,
           4,
           16,
           28,
           4,
           1,
           1,
           4,
           1,
           19,
           113,
           32,
           33,
           18,
           18,
           7,
           1,
           2,
           1,
           2,
           2,
           7,
           3,
           2,
           11,
           1,
           3,
           3,
           2,
           1,
           1,
           3,
           1,
           1,
           1,
           2,
           1,
           2,
           1,
           1,
           1,
           1,
           9,
           1,
           1,
           5,
           1,
           6,
           1,
           1,
           1,
           8,
           1,
           7,
           3,
           1,
           1,
           1,
           1,
           2,
           2,
           1,
           3,
           1,
           8,
           2,
           11,
           1,
           53,
           30,
           2,
           1,
           3,
           1,
           1,
           1,
           1,
           1,
           4,
           1,
           1,
           1,
           1,
           1,
           7,
           1,
           5,
           22,
           5,
           3,
           1,
           1,
           1,
           3,
           12,
           2,
           4,
           4,
           6,
           3,
           44,
           2,
           1,
           1,
           22,
           1,
           2,
           1,
           1,
           1,
           2,
           2,
           1,
           1,
           1,
           2,
           1,
           2,
           1,
           1,
           25,
           1,
           1,
           2,
           4,
           1,
           16,
           2,
           8,
           15,
           1,
           8,
           25,
           1,
           4,
           2,
           1,
           13,
           22,
           25,
           144,
           5,
           30,
           21,
           13,
           11,
           29,
           42,
           10,
           33,
           34,
           10,
           4,
           10,
           11,
           1191,
           48,
           7,
           25,
           12,
           19,
           39,
           4,
           63,
           27,
           32,
           22,
           23,
           3,
           27,
           33,
           7,
           21,
           1,
           8,
           5,
           28,
           9,
           15,
           1,
           16,
           21,
           54,
           3,
           7,
           12,
           20,
           16,
           1,
           7,
           1,
           1,
           2,
           2,
           3,
           2,
           67,
           11,
           1,
           1,
           10,
           2,
           5,
           5,
           1,
           7,
           2,
           4,
           4,
           16,
           3,
           24,
           18,
           18,
           4,
           11,
           11,
           14,
           8,
           11,
           12,
           12,
           2,
           13,
           90,
           31,
           32,
           14,
           26,
           8,
           17,
           2,
           39,
           4,
           3,
           5,
           7,
           7,
           7,
           24,
           4,
           24,
           7,
           17,
           2,
           17,
           3,
           3,
           14,
           9,
           2,
           2,
           16,
           2,
           2,
           3,
           3,
           20,
           26,
           6,
           57,
           9,
           40,
           3,
           195,
           1,
           12,
           8,
           48,
           1,
           3,
           1,
           1,
           31,
           28,
           102,
           19,
           44,
           2,
           1,
           3,
           84,
           1,
           2,
           2,
           2,
           75,
           1,
           21,
           4,
           1,
           2,
           2,
           13,
           66,
           113,
           48,
           11,
           58,
           12,
           2,
           9,
           8,
           35,
           2,
           4,
           14,
           9,
           1,
           7,
           1,
           2,
           2,
           1,
           1,
           4,
           1,
           1,
           14,
           2,
           7,
           1,
           2,
           79,
           1,
           1,
           1,
           4,
           2,
           1,
           2,
           50,
           13,
           5,
           1,
           1,
           2,
           2,
           77,
           40,
           15,
           2,
           1,
           1,
           1,
           53,
           56,
           15,
           29,
           2,
           83,
           170,
           44,
           34,
           25,
           7,
           84,
           78,
           51,
           157,
           463,
           111,
           241,
           76,
           53,
           239,
           84,
           252,
           30,
           214,
           76,
           49,
           38,
           44,
           109,
           8386,
           639,
           465,
           160,
           5222,
           66,
           54,
           56,
           16,
           159,
           27,
           138,
           94,
           18,
           85,
           103,
           40,
           45,
           193,
           50,
           8,
           71,
           64,
           144,
           29,
           39,
           39,
           41,
           62,
           50,
           34,
           18,
           27,
           45,
           15,
           6,
           126,
           1,
           4,
           9,
           343,
           36,
           8,
           11,
           16,
           103,
           2,
           8,
           1,
           3,
           4,
           33,
           1,
           4,
           3,
           8,
           7,
           1,
           1,
           38,
           6,
           2,
           4,
           1,
           1,
           4,
           35,
           2,
           1,
           3,
           3,
           1,
           7,
           1,
           1,
           2,
           2,
           2,
           10,
           44,
           2,
           1,
           2,
           1,
           1,
           1,
           7,
           2,
           2,
           3,
           3,
           4,
           1,
           1,
           55,
           3,
           1,
           1,
           1,
           4,
           1,
           11,
           11,
           1,
           1,
           1,
           1,
           2,
           1,
           2
          ],
          "sizemode": "area",
          "sizeref": 20.965,
          "symbol": "circle"
         },
         "mode": "markers",
         "name": "M",
         "showlegend": true,
         "type": "scattergl",
         "x": [
          "Italian",
          "Italian",
          "Italian",
          "Italian",
          "Italian",
          "Italian",
          "Italian",
          "Italian",
          "Italian",
          "Italian",
          "Italian",
          "Italian",
          "Italian",
          "Italian",
          "Italian",
          "Italian",
          "Italian",
          "Italian",
          "Italian",
          "Italian",
          "Italian",
          "Italian",
          "Italian",
          "Italian",
          "Italian",
          "Italian",
          "Italian",
          "Italian",
          "Italian",
          "Italian",
          "Italian",
          "Italian",
          "Italian",
          "Italian",
          "Italian",
          "Italian",
          "Italian",
          "Italian",
          "Italian",
          "Italian",
          "Italian",
          "Italian",
          "Italian",
          "Italian",
          "Italian",
          "Italian",
          "Italian",
          "Italian",
          "Italian",
          "Italian",
          "Italian",
          "Italian",
          "Italian",
          "Italian",
          "Italian",
          "Italian",
          "Italian",
          "Italian",
          "Italian",
          "Italian",
          "Italian",
          "Italian",
          "Italian",
          "Italian",
          "Italian",
          "Italian",
          "Italian",
          "Italian",
          "Italian",
          "Italian",
          "Italian",
          "Dutch",
          "Dutch",
          "Dutch",
          "Dutch",
          "Dutch",
          "Dutch",
          "Dutch",
          "Dutch",
          "Dutch",
          "Dutch",
          "Dutch",
          "Dutch",
          "Dutch",
          "Dutch",
          "Dutch",
          "Dutch",
          "Dutch",
          "Dutch",
          "Dutch",
          "Dutch",
          "Dutch",
          "Dutch",
          "Dutch",
          "Dutch",
          "Dutch",
          "Dutch",
          "Dutch",
          "Dutch",
          "Dutch",
          "Dutch",
          "Dutch",
          "Dutch",
          "Dutch",
          "Dutch",
          "Dutch",
          "Dutch",
          "Dutch",
          "Dutch",
          "Dutch",
          "Dutch",
          "Dutch",
          "Dutch",
          "Dutch",
          "Dutch",
          "Dutch",
          "Dutch",
          "Dutch",
          "Dutch",
          "Dutch",
          "Dutch",
          "Dutch",
          "Dutch",
          "Dutch",
          "Dutch",
          "Dutch",
          "Dutch",
          "Dutch",
          "Dutch",
          "Dutch",
          "Dutch",
          "Dutch",
          "Dutch",
          "Dutch",
          "Dutch",
          "Dutch",
          "Dutch",
          "Zimbabwean",
          "Belgian",
          "Belgian",
          "Belgian",
          "Belgian",
          "Belgian",
          "Belgian",
          "Belgian",
          "Belgian",
          "Belgian",
          "Belgian",
          "Belgian",
          "Belgian",
          "Belgian",
          "Belgian",
          "Belgian",
          "Belgian",
          "Belgian",
          "Belgian",
          "Belgian",
          "Belgian",
          "Belgian",
          "Belgian",
          "Belgian",
          "Belgian",
          "Belgian",
          "Belgian",
          "Belgian",
          "Belgian",
          "Belgian",
          "Belgian",
          "Belgian",
          "Belgian",
          "Belgian",
          "Belgian",
          "Belgian",
          "Belgian",
          "Belgian",
          "Belgian",
          "Belgian",
          "Belgian",
          "Belgian",
          "Belgian",
          "Belgian",
          "Belgian",
          "Belgian",
          "Belgian",
          "Belgian",
          "Belgian",
          "Belgian",
          "Belgian",
          "Belgian",
          "Belgian",
          "Belgian",
          "Belgian",
          "Belgian",
          "Belgian",
          "Belgian",
          "British",
          "British",
          "British",
          "British",
          "British",
          "British",
          "British",
          "British",
          "British",
          "British",
          "British",
          "British",
          "British",
          "British",
          "British",
          "British",
          "British",
          "British",
          "British",
          "British",
          "British",
          "British",
          "British",
          "British",
          "British",
          "British",
          "British",
          "British",
          "British",
          "British",
          "British",
          "British",
          "British",
          "British",
          "British",
          "British",
          "British",
          "British",
          "British",
          "British",
          "British",
          "British",
          "British",
          "British",
          "British",
          "British",
          "British",
          "British",
          "British",
          "British",
          "British",
          "British",
          "British",
          "British",
          "British",
          "British",
          "British",
          "British",
          "British",
          "British",
          "British",
          "British",
          "British",
          "British",
          "British",
          "British",
          "British",
          "British",
          "British",
          "British",
          "British",
          "British",
          "British",
          "Finnish",
          "Finnish",
          "Finnish",
          "Finnish",
          "Finnish",
          "Finnish",
          "Finnish",
          "Finnish",
          "Finnish",
          "Finnish",
          "Finnish",
          "Finnish",
          "Finnish",
          "Finnish",
          "Finnish",
          "Finnish",
          "Finnish",
          "Finnish",
          "Finnish",
          "Finnish",
          "Finnish",
          "Finnish",
          "Finnish",
          "Finnish",
          "Finnish",
          "Finnish",
          "Finnish",
          "Finnish",
          "Finnish",
          "Finnish",
          "Finnish",
          "Finnish",
          "Finnish",
          "Finnish",
          "Finnish",
          "Finnish",
          "Finnish",
          "Austrian",
          "Austrian",
          "Austrian",
          "Austrian",
          "Austrian",
          "Austrian",
          "Austrian",
          "Austrian",
          "Austrian",
          "Austrian",
          "Austrian",
          "Austrian",
          "Austrian",
          "Austrian",
          "Austrian",
          "Austrian",
          "Austrian",
          "Austrian",
          "Austrian",
          "Austrian",
          "Austrian",
          "Austrian",
          "Austrian",
          "Austrian",
          "Austrian",
          "Austrian",
          "Austrian",
          "Austrian",
          "Austrian",
          "Austrian",
          "Austrian",
          "Austrian",
          "Austrian",
          "Austrian",
          "Austrian",
          "Austrian",
          "Austrian",
          "Austrian",
          "Austrian",
          "Austrian",
          "Austrian",
          "Austrian",
          "Austrian",
          "Austrian",
          "Austrian",
          "Austrian",
          "Austrian",
          "Austrian",
          "Austrian",
          "Austrian",
          "Austrian",
          "Austrian",
          "Austrian",
          "Austrian",
          "Austrian",
          "Austrian",
          "Austrian",
          "Austrian",
          "Austrian",
          "Austrian",
          "Austrian",
          "Austrian",
          "Estonian",
          "Iranian",
          "Bosnian",
          "Czech",
          "Czech",
          "Czech",
          "Czech",
          "Czech",
          "Czech",
          "Czech",
          "Czech",
          "Czech",
          "Czech",
          "Czech",
          "Czech",
          "Czech",
          "Czech",
          "Czech",
          "Czech",
          "Czech",
          "Czech",
          "Czech",
          "Czech",
          "Czech",
          "Czech",
          "Czech",
          "Czech",
          "Czech",
          "Czech",
          "Czech",
          "Czech",
          "Czech",
          "Czech",
          "Czech",
          "Czech",
          "Czech",
          "Czech",
          "Czech",
          "Czech",
          "Czech",
          "Russian",
          "Russian",
          "Russian",
          "Russian",
          "Russian",
          "Russian",
          "Russian",
          "Russian",
          "Russian",
          "Russian",
          "Russian",
          "Russian",
          "Russian",
          "Russian",
          "Russian",
          "Russian",
          "Russian",
          "Russian",
          "Russian",
          "Russian",
          "Russian",
          "Russian",
          "Russian",
          "Russian",
          "Russian",
          "Russian",
          "Russian",
          "Russian",
          "Russian",
          "Russian",
          "Russian",
          "Russian",
          "Russian",
          "Russian",
          "Russian",
          "Russian",
          "Russian",
          "Russian",
          "Russian",
          "Russian",
          "Russian",
          "Russian",
          "Russian",
          "Russian",
          "Russian",
          "Russian",
          "Russian",
          "Russian",
          "Russian",
          "Russian",
          "Russian",
          "Russian",
          "Russian",
          "Russian",
          "Russian",
          "Russian",
          "Russian",
          "Haitian",
          "Haitian",
          "Haitian",
          "Haitian",
          "Haitian",
          "Haitian",
          "Haitian",
          "Haitian",
          "Chilean",
          "Chilean",
          "Chilean",
          "Chilean",
          "Chilean",
          "Chilean",
          "Chilean",
          "Chilean",
          "Chilean",
          "Chilean",
          "Chilean",
          "Chilean",
          "Chilean",
          "Chilean",
          "Chilean",
          "Chilean",
          "Chilean",
          "Chilean",
          "Chilean",
          "Chilean",
          "Chilean",
          "Chilean",
          "Chilean",
          "Chilean",
          "Chilean",
          "Chilean",
          "Chilean",
          "Chilean",
          "Chilean",
          "Chilean",
          "Chilean",
          "Croatian",
          "Croatian",
          "Croatian",
          "Croatian",
          "Croatian",
          "Croatian",
          "Croatian",
          "Uruguayan",
          "Uruguayan",
          "Uruguayan",
          "Uruguayan",
          "Uruguayan",
          "Uruguayan",
          "Uruguayan",
          "Uruguayan",
          "Uruguayan",
          "Uruguayan",
          "Uruguayan",
          "Uruguayan",
          "Uruguayan",
          "Uruguayan",
          "Uruguayan",
          "Uruguayan",
          "Uruguayan",
          "Uruguayan",
          "Uruguayan",
          "Uruguayan",
          "Hungarian",
          "Hungarian",
          "Hungarian",
          "Hungarian",
          "Hungarian",
          "Hungarian",
          "Hungarian",
          "Hungarian",
          "Hungarian",
          "Hungarian",
          "Hungarian",
          "Hungarian",
          "Hungarian",
          "Hungarian",
          "Polish",
          "Polish",
          "Polish",
          "Polish",
          "Polish",
          "Polish",
          "Polish",
          "Polish",
          "Polish",
          "Polish",
          "Polish",
          "Polish",
          "Polish",
          "Polish",
          "Polish",
          "Polish",
          "Polish",
          "Polish",
          "Polish",
          "Polish",
          "Polish",
          "Polish",
          "Polish",
          "Polish",
          "Polish",
          "Polish",
          "Polish",
          "Polish",
          "Polish",
          "Polish",
          "Polish",
          "Polish",
          "Polish",
          "Polish",
          "Polish",
          "Polish",
          "Polish",
          "Polish",
          "Polish",
          "Polish",
          "Polish",
          "Polish",
          "Polish",
          "Polish",
          "Polish",
          "Colombian",
          "Colombian",
          "Colombian",
          "Colombian",
          "Colombian",
          "Colombian",
          "Colombian",
          "Colombian",
          "Colombian",
          "Colombian",
          "Colombian",
          "Colombian",
          "Colombian",
          "Colombian",
          "Colombian",
          "Turkish",
          "Turkish",
          "Turkish",
          "Turkish",
          "Turkish",
          "Turkish",
          "Turkish",
          "Sudanese",
          "Cuban",
          "Cuban",
          "Cuban",
          "Cuban",
          "Cuban",
          "Cuban",
          "Cuban",
          "Cuban",
          "Cuban",
          "Cuban",
          "Cuban",
          "Cuban",
          "Cuban",
          "Cuban",
          "Cuban",
          "Cuban",
          "Cuban",
          "Cuban",
          "Cuban",
          "Cuban",
          "Cuban",
          "Cuban",
          "Cuban",
          "Cuban",
          "Cuban",
          "Cuban",
          "Cuban",
          "Cuban",
          "Cuban",
          "Icelandic",
          "Icelandic",
          "Icelandic",
          "German",
          "German",
          "German",
          "German",
          "German",
          "German",
          "German",
          "German",
          "German",
          "German",
          "German",
          "German",
          "German",
          "German",
          "German",
          "German",
          "German",
          "German",
          "German",
          "German",
          "German",
          "German",
          "German",
          "German",
          "German",
          "German",
          "German",
          "German",
          "German",
          "German",
          "German",
          "German",
          "German",
          "German",
          "German",
          "German",
          "German",
          "German",
          "German",
          "German",
          "German",
          "German",
          "German",
          "German",
          "German",
          "German",
          "German",
          "German",
          "German",
          "German",
          "German",
          "German",
          "German",
          "German",
          "German",
          "German",
          "German",
          "German",
          "German",
          "German",
          "German",
          "German",
          "German",
          "German",
          "German",
          "German",
          "German",
          "German",
          "German",
          "German",
          "German",
          "German",
          "German",
          "German",
          "German",
          "German",
          "German",
          "German",
          "Norwegian",
          "Norwegian",
          "Norwegian",
          "Norwegian",
          "Norwegian",
          "Norwegian",
          "Norwegian",
          "Norwegian",
          "Norwegian",
          "Norwegian",
          "Norwegian",
          "Norwegian",
          "Norwegian",
          "Norwegian",
          "Norwegian",
          "Norwegian",
          "Norwegian",
          "Norwegian",
          "Norwegian",
          "Norwegian",
          "Norwegian",
          "Norwegian",
          "Norwegian",
          "Norwegian",
          "Norwegian",
          "Indian",
          "Indian",
          "Indian",
          "Indian",
          "Indian",
          "Indian",
          "Indian",
          "Indian",
          "Indian",
          "Slovenian",
          "Slovenian",
          "Slovenian",
          "Slovenian",
          "Slovenian",
          "Slovenian",
          "Slovenian",
          "Slovenian",
          "Ecuadorian",
          "Ecuadorian",
          "Luxembourgish",
          "Luxembourgish",
          "Luxembourgish",
          "Luxembourgish",
          "Peruvian",
          "Peruvian",
          "Peruvian",
          "Peruvian",
          "Peruvian",
          "Peruvian",
          "Peruvian",
          "Peruvian",
          "Peruvian",
          "Peruvian",
          "Peruvian",
          "Peruvian",
          "Romanian",
          "Romanian",
          "Romanian",
          "Romanian",
          "Romanian",
          "Romanian",
          "Romanian",
          "Romanian",
          "Romanian",
          "Romanian",
          "Romanian",
          "Romanian",
          "Romanian",
          "Romanian",
          "Nationality unknown",
          "Nationality unknown",
          "Nationality unknown",
          "Nationality unknown",
          "Nationality unknown",
          "Nationality unknown",
          "Nationality unknown",
          "Nationality unknown",
          "Nationality unknown",
          "Nationality unknown",
          "Nationality unknown",
          "Nationality unknown",
          "Nationality unknown",
          "Nationality unknown",
          "Nationality unknown",
          "Nationality unknown",
          "Nationality unknown",
          "Nationality unknown",
          "Nationality unknown",
          "Nationality unknown",
          "Nationality unknown",
          "Nationality unknown",
          "Nationality unknown",
          "Nationality unknown",
          "Nationality unknown",
          "Panamanian",
          "Panamanian",
          "Brazilian",
          "Brazilian",
          "Brazilian",
          "Brazilian",
          "Brazilian",
          "Brazilian",
          "Brazilian",
          "Brazilian",
          "Brazilian",
          "Brazilian",
          "Brazilian",
          "Brazilian",
          "Brazilian",
          "Brazilian",
          "Brazilian",
          "Brazilian",
          "Brazilian",
          "Brazilian",
          "Brazilian",
          "Brazilian",
          "Brazilian",
          "Brazilian",
          "Brazilian",
          "Brazilian",
          "Brazilian",
          "Brazilian",
          "Brazilian",
          "Brazilian",
          "Brazilian",
          "Brazilian",
          "Brazilian",
          "Brazilian",
          "Brazilian",
          "Brazilian",
          "Brazilian",
          "Brazilian",
          "South African",
          "South African",
          "South African",
          "South African",
          "South African",
          "South African",
          "missing",
          "missing",
          "missing",
          "missing",
          "missing",
          "missing",
          "missing",
          "missing",
          "missing",
          "missing",
          "missing",
          "missing",
          "missing",
          "missing",
          "missing",
          "missing",
          "missing",
          "missing",
          "missing",
          "missing",
          "Bolivian",
          "Bolivian",
          "Argentine",
          "Argentine",
          "Argentine",
          "Argentine",
          "Argentine",
          "Argentine",
          "Argentine",
          "Argentine",
          "Argentine",
          "Argentine",
          "Argentine",
          "Argentine",
          "Argentine",
          "Argentine",
          "Argentine",
          "Argentine",
          "Argentine",
          "Argentine",
          "Argentine",
          "Argentine",
          "Argentine",
          "Argentine",
          "Argentine",
          "Argentine",
          "Argentine",
          "Argentine",
          "Argentine",
          "Argentine",
          "Argentine",
          "Argentine",
          "Argentine",
          "Argentine",
          "Argentine",
          "Portuguese",
          "Portuguese",
          "Portuguese",
          "Israeli",
          "Israeli",
          "Israeli",
          "Israeli",
          "Israeli",
          "Israeli",
          "Israeli",
          "Israeli",
          "Israeli",
          "Israeli",
          "Israeli",
          "Israeli",
          "Israeli",
          "Israeli",
          "Israeli",
          "Israeli",
          "Israeli",
          "Israeli",
          "Israeli",
          "Israeli",
          "Israeli",
          "Israeli",
          "Israeli",
          "Israeli",
          "Israeli",
          "Israeli",
          "Swedish",
          "Swedish",
          "Swedish",
          "Swedish",
          "Swedish",
          "Swedish",
          "Swedish",
          "Swedish",
          "Swedish",
          "Swedish",
          "Swedish",
          "Swedish",
          "Swedish",
          "Swedish",
          "Swedish",
          "Swedish",
          "Swedish",
          "Swedish",
          "Swedish",
          "Swedish",
          "Swedish",
          "Swedish",
          "Swedish",
          "Swedish",
          "Swedish",
          "Swedish",
          "Swedish",
          "Swedish",
          "Swedish",
          "Swedish",
          "Swedish",
          "Swedish",
          "Swedish",
          "Swedish",
          "Swedish",
          "Swedish",
          "Swedish",
          "Swedish",
          "Swedish",
          "Swedish",
          "Swedish",
          "American",
          "American",
          "American",
          "American",
          "American",
          "American",
          "American",
          "American",
          "American",
          "American",
          "American",
          "American",
          "American",
          "American",
          "American",
          "American",
          "American",
          "American",
          "American",
          "American",
          "American",
          "American",
          "American",
          "American",
          "American",
          "American",
          "American",
          "American",
          "American",
          "American",
          "American",
          "American",
          "American",
          "American",
          "American",
          "American",
          "American",
          "American",
          "American",
          "American",
          "American",
          "American",
          "American",
          "American",
          "American",
          "American",
          "American",
          "American",
          "American",
          "American",
          "American",
          "American",
          "American",
          "American",
          "American",
          "American",
          "American",
          "American",
          "American",
          "American",
          "American",
          "American",
          "American",
          "American",
          "American",
          "American",
          "American",
          "American",
          "American",
          "American",
          "American",
          "American",
          "American",
          "American",
          "American",
          "American",
          "American",
          "American",
          "American",
          "American",
          "American",
          "Japanese",
          "Japanese",
          "Japanese",
          "Japanese",
          "Japanese",
          "Japanese",
          "Japanese",
          "Japanese",
          "Japanese",
          "Japanese",
          "Japanese",
          "Japanese",
          "Japanese",
          "Japanese",
          "Japanese",
          "Japanese",
          "Japanese",
          "Japanese",
          "Japanese",
          "Japanese",
          "Japanese",
          "Japanese",
          "Japanese",
          "Japanese",
          "Japanese",
          "Japanese",
          "Japanese",
          "Japanese",
          "Japanese",
          "Japanese",
          "Japanese",
          "Japanese",
          "Japanese",
          "Japanese",
          "Japanese",
          "Japanese",
          "Japanese",
          "Japanese",
          "Japanese",
          "Japanese",
          "Japanese",
          "Japanese",
          "Japanese",
          "Japanese",
          "Japanese",
          "Japanese",
          "Japanese",
          "Japanese",
          "Japanese",
          "Japanese",
          "Japanese",
          "Japanese",
          "Japanese",
          "Yugoslav",
          "Yugoslav",
          "Yugoslav",
          "Yugoslav",
          "Yugoslav",
          "Yugoslav",
          "Yugoslav",
          "Yugoslav",
          "Yugoslav",
          "Yugoslav",
          "Yugoslav",
          "Korean",
          "Korean",
          "Korean",
          "Korean",
          "Korean",
          "Korean",
          "Korean",
          "Greek",
          "Greek",
          "Greek",
          "Greek",
          "Greek",
          "Greek",
          "Greek",
          "Greek",
          "Greek",
          "Greek",
          "Greek",
          "Latvian",
          "Latvian",
          "Latvian",
          "Latvian",
          "Latvian",
          "Latvian",
          "Latvian",
          "Latvian",
          "Latvian",
          "Latvian",
          "Ukrainian",
          "Ukrainian",
          "Ukrainian",
          "Scottish",
          "Congolese",
          "Australian",
          "Australian",
          "Australian",
          "Australian",
          "Australian",
          "Australian",
          "Australian",
          "Australian",
          "Australian",
          "Australian",
          "Australian",
          "Australian",
          "Australian",
          "Australian",
          "Australian",
          "Australian",
          "Australian",
          "Australian",
          "Macedonian",
          "Irish",
          "Irish",
          "Irish",
          "Irish",
          "Irish",
          "Irish",
          "Irish",
          "Canadian",
          "Canadian",
          "Canadian",
          "Canadian",
          "Canadian",
          "Canadian",
          "Canadian",
          "Canadian",
          "Canadian",
          "Canadian",
          "Canadian",
          "Canadian",
          "Canadian",
          "Canadian",
          "Canadian",
          "Canadian",
          "Canadian",
          "Canadian",
          "Canadian",
          "Canadian",
          "Canadian",
          "Canadian",
          "Canadian",
          "Canadian",
          "Canadian",
          "Canadian",
          "Canadian",
          "Canadian",
          "Canadian",
          "Canadian",
          "Canadian",
          "Canadian",
          "Canadian",
          "Canadian",
          "Canadian",
          "Canadian",
          "Canadian",
          "Canadian",
          "Canadian",
          "Spanish",
          "Spanish",
          "Spanish",
          "Spanish",
          "Spanish",
          "Spanish",
          "Spanish",
          "Spanish",
          "Spanish",
          "Spanish",
          "Spanish",
          "Spanish",
          "Spanish",
          "Spanish",
          "Spanish",
          "Spanish",
          "Spanish",
          "Spanish",
          "Spanish",
          "Spanish",
          "Spanish",
          "Spanish",
          "Spanish",
          "Spanish",
          "Spanish",
          "Spanish",
          "Spanish",
          "Spanish",
          "Spanish",
          "Spanish",
          "Spanish",
          "Spanish",
          "Spanish",
          "Spanish",
          "Spanish",
          "Spanish",
          "Spanish",
          "Spanish",
          "Spanish",
          "Spanish",
          "Spanish",
          "Spanish",
          "Spanish",
          "Spanish",
          "Spanish",
          "Spanish",
          "Spanish",
          "Spanish",
          "Spanish",
          "Spanish",
          "Spanish",
          "Spanish",
          "Spanish",
          "Spanish",
          "Spanish",
          "Spanish",
          "Spanish",
          "Spanish",
          "Spanish",
          "Spanish",
          "Spanish",
          "Spanish",
          "Spanish",
          "Spanish",
          "Spanish",
          "Spanish",
          "Spanish",
          "Spanish",
          "Spanish",
          "Spanish",
          "Spanish",
          "Spanish",
          "Spanish",
          "Swiss",
          "Swiss",
          "Swiss",
          "Swiss",
          "Swiss",
          "Swiss",
          "Swiss",
          "Swiss",
          "Swiss",
          "Swiss",
          "Swiss",
          "Swiss",
          "Swiss",
          "Swiss",
          "Swiss",
          "Swiss",
          "Swiss",
          "Swiss",
          "Swiss",
          "Swiss",
          "Swiss",
          "Swiss",
          "Swiss",
          "Swiss",
          "Swiss",
          "Swiss",
          "Swiss",
          "Swiss",
          "Swiss",
          "Swiss",
          "Swiss",
          "Swiss",
          "Swiss",
          "Swiss",
          "Swiss",
          "Swiss",
          "Swiss",
          "Swiss",
          "Swiss",
          "Swiss",
          "Swiss",
          "Swiss",
          "Swiss",
          "Swiss",
          "Swiss",
          "Swiss",
          "Swiss",
          "Swiss",
          "Swiss",
          "Swiss",
          "Swiss",
          "Swiss",
          "Swiss",
          "Swiss",
          "Swiss",
          "Swiss",
          "Swiss",
          "Swiss",
          "Swiss",
          "Swiss",
          "Swiss",
          "Swiss",
          "Swiss",
          "Swiss",
          "Swiss",
          "Swiss",
          "Swiss",
          "Swiss",
          "Swiss",
          "Swiss",
          "Mexican",
          "Mexican",
          "Mexican",
          "Mexican",
          "Mexican",
          "Mexican",
          "Mexican",
          "Mexican",
          "Mexican",
          "Mexican",
          "Mexican",
          "Mexican",
          "Mexican",
          "Mexican",
          "Mexican",
          "Mexican",
          "Mexican",
          "Mexican",
          "Mexican",
          "Mexican",
          "Mexican",
          "Mexican",
          "Mexican",
          "Mexican",
          "Mexican",
          "Mexican",
          "Mexican",
          "Mexican",
          "Mexican",
          "Mexican",
          "Mexican",
          "Mexican",
          "Mexican",
          "Mexican",
          "Mexican",
          "Mexican",
          "Mexican",
          "Mexican",
          "Mexican",
          "Mexican",
          "Mexican",
          "Mexican",
          "Mexican",
          "Mexican",
          "Mexican",
          "Mexican",
          "Mexican",
          "Mexican",
          "Mexican",
          "Mexican",
          "Mexican",
          "Mexican",
          "Mexican",
          "Mexican",
          "Mexican",
          "Mexican",
          "Venezuelan",
          "Venezuelan",
          "Venezuelan",
          "Venezuelan",
          "Venezuelan",
          "Venezuelan",
          "Venezuelan",
          "Venezuelan",
          "Venezuelan",
          "Venezuelan",
          "Venezuelan",
          "Venezuelan",
          "Venezuelan",
          "Venezuelan",
          "Venezuelan",
          "Venezuelan",
          "Venezuelan",
          "French",
          "French",
          "French",
          "French",
          "French",
          "French",
          "French",
          "French",
          "French",
          "French",
          "French",
          "French",
          "French",
          "French",
          "French",
          "French",
          "French",
          "French",
          "French",
          "French",
          "French",
          "French",
          "French",
          "French",
          "French",
          "French",
          "French",
          "French",
          "French",
          "French",
          "French",
          "French",
          "French",
          "French",
          "French",
          "French",
          "French",
          "French",
          "French",
          "French",
          "French",
          "French",
          "French",
          "French",
          "French",
          "French",
          "French",
          "French",
          "French",
          "French",
          "French",
          "French",
          "French",
          "French",
          "French",
          "French",
          "French",
          "French",
          "French",
          "French",
          "French",
          "French",
          "French",
          "French",
          "French",
          "French",
          "French",
          "French",
          "French",
          "French",
          "French",
          "French",
          "French",
          "French",
          "French",
          "French",
          "French",
          "French",
          "French",
          "French",
          "Costa Rican",
          "Lithuanian",
          "Nicaraguan",
          "Malian",
          "Malian",
          "Danish",
          "Danish",
          "Danish",
          "Danish",
          "Danish",
          "Danish",
          "Danish",
          "Danish",
          "Danish",
          "Danish",
          "Danish",
          "Danish",
          "Danish",
          "Danish",
          "Danish",
          "Danish",
          "Danish",
          "Danish",
          "Danish",
          "Danish",
          "Danish",
          "Danish",
          "Danish",
          "Danish",
          "Danish",
          "Danish",
          "Danish",
          "Danish",
          "Danish",
          "Danish",
          "Danish",
          "Danish",
          "Danish",
          "Danish",
          "Danish",
          "Danish",
          "Danish",
          "Danish",
          "Danish",
          "Danish",
          "Danish",
          "Danish",
          "Danish",
          "Danish",
          "Danish",
          "Danish",
          "Danish",
          "Danish",
          "Canadian Inuit",
          "Guatemalan",
          "Guatemalan",
          "Guatemalan",
          "Guatemalan",
          "Guatemalan",
          "Guatemalan",
          "Guatemalan",
          "Guatemalan",
          "Guatemalan",
          "Guatemalan"
         ],
         "xaxis": "x",
         "y": [
          1932,
          1934,
          1935,
          1936,
          1938,
          1939,
          1940,
          1941,
          1943,
          1945,
          1946,
          1947,
          1948,
          1949,
          1950,
          1951,
          1952,
          1953,
          1954,
          1955,
          1956,
          1957,
          1958,
          1959,
          1960,
          1961,
          1962,
          1963,
          1964,
          1965,
          1966,
          1967,
          1968,
          1969,
          1970,
          1971,
          1972,
          1973,
          1974,
          1975,
          1976,
          1977,
          1978,
          1979,
          1980,
          1981,
          1982,
          1983,
          1984,
          1985,
          1986,
          1987,
          1988,
          1989,
          1990,
          1992,
          1993,
          1994,
          1995,
          1996,
          1997,
          1998,
          1999,
          2000,
          2002,
          2004,
          2006,
          2008,
          2010,
          2012,
          2016,
          1931,
          1937,
          1938,
          1939,
          1940,
          1941,
          1942,
          1943,
          1944,
          1946,
          1947,
          1948,
          1949,
          1950,
          1951,
          1952,
          1953,
          1954,
          1955,
          1956,
          1957,
          1958,
          1959,
          1960,
          1961,
          1962,
          1963,
          1964,
          1966,
          1967,
          1968,
          1969,
          1972,
          1973,
          1974,
          1975,
          1976,
          1977,
          1978,
          1979,
          1980,
          1981,
          1982,
          1983,
          1984,
          1985,
          1986,
          1987,
          1988,
          1989,
          1990,
          1991,
          1992,
          1993,
          1994,
          1995,
          1996,
          1998,
          1999,
          2000,
          2006,
          2008,
          2010,
          2014,
          2016,
          2018,
          1963,
          1937,
          1939,
          1940,
          1941,
          1942,
          1943,
          1944,
          1946,
          1949,
          1950,
          1951,
          1952,
          1953,
          1954,
          1955,
          1956,
          1958,
          1959,
          1960,
          1961,
          1962,
          1963,
          1964,
          1966,
          1967,
          1968,
          1969,
          1970,
          1972,
          1973,
          1976,
          1977,
          1978,
          1979,
          1980,
          1981,
          1982,
          1983,
          1984,
          1985,
          1986,
          1987,
          1988,
          1989,
          1990,
          1991,
          1992,
          1994,
          1995,
          1998,
          1999,
          2002,
          2004,
          2008,
          2012,
          2014,
          2016,
          1936,
          1937,
          1938,
          1939,
          1940,
          1941,
          1942,
          1943,
          1944,
          1945,
          1946,
          1947,
          1948,
          1949,
          1950,
          1951,
          1952,
          1953,
          1954,
          1955,
          1956,
          1957,
          1958,
          1959,
          1960,
          1961,
          1962,
          1963,
          1964,
          1965,
          1966,
          1967,
          1968,
          1969,
          1970,
          1971,
          1972,
          1973,
          1974,
          1975,
          1976,
          1977,
          1978,
          1979,
          1980,
          1981,
          1982,
          1983,
          1984,
          1985,
          1986,
          1987,
          1988,
          1989,
          1990,
          1991,
          1992,
          1993,
          1994,
          1996,
          1997,
          1998,
          1999,
          2000,
          2002,
          2004,
          2006,
          2008,
          2010,
          2012,
          2014,
          2016,
          2018,
          1942,
          1943,
          1946,
          1948,
          1949,
          1950,
          1953,
          1954,
          1955,
          1956,
          1957,
          1958,
          1960,
          1962,
          1964,
          1965,
          1966,
          1967,
          1969,
          1977,
          1981,
          1983,
          1984,
          1986,
          1987,
          1990,
          1991,
          1992,
          1994,
          1995,
          1997,
          1998,
          1999,
          2000,
          2002,
          2004,
          2012,
          1929,
          1935,
          1939,
          1940,
          1942,
          1943,
          1945,
          1946,
          1947,
          1948,
          1949,
          1950,
          1951,
          1952,
          1954,
          1955,
          1956,
          1957,
          1958,
          1959,
          1960,
          1961,
          1962,
          1963,
          1964,
          1965,
          1966,
          1967,
          1968,
          1969,
          1970,
          1971,
          1973,
          1974,
          1977,
          1978,
          1979,
          1980,
          1981,
          1982,
          1983,
          1984,
          1985,
          1986,
          1987,
          1988,
          1990,
          1991,
          1992,
          1993,
          1994,
          1996,
          1997,
          1998,
          1999,
          2000,
          2004,
          2006,
          2008,
          2010,
          2012,
          2014,
          1985,
          1962,
          2018,
          1942,
          1951,
          1953,
          1956,
          1957,
          1958,
          1963,
          1964,
          1965,
          1966,
          1967,
          1968,
          1969,
          1970,
          1971,
          1973,
          1975,
          1976,
          1977,
          1978,
          1979,
          1981,
          1982,
          1983,
          1984,
          1985,
          1986,
          1987,
          1988,
          1989,
          1999,
          2000,
          2006,
          2008,
          2010,
          2014,
          2016,
          1932,
          1935,
          1936,
          1937,
          1938,
          1939,
          1940,
          1941,
          1943,
          1944,
          1947,
          1949,
          1950,
          1953,
          1955,
          1956,
          1958,
          1959,
          1961,
          1962,
          1963,
          1964,
          1965,
          1967,
          1968,
          1969,
          1970,
          1971,
          1972,
          1974,
          1975,
          1976,
          1977,
          1978,
          1979,
          1980,
          1981,
          1982,
          1983,
          1984,
          1985,
          1986,
          1987,
          1988,
          1991,
          1992,
          1994,
          1995,
          1996,
          1997,
          1998,
          1999,
          2000,
          2002,
          2006,
          2010,
          2018,
          1944,
          1947,
          1948,
          1951,
          1958,
          1962,
          1987,
          1998,
          1937,
          1942,
          1943,
          1944,
          1947,
          1949,
          1950,
          1951,
          1952,
          1953,
          1954,
          1956,
          1963,
          1964,
          1965,
          1966,
          1967,
          1968,
          1969,
          1970,
          1974,
          1977,
          1978,
          1979,
          1980,
          1982,
          1984,
          1987,
          1998,
          2014,
          2016,
          1963,
          1982,
          2006,
          2012,
          2014,
          2016,
          2018,
          1942,
          1943,
          1945,
          1956,
          1958,
          1961,
          1962,
          1964,
          1967,
          1968,
          1969,
          1974,
          1977,
          1981,
          2004,
          2008,
          2010,
          2012,
          2014,
          2016,
          1943,
          1949,
          1952,
          1953,
          1956,
          1967,
          1970,
          1981,
          1982,
          1983,
          1985,
          2006,
          2010,
          2014,
          1939,
          1940,
          1947,
          1948,
          1949,
          1951,
          1953,
          1955,
          1956,
          1960,
          1961,
          1962,
          1963,
          1964,
          1965,
          1967,
          1968,
          1969,
          1970,
          1971,
          1972,
          1973,
          1976,
          1977,
          1978,
          1979,
          1980,
          1981,
          1982,
          1983,
          1984,
          1985,
          1986,
          1987,
          1989,
          1990,
          1994,
          1998,
          1999,
          2000,
          2006,
          2008,
          2010,
          2012,
          2014,
          1942,
          1954,
          1956,
          1961,
          1963,
          1964,
          1965,
          1966,
          1967,
          1968,
          1970,
          1973,
          1974,
          1976,
          2014,
          1958,
          1959,
          1961,
          1962,
          1974,
          1975,
          1979,
          1965,
          1939,
          1942,
          1944,
          1945,
          1947,
          1950,
          1952,
          1954,
          1956,
          1958,
          1959,
          1960,
          1964,
          1965,
          1966,
          1967,
          1968,
          1970,
          1971,
          1973,
          1974,
          1977,
          1978,
          1979,
          1980,
          1987,
          2012,
          2014,
          2016,
          1961,
          1964,
          1992,
          1929,
          1932,
          1934,
          1935,
          1936,
          1937,
          1938,
          1939,
          1940,
          1941,
          1942,
          1943,
          1944,
          1945,
          1946,
          1947,
          1948,
          1949,
          1950,
          1951,
          1952,
          1953,
          1954,
          1955,
          1956,
          1957,
          1958,
          1959,
          1960,
          1961,
          1962,
          1963,
          1964,
          1965,
          1966,
          1967,
          1968,
          1969,
          1970,
          1971,
          1972,
          1973,
          1974,
          1975,
          1976,
          1977,
          1978,
          1979,
          1980,
          1981,
          1982,
          1983,
          1984,
          1985,
          1986,
          1987,
          1988,
          1989,
          1990,
          1991,
          1992,
          1993,
          1994,
          1995,
          1996,
          1997,
          1998,
          1999,
          2000,
          2002,
          2004,
          2006,
          2008,
          2010,
          2012,
          2014,
          2016,
          2018,
          1935,
          1940,
          1942,
          1949,
          1950,
          1951,
          1953,
          1954,
          1955,
          1956,
          1957,
          1958,
          1959,
          1960,
          1968,
          1969,
          1972,
          1974,
          1979,
          1983,
          1985,
          1993,
          1998,
          2002,
          2008,
          1963,
          1964,
          1965,
          1966,
          1967,
          1969,
          1973,
          1983,
          2018,
          1952,
          1953,
          1954,
          1958,
          1964,
          1967,
          2010,
          2018,
          1942,
          1943,
          1984,
          1986,
          1996,
          2000,
          1942,
          1952,
          1965,
          1966,
          1968,
          1969,
          1979,
          1982,
          1987,
          1992,
          2012,
          2014,
          1947,
          1949,
          1961,
          1964,
          1967,
          1968,
          1969,
          1970,
          1975,
          1977,
          1980,
          1986,
          2010,
          2012,
          1936,
          1937,
          1941,
          1945,
          1947,
          1952,
          1953,
          1954,
          1955,
          1956,
          1958,
          1960,
          1964,
          1965,
          1967,
          1968,
          1969,
          1970,
          1971,
          1972,
          1974,
          1977,
          1983,
          1989,
          1999,
          1963,
          1964,
          1939,
          1941,
          1942,
          1943,
          1948,
          1949,
          1951,
          1954,
          1955,
          1956,
          1957,
          1958,
          1959,
          1962,
          1964,
          1965,
          1966,
          1967,
          1968,
          1969,
          1970,
          1974,
          1991,
          1993,
          1995,
          1997,
          1998,
          1999,
          2000,
          2004,
          2006,
          2008,
          2010,
          2012,
          2014,
          2016,
          1967,
          1978,
          1998,
          1999,
          2002,
          2010,
          1937,
          1942,
          1943,
          1944,
          1948,
          1956,
          1959,
          1961,
          1963,
          1967,
          1969,
          1970,
          1983,
          1994,
          1995,
          2002,
          2008,
          2012,
          2014,
          2016,
          1930,
          1941,
          1942,
          1943,
          1954,
          1956,
          1957,
          1958,
          1962,
          1963,
          1964,
          1965,
          1966,
          1967,
          1968,
          1969,
          1970,
          1972,
          1973,
          1974,
          1979,
          1981,
          1990,
          1991,
          1992,
          1994,
          1997,
          2000,
          2004,
          2006,
          2008,
          2010,
          2012,
          2014,
          2016,
          1963,
          1967,
          2012,
          1937,
          1940,
          1942,
          1949,
          1952,
          1953,
          1954,
          1955,
          1958,
          1964,
          1965,
          1966,
          1967,
          1970,
          1972,
          1973,
          1974,
          1975,
          1976,
          1977,
          1978,
          1979,
          1981,
          1987,
          1990,
          1998,
          1934,
          1941,
          1944,
          1948,
          1949,
          1951,
          1953,
          1954,
          1955,
          1956,
          1958,
          1959,
          1960,
          1961,
          1962,
          1964,
          1965,
          1966,
          1967,
          1968,
          1969,
          1971,
          1974,
          1976,
          1978,
          1980,
          1983,
          1984,
          1985,
          1987,
          1988,
          1990,
          1992,
          1993,
          1996,
          2000,
          2004,
          2006,
          2008,
          2012,
          2016,
          1929,
          1930,
          1931,
          1932,
          1933,
          1934,
          1935,
          1936,
          1937,
          1938,
          1939,
          1940,
          1941,
          1942,
          1943,
          1944,
          1945,
          1946,
          1947,
          1948,
          1949,
          1950,
          1951,
          1952,
          1953,
          1954,
          1955,
          1956,
          1957,
          1958,
          1959,
          1960,
          1961,
          1962,
          1963,
          1964,
          1965,
          1966,
          1967,
          1968,
          1969,
          1970,
          1971,
          1972,
          1973,
          1974,
          1975,
          1976,
          1977,
          1978,
          1979,
          1980,
          1981,
          1982,
          1983,
          1984,
          1985,
          1986,
          1987,
          1988,
          1989,
          1990,
          1991,
          1992,
          1993,
          1994,
          1995,
          1996,
          1997,
          1998,
          1999,
          2000,
          2002,
          2004,
          2006,
          2008,
          2010,
          2012,
          2014,
          2016,
          2018,
          1940,
          1943,
          1949,
          1952,
          1954,
          1955,
          1956,
          1957,
          1958,
          1959,
          1960,
          1961,
          1962,
          1963,
          1964,
          1965,
          1966,
          1967,
          1968,
          1969,
          1970,
          1971,
          1972,
          1973,
          1974,
          1975,
          1976,
          1977,
          1978,
          1979,
          1980,
          1981,
          1982,
          1983,
          1984,
          1985,
          1986,
          1987,
          1989,
          1990,
          1991,
          1992,
          1994,
          1996,
          1998,
          1999,
          2000,
          2008,
          2010,
          2012,
          2014,
          2016,
          2018,
          1954,
          1957,
          1964,
          1965,
          1966,
          1967,
          1970,
          1971,
          1978,
          2002,
          2016,
          1956,
          1958,
          1960,
          1973,
          1975,
          1976,
          2010,
          1945,
          1955,
          1964,
          1965,
          1970,
          1974,
          1975,
          1979,
          1982,
          1984,
          1988,
          1937,
          1968,
          1977,
          1979,
          1983,
          1985,
          1992,
          1997,
          1999,
          2002,
          1964,
          1969,
          1972,
          1948,
          1982,
          1941,
          1955,
          1958,
          1960,
          1964,
          1966,
          1967,
          1969,
          1972,
          1973,
          1975,
          1977,
          1978,
          1980,
          1983,
          1987,
          2002,
          2014,
          2018,
          1956,
          1958,
          1961,
          1964,
          1967,
          1971,
          1977,
          1941,
          1953,
          1954,
          1955,
          1956,
          1957,
          1959,
          1960,
          1961,
          1962,
          1963,
          1964,
          1965,
          1966,
          1967,
          1968,
          1969,
          1970,
          1971,
          1972,
          1973,
          1976,
          1977,
          1980,
          1982,
          1983,
          1984,
          1987,
          1988,
          1992,
          1994,
          1995,
          1999,
          2006,
          2008,
          2012,
          2014,
          2016,
          2018,
          1930,
          1934,
          1935,
          1936,
          1937,
          1938,
          1939,
          1940,
          1941,
          1942,
          1943,
          1944,
          1945,
          1947,
          1948,
          1949,
          1950,
          1951,
          1952,
          1953,
          1954,
          1955,
          1956,
          1957,
          1958,
          1959,
          1960,
          1961,
          1962,
          1963,
          1964,
          1965,
          1966,
          1967,
          1968,
          1969,
          1970,
          1971,
          1972,
          1973,
          1974,
          1975,
          1976,
          1977,
          1978,
          1979,
          1980,
          1981,
          1982,
          1983,
          1984,
          1985,
          1986,
          1987,
          1988,
          1990,
          1991,
          1992,
          1993,
          1994,
          1995,
          1996,
          1997,
          1998,
          1999,
          2000,
          2002,
          2004,
          2006,
          2008,
          2010,
          2012,
          2016,
          1930,
          1936,
          1937,
          1938,
          1939,
          1942,
          1943,
          1944,
          1945,
          1947,
          1948,
          1949,
          1950,
          1951,
          1952,
          1953,
          1954,
          1955,
          1956,
          1957,
          1958,
          1959,
          1960,
          1961,
          1962,
          1963,
          1964,
          1965,
          1966,
          1967,
          1968,
          1970,
          1971,
          1973,
          1974,
          1975,
          1976,
          1977,
          1978,
          1979,
          1980,
          1981,
          1982,
          1983,
          1984,
          1985,
          1986,
          1987,
          1988,
          1989,
          1990,
          1991,
          1992,
          1993,
          1994,
          1995,
          1996,
          1997,
          1998,
          1999,
          2000,
          2002,
          2004,
          2006,
          2008,
          2010,
          2012,
          2014,
          2016,
          2018,
          1935,
          1936,
          1937,
          1938,
          1939,
          1940,
          1941,
          1942,
          1943,
          1944,
          1945,
          1946,
          1947,
          1949,
          1950,
          1951,
          1952,
          1953,
          1954,
          1955,
          1956,
          1957,
          1958,
          1961,
          1962,
          1963,
          1964,
          1965,
          1967,
          1968,
          1969,
          1970,
          1971,
          1972,
          1973,
          1974,
          1975,
          1977,
          1978,
          1979,
          1980,
          1983,
          1985,
          1986,
          1987,
          1988,
          1992,
          1993,
          1995,
          1997,
          1998,
          2004,
          2008,
          2010,
          2012,
          2014,
          1956,
          1960,
          1965,
          1967,
          1968,
          1969,
          1970,
          1972,
          1973,
          1974,
          1982,
          1983,
          2004,
          2010,
          2014,
          2016,
          2018,
          1930,
          1931,
          1932,
          1933,
          1934,
          1935,
          1936,
          1937,
          1938,
          1939,
          1940,
          1941,
          1942,
          1943,
          1944,
          1945,
          1946,
          1947,
          1948,
          1949,
          1950,
          1951,
          1952,
          1953,
          1954,
          1955,
          1956,
          1957,
          1958,
          1959,
          1960,
          1961,
          1962,
          1963,
          1964,
          1965,
          1966,
          1967,
          1968,
          1969,
          1970,
          1971,
          1972,
          1973,
          1974,
          1975,
          1976,
          1977,
          1978,
          1979,
          1980,
          1981,
          1982,
          1983,
          1984,
          1985,
          1986,
          1987,
          1988,
          1989,
          1990,
          1991,
          1992,
          1993,
          1994,
          1995,
          1996,
          1997,
          1998,
          1999,
          2000,
          2002,
          2004,
          2006,
          2008,
          2010,
          2012,
          2014,
          2016,
          2018,
          1943,
          2008,
          1942,
          1997,
          2018,
          1947,
          1948,
          1950,
          1953,
          1954,
          1955,
          1956,
          1957,
          1958,
          1959,
          1960,
          1961,
          1962,
          1963,
          1964,
          1965,
          1966,
          1967,
          1968,
          1969,
          1970,
          1972,
          1973,
          1974,
          1976,
          1977,
          1978,
          1979,
          1980,
          1982,
          1983,
          1984,
          1986,
          1988,
          1991,
          1992,
          1995,
          1996,
          1997,
          1999,
          2000,
          2004,
          2006,
          2008,
          2010,
          2014,
          2016,
          2018,
          1960,
          1942,
          1943,
          1949,
          1955,
          1957,
          1959,
          1961,
          1964,
          1966,
          1970
         ],
         "yaxis": "y"
        }
       ],
       "layout": {
        "height": 700,
        "legend": {
         "itemsizing": "constant",
         "title": {
          "text": "Gender"
         },
         "tracegroupgap": 0
        },
        "paper_bgcolor": "rgb(255, 255, 255)",
        "plot_bgcolor": "rgb(243, 243, 243)",
        "template": {
         "data": {
          "bar": [
           {
            "error_x": {
             "color": "#2a3f5f"
            },
            "error_y": {
             "color": "#2a3f5f"
            },
            "marker": {
             "line": {
              "color": "#E5ECF6",
              "width": 0.5
             },
             "pattern": {
              "fillmode": "overlay",
              "size": 10,
              "solidity": 0.2
             }
            },
            "type": "bar"
           }
          ],
          "barpolar": [
           {
            "marker": {
             "line": {
              "color": "#E5ECF6",
              "width": 0.5
             },
             "pattern": {
              "fillmode": "overlay",
              "size": 10,
              "solidity": 0.2
             }
            },
            "type": "barpolar"
           }
          ],
          "carpet": [
           {
            "aaxis": {
             "endlinecolor": "#2a3f5f",
             "gridcolor": "white",
             "linecolor": "white",
             "minorgridcolor": "white",
             "startlinecolor": "#2a3f5f"
            },
            "baxis": {
             "endlinecolor": "#2a3f5f",
             "gridcolor": "white",
             "linecolor": "white",
             "minorgridcolor": "white",
             "startlinecolor": "#2a3f5f"
            },
            "type": "carpet"
           }
          ],
          "choropleth": [
           {
            "colorbar": {
             "outlinewidth": 0,
             "ticks": ""
            },
            "type": "choropleth"
           }
          ],
          "contour": [
           {
            "colorbar": {
             "outlinewidth": 0,
             "ticks": ""
            },
            "colorscale": [
             [
              0,
              "#0d0887"
             ],
             [
              0.1111111111111111,
              "#46039f"
             ],
             [
              0.2222222222222222,
              "#7201a8"
             ],
             [
              0.3333333333333333,
              "#9c179e"
             ],
             [
              0.4444444444444444,
              "#bd3786"
             ],
             [
              0.5555555555555556,
              "#d8576b"
             ],
             [
              0.6666666666666666,
              "#ed7953"
             ],
             [
              0.7777777777777778,
              "#fb9f3a"
             ],
             [
              0.8888888888888888,
              "#fdca26"
             ],
             [
              1,
              "#f0f921"
             ]
            ],
            "type": "contour"
           }
          ],
          "contourcarpet": [
           {
            "colorbar": {
             "outlinewidth": 0,
             "ticks": ""
            },
            "type": "contourcarpet"
           }
          ],
          "heatmap": [
           {
            "colorbar": {
             "outlinewidth": 0,
             "ticks": ""
            },
            "colorscale": [
             [
              0,
              "#0d0887"
             ],
             [
              0.1111111111111111,
              "#46039f"
             ],
             [
              0.2222222222222222,
              "#7201a8"
             ],
             [
              0.3333333333333333,
              "#9c179e"
             ],
             [
              0.4444444444444444,
              "#bd3786"
             ],
             [
              0.5555555555555556,
              "#d8576b"
             ],
             [
              0.6666666666666666,
              "#ed7953"
             ],
             [
              0.7777777777777778,
              "#fb9f3a"
             ],
             [
              0.8888888888888888,
              "#fdca26"
             ],
             [
              1,
              "#f0f921"
             ]
            ],
            "type": "heatmap"
           }
          ],
          "heatmapgl": [
           {
            "colorbar": {
             "outlinewidth": 0,
             "ticks": ""
            },
            "colorscale": [
             [
              0,
              "#0d0887"
             ],
             [
              0.1111111111111111,
              "#46039f"
             ],
             [
              0.2222222222222222,
              "#7201a8"
             ],
             [
              0.3333333333333333,
              "#9c179e"
             ],
             [
              0.4444444444444444,
              "#bd3786"
             ],
             [
              0.5555555555555556,
              "#d8576b"
             ],
             [
              0.6666666666666666,
              "#ed7953"
             ],
             [
              0.7777777777777778,
              "#fb9f3a"
             ],
             [
              0.8888888888888888,
              "#fdca26"
             ],
             [
              1,
              "#f0f921"
             ]
            ],
            "type": "heatmapgl"
           }
          ],
          "histogram": [
           {
            "marker": {
             "pattern": {
              "fillmode": "overlay",
              "size": 10,
              "solidity": 0.2
             }
            },
            "type": "histogram"
           }
          ],
          "histogram2d": [
           {
            "colorbar": {
             "outlinewidth": 0,
             "ticks": ""
            },
            "colorscale": [
             [
              0,
              "#0d0887"
             ],
             [
              0.1111111111111111,
              "#46039f"
             ],
             [
              0.2222222222222222,
              "#7201a8"
             ],
             [
              0.3333333333333333,
              "#9c179e"
             ],
             [
              0.4444444444444444,
              "#bd3786"
             ],
             [
              0.5555555555555556,
              "#d8576b"
             ],
             [
              0.6666666666666666,
              "#ed7953"
             ],
             [
              0.7777777777777778,
              "#fb9f3a"
             ],
             [
              0.8888888888888888,
              "#fdca26"
             ],
             [
              1,
              "#f0f921"
             ]
            ],
            "type": "histogram2d"
           }
          ],
          "histogram2dcontour": [
           {
            "colorbar": {
             "outlinewidth": 0,
             "ticks": ""
            },
            "colorscale": [
             [
              0,
              "#0d0887"
             ],
             [
              0.1111111111111111,
              "#46039f"
             ],
             [
              0.2222222222222222,
              "#7201a8"
             ],
             [
              0.3333333333333333,
              "#9c179e"
             ],
             [
              0.4444444444444444,
              "#bd3786"
             ],
             [
              0.5555555555555556,
              "#d8576b"
             ],
             [
              0.6666666666666666,
              "#ed7953"
             ],
             [
              0.7777777777777778,
              "#fb9f3a"
             ],
             [
              0.8888888888888888,
              "#fdca26"
             ],
             [
              1,
              "#f0f921"
             ]
            ],
            "type": "histogram2dcontour"
           }
          ],
          "mesh3d": [
           {
            "colorbar": {
             "outlinewidth": 0,
             "ticks": ""
            },
            "type": "mesh3d"
           }
          ],
          "parcoords": [
           {
            "line": {
             "colorbar": {
              "outlinewidth": 0,
              "ticks": ""
             }
            },
            "type": "parcoords"
           }
          ],
          "pie": [
           {
            "automargin": true,
            "type": "pie"
           }
          ],
          "scatter": [
           {
            "fillpattern": {
             "fillmode": "overlay",
             "size": 10,
             "solidity": 0.2
            },
            "type": "scatter"
           }
          ],
          "scatter3d": [
           {
            "line": {
             "colorbar": {
              "outlinewidth": 0,
              "ticks": ""
             }
            },
            "marker": {
             "colorbar": {
              "outlinewidth": 0,
              "ticks": ""
             }
            },
            "type": "scatter3d"
           }
          ],
          "scattercarpet": [
           {
            "marker": {
             "colorbar": {
              "outlinewidth": 0,
              "ticks": ""
             }
            },
            "type": "scattercarpet"
           }
          ],
          "scattergeo": [
           {
            "marker": {
             "colorbar": {
              "outlinewidth": 0,
              "ticks": ""
             }
            },
            "type": "scattergeo"
           }
          ],
          "scattergl": [
           {
            "marker": {
             "colorbar": {
              "outlinewidth": 0,
              "ticks": ""
             }
            },
            "type": "scattergl"
           }
          ],
          "scattermapbox": [
           {
            "marker": {
             "colorbar": {
              "outlinewidth": 0,
              "ticks": ""
             }
            },
            "type": "scattermapbox"
           }
          ],
          "scatterpolar": [
           {
            "marker": {
             "colorbar": {
              "outlinewidth": 0,
              "ticks": ""
             }
            },
            "type": "scatterpolar"
           }
          ],
          "scatterpolargl": [
           {
            "marker": {
             "colorbar": {
              "outlinewidth": 0,
              "ticks": ""
             }
            },
            "type": "scatterpolargl"
           }
          ],
          "scatterternary": [
           {
            "marker": {
             "colorbar": {
              "outlinewidth": 0,
              "ticks": ""
             }
            },
            "type": "scatterternary"
           }
          ],
          "surface": [
           {
            "colorbar": {
             "outlinewidth": 0,
             "ticks": ""
            },
            "colorscale": [
             [
              0,
              "#0d0887"
             ],
             [
              0.1111111111111111,
              "#46039f"
             ],
             [
              0.2222222222222222,
              "#7201a8"
             ],
             [
              0.3333333333333333,
              "#9c179e"
             ],
             [
              0.4444444444444444,
              "#bd3786"
             ],
             [
              0.5555555555555556,
              "#d8576b"
             ],
             [
              0.6666666666666666,
              "#ed7953"
             ],
             [
              0.7777777777777778,
              "#fb9f3a"
             ],
             [
              0.8888888888888888,
              "#fdca26"
             ],
             [
              1,
              "#f0f921"
             ]
            ],
            "type": "surface"
           }
          ],
          "table": [
           {
            "cells": {
             "fill": {
              "color": "#EBF0F8"
             },
             "line": {
              "color": "white"
             }
            },
            "header": {
             "fill": {
              "color": "#C8D4E3"
             },
             "line": {
              "color": "white"
             }
            },
            "type": "table"
           }
          ]
         },
         "layout": {
          "annotationdefaults": {
           "arrowcolor": "#2a3f5f",
           "arrowhead": 0,
           "arrowwidth": 1
          },
          "autotypenumbers": "strict",
          "coloraxis": {
           "colorbar": {
            "outlinewidth": 0,
            "ticks": ""
           }
          },
          "colorscale": {
           "diverging": [
            [
             0,
             "#8e0152"
            ],
            [
             0.1,
             "#c51b7d"
            ],
            [
             0.2,
             "#de77ae"
            ],
            [
             0.3,
             "#f1b6da"
            ],
            [
             0.4,
             "#fde0ef"
            ],
            [
             0.5,
             "#f7f7f7"
            ],
            [
             0.6,
             "#e6f5d0"
            ],
            [
             0.7,
             "#b8e186"
            ],
            [
             0.8,
             "#7fbc41"
            ],
            [
             0.9,
             "#4d9221"
            ],
            [
             1,
             "#276419"
            ]
           ],
           "sequential": [
            [
             0,
             "#0d0887"
            ],
            [
             0.1111111111111111,
             "#46039f"
            ],
            [
             0.2222222222222222,
             "#7201a8"
            ],
            [
             0.3333333333333333,
             "#9c179e"
            ],
            [
             0.4444444444444444,
             "#bd3786"
            ],
            [
             0.5555555555555556,
             "#d8576b"
            ],
            [
             0.6666666666666666,
             "#ed7953"
            ],
            [
             0.7777777777777778,
             "#fb9f3a"
            ],
            [
             0.8888888888888888,
             "#fdca26"
            ],
            [
             1,
             "#f0f921"
            ]
           ],
           "sequentialminus": [
            [
             0,
             "#0d0887"
            ],
            [
             0.1111111111111111,
             "#46039f"
            ],
            [
             0.2222222222222222,
             "#7201a8"
            ],
            [
             0.3333333333333333,
             "#9c179e"
            ],
            [
             0.4444444444444444,
             "#bd3786"
            ],
            [
             0.5555555555555556,
             "#d8576b"
            ],
            [
             0.6666666666666666,
             "#ed7953"
            ],
            [
             0.7777777777777778,
             "#fb9f3a"
            ],
            [
             0.8888888888888888,
             "#fdca26"
            ],
            [
             1,
             "#f0f921"
            ]
           ]
          },
          "colorway": [
           "#636efa",
           "#EF553B",
           "#00cc96",
           "#ab63fa",
           "#FFA15A",
           "#19d3f3",
           "#FF6692",
           "#B6E880",
           "#FF97FF",
           "#FECB52"
          ],
          "font": {
           "color": "#2a3f5f"
          },
          "geo": {
           "bgcolor": "white",
           "lakecolor": "white",
           "landcolor": "#E5ECF6",
           "showlakes": true,
           "showland": true,
           "subunitcolor": "white"
          },
          "hoverlabel": {
           "align": "left"
          },
          "hovermode": "closest",
          "mapbox": {
           "style": "light"
          },
          "paper_bgcolor": "white",
          "plot_bgcolor": "#E5ECF6",
          "polar": {
           "angularaxis": {
            "gridcolor": "white",
            "linecolor": "white",
            "ticks": ""
           },
           "bgcolor": "#E5ECF6",
           "radialaxis": {
            "gridcolor": "white",
            "linecolor": "white",
            "ticks": ""
           }
          },
          "scene": {
           "xaxis": {
            "backgroundcolor": "#E5ECF6",
            "gridcolor": "white",
            "gridwidth": 2,
            "linecolor": "white",
            "showbackground": true,
            "ticks": "",
            "zerolinecolor": "white"
           },
           "yaxis": {
            "backgroundcolor": "#E5ECF6",
            "gridcolor": "white",
            "gridwidth": 2,
            "linecolor": "white",
            "showbackground": true,
            "ticks": "",
            "zerolinecolor": "white"
           },
           "zaxis": {
            "backgroundcolor": "#E5ECF6",
            "gridcolor": "white",
            "gridwidth": 2,
            "linecolor": "white",
            "showbackground": true,
            "ticks": "",
            "zerolinecolor": "white"
           }
          },
          "shapedefaults": {
           "line": {
            "color": "#2a3f5f"
           }
          },
          "ternary": {
           "aaxis": {
            "gridcolor": "white",
            "linecolor": "white",
            "ticks": ""
           },
           "baxis": {
            "gridcolor": "white",
            "linecolor": "white",
            "ticks": ""
           },
           "bgcolor": "#E5ECF6",
           "caxis": {
            "gridcolor": "white",
            "linecolor": "white",
            "ticks": ""
           }
          },
          "title": {
           "x": 0.05
          },
          "xaxis": {
           "automargin": true,
           "gridcolor": "white",
           "linecolor": "white",
           "ticks": "",
           "title": {
            "standoff": 15
           },
           "zerolinecolor": "white",
           "zerolinewidth": 2
          },
          "yaxis": {
           "automargin": true,
           "gridcolor": "white",
           "linecolor": "white",
           "ticks": "",
           "title": {
            "standoff": 15
           },
           "zerolinecolor": "white",
           "zerolinewidth": 2
          }
         }
        },
        "title": {
         "text": "MoMA's created before 1980"
        },
        "width": 900,
        "xaxis": {
         "anchor": "y",
         "domain": [
          0,
          1
         ],
         "title": {
          "text": "Nationality"
         }
        },
        "yaxis": {
         "anchor": "x",
         "domain": [
          0,
          1
         ],
         "title": {
          "text": "DateAcquired"
         }
        }
       }
      }
     },
     "metadata": {},
     "output_type": "display_data"
    }
   ],
   "source": [
    "#plot bubble charts with acquisition over decades for moma old\n",
    "Moma_old_MFnat = pd.concat([df_MO_nats_F,df_MO_nats_M])\n",
    "df =Moma_old_MFnat[(Moma_old_MFnat['DateAcquired'] >= 2000) & (Moma_old_MFnat['DateAcquired']) <= 2010 & (Moma_old_MFnat['Count'] >10)]\n",
    "\n",
    "\n",
    "fig41 = px.scatter(df,\n",
    "                 x=\"Nationality\", y=\"DateAcquired\", size=\"Count\", color=\"Gender\" ,\n",
    "                 opacity = 0.3,\n",
    "                 title=\"MoMA's created before 1980\",\n",
    "\n",
    "             color_discrete_sequence=['red', 'blue'],\n",
    "                width= 900,\n",
    "                 height= 700)\n",
    "\n",
    "fig41.update_layout(\n",
    "    paper_bgcolor='rgb(255, 255, 255)',\n",
    "    plot_bgcolor='rgb(243, 243, 243)',\n",
    "    )\n",
    "\n",
    "fig41.show()\n",
    "# cut down nats < 10 that become other \n",
    "# try duble columns stacked barplot instead  \n"
   ]
  },
  {
   "cell_type": "markdown",
   "metadata": {},
   "source": [
    "### Moma new"
   ]
  },
  {
   "cell_type": "code",
   "execution_count": null,
   "metadata": {},
   "outputs": [
    {
     "name": "stderr",
     "output_type": "stream",
     "text": [
      "/var/folders/qj/xh48vw9d4z5_h6wzs6r2smdh0000gn/T/ipykernel_761/2160968028.py:11: SettingWithCopyWarning:\n",
      "\n",
      "\n",
      "A value is trying to be set on a copy of a slice from a DataFrame.\n",
      "Try using .loc[row_indexer,col_indexer] = value instead\n",
      "\n",
      "See the caveats in the documentation: https://pandas.pydata.org/pandas-docs/stable/user_guide/indexing.html#returning-a-view-versus-a-copy\n",
      "\n",
      "/var/folders/qj/xh48vw9d4z5_h6wzs6r2smdh0000gn/T/ipykernel_761/2160968028.py:11: SettingWithCopyWarning:\n",
      "\n",
      "\n",
      "A value is trying to be set on a copy of a slice from a DataFrame.\n",
      "Try using .loc[row_indexer,col_indexer] = value instead\n",
      "\n",
      "See the caveats in the documentation: https://pandas.pydata.org/pandas-docs/stable/user_guide/indexing.html#returning-a-view-versus-a-copy\n",
      "\n",
      "/var/folders/qj/xh48vw9d4z5_h6wzs6r2smdh0000gn/T/ipykernel_761/2160968028.py:11: SettingWithCopyWarning:\n",
      "\n",
      "\n",
      "A value is trying to be set on a copy of a slice from a DataFrame.\n",
      "Try using .loc[row_indexer,col_indexer] = value instead\n",
      "\n",
      "See the caveats in the documentation: https://pandas.pydata.org/pandas-docs/stable/user_guide/indexing.html#returning-a-view-versus-a-copy\n",
      "\n",
      "/var/folders/qj/xh48vw9d4z5_h6wzs6r2smdh0000gn/T/ipykernel_761/2160968028.py:11: SettingWithCopyWarning:\n",
      "\n",
      "\n",
      "A value is trying to be set on a copy of a slice from a DataFrame.\n",
      "Try using .loc[row_indexer,col_indexer] = value instead\n",
      "\n",
      "See the caveats in the documentation: https://pandas.pydata.org/pandas-docs/stable/user_guide/indexing.html#returning-a-view-versus-a-copy\n",
      "\n",
      "/var/folders/qj/xh48vw9d4z5_h6wzs6r2smdh0000gn/T/ipykernel_761/2160968028.py:11: SettingWithCopyWarning:\n",
      "\n",
      "\n",
      "A value is trying to be set on a copy of a slice from a DataFrame.\n",
      "Try using .loc[row_indexer,col_indexer] = value instead\n",
      "\n",
      "See the caveats in the documentation: https://pandas.pydata.org/pandas-docs/stable/user_guide/indexing.html#returning-a-view-versus-a-copy\n",
      "\n",
      "/var/folders/qj/xh48vw9d4z5_h6wzs6r2smdh0000gn/T/ipykernel_761/2160968028.py:11: SettingWithCopyWarning:\n",
      "\n",
      "\n",
      "A value is trying to be set on a copy of a slice from a DataFrame.\n",
      "Try using .loc[row_indexer,col_indexer] = value instead\n",
      "\n",
      "See the caveats in the documentation: https://pandas.pydata.org/pandas-docs/stable/user_guide/indexing.html#returning-a-view-versus-a-copy\n",
      "\n",
      "/var/folders/qj/xh48vw9d4z5_h6wzs6r2smdh0000gn/T/ipykernel_761/2160968028.py:11: SettingWithCopyWarning:\n",
      "\n",
      "\n",
      "A value is trying to be set on a copy of a slice from a DataFrame.\n",
      "Try using .loc[row_indexer,col_indexer] = value instead\n",
      "\n",
      "See the caveats in the documentation: https://pandas.pydata.org/pandas-docs/stable/user_guide/indexing.html#returning-a-view-versus-a-copy\n",
      "\n",
      "/var/folders/qj/xh48vw9d4z5_h6wzs6r2smdh0000gn/T/ipykernel_761/2160968028.py:11: SettingWithCopyWarning:\n",
      "\n",
      "\n",
      "A value is trying to be set on a copy of a slice from a DataFrame.\n",
      "Try using .loc[row_indexer,col_indexer] = value instead\n",
      "\n",
      "See the caveats in the documentation: https://pandas.pydata.org/pandas-docs/stable/user_guide/indexing.html#returning-a-view-versus-a-copy\n",
      "\n",
      "/var/folders/qj/xh48vw9d4z5_h6wzs6r2smdh0000gn/T/ipykernel_761/2160968028.py:11: SettingWithCopyWarning:\n",
      "\n",
      "\n",
      "A value is trying to be set on a copy of a slice from a DataFrame.\n",
      "Try using .loc[row_indexer,col_indexer] = value instead\n",
      "\n",
      "See the caveats in the documentation: https://pandas.pydata.org/pandas-docs/stable/user_guide/indexing.html#returning-a-view-versus-a-copy\n",
      "\n",
      "/var/folders/qj/xh48vw9d4z5_h6wzs6r2smdh0000gn/T/ipykernel_761/2160968028.py:11: SettingWithCopyWarning:\n",
      "\n",
      "\n",
      "A value is trying to be set on a copy of a slice from a DataFrame.\n",
      "Try using .loc[row_indexer,col_indexer] = value instead\n",
      "\n",
      "See the caveats in the documentation: https://pandas.pydata.org/pandas-docs/stable/user_guide/indexing.html#returning-a-view-versus-a-copy\n",
      "\n",
      "/var/folders/qj/xh48vw9d4z5_h6wzs6r2smdh0000gn/T/ipykernel_761/2160968028.py:11: SettingWithCopyWarning:\n",
      "\n",
      "\n",
      "A value is trying to be set on a copy of a slice from a DataFrame.\n",
      "Try using .loc[row_indexer,col_indexer] = value instead\n",
      "\n",
      "See the caveats in the documentation: https://pandas.pydata.org/pandas-docs/stable/user_guide/indexing.html#returning-a-view-versus-a-copy\n",
      "\n",
      "/var/folders/qj/xh48vw9d4z5_h6wzs6r2smdh0000gn/T/ipykernel_761/2160968028.py:11: SettingWithCopyWarning:\n",
      "\n",
      "\n",
      "A value is trying to be set on a copy of a slice from a DataFrame.\n",
      "Try using .loc[row_indexer,col_indexer] = value instead\n",
      "\n",
      "See the caveats in the documentation: https://pandas.pydata.org/pandas-docs/stable/user_guide/indexing.html#returning-a-view-versus-a-copy\n",
      "\n",
      "/var/folders/qj/xh48vw9d4z5_h6wzs6r2smdh0000gn/T/ipykernel_761/2160968028.py:11: SettingWithCopyWarning:\n",
      "\n",
      "\n",
      "A value is trying to be set on a copy of a slice from a DataFrame.\n",
      "Try using .loc[row_indexer,col_indexer] = value instead\n",
      "\n",
      "See the caveats in the documentation: https://pandas.pydata.org/pandas-docs/stable/user_guide/indexing.html#returning-a-view-versus-a-copy\n",
      "\n",
      "/var/folders/qj/xh48vw9d4z5_h6wzs6r2smdh0000gn/T/ipykernel_761/2160968028.py:11: SettingWithCopyWarning:\n",
      "\n",
      "\n",
      "A value is trying to be set on a copy of a slice from a DataFrame.\n",
      "Try using .loc[row_indexer,col_indexer] = value instead\n",
      "\n",
      "See the caveats in the documentation: https://pandas.pydata.org/pandas-docs/stable/user_guide/indexing.html#returning-a-view-versus-a-copy\n",
      "\n",
      "/var/folders/qj/xh48vw9d4z5_h6wzs6r2smdh0000gn/T/ipykernel_761/2160968028.py:11: SettingWithCopyWarning:\n",
      "\n",
      "\n",
      "A value is trying to be set on a copy of a slice from a DataFrame.\n",
      "Try using .loc[row_indexer,col_indexer] = value instead\n",
      "\n",
      "See the caveats in the documentation: https://pandas.pydata.org/pandas-docs/stable/user_guide/indexing.html#returning-a-view-versus-a-copy\n",
      "\n",
      "/var/folders/qj/xh48vw9d4z5_h6wzs6r2smdh0000gn/T/ipykernel_761/2160968028.py:11: SettingWithCopyWarning:\n",
      "\n",
      "\n",
      "A value is trying to be set on a copy of a slice from a DataFrame.\n",
      "Try using .loc[row_indexer,col_indexer] = value instead\n",
      "\n",
      "See the caveats in the documentation: https://pandas.pydata.org/pandas-docs/stable/user_guide/indexing.html#returning-a-view-versus-a-copy\n",
      "\n",
      "/var/folders/qj/xh48vw9d4z5_h6wzs6r2smdh0000gn/T/ipykernel_761/2160968028.py:11: SettingWithCopyWarning:\n",
      "\n",
      "\n",
      "A value is trying to be set on a copy of a slice from a DataFrame.\n",
      "Try using .loc[row_indexer,col_indexer] = value instead\n",
      "\n",
      "See the caveats in the documentation: https://pandas.pydata.org/pandas-docs/stable/user_guide/indexing.html#returning-a-view-versus-a-copy\n",
      "\n",
      "/var/folders/qj/xh48vw9d4z5_h6wzs6r2smdh0000gn/T/ipykernel_761/2160968028.py:11: SettingWithCopyWarning:\n",
      "\n",
      "\n",
      "A value is trying to be set on a copy of a slice from a DataFrame.\n",
      "Try using .loc[row_indexer,col_indexer] = value instead\n",
      "\n",
      "See the caveats in the documentation: https://pandas.pydata.org/pandas-docs/stable/user_guide/indexing.html#returning-a-view-versus-a-copy\n",
      "\n",
      "/var/folders/qj/xh48vw9d4z5_h6wzs6r2smdh0000gn/T/ipykernel_761/2160968028.py:11: SettingWithCopyWarning:\n",
      "\n",
      "\n",
      "A value is trying to be set on a copy of a slice from a DataFrame.\n",
      "Try using .loc[row_indexer,col_indexer] = value instead\n",
      "\n",
      "See the caveats in the documentation: https://pandas.pydata.org/pandas-docs/stable/user_guide/indexing.html#returning-a-view-versus-a-copy\n",
      "\n",
      "/var/folders/qj/xh48vw9d4z5_h6wzs6r2smdh0000gn/T/ipykernel_761/2160968028.py:11: SettingWithCopyWarning:\n",
      "\n",
      "\n",
      "A value is trying to be set on a copy of a slice from a DataFrame.\n",
      "Try using .loc[row_indexer,col_indexer] = value instead\n",
      "\n",
      "See the caveats in the documentation: https://pandas.pydata.org/pandas-docs/stable/user_guide/indexing.html#returning-a-view-versus-a-copy\n",
      "\n",
      "/var/folders/qj/xh48vw9d4z5_h6wzs6r2smdh0000gn/T/ipykernel_761/2160968028.py:11: SettingWithCopyWarning:\n",
      "\n",
      "\n",
      "A value is trying to be set on a copy of a slice from a DataFrame.\n",
      "Try using .loc[row_indexer,col_indexer] = value instead\n",
      "\n",
      "See the caveats in the documentation: https://pandas.pydata.org/pandas-docs/stable/user_guide/indexing.html#returning-a-view-versus-a-copy\n",
      "\n",
      "/var/folders/qj/xh48vw9d4z5_h6wzs6r2smdh0000gn/T/ipykernel_761/2160968028.py:11: SettingWithCopyWarning:\n",
      "\n",
      "\n",
      "A value is trying to be set on a copy of a slice from a DataFrame.\n",
      "Try using .loc[row_indexer,col_indexer] = value instead\n",
      "\n",
      "See the caveats in the documentation: https://pandas.pydata.org/pandas-docs/stable/user_guide/indexing.html#returning-a-view-versus-a-copy\n",
      "\n",
      "/var/folders/qj/xh48vw9d4z5_h6wzs6r2smdh0000gn/T/ipykernel_761/2160968028.py:11: SettingWithCopyWarning:\n",
      "\n",
      "\n",
      "A value is trying to be set on a copy of a slice from a DataFrame.\n",
      "Try using .loc[row_indexer,col_indexer] = value instead\n",
      "\n",
      "See the caveats in the documentation: https://pandas.pydata.org/pandas-docs/stable/user_guide/indexing.html#returning-a-view-versus-a-copy\n",
      "\n",
      "/var/folders/qj/xh48vw9d4z5_h6wzs6r2smdh0000gn/T/ipykernel_761/2160968028.py:11: SettingWithCopyWarning:\n",
      "\n",
      "\n",
      "A value is trying to be set on a copy of a slice from a DataFrame.\n",
      "Try using .loc[row_indexer,col_indexer] = value instead\n",
      "\n",
      "See the caveats in the documentation: https://pandas.pydata.org/pandas-docs/stable/user_guide/indexing.html#returning-a-view-versus-a-copy\n",
      "\n",
      "/var/folders/qj/xh48vw9d4z5_h6wzs6r2smdh0000gn/T/ipykernel_761/2160968028.py:11: SettingWithCopyWarning:\n",
      "\n",
      "\n",
      "A value is trying to be set on a copy of a slice from a DataFrame.\n",
      "Try using .loc[row_indexer,col_indexer] = value instead\n",
      "\n",
      "See the caveats in the documentation: https://pandas.pydata.org/pandas-docs/stable/user_guide/indexing.html#returning-a-view-versus-a-copy\n",
      "\n",
      "/var/folders/qj/xh48vw9d4z5_h6wzs6r2smdh0000gn/T/ipykernel_761/2160968028.py:11: SettingWithCopyWarning:\n",
      "\n",
      "\n",
      "A value is trying to be set on a copy of a slice from a DataFrame.\n",
      "Try using .loc[row_indexer,col_indexer] = value instead\n",
      "\n",
      "See the caveats in the documentation: https://pandas.pydata.org/pandas-docs/stable/user_guide/indexing.html#returning-a-view-versus-a-copy\n",
      "\n",
      "/var/folders/qj/xh48vw9d4z5_h6wzs6r2smdh0000gn/T/ipykernel_761/2160968028.py:11: SettingWithCopyWarning:\n",
      "\n",
      "\n",
      "A value is trying to be set on a copy of a slice from a DataFrame.\n",
      "Try using .loc[row_indexer,col_indexer] = value instead\n",
      "\n",
      "See the caveats in the documentation: https://pandas.pydata.org/pandas-docs/stable/user_guide/indexing.html#returning-a-view-versus-a-copy\n",
      "\n",
      "/var/folders/qj/xh48vw9d4z5_h6wzs6r2smdh0000gn/T/ipykernel_761/2160968028.py:11: SettingWithCopyWarning:\n",
      "\n",
      "\n",
      "A value is trying to be set on a copy of a slice from a DataFrame.\n",
      "Try using .loc[row_indexer,col_indexer] = value instead\n",
      "\n",
      "See the caveats in the documentation: https://pandas.pydata.org/pandas-docs/stable/user_guide/indexing.html#returning-a-view-versus-a-copy\n",
      "\n",
      "/var/folders/qj/xh48vw9d4z5_h6wzs6r2smdh0000gn/T/ipykernel_761/2160968028.py:11: SettingWithCopyWarning:\n",
      "\n",
      "\n",
      "A value is trying to be set on a copy of a slice from a DataFrame.\n",
      "Try using .loc[row_indexer,col_indexer] = value instead\n",
      "\n",
      "See the caveats in the documentation: https://pandas.pydata.org/pandas-docs/stable/user_guide/indexing.html#returning-a-view-versus-a-copy\n",
      "\n",
      "/var/folders/qj/xh48vw9d4z5_h6wzs6r2smdh0000gn/T/ipykernel_761/2160968028.py:11: SettingWithCopyWarning:\n",
      "\n",
      "\n",
      "A value is trying to be set on a copy of a slice from a DataFrame.\n",
      "Try using .loc[row_indexer,col_indexer] = value instead\n",
      "\n",
      "See the caveats in the documentation: https://pandas.pydata.org/pandas-docs/stable/user_guide/indexing.html#returning-a-view-versus-a-copy\n",
      "\n",
      "/var/folders/qj/xh48vw9d4z5_h6wzs6r2smdh0000gn/T/ipykernel_761/2160968028.py:11: SettingWithCopyWarning:\n",
      "\n",
      "\n",
      "A value is trying to be set on a copy of a slice from a DataFrame.\n",
      "Try using .loc[row_indexer,col_indexer] = value instead\n",
      "\n",
      "See the caveats in the documentation: https://pandas.pydata.org/pandas-docs/stable/user_guide/indexing.html#returning-a-view-versus-a-copy\n",
      "\n",
      "/var/folders/qj/xh48vw9d4z5_h6wzs6r2smdh0000gn/T/ipykernel_761/2160968028.py:11: SettingWithCopyWarning:\n",
      "\n",
      "\n",
      "A value is trying to be set on a copy of a slice from a DataFrame.\n",
      "Try using .loc[row_indexer,col_indexer] = value instead\n",
      "\n",
      "See the caveats in the documentation: https://pandas.pydata.org/pandas-docs/stable/user_guide/indexing.html#returning-a-view-versus-a-copy\n",
      "\n",
      "/var/folders/qj/xh48vw9d4z5_h6wzs6r2smdh0000gn/T/ipykernel_761/2160968028.py:11: SettingWithCopyWarning:\n",
      "\n",
      "\n",
      "A value is trying to be set on a copy of a slice from a DataFrame.\n",
      "Try using .loc[row_indexer,col_indexer] = value instead\n",
      "\n",
      "See the caveats in the documentation: https://pandas.pydata.org/pandas-docs/stable/user_guide/indexing.html#returning-a-view-versus-a-copy\n",
      "\n",
      "/var/folders/qj/xh48vw9d4z5_h6wzs6r2smdh0000gn/T/ipykernel_761/2160968028.py:11: SettingWithCopyWarning:\n",
      "\n",
      "\n",
      "A value is trying to be set on a copy of a slice from a DataFrame.\n",
      "Try using .loc[row_indexer,col_indexer] = value instead\n",
      "\n",
      "See the caveats in the documentation: https://pandas.pydata.org/pandas-docs/stable/user_guide/indexing.html#returning-a-view-versus-a-copy\n",
      "\n",
      "/var/folders/qj/xh48vw9d4z5_h6wzs6r2smdh0000gn/T/ipykernel_761/2160968028.py:11: SettingWithCopyWarning:\n",
      "\n",
      "\n",
      "A value is trying to be set on a copy of a slice from a DataFrame.\n",
      "Try using .loc[row_indexer,col_indexer] = value instead\n",
      "\n",
      "See the caveats in the documentation: https://pandas.pydata.org/pandas-docs/stable/user_guide/indexing.html#returning-a-view-versus-a-copy\n",
      "\n",
      "/var/folders/qj/xh48vw9d4z5_h6wzs6r2smdh0000gn/T/ipykernel_761/2160968028.py:11: SettingWithCopyWarning:\n",
      "\n",
      "\n",
      "A value is trying to be set on a copy of a slice from a DataFrame.\n",
      "Try using .loc[row_indexer,col_indexer] = value instead\n",
      "\n",
      "See the caveats in the documentation: https://pandas.pydata.org/pandas-docs/stable/user_guide/indexing.html#returning-a-view-versus-a-copy\n",
      "\n",
      "/var/folders/qj/xh48vw9d4z5_h6wzs6r2smdh0000gn/T/ipykernel_761/2160968028.py:11: SettingWithCopyWarning:\n",
      "\n",
      "\n",
      "A value is trying to be set on a copy of a slice from a DataFrame.\n",
      "Try using .loc[row_indexer,col_indexer] = value instead\n",
      "\n",
      "See the caveats in the documentation: https://pandas.pydata.org/pandas-docs/stable/user_guide/indexing.html#returning-a-view-versus-a-copy\n",
      "\n",
      "/var/folders/qj/xh48vw9d4z5_h6wzs6r2smdh0000gn/T/ipykernel_761/2160968028.py:11: SettingWithCopyWarning:\n",
      "\n",
      "\n",
      "A value is trying to be set on a copy of a slice from a DataFrame.\n",
      "Try using .loc[row_indexer,col_indexer] = value instead\n",
      "\n",
      "See the caveats in the documentation: https://pandas.pydata.org/pandas-docs/stable/user_guide/indexing.html#returning-a-view-versus-a-copy\n",
      "\n",
      "/var/folders/qj/xh48vw9d4z5_h6wzs6r2smdh0000gn/T/ipykernel_761/2160968028.py:11: SettingWithCopyWarning:\n",
      "\n",
      "\n",
      "A value is trying to be set on a copy of a slice from a DataFrame.\n",
      "Try using .loc[row_indexer,col_indexer] = value instead\n",
      "\n",
      "See the caveats in the documentation: https://pandas.pydata.org/pandas-docs/stable/user_guide/indexing.html#returning-a-view-versus-a-copy\n",
      "\n",
      "/var/folders/qj/xh48vw9d4z5_h6wzs6r2smdh0000gn/T/ipykernel_761/2160968028.py:11: SettingWithCopyWarning:\n",
      "\n",
      "\n",
      "A value is trying to be set on a copy of a slice from a DataFrame.\n",
      "Try using .loc[row_indexer,col_indexer] = value instead\n",
      "\n",
      "See the caveats in the documentation: https://pandas.pydata.org/pandas-docs/stable/user_guide/indexing.html#returning-a-view-versus-a-copy\n",
      "\n",
      "/var/folders/qj/xh48vw9d4z5_h6wzs6r2smdh0000gn/T/ipykernel_761/2160968028.py:11: SettingWithCopyWarning:\n",
      "\n",
      "\n",
      "A value is trying to be set on a copy of a slice from a DataFrame.\n",
      "Try using .loc[row_indexer,col_indexer] = value instead\n",
      "\n",
      "See the caveats in the documentation: https://pandas.pydata.org/pandas-docs/stable/user_guide/indexing.html#returning-a-view-versus-a-copy\n",
      "\n",
      "/var/folders/qj/xh48vw9d4z5_h6wzs6r2smdh0000gn/T/ipykernel_761/2160968028.py:11: SettingWithCopyWarning:\n",
      "\n",
      "\n",
      "A value is trying to be set on a copy of a slice from a DataFrame.\n",
      "Try using .loc[row_indexer,col_indexer] = value instead\n",
      "\n",
      "See the caveats in the documentation: https://pandas.pydata.org/pandas-docs/stable/user_guide/indexing.html#returning-a-view-versus-a-copy\n",
      "\n",
      "/var/folders/qj/xh48vw9d4z5_h6wzs6r2smdh0000gn/T/ipykernel_761/2160968028.py:11: SettingWithCopyWarning:\n",
      "\n",
      "\n",
      "A value is trying to be set on a copy of a slice from a DataFrame.\n",
      "Try using .loc[row_indexer,col_indexer] = value instead\n",
      "\n",
      "See the caveats in the documentation: https://pandas.pydata.org/pandas-docs/stable/user_guide/indexing.html#returning-a-view-versus-a-copy\n",
      "\n",
      "/var/folders/qj/xh48vw9d4z5_h6wzs6r2smdh0000gn/T/ipykernel_761/2160968028.py:11: SettingWithCopyWarning:\n",
      "\n",
      "\n",
      "A value is trying to be set on a copy of a slice from a DataFrame.\n",
      "Try using .loc[row_indexer,col_indexer] = value instead\n",
      "\n",
      "See the caveats in the documentation: https://pandas.pydata.org/pandas-docs/stable/user_guide/indexing.html#returning-a-view-versus-a-copy\n",
      "\n",
      "/var/folders/qj/xh48vw9d4z5_h6wzs6r2smdh0000gn/T/ipykernel_761/2160968028.py:11: SettingWithCopyWarning:\n",
      "\n",
      "\n",
      "A value is trying to be set on a copy of a slice from a DataFrame.\n",
      "Try using .loc[row_indexer,col_indexer] = value instead\n",
      "\n",
      "See the caveats in the documentation: https://pandas.pydata.org/pandas-docs/stable/user_guide/indexing.html#returning-a-view-versus-a-copy\n",
      "\n",
      "/var/folders/qj/xh48vw9d4z5_h6wzs6r2smdh0000gn/T/ipykernel_761/2160968028.py:11: SettingWithCopyWarning:\n",
      "\n",
      "\n",
      "A value is trying to be set on a copy of a slice from a DataFrame.\n",
      "Try using .loc[row_indexer,col_indexer] = value instead\n",
      "\n",
      "See the caveats in the documentation: https://pandas.pydata.org/pandas-docs/stable/user_guide/indexing.html#returning-a-view-versus-a-copy\n",
      "\n",
      "/var/folders/qj/xh48vw9d4z5_h6wzs6r2smdh0000gn/T/ipykernel_761/2160968028.py:11: SettingWithCopyWarning:\n",
      "\n",
      "\n",
      "A value is trying to be set on a copy of a slice from a DataFrame.\n",
      "Try using .loc[row_indexer,col_indexer] = value instead\n",
      "\n",
      "See the caveats in the documentation: https://pandas.pydata.org/pandas-docs/stable/user_guide/indexing.html#returning-a-view-versus-a-copy\n",
      "\n",
      "/var/folders/qj/xh48vw9d4z5_h6wzs6r2smdh0000gn/T/ipykernel_761/2160968028.py:11: SettingWithCopyWarning:\n",
      "\n",
      "\n",
      "A value is trying to be set on a copy of a slice from a DataFrame.\n",
      "Try using .loc[row_indexer,col_indexer] = value instead\n",
      "\n",
      "See the caveats in the documentation: https://pandas.pydata.org/pandas-docs/stable/user_guide/indexing.html#returning-a-view-versus-a-copy\n",
      "\n",
      "/var/folders/qj/xh48vw9d4z5_h6wzs6r2smdh0000gn/T/ipykernel_761/2160968028.py:11: SettingWithCopyWarning:\n",
      "\n",
      "\n",
      "A value is trying to be set on a copy of a slice from a DataFrame.\n",
      "Try using .loc[row_indexer,col_indexer] = value instead\n",
      "\n",
      "See the caveats in the documentation: https://pandas.pydata.org/pandas-docs/stable/user_guide/indexing.html#returning-a-view-versus-a-copy\n",
      "\n",
      "/var/folders/qj/xh48vw9d4z5_h6wzs6r2smdh0000gn/T/ipykernel_761/2160968028.py:11: SettingWithCopyWarning:\n",
      "\n",
      "\n",
      "A value is trying to be set on a copy of a slice from a DataFrame.\n",
      "Try using .loc[row_indexer,col_indexer] = value instead\n",
      "\n",
      "See the caveats in the documentation: https://pandas.pydata.org/pandas-docs/stable/user_guide/indexing.html#returning-a-view-versus-a-copy\n",
      "\n",
      "/var/folders/qj/xh48vw9d4z5_h6wzs6r2smdh0000gn/T/ipykernel_761/2160968028.py:11: SettingWithCopyWarning:\n",
      "\n",
      "\n",
      "A value is trying to be set on a copy of a slice from a DataFrame.\n",
      "Try using .loc[row_indexer,col_indexer] = value instead\n",
      "\n",
      "See the caveats in the documentation: https://pandas.pydata.org/pandas-docs/stable/user_guide/indexing.html#returning-a-view-versus-a-copy\n",
      "\n"
     ]
    }
   ],
   "source": [
    "# create subset for females \n",
    "new = moma_artworks_new.copy()\n",
    "\n",
    "nationalities = ', '.join(new.Nationality)\n",
    "nationalities = list(set(nationalities.split(', ')))\n",
    "df_MN_nats_F = pd.DataFrame(columns= [\"Nationality\", \"DateAcquired\", \"Count\", \"Gender\"]) \n",
    "\n",
    "for nat in nationalities:\n",
    "    nat_sub =  new[new.Nationality == nat]\n",
    "    sub_f = nat_sub[nat_sub.Gender == 'F']   \n",
    "    sub_f.DateAcquired = sub_f.DateAcquired.astype('str')\n",
    "    years = ', '.join(sub_f.DateAcquired)\n",
    "    years = sorted(list([item[:4] for item in list(set(years.split(', ')))]))[0:-1]\n",
    "    for year in years:\n",
    "        year_sub = sub_f[sub_f.DateAcquired == year]\n",
    "        f_count = len(year_sub[year_sub.Gender == 'F'])\n",
    "        df_MN_nats_F.loc[len(df_MN_nats_F.index)] = [nat, year, f_count, 'F']\n",
    "\n",
    "df_MN_nats_F.DateAcquired = df_MN_nats_F.DateAcquired.astype('int')\n",
    "df_MN_nats_F = df_MN_nats_F[df_MN_nats_F.DateAcquired >0]"
   ]
  },
  {
   "cell_type": "code",
   "execution_count": null,
   "metadata": {},
   "outputs": [
    {
     "name": "stderr",
     "output_type": "stream",
     "text": [
      "/var/folders/qj/xh48vw9d4z5_h6wzs6r2smdh0000gn/T/ipykernel_761/2755125554.py:7: SettingWithCopyWarning:\n",
      "\n",
      "\n",
      "A value is trying to be set on a copy of a slice from a DataFrame.\n",
      "Try using .loc[row_indexer,col_indexer] = value instead\n",
      "\n",
      "See the caveats in the documentation: https://pandas.pydata.org/pandas-docs/stable/user_guide/indexing.html#returning-a-view-versus-a-copy\n",
      "\n",
      "/var/folders/qj/xh48vw9d4z5_h6wzs6r2smdh0000gn/T/ipykernel_761/2755125554.py:7: SettingWithCopyWarning:\n",
      "\n",
      "\n",
      "A value is trying to be set on a copy of a slice from a DataFrame.\n",
      "Try using .loc[row_indexer,col_indexer] = value instead\n",
      "\n",
      "See the caveats in the documentation: https://pandas.pydata.org/pandas-docs/stable/user_guide/indexing.html#returning-a-view-versus-a-copy\n",
      "\n",
      "/var/folders/qj/xh48vw9d4z5_h6wzs6r2smdh0000gn/T/ipykernel_761/2755125554.py:7: SettingWithCopyWarning:\n",
      "\n",
      "\n",
      "A value is trying to be set on a copy of a slice from a DataFrame.\n",
      "Try using .loc[row_indexer,col_indexer] = value instead\n",
      "\n",
      "See the caveats in the documentation: https://pandas.pydata.org/pandas-docs/stable/user_guide/indexing.html#returning-a-view-versus-a-copy\n",
      "\n",
      "/var/folders/qj/xh48vw9d4z5_h6wzs6r2smdh0000gn/T/ipykernel_761/2755125554.py:7: SettingWithCopyWarning:\n",
      "\n",
      "\n",
      "A value is trying to be set on a copy of a slice from a DataFrame.\n",
      "Try using .loc[row_indexer,col_indexer] = value instead\n",
      "\n",
      "See the caveats in the documentation: https://pandas.pydata.org/pandas-docs/stable/user_guide/indexing.html#returning-a-view-versus-a-copy\n",
      "\n",
      "/var/folders/qj/xh48vw9d4z5_h6wzs6r2smdh0000gn/T/ipykernel_761/2755125554.py:7: SettingWithCopyWarning:\n",
      "\n",
      "\n",
      "A value is trying to be set on a copy of a slice from a DataFrame.\n",
      "Try using .loc[row_indexer,col_indexer] = value instead\n",
      "\n",
      "See the caveats in the documentation: https://pandas.pydata.org/pandas-docs/stable/user_guide/indexing.html#returning-a-view-versus-a-copy\n",
      "\n",
      "/var/folders/qj/xh48vw9d4z5_h6wzs6r2smdh0000gn/T/ipykernel_761/2755125554.py:7: SettingWithCopyWarning:\n",
      "\n",
      "\n",
      "A value is trying to be set on a copy of a slice from a DataFrame.\n",
      "Try using .loc[row_indexer,col_indexer] = value instead\n",
      "\n",
      "See the caveats in the documentation: https://pandas.pydata.org/pandas-docs/stable/user_guide/indexing.html#returning-a-view-versus-a-copy\n",
      "\n",
      "/var/folders/qj/xh48vw9d4z5_h6wzs6r2smdh0000gn/T/ipykernel_761/2755125554.py:7: SettingWithCopyWarning:\n",
      "\n",
      "\n",
      "A value is trying to be set on a copy of a slice from a DataFrame.\n",
      "Try using .loc[row_indexer,col_indexer] = value instead\n",
      "\n",
      "See the caveats in the documentation: https://pandas.pydata.org/pandas-docs/stable/user_guide/indexing.html#returning-a-view-versus-a-copy\n",
      "\n",
      "/var/folders/qj/xh48vw9d4z5_h6wzs6r2smdh0000gn/T/ipykernel_761/2755125554.py:7: SettingWithCopyWarning:\n",
      "\n",
      "\n",
      "A value is trying to be set on a copy of a slice from a DataFrame.\n",
      "Try using .loc[row_indexer,col_indexer] = value instead\n",
      "\n",
      "See the caveats in the documentation: https://pandas.pydata.org/pandas-docs/stable/user_guide/indexing.html#returning-a-view-versus-a-copy\n",
      "\n",
      "/var/folders/qj/xh48vw9d4z5_h6wzs6r2smdh0000gn/T/ipykernel_761/2755125554.py:7: SettingWithCopyWarning:\n",
      "\n",
      "\n",
      "A value is trying to be set on a copy of a slice from a DataFrame.\n",
      "Try using .loc[row_indexer,col_indexer] = value instead\n",
      "\n",
      "See the caveats in the documentation: https://pandas.pydata.org/pandas-docs/stable/user_guide/indexing.html#returning-a-view-versus-a-copy\n",
      "\n",
      "/var/folders/qj/xh48vw9d4z5_h6wzs6r2smdh0000gn/T/ipykernel_761/2755125554.py:7: SettingWithCopyWarning:\n",
      "\n",
      "\n",
      "A value is trying to be set on a copy of a slice from a DataFrame.\n",
      "Try using .loc[row_indexer,col_indexer] = value instead\n",
      "\n",
      "See the caveats in the documentation: https://pandas.pydata.org/pandas-docs/stable/user_guide/indexing.html#returning-a-view-versus-a-copy\n",
      "\n",
      "/var/folders/qj/xh48vw9d4z5_h6wzs6r2smdh0000gn/T/ipykernel_761/2755125554.py:7: SettingWithCopyWarning:\n",
      "\n",
      "\n",
      "A value is trying to be set on a copy of a slice from a DataFrame.\n",
      "Try using .loc[row_indexer,col_indexer] = value instead\n",
      "\n",
      "See the caveats in the documentation: https://pandas.pydata.org/pandas-docs/stable/user_guide/indexing.html#returning-a-view-versus-a-copy\n",
      "\n",
      "/var/folders/qj/xh48vw9d4z5_h6wzs6r2smdh0000gn/T/ipykernel_761/2755125554.py:7: SettingWithCopyWarning:\n",
      "\n",
      "\n",
      "A value is trying to be set on a copy of a slice from a DataFrame.\n",
      "Try using .loc[row_indexer,col_indexer] = value instead\n",
      "\n",
      "See the caveats in the documentation: https://pandas.pydata.org/pandas-docs/stable/user_guide/indexing.html#returning-a-view-versus-a-copy\n",
      "\n",
      "/var/folders/qj/xh48vw9d4z5_h6wzs6r2smdh0000gn/T/ipykernel_761/2755125554.py:7: SettingWithCopyWarning:\n",
      "\n",
      "\n",
      "A value is trying to be set on a copy of a slice from a DataFrame.\n",
      "Try using .loc[row_indexer,col_indexer] = value instead\n",
      "\n",
      "See the caveats in the documentation: https://pandas.pydata.org/pandas-docs/stable/user_guide/indexing.html#returning-a-view-versus-a-copy\n",
      "\n",
      "/var/folders/qj/xh48vw9d4z5_h6wzs6r2smdh0000gn/T/ipykernel_761/2755125554.py:7: SettingWithCopyWarning:\n",
      "\n",
      "\n",
      "A value is trying to be set on a copy of a slice from a DataFrame.\n",
      "Try using .loc[row_indexer,col_indexer] = value instead\n",
      "\n",
      "See the caveats in the documentation: https://pandas.pydata.org/pandas-docs/stable/user_guide/indexing.html#returning-a-view-versus-a-copy\n",
      "\n",
      "/var/folders/qj/xh48vw9d4z5_h6wzs6r2smdh0000gn/T/ipykernel_761/2755125554.py:7: SettingWithCopyWarning:\n",
      "\n",
      "\n",
      "A value is trying to be set on a copy of a slice from a DataFrame.\n",
      "Try using .loc[row_indexer,col_indexer] = value instead\n",
      "\n",
      "See the caveats in the documentation: https://pandas.pydata.org/pandas-docs/stable/user_guide/indexing.html#returning-a-view-versus-a-copy\n",
      "\n",
      "/var/folders/qj/xh48vw9d4z5_h6wzs6r2smdh0000gn/T/ipykernel_761/2755125554.py:7: SettingWithCopyWarning:\n",
      "\n",
      "\n",
      "A value is trying to be set on a copy of a slice from a DataFrame.\n",
      "Try using .loc[row_indexer,col_indexer] = value instead\n",
      "\n",
      "See the caveats in the documentation: https://pandas.pydata.org/pandas-docs/stable/user_guide/indexing.html#returning-a-view-versus-a-copy\n",
      "\n",
      "/var/folders/qj/xh48vw9d4z5_h6wzs6r2smdh0000gn/T/ipykernel_761/2755125554.py:7: SettingWithCopyWarning:\n",
      "\n",
      "\n",
      "A value is trying to be set on a copy of a slice from a DataFrame.\n",
      "Try using .loc[row_indexer,col_indexer] = value instead\n",
      "\n",
      "See the caveats in the documentation: https://pandas.pydata.org/pandas-docs/stable/user_guide/indexing.html#returning-a-view-versus-a-copy\n",
      "\n",
      "/var/folders/qj/xh48vw9d4z5_h6wzs6r2smdh0000gn/T/ipykernel_761/2755125554.py:7: SettingWithCopyWarning:\n",
      "\n",
      "\n",
      "A value is trying to be set on a copy of a slice from a DataFrame.\n",
      "Try using .loc[row_indexer,col_indexer] = value instead\n",
      "\n",
      "See the caveats in the documentation: https://pandas.pydata.org/pandas-docs/stable/user_guide/indexing.html#returning-a-view-versus-a-copy\n",
      "\n",
      "/var/folders/qj/xh48vw9d4z5_h6wzs6r2smdh0000gn/T/ipykernel_761/2755125554.py:7: SettingWithCopyWarning:\n",
      "\n",
      "\n",
      "A value is trying to be set on a copy of a slice from a DataFrame.\n",
      "Try using .loc[row_indexer,col_indexer] = value instead\n",
      "\n",
      "See the caveats in the documentation: https://pandas.pydata.org/pandas-docs/stable/user_guide/indexing.html#returning-a-view-versus-a-copy\n",
      "\n",
      "/var/folders/qj/xh48vw9d4z5_h6wzs6r2smdh0000gn/T/ipykernel_761/2755125554.py:7: SettingWithCopyWarning:\n",
      "\n",
      "\n",
      "A value is trying to be set on a copy of a slice from a DataFrame.\n",
      "Try using .loc[row_indexer,col_indexer] = value instead\n",
      "\n",
      "See the caveats in the documentation: https://pandas.pydata.org/pandas-docs/stable/user_guide/indexing.html#returning-a-view-versus-a-copy\n",
      "\n",
      "/var/folders/qj/xh48vw9d4z5_h6wzs6r2smdh0000gn/T/ipykernel_761/2755125554.py:7: SettingWithCopyWarning:\n",
      "\n",
      "\n",
      "A value is trying to be set on a copy of a slice from a DataFrame.\n",
      "Try using .loc[row_indexer,col_indexer] = value instead\n",
      "\n",
      "See the caveats in the documentation: https://pandas.pydata.org/pandas-docs/stable/user_guide/indexing.html#returning-a-view-versus-a-copy\n",
      "\n",
      "/var/folders/qj/xh48vw9d4z5_h6wzs6r2smdh0000gn/T/ipykernel_761/2755125554.py:7: SettingWithCopyWarning:\n",
      "\n",
      "\n",
      "A value is trying to be set on a copy of a slice from a DataFrame.\n",
      "Try using .loc[row_indexer,col_indexer] = value instead\n",
      "\n",
      "See the caveats in the documentation: https://pandas.pydata.org/pandas-docs/stable/user_guide/indexing.html#returning-a-view-versus-a-copy\n",
      "\n",
      "/var/folders/qj/xh48vw9d4z5_h6wzs6r2smdh0000gn/T/ipykernel_761/2755125554.py:7: SettingWithCopyWarning:\n",
      "\n",
      "\n",
      "A value is trying to be set on a copy of a slice from a DataFrame.\n",
      "Try using .loc[row_indexer,col_indexer] = value instead\n",
      "\n",
      "See the caveats in the documentation: https://pandas.pydata.org/pandas-docs/stable/user_guide/indexing.html#returning-a-view-versus-a-copy\n",
      "\n",
      "/var/folders/qj/xh48vw9d4z5_h6wzs6r2smdh0000gn/T/ipykernel_761/2755125554.py:7: SettingWithCopyWarning:\n",
      "\n",
      "\n",
      "A value is trying to be set on a copy of a slice from a DataFrame.\n",
      "Try using .loc[row_indexer,col_indexer] = value instead\n",
      "\n",
      "See the caveats in the documentation: https://pandas.pydata.org/pandas-docs/stable/user_guide/indexing.html#returning-a-view-versus-a-copy\n",
      "\n",
      "/var/folders/qj/xh48vw9d4z5_h6wzs6r2smdh0000gn/T/ipykernel_761/2755125554.py:7: SettingWithCopyWarning:\n",
      "\n",
      "\n",
      "A value is trying to be set on a copy of a slice from a DataFrame.\n",
      "Try using .loc[row_indexer,col_indexer] = value instead\n",
      "\n",
      "See the caveats in the documentation: https://pandas.pydata.org/pandas-docs/stable/user_guide/indexing.html#returning-a-view-versus-a-copy\n",
      "\n",
      "/var/folders/qj/xh48vw9d4z5_h6wzs6r2smdh0000gn/T/ipykernel_761/2755125554.py:7: SettingWithCopyWarning:\n",
      "\n",
      "\n",
      "A value is trying to be set on a copy of a slice from a DataFrame.\n",
      "Try using .loc[row_indexer,col_indexer] = value instead\n",
      "\n",
      "See the caveats in the documentation: https://pandas.pydata.org/pandas-docs/stable/user_guide/indexing.html#returning-a-view-versus-a-copy\n",
      "\n",
      "/var/folders/qj/xh48vw9d4z5_h6wzs6r2smdh0000gn/T/ipykernel_761/2755125554.py:7: SettingWithCopyWarning:\n",
      "\n",
      "\n",
      "A value is trying to be set on a copy of a slice from a DataFrame.\n",
      "Try using .loc[row_indexer,col_indexer] = value instead\n",
      "\n",
      "See the caveats in the documentation: https://pandas.pydata.org/pandas-docs/stable/user_guide/indexing.html#returning-a-view-versus-a-copy\n",
      "\n",
      "/var/folders/qj/xh48vw9d4z5_h6wzs6r2smdh0000gn/T/ipykernel_761/2755125554.py:7: SettingWithCopyWarning:\n",
      "\n",
      "\n",
      "A value is trying to be set on a copy of a slice from a DataFrame.\n",
      "Try using .loc[row_indexer,col_indexer] = value instead\n",
      "\n",
      "See the caveats in the documentation: https://pandas.pydata.org/pandas-docs/stable/user_guide/indexing.html#returning-a-view-versus-a-copy\n",
      "\n",
      "/var/folders/qj/xh48vw9d4z5_h6wzs6r2smdh0000gn/T/ipykernel_761/2755125554.py:7: SettingWithCopyWarning:\n",
      "\n",
      "\n",
      "A value is trying to be set on a copy of a slice from a DataFrame.\n",
      "Try using .loc[row_indexer,col_indexer] = value instead\n",
      "\n",
      "See the caveats in the documentation: https://pandas.pydata.org/pandas-docs/stable/user_guide/indexing.html#returning-a-view-versus-a-copy\n",
      "\n",
      "/var/folders/qj/xh48vw9d4z5_h6wzs6r2smdh0000gn/T/ipykernel_761/2755125554.py:7: SettingWithCopyWarning:\n",
      "\n",
      "\n",
      "A value is trying to be set on a copy of a slice from a DataFrame.\n",
      "Try using .loc[row_indexer,col_indexer] = value instead\n",
      "\n",
      "See the caveats in the documentation: https://pandas.pydata.org/pandas-docs/stable/user_guide/indexing.html#returning-a-view-versus-a-copy\n",
      "\n",
      "/var/folders/qj/xh48vw9d4z5_h6wzs6r2smdh0000gn/T/ipykernel_761/2755125554.py:7: SettingWithCopyWarning:\n",
      "\n",
      "\n",
      "A value is trying to be set on a copy of a slice from a DataFrame.\n",
      "Try using .loc[row_indexer,col_indexer] = value instead\n",
      "\n",
      "See the caveats in the documentation: https://pandas.pydata.org/pandas-docs/stable/user_guide/indexing.html#returning-a-view-versus-a-copy\n",
      "\n",
      "/var/folders/qj/xh48vw9d4z5_h6wzs6r2smdh0000gn/T/ipykernel_761/2755125554.py:7: SettingWithCopyWarning:\n",
      "\n",
      "\n",
      "A value is trying to be set on a copy of a slice from a DataFrame.\n",
      "Try using .loc[row_indexer,col_indexer] = value instead\n",
      "\n",
      "See the caveats in the documentation: https://pandas.pydata.org/pandas-docs/stable/user_guide/indexing.html#returning-a-view-versus-a-copy\n",
      "\n",
      "/var/folders/qj/xh48vw9d4z5_h6wzs6r2smdh0000gn/T/ipykernel_761/2755125554.py:7: SettingWithCopyWarning:\n",
      "\n",
      "\n",
      "A value is trying to be set on a copy of a slice from a DataFrame.\n",
      "Try using .loc[row_indexer,col_indexer] = value instead\n",
      "\n",
      "See the caveats in the documentation: https://pandas.pydata.org/pandas-docs/stable/user_guide/indexing.html#returning-a-view-versus-a-copy\n",
      "\n",
      "/var/folders/qj/xh48vw9d4z5_h6wzs6r2smdh0000gn/T/ipykernel_761/2755125554.py:7: SettingWithCopyWarning:\n",
      "\n",
      "\n",
      "A value is trying to be set on a copy of a slice from a DataFrame.\n",
      "Try using .loc[row_indexer,col_indexer] = value instead\n",
      "\n",
      "See the caveats in the documentation: https://pandas.pydata.org/pandas-docs/stable/user_guide/indexing.html#returning-a-view-versus-a-copy\n",
      "\n",
      "/var/folders/qj/xh48vw9d4z5_h6wzs6r2smdh0000gn/T/ipykernel_761/2755125554.py:7: SettingWithCopyWarning:\n",
      "\n",
      "\n",
      "A value is trying to be set on a copy of a slice from a DataFrame.\n",
      "Try using .loc[row_indexer,col_indexer] = value instead\n",
      "\n",
      "See the caveats in the documentation: https://pandas.pydata.org/pandas-docs/stable/user_guide/indexing.html#returning-a-view-versus-a-copy\n",
      "\n",
      "/var/folders/qj/xh48vw9d4z5_h6wzs6r2smdh0000gn/T/ipykernel_761/2755125554.py:7: SettingWithCopyWarning:\n",
      "\n",
      "\n",
      "A value is trying to be set on a copy of a slice from a DataFrame.\n",
      "Try using .loc[row_indexer,col_indexer] = value instead\n",
      "\n",
      "See the caveats in the documentation: https://pandas.pydata.org/pandas-docs/stable/user_guide/indexing.html#returning-a-view-versus-a-copy\n",
      "\n",
      "/var/folders/qj/xh48vw9d4z5_h6wzs6r2smdh0000gn/T/ipykernel_761/2755125554.py:7: SettingWithCopyWarning:\n",
      "\n",
      "\n",
      "A value is trying to be set on a copy of a slice from a DataFrame.\n",
      "Try using .loc[row_indexer,col_indexer] = value instead\n",
      "\n",
      "See the caveats in the documentation: https://pandas.pydata.org/pandas-docs/stable/user_guide/indexing.html#returning-a-view-versus-a-copy\n",
      "\n",
      "/var/folders/qj/xh48vw9d4z5_h6wzs6r2smdh0000gn/T/ipykernel_761/2755125554.py:7: SettingWithCopyWarning:\n",
      "\n",
      "\n",
      "A value is trying to be set on a copy of a slice from a DataFrame.\n",
      "Try using .loc[row_indexer,col_indexer] = value instead\n",
      "\n",
      "See the caveats in the documentation: https://pandas.pydata.org/pandas-docs/stable/user_guide/indexing.html#returning-a-view-versus-a-copy\n",
      "\n",
      "/var/folders/qj/xh48vw9d4z5_h6wzs6r2smdh0000gn/T/ipykernel_761/2755125554.py:7: SettingWithCopyWarning:\n",
      "\n",
      "\n",
      "A value is trying to be set on a copy of a slice from a DataFrame.\n",
      "Try using .loc[row_indexer,col_indexer] = value instead\n",
      "\n",
      "See the caveats in the documentation: https://pandas.pydata.org/pandas-docs/stable/user_guide/indexing.html#returning-a-view-versus-a-copy\n",
      "\n",
      "/var/folders/qj/xh48vw9d4z5_h6wzs6r2smdh0000gn/T/ipykernel_761/2755125554.py:7: SettingWithCopyWarning:\n",
      "\n",
      "\n",
      "A value is trying to be set on a copy of a slice from a DataFrame.\n",
      "Try using .loc[row_indexer,col_indexer] = value instead\n",
      "\n",
      "See the caveats in the documentation: https://pandas.pydata.org/pandas-docs/stable/user_guide/indexing.html#returning-a-view-versus-a-copy\n",
      "\n",
      "/var/folders/qj/xh48vw9d4z5_h6wzs6r2smdh0000gn/T/ipykernel_761/2755125554.py:7: SettingWithCopyWarning:\n",
      "\n",
      "\n",
      "A value is trying to be set on a copy of a slice from a DataFrame.\n",
      "Try using .loc[row_indexer,col_indexer] = value instead\n",
      "\n",
      "See the caveats in the documentation: https://pandas.pydata.org/pandas-docs/stable/user_guide/indexing.html#returning-a-view-versus-a-copy\n",
      "\n"
     ]
    }
   ],
   "source": [
    "#create subset for males \n",
    "df_MN_nats_M = pd.DataFrame(columns= [\"Nationality\", \"DateAcquired\", \"Count\", \"Gender\"]) \n",
    "\n",
    "for nat in nationalities:\n",
    "    nat_sub =  old[old.Nationality == nat]\n",
    "    sub_m = nat_sub[nat_sub.Gender == 'M']   \n",
    "    sub_m.DateAcquired = sub_m.DateAcquired.astype('str')\n",
    "    years = ', '.join(sub_m.DateAcquired)\n",
    "    years = sorted(list([item[:4] for item in list(set(years.split(', ')))]))[0:-1]\n",
    "    for year in years:\n",
    "        year_sub = sub_m[sub_m.DateAcquired == year]\n",
    "        m_count = len(year_sub[year_sub.Gender == 'M'])\n",
    "        df_MN_nats_M.loc[len(df_MN_nats_M.index)] = [nat, year, m_count, 'M']\n",
    "\n",
    "df_MN_nats_M.DateAcquired = df_MN_nats_M.DateAcquired.astype('int')\n",
    "df_MN_nats_M = df_MN_nats_M[df_MN_nats_M.DateAcquired >0]"
   ]
  },
  {
   "cell_type": "code",
   "execution_count": null,
   "metadata": {},
   "outputs": [
    {
     "data": {
      "application/vnd.plotly.v1+json": {
       "config": {
        "plotlyServerURL": "https://plot.ly"
       },
       "data": [
        {
         "hovertemplate": "Gender=F<br>DateAcquired=%{x}<br>Nationality=%{y}<br>Count=%{marker.size}<extra></extra>",
         "legendgroup": "F",
         "marker": {
          "color": "red",
          "opacity": 0.3,
          "size": [
           5,
           1,
           3,
           15,
           6,
           28,
           1,
           3,
           14,
           2,
           12,
           4,
           2,
           1,
           1,
           1,
           10,
           3,
           11,
           10,
           4,
           7,
           15,
           39,
           16,
           19,
           4,
           1,
           1,
           1,
           2,
           1,
           1,
           2,
           5,
           21,
           1,
           1,
           1,
           10,
           4,
           27,
           1,
           2,
           2,
           6,
           1,
           3,
           2,
           2,
           1,
           14,
           18,
           1,
           3,
           1,
           1,
           1,
           2,
           3,
           1,
           6,
           56,
           7,
           9,
           16,
           5,
           7,
           1,
           1,
           1,
           4,
           3,
           7,
           2,
           3,
           4,
           2,
           29,
           2,
           1,
           2,
           1,
           3,
           2,
           1,
           1,
           35,
           4,
           19,
           2,
           1,
           28,
           2,
           1,
           1,
           9,
           1,
           1,
           3,
           1,
           1,
           4,
           1,
           4,
           3,
           110,
           82,
           83,
           43,
           132,
           480,
           132,
           112,
           1118,
           213,
           189,
           3,
           2,
           2,
           3,
           73,
           1,
           4,
           10,
           6,
           3,
           1,
           1,
           1,
           6,
           1,
           19,
           1,
           1,
           11,
           1,
           1,
           1,
           3,
           1,
           1,
           11,
           1,
           13,
           3,
           2,
           6,
           1,
           12,
           1,
           2,
           13,
           7,
           2,
           1,
           2,
           1,
           1,
           1,
           1,
           4,
           3,
           3,
           1,
           1
          ],
          "sizemode": "area",
          "sizeref": 5.7575,
          "symbol": "circle"
         },
         "mode": "markers",
         "name": "F",
         "orientation": "h",
         "showlegend": true,
         "type": "scatter",
         "x": [
          2001,
          2003,
          2004,
          2005,
          2006,
          2007,
          2008,
          2009,
          2000,
          2001,
          2005,
          2006,
          2007,
          2005,
          2006,
          2007,
          2009,
          2010,
          2000,
          2001,
          2002,
          2003,
          2004,
          2005,
          2006,
          2007,
          2008,
          2009,
          2010,
          2004,
          2005,
          2010,
          2001,
          2002,
          2005,
          2006,
          2010,
          2000,
          2001,
          2002,
          2005,
          2008,
          2000,
          2007,
          2006,
          2001,
          2006,
          2006,
          2002,
          2005,
          2004,
          2009,
          2010,
          2001,
          2006,
          2002,
          2003,
          2000,
          2001,
          2002,
          2003,
          2004,
          2005,
          2006,
          2007,
          2008,
          2009,
          2010,
          2005,
          2009,
          2007,
          2005,
          2007,
          2008,
          2003,
          2004,
          2007,
          2008,
          2001,
          2002,
          2005,
          2006,
          2008,
          2009,
          2010,
          2000,
          2004,
          2005,
          2006,
          2007,
          2010,
          2006,
          2006,
          2007,
          2000,
          2005,
          2002,
          2003,
          2004,
          2005,
          2006,
          2007,
          2008,
          2002,
          2008,
          2009,
          2000,
          2001,
          2002,
          2003,
          2004,
          2005,
          2006,
          2007,
          2008,
          2009,
          2010,
          2000,
          2001,
          2002,
          2004,
          2005,
          2006,
          2007,
          2008,
          2009,
          2010,
          2009,
          2006,
          2003,
          2005,
          2006,
          2010,
          2000,
          2007,
          2000,
          2005,
          2004,
          2008,
          2001,
          2002,
          2003,
          2005,
          2004,
          2005,
          2006,
          2000,
          2005,
          2007,
          2008,
          2009,
          2010,
          2000,
          2006,
          2005,
          2004,
          2005,
          2001,
          2004,
          2005,
          2006,
          2008,
          2005,
          2007,
          2000,
          2001
         ],
         "xaxis": "x",
         "y": [
          "Dutch",
          "Dutch",
          "Dutch",
          "Dutch",
          "Dutch",
          "Dutch",
          "Dutch",
          "Dutch",
          "Italian",
          "Italian",
          "Italian",
          "Italian",
          "Italian",
          "Belgian",
          "Belgian",
          "Belgian",
          "Belgian",
          "Belgian",
          "British",
          "British",
          "British",
          "British",
          "British",
          "British",
          "British",
          "British",
          "British",
          "British",
          "British",
          "Finnish",
          "Finnish",
          "Finnish",
          "Austrian",
          "Austrian",
          "Austrian",
          "Austrian",
          "Austrian",
          "Pakistani",
          "Pakistani",
          "Pakistani",
          "Pakistani",
          "Pakistani",
          "Iranian",
          "Iranian",
          "Bosnian",
          "Russian",
          "Russian",
          "Croatian",
          "Polish",
          "Polish",
          "Colombian",
          "Colombian",
          "Colombian",
          "Turkish",
          "Turkish",
          "Cuban",
          "Cuban",
          "German",
          "German",
          "German",
          "German",
          "German",
          "German",
          "German",
          "German",
          "German",
          "German",
          "German",
          "Norwegian",
          "Norwegian",
          "Indian",
          "Slovenian",
          "Peruvian",
          "Peruvian",
          "Chinese",
          "Chinese",
          "Chinese",
          "Chinese",
          "Brazilian",
          "Brazilian",
          "Brazilian",
          "Brazilian",
          "Brazilian",
          "Brazilian",
          "Brazilian",
          "South African",
          "South African",
          "South African",
          "South African",
          "South African",
          "South African",
          "Malaysian",
          "missing",
          "missing",
          "Argentine",
          "Argentine",
          "Israeli",
          "Israeli",
          "Israeli",
          "Israeli",
          "Israeli",
          "Israeli",
          "Israeli",
          "Swedish",
          "Swedish",
          "Swedish",
          "American",
          "American",
          "American",
          "American",
          "American",
          "American",
          "American",
          "American",
          "American",
          "American",
          "American",
          "Japanese",
          "Japanese",
          "Japanese",
          "Japanese",
          "Japanese",
          "Japanese",
          "Japanese",
          "Japanese",
          "Japanese",
          "Japanese",
          "Yugoslav",
          "Slovak",
          "Korean",
          "Korean",
          "Korean",
          "Korean",
          "Taiwanese",
          "Egyptian",
          "Australian",
          "Australian",
          "Irish",
          "Irish",
          "Canadian",
          "Canadian",
          "Canadian",
          "Canadian",
          "Spanish",
          "Spanish",
          "Spanish",
          "Swiss",
          "Swiss",
          "Swiss",
          "Swiss",
          "Swiss",
          "Swiss",
          "Mexican",
          "Mexican",
          "Kenyan",
          "Venezuelan",
          "Venezuelan",
          "French",
          "French",
          "French",
          "French",
          "French",
          "Danish",
          "Danish",
          "Bahamian",
          "Bahamian"
         ],
         "yaxis": "y"
        },
        {
         "hovertemplate": "Gender=M<br>DateAcquired=%{x}<br>Nationality=%{y}<br>Count=%{marker.size}<extra></extra>",
         "legendgroup": "M",
         "marker": {
          "color": "blue",
          "opacity": 0.3,
          "size": [
           6,
           11,
           1,
           2,
           1,
           65,
           56,
           1,
           2,
           41,
           24,
           1,
           8,
           5,
           16,
           7,
           11,
           20,
           113,
           6,
           1,
           1,
           3,
           3,
           1,
           28,
           8,
           2,
           3,
           2,
           16,
           31,
           32,
           45,
           9,
           5,
           4,
           10,
           1,
           6,
           5,
           4,
           9,
           1,
           9,
           6,
           10,
           4,
           9,
           12,
           1,
           3,
           15,
           2,
           1,
           144,
           2,
           4,
           785,
           6,
           1,
           2,
           1,
           1,
           3,
           7,
           1,
           2,
           1,
           1,
           7,
           1,
           1,
           6,
           10,
           1,
           5,
           2,
           5,
           16,
           6,
           34,
           2,
           16,
           119,
           11,
           13,
           2,
           90,
           16,
           16,
           141,
           8,
           131,
           3,
           5,
           1,
           6,
           1,
           3,
           12,
           4,
           2,
           17,
           3,
           9,
           14,
           1,
           1,
           3,
           1,
           2,
           6,
           186,
           3,
           8,
           1,
           14,
           1,
           2,
           5,
           1,
           1,
           93,
           4,
           10,
           10,
           2,
           5,
           1,
           2,
           2,
           4,
           2,
           698,
           456,
           87,
           111,
           76,
           360,
           62,
           322,
           2303,
           214,
           95,
           19,
           12,
           2,
           179,
           113,
           3,
           32,
           1,
           1,
           3,
           21,
           1,
           3,
           3,
           1,
           15,
           25,
           1,
           12,
           1,
           3,
           2,
           3,
           2,
           4,
           3,
           9,
           2,
           26,
           12,
           6,
           4,
           57,
           16,
           9,
           27,
           40,
           42,
           3,
           6,
           2,
           7,
           1,
           1,
           2,
           21,
           2,
           126,
           50,
           1,
           18,
           4,
           62,
           9,
           18,
           343,
           199,
           36,
           8,
           4,
           15,
           1,
           1,
           25,
           1,
           2,
           55,
           2,
           3
          ],
          "sizemode": "area",
          "sizeref": 5.7575,
          "symbol": "circle"
         },
         "mode": "markers",
         "name": "M",
         "orientation": "h",
         "showlegend": true,
         "type": "scatter",
         "x": [
          2000,
          2001,
          2003,
          2005,
          2006,
          2007,
          2008,
          2009,
          2010,
          2000,
          2001,
          2002,
          2003,
          2004,
          2005,
          2006,
          2007,
          2008,
          2010,
          2001,
          2002,
          2004,
          2005,
          2007,
          2008,
          2000,
          2001,
          2002,
          2003,
          2004,
          2005,
          2006,
          2007,
          2008,
          2009,
          2010,
          2000,
          2001,
          2002,
          2004,
          2005,
          2000,
          2001,
          2003,
          2004,
          2005,
          2006,
          2007,
          2008,
          2010,
          2007,
          2000,
          2001,
          2005,
          2006,
          2008,
          2010,
          2000,
          2001,
          2002,
          2003,
          2006,
          2007,
          2010,
          2005,
          2006,
          2007,
          2004,
          2008,
          2010,
          2001,
          2006,
          2009,
          2010,
          2000,
          2001,
          2006,
          2008,
          2010,
          2005,
          2007,
          2009,
          2003,
          2000,
          2001,
          2002,
          2003,
          2004,
          2005,
          2006,
          2007,
          2008,
          2009,
          2010,
          2002,
          2008,
          2010,
          2000,
          2007,
          2010,
          2000,
          2001,
          2004,
          2005,
          2006,
          2007,
          2008,
          2009,
          2010,
          2002,
          2005,
          2007,
          2010,
          2001,
          2002,
          2005,
          2007,
          2008,
          2000,
          2001,
          2003,
          2004,
          2006,
          2007,
          2008,
          2009,
          2010,
          2000,
          2001,
          2004,
          2005,
          2006,
          2008,
          2009,
          2000,
          2001,
          2002,
          2003,
          2004,
          2005,
          2006,
          2007,
          2008,
          2009,
          2010,
          2000,
          2001,
          2005,
          2007,
          2008,
          2009,
          2010,
          2002,
          2010,
          2005,
          2001,
          2002,
          2003,
          2005,
          2006,
          2007,
          2008,
          2000,
          2001,
          2002,
          2003,
          2004,
          2005,
          2006,
          2007,
          2008,
          2009,
          2010,
          2000,
          2001,
          2002,
          2003,
          2004,
          2005,
          2006,
          2007,
          2008,
          2009,
          2010,
          2001,
          2004,
          2008,
          2010,
          2003,
          2004,
          2007,
          2010,
          2000,
          2001,
          2002,
          2003,
          2004,
          2005,
          2006,
          2007,
          2008,
          2009,
          2010,
          2008,
          2000,
          2001,
          2003,
          2004,
          2005,
          2006,
          2007,
          2008,
          2009,
          2010
         ],
         "xaxis": "x",
         "y": [
          "Dutch",
          "Dutch",
          "Dutch",
          "Dutch",
          "Dutch",
          "Dutch",
          "Dutch",
          "Dutch",
          "Dutch",
          "Italian",
          "Italian",
          "Italian",
          "Italian",
          "Italian",
          "Italian",
          "Italian",
          "Italian",
          "Italian",
          "Italian",
          "Belgian",
          "Belgian",
          "Belgian",
          "Belgian",
          "Belgian",
          "Belgian",
          "British",
          "British",
          "British",
          "British",
          "British",
          "British",
          "British",
          "British",
          "British",
          "British",
          "British",
          "Finnish",
          "Finnish",
          "Finnish",
          "Finnish",
          "Finnish",
          "Austrian",
          "Austrian",
          "Austrian",
          "Austrian",
          "Austrian",
          "Austrian",
          "Austrian",
          "Austrian",
          "Austrian",
          "Bosnian",
          "Czech",
          "Czech",
          "Czech",
          "Czech",
          "Czech",
          "Czech",
          "Russian",
          "Russian",
          "Russian",
          "Russian",
          "Russian",
          "Russian",
          "Russian",
          "Croatian",
          "Croatian",
          "Croatian",
          "Uruguayan",
          "Uruguayan",
          "Uruguayan",
          "Hungarian",
          "Hungarian",
          "Hungarian",
          "Hungarian",
          "Polish",
          "Polish",
          "Polish",
          "Polish",
          "Polish",
          "Colombian",
          "Colombian",
          "Colombian",
          "Cuban",
          "German",
          "German",
          "German",
          "German",
          "German",
          "German",
          "German",
          "German",
          "German",
          "German",
          "German",
          "Norwegian",
          "Norwegian",
          "Slovenian",
          "Luxembourgish",
          "Romanian",
          "Romanian",
          "Brazilian",
          "Brazilian",
          "Brazilian",
          "Brazilian",
          "Brazilian",
          "Brazilian",
          "Brazilian",
          "Brazilian",
          "Brazilian",
          "South African",
          "South African",
          "South African",
          "South African",
          "missing",
          "missing",
          "missing",
          "missing",
          "missing",
          "Argentine",
          "Argentine",
          "Argentine",
          "Argentine",
          "Argentine",
          "Argentine",
          "Argentine",
          "Argentine",
          "Argentine",
          "Swedish",
          "Swedish",
          "Swedish",
          "Swedish",
          "Swedish",
          "Swedish",
          "Swedish",
          "American",
          "American",
          "American",
          "American",
          "American",
          "American",
          "American",
          "American",
          "American",
          "American",
          "American",
          "Japanese",
          "Japanese",
          "Japanese",
          "Japanese",
          "Japanese",
          "Japanese",
          "Japanese",
          "Yugoslav",
          "Korean",
          "Greek",
          "Ukrainian",
          "Australian",
          "Canadian",
          "Canadian",
          "Canadian",
          "Canadian",
          "Canadian",
          "Spanish",
          "Spanish",
          "Spanish",
          "Spanish",
          "Spanish",
          "Spanish",
          "Spanish",
          "Spanish",
          "Spanish",
          "Spanish",
          "Spanish",
          "Swiss",
          "Swiss",
          "Swiss",
          "Swiss",
          "Swiss",
          "Swiss",
          "Swiss",
          "Swiss",
          "Swiss",
          "Swiss",
          "Swiss",
          "Mexican",
          "Mexican",
          "Mexican",
          "Mexican",
          "Venezuelan",
          "Venezuelan",
          "Venezuelan",
          "Venezuelan",
          "French",
          "French",
          "French",
          "French",
          "French",
          "French",
          "French",
          "French",
          "French",
          "French",
          "French",
          "Lithuanian",
          "Danish",
          "Danish",
          "Danish",
          "Danish",
          "Danish",
          "Danish",
          "Danish",
          "Danish",
          "Danish",
          "Danish"
         ],
         "yaxis": "y"
        }
       ],
       "layout": {
        "height": 700,
        "legend": {
         "itemsizing": "constant",
         "title": {
          "text": "Gender"
         },
         "tracegroupgap": 0
        },
        "paper_bgcolor": "rgb(255, 255, 255)",
        "plot_bgcolor": "rgb(243, 243, 243)",
        "template": {
         "data": {
          "bar": [
           {
            "error_x": {
             "color": "#2a3f5f"
            },
            "error_y": {
             "color": "#2a3f5f"
            },
            "marker": {
             "line": {
              "color": "#E5ECF6",
              "width": 0.5
             },
             "pattern": {
              "fillmode": "overlay",
              "size": 10,
              "solidity": 0.2
             }
            },
            "type": "bar"
           }
          ],
          "barpolar": [
           {
            "marker": {
             "line": {
              "color": "#E5ECF6",
              "width": 0.5
             },
             "pattern": {
              "fillmode": "overlay",
              "size": 10,
              "solidity": 0.2
             }
            },
            "type": "barpolar"
           }
          ],
          "carpet": [
           {
            "aaxis": {
             "endlinecolor": "#2a3f5f",
             "gridcolor": "white",
             "linecolor": "white",
             "minorgridcolor": "white",
             "startlinecolor": "#2a3f5f"
            },
            "baxis": {
             "endlinecolor": "#2a3f5f",
             "gridcolor": "white",
             "linecolor": "white",
             "minorgridcolor": "white",
             "startlinecolor": "#2a3f5f"
            },
            "type": "carpet"
           }
          ],
          "choropleth": [
           {
            "colorbar": {
             "outlinewidth": 0,
             "ticks": ""
            },
            "type": "choropleth"
           }
          ],
          "contour": [
           {
            "colorbar": {
             "outlinewidth": 0,
             "ticks": ""
            },
            "colorscale": [
             [
              0,
              "#0d0887"
             ],
             [
              0.1111111111111111,
              "#46039f"
             ],
             [
              0.2222222222222222,
              "#7201a8"
             ],
             [
              0.3333333333333333,
              "#9c179e"
             ],
             [
              0.4444444444444444,
              "#bd3786"
             ],
             [
              0.5555555555555556,
              "#d8576b"
             ],
             [
              0.6666666666666666,
              "#ed7953"
             ],
             [
              0.7777777777777778,
              "#fb9f3a"
             ],
             [
              0.8888888888888888,
              "#fdca26"
             ],
             [
              1,
              "#f0f921"
             ]
            ],
            "type": "contour"
           }
          ],
          "contourcarpet": [
           {
            "colorbar": {
             "outlinewidth": 0,
             "ticks": ""
            },
            "type": "contourcarpet"
           }
          ],
          "heatmap": [
           {
            "colorbar": {
             "outlinewidth": 0,
             "ticks": ""
            },
            "colorscale": [
             [
              0,
              "#0d0887"
             ],
             [
              0.1111111111111111,
              "#46039f"
             ],
             [
              0.2222222222222222,
              "#7201a8"
             ],
             [
              0.3333333333333333,
              "#9c179e"
             ],
             [
              0.4444444444444444,
              "#bd3786"
             ],
             [
              0.5555555555555556,
              "#d8576b"
             ],
             [
              0.6666666666666666,
              "#ed7953"
             ],
             [
              0.7777777777777778,
              "#fb9f3a"
             ],
             [
              0.8888888888888888,
              "#fdca26"
             ],
             [
              1,
              "#f0f921"
             ]
            ],
            "type": "heatmap"
           }
          ],
          "heatmapgl": [
           {
            "colorbar": {
             "outlinewidth": 0,
             "ticks": ""
            },
            "colorscale": [
             [
              0,
              "#0d0887"
             ],
             [
              0.1111111111111111,
              "#46039f"
             ],
             [
              0.2222222222222222,
              "#7201a8"
             ],
             [
              0.3333333333333333,
              "#9c179e"
             ],
             [
              0.4444444444444444,
              "#bd3786"
             ],
             [
              0.5555555555555556,
              "#d8576b"
             ],
             [
              0.6666666666666666,
              "#ed7953"
             ],
             [
              0.7777777777777778,
              "#fb9f3a"
             ],
             [
              0.8888888888888888,
              "#fdca26"
             ],
             [
              1,
              "#f0f921"
             ]
            ],
            "type": "heatmapgl"
           }
          ],
          "histogram": [
           {
            "marker": {
             "pattern": {
              "fillmode": "overlay",
              "size": 10,
              "solidity": 0.2
             }
            },
            "type": "histogram"
           }
          ],
          "histogram2d": [
           {
            "colorbar": {
             "outlinewidth": 0,
             "ticks": ""
            },
            "colorscale": [
             [
              0,
              "#0d0887"
             ],
             [
              0.1111111111111111,
              "#46039f"
             ],
             [
              0.2222222222222222,
              "#7201a8"
             ],
             [
              0.3333333333333333,
              "#9c179e"
             ],
             [
              0.4444444444444444,
              "#bd3786"
             ],
             [
              0.5555555555555556,
              "#d8576b"
             ],
             [
              0.6666666666666666,
              "#ed7953"
             ],
             [
              0.7777777777777778,
              "#fb9f3a"
             ],
             [
              0.8888888888888888,
              "#fdca26"
             ],
             [
              1,
              "#f0f921"
             ]
            ],
            "type": "histogram2d"
           }
          ],
          "histogram2dcontour": [
           {
            "colorbar": {
             "outlinewidth": 0,
             "ticks": ""
            },
            "colorscale": [
             [
              0,
              "#0d0887"
             ],
             [
              0.1111111111111111,
              "#46039f"
             ],
             [
              0.2222222222222222,
              "#7201a8"
             ],
             [
              0.3333333333333333,
              "#9c179e"
             ],
             [
              0.4444444444444444,
              "#bd3786"
             ],
             [
              0.5555555555555556,
              "#d8576b"
             ],
             [
              0.6666666666666666,
              "#ed7953"
             ],
             [
              0.7777777777777778,
              "#fb9f3a"
             ],
             [
              0.8888888888888888,
              "#fdca26"
             ],
             [
              1,
              "#f0f921"
             ]
            ],
            "type": "histogram2dcontour"
           }
          ],
          "mesh3d": [
           {
            "colorbar": {
             "outlinewidth": 0,
             "ticks": ""
            },
            "type": "mesh3d"
           }
          ],
          "parcoords": [
           {
            "line": {
             "colorbar": {
              "outlinewidth": 0,
              "ticks": ""
             }
            },
            "type": "parcoords"
           }
          ],
          "pie": [
           {
            "automargin": true,
            "type": "pie"
           }
          ],
          "scatter": [
           {
            "fillpattern": {
             "fillmode": "overlay",
             "size": 10,
             "solidity": 0.2
            },
            "type": "scatter"
           }
          ],
          "scatter3d": [
           {
            "line": {
             "colorbar": {
              "outlinewidth": 0,
              "ticks": ""
             }
            },
            "marker": {
             "colorbar": {
              "outlinewidth": 0,
              "ticks": ""
             }
            },
            "type": "scatter3d"
           }
          ],
          "scattercarpet": [
           {
            "marker": {
             "colorbar": {
              "outlinewidth": 0,
              "ticks": ""
             }
            },
            "type": "scattercarpet"
           }
          ],
          "scattergeo": [
           {
            "marker": {
             "colorbar": {
              "outlinewidth": 0,
              "ticks": ""
             }
            },
            "type": "scattergeo"
           }
          ],
          "scattergl": [
           {
            "marker": {
             "colorbar": {
              "outlinewidth": 0,
              "ticks": ""
             }
            },
            "type": "scattergl"
           }
          ],
          "scattermapbox": [
           {
            "marker": {
             "colorbar": {
              "outlinewidth": 0,
              "ticks": ""
             }
            },
            "type": "scattermapbox"
           }
          ],
          "scatterpolar": [
           {
            "marker": {
             "colorbar": {
              "outlinewidth": 0,
              "ticks": ""
             }
            },
            "type": "scatterpolar"
           }
          ],
          "scatterpolargl": [
           {
            "marker": {
             "colorbar": {
              "outlinewidth": 0,
              "ticks": ""
             }
            },
            "type": "scatterpolargl"
           }
          ],
          "scatterternary": [
           {
            "marker": {
             "colorbar": {
              "outlinewidth": 0,
              "ticks": ""
             }
            },
            "type": "scatterternary"
           }
          ],
          "surface": [
           {
            "colorbar": {
             "outlinewidth": 0,
             "ticks": ""
            },
            "colorscale": [
             [
              0,
              "#0d0887"
             ],
             [
              0.1111111111111111,
              "#46039f"
             ],
             [
              0.2222222222222222,
              "#7201a8"
             ],
             [
              0.3333333333333333,
              "#9c179e"
             ],
             [
              0.4444444444444444,
              "#bd3786"
             ],
             [
              0.5555555555555556,
              "#d8576b"
             ],
             [
              0.6666666666666666,
              "#ed7953"
             ],
             [
              0.7777777777777778,
              "#fb9f3a"
             ],
             [
              0.8888888888888888,
              "#fdca26"
             ],
             [
              1,
              "#f0f921"
             ]
            ],
            "type": "surface"
           }
          ],
          "table": [
           {
            "cells": {
             "fill": {
              "color": "#EBF0F8"
             },
             "line": {
              "color": "white"
             }
            },
            "header": {
             "fill": {
              "color": "#C8D4E3"
             },
             "line": {
              "color": "white"
             }
            },
            "type": "table"
           }
          ]
         },
         "layout": {
          "annotationdefaults": {
           "arrowcolor": "#2a3f5f",
           "arrowhead": 0,
           "arrowwidth": 1
          },
          "autotypenumbers": "strict",
          "coloraxis": {
           "colorbar": {
            "outlinewidth": 0,
            "ticks": ""
           }
          },
          "colorscale": {
           "diverging": [
            [
             0,
             "#8e0152"
            ],
            [
             0.1,
             "#c51b7d"
            ],
            [
             0.2,
             "#de77ae"
            ],
            [
             0.3,
             "#f1b6da"
            ],
            [
             0.4,
             "#fde0ef"
            ],
            [
             0.5,
             "#f7f7f7"
            ],
            [
             0.6,
             "#e6f5d0"
            ],
            [
             0.7,
             "#b8e186"
            ],
            [
             0.8,
             "#7fbc41"
            ],
            [
             0.9,
             "#4d9221"
            ],
            [
             1,
             "#276419"
            ]
           ],
           "sequential": [
            [
             0,
             "#0d0887"
            ],
            [
             0.1111111111111111,
             "#46039f"
            ],
            [
             0.2222222222222222,
             "#7201a8"
            ],
            [
             0.3333333333333333,
             "#9c179e"
            ],
            [
             0.4444444444444444,
             "#bd3786"
            ],
            [
             0.5555555555555556,
             "#d8576b"
            ],
            [
             0.6666666666666666,
             "#ed7953"
            ],
            [
             0.7777777777777778,
             "#fb9f3a"
            ],
            [
             0.8888888888888888,
             "#fdca26"
            ],
            [
             1,
             "#f0f921"
            ]
           ],
           "sequentialminus": [
            [
             0,
             "#0d0887"
            ],
            [
             0.1111111111111111,
             "#46039f"
            ],
            [
             0.2222222222222222,
             "#7201a8"
            ],
            [
             0.3333333333333333,
             "#9c179e"
            ],
            [
             0.4444444444444444,
             "#bd3786"
            ],
            [
             0.5555555555555556,
             "#d8576b"
            ],
            [
             0.6666666666666666,
             "#ed7953"
            ],
            [
             0.7777777777777778,
             "#fb9f3a"
            ],
            [
             0.8888888888888888,
             "#fdca26"
            ],
            [
             1,
             "#f0f921"
            ]
           ]
          },
          "colorway": [
           "#636efa",
           "#EF553B",
           "#00cc96",
           "#ab63fa",
           "#FFA15A",
           "#19d3f3",
           "#FF6692",
           "#B6E880",
           "#FF97FF",
           "#FECB52"
          ],
          "font": {
           "color": "#2a3f5f"
          },
          "geo": {
           "bgcolor": "white",
           "lakecolor": "white",
           "landcolor": "#E5ECF6",
           "showlakes": true,
           "showland": true,
           "subunitcolor": "white"
          },
          "hoverlabel": {
           "align": "left"
          },
          "hovermode": "closest",
          "mapbox": {
           "style": "light"
          },
          "paper_bgcolor": "white",
          "plot_bgcolor": "#E5ECF6",
          "polar": {
           "angularaxis": {
            "gridcolor": "white",
            "linecolor": "white",
            "ticks": ""
           },
           "bgcolor": "#E5ECF6",
           "radialaxis": {
            "gridcolor": "white",
            "linecolor": "white",
            "ticks": ""
           }
          },
          "scene": {
           "xaxis": {
            "backgroundcolor": "#E5ECF6",
            "gridcolor": "white",
            "gridwidth": 2,
            "linecolor": "white",
            "showbackground": true,
            "ticks": "",
            "zerolinecolor": "white"
           },
           "yaxis": {
            "backgroundcolor": "#E5ECF6",
            "gridcolor": "white",
            "gridwidth": 2,
            "linecolor": "white",
            "showbackground": true,
            "ticks": "",
            "zerolinecolor": "white"
           },
           "zaxis": {
            "backgroundcolor": "#E5ECF6",
            "gridcolor": "white",
            "gridwidth": 2,
            "linecolor": "white",
            "showbackground": true,
            "ticks": "",
            "zerolinecolor": "white"
           }
          },
          "shapedefaults": {
           "line": {
            "color": "#2a3f5f"
           }
          },
          "ternary": {
           "aaxis": {
            "gridcolor": "white",
            "linecolor": "white",
            "ticks": ""
           },
           "baxis": {
            "gridcolor": "white",
            "linecolor": "white",
            "ticks": ""
           },
           "bgcolor": "#E5ECF6",
           "caxis": {
            "gridcolor": "white",
            "linecolor": "white",
            "ticks": ""
           }
          },
          "title": {
           "x": 0.05
          },
          "xaxis": {
           "automargin": true,
           "gridcolor": "white",
           "linecolor": "white",
           "ticks": "",
           "title": {
            "standoff": 15
           },
           "zerolinecolor": "white",
           "zerolinewidth": 2
          },
          "yaxis": {
           "automargin": true,
           "gridcolor": "white",
           "linecolor": "white",
           "ticks": "",
           "title": {
            "standoff": 15
           },
           "zerolinecolor": "white",
           "zerolinewidth": 2
          }
         }
        },
        "title": {
         "text": "MoMA's created after 1980"
        },
        "width": 900,
        "xaxis": {
         "anchor": "y",
         "domain": [
          0,
          1
         ],
         "title": {
          "text": "DateAcquired"
         }
        },
        "yaxis": {
         "anchor": "x",
         "domain": [
          0,
          1
         ],
         "title": {
          "text": "Nationality"
         }
        }
       }
      }
     },
     "metadata": {},
     "output_type": "display_data"
    }
   ],
   "source": [
    "#plot bubble charts with acquisition over decades for moma old\n",
    "Moma_new_MFnat = pd.concat([df_MN_nats_F,df_MN_nats_M])\n",
    "df =Moma_new_MFnat[(Moma_new_MFnat['DateAcquired'] >= 2000) & (Moma_new_MFnat['DateAcquired'] <= 2010)]\n",
    "\n",
    "\n",
    "fig42 = px.scatter(df,\n",
    "                 x=\"DateAcquired\", y=\"Nationality\", size=\"Count\", color=\"Gender\" ,\n",
    "                 opacity = 0.3,\n",
    "                 title=\"MoMA's created after 1980\",\n",
    "\n",
    "             color_discrete_sequence=['red', 'blue'],\n",
    "                 width= 900,\n",
    "                 height= 700)\n",
    "\n",
    "fig42.update_layout(\n",
    "    paper_bgcolor='rgb(255, 255, 255)',\n",
    "    plot_bgcolor='rgb(243, 243, 243)',\n",
    "    )\n",
    "\n",
    "fig42.show()"
   ]
  },
  {
   "cell_type": "markdown",
   "metadata": {},
   "source": [
    "### Moma complete"
   ]
  },
  {
   "cell_type": "code",
   "execution_count": null,
   "metadata": {},
   "outputs": [
    {
     "name": "stderr",
     "output_type": "stream",
     "text": [
      "/var/folders/qj/xh48vw9d4z5_h6wzs6r2smdh0000gn/T/ipykernel_761/1621033755.py:10: SettingWithCopyWarning:\n",
      "\n",
      "\n",
      "A value is trying to be set on a copy of a slice from a DataFrame.\n",
      "Try using .loc[row_indexer,col_indexer] = value instead\n",
      "\n",
      "See the caveats in the documentation: https://pandas.pydata.org/pandas-docs/stable/user_guide/indexing.html#returning-a-view-versus-a-copy\n",
      "\n",
      "/var/folders/qj/xh48vw9d4z5_h6wzs6r2smdh0000gn/T/ipykernel_761/1621033755.py:10: SettingWithCopyWarning:\n",
      "\n",
      "\n",
      "A value is trying to be set on a copy of a slice from a DataFrame.\n",
      "Try using .loc[row_indexer,col_indexer] = value instead\n",
      "\n",
      "See the caveats in the documentation: https://pandas.pydata.org/pandas-docs/stable/user_guide/indexing.html#returning-a-view-versus-a-copy\n",
      "\n",
      "/var/folders/qj/xh48vw9d4z5_h6wzs6r2smdh0000gn/T/ipykernel_761/1621033755.py:10: SettingWithCopyWarning:\n",
      "\n",
      "\n",
      "A value is trying to be set on a copy of a slice from a DataFrame.\n",
      "Try using .loc[row_indexer,col_indexer] = value instead\n",
      "\n",
      "See the caveats in the documentation: https://pandas.pydata.org/pandas-docs/stable/user_guide/indexing.html#returning-a-view-versus-a-copy\n",
      "\n",
      "/var/folders/qj/xh48vw9d4z5_h6wzs6r2smdh0000gn/T/ipykernel_761/1621033755.py:10: SettingWithCopyWarning:\n",
      "\n",
      "\n",
      "A value is trying to be set on a copy of a slice from a DataFrame.\n",
      "Try using .loc[row_indexer,col_indexer] = value instead\n",
      "\n",
      "See the caveats in the documentation: https://pandas.pydata.org/pandas-docs/stable/user_guide/indexing.html#returning-a-view-versus-a-copy\n",
      "\n",
      "/var/folders/qj/xh48vw9d4z5_h6wzs6r2smdh0000gn/T/ipykernel_761/1621033755.py:10: SettingWithCopyWarning:\n",
      "\n",
      "\n",
      "A value is trying to be set on a copy of a slice from a DataFrame.\n",
      "Try using .loc[row_indexer,col_indexer] = value instead\n",
      "\n",
      "See the caveats in the documentation: https://pandas.pydata.org/pandas-docs/stable/user_guide/indexing.html#returning-a-view-versus-a-copy\n",
      "\n",
      "/var/folders/qj/xh48vw9d4z5_h6wzs6r2smdh0000gn/T/ipykernel_761/1621033755.py:10: SettingWithCopyWarning:\n",
      "\n",
      "\n",
      "A value is trying to be set on a copy of a slice from a DataFrame.\n",
      "Try using .loc[row_indexer,col_indexer] = value instead\n",
      "\n",
      "See the caveats in the documentation: https://pandas.pydata.org/pandas-docs/stable/user_guide/indexing.html#returning-a-view-versus-a-copy\n",
      "\n",
      "/var/folders/qj/xh48vw9d4z5_h6wzs6r2smdh0000gn/T/ipykernel_761/1621033755.py:10: SettingWithCopyWarning:\n",
      "\n",
      "\n",
      "A value is trying to be set on a copy of a slice from a DataFrame.\n",
      "Try using .loc[row_indexer,col_indexer] = value instead\n",
      "\n",
      "See the caveats in the documentation: https://pandas.pydata.org/pandas-docs/stable/user_guide/indexing.html#returning-a-view-versus-a-copy\n",
      "\n",
      "/var/folders/qj/xh48vw9d4z5_h6wzs6r2smdh0000gn/T/ipykernel_761/1621033755.py:10: SettingWithCopyWarning:\n",
      "\n",
      "\n",
      "A value is trying to be set on a copy of a slice from a DataFrame.\n",
      "Try using .loc[row_indexer,col_indexer] = value instead\n",
      "\n",
      "See the caveats in the documentation: https://pandas.pydata.org/pandas-docs/stable/user_guide/indexing.html#returning-a-view-versus-a-copy\n",
      "\n",
      "/var/folders/qj/xh48vw9d4z5_h6wzs6r2smdh0000gn/T/ipykernel_761/1621033755.py:10: SettingWithCopyWarning:\n",
      "\n",
      "\n",
      "A value is trying to be set on a copy of a slice from a DataFrame.\n",
      "Try using .loc[row_indexer,col_indexer] = value instead\n",
      "\n",
      "See the caveats in the documentation: https://pandas.pydata.org/pandas-docs/stable/user_guide/indexing.html#returning-a-view-versus-a-copy\n",
      "\n",
      "/var/folders/qj/xh48vw9d4z5_h6wzs6r2smdh0000gn/T/ipykernel_761/1621033755.py:10: SettingWithCopyWarning:\n",
      "\n",
      "\n",
      "A value is trying to be set on a copy of a slice from a DataFrame.\n",
      "Try using .loc[row_indexer,col_indexer] = value instead\n",
      "\n",
      "See the caveats in the documentation: https://pandas.pydata.org/pandas-docs/stable/user_guide/indexing.html#returning-a-view-versus-a-copy\n",
      "\n",
      "/var/folders/qj/xh48vw9d4z5_h6wzs6r2smdh0000gn/T/ipykernel_761/1621033755.py:10: SettingWithCopyWarning:\n",
      "\n",
      "\n",
      "A value is trying to be set on a copy of a slice from a DataFrame.\n",
      "Try using .loc[row_indexer,col_indexer] = value instead\n",
      "\n",
      "See the caveats in the documentation: https://pandas.pydata.org/pandas-docs/stable/user_guide/indexing.html#returning-a-view-versus-a-copy\n",
      "\n",
      "/var/folders/qj/xh48vw9d4z5_h6wzs6r2smdh0000gn/T/ipykernel_761/1621033755.py:10: SettingWithCopyWarning:\n",
      "\n",
      "\n",
      "A value is trying to be set on a copy of a slice from a DataFrame.\n",
      "Try using .loc[row_indexer,col_indexer] = value instead\n",
      "\n",
      "See the caveats in the documentation: https://pandas.pydata.org/pandas-docs/stable/user_guide/indexing.html#returning-a-view-versus-a-copy\n",
      "\n",
      "/var/folders/qj/xh48vw9d4z5_h6wzs6r2smdh0000gn/T/ipykernel_761/1621033755.py:10: SettingWithCopyWarning:\n",
      "\n",
      "\n",
      "A value is trying to be set on a copy of a slice from a DataFrame.\n",
      "Try using .loc[row_indexer,col_indexer] = value instead\n",
      "\n",
      "See the caveats in the documentation: https://pandas.pydata.org/pandas-docs/stable/user_guide/indexing.html#returning-a-view-versus-a-copy\n",
      "\n",
      "/var/folders/qj/xh48vw9d4z5_h6wzs6r2smdh0000gn/T/ipykernel_761/1621033755.py:10: SettingWithCopyWarning:\n",
      "\n",
      "\n",
      "A value is trying to be set on a copy of a slice from a DataFrame.\n",
      "Try using .loc[row_indexer,col_indexer] = value instead\n",
      "\n",
      "See the caveats in the documentation: https://pandas.pydata.org/pandas-docs/stable/user_guide/indexing.html#returning-a-view-versus-a-copy\n",
      "\n",
      "/var/folders/qj/xh48vw9d4z5_h6wzs6r2smdh0000gn/T/ipykernel_761/1621033755.py:10: SettingWithCopyWarning:\n",
      "\n",
      "\n",
      "A value is trying to be set on a copy of a slice from a DataFrame.\n",
      "Try using .loc[row_indexer,col_indexer] = value instead\n",
      "\n",
      "See the caveats in the documentation: https://pandas.pydata.org/pandas-docs/stable/user_guide/indexing.html#returning-a-view-versus-a-copy\n",
      "\n",
      "/var/folders/qj/xh48vw9d4z5_h6wzs6r2smdh0000gn/T/ipykernel_761/1621033755.py:10: SettingWithCopyWarning:\n",
      "\n",
      "\n",
      "A value is trying to be set on a copy of a slice from a DataFrame.\n",
      "Try using .loc[row_indexer,col_indexer] = value instead\n",
      "\n",
      "See the caveats in the documentation: https://pandas.pydata.org/pandas-docs/stable/user_guide/indexing.html#returning-a-view-versus-a-copy\n",
      "\n",
      "/var/folders/qj/xh48vw9d4z5_h6wzs6r2smdh0000gn/T/ipykernel_761/1621033755.py:10: SettingWithCopyWarning:\n",
      "\n",
      "\n",
      "A value is trying to be set on a copy of a slice from a DataFrame.\n",
      "Try using .loc[row_indexer,col_indexer] = value instead\n",
      "\n",
      "See the caveats in the documentation: https://pandas.pydata.org/pandas-docs/stable/user_guide/indexing.html#returning-a-view-versus-a-copy\n",
      "\n",
      "/var/folders/qj/xh48vw9d4z5_h6wzs6r2smdh0000gn/T/ipykernel_761/1621033755.py:10: SettingWithCopyWarning:\n",
      "\n",
      "\n",
      "A value is trying to be set on a copy of a slice from a DataFrame.\n",
      "Try using .loc[row_indexer,col_indexer] = value instead\n",
      "\n",
      "See the caveats in the documentation: https://pandas.pydata.org/pandas-docs/stable/user_guide/indexing.html#returning-a-view-versus-a-copy\n",
      "\n",
      "/var/folders/qj/xh48vw9d4z5_h6wzs6r2smdh0000gn/T/ipykernel_761/1621033755.py:10: SettingWithCopyWarning:\n",
      "\n",
      "\n",
      "A value is trying to be set on a copy of a slice from a DataFrame.\n",
      "Try using .loc[row_indexer,col_indexer] = value instead\n",
      "\n",
      "See the caveats in the documentation: https://pandas.pydata.org/pandas-docs/stable/user_guide/indexing.html#returning-a-view-versus-a-copy\n",
      "\n",
      "/var/folders/qj/xh48vw9d4z5_h6wzs6r2smdh0000gn/T/ipykernel_761/1621033755.py:10: SettingWithCopyWarning:\n",
      "\n",
      "\n",
      "A value is trying to be set on a copy of a slice from a DataFrame.\n",
      "Try using .loc[row_indexer,col_indexer] = value instead\n",
      "\n",
      "See the caveats in the documentation: https://pandas.pydata.org/pandas-docs/stable/user_guide/indexing.html#returning-a-view-versus-a-copy\n",
      "\n",
      "/var/folders/qj/xh48vw9d4z5_h6wzs6r2smdh0000gn/T/ipykernel_761/1621033755.py:10: SettingWithCopyWarning:\n",
      "\n",
      "\n",
      "A value is trying to be set on a copy of a slice from a DataFrame.\n",
      "Try using .loc[row_indexer,col_indexer] = value instead\n",
      "\n",
      "See the caveats in the documentation: https://pandas.pydata.org/pandas-docs/stable/user_guide/indexing.html#returning-a-view-versus-a-copy\n",
      "\n",
      "/var/folders/qj/xh48vw9d4z5_h6wzs6r2smdh0000gn/T/ipykernel_761/1621033755.py:10: SettingWithCopyWarning:\n",
      "\n",
      "\n",
      "A value is trying to be set on a copy of a slice from a DataFrame.\n",
      "Try using .loc[row_indexer,col_indexer] = value instead\n",
      "\n",
      "See the caveats in the documentation: https://pandas.pydata.org/pandas-docs/stable/user_guide/indexing.html#returning-a-view-versus-a-copy\n",
      "\n",
      "/var/folders/qj/xh48vw9d4z5_h6wzs6r2smdh0000gn/T/ipykernel_761/1621033755.py:10: SettingWithCopyWarning:\n",
      "\n",
      "\n",
      "A value is trying to be set on a copy of a slice from a DataFrame.\n",
      "Try using .loc[row_indexer,col_indexer] = value instead\n",
      "\n",
      "See the caveats in the documentation: https://pandas.pydata.org/pandas-docs/stable/user_guide/indexing.html#returning-a-view-versus-a-copy\n",
      "\n",
      "/var/folders/qj/xh48vw9d4z5_h6wzs6r2smdh0000gn/T/ipykernel_761/1621033755.py:10: SettingWithCopyWarning:\n",
      "\n",
      "\n",
      "A value is trying to be set on a copy of a slice from a DataFrame.\n",
      "Try using .loc[row_indexer,col_indexer] = value instead\n",
      "\n",
      "See the caveats in the documentation: https://pandas.pydata.org/pandas-docs/stable/user_guide/indexing.html#returning-a-view-versus-a-copy\n",
      "\n",
      "/var/folders/qj/xh48vw9d4z5_h6wzs6r2smdh0000gn/T/ipykernel_761/1621033755.py:10: SettingWithCopyWarning:\n",
      "\n",
      "\n",
      "A value is trying to be set on a copy of a slice from a DataFrame.\n",
      "Try using .loc[row_indexer,col_indexer] = value instead\n",
      "\n",
      "See the caveats in the documentation: https://pandas.pydata.org/pandas-docs/stable/user_guide/indexing.html#returning-a-view-versus-a-copy\n",
      "\n",
      "/var/folders/qj/xh48vw9d4z5_h6wzs6r2smdh0000gn/T/ipykernel_761/1621033755.py:10: SettingWithCopyWarning:\n",
      "\n",
      "\n",
      "A value is trying to be set on a copy of a slice from a DataFrame.\n",
      "Try using .loc[row_indexer,col_indexer] = value instead\n",
      "\n",
      "See the caveats in the documentation: https://pandas.pydata.org/pandas-docs/stable/user_guide/indexing.html#returning-a-view-versus-a-copy\n",
      "\n",
      "/var/folders/qj/xh48vw9d4z5_h6wzs6r2smdh0000gn/T/ipykernel_761/1621033755.py:10: SettingWithCopyWarning:\n",
      "\n",
      "\n",
      "A value is trying to be set on a copy of a slice from a DataFrame.\n",
      "Try using .loc[row_indexer,col_indexer] = value instead\n",
      "\n",
      "See the caveats in the documentation: https://pandas.pydata.org/pandas-docs/stable/user_guide/indexing.html#returning-a-view-versus-a-copy\n",
      "\n",
      "/var/folders/qj/xh48vw9d4z5_h6wzs6r2smdh0000gn/T/ipykernel_761/1621033755.py:10: SettingWithCopyWarning:\n",
      "\n",
      "\n",
      "A value is trying to be set on a copy of a slice from a DataFrame.\n",
      "Try using .loc[row_indexer,col_indexer] = value instead\n",
      "\n",
      "See the caveats in the documentation: https://pandas.pydata.org/pandas-docs/stable/user_guide/indexing.html#returning-a-view-versus-a-copy\n",
      "\n",
      "/var/folders/qj/xh48vw9d4z5_h6wzs6r2smdh0000gn/T/ipykernel_761/1621033755.py:10: SettingWithCopyWarning:\n",
      "\n",
      "\n",
      "A value is trying to be set on a copy of a slice from a DataFrame.\n",
      "Try using .loc[row_indexer,col_indexer] = value instead\n",
      "\n",
      "See the caveats in the documentation: https://pandas.pydata.org/pandas-docs/stable/user_guide/indexing.html#returning-a-view-versus-a-copy\n",
      "\n",
      "/var/folders/qj/xh48vw9d4z5_h6wzs6r2smdh0000gn/T/ipykernel_761/1621033755.py:10: SettingWithCopyWarning:\n",
      "\n",
      "\n",
      "A value is trying to be set on a copy of a slice from a DataFrame.\n",
      "Try using .loc[row_indexer,col_indexer] = value instead\n",
      "\n",
      "See the caveats in the documentation: https://pandas.pydata.org/pandas-docs/stable/user_guide/indexing.html#returning-a-view-versus-a-copy\n",
      "\n",
      "/var/folders/qj/xh48vw9d4z5_h6wzs6r2smdh0000gn/T/ipykernel_761/1621033755.py:10: SettingWithCopyWarning:\n",
      "\n",
      "\n",
      "A value is trying to be set on a copy of a slice from a DataFrame.\n",
      "Try using .loc[row_indexer,col_indexer] = value instead\n",
      "\n",
      "See the caveats in the documentation: https://pandas.pydata.org/pandas-docs/stable/user_guide/indexing.html#returning-a-view-versus-a-copy\n",
      "\n",
      "/var/folders/qj/xh48vw9d4z5_h6wzs6r2smdh0000gn/T/ipykernel_761/1621033755.py:10: SettingWithCopyWarning:\n",
      "\n",
      "\n",
      "A value is trying to be set on a copy of a slice from a DataFrame.\n",
      "Try using .loc[row_indexer,col_indexer] = value instead\n",
      "\n",
      "See the caveats in the documentation: https://pandas.pydata.org/pandas-docs/stable/user_guide/indexing.html#returning-a-view-versus-a-copy\n",
      "\n",
      "/var/folders/qj/xh48vw9d4z5_h6wzs6r2smdh0000gn/T/ipykernel_761/1621033755.py:10: SettingWithCopyWarning:\n",
      "\n",
      "\n",
      "A value is trying to be set on a copy of a slice from a DataFrame.\n",
      "Try using .loc[row_indexer,col_indexer] = value instead\n",
      "\n",
      "See the caveats in the documentation: https://pandas.pydata.org/pandas-docs/stable/user_guide/indexing.html#returning-a-view-versus-a-copy\n",
      "\n",
      "/var/folders/qj/xh48vw9d4z5_h6wzs6r2smdh0000gn/T/ipykernel_761/1621033755.py:10: SettingWithCopyWarning:\n",
      "\n",
      "\n",
      "A value is trying to be set on a copy of a slice from a DataFrame.\n",
      "Try using .loc[row_indexer,col_indexer] = value instead\n",
      "\n",
      "See the caveats in the documentation: https://pandas.pydata.org/pandas-docs/stable/user_guide/indexing.html#returning-a-view-versus-a-copy\n",
      "\n",
      "/var/folders/qj/xh48vw9d4z5_h6wzs6r2smdh0000gn/T/ipykernel_761/1621033755.py:10: SettingWithCopyWarning:\n",
      "\n",
      "\n",
      "A value is trying to be set on a copy of a slice from a DataFrame.\n",
      "Try using .loc[row_indexer,col_indexer] = value instead\n",
      "\n",
      "See the caveats in the documentation: https://pandas.pydata.org/pandas-docs/stable/user_guide/indexing.html#returning-a-view-versus-a-copy\n",
      "\n",
      "/var/folders/qj/xh48vw9d4z5_h6wzs6r2smdh0000gn/T/ipykernel_761/1621033755.py:10: SettingWithCopyWarning:\n",
      "\n",
      "\n",
      "A value is trying to be set on a copy of a slice from a DataFrame.\n",
      "Try using .loc[row_indexer,col_indexer] = value instead\n",
      "\n",
      "See the caveats in the documentation: https://pandas.pydata.org/pandas-docs/stable/user_guide/indexing.html#returning-a-view-versus-a-copy\n",
      "\n",
      "/var/folders/qj/xh48vw9d4z5_h6wzs6r2smdh0000gn/T/ipykernel_761/1621033755.py:10: SettingWithCopyWarning:\n",
      "\n",
      "\n",
      "A value is trying to be set on a copy of a slice from a DataFrame.\n",
      "Try using .loc[row_indexer,col_indexer] = value instead\n",
      "\n",
      "See the caveats in the documentation: https://pandas.pydata.org/pandas-docs/stable/user_guide/indexing.html#returning-a-view-versus-a-copy\n",
      "\n",
      "/var/folders/qj/xh48vw9d4z5_h6wzs6r2smdh0000gn/T/ipykernel_761/1621033755.py:10: SettingWithCopyWarning:\n",
      "\n",
      "\n",
      "A value is trying to be set on a copy of a slice from a DataFrame.\n",
      "Try using .loc[row_indexer,col_indexer] = value instead\n",
      "\n",
      "See the caveats in the documentation: https://pandas.pydata.org/pandas-docs/stable/user_guide/indexing.html#returning-a-view-versus-a-copy\n",
      "\n",
      "/var/folders/qj/xh48vw9d4z5_h6wzs6r2smdh0000gn/T/ipykernel_761/1621033755.py:10: SettingWithCopyWarning:\n",
      "\n",
      "\n",
      "A value is trying to be set on a copy of a slice from a DataFrame.\n",
      "Try using .loc[row_indexer,col_indexer] = value instead\n",
      "\n",
      "See the caveats in the documentation: https://pandas.pydata.org/pandas-docs/stable/user_guide/indexing.html#returning-a-view-versus-a-copy\n",
      "\n",
      "/var/folders/qj/xh48vw9d4z5_h6wzs6r2smdh0000gn/T/ipykernel_761/1621033755.py:10: SettingWithCopyWarning:\n",
      "\n",
      "\n",
      "A value is trying to be set on a copy of a slice from a DataFrame.\n",
      "Try using .loc[row_indexer,col_indexer] = value instead\n",
      "\n",
      "See the caveats in the documentation: https://pandas.pydata.org/pandas-docs/stable/user_guide/indexing.html#returning-a-view-versus-a-copy\n",
      "\n",
      "/var/folders/qj/xh48vw9d4z5_h6wzs6r2smdh0000gn/T/ipykernel_761/1621033755.py:10: SettingWithCopyWarning:\n",
      "\n",
      "\n",
      "A value is trying to be set on a copy of a slice from a DataFrame.\n",
      "Try using .loc[row_indexer,col_indexer] = value instead\n",
      "\n",
      "See the caveats in the documentation: https://pandas.pydata.org/pandas-docs/stable/user_guide/indexing.html#returning-a-view-versus-a-copy\n",
      "\n",
      "/var/folders/qj/xh48vw9d4z5_h6wzs6r2smdh0000gn/T/ipykernel_761/1621033755.py:10: SettingWithCopyWarning:\n",
      "\n",
      "\n",
      "A value is trying to be set on a copy of a slice from a DataFrame.\n",
      "Try using .loc[row_indexer,col_indexer] = value instead\n",
      "\n",
      "See the caveats in the documentation: https://pandas.pydata.org/pandas-docs/stable/user_guide/indexing.html#returning-a-view-versus-a-copy\n",
      "\n",
      "/var/folders/qj/xh48vw9d4z5_h6wzs6r2smdh0000gn/T/ipykernel_761/1621033755.py:10: SettingWithCopyWarning:\n",
      "\n",
      "\n",
      "A value is trying to be set on a copy of a slice from a DataFrame.\n",
      "Try using .loc[row_indexer,col_indexer] = value instead\n",
      "\n",
      "See the caveats in the documentation: https://pandas.pydata.org/pandas-docs/stable/user_guide/indexing.html#returning-a-view-versus-a-copy\n",
      "\n",
      "/var/folders/qj/xh48vw9d4z5_h6wzs6r2smdh0000gn/T/ipykernel_761/1621033755.py:10: SettingWithCopyWarning:\n",
      "\n",
      "\n",
      "A value is trying to be set on a copy of a slice from a DataFrame.\n",
      "Try using .loc[row_indexer,col_indexer] = value instead\n",
      "\n",
      "See the caveats in the documentation: https://pandas.pydata.org/pandas-docs/stable/user_guide/indexing.html#returning-a-view-versus-a-copy\n",
      "\n",
      "/var/folders/qj/xh48vw9d4z5_h6wzs6r2smdh0000gn/T/ipykernel_761/1621033755.py:10: SettingWithCopyWarning:\n",
      "\n",
      "\n",
      "A value is trying to be set on a copy of a slice from a DataFrame.\n",
      "Try using .loc[row_indexer,col_indexer] = value instead\n",
      "\n",
      "See the caveats in the documentation: https://pandas.pydata.org/pandas-docs/stable/user_guide/indexing.html#returning-a-view-versus-a-copy\n",
      "\n",
      "/var/folders/qj/xh48vw9d4z5_h6wzs6r2smdh0000gn/T/ipykernel_761/1621033755.py:10: SettingWithCopyWarning:\n",
      "\n",
      "\n",
      "A value is trying to be set on a copy of a slice from a DataFrame.\n",
      "Try using .loc[row_indexer,col_indexer] = value instead\n",
      "\n",
      "See the caveats in the documentation: https://pandas.pydata.org/pandas-docs/stable/user_guide/indexing.html#returning-a-view-versus-a-copy\n",
      "\n",
      "/var/folders/qj/xh48vw9d4z5_h6wzs6r2smdh0000gn/T/ipykernel_761/1621033755.py:10: SettingWithCopyWarning:\n",
      "\n",
      "\n",
      "A value is trying to be set on a copy of a slice from a DataFrame.\n",
      "Try using .loc[row_indexer,col_indexer] = value instead\n",
      "\n",
      "See the caveats in the documentation: https://pandas.pydata.org/pandas-docs/stable/user_guide/indexing.html#returning-a-view-versus-a-copy\n",
      "\n",
      "/var/folders/qj/xh48vw9d4z5_h6wzs6r2smdh0000gn/T/ipykernel_761/1621033755.py:10: SettingWithCopyWarning:\n",
      "\n",
      "\n",
      "A value is trying to be set on a copy of a slice from a DataFrame.\n",
      "Try using .loc[row_indexer,col_indexer] = value instead\n",
      "\n",
      "See the caveats in the documentation: https://pandas.pydata.org/pandas-docs/stable/user_guide/indexing.html#returning-a-view-versus-a-copy\n",
      "\n",
      "/var/folders/qj/xh48vw9d4z5_h6wzs6r2smdh0000gn/T/ipykernel_761/1621033755.py:10: SettingWithCopyWarning:\n",
      "\n",
      "\n",
      "A value is trying to be set on a copy of a slice from a DataFrame.\n",
      "Try using .loc[row_indexer,col_indexer] = value instead\n",
      "\n",
      "See the caveats in the documentation: https://pandas.pydata.org/pandas-docs/stable/user_guide/indexing.html#returning-a-view-versus-a-copy\n",
      "\n",
      "/var/folders/qj/xh48vw9d4z5_h6wzs6r2smdh0000gn/T/ipykernel_761/1621033755.py:10: SettingWithCopyWarning:\n",
      "\n",
      "\n",
      "A value is trying to be set on a copy of a slice from a DataFrame.\n",
      "Try using .loc[row_indexer,col_indexer] = value instead\n",
      "\n",
      "See the caveats in the documentation: https://pandas.pydata.org/pandas-docs/stable/user_guide/indexing.html#returning-a-view-versus-a-copy\n",
      "\n",
      "/var/folders/qj/xh48vw9d4z5_h6wzs6r2smdh0000gn/T/ipykernel_761/1621033755.py:10: SettingWithCopyWarning:\n",
      "\n",
      "\n",
      "A value is trying to be set on a copy of a slice from a DataFrame.\n",
      "Try using .loc[row_indexer,col_indexer] = value instead\n",
      "\n",
      "See the caveats in the documentation: https://pandas.pydata.org/pandas-docs/stable/user_guide/indexing.html#returning-a-view-versus-a-copy\n",
      "\n",
      "/var/folders/qj/xh48vw9d4z5_h6wzs6r2smdh0000gn/T/ipykernel_761/1621033755.py:10: SettingWithCopyWarning:\n",
      "\n",
      "\n",
      "A value is trying to be set on a copy of a slice from a DataFrame.\n",
      "Try using .loc[row_indexer,col_indexer] = value instead\n",
      "\n",
      "See the caveats in the documentation: https://pandas.pydata.org/pandas-docs/stable/user_guide/indexing.html#returning-a-view-versus-a-copy\n",
      "\n",
      "/var/folders/qj/xh48vw9d4z5_h6wzs6r2smdh0000gn/T/ipykernel_761/1621033755.py:10: SettingWithCopyWarning:\n",
      "\n",
      "\n",
      "A value is trying to be set on a copy of a slice from a DataFrame.\n",
      "Try using .loc[row_indexer,col_indexer] = value instead\n",
      "\n",
      "See the caveats in the documentation: https://pandas.pydata.org/pandas-docs/stable/user_guide/indexing.html#returning-a-view-versus-a-copy\n",
      "\n",
      "/var/folders/qj/xh48vw9d4z5_h6wzs6r2smdh0000gn/T/ipykernel_761/1621033755.py:10: SettingWithCopyWarning:\n",
      "\n",
      "\n",
      "A value is trying to be set on a copy of a slice from a DataFrame.\n",
      "Try using .loc[row_indexer,col_indexer] = value instead\n",
      "\n",
      "See the caveats in the documentation: https://pandas.pydata.org/pandas-docs/stable/user_guide/indexing.html#returning-a-view-versus-a-copy\n",
      "\n"
     ]
    }
   ],
   "source": [
    "# create subset for females \n",
    "complete = pd.concat([old,new])\n",
    "nationalities = ', '.join(complete.Nationality)\n",
    "nationalities = list(set(nationalities.split(', ')))\n",
    "df_MC_nats_F = pd.DataFrame(columns= [\"Nationality\", \"DateAcquired\", \"Count\", \"Gender\"]) \n",
    "\n",
    "for nat in nationalities:\n",
    "    nat_sub =  complete[complete.Nationality == nat]\n",
    "    sub_f = nat_sub[nat_sub.Gender == 'F']   \n",
    "    sub_f.DateAcquired = sub_f.DateAcquired.astype('str')\n",
    "    years = ', '.join(sub_f.DateAcquired)\n",
    "    years = sorted(list([item[:4] for item in list(set(years.split(', ')))]))[0:-1]\n",
    "    for year in years:\n",
    "        year_sub = sub_f[sub_f.DateAcquired == year]\n",
    "        f_count = len(year_sub[year_sub.Gender == 'F'])\n",
    "        df_MC_nats_F.loc[len(df_MC_nats_F.index)] = [nat, year, f_count, 'F']\n",
    "\n",
    "df_MC_nats_F.DateAcquired = df_MC_nats_F.DateAcquired.astype('int')\n",
    "df_MC_nats_F = df_MC_nats_F[df_MC_nats_F.DateAcquired >0]"
   ]
  },
  {
   "cell_type": "code",
   "execution_count": null,
   "metadata": {},
   "outputs": [
    {
     "name": "stderr",
     "output_type": "stream",
     "text": [
      "/var/folders/qj/xh48vw9d4z5_h6wzs6r2smdh0000gn/T/ipykernel_761/2588963876.py:7: SettingWithCopyWarning:\n",
      "\n",
      "\n",
      "A value is trying to be set on a copy of a slice from a DataFrame.\n",
      "Try using .loc[row_indexer,col_indexer] = value instead\n",
      "\n",
      "See the caveats in the documentation: https://pandas.pydata.org/pandas-docs/stable/user_guide/indexing.html#returning-a-view-versus-a-copy\n",
      "\n",
      "/var/folders/qj/xh48vw9d4z5_h6wzs6r2smdh0000gn/T/ipykernel_761/2588963876.py:7: SettingWithCopyWarning:\n",
      "\n",
      "\n",
      "A value is trying to be set on a copy of a slice from a DataFrame.\n",
      "Try using .loc[row_indexer,col_indexer] = value instead\n",
      "\n",
      "See the caveats in the documentation: https://pandas.pydata.org/pandas-docs/stable/user_guide/indexing.html#returning-a-view-versus-a-copy\n",
      "\n",
      "/var/folders/qj/xh48vw9d4z5_h6wzs6r2smdh0000gn/T/ipykernel_761/2588963876.py:7: SettingWithCopyWarning:\n",
      "\n",
      "\n",
      "A value is trying to be set on a copy of a slice from a DataFrame.\n",
      "Try using .loc[row_indexer,col_indexer] = value instead\n",
      "\n",
      "See the caveats in the documentation: https://pandas.pydata.org/pandas-docs/stable/user_guide/indexing.html#returning-a-view-versus-a-copy\n",
      "\n",
      "/var/folders/qj/xh48vw9d4z5_h6wzs6r2smdh0000gn/T/ipykernel_761/2588963876.py:7: SettingWithCopyWarning:\n",
      "\n",
      "\n",
      "A value is trying to be set on a copy of a slice from a DataFrame.\n",
      "Try using .loc[row_indexer,col_indexer] = value instead\n",
      "\n",
      "See the caveats in the documentation: https://pandas.pydata.org/pandas-docs/stable/user_guide/indexing.html#returning-a-view-versus-a-copy\n",
      "\n",
      "/var/folders/qj/xh48vw9d4z5_h6wzs6r2smdh0000gn/T/ipykernel_761/2588963876.py:7: SettingWithCopyWarning:\n",
      "\n",
      "\n",
      "A value is trying to be set on a copy of a slice from a DataFrame.\n",
      "Try using .loc[row_indexer,col_indexer] = value instead\n",
      "\n",
      "See the caveats in the documentation: https://pandas.pydata.org/pandas-docs/stable/user_guide/indexing.html#returning-a-view-versus-a-copy\n",
      "\n",
      "/var/folders/qj/xh48vw9d4z5_h6wzs6r2smdh0000gn/T/ipykernel_761/2588963876.py:7: SettingWithCopyWarning:\n",
      "\n",
      "\n",
      "A value is trying to be set on a copy of a slice from a DataFrame.\n",
      "Try using .loc[row_indexer,col_indexer] = value instead\n",
      "\n",
      "See the caveats in the documentation: https://pandas.pydata.org/pandas-docs/stable/user_guide/indexing.html#returning-a-view-versus-a-copy\n",
      "\n",
      "/var/folders/qj/xh48vw9d4z5_h6wzs6r2smdh0000gn/T/ipykernel_761/2588963876.py:7: SettingWithCopyWarning:\n",
      "\n",
      "\n",
      "A value is trying to be set on a copy of a slice from a DataFrame.\n",
      "Try using .loc[row_indexer,col_indexer] = value instead\n",
      "\n",
      "See the caveats in the documentation: https://pandas.pydata.org/pandas-docs/stable/user_guide/indexing.html#returning-a-view-versus-a-copy\n",
      "\n",
      "/var/folders/qj/xh48vw9d4z5_h6wzs6r2smdh0000gn/T/ipykernel_761/2588963876.py:7: SettingWithCopyWarning:\n",
      "\n",
      "\n",
      "A value is trying to be set on a copy of a slice from a DataFrame.\n",
      "Try using .loc[row_indexer,col_indexer] = value instead\n",
      "\n",
      "See the caveats in the documentation: https://pandas.pydata.org/pandas-docs/stable/user_guide/indexing.html#returning-a-view-versus-a-copy\n",
      "\n",
      "/var/folders/qj/xh48vw9d4z5_h6wzs6r2smdh0000gn/T/ipykernel_761/2588963876.py:7: SettingWithCopyWarning:\n",
      "\n",
      "\n",
      "A value is trying to be set on a copy of a slice from a DataFrame.\n",
      "Try using .loc[row_indexer,col_indexer] = value instead\n",
      "\n",
      "See the caveats in the documentation: https://pandas.pydata.org/pandas-docs/stable/user_guide/indexing.html#returning-a-view-versus-a-copy\n",
      "\n",
      "/var/folders/qj/xh48vw9d4z5_h6wzs6r2smdh0000gn/T/ipykernel_761/2588963876.py:7: SettingWithCopyWarning:\n",
      "\n",
      "\n",
      "A value is trying to be set on a copy of a slice from a DataFrame.\n",
      "Try using .loc[row_indexer,col_indexer] = value instead\n",
      "\n",
      "See the caveats in the documentation: https://pandas.pydata.org/pandas-docs/stable/user_guide/indexing.html#returning-a-view-versus-a-copy\n",
      "\n",
      "/var/folders/qj/xh48vw9d4z5_h6wzs6r2smdh0000gn/T/ipykernel_761/2588963876.py:7: SettingWithCopyWarning:\n",
      "\n",
      "\n",
      "A value is trying to be set on a copy of a slice from a DataFrame.\n",
      "Try using .loc[row_indexer,col_indexer] = value instead\n",
      "\n",
      "See the caveats in the documentation: https://pandas.pydata.org/pandas-docs/stable/user_guide/indexing.html#returning-a-view-versus-a-copy\n",
      "\n",
      "/var/folders/qj/xh48vw9d4z5_h6wzs6r2smdh0000gn/T/ipykernel_761/2588963876.py:7: SettingWithCopyWarning:\n",
      "\n",
      "\n",
      "A value is trying to be set on a copy of a slice from a DataFrame.\n",
      "Try using .loc[row_indexer,col_indexer] = value instead\n",
      "\n",
      "See the caveats in the documentation: https://pandas.pydata.org/pandas-docs/stable/user_guide/indexing.html#returning-a-view-versus-a-copy\n",
      "\n",
      "/var/folders/qj/xh48vw9d4z5_h6wzs6r2smdh0000gn/T/ipykernel_761/2588963876.py:7: SettingWithCopyWarning:\n",
      "\n",
      "\n",
      "A value is trying to be set on a copy of a slice from a DataFrame.\n",
      "Try using .loc[row_indexer,col_indexer] = value instead\n",
      "\n",
      "See the caveats in the documentation: https://pandas.pydata.org/pandas-docs/stable/user_guide/indexing.html#returning-a-view-versus-a-copy\n",
      "\n",
      "/var/folders/qj/xh48vw9d4z5_h6wzs6r2smdh0000gn/T/ipykernel_761/2588963876.py:7: SettingWithCopyWarning:\n",
      "\n",
      "\n",
      "A value is trying to be set on a copy of a slice from a DataFrame.\n",
      "Try using .loc[row_indexer,col_indexer] = value instead\n",
      "\n",
      "See the caveats in the documentation: https://pandas.pydata.org/pandas-docs/stable/user_guide/indexing.html#returning-a-view-versus-a-copy\n",
      "\n",
      "/var/folders/qj/xh48vw9d4z5_h6wzs6r2smdh0000gn/T/ipykernel_761/2588963876.py:7: SettingWithCopyWarning:\n",
      "\n",
      "\n",
      "A value is trying to be set on a copy of a slice from a DataFrame.\n",
      "Try using .loc[row_indexer,col_indexer] = value instead\n",
      "\n",
      "See the caveats in the documentation: https://pandas.pydata.org/pandas-docs/stable/user_guide/indexing.html#returning-a-view-versus-a-copy\n",
      "\n",
      "/var/folders/qj/xh48vw9d4z5_h6wzs6r2smdh0000gn/T/ipykernel_761/2588963876.py:7: SettingWithCopyWarning:\n",
      "\n",
      "\n",
      "A value is trying to be set on a copy of a slice from a DataFrame.\n",
      "Try using .loc[row_indexer,col_indexer] = value instead\n",
      "\n",
      "See the caveats in the documentation: https://pandas.pydata.org/pandas-docs/stable/user_guide/indexing.html#returning-a-view-versus-a-copy\n",
      "\n",
      "/var/folders/qj/xh48vw9d4z5_h6wzs6r2smdh0000gn/T/ipykernel_761/2588963876.py:7: SettingWithCopyWarning:\n",
      "\n",
      "\n",
      "A value is trying to be set on a copy of a slice from a DataFrame.\n",
      "Try using .loc[row_indexer,col_indexer] = value instead\n",
      "\n",
      "See the caveats in the documentation: https://pandas.pydata.org/pandas-docs/stable/user_guide/indexing.html#returning-a-view-versus-a-copy\n",
      "\n",
      "/var/folders/qj/xh48vw9d4z5_h6wzs6r2smdh0000gn/T/ipykernel_761/2588963876.py:7: SettingWithCopyWarning:\n",
      "\n",
      "\n",
      "A value is trying to be set on a copy of a slice from a DataFrame.\n",
      "Try using .loc[row_indexer,col_indexer] = value instead\n",
      "\n",
      "See the caveats in the documentation: https://pandas.pydata.org/pandas-docs/stable/user_guide/indexing.html#returning-a-view-versus-a-copy\n",
      "\n",
      "/var/folders/qj/xh48vw9d4z5_h6wzs6r2smdh0000gn/T/ipykernel_761/2588963876.py:7: SettingWithCopyWarning:\n",
      "\n",
      "\n",
      "A value is trying to be set on a copy of a slice from a DataFrame.\n",
      "Try using .loc[row_indexer,col_indexer] = value instead\n",
      "\n",
      "See the caveats in the documentation: https://pandas.pydata.org/pandas-docs/stable/user_guide/indexing.html#returning-a-view-versus-a-copy\n",
      "\n",
      "/var/folders/qj/xh48vw9d4z5_h6wzs6r2smdh0000gn/T/ipykernel_761/2588963876.py:7: SettingWithCopyWarning:\n",
      "\n",
      "\n",
      "A value is trying to be set on a copy of a slice from a DataFrame.\n",
      "Try using .loc[row_indexer,col_indexer] = value instead\n",
      "\n",
      "See the caveats in the documentation: https://pandas.pydata.org/pandas-docs/stable/user_guide/indexing.html#returning-a-view-versus-a-copy\n",
      "\n",
      "/var/folders/qj/xh48vw9d4z5_h6wzs6r2smdh0000gn/T/ipykernel_761/2588963876.py:7: SettingWithCopyWarning:\n",
      "\n",
      "\n",
      "A value is trying to be set on a copy of a slice from a DataFrame.\n",
      "Try using .loc[row_indexer,col_indexer] = value instead\n",
      "\n",
      "See the caveats in the documentation: https://pandas.pydata.org/pandas-docs/stable/user_guide/indexing.html#returning-a-view-versus-a-copy\n",
      "\n",
      "/var/folders/qj/xh48vw9d4z5_h6wzs6r2smdh0000gn/T/ipykernel_761/2588963876.py:7: SettingWithCopyWarning:\n",
      "\n",
      "\n",
      "A value is trying to be set on a copy of a slice from a DataFrame.\n",
      "Try using .loc[row_indexer,col_indexer] = value instead\n",
      "\n",
      "See the caveats in the documentation: https://pandas.pydata.org/pandas-docs/stable/user_guide/indexing.html#returning-a-view-versus-a-copy\n",
      "\n",
      "/var/folders/qj/xh48vw9d4z5_h6wzs6r2smdh0000gn/T/ipykernel_761/2588963876.py:7: SettingWithCopyWarning:\n",
      "\n",
      "\n",
      "A value is trying to be set on a copy of a slice from a DataFrame.\n",
      "Try using .loc[row_indexer,col_indexer] = value instead\n",
      "\n",
      "See the caveats in the documentation: https://pandas.pydata.org/pandas-docs/stable/user_guide/indexing.html#returning-a-view-versus-a-copy\n",
      "\n",
      "/var/folders/qj/xh48vw9d4z5_h6wzs6r2smdh0000gn/T/ipykernel_761/2588963876.py:7: SettingWithCopyWarning:\n",
      "\n",
      "\n",
      "A value is trying to be set on a copy of a slice from a DataFrame.\n",
      "Try using .loc[row_indexer,col_indexer] = value instead\n",
      "\n",
      "See the caveats in the documentation: https://pandas.pydata.org/pandas-docs/stable/user_guide/indexing.html#returning-a-view-versus-a-copy\n",
      "\n",
      "/var/folders/qj/xh48vw9d4z5_h6wzs6r2smdh0000gn/T/ipykernel_761/2588963876.py:7: SettingWithCopyWarning:\n",
      "\n",
      "\n",
      "A value is trying to be set on a copy of a slice from a DataFrame.\n",
      "Try using .loc[row_indexer,col_indexer] = value instead\n",
      "\n",
      "See the caveats in the documentation: https://pandas.pydata.org/pandas-docs/stable/user_guide/indexing.html#returning-a-view-versus-a-copy\n",
      "\n",
      "/var/folders/qj/xh48vw9d4z5_h6wzs6r2smdh0000gn/T/ipykernel_761/2588963876.py:7: SettingWithCopyWarning:\n",
      "\n",
      "\n",
      "A value is trying to be set on a copy of a slice from a DataFrame.\n",
      "Try using .loc[row_indexer,col_indexer] = value instead\n",
      "\n",
      "See the caveats in the documentation: https://pandas.pydata.org/pandas-docs/stable/user_guide/indexing.html#returning-a-view-versus-a-copy\n",
      "\n",
      "/var/folders/qj/xh48vw9d4z5_h6wzs6r2smdh0000gn/T/ipykernel_761/2588963876.py:7: SettingWithCopyWarning:\n",
      "\n",
      "\n",
      "A value is trying to be set on a copy of a slice from a DataFrame.\n",
      "Try using .loc[row_indexer,col_indexer] = value instead\n",
      "\n",
      "See the caveats in the documentation: https://pandas.pydata.org/pandas-docs/stable/user_guide/indexing.html#returning-a-view-versus-a-copy\n",
      "\n",
      "/var/folders/qj/xh48vw9d4z5_h6wzs6r2smdh0000gn/T/ipykernel_761/2588963876.py:7: SettingWithCopyWarning:\n",
      "\n",
      "\n",
      "A value is trying to be set on a copy of a slice from a DataFrame.\n",
      "Try using .loc[row_indexer,col_indexer] = value instead\n",
      "\n",
      "See the caveats in the documentation: https://pandas.pydata.org/pandas-docs/stable/user_guide/indexing.html#returning-a-view-versus-a-copy\n",
      "\n",
      "/var/folders/qj/xh48vw9d4z5_h6wzs6r2smdh0000gn/T/ipykernel_761/2588963876.py:7: SettingWithCopyWarning:\n",
      "\n",
      "\n",
      "A value is trying to be set on a copy of a slice from a DataFrame.\n",
      "Try using .loc[row_indexer,col_indexer] = value instead\n",
      "\n",
      "See the caveats in the documentation: https://pandas.pydata.org/pandas-docs/stable/user_guide/indexing.html#returning-a-view-versus-a-copy\n",
      "\n",
      "/var/folders/qj/xh48vw9d4z5_h6wzs6r2smdh0000gn/T/ipykernel_761/2588963876.py:7: SettingWithCopyWarning:\n",
      "\n",
      "\n",
      "A value is trying to be set on a copy of a slice from a DataFrame.\n",
      "Try using .loc[row_indexer,col_indexer] = value instead\n",
      "\n",
      "See the caveats in the documentation: https://pandas.pydata.org/pandas-docs/stable/user_guide/indexing.html#returning-a-view-versus-a-copy\n",
      "\n",
      "/var/folders/qj/xh48vw9d4z5_h6wzs6r2smdh0000gn/T/ipykernel_761/2588963876.py:7: SettingWithCopyWarning:\n",
      "\n",
      "\n",
      "A value is trying to be set on a copy of a slice from a DataFrame.\n",
      "Try using .loc[row_indexer,col_indexer] = value instead\n",
      "\n",
      "See the caveats in the documentation: https://pandas.pydata.org/pandas-docs/stable/user_guide/indexing.html#returning-a-view-versus-a-copy\n",
      "\n",
      "/var/folders/qj/xh48vw9d4z5_h6wzs6r2smdh0000gn/T/ipykernel_761/2588963876.py:7: SettingWithCopyWarning:\n",
      "\n",
      "\n",
      "A value is trying to be set on a copy of a slice from a DataFrame.\n",
      "Try using .loc[row_indexer,col_indexer] = value instead\n",
      "\n",
      "See the caveats in the documentation: https://pandas.pydata.org/pandas-docs/stable/user_guide/indexing.html#returning-a-view-versus-a-copy\n",
      "\n",
      "/var/folders/qj/xh48vw9d4z5_h6wzs6r2smdh0000gn/T/ipykernel_761/2588963876.py:7: SettingWithCopyWarning:\n",
      "\n",
      "\n",
      "A value is trying to be set on a copy of a slice from a DataFrame.\n",
      "Try using .loc[row_indexer,col_indexer] = value instead\n",
      "\n",
      "See the caveats in the documentation: https://pandas.pydata.org/pandas-docs/stable/user_guide/indexing.html#returning-a-view-versus-a-copy\n",
      "\n",
      "/var/folders/qj/xh48vw9d4z5_h6wzs6r2smdh0000gn/T/ipykernel_761/2588963876.py:7: SettingWithCopyWarning:\n",
      "\n",
      "\n",
      "A value is trying to be set on a copy of a slice from a DataFrame.\n",
      "Try using .loc[row_indexer,col_indexer] = value instead\n",
      "\n",
      "See the caveats in the documentation: https://pandas.pydata.org/pandas-docs/stable/user_guide/indexing.html#returning-a-view-versus-a-copy\n",
      "\n",
      "/var/folders/qj/xh48vw9d4z5_h6wzs6r2smdh0000gn/T/ipykernel_761/2588963876.py:7: SettingWithCopyWarning:\n",
      "\n",
      "\n",
      "A value is trying to be set on a copy of a slice from a DataFrame.\n",
      "Try using .loc[row_indexer,col_indexer] = value instead\n",
      "\n",
      "See the caveats in the documentation: https://pandas.pydata.org/pandas-docs/stable/user_guide/indexing.html#returning-a-view-versus-a-copy\n",
      "\n",
      "/var/folders/qj/xh48vw9d4z5_h6wzs6r2smdh0000gn/T/ipykernel_761/2588963876.py:7: SettingWithCopyWarning:\n",
      "\n",
      "\n",
      "A value is trying to be set on a copy of a slice from a DataFrame.\n",
      "Try using .loc[row_indexer,col_indexer] = value instead\n",
      "\n",
      "See the caveats in the documentation: https://pandas.pydata.org/pandas-docs/stable/user_guide/indexing.html#returning-a-view-versus-a-copy\n",
      "\n",
      "/var/folders/qj/xh48vw9d4z5_h6wzs6r2smdh0000gn/T/ipykernel_761/2588963876.py:7: SettingWithCopyWarning:\n",
      "\n",
      "\n",
      "A value is trying to be set on a copy of a slice from a DataFrame.\n",
      "Try using .loc[row_indexer,col_indexer] = value instead\n",
      "\n",
      "See the caveats in the documentation: https://pandas.pydata.org/pandas-docs/stable/user_guide/indexing.html#returning-a-view-versus-a-copy\n",
      "\n",
      "/var/folders/qj/xh48vw9d4z5_h6wzs6r2smdh0000gn/T/ipykernel_761/2588963876.py:7: SettingWithCopyWarning:\n",
      "\n",
      "\n",
      "A value is trying to be set on a copy of a slice from a DataFrame.\n",
      "Try using .loc[row_indexer,col_indexer] = value instead\n",
      "\n",
      "See the caveats in the documentation: https://pandas.pydata.org/pandas-docs/stable/user_guide/indexing.html#returning-a-view-versus-a-copy\n",
      "\n",
      "/var/folders/qj/xh48vw9d4z5_h6wzs6r2smdh0000gn/T/ipykernel_761/2588963876.py:7: SettingWithCopyWarning:\n",
      "\n",
      "\n",
      "A value is trying to be set on a copy of a slice from a DataFrame.\n",
      "Try using .loc[row_indexer,col_indexer] = value instead\n",
      "\n",
      "See the caveats in the documentation: https://pandas.pydata.org/pandas-docs/stable/user_guide/indexing.html#returning-a-view-versus-a-copy\n",
      "\n",
      "/var/folders/qj/xh48vw9d4z5_h6wzs6r2smdh0000gn/T/ipykernel_761/2588963876.py:7: SettingWithCopyWarning:\n",
      "\n",
      "\n",
      "A value is trying to be set on a copy of a slice from a DataFrame.\n",
      "Try using .loc[row_indexer,col_indexer] = value instead\n",
      "\n",
      "See the caveats in the documentation: https://pandas.pydata.org/pandas-docs/stable/user_guide/indexing.html#returning-a-view-versus-a-copy\n",
      "\n",
      "/var/folders/qj/xh48vw9d4z5_h6wzs6r2smdh0000gn/T/ipykernel_761/2588963876.py:7: SettingWithCopyWarning:\n",
      "\n",
      "\n",
      "A value is trying to be set on a copy of a slice from a DataFrame.\n",
      "Try using .loc[row_indexer,col_indexer] = value instead\n",
      "\n",
      "See the caveats in the documentation: https://pandas.pydata.org/pandas-docs/stable/user_guide/indexing.html#returning-a-view-versus-a-copy\n",
      "\n",
      "/var/folders/qj/xh48vw9d4z5_h6wzs6r2smdh0000gn/T/ipykernel_761/2588963876.py:7: SettingWithCopyWarning:\n",
      "\n",
      "\n",
      "A value is trying to be set on a copy of a slice from a DataFrame.\n",
      "Try using .loc[row_indexer,col_indexer] = value instead\n",
      "\n",
      "See the caveats in the documentation: https://pandas.pydata.org/pandas-docs/stable/user_guide/indexing.html#returning-a-view-versus-a-copy\n",
      "\n",
      "/var/folders/qj/xh48vw9d4z5_h6wzs6r2smdh0000gn/T/ipykernel_761/2588963876.py:7: SettingWithCopyWarning:\n",
      "\n",
      "\n",
      "A value is trying to be set on a copy of a slice from a DataFrame.\n",
      "Try using .loc[row_indexer,col_indexer] = value instead\n",
      "\n",
      "See the caveats in the documentation: https://pandas.pydata.org/pandas-docs/stable/user_guide/indexing.html#returning-a-view-versus-a-copy\n",
      "\n",
      "/var/folders/qj/xh48vw9d4z5_h6wzs6r2smdh0000gn/T/ipykernel_761/2588963876.py:7: SettingWithCopyWarning:\n",
      "\n",
      "\n",
      "A value is trying to be set on a copy of a slice from a DataFrame.\n",
      "Try using .loc[row_indexer,col_indexer] = value instead\n",
      "\n",
      "See the caveats in the documentation: https://pandas.pydata.org/pandas-docs/stable/user_guide/indexing.html#returning-a-view-versus-a-copy\n",
      "\n",
      "/var/folders/qj/xh48vw9d4z5_h6wzs6r2smdh0000gn/T/ipykernel_761/2588963876.py:7: SettingWithCopyWarning:\n",
      "\n",
      "\n",
      "A value is trying to be set on a copy of a slice from a DataFrame.\n",
      "Try using .loc[row_indexer,col_indexer] = value instead\n",
      "\n",
      "See the caveats in the documentation: https://pandas.pydata.org/pandas-docs/stable/user_guide/indexing.html#returning-a-view-versus-a-copy\n",
      "\n",
      "/var/folders/qj/xh48vw9d4z5_h6wzs6r2smdh0000gn/T/ipykernel_761/2588963876.py:7: SettingWithCopyWarning:\n",
      "\n",
      "\n",
      "A value is trying to be set on a copy of a slice from a DataFrame.\n",
      "Try using .loc[row_indexer,col_indexer] = value instead\n",
      "\n",
      "See the caveats in the documentation: https://pandas.pydata.org/pandas-docs/stable/user_guide/indexing.html#returning-a-view-versus-a-copy\n",
      "\n",
      "/var/folders/qj/xh48vw9d4z5_h6wzs6r2smdh0000gn/T/ipykernel_761/2588963876.py:7: SettingWithCopyWarning:\n",
      "\n",
      "\n",
      "A value is trying to be set on a copy of a slice from a DataFrame.\n",
      "Try using .loc[row_indexer,col_indexer] = value instead\n",
      "\n",
      "See the caveats in the documentation: https://pandas.pydata.org/pandas-docs/stable/user_guide/indexing.html#returning-a-view-versus-a-copy\n",
      "\n",
      "/var/folders/qj/xh48vw9d4z5_h6wzs6r2smdh0000gn/T/ipykernel_761/2588963876.py:7: SettingWithCopyWarning:\n",
      "\n",
      "\n",
      "A value is trying to be set on a copy of a slice from a DataFrame.\n",
      "Try using .loc[row_indexer,col_indexer] = value instead\n",
      "\n",
      "See the caveats in the documentation: https://pandas.pydata.org/pandas-docs/stable/user_guide/indexing.html#returning-a-view-versus-a-copy\n",
      "\n",
      "/var/folders/qj/xh48vw9d4z5_h6wzs6r2smdh0000gn/T/ipykernel_761/2588963876.py:7: SettingWithCopyWarning:\n",
      "\n",
      "\n",
      "A value is trying to be set on a copy of a slice from a DataFrame.\n",
      "Try using .loc[row_indexer,col_indexer] = value instead\n",
      "\n",
      "See the caveats in the documentation: https://pandas.pydata.org/pandas-docs/stable/user_guide/indexing.html#returning-a-view-versus-a-copy\n",
      "\n",
      "/var/folders/qj/xh48vw9d4z5_h6wzs6r2smdh0000gn/T/ipykernel_761/2588963876.py:7: SettingWithCopyWarning:\n",
      "\n",
      "\n",
      "A value is trying to be set on a copy of a slice from a DataFrame.\n",
      "Try using .loc[row_indexer,col_indexer] = value instead\n",
      "\n",
      "See the caveats in the documentation: https://pandas.pydata.org/pandas-docs/stable/user_guide/indexing.html#returning-a-view-versus-a-copy\n",
      "\n",
      "/var/folders/qj/xh48vw9d4z5_h6wzs6r2smdh0000gn/T/ipykernel_761/2588963876.py:7: SettingWithCopyWarning:\n",
      "\n",
      "\n",
      "A value is trying to be set on a copy of a slice from a DataFrame.\n",
      "Try using .loc[row_indexer,col_indexer] = value instead\n",
      "\n",
      "See the caveats in the documentation: https://pandas.pydata.org/pandas-docs/stable/user_guide/indexing.html#returning-a-view-versus-a-copy\n",
      "\n",
      "/var/folders/qj/xh48vw9d4z5_h6wzs6r2smdh0000gn/T/ipykernel_761/2588963876.py:7: SettingWithCopyWarning:\n",
      "\n",
      "\n",
      "A value is trying to be set on a copy of a slice from a DataFrame.\n",
      "Try using .loc[row_indexer,col_indexer] = value instead\n",
      "\n",
      "See the caveats in the documentation: https://pandas.pydata.org/pandas-docs/stable/user_guide/indexing.html#returning-a-view-versus-a-copy\n",
      "\n",
      "/var/folders/qj/xh48vw9d4z5_h6wzs6r2smdh0000gn/T/ipykernel_761/2588963876.py:7: SettingWithCopyWarning:\n",
      "\n",
      "\n",
      "A value is trying to be set on a copy of a slice from a DataFrame.\n",
      "Try using .loc[row_indexer,col_indexer] = value instead\n",
      "\n",
      "See the caveats in the documentation: https://pandas.pydata.org/pandas-docs/stable/user_guide/indexing.html#returning-a-view-versus-a-copy\n",
      "\n",
      "/var/folders/qj/xh48vw9d4z5_h6wzs6r2smdh0000gn/T/ipykernel_761/2588963876.py:7: SettingWithCopyWarning:\n",
      "\n",
      "\n",
      "A value is trying to be set on a copy of a slice from a DataFrame.\n",
      "Try using .loc[row_indexer,col_indexer] = value instead\n",
      "\n",
      "See the caveats in the documentation: https://pandas.pydata.org/pandas-docs/stable/user_guide/indexing.html#returning-a-view-versus-a-copy\n",
      "\n",
      "/var/folders/qj/xh48vw9d4z5_h6wzs6r2smdh0000gn/T/ipykernel_761/2588963876.py:7: SettingWithCopyWarning:\n",
      "\n",
      "\n",
      "A value is trying to be set on a copy of a slice from a DataFrame.\n",
      "Try using .loc[row_indexer,col_indexer] = value instead\n",
      "\n",
      "See the caveats in the documentation: https://pandas.pydata.org/pandas-docs/stable/user_guide/indexing.html#returning-a-view-versus-a-copy\n",
      "\n",
      "/var/folders/qj/xh48vw9d4z5_h6wzs6r2smdh0000gn/T/ipykernel_761/2588963876.py:7: SettingWithCopyWarning:\n",
      "\n",
      "\n",
      "A value is trying to be set on a copy of a slice from a DataFrame.\n",
      "Try using .loc[row_indexer,col_indexer] = value instead\n",
      "\n",
      "See the caveats in the documentation: https://pandas.pydata.org/pandas-docs/stable/user_guide/indexing.html#returning-a-view-versus-a-copy\n",
      "\n",
      "/var/folders/qj/xh48vw9d4z5_h6wzs6r2smdh0000gn/T/ipykernel_761/2588963876.py:7: SettingWithCopyWarning:\n",
      "\n",
      "\n",
      "A value is trying to be set on a copy of a slice from a DataFrame.\n",
      "Try using .loc[row_indexer,col_indexer] = value instead\n",
      "\n",
      "See the caveats in the documentation: https://pandas.pydata.org/pandas-docs/stable/user_guide/indexing.html#returning-a-view-versus-a-copy\n",
      "\n",
      "/var/folders/qj/xh48vw9d4z5_h6wzs6r2smdh0000gn/T/ipykernel_761/2588963876.py:7: SettingWithCopyWarning:\n",
      "\n",
      "\n",
      "A value is trying to be set on a copy of a slice from a DataFrame.\n",
      "Try using .loc[row_indexer,col_indexer] = value instead\n",
      "\n",
      "See the caveats in the documentation: https://pandas.pydata.org/pandas-docs/stable/user_guide/indexing.html#returning-a-view-versus-a-copy\n",
      "\n",
      "/var/folders/qj/xh48vw9d4z5_h6wzs6r2smdh0000gn/T/ipykernel_761/2588963876.py:7: SettingWithCopyWarning:\n",
      "\n",
      "\n",
      "A value is trying to be set on a copy of a slice from a DataFrame.\n",
      "Try using .loc[row_indexer,col_indexer] = value instead\n",
      "\n",
      "See the caveats in the documentation: https://pandas.pydata.org/pandas-docs/stable/user_guide/indexing.html#returning-a-view-versus-a-copy\n",
      "\n",
      "/var/folders/qj/xh48vw9d4z5_h6wzs6r2smdh0000gn/T/ipykernel_761/2588963876.py:7: SettingWithCopyWarning:\n",
      "\n",
      "\n",
      "A value is trying to be set on a copy of a slice from a DataFrame.\n",
      "Try using .loc[row_indexer,col_indexer] = value instead\n",
      "\n",
      "See the caveats in the documentation: https://pandas.pydata.org/pandas-docs/stable/user_guide/indexing.html#returning-a-view-versus-a-copy\n",
      "\n",
      "/var/folders/qj/xh48vw9d4z5_h6wzs6r2smdh0000gn/T/ipykernel_761/2588963876.py:7: SettingWithCopyWarning:\n",
      "\n",
      "\n",
      "A value is trying to be set on a copy of a slice from a DataFrame.\n",
      "Try using .loc[row_indexer,col_indexer] = value instead\n",
      "\n",
      "See the caveats in the documentation: https://pandas.pydata.org/pandas-docs/stable/user_guide/indexing.html#returning-a-view-versus-a-copy\n",
      "\n",
      "/var/folders/qj/xh48vw9d4z5_h6wzs6r2smdh0000gn/T/ipykernel_761/2588963876.py:7: SettingWithCopyWarning:\n",
      "\n",
      "\n",
      "A value is trying to be set on a copy of a slice from a DataFrame.\n",
      "Try using .loc[row_indexer,col_indexer] = value instead\n",
      "\n",
      "See the caveats in the documentation: https://pandas.pydata.org/pandas-docs/stable/user_guide/indexing.html#returning-a-view-versus-a-copy\n",
      "\n",
      "/var/folders/qj/xh48vw9d4z5_h6wzs6r2smdh0000gn/T/ipykernel_761/2588963876.py:7: SettingWithCopyWarning:\n",
      "\n",
      "\n",
      "A value is trying to be set on a copy of a slice from a DataFrame.\n",
      "Try using .loc[row_indexer,col_indexer] = value instead\n",
      "\n",
      "See the caveats in the documentation: https://pandas.pydata.org/pandas-docs/stable/user_guide/indexing.html#returning-a-view-versus-a-copy\n",
      "\n",
      "/var/folders/qj/xh48vw9d4z5_h6wzs6r2smdh0000gn/T/ipykernel_761/2588963876.py:7: SettingWithCopyWarning:\n",
      "\n",
      "\n",
      "A value is trying to be set on a copy of a slice from a DataFrame.\n",
      "Try using .loc[row_indexer,col_indexer] = value instead\n",
      "\n",
      "See the caveats in the documentation: https://pandas.pydata.org/pandas-docs/stable/user_guide/indexing.html#returning-a-view-versus-a-copy\n",
      "\n",
      "/var/folders/qj/xh48vw9d4z5_h6wzs6r2smdh0000gn/T/ipykernel_761/2588963876.py:7: SettingWithCopyWarning:\n",
      "\n",
      "\n",
      "A value is trying to be set on a copy of a slice from a DataFrame.\n",
      "Try using .loc[row_indexer,col_indexer] = value instead\n",
      "\n",
      "See the caveats in the documentation: https://pandas.pydata.org/pandas-docs/stable/user_guide/indexing.html#returning-a-view-versus-a-copy\n",
      "\n"
     ]
    }
   ],
   "source": [
    "#create subset for males \n",
    "df_MC_nats_M = pd.DataFrame(columns= [\"Nationality\", \"DateAcquired\", \"Count\", \"Gender\"]) \n",
    "\n",
    "for nat in nationalities:\n",
    "    nat_sub =  complete[complete.Nationality == nat]\n",
    "    sub_m = nat_sub[nat_sub.Gender == 'M']   \n",
    "    sub_m.DateAcquired = sub_m.DateAcquired.astype('str')\n",
    "    years = ', '.join(sub_m.DateAcquired)\n",
    "    years = sorted(list([item[:4] for item in list(set(years.split(', ')))]))[0:-1]\n",
    "    for year in years:\n",
    "        year_sub = sub_m[sub_m.DateAcquired == year]\n",
    "        m_count = len(year_sub[year_sub.Gender == 'M'])\n",
    "        df_MC_nats_M.loc[len(df_MC_nats_M.index)] = [nat, year, m_count, 'M']\n",
    "\n",
    "df_MC_nats_M.DateAcquired = df_MC_nats_M.DateAcquired.astype('int')\n",
    "df_MC_nats_M = df_MC_nats_M[df_MC_nats_M.DateAcquired >0]"
   ]
  },
  {
   "cell_type": "code",
   "execution_count": null,
   "metadata": {},
   "outputs": [
    {
     "data": {
      "application/vnd.plotly.v1+json": {
       "config": {
        "plotlyServerURL": "https://plot.ly"
       },
       "data": [
        {
         "hovertemplate": "Gender=F<br>DateAcquired=%{x}<br>Nationality=%{y}<br>Count=%{marker.size}<extra></extra>",
         "legendgroup": "F",
         "marker": {
          "color": "red",
          "opacity": 0.3,
          "size": [
           14,
           4,
           12,
           4,
           2,
           14,
           1,
           3,
           15,
           6,
           28,
           1,
           5,
           1,
           1,
           1,
           1,
           14,
           3,
           11,
           14,
           4,
           7,
           16,
           42,
           19,
           20,
           4,
           1,
           1,
           1,
           2,
           1,
           1,
           2,
           5,
           22,
           10,
           1,
           4,
           6,
           1,
           1,
           10,
           4,
           27,
           1,
           2,
           2,
           1,
           284,
           12,
           1,
           8,
           3,
           4,
           1,
           2,
           2,
           12,
           1,
           2,
           1,
           16,
           18,
           1,
           3,
           1,
           1,
           1,
           9,
           2,
           21,
           4,
           2,
           6,
           61,
           7,
           15,
           19,
           7,
           9,
           1,
           1,
           3,
           1,
           4,
           3,
           7,
           2,
           3,
           4,
           2,
           1,
           36,
           2,
           2,
           34,
           5,
           3,
           8,
           15,
           3,
           1,
           1,
           35,
           4,
           19,
           1,
           2,
           1,
           31,
           1,
           28,
           2,
           10,
           1,
           1,
           1,
           9,
           1,
           1,
           3,
           1,
           1,
           4,
           1,
           4,
           3,
           120,
           103,
           94,
           54,
           191,
           551,
           152,
           128,
           1318,
           319,
           330,
           5,
           4,
           4,
           3,
           77,
           2,
           4,
           107,
           8,
           4,
           1,
           1,
           1,
           6,
           1,
           19,
           1,
           1,
           11,
           10,
           1,
           1,
           1,
           3,
           1,
           1,
           11,
           1,
           13,
           3,
           2,
           5,
           1,
           6,
           1,
           12,
           1,
           3,
           13,
           7,
           2,
           3,
           7,
           2,
           2,
           5,
           1,
           23,
           1,
           1,
           2,
           1,
           4,
           1,
           3,
           3,
           1,
           1,
           1
          ],
          "sizemode": "area",
          "sizeref": 6.39,
          "symbol": "circle"
         },
         "mode": "markers",
         "name": "F",
         "orientation": "h",
         "showlegend": true,
         "type": "scatter",
         "x": [
          2000,
          2001,
          2005,
          2006,
          2007,
          2001,
          2003,
          2004,
          2005,
          2006,
          2007,
          2008,
          2009,
          2001,
          2005,
          2006,
          2007,
          2009,
          2010,
          2000,
          2001,
          2002,
          2003,
          2004,
          2005,
          2006,
          2007,
          2008,
          2009,
          2010,
          2004,
          2005,
          2010,
          2001,
          2002,
          2005,
          2006,
          2007,
          2008,
          2009,
          2010,
          2000,
          2001,
          2002,
          2005,
          2008,
          2000,
          2007,
          2006,
          2001,
          2001,
          2002,
          2006,
          2007,
          2006,
          2010,
          2008,
          2002,
          2005,
          2007,
          2008,
          2009,
          2004,
          2009,
          2010,
          2001,
          2006,
          2002,
          2003,
          2005,
          2000,
          2000,
          2001,
          2002,
          2003,
          2004,
          2005,
          2006,
          2007,
          2008,
          2009,
          2010,
          2005,
          2009,
          2006,
          2007,
          2005,
          2007,
          2008,
          2003,
          2004,
          2007,
          2008,
          2000,
          2001,
          2002,
          2004,
          2005,
          2006,
          2007,
          2008,
          2009,
          2010,
          2000,
          2004,
          2005,
          2006,
          2007,
          2009,
          2010,
          2006,
          2001,
          2002,
          2006,
          2007,
          2008,
          2000,
          2005,
          2009,
          2002,
          2003,
          2004,
          2005,
          2006,
          2007,
          2008,
          2002,
          2008,
          2009,
          2000,
          2001,
          2002,
          2003,
          2004,
          2005,
          2006,
          2007,
          2008,
          2009,
          2010,
          2000,
          2001,
          2002,
          2004,
          2005,
          2006,
          2007,
          2008,
          2009,
          2010,
          2009,
          2006,
          2003,
          2005,
          2006,
          2010,
          2000,
          2007,
          2000,
          2003,
          2005,
          2004,
          2008,
          2001,
          2002,
          2003,
          2005,
          2004,
          2005,
          2006,
          2000,
          2001,
          2003,
          2005,
          2007,
          2008,
          2009,
          2010,
          2000,
          2006,
          2005,
          2001,
          2004,
          2005,
          2008,
          2009,
          2000,
          2001,
          2003,
          2004,
          2005,
          2006,
          2008,
          2000,
          2005,
          2007,
          2009,
          2000,
          2001
         ],
         "xaxis": "x",
         "y": [
          "Italian",
          "Italian",
          "Italian",
          "Italian",
          "Italian",
          "Dutch",
          "Dutch",
          "Dutch",
          "Dutch",
          "Dutch",
          "Dutch",
          "Dutch",
          "Dutch",
          "Belgian",
          "Belgian",
          "Belgian",
          "Belgian",
          "Belgian",
          "Belgian",
          "British",
          "British",
          "British",
          "British",
          "British",
          "British",
          "British",
          "British",
          "British",
          "British",
          "British",
          "Finnish",
          "Finnish",
          "Finnish",
          "Austrian",
          "Austrian",
          "Austrian",
          "Austrian",
          "Austrian",
          "Austrian",
          "Austrian",
          "Austrian",
          "Pakistani",
          "Pakistani",
          "Pakistani",
          "Pakistani",
          "Pakistani",
          "Iranian",
          "Iranian",
          "Bosnian",
          "Czech",
          "Russian",
          "Russian",
          "Russian",
          "Russian",
          "Croatian",
          "Croatian",
          "Hungarian",
          "Polish",
          "Polish",
          "Polish",
          "Polish",
          "Polish",
          "Colombian",
          "Colombian",
          "Colombian",
          "Turkish",
          "Turkish",
          "Cuban",
          "Cuban",
          "Cuban",
          "Icelandic",
          "German",
          "German",
          "German",
          "German",
          "German",
          "German",
          "German",
          "German",
          "German",
          "German",
          "German",
          "Norwegian",
          "Norwegian",
          "Indian",
          "Indian",
          "Slovenian",
          "Peruvian",
          "Peruvian",
          "Chinese",
          "Chinese",
          "Chinese",
          "Chinese",
          "Brazilian",
          "Brazilian",
          "Brazilian",
          "Brazilian",
          "Brazilian",
          "Brazilian",
          "Brazilian",
          "Brazilian",
          "Brazilian",
          "Brazilian",
          "South African",
          "South African",
          "South African",
          "South African",
          "South African",
          "South African",
          "South African",
          "Malaysian",
          "missing",
          "missing",
          "missing",
          "missing",
          "missing",
          "Argentine",
          "Argentine",
          "Argentine",
          "Israeli",
          "Israeli",
          "Israeli",
          "Israeli",
          "Israeli",
          "Israeli",
          "Israeli",
          "Swedish",
          "Swedish",
          "Swedish",
          "American",
          "American",
          "American",
          "American",
          "American",
          "American",
          "American",
          "American",
          "American",
          "American",
          "American",
          "Japanese",
          "Japanese",
          "Japanese",
          "Japanese",
          "Japanese",
          "Japanese",
          "Japanese",
          "Japanese",
          "Japanese",
          "Japanese",
          "Yugoslav",
          "Slovak",
          "Korean",
          "Korean",
          "Korean",
          "Korean",
          "Taiwanese",
          "Egyptian",
          "Australian",
          "Australian",
          "Australian",
          "Irish",
          "Irish",
          "Canadian",
          "Canadian",
          "Canadian",
          "Canadian",
          "Spanish",
          "Spanish",
          "Spanish",
          "Swiss",
          "Swiss",
          "Swiss",
          "Swiss",
          "Swiss",
          "Swiss",
          "Swiss",
          "Swiss",
          "Mexican",
          "Mexican",
          "Kenyan",
          "Venezuelan",
          "Venezuelan",
          "Venezuelan",
          "Venezuelan",
          "Venezuelan",
          "French",
          "French",
          "French",
          "French",
          "French",
          "French",
          "French",
          "Danish",
          "Danish",
          "Danish",
          "Danish",
          "Bahamian",
          "Bahamian"
         ],
         "yaxis": "y"
        },
        {
         "hovertemplate": "Gender=M<br>DateAcquired=%{x}<br>Nationality=%{y}<br>Count=%{marker.size}<extra></extra>",
         "legendgroup": "M",
         "marker": {
          "color": "blue",
          "opacity": 0.3,
          "size": [
           41,
           31,
           2,
           11,
           6,
           53,
           16,
           22,
           72,
           1,
           132,
           7,
           14,
           8,
           2,
           1,
           20,
           6,
           78,
           72,
           2,
           6,
           8,
           1,
           10,
           6,
           1,
           4,
           20,
           5,
           143,
           13,
           6,
           35,
           36,
           59,
           35,
           15,
           125,
           105,
           68,
           65,
           22,
           16,
           5,
           10,
           1,
           6,
           25,
           2,
           4,
           9,
           1,
           9,
           71,
           62,
           7,
           16,
           12,
           1,
           1,
           1,
           1,
           2,
           7,
           3,
           15,
           5,
           7,
           1,
           169,
           2,
           1,
           1,
           4,
           785,
           6,
           1,
           15,
           1,
           2,
           2,
           3,
           33,
           3,
           7,
           13,
           3,
           2,
           3,
           1,
           2,
           2,
           8,
           4,
           1,
           6,
           10,
           2,
           1,
           15,
           8,
           5,
           11,
           34,
           2,
           12,
           4,
           241,
           106,
           1,
           1,
           5,
           1,
           2,
           4,
           2,
           3,
           2,
           4,
           1,
           3,
           1,
           31,
           183,
           21,
           28,
           14,
           407,
           76,
           34,
           161,
           10,
           139,
           3,
           3,
           1,
           1,
           5,
           4,
           4,
           1,
           1,
           1,
           32,
           1,
           1,
           1,
           6,
           20,
           1,
           1,
           1,
           1,
           1,
           15,
           15,
           7,
           13,
           35,
           3,
           31,
           2,
           3,
           3,
           1,
           2,
           1,
           20,
           17,
           1,
           1,
           2,
           33,
           6,
           12,
           33,
           6,
           2,
           12,
           7,
           18,
           36,
           52,
           29,
           7,
           22,
           36,
           1,
           2,
           186,
           3,
           1,
           13,
           20,
           3,
           14,
           1,
           1,
           1,
           2,
           1,
           19,
           1,
           4,
           16,
           214,
           6,
           16,
           10,
           3,
           1,
           1,
           3,
           2,
           1,
           4,
           9,
           2,
           8,
           4,
           5,
           3,
           4,
           2,
           1122,
           724,
           181,
           225,
           190,
           1625,
           471,
           510,
           2556,
           373,
           289,
           24,
           24,
           142,
           2,
           9,
           27,
           24,
           183,
           114,
           5,
           32,
           1,
           4,
           2,
           1,
           2,
           3,
           1,
           3,
           6,
           4,
           13,
           3,
           30,
           1,
           1,
           15,
           7,
           1,
           1,
           1,
           1,
           2,
           1,
           1,
           14,
           1,
           1,
           5,
           2,
           1,
           7,
           1,
           7,
           42,
           87,
           12,
           17,
           63,
           1,
           5,
           13,
           1,
           3,
           4,
           21,
           9,
           5,
           5,
           9,
           2,
           27,
           14,
           6,
           26,
           58,
           67,
           21,
           221,
           51,
           46,
           7,
           7,
           1,
           11,
           19,
           8,
           1,
           10,
           13,
           4,
           1,
           1,
           4,
           2,
           2,
           12,
           1,
           2,
           1,
           25,
           5,
           203,
           52,
           2,
           21,
           5,
           88,
           37,
           47,
           379,
           201,
           40,
           2,
           9,
           1,
           5,
           4,
           16,
           2,
           1,
           3,
           26,
           8,
           3,
           75,
           2,
           6
          ],
          "sizemode": "area",
          "sizeref": 6.39,
          "symbol": "circle"
         },
         "mode": "markers",
         "name": "M",
         "orientation": "h",
         "showlegend": true,
         "type": "scatter",
         "x": [
          2000,
          2001,
          2002,
          2003,
          2004,
          2005,
          2006,
          2007,
          2008,
          2009,
          2010,
          2000,
          2001,
          2002,
          2003,
          2004,
          2005,
          2006,
          2007,
          2008,
          2009,
          2010,
          2010,
          2000,
          2001,
          2002,
          2003,
          2004,
          2005,
          2006,
          2007,
          2008,
          2009,
          2000,
          2001,
          2002,
          2003,
          2004,
          2005,
          2006,
          2007,
          2008,
          2009,
          2010,
          2000,
          2001,
          2002,
          2004,
          2005,
          2006,
          2000,
          2001,
          2003,
          2004,
          2005,
          2006,
          2007,
          2008,
          2010,
          2001,
          2007,
          2000,
          2005,
          2006,
          2008,
          2000,
          2001,
          2005,
          2006,
          2007,
          2008,
          2010,
          2006,
          2008,
          2000,
          2001,
          2002,
          2003,
          2006,
          2007,
          2010,
          2004,
          2010,
          2001,
          2005,
          2006,
          2007,
          2003,
          2004,
          2005,
          2008,
          2010,
          2000,
          2001,
          2006,
          2009,
          2010,
          2000,
          2001,
          2003,
          2005,
          2006,
          2008,
          2010,
          2005,
          2006,
          2007,
          2008,
          2009,
          2010,
          2005,
          2004,
          2006,
          2000,
          2001,
          2003,
          2004,
          2005,
          2007,
          2008,
          2003,
          2006,
          2008,
          2000,
          2001,
          2002,
          2003,
          2004,
          2005,
          2006,
          2007,
          2008,
          2009,
          2010,
          2002,
          2005,
          2006,
          2007,
          2008,
          2001,
          2005,
          2007,
          2003,
          2004,
          2008,
          2005,
          2006,
          2010,
          2000,
          2006,
          2008,
          2003,
          2005,
          2007,
          2002,
          2004,
          2005,
          2006,
          2007,
          2008,
          2009,
          2010,
          2006,
          2007,
          2010,
          2004,
          2005,
          2006,
          2000,
          2001,
          2002,
          2003,
          2004,
          2005,
          2006,
          2007,
          2008,
          2009,
          2010,
          2001,
          2002,
          2004,
          2005,
          2006,
          2007,
          2008,
          2009,
          2010,
          2006,
          2000,
          2001,
          2002,
          2003,
          2005,
          2006,
          2007,
          2008,
          2006,
          2009,
          2000,
          2001,
          2002,
          2003,
          2004,
          2005,
          2006,
          2007,
          2008,
          2009,
          2010,
          2005,
          2008,
          2000,
          2005,
          2006,
          2007,
          2009,
          2010,
          2000,
          2001,
          2004,
          2005,
          2006,
          2008,
          2009,
          2000,
          2001,
          2002,
          2003,
          2004,
          2005,
          2006,
          2007,
          2008,
          2009,
          2010,
          2000,
          2001,
          2002,
          2003,
          2004,
          2005,
          2006,
          2007,
          2008,
          2009,
          2010,
          2002,
          2006,
          2000,
          2001,
          2002,
          2003,
          2004,
          2005,
          2010,
          2005,
          2001,
          2002,
          2001,
          2006,
          2001,
          2005,
          2006,
          2007,
          2008,
          2009,
          2005,
          2006,
          2002,
          2002,
          2005,
          2006,
          2008,
          2010,
          2006,
          2007,
          2000,
          2002,
          2003,
          2004,
          2005,
          2006,
          2007,
          2008,
          2009,
          2000,
          2001,
          2002,
          2003,
          2004,
          2005,
          2006,
          2007,
          2008,
          2009,
          2010,
          2000,
          2001,
          2002,
          2003,
          2004,
          2005,
          2006,
          2007,
          2008,
          2009,
          2010,
          2001,
          2002,
          2004,
          2005,
          2006,
          2007,
          2008,
          2009,
          2010,
          2007,
          2008,
          2004,
          2005,
          2006,
          2002,
          2003,
          2004,
          2005,
          2007,
          2010,
          2000,
          2001,
          2002,
          2003,
          2004,
          2005,
          2006,
          2007,
          2008,
          2009,
          2010,
          2006,
          2008,
          2001,
          2003,
          2000,
          2001,
          2002,
          2003,
          2004,
          2005,
          2006,
          2007,
          2008,
          2009,
          2010
         ],
         "xaxis": "x",
         "y": [
          "Italian",
          "Italian",
          "Italian",
          "Italian",
          "Italian",
          "Italian",
          "Italian",
          "Italian",
          "Italian",
          "Italian",
          "Italian",
          "Dutch",
          "Dutch",
          "Dutch",
          "Dutch",
          "Dutch",
          "Dutch",
          "Dutch",
          "Dutch",
          "Dutch",
          "Dutch",
          "Dutch",
          "Zimbabwean",
          "Belgian",
          "Belgian",
          "Belgian",
          "Belgian",
          "Belgian",
          "Belgian",
          "Belgian",
          "Belgian",
          "Belgian",
          "Belgian",
          "British",
          "British",
          "British",
          "British",
          "British",
          "British",
          "British",
          "British",
          "British",
          "British",
          "British",
          "Finnish",
          "Finnish",
          "Finnish",
          "Finnish",
          "Finnish",
          "Finnish",
          "Austrian",
          "Austrian",
          "Austrian",
          "Austrian",
          "Austrian",
          "Austrian",
          "Austrian",
          "Austrian",
          "Austrian",
          "Bosnian",
          "Bosnian",
          "Thai",
          "Thai",
          "Thai",
          "Thai",
          "Czech",
          "Czech",
          "Czech",
          "Czech",
          "Czech",
          "Czech",
          "Czech",
          "Ivorian",
          "New Zealander",
          "Russian",
          "Russian",
          "Russian",
          "Russian",
          "Russian",
          "Russian",
          "Russian",
          "Chilean",
          "Chilean",
          "Croatian",
          "Croatian",
          "Croatian",
          "Croatian",
          "Uruguayan",
          "Uruguayan",
          "Uruguayan",
          "Uruguayan",
          "Uruguayan",
          "Hungarian",
          "Hungarian",
          "Hungarian",
          "Hungarian",
          "Hungarian",
          "Polish",
          "Polish",
          "Polish",
          "Polish",
          "Polish",
          "Polish",
          "Polish",
          "Colombian",
          "Colombian",
          "Colombian",
          "Colombian",
          "Colombian",
          "Colombian",
          "Nigerian",
          "Turkish",
          "Turkish",
          "Cuban",
          "Cuban",
          "Cuban",
          "Cuban",
          "Cuban",
          "Cuban",
          "Cuban",
          "Icelandic",
          "Icelandic",
          "Icelandic",
          "German",
          "German",
          "German",
          "German",
          "German",
          "German",
          "German",
          "German",
          "German",
          "German",
          "German",
          "Norwegian",
          "Norwegian",
          "Norwegian",
          "Norwegian",
          "Norwegian",
          "Indian",
          "Indian",
          "Indian",
          "Lebanese",
          "Lebanese",
          "Lebanese",
          "Slovenian",
          "Slovenian",
          "Slovenian",
          "Luxembourgish",
          "Luxembourgish",
          "Luxembourgish",
          "Peruvian",
          "Peruvian",
          "Peruvian",
          "Chinese",
          "Chinese",
          "Chinese",
          "Chinese",
          "Chinese",
          "Chinese",
          "Chinese",
          "Chinese",
          "Romanian",
          "Romanian",
          "Romanian",
          "Albanian",
          "Albanian",
          "Albanian",
          "Brazilian",
          "Brazilian",
          "Brazilian",
          "Brazilian",
          "Brazilian",
          "Brazilian",
          "Brazilian",
          "Brazilian",
          "Brazilian",
          "Brazilian",
          "Brazilian",
          "South African",
          "South African",
          "South African",
          "South African",
          "South African",
          "South African",
          "South African",
          "South African",
          "South African",
          "Malaysian",
          "missing",
          "missing",
          "missing",
          "missing",
          "missing",
          "missing",
          "missing",
          "missing",
          "Serbian",
          "Serbian",
          "Argentine",
          "Argentine",
          "Argentine",
          "Argentine",
          "Argentine",
          "Argentine",
          "Argentine",
          "Argentine",
          "Argentine",
          "Argentine",
          "Argentine",
          "Georgian",
          "Georgian",
          "Israeli",
          "Israeli",
          "Israeli",
          "Israeli",
          "Israeli",
          "Israeli",
          "Swedish",
          "Swedish",
          "Swedish",
          "Swedish",
          "Swedish",
          "Swedish",
          "Swedish",
          "American",
          "American",
          "American",
          "American",
          "American",
          "American",
          "American",
          "American",
          "American",
          "American",
          "American",
          "Japanese",
          "Japanese",
          "Japanese",
          "Japanese",
          "Japanese",
          "Japanese",
          "Japanese",
          "Japanese",
          "Japanese",
          "Japanese",
          "Japanese",
          "Yugoslav",
          "Slovak",
          "Korean",
          "Korean",
          "Korean",
          "Korean",
          "Korean",
          "Korean",
          "Korean",
          "Greek",
          "Latvian",
          "Latvian",
          "Ukrainian",
          "Singaporean",
          "Scottish",
          "Scottish",
          "Scottish",
          "Scottish",
          "Scottish",
          "Scottish",
          "Egyptian",
          "Egyptian",
          "Congolese",
          "Australian",
          "Australian",
          "Australian",
          "Australian",
          "Australian",
          "Irish",
          "Irish",
          "Canadian",
          "Canadian",
          "Canadian",
          "Canadian",
          "Canadian",
          "Canadian",
          "Canadian",
          "Canadian",
          "Canadian",
          "Spanish",
          "Spanish",
          "Spanish",
          "Spanish",
          "Spanish",
          "Spanish",
          "Spanish",
          "Spanish",
          "Spanish",
          "Spanish",
          "Spanish",
          "Swiss",
          "Swiss",
          "Swiss",
          "Swiss",
          "Swiss",
          "Swiss",
          "Swiss",
          "Swiss",
          "Swiss",
          "Swiss",
          "Swiss",
          "Mexican",
          "Mexican",
          "Mexican",
          "Mexican",
          "Mexican",
          "Mexican",
          "Mexican",
          "Mexican",
          "Mexican",
          "Ghanaian",
          "Ghanaian",
          "Bulgarian",
          "Bulgarian",
          "Bulgarian",
          "Venezuelan",
          "Venezuelan",
          "Venezuelan",
          "Venezuelan",
          "Venezuelan",
          "Venezuelan",
          "French",
          "French",
          "French",
          "French",
          "French",
          "French",
          "French",
          "French",
          "French",
          "French",
          "French",
          "Lithuanian",
          "Lithuanian",
          "Malian",
          "Malian",
          "Danish",
          "Danish",
          "Danish",
          "Danish",
          "Danish",
          "Danish",
          "Danish",
          "Danish",
          "Danish",
          "Danish",
          "Danish"
         ],
         "yaxis": "y"
        }
       ],
       "layout": {
        "height": 700,
        "legend": {
         "itemsizing": "constant",
         "title": {
          "text": "Gender"
         },
         "tracegroupgap": 0
        },
        "paper_bgcolor": "rgb(255, 255, 255)",
        "plot_bgcolor": "rgb(243, 243, 243)",
        "template": {
         "data": {
          "bar": [
           {
            "error_x": {
             "color": "#2a3f5f"
            },
            "error_y": {
             "color": "#2a3f5f"
            },
            "marker": {
             "line": {
              "color": "#E5ECF6",
              "width": 0.5
             },
             "pattern": {
              "fillmode": "overlay",
              "size": 10,
              "solidity": 0.2
             }
            },
            "type": "bar"
           }
          ],
          "barpolar": [
           {
            "marker": {
             "line": {
              "color": "#E5ECF6",
              "width": 0.5
             },
             "pattern": {
              "fillmode": "overlay",
              "size": 10,
              "solidity": 0.2
             }
            },
            "type": "barpolar"
           }
          ],
          "carpet": [
           {
            "aaxis": {
             "endlinecolor": "#2a3f5f",
             "gridcolor": "white",
             "linecolor": "white",
             "minorgridcolor": "white",
             "startlinecolor": "#2a3f5f"
            },
            "baxis": {
             "endlinecolor": "#2a3f5f",
             "gridcolor": "white",
             "linecolor": "white",
             "minorgridcolor": "white",
             "startlinecolor": "#2a3f5f"
            },
            "type": "carpet"
           }
          ],
          "choropleth": [
           {
            "colorbar": {
             "outlinewidth": 0,
             "ticks": ""
            },
            "type": "choropleth"
           }
          ],
          "contour": [
           {
            "colorbar": {
             "outlinewidth": 0,
             "ticks": ""
            },
            "colorscale": [
             [
              0,
              "#0d0887"
             ],
             [
              0.1111111111111111,
              "#46039f"
             ],
             [
              0.2222222222222222,
              "#7201a8"
             ],
             [
              0.3333333333333333,
              "#9c179e"
             ],
             [
              0.4444444444444444,
              "#bd3786"
             ],
             [
              0.5555555555555556,
              "#d8576b"
             ],
             [
              0.6666666666666666,
              "#ed7953"
             ],
             [
              0.7777777777777778,
              "#fb9f3a"
             ],
             [
              0.8888888888888888,
              "#fdca26"
             ],
             [
              1,
              "#f0f921"
             ]
            ],
            "type": "contour"
           }
          ],
          "contourcarpet": [
           {
            "colorbar": {
             "outlinewidth": 0,
             "ticks": ""
            },
            "type": "contourcarpet"
           }
          ],
          "heatmap": [
           {
            "colorbar": {
             "outlinewidth": 0,
             "ticks": ""
            },
            "colorscale": [
             [
              0,
              "#0d0887"
             ],
             [
              0.1111111111111111,
              "#46039f"
             ],
             [
              0.2222222222222222,
              "#7201a8"
             ],
             [
              0.3333333333333333,
              "#9c179e"
             ],
             [
              0.4444444444444444,
              "#bd3786"
             ],
             [
              0.5555555555555556,
              "#d8576b"
             ],
             [
              0.6666666666666666,
              "#ed7953"
             ],
             [
              0.7777777777777778,
              "#fb9f3a"
             ],
             [
              0.8888888888888888,
              "#fdca26"
             ],
             [
              1,
              "#f0f921"
             ]
            ],
            "type": "heatmap"
           }
          ],
          "heatmapgl": [
           {
            "colorbar": {
             "outlinewidth": 0,
             "ticks": ""
            },
            "colorscale": [
             [
              0,
              "#0d0887"
             ],
             [
              0.1111111111111111,
              "#46039f"
             ],
             [
              0.2222222222222222,
              "#7201a8"
             ],
             [
              0.3333333333333333,
              "#9c179e"
             ],
             [
              0.4444444444444444,
              "#bd3786"
             ],
             [
              0.5555555555555556,
              "#d8576b"
             ],
             [
              0.6666666666666666,
              "#ed7953"
             ],
             [
              0.7777777777777778,
              "#fb9f3a"
             ],
             [
              0.8888888888888888,
              "#fdca26"
             ],
             [
              1,
              "#f0f921"
             ]
            ],
            "type": "heatmapgl"
           }
          ],
          "histogram": [
           {
            "marker": {
             "pattern": {
              "fillmode": "overlay",
              "size": 10,
              "solidity": 0.2
             }
            },
            "type": "histogram"
           }
          ],
          "histogram2d": [
           {
            "colorbar": {
             "outlinewidth": 0,
             "ticks": ""
            },
            "colorscale": [
             [
              0,
              "#0d0887"
             ],
             [
              0.1111111111111111,
              "#46039f"
             ],
             [
              0.2222222222222222,
              "#7201a8"
             ],
             [
              0.3333333333333333,
              "#9c179e"
             ],
             [
              0.4444444444444444,
              "#bd3786"
             ],
             [
              0.5555555555555556,
              "#d8576b"
             ],
             [
              0.6666666666666666,
              "#ed7953"
             ],
             [
              0.7777777777777778,
              "#fb9f3a"
             ],
             [
              0.8888888888888888,
              "#fdca26"
             ],
             [
              1,
              "#f0f921"
             ]
            ],
            "type": "histogram2d"
           }
          ],
          "histogram2dcontour": [
           {
            "colorbar": {
             "outlinewidth": 0,
             "ticks": ""
            },
            "colorscale": [
             [
              0,
              "#0d0887"
             ],
             [
              0.1111111111111111,
              "#46039f"
             ],
             [
              0.2222222222222222,
              "#7201a8"
             ],
             [
              0.3333333333333333,
              "#9c179e"
             ],
             [
              0.4444444444444444,
              "#bd3786"
             ],
             [
              0.5555555555555556,
              "#d8576b"
             ],
             [
              0.6666666666666666,
              "#ed7953"
             ],
             [
              0.7777777777777778,
              "#fb9f3a"
             ],
             [
              0.8888888888888888,
              "#fdca26"
             ],
             [
              1,
              "#f0f921"
             ]
            ],
            "type": "histogram2dcontour"
           }
          ],
          "mesh3d": [
           {
            "colorbar": {
             "outlinewidth": 0,
             "ticks": ""
            },
            "type": "mesh3d"
           }
          ],
          "parcoords": [
           {
            "line": {
             "colorbar": {
              "outlinewidth": 0,
              "ticks": ""
             }
            },
            "type": "parcoords"
           }
          ],
          "pie": [
           {
            "automargin": true,
            "type": "pie"
           }
          ],
          "scatter": [
           {
            "fillpattern": {
             "fillmode": "overlay",
             "size": 10,
             "solidity": 0.2
            },
            "type": "scatter"
           }
          ],
          "scatter3d": [
           {
            "line": {
             "colorbar": {
              "outlinewidth": 0,
              "ticks": ""
             }
            },
            "marker": {
             "colorbar": {
              "outlinewidth": 0,
              "ticks": ""
             }
            },
            "type": "scatter3d"
           }
          ],
          "scattercarpet": [
           {
            "marker": {
             "colorbar": {
              "outlinewidth": 0,
              "ticks": ""
             }
            },
            "type": "scattercarpet"
           }
          ],
          "scattergeo": [
           {
            "marker": {
             "colorbar": {
              "outlinewidth": 0,
              "ticks": ""
             }
            },
            "type": "scattergeo"
           }
          ],
          "scattergl": [
           {
            "marker": {
             "colorbar": {
              "outlinewidth": 0,
              "ticks": ""
             }
            },
            "type": "scattergl"
           }
          ],
          "scattermapbox": [
           {
            "marker": {
             "colorbar": {
              "outlinewidth": 0,
              "ticks": ""
             }
            },
            "type": "scattermapbox"
           }
          ],
          "scatterpolar": [
           {
            "marker": {
             "colorbar": {
              "outlinewidth": 0,
              "ticks": ""
             }
            },
            "type": "scatterpolar"
           }
          ],
          "scatterpolargl": [
           {
            "marker": {
             "colorbar": {
              "outlinewidth": 0,
              "ticks": ""
             }
            },
            "type": "scatterpolargl"
           }
          ],
          "scatterternary": [
           {
            "marker": {
             "colorbar": {
              "outlinewidth": 0,
              "ticks": ""
             }
            },
            "type": "scatterternary"
           }
          ],
          "surface": [
           {
            "colorbar": {
             "outlinewidth": 0,
             "ticks": ""
            },
            "colorscale": [
             [
              0,
              "#0d0887"
             ],
             [
              0.1111111111111111,
              "#46039f"
             ],
             [
              0.2222222222222222,
              "#7201a8"
             ],
             [
              0.3333333333333333,
              "#9c179e"
             ],
             [
              0.4444444444444444,
              "#bd3786"
             ],
             [
              0.5555555555555556,
              "#d8576b"
             ],
             [
              0.6666666666666666,
              "#ed7953"
             ],
             [
              0.7777777777777778,
              "#fb9f3a"
             ],
             [
              0.8888888888888888,
              "#fdca26"
             ],
             [
              1,
              "#f0f921"
             ]
            ],
            "type": "surface"
           }
          ],
          "table": [
           {
            "cells": {
             "fill": {
              "color": "#EBF0F8"
             },
             "line": {
              "color": "white"
             }
            },
            "header": {
             "fill": {
              "color": "#C8D4E3"
             },
             "line": {
              "color": "white"
             }
            },
            "type": "table"
           }
          ]
         },
         "layout": {
          "annotationdefaults": {
           "arrowcolor": "#2a3f5f",
           "arrowhead": 0,
           "arrowwidth": 1
          },
          "autotypenumbers": "strict",
          "coloraxis": {
           "colorbar": {
            "outlinewidth": 0,
            "ticks": ""
           }
          },
          "colorscale": {
           "diverging": [
            [
             0,
             "#8e0152"
            ],
            [
             0.1,
             "#c51b7d"
            ],
            [
             0.2,
             "#de77ae"
            ],
            [
             0.3,
             "#f1b6da"
            ],
            [
             0.4,
             "#fde0ef"
            ],
            [
             0.5,
             "#f7f7f7"
            ],
            [
             0.6,
             "#e6f5d0"
            ],
            [
             0.7,
             "#b8e186"
            ],
            [
             0.8,
             "#7fbc41"
            ],
            [
             0.9,
             "#4d9221"
            ],
            [
             1,
             "#276419"
            ]
           ],
           "sequential": [
            [
             0,
             "#0d0887"
            ],
            [
             0.1111111111111111,
             "#46039f"
            ],
            [
             0.2222222222222222,
             "#7201a8"
            ],
            [
             0.3333333333333333,
             "#9c179e"
            ],
            [
             0.4444444444444444,
             "#bd3786"
            ],
            [
             0.5555555555555556,
             "#d8576b"
            ],
            [
             0.6666666666666666,
             "#ed7953"
            ],
            [
             0.7777777777777778,
             "#fb9f3a"
            ],
            [
             0.8888888888888888,
             "#fdca26"
            ],
            [
             1,
             "#f0f921"
            ]
           ],
           "sequentialminus": [
            [
             0,
             "#0d0887"
            ],
            [
             0.1111111111111111,
             "#46039f"
            ],
            [
             0.2222222222222222,
             "#7201a8"
            ],
            [
             0.3333333333333333,
             "#9c179e"
            ],
            [
             0.4444444444444444,
             "#bd3786"
            ],
            [
             0.5555555555555556,
             "#d8576b"
            ],
            [
             0.6666666666666666,
             "#ed7953"
            ],
            [
             0.7777777777777778,
             "#fb9f3a"
            ],
            [
             0.8888888888888888,
             "#fdca26"
            ],
            [
             1,
             "#f0f921"
            ]
           ]
          },
          "colorway": [
           "#636efa",
           "#EF553B",
           "#00cc96",
           "#ab63fa",
           "#FFA15A",
           "#19d3f3",
           "#FF6692",
           "#B6E880",
           "#FF97FF",
           "#FECB52"
          ],
          "font": {
           "color": "#2a3f5f"
          },
          "geo": {
           "bgcolor": "white",
           "lakecolor": "white",
           "landcolor": "#E5ECF6",
           "showlakes": true,
           "showland": true,
           "subunitcolor": "white"
          },
          "hoverlabel": {
           "align": "left"
          },
          "hovermode": "closest",
          "mapbox": {
           "style": "light"
          },
          "paper_bgcolor": "white",
          "plot_bgcolor": "#E5ECF6",
          "polar": {
           "angularaxis": {
            "gridcolor": "white",
            "linecolor": "white",
            "ticks": ""
           },
           "bgcolor": "#E5ECF6",
           "radialaxis": {
            "gridcolor": "white",
            "linecolor": "white",
            "ticks": ""
           }
          },
          "scene": {
           "xaxis": {
            "backgroundcolor": "#E5ECF6",
            "gridcolor": "white",
            "gridwidth": 2,
            "linecolor": "white",
            "showbackground": true,
            "ticks": "",
            "zerolinecolor": "white"
           },
           "yaxis": {
            "backgroundcolor": "#E5ECF6",
            "gridcolor": "white",
            "gridwidth": 2,
            "linecolor": "white",
            "showbackground": true,
            "ticks": "",
            "zerolinecolor": "white"
           },
           "zaxis": {
            "backgroundcolor": "#E5ECF6",
            "gridcolor": "white",
            "gridwidth": 2,
            "linecolor": "white",
            "showbackground": true,
            "ticks": "",
            "zerolinecolor": "white"
           }
          },
          "shapedefaults": {
           "line": {
            "color": "#2a3f5f"
           }
          },
          "ternary": {
           "aaxis": {
            "gridcolor": "white",
            "linecolor": "white",
            "ticks": ""
           },
           "baxis": {
            "gridcolor": "white",
            "linecolor": "white",
            "ticks": ""
           },
           "bgcolor": "#E5ECF6",
           "caxis": {
            "gridcolor": "white",
            "linecolor": "white",
            "ticks": ""
           }
          },
          "title": {
           "x": 0.05
          },
          "xaxis": {
           "automargin": true,
           "gridcolor": "white",
           "linecolor": "white",
           "ticks": "",
           "title": {
            "standoff": 15
           },
           "zerolinecolor": "white",
           "zerolinewidth": 2
          },
          "yaxis": {
           "automargin": true,
           "gridcolor": "white",
           "linecolor": "white",
           "ticks": "",
           "title": {
            "standoff": 15
           },
           "zerolinecolor": "white",
           "zerolinewidth": 2
          }
         }
        },
        "title": {
         "text": "MoMA's complete"
        },
        "width": 900,
        "xaxis": {
         "anchor": "y",
         "domain": [
          0,
          1
         ],
         "title": {
          "text": "DateAcquired"
         }
        },
        "yaxis": {
         "anchor": "x",
         "domain": [
          0,
          1
         ],
         "title": {
          "text": "Nationality"
         }
        }
       }
      }
     },
     "metadata": {},
     "output_type": "display_data"
    }
   ],
   "source": [
    "#plot bubble charts with acquisition over decades for moma complete\n",
    "Moma_complet_MFnat = pd.concat([df_MC_nats_F,df_MC_nats_M])\n",
    "df =Moma_complet_MFnat[(Moma_complet_MFnat['DateAcquired'] >= 2000) & (Moma_complet_MFnat['DateAcquired'] <= 2010)]\n",
    "\n",
    "\n",
    "fig43 = px.scatter(df,\n",
    "                 x=\"DateAcquired\", y=\"Nationality\", size=\"Count\", color=\"Gender\" ,\n",
    "                 opacity = 0.3,\n",
    "                 title=\"MoMA's complete\",\n",
    "\n",
    "             color_discrete_sequence=['red', 'blue'],\n",
    "                 width= 900,\n",
    "                 height= 700)\n",
    "\n",
    "fig43.update_layout(\n",
    "    paper_bgcolor='rgb(255, 255, 255)',\n",
    "    plot_bgcolor='rgb(243, 243, 243)',\n",
    "    )\n",
    "\n",
    "fig43.show()"
   ]
  },
  {
   "cell_type": "markdown",
   "metadata": {},
   "source": [
    "### Rhizome"
   ]
  },
  {
   "cell_type": "code",
   "execution_count": null,
   "metadata": {},
   "outputs": [
    {
     "data": {
      "text/html": [
       "<div>\n",
       "<style scoped>\n",
       "    .dataframe tbody tr th:only-of-type {\n",
       "        vertical-align: middle;\n",
       "    }\n",
       "\n",
       "    .dataframe tbody tr th {\n",
       "        vertical-align: top;\n",
       "    }\n",
       "\n",
       "    .dataframe thead th {\n",
       "        text-align: right;\n",
       "    }\n",
       "</style>\n",
       "<table border=\"1\" class=\"dataframe\">\n",
       "  <thead>\n",
       "    <tr style=\"text-align: right;\">\n",
       "      <th></th>\n",
       "      <th>Nationality</th>\n",
       "      <th>dateAcquired</th>\n",
       "      <th>Count</th>\n",
       "      <th>Gender</th>\n",
       "    </tr>\n",
       "  </thead>\n",
       "  <tbody>\n",
       "    <tr>\n",
       "      <th>0</th>\n",
       "      <td>Italian</td>\n",
       "      <td>2002</td>\n",
       "      <td>3</td>\n",
       "      <td>F</td>\n",
       "    </tr>\n",
       "    <tr>\n",
       "      <th>1</th>\n",
       "      <td>Italian</td>\n",
       "      <td>2005</td>\n",
       "      <td>5</td>\n",
       "      <td>F</td>\n",
       "    </tr>\n",
       "    <tr>\n",
       "      <th>2</th>\n",
       "      <td>Italian</td>\n",
       "      <td>2007</td>\n",
       "      <td>1</td>\n",
       "      <td>F</td>\n",
       "    </tr>\n",
       "    <tr>\n",
       "      <th>3</th>\n",
       "      <td>Dutch</td>\n",
       "      <td>2001</td>\n",
       "      <td>1</td>\n",
       "      <td>F</td>\n",
       "    </tr>\n",
       "    <tr>\n",
       "      <th>4</th>\n",
       "      <td>Dutch</td>\n",
       "      <td>2003</td>\n",
       "      <td>1</td>\n",
       "      <td>F</td>\n",
       "    </tr>\n",
       "    <tr>\n",
       "      <th>5</th>\n",
       "      <td>Dutch</td>\n",
       "      <td>2004</td>\n",
       "      <td>7</td>\n",
       "      <td>F</td>\n",
       "    </tr>\n",
       "    <tr>\n",
       "      <th>6</th>\n",
       "      <td>Dutch</td>\n",
       "      <td>2005</td>\n",
       "      <td>4</td>\n",
       "      <td>F</td>\n",
       "    </tr>\n",
       "    <tr>\n",
       "      <th>7</th>\n",
       "      <td>Dutch</td>\n",
       "      <td>2006</td>\n",
       "      <td>4</td>\n",
       "      <td>F</td>\n",
       "    </tr>\n",
       "    <tr>\n",
       "      <th>8</th>\n",
       "      <td>Dutch</td>\n",
       "      <td>2007</td>\n",
       "      <td>1</td>\n",
       "      <td>F</td>\n",
       "    </tr>\n",
       "    <tr>\n",
       "      <th>9</th>\n",
       "      <td>Dutch</td>\n",
       "      <td>2008</td>\n",
       "      <td>2</td>\n",
       "      <td>F</td>\n",
       "    </tr>\n",
       "    <tr>\n",
       "      <th>10</th>\n",
       "      <td>British</td>\n",
       "      <td>2000</td>\n",
       "      <td>1</td>\n",
       "      <td>F</td>\n",
       "    </tr>\n",
       "    <tr>\n",
       "      <th>11</th>\n",
       "      <td>British</td>\n",
       "      <td>2001</td>\n",
       "      <td>1</td>\n",
       "      <td>F</td>\n",
       "    </tr>\n",
       "    <tr>\n",
       "      <th>12</th>\n",
       "      <td>British</td>\n",
       "      <td>2002</td>\n",
       "      <td>12</td>\n",
       "      <td>F</td>\n",
       "    </tr>\n",
       "    <tr>\n",
       "      <th>13</th>\n",
       "      <td>British</td>\n",
       "      <td>2003</td>\n",
       "      <td>1</td>\n",
       "      <td>F</td>\n",
       "    </tr>\n",
       "    <tr>\n",
       "      <th>14</th>\n",
       "      <td>British</td>\n",
       "      <td>2004</td>\n",
       "      <td>5</td>\n",
       "      <td>F</td>\n",
       "    </tr>\n",
       "    <tr>\n",
       "      <th>15</th>\n",
       "      <td>British</td>\n",
       "      <td>2005</td>\n",
       "      <td>4</td>\n",
       "      <td>F</td>\n",
       "    </tr>\n",
       "    <tr>\n",
       "      <th>16</th>\n",
       "      <td>British</td>\n",
       "      <td>2006</td>\n",
       "      <td>5</td>\n",
       "      <td>F</td>\n",
       "    </tr>\n",
       "    <tr>\n",
       "      <th>17</th>\n",
       "      <td>British</td>\n",
       "      <td>2007</td>\n",
       "      <td>7</td>\n",
       "      <td>F</td>\n",
       "    </tr>\n",
       "    <tr>\n",
       "      <th>18</th>\n",
       "      <td>Austrian</td>\n",
       "      <td>2001</td>\n",
       "      <td>2</td>\n",
       "      <td>F</td>\n",
       "    </tr>\n",
       "    <tr>\n",
       "      <th>19</th>\n",
       "      <td>Austrian</td>\n",
       "      <td>2002</td>\n",
       "      <td>1</td>\n",
       "      <td>F</td>\n",
       "    </tr>\n",
       "    <tr>\n",
       "      <th>20</th>\n",
       "      <td>Austrian</td>\n",
       "      <td>2003</td>\n",
       "      <td>1</td>\n",
       "      <td>F</td>\n",
       "    </tr>\n",
       "    <tr>\n",
       "      <th>21</th>\n",
       "      <td>Austrian</td>\n",
       "      <td>2005</td>\n",
       "      <td>1</td>\n",
       "      <td>F</td>\n",
       "    </tr>\n",
       "    <tr>\n",
       "      <th>22</th>\n",
       "      <td>Austrian</td>\n",
       "      <td>2006</td>\n",
       "      <td>1</td>\n",
       "      <td>F</td>\n",
       "    </tr>\n",
       "    <tr>\n",
       "      <th>23</th>\n",
       "      <td>Austrian</td>\n",
       "      <td>2007</td>\n",
       "      <td>7</td>\n",
       "      <td>F</td>\n",
       "    </tr>\n",
       "    <tr>\n",
       "      <th>24</th>\n",
       "      <td>Austrian</td>\n",
       "      <td>2008</td>\n",
       "      <td>1</td>\n",
       "      <td>F</td>\n",
       "    </tr>\n",
       "    <tr>\n",
       "      <th>25</th>\n",
       "      <td>Austrian</td>\n",
       "      <td>2009</td>\n",
       "      <td>1</td>\n",
       "      <td>F</td>\n",
       "    </tr>\n",
       "    <tr>\n",
       "      <th>26</th>\n",
       "      <td>American/Canadian</td>\n",
       "      <td>2003</td>\n",
       "      <td>1</td>\n",
       "      <td>F</td>\n",
       "    </tr>\n",
       "    <tr>\n",
       "      <th>27</th>\n",
       "      <td>Iranian</td>\n",
       "      <td>2001</td>\n",
       "      <td>1</td>\n",
       "      <td>F</td>\n",
       "    </tr>\n",
       "    <tr>\n",
       "      <th>28</th>\n",
       "      <td>Czech</td>\n",
       "      <td>2001</td>\n",
       "      <td>2</td>\n",
       "      <td>F</td>\n",
       "    </tr>\n",
       "    <tr>\n",
       "      <th>30</th>\n",
       "      <td>Brasilian</td>\n",
       "      <td>2001</td>\n",
       "      <td>1</td>\n",
       "      <td>F</td>\n",
       "    </tr>\n",
       "    <tr>\n",
       "      <th>31</th>\n",
       "      <td>Brasilian</td>\n",
       "      <td>2002</td>\n",
       "      <td>2</td>\n",
       "      <td>F</td>\n",
       "    </tr>\n",
       "    <tr>\n",
       "      <th>32</th>\n",
       "      <td>Brasilian</td>\n",
       "      <td>2003</td>\n",
       "      <td>1</td>\n",
       "      <td>F</td>\n",
       "    </tr>\n",
       "    <tr>\n",
       "      <th>33</th>\n",
       "      <td>Brasilian</td>\n",
       "      <td>2005</td>\n",
       "      <td>1</td>\n",
       "      <td>F</td>\n",
       "    </tr>\n",
       "    <tr>\n",
       "      <th>34</th>\n",
       "      <td>Afghan/American</td>\n",
       "      <td>2011</td>\n",
       "      <td>1</td>\n",
       "      <td>F</td>\n",
       "    </tr>\n",
       "    <tr>\n",
       "      <th>35</th>\n",
       "      <td>Russian</td>\n",
       "      <td>2001</td>\n",
       "      <td>2</td>\n",
       "      <td>F</td>\n",
       "    </tr>\n",
       "    <tr>\n",
       "      <th>36</th>\n",
       "      <td>Russian</td>\n",
       "      <td>2002</td>\n",
       "      <td>1</td>\n",
       "      <td>F</td>\n",
       "    </tr>\n",
       "    <tr>\n",
       "      <th>37</th>\n",
       "      <td>Russian</td>\n",
       "      <td>2004</td>\n",
       "      <td>2</td>\n",
       "      <td>F</td>\n",
       "    </tr>\n",
       "    <tr>\n",
       "      <th>38</th>\n",
       "      <td>Chilean</td>\n",
       "      <td>2004</td>\n",
       "      <td>1</td>\n",
       "      <td>F</td>\n",
       "    </tr>\n",
       "    <tr>\n",
       "      <th>39</th>\n",
       "      <td>Croatian</td>\n",
       "      <td>2003</td>\n",
       "      <td>1</td>\n",
       "      <td>F</td>\n",
       "    </tr>\n",
       "    <tr>\n",
       "      <th>40</th>\n",
       "      <td>Polish</td>\n",
       "      <td>2001</td>\n",
       "      <td>1</td>\n",
       "      <td>F</td>\n",
       "    </tr>\n",
       "    <tr>\n",
       "      <th>41</th>\n",
       "      <td>Polish</td>\n",
       "      <td>2004</td>\n",
       "      <td>1</td>\n",
       "      <td>F</td>\n",
       "    </tr>\n",
       "    <tr>\n",
       "      <th>42</th>\n",
       "      <td>German</td>\n",
       "      <td>2001</td>\n",
       "      <td>1</td>\n",
       "      <td>F</td>\n",
       "    </tr>\n",
       "    <tr>\n",
       "      <th>43</th>\n",
       "      <td>German</td>\n",
       "      <td>2002</td>\n",
       "      <td>1</td>\n",
       "      <td>F</td>\n",
       "    </tr>\n",
       "    <tr>\n",
       "      <th>44</th>\n",
       "      <td>German</td>\n",
       "      <td>2004</td>\n",
       "      <td>1</td>\n",
       "      <td>F</td>\n",
       "    </tr>\n",
       "    <tr>\n",
       "      <th>45</th>\n",
       "      <td>German</td>\n",
       "      <td>2005</td>\n",
       "      <td>4</td>\n",
       "      <td>F</td>\n",
       "    </tr>\n",
       "    <tr>\n",
       "      <th>47</th>\n",
       "      <td>missing</td>\n",
       "      <td>2001</td>\n",
       "      <td>16</td>\n",
       "      <td>F</td>\n",
       "    </tr>\n",
       "    <tr>\n",
       "      <th>48</th>\n",
       "      <td>missing</td>\n",
       "      <td>2002</td>\n",
       "      <td>21</td>\n",
       "      <td>F</td>\n",
       "    </tr>\n",
       "    <tr>\n",
       "      <th>49</th>\n",
       "      <td>missing</td>\n",
       "      <td>2003</td>\n",
       "      <td>7</td>\n",
       "      <td>F</td>\n",
       "    </tr>\n",
       "    <tr>\n",
       "      <th>50</th>\n",
       "      <td>missing</td>\n",
       "      <td>2004</td>\n",
       "      <td>14</td>\n",
       "      <td>F</td>\n",
       "    </tr>\n",
       "    <tr>\n",
       "      <th>51</th>\n",
       "      <td>missing</td>\n",
       "      <td>2005</td>\n",
       "      <td>13</td>\n",
       "      <td>F</td>\n",
       "    </tr>\n",
       "    <tr>\n",
       "      <th>52</th>\n",
       "      <td>missing</td>\n",
       "      <td>2006</td>\n",
       "      <td>9</td>\n",
       "      <td>F</td>\n",
       "    </tr>\n",
       "    <tr>\n",
       "      <th>53</th>\n",
       "      <td>missing</td>\n",
       "      <td>2007</td>\n",
       "      <td>16</td>\n",
       "      <td>F</td>\n",
       "    </tr>\n",
       "    <tr>\n",
       "      <th>54</th>\n",
       "      <td>missing</td>\n",
       "      <td>2008</td>\n",
       "      <td>6</td>\n",
       "      <td>F</td>\n",
       "    </tr>\n",
       "    <tr>\n",
       "      <th>55</th>\n",
       "      <td>missing</td>\n",
       "      <td>2009</td>\n",
       "      <td>2</td>\n",
       "      <td>F</td>\n",
       "    </tr>\n",
       "    <tr>\n",
       "      <th>56</th>\n",
       "      <td>missing</td>\n",
       "      <td>2011</td>\n",
       "      <td>4</td>\n",
       "      <td>F</td>\n",
       "    </tr>\n",
       "    <tr>\n",
       "      <th>57</th>\n",
       "      <td>missing</td>\n",
       "      <td>2012</td>\n",
       "      <td>2</td>\n",
       "      <td>F</td>\n",
       "    </tr>\n",
       "    <tr>\n",
       "      <th>58</th>\n",
       "      <td>Mexican/American</td>\n",
       "      <td>2006</td>\n",
       "      <td>1</td>\n",
       "      <td>F</td>\n",
       "    </tr>\n",
       "    <tr>\n",
       "      <th>59</th>\n",
       "      <td>Argentine</td>\n",
       "      <td>2002</td>\n",
       "      <td>1</td>\n",
       "      <td>F</td>\n",
       "    </tr>\n",
       "    <tr>\n",
       "      <th>60</th>\n",
       "      <td>Argentine</td>\n",
       "      <td>2004</td>\n",
       "      <td>4</td>\n",
       "      <td>F</td>\n",
       "    </tr>\n",
       "    <tr>\n",
       "      <th>61</th>\n",
       "      <td>Portuguese</td>\n",
       "      <td>2004</td>\n",
       "      <td>1</td>\n",
       "      <td>F</td>\n",
       "    </tr>\n",
       "    <tr>\n",
       "      <th>62</th>\n",
       "      <td>Portuguese</td>\n",
       "      <td>2006</td>\n",
       "      <td>1</td>\n",
       "      <td>F</td>\n",
       "    </tr>\n",
       "    <tr>\n",
       "      <th>63</th>\n",
       "      <td>Israeli</td>\n",
       "      <td>2002</td>\n",
       "      <td>1</td>\n",
       "      <td>F</td>\n",
       "    </tr>\n",
       "    <tr>\n",
       "      <th>64</th>\n",
       "      <td>Israeli</td>\n",
       "      <td>2004</td>\n",
       "      <td>2</td>\n",
       "      <td>F</td>\n",
       "    </tr>\n",
       "    <tr>\n",
       "      <th>65</th>\n",
       "      <td>Israeli</td>\n",
       "      <td>2005</td>\n",
       "      <td>1</td>\n",
       "      <td>F</td>\n",
       "    </tr>\n",
       "    <tr>\n",
       "      <th>66</th>\n",
       "      <td>Swedish</td>\n",
       "      <td>2001</td>\n",
       "      <td>1</td>\n",
       "      <td>F</td>\n",
       "    </tr>\n",
       "    <tr>\n",
       "      <th>67</th>\n",
       "      <td>Swedish</td>\n",
       "      <td>2002</td>\n",
       "      <td>1</td>\n",
       "      <td>F</td>\n",
       "    </tr>\n",
       "    <tr>\n",
       "      <th>68</th>\n",
       "      <td>Swedish</td>\n",
       "      <td>2007</td>\n",
       "      <td>2</td>\n",
       "      <td>F</td>\n",
       "    </tr>\n",
       "    <tr>\n",
       "      <th>70</th>\n",
       "      <td>American</td>\n",
       "      <td>2000</td>\n",
       "      <td>2</td>\n",
       "      <td>F</td>\n",
       "    </tr>\n",
       "    <tr>\n",
       "      <th>71</th>\n",
       "      <td>American</td>\n",
       "      <td>2001</td>\n",
       "      <td>19</td>\n",
       "      <td>F</td>\n",
       "    </tr>\n",
       "    <tr>\n",
       "      <th>72</th>\n",
       "      <td>American</td>\n",
       "      <td>2002</td>\n",
       "      <td>15</td>\n",
       "      <td>F</td>\n",
       "    </tr>\n",
       "    <tr>\n",
       "      <th>73</th>\n",
       "      <td>American</td>\n",
       "      <td>2003</td>\n",
       "      <td>7</td>\n",
       "      <td>F</td>\n",
       "    </tr>\n",
       "    <tr>\n",
       "      <th>74</th>\n",
       "      <td>American</td>\n",
       "      <td>2004</td>\n",
       "      <td>16</td>\n",
       "      <td>F</td>\n",
       "    </tr>\n",
       "    <tr>\n",
       "      <th>75</th>\n",
       "      <td>American</td>\n",
       "      <td>2005</td>\n",
       "      <td>15</td>\n",
       "      <td>F</td>\n",
       "    </tr>\n",
       "    <tr>\n",
       "      <th>76</th>\n",
       "      <td>American</td>\n",
       "      <td>2006</td>\n",
       "      <td>16</td>\n",
       "      <td>F</td>\n",
       "    </tr>\n",
       "    <tr>\n",
       "      <th>77</th>\n",
       "      <td>American</td>\n",
       "      <td>2007</td>\n",
       "      <td>20</td>\n",
       "      <td>F</td>\n",
       "    </tr>\n",
       "    <tr>\n",
       "      <th>78</th>\n",
       "      <td>American</td>\n",
       "      <td>2008</td>\n",
       "      <td>7</td>\n",
       "      <td>F</td>\n",
       "    </tr>\n",
       "    <tr>\n",
       "      <th>79</th>\n",
       "      <td>American</td>\n",
       "      <td>2009</td>\n",
       "      <td>2</td>\n",
       "      <td>F</td>\n",
       "    </tr>\n",
       "    <tr>\n",
       "      <th>80</th>\n",
       "      <td>American</td>\n",
       "      <td>2011</td>\n",
       "      <td>3</td>\n",
       "      <td>F</td>\n",
       "    </tr>\n",
       "    <tr>\n",
       "      <th>81</th>\n",
       "      <td>American</td>\n",
       "      <td>2012</td>\n",
       "      <td>3</td>\n",
       "      <td>F</td>\n",
       "    </tr>\n",
       "    <tr>\n",
       "      <th>82</th>\n",
       "      <td>American</td>\n",
       "      <td>2013</td>\n",
       "      <td>1</td>\n",
       "      <td>F</td>\n",
       "    </tr>\n",
       "    <tr>\n",
       "      <th>83</th>\n",
       "      <td>American</td>\n",
       "      <td>2015</td>\n",
       "      <td>4</td>\n",
       "      <td>F</td>\n",
       "    </tr>\n",
       "    <tr>\n",
       "      <th>84</th>\n",
       "      <td>Japanese</td>\n",
       "      <td>2001</td>\n",
       "      <td>1</td>\n",
       "      <td>F</td>\n",
       "    </tr>\n",
       "    <tr>\n",
       "      <th>85</th>\n",
       "      <td>Japanese</td>\n",
       "      <td>2003</td>\n",
       "      <td>2</td>\n",
       "      <td>F</td>\n",
       "    </tr>\n",
       "    <tr>\n",
       "      <th>86</th>\n",
       "      <td>Greek</td>\n",
       "      <td>2002</td>\n",
       "      <td>1</td>\n",
       "      <td>F</td>\n",
       "    </tr>\n",
       "    <tr>\n",
       "      <th>88</th>\n",
       "      <td>Taiwanese</td>\n",
       "      <td>2001</td>\n",
       "      <td>2</td>\n",
       "      <td>F</td>\n",
       "    </tr>\n",
       "    <tr>\n",
       "      <th>89</th>\n",
       "      <td>American</td>\n",
       "      <td>2001</td>\n",
       "      <td>3</td>\n",
       "      <td>F</td>\n",
       "    </tr>\n",
       "    <tr>\n",
       "      <th>90</th>\n",
       "      <td>Australian</td>\n",
       "      <td>2001</td>\n",
       "      <td>1</td>\n",
       "      <td>F</td>\n",
       "    </tr>\n",
       "    <tr>\n",
       "      <th>91</th>\n",
       "      <td>Australian</td>\n",
       "      <td>2002</td>\n",
       "      <td>2</td>\n",
       "      <td>F</td>\n",
       "    </tr>\n",
       "    <tr>\n",
       "      <th>92</th>\n",
       "      <td>Australian</td>\n",
       "      <td>2004</td>\n",
       "      <td>1</td>\n",
       "      <td>F</td>\n",
       "    </tr>\n",
       "    <tr>\n",
       "      <th>93</th>\n",
       "      <td>Australian</td>\n",
       "      <td>2005</td>\n",
       "      <td>3</td>\n",
       "      <td>F</td>\n",
       "    </tr>\n",
       "    <tr>\n",
       "      <th>94</th>\n",
       "      <td>Australian</td>\n",
       "      <td>2006</td>\n",
       "      <td>1</td>\n",
       "      <td>F</td>\n",
       "    </tr>\n",
       "    <tr>\n",
       "      <th>96</th>\n",
       "      <td>Canadian</td>\n",
       "      <td>2000</td>\n",
       "      <td>1</td>\n",
       "      <td>F</td>\n",
       "    </tr>\n",
       "    <tr>\n",
       "      <th>97</th>\n",
       "      <td>Canadian</td>\n",
       "      <td>2001</td>\n",
       "      <td>5</td>\n",
       "      <td>F</td>\n",
       "    </tr>\n",
       "    <tr>\n",
       "      <th>98</th>\n",
       "      <td>Canadian</td>\n",
       "      <td>2002</td>\n",
       "      <td>2</td>\n",
       "      <td>F</td>\n",
       "    </tr>\n",
       "    <tr>\n",
       "      <th>99</th>\n",
       "      <td>Canadian</td>\n",
       "      <td>2003</td>\n",
       "      <td>2</td>\n",
       "      <td>F</td>\n",
       "    </tr>\n",
       "    <tr>\n",
       "      <th>100</th>\n",
       "      <td>Canadian</td>\n",
       "      <td>2004</td>\n",
       "      <td>3</td>\n",
       "      <td>F</td>\n",
       "    </tr>\n",
       "    <tr>\n",
       "      <th>101</th>\n",
       "      <td>Canadian</td>\n",
       "      <td>2005</td>\n",
       "      <td>1</td>\n",
       "      <td>F</td>\n",
       "    </tr>\n",
       "    <tr>\n",
       "      <th>102</th>\n",
       "      <td>Canadian</td>\n",
       "      <td>2006</td>\n",
       "      <td>5</td>\n",
       "      <td>F</td>\n",
       "    </tr>\n",
       "    <tr>\n",
       "      <th>103</th>\n",
       "      <td>Canadian</td>\n",
       "      <td>2007</td>\n",
       "      <td>4</td>\n",
       "      <td>F</td>\n",
       "    </tr>\n",
       "    <tr>\n",
       "      <th>104</th>\n",
       "      <td>Canadian</td>\n",
       "      <td>2008</td>\n",
       "      <td>4</td>\n",
       "      <td>F</td>\n",
       "    </tr>\n",
       "    <tr>\n",
       "      <th>105</th>\n",
       "      <td>Canadian</td>\n",
       "      <td>2009</td>\n",
       "      <td>1</td>\n",
       "      <td>F</td>\n",
       "    </tr>\n",
       "    <tr>\n",
       "      <th>106</th>\n",
       "      <td>Spanish</td>\n",
       "      <td>2001</td>\n",
       "      <td>1</td>\n",
       "      <td>F</td>\n",
       "    </tr>\n",
       "    <tr>\n",
       "      <th>107</th>\n",
       "      <td>Mexican</td>\n",
       "      <td>2002</td>\n",
       "      <td>1</td>\n",
       "      <td>F</td>\n",
       "    </tr>\n",
       "    <tr>\n",
       "      <th>108</th>\n",
       "      <td>Finnish</td>\n",
       "      <td>2001</td>\n",
       "      <td>1</td>\n",
       "      <td>F</td>\n",
       "    </tr>\n",
       "    <tr>\n",
       "      <th>109</th>\n",
       "      <td>French</td>\n",
       "      <td>2001</td>\n",
       "      <td>2</td>\n",
       "      <td>F</td>\n",
       "    </tr>\n",
       "    <tr>\n",
       "      <th>110</th>\n",
       "      <td>French</td>\n",
       "      <td>2002</td>\n",
       "      <td>2</td>\n",
       "      <td>F</td>\n",
       "    </tr>\n",
       "    <tr>\n",
       "      <th>111</th>\n",
       "      <td>French</td>\n",
       "      <td>2004</td>\n",
       "      <td>13</td>\n",
       "      <td>F</td>\n",
       "    </tr>\n",
       "    <tr>\n",
       "      <th>112</th>\n",
       "      <td>French</td>\n",
       "      <td>2005</td>\n",
       "      <td>2</td>\n",
       "      <td>F</td>\n",
       "    </tr>\n",
       "    <tr>\n",
       "      <th>113</th>\n",
       "      <td>French</td>\n",
       "      <td>2006</td>\n",
       "      <td>2</td>\n",
       "      <td>F</td>\n",
       "    </tr>\n",
       "    <tr>\n",
       "      <th>114</th>\n",
       "      <td>French</td>\n",
       "      <td>2007</td>\n",
       "      <td>3</td>\n",
       "      <td>F</td>\n",
       "    </tr>\n",
       "    <tr>\n",
       "      <th>115</th>\n",
       "      <td>French</td>\n",
       "      <td>2011</td>\n",
       "      <td>1</td>\n",
       "      <td>F</td>\n",
       "    </tr>\n",
       "    <tr>\n",
       "      <th>116</th>\n",
       "      <td>South Korean</td>\n",
       "      <td>2001</td>\n",
       "      <td>2</td>\n",
       "      <td>F</td>\n",
       "    </tr>\n",
       "    <tr>\n",
       "      <th>117</th>\n",
       "      <td>South Korean</td>\n",
       "      <td>2002</td>\n",
       "      <td>1</td>\n",
       "      <td>F</td>\n",
       "    </tr>\n",
       "    <tr>\n",
       "      <th>118</th>\n",
       "      <td>South Korean</td>\n",
       "      <td>2005</td>\n",
       "      <td>2</td>\n",
       "      <td>F</td>\n",
       "    </tr>\n",
       "    <tr>\n",
       "      <th>119</th>\n",
       "      <td>South Korean</td>\n",
       "      <td>2006</td>\n",
       "      <td>3</td>\n",
       "      <td>F</td>\n",
       "    </tr>\n",
       "  </tbody>\n",
       "</table>\n",
       "</div>"
      ],
      "text/plain": [
       "           Nationality  dateAcquired  Count Gender\n",
       "0              Italian          2002      3      F\n",
       "1              Italian          2005      5      F\n",
       "2              Italian          2007      1      F\n",
       "3                Dutch          2001      1      F\n",
       "4                Dutch          2003      1      F\n",
       "5                Dutch          2004      7      F\n",
       "6                Dutch          2005      4      F\n",
       "7                Dutch          2006      4      F\n",
       "8                Dutch          2007      1      F\n",
       "9                Dutch          2008      2      F\n",
       "10             British          2000      1      F\n",
       "11             British          2001      1      F\n",
       "12             British          2002     12      F\n",
       "13             British          2003      1      F\n",
       "14             British          2004      5      F\n",
       "15             British          2005      4      F\n",
       "16             British          2006      5      F\n",
       "17             British          2007      7      F\n",
       "18            Austrian          2001      2      F\n",
       "19            Austrian          2002      1      F\n",
       "20            Austrian          2003      1      F\n",
       "21            Austrian          2005      1      F\n",
       "22            Austrian          2006      1      F\n",
       "23            Austrian          2007      7      F\n",
       "24            Austrian          2008      1      F\n",
       "25            Austrian          2009      1      F\n",
       "26   American/Canadian          2003      1      F\n",
       "27             Iranian          2001      1      F\n",
       "28               Czech          2001      2      F\n",
       "30           Brasilian          2001      1      F\n",
       "31           Brasilian          2002      2      F\n",
       "32           Brasilian          2003      1      F\n",
       "33           Brasilian          2005      1      F\n",
       "34     Afghan/American          2011      1      F\n",
       "35             Russian          2001      2      F\n",
       "36             Russian          2002      1      F\n",
       "37             Russian          2004      2      F\n",
       "38             Chilean          2004      1      F\n",
       "39            Croatian          2003      1      F\n",
       "40              Polish          2001      1      F\n",
       "41              Polish          2004      1      F\n",
       "42              German          2001      1      F\n",
       "43              German          2002      1      F\n",
       "44              German          2004      1      F\n",
       "45              German          2005      4      F\n",
       "47             missing          2001     16      F\n",
       "48             missing          2002     21      F\n",
       "49             missing          2003      7      F\n",
       "50             missing          2004     14      F\n",
       "51             missing          2005     13      F\n",
       "52             missing          2006      9      F\n",
       "53             missing          2007     16      F\n",
       "54             missing          2008      6      F\n",
       "55             missing          2009      2      F\n",
       "56             missing          2011      4      F\n",
       "57             missing          2012      2      F\n",
       "58    Mexican/American          2006      1      F\n",
       "59           Argentine          2002      1      F\n",
       "60           Argentine          2004      4      F\n",
       "61          Portuguese          2004      1      F\n",
       "62          Portuguese          2006      1      F\n",
       "63             Israeli          2002      1      F\n",
       "64             Israeli          2004      2      F\n",
       "65             Israeli          2005      1      F\n",
       "66             Swedish          2001      1      F\n",
       "67             Swedish          2002      1      F\n",
       "68             Swedish          2007      2      F\n",
       "70            American          2000      2      F\n",
       "71            American          2001     19      F\n",
       "72            American          2002     15      F\n",
       "73            American          2003      7      F\n",
       "74            American          2004     16      F\n",
       "75            American          2005     15      F\n",
       "76            American          2006     16      F\n",
       "77            American          2007     20      F\n",
       "78            American          2008      7      F\n",
       "79            American          2009      2      F\n",
       "80            American          2011      3      F\n",
       "81            American          2012      3      F\n",
       "82            American          2013      1      F\n",
       "83            American          2015      4      F\n",
       "84            Japanese          2001      1      F\n",
       "85            Japanese          2003      2      F\n",
       "86               Greek          2002      1      F\n",
       "88           Taiwanese          2001      2      F\n",
       "89           American           2001      3      F\n",
       "90          Australian          2001      1      F\n",
       "91          Australian          2002      2      F\n",
       "92          Australian          2004      1      F\n",
       "93          Australian          2005      3      F\n",
       "94          Australian          2006      1      F\n",
       "96            Canadian          2000      1      F\n",
       "97            Canadian          2001      5      F\n",
       "98            Canadian          2002      2      F\n",
       "99            Canadian          2003      2      F\n",
       "100           Canadian          2004      3      F\n",
       "101           Canadian          2005      1      F\n",
       "102           Canadian          2006      5      F\n",
       "103           Canadian          2007      4      F\n",
       "104           Canadian          2008      4      F\n",
       "105           Canadian          2009      1      F\n",
       "106            Spanish          2001      1      F\n",
       "107            Mexican          2002      1      F\n",
       "108           Finnish           2001      1      F\n",
       "109             French          2001      2      F\n",
       "110             French          2002      2      F\n",
       "111             French          2004     13      F\n",
       "112             French          2005      2      F\n",
       "113             French          2006      2      F\n",
       "114             French          2007      3      F\n",
       "115             French          2011      1      F\n",
       "116       South Korean          2001      2      F\n",
       "117       South Korean          2002      1      F\n",
       "118       South Korean          2005      2      F\n",
       "119       South Korean          2006      3      F"
      ]
     },
     "execution_count": 880,
     "metadata": {},
     "output_type": "execute_result"
    }
   ],
   "source": [
    "df_R_nats_F"
   ]
  },
  {
   "cell_type": "code",
   "execution_count": null,
   "metadata": {},
   "outputs": [
    {
     "name": "stderr",
     "output_type": "stream",
     "text": [
      "/var/folders/qj/xh48vw9d4z5_h6wzs6r2smdh0000gn/T/ipykernel_761/493900253.py:11: SettingWithCopyWarning:\n",
      "\n",
      "\n",
      "A value is trying to be set on a copy of a slice from a DataFrame.\n",
      "Try using .loc[row_indexer,col_indexer] = value instead\n",
      "\n",
      "See the caveats in the documentation: https://pandas.pydata.org/pandas-docs/stable/user_guide/indexing.html#returning-a-view-versus-a-copy\n",
      "\n",
      "/var/folders/qj/xh48vw9d4z5_h6wzs6r2smdh0000gn/T/ipykernel_761/493900253.py:11: SettingWithCopyWarning:\n",
      "\n",
      "\n",
      "A value is trying to be set on a copy of a slice from a DataFrame.\n",
      "Try using .loc[row_indexer,col_indexer] = value instead\n",
      "\n",
      "See the caveats in the documentation: https://pandas.pydata.org/pandas-docs/stable/user_guide/indexing.html#returning-a-view-versus-a-copy\n",
      "\n",
      "/var/folders/qj/xh48vw9d4z5_h6wzs6r2smdh0000gn/T/ipykernel_761/493900253.py:11: SettingWithCopyWarning:\n",
      "\n",
      "\n",
      "A value is trying to be set on a copy of a slice from a DataFrame.\n",
      "Try using .loc[row_indexer,col_indexer] = value instead\n",
      "\n",
      "See the caveats in the documentation: https://pandas.pydata.org/pandas-docs/stable/user_guide/indexing.html#returning-a-view-versus-a-copy\n",
      "\n",
      "/var/folders/qj/xh48vw9d4z5_h6wzs6r2smdh0000gn/T/ipykernel_761/493900253.py:11: SettingWithCopyWarning:\n",
      "\n",
      "\n",
      "A value is trying to be set on a copy of a slice from a DataFrame.\n",
      "Try using .loc[row_indexer,col_indexer] = value instead\n",
      "\n",
      "See the caveats in the documentation: https://pandas.pydata.org/pandas-docs/stable/user_guide/indexing.html#returning-a-view-versus-a-copy\n",
      "\n",
      "/var/folders/qj/xh48vw9d4z5_h6wzs6r2smdh0000gn/T/ipykernel_761/493900253.py:11: SettingWithCopyWarning:\n",
      "\n",
      "\n",
      "A value is trying to be set on a copy of a slice from a DataFrame.\n",
      "Try using .loc[row_indexer,col_indexer] = value instead\n",
      "\n",
      "See the caveats in the documentation: https://pandas.pydata.org/pandas-docs/stable/user_guide/indexing.html#returning-a-view-versus-a-copy\n",
      "\n",
      "/var/folders/qj/xh48vw9d4z5_h6wzs6r2smdh0000gn/T/ipykernel_761/493900253.py:11: SettingWithCopyWarning:\n",
      "\n",
      "\n",
      "A value is trying to be set on a copy of a slice from a DataFrame.\n",
      "Try using .loc[row_indexer,col_indexer] = value instead\n",
      "\n",
      "See the caveats in the documentation: https://pandas.pydata.org/pandas-docs/stable/user_guide/indexing.html#returning-a-view-versus-a-copy\n",
      "\n",
      "/var/folders/qj/xh48vw9d4z5_h6wzs6r2smdh0000gn/T/ipykernel_761/493900253.py:11: SettingWithCopyWarning:\n",
      "\n",
      "\n",
      "A value is trying to be set on a copy of a slice from a DataFrame.\n",
      "Try using .loc[row_indexer,col_indexer] = value instead\n",
      "\n",
      "See the caveats in the documentation: https://pandas.pydata.org/pandas-docs/stable/user_guide/indexing.html#returning-a-view-versus-a-copy\n",
      "\n",
      "/var/folders/qj/xh48vw9d4z5_h6wzs6r2smdh0000gn/T/ipykernel_761/493900253.py:11: SettingWithCopyWarning:\n",
      "\n",
      "\n",
      "A value is trying to be set on a copy of a slice from a DataFrame.\n",
      "Try using .loc[row_indexer,col_indexer] = value instead\n",
      "\n",
      "See the caveats in the documentation: https://pandas.pydata.org/pandas-docs/stable/user_guide/indexing.html#returning-a-view-versus-a-copy\n",
      "\n",
      "/var/folders/qj/xh48vw9d4z5_h6wzs6r2smdh0000gn/T/ipykernel_761/493900253.py:11: SettingWithCopyWarning:\n",
      "\n",
      "\n",
      "A value is trying to be set on a copy of a slice from a DataFrame.\n",
      "Try using .loc[row_indexer,col_indexer] = value instead\n",
      "\n",
      "See the caveats in the documentation: https://pandas.pydata.org/pandas-docs/stable/user_guide/indexing.html#returning-a-view-versus-a-copy\n",
      "\n",
      "/var/folders/qj/xh48vw9d4z5_h6wzs6r2smdh0000gn/T/ipykernel_761/493900253.py:11: SettingWithCopyWarning:\n",
      "\n",
      "\n",
      "A value is trying to be set on a copy of a slice from a DataFrame.\n",
      "Try using .loc[row_indexer,col_indexer] = value instead\n",
      "\n",
      "See the caveats in the documentation: https://pandas.pydata.org/pandas-docs/stable/user_guide/indexing.html#returning-a-view-versus-a-copy\n",
      "\n",
      "/var/folders/qj/xh48vw9d4z5_h6wzs6r2smdh0000gn/T/ipykernel_761/493900253.py:11: SettingWithCopyWarning:\n",
      "\n",
      "\n",
      "A value is trying to be set on a copy of a slice from a DataFrame.\n",
      "Try using .loc[row_indexer,col_indexer] = value instead\n",
      "\n",
      "See the caveats in the documentation: https://pandas.pydata.org/pandas-docs/stable/user_guide/indexing.html#returning-a-view-versus-a-copy\n",
      "\n",
      "/var/folders/qj/xh48vw9d4z5_h6wzs6r2smdh0000gn/T/ipykernel_761/493900253.py:11: SettingWithCopyWarning:\n",
      "\n",
      "\n",
      "A value is trying to be set on a copy of a slice from a DataFrame.\n",
      "Try using .loc[row_indexer,col_indexer] = value instead\n",
      "\n",
      "See the caveats in the documentation: https://pandas.pydata.org/pandas-docs/stable/user_guide/indexing.html#returning-a-view-versus-a-copy\n",
      "\n",
      "/var/folders/qj/xh48vw9d4z5_h6wzs6r2smdh0000gn/T/ipykernel_761/493900253.py:11: SettingWithCopyWarning:\n",
      "\n",
      "\n",
      "A value is trying to be set on a copy of a slice from a DataFrame.\n",
      "Try using .loc[row_indexer,col_indexer] = value instead\n",
      "\n",
      "See the caveats in the documentation: https://pandas.pydata.org/pandas-docs/stable/user_guide/indexing.html#returning-a-view-versus-a-copy\n",
      "\n",
      "/var/folders/qj/xh48vw9d4z5_h6wzs6r2smdh0000gn/T/ipykernel_761/493900253.py:11: SettingWithCopyWarning:\n",
      "\n",
      "\n",
      "A value is trying to be set on a copy of a slice from a DataFrame.\n",
      "Try using .loc[row_indexer,col_indexer] = value instead\n",
      "\n",
      "See the caveats in the documentation: https://pandas.pydata.org/pandas-docs/stable/user_guide/indexing.html#returning-a-view-versus-a-copy\n",
      "\n",
      "/var/folders/qj/xh48vw9d4z5_h6wzs6r2smdh0000gn/T/ipykernel_761/493900253.py:11: SettingWithCopyWarning:\n",
      "\n",
      "\n",
      "A value is trying to be set on a copy of a slice from a DataFrame.\n",
      "Try using .loc[row_indexer,col_indexer] = value instead\n",
      "\n",
      "See the caveats in the documentation: https://pandas.pydata.org/pandas-docs/stable/user_guide/indexing.html#returning-a-view-versus-a-copy\n",
      "\n",
      "/var/folders/qj/xh48vw9d4z5_h6wzs6r2smdh0000gn/T/ipykernel_761/493900253.py:11: SettingWithCopyWarning:\n",
      "\n",
      "\n",
      "A value is trying to be set on a copy of a slice from a DataFrame.\n",
      "Try using .loc[row_indexer,col_indexer] = value instead\n",
      "\n",
      "See the caveats in the documentation: https://pandas.pydata.org/pandas-docs/stable/user_guide/indexing.html#returning-a-view-versus-a-copy\n",
      "\n",
      "/var/folders/qj/xh48vw9d4z5_h6wzs6r2smdh0000gn/T/ipykernel_761/493900253.py:11: SettingWithCopyWarning:\n",
      "\n",
      "\n",
      "A value is trying to be set on a copy of a slice from a DataFrame.\n",
      "Try using .loc[row_indexer,col_indexer] = value instead\n",
      "\n",
      "See the caveats in the documentation: https://pandas.pydata.org/pandas-docs/stable/user_guide/indexing.html#returning-a-view-versus-a-copy\n",
      "\n",
      "/var/folders/qj/xh48vw9d4z5_h6wzs6r2smdh0000gn/T/ipykernel_761/493900253.py:11: SettingWithCopyWarning:\n",
      "\n",
      "\n",
      "A value is trying to be set on a copy of a slice from a DataFrame.\n",
      "Try using .loc[row_indexer,col_indexer] = value instead\n",
      "\n",
      "See the caveats in the documentation: https://pandas.pydata.org/pandas-docs/stable/user_guide/indexing.html#returning-a-view-versus-a-copy\n",
      "\n",
      "/var/folders/qj/xh48vw9d4z5_h6wzs6r2smdh0000gn/T/ipykernel_761/493900253.py:11: SettingWithCopyWarning:\n",
      "\n",
      "\n",
      "A value is trying to be set on a copy of a slice from a DataFrame.\n",
      "Try using .loc[row_indexer,col_indexer] = value instead\n",
      "\n",
      "See the caveats in the documentation: https://pandas.pydata.org/pandas-docs/stable/user_guide/indexing.html#returning-a-view-versus-a-copy\n",
      "\n",
      "/var/folders/qj/xh48vw9d4z5_h6wzs6r2smdh0000gn/T/ipykernel_761/493900253.py:11: SettingWithCopyWarning:\n",
      "\n",
      "\n",
      "A value is trying to be set on a copy of a slice from a DataFrame.\n",
      "Try using .loc[row_indexer,col_indexer] = value instead\n",
      "\n",
      "See the caveats in the documentation: https://pandas.pydata.org/pandas-docs/stable/user_guide/indexing.html#returning-a-view-versus-a-copy\n",
      "\n",
      "/var/folders/qj/xh48vw9d4z5_h6wzs6r2smdh0000gn/T/ipykernel_761/493900253.py:11: SettingWithCopyWarning:\n",
      "\n",
      "\n",
      "A value is trying to be set on a copy of a slice from a DataFrame.\n",
      "Try using .loc[row_indexer,col_indexer] = value instead\n",
      "\n",
      "See the caveats in the documentation: https://pandas.pydata.org/pandas-docs/stable/user_guide/indexing.html#returning-a-view-versus-a-copy\n",
      "\n",
      "/var/folders/qj/xh48vw9d4z5_h6wzs6r2smdh0000gn/T/ipykernel_761/493900253.py:11: SettingWithCopyWarning:\n",
      "\n",
      "\n",
      "A value is trying to be set on a copy of a slice from a DataFrame.\n",
      "Try using .loc[row_indexer,col_indexer] = value instead\n",
      "\n",
      "See the caveats in the documentation: https://pandas.pydata.org/pandas-docs/stable/user_guide/indexing.html#returning-a-view-versus-a-copy\n",
      "\n",
      "/var/folders/qj/xh48vw9d4z5_h6wzs6r2smdh0000gn/T/ipykernel_761/493900253.py:11: SettingWithCopyWarning:\n",
      "\n",
      "\n",
      "A value is trying to be set on a copy of a slice from a DataFrame.\n",
      "Try using .loc[row_indexer,col_indexer] = value instead\n",
      "\n",
      "See the caveats in the documentation: https://pandas.pydata.org/pandas-docs/stable/user_guide/indexing.html#returning-a-view-versus-a-copy\n",
      "\n",
      "/var/folders/qj/xh48vw9d4z5_h6wzs6r2smdh0000gn/T/ipykernel_761/493900253.py:11: SettingWithCopyWarning:\n",
      "\n",
      "\n",
      "A value is trying to be set on a copy of a slice from a DataFrame.\n",
      "Try using .loc[row_indexer,col_indexer] = value instead\n",
      "\n",
      "See the caveats in the documentation: https://pandas.pydata.org/pandas-docs/stable/user_guide/indexing.html#returning-a-view-versus-a-copy\n",
      "\n",
      "/var/folders/qj/xh48vw9d4z5_h6wzs6r2smdh0000gn/T/ipykernel_761/493900253.py:11: SettingWithCopyWarning:\n",
      "\n",
      "\n",
      "A value is trying to be set on a copy of a slice from a DataFrame.\n",
      "Try using .loc[row_indexer,col_indexer] = value instead\n",
      "\n",
      "See the caveats in the documentation: https://pandas.pydata.org/pandas-docs/stable/user_guide/indexing.html#returning-a-view-versus-a-copy\n",
      "\n",
      "/var/folders/qj/xh48vw9d4z5_h6wzs6r2smdh0000gn/T/ipykernel_761/493900253.py:11: SettingWithCopyWarning:\n",
      "\n",
      "\n",
      "A value is trying to be set on a copy of a slice from a DataFrame.\n",
      "Try using .loc[row_indexer,col_indexer] = value instead\n",
      "\n",
      "See the caveats in the documentation: https://pandas.pydata.org/pandas-docs/stable/user_guide/indexing.html#returning-a-view-versus-a-copy\n",
      "\n",
      "/var/folders/qj/xh48vw9d4z5_h6wzs6r2smdh0000gn/T/ipykernel_761/493900253.py:11: SettingWithCopyWarning:\n",
      "\n",
      "\n",
      "A value is trying to be set on a copy of a slice from a DataFrame.\n",
      "Try using .loc[row_indexer,col_indexer] = value instead\n",
      "\n",
      "See the caveats in the documentation: https://pandas.pydata.org/pandas-docs/stable/user_guide/indexing.html#returning-a-view-versus-a-copy\n",
      "\n",
      "/var/folders/qj/xh48vw9d4z5_h6wzs6r2smdh0000gn/T/ipykernel_761/493900253.py:11: SettingWithCopyWarning:\n",
      "\n",
      "\n",
      "A value is trying to be set on a copy of a slice from a DataFrame.\n",
      "Try using .loc[row_indexer,col_indexer] = value instead\n",
      "\n",
      "See the caveats in the documentation: https://pandas.pydata.org/pandas-docs/stable/user_guide/indexing.html#returning-a-view-versus-a-copy\n",
      "\n"
     ]
    }
   ],
   "source": [
    "# create subset for females \n",
    "rh = rhz_artworks.copy()\n",
    "\n",
    "nationalities = ', '.join(rh.Nationality)\n",
    "nationalities = list(set(nationalities.split(', ')))\n",
    "df_R_nats_F = pd.DataFrame(columns= [\"Nationality\", \"dateAcquired\", \"Count\", \"Gender\"]) \n",
    "\n",
    "for nat in nationalities:\n",
    "    nat_sub =  rh[rh.Nationality == nat]\n",
    "    sub_f = nat_sub[nat_sub.Gender == 'F']   \n",
    "    sub_f.dateAcquired = sub_f.dateAcquired.astype('str')\n",
    "    years = ', '.join(sub_f.dateAcquired)\n",
    "    years = sorted(list([item[:4] for item in list(set(years.split(', ')))]))[0:-1]\n",
    "    for year in years:\n",
    "        year_sub = sub_f[sub_f.dateAcquired == year]\n",
    "        f_count = len(year_sub[year_sub.Gender == 'F'])\n",
    "        df_R_nats_F.loc[len(df_R_nats_F.index)] = [nat, year, f_count, 'F']\n",
    "\n",
    "df_R_nats_F.dateAcquired = df_R_nats_F.dateAcquired.astype('int')\n",
    "df_R_nats_F = df_R_nats_F[df_R_nats_F.dateAcquired >0]"
   ]
  },
  {
   "cell_type": "code",
   "execution_count": null,
   "metadata": {},
   "outputs": [
    {
     "name": "stderr",
     "output_type": "stream",
     "text": [
      "/var/folders/qj/xh48vw9d4z5_h6wzs6r2smdh0000gn/T/ipykernel_761/3264337916.py:7: SettingWithCopyWarning:\n",
      "\n",
      "\n",
      "A value is trying to be set on a copy of a slice from a DataFrame.\n",
      "Try using .loc[row_indexer,col_indexer] = value instead\n",
      "\n",
      "See the caveats in the documentation: https://pandas.pydata.org/pandas-docs/stable/user_guide/indexing.html#returning-a-view-versus-a-copy\n",
      "\n",
      "/var/folders/qj/xh48vw9d4z5_h6wzs6r2smdh0000gn/T/ipykernel_761/3264337916.py:7: SettingWithCopyWarning:\n",
      "\n",
      "\n",
      "A value is trying to be set on a copy of a slice from a DataFrame.\n",
      "Try using .loc[row_indexer,col_indexer] = value instead\n",
      "\n",
      "See the caveats in the documentation: https://pandas.pydata.org/pandas-docs/stable/user_guide/indexing.html#returning-a-view-versus-a-copy\n",
      "\n",
      "/var/folders/qj/xh48vw9d4z5_h6wzs6r2smdh0000gn/T/ipykernel_761/3264337916.py:7: SettingWithCopyWarning:\n",
      "\n",
      "\n",
      "A value is trying to be set on a copy of a slice from a DataFrame.\n",
      "Try using .loc[row_indexer,col_indexer] = value instead\n",
      "\n",
      "See the caveats in the documentation: https://pandas.pydata.org/pandas-docs/stable/user_guide/indexing.html#returning-a-view-versus-a-copy\n",
      "\n",
      "/var/folders/qj/xh48vw9d4z5_h6wzs6r2smdh0000gn/T/ipykernel_761/3264337916.py:7: SettingWithCopyWarning:\n",
      "\n",
      "\n",
      "A value is trying to be set on a copy of a slice from a DataFrame.\n",
      "Try using .loc[row_indexer,col_indexer] = value instead\n",
      "\n",
      "See the caveats in the documentation: https://pandas.pydata.org/pandas-docs/stable/user_guide/indexing.html#returning-a-view-versus-a-copy\n",
      "\n",
      "/var/folders/qj/xh48vw9d4z5_h6wzs6r2smdh0000gn/T/ipykernel_761/3264337916.py:7: SettingWithCopyWarning:\n",
      "\n",
      "\n",
      "A value is trying to be set on a copy of a slice from a DataFrame.\n",
      "Try using .loc[row_indexer,col_indexer] = value instead\n",
      "\n",
      "See the caveats in the documentation: https://pandas.pydata.org/pandas-docs/stable/user_guide/indexing.html#returning-a-view-versus-a-copy\n",
      "\n",
      "/var/folders/qj/xh48vw9d4z5_h6wzs6r2smdh0000gn/T/ipykernel_761/3264337916.py:7: SettingWithCopyWarning:\n",
      "\n",
      "\n",
      "A value is trying to be set on a copy of a slice from a DataFrame.\n",
      "Try using .loc[row_indexer,col_indexer] = value instead\n",
      "\n",
      "See the caveats in the documentation: https://pandas.pydata.org/pandas-docs/stable/user_guide/indexing.html#returning-a-view-versus-a-copy\n",
      "\n",
      "/var/folders/qj/xh48vw9d4z5_h6wzs6r2smdh0000gn/T/ipykernel_761/3264337916.py:7: SettingWithCopyWarning:\n",
      "\n",
      "\n",
      "A value is trying to be set on a copy of a slice from a DataFrame.\n",
      "Try using .loc[row_indexer,col_indexer] = value instead\n",
      "\n",
      "See the caveats in the documentation: https://pandas.pydata.org/pandas-docs/stable/user_guide/indexing.html#returning-a-view-versus-a-copy\n",
      "\n",
      "/var/folders/qj/xh48vw9d4z5_h6wzs6r2smdh0000gn/T/ipykernel_761/3264337916.py:7: SettingWithCopyWarning:\n",
      "\n",
      "\n",
      "A value is trying to be set on a copy of a slice from a DataFrame.\n",
      "Try using .loc[row_indexer,col_indexer] = value instead\n",
      "\n",
      "See the caveats in the documentation: https://pandas.pydata.org/pandas-docs/stable/user_guide/indexing.html#returning-a-view-versus-a-copy\n",
      "\n",
      "/var/folders/qj/xh48vw9d4z5_h6wzs6r2smdh0000gn/T/ipykernel_761/3264337916.py:7: SettingWithCopyWarning:\n",
      "\n",
      "\n",
      "A value is trying to be set on a copy of a slice from a DataFrame.\n",
      "Try using .loc[row_indexer,col_indexer] = value instead\n",
      "\n",
      "See the caveats in the documentation: https://pandas.pydata.org/pandas-docs/stable/user_guide/indexing.html#returning-a-view-versus-a-copy\n",
      "\n",
      "/var/folders/qj/xh48vw9d4z5_h6wzs6r2smdh0000gn/T/ipykernel_761/3264337916.py:7: SettingWithCopyWarning:\n",
      "\n",
      "\n",
      "A value is trying to be set on a copy of a slice from a DataFrame.\n",
      "Try using .loc[row_indexer,col_indexer] = value instead\n",
      "\n",
      "See the caveats in the documentation: https://pandas.pydata.org/pandas-docs/stable/user_guide/indexing.html#returning-a-view-versus-a-copy\n",
      "\n",
      "/var/folders/qj/xh48vw9d4z5_h6wzs6r2smdh0000gn/T/ipykernel_761/3264337916.py:7: SettingWithCopyWarning:\n",
      "\n",
      "\n",
      "A value is trying to be set on a copy of a slice from a DataFrame.\n",
      "Try using .loc[row_indexer,col_indexer] = value instead\n",
      "\n",
      "See the caveats in the documentation: https://pandas.pydata.org/pandas-docs/stable/user_guide/indexing.html#returning-a-view-versus-a-copy\n",
      "\n",
      "/var/folders/qj/xh48vw9d4z5_h6wzs6r2smdh0000gn/T/ipykernel_761/3264337916.py:7: SettingWithCopyWarning:\n",
      "\n",
      "\n",
      "A value is trying to be set on a copy of a slice from a DataFrame.\n",
      "Try using .loc[row_indexer,col_indexer] = value instead\n",
      "\n",
      "See the caveats in the documentation: https://pandas.pydata.org/pandas-docs/stable/user_guide/indexing.html#returning-a-view-versus-a-copy\n",
      "\n",
      "/var/folders/qj/xh48vw9d4z5_h6wzs6r2smdh0000gn/T/ipykernel_761/3264337916.py:7: SettingWithCopyWarning:\n",
      "\n",
      "\n",
      "A value is trying to be set on a copy of a slice from a DataFrame.\n",
      "Try using .loc[row_indexer,col_indexer] = value instead\n",
      "\n",
      "See the caveats in the documentation: https://pandas.pydata.org/pandas-docs/stable/user_guide/indexing.html#returning-a-view-versus-a-copy\n",
      "\n",
      "/var/folders/qj/xh48vw9d4z5_h6wzs6r2smdh0000gn/T/ipykernel_761/3264337916.py:7: SettingWithCopyWarning:\n",
      "\n",
      "\n",
      "A value is trying to be set on a copy of a slice from a DataFrame.\n",
      "Try using .loc[row_indexer,col_indexer] = value instead\n",
      "\n",
      "See the caveats in the documentation: https://pandas.pydata.org/pandas-docs/stable/user_guide/indexing.html#returning-a-view-versus-a-copy\n",
      "\n",
      "/var/folders/qj/xh48vw9d4z5_h6wzs6r2smdh0000gn/T/ipykernel_761/3264337916.py:7: SettingWithCopyWarning:\n",
      "\n",
      "\n",
      "A value is trying to be set on a copy of a slice from a DataFrame.\n",
      "Try using .loc[row_indexer,col_indexer] = value instead\n",
      "\n",
      "See the caveats in the documentation: https://pandas.pydata.org/pandas-docs/stable/user_guide/indexing.html#returning-a-view-versus-a-copy\n",
      "\n",
      "/var/folders/qj/xh48vw9d4z5_h6wzs6r2smdh0000gn/T/ipykernel_761/3264337916.py:7: SettingWithCopyWarning:\n",
      "\n",
      "\n",
      "A value is trying to be set on a copy of a slice from a DataFrame.\n",
      "Try using .loc[row_indexer,col_indexer] = value instead\n",
      "\n",
      "See the caveats in the documentation: https://pandas.pydata.org/pandas-docs/stable/user_guide/indexing.html#returning-a-view-versus-a-copy\n",
      "\n",
      "/var/folders/qj/xh48vw9d4z5_h6wzs6r2smdh0000gn/T/ipykernel_761/3264337916.py:7: SettingWithCopyWarning:\n",
      "\n",
      "\n",
      "A value is trying to be set on a copy of a slice from a DataFrame.\n",
      "Try using .loc[row_indexer,col_indexer] = value instead\n",
      "\n",
      "See the caveats in the documentation: https://pandas.pydata.org/pandas-docs/stable/user_guide/indexing.html#returning-a-view-versus-a-copy\n",
      "\n",
      "/var/folders/qj/xh48vw9d4z5_h6wzs6r2smdh0000gn/T/ipykernel_761/3264337916.py:7: SettingWithCopyWarning:\n",
      "\n",
      "\n",
      "A value is trying to be set on a copy of a slice from a DataFrame.\n",
      "Try using .loc[row_indexer,col_indexer] = value instead\n",
      "\n",
      "See the caveats in the documentation: https://pandas.pydata.org/pandas-docs/stable/user_guide/indexing.html#returning-a-view-versus-a-copy\n",
      "\n",
      "/var/folders/qj/xh48vw9d4z5_h6wzs6r2smdh0000gn/T/ipykernel_761/3264337916.py:7: SettingWithCopyWarning:\n",
      "\n",
      "\n",
      "A value is trying to be set on a copy of a slice from a DataFrame.\n",
      "Try using .loc[row_indexer,col_indexer] = value instead\n",
      "\n",
      "See the caveats in the documentation: https://pandas.pydata.org/pandas-docs/stable/user_guide/indexing.html#returning-a-view-versus-a-copy\n",
      "\n",
      "/var/folders/qj/xh48vw9d4z5_h6wzs6r2smdh0000gn/T/ipykernel_761/3264337916.py:7: SettingWithCopyWarning:\n",
      "\n",
      "\n",
      "A value is trying to be set on a copy of a slice from a DataFrame.\n",
      "Try using .loc[row_indexer,col_indexer] = value instead\n",
      "\n",
      "See the caveats in the documentation: https://pandas.pydata.org/pandas-docs/stable/user_guide/indexing.html#returning-a-view-versus-a-copy\n",
      "\n",
      "/var/folders/qj/xh48vw9d4z5_h6wzs6r2smdh0000gn/T/ipykernel_761/3264337916.py:7: SettingWithCopyWarning:\n",
      "\n",
      "\n",
      "A value is trying to be set on a copy of a slice from a DataFrame.\n",
      "Try using .loc[row_indexer,col_indexer] = value instead\n",
      "\n",
      "See the caveats in the documentation: https://pandas.pydata.org/pandas-docs/stable/user_guide/indexing.html#returning-a-view-versus-a-copy\n",
      "\n",
      "/var/folders/qj/xh48vw9d4z5_h6wzs6r2smdh0000gn/T/ipykernel_761/3264337916.py:7: SettingWithCopyWarning:\n",
      "\n",
      "\n",
      "A value is trying to be set on a copy of a slice from a DataFrame.\n",
      "Try using .loc[row_indexer,col_indexer] = value instead\n",
      "\n",
      "See the caveats in the documentation: https://pandas.pydata.org/pandas-docs/stable/user_guide/indexing.html#returning-a-view-versus-a-copy\n",
      "\n",
      "/var/folders/qj/xh48vw9d4z5_h6wzs6r2smdh0000gn/T/ipykernel_761/3264337916.py:7: SettingWithCopyWarning:\n",
      "\n",
      "\n",
      "A value is trying to be set on a copy of a slice from a DataFrame.\n",
      "Try using .loc[row_indexer,col_indexer] = value instead\n",
      "\n",
      "See the caveats in the documentation: https://pandas.pydata.org/pandas-docs/stable/user_guide/indexing.html#returning-a-view-versus-a-copy\n",
      "\n",
      "/var/folders/qj/xh48vw9d4z5_h6wzs6r2smdh0000gn/T/ipykernel_761/3264337916.py:7: SettingWithCopyWarning:\n",
      "\n",
      "\n",
      "A value is trying to be set on a copy of a slice from a DataFrame.\n",
      "Try using .loc[row_indexer,col_indexer] = value instead\n",
      "\n",
      "See the caveats in the documentation: https://pandas.pydata.org/pandas-docs/stable/user_guide/indexing.html#returning-a-view-versus-a-copy\n",
      "\n",
      "/var/folders/qj/xh48vw9d4z5_h6wzs6r2smdh0000gn/T/ipykernel_761/3264337916.py:7: SettingWithCopyWarning:\n",
      "\n",
      "\n",
      "A value is trying to be set on a copy of a slice from a DataFrame.\n",
      "Try using .loc[row_indexer,col_indexer] = value instead\n",
      "\n",
      "See the caveats in the documentation: https://pandas.pydata.org/pandas-docs/stable/user_guide/indexing.html#returning-a-view-versus-a-copy\n",
      "\n",
      "/var/folders/qj/xh48vw9d4z5_h6wzs6r2smdh0000gn/T/ipykernel_761/3264337916.py:7: SettingWithCopyWarning:\n",
      "\n",
      "\n",
      "A value is trying to be set on a copy of a slice from a DataFrame.\n",
      "Try using .loc[row_indexer,col_indexer] = value instead\n",
      "\n",
      "See the caveats in the documentation: https://pandas.pydata.org/pandas-docs/stable/user_guide/indexing.html#returning-a-view-versus-a-copy\n",
      "\n",
      "/var/folders/qj/xh48vw9d4z5_h6wzs6r2smdh0000gn/T/ipykernel_761/3264337916.py:7: SettingWithCopyWarning:\n",
      "\n",
      "\n",
      "A value is trying to be set on a copy of a slice from a DataFrame.\n",
      "Try using .loc[row_indexer,col_indexer] = value instead\n",
      "\n",
      "See the caveats in the documentation: https://pandas.pydata.org/pandas-docs/stable/user_guide/indexing.html#returning-a-view-versus-a-copy\n",
      "\n",
      "/var/folders/qj/xh48vw9d4z5_h6wzs6r2smdh0000gn/T/ipykernel_761/3264337916.py:7: SettingWithCopyWarning:\n",
      "\n",
      "\n",
      "A value is trying to be set on a copy of a slice from a DataFrame.\n",
      "Try using .loc[row_indexer,col_indexer] = value instead\n",
      "\n",
      "See the caveats in the documentation: https://pandas.pydata.org/pandas-docs/stable/user_guide/indexing.html#returning-a-view-versus-a-copy\n",
      "\n",
      "/var/folders/qj/xh48vw9d4z5_h6wzs6r2smdh0000gn/T/ipykernel_761/3264337916.py:7: SettingWithCopyWarning:\n",
      "\n",
      "\n",
      "A value is trying to be set on a copy of a slice from a DataFrame.\n",
      "Try using .loc[row_indexer,col_indexer] = value instead\n",
      "\n",
      "See the caveats in the documentation: https://pandas.pydata.org/pandas-docs/stable/user_guide/indexing.html#returning-a-view-versus-a-copy\n",
      "\n",
      "/var/folders/qj/xh48vw9d4z5_h6wzs6r2smdh0000gn/T/ipykernel_761/3264337916.py:7: SettingWithCopyWarning:\n",
      "\n",
      "\n",
      "A value is trying to be set on a copy of a slice from a DataFrame.\n",
      "Try using .loc[row_indexer,col_indexer] = value instead\n",
      "\n",
      "See the caveats in the documentation: https://pandas.pydata.org/pandas-docs/stable/user_guide/indexing.html#returning-a-view-versus-a-copy\n",
      "\n",
      "/var/folders/qj/xh48vw9d4z5_h6wzs6r2smdh0000gn/T/ipykernel_761/3264337916.py:7: SettingWithCopyWarning:\n",
      "\n",
      "\n",
      "A value is trying to be set on a copy of a slice from a DataFrame.\n",
      "Try using .loc[row_indexer,col_indexer] = value instead\n",
      "\n",
      "See the caveats in the documentation: https://pandas.pydata.org/pandas-docs/stable/user_guide/indexing.html#returning-a-view-versus-a-copy\n",
      "\n",
      "/var/folders/qj/xh48vw9d4z5_h6wzs6r2smdh0000gn/T/ipykernel_761/3264337916.py:7: SettingWithCopyWarning:\n",
      "\n",
      "\n",
      "A value is trying to be set on a copy of a slice from a DataFrame.\n",
      "Try using .loc[row_indexer,col_indexer] = value instead\n",
      "\n",
      "See the caveats in the documentation: https://pandas.pydata.org/pandas-docs/stable/user_guide/indexing.html#returning-a-view-versus-a-copy\n",
      "\n",
      "/var/folders/qj/xh48vw9d4z5_h6wzs6r2smdh0000gn/T/ipykernel_761/3264337916.py:7: SettingWithCopyWarning:\n",
      "\n",
      "\n",
      "A value is trying to be set on a copy of a slice from a DataFrame.\n",
      "Try using .loc[row_indexer,col_indexer] = value instead\n",
      "\n",
      "See the caveats in the documentation: https://pandas.pydata.org/pandas-docs/stable/user_guide/indexing.html#returning-a-view-versus-a-copy\n",
      "\n",
      "/var/folders/qj/xh48vw9d4z5_h6wzs6r2smdh0000gn/T/ipykernel_761/3264337916.py:7: SettingWithCopyWarning:\n",
      "\n",
      "\n",
      "A value is trying to be set on a copy of a slice from a DataFrame.\n",
      "Try using .loc[row_indexer,col_indexer] = value instead\n",
      "\n",
      "See the caveats in the documentation: https://pandas.pydata.org/pandas-docs/stable/user_guide/indexing.html#returning-a-view-versus-a-copy\n",
      "\n"
     ]
    }
   ],
   "source": [
    "#create subset for males \n",
    "df_R_nats_M = pd.DataFrame(columns= [\"Nationality\", \"dateAcquired\", \"Count\", \"Gender\"]) \n",
    "\n",
    "for nat in nationalities:\n",
    "    nat_sub =  rh[rh.Nationality == nat]\n",
    "    sub_m = nat_sub[nat_sub.Gender == 'M']   \n",
    "    sub_m.dateAcquired = sub_m.dateAcquired.astype('str')\n",
    "    years = ', '.join(sub_m.dateAcquired)\n",
    "    years = sorted(list([item[:4] for item in list(set(years.split(', ')))]))[0:-1]\n",
    "    for year in years:\n",
    "        year_sub = sub_m[sub_m.dateAcquired == year]\n",
    "        m_count = len(year_sub[year_sub.Gender == 'M'])\n",
    "        df_R_nats_M.loc[len(df_R_nats_M.index)] = [nat, year, m_count, 'M']\n",
    "\n",
    "df_R_nats_M.dateAcquired = df_R_nats_M.dateAcquired.astype('int')\n",
    "df_R_nats_M = df_R_nats_M[df_R_nats_M.dateAcquired >0]"
   ]
  },
  {
   "cell_type": "code",
   "execution_count": null,
   "metadata": {},
   "outputs": [
    {
     "data": {
      "application/vnd.plotly.v1+json": {
       "config": {
        "plotlyServerURL": "https://plot.ly"
       },
       "data": [
        {
         "hovertemplate": "Gender=F<br>dateAcquired=%{x}<br>Nationality=%{y}<br>Count=%{marker.size}<extra></extra>",
         "legendgroup": "F",
         "marker": {
          "color": "red",
          "opacity": 0.3,
          "size": [
           3,
           5,
           1,
           1,
           1,
           7,
           4,
           4,
           1,
           2,
           1,
           1,
           12,
           1,
           5,
           4,
           5,
           7,
           2,
           1,
           1,
           1,
           1,
           7,
           1,
           1,
           1,
           1,
           2,
           1,
           2,
           1,
           1,
           2,
           1,
           2,
           1,
           1,
           1,
           1,
           1,
           1,
           1,
           4,
           16,
           21,
           7,
           14,
           13,
           9,
           16,
           6,
           2,
           1,
           1,
           4,
           1,
           1,
           1,
           2,
           1,
           1,
           1,
           2,
           2,
           19,
           15,
           7,
           16,
           15,
           16,
           20,
           7,
           2,
           1,
           2,
           1,
           2,
           3,
           1,
           2,
           1,
           3,
           1,
           1,
           5,
           2,
           2,
           3,
           1,
           5,
           4,
           4,
           1,
           1,
           1,
           1,
           2,
           2,
           13,
           2,
           2,
           3,
           2,
           1,
           2,
           3
          ],
          "sizemode": "area",
          "sizeref": 0.13,
          "symbol": "circle"
         },
         "mode": "markers",
         "name": "F",
         "orientation": "h",
         "showlegend": true,
         "type": "scatter",
         "x": [
          2002,
          2005,
          2007,
          2001,
          2003,
          2004,
          2005,
          2006,
          2007,
          2008,
          2000,
          2001,
          2002,
          2003,
          2004,
          2005,
          2006,
          2007,
          2001,
          2002,
          2003,
          2005,
          2006,
          2007,
          2008,
          2009,
          2003,
          2001,
          2001,
          2001,
          2002,
          2003,
          2005,
          2001,
          2002,
          2004,
          2004,
          2003,
          2001,
          2004,
          2001,
          2002,
          2004,
          2005,
          2001,
          2002,
          2003,
          2004,
          2005,
          2006,
          2007,
          2008,
          2009,
          2006,
          2002,
          2004,
          2004,
          2006,
          2002,
          2004,
          2005,
          2001,
          2002,
          2007,
          2000,
          2001,
          2002,
          2003,
          2004,
          2005,
          2006,
          2007,
          2008,
          2009,
          2001,
          2003,
          2002,
          2001,
          2001,
          2001,
          2002,
          2004,
          2005,
          2006,
          2000,
          2001,
          2002,
          2003,
          2004,
          2005,
          2006,
          2007,
          2008,
          2009,
          2001,
          2002,
          2001,
          2001,
          2002,
          2004,
          2005,
          2006,
          2007,
          2001,
          2002,
          2005,
          2006
         ],
         "xaxis": "x",
         "y": [
          "Italian",
          "Italian",
          "Italian",
          "Dutch",
          "Dutch",
          "Dutch",
          "Dutch",
          "Dutch",
          "Dutch",
          "Dutch",
          "British",
          "British",
          "British",
          "British",
          "British",
          "British",
          "British",
          "British",
          "Austrian",
          "Austrian",
          "Austrian",
          "Austrian",
          "Austrian",
          "Austrian",
          "Austrian",
          "Austrian",
          "American/Canadian",
          "Iranian",
          "Czech",
          "Brasilian",
          "Brasilian",
          "Brasilian",
          "Brasilian",
          "Russian",
          "Russian",
          "Russian",
          "Chilean",
          "Croatian",
          "Polish",
          "Polish",
          "German",
          "German",
          "German",
          "German",
          "missing",
          "missing",
          "missing",
          "missing",
          "missing",
          "missing",
          "missing",
          "missing",
          "missing",
          "Mexican/American",
          "Argentine",
          "Argentine",
          "Portuguese",
          "Portuguese",
          "Israeli",
          "Israeli",
          "Israeli",
          "Swedish",
          "Swedish",
          "Swedish",
          "American",
          "American",
          "American",
          "American",
          "American",
          "American",
          "American",
          "American",
          "American",
          "American",
          "Japanese",
          "Japanese",
          "Greek",
          "Taiwanese",
          "American ",
          "Australian",
          "Australian",
          "Australian",
          "Australian",
          "Australian",
          "Canadian",
          "Canadian",
          "Canadian",
          "Canadian",
          "Canadian",
          "Canadian",
          "Canadian",
          "Canadian",
          "Canadian",
          "Canadian",
          "Spanish",
          "Mexican",
          "Finnish ",
          "French",
          "French",
          "French",
          "French",
          "French",
          "French",
          "South Korean",
          "South Korean",
          "South Korean",
          "South Korean"
         ],
         "yaxis": "y"
        },
        {
         "hovertemplate": "Gender=M<br>dateAcquired=%{x}<br>Nationality=%{y}<br>Count=%{marker.size}<extra></extra>",
         "legendgroup": "M",
         "marker": {
          "color": "blue",
          "opacity": 0.3,
          "size": [
           3,
           6,
           3,
           3,
           3,
           4,
           1,
           5,
           2,
           1,
           1,
           1,
           1,
           1,
           1,
           2,
           1,
           1,
           3,
           2,
           2,
           3,
           4,
           6,
           7,
           3,
           8,
           1,
           1,
           5,
           4,
           4,
           1,
           1,
           4,
           1,
           1,
           1,
           2,
           2,
           2,
           3,
           2,
           2,
           3,
           1,
           1,
           1,
           1,
           1,
           1,
           1,
           2,
           2,
           1,
           3,
           2,
           5,
           1,
           2,
           4,
           1,
           2,
           1,
           2,
           6,
           10,
           4,
           7,
           7,
           9,
           10,
           3,
           2,
           2,
           1,
           1,
           4,
           1,
           1,
           1,
           1,
           1,
           3,
           1,
           1,
           2,
           1,
           2,
           1,
           1,
           1,
           39,
           51,
           26,
           52,
           45,
           39,
           46,
           19,
           17,
           4,
           1,
           5,
           2,
           1,
           2,
           2,
           4,
           1,
           1,
           1,
           1,
           2,
           1,
           4,
           4,
           1,
           11,
           1,
           3,
           1,
           1,
           9,
           1,
           1,
           1,
           6,
           1,
           4,
           2,
           35,
           29,
           19,
           27,
           37,
           36,
           45,
           26,
           26,
           7,
           1,
           1,
           1,
           2,
           6,
           5,
           1,
           1,
           1,
           1,
           1,
           1,
           2,
           1,
           4,
           1,
           10,
           5,
           1,
           4,
           4,
           5,
           2,
           1,
           1,
           2,
           6,
           4,
           2,
           8,
           15,
           7,
           7,
           2,
           3,
           2,
           1,
           3,
           1,
           1,
           5,
           1,
           2,
           2,
           2,
           1,
           1,
           2,
           1,
           2,
           1,
           1,
           1,
           1,
           1,
           1,
           12,
           22,
           18,
           13,
           11,
           13,
           12,
           1,
           1,
           2,
           1,
           2
          ],
          "sizemode": "area",
          "sizeref": 0.13,
          "symbol": "circle"
         },
         "mode": "markers",
         "name": "M",
         "orientation": "h",
         "showlegend": true,
         "type": "scatter",
         "x": [
          2001,
          2002,
          2003,
          2005,
          2006,
          2007,
          2009,
          2001,
          2004,
          2005,
          2007,
          2010,
          2002,
          2003,
          2001,
          2002,
          2003,
          2004,
          2005,
          2008,
          2001,
          2002,
          2003,
          2004,
          2005,
          2006,
          2007,
          2008,
          2009,
          2001,
          2002,
          2004,
          2005,
          2006,
          2008,
          2003,
          2006,
          2004,
          2005,
          2001,
          2002,
          2004,
          2007,
          2002,
          2001,
          2002,
          2004,
          2005,
          2003,
          2004,
          2002,
          2003,
          2001,
          2002,
          2005,
          2006,
          2007,
          2008,
          2009,
          2005,
          2007,
          2003,
          2004,
          2006,
          2007,
          2001,
          2002,
          2003,
          2004,
          2005,
          2006,
          2007,
          2008,
          2009,
          2010,
          2003,
          2001,
          2007,
          2008,
          2002,
          2007,
          2001,
          2007,
          2001,
          2002,
          2004,
          2005,
          2009,
          2002,
          2002,
          2004,
          2000,
          2001,
          2002,
          2003,
          2004,
          2005,
          2006,
          2007,
          2008,
          2009,
          2010,
          2001,
          2006,
          2001,
          2002,
          2003,
          2004,
          2005,
          2007,
          2008,
          2003,
          2004,
          2005,
          2006,
          2007,
          2001,
          2003,
          2004,
          2006,
          2008,
          2002,
          2003,
          2001,
          2002,
          2003,
          2004,
          2007,
          2008,
          2009,
          2000,
          2001,
          2002,
          2003,
          2004,
          2005,
          2006,
          2007,
          2008,
          2009,
          2010,
          2000,
          2001,
          2002,
          2004,
          2005,
          2006,
          2003,
          2008,
          2002,
          2004,
          2006,
          2001,
          2002,
          2003,
          2004,
          2005,
          2006,
          2007,
          2009,
          2001,
          2004,
          2005,
          2006,
          2007,
          2008,
          2010,
          2001,
          2002,
          2003,
          2004,
          2005,
          2006,
          2007,
          2001,
          2002,
          2003,
          2006,
          2007,
          2002,
          2003,
          2005,
          2006,
          2007,
          2001,
          2002,
          2003,
          2004,
          2005,
          2007,
          2002,
          2003,
          2004,
          2005,
          2006,
          2001,
          2003,
          2001,
          2002,
          2003,
          2004,
          2005,
          2006,
          2007,
          2008,
          2009,
          2003,
          2008,
          2002
         ],
         "xaxis": "x",
         "y": [
          "Italian",
          "Italian",
          "Italian",
          "Italian",
          "Italian",
          "Italian",
          "Italian",
          "Dutch",
          "Dutch",
          "Dutch",
          "Dutch",
          "Dutch",
          "Chilean?Chilean",
          "Chilean?Chilean",
          "Belgian",
          "Belgian",
          "Belgian",
          "Belgian",
          "Belgian",
          "Belgian",
          "British",
          "British",
          "British",
          "British",
          "British",
          "British",
          "British",
          "British",
          "British",
          "Austrian",
          "Austrian",
          "Austrian",
          "Austrian",
          "Austrian",
          "Austrian",
          "Czech",
          "Czech",
          "New Zealander",
          "New Zealander",
          "Brasilian",
          "Brasilian",
          "Brasilian",
          "Brasilian",
          "Argentine ",
          "Russian",
          "Russian",
          "Russian",
          "Chilean",
          "Polish/American",
          "Polish/American",
          "Hungarian",
          "Hungarian",
          "Polish",
          "Polish",
          "Polish",
          "Polish",
          "Polish",
          "Polish",
          "Polish",
          "Colombian",
          "Colombian",
          "Turkish",
          "Turkish",
          "Turkish",
          "Turkish",
          "German",
          "German",
          "German",
          "German",
          "German",
          "German",
          "German",
          "German",
          "German",
          "German",
          "Greek/Australian",
          "Norwegian",
          "British/Irish",
          "British/Irish",
          "Indian",
          "Indian",
          "Slovenian",
          "Slovenian",
          "American/South African",
          "American/South African",
          "American/South African",
          "American/South African",
          "American/South African",
          "Chinese",
          "South African",
          "South African",
          "missing",
          "missing",
          "missing",
          "missing",
          "missing",
          "missing",
          "missing",
          "missing",
          "missing",
          "missing",
          "missing",
          "Serbian",
          "Serbian",
          "Argentine",
          "Argentine",
          "Argentine",
          "Argentine",
          "Argentine",
          "Argentine",
          "Argentine",
          "Portuguese",
          "Portuguese",
          "Portuguese",
          "Portuguese",
          "Portuguese",
          "Israeli",
          "Israeli",
          "Israeli",
          "Israeli",
          "Israeli",
          "British/Canadian",
          "British/Canadian",
          "Swedish",
          "Swedish",
          "Swedish",
          "Swedish",
          "Swedish",
          "Swedish",
          "Swedish",
          "American",
          "American",
          "American",
          "American",
          "American",
          "American",
          "American",
          "American",
          "American",
          "American",
          "American",
          "Japanese",
          "Japanese",
          "Japanese",
          "Japanese",
          "Japanese",
          "Japanese",
          "Greek",
          "Greek",
          "Taiwanese",
          "Taiwanese",
          "Taiwanese",
          "American ",
          "American ",
          "American ",
          "American ",
          "American ",
          "American ",
          "American ",
          "American ",
          "Australian",
          "Australian",
          "Australian",
          "Australian",
          "Australian",
          "Australian",
          "Australian",
          "Canadian",
          "Canadian",
          "Canadian",
          "Canadian",
          "Canadian",
          "Canadian",
          "Canadian",
          "Spanish",
          "Spanish",
          "Spanish",
          "Spanish",
          "Spanish",
          "Swiss",
          "Swiss",
          "Swiss",
          "Swiss",
          "Swiss",
          "Mexican",
          "Mexican",
          "Mexican",
          "Mexican",
          "Mexican",
          "Mexican",
          "Icelandic/American",
          "Icelandic/American",
          "Icelandic/American",
          "Icelandic/American",
          "Icelandic/American",
          "Italian ",
          "American/British",
          "French",
          "French",
          "French",
          "French",
          "French",
          "French",
          "French",
          "French",
          "French",
          "Brasilian/American",
          "Dutch/Brazilian",
          "South Korean"
         ],
         "yaxis": "y"
        }
       ],
       "layout": {
        "height": 700,
        "legend": {
         "itemsizing": "constant",
         "title": {
          "text": "Gender"
         },
         "tracegroupgap": 0
        },
        "paper_bgcolor": "rgb(255, 255, 255)",
        "plot_bgcolor": "rgb(243, 243, 243)",
        "template": {
         "data": {
          "bar": [
           {
            "error_x": {
             "color": "#2a3f5f"
            },
            "error_y": {
             "color": "#2a3f5f"
            },
            "marker": {
             "line": {
              "color": "#E5ECF6",
              "width": 0.5
             },
             "pattern": {
              "fillmode": "overlay",
              "size": 10,
              "solidity": 0.2
             }
            },
            "type": "bar"
           }
          ],
          "barpolar": [
           {
            "marker": {
             "line": {
              "color": "#E5ECF6",
              "width": 0.5
             },
             "pattern": {
              "fillmode": "overlay",
              "size": 10,
              "solidity": 0.2
             }
            },
            "type": "barpolar"
           }
          ],
          "carpet": [
           {
            "aaxis": {
             "endlinecolor": "#2a3f5f",
             "gridcolor": "white",
             "linecolor": "white",
             "minorgridcolor": "white",
             "startlinecolor": "#2a3f5f"
            },
            "baxis": {
             "endlinecolor": "#2a3f5f",
             "gridcolor": "white",
             "linecolor": "white",
             "minorgridcolor": "white",
             "startlinecolor": "#2a3f5f"
            },
            "type": "carpet"
           }
          ],
          "choropleth": [
           {
            "colorbar": {
             "outlinewidth": 0,
             "ticks": ""
            },
            "type": "choropleth"
           }
          ],
          "contour": [
           {
            "colorbar": {
             "outlinewidth": 0,
             "ticks": ""
            },
            "colorscale": [
             [
              0,
              "#0d0887"
             ],
             [
              0.1111111111111111,
              "#46039f"
             ],
             [
              0.2222222222222222,
              "#7201a8"
             ],
             [
              0.3333333333333333,
              "#9c179e"
             ],
             [
              0.4444444444444444,
              "#bd3786"
             ],
             [
              0.5555555555555556,
              "#d8576b"
             ],
             [
              0.6666666666666666,
              "#ed7953"
             ],
             [
              0.7777777777777778,
              "#fb9f3a"
             ],
             [
              0.8888888888888888,
              "#fdca26"
             ],
             [
              1,
              "#f0f921"
             ]
            ],
            "type": "contour"
           }
          ],
          "contourcarpet": [
           {
            "colorbar": {
             "outlinewidth": 0,
             "ticks": ""
            },
            "type": "contourcarpet"
           }
          ],
          "heatmap": [
           {
            "colorbar": {
             "outlinewidth": 0,
             "ticks": ""
            },
            "colorscale": [
             [
              0,
              "#0d0887"
             ],
             [
              0.1111111111111111,
              "#46039f"
             ],
             [
              0.2222222222222222,
              "#7201a8"
             ],
             [
              0.3333333333333333,
              "#9c179e"
             ],
             [
              0.4444444444444444,
              "#bd3786"
             ],
             [
              0.5555555555555556,
              "#d8576b"
             ],
             [
              0.6666666666666666,
              "#ed7953"
             ],
             [
              0.7777777777777778,
              "#fb9f3a"
             ],
             [
              0.8888888888888888,
              "#fdca26"
             ],
             [
              1,
              "#f0f921"
             ]
            ],
            "type": "heatmap"
           }
          ],
          "heatmapgl": [
           {
            "colorbar": {
             "outlinewidth": 0,
             "ticks": ""
            },
            "colorscale": [
             [
              0,
              "#0d0887"
             ],
             [
              0.1111111111111111,
              "#46039f"
             ],
             [
              0.2222222222222222,
              "#7201a8"
             ],
             [
              0.3333333333333333,
              "#9c179e"
             ],
             [
              0.4444444444444444,
              "#bd3786"
             ],
             [
              0.5555555555555556,
              "#d8576b"
             ],
             [
              0.6666666666666666,
              "#ed7953"
             ],
             [
              0.7777777777777778,
              "#fb9f3a"
             ],
             [
              0.8888888888888888,
              "#fdca26"
             ],
             [
              1,
              "#f0f921"
             ]
            ],
            "type": "heatmapgl"
           }
          ],
          "histogram": [
           {
            "marker": {
             "pattern": {
              "fillmode": "overlay",
              "size": 10,
              "solidity": 0.2
             }
            },
            "type": "histogram"
           }
          ],
          "histogram2d": [
           {
            "colorbar": {
             "outlinewidth": 0,
             "ticks": ""
            },
            "colorscale": [
             [
              0,
              "#0d0887"
             ],
             [
              0.1111111111111111,
              "#46039f"
             ],
             [
              0.2222222222222222,
              "#7201a8"
             ],
             [
              0.3333333333333333,
              "#9c179e"
             ],
             [
              0.4444444444444444,
              "#bd3786"
             ],
             [
              0.5555555555555556,
              "#d8576b"
             ],
             [
              0.6666666666666666,
              "#ed7953"
             ],
             [
              0.7777777777777778,
              "#fb9f3a"
             ],
             [
              0.8888888888888888,
              "#fdca26"
             ],
             [
              1,
              "#f0f921"
             ]
            ],
            "type": "histogram2d"
           }
          ],
          "histogram2dcontour": [
           {
            "colorbar": {
             "outlinewidth": 0,
             "ticks": ""
            },
            "colorscale": [
             [
              0,
              "#0d0887"
             ],
             [
              0.1111111111111111,
              "#46039f"
             ],
             [
              0.2222222222222222,
              "#7201a8"
             ],
             [
              0.3333333333333333,
              "#9c179e"
             ],
             [
              0.4444444444444444,
              "#bd3786"
             ],
             [
              0.5555555555555556,
              "#d8576b"
             ],
             [
              0.6666666666666666,
              "#ed7953"
             ],
             [
              0.7777777777777778,
              "#fb9f3a"
             ],
             [
              0.8888888888888888,
              "#fdca26"
             ],
             [
              1,
              "#f0f921"
             ]
            ],
            "type": "histogram2dcontour"
           }
          ],
          "mesh3d": [
           {
            "colorbar": {
             "outlinewidth": 0,
             "ticks": ""
            },
            "type": "mesh3d"
           }
          ],
          "parcoords": [
           {
            "line": {
             "colorbar": {
              "outlinewidth": 0,
              "ticks": ""
             }
            },
            "type": "parcoords"
           }
          ],
          "pie": [
           {
            "automargin": true,
            "type": "pie"
           }
          ],
          "scatter": [
           {
            "fillpattern": {
             "fillmode": "overlay",
             "size": 10,
             "solidity": 0.2
            },
            "type": "scatter"
           }
          ],
          "scatter3d": [
           {
            "line": {
             "colorbar": {
              "outlinewidth": 0,
              "ticks": ""
             }
            },
            "marker": {
             "colorbar": {
              "outlinewidth": 0,
              "ticks": ""
             }
            },
            "type": "scatter3d"
           }
          ],
          "scattercarpet": [
           {
            "marker": {
             "colorbar": {
              "outlinewidth": 0,
              "ticks": ""
             }
            },
            "type": "scattercarpet"
           }
          ],
          "scattergeo": [
           {
            "marker": {
             "colorbar": {
              "outlinewidth": 0,
              "ticks": ""
             }
            },
            "type": "scattergeo"
           }
          ],
          "scattergl": [
           {
            "marker": {
             "colorbar": {
              "outlinewidth": 0,
              "ticks": ""
             }
            },
            "type": "scattergl"
           }
          ],
          "scattermapbox": [
           {
            "marker": {
             "colorbar": {
              "outlinewidth": 0,
              "ticks": ""
             }
            },
            "type": "scattermapbox"
           }
          ],
          "scatterpolar": [
           {
            "marker": {
             "colorbar": {
              "outlinewidth": 0,
              "ticks": ""
             }
            },
            "type": "scatterpolar"
           }
          ],
          "scatterpolargl": [
           {
            "marker": {
             "colorbar": {
              "outlinewidth": 0,
              "ticks": ""
             }
            },
            "type": "scatterpolargl"
           }
          ],
          "scatterternary": [
           {
            "marker": {
             "colorbar": {
              "outlinewidth": 0,
              "ticks": ""
             }
            },
            "type": "scatterternary"
           }
          ],
          "surface": [
           {
            "colorbar": {
             "outlinewidth": 0,
             "ticks": ""
            },
            "colorscale": [
             [
              0,
              "#0d0887"
             ],
             [
              0.1111111111111111,
              "#46039f"
             ],
             [
              0.2222222222222222,
              "#7201a8"
             ],
             [
              0.3333333333333333,
              "#9c179e"
             ],
             [
              0.4444444444444444,
              "#bd3786"
             ],
             [
              0.5555555555555556,
              "#d8576b"
             ],
             [
              0.6666666666666666,
              "#ed7953"
             ],
             [
              0.7777777777777778,
              "#fb9f3a"
             ],
             [
              0.8888888888888888,
              "#fdca26"
             ],
             [
              1,
              "#f0f921"
             ]
            ],
            "type": "surface"
           }
          ],
          "table": [
           {
            "cells": {
             "fill": {
              "color": "#EBF0F8"
             },
             "line": {
              "color": "white"
             }
            },
            "header": {
             "fill": {
              "color": "#C8D4E3"
             },
             "line": {
              "color": "white"
             }
            },
            "type": "table"
           }
          ]
         },
         "layout": {
          "annotationdefaults": {
           "arrowcolor": "#2a3f5f",
           "arrowhead": 0,
           "arrowwidth": 1
          },
          "autotypenumbers": "strict",
          "coloraxis": {
           "colorbar": {
            "outlinewidth": 0,
            "ticks": ""
           }
          },
          "colorscale": {
           "diverging": [
            [
             0,
             "#8e0152"
            ],
            [
             0.1,
             "#c51b7d"
            ],
            [
             0.2,
             "#de77ae"
            ],
            [
             0.3,
             "#f1b6da"
            ],
            [
             0.4,
             "#fde0ef"
            ],
            [
             0.5,
             "#f7f7f7"
            ],
            [
             0.6,
             "#e6f5d0"
            ],
            [
             0.7,
             "#b8e186"
            ],
            [
             0.8,
             "#7fbc41"
            ],
            [
             0.9,
             "#4d9221"
            ],
            [
             1,
             "#276419"
            ]
           ],
           "sequential": [
            [
             0,
             "#0d0887"
            ],
            [
             0.1111111111111111,
             "#46039f"
            ],
            [
             0.2222222222222222,
             "#7201a8"
            ],
            [
             0.3333333333333333,
             "#9c179e"
            ],
            [
             0.4444444444444444,
             "#bd3786"
            ],
            [
             0.5555555555555556,
             "#d8576b"
            ],
            [
             0.6666666666666666,
             "#ed7953"
            ],
            [
             0.7777777777777778,
             "#fb9f3a"
            ],
            [
             0.8888888888888888,
             "#fdca26"
            ],
            [
             1,
             "#f0f921"
            ]
           ],
           "sequentialminus": [
            [
             0,
             "#0d0887"
            ],
            [
             0.1111111111111111,
             "#46039f"
            ],
            [
             0.2222222222222222,
             "#7201a8"
            ],
            [
             0.3333333333333333,
             "#9c179e"
            ],
            [
             0.4444444444444444,
             "#bd3786"
            ],
            [
             0.5555555555555556,
             "#d8576b"
            ],
            [
             0.6666666666666666,
             "#ed7953"
            ],
            [
             0.7777777777777778,
             "#fb9f3a"
            ],
            [
             0.8888888888888888,
             "#fdca26"
            ],
            [
             1,
             "#f0f921"
            ]
           ]
          },
          "colorway": [
           "#636efa",
           "#EF553B",
           "#00cc96",
           "#ab63fa",
           "#FFA15A",
           "#19d3f3",
           "#FF6692",
           "#B6E880",
           "#FF97FF",
           "#FECB52"
          ],
          "font": {
           "color": "#2a3f5f"
          },
          "geo": {
           "bgcolor": "white",
           "lakecolor": "white",
           "landcolor": "#E5ECF6",
           "showlakes": true,
           "showland": true,
           "subunitcolor": "white"
          },
          "hoverlabel": {
           "align": "left"
          },
          "hovermode": "closest",
          "mapbox": {
           "style": "light"
          },
          "paper_bgcolor": "white",
          "plot_bgcolor": "#E5ECF6",
          "polar": {
           "angularaxis": {
            "gridcolor": "white",
            "linecolor": "white",
            "ticks": ""
           },
           "bgcolor": "#E5ECF6",
           "radialaxis": {
            "gridcolor": "white",
            "linecolor": "white",
            "ticks": ""
           }
          },
          "scene": {
           "xaxis": {
            "backgroundcolor": "#E5ECF6",
            "gridcolor": "white",
            "gridwidth": 2,
            "linecolor": "white",
            "showbackground": true,
            "ticks": "",
            "zerolinecolor": "white"
           },
           "yaxis": {
            "backgroundcolor": "#E5ECF6",
            "gridcolor": "white",
            "gridwidth": 2,
            "linecolor": "white",
            "showbackground": true,
            "ticks": "",
            "zerolinecolor": "white"
           },
           "zaxis": {
            "backgroundcolor": "#E5ECF6",
            "gridcolor": "white",
            "gridwidth": 2,
            "linecolor": "white",
            "showbackground": true,
            "ticks": "",
            "zerolinecolor": "white"
           }
          },
          "shapedefaults": {
           "line": {
            "color": "#2a3f5f"
           }
          },
          "ternary": {
           "aaxis": {
            "gridcolor": "white",
            "linecolor": "white",
            "ticks": ""
           },
           "baxis": {
            "gridcolor": "white",
            "linecolor": "white",
            "ticks": ""
           },
           "bgcolor": "#E5ECF6",
           "caxis": {
            "gridcolor": "white",
            "linecolor": "white",
            "ticks": ""
           }
          },
          "title": {
           "x": 0.05
          },
          "xaxis": {
           "automargin": true,
           "gridcolor": "white",
           "linecolor": "white",
           "ticks": "",
           "title": {
            "standoff": 15
           },
           "zerolinecolor": "white",
           "zerolinewidth": 2
          },
          "yaxis": {
           "automargin": true,
           "gridcolor": "white",
           "linecolor": "white",
           "ticks": "",
           "title": {
            "standoff": 15
           },
           "zerolinecolor": "white",
           "zerolinewidth": 2
          }
         }
        },
        "title": {
         "text": "Rhizome's created after 1980"
        },
        "width": 900,
        "xaxis": {
         "anchor": "y",
         "domain": [
          0,
          1
         ],
         "title": {
          "text": "dateAcquired"
         }
        },
        "yaxis": {
         "anchor": "x",
         "domain": [
          0,
          1
         ],
         "title": {
          "text": "Nationality"
         }
        }
       }
      }
     },
     "metadata": {},
     "output_type": "display_data"
    }
   ],
   "source": [
    "#plot bubble charts with acquisizion over decades for moma old\n",
    "Rhizome_MFnat = pd.concat([df_R_nats_F,df_R_nats_M])\n",
    "Rhizome_MFnat['dateAcquired']=Rhizome_MFnat['dateAcquired'].fillna(0).astype(int)\n",
    "Rhizome_MFnat\n",
    "df =Rhizome_MFnat[(Rhizome_MFnat['dateAcquired'] >= 2000) & (Rhizome_MFnat['dateAcquired'] <= 2010)]\n",
    "\n",
    "\n",
    "fig43 = px.scatter(df,\n",
    "                 x=\"dateAcquired\", y=\"Nationality\", size=\"Count\", color=\"Gender\" ,\n",
    "                 opacity = 0.3,\n",
    "                 title=\"Rhizome's created after 1980\",\n",
    "\n",
    "             color_discrete_sequence=['red', 'blue'],\n",
    "                 width= 900,\n",
    "                 height= 700)\n",
    "\n",
    "fig43.update_layout(\n",
    "    paper_bgcolor='rgb(255, 255, 255)',\n",
    "    plot_bgcolor='rgb(243, 243, 243)',\n",
    "    )\n",
    "\n",
    "fig43.show()"
   ]
  },
  {
   "cell_type": "markdown",
   "metadata": {},
   "source": [
    "## 6 What are the most prominent medium in each dataset by gender and/or nationality? Rhizome vs MoMA 1983+ / MoMA pre-83 v MoMA post-83\n",
    "\n",
    "--> simple count OR percentage of total  \n",
    "\n",
    "-> how do these compare? \n",
    "\n",
    "-> compare only Rhizome vs MoMA media & performance / film \n",
    "\n",
    "Viz: pie charts/pictograms for counts OR parallel set for m/f <-> medium \n",
    "Story: TBC \n"
   ]
  },
  {
   "cell_type": "markdown",
   "metadata": {},
   "source": [
    "\n",
    "### Plots: Pie charts \n",
    "##### Variables: Nationality, Medium, count for Department"
   ]
  },
  {
   "cell_type": "code",
   "execution_count": null,
   "metadata": {},
   "outputs": [],
   "source": [
    "def search_nat(id):\n",
    "    subset = moma_artists[moma_artists.ID == id]\n",
    "    if len(subset)>=1:\n",
    "        nat = subset['Nationality'].values[0]\n",
    "        return nat\n",
    "    else:\n",
    "        return 'missing'"
   ]
  },
  {
   "cell_type": "code",
   "execution_count": null,
   "metadata": {},
   "outputs": [
    {
     "name": "stderr",
     "output_type": "stream",
     "text": [
      "/var/folders/qj/xh48vw9d4z5_h6wzs6r2smdh0000gn/T/ipykernel_761/3011522504.py:3: SettingWithCopyWarning:\n",
      "\n",
      "\n",
      "A value is trying to be set on a copy of a slice from a DataFrame.\n",
      "Try using .loc[row_indexer,col_indexer] = value instead\n",
      "\n",
      "See the caveats in the documentation: https://pandas.pydata.org/pandas-docs/stable/user_guide/indexing.html#returning-a-view-versus-a-copy\n",
      "\n",
      "/var/folders/qj/xh48vw9d4z5_h6wzs6r2smdh0000gn/T/ipykernel_761/3011522504.py:4: SettingWithCopyWarning:\n",
      "\n",
      "\n",
      "A value is trying to be set on a copy of a slice from a DataFrame.\n",
      "Try using .loc[row_indexer,col_indexer] = value instead\n",
      "\n",
      "See the caveats in the documentation: https://pandas.pydata.org/pandas-docs/stable/user_guide/indexing.html#returning-a-view-versus-a-copy\n",
      "\n",
      "/var/folders/qj/xh48vw9d4z5_h6wzs6r2smdh0000gn/T/ipykernel_761/3011522504.py:7: SettingWithCopyWarning:\n",
      "\n",
      "\n",
      "A value is trying to be set on a copy of a slice from a DataFrame.\n",
      "Try using .loc[row_indexer,col_indexer] = value instead\n",
      "\n",
      "See the caveats in the documentation: https://pandas.pydata.org/pandas-docs/stable/user_guide/indexing.html#returning-a-view-versus-a-copy\n",
      "\n",
      "/var/folders/qj/xh48vw9d4z5_h6wzs6r2smdh0000gn/T/ipykernel_761/3011522504.py:8: SettingWithCopyWarning:\n",
      "\n",
      "\n",
      "A value is trying to be set on a copy of a slice from a DataFrame.\n",
      "Try using .loc[row_indexer,col_indexer] = value instead\n",
      "\n",
      "See the caveats in the documentation: https://pandas.pydata.org/pandas-docs/stable/user_guide/indexing.html#returning-a-view-versus-a-copy\n",
      "\n",
      "/var/folders/qj/xh48vw9d4z5_h6wzs6r2smdh0000gn/T/ipykernel_761/3011522504.py:11: SettingWithCopyWarning:\n",
      "\n",
      "\n",
      "A value is trying to be set on a copy of a slice from a DataFrame.\n",
      "Try using .loc[row_indexer,col_indexer] = value instead\n",
      "\n",
      "See the caveats in the documentation: https://pandas.pydata.org/pandas-docs/stable/user_guide/indexing.html#returning-a-view-versus-a-copy\n",
      "\n",
      "/var/folders/qj/xh48vw9d4z5_h6wzs6r2smdh0000gn/T/ipykernel_761/3011522504.py:12: SettingWithCopyWarning:\n",
      "\n",
      "\n",
      "A value is trying to be set on a copy of a slice from a DataFrame.\n",
      "Try using .loc[row_indexer,col_indexer] = value instead\n",
      "\n",
      "See the caveats in the documentation: https://pandas.pydata.org/pandas-docs/stable/user_guide/indexing.html#returning-a-view-versus-a-copy\n",
      "\n",
      "/var/folders/qj/xh48vw9d4z5_h6wzs6r2smdh0000gn/T/ipykernel_761/3011522504.py:15: SettingWithCopyWarning:\n",
      "\n",
      "\n",
      "A value is trying to be set on a copy of a slice from a DataFrame.\n",
      "Try using .loc[row_indexer,col_indexer] = value instead\n",
      "\n",
      "See the caveats in the documentation: https://pandas.pydata.org/pandas-docs/stable/user_guide/indexing.html#returning-a-view-versus-a-copy\n",
      "\n",
      "/var/folders/qj/xh48vw9d4z5_h6wzs6r2smdh0000gn/T/ipykernel_761/3011522504.py:16: SettingWithCopyWarning:\n",
      "\n",
      "\n",
      "A value is trying to be set on a copy of a slice from a DataFrame.\n",
      "Try using .loc[row_indexer,col_indexer] = value instead\n",
      "\n",
      "See the caveats in the documentation: https://pandas.pydata.org/pandas-docs/stable/user_guide/indexing.html#returning-a-view-versus-a-copy\n",
      "\n",
      "/var/folders/qj/xh48vw9d4z5_h6wzs6r2smdh0000gn/T/ipykernel_761/3011522504.py:19: SettingWithCopyWarning:\n",
      "\n",
      "\n",
      "A value is trying to be set on a copy of a slice from a DataFrame.\n",
      "Try using .loc[row_indexer,col_indexer] = value instead\n",
      "\n",
      "See the caveats in the documentation: https://pandas.pydata.org/pandas-docs/stable/user_guide/indexing.html#returning-a-view-versus-a-copy\n",
      "\n",
      "/var/folders/qj/xh48vw9d4z5_h6wzs6r2smdh0000gn/T/ipykernel_761/3011522504.py:20: SettingWithCopyWarning:\n",
      "\n",
      "\n",
      "A value is trying to be set on a copy of a slice from a DataFrame.\n",
      "Try using .loc[row_indexer,col_indexer] = value instead\n",
      "\n",
      "See the caveats in the documentation: https://pandas.pydata.org/pandas-docs/stable/user_guide/indexing.html#returning-a-view-versus-a-copy\n",
      "\n",
      "/var/folders/qj/xh48vw9d4z5_h6wzs6r2smdh0000gn/T/ipykernel_761/3011522504.py:23: SettingWithCopyWarning:\n",
      "\n",
      "\n",
      "A value is trying to be set on a copy of a slice from a DataFrame.\n",
      "Try using .loc[row_indexer,col_indexer] = value instead\n",
      "\n",
      "See the caveats in the documentation: https://pandas.pydata.org/pandas-docs/stable/user_guide/indexing.html#returning-a-view-versus-a-copy\n",
      "\n",
      "/var/folders/qj/xh48vw9d4z5_h6wzs6r2smdh0000gn/T/ipykernel_761/3011522504.py:24: SettingWithCopyWarning:\n",
      "\n",
      "\n",
      "A value is trying to be set on a copy of a slice from a DataFrame.\n",
      "Try using .loc[row_indexer,col_indexer] = value instead\n",
      "\n",
      "See the caveats in the documentation: https://pandas.pydata.org/pandas-docs/stable/user_guide/indexing.html#returning-a-view-versus-a-copy\n",
      "\n",
      "/var/folders/qj/xh48vw9d4z5_h6wzs6r2smdh0000gn/T/ipykernel_761/3011522504.py:27: SettingWithCopyWarning:\n",
      "\n",
      "\n",
      "A value is trying to be set on a copy of a slice from a DataFrame.\n",
      "Try using .loc[row_indexer,col_indexer] = value instead\n",
      "\n",
      "See the caveats in the documentation: https://pandas.pydata.org/pandas-docs/stable/user_guide/indexing.html#returning-a-view-versus-a-copy\n",
      "\n",
      "/var/folders/qj/xh48vw9d4z5_h6wzs6r2smdh0000gn/T/ipykernel_761/3011522504.py:28: SettingWithCopyWarning:\n",
      "\n",
      "\n",
      "A value is trying to be set on a copy of a slice from a DataFrame.\n",
      "Try using .loc[row_indexer,col_indexer] = value instead\n",
      "\n",
      "See the caveats in the documentation: https://pandas.pydata.org/pandas-docs/stable/user_guide/indexing.html#returning-a-view-versus-a-copy\n",
      "\n",
      "/var/folders/qj/xh48vw9d4z5_h6wzs6r2smdh0000gn/T/ipykernel_761/3011522504.py:31: SettingWithCopyWarning:\n",
      "\n",
      "\n",
      "A value is trying to be set on a copy of a slice from a DataFrame.\n",
      "Try using .loc[row_indexer,col_indexer] = value instead\n",
      "\n",
      "See the caveats in the documentation: https://pandas.pydata.org/pandas-docs/stable/user_guide/indexing.html#returning-a-view-versus-a-copy\n",
      "\n",
      "/var/folders/qj/xh48vw9d4z5_h6wzs6r2smdh0000gn/T/ipykernel_761/3011522504.py:32: SettingWithCopyWarning:\n",
      "\n",
      "\n",
      "A value is trying to be set on a copy of a slice from a DataFrame.\n",
      "Try using .loc[row_indexer,col_indexer] = value instead\n",
      "\n",
      "See the caveats in the documentation: https://pandas.pydata.org/pandas-docs/stable/user_guide/indexing.html#returning-a-view-versus-a-copy\n",
      "\n"
     ]
    }
   ],
   "source": [
    "#create dfs for departments\n",
    "ArchitectureDesign = moma_artworks[moma_artworks.Department == 'Architecture & Design']\n",
    "ArchitectureDesign.ConstituentID = ArchitectureDesign.ConstituentID.fillna('0')\n",
    "ArchitectureDesign['Nationality'] = ArchitectureDesign[\"ConstituentID\"].apply(lambda id: search_nat(id))\n",
    "\n",
    "Architecture_Design_Images = moma_artworks[moma_artworks.Department == 'Architecture & Design - Image Archive']\n",
    "Architecture_Design_Images.ConstituentID = Architecture_Design_Images.ConstituentID.fillna('0')\n",
    "Architecture_Design_Images['Nationality'] = Architecture_Design_Images[\"ConstituentID\"].apply(lambda id: search_nat(id))\n",
    "\n",
    "Drawings_Prints = moma_artworks[moma_artworks.Department == 'Drawings & Prints']\n",
    "Drawings_Prints.ConstituentID = Drawings_Prints.ConstituentID.fillna('0')\n",
    "Drawings_Prints['Nationality'] = Drawings_Prints[\"ConstituentID\"].apply(lambda id: search_nat(id))\n",
    "\n",
    "Film = moma_artworks[moma_artworks.Department == 'Film']\n",
    "Film.ConstituentID = Film.ConstituentID.fillna('0')\n",
    "Film['Nationality'] = Film[\"ConstituentID\"].apply(lambda id: search_nat(id))\n",
    "\n",
    "Fluxus_Collection = moma_artworks[moma_artworks.Department == 'Fluxus Collection']\n",
    "Fluxus_Collection.ConstituentID = Fluxus_Collection.ConstituentID.fillna('0')\n",
    "Fluxus_Collection['Nationality'] = Fluxus_Collection[\"ConstituentID\"].apply(lambda id: search_nat(id))\n",
    "\n",
    "Media_Performance = moma_artworks[moma_artworks.Department == 'Media and Performance']\n",
    "Media_Performance.ConstituentID = Media_Performance.ConstituentID.fillna('0')\n",
    "Media_Performance['Nationality'] = Media_Performance[\"ConstituentID\"].apply(lambda id: search_nat(id))\n",
    "\n",
    "Painting_Sculpture = moma_artworks[moma_artworks.Department == 'Painting & Sculpture']\n",
    "Painting_Sculpture.ConstituentID = Painting_Sculpture.ConstituentID.fillna('0')\n",
    "Painting_Sculpture['Nationality'] = Painting_Sculpture[\"ConstituentID\"].apply(lambda id: search_nat(id))\n",
    "\n",
    "Photography = moma_artworks[moma_artworks.Department == 'Photography']\n",
    "Photography.ConstituentID = Photography.ConstituentID.fillna('0')\n",
    "Photography['Nationality'] = Photography[\"ConstituentID\"].apply(lambda id: search_nat(id))\n"
   ]
  },
  {
   "cell_type": "markdown",
   "metadata": {},
   "source": [
    "### Moma complete Departments"
   ]
  },
  {
   "cell_type": "markdown",
   "metadata": {},
   "source": [
    "relationship media department nationalities"
   ]
  },
  {
   "cell_type": "code",
   "execution_count": null,
   "metadata": {},
   "outputs": [
    {
     "data": {
      "text/plain": [
       "{'Afghan',\n",
       " 'Albanian',\n",
       " 'Algerian',\n",
       " 'American',\n",
       " 'Argentine',\n",
       " 'Australian',\n",
       " 'Austrian',\n",
       " 'Bangladeshi',\n",
       " 'Belgian',\n",
       " 'Brazilian',\n",
       " 'British',\n",
       " 'Canadian',\n",
       " 'Chilean',\n",
       " 'Chinese',\n",
       " 'Colombian',\n",
       " 'Croatian',\n",
       " 'Cuban',\n",
       " 'Czech',\n",
       " 'Danish',\n",
       " 'Dutch',\n",
       " 'Egyptian',\n",
       " 'Finnish',\n",
       " 'French',\n",
       " 'Georgian',\n",
       " 'German',\n",
       " 'Guatemalan',\n",
       " 'Hungarian',\n",
       " 'Icelandic',\n",
       " 'Indian',\n",
       " 'Iranian',\n",
       " 'Irish',\n",
       " 'Israeli',\n",
       " 'Italian',\n",
       " 'Japanese',\n",
       " 'Korean',\n",
       " 'Lebanese',\n",
       " 'Lithuanian',\n",
       " 'Mexican',\n",
       " 'Moroccan',\n",
       " 'Native American',\n",
       " 'New Zealander',\n",
       " 'Pakistani',\n",
       " 'Palestinian',\n",
       " 'Peruvian',\n",
       " 'Polish',\n",
       " 'Romanian',\n",
       " 'Russian',\n",
       " 'Scottish',\n",
       " 'Singaporean',\n",
       " 'Slovak',\n",
       " 'South African',\n",
       " 'Spanish',\n",
       " 'Swedish',\n",
       " 'Swiss',\n",
       " 'Taiwanese',\n",
       " 'Turkish',\n",
       " 'Ukrainian',\n",
       " 'Uruguayan',\n",
       " 'Yugoslav',\n",
       " 'missing'}"
      ]
     },
     "execution_count": 886,
     "metadata": {},
     "output_type": "execute_result"
    }
   ],
   "source": [
    "#plot piechart for count of nationalities \n",
    "set(Media_Performance.Nationality)\n"
   ]
  },
  {
   "cell_type": "markdown",
   "metadata": {},
   "source": [
    "# Plotly Visualizations for gender and nationality comparison"
   ]
  },
  {
   "cell_type": "code",
   "execution_count": null,
   "metadata": {},
   "outputs": [],
   "source": [
    "go.Heatmap()"
   ]
  }
 ],
 "metadata": {
  "interpreter": {
   "hash": "aee8b7b246df8f9039afb4144a1f6fd8d2ca17a180786b69acc140d282b71a49"
  },
  "kernelspec": {
   "display_name": "Python 3.9.4 64-bit",
   "language": "python",
   "name": "python3"
  },
  "language_info": {
   "codemirror_mode": {
    "name": "ipython",
    "version": 3
   },
   "file_extension": ".py",
   "mimetype": "text/x-python",
   "name": "python",
   "nbconvert_exporter": "python",
   "pygments_lexer": "ipython3",
   "version": "3.9.4"
  },
  "orig_nbformat": 4
 },
 "nbformat": 4,
 "nbformat_minor": 2
}
