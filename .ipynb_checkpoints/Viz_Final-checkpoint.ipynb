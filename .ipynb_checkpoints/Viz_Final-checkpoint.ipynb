{
 "cells": [
  {
   "cell_type": "code",
   "execution_count": 3,
   "metadata": {},
   "outputs": [],
   "source": [
    "import seaborn as sns\n",
    "import matplotlib.pyplot as plt\n",
    "import matplotlib.ticker as ticker\n",
    "import pandas as pd\n",
    "import plotly.express as px\n",
    "import plotly.graph_objects as go\n",
    "import numpy as np\n",
    "from wordcloud import *\n",
    "from functools import reduce\n",
    "pd.set_option('display.max_rows', 200)\n",
    "from statsmodels.graphics.mosaicplot import mosaic\n",
    "from plotly.subplots import make_subplots\n",
    "\n",
    "path = './'\n",
    "\n",
    "#complete DFs\n",
    "rhz_artworks = pd.read_pickle(path+'Rhizome_data/rhizome_artworks_extra.pkl')\n",
    "rhz_artists = pd.read_pickle(path+'Rhizome_data/rhizome_artists_extra.pkl')\n",
    "moma_artists = pd.read_pickle(path+'MOMA_data/pickle/MoMAArtists.pkl')\n",
    "moma_artworks = pd.read_pickle(path+'MOMA_data/pickle/MoMAartworks.pkl')\n",
    "moma_artworks_old =  pd.read_pickle(path+'MOMA_data/pickle/old_artworks.pkl')\n",
    "moma_artworks_new =  pd.read_pickle(path+'MOMA_data/pickle/new_artworks.pkl')\n",
    "moma_rhz_compare = moma_artworks_new.loc[moma_artworks_new['DateAcquired'] >= '2000']\n",
    "moma_rhz_compare = moma_rhz_compare.loc[moma_rhz_compare['DateCreated'] >= 1983]\n",
    "\n",
    "#MoMA department DFs\n",
    "moma_arch_cont = pd.read_pickle(path+'MOMA_data/pickle/departments/architecture_design_cont.pkl')\n",
    "moma_arch_mod = pd.read_pickle(path+'MOMA_data/pickle/departments/architecture_design_mod.pkl')\n",
    "moma_design_cont = pd.read_pickle(path+'MOMA_data/pickle/departments/architecture_design_img_cont.pkl')\n",
    "moma_design_mod = pd.read_pickle(path+'MOMA_data/pickle/departments/architecture_design_img_mod.pkl')\n",
    "moma_draw_cont = pd.read_pickle(path+'MOMA_data/pickle/departments/draws_prints_cont.pkl')\n",
    "moma_draw_mod = pd.read_pickle(path+'MOMA_data/pickle/departments/draws_prints_mod.pkl')\n",
    "moma_films_cont = pd.read_pickle(path+'MOMA_data/pickle/departments/films_cont.pkl')\n",
    "moma_films_mod = pd.read_pickle(path+'MOMA_data/pickle/departments/films_mod.pkl')\n",
    "moma_fluxus_cont = pd.read_pickle(path+'MOMA_data/pickle/departments/fluxus_cont.pkl')\n",
    "moma_fluxus_mod = pd.read_pickle(path+'MOMA_data/pickle/departments/fluxus_mod.pkl')\n",
    "moma_media_cont = pd.read_pickle(path+'MOMA_data/pickle/departments/media_perf_cont.pkl')\n",
    "moma_media_mod = pd.read_pickle(path+'MOMA_data/pickle/departments/media_perf_mod.pkl')\n",
    "moma_paint_cont = pd.read_pickle(path+'MOMA_data/pickle/departments/paint_sculp_cont.pkl')\n",
    "moma_paint_mod = pd.read_pickle(path+'MOMA_data/pickle/departments/paint_sculp_mod.pkl')\n",
    "moma_photo_cont = pd.read_pickle(path+'MOMA_data/pickle/departments/photo_cont.pkl')\n",
    "moma_photo_mod = pd.read_pickle(path+'MOMA_data/pickle/departments/photo_mod.pkl')\n",
    "\n",
    "#Rhizome with text\n",
    "rhizome_txt_clean = pd.read_pickle(path+'Rhizome_data/rhizome_artworks_extra_text_clean.pkl')\n",
    "rhizome_txt_stop_kw = pd.read_pickle(path+'Rhizome_data/rhizome_artworks_extra_text_clean_stop_keywords.pkl')\n",
    "\n",
    "#MoMA with text\n",
    "moma_arch_cont_text = pd.read_pickle(path+'MOMA_data/pickle/departments/architecture_design_cont_text_final.pkl')\n",
    "moma_arch_mod_text = pd.read_pickle(path+'MOMA_data/pickle/departments/architecture_design_mod_text_only_final.pkl')\n",
    "moma_draw_cont_text = pd.read_pickle(path+'MOMA_data/pickle/departments/draws_prints_cont_text_final.pkl')\n",
    "moma_draw_mod_text = pd.read_pickle(path+'MOMA_data/pickle/departments/draws_prints_mod_text_final.pkl')\n",
    "moma_films_cont_text = pd.read_pickle(path+'MOMA_data/pickle/departments/films_cont_text_final.pkl')\n",
    "moma_films_mod_text = pd.read_pickle(path+'MOMA_data/pickle/departments/films_mod_text_final.pkl')\n",
    "moma_fluxus_cont_text = pd.read_pickle(path+'MOMA_data/pickle/departments/fluxus_cont_text_final.pkl')\n",
    "moma_fluxus_mod_text = pd.read_pickle(path+'MOMA_data/pickle/departments/fluxus_mod_text_final.pkl')\n",
    "moma_media_cont_text = pd.read_pickle(path+'MOMA_data/pickle/departments/media_perf_cont_text_final.pkl')\n",
    "moma_media_mod_text = pd.read_pickle(path+'MOMA_data/pickle/departments/media_perf_mod_text_final.pkl')\n",
    "moma_paint_cont_text = pd.read_pickle(path+'MOMA_data/pickle/departments/paint_sculp_cont_text_final.pkl')\n",
    "moma_paint_mod_text = pd.read_pickle(path+'MOMA_data/pickle/departments/paint_sculp_mod_text_final.pkl')\n",
    "moma_photo_cont_text = pd.read_pickle(path+'MOMA_data/pickle/departments/photo_cont_text_final.pkl')\n",
    "moma_photo_mod_text = pd.read_pickle(path+'MOMA_data/pickle/departments/photo_mod_text_final.pkl')\n",
    "\n",
    "#moma text stop\n",
    "moma_arch_cont_text_stop = pd.read_pickle(path+'MOMA_data/pickle/departments/architecture_design_cont_text_final_stop.pkl')\n",
    "moma_arch_mod_text_stop = pd.read_pickle(path+'MOMA_data/pickle/departments/architecture_design_mod_text_only_final_stop.pkl')\n",
    "moma_draw_cont_text_stop = pd.read_pickle(path+'MOMA_data/pickle/departments/draws_prints_cont_text_final_stop.pkl')\n",
    "moma_draw_mod_text_stop = pd.read_pickle(path+'MOMA_data/pickle/departments/draws_prints_mod_text_final_stop.pkl')\n",
    "moma_films_cont_text_stop = pd.read_pickle(path+'MOMA_data/pickle/departments/films_cont_text_final_stop.pkl')\n",
    "moma_films_mod_text_stop = pd.read_pickle(path+'MOMA_data/pickle/departments/films_mod_text_final_stop.pkl')\n",
    "moma_fluxus_cont_text_stop = pd.read_pickle(path+'MOMA_data/pickle/departments/fluxus_cont_text_final_stop.pkl')\n",
    "moma_fluxus_mod_text_stop = pd.read_pickle(path+'MOMA_data/pickle/departments/fluxus_mod_text_final_stop.pkl')\n",
    "moma_media_cont_text_stop = pd.read_pickle(path+'MOMA_data/pickle/departments/media_perf_cont_text_final_stop.pkl')\n",
    "moma_media_mod_text_stop = pd.read_pickle(path+'MOMA_data/pickle/departments/media_perf_mod_text_final_stop.pkl')\n",
    "moma_paint_cont_text_stop = pd.read_pickle(path+'MOMA_data/pickle/departments/paint_sculp_cont_text_final_stop.pkl')\n",
    "moma_paint_mod_text_stop = pd.read_pickle(path+'MOMA_data/pickle/departments/paint_sculp_mod_text_final_stop.pkl')\n",
    "moma_photo_cont_text_stop = pd.read_pickle(path+'MOMA_data/pickle/departments/photo_cont_text_final_stop.pkl')\n",
    "moma_photo_mod_text_stop = pd.read_pickle(path+'MOMA_data/pickle/departments/photo_mod_text_final_stop.pkl')"
   ]
  },
  {
   "cell_type": "markdown",
   "metadata": {},
   "source": [
    "<b>Question n.3</b> How many artworks are created by collectives? And what is the gender breakdown of collectives?"
   ]
  },
  {
   "cell_type": "markdown",
   "metadata": {},
   "source": [
    "\n",
    "<b>Viz.1</b> piechart for count of artworks created by gender #Rhizome"
   ]
  },
  {
   "cell_type": "code",
   "execution_count": 1,
   "metadata": {},
   "outputs": [
    {
     "ename": "NameError",
     "evalue": "name 'rhz_artworks' is not defined",
     "output_type": "error",
     "traceback": [
      "\u001b[1;31m---------------------------------------------------------------------------\u001b[0m",
      "\u001b[1;31mNameError\u001b[0m                                 Traceback (most recent call last)",
      "\u001b[1;32m~\\AppData\\Local\\Temp/ipykernel_10436/2844898691.py\u001b[0m in \u001b[0;36m<module>\u001b[1;34m\u001b[0m\n\u001b[0;32m      4\u001b[0m \u001b[1;31m#group everything other than \"M\", \"F\", missing\" into \"COLLECTIVES\"\u001b[0m\u001b[1;33m\u001b[0m\u001b[1;33m\u001b[0m\u001b[0m\n\u001b[0;32m      5\u001b[0m \u001b[1;33m\u001b[0m\u001b[0m\n\u001b[1;32m----> 6\u001b[1;33m \u001b[0mrhz_artworks\u001b[0m\u001b[1;33m[\u001b[0m\u001b[1;34m'Gender'\u001b[0m\u001b[1;33m]\u001b[0m\u001b[1;33m.\u001b[0m\u001b[0mvalue_counts\u001b[0m\u001b[1;33m(\u001b[0m\u001b[1;33m)\u001b[0m\u001b[1;33m\u001b[0m\u001b[1;33m\u001b[0m\u001b[0m\n\u001b[0m\u001b[0;32m      7\u001b[0m \u001b[1;33m\u001b[0m\u001b[0m\n\u001b[0;32m      8\u001b[0m \u001b[1;31m#Count the number of Collectives = 133\u001b[0m\u001b[1;33m\u001b[0m\u001b[1;33m\u001b[0m\u001b[0m\n",
      "\u001b[1;31mNameError\u001b[0m: name 'rhz_artworks' is not defined"
     ]
    }
   ],
   "source": [
    "#question n-3 - viz.1-- piechart for count of artworks created by gender #Rhizome #Marghe\n",
    "\n",
    "#from the total of artists genders --> gender representation: number of female, number of male, number of missing, number of mixed (=collectives)\n",
    "#group everything other than \"M\", \"F\", missing\" into \"COLLECTIVES\"\n",
    "\n",
    "rhz_artworks['Gender'].value_counts() \n",
    "\n",
    "#Count the number of Collectives = 133\n",
    "# Pulling sectors out from the center -- Rhizome genders\n",
    "\n",
    "import plotly.graph_objects as go\n",
    "\n",
    "labels = ['Male','Female','Missing','Collectives']\n",
    "values = [1448, 533, 156, 133]\n",
    "\n",
    "# pull is given as a fraction of the pie radius\n",
    "fig = go.Figure(data=[go.Pie(labels=labels, values=values, pull=[0, 0, 0, 0.2])],)\n",
    "fig.show()"
   ]
  },
  {
   "cell_type": "markdown",
   "metadata": {},
   "source": [
    "<b>Viz.2 </b>  sunburst of collective gender breakdown #Rhizome"
   ]
  },
  {
   "cell_type": "code",
   "execution_count": null,
   "metadata": {},
   "outputs": [],
   "source": [
    "#question n-3 - viz.2 -- sunburst of collective gender breakdown #Rhizome\n",
    "\n",
    "#Focus on the total of collectives -- all male / male + missed / all female / female + missed / mixed genders\n",
    "#rhz_artworks['Gender'].value_counts().rename_axis('Counts')\n",
    "\n",
    "rhizome_gender_multiple = rhz_artworks['Gender'].value_counts()\n",
    "\n",
    "#choose only collectives\n",
    "rhizome_gender_multiple_2 = rhizome_gender_multiple[3:].reset_index()\n",
    "rhizome_gender_multiple_2"
   ]
  },
  {
   "cell_type": "code",
   "execution_count": null,
   "metadata": {},
   "outputs": [],
   "source": [
    "#group collectives categories\n",
    "rhizome_gender_multiple_male = rhizome_gender_multiple_2[(rhizome_gender_multiple_2['index'].str.contains('F') == False) & (rhizome_gender_multiple_2['index'].str.contains('missing') == False)]\n",
    "rhizome_gender_multiple_female =rhizome_gender_multiple_2[(rhizome_gender_multiple_2['index'].str.contains('M') == False) & (rhizome_gender_multiple_2['index'].str.contains('missing') == False)]\n",
    "rhizome_gender_multiple_both = rhizome_gender_multiple_2[(rhizome_gender_multiple_2['index'].str.contains('F')== True) & (rhizome_gender_multiple_2['index'].str.contains('M')== True) & (rhizome_gender_multiple_2['index'].str.contains('missing')== False)]\n",
    "rhizome_gender_multiple_male_missing = rhizome_gender_multiple_2[(rhizome_gender_multiple_2['index'].str.contains('M') == True) & (rhizome_gender_multiple_2['index'].str.contains('missing') == True) & (rhizome_gender_multiple_2['index'].str.contains('F') == False)]\n",
    "rhizome_gender_multiple_female_missing = rhizome_gender_multiple_2[(rhizome_gender_multiple_2['index'].str.contains('M') == False) & (rhizome_gender_multiple_2['index'].str.contains('missing') == True) & (rhizome_gender_multiple_2['index'].str.contains('F') == True)]"
   ]
  },
  {
   "cell_type": "code",
   "execution_count": null,
   "metadata": {},
   "outputs": [],
   "source": [
    "#send filters to series \n",
    "rhizome_gender_multiple_both_counts = rhizome_gender_multiple_both.sum()\n",
    "rhizome_gender_multiple_male_counts = rhizome_gender_multiple_male.sum()\n",
    "rhizome_gender_multiple_female_counts = rhizome_gender_multiple_female.sum()\n",
    "rhizome_gender_multiple_male_missing_counts = rhizome_gender_multiple_male_missing.sum()\n",
    "rhizome_gender_multiple_female_missing_counts = rhizome_gender_multiple_female_missing.sum()\n",
    "\n",
    "#create new DF w/ results \n",
    "rhizome_gender_counts_final = pd.DataFrame()\n",
    "rhizome_gender_counts_final['Male Only'] = rhizome_gender_multiple_male_counts\n",
    "rhizome_gender_counts_final['Male & Missing'] = rhizome_gender_multiple_male_missing_counts\n",
    "rhizome_gender_counts_final['Female Only'] = rhizome_gender_multiple_female_counts\n",
    "rhizome_gender_counts_final['Female & Missing'] = rhizome_gender_multiple_female_missing_counts\n",
    "rhizome_gender_counts_final['Mixed Gender'] = rhizome_gender_multiple_both_counts\n",
    "rhizome_gender_counts_final = rhizome_gender_counts_final.drop('index', axis=0)\n",
    "\n",
    "rhizome_gender_counts_final"
   ]
  },
  {
   "cell_type": "code",
   "execution_count": null,
   "metadata": {},
   "outputs": [],
   "source": [
    "#collective insight RHIZOME\n",
    "import plotly.graph_objects as go\n",
    "\n",
    "fig_sun =go.Figure(go.Sunburst(\n",
    "    labels=[\"Collectives\", \"Males\", \"Male Only\", \"Male & Missing\", \"Mixed Gender\", \"Females\", \"Female Only\", \"Female & Missing\"],\n",
    "    parents=[\"\", \"Collectives\",\"Males\", \"Males\", \"Collectives\", \"Collectives\",  \"Females\", \"Females\"],\n",
    "    values=[133, 39, 37, 2, 83, 11, 8, 3]\n",
    "))\n",
    "fig_sun.update_layout(margin = dict(t=0, l=0, r=0, b=0))\n",
    "\n",
    "fig_sun.show()"
   ]
  },
  {
   "cell_type": "markdown",
   "metadata": {},
   "source": [
    "<b>viz.3 </b> piechart for count of artworks created by gender #MOMA all db"
   ]
  },
  {
   "cell_type": "code",
   "execution_count": null,
   "metadata": {},
   "outputs": [],
   "source": [
    "#work on ALL MOMA. Sum old and new gender counts. \n",
    "#MOMA: how the composition of the collection (by gender) changes before and after 1980 (old vs new)\n",
    "old_gender = moma_artworks_old['Gender'].value_counts().rename_axis('Gender').reset_index(name='Old')\n",
    "new_gender = moma_artworks_new['Gender'].value_counts().rename_axis('Gender').reset_index(name='New')\n",
    "moma_gender_count = pd.merge(old_gender, new_gender, left_on='Gender', right_on='Gender')\n",
    "moma_gender_count = moma_gender_count.set_index('Gender')\n",
    "#choose only M, F, missing \n",
    "moma_gender_count = moma_gender_count[0:3]\n",
    "moma_gender_count\n",
    "\n",
    "#sum old and new gender counts\n",
    "moma_all_gender_count = moma_gender_count[\"Old\"] +  moma_gender_count[\"New\"]\n",
    "moma_gender_count[\"All Moma\"] = moma_all_gender_count\n",
    "moma_gender_count"
   ]
  },
  {
   "cell_type": "code",
   "execution_count": null,
   "metadata": {},
   "outputs": [],
   "source": [
    "# Pulling sectors out from the center --MOMA ALL\n",
    "\n",
    "#collectives number from the other cell COLLECTIVES = 4545\n",
    "\n",
    "import plotly.graph_objects as go\n",
    "\n",
    "labels = ['Male','Female','Missing','Collectives']\n",
    "values = [104167, 17823, 8641, 4545]\n",
    "\n",
    "# pull is given as a fraction of the pie radius\n",
    "fig = go.Figure(data=[go.Pie(labels=labels, values=values, pull=[0, 0, 0, 0.2])])\n",
    "fig.show()"
   ]
  },
  {
   "cell_type": "markdown",
   "metadata": {},
   "source": [
    "<b> Viz n.4 </b> sunburst of collective gender breakdown #MOMA all db"
   ]
  },
  {
   "cell_type": "code",
   "execution_count": null,
   "metadata": {},
   "outputs": [],
   "source": [
    "#working on COLLECTIVES GENDER BREAKDOWN (OLD/NEW and ALL MOMA)\n",
    "moma_gender_multiple = pd.merge(old_gender, new_gender, left_on='Gender', right_on='Gender')\n",
    "moma_gender_multiple = moma_gender_multiple.set_index('Gender')\n",
    "#choose only collectives\n",
    "moma_gender_multiple = moma_gender_multiple[4:].reset_index()\n",
    "\n",
    "\n",
    "#remove collectives w/ no gender\n",
    "drops = ['missing, missing', 'missing, missing, missing', 'missing, missing, missing, missing, missing', 'missing, missing, missing, missing']\n",
    "#filter by only males, only females, or mixed gender (mixed gender also includes collectives w/ at least one M or F and some missing)\n",
    "moma_gender_multiple = moma_gender_multiple[moma_gender_multiple.Gender.isin(drops) == False]\n",
    "moma_gender_multiple_male = moma_gender_multiple[(moma_gender_multiple['Gender'].str.contains('F') == False) & (moma_gender_multiple['Gender'].str.contains('missing') == False)]\n",
    "moma_gender_multiple_female = moma_gender_multiple[(moma_gender_multiple['Gender'].str.contains('M') == False) & (moma_gender_multiple['Gender'].str.contains('missing') == False)]\n",
    "moma_gender_multiple_both = moma_gender_multiple[(moma_gender_multiple['Gender'].str.contains('F')== True) & (moma_gender_multiple['Gender'].str.contains('M')== True) & (moma_gender_multiple['Gender'].str.contains('missing')== False)]\n",
    "moma_gender_multiple_male_missing = moma_gender_multiple[(moma_gender_multiple['Gender'].str.contains('M') == True) & (moma_gender_multiple['Gender'].str.contains('missing') == True) & (moma_gender_multiple['Gender'].str.contains('F') == False)]\n",
    "moma_gender_multiple_female_missing = moma_gender_multiple[(moma_gender_multiple['Gender'].str.contains('M') == False) & (moma_gender_multiple['Gender'].str.contains('missing') == True) & (moma_gender_multiple['Gender'].str.contains('F') == True)]"
   ]
  },
  {
   "cell_type": "code",
   "execution_count": null,
   "metadata": {},
   "outputs": [],
   "source": [
    "#send filters to series \n",
    "moma_gender_multiple_both_counts = moma_gender_multiple_both.sum()\n",
    "moma_gender_multiple_male_counts = moma_gender_multiple_male.sum()\n",
    "moma_gender_multiple_female_counts = moma_gender_multiple_female.sum()\n",
    "moma_gender_multiple_male_missing_counts = moma_gender_multiple_male_missing.sum()\n",
    "moma_gender_multiple_female_missing_counts = moma_gender_multiple_female_missing.sum()\n",
    "#create new DF w/ results \n",
    "moma_gender_counts_final = pd.DataFrame()\n",
    "moma_gender_counts_final['Male Only'] = moma_gender_multiple_male_counts\n",
    "moma_gender_counts_final['Male & Missing'] = moma_gender_multiple_male_missing_counts\n",
    "moma_gender_counts_final['Female Only'] = moma_gender_multiple_female_counts\n",
    "moma_gender_counts_final['Female & Missing'] = moma_gender_multiple_female_missing_counts\n",
    "moma_gender_counts_final['Mixed Gender'] = moma_gender_multiple_both_counts\n",
    "moma_gender_counts_final = moma_gender_counts_final.drop('Gender', axis=0)\n",
    "\n",
    "\n",
    "moma_gender_counts_final"
   ]
  },
  {
   "cell_type": "code",
   "execution_count": null,
   "metadata": {},
   "outputs": [],
   "source": [
    "#COLLECTIVES ALL MOMA\n",
    "moma_all_collectives_genders = moma_gender_counts_final.sum()\n",
    "moma_all_collectives_genders"
   ]
  },
  {
   "cell_type": "code",
   "execution_count": null,
   "metadata": {},
   "outputs": [],
   "source": [
    "#TOTAL NUMBER OF ARTWORKS BY COLLECTIVES IN MOMA FULL\n",
    "moma_all_collectives = moma_all_collectives_genders.sum()\n",
    "moma_all_collectives"
   ]
  },
  {
   "cell_type": "code",
   "execution_count": null,
   "metadata": {},
   "outputs": [],
   "source": [
    "#collective gender breakdown insight MOMA ALL DB\n",
    "\n",
    "#values = total coll , males(MO+MM) , MO, MM, MIXED, females(FO+FM), FO, FM\n",
    "\n",
    "import plotly.graph_objects as go\n",
    "\n",
    "fig_sun =go.Figure(go.Sunburst(\n",
    "    labels=[\"Collectives\", \"Males\", \"Male Only\", \"Male & Missing\", \"Mixed Gender\", \"Females\", \"Female Only\", \"Female & Missing\"],\n",
    "    parents=[\"\", \"Collectives\",\"Males\", \"Males\", \"Collectives\", \"Collectives\",  \"Females\", \"Females\"],\n",
    "    values=[4545, 2739, 932, 1807, 1564, 242, 173, 69]\n",
    "))\n",
    "fig_sun.update_layout(margin = dict(t=0, l=0, r=0, b=0))\n",
    "\n",
    "fig_sun.show()"
   ]
  }
 ],
 "metadata": {
  "interpreter": {
   "hash": "aee8b7b246df8f9039afb4144a1f6fd8d2ca17a180786b69acc140d282b71a49"
  },
  "kernelspec": {
   "display_name": "Python 3 (ipykernel)",
   "language": "python",
   "name": "python3"
  },
  "language_info": {
   "codemirror_mode": {
    "name": "ipython",
    "version": 3
   },
   "file_extension": ".py",
   "mimetype": "text/x-python",
   "name": "python",
   "nbconvert_exporter": "python",
   "pygments_lexer": "ipython3",
   "version": "3.9.9"
  }
 },
 "nbformat": 4,
 "nbformat_minor": 2
}
