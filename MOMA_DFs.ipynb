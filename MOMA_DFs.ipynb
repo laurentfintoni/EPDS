{
 "cells": [
  {
   "cell_type": "markdown",
   "metadata": {},
   "source": [
    "TO DO:\n",
    "- set dtypes for DF columns to string or int \n",
    "- reset indexes to drop extra indexes \n",
    "- acquisition dates to year only "
   ]
  },
  {
   "cell_type": "code",
   "execution_count": 1,
   "metadata": {},
   "outputs": [],
   "source": [
    "import re\n",
    "import csv\n",
    "import pandas as pd\n",
    "import pandas_profiling as pp"
   ]
  },
  {
   "cell_type": "markdown",
   "metadata": {},
   "source": [
    "Separating MOMA artworks between old (before 1980) and new (after 1980). "
   ]
  },
  {
   "cell_type": "code",
   "execution_count": 2,
   "metadata": {},
   "outputs": [],
   "source": [
    "path = './MoMA_data/'"
   ]
  },
  {
   "cell_type": "code",
   "execution_count": null,
   "metadata": {},
   "outputs": [],
   "source": [
    "\n",
    "with open(path+'Artworks.csv','r') as fin, open(path+'old_artworks.csv','w') as modern, open(path+'new_artworks.csv','w') as cont:\n",
    "\n",
    "    m_writer = csv.writer(modern, delimiter=',' )\n",
    "    c_writer = csv.writer(cont, delimiter=',' )\n",
    "    m_writer.writerow(['Title','Artist','ConstituentID','ArtistBio','Nationality','BeginDate','EndDate','Gender','Date','Medium','Dimensions','CreditLine','AccessionNumber','Classification','Department','DateAcquired','Cataloged','ObjectID','URL','ThumbnailURL','Circumference (cm)','Depth (cm)','Diameter (cm)','Height (cm)','Length (cm)','Weight (kg)','Width (cm)','Seat Height (cm)','Duration (sec.)'])\n",
    "    c_writer.writerow(['Title','Artist','ConstituentID','ArtistBio','Nationality','BeginDate','EndDate','Gender','Date','Medium','Dimensions','CreditLine','AccessionNumber','Classification','Department','DateAcquired','Cataloged','ObjectID','URL','ThumbnailURL','Circumference (cm)','Depth (cm)','Diameter (cm)','Height (cm)','Length (cm)','Weight (kg)','Width (cm)','Seat Height (cm)','Duration (sec.)'])\n",
    "\n",
    "\n",
    "    for row in csv.reader(fin, delimiter=','):\n",
    "\n",
    "        begD = row[5]\n",
    "        endD = row[6]\n",
    "        if  re.match('.*\\d\\d\\d\\d.*', row[8]):\n",
    "            year = re.findall(r'\\d\\d\\d\\d', row[8])\n",
    "            row[8] = str(year[0])\n",
    "            if int(year[0]) < 1980:\n",
    "        \n",
    "                m_writer.writerow(row) \n",
    "            else:\n",
    "                c_writer.writerow(row)\n",
    "        \n",
    "        elif \"century\" in str(row[8]):\n",
    "            m_writer.writerow(row) "
   ]
  },
  {
   "cell_type": "code",
   "execution_count": null,
   "metadata": {},
   "outputs": [],
   "source": [
    "#remove columns we don't need and turn csv to df \n",
    "modern = pd.read_csv(path+'old_artworks.csv')\n",
    "modern = modern[['Title','Artist','ConstituentID','Date','Medium','Classification','Department','DateAcquired','URL','ThumbnailURL']]\n",
    "modern = modern.fillna('missing', inplace=True)\n",
    "modern.to_csv(path+'old_artworks.csv')\n",
    "\n",
    "contemporary = pd.read_csv(path+'cont_artworks.csv')\n",
    "contemporary = contemporary[['Title','Artist','ConstituentID','Date','Medium','Classification','Department','DateAcquired','URL','ThumbnailURL']]\n",
    "contemporary.fillna('missing', inplace=True)\n",
    "contemporary.to_csv(path+'cont_artworks.csv')\n",
    "contemporary.head()"
   ]
  },
  {
   "cell_type": "code",
   "execution_count": null,
   "metadata": {},
   "outputs": [],
   "source": [
    "#create pickles for each dempartment in modern csv\n",
    "\n",
    "architecture_design = modern[modern['Department'] == \"Architecture & Design\"]\n",
    "architecture_design.to_pickle(f'./MoMA_data/pickle/architecture_design_mod.pkl')\n",
    "\n",
    "architecture_design_img  = modern[modern['Department'] == \"Architecture & Design - Image Archive\"]\n",
    "architecture_design_img.to_pickle(f'./MoMA_data/pickle/architecture_design_img_mod.pkl')\n",
    "\n",
    "draws_prints= modern[modern['Department'] == \"Drawings & Prints\"]\n",
    "draws_prints.to_pickle(f'./MoMA_data/pickle/draws_prints_mod.pkl')\n",
    "\n",
    "films= modern[modern['Department'] == \"Film\"]\n",
    "films.to_pickle(f'./MoMA_data/pickle/films_mod.pkl')\n",
    "\n",
    "fluxus= modern[modern['Department'] == \"Fluxus Collection\"]\n",
    "fluxus.to_pickle(f'./MoMA_data/pickle/fluxus_mod.pkl')\n",
    "\n",
    "media_perf= modern[modern['Department'] == \"Media and Performance\"]\n",
    "media_perf.to_pickle(f'./MoMA_data/pickle/media_perf_mod.pkl')\n",
    "\n",
    "painting_sculp= modern[modern['Department'] == \"Painting & Sculpture\"]\n",
    "painting_sculp.to_pickle(f'./MoMA_data/pickle/paint_sculp_mod.pkl')\n",
    "\n",
    "photo= modern[modern['Department'] == \"Photography\"]\n",
    "photo.to_pickle(f'./MoMA_data/pickle/photo_mod.pkl')"
   ]
  },
  {
   "cell_type": "code",
   "execution_count": null,
   "metadata": {},
   "outputs": [],
   "source": [
    "architecture_design = contemporary[contemporary['Department'] == \"Architecture & Design\"]\n",
    "architecture_design.to_pickle(f'./MoMA_data/pickle/architecture_design_cont.pkl')\n",
    "\n",
    "architecture_design_img  = contemporary[contemporary['Department'] == \"Architecture & Design - Image Archive\"]\n",
    "architecture_design_img.to_pickle(f'./MoMA_data/pickle/architecture_design_img_cont.pkl')\n",
    "\n",
    "draws_prints= contemporary[contemporary['Department'] == \"Drawings & Prints\"]\n",
    "draws_prints.to_pickle(f'./MoMA_data/pickle/draws_prints_cont.pkl')\n",
    "\n",
    "films= contemporary[contemporary['Department'] == \"Film\"]\n",
    "films.to_pickle(f'./MoMA_data/pickle/films_cont.pkl')\n",
    "\n",
    "fluxus= contemporary[contemporary['Department'] == \"Fluxus Collection\"]\n",
    "fluxus.to_pickle(f'./MoMA_data/pickle/fluxus_cont.pkl')\n",
    "\n",
    "media_perf= contemporary[contemporary['Department'] == \"Media and Performance\"]\n",
    "media_perf.to_pickle(f'./MoMA_data/pickle/media_perf_cont.pkl')\n",
    "\n",
    "painting_sculp= contemporary[contemporary['Department'] == \"Painting & Sculpture\"]\n",
    "painting_sculp.to_pickle(f'./MoMA_data/pickle/paint_sculp_cont.pkl')\n",
    "\n",
    "photo= contemporary[contemporary['Department'] == \"Photography\"]\n",
    "photo.to_pickle(f'./MoMA_data/pickle/photo_cont.pkl')"
   ]
  },
  {
   "cell_type": "code",
   "execution_count": null,
   "metadata": {},
   "outputs": [],
   "source": [
    "#clean gender description format to M, F, or NB\n",
    "\n",
    "def clean_gender(file, new_file):\n",
    "    for row in csv.reader(file, delimiter=','):\n",
    "            a_writer = csv.writer(new_file, delimiter=',' )\n",
    "            if re.match(r'[M|m]ale', row[4]):\n",
    "                row[4]= 'M'\n",
    "                a_writer.writerow(row)\n",
    "            elif re.match(r'[F|f]emale', row[4]):\n",
    "                row[4]= 'F'\n",
    "                a_writer.writerow(row)\n",
    "            elif re.match(r'Non-[B|b]inary', row[4]):\n",
    "                row[4]= 'NB'\n",
    "                a_writer.writerow(row)"
   ]
  },
  {
   "cell_type": "code",
   "execution_count": null,
   "metadata": {},
   "outputs": [],
   "source": [
    "#run cleaning on MOMA artist db then pickle it \n",
    "with open(path+'Artists.csv','r') as artists,  open(path+'cleaned_artists.csv','w') as new_artists:\n",
    "    a_writer = csv.writer(new_artists, delimiter=',' )\n",
    "    a_writer.writerow(['ConstituentID','DisplayName','ArtistBio','Nationality','Gender','BeginDate','EndDate','WikiQID','ULAN'])\n",
    "    new_artist= clean_gender(artists, new_artists)\n",
    "\n",
    "new_artists= pd.read_csv(path+'cleaned_artists.csv')\n",
    "new_artists.fillna('missing', inplace=True)\n",
    "new_artists.to_pickle(f'./MoMA_data/pickle/artists.pkl')\n"
   ]
  },
  {
   "cell_type": "code",
   "execution_count": null,
   "metadata": {},
   "outputs": [],
   "source": []
  },
  {
   "cell_type": "markdown",
   "metadata": {},
   "source": [
    "Report"
   ]
  },
  {
   "cell_type": "code",
   "execution_count": null,
   "metadata": {},
   "outputs": [],
   "source": [
    "#source file \n",
    "original_doc = pd.read_csv(path+'Artworks.csv')\n",
    "pp.ProfileReport(original_doc)"
   ]
  },
  {
   "cell_type": "code",
   "execution_count": null,
   "metadata": {},
   "outputs": [],
   "source": [
    "#modern/contemporary subsets  \n",
    "pp.ProfileReport(modern)\n",
    "pp.ProfileReport(contemporary)"
   ]
  },
  {
   "cell_type": "code",
   "execution_count": null,
   "metadata": {},
   "outputs": [],
   "source": [
    "#cleaned artists \n",
    "new_artists= pd.read_csv(path+'cleaned_artists.csv')\n",
    "pp.ProfileReport(new_artists)"
   ]
  }
 ],
 "metadata": {
  "interpreter": {
   "hash": "aee8b7b246df8f9039afb4144a1f6fd8d2ca17a180786b69acc140d282b71a49"
  },
  "kernelspec": {
   "display_name": "Python 3.9.9 64-bit",
   "language": "python",
   "name": "python3"
  },
  "language_info": {
   "codemirror_mode": {
    "name": "ipython",
    "version": 3
   },
   "file_extension": ".py",
   "mimetype": "text/x-python",
   "name": "python",
   "nbconvert_exporter": "python",
   "pygments_lexer": "ipython3",
   "version": "3.9.9"
  },
  "orig_nbformat": 4
 },
 "nbformat": 4,
 "nbformat_minor": 2
}
