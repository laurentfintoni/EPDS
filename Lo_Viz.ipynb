{
 "cells": [
  {
   "cell_type": "code",
   "execution_count": 1,
   "metadata": {},
   "outputs": [],
   "source": [
    "import seaborn as sns\n",
    "import matplotlib.pyplot as plt\n",
    "import pandas as pd\n",
    "\n",
    "path = '/Users/laurentfintoni/Desktop/University/COURSE DOCS/YEAR 2/EPUB/PROJECT/EPDS/'\n",
    "\n",
    "rhz_artworks_extra = pd.read_pickle(path+'Rhizome_data/rhizome_artworks_extra.pkl')\n",
    "rhz_artists = pd.read_pickle(path+'Rhizome_data/rhizome_artists.pkl')\n",
    "moma_artists = pd.read_pickle(path+'MOMA_data/pickle/MoMAartists.pkl')"
   ]
  },
  {
   "cell_type": "code",
   "execution_count": 44,
   "metadata": {},
   "outputs": [
    {
     "data": {
      "text/plain": [
       "Index(['ID', 'Artist', 'Artist URL', 'Collective', 'Collective URL',\n",
       "       'Nationality', 'nationalityGuessed', 'Gender', 'genderGuessed', 'Birth',\n",
       "       'Death', 'wikiQID', 'ULAN'],\n",
       "      dtype='object')"
      ]
     },
     "execution_count": 44,
     "metadata": {},
     "output_type": "execute_result"
    }
   ],
   "source": [
    "rhz_artists.columns"
   ]
  },
  {
   "cell_type": "code",
   "execution_count": null,
   "metadata": {},
   "outputs": [],
   "source": [
    "moma_genders = moma_artists['Gender']"
   ]
  },
  {
   "cell_type": "code",
   "execution_count": 23,
   "metadata": {},
   "outputs": [],
   "source": [
    "moma_artists_2 = moma_artists.sample(n=1301)"
   ]
  },
  {
   "cell_type": "code",
   "execution_count": null,
   "metadata": {},
   "outputs": [],
   "source": [
    "rhz_artists_copy = rhz_artists.copy()\n",
    "real_gender = rhz_artists_copy['Gender']\n",
    "guessed_gender = rhz_artists_copy['genderGuessed']\n",
    "genders = [real_gender, guessed_gender]\n",
    "rhz_artists_copy['Gender_2'] = pd.concat(genders, axis=1)"
   ]
  },
  {
   "cell_type": "code",
   "execution_count": 15,
   "metadata": {},
   "outputs": [],
   "source": [
    "moma_artists['Source'] = 'MOMA'\n",
    "rhz_artists['Source'] = 'Rhizome'\n",
    "moma = moma_artists[['Gender', 'Source']]\n",
    "rhizome = rhz_artists[['Gender', 'Source']]\n",
    "frames = [moma, rhizome]\n",
    "combined = pd.concat(frames, axis=0)\n",
    "combined = combined.reset_index(drop=True)"
   ]
  },
  {
   "cell_type": "code",
   "execution_count": 24,
   "metadata": {},
   "outputs": [],
   "source": [
    "moma_artists_2['Source'] = 'MOMA'\n",
    "moma_2 = moma_artists_2[['Gender', 'Source']]\n",
    "frames_2 = [moma_2, rhizome]\n",
    "combined_2 = pd.concat(frames_2, axis=0)\n",
    "combined_2 = combined_2.reset_index(drop=True)"
   ]
  },
  {
   "cell_type": "code",
   "execution_count": 25,
   "metadata": {},
   "outputs": [
    {
     "data": {
      "text/plain": [
       "<seaborn.axisgrid.FacetGrid at 0x12967d6d0>"
      ]
     },
     "execution_count": 25,
     "metadata": {},
     "output_type": "execute_result"
    },
    {
     "data": {
      "image/png": "[encoded data removed]",
      "text/plain": [
       "<Figure size 439x360 with 1 Axes>"
      ]
     },
     "metadata": {
      "needs_background": "light"
     },
     "output_type": "display_data"
    }
   ],
   "source": [
    "sns.catplot(x='Gender', kind='count', hue='Source', data=combined_2, order=['M', 'F', 'missing', 'NB', 'N/B'])"
   ]
  },
  {
   "cell_type": "code",
   "execution_count": 43,
   "metadata": {},
   "outputs": [
    {
     "data": {
      "text/plain": [
       "<seaborn.axisgrid.FacetGrid at 0x12b556700>"
      ]
     },
     "execution_count": 43,
     "metadata": {},
     "output_type": "execute_result"
    },
    {
     "data": {
      "image/png": "[encoded data removed]",
      "text/plain": [
       "<Figure size 360x360 with 1 Axes>"
      ]
     },
     "metadata": {
      "needs_background": "light"
     },
     "output_type": "display_data"
    },
    {
     "data": {
      "image/png": "[encoded data removed]",
      "text/plain": [
       "<Figure size 360x360 with 1 Axes>"
      ]
     },
     "metadata": {
      "needs_background": "light"
     },
     "output_type": "display_data"
    }
   ],
   "source": [
    "sns.catplot(x='Gender', kind='count', data=moma_artists_2, order=['M', 'F', 'missing', 'NB'])\n",
    "sns.catplot(x='Gender', kind='count', data=rhz_artists, order=['M', 'F', 'missing', 'NB'])"
   ]
  },
  {
   "cell_type": "code",
   "execution_count": 31,
   "metadata": {},
   "outputs": [
    {
     "data": {
      "text/html": [
       "<div>\n",
       "<style scoped>\n",
       "    .dataframe tbody tr th:only-of-type {\n",
       "        vertical-align: middle;\n",
       "    }\n",
       "\n",
       "    .dataframe tbody tr th {\n",
       "        vertical-align: top;\n",
       "    }\n",
       "\n",
       "    .dataframe thead th {\n",
       "        text-align: right;\n",
       "    }\n",
       "</style>\n",
       "<table border=\"1\" class=\"dataframe\">\n",
       "  <thead>\n",
       "    <tr style=\"text-align: right;\">\n",
       "      <th></th>\n",
       "      <th>ID</th>\n",
       "      <th>URL</th>\n",
       "      <th>Title</th>\n",
       "      <th>Artist</th>\n",
       "      <th>dateAcquired</th>\n",
       "      <th>dateCreated</th>\n",
       "      <th>Nationality</th>\n",
       "      <th>nationalityGuessed</th>\n",
       "      <th>Gender</th>\n",
       "      <th>genderGuessed</th>\n",
       "    </tr>\n",
       "  </thead>\n",
       "  <tbody>\n",
       "    <tr>\n",
       "      <th>0</th>\n",
       "      <td>879</td>\n",
       "      <td>https://artbase.rhizome.org/wiki/Q2423</td>\n",
       "      <td>ZUR FARBENLEHRE (THEORY OF COLOURS)</td>\n",
       "      <td>Steven Jones</td>\n",
       "      <td>2007</td>\n",
       "      <td>2007</td>\n",
       "      <td>British</td>\n",
       "      <td>missing</td>\n",
       "      <td>missing</td>\n",
       "      <td>M</td>\n",
       "    </tr>\n",
       "    <tr>\n",
       "      <th>1</th>\n",
       "      <td>1021</td>\n",
       "      <td>https://artbase.rhizome.org/wiki/Q4089</td>\n",
       "      <td>Zones de Convergence</td>\n",
       "      <td>cicero</td>\n",
       "      <td>2005</td>\n",
       "      <td>2005</td>\n",
       "      <td>missing</td>\n",
       "      <td>missing</td>\n",
       "      <td>missing</td>\n",
       "      <td>missing</td>\n",
       "    </tr>\n",
       "    <tr>\n",
       "      <th>2</th>\n",
       "      <td>243, 701</td>\n",
       "      <td>https://artbase.rhizome.org/wiki/Q1475</td>\n",
       "      <td>Zombie and Mummy</td>\n",
       "      <td>Dragan Espenschied, Olia Lialina</td>\n",
       "      <td>2004</td>\n",
       "      <td>2002</td>\n",
       "      <td>German, Russian</td>\n",
       "      <td>missing, missing</td>\n",
       "      <td>M, F</td>\n",
       "      <td>missing, missing</td>\n",
       "    </tr>\n",
       "    <tr>\n",
       "      <th>3</th>\n",
       "      <td>312</td>\n",
       "      <td>https://artbase.rhizome.org/wiki/Q4374</td>\n",
       "      <td>Zaira, City of Memories</td>\n",
       "      <td>Gokcen Erguven</td>\n",
       "      <td>2004</td>\n",
       "      <td>2004</td>\n",
       "      <td>Turkish</td>\n",
       "      <td>missing</td>\n",
       "      <td>F</td>\n",
       "      <td>missing</td>\n",
       "    </tr>\n",
       "    <tr>\n",
       "      <th>4</th>\n",
       "      <td>920</td>\n",
       "      <td>https://artbase.rhizome.org/wiki/Q3972</td>\n",
       "      <td>Z_G [zeitgeist gestalten]</td>\n",
       "      <td>Tiago Borges</td>\n",
       "      <td>2008</td>\n",
       "      <td>2007</td>\n",
       "      <td>Angolan</td>\n",
       "      <td>missing</td>\n",
       "      <td>M</td>\n",
       "      <td>missing</td>\n",
       "    </tr>\n",
       "    <tr>\n",
       "      <th>...</th>\n",
       "      <td>...</td>\n",
       "      <td>...</td>\n",
       "      <td>...</td>\n",
       "      <td>...</td>\n",
       "      <td>...</td>\n",
       "      <td>...</td>\n",
       "      <td>...</td>\n",
       "      <td>...</td>\n",
       "      <td>...</td>\n",
       "      <td>...</td>\n",
       "    </tr>\n",
       "    <tr>\n",
       "      <th>2265</th>\n",
       "      <td>1076</td>\n",
       "      <td>https://artbase.rhizome.org/wiki/Q4358</td>\n",
       "      <td>1999</td>\n",
       "      <td>joan escofet</td>\n",
       "      <td>2001</td>\n",
       "      <td>2000</td>\n",
       "      <td>missing</td>\n",
       "      <td>missing</td>\n",
       "      <td>missing</td>\n",
       "      <td>missing</td>\n",
       "    </tr>\n",
       "    <tr>\n",
       "      <th>2266</th>\n",
       "      <td>771</td>\n",
       "      <td>https://artbase.rhizome.org/wiki/Q3761</td>\n",
       "      <td>1969</td>\n",
       "      <td>Rhea Myers</td>\n",
       "      <td>2004</td>\n",
       "      <td>2004</td>\n",
       "      <td>British</td>\n",
       "      <td>missing</td>\n",
       "      <td>F</td>\n",
       "      <td>missing</td>\n",
       "    </tr>\n",
       "    <tr>\n",
       "      <th>2267</th>\n",
       "      <td>859</td>\n",
       "      <td>https://artbase.rhizome.org/wiki/Q2283</td>\n",
       "      <td>1953</td>\n",
       "      <td>Skye Thorstenson</td>\n",
       "      <td>2003</td>\n",
       "      <td>2002</td>\n",
       "      <td>missing</td>\n",
       "      <td>missing</td>\n",
       "      <td>M</td>\n",
       "      <td>missing</td>\n",
       "    </tr>\n",
       "    <tr>\n",
       "      <th>2268</th>\n",
       "      <td>481</td>\n",
       "      <td>https://artbase.rhizome.org/wiki/Q2511</td>\n",
       "      <td>160</td>\n",
       "      <td>Katie Lips</td>\n",
       "      <td>2005</td>\n",
       "      <td>2005</td>\n",
       "      <td>British</td>\n",
       "      <td>missing</td>\n",
       "      <td>F</td>\n",
       "      <td>missing</td>\n",
       "    </tr>\n",
       "    <tr>\n",
       "      <th>2269</th>\n",
       "      <td>997</td>\n",
       "      <td>https://artbase.rhizome.org/wiki/Q1629</td>\n",
       "      <td>24</td>\n",
       "      <td>andrew hieronymi</td>\n",
       "      <td>2003</td>\n",
       "      <td>2003</td>\n",
       "      <td>missing</td>\n",
       "      <td>missing</td>\n",
       "      <td>missing</td>\n",
       "      <td>M</td>\n",
       "    </tr>\n",
       "  </tbody>\n",
       "</table>\n",
       "<p>2270 rows × 10 columns</p>\n",
       "</div>"
      ],
      "text/plain": [
       "            ID                                     URL  \\\n",
       "0          879  https://artbase.rhizome.org/wiki/Q2423   \n",
       "1         1021  https://artbase.rhizome.org/wiki/Q4089   \n",
       "2     243, 701  https://artbase.rhizome.org/wiki/Q1475   \n",
       "3          312  https://artbase.rhizome.org/wiki/Q4374   \n",
       "4          920  https://artbase.rhizome.org/wiki/Q3972   \n",
       "...        ...                                     ...   \n",
       "2265      1076  https://artbase.rhizome.org/wiki/Q4358   \n",
       "2266       771  https://artbase.rhizome.org/wiki/Q3761   \n",
       "2267       859  https://artbase.rhizome.org/wiki/Q2283   \n",
       "2268       481  https://artbase.rhizome.org/wiki/Q2511   \n",
       "2269       997  https://artbase.rhizome.org/wiki/Q1629   \n",
       "\n",
       "                                    Title                            Artist  \\\n",
       "0     ZUR FARBENLEHRE (THEORY OF COLOURS)                      Steven Jones   \n",
       "1                    Zones de Convergence                            cicero   \n",
       "2                        Zombie and Mummy  Dragan Espenschied, Olia Lialina   \n",
       "3                 Zaira, City of Memories                    Gokcen Erguven   \n",
       "4               Z_G [zeitgeist gestalten]                      Tiago Borges   \n",
       "...                                   ...                               ...   \n",
       "2265                                 1999                      joan escofet   \n",
       "2266                                 1969                        Rhea Myers   \n",
       "2267                                 1953                  Skye Thorstenson   \n",
       "2268                                  160                        Katie Lips   \n",
       "2269                                   24                  andrew hieronymi   \n",
       "\n",
       "     dateAcquired dateCreated      Nationality nationalityGuessed   Gender  \\\n",
       "0            2007        2007          British            missing  missing   \n",
       "1            2005        2005          missing            missing  missing   \n",
       "2            2004        2002  German, Russian   missing, missing     M, F   \n",
       "3            2004        2004         Turkish             missing        F   \n",
       "4            2008        2007          Angolan            missing        M   \n",
       "...           ...         ...              ...                ...      ...   \n",
       "2265         2001        2000          missing            missing  missing   \n",
       "2266         2004        2004          British            missing        F   \n",
       "2267         2003        2002          missing            missing        M   \n",
       "2268         2005        2005          British            missing        F   \n",
       "2269         2003        2003          missing            missing  missing   \n",
       "\n",
       "         genderGuessed  \n",
       "0                    M  \n",
       "1              missing  \n",
       "2     missing, missing  \n",
       "3              missing  \n",
       "4              missing  \n",
       "...                ...  \n",
       "2265           missing  \n",
       "2266           missing  \n",
       "2267           missing  \n",
       "2268           missing  \n",
       "2269                 M  \n",
       "\n",
       "[2270 rows x 10 columns]"
      ]
     },
     "execution_count": 31,
     "metadata": {},
     "output_type": "execute_result"
    }
   ],
   "source": [
    "rhz_artworks_extra"
   ]
  },
  {
   "cell_type": "code",
   "execution_count": null,
   "metadata": {},
   "outputs": [],
   "source": [
    "sns.lineplot(x='dateAcquired', y='Title', data=rhz_artworks_extra)"
   ]
  }
 ],
 "metadata": {
  "interpreter": {
   "hash": "aee8b7b246df8f9039afb4144a1f6fd8d2ca17a180786b69acc140d282b71a49"
  },
  "kernelspec": {
   "display_name": "Python 3.9.9 64-bit",
   "language": "python",
   "name": "python3"
  },
  "language_info": {
   "codemirror_mode": {
    "name": "ipython",
    "version": 3
   },
   "file_extension": ".py",
   "mimetype": "text/x-python",
   "name": "python",
   "nbconvert_exporter": "python",
   "pygments_lexer": "ipython3",
   "version": "3.9.9"
  },
  "orig_nbformat": 4
 },
 "nbformat": 4,
 "nbformat_minor": 2
}
