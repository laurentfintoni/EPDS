{
 "cells": [
  {
   "cell_type": "code",
   "execution_count": 3,
   "metadata": {},
   "outputs": [],
   "source": [
    "import seaborn as sns\n",
    "import matplotlib.pyplot as plt\n",
    "import pandas as pd\n",
    "\n",
    "path = '/Users/laurentfintoni/Desktop/University/COURSE DOCS/YEAR 2/EPUB/PROJECT/EPDS/'\n",
    "\n",
    "rhz_artworks = pd.read_pickle(path+'Rhizome_data/rhizome_artworks_extra.pkl')\n",
    "rhz_artists = pd.read_pickle(path+'Rhizome_data/rhizome_artists_extra.pkl')\n",
    "moma_artists = pd.read_pickle(path+'MOMA_data/pickle/MoMAartists.pkl')"
   ]
  },
  {
   "cell_type": "code",
   "execution_count": 44,
   "metadata": {},
   "outputs": [
    {
     "data": {
      "text/html": [
       "<div>\n",
       "<style scoped>\n",
       "    .dataframe tbody tr th:only-of-type {\n",
       "        vertical-align: middle;\n",
       "    }\n",
       "\n",
       "    .dataframe tbody tr th {\n",
       "        vertical-align: top;\n",
       "    }\n",
       "\n",
       "    .dataframe thead th {\n",
       "        text-align: right;\n",
       "    }\n",
       "</style>\n",
       "<table border=\"1\" class=\"dataframe\">\n",
       "  <thead>\n",
       "    <tr style=\"text-align: right;\">\n",
       "      <th></th>\n",
       "      <th>Date Acquired</th>\n",
       "      <th>Male Artists</th>\n",
       "      <th>Female Artists</th>\n",
       "    </tr>\n",
       "  </thead>\n",
       "  <tbody>\n",
       "    <tr>\n",
       "      <th>8</th>\n",
       "      <td>0</td>\n",
       "      <td>77</td>\n",
       "      <td>9</td>\n",
       "    </tr>\n",
       "    <tr>\n",
       "      <th>15</th>\n",
       "      <td>2000</td>\n",
       "      <td>4</td>\n",
       "      <td>4</td>\n",
       "    </tr>\n",
       "    <tr>\n",
       "      <th>4</th>\n",
       "      <td>2001</td>\n",
       "      <td>163</td>\n",
       "      <td>70</td>\n",
       "    </tr>\n",
       "    <tr>\n",
       "      <th>3</th>\n",
       "      <td>2002</td>\n",
       "      <td>165</td>\n",
       "      <td>72</td>\n",
       "    </tr>\n",
       "    <tr>\n",
       "      <th>6</th>\n",
       "      <td>2003</td>\n",
       "      <td>103</td>\n",
       "      <td>24</td>\n",
       "    </tr>\n",
       "    <tr>\n",
       "      <th>2</th>\n",
       "      <td>2004</td>\n",
       "      <td>167</td>\n",
       "      <td>76</td>\n",
       "    </tr>\n",
       "    <tr>\n",
       "      <th>1</th>\n",
       "      <td>2005</td>\n",
       "      <td>173</td>\n",
       "      <td>63</td>\n",
       "    </tr>\n",
       "    <tr>\n",
       "      <th>5</th>\n",
       "      <td>2006</td>\n",
       "      <td>146</td>\n",
       "      <td>55</td>\n",
       "    </tr>\n",
       "    <tr>\n",
       "      <th>0</th>\n",
       "      <td>2007</td>\n",
       "      <td>180</td>\n",
       "      <td>84</td>\n",
       "    </tr>\n",
       "    <tr>\n",
       "      <th>7</th>\n",
       "      <td>2008</td>\n",
       "      <td>91</td>\n",
       "      <td>31</td>\n",
       "    </tr>\n",
       "    <tr>\n",
       "      <th>9</th>\n",
       "      <td>2009</td>\n",
       "      <td>61</td>\n",
       "      <td>7</td>\n",
       "    </tr>\n",
       "    <tr>\n",
       "      <th>12</th>\n",
       "      <td>2010</td>\n",
       "      <td>19</td>\n",
       "      <td>1</td>\n",
       "    </tr>\n",
       "    <tr>\n",
       "      <th>11</th>\n",
       "      <td>2011</td>\n",
       "      <td>30</td>\n",
       "      <td>13</td>\n",
       "    </tr>\n",
       "    <tr>\n",
       "      <th>10</th>\n",
       "      <td>2012</td>\n",
       "      <td>52</td>\n",
       "      <td>11</td>\n",
       "    </tr>\n",
       "    <tr>\n",
       "      <th>13</th>\n",
       "      <td>2013</td>\n",
       "      <td>9</td>\n",
       "      <td>1</td>\n",
       "    </tr>\n",
       "    <tr>\n",
       "      <th>16</th>\n",
       "      <td>2015</td>\n",
       "      <td>1</td>\n",
       "      <td>4</td>\n",
       "    </tr>\n",
       "    <tr>\n",
       "      <th>14</th>\n",
       "      <td>2021</td>\n",
       "      <td>7</td>\n",
       "      <td>7</td>\n",
       "    </tr>\n",
       "  </tbody>\n",
       "</table>\n",
       "</div>"
      ],
      "text/plain": [
       "   Date Acquired  Male Artists  Female Artists\n",
       "8              0            77               9\n",
       "15          2000             4               4\n",
       "4           2001           163              70\n",
       "3           2002           165              72\n",
       "6           2003           103              24\n",
       "2           2004           167              76\n",
       "1           2005           173              63\n",
       "5           2006           146              55\n",
       "0           2007           180              84\n",
       "7           2008            91              31\n",
       "9           2009            61               7\n",
       "12          2010            19               1\n",
       "11          2011            30              13\n",
       "10          2012            52              11\n",
       "13          2013             9               1\n",
       "16          2015             1               4\n",
       "14          2021             7               7"
      ]
     },
     "execution_count": 44,
     "metadata": {},
     "output_type": "execute_result"
    }
   ],
   "source": [
    "rhizome_male_artworks = rhz_artworks.loc[rhz_artworks['Gender'] == 'M']\n",
    "rhizome_male_artworks = rhizome_male_artworks['dateAcquired'].value_counts().rename_axis('Date Acquired').reset_index(name='Male Artists')\n",
    "rhizome_female_artworks = rhz_artworks.loc[rhz_artworks['Gender'] == 'F']\n",
    "rhizome_female_artworks = rhizome_female_artworks['dateAcquired'].value_counts().rename_axis('Date Acquired').reset_index(name='Female Artists') \n",
    "rhizome_gender_artworks = pd.merge(rhizome_male_artworks, rhizome_female_artworks, left_on='Date Acquired', right_on='Date Acquired')\n",
    "rhizome_gender_artworks = rhizome_gender_artworks.sort_values(by='Date Acquired')\n",
    "\n",
    "rhizome_gender_artworks\n"
   ]
  },
  {
   "cell_type": "code",
   "execution_count": 45,
   "metadata": {},
   "outputs": [
    {
     "data": {
      "text/plain": [
       "<Figure size 1080x576 with 0 Axes>"
      ]
     },
     "metadata": {},
     "output_type": "display_data"
    },
    {
     "data": {
      "image/png": "[encoded data removed]",
      "text/plain": [
       "<Figure size 432x288 with 2 Axes>"
      ]
     },
     "metadata": {
      "needs_background": "light"
     },
     "output_type": "display_data"
    }
   ],
   "source": [
    "plt.figure(figsize=(15,8))\n",
    "ax = rhizome_gender_artworks.plot(x=\"Date Acquired\", y=\"Male Artists\", legend=False)\n",
    "ax2 = ax.twinx()\n",
    "rhizome_gender_artworks.plot(x=\"Date Acquired\", y=\"Female Artists\", ax=ax2, legend=False, color=\"r\")\n",
    "ax.figure.legend()\n",
    "plt.show()"
   ]
  },
  {
   "cell_type": "code",
   "execution_count": 18,
   "metadata": {},
   "outputs": [],
   "source": [
    "test = rhz_artworks['dateAcquired'].value_counts().rename_axis('year').reset_index(name='counts')\n",
    "test = test.sort_values(by='year', ascending=True)\n"
   ]
  },
  {
   "cell_type": "code",
   "execution_count": 19,
   "metadata": {},
   "outputs": [
    {
     "data": {
      "text/plain": [
       "<AxesSubplot:xlabel='year', ylabel='counts'>"
      ]
     },
     "execution_count": 19,
     "metadata": {},
     "output_type": "execute_result"
    },
    {
     "data": {
      "image/png": "[encoded data removed]",
      "text/plain": [
       "<Figure size 1080x576 with 1 Axes>"
      ]
     },
     "metadata": {
      "needs_background": "light"
     },
     "output_type": "display_data"
    }
   ],
   "source": [
    "plt.figure(figsize=(15,8))\n",
    "sns.lineplot(data=test, x=\"year\", y=\"counts\")"
   ]
  },
  {
   "cell_type": "code",
   "execution_count": 25,
   "metadata": {},
   "outputs": [
    {
     "data": {
      "text/plain": [
       "M                                           1448\n",
       "F                                            533\n",
       "missing                                      156\n",
       "F, M                                          46\n",
       "M, M                                          29\n",
       "M, F                                          27\n",
       "M, M, M                                        6\n",
       "M, F, M                                        6\n",
       "F, F                                           5\n",
       "F, M, M                                        3\n",
       "N/B                                            2\n",
       "F, missing                                     2\n",
       "missing, M, F, F, F                            1\n",
       "missing, M                                     1\n",
       "F, F, F                                        1\n",
       "missing, F                                     1\n",
       "M, M, missing                                  1\n",
       "F, M, M, M, M, F, missing, M, missing, M       1\n",
       "M, F, F, M, M, M, M                            1\n",
       "Name: Gender, dtype: int64"
      ]
     },
     "execution_count": 25,
     "metadata": {},
     "output_type": "execute_result"
    }
   ],
   "source": [
    "rhz_artworks['Gender'].value_counts()"
   ]
  },
  {
   "cell_type": "code",
   "execution_count": 28,
   "metadata": {},
   "outputs": [
    {
     "data": {
      "text/plain": [
       "<AxesSubplot:ylabel='Rhizome'>"
      ]
     },
     "execution_count": 28,
     "metadata": {},
     "output_type": "execute_result"
    },
    {
     "data": {
      "image/png": "[encoded data removed]",
      "text/plain": [
       "<Figure size 432x288 with 1 Axes>"
      ]
     },
     "metadata": {},
     "output_type": "display_data"
    }
   ],
   "source": [
    "gender = pd.DataFrame()\n",
    "gender['MOMA'] = moma_artists['Gender'].value_counts()\n",
    "gender['Rhizome'] = rhz_artists['Gender'].value_counts()"
   ]
  },
  {
   "cell_type": "code",
   "execution_count": null,
   "metadata": {},
   "outputs": [],
   "source": [
    "moma_genders = moma_artists['Gender']"
   ]
  },
  {
   "cell_type": "code",
   "execution_count": 23,
   "metadata": {},
   "outputs": [],
   "source": [
    "moma_artists_2 = moma_artists.sample(n=1301)"
   ]
  },
  {
   "cell_type": "code",
   "execution_count": null,
   "metadata": {},
   "outputs": [],
   "source": [
    "rhz_artists_copy = rhz_artists.copy()\n",
    "real_gender = rhz_artists_copy['Gender']\n",
    "guessed_gender = rhz_artists_copy['genderGuessed']\n",
    "genders = [real_gender, guessed_gender]\n",
    "rhz_artists_copy['Gender_2'] = pd.concat(genders, axis=1)"
   ]
  },
  {
   "cell_type": "code",
   "execution_count": 15,
   "metadata": {},
   "outputs": [],
   "source": [
    "moma_artists['Source'] = 'MOMA'\n",
    "rhz_artists['Source'] = 'Rhizome'\n",
    "moma = moma_artists[['Gender', 'Source']]\n",
    "rhizome = rhz_artists[['Gender', 'Source']]\n",
    "frames = [moma, rhizome]\n",
    "combined = pd.concat(frames, axis=0)\n",
    "combined = combined.reset_index(drop=True)"
   ]
  },
  {
   "cell_type": "code",
   "execution_count": 24,
   "metadata": {},
   "outputs": [],
   "source": [
    "moma_artists_2['Source'] = 'MOMA'\n",
    "moma_2 = moma_artists_2[['Gender', 'Source']]\n",
    "frames_2 = [moma_2, rhizome]\n",
    "combined_2 = pd.concat(frames_2, axis=0)\n",
    "combined_2 = combined_2.reset_index(drop=True)"
   ]
  },
  {
   "cell_type": "code",
   "execution_count": 25,
   "metadata": {},
   "outputs": [
    {
     "data": {
      "text/plain": [
       "<seaborn.axisgrid.FacetGrid at 0x12967d6d0>"
      ]
     },
     "execution_count": 25,
     "metadata": {},
     "output_type": "execute_result"
    },
    {
     "data": {
      "image/png": "[encoded data removed]",
      "text/plain": [
       "<Figure size 439x360 with 1 Axes>"
      ]
     },
     "metadata": {
      "needs_background": "light"
     },
     "output_type": "display_data"
    }
   ],
   "source": [
    "sns.catplot(x='Gender', kind='count', hue='Source', data=combined_2, order=['M', 'F', 'missing', 'NB', 'N/B'])"
   ]
  },
  {
   "cell_type": "code",
   "execution_count": 43,
   "metadata": {},
   "outputs": [
    {
     "data": {
      "text/plain": [
       "<seaborn.axisgrid.FacetGrid at 0x12b556700>"
      ]
     },
     "execution_count": 43,
     "metadata": {},
     "output_type": "execute_result"
    },
    {
     "data": {
      "image/png": "[encoded data removed]",
      "text/plain": [
       "<Figure size 360x360 with 1 Axes>"
      ]
     },
     "metadata": {
      "needs_background": "light"
     },
     "output_type": "display_data"
    },
    {
     "data": {
      "image/png": "[encoded data removed]",
      "text/plain": [
       "<Figure size 360x360 with 1 Axes>"
      ]
     },
     "metadata": {
      "needs_background": "light"
     },
     "output_type": "display_data"
    }
   ],
   "source": [
    "sns.catplot(x='Gender', kind='count', data=moma_artists_2, order=['M', 'F', 'missing', 'NB'])\n",
    "sns.catplot(x='Gender', kind='count', data=rhz_artists, order=['M', 'F', 'missing', 'NB'])"
   ]
  },
  {
   "cell_type": "code",
   "execution_count": 31,
   "metadata": {},
   "outputs": [
    {
     "data": {
      "text/html": [
       "<div>\n",
       "<style scoped>\n",
       "    .dataframe tbody tr th:only-of-type {\n",
       "        vertical-align: middle;\n",
       "    }\n",
       "\n",
       "    .dataframe tbody tr th {\n",
       "        vertical-align: top;\n",
       "    }\n",
       "\n",
       "    .dataframe thead th {\n",
       "        text-align: right;\n",
       "    }\n",
       "</style>\n",
       "<table border=\"1\" class=\"dataframe\">\n",
       "  <thead>\n",
       "    <tr style=\"text-align: right;\">\n",
       "      <th></th>\n",
       "      <th>ID</th>\n",
       "      <th>URL</th>\n",
       "      <th>Title</th>\n",
       "      <th>Artist</th>\n",
       "      <th>dateAcquired</th>\n",
       "      <th>dateCreated</th>\n",
       "      <th>Nationality</th>\n",
       "      <th>nationalityGuessed</th>\n",
       "      <th>Gender</th>\n",
       "      <th>genderGuessed</th>\n",
       "    </tr>\n",
       "  </thead>\n",
       "  <tbody>\n",
       "    <tr>\n",
       "      <th>0</th>\n",
       "      <td>879</td>\n",
       "      <td>https://artbase.rhizome.org/wiki/Q2423</td>\n",
       "      <td>ZUR FARBENLEHRE (THEORY OF COLOURS)</td>\n",
       "      <td>Steven Jones</td>\n",
       "      <td>2007</td>\n",
       "      <td>2007</td>\n",
       "      <td>British</td>\n",
       "      <td>missing</td>\n",
       "      <td>missing</td>\n",
       "      <td>M</td>\n",
       "    </tr>\n",
       "    <tr>\n",
       "      <th>1</th>\n",
       "      <td>1021</td>\n",
       "      <td>https://artbase.rhizome.org/wiki/Q4089</td>\n",
       "      <td>Zones de Convergence</td>\n",
       "      <td>cicero</td>\n",
       "      <td>2005</td>\n",
       "      <td>2005</td>\n",
       "      <td>missing</td>\n",
       "      <td>missing</td>\n",
       "      <td>missing</td>\n",
       "      <td>missing</td>\n",
       "    </tr>\n",
       "    <tr>\n",
       "      <th>2</th>\n",
       "      <td>243, 701</td>\n",
       "      <td>https://artbase.rhizome.org/wiki/Q1475</td>\n",
       "      <td>Zombie and Mummy</td>\n",
       "      <td>Dragan Espenschied, Olia Lialina</td>\n",
       "      <td>2004</td>\n",
       "      <td>2002</td>\n",
       "      <td>German, Russian</td>\n",
       "      <td>missing, missing</td>\n",
       "      <td>M, F</td>\n",
       "      <td>missing, missing</td>\n",
       "    </tr>\n",
       "    <tr>\n",
       "      <th>3</th>\n",
       "      <td>312</td>\n",
       "      <td>https://artbase.rhizome.org/wiki/Q4374</td>\n",
       "      <td>Zaira, City of Memories</td>\n",
       "      <td>Gokcen Erguven</td>\n",
       "      <td>2004</td>\n",
       "      <td>2004</td>\n",
       "      <td>Turkish</td>\n",
       "      <td>missing</td>\n",
       "      <td>F</td>\n",
       "      <td>missing</td>\n",
       "    </tr>\n",
       "    <tr>\n",
       "      <th>4</th>\n",
       "      <td>920</td>\n",
       "      <td>https://artbase.rhizome.org/wiki/Q3972</td>\n",
       "      <td>Z_G [zeitgeist gestalten]</td>\n",
       "      <td>Tiago Borges</td>\n",
       "      <td>2008</td>\n",
       "      <td>2007</td>\n",
       "      <td>Angolan</td>\n",
       "      <td>missing</td>\n",
       "      <td>M</td>\n",
       "      <td>missing</td>\n",
       "    </tr>\n",
       "    <tr>\n",
       "      <th>...</th>\n",
       "      <td>...</td>\n",
       "      <td>...</td>\n",
       "      <td>...</td>\n",
       "      <td>...</td>\n",
       "      <td>...</td>\n",
       "      <td>...</td>\n",
       "      <td>...</td>\n",
       "      <td>...</td>\n",
       "      <td>...</td>\n",
       "      <td>...</td>\n",
       "    </tr>\n",
       "    <tr>\n",
       "      <th>2265</th>\n",
       "      <td>1076</td>\n",
       "      <td>https://artbase.rhizome.org/wiki/Q4358</td>\n",
       "      <td>1999</td>\n",
       "      <td>joan escofet</td>\n",
       "      <td>2001</td>\n",
       "      <td>2000</td>\n",
       "      <td>missing</td>\n",
       "      <td>missing</td>\n",
       "      <td>missing</td>\n",
       "      <td>missing</td>\n",
       "    </tr>\n",
       "    <tr>\n",
       "      <th>2266</th>\n",
       "      <td>771</td>\n",
       "      <td>https://artbase.rhizome.org/wiki/Q3761</td>\n",
       "      <td>1969</td>\n",
       "      <td>Rhea Myers</td>\n",
       "      <td>2004</td>\n",
       "      <td>2004</td>\n",
       "      <td>British</td>\n",
       "      <td>missing</td>\n",
       "      <td>F</td>\n",
       "      <td>missing</td>\n",
       "    </tr>\n",
       "    <tr>\n",
       "      <th>2267</th>\n",
       "      <td>859</td>\n",
       "      <td>https://artbase.rhizome.org/wiki/Q2283</td>\n",
       "      <td>1953</td>\n",
       "      <td>Skye Thorstenson</td>\n",
       "      <td>2003</td>\n",
       "      <td>2002</td>\n",
       "      <td>missing</td>\n",
       "      <td>missing</td>\n",
       "      <td>M</td>\n",
       "      <td>missing</td>\n",
       "    </tr>\n",
       "    <tr>\n",
       "      <th>2268</th>\n",
       "      <td>481</td>\n",
       "      <td>https://artbase.rhizome.org/wiki/Q2511</td>\n",
       "      <td>160</td>\n",
       "      <td>Katie Lips</td>\n",
       "      <td>2005</td>\n",
       "      <td>2005</td>\n",
       "      <td>British</td>\n",
       "      <td>missing</td>\n",
       "      <td>F</td>\n",
       "      <td>missing</td>\n",
       "    </tr>\n",
       "    <tr>\n",
       "      <th>2269</th>\n",
       "      <td>997</td>\n",
       "      <td>https://artbase.rhizome.org/wiki/Q1629</td>\n",
       "      <td>24</td>\n",
       "      <td>andrew hieronymi</td>\n",
       "      <td>2003</td>\n",
       "      <td>2003</td>\n",
       "      <td>missing</td>\n",
       "      <td>missing</td>\n",
       "      <td>missing</td>\n",
       "      <td>M</td>\n",
       "    </tr>\n",
       "  </tbody>\n",
       "</table>\n",
       "<p>2270 rows × 10 columns</p>\n",
       "</div>"
      ],
      "text/plain": [
       "            ID                                     URL  \\\n",
       "0          879  https://artbase.rhizome.org/wiki/Q2423   \n",
       "1         1021  https://artbase.rhizome.org/wiki/Q4089   \n",
       "2     243, 701  https://artbase.rhizome.org/wiki/Q1475   \n",
       "3          312  https://artbase.rhizome.org/wiki/Q4374   \n",
       "4          920  https://artbase.rhizome.org/wiki/Q3972   \n",
       "...        ...                                     ...   \n",
       "2265      1076  https://artbase.rhizome.org/wiki/Q4358   \n",
       "2266       771  https://artbase.rhizome.org/wiki/Q3761   \n",
       "2267       859  https://artbase.rhizome.org/wiki/Q2283   \n",
       "2268       481  https://artbase.rhizome.org/wiki/Q2511   \n",
       "2269       997  https://artbase.rhizome.org/wiki/Q1629   \n",
       "\n",
       "                                    Title                            Artist  \\\n",
       "0     ZUR FARBENLEHRE (THEORY OF COLOURS)                      Steven Jones   \n",
       "1                    Zones de Convergence                            cicero   \n",
       "2                        Zombie and Mummy  Dragan Espenschied, Olia Lialina   \n",
       "3                 Zaira, City of Memories                    Gokcen Erguven   \n",
       "4               Z_G [zeitgeist gestalten]                      Tiago Borges   \n",
       "...                                   ...                               ...   \n",
       "2265                                 1999                      joan escofet   \n",
       "2266                                 1969                        Rhea Myers   \n",
       "2267                                 1953                  Skye Thorstenson   \n",
       "2268                                  160                        Katie Lips   \n",
       "2269                                   24                  andrew hieronymi   \n",
       "\n",
       "     dateAcquired dateCreated      Nationality nationalityGuessed   Gender  \\\n",
       "0            2007        2007          British            missing  missing   \n",
       "1            2005        2005          missing            missing  missing   \n",
       "2            2004        2002  German, Russian   missing, missing     M, F   \n",
       "3            2004        2004         Turkish             missing        F   \n",
       "4            2008        2007          Angolan            missing        M   \n",
       "...           ...         ...              ...                ...      ...   \n",
       "2265         2001        2000          missing            missing  missing   \n",
       "2266         2004        2004          British            missing        F   \n",
       "2267         2003        2002          missing            missing        M   \n",
       "2268         2005        2005          British            missing        F   \n",
       "2269         2003        2003          missing            missing  missing   \n",
       "\n",
       "         genderGuessed  \n",
       "0                    M  \n",
       "1              missing  \n",
       "2     missing, missing  \n",
       "3              missing  \n",
       "4              missing  \n",
       "...                ...  \n",
       "2265           missing  \n",
       "2266           missing  \n",
       "2267           missing  \n",
       "2268           missing  \n",
       "2269                 M  \n",
       "\n",
       "[2270 rows x 10 columns]"
      ]
     },
     "execution_count": 31,
     "metadata": {},
     "output_type": "execute_result"
    }
   ],
   "source": [
    "rhz_artworks_extra"
   ]
  },
  {
   "cell_type": "code",
   "execution_count": null,
   "metadata": {},
   "outputs": [],
   "source": [
    "sns.lineplot(x='dateAcquired', y='Title', data=rhz_artworks_extra)"
   ]
  }
 ],
 "metadata": {
  "interpreter": {
   "hash": "aee8b7b246df8f9039afb4144a1f6fd8d2ca17a180786b69acc140d282b71a49"
  },
  "kernelspec": {
   "display_name": "Python 3.9.9 64-bit",
   "language": "python",
   "name": "python3"
  },
  "language_info": {
   "codemirror_mode": {
    "name": "ipython",
    "version": 3
   },
   "file_extension": ".py",
   "mimetype": "text/x-python",
   "name": "python",
   "nbconvert_exporter": "python",
   "pygments_lexer": "ipython3",
   "version": "3.9.9"
  },
  "orig_nbformat": 4
 },
 "nbformat": 4,
 "nbformat_minor": 2
}
