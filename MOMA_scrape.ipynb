{
 "cells": [
  {
   "cell_type": "code",
   "execution_count": null,
   "metadata": {},
   "outputs": [],
   "source": [
    "#cleaned artists \n",
    "new_artists= pd.read_pickle(path+'MOMAartists.pkl')\n",
    "new_artists"
   ]
  },
  {
   "cell_type": "code",
   "execution_count": null,
   "metadata": {},
   "outputs": [],
   "source": [
    "moma_arch_cont = pd.read_pickle('/Users/laurentfintoni/Desktop/University/COURSE DOCS/YEAR 2/EPUB/PROJECT/EPDS/MOMA_data/pickle/architecture_design_cont.pkl')\n",
    "moma_arch_mod = pd.read_pickle('/Users/laurentfintoni/Desktop/University/COURSE DOCS/YEAR 2/EPUB/PROJECT/EPDS/MOMA_data/pickle/architecture_design_mod.pkl')\n",
    "moma_design_cont = pd.read_pickle('/Users/laurentfintoni/Desktop/University/COURSE DOCS/YEAR 2/EPUB/PROJECT/EPDS/MOMA_data/pickle/architecture_design_img_cont.pkl')\n",
    "moma_design_mod = pd.read_pickle('/Users/laurentfintoni/Desktop/University/COURSE DOCS/YEAR 2/EPUB/PROJECT/EPDS/MOMA_data/pickle/architecture_design_img_mod.pkl')\n",
    "moma_draw_cont = pd.read_pickle('/Users/laurentfintoni/Desktop/University/COURSE DOCS/YEAR 2/EPUB/PROJECT/EPDS/MOMA_data/pickle/draws_prints_cont.pkl')\n",
    "moma_draw_mod = pd.read_pickle('/Users/laurentfintoni/Desktop/University/COURSE DOCS/YEAR 2/EPUB/PROJECT/EPDS/MOMA_data/pickle/draws_prints_mod.pkl')\n",
    "moma_films_cont = pd.read_pickle('/Users/laurentfintoni/Desktop/University/COURSE DOCS/YEAR 2/EPUB/PROJECT/EPDS/MOMA_data/pickle/films_cont.pkl')\n",
    "moma_films_mod = pd.read_pickle('/Users/laurentfintoni/Desktop/University/COURSE DOCS/YEAR 2/EPUB/PROJECT/EPDS/MOMA_data/pickle/films_mod.pkl')\n",
    "moma_fluxus_cont = pd.read_pickle('/Users/laurentfintoni/Desktop/University/COURSE DOCS/YEAR 2/EPUB/PROJECT/EPDS/MOMA_data/pickle/fluxus_cont.pkl')\n",
    "moma_fluxus_mod = pd.read_pickle('/Users/laurentfintoni/Desktop/University/COURSE DOCS/YEAR 2/EPUB/PROJECT/EPDS/MOMA_data/pickle/fluxus_mod.pkl')\n",
    "moma_media_cont = pd.read_pickle('/Users/laurentfintoni/Desktop/University/COURSE DOCS/YEAR 2/EPUB/PROJECT/EPDS/MOMA_data/pickle/media_perf_cont.pkl')\n",
    "moma_media_mod = pd.read_pickle('/Users/laurentfintoni/Desktop/University/COURSE DOCS/YEAR 2/EPUB/PROJECT/EPDS/MOMA_data/pickle/media_perf_mod.pkl')\n",
    "moma_paint_cont = pd.read_pickle('/Users/laurentfintoni/Desktop/University/COURSE DOCS/YEAR 2/EPUB/PROJECT/EPDS/MOMA_data/pickle/paint_sculp_cont.pkl')\n",
    "moma_paint_mod = pd.read_pickle('/Users/laurentfintoni/Desktop/University/COURSE DOCS/YEAR 2/EPUB/PROJECT/EPDS/MOMA_data/pickle/paint_sculp_mod.pkl')\n",
    "moma_photo_cont = pd.read_pickle('/Users/laurentfintoni/Desktop/University/COURSE DOCS/YEAR 2/EPUB/PROJECT/EPDS/MOMA_data/pickle/photo_cont.pkl')\n",
    "moma_photo_mod = pd.read_pickle('/Users/laurentfintoni/Desktop/University/COURSE DOCS/YEAR 2/EPUB/PROJECT/EPDS/MOMA_data/pickle/photo_mod.pkl')"
   ]
  },
  {
   "cell_type": "code",
   "execution_count": null,
   "metadata": {},
   "outputs": [],
   "source": [
    "from __future__ import print_function\n",
    "from bs4 import BeautifulSoup\n",
    "import requests\n",
    "import pandas as pd"
   ]
  },
  {
   "cell_type": "code",
   "execution_count": null,
   "metadata": {},
   "outputs": [],
   "source": [
    "def url_to_text_moma(url):\n",
    "    if url != 'missing':\n",
    "        page = requests.get(url)\n",
    "        status = page.status_code\n",
    "        if status != 404:\n",
    "            soup = BeautifulSoup(page.content, \"html.parser\")\n",
    "            if soup.find(class_=\"uneven-columns--work\").find(class_='main-content') is not None:\n",
    "                text = soup.find(class_=\"uneven-columns--work\").find(class_='main-content').find_all('p')\n",
    "            else:\n",
    "                text = ''\n",
    "        else:\n",
    "            text = '404'\n",
    "    else:\n",
    "        text = 'missing'     \n",
    "    print(url)\n",
    "    return text"
   ]
  },
  {
   "cell_type": "code",
   "execution_count": null,
   "metadata": {},
   "outputs": [],
   "source": [
    "links = moma_photo_mod['URL'].to_list()"
   ]
  },
  {
   "cell_type": "code",
   "execution_count": null,
   "metadata": {},
   "outputs": [],
   "source": [
    "photo_mod = [url_to_text_moma(u) for u in links]"
   ]
  }
 ],
 "metadata": {
  "interpreter": {
   "hash": "aee8b7b246df8f9039afb4144a1f6fd8d2ca17a180786b69acc140d282b71a49"
  },
  "kernelspec": {
   "display_name": "Python 3.9.9 64-bit",
   "language": "python",
   "name": "python3"
  },
  "language_info": {
   "name": "python",
   "version": "3.9.9"
  },
  "orig_nbformat": 4
 },
 "nbformat": 4,
 "nbformat_minor": 2
}
