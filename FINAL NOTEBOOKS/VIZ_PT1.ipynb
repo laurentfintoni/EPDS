{
 "cells": [
  {
   "cell_type": "markdown",
   "metadata": {},
   "source": [
    "**README**\n",
    "\n",
    "This notebook includes code for the first round of visualisation trials. "
   ]
  },
  {
   "cell_type": "code",
   "execution_count": 1,
   "metadata": {},
   "outputs": [],
   "source": [
    "import seaborn as sns\n",
    "import matplotlib.pyplot as plt\n",
    "import matplotlib.ticker as ticker\n",
    "import pandas as pd\n",
    "from functools import reduce\n",
    "pd.set_option('display.max_rows', 200)\n",
    "from statsmodels.graphics.mosaicplot import mosaic\n",
    "\n",
    "path = '/Users/laurentfintoni/Desktop/University/COURSE DOCS/YEAR 2/EPUB/PROJECT/EPDS/'\n",
    "\n",
    "#complete DFs\n",
    "rhz_artworks = pd.read_pickle(path+'Rhizome_data/rhizome_artworks_extra.pkl')\n",
    "rhz_artists = pd.read_pickle(path+'Rhizome_data/rhizome_artists_extra.pkl')\n",
    "moma_artists = pd.read_pickle(path+'MOMA_data/pickle/MoMAArtists.pkl')\n",
    "moma_artworks = pd.read_pickle(path+'MOMA_data/pickle/MoMAartworks.pkl')\n",
    "moma_artworks_old =  pd.read_pickle(path+'MOMA_data/pickle/old_artworks.pkl')\n",
    "moma_artworks_new =  pd.read_pickle(path+'MOMA_data/pickle/new_artworks.pkl')       \n",
    "#load department DFs\n",
    "moma_arch_cont = pd.read_pickle(path+'MOMA_data/pickle/departments/architecture_design_cont.pkl')\n",
    "moma_arch_mod = pd.read_pickle(path+'MOMA_data/pickle/departments/architecture_design_mod.pkl')\n",
    "moma_design_cont = pd.read_pickle(path+'MOMA_data/pickle/departments/architecture_design_img_cont.pkl')\n",
    "moma_design_mod = pd.read_pickle(path+'MOMA_data/pickle/departments/architecture_design_img_mod.pkl')\n",
    "moma_draw_cont = pd.read_pickle(path+'MOMA_data/pickle/departments/draws_prints_cont.pkl')\n",
    "moma_draw_mod = pd.read_pickle(path+'MOMA_data/pickle/departments/draws_prints_mod.pkl')\n",
    "moma_films_cont = pd.read_pickle(path+'MOMA_data/pickle/departments/films_cont.pkl')\n",
    "moma_films_mod = pd.read_pickle(path+'MOMA_data/pickle/departments/films_mod.pkl')\n",
    "moma_fluxus_cont = pd.read_pickle(path+'MOMA_data/pickle/departments/fluxus_cont.pkl')\n",
    "moma_fluxus_mod = pd.read_pickle(path+'MOMA_data/pickle/departments/fluxus_mod.pkl')\n",
    "moma_media_cont = pd.read_pickle(path+'MOMA_data/pickle/departments/media_perf_cont.pkl')\n",
    "moma_media_mod = pd.read_pickle(path+'MOMA_data/pickle/departments/media_perf_mod.pkl')\n",
    "moma_paint_cont = pd.read_pickle(path+'MOMA_data/pickle/departments/paint_sculp_cont.pkl')\n",
    "moma_paint_mod = pd.read_pickle(path+'MOMA_data/pickle/departments/paint_sculp_mod.pkl')\n",
    "moma_photo_cont = pd.read_pickle(path+'MOMA_data/pickle/departments/photo_cont.pkl')\n",
    "moma_photo_mod = pd.read_pickle(path+'MOMA_data/pickle/departments/photo_mod.pkl')"
   ]
  },
  {
   "cell_type": "markdown",
   "metadata": {},
   "source": [
    "CATEGORICAL VALUE OVER TIME WITHIN ONE DATASET \n",
    "- e.g. gender representation over time within MoMA / Rhizome"
   ]
  },
  {
   "cell_type": "code",
   "execution_count": null,
   "metadata": {},
   "outputs": [],
   "source": [
    "#RHIZOME\n",
    "#filter dataset by cat value\n",
    "rhizome_male_artworks = rhz_artworks.loc[rhz_artworks['Gender'] == 'M']\n",
    "#count cat values based on time column\n",
    "rhizome_male_artworks = rhizome_male_artworks['dateAcquired'].value_counts().rename_axis('Date Acquired').reset_index(name='Male Artists')\n",
    "rhizome_female_artworks = rhz_artworks.loc[rhz_artworks['Gender'] == 'F']\n",
    "rhizome_female_artworks = rhizome_female_artworks['dateAcquired'].value_counts().rename_axis('Date Acquired').reset_index(name='Female Artists') \n",
    "#combine the two based on date \n",
    "rhizome_gender_artworks = pd.merge(rhizome_male_artworks, rhizome_female_artworks, left_on='Date Acquired', right_on='Date Acquired')\n",
    "#drop values w/ no date\n",
    "rhizome_gender_artworks = rhizome_gender_artworks.loc[rhizome_gender_artworks['Date Acquired'] != '0']\n",
    "#arrange by date \n",
    "rhizome_gender_artworks = rhizome_gender_artworks.sort_values(by='Date Acquired')\n",
    "rhizome_gender_artworks"
   ]
  },
  {
   "cell_type": "code",
   "execution_count": 162,
   "metadata": {},
   "outputs": [
    {
     "data": {
      "text/html": [
       "<div>\n",
       "<style scoped>\n",
       "    .dataframe tbody tr th:only-of-type {\n",
       "        vertical-align: middle;\n",
       "    }\n",
       "\n",
       "    .dataframe tbody tr th {\n",
       "        vertical-align: top;\n",
       "    }\n",
       "\n",
       "    .dataframe thead th {\n",
       "        text-align: right;\n",
       "    }\n",
       "</style>\n",
       "<table border=\"1\" class=\"dataframe\">\n",
       "  <thead>\n",
       "    <tr style=\"text-align: right;\">\n",
       "      <th></th>\n",
       "      <th>Date Acquired</th>\n",
       "      <th>Male Artists</th>\n",
       "      <th>Female Artists</th>\n",
       "    </tr>\n",
       "  </thead>\n",
       "  <tbody>\n",
       "    <tr>\n",
       "      <th>15</th>\n",
       "      <td>2000</td>\n",
       "      <td>4</td>\n",
       "      <td>4</td>\n",
       "    </tr>\n",
       "    <tr>\n",
       "      <th>4</th>\n",
       "      <td>2001</td>\n",
       "      <td>163</td>\n",
       "      <td>70</td>\n",
       "    </tr>\n",
       "    <tr>\n",
       "      <th>3</th>\n",
       "      <td>2002</td>\n",
       "      <td>165</td>\n",
       "      <td>72</td>\n",
       "    </tr>\n",
       "    <tr>\n",
       "      <th>6</th>\n",
       "      <td>2003</td>\n",
       "      <td>103</td>\n",
       "      <td>24</td>\n",
       "    </tr>\n",
       "    <tr>\n",
       "      <th>2</th>\n",
       "      <td>2004</td>\n",
       "      <td>167</td>\n",
       "      <td>76</td>\n",
       "    </tr>\n",
       "    <tr>\n",
       "      <th>1</th>\n",
       "      <td>2005</td>\n",
       "      <td>173</td>\n",
       "      <td>63</td>\n",
       "    </tr>\n",
       "    <tr>\n",
       "      <th>5</th>\n",
       "      <td>2006</td>\n",
       "      <td>146</td>\n",
       "      <td>55</td>\n",
       "    </tr>\n",
       "    <tr>\n",
       "      <th>0</th>\n",
       "      <td>2007</td>\n",
       "      <td>180</td>\n",
       "      <td>84</td>\n",
       "    </tr>\n",
       "    <tr>\n",
       "      <th>7</th>\n",
       "      <td>2008</td>\n",
       "      <td>91</td>\n",
       "      <td>31</td>\n",
       "    </tr>\n",
       "    <tr>\n",
       "      <th>9</th>\n",
       "      <td>2009</td>\n",
       "      <td>61</td>\n",
       "      <td>7</td>\n",
       "    </tr>\n",
       "    <tr>\n",
       "      <th>12</th>\n",
       "      <td>2010</td>\n",
       "      <td>19</td>\n",
       "      <td>1</td>\n",
       "    </tr>\n",
       "    <tr>\n",
       "      <th>11</th>\n",
       "      <td>2011</td>\n",
       "      <td>30</td>\n",
       "      <td>13</td>\n",
       "    </tr>\n",
       "    <tr>\n",
       "      <th>10</th>\n",
       "      <td>2012</td>\n",
       "      <td>52</td>\n",
       "      <td>11</td>\n",
       "    </tr>\n",
       "    <tr>\n",
       "      <th>13</th>\n",
       "      <td>2013</td>\n",
       "      <td>9</td>\n",
       "      <td>1</td>\n",
       "    </tr>\n",
       "    <tr>\n",
       "      <th>16</th>\n",
       "      <td>2015</td>\n",
       "      <td>1</td>\n",
       "      <td>4</td>\n",
       "    </tr>\n",
       "    <tr>\n",
       "      <th>14</th>\n",
       "      <td>2021</td>\n",
       "      <td>7</td>\n",
       "      <td>7</td>\n",
       "    </tr>\n",
       "  </tbody>\n",
       "</table>\n",
       "</div>"
      ],
      "text/plain": [
       "   Date Acquired  Male Artists  Female Artists\n",
       "15          2000             4               4\n",
       "4           2001           163              70\n",
       "3           2002           165              72\n",
       "6           2003           103              24\n",
       "2           2004           167              76\n",
       "1           2005           173              63\n",
       "5           2006           146              55\n",
       "0           2007           180              84\n",
       "7           2008            91              31\n",
       "9           2009            61               7\n",
       "12          2010            19               1\n",
       "11          2011            30              13\n",
       "10          2012            52              11\n",
       "13          2013             9               1\n",
       "16          2015             1               4\n",
       "14          2021             7               7"
      ]
     },
     "execution_count": 162,
     "metadata": {},
     "output_type": "execute_result"
    }
   ],
   "source": [
    "rhizome_gender_artworks"
   ]
  },
  {
   "cell_type": "code",
   "execution_count": 167,
   "metadata": {},
   "outputs": [
    {
     "data": {
      "image/png": "[encoded data removed]",
      "text/plain": [
       "<Figure size 1080x576 with 1 Axes>"
      ]
     },
     "metadata": {
      "needs_background": "light"
     },
     "output_type": "display_data"
    }
   ],
   "source": [
    "#dual line plot w/ cat variable over time (gender, date acquired), one database \n",
    "plots = dict(date=rhizome_gender_artworks['Date Acquired'], artists=rhizome_gender_artworks['Male Artists'], artists_2=rhizome_gender_artworks['Female Artists'])\n",
    "data = pd.DataFrame(plots)\n",
    "fig, ax = plt.subplots(figsize=(15,8))\n",
    "ax= sns.lineplot(x='date', y='artists', data=data, label='Male Artists')\n",
    "#ax.xaxis.set_major_locator(ticker.MultipleLocator(5))\n",
    "ax1 = sns.lineplot(x='date', y='artists_2', data=data, label='Female Artists')"
   ]
  },
  {
   "cell_type": "code",
   "execution_count": null,
   "metadata": {},
   "outputs": [],
   "source": [
    "#MoMA\n",
    "moma_old_artworks_male = moma_artworks_old.loc[moma_artworks_old['Gender'] == 'M']\n",
    "moma_old_artworks_male.loc[:,'DateAcquired'] = moma_old_artworks_male['DateAcquired'].where((moma_old_artworks_male['DateAcquired'].str.len() <= 4), moma_old_artworks_male['DateAcquired'].str[0:4])\n",
    "moma_old_artworks_male = moma_old_artworks_male['DateAcquired'].value_counts().rename_axis('Date Acquired').reset_index(name='Male Artists')\n",
    "moma_old_artworks_female = moma_artworks_old.loc[moma_artworks_old['Gender'] == 'F']\n",
    "moma_old_artworks_female.loc[:,'DateAcquired'] = moma_old_artworks_female['DateAcquired'].where((moma_old_artworks_female['DateAcquired'].str.len() <= 4), moma_old_artworks_female['DateAcquired'].str[0:4])\n",
    "moma_old_artworks_female = moma_old_artworks_female['DateAcquired'].value_counts().rename_axis('Date Acquired').reset_index(name='Female Artists') \n",
    "moma_old_gender_artworks = pd.merge(moma_old_artworks_male, moma_old_artworks_female, left_on='Date Acquired', right_on='Date Acquired')\n",
    "moma_old_gender_artworks = moma_old_gender_artworks.loc[moma_old_gender_artworks['Date Acquired'] != 'nan']\n",
    "moma_old_gender_artworks = moma_old_gender_artworks.sort_values(by='Date Acquired')\n",
    "moma_old_gender_artworks = moma_old_gender_artworks.reset_index(drop=True)\n",
    "moma_old_gender_artworks = moma_old_gender_artworks.drop(index=0, axis=0)\n",
    "moma_old_gender_artworks"
   ]
  },
  {
   "cell_type": "code",
   "execution_count": null,
   "metadata": {},
   "outputs": [],
   "source": [
    "moma_new_artworks_male = moma_artworks_new.loc[moma_artworks_new['Gender'] == 'M']\n",
    "moma_new_artworks_male.loc[:,'DateAcquired'] = moma_new_artworks_male['DateAcquired'].where((moma_new_artworks_male['DateAcquired'].str.len() <= 4), moma_new_artworks_male['DateAcquired'].str[0:4])\n",
    "moma_new_artworks_male = moma_new_artworks_male['DateAcquired'].value_counts().rename_axis('Date Acquired').reset_index(name='Male Artists')\n",
    "moma_new_artworks_female = moma_artworks_new.loc[moma_artworks_new['Gender'] == 'F']\n",
    "moma_new_artworks_female.loc[:,'DateAcquired'] = moma_new_artworks_female['DateAcquired'].where((moma_new_artworks_female['DateAcquired'].str.len() <= 4), moma_new_artworks_female['DateAcquired'].str[0:4])\n",
    "moma_new_artworks_female = moma_new_artworks_female['DateAcquired'].value_counts().rename_axis('Date Acquired').reset_index(name='Female Artists') \n",
    "moma_new_gender_artworks = pd.merge(moma_new_artworks_male, moma_new_artworks_female, left_on='Date Acquired', right_on='Date Acquired')\n",
    "moma_new_gender_artworks = moma_new_gender_artworks.loc[moma_new_gender_artworks['Date Acquired'] != 'nan']\n",
    "moma_new_gender_artworks = moma_new_gender_artworks.sort_values(by='Date Acquired')\n",
    "moma_new_gender_artworks = moma_new_gender_artworks.reset_index(drop=True)\n",
    "moma_new_gender_artworks = moma_new_gender_artworks.drop(index=0, axis=0)\n",
    "moma_new_gender_artworks"
   ]
  },
  {
   "cell_type": "code",
   "execution_count": 166,
   "metadata": {},
   "outputs": [
    {
     "data": {
      "image/png": "[encoded data removed]",
      "text/plain": [
       "<Figure size 1080x576 with 1 Axes>"
      ]
     },
     "metadata": {
      "needs_background": "light"
     },
     "output_type": "display_data"
    }
   ],
   "source": [
    "#dual line plot w/ cat variable over time (gender, date acquired), one database - CHANGE PLOT VALUES BTW OLD/NEW, USE [20:40] FILTER W/ NEW TO MAKE A DIRECT COMPARISON W/ RHIZOME\n",
    "\n",
    "plots = dict(date=moma_old_gender_artworks['Date Acquired'], artists=moma_old_gender_artworks['Male Artists'], artists_2=moma_old_gender_artworks['Female Artists'])\n",
    "data = pd.DataFrame(plots)\n",
    "fig, ax = plt.subplots(figsize=(15,8))\n",
    "ax= sns.lineplot(x='date', y='artists', data=data, label='Male Artists')\n",
    "ax.xaxis.set_major_locator(ticker.MultipleLocator(5))\n",
    "ax1 = sns.lineplot(x='date', y='artists_2', data=data, label='Female Artists')"
   ]
  },
  {
   "cell_type": "markdown",
   "metadata": {},
   "source": [
    "ORDINAL VALUE REPRESENTATION WITHIN ONE DATASET \n",
    "- e.g. date of acquisition within MoMA / Rhizome"
   ]
  },
  {
   "cell_type": "code",
   "execution_count": null,
   "metadata": {},
   "outputs": [],
   "source": [
    "#create DF w/ year and counts \n",
    "moma_acquired = moma_artworks['DateAcquired'].value_counts().rename_axis('year').reset_index(name='counts')\n",
    "moma_acquired = moma_acquired.sort_values(by='year', ascending=True).reset_index(drop=True)\n",
    "moma_acquired['year'] = moma_acquired['year'].str[0:4]\n",
    "moma_acquired = moma_acquired.loc[moma_acquired['year'] != 'nan']\n",
    "moma_acquired = moma_acquired.groupby('year', axis=0).sum()\n",
    "moma_acquired"
   ]
  },
  {
   "cell_type": "code",
   "execution_count": 35,
   "metadata": {},
   "outputs": [
    {
     "data": {
      "image/png": "[encoded data removed]",
      "text/plain": [
       "<Figure size 1080x576 with 1 Axes>"
      ]
     },
     "metadata": {
      "needs_background": "light"
     },
     "output_type": "display_data"
    }
   ],
   "source": [
    "plt.figure(figsize=(15,8))\n",
    "plot = sns.lineplot(data=moma_acquired, x=\"year\", y=\"counts\")\n",
    "ax = plt.gca()\n",
    "ax.xaxis.set_major_locator(ticker.MultipleLocator(10))\n",
    "plt.show()\n"
   ]
  },
  {
   "cell_type": "markdown",
   "metadata": {},
   "source": [
    "COMPARE TWO NUMERICAL VALUES AGAINST EACH OTHER \n",
    "- e.g old moma v new mona  "
   ]
  },
  {
   "cell_type": "code",
   "execution_count": 4,
   "metadata": {},
   "outputs": [],
   "source": [
    "#copy and add before/after value\n",
    "moma_before = moma_artworks_old.copy()\n",
    "moma_before['1980'] = 'before'\n",
    "moma_after = moma_artworks_new.copy()\n",
    "moma_after['1980'] = 'after'\n",
    "\n",
    "#merge \n",
    "frames = [moma_before, moma_after]\n",
    "moma_artworks_two_periods = pd.concat(frames)"
   ]
  },
  {
   "cell_type": "code",
   "execution_count": 37,
   "metadata": {},
   "outputs": [
    {
     "data": {
      "text/plain": [
       "<seaborn.axisgrid.FacetGrid at 0x291f8b970>"
      ]
     },
     "execution_count": 37,
     "metadata": {},
     "output_type": "execute_result"
    },
    {
     "data": {
      "image/png": "[encoded data removed]",
      "text/plain": [
       "<Figure size 360x360 with 1 Axes>"
      ]
     },
     "metadata": {
      "needs_background": "light"
     },
     "output_type": "display_data"
    }
   ],
   "source": [
    "sns.catplot(x='1980', kind='count', data= moma_artworks_two_periods, order=['before', 'after'])"
   ]
  },
  {
   "cell_type": "code",
   "execution_count": 38,
   "metadata": {},
   "outputs": [
    {
     "data": {
      "text/html": [
       "<div>\n",
       "<style scoped>\n",
       "    .dataframe tbody tr th:only-of-type {\n",
       "        vertical-align: middle;\n",
       "    }\n",
       "\n",
       "    .dataframe tbody tr th {\n",
       "        vertical-align: top;\n",
       "    }\n",
       "\n",
       "    .dataframe thead th {\n",
       "        text-align: right;\n",
       "    }\n",
       "</style>\n",
       "<table border=\"1\" class=\"dataframe\">\n",
       "  <thead>\n",
       "    <tr style=\"text-align: right;\">\n",
       "      <th></th>\n",
       "      <th>Department</th>\n",
       "      <th>Before</th>\n",
       "      <th>After</th>\n",
       "    </tr>\n",
       "  </thead>\n",
       "  <tbody>\n",
       "    <tr>\n",
       "      <th>0</th>\n",
       "      <td>Drawings &amp; Prints</td>\n",
       "      <td>54384</td>\n",
       "      <td>21733</td>\n",
       "    </tr>\n",
       "    <tr>\n",
       "      <th>1</th>\n",
       "      <td>Photography</td>\n",
       "      <td>26705</td>\n",
       "      <td>5193</td>\n",
       "    </tr>\n",
       "    <tr>\n",
       "      <th>2</th>\n",
       "      <td>Architecture &amp; Design</td>\n",
       "      <td>15983</td>\n",
       "      <td>3747</td>\n",
       "    </tr>\n",
       "    <tr>\n",
       "      <th>3</th>\n",
       "      <td>Painting &amp; Sculpture</td>\n",
       "      <td>2989</td>\n",
       "      <td>920</td>\n",
       "    </tr>\n",
       "    <tr>\n",
       "      <th>4</th>\n",
       "      <td>Fluxus Collection</td>\n",
       "      <td>1916</td>\n",
       "      <td>103</td>\n",
       "    </tr>\n",
       "    <tr>\n",
       "      <th>5</th>\n",
       "      <td>Film</td>\n",
       "      <td>1041</td>\n",
       "      <td>454</td>\n",
       "    </tr>\n",
       "    <tr>\n",
       "      <th>6</th>\n",
       "      <td>Media and Performance</td>\n",
       "      <td>949</td>\n",
       "      <td>2004</td>\n",
       "    </tr>\n",
       "  </tbody>\n",
       "</table>\n",
       "</div>"
      ],
      "text/plain": [
       "              Department  Before  After\n",
       "0      Drawings & Prints   54384  21733\n",
       "1            Photography   26705   5193\n",
       "2  Architecture & Design   15983   3747\n",
       "3   Painting & Sculpture    2989    920\n",
       "4      Fluxus Collection    1916    103\n",
       "5                   Film    1041    454\n",
       "6  Media and Performance     949   2004"
      ]
     },
     "execution_count": 38,
     "metadata": {},
     "output_type": "execute_result"
    }
   ],
   "source": [
    "#count occurrences of department values before and after 1980\n",
    "before_n = moma_before['Department'].value_counts().rename_axis('Department').reset_index(name='Before')\n",
    "after_n = moma_after['Department'].value_counts().rename_axis('Department').reset_index(name='After')\n",
    "moma_1980_x_dep = pd.merge(before_n, after_n, left_on='Department', right_on='Department')\n",
    "moma_1980_x_dep"
   ]
  },
  {
   "cell_type": "code",
   "execution_count": 49,
   "metadata": {},
   "outputs": [
    {
     "data": {
      "text/plain": [
       "Text(0.5, 1.0, 'how the composition of the collectionchanges before and after 1980')"
      ]
     },
     "execution_count": 49,
     "metadata": {},
     "output_type": "execute_result"
    },
    {
     "data": {
      "image/png": "[encoded data removed]",
      "text/plain": [
       "<Figure size 1080x576 with 1 Axes>"
      ]
     },
     "metadata": {
      "needs_background": "light"
     },
     "output_type": "display_data"
    }
   ],
   "source": [
    "#set the index\n",
    "moma_1980_x_dep.set_index('Department').plot(kind='bar', stacked=True, color=['steelblue', 'red'], figsize=(15,8))\n",
    "# title and size of plot\n",
    "plt.title('how the composition of the collectionchanges before and after 1980')\n"
   ]
  },
  {
   "cell_type": "code",
   "execution_count": 5,
   "metadata": {},
   "outputs": [
    {
     "data": {
      "text/html": [
       "<div>\n",
       "<style scoped>\n",
       "    .dataframe tbody tr th:only-of-type {\n",
       "        vertical-align: middle;\n",
       "    }\n",
       "\n",
       "    .dataframe tbody tr th {\n",
       "        vertical-align: top;\n",
       "    }\n",
       "\n",
       "    .dataframe thead th {\n",
       "        text-align: right;\n",
       "    }\n",
       "</style>\n",
       "<table border=\"1\" class=\"dataframe\">\n",
       "  <thead>\n",
       "    <tr style=\"text-align: right;\">\n",
       "      <th>Gender</th>\n",
       "      <th>M</th>\n",
       "      <th>F</th>\n",
       "      <th>missing</th>\n",
       "    </tr>\n",
       "  </thead>\n",
       "  <tbody>\n",
       "    <tr>\n",
       "      <th>Old</th>\n",
       "      <td>82418</td>\n",
       "      <td>9030</td>\n",
       "      <td>7689</td>\n",
       "    </tr>\n",
       "    <tr>\n",
       "      <th>New</th>\n",
       "      <td>21750</td>\n",
       "      <td>8793</td>\n",
       "      <td>952</td>\n",
       "    </tr>\n",
       "  </tbody>\n",
       "</table>\n",
       "</div>"
      ],
      "text/plain": [
       "Gender      M     F  missing\n",
       "Old     82418  9030     7689\n",
       "New     21750  8793      952"
      ]
     },
     "execution_count": 5,
     "metadata": {},
     "output_type": "execute_result"
    }
   ],
   "source": [
    "#MOMA: how the composition of the collection (by gender) changes before and after 1980 (old vs new)\n",
    "old_gender = moma_before['Gender'].value_counts().rename_axis('Gender').reset_index(name='Old')\n",
    "new_gender = moma_after['Gender'].value_counts().rename_axis('Gender').reset_index(name='New')\n",
    "moma_gender_count = pd.merge(old_gender, new_gender, left_on='Gender', right_on='Gender')\n",
    "moma_gender_count = moma_gender_count.set_index('Gender')\n",
    "#choose only M, F, missing \n",
    "moma_gender_count = moma_gender_count[0:3]\n",
    "#transpose columns and index to have triple stack \n",
    "moma_gender_count = moma_gender_count.transpose()\n",
    "moma_gender_count"
   ]
  },
  {
   "cell_type": "code",
   "execution_count": 123,
   "metadata": {},
   "outputs": [
    {
     "data": {
      "text/plain": [
       "Text(0.5, 1.0, 'how the gender composition of the collection changes before and after 1980')"
      ]
     },
     "execution_count": 123,
     "metadata": {},
     "output_type": "execute_result"
    },
    {
     "data": {
      "image/png": "[encoded data removed]",
      "text/plain": [
       "<Figure size 1080x576 with 1 Axes>"
      ]
     },
     "metadata": {
      "needs_background": "light"
     },
     "output_type": "display_data"
    }
   ],
   "source": [
    "#set the index\n",
    "moma_gender_count.plot(kind='bar', stacked=True, color=['blue', 'pink', 'green'], figsize=(15,8))\n",
    "# title and size of plot\n",
    "plt.title('how the gender composition of the collection changes before and after 1980')\n"
   ]
  },
  {
   "cell_type": "code",
   "execution_count": 6,
   "metadata": {},
   "outputs": [],
   "source": [
    "#MOMA: how the composition of the collection (by gender) changes before and after 1980 (old vs new) - COLLECTIVES\n",
    "moma_gender_multiple = pd.merge(old_gender, new_gender, left_on='Gender', right_on='Gender')\n",
    "moma_gender_multiple = moma_gender_multiple.set_index('Gender')\n",
    "#choose only collectives\n",
    "moma_gender_multiple = moma_gender_multiple[4:].reset_index()\n",
    "#remove collectives w/ no gender\n",
    "drops = ['missing, missing', 'missing, missing, missing', 'missing, missing, missing, missing, missing', 'missing, missing, missing, missing']\n",
    "#filter by only males, only females, or mixed gender (mixed gender also includes collectives w/ at least one M or F and some missing)\n",
    "moma_gender_multiple = moma_gender_multiple[moma_gender_multiple.Gender.isin(drops) == False]\n",
    "moma_gender_multiple_male = moma_gender_multiple[(moma_gender_multiple['Gender'].str.contains('F') == False) & (moma_gender_multiple['Gender'].str.contains('missing') == False)]\n",
    "moma_gender_multiple_female = moma_gender_multiple[(moma_gender_multiple['Gender'].str.contains('M') == False) & (moma_gender_multiple['Gender'].str.contains('missing') == False)]\n",
    "moma_gender_multiple_both = moma_gender_multiple[(moma_gender_multiple['Gender'].str.contains('F')== True) & (moma_gender_multiple['Gender'].str.contains('M')== True) & (moma_gender_multiple['Gender'].str.contains('missing')== False)]\n",
    "moma_gender_multiple_male_missing = moma_gender_multiple[(moma_gender_multiple['Gender'].str.contains('M') == True) & (moma_gender_multiple['Gender'].str.contains('missing') == True) & (moma_gender_multiple['Gender'].str.contains('F') == False)]\n",
    "moma_gender_multiple_female_missing = moma_gender_multiple[(moma_gender_multiple['Gender'].str.contains('M') == False) & (moma_gender_multiple['Gender'].str.contains('missing') == True) & (moma_gender_multiple['Gender'].str.contains('F') == True)]"
   ]
  },
  {
   "cell_type": "code",
   "execution_count": 7,
   "metadata": {},
   "outputs": [],
   "source": [
    "#send filters to series \n",
    "moma_gender_multiple_both_counts = moma_gender_multiple_both.sum()\n",
    "moma_gender_multiple_male_counts = moma_gender_multiple_male.sum()\n",
    "moma_gender_multiple_female_counts = moma_gender_multiple_female.sum()\n",
    "moma_gender_multiple_male_missing_counts = moma_gender_multiple_male_missing.sum()\n",
    "moma_gender_multiple_female_missing_counts = moma_gender_multiple_female_missing.sum()\n",
    "#create new DF w/ results \n",
    "moma_gender_counts_final = pd.DataFrame()\n",
    "moma_gender_counts_final['Male Only'] = moma_gender_multiple_male_counts\n",
    "moma_gender_counts_final['Male & Missing'] = moma_gender_multiple_male_missing_counts\n",
    "moma_gender_counts_final['Female Only'] = moma_gender_multiple_female_counts\n",
    "moma_gender_counts_final['Female & Missing'] = moma_gender_multiple_female_missing_counts\n",
    "moma_gender_counts_final['Mixed Gender'] = moma_gender_multiple_both_counts\n",
    "moma_gender_counts_final = moma_gender_counts_final.drop('Gender', axis=0)"
   ]
  },
  {
   "cell_type": "code",
   "execution_count": 13,
   "metadata": {},
   "outputs": [
    {
     "data": {
      "text/html": [
       "<div>\n",
       "<style scoped>\n",
       "    .dataframe tbody tr th:only-of-type {\n",
       "        vertical-align: middle;\n",
       "    }\n",
       "\n",
       "    .dataframe tbody tr th {\n",
       "        vertical-align: top;\n",
       "    }\n",
       "\n",
       "    .dataframe thead th {\n",
       "        text-align: right;\n",
       "    }\n",
       "</style>\n",
       "<table border=\"1\" class=\"dataframe\">\n",
       "  <thead>\n",
       "    <tr style=\"text-align: right;\">\n",
       "      <th></th>\n",
       "      <th>Male Only</th>\n",
       "      <th>Male &amp; Missing</th>\n",
       "      <th>Female Only</th>\n",
       "      <th>Female &amp; Missing</th>\n",
       "      <th>Mixed Gender</th>\n",
       "    </tr>\n",
       "  </thead>\n",
       "  <tbody>\n",
       "    <tr>\n",
       "      <th>Old</th>\n",
       "      <td>825</td>\n",
       "      <td>1109</td>\n",
       "      <td>29</td>\n",
       "      <td>22</td>\n",
       "      <td>893</td>\n",
       "    </tr>\n",
       "    <tr>\n",
       "      <th>New</th>\n",
       "      <td>107</td>\n",
       "      <td>698</td>\n",
       "      <td>144</td>\n",
       "      <td>47</td>\n",
       "      <td>671</td>\n",
       "    </tr>\n",
       "  </tbody>\n",
       "</table>\n",
       "</div>"
      ],
      "text/plain": [
       "    Male Only Male & Missing Female Only Female & Missing Mixed Gender\n",
       "Old       825           1109          29               22          893\n",
       "New       107            698         144               47          671"
      ]
     },
     "execution_count": 13,
     "metadata": {},
     "output_type": "execute_result"
    }
   ],
   "source": [
    "moma_gender_counts_final"
   ]
  },
  {
   "cell_type": "code",
   "execution_count": 15,
   "metadata": {},
   "outputs": [
    {
     "data": {
      "application/vnd.plotly.v1+json": {
       "config": {
        "plotlyServerURL": "https://plot.ly"
       },
       "data": [
        {
         "name": "Male Only",
         "type": "bar",
         "x": [
          "old",
          "new"
         ],
         "y": [
          825,
          107
         ]
        },
        {
         "name": "Male & Missing",
         "type": "bar",
         "x": [
          "old",
          "new"
         ],
         "y": [
          1109,
          698
         ]
        },
        {
         "name": "Female Only",
         "type": "bar",
         "x": [
          "old",
          "new"
         ],
         "y": [
          29,
          144
         ]
        },
        {
         "name": "Female & Missing",
         "type": "bar",
         "x": [
          "old",
          "new"
         ],
         "y": [
          22,
          47
         ]
        },
        {
         "name": "Mixed Gender",
         "type": "bar",
         "x": [
          "old",
          "new"
         ],
         "y": [
          893,
          671
         ]
        }
       ],
       "layout": {
        "barmode": "stack",
        "template": {
         "data": {
          "bar": [
           {
            "error_x": {
             "color": "#2a3f5f"
            },
            "error_y": {
             "color": "#2a3f5f"
            },
            "marker": {
             "line": {
              "color": "#E5ECF6",
              "width": 0.5
             },
             "pattern": {
              "fillmode": "overlay",
              "size": 10,
              "solidity": 0.2
             }
            },
            "type": "bar"
           }
          ],
          "barpolar": [
           {
            "marker": {
             "line": {
              "color": "#E5ECF6",
              "width": 0.5
             },
             "pattern": {
              "fillmode": "overlay",
              "size": 10,
              "solidity": 0.2
             }
            },
            "type": "barpolar"
           }
          ],
          "carpet": [
           {
            "aaxis": {
             "endlinecolor": "#2a3f5f",
             "gridcolor": "white",
             "linecolor": "white",
             "minorgridcolor": "white",
             "startlinecolor": "#2a3f5f"
            },
            "baxis": {
             "endlinecolor": "#2a3f5f",
             "gridcolor": "white",
             "linecolor": "white",
             "minorgridcolor": "white",
             "startlinecolor": "#2a3f5f"
            },
            "type": "carpet"
           }
          ],
          "choropleth": [
           {
            "colorbar": {
             "outlinewidth": 0,
             "ticks": ""
            },
            "type": "choropleth"
           }
          ],
          "contour": [
           {
            "colorbar": {
             "outlinewidth": 0,
             "ticks": ""
            },
            "colorscale": [
             [
              0,
              "#0d0887"
             ],
             [
              0.1111111111111111,
              "#46039f"
             ],
             [
              0.2222222222222222,
              "#7201a8"
             ],
             [
              0.3333333333333333,
              "#9c179e"
             ],
             [
              0.4444444444444444,
              "#bd3786"
             ],
             [
              0.5555555555555556,
              "#d8576b"
             ],
             [
              0.6666666666666666,
              "#ed7953"
             ],
             [
              0.7777777777777778,
              "#fb9f3a"
             ],
             [
              0.8888888888888888,
              "#fdca26"
             ],
             [
              1,
              "#f0f921"
             ]
            ],
            "type": "contour"
           }
          ],
          "contourcarpet": [
           {
            "colorbar": {
             "outlinewidth": 0,
             "ticks": ""
            },
            "type": "contourcarpet"
           }
          ],
          "heatmap": [
           {
            "colorbar": {
             "outlinewidth": 0,
             "ticks": ""
            },
            "colorscale": [
             [
              0,
              "#0d0887"
             ],
             [
              0.1111111111111111,
              "#46039f"
             ],
             [
              0.2222222222222222,
              "#7201a8"
             ],
             [
              0.3333333333333333,
              "#9c179e"
             ],
             [
              0.4444444444444444,
              "#bd3786"
             ],
             [
              0.5555555555555556,
              "#d8576b"
             ],
             [
              0.6666666666666666,
              "#ed7953"
             ],
             [
              0.7777777777777778,
              "#fb9f3a"
             ],
             [
              0.8888888888888888,
              "#fdca26"
             ],
             [
              1,
              "#f0f921"
             ]
            ],
            "type": "heatmap"
           }
          ],
          "heatmapgl": [
           {
            "colorbar": {
             "outlinewidth": 0,
             "ticks": ""
            },
            "colorscale": [
             [
              0,
              "#0d0887"
             ],
             [
              0.1111111111111111,
              "#46039f"
             ],
             [
              0.2222222222222222,
              "#7201a8"
             ],
             [
              0.3333333333333333,
              "#9c179e"
             ],
             [
              0.4444444444444444,
              "#bd3786"
             ],
             [
              0.5555555555555556,
              "#d8576b"
             ],
             [
              0.6666666666666666,
              "#ed7953"
             ],
             [
              0.7777777777777778,
              "#fb9f3a"
             ],
             [
              0.8888888888888888,
              "#fdca26"
             ],
             [
              1,
              "#f0f921"
             ]
            ],
            "type": "heatmapgl"
           }
          ],
          "histogram": [
           {
            "marker": {
             "pattern": {
              "fillmode": "overlay",
              "size": 10,
              "solidity": 0.2
             }
            },
            "type": "histogram"
           }
          ],
          "histogram2d": [
           {
            "colorbar": {
             "outlinewidth": 0,
             "ticks": ""
            },
            "colorscale": [
             [
              0,
              "#0d0887"
             ],
             [
              0.1111111111111111,
              "#46039f"
             ],
             [
              0.2222222222222222,
              "#7201a8"
             ],
             [
              0.3333333333333333,
              "#9c179e"
             ],
             [
              0.4444444444444444,
              "#bd3786"
             ],
             [
              0.5555555555555556,
              "#d8576b"
             ],
             [
              0.6666666666666666,
              "#ed7953"
             ],
             [
              0.7777777777777778,
              "#fb9f3a"
             ],
             [
              0.8888888888888888,
              "#fdca26"
             ],
             [
              1,
              "#f0f921"
             ]
            ],
            "type": "histogram2d"
           }
          ],
          "histogram2dcontour": [
           {
            "colorbar": {
             "outlinewidth": 0,
             "ticks": ""
            },
            "colorscale": [
             [
              0,
              "#0d0887"
             ],
             [
              0.1111111111111111,
              "#46039f"
             ],
             [
              0.2222222222222222,
              "#7201a8"
             ],
             [
              0.3333333333333333,
              "#9c179e"
             ],
             [
              0.4444444444444444,
              "#bd3786"
             ],
             [
              0.5555555555555556,
              "#d8576b"
             ],
             [
              0.6666666666666666,
              "#ed7953"
             ],
             [
              0.7777777777777778,
              "#fb9f3a"
             ],
             [
              0.8888888888888888,
              "#fdca26"
             ],
             [
              1,
              "#f0f921"
             ]
            ],
            "type": "histogram2dcontour"
           }
          ],
          "mesh3d": [
           {
            "colorbar": {
             "outlinewidth": 0,
             "ticks": ""
            },
            "type": "mesh3d"
           }
          ],
          "parcoords": [
           {
            "line": {
             "colorbar": {
              "outlinewidth": 0,
              "ticks": ""
             }
            },
            "type": "parcoords"
           }
          ],
          "pie": [
           {
            "automargin": true,
            "type": "pie"
           }
          ],
          "scatter": [
           {
            "fillpattern": {
             "fillmode": "overlay",
             "size": 10,
             "solidity": 0.2
            },
            "type": "scatter"
           }
          ],
          "scatter3d": [
           {
            "line": {
             "colorbar": {
              "outlinewidth": 0,
              "ticks": ""
             }
            },
            "marker": {
             "colorbar": {
              "outlinewidth": 0,
              "ticks": ""
             }
            },
            "type": "scatter3d"
           }
          ],
          "scattercarpet": [
           {
            "marker": {
             "colorbar": {
              "outlinewidth": 0,
              "ticks": ""
             }
            },
            "type": "scattercarpet"
           }
          ],
          "scattergeo": [
           {
            "marker": {
             "colorbar": {
              "outlinewidth": 0,
              "ticks": ""
             }
            },
            "type": "scattergeo"
           }
          ],
          "scattergl": [
           {
            "marker": {
             "colorbar": {
              "outlinewidth": 0,
              "ticks": ""
             }
            },
            "type": "scattergl"
           }
          ],
          "scattermapbox": [
           {
            "marker": {
             "colorbar": {
              "outlinewidth": 0,
              "ticks": ""
             }
            },
            "type": "scattermapbox"
           }
          ],
          "scatterpolar": [
           {
            "marker": {
             "colorbar": {
              "outlinewidth": 0,
              "ticks": ""
             }
            },
            "type": "scatterpolar"
           }
          ],
          "scatterpolargl": [
           {
            "marker": {
             "colorbar": {
              "outlinewidth": 0,
              "ticks": ""
             }
            },
            "type": "scatterpolargl"
           }
          ],
          "scatterternary": [
           {
            "marker": {
             "colorbar": {
              "outlinewidth": 0,
              "ticks": ""
             }
            },
            "type": "scatterternary"
           }
          ],
          "surface": [
           {
            "colorbar": {
             "outlinewidth": 0,
             "ticks": ""
            },
            "colorscale": [
             [
              0,
              "#0d0887"
             ],
             [
              0.1111111111111111,
              "#46039f"
             ],
             [
              0.2222222222222222,
              "#7201a8"
             ],
             [
              0.3333333333333333,
              "#9c179e"
             ],
             [
              0.4444444444444444,
              "#bd3786"
             ],
             [
              0.5555555555555556,
              "#d8576b"
             ],
             [
              0.6666666666666666,
              "#ed7953"
             ],
             [
              0.7777777777777778,
              "#fb9f3a"
             ],
             [
              0.8888888888888888,
              "#fdca26"
             ],
             [
              1,
              "#f0f921"
             ]
            ],
            "type": "surface"
           }
          ],
          "table": [
           {
            "cells": {
             "fill": {
              "color": "#EBF0F8"
             },
             "line": {
              "color": "white"
             }
            },
            "header": {
             "fill": {
              "color": "#C8D4E3"
             },
             "line": {
              "color": "white"
             }
            },
            "type": "table"
           }
          ]
         },
         "layout": {
          "annotationdefaults": {
           "arrowcolor": "#2a3f5f",
           "arrowhead": 0,
           "arrowwidth": 1
          },
          "autotypenumbers": "strict",
          "coloraxis": {
           "colorbar": {
            "outlinewidth": 0,
            "ticks": ""
           }
          },
          "colorscale": {
           "diverging": [
            [
             0,
             "#8e0152"
            ],
            [
             0.1,
             "#c51b7d"
            ],
            [
             0.2,
             "#de77ae"
            ],
            [
             0.3,
             "#f1b6da"
            ],
            [
             0.4,
             "#fde0ef"
            ],
            [
             0.5,
             "#f7f7f7"
            ],
            [
             0.6,
             "#e6f5d0"
            ],
            [
             0.7,
             "#b8e186"
            ],
            [
             0.8,
             "#7fbc41"
            ],
            [
             0.9,
             "#4d9221"
            ],
            [
             1,
             "#276419"
            ]
           ],
           "sequential": [
            [
             0,
             "#0d0887"
            ],
            [
             0.1111111111111111,
             "#46039f"
            ],
            [
             0.2222222222222222,
             "#7201a8"
            ],
            [
             0.3333333333333333,
             "#9c179e"
            ],
            [
             0.4444444444444444,
             "#bd3786"
            ],
            [
             0.5555555555555556,
             "#d8576b"
            ],
            [
             0.6666666666666666,
             "#ed7953"
            ],
            [
             0.7777777777777778,
             "#fb9f3a"
            ],
            [
             0.8888888888888888,
             "#fdca26"
            ],
            [
             1,
             "#f0f921"
            ]
           ],
           "sequentialminus": [
            [
             0,
             "#0d0887"
            ],
            [
             0.1111111111111111,
             "#46039f"
            ],
            [
             0.2222222222222222,
             "#7201a8"
            ],
            [
             0.3333333333333333,
             "#9c179e"
            ],
            [
             0.4444444444444444,
             "#bd3786"
            ],
            [
             0.5555555555555556,
             "#d8576b"
            ],
            [
             0.6666666666666666,
             "#ed7953"
            ],
            [
             0.7777777777777778,
             "#fb9f3a"
            ],
            [
             0.8888888888888888,
             "#fdca26"
            ],
            [
             1,
             "#f0f921"
            ]
           ]
          },
          "colorway": [
           "#636efa",
           "#EF553B",
           "#00cc96",
           "#ab63fa",
           "#FFA15A",
           "#19d3f3",
           "#FF6692",
           "#B6E880",
           "#FF97FF",
           "#FECB52"
          ],
          "font": {
           "color": "#2a3f5f"
          },
          "geo": {
           "bgcolor": "white",
           "lakecolor": "white",
           "landcolor": "#E5ECF6",
           "showlakes": true,
           "showland": true,
           "subunitcolor": "white"
          },
          "hoverlabel": {
           "align": "left"
          },
          "hovermode": "closest",
          "mapbox": {
           "style": "light"
          },
          "paper_bgcolor": "white",
          "plot_bgcolor": "#E5ECF6",
          "polar": {
           "angularaxis": {
            "gridcolor": "white",
            "linecolor": "white",
            "ticks": ""
           },
           "bgcolor": "#E5ECF6",
           "radialaxis": {
            "gridcolor": "white",
            "linecolor": "white",
            "ticks": ""
           }
          },
          "scene": {
           "xaxis": {
            "backgroundcolor": "#E5ECF6",
            "gridcolor": "white",
            "gridwidth": 2,
            "linecolor": "white",
            "showbackground": true,
            "ticks": "",
            "zerolinecolor": "white"
           },
           "yaxis": {
            "backgroundcolor": "#E5ECF6",
            "gridcolor": "white",
            "gridwidth": 2,
            "linecolor": "white",
            "showbackground": true,
            "ticks": "",
            "zerolinecolor": "white"
           },
           "zaxis": {
            "backgroundcolor": "#E5ECF6",
            "gridcolor": "white",
            "gridwidth": 2,
            "linecolor": "white",
            "showbackground": true,
            "ticks": "",
            "zerolinecolor": "white"
           }
          },
          "shapedefaults": {
           "line": {
            "color": "#2a3f5f"
           }
          },
          "ternary": {
           "aaxis": {
            "gridcolor": "white",
            "linecolor": "white",
            "ticks": ""
           },
           "baxis": {
            "gridcolor": "white",
            "linecolor": "white",
            "ticks": ""
           },
           "bgcolor": "#E5ECF6",
           "caxis": {
            "gridcolor": "white",
            "linecolor": "white",
            "ticks": ""
           }
          },
          "title": {
           "x": 0.05
          },
          "xaxis": {
           "automargin": true,
           "gridcolor": "white",
           "linecolor": "white",
           "ticks": "",
           "title": {
            "standoff": 15
           },
           "zerolinecolor": "white",
           "zerolinewidth": 2
          },
          "yaxis": {
           "automargin": true,
           "gridcolor": "white",
           "linecolor": "white",
           "ticks": "",
           "title": {
            "standoff": 15
           },
           "zerolinecolor": "white",
           "zerolinewidth": 2
          }
         }
        },
        "xaxis": {
         "categoryorder": "category ascending"
        }
       }
      }
     },
     "metadata": {},
     "output_type": "display_data"
    }
   ],
   "source": [
    "import plotly.graph_objects as go\n",
    "\n",
    "x=['old', 'new']\n",
    "fig = go.Figure(go.Bar(x=x, y=[825, 107], name='Male Only'))\n",
    "fig.add_trace(go.Bar(x=x, y=[1109, 698], name='Male & Missing'))\n",
    "fig.add_trace(go.Bar(x=x, y=[29, 144], name='Female Only'))\n",
    "fig.add_trace(go.Bar(x=x, y=[22, 47], name='Female & Missing'))\n",
    "fig.add_trace(go.Bar(x=x, y=[893, 671], name='Mixed Gender'))\n",
    "\n",
    "fig.update_layout(barmode='stack', xaxis={'categoryorder':'category ascending'})\n",
    "fig.show()"
   ]
  },
  {
   "cell_type": "code",
   "execution_count": 161,
   "metadata": {},
   "outputs": [
    {
     "data": {
      "text/plain": [
       "Text(0.5, 1.0, 'how the composition of the collection changes before and after 1980 for collectives')"
      ]
     },
     "execution_count": 161,
     "metadata": {},
     "output_type": "execute_result"
    },
    {
     "data": {
      "image/png": "[encoded data removed]",
      "text/plain": [
       "<Figure size 1080x576 with 1 Axes>"
      ]
     },
     "metadata": {
      "needs_background": "light"
     },
     "output_type": "display_data"
    }
   ],
   "source": [
    "#set the index\n",
    "moma_gender_counts_final.plot(kind='bar', stacked=True, color=['blue', 'cyan', 'pink', 'purple', 'green'], figsize=(15,8))\n",
    "# title and size of plot\n",
    "plt.title('how the composition of the collection changes before and after 1980 for collectives')"
   ]
  },
  {
   "cell_type": "markdown",
   "metadata": {},
   "source": [
    "CATEGORICAL VALUE OVER TIME ACROSS TWO DATASETS"
   ]
  },
  {
   "cell_type": "code",
   "execution_count": 165,
   "metadata": {},
   "outputs": [
    {
     "data": {
      "text/plain": [
       "Text(0, 0.5, 'Rhizome')"
      ]
     },
     "execution_count": 165,
     "metadata": {},
     "output_type": "execute_result"
    },
    {
     "data": {
      "image/png": "[encoded data removed]",
      "text/plain": [
       "<Figure size 1080x576 with 2 Axes>"
      ]
     },
     "metadata": {
      "needs_background": "light"
     },
     "output_type": "display_data"
    }
   ],
   "source": [
    "#FEMALE ARTISTS ACQUISITION comparison across datasets, over time (date acquired)\n",
    "\n",
    "#reuse existing filters and drops the Males\n",
    "moma_new_gender_artworks_2 = moma_new_gender_artworks.drop('Male Artists', axis=1)\n",
    "moma_new_gender_artworks_2 = moma_new_gender_artworks_2[20:40]\n",
    "rhizome_gender_artworks_2 = rhizome_gender_artworks.drop('Male Artists', axis=1)\n",
    "female_acquired = pd.merge(moma_new_gender_artworks_2, rhizome_gender_artworks_2, on='Date Acquired', how='outer')\n",
    "female_acquired = female_acquired.fillna('0')\n",
    "female_acquired = female_acquired.astype(int)\n",
    "female_acquired = female_acquired.sort_values(by='Date Acquired')\n",
    "\n",
    "x = female_acquired['Date Acquired']\n",
    "y1 = female_acquired['Female Artists_x']\n",
    "y2 = female_acquired['Female Artists_y']\n",
    "f, axes = plt.subplots(2, 1, figsize=(15,8))\n",
    "axes[0].plot(x, y1)\n",
    "axes[0].set_ylabel('MoMA')\n",
    "\n",
    "axes[1].plot(x, y2)\n",
    "axes[1].set_ylabel('Rhizome')"
   ]
  },
  {
   "cell_type": "markdown",
   "metadata": {},
   "source": [
    "COMPARISON OF CAT VALUE BTW TWO DATASETS"
   ]
  },
  {
   "cell_type": "code",
   "execution_count": 185,
   "metadata": {},
   "outputs": [],
   "source": [
    "moma_genders = moma_artists.copy()\n",
    "moma_genders = moma_genders.sample(n=1301)\n",
    "moma_genders = moma_genders.reset_index(drop=True)\n",
    "moma_genders = moma_genders[['Gender']]\n",
    "moma_genders['Source'] = 'MoMA'\n",
    "rhizome_genders = rhz_artists.copy()\n",
    "rhizome_genders = rhizome_genders[['Gender']]\n",
    "rhizome_genders['Source'] = 'Rhizome'\n",
    "frames = [moma_genders, rhizome_genders]\n",
    "combined = pd.concat(frames, axis=0)\n",
    "combined = combined.reset_index(drop=True)\n",
    "combined"
   ]
  },
  {
   "cell_type": "code",
   "execution_count": 188,
   "metadata": {},
   "outputs": [
    {
     "data": {
      "text/html": [
       "<div>\n",
       "<style scoped>\n",
       "    .dataframe tbody tr th:only-of-type {\n",
       "        vertical-align: middle;\n",
       "    }\n",
       "\n",
       "    .dataframe tbody tr th {\n",
       "        vertical-align: top;\n",
       "    }\n",
       "\n",
       "    .dataframe thead th {\n",
       "        text-align: right;\n",
       "    }\n",
       "</style>\n",
       "<table border=\"1\" class=\"dataframe\">\n",
       "  <thead>\n",
       "    <tr style=\"text-align: right;\">\n",
       "      <th></th>\n",
       "      <th>Gender</th>\n",
       "      <th>Source</th>\n",
       "    </tr>\n",
       "  </thead>\n",
       "  <tbody>\n",
       "    <tr>\n",
       "      <th>0</th>\n",
       "      <td>M</td>\n",
       "      <td>MoMA</td>\n",
       "    </tr>\n",
       "    <tr>\n",
       "      <th>1</th>\n",
       "      <td>M</td>\n",
       "      <td>MoMA</td>\n",
       "    </tr>\n",
       "    <tr>\n",
       "      <th>2</th>\n",
       "      <td>F</td>\n",
       "      <td>MoMA</td>\n",
       "    </tr>\n",
       "    <tr>\n",
       "      <th>3</th>\n",
       "      <td>M</td>\n",
       "      <td>MoMA</td>\n",
       "    </tr>\n",
       "    <tr>\n",
       "      <th>4</th>\n",
       "      <td>missing</td>\n",
       "      <td>MoMA</td>\n",
       "    </tr>\n",
       "    <tr>\n",
       "      <th>...</th>\n",
       "      <td>...</td>\n",
       "      <td>...</td>\n",
       "    </tr>\n",
       "    <tr>\n",
       "      <th>2595</th>\n",
       "      <td>M</td>\n",
       "      <td>Rhizome</td>\n",
       "    </tr>\n",
       "    <tr>\n",
       "      <th>2596</th>\n",
       "      <td>missing</td>\n",
       "      <td>Rhizome</td>\n",
       "    </tr>\n",
       "    <tr>\n",
       "      <th>2597</th>\n",
       "      <td>F</td>\n",
       "      <td>Rhizome</td>\n",
       "    </tr>\n",
       "    <tr>\n",
       "      <th>2598</th>\n",
       "      <td>M</td>\n",
       "      <td>Rhizome</td>\n",
       "    </tr>\n",
       "    <tr>\n",
       "      <th>2599</th>\n",
       "      <td>missing</td>\n",
       "      <td>Rhizome</td>\n",
       "    </tr>\n",
       "  </tbody>\n",
       "</table>\n",
       "<p>2600 rows × 2 columns</p>\n",
       "</div>"
      ],
      "text/plain": [
       "       Gender   Source\n",
       "0           M     MoMA\n",
       "1           M     MoMA\n",
       "2           F     MoMA\n",
       "3           M     MoMA\n",
       "4     missing     MoMA\n",
       "...       ...      ...\n",
       "2595        M  Rhizome\n",
       "2596  missing  Rhizome\n",
       "2597        F  Rhizome\n",
       "2598        M  Rhizome\n",
       "2599  missing  Rhizome\n",
       "\n",
       "[2600 rows x 2 columns]"
      ]
     },
     "execution_count": 188,
     "metadata": {},
     "output_type": "execute_result"
    }
   ],
   "source": [
    "combined"
   ]
  },
  {
   "cell_type": "code",
   "execution_count": 187,
   "metadata": {},
   "outputs": [
    {
     "data": {
      "text/plain": [
       "<seaborn.axisgrid.FacetGrid at 0x2a05a2e00>"
      ]
     },
     "execution_count": 187,
     "metadata": {},
     "output_type": "execute_result"
    },
    {
     "data": {
      "image/png": "[encoded data removed]",
      "text/plain": [
       "<Figure size 439x360 with 1 Axes>"
      ]
     },
     "metadata": {
      "needs_background": "light"
     },
     "output_type": "display_data"
    }
   ],
   "source": [
    "sns.catplot(x='Gender', kind='count', hue='Source', data=combined)"
   ]
  },
  {
   "cell_type": "markdown",
   "metadata": {},
   "source": [
    "COMPARISON OF TWO CAT VALUES OVER MULTIPLE CAT VALUES "
   ]
  },
  {
   "cell_type": "code",
   "execution_count": 190,
   "metadata": {},
   "outputs": [
    {
     "data": {
      "text/html": [
       "<div>\n",
       "<style scoped>\n",
       "    .dataframe tbody tr th:only-of-type {\n",
       "        vertical-align: middle;\n",
       "    }\n",
       "\n",
       "    .dataframe tbody tr th {\n",
       "        vertical-align: top;\n",
       "    }\n",
       "\n",
       "    .dataframe thead th {\n",
       "        text-align: right;\n",
       "    }\n",
       "</style>\n",
       "<table border=\"1\" class=\"dataframe\">\n",
       "  <thead>\n",
       "    <tr style=\"text-align: right;\">\n",
       "      <th></th>\n",
       "      <th>Male Artists</th>\n",
       "      <th>Female Artists</th>\n",
       "    </tr>\n",
       "    <tr>\n",
       "      <th>Medium</th>\n",
       "      <th></th>\n",
       "      <th></th>\n",
       "    </tr>\n",
       "  </thead>\n",
       "  <tbody>\n",
       "    <tr>\n",
       "      <th>Gelatin silver print</th>\n",
       "      <td>1806</td>\n",
       "      <td>254</td>\n",
       "    </tr>\n",
       "    <tr>\n",
       "      <th>Chromogenic color print</th>\n",
       "      <td>648</td>\n",
       "      <td>310</td>\n",
       "    </tr>\n",
       "    <tr>\n",
       "      <th>Pigmented inkjet print</th>\n",
       "      <td>279</td>\n",
       "      <td>171</td>\n",
       "    </tr>\n",
       "    <tr>\n",
       "      <th>Page with chromogenic color print and text</th>\n",
       "      <td>125</td>\n",
       "      <td>0</td>\n",
       "    </tr>\n",
       "    <tr>\n",
       "      <th>Silver dye bleach print</th>\n",
       "      <td>66</td>\n",
       "      <td>39</td>\n",
       "    </tr>\n",
       "    <tr>\n",
       "      <th>...</th>\n",
       "      <td>...</td>\n",
       "      <td>...</td>\n",
       "    </tr>\n",
       "    <tr>\n",
       "      <th>Chromogenic color print (Digital exposure to Fujiflex paper)</th>\n",
       "      <td>0</td>\n",
       "      <td>1</td>\n",
       "    </tr>\n",
       "    <tr>\n",
       "      <th>Four pigmented inkjet prints</th>\n",
       "      <td>0</td>\n",
       "      <td>1</td>\n",
       "    </tr>\n",
       "    <tr>\n",
       "      <th>Silver dye bleach print, printed 2009</th>\n",
       "      <td>0</td>\n",
       "      <td>1</td>\n",
       "    </tr>\n",
       "    <tr>\n",
       "      <th>100 gelatin silver prints</th>\n",
       "      <td>0</td>\n",
       "      <td>1</td>\n",
       "    </tr>\n",
       "    <tr>\n",
       "      <th>Eighteen color instant prints (Polaroids) and eighteen engraved plastic plaques</th>\n",
       "      <td>0</td>\n",
       "      <td>1</td>\n",
       "    </tr>\n",
       "  </tbody>\n",
       "</table>\n",
       "<p>346 rows × 2 columns</p>\n",
       "</div>"
      ],
      "text/plain": [
       "                                                    Male Artists  \\\n",
       "Medium                                                             \n",
       "Gelatin silver print                                        1806   \n",
       "Chromogenic color print                                      648   \n",
       "Pigmented inkjet print                                       279   \n",
       "Page with chromogenic color print and text                   125   \n",
       "Silver dye bleach print                                       66   \n",
       "...                                                          ...   \n",
       "Chromogenic color print (Digital exposure to Fu...             0   \n",
       "Four pigmented inkjet prints                                   0   \n",
       "Silver dye bleach print, printed 2009                          0   \n",
       "100 gelatin silver prints                                      0   \n",
       "Eighteen color instant prints (Polaroids) and e...             0   \n",
       "\n",
       "                                                    Female Artists  \n",
       "Medium                                                              \n",
       "Gelatin silver print                                           254  \n",
       "Chromogenic color print                                        310  \n",
       "Pigmented inkjet print                                         171  \n",
       "Page with chromogenic color print and text                       0  \n",
       "Silver dye bleach print                                         39  \n",
       "...                                                            ...  \n",
       "Chromogenic color print (Digital exposure to Fu...               1  \n",
       "Four pigmented inkjet prints                                     1  \n",
       "Silver dye bleach print, printed 2009                            1  \n",
       "100 gelatin silver prints                                        1  \n",
       "Eighteen color instant prints (Polaroids) and e...               1  \n",
       "\n",
       "[346 rows x 2 columns]"
      ]
     },
     "execution_count": 190,
     "metadata": {},
     "output_type": "execute_result"
    }
   ],
   "source": [
    "moma_photo = moma_artworks_new[moma_artworks_new['Department'] == 'Photography']\n",
    "moma_medium_male = moma_photo.loc[moma_photo['Gender'] == 'M']\n",
    "moma_medium_male = moma_medium_male['Medium'].value_counts().rename_axis('Medium').reset_index(name='Male Artists')\n",
    "moma_medium_female = moma_photo.loc[moma_photo['Gender'] == 'F']\n",
    "moma_medium_female = moma_medium_female['Medium'].value_counts().rename_axis('Medium').reset_index(name='Female Artists')\n",
    "moma_medium_pyramid = pd.merge(moma_medium_male, moma_medium_female, on='Medium', how='outer')\n",
    "moma_medium_pyramid = moma_medium_pyramid.fillna('0')\n",
    "moma_medium_pyramid['Male Artists'] = moma_medium_pyramid['Male Artists'].astype(int)\n",
    "moma_medium_pyramid['Female Artists'] = moma_medium_pyramid['Female Artists'].astype(int)\n",
    "moma_medium_pyramid = moma_medium_pyramid.reset_index(drop=True)\n",
    "moma_medium_pyramid = moma_medium_pyramid.set_index('Medium')\n",
    "moma_medium_pyramid"
   ]
  },
  {
   "cell_type": "code",
   "execution_count": 191,
   "metadata": {},
   "outputs": [
    {
     "data": {
      "text/html": [
       "<div>\n",
       "<style scoped>\n",
       "    .dataframe tbody tr th:only-of-type {\n",
       "        vertical-align: middle;\n",
       "    }\n",
       "\n",
       "    .dataframe tbody tr th {\n",
       "        vertical-align: top;\n",
       "    }\n",
       "\n",
       "    .dataframe thead th {\n",
       "        text-align: right;\n",
       "    }\n",
       "</style>\n",
       "<table border=\"1\" class=\"dataframe\">\n",
       "  <thead>\n",
       "    <tr style=\"text-align: right;\">\n",
       "      <th></th>\n",
       "      <th>Male Artists</th>\n",
       "      <th>Female Artists</th>\n",
       "    </tr>\n",
       "    <tr>\n",
       "      <th>Medium</th>\n",
       "      <th></th>\n",
       "      <th></th>\n",
       "    </tr>\n",
       "  </thead>\n",
       "  <tbody>\n",
       "    <tr>\n",
       "      <th>Gelatin silver print</th>\n",
       "      <td>1806</td>\n",
       "      <td>254</td>\n",
       "    </tr>\n",
       "    <tr>\n",
       "      <th>Chromogenic color print</th>\n",
       "      <td>648</td>\n",
       "      <td>310</td>\n",
       "    </tr>\n",
       "    <tr>\n",
       "      <th>Pigmented inkjet print</th>\n",
       "      <td>279</td>\n",
       "      <td>171</td>\n",
       "    </tr>\n",
       "    <tr>\n",
       "      <th>Silver dye bleach print</th>\n",
       "      <td>66</td>\n",
       "      <td>39</td>\n",
       "    </tr>\n",
       "    <tr>\n",
       "      <th>Pigmented inkjet prints</th>\n",
       "      <td>49</td>\n",
       "      <td>6</td>\n",
       "    </tr>\n",
       "    <tr>\n",
       "      <th>Color instant print (Polaroid)</th>\n",
       "      <td>27</td>\n",
       "      <td>4</td>\n",
       "    </tr>\n",
       "    <tr>\n",
       "      <th>Gelatin silver print, printed 1996</th>\n",
       "      <td>17</td>\n",
       "      <td>3</td>\n",
       "    </tr>\n",
       "    <tr>\n",
       "      <th>Gelatin silver prints</th>\n",
       "      <td>16</td>\n",
       "      <td>8</td>\n",
       "    </tr>\n",
       "    <tr>\n",
       "      <th>Gelatin silver print, printed 2016</th>\n",
       "      <td>10</td>\n",
       "      <td>3</td>\n",
       "    </tr>\n",
       "    <tr>\n",
       "      <th>Chromogenic color prints</th>\n",
       "      <td>10</td>\n",
       "      <td>13</td>\n",
       "    </tr>\n",
       "    <tr>\n",
       "      <th>Gelatin silver print (toned)</th>\n",
       "      <td>7</td>\n",
       "      <td>3</td>\n",
       "    </tr>\n",
       "    <tr>\n",
       "      <th>Platinum print</th>\n",
       "      <td>6</td>\n",
       "      <td>12</td>\n",
       "    </tr>\n",
       "    <tr>\n",
       "      <th>Platinum/palladium print</th>\n",
       "      <td>6</td>\n",
       "      <td>18</td>\n",
       "    </tr>\n",
       "    <tr>\n",
       "      <th>Three gelatin silver prints</th>\n",
       "      <td>4</td>\n",
       "      <td>3</td>\n",
       "    </tr>\n",
       "    <tr>\n",
       "      <th>Pigmented inkjet print, printed 2012</th>\n",
       "      <td>4</td>\n",
       "      <td>4</td>\n",
       "    </tr>\n",
       "    <tr>\n",
       "      <th>Gelatin silver print, printed 1986</th>\n",
       "      <td>3</td>\n",
       "      <td>4</td>\n",
       "    </tr>\n",
       "    <tr>\n",
       "      <th>Gelatin silver print (selenium-toned)</th>\n",
       "      <td>2</td>\n",
       "      <td>2</td>\n",
       "    </tr>\n",
       "  </tbody>\n",
       "</table>\n",
       "</div>"
      ],
      "text/plain": [
       "                                       Male Artists  Female Artists\n",
       "Medium                                                             \n",
       "Gelatin silver print                           1806             254\n",
       "Chromogenic color print                         648             310\n",
       "Pigmented inkjet print                          279             171\n",
       "Silver dye bleach print                          66              39\n",
       "Pigmented inkjet prints                          49               6\n",
       "Color instant print (Polaroid)                   27               4\n",
       "Gelatin silver print, printed 1996               17               3\n",
       "Gelatin silver prints                            16               8\n",
       "Gelatin silver print, printed 2016               10               3\n",
       "Chromogenic color prints                         10              13\n",
       "Gelatin silver print (toned)                      7               3\n",
       "Platinum print                                    6              12\n",
       "Platinum/palladium print                          6              18\n",
       "Three gelatin silver prints                       4               3\n",
       "Pigmented inkjet print, printed 2012              4               4\n",
       "Gelatin silver print, printed 1986                3               4\n",
       "Gelatin silver print (selenium-toned)             2               2"
      ]
     },
     "execution_count": 191,
     "metadata": {},
     "output_type": "execute_result"
    }
   ],
   "source": [
    "moma_medium_pyramid = moma_medium_pyramid[moma_medium_pyramid['Male Artists'] > 1]\n",
    "moma_medium_pyramid = moma_medium_pyramid[moma_medium_pyramid['Female Artists'] > 1]\n",
    "moma_medium_pyramid"
   ]
  },
  {
   "cell_type": "code",
   "execution_count": 192,
   "metadata": {},
   "outputs": [],
   "source": [
    "font_color = '#525252'\n",
    "hfont = {'fontname':'Calibri'}\n",
    "facecolor = '#eaeaf2'\n",
    "color_red = '#fd625e'\n",
    "color_blue = '#01b8aa'\n",
    "index = moma_medium_pyramid.index\n",
    "column0 = moma_medium_pyramid['Male Artists']\n",
    "column1 = moma_medium_pyramid['Female Artists']\n",
    "title0 = 'Male Artists'\n",
    "title1 = 'Female Artists'"
   ]
  },
  {
   "cell_type": "code",
   "execution_count": 193,
   "metadata": {},
   "outputs": [
    {
     "name": "stderr",
     "output_type": "stream",
     "text": [
      "findfont: Font family ['Calibri'] not found. Falling back to DejaVu Sans.\n",
      "findfont: Font family ['Calibri'] not found. Falling back to DejaVu Sans.\n"
     ]
    },
    {
     "data": {
      "image/png": "[encoded data removed]",
      "text/plain": [
       "<Figure size 1152x576 with 2 Axes>"
      ]
     },
     "metadata": {},
     "output_type": "display_data"
    }
   ],
   "source": [
    "fig, axes = plt.subplots(figsize=(16,8), facecolor=facecolor, ncols=2, sharey=True)\n",
    "fig.tight_layout()\n",
    "axes[0].barh(index, column0, align='center', color=color_red, zorder=30)\n",
    "axes[0].set_title(title0, fontsize=18, pad=15, color=color_red, **hfont)\n",
    "axes[1].barh(index, column1, align='center', color=color_blue, zorder=30)\n",
    "axes[1].set_title(title1, fontsize=18, pad=15, color=color_blue, **hfont)\n",
    "# If you have positive numbers and want to invert the x-axis of the left plot\n",
    "axes[0].invert_xaxis() \n",
    "# To show data from highest to lowest\n",
    "plt.gca().invert_yaxis()\n",
    "axes[0].set(yticks=moma_medium_pyramid.index, yticklabels=moma_medium_pyramid.index)\n",
    "axes[0].yaxis.tick_left()\n",
    "axes[0].tick_params(axis='y', colors='red') # tick color\n",
    "#axes[1].set_xticks([0, 100, 200, 300, 400])\n",
    "for label in (axes[0].get_xticklabels() + axes[0].get_yticklabels()):\n",
    "    label.set(fontsize=13, color=font_color, **hfont)\n",
    "for label in (axes[1].get_xticklabels() + axes[1].get_yticklabels()):\n",
    "    label.set(fontsize=13, color=font_color, **hfont)\n",
    "plt.subplots_adjust(wspace=0, top=0.85, bottom=0.1, left=0.18, right=0.95)"
   ]
  }
 ],
 "metadata": {
  "interpreter": {
   "hash": "aee8b7b246df8f9039afb4144a1f6fd8d2ca17a180786b69acc140d282b71a49"
  },
  "kernelspec": {
   "display_name": "Python 3.10.4 64-bit",
   "language": "python",
   "name": "python3"
  },
  "language_info": {
   "codemirror_mode": {
    "name": "ipython",
    "version": 3
   },
   "file_extension": ".py",
   "mimetype": "text/x-python",
   "name": "python",
   "nbconvert_exporter": "python",
   "pygments_lexer": "ipython3",
   "version": "3.10.4"
  },
  "orig_nbformat": 4
 },
 "nbformat": 4,
 "nbformat_minor": 2
}
