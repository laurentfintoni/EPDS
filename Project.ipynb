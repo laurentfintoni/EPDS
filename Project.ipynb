{
 "cells": [
  {
   "cell_type": "markdown",
   "metadata": {},
   "source": [
    "**What we did until now:**\n",
    "1. Download MoMA's data dumps of Artists and Artworks from their [GitHub repository](https://github.com/MuseumofModernArt/collection)\n",
    "2. Download Rhizome's artists dataset, from thei [SPARQL endpoint](https://artbase.rhizome.org/wiki/Query) distinguishing between artists in Artbase and Artists bith in Artbase and wikidata\n",
    "3. develope a filtering function to clean the MoMA's Artworks collection in order to narrow it and find artists similar to those ledgered in Rhizome and solve scalability problems between the two data sets"
   ]
  }
 ],
 "metadata": {
  "language_info": {
   "name": "python"
  },
  "orig_nbformat": 4
 },
 "nbformat": 4,
 "nbformat_minor": 2
}
