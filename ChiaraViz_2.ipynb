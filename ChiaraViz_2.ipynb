{
 "cells": [
  {
   "cell_type": "code",
   "execution_count": 264,
   "metadata": {},
   "outputs": [],
   "source": [
    "import seaborn as sns\n",
    "import matplotlib.pyplot as plt\n",
    "import matplotlib.ticker as ticker\n",
    "import pandas as pd\n",
    "import plotly.express as px\n",
    "import plotly.graph_objects as go\n",
    "import numpy as np\n",
    "import plotly.io as pio\n",
    "from wordcloud import *\n",
    "from functools import reduce\n",
    "from PIL import Image\n",
    "pd.set_option('display.max_rows', 200)\n",
    "from statsmodels.graphics.mosaicplot import mosaic\n",
    "from plotly.subplots import make_subplots\n",
    "pio.templates.default = \"simple_white\"\n",
    "import pycountry\n",
    "path = './'\n",
    "\n",
    "#complete DFs\n",
    "rhz_artworks = pd.read_pickle(path+'Rhizome_data/rhizome_artworks_extra.pkl')\n",
    "rhz_artists = pd.read_pickle(path+'Rhizome_data/rhizome_artists_extra.pkl')\n",
    "moma_artists = pd.read_pickle(path+'MOMA_data/pickle/MoMAArtists.pkl')\n",
    "moma_artworks = pd.read_pickle(path+'MOMA_data/pickle/MoMAartworks.pkl')\n",
    "moma_artworks_old =  pd.read_pickle(path+'MOMA_data/pickle/old_artworks.pkl')\n",
    "\n",
    "# moma_artworks_old.loc[:,'DateAcquired'] = moma_artworks_old['DateAcquired'].where((moma_artworks_old['DateAcquired'].str.len() <= 4), moma_artworks_old['DateAcquired'].str[0:4])\n",
    "# moma_artworks_old['DateAcquired'] = moma_artworks_old['DateAcquired'].replace('nan', str('0'))\n",
    "# moma_artworks_old['DateAcquired']=moma_artworks_old['DateAcquired'].astype('int')\n",
    "moma_artworks_new = pd.read_pickle(path+'MOMA_data/pickle/new_artworks.pkl')\n",
    "# moma_artworks_new.loc[:,'DateAcquired'] = moma_artworks_new['DateAcquired'].where((moma_artworks_new['DateAcquired'].str.len() <= 4), moma_artworks_new['DateAcquired'].str[0:4])\n",
    "# moma_artworks_new['DateAcquired'] = moma_artworks_new['DateAcquired'].replace('nan', str('0'))\n",
    "# moma_artworks_new['DateAcquired']=moma_artworks_new['DateAcquired'].astype('int')\n",
    "# moma_artworks = pd.concat([moma_artworks_old, moma_artworks_new])\n",
    "moma_rhz_compare = moma_artworks_new.loc[moma_artworks_new['dateAcquired'] >= 2000]\n",
    "moma_rhz_compare = moma_rhz_compare.loc[moma_rhz_compare['dateCreated'] >= 1983]\n",
    "\n",
    "#MoMA department DFs\n",
    "moma_arch_cont = pd.read_pickle(path+'MOMA_data/pickle/departments/architecture_design_cont.pkl')\n",
    "moma_arch_mod = pd.read_pickle(path+'MOMA_data/pickle/departments/architecture_design_mod.pkl')\n",
    "moma_arch = pd.concat([moma_arch_cont, moma_arch_mod])\n",
    "moma_design_cont = pd.read_pickle(path+'MOMA_data/pickle/departments/architecture_design_img_cont.pkl')\n",
    "moma_design_mod = pd.read_pickle(path+'MOMA_data/pickle/departments/architecture_design_img_mod.pkl')\n",
    "moma_design = pd.concat([moma_design_cont, moma_design_mod])\n",
    "moma_draw_cont = pd.read_pickle(path+'MOMA_data/pickle/departments/draws_prints_cont.pkl')\n",
    "moma_draw_mod = pd.read_pickle(path+'MOMA_data/pickle/departments/draws_prints_mod.pkl')\n",
    "moma_draw = pd.concat([moma_draw_cont, moma_draw_mod]) \n",
    "moma_films_cont = pd.read_pickle(path+'MOMA_data/pickle/departments/films_cont.pkl')\n",
    "moma_films_mod = pd.read_pickle(path+'MOMA_data/pickle/departments/films_mod.pkl')\n",
    "moma_films = pd.concat([moma_films_cont, moma_films_mod]) \n",
    "moma_fluxus_cont = pd.read_pickle(path+'MOMA_data/pickle/departments/fluxus_cont.pkl')\n",
    "moma_fluxus_mod = pd.read_pickle(path+'MOMA_data/pickle/departments/fluxus_mod.pkl')\n",
    "moma_fluxus = pd.concat([moma_fluxus_cont, moma_fluxus_mod]) \n",
    "moma_media_cont = pd.read_pickle(path+'MOMA_data/pickle/departments/media_perf_cont.pkl')\n",
    "moma_media_mod = pd.read_pickle(path+'MOMA_data/pickle/departments/media_perf_mod.pkl')\n",
    "moma_media = pd.concat([moma_media_cont, moma_media_mod]) \n",
    "moma_paint_cont = pd.read_pickle(path+'MOMA_data/pickle/departments/paint_sculp_cont.pkl')\n",
    "moma_paint_mod = pd.read_pickle(path+'MOMA_data/pickle/departments/paint_sculp_mod.pkl')\n",
    "moma_paint = pd.concat([moma_paint_cont, moma_paint_mod]) \n",
    "moma_photo_cont = pd.read_pickle(path+'MOMA_data/pickle/departments/photo_cont.pkl')\n",
    "moma_photo_mod = pd.read_pickle(path+'MOMA_data/pickle/departments/photo_mod.pkl')\n",
    "moma_photo = pd.concat([moma_photo_cont, moma_photo_mod]) \n",
    "\n",
    "#Rhizome with text\n",
    "rhizome_txt_clean = pd.read_pickle(path+'Rhizome_data/rhizome_artworks_extra_text_clean.pkl')\n",
    "rhizome_txt_stop_kw = pd.read_pickle(path+'Rhizome_data/rhizome_artworks_extra_text_clean_stop_keywords.pkl')\n",
    "\n",
    "#MoMA with text\n",
    "moma_arch_cont_text = pd.read_pickle(path+'MOMA_data/pickle/departments/architecture_design_cont_text_final.pkl')\n",
    "moma_arch_mod_text = pd.read_pickle(path+'MOMA_data/pickle/departments/architecture_design_mod_text_only_final.pkl')\n",
    "moma_draw_cont_text = pd.read_pickle(path+'MOMA_data/pickle/departments/draws_prints_cont_text_final.pkl')\n",
    "moma_draw_mod_text = pd.read_pickle(path+'MOMA_data/pickle/departments/draws_prints_mod_text_final.pkl')\n",
    "moma_films_cont_text = pd.read_pickle(path+'MOMA_data/pickle/departments/films_cont_text_final.pkl')\n",
    "moma_films_mod_text = pd.read_pickle(path+'MOMA_data/pickle/departments/films_mod_text_final.pkl')\n",
    "moma_fluxus_cont_text = pd.read_pickle(path+'MOMA_data/pickle/departments/fluxus_cont_text_final.pkl')\n",
    "moma_fluxus_mod_text = pd.read_pickle(path+'MOMA_data/pickle/departments/fluxus_mod_text_final.pkl')\n",
    "moma_media_cont_text = pd.read_pickle(path+'MOMA_data/pickle/departments/media_perf_cont_text_final.pkl')\n",
    "moma_media_mod_text = pd.read_pickle(path+'MOMA_data/pickle/departments/media_perf_mod_text_final.pkl')\n",
    "moma_paint_cont_text = pd.read_pickle(path+'MOMA_data/pickle/departments/paint_sculp_cont_text_final.pkl')\n",
    "moma_paint_mod_text = pd.read_pickle(path+'MOMA_data/pickle/departments/paint_sculp_mod_text_final.pkl')\n",
    "moma_photo_cont_text = pd.read_pickle(path+'MOMA_data/pickle/departments/photo_cont_text_final.pkl')\n",
    "moma_photo_mod_text = pd.read_pickle(path+'MOMA_data/pickle/departments/photo_mod_text_final.pkl')\n",
    "\n",
    "#moma text stop and keywords\n",
    "moma_arch_cont_text_stop = pd.read_pickle(path+'MOMA_data/pickle/departments/architecture_design_cont_text_final_stop.pkl')\n",
    "moma_arch_mod_text_stop = pd.read_pickle(path+'MOMA_data/pickle/departments/architecture_design_mod_text_only_final_stop.pkl')\n",
    "moma_draw_cont_text_stop = pd.read_pickle(path+'MOMA_data/pickle/departments/draws_prints_cont_text_final_stop.pkl')\n",
    "moma_draw_mod_text_stop = pd.read_pickle(path+'MOMA_data/pickle/departments/draws_prints_mod_text_final_stop.pkl')\n",
    "moma_films_cont_text_stop = pd.read_pickle(path+'MOMA_data/pickle/departments/films_cont_text_final_stop.pkl')\n",
    "moma_films_mod_text_stop = pd.read_pickle(path+'MOMA_data/pickle/departments/films_mod_text_final_stop.pkl')\n",
    "moma_media_cont_text_stop = pd.read_pickle(path+'MOMA_data/pickle/departments/media_perf_cont_text_final_stop.pkl')\n",
    "moma_media_mod_text_stop = pd.read_pickle(path+'MOMA_data/pickle/departments/media_perf_mod_text_final_stop.pkl')\n",
    "moma_paint_cont_text_stop = pd.read_pickle(path+'MOMA_data/pickle/departments/paint_sculp_cont_text_final_stop.pkl')\n",
    "moma_paint_mod_text_stop = pd.read_pickle(path+'MOMA_data/pickle/departments/paint_sculp_mod_text_final_stop.pkl')\n",
    "moma_photo_cont_text_stop = pd.read_pickle(path+'MOMA_data/pickle/departments/photo_cont_text_final_stop.pkl')\n",
    "moma_photo_mod_text_stop = pd.read_pickle(path+'MOMA_data/pickle/departments/photo_mod_text_final_stop.pkl')\n",
    "moma_full_text_stop = pd.concat([moma_arch_cont_text_stop, moma_draw_cont_text_stop, moma_draw_mod_text_stop, moma_films_cont_text_stop, moma_films_mod_text_stop, moma_media_cont_text_stop, moma_media_mod_text_stop, moma_paint_cont_text_stop, moma_paint_mod_text_stop, moma_photo_cont_text_stop, moma_photo_mod_text_stop])\n",
    "\n",
    "\n",
    "#additional dfs made for support \n",
    "missing = pd.DataFrame({'Aalborgenser': ['Korean', 'Native American', 'Canadian Inuit'], 'Aalborg': ['Korea', 'United States', 'Canada']})\n",
    "df_natParse = pd.read_csv('https://raw.githubusercontent.com/knowitall/chunkedextractor/master/src/main/resources/edu/knowitall/chunkedextractor/demonyms.csv')\n",
    "correct_country = pd.concat([missing, df_natParse])\n",
    "df_nats_MomaFull = pd.concat([moma_artworks_old,moma_artworks_new])"
   ]
  },
  {
   "cell_type": "code",
   "execution_count": 265,
   "metadata": {},
   "outputs": [],
   "source": [
    "def getDecade(date):\n",
    "    decade = str(date)[:-1]\n",
    "    if decade == '':\n",
    "       decade = '0'\n",
    "    decade_int = int(decade)*10\n",
    "    return decade_int"
   ]
  },
  {
   "cell_type": "code",
   "execution_count": 266,
   "metadata": {},
   "outputs": [],
   "source": [
    "def getContinent(string):\n",
    "    if string in north:\n",
    "        return 'North Globe'\n",
    "    elif string in south:\n",
    "        return 'South Globe'\n",
    "\n",
    "    elif string in Mixed:\n",
    "        return 'Mixed'\n",
    "    else: \n",
    "        'missing'"
   ]
  },
  {
   "cell_type": "code",
   "execution_count": 267,
   "metadata": {},
   "outputs": [],
   "source": [
    "def do_fuzzy_search(country):\n",
    "    try:\n",
    "        result = pycountry.countries.search_fuzzy(country)\n",
    "        return result[0].alpha_3\n",
    "    except:\n",
    "        return np.nan"
   ]
  },
  {
   "cell_type": "code",
   "execution_count": 268,
   "metadata": {},
   "outputs": [],
   "source": [
    "#colorscales\n",
    "momacolorscale = ['#FFC0CB', '#FF69B4', '#DB7093', '#C71585', '#E6E6FA', '#DDA0DD', '#EE82EE', '#9932CC', '#8B008B', '#9370DB', '#483D8B', '#4B0082', '#FA8072', '#DC143C', '#8B0000', '#FF8C00', '#FF4500', '#FFD700', '#FFFF00', '#F0E68C', '#7FFF00', '#32CD32', '#90EE90', '#00FA9A', '#3CB371', '#006400', '#9ACD32', '#6B8E23', '#66CDAA', '#20B2AA', '#5F9EA0', '#4682B4', '#B0C4DE', '#87CEFA', '#6495ED', '#00BFFF', '#1E90FF', '#0000CD', '#191970', '#FFDEAD', '#DEB887', '#BC8F8F', '#DAA520', '#B8860B', '#D2691E', '#8B4513', '#A52A2A', '#F0FFF0', '#708090', '#2F4F4F', '#696969', '#8FBC8F', '#00CED1' ]\n",
    "rhzcolorscale = ['#FFFAFA','#FFC0CB', '#FF69B4', '#DB7093', '#C71585', '#E6E6FA', '#DDA0DD', '#EE82EE', '#9932CC', '#8B008B', '#9370DB', '#483D8B', '#4B0082', '#FA8072', '#DC143C', '#8B0000', '#FF8C00', '#FF4500', '#FFD700', '#FFFF00', '#F0E68C', '#7FFF00', '#32CD32', '#90EE90', '#00FA9A', '#3CB371', '#006400', '#9ACD32', '#6B8E23', '#66CDAA', '#20B2AA', '#5F9EA0', '#4682B4', '#B0C4DE', '#87CEFA', '#6495ED', '#00BFFF', '#1E90FF', '#0000CD', '#191970', '#FFDEAD', '#DEB887', '#BC8F8F', '#DAA520', '#B8860B', '#D2691E', '#8B4513', '#A52A2A', '#F0FFF0', '#708090', '#2F4F4F', '#696969', '#8FBC8F', '#00CED1', '#F0FFF0', '#F0FFFF', '#F5F5DC', '#FFFFF0', '#FFE4E1' ]\n"
   ]
  },
  {
   "cell_type": "code",
   "execution_count": 269,
   "metadata": {},
   "outputs": [],
   "source": [
    "#continents of nats between moma compare e rhizome found typos\n",
    "\n",
    "north= ['Australian','New Zealander','Guatemalan','Canadian', 'Cuban','American', 'American/Canadian','Israeli','Japanese', 'Korean', 'South Korean','Albanian', 'Austrian', 'Belgian', 'British', 'Bulgarian', 'Croatian','Danish', 'Dutch', 'Finnish','French','German','Greek', 'Hungarian','Irish', 'Italian', 'Norwegian','Polish', 'Portuguese', 'Romanian', 'Russian','Scottish','Slovenian', 'Spanish','Swedish','Swiss','Ukrainian','Mexican', 'Turkish']\n",
    "south = ['Argentine', 'Brazilian','Chilean', 'Colombian', 'Salvadoran', 'Uruguayan','Venezuelan''Native American','Bahamian','Algerian',  'Bangladeshi', 'Emirati','Indian', 'Iranian','Chinese','Beninese', 'Cameroonian',  'Congolese','Egyptian','Ethiopian','Filipino''Ivorian', 'Kenyan', 'Moroccan','South African','Sudanese','Zimbabwean','Bosnian']\n",
    "Mixed  = ['Afghan/American', 'Dutch/Brazilian', 'Iranian/Canadian''British/Canadian']\n",
    "Nope = ['Nationality unknown', 'missing']"
   ]
  },
  {
   "cell_type": "code",
   "execution_count": 270,
   "metadata": {},
   "outputs": [],
   "source": [
    "#divide moma by periods \n",
    "moma_artworks_old['Period'] ='Before 1983'\n",
    "moma_artworks_new['Period'] = 'After 1983'\n",
    "\n"
   ]
  },
  {
   "cell_type": "code",
   "execution_count": 271,
   "metadata": {},
   "outputs": [],
   "source": [
    "#make working df for moma complete\n",
    "Moma_by_periods = pd.concat([moma_artworks_old,moma_artworks_new])\n",
    "department = ', '.join(Moma_by_periods.Department)\n",
    "department = list(set(department.split(', ')))\n",
    "df_Moma_by_periods = pd.DataFrame(columns= ['Nationality', 'Department','Period', \"Count\", \"Females\", \"Males\", 'Missing', 'Non-Binary']) \n",
    "\n",
    "OthersMoma = dict()\n",
    "for dep in department:\n",
    "    dep_sub =  Moma_by_periods[Moma_by_periods.Department == dep]  \n",
    "    nats = set(', '.join(dep_sub.Nationality).split(', '))\n",
    "    for nat in nats:\n",
    "        nats_sub = dep_sub[dep_sub.Nationality.str.contains(nat, regex= True, na=False)]\n",
    "        periods = ', '.join(nats_sub.Period)\n",
    "        periods = set(', '.join(nats_sub.Period).split(', '))\n",
    "        for period in periods:\n",
    "            final_sub = nats_sub[nats_sub['Period']==period]\n",
    "            tot = len(final_sub) \n",
    "            period = final_sub.Period.values[0]\n",
    "            f_count = len(final_sub[final_sub.Gender == 'F'])\n",
    "            m_count = len(final_sub[final_sub.Gender == 'M'])\n",
    "            missing_count = len(final_sub[final_sub.Gender == 'missing'])\n",
    "            nonbinary_count = len(final_sub[final_sub.Gender == 'NB'])\n",
    "            # name as others those countries with count less than 5 in a department\n",
    "            if tot < 5:\n",
    "                if dep not in OthersMoma:\n",
    "                    OthersMoma[dep] = set([nat])\n",
    "                else: \n",
    "                    new = OthersMoma[dep]\n",
    "                    new.add(nat)\n",
    "                    OthersMoma[dep] = set(new)\n",
    "                nat = 'Others'\n",
    "            df_Moma_by_periods.loc[len(df_Moma_by_periods.index)] = [nat, dep,period, tot, f_count, m_count, missing_count, nonbinary_count]\n",
    "\n",
    "df_Moma_by_periods = df_Moma_by_periods.groupby(['Nationality','Department', 'Period'],as_index=False).agg({'Count': 'sum','Females': 'sum','Males': 'sum','Missing': 'sum','Non-Binary': 'sum'})\n"
   ]
  },
  {
   "cell_type": "code",
   "execution_count": 272,
   "metadata": {},
   "outputs": [],
   "source": [
    "#make working df for moma comparable\n",
    "nationalities = ', '.join(moma_rhz_compare.Nationality)\n",
    "nationalities = list(set(nationalities.split(', ')))\n",
    "df_Moma_compare = pd.DataFrame(columns= ['Continent','Nationality', 'Department','Source', \"Count\", \"Females\", \"Males\", 'Missing', 'Non-Binary']) \n",
    "\n",
    "OthersMomaComp = dict()\n",
    "for nat in nationalities:\n",
    "    continent = getContinent(nat)\n",
    "    nat_sub =  moma_rhz_compare[moma_rhz_compare.Nationality == nat]   \n",
    "    deps = set(nat_sub.Department)\n",
    "    for department in deps:\n",
    "        dep_sub = nat_sub[nat_sub.Department == department] #look for subset of that departmment inside a nationality\n",
    "        tot = len(dep_sub) \n",
    "        source = 'Moma compare'\n",
    "        f_count = len(dep_sub[dep_sub.Gender == 'F'])\n",
    "        m_count = len(dep_sub[dep_sub.Gender == 'M'])\n",
    "        missing_count = len(dep_sub[dep_sub.Gender == 'missing'])\n",
    "        nonbinary_count = len(dep_sub[dep_sub.Gender == 'NB'])\n",
    "        \n",
    "        \n",
    "        # name as others those countries with count less than 5 in a department\n",
    "        if tot < 2:\n",
    "            if department not in OthersMomaComp:\n",
    "                OthersMomaComp[department] = set([nat])\n",
    "            else: \n",
    "                new = OthersMomaComp[department]\n",
    "                new.add(nat)\n",
    "                OthersMomaComp[department] = set(new)\n",
    "            nat = 'Others'\n",
    "        df_Moma_compare.loc[len(df_Moma_compare.index)] = [continent,nat, department,source, tot, f_count, m_count, missing_count, nonbinary_count]\n",
    "\n",
    "df_Moma_compare = df_Moma_compare.groupby(['Continent','Nationality','Department', 'Source'],as_index=False).agg({'Count': 'sum','Females': 'sum','Males': 'sum','Missing': 'sum','Non-Binary': 'sum'})"
   ]
  },
  {
   "cell_type": "code",
   "execution_count": 273,
   "metadata": {},
   "outputs": [],
   "source": [
    "#create a list of rhizome mediums based on keywords research \n",
    "rhz_medium = rhizome_txt_stop_kw.copy()\n",
    "# create a list of our conditionsP\n",
    "conditions = [\n",
    "    (rhz_medium['Text'].str.contains('video|film|animation|movie|tv', regex=True)),\n",
    "    (rhz_medium['Text'].str.contains('images|image|photographs|photography|photo|photos|painting|drawing', regex=True)),\n",
    "    (rhz_medium['Text'].str.contains('installation|performance')),\n",
    "    (rhz_medium['Text'].str.contains('sound|audio|song|music', regex=True)),\n",
    "    (rhz_medium['Text'].str.contains('website|flash|java|data|database|webpage|net|internet|site|sites|online|webbased', regex=True)),\n",
    "    (rhz_medium['Text'].str.contains('conceptual|concept')),\n",
    "    (rhz_medium['Text'].str.contains('augmented|virtual|reality|game|interaction|interactive|interface', regex=True)),\n",
    "    (rhz_medium['Text'].str.contains('text|email')),\n",
    "    ]\n",
    "\n",
    "# create a list of the values we want to assign for each condition\n",
    "values = ['Moving Images', 'Images, Painting, Photos', 'Installation & Performance', 'Audio-based', 'Websites & Data', 'Conceptual', 'Interactive', 'Text-based']\n",
    "\n",
    "# create a new column and use np.select to assign values to it using our lists as arguments\n",
    "rhz_medium['Medium'] = np.select(conditions, values)\n",
    "\n",
    "# display updated DataFrame\n",
    "rhz_medium['Medium'] = rhz_medium['Medium'].replace('0', 'missing')\n",
    "rhz_medium['Medium'] = rhz_medium['Medium'].astype(str)"
   ]
  },
  {
   "cell_type": "code",
   "execution_count": 274,
   "metadata": {},
   "outputs": [],
   "source": [
    "#make working df for rhizome \n",
    "nationalities = ', '.join(rhz_medium.Nationality)\n",
    "nationalities = list(set(nationalities.split(', ')))\n",
    "df_rhizome_barchart = pd.DataFrame(columns= ['Continent','Nationality', 'Department','Source', \"Count\", \"Females\", \"Males\", 'Missing', 'Non-Binary']) \n",
    "\n",
    "Othersrhizome = dict()\n",
    "for nat in nationalities:\n",
    "\n",
    "    continent = getContinent(nat)\n",
    "    nat_sub =  rhz_medium[rhz_medium.Nationality == nat]   \n",
    "    deps = set(nat_sub.Medium)\n",
    "    for department in deps:\n",
    "        dep_sub = nat_sub[nat_sub.Medium == department] #look for subset of that departmment inside a nationality\n",
    "        tot = len(dep_sub) \n",
    "        source = 'Rhizome'\n",
    "        f_count = len(dep_sub[dep_sub.Gender == 'F'])\n",
    "        m_count = len(dep_sub[dep_sub.Gender == 'M'])\n",
    "        missing_count = len(dep_sub[dep_sub.Gender == 'missing'])\n",
    "        nonbinary_count = len(dep_sub[dep_sub.Gender == 'NB'])\n",
    "        \n",
    "        # name as others those countries with count less than 5 in a department\n",
    "        if tot < 2:\n",
    "            if department not in Othersrhizome:\n",
    "                Othersrhizome[department] = set([nat])\n",
    "            else: \n",
    "                new = Othersrhizome[department]\n",
    "                new.add(nat)\n",
    "                Othersrhizome[department] = set(new)\n",
    "            nat = 'Others'\n",
    "        df_rhizome_barchart.loc[len(df_rhizome_barchart.index)] = [continent, nat, department,source, tot, f_count, m_count, missing_count, nonbinary_count]\n",
    "\n",
    "df_rhizome_barchart = df_rhizome_barchart.groupby(['Continent','Nationality','Department', 'Source'],as_index=False).agg({'Count': 'sum','Females': 'sum','Males': 'sum','Missing': 'sum','Non-Binary': 'sum'})"
   ]
  },
  {
   "cell_type": "code",
   "execution_count": 275,
   "metadata": {},
   "outputs": [
    {
     "name": "stderr",
     "output_type": "stream",
     "text": [
      "/var/folders/qj/xh48vw9d4z5_h6wzs6r2smdh0000gn/T/ipykernel_74303/2867735704.py:3: SettingWithCopyWarning:\n",
      "\n",
      "\n",
      "A value is trying to be set on a copy of a slice from a DataFrame.\n",
      "Try using .loc[row_indexer,col_indexer] = value instead\n",
      "\n",
      "See the caveats in the documentation: https://pandas.pydata.org/pandas-docs/stable/user_guide/indexing.html#returning-a-view-versus-a-copy\n",
      "\n",
      "/var/folders/qj/xh48vw9d4z5_h6wzs6r2smdh0000gn/T/ipykernel_74303/2867735704.py:4: SettingWithCopyWarning:\n",
      "\n",
      "\n",
      "A value is trying to be set on a copy of a slice from a DataFrame.\n",
      "Try using .loc[row_indexer,col_indexer] = value instead\n",
      "\n",
      "See the caveats in the documentation: https://pandas.pydata.org/pandas-docs/stable/user_guide/indexing.html#returning-a-view-versus-a-copy\n",
      "\n",
      "/var/folders/qj/xh48vw9d4z5_h6wzs6r2smdh0000gn/T/ipykernel_74303/2867735704.py:5: SettingWithCopyWarning:\n",
      "\n",
      "\n",
      "A value is trying to be set on a copy of a slice from a DataFrame.\n",
      "Try using .loc[row_indexer,col_indexer] = value instead\n",
      "\n",
      "See the caveats in the documentation: https://pandas.pydata.org/pandas-docs/stable/user_guide/indexing.html#returning-a-view-versus-a-copy\n",
      "\n"
     ]
    }
   ],
   "source": [
    "#make the two moma periods comparable\n",
    "old = df_Moma_by_periods[df_Moma_by_periods['Period'] == 'Before 1983']\n",
    "old['Count'] = old['Count'].div(100).round(2)\n",
    "old['Count'] = old['Count'].multiply(30).round(2)\n",
    "old['Count'] = old['Count'].astype('int')\n",
    "new = df_Moma_by_periods[df_Moma_by_periods['Period'] == 'After 1983']\n",
    "\n",
    "df_Moma_by_periods_compare = pd.concat([old,new])"
   ]
  },
  {
   "cell_type": "code",
   "execution_count": 276,
   "metadata": {},
   "outputs": [],
   "source": [
    "#make the moma and rhizome comparable\n",
    "df_Moma_compare['Count'] = df_Moma_compare['Count'].div(10).round(2)\n",
    "df_Moma_compare['Count'] = df_Moma_compare['Count'].astype('int')\n",
    "\n",
    "Compare_nats_department = pd.concat([df_Moma_compare, df_rhizome_barchart])\n"
   ]
  },
  {
   "cell_type": "code",
   "execution_count": 277,
   "metadata": {},
   "outputs": [],
   "source": [
    "df_Moma_by_periods_compare_departments = df_Moma_by_periods_compare[(df_Moma_by_periods_compare['Department'] == 'Film')|(df_Moma_by_periods_compare['Department'] == 'Media and Performance')|(df_Moma_by_periods_compare['Department'] == 'Photography')|(df_Moma_by_periods_compare['Department'] == \"Drawings & Prints\")]"
   ]
  },
  {
   "cell_type": "code",
   "execution_count": 278,
   "metadata": {},
   "outputs": [
    {
     "data": {
      "text/html": [
       "<div>\n",
       "<style scoped>\n",
       "    .dataframe tbody tr th:only-of-type {\n",
       "        vertical-align: middle;\n",
       "    }\n",
       "\n",
       "    .dataframe tbody tr th {\n",
       "        vertical-align: top;\n",
       "    }\n",
       "\n",
       "    .dataframe thead th {\n",
       "        text-align: right;\n",
       "    }\n",
       "</style>\n",
       "<table border=\"1\" class=\"dataframe\">\n",
       "  <thead>\n",
       "    <tr style=\"text-align: right;\">\n",
       "      <th></th>\n",
       "      <th>Nationality</th>\n",
       "      <th>Department</th>\n",
       "      <th>Period</th>\n",
       "      <th>Count</th>\n",
       "      <th>Females</th>\n",
       "      <th>Males</th>\n",
       "      <th>Missing</th>\n",
       "      <th>Non-Binary</th>\n",
       "    </tr>\n",
       "  </thead>\n",
       "  <tbody>\n",
       "    <tr>\n",
       "      <th>12</th>\n",
       "      <td>American</td>\n",
       "      <td>Media and Performance</td>\n",
       "      <td>Before 1983</td>\n",
       "      <td>201</td>\n",
       "      <td>139</td>\n",
       "      <td>442</td>\n",
       "      <td>6</td>\n",
       "      <td>0</td>\n",
       "    </tr>\n",
       "    <tr>\n",
       "      <th>23</th>\n",
       "      <td>Argentine</td>\n",
       "      <td>Media and Performance</td>\n",
       "      <td>Before 1983</td>\n",
       "      <td>14</td>\n",
       "      <td>14</td>\n",
       "      <td>35</td>\n",
       "      <td>0</td>\n",
       "      <td>0</td>\n",
       "    </tr>\n",
       "    <tr>\n",
       "      <th>39</th>\n",
       "      <td>Austrian</td>\n",
       "      <td>Media and Performance</td>\n",
       "      <td>Before 1983</td>\n",
       "      <td>21</td>\n",
       "      <td>49</td>\n",
       "      <td>22</td>\n",
       "      <td>0</td>\n",
       "      <td>0</td>\n",
       "    </tr>\n",
       "    <tr>\n",
       "      <th>49</th>\n",
       "      <td>Belgian</td>\n",
       "      <td>Media and Performance</td>\n",
       "      <td>Before 1983</td>\n",
       "      <td>7</td>\n",
       "      <td>0</td>\n",
       "      <td>25</td>\n",
       "      <td>0</td>\n",
       "      <td>0</td>\n",
       "    </tr>\n",
       "    <tr>\n",
       "      <th>60</th>\n",
       "      <td>Brazilian</td>\n",
       "      <td>Media and Performance</td>\n",
       "      <td>Before 1983</td>\n",
       "      <td>2</td>\n",
       "      <td>6</td>\n",
       "      <td>2</td>\n",
       "      <td>0</td>\n",
       "      <td>0</td>\n",
       "    </tr>\n",
       "    <tr>\n",
       "      <th>73</th>\n",
       "      <td>British</td>\n",
       "      <td>Media and Performance</td>\n",
       "      <td>Before 1983</td>\n",
       "      <td>8</td>\n",
       "      <td>0</td>\n",
       "      <td>10</td>\n",
       "      <td>0</td>\n",
       "      <td>0</td>\n",
       "    </tr>\n",
       "    <tr>\n",
       "      <th>89</th>\n",
       "      <td>Canadian</td>\n",
       "      <td>Media and Performance</td>\n",
       "      <td>Before 1983</td>\n",
       "      <td>3</td>\n",
       "      <td>4</td>\n",
       "      <td>6</td>\n",
       "      <td>0</td>\n",
       "      <td>0</td>\n",
       "    </tr>\n",
       "    <tr>\n",
       "      <th>99</th>\n",
       "      <td>Chilean</td>\n",
       "      <td>Media and Performance</td>\n",
       "      <td>Before 1983</td>\n",
       "      <td>4</td>\n",
       "      <td>3</td>\n",
       "      <td>10</td>\n",
       "      <td>0</td>\n",
       "      <td>0</td>\n",
       "    </tr>\n",
       "    <tr>\n",
       "      <th>121</th>\n",
       "      <td>Croatian</td>\n",
       "      <td>Media and Performance</td>\n",
       "      <td>Before 1983</td>\n",
       "      <td>3</td>\n",
       "      <td>10</td>\n",
       "      <td>3</td>\n",
       "      <td>0</td>\n",
       "      <td>0</td>\n",
       "    </tr>\n",
       "    <tr>\n",
       "      <th>169</th>\n",
       "      <td>French</td>\n",
       "      <td>Media and Performance</td>\n",
       "      <td>Before 1983</td>\n",
       "      <td>11</td>\n",
       "      <td>0</td>\n",
       "      <td>8</td>\n",
       "      <td>0</td>\n",
       "      <td>0</td>\n",
       "    </tr>\n",
       "    <tr>\n",
       "      <th>184</th>\n",
       "      <td>German</td>\n",
       "      <td>Media and Performance</td>\n",
       "      <td>Before 1983</td>\n",
       "      <td>8</td>\n",
       "      <td>6</td>\n",
       "      <td>22</td>\n",
       "      <td>0</td>\n",
       "      <td>0</td>\n",
       "    </tr>\n",
       "    <tr>\n",
       "      <th>203</th>\n",
       "      <td>Icelandic</td>\n",
       "      <td>Media and Performance</td>\n",
       "      <td>Before 1983</td>\n",
       "      <td>6</td>\n",
       "      <td>7</td>\n",
       "      <td>0</td>\n",
       "      <td>0</td>\n",
       "      <td>0</td>\n",
       "    </tr>\n",
       "    <tr>\n",
       "      <th>242</th>\n",
       "      <td>Japanese</td>\n",
       "      <td>Media and Performance</td>\n",
       "      <td>Before 1983</td>\n",
       "      <td>9</td>\n",
       "      <td>11</td>\n",
       "      <td>15</td>\n",
       "      <td>0</td>\n",
       "      <td>0</td>\n",
       "    </tr>\n",
       "    <tr>\n",
       "      <th>293</th>\n",
       "      <td>Others</td>\n",
       "      <td>Media and Performance</td>\n",
       "      <td>Before 1983</td>\n",
       "      <td>6</td>\n",
       "      <td>12</td>\n",
       "      <td>7</td>\n",
       "      <td>0</td>\n",
       "      <td>0</td>\n",
       "    </tr>\n",
       "    <tr>\n",
       "      <th>323</th>\n",
       "      <td>Romanian</td>\n",
       "      <td>Media and Performance</td>\n",
       "      <td>Before 1983</td>\n",
       "      <td>1</td>\n",
       "      <td>2</td>\n",
       "      <td>4</td>\n",
       "      <td>0</td>\n",
       "      <td>0</td>\n",
       "    </tr>\n",
       "    <tr>\n",
       "      <th>372</th>\n",
       "      <td>Swiss</td>\n",
       "      <td>Media and Performance</td>\n",
       "      <td>Before 1983</td>\n",
       "      <td>38</td>\n",
       "      <td>0</td>\n",
       "      <td>101</td>\n",
       "      <td>0</td>\n",
       "      <td>0</td>\n",
       "    </tr>\n",
       "    <tr>\n",
       "      <th>397</th>\n",
       "      <td>Yugoslav</td>\n",
       "      <td>Media and Performance</td>\n",
       "      <td>Before 1983</td>\n",
       "      <td>3</td>\n",
       "      <td>13</td>\n",
       "      <td>0</td>\n",
       "      <td>0</td>\n",
       "      <td>0</td>\n",
       "    </tr>\n",
       "    <tr>\n",
       "      <th>407</th>\n",
       "      <td>missing</td>\n",
       "      <td>Media and Performance</td>\n",
       "      <td>Before 1983</td>\n",
       "      <td>11</td>\n",
       "      <td>1</td>\n",
       "      <td>3</td>\n",
       "      <td>5</td>\n",
       "      <td>0</td>\n",
       "    </tr>\n",
       "    <tr>\n",
       "      <th>11</th>\n",
       "      <td>American</td>\n",
       "      <td>Media and Performance</td>\n",
       "      <td>After 1983</td>\n",
       "      <td>707</td>\n",
       "      <td>181</td>\n",
       "      <td>324</td>\n",
       "      <td>2</td>\n",
       "      <td>9</td>\n",
       "    </tr>\n",
       "    <tr>\n",
       "      <th>22</th>\n",
       "      <td>Argentine</td>\n",
       "      <td>Media and Performance</td>\n",
       "      <td>After 1983</td>\n",
       "      <td>5</td>\n",
       "      <td>2</td>\n",
       "      <td>2</td>\n",
       "      <td>0</td>\n",
       "      <td>0</td>\n",
       "    </tr>\n",
       "    <tr>\n",
       "      <th>38</th>\n",
       "      <td>Austrian</td>\n",
       "      <td>Media and Performance</td>\n",
       "      <td>After 1983</td>\n",
       "      <td>13</td>\n",
       "      <td>9</td>\n",
       "      <td>3</td>\n",
       "      <td>0</td>\n",
       "      <td>0</td>\n",
       "    </tr>\n",
       "    <tr>\n",
       "      <th>48</th>\n",
       "      <td>Belgian</td>\n",
       "      <td>Media and Performance</td>\n",
       "      <td>After 1983</td>\n",
       "      <td>175</td>\n",
       "      <td>5</td>\n",
       "      <td>163</td>\n",
       "      <td>0</td>\n",
       "      <td>0</td>\n",
       "    </tr>\n",
       "    <tr>\n",
       "      <th>59</th>\n",
       "      <td>Brazilian</td>\n",
       "      <td>Media and Performance</td>\n",
       "      <td>After 1983</td>\n",
       "      <td>20</td>\n",
       "      <td>5</td>\n",
       "      <td>11</td>\n",
       "      <td>0</td>\n",
       "      <td>0</td>\n",
       "    </tr>\n",
       "    <tr>\n",
       "      <th>72</th>\n",
       "      <td>British</td>\n",
       "      <td>Media and Performance</td>\n",
       "      <td>After 1983</td>\n",
       "      <td>95</td>\n",
       "      <td>13</td>\n",
       "      <td>34</td>\n",
       "      <td>2</td>\n",
       "      <td>1</td>\n",
       "    </tr>\n",
       "    <tr>\n",
       "      <th>88</th>\n",
       "      <td>Canadian</td>\n",
       "      <td>Media and Performance</td>\n",
       "      <td>After 1983</td>\n",
       "      <td>156</td>\n",
       "      <td>11</td>\n",
       "      <td>141</td>\n",
       "      <td>0</td>\n",
       "      <td>0</td>\n",
       "    </tr>\n",
       "    <tr>\n",
       "      <th>98</th>\n",
       "      <td>Chilean</td>\n",
       "      <td>Media and Performance</td>\n",
       "      <td>After 1983</td>\n",
       "      <td>62</td>\n",
       "      <td>3</td>\n",
       "      <td>57</td>\n",
       "      <td>0</td>\n",
       "      <td>0</td>\n",
       "    </tr>\n",
       "    <tr>\n",
       "      <th>120</th>\n",
       "      <td>Croatian</td>\n",
       "      <td>Media and Performance</td>\n",
       "      <td>After 1983</td>\n",
       "      <td>8</td>\n",
       "      <td>3</td>\n",
       "      <td>3</td>\n",
       "      <td>0</td>\n",
       "      <td>0</td>\n",
       "    </tr>\n",
       "    <tr>\n",
       "      <th>140</th>\n",
       "      <td>Danish</td>\n",
       "      <td>Media and Performance</td>\n",
       "      <td>After 1983</td>\n",
       "      <td>24</td>\n",
       "      <td>0</td>\n",
       "      <td>13</td>\n",
       "      <td>0</td>\n",
       "      <td>0</td>\n",
       "    </tr>\n",
       "    <tr>\n",
       "      <th>152</th>\n",
       "      <td>Egyptian</td>\n",
       "      <td>Media and Performance</td>\n",
       "      <td>After 1983</td>\n",
       "      <td>17</td>\n",
       "      <td>0</td>\n",
       "      <td>17</td>\n",
       "      <td>0</td>\n",
       "      <td>0</td>\n",
       "    </tr>\n",
       "    <tr>\n",
       "      <th>168</th>\n",
       "      <td>French</td>\n",
       "      <td>Media and Performance</td>\n",
       "      <td>After 1983</td>\n",
       "      <td>59</td>\n",
       "      <td>4</td>\n",
       "      <td>45</td>\n",
       "      <td>0</td>\n",
       "      <td>0</td>\n",
       "    </tr>\n",
       "    <tr>\n",
       "      <th>183</th>\n",
       "      <td>German</td>\n",
       "      <td>Media and Performance</td>\n",
       "      <td>After 1983</td>\n",
       "      <td>82</td>\n",
       "      <td>19</td>\n",
       "      <td>46</td>\n",
       "      <td>0</td>\n",
       "      <td>0</td>\n",
       "    </tr>\n",
       "    <tr>\n",
       "      <th>202</th>\n",
       "      <td>Icelandic</td>\n",
       "      <td>Media and Performance</td>\n",
       "      <td>After 1983</td>\n",
       "      <td>9</td>\n",
       "      <td>3</td>\n",
       "      <td>2</td>\n",
       "      <td>0</td>\n",
       "      <td>0</td>\n",
       "    </tr>\n",
       "    <tr>\n",
       "      <th>211</th>\n",
       "      <td>Iranian</td>\n",
       "      <td>Media and Performance</td>\n",
       "      <td>After 1983</td>\n",
       "      <td>9</td>\n",
       "      <td>9</td>\n",
       "      <td>0</td>\n",
       "      <td>0</td>\n",
       "      <td>0</td>\n",
       "    </tr>\n",
       "    <tr>\n",
       "      <th>220</th>\n",
       "      <td>Israeli</td>\n",
       "      <td>Media and Performance</td>\n",
       "      <td>After 1983</td>\n",
       "      <td>11</td>\n",
       "      <td>8</td>\n",
       "      <td>3</td>\n",
       "      <td>0</td>\n",
       "      <td>0</td>\n",
       "    </tr>\n",
       "    <tr>\n",
       "      <th>230</th>\n",
       "      <td>Italian</td>\n",
       "      <td>Media and Performance</td>\n",
       "      <td>After 1983</td>\n",
       "      <td>10</td>\n",
       "      <td>0</td>\n",
       "      <td>4</td>\n",
       "      <td>0</td>\n",
       "      <td>0</td>\n",
       "    </tr>\n",
       "    <tr>\n",
       "      <th>241</th>\n",
       "      <td>Japanese</td>\n",
       "      <td>Media and Performance</td>\n",
       "      <td>After 1983</td>\n",
       "      <td>45</td>\n",
       "      <td>23</td>\n",
       "      <td>16</td>\n",
       "      <td>0</td>\n",
       "      <td>0</td>\n",
       "    </tr>\n",
       "    <tr>\n",
       "      <th>256</th>\n",
       "      <td>Lebanese</td>\n",
       "      <td>Media and Performance</td>\n",
       "      <td>After 1983</td>\n",
       "      <td>9</td>\n",
       "      <td>0</td>\n",
       "      <td>9</td>\n",
       "      <td>0</td>\n",
       "      <td>0</td>\n",
       "    </tr>\n",
       "    <tr>\n",
       "      <th>292</th>\n",
       "      <td>Others</td>\n",
       "      <td>Media and Performance</td>\n",
       "      <td>After 1983</td>\n",
       "      <td>193</td>\n",
       "      <td>53</td>\n",
       "      <td>103</td>\n",
       "      <td>3</td>\n",
       "      <td>0</td>\n",
       "    </tr>\n",
       "    <tr>\n",
       "      <th>299</th>\n",
       "      <td>Palestinian</td>\n",
       "      <td>Media and Performance</td>\n",
       "      <td>After 1983</td>\n",
       "      <td>7</td>\n",
       "      <td>1</td>\n",
       "      <td>0</td>\n",
       "      <td>0</td>\n",
       "      <td>0</td>\n",
       "    </tr>\n",
       "    <tr>\n",
       "      <th>353</th>\n",
       "      <td>Spanish</td>\n",
       "      <td>Media and Performance</td>\n",
       "      <td>After 1983</td>\n",
       "      <td>13</td>\n",
       "      <td>0</td>\n",
       "      <td>11</td>\n",
       "      <td>0</td>\n",
       "      <td>0</td>\n",
       "    </tr>\n",
       "    <tr>\n",
       "      <th>371</th>\n",
       "      <td>Swiss</td>\n",
       "      <td>Media and Performance</td>\n",
       "      <td>After 1983</td>\n",
       "      <td>120</td>\n",
       "      <td>11</td>\n",
       "      <td>107</td>\n",
       "      <td>0</td>\n",
       "      <td>0</td>\n",
       "    </tr>\n",
       "    <tr>\n",
       "      <th>387</th>\n",
       "      <td>Uruguayan</td>\n",
       "      <td>Media and Performance</td>\n",
       "      <td>After 1983</td>\n",
       "      <td>5</td>\n",
       "      <td>0</td>\n",
       "      <td>4</td>\n",
       "      <td>0</td>\n",
       "      <td>0</td>\n",
       "    </tr>\n",
       "    <tr>\n",
       "      <th>406</th>\n",
       "      <td>missing</td>\n",
       "      <td>Media and Performance</td>\n",
       "      <td>After 1983</td>\n",
       "      <td>65</td>\n",
       "      <td>4</td>\n",
       "      <td>10</td>\n",
       "      <td>2</td>\n",
       "      <td>0</td>\n",
       "    </tr>\n",
       "  </tbody>\n",
       "</table>\n",
       "</div>"
      ],
      "text/plain": [
       "     Nationality             Department       Period  Count  Females  Males  \\\n",
       "12      American  Media and Performance  Before 1983    201      139    442   \n",
       "23     Argentine  Media and Performance  Before 1983     14       14     35   \n",
       "39      Austrian  Media and Performance  Before 1983     21       49     22   \n",
       "49       Belgian  Media and Performance  Before 1983      7        0     25   \n",
       "60     Brazilian  Media and Performance  Before 1983      2        6      2   \n",
       "73       British  Media and Performance  Before 1983      8        0     10   \n",
       "89      Canadian  Media and Performance  Before 1983      3        4      6   \n",
       "99       Chilean  Media and Performance  Before 1983      4        3     10   \n",
       "121     Croatian  Media and Performance  Before 1983      3       10      3   \n",
       "169       French  Media and Performance  Before 1983     11        0      8   \n",
       "184       German  Media and Performance  Before 1983      8        6     22   \n",
       "203    Icelandic  Media and Performance  Before 1983      6        7      0   \n",
       "242     Japanese  Media and Performance  Before 1983      9       11     15   \n",
       "293       Others  Media and Performance  Before 1983      6       12      7   \n",
       "323     Romanian  Media and Performance  Before 1983      1        2      4   \n",
       "372        Swiss  Media and Performance  Before 1983     38        0    101   \n",
       "397     Yugoslav  Media and Performance  Before 1983      3       13      0   \n",
       "407      missing  Media and Performance  Before 1983     11        1      3   \n",
       "11      American  Media and Performance   After 1983    707      181    324   \n",
       "22     Argentine  Media and Performance   After 1983      5        2      2   \n",
       "38      Austrian  Media and Performance   After 1983     13        9      3   \n",
       "48       Belgian  Media and Performance   After 1983    175        5    163   \n",
       "59     Brazilian  Media and Performance   After 1983     20        5     11   \n",
       "72       British  Media and Performance   After 1983     95       13     34   \n",
       "88      Canadian  Media and Performance   After 1983    156       11    141   \n",
       "98       Chilean  Media and Performance   After 1983     62        3     57   \n",
       "120     Croatian  Media and Performance   After 1983      8        3      3   \n",
       "140       Danish  Media and Performance   After 1983     24        0     13   \n",
       "152     Egyptian  Media and Performance   After 1983     17        0     17   \n",
       "168       French  Media and Performance   After 1983     59        4     45   \n",
       "183       German  Media and Performance   After 1983     82       19     46   \n",
       "202    Icelandic  Media and Performance   After 1983      9        3      2   \n",
       "211      Iranian  Media and Performance   After 1983      9        9      0   \n",
       "220      Israeli  Media and Performance   After 1983     11        8      3   \n",
       "230      Italian  Media and Performance   After 1983     10        0      4   \n",
       "241     Japanese  Media and Performance   After 1983     45       23     16   \n",
       "256     Lebanese  Media and Performance   After 1983      9        0      9   \n",
       "292       Others  Media and Performance   After 1983    193       53    103   \n",
       "299  Palestinian  Media and Performance   After 1983      7        1      0   \n",
       "353      Spanish  Media and Performance   After 1983     13        0     11   \n",
       "371        Swiss  Media and Performance   After 1983    120       11    107   \n",
       "387    Uruguayan  Media and Performance   After 1983      5        0      4   \n",
       "406      missing  Media and Performance   After 1983     65        4     10   \n",
       "\n",
       "     Missing  Non-Binary  \n",
       "12         6           0  \n",
       "23         0           0  \n",
       "39         0           0  \n",
       "49         0           0  \n",
       "60         0           0  \n",
       "73         0           0  \n",
       "89         0           0  \n",
       "99         0           0  \n",
       "121        0           0  \n",
       "169        0           0  \n",
       "184        0           0  \n",
       "203        0           0  \n",
       "242        0           0  \n",
       "293        0           0  \n",
       "323        0           0  \n",
       "372        0           0  \n",
       "397        0           0  \n",
       "407        5           0  \n",
       "11         2           9  \n",
       "22         0           0  \n",
       "38         0           0  \n",
       "48         0           0  \n",
       "59         0           0  \n",
       "72         2           1  \n",
       "88         0           0  \n",
       "98         0           0  \n",
       "120        0           0  \n",
       "140        0           0  \n",
       "152        0           0  \n",
       "168        0           0  \n",
       "183        0           0  \n",
       "202        0           0  \n",
       "211        0           0  \n",
       "220        0           0  \n",
       "230        0           0  \n",
       "241        0           0  \n",
       "256        0           0  \n",
       "292        3           0  \n",
       "299        0           0  \n",
       "353        0           0  \n",
       "371        0           0  \n",
       "387        0           0  \n",
       "406        2           0  "
      ]
     },
     "execution_count": 278,
     "metadata": {},
     "output_type": "execute_result"
    }
   ],
   "source": [
    "df_Moma_by_periods_compare_departments[df_Moma_by_periods_compare_departments['Department']== 'Media and Performance']"
   ]
  },
  {
   "cell_type": "code",
   "execution_count": 279,
   "metadata": {},
   "outputs": [
    {
     "data": {
      "application/vnd.plotly.v1+json": {
       "config": {
        "plotlyServerURL": "https://plot.ly"
       },
       "data": [
        {
         "alignmentgroup": "True",
         "hovertemplate": "Nationality=American<br>Period=Before 1983<br>Department=%{x}<br>Count=%{y}<extra></extra>",
         "legendgroup": "American",
         "marker": {
          "color": "#FFC0CB",
          "pattern": {
           "shape": ""
          }
         },
         "name": "American",
         "offsetgroup": "American",
         "orientation": "v",
         "showlegend": true,
         "textposition": "outside",
         "texttemplate": "%{y}",
         "type": "bar",
         "x": [
          "Drawings & Prints",
          "Film",
          "Media and Performance",
          "Photography"
         ],
         "xaxis": "x",
         "y": [
          5918,
          222,
          201,
          3919
         ],
         "yaxis": "y"
        },
        {
         "alignmentgroup": "True",
         "hovertemplate": "Nationality=American<br>Period=After 1983<br>Department=%{x}<br>Count=%{y}<extra></extra>",
         "legendgroup": "American",
         "marker": {
          "color": "#FFC0CB",
          "pattern": {
           "shape": ""
          }
         },
         "name": "American",
         "offsetgroup": "American",
         "orientation": "v",
         "showlegend": false,
         "textposition": "outside",
         "texttemplate": "%{y}",
         "type": "bar",
         "x": [
          "Drawings & Prints",
          "Film",
          "Media and Performance",
          "Photography"
         ],
         "xaxis": "x2",
         "y": [
          11346,
          228,
          707,
          2691
         ],
         "yaxis": "y2"
        },
        {
         "alignmentgroup": "True",
         "hovertemplate": "Nationality=Argentine<br>Period=Before 1983<br>Department=%{x}<br>Count=%{y}<extra></extra>",
         "legendgroup": "Argentine",
         "marker": {
          "color": "#FF69B4",
          "pattern": {
           "shape": ""
          }
         },
         "name": "Argentine",
         "offsetgroup": "Argentine",
         "orientation": "v",
         "showlegend": true,
         "textposition": "outside",
         "texttemplate": "%{y}",
         "type": "bar",
         "x": [
          "Drawings & Prints",
          "Media and Performance",
          "Photography"
         ],
         "xaxis": "x",
         "y": [
          123,
          14,
          14
         ],
         "yaxis": "y"
        },
        {
         "alignmentgroup": "True",
         "hovertemplate": "Nationality=Argentine<br>Period=After 1983<br>Department=%{x}<br>Count=%{y}<extra></extra>",
         "legendgroup": "Argentine",
         "marker": {
          "color": "#FF69B4",
          "pattern": {
           "shape": ""
          }
         },
         "name": "Argentine",
         "offsetgroup": "Argentine",
         "orientation": "v",
         "showlegend": false,
         "textposition": "outside",
         "texttemplate": "%{y}",
         "type": "bar",
         "x": [
          "Drawings & Prints",
          "Film",
          "Media and Performance",
          "Photography"
         ],
         "xaxis": "x2",
         "y": [
          175,
          5,
          5,
          21
         ],
         "yaxis": "y2"
        },
        {
         "alignmentgroup": "True",
         "hovertemplate": "Nationality=Australian<br>Period=Before 1983<br>Department=%{x}<br>Count=%{y}<extra></extra>",
         "legendgroup": "Australian",
         "marker": {
          "color": "#DB7093",
          "pattern": {
           "shape": ""
          }
         },
         "name": "Australian",
         "offsetgroup": "Australian",
         "orientation": "v",
         "showlegend": true,
         "textposition": "outside",
         "texttemplate": "%{y}",
         "type": "bar",
         "x": [
          "Drawings & Prints"
         ],
         "xaxis": "x",
         "y": [
          40
         ],
         "yaxis": "y"
        },
        {
         "alignmentgroup": "True",
         "hovertemplate": "Nationality=Australian<br>Period=After 1983<br>Department=%{x}<br>Count=%{y}<extra></extra>",
         "legendgroup": "Australian",
         "marker": {
          "color": "#DB7093",
          "pattern": {
           "shape": ""
          }
         },
         "name": "Australian",
         "offsetgroup": "Australian",
         "orientation": "v",
         "showlegend": false,
         "textposition": "outside",
         "texttemplate": "%{y}",
         "type": "bar",
         "x": [
          "Drawings & Prints"
         ],
         "xaxis": "x2",
         "y": [
          84
         ],
         "yaxis": "y2"
        },
        {
         "alignmentgroup": "True",
         "hovertemplate": "Nationality=Austrian<br>Period=Before 1983<br>Department=%{x}<br>Count=%{y}<extra></extra>",
         "legendgroup": "Austrian",
         "marker": {
          "color": "#C71585",
          "pattern": {
           "shape": ""
          }
         },
         "name": "Austrian",
         "offsetgroup": "Austrian",
         "orientation": "v",
         "showlegend": true,
         "textposition": "outside",
         "texttemplate": "%{y}",
         "type": "bar",
         "x": [
          "Drawings & Prints",
          "Film",
          "Media and Performance",
          "Photography"
         ],
         "xaxis": "x",
         "y": [
          128,
          3,
          21,
          35
         ],
         "yaxis": "y"
        },
        {
         "alignmentgroup": "True",
         "hovertemplate": "Nationality=Austrian<br>Period=After 1983<br>Department=%{x}<br>Count=%{y}<extra></extra>",
         "legendgroup": "Austrian",
         "marker": {
          "color": "#C71585",
          "pattern": {
           "shape": ""
          }
         },
         "name": "Austrian",
         "offsetgroup": "Austrian",
         "orientation": "v",
         "showlegend": false,
         "textposition": "outside",
         "texttemplate": "%{y}",
         "type": "bar",
         "x": [
          "Drawings & Prints",
          "Media and Performance",
          "Photography"
         ],
         "xaxis": "x2",
         "y": [
          250,
          13,
          6
         ],
         "yaxis": "y2"
        },
        {
         "alignmentgroup": "True",
         "hovertemplate": "Nationality=Belgian<br>Period=Before 1983<br>Department=%{x}<br>Count=%{y}<extra></extra>",
         "legendgroup": "Belgian",
         "marker": {
          "color": "#E6E6FA",
          "pattern": {
           "shape": ""
          }
         },
         "name": "Belgian",
         "offsetgroup": "Belgian",
         "orientation": "v",
         "showlegend": true,
         "textposition": "outside",
         "texttemplate": "%{y}",
         "type": "bar",
         "x": [
          "Drawings & Prints",
          "Media and Performance",
          "Photography"
         ],
         "xaxis": "x",
         "y": [
          323,
          7,
          4
         ],
         "yaxis": "y"
        },
        {
         "alignmentgroup": "True",
         "hovertemplate": "Nationality=Belgian<br>Period=After 1983<br>Department=%{x}<br>Count=%{y}<extra></extra>",
         "legendgroup": "Belgian",
         "marker": {
          "color": "#E6E6FA",
          "pattern": {
           "shape": ""
          }
         },
         "name": "Belgian",
         "offsetgroup": "Belgian",
         "orientation": "v",
         "showlegend": false,
         "textposition": "outside",
         "texttemplate": "%{y}",
         "type": "bar",
         "x": [
          "Drawings & Prints",
          "Media and Performance",
          "Photography"
         ],
         "xaxis": "x2",
         "y": [
          104,
          175,
          19
         ],
         "yaxis": "y2"
        },
        {
         "alignmentgroup": "True",
         "hovertemplate": "Nationality=Brazilian<br>Period=Before 1983<br>Department=%{x}<br>Count=%{y}<extra></extra>",
         "legendgroup": "Brazilian",
         "marker": {
          "color": "#DDA0DD",
          "pattern": {
           "shape": ""
          }
         },
         "name": "Brazilian",
         "offsetgroup": "Brazilian",
         "orientation": "v",
         "showlegend": true,
         "textposition": "outside",
         "texttemplate": "%{y}",
         "type": "bar",
         "x": [
          "Drawings & Prints",
          "Media and Performance",
          "Photography"
         ],
         "xaxis": "x",
         "y": [
          105,
          2,
          29
         ],
         "yaxis": "y"
        },
        {
         "alignmentgroup": "True",
         "hovertemplate": "Nationality=Brazilian<br>Period=After 1983<br>Department=%{x}<br>Count=%{y}<extra></extra>",
         "legendgroup": "Brazilian",
         "marker": {
          "color": "#DDA0DD",
          "pattern": {
           "shape": ""
          }
         },
         "name": "Brazilian",
         "offsetgroup": "Brazilian",
         "orientation": "v",
         "showlegend": false,
         "textposition": "outside",
         "texttemplate": "%{y}",
         "type": "bar",
         "x": [
          "Drawings & Prints",
          "Media and Performance",
          "Photography"
         ],
         "xaxis": "x2",
         "y": [
          127,
          20,
          68
         ],
         "yaxis": "y2"
        },
        {
         "alignmentgroup": "True",
         "hovertemplate": "Nationality=British<br>Period=Before 1983<br>Department=%{x}<br>Count=%{y}<extra></extra>",
         "legendgroup": "British",
         "marker": {
          "color": "#EE82EE",
          "pattern": {
           "shape": ""
          }
         },
         "name": "British",
         "offsetgroup": "British",
         "orientation": "v",
         "showlegend": true,
         "textposition": "outside",
         "texttemplate": "%{y}",
         "type": "bar",
         "x": [
          "Drawings & Prints",
          "Film",
          "Media and Performance",
          "Photography"
         ],
         "xaxis": "x",
         "y": [
          661,
          2,
          8,
          448
         ],
         "yaxis": "y"
        },
        {
         "alignmentgroup": "True",
         "hovertemplate": "Nationality=British<br>Period=After 1983<br>Department=%{x}<br>Count=%{y}<extra></extra>",
         "legendgroup": "British",
         "marker": {
          "color": "#EE82EE",
          "pattern": {
           "shape": ""
          }
         },
         "name": "British",
         "offsetgroup": "British",
         "orientation": "v",
         "showlegend": false,
         "textposition": "outside",
         "texttemplate": "%{y}",
         "type": "bar",
         "x": [
          "Drawings & Prints",
          "Film",
          "Media and Performance",
          "Photography"
         ],
         "xaxis": "x2",
         "y": [
          1153,
          16,
          95,
          187
         ],
         "yaxis": "y2"
        },
        {
         "alignmentgroup": "True",
         "hovertemplate": "Nationality=Burkinabe<br>Period=Before 1983<br>Department=%{x}<br>Count=%{y}<extra></extra>",
         "legendgroup": "Burkinabe",
         "marker": {
          "color": "#9932CC",
          "pattern": {
           "shape": ""
          }
         },
         "name": "Burkinabe",
         "offsetgroup": "Burkinabe",
         "orientation": "v",
         "showlegend": true,
         "textposition": "outside",
         "texttemplate": "%{y}",
         "type": "bar",
         "x": [
          "Photography"
         ],
         "xaxis": "x",
         "y": [
          7
         ],
         "yaxis": "y"
        },
        {
         "alignmentgroup": "True",
         "hovertemplate": "Nationality=Cambodian<br>Period=Before 1983<br>Department=%{x}<br>Count=%{y}<extra></extra>",
         "legendgroup": "Cambodian",
         "marker": {
          "color": "#8B008B",
          "pattern": {
           "shape": ""
          }
         },
         "name": "Cambodian",
         "offsetgroup": "Cambodian",
         "orientation": "v",
         "showlegend": true,
         "textposition": "outside",
         "texttemplate": "%{y}",
         "type": "bar",
         "x": [
          "Photography"
         ],
         "xaxis": "x",
         "y": [
          2
         ],
         "yaxis": "y"
        },
        {
         "alignmentgroup": "True",
         "hovertemplate": "Nationality=Canadian<br>Period=Before 1983<br>Department=%{x}<br>Count=%{y}<extra></extra>",
         "legendgroup": "Canadian",
         "marker": {
          "color": "#9370DB",
          "pattern": {
           "shape": ""
          }
         },
         "name": "Canadian",
         "offsetgroup": "Canadian",
         "orientation": "v",
         "showlegend": true,
         "textposition": "outside",
         "texttemplate": "%{y}",
         "type": "bar",
         "x": [
          "Drawings & Prints",
          "Film",
          "Media and Performance",
          "Photography"
         ],
         "xaxis": "x",
         "y": [
          58,
          3,
          3,
          25
         ],
         "yaxis": "y"
        },
        {
         "alignmentgroup": "True",
         "hovertemplate": "Nationality=Canadian<br>Period=After 1983<br>Department=%{x}<br>Count=%{y}<extra></extra>",
         "legendgroup": "Canadian",
         "marker": {
          "color": "#9370DB",
          "pattern": {
           "shape": ""
          }
         },
         "name": "Canadian",
         "offsetgroup": "Canadian",
         "orientation": "v",
         "showlegend": false,
         "textposition": "outside",
         "texttemplate": "%{y}",
         "type": "bar",
         "x": [
          "Drawings & Prints",
          "Film",
          "Media and Performance",
          "Photography"
         ],
         "xaxis": "x2",
         "y": [
          268,
          18,
          156,
          85
         ],
         "yaxis": "y2"
        },
        {
         "alignmentgroup": "True",
         "hovertemplate": "Nationality=Canadian Inuit<br>Period=Before 1983<br>Department=%{x}<br>Count=%{y}<extra></extra>",
         "legendgroup": "Canadian Inuit",
         "marker": {
          "color": "#483D8B",
          "pattern": {
           "shape": ""
          }
         },
         "name": "Canadian Inuit",
         "offsetgroup": "Canadian Inuit",
         "orientation": "v",
         "showlegend": true,
         "textposition": "outside",
         "texttemplate": "%{y}",
         "type": "bar",
         "x": [
          "Drawings & Prints"
         ],
         "xaxis": "x",
         "y": [
          2
         ],
         "yaxis": "y"
        },
        {
         "alignmentgroup": "True",
         "hovertemplate": "Nationality=Chilean<br>Period=Before 1983<br>Department=%{x}<br>Count=%{y}<extra></extra>",
         "legendgroup": "Chilean",
         "marker": {
          "color": "#4B0082",
          "pattern": {
           "shape": ""
          }
         },
         "name": "Chilean",
         "offsetgroup": "Chilean",
         "orientation": "v",
         "showlegend": true,
         "textposition": "outside",
         "texttemplate": "%{y}",
         "type": "bar",
         "x": [
          "Drawings & Prints",
          "Media and Performance",
          "Photography"
         ],
         "xaxis": "x",
         "y": [
          85,
          4,
          1
         ],
         "yaxis": "y"
        },
        {
         "alignmentgroup": "True",
         "hovertemplate": "Nationality=Chilean<br>Period=After 1983<br>Department=%{x}<br>Count=%{y}<extra></extra>",
         "legendgroup": "Chilean",
         "marker": {
          "color": "#4B0082",
          "pattern": {
           "shape": ""
          }
         },
         "name": "Chilean",
         "offsetgroup": "Chilean",
         "orientation": "v",
         "showlegend": false,
         "textposition": "outside",
         "texttemplate": "%{y}",
         "type": "bar",
         "x": [
          "Drawings & Prints",
          "Media and Performance",
          "Photography"
         ],
         "xaxis": "x2",
         "y": [
          121,
          62,
          7
         ],
         "yaxis": "y2"
        },
        {
         "alignmentgroup": "True",
         "hovertemplate": "Nationality=Chinese<br>Period=Before 1983<br>Department=%{x}<br>Count=%{y}<extra></extra>",
         "legendgroup": "Chinese",
         "marker": {
          "color": "#FA8072",
          "pattern": {
           "shape": ""
          }
         },
         "name": "Chinese",
         "offsetgroup": "Chinese",
         "orientation": "v",
         "showlegend": true,
         "textposition": "outside",
         "texttemplate": "%{y}",
         "type": "bar",
         "x": [
          "Drawings & Prints"
         ],
         "xaxis": "x",
         "y": [
          2
         ],
         "yaxis": "y"
        },
        {
         "alignmentgroup": "True",
         "hovertemplate": "Nationality=Chinese<br>Period=After 1983<br>Department=%{x}<br>Count=%{y}<extra></extra>",
         "legendgroup": "Chinese",
         "marker": {
          "color": "#FA8072",
          "pattern": {
           "shape": ""
          }
         },
         "name": "Chinese",
         "offsetgroup": "Chinese",
         "orientation": "v",
         "showlegend": false,
         "textposition": "outside",
         "texttemplate": "%{y}",
         "type": "bar",
         "x": [
          "Drawings & Prints",
          "Film",
          "Photography"
         ],
         "xaxis": "x2",
         "y": [
          110,
          5,
          104
         ],
         "yaxis": "y2"
        },
        {
         "alignmentgroup": "True",
         "hovertemplate": "Nationality=Colombian<br>Period=Before 1983<br>Department=%{x}<br>Count=%{y}<extra></extra>",
         "legendgroup": "Colombian",
         "marker": {
          "color": "#DC143C",
          "pattern": {
           "shape": ""
          }
         },
         "name": "Colombian",
         "offsetgroup": "Colombian",
         "orientation": "v",
         "showlegend": true,
         "textposition": "outside",
         "texttemplate": "%{y}",
         "type": "bar",
         "x": [
          "Drawings & Prints",
          "Photography"
         ],
         "xaxis": "x",
         "y": [
          50,
          3
         ],
         "yaxis": "y"
        },
        {
         "alignmentgroup": "True",
         "hovertemplate": "Nationality=Colombian<br>Period=After 1983<br>Department=%{x}<br>Count=%{y}<extra></extra>",
         "legendgroup": "Colombian",
         "marker": {
          "color": "#DC143C",
          "pattern": {
           "shape": ""
          }
         },
         "name": "Colombian",
         "offsetgroup": "Colombian",
         "orientation": "v",
         "showlegend": false,
         "textposition": "outside",
         "texttemplate": "%{y}",
         "type": "bar",
         "x": [
          "Drawings & Prints"
         ],
         "xaxis": "x2",
         "y": [
          533
         ],
         "yaxis": "y2"
        },
        {
         "alignmentgroup": "True",
         "hovertemplate": "Nationality=Congolese<br>Period=Before 1983<br>Department=%{x}<br>Count=%{y}<extra></extra>",
         "legendgroup": "Congolese",
         "marker": {
          "color": "#8B0000",
          "pattern": {
           "shape": ""
          }
         },
         "name": "Congolese",
         "offsetgroup": "Congolese",
         "orientation": "v",
         "showlegend": true,
         "textposition": "outside",
         "texttemplate": "%{y}",
         "type": "bar",
         "x": [
          "Photography"
         ],
         "xaxis": "x",
         "y": [
          4
         ],
         "yaxis": "y"
        },
        {
         "alignmentgroup": "True",
         "hovertemplate": "Nationality=Costa Rican<br>Period=Before 1983<br>Department=%{x}<br>Count=%{y}<extra></extra>",
         "legendgroup": "Costa Rican",
         "marker": {
          "color": "#FF8C00",
          "pattern": {
           "shape": ""
          }
         },
         "name": "Costa Rican",
         "offsetgroup": "Costa Rican",
         "orientation": "v",
         "showlegend": true,
         "textposition": "outside",
         "texttemplate": "%{y}",
         "type": "bar",
         "x": [
          "Drawings & Prints"
         ],
         "xaxis": "x",
         "y": [
          19
         ],
         "yaxis": "y"
        },
        {
         "alignmentgroup": "True",
         "hovertemplate": "Nationality=Croatian<br>Period=Before 1983<br>Department=%{x}<br>Count=%{y}<extra></extra>",
         "legendgroup": "Croatian",
         "marker": {
          "color": "#FF4500",
          "pattern": {
           "shape": ""
          }
         },
         "name": "Croatian",
         "offsetgroup": "Croatian",
         "orientation": "v",
         "showlegend": true,
         "textposition": "outside",
         "texttemplate": "%{y}",
         "type": "bar",
         "x": [
          "Drawings & Prints",
          "Media and Performance",
          "Photography"
         ],
         "xaxis": "x",
         "y": [
          7,
          3,
          1
         ],
         "yaxis": "y"
        },
        {
         "alignmentgroup": "True",
         "hovertemplate": "Nationality=Croatian<br>Period=After 1983<br>Department=%{x}<br>Count=%{y}<extra></extra>",
         "legendgroup": "Croatian",
         "marker": {
          "color": "#FF4500",
          "pattern": {
           "shape": ""
          }
         },
         "name": "Croatian",
         "offsetgroup": "Croatian",
         "orientation": "v",
         "showlegend": false,
         "textposition": "outside",
         "texttemplate": "%{y}",
         "type": "bar",
         "x": [
          "Drawings & Prints",
          "Media and Performance"
         ],
         "xaxis": "x2",
         "y": [
          46,
          8
         ],
         "yaxis": "y2"
        },
        {
         "alignmentgroup": "True",
         "hovertemplate": "Nationality=Cuban<br>Period=Before 1983<br>Department=%{x}<br>Count=%{y}<extra></extra>",
         "legendgroup": "Cuban",
         "marker": {
          "color": "#FFD700",
          "pattern": {
           "shape": ""
          }
         },
         "name": "Cuban",
         "offsetgroup": "Cuban",
         "orientation": "v",
         "showlegend": true,
         "textposition": "outside",
         "texttemplate": "%{y}",
         "type": "bar",
         "x": [
          "Drawings & Prints"
         ],
         "xaxis": "x",
         "y": [
          31
         ],
         "yaxis": "y"
        },
        {
         "alignmentgroup": "True",
         "hovertemplate": "Nationality=Cuban<br>Period=After 1983<br>Department=%{x}<br>Count=%{y}<extra></extra>",
         "legendgroup": "Cuban",
         "marker": {
          "color": "#FFD700",
          "pattern": {
           "shape": ""
          }
         },
         "name": "Cuban",
         "offsetgroup": "Cuban",
         "orientation": "v",
         "showlegend": false,
         "textposition": "outside",
         "texttemplate": "%{y}",
         "type": "bar",
         "x": [
          "Drawings & Prints"
         ],
         "xaxis": "x2",
         "y": [
          42
         ],
         "yaxis": "y2"
        },
        {
         "alignmentgroup": "True",
         "hovertemplate": "Nationality=Czech<br>Period=Before 1983<br>Department=%{x}<br>Count=%{y}<extra></extra>",
         "legendgroup": "Czech",
         "marker": {
          "color": "#FFFF00",
          "pattern": {
           "shape": ""
          }
         },
         "name": "Czech",
         "offsetgroup": "Czech",
         "orientation": "v",
         "showlegend": true,
         "textposition": "outside",
         "texttemplate": "%{y}",
         "type": "bar",
         "x": [
          "Drawings & Prints",
          "Photography"
         ],
         "xaxis": "x",
         "y": [
          143,
          24
         ],
         "yaxis": "y"
        },
        {
         "alignmentgroup": "True",
         "hovertemplate": "Nationality=Czech<br>Period=After 1983<br>Department=%{x}<br>Count=%{y}<extra></extra>",
         "legendgroup": "Czech",
         "marker": {
          "color": "#FFFF00",
          "pattern": {
           "shape": ""
          }
         },
         "name": "Czech",
         "offsetgroup": "Czech",
         "orientation": "v",
         "showlegend": false,
         "textposition": "outside",
         "texttemplate": "%{y}",
         "type": "bar",
         "x": [
          "Drawings & Prints",
          "Photography"
         ],
         "xaxis": "x2",
         "y": [
          25,
          13
         ],
         "yaxis": "y2"
        },
        {
         "alignmentgroup": "True",
         "hovertemplate": "Nationality=Danish<br>Period=Before 1983<br>Department=%{x}<br>Count=%{y}<extra></extra>",
         "legendgroup": "Danish",
         "marker": {
          "color": "#F0E68C",
          "pattern": {
           "shape": ""
          }
         },
         "name": "Danish",
         "offsetgroup": "Danish",
         "orientation": "v",
         "showlegend": true,
         "textposition": "outside",
         "texttemplate": "%{y}",
         "type": "bar",
         "x": [
          "Drawings & Prints"
         ],
         "xaxis": "x",
         "y": [
          77
         ],
         "yaxis": "y"
        },
        {
         "alignmentgroup": "True",
         "hovertemplate": "Nationality=Danish<br>Period=After 1983<br>Department=%{x}<br>Count=%{y}<extra></extra>",
         "legendgroup": "Danish",
         "marker": {
          "color": "#F0E68C",
          "pattern": {
           "shape": ""
          }
         },
         "name": "Danish",
         "offsetgroup": "Danish",
         "orientation": "v",
         "showlegend": false,
         "textposition": "outside",
         "texttemplate": "%{y}",
         "type": "bar",
         "x": [
          "Drawings & Prints",
          "Media and Performance"
         ],
         "xaxis": "x2",
         "y": [
          42,
          24
         ],
         "yaxis": "y2"
        },
        {
         "alignmentgroup": "True",
         "hovertemplate": "Nationality=Dutch<br>Period=Before 1983<br>Department=%{x}<br>Count=%{y}<extra></extra>",
         "legendgroup": "Dutch",
         "marker": {
          "color": "#7FFF00",
          "pattern": {
           "shape": ""
          }
         },
         "name": "Dutch",
         "offsetgroup": "Dutch",
         "orientation": "v",
         "showlegend": true,
         "textposition": "outside",
         "texttemplate": "%{y}",
         "type": "bar",
         "x": [
          "Drawings & Prints",
          "Photography"
         ],
         "xaxis": "x",
         "y": [
          126,
          147
         ],
         "yaxis": "y"
        },
        {
         "alignmentgroup": "True",
         "hovertemplate": "Nationality=Dutch<br>Period=After 1983<br>Department=%{x}<br>Count=%{y}<extra></extra>",
         "legendgroup": "Dutch",
         "marker": {
          "color": "#7FFF00",
          "pattern": {
           "shape": ""
          }
         },
         "name": "Dutch",
         "offsetgroup": "Dutch",
         "orientation": "v",
         "showlegend": false,
         "textposition": "outside",
         "texttemplate": "%{y}",
         "type": "bar",
         "x": [
          "Drawings & Prints",
          "Photography"
         ],
         "xaxis": "x2",
         "y": [
          82,
          34
         ],
         "yaxis": "y2"
        },
        {
         "alignmentgroup": "True",
         "hovertemplate": "Nationality=Ecuadorian<br>Period=Before 1983<br>Department=%{x}<br>Count=%{y}<extra></extra>",
         "legendgroup": "Ecuadorian",
         "marker": {
          "color": "#32CD32",
          "pattern": {
           "shape": ""
          }
         },
         "name": "Ecuadorian",
         "offsetgroup": "Ecuadorian",
         "orientation": "v",
         "showlegend": true,
         "textposition": "outside",
         "texttemplate": "%{y}",
         "type": "bar",
         "x": [
          "Drawings & Prints"
         ],
         "xaxis": "x",
         "y": [
          2
         ],
         "yaxis": "y"
        },
        {
         "alignmentgroup": "True",
         "hovertemplate": "Nationality=Finnish<br>Period=Before 1983<br>Department=%{x}<br>Count=%{y}<extra></extra>",
         "legendgroup": "Finnish",
         "marker": {
          "color": "#90EE90",
          "pattern": {
           "shape": ""
          }
         },
         "name": "Finnish",
         "offsetgroup": "Finnish",
         "orientation": "v",
         "showlegend": true,
         "textposition": "outside",
         "texttemplate": "%{y}",
         "type": "bar",
         "x": [
          "Drawings & Prints"
         ],
         "xaxis": "x",
         "y": [
          2
         ],
         "yaxis": "y"
        },
        {
         "alignmentgroup": "True",
         "hovertemplate": "Nationality=Finnish<br>Period=After 1983<br>Department=%{x}<br>Count=%{y}<extra></extra>",
         "legendgroup": "Finnish",
         "marker": {
          "color": "#90EE90",
          "pattern": {
           "shape": ""
          }
         },
         "name": "Finnish",
         "offsetgroup": "Finnish",
         "orientation": "v",
         "showlegend": false,
         "textposition": "outside",
         "texttemplate": "%{y}",
         "type": "bar",
         "x": [
          "Drawings & Prints"
         ],
         "xaxis": "x2",
         "y": [
          21
         ],
         "yaxis": "y2"
        },
        {
         "alignmentgroup": "True",
         "hovertemplate": "Nationality=French<br>Period=Before 1983<br>Department=%{x}<br>Count=%{y}<extra></extra>",
         "legendgroup": "French",
         "marker": {
          "color": "#00FA9A",
          "pattern": {
           "shape": ""
          }
         },
         "name": "French",
         "offsetgroup": "French",
         "orientation": "v",
         "showlegend": true,
         "textposition": "outside",
         "texttemplate": "%{y}",
         "type": "bar",
         "x": [
          "Drawings & Prints",
          "Film",
          "Media and Performance",
          "Photography"
         ],
         "xaxis": "x",
         "y": [
          4449,
          6,
          11,
          2066
         ],
         "yaxis": "y"
        },
        {
         "alignmentgroup": "True",
         "hovertemplate": "Nationality=French<br>Period=After 1983<br>Department=%{x}<br>Count=%{y}<extra></extra>",
         "legendgroup": "French",
         "marker": {
          "color": "#00FA9A",
          "pattern": {
           "shape": ""
          }
         },
         "name": "French",
         "offsetgroup": "French",
         "orientation": "v",
         "showlegend": false,
         "textposition": "outside",
         "texttemplate": "%{y}",
         "type": "bar",
         "x": [
          "Drawings & Prints",
          "Film",
          "Media and Performance",
          "Photography"
         ],
         "xaxis": "x2",
         "y": [
          540,
          21,
          59,
          99
         ],
         "yaxis": "y2"
        },
        {
         "alignmentgroup": "True",
         "hovertemplate": "Nationality=Georgian<br>Period=Before 1983<br>Department=%{x}<br>Count=%{y}<extra></extra>",
         "legendgroup": "Georgian",
         "marker": {
          "color": "#3CB371",
          "pattern": {
           "shape": ""
          }
         },
         "name": "Georgian",
         "offsetgroup": "Georgian",
         "orientation": "v",
         "showlegend": true,
         "textposition": "outside",
         "texttemplate": "%{y}",
         "type": "bar",
         "x": [
          "Drawings & Prints"
         ],
         "xaxis": "x",
         "y": [
          1
         ],
         "yaxis": "y"
        },
        {
         "alignmentgroup": "True",
         "hovertemplate": "Nationality=Georgian<br>Period=After 1983<br>Department=%{x}<br>Count=%{y}<extra></extra>",
         "legendgroup": "Georgian",
         "marker": {
          "color": "#3CB371",
          "pattern": {
           "shape": ""
          }
         },
         "name": "Georgian",
         "offsetgroup": "Georgian",
         "orientation": "v",
         "showlegend": false,
         "textposition": "outside",
         "texttemplate": "%{y}",
         "type": "bar",
         "x": [
          "Drawings & Prints"
         ],
         "xaxis": "x2",
         "y": [
          5
         ],
         "yaxis": "y2"
        },
        {
         "alignmentgroup": "True",
         "hovertemplate": "Nationality=German<br>Period=Before 1983<br>Department=%{x}<br>Count=%{y}<extra></extra>",
         "legendgroup": "German",
         "marker": {
          "color": "#006400",
          "pattern": {
           "shape": ""
          }
         },
         "name": "German",
         "offsetgroup": "German",
         "orientation": "v",
         "showlegend": true,
         "textposition": "outside",
         "texttemplate": "%{y}",
         "type": "bar",
         "x": [
          "Drawings & Prints",
          "Film",
          "Media and Performance",
          "Photography"
         ],
         "xaxis": "x",
         "y": [
          1082,
          3,
          8,
          376
         ],
         "yaxis": "y"
        },
        {
         "alignmentgroup": "True",
         "hovertemplate": "Nationality=German<br>Period=After 1983<br>Department=%{x}<br>Count=%{y}<extra></extra>",
         "legendgroup": "German",
         "marker": {
          "color": "#006400",
          "pattern": {
           "shape": ""
          }
         },
         "name": "German",
         "offsetgroup": "German",
         "orientation": "v",
         "showlegend": false,
         "textposition": "outside",
         "texttemplate": "%{y}",
         "type": "bar",
         "x": [
          "Drawings & Prints",
          "Film",
          "Media and Performance",
          "Photography"
         ],
         "xaxis": "x2",
         "y": [
          1851,
          11,
          82,
          495
         ],
         "yaxis": "y2"
        },
        {
         "alignmentgroup": "True",
         "hovertemplate": "Nationality=Greek<br>Period=Before 1983<br>Department=%{x}<br>Count=%{y}<extra></extra>",
         "legendgroup": "Greek",
         "marker": {
          "color": "#9ACD32",
          "pattern": {
           "shape": ""
          }
         },
         "name": "Greek",
         "offsetgroup": "Greek",
         "orientation": "v",
         "showlegend": true,
         "textposition": "outside",
         "texttemplate": "%{y}",
         "type": "bar",
         "x": [
          "Drawings & Prints",
          "Photography"
         ],
         "xaxis": "x",
         "y": [
          5,
          3
         ],
         "yaxis": "y"
        },
        {
         "alignmentgroup": "True",
         "hovertemplate": "Nationality=Greek<br>Period=After 1983<br>Department=%{x}<br>Count=%{y}<extra></extra>",
         "legendgroup": "Greek",
         "marker": {
          "color": "#9ACD32",
          "pattern": {
           "shape": ""
          }
         },
         "name": "Greek",
         "offsetgroup": "Greek",
         "orientation": "v",
         "showlegend": false,
         "textposition": "outside",
         "texttemplate": "%{y}",
         "type": "bar",
         "x": [
          "Drawings & Prints"
         ],
         "xaxis": "x2",
         "y": [
          16
         ],
         "yaxis": "y2"
        },
        {
         "alignmentgroup": "True",
         "hovertemplate": "Nationality=Guatemalan<br>Period=Before 1983<br>Department=%{x}<br>Count=%{y}<extra></extra>",
         "legendgroup": "Guatemalan",
         "marker": {
          "color": "#6B8E23",
          "pattern": {
           "shape": ""
          }
         },
         "name": "Guatemalan",
         "offsetgroup": "Guatemalan",
         "orientation": "v",
         "showlegend": true,
         "textposition": "outside",
         "texttemplate": "%{y}",
         "type": "bar",
         "x": [
          "Drawings & Prints"
         ],
         "xaxis": "x",
         "y": [
          19
         ],
         "yaxis": "y"
        },
        {
         "alignmentgroup": "True",
         "hovertemplate": "Nationality=Haitian<br>Period=Before 1983<br>Department=%{x}<br>Count=%{y}<extra></extra>",
         "legendgroup": "Haitian",
         "marker": {
          "color": "#66CDAA",
          "pattern": {
           "shape": ""
          }
         },
         "name": "Haitian",
         "offsetgroup": "Haitian",
         "orientation": "v",
         "showlegend": true,
         "textposition": "outside",
         "texttemplate": "%{y}",
         "type": "bar",
         "x": [
          "Drawings & Prints"
         ],
         "xaxis": "x",
         "y": [
          4
         ],
         "yaxis": "y"
        },
        {
         "alignmentgroup": "True",
         "hovertemplate": "Nationality=Hungarian<br>Period=Before 1983<br>Department=%{x}<br>Count=%{y}<extra></extra>",
         "legendgroup": "Hungarian",
         "marker": {
          "color": "#20B2AA",
          "pattern": {
           "shape": ""
          }
         },
         "name": "Hungarian",
         "offsetgroup": "Hungarian",
         "orientation": "v",
         "showlegend": true,
         "textposition": "outside",
         "texttemplate": "%{y}",
         "type": "bar",
         "x": [
          "Drawings & Prints",
          "Photography"
         ],
         "xaxis": "x",
         "y": [
          17,
          206
         ],
         "yaxis": "y"
        },
        {
         "alignmentgroup": "True",
         "hovertemplate": "Nationality=Icelandic<br>Period=Before 1983<br>Department=%{x}<br>Count=%{y}<extra></extra>",
         "legendgroup": "Icelandic",
         "marker": {
          "color": "#5F9EA0",
          "pattern": {
           "shape": ""
          }
         },
         "name": "Icelandic",
         "offsetgroup": "Icelandic",
         "orientation": "v",
         "showlegend": true,
         "textposition": "outside",
         "texttemplate": "%{y}",
         "type": "bar",
         "x": [
          "Drawings & Prints",
          "Media and Performance"
         ],
         "xaxis": "x",
         "y": [
          2,
          6
         ],
         "yaxis": "y"
        },
        {
         "alignmentgroup": "True",
         "hovertemplate": "Nationality=Icelandic<br>Period=After 1983<br>Department=%{x}<br>Count=%{y}<extra></extra>",
         "legendgroup": "Icelandic",
         "marker": {
          "color": "#5F9EA0",
          "pattern": {
           "shape": ""
          }
         },
         "name": "Icelandic",
         "offsetgroup": "Icelandic",
         "orientation": "v",
         "showlegend": false,
         "textposition": "outside",
         "texttemplate": "%{y}",
         "type": "bar",
         "x": [
          "Drawings & Prints",
          "Media and Performance"
         ],
         "xaxis": "x2",
         "y": [
          12,
          9
         ],
         "yaxis": "y2"
        },
        {
         "alignmentgroup": "True",
         "hovertemplate": "Nationality=Indian<br>Period=Before 1983<br>Department=%{x}<br>Count=%{y}<extra></extra>",
         "legendgroup": "Indian",
         "marker": {
          "color": "#4682B4",
          "pattern": {
           "shape": ""
          }
         },
         "name": "Indian",
         "offsetgroup": "Indian",
         "orientation": "v",
         "showlegend": true,
         "textposition": "outside",
         "texttemplate": "%{y}",
         "type": "bar",
         "x": [
          "Drawings & Prints",
          "Photography"
         ],
         "xaxis": "x",
         "y": [
          4,
          4
         ],
         "yaxis": "y"
        },
        {
         "alignmentgroup": "True",
         "hovertemplate": "Nationality=Indian<br>Period=After 1983<br>Department=%{x}<br>Count=%{y}<extra></extra>",
         "legendgroup": "Indian",
         "marker": {
          "color": "#4682B4",
          "pattern": {
           "shape": ""
          }
         },
         "name": "Indian",
         "offsetgroup": "Indian",
         "orientation": "v",
         "showlegend": false,
         "textposition": "outside",
         "texttemplate": "%{y}",
         "type": "bar",
         "x": [
          "Drawings & Prints",
          "Photography"
         ],
         "xaxis": "x2",
         "y": [
          44,
          78
         ],
         "yaxis": "y2"
        },
        {
         "alignmentgroup": "True",
         "hovertemplate": "Nationality=Irish<br>Period=Before 1983<br>Department=%{x}<br>Count=%{y}<extra></extra>",
         "legendgroup": "Irish",
         "marker": {
          "color": "#B0C4DE",
          "pattern": {
           "shape": ""
          }
         },
         "name": "Irish",
         "offsetgroup": "Irish",
         "orientation": "v",
         "showlegend": true,
         "textposition": "outside",
         "texttemplate": "%{y}",
         "type": "bar",
         "x": [
          "Drawings & Prints",
          "Photography"
         ],
         "xaxis": "x",
         "y": [
          1,
          3
         ],
         "yaxis": "y"
        },
        {
         "alignmentgroup": "True",
         "hovertemplate": "Nationality=Irish<br>Period=After 1983<br>Department=%{x}<br>Count=%{y}<extra></extra>",
         "legendgroup": "Irish",
         "marker": {
          "color": "#B0C4DE",
          "pattern": {
           "shape": ""
          }
         },
         "name": "Irish",
         "offsetgroup": "Irish",
         "orientation": "v",
         "showlegend": false,
         "textposition": "outside",
         "texttemplate": "%{y}",
         "type": "bar",
         "x": [
          "Drawings & Prints"
         ],
         "xaxis": "x2",
         "y": [
          8
         ],
         "yaxis": "y2"
        },
        {
         "alignmentgroup": "True",
         "hovertemplate": "Nationality=Israeli<br>Period=Before 1983<br>Department=%{x}<br>Count=%{y}<extra></extra>",
         "legendgroup": "Israeli",
         "marker": {
          "color": "#87CEFA",
          "pattern": {
           "shape": ""
          }
         },
         "name": "Israeli",
         "offsetgroup": "Israeli",
         "orientation": "v",
         "showlegend": true,
         "textposition": "outside",
         "texttemplate": "%{y}",
         "type": "bar",
         "x": [
          "Drawings & Prints",
          "Photography"
         ],
         "xaxis": "x",
         "y": [
          54,
          2
         ],
         "yaxis": "y"
        },
        {
         "alignmentgroup": "True",
         "hovertemplate": "Nationality=Israeli<br>Period=After 1983<br>Department=%{x}<br>Count=%{y}<extra></extra>",
         "legendgroup": "Israeli",
         "marker": {
          "color": "#87CEFA",
          "pattern": {
           "shape": ""
          }
         },
         "name": "Israeli",
         "offsetgroup": "Israeli",
         "orientation": "v",
         "showlegend": false,
         "textposition": "outside",
         "texttemplate": "%{y}",
         "type": "bar",
         "x": [
          "Drawings & Prints",
          "Media and Performance",
          "Photography"
         ],
         "xaxis": "x2",
         "y": [
          81,
          11,
          23
         ],
         "yaxis": "y2"
        },
        {
         "alignmentgroup": "True",
         "hovertemplate": "Nationality=Italian<br>Period=Before 1983<br>Department=%{x}<br>Count=%{y}<extra></extra>",
         "legendgroup": "Italian",
         "marker": {
          "color": "#6495ED",
          "pattern": {
           "shape": ""
          }
         },
         "name": "Italian",
         "offsetgroup": "Italian",
         "orientation": "v",
         "showlegend": true,
         "textposition": "outside",
         "texttemplate": "%{y}",
         "type": "bar",
         "x": [
          "Drawings & Prints",
          "Film",
          "Photography"
         ],
         "xaxis": "x",
         "y": [
          384,
          3,
          99
         ],
         "yaxis": "y"
        },
        {
         "alignmentgroup": "True",
         "hovertemplate": "Nationality=Italian<br>Period=After 1983<br>Department=%{x}<br>Count=%{y}<extra></extra>",
         "legendgroup": "Italian",
         "marker": {
          "color": "#6495ED",
          "pattern": {
           "shape": ""
          }
         },
         "name": "Italian",
         "offsetgroup": "Italian",
         "orientation": "v",
         "showlegend": false,
         "textposition": "outside",
         "texttemplate": "%{y}",
         "type": "bar",
         "x": [
          "Drawings & Prints",
          "Media and Performance",
          "Photography"
         ],
         "xaxis": "x2",
         "y": [
          394,
          10,
          9
         ],
         "yaxis": "y2"
        },
        {
         "alignmentgroup": "True",
         "hovertemplate": "Nationality=Japanese<br>Period=Before 1983<br>Department=%{x}<br>Count=%{y}<extra></extra>",
         "legendgroup": "Japanese",
         "marker": {
          "color": "#00BFFF",
          "pattern": {
           "shape": ""
          }
         },
         "name": "Japanese",
         "offsetgroup": "Japanese",
         "orientation": "v",
         "showlegend": true,
         "textposition": "outside",
         "texttemplate": "%{y}",
         "type": "bar",
         "x": [
          "Drawings & Prints",
          "Film",
          "Media and Performance",
          "Photography"
         ],
         "xaxis": "x",
         "y": [
          309,
          2,
          9,
          146
         ],
         "yaxis": "y"
        },
        {
         "alignmentgroup": "True",
         "hovertemplate": "Nationality=Japanese<br>Period=After 1983<br>Department=%{x}<br>Count=%{y}<extra></extra>",
         "legendgroup": "Japanese",
         "marker": {
          "color": "#00BFFF",
          "pattern": {
           "shape": ""
          }
         },
         "name": "Japanese",
         "offsetgroup": "Japanese",
         "orientation": "v",
         "showlegend": false,
         "textposition": "outside",
         "texttemplate": "%{y}",
         "type": "bar",
         "x": [
          "Drawings & Prints",
          "Media and Performance",
          "Photography"
         ],
         "xaxis": "x2",
         "y": [
          273,
          45,
          104
         ],
         "yaxis": "y2"
        },
        {
         "alignmentgroup": "True",
         "hovertemplate": "Nationality=Korean<br>Period=Before 1983<br>Department=%{x}<br>Count=%{y}<extra></extra>",
         "legendgroup": "Korean",
         "marker": {
          "color": "#1E90FF",
          "pattern": {
           "shape": ""
          }
         },
         "name": "Korean",
         "offsetgroup": "Korean",
         "orientation": "v",
         "showlegend": true,
         "textposition": "outside",
         "texttemplate": "%{y}",
         "type": "bar",
         "x": [
          "Drawings & Prints"
         ],
         "xaxis": "x",
         "y": [
          3
         ],
         "yaxis": "y"
        },
        {
         "alignmentgroup": "True",
         "hovertemplate": "Nationality=Korean<br>Period=After 1983<br>Department=%{x}<br>Count=%{y}<extra></extra>",
         "legendgroup": "Korean",
         "marker": {
          "color": "#1E90FF",
          "pattern": {
           "shape": ""
          }
         },
         "name": "Korean",
         "offsetgroup": "Korean",
         "orientation": "v",
         "showlegend": false,
         "textposition": "outside",
         "texttemplate": "%{y}",
         "type": "bar",
         "x": [
          "Drawings & Prints",
          "Film"
         ],
         "xaxis": "x2",
         "y": [
          53,
          6
         ],
         "yaxis": "y2"
        },
        {
         "alignmentgroup": "True",
         "hovertemplate": "Nationality=Latvian<br>Period=Before 1983<br>Department=%{x}<br>Count=%{y}<extra></extra>",
         "legendgroup": "Latvian",
         "marker": {
          "color": "#0000CD",
          "pattern": {
           "shape": ""
          }
         },
         "name": "Latvian",
         "offsetgroup": "Latvian",
         "orientation": "v",
         "showlegend": true,
         "textposition": "outside",
         "texttemplate": "%{y}",
         "type": "bar",
         "x": [
          "Drawings & Prints"
         ],
         "xaxis": "x",
         "y": [
          12
         ],
         "yaxis": "y"
        },
        {
         "alignmentgroup": "True",
         "hovertemplate": "Nationality=Lithuanian<br>Period=Before 1983<br>Department=%{x}<br>Count=%{y}<extra></extra>",
         "legendgroup": "Lithuanian",
         "marker": {
          "color": "#191970",
          "pattern": {
           "shape": ""
          }
         },
         "name": "Lithuanian",
         "offsetgroup": "Lithuanian",
         "orientation": "v",
         "showlegend": true,
         "textposition": "outside",
         "texttemplate": "%{y}",
         "type": "bar",
         "x": [
          "Photography"
         ],
         "xaxis": "x",
         "y": [
          2
         ],
         "yaxis": "y"
        },
        {
         "alignmentgroup": "True",
         "hovertemplate": "Nationality=Malian<br>Period=Before 1983<br>Department=%{x}<br>Count=%{y}<extra></extra>",
         "legendgroup": "Malian",
         "marker": {
          "color": "#FFDEAD",
          "pattern": {
           "shape": ""
          }
         },
         "name": "Malian",
         "offsetgroup": "Malian",
         "orientation": "v",
         "showlegend": true,
         "textposition": "outside",
         "texttemplate": "%{y}",
         "type": "bar",
         "x": [
          "Photography"
         ],
         "xaxis": "x",
         "y": [
          6
         ],
         "yaxis": "y"
        },
        {
         "alignmentgroup": "True",
         "hovertemplate": "Nationality=Mexican<br>Period=Before 1983<br>Department=%{x}<br>Count=%{y}<extra></extra>",
         "legendgroup": "Mexican",
         "marker": {
          "color": "#DEB887",
          "pattern": {
           "shape": ""
          }
         },
         "name": "Mexican",
         "offsetgroup": "Mexican",
         "orientation": "v",
         "showlegend": true,
         "textposition": "outside",
         "texttemplate": "%{y}",
         "type": "bar",
         "x": [
          "Drawings & Prints",
          "Photography"
         ],
         "xaxis": "x",
         "y": [
          274,
          27
         ],
         "yaxis": "y"
        },
        {
         "alignmentgroup": "True",
         "hovertemplate": "Nationality=Mexican<br>Period=After 1983<br>Department=%{x}<br>Count=%{y}<extra></extra>",
         "legendgroup": "Mexican",
         "marker": {
          "color": "#DEB887",
          "pattern": {
           "shape": ""
          }
         },
         "name": "Mexican",
         "offsetgroup": "Mexican",
         "orientation": "v",
         "showlegend": false,
         "textposition": "outside",
         "texttemplate": "%{y}",
         "type": "bar",
         "x": [
          "Drawings & Prints",
          "Film",
          "Photography"
         ],
         "xaxis": "x2",
         "y": [
          120,
          6,
          37
         ],
         "yaxis": "y2"
        },
        {
         "alignmentgroup": "True",
         "hovertemplate": "Nationality=Nationality unknown<br>Period=Before 1983<br>Department=%{x}<br>Count=%{y}<extra></extra>",
         "legendgroup": "Nationality unknown",
         "marker": {
          "color": "#BC8F8F",
          "pattern": {
           "shape": ""
          }
         },
         "name": "Nationality unknown",
         "offsetgroup": "Nationality unknown",
         "orientation": "v",
         "showlegend": true,
         "textposition": "outside",
         "texttemplate": "%{y}",
         "type": "bar",
         "x": [
          "Drawings & Prints",
          "Photography"
         ],
         "xaxis": "x",
         "y": [
          123,
          12
         ],
         "yaxis": "y"
        },
        {
         "alignmentgroup": "True",
         "hovertemplate": "Nationality=Nigerian<br>Period=Before 1983<br>Department=%{x}<br>Count=%{y}<extra></extra>",
         "legendgroup": "Nigerian",
         "marker": {
          "color": "#DAA520",
          "pattern": {
           "shape": ""
          }
         },
         "name": "Nigerian",
         "offsetgroup": "Nigerian",
         "orientation": "v",
         "showlegend": true,
         "textposition": "outside",
         "texttemplate": "%{y}",
         "type": "bar",
         "x": [
          "Drawings & Prints",
          "Photography"
         ],
         "xaxis": "x",
         "y": [
          1,
          3
         ],
         "yaxis": "y"
        },
        {
         "alignmentgroup": "True",
         "hovertemplate": "Nationality=Norwegian<br>Period=Before 1983<br>Department=%{x}<br>Count=%{y}<extra></extra>",
         "legendgroup": "Norwegian",
         "marker": {
          "color": "#B8860B",
          "pattern": {
           "shape": ""
          }
         },
         "name": "Norwegian",
         "offsetgroup": "Norwegian",
         "orientation": "v",
         "showlegend": true,
         "textposition": "outside",
         "texttemplate": "%{y}",
         "type": "bar",
         "x": [
          "Drawings & Prints"
         ],
         "xaxis": "x",
         "y": [
          30
         ],
         "yaxis": "y"
        },
        {
         "alignmentgroup": "True",
         "hovertemplate": "Nationality=Norwegian<br>Period=After 1983<br>Department=%{x}<br>Count=%{y}<extra></extra>",
         "legendgroup": "Norwegian",
         "marker": {
          "color": "#B8860B",
          "pattern": {
           "shape": ""
          }
         },
         "name": "Norwegian",
         "offsetgroup": "Norwegian",
         "orientation": "v",
         "showlegend": false,
         "textposition": "outside",
         "texttemplate": "%{y}",
         "type": "bar",
         "x": [
          "Drawings & Prints"
         ],
         "xaxis": "x2",
         "y": [
          57
         ],
         "yaxis": "y2"
        },
        {
         "alignmentgroup": "True",
         "hovertemplate": "Nationality=Others<br>Period=Before 1983<br>Department=%{x}<br>Count=%{y}<extra></extra>",
         "legendgroup": "Others",
         "marker": {
          "color": "#D2691E",
          "pattern": {
           "shape": ""
          }
         },
         "name": "Others",
         "offsetgroup": "Others",
         "orientation": "v",
         "showlegend": true,
         "textposition": "outside",
         "texttemplate": "%{y}",
         "type": "bar",
         "x": [
          "Drawings & Prints",
          "Film",
          "Media and Performance",
          "Photography"
         ],
         "xaxis": "x",
         "y": [
          11,
          5,
          6,
          7
         ],
         "yaxis": "y"
        },
        {
         "alignmentgroup": "True",
         "hovertemplate": "Nationality=Others<br>Period=After 1983<br>Department=%{x}<br>Count=%{y}<extra></extra>",
         "legendgroup": "Others",
         "marker": {
          "color": "#D2691E",
          "pattern": {
           "shape": ""
          }
         },
         "name": "Others",
         "offsetgroup": "Others",
         "orientation": "v",
         "showlegend": false,
         "textposition": "outside",
         "texttemplate": "%{y}",
         "type": "bar",
         "x": [
          "Drawings & Prints",
          "Film",
          "Media and Performance",
          "Photography"
         ],
         "xaxis": "x2",
         "y": [
          596,
          52,
          193,
          56
         ],
         "yaxis": "y2"
        },
        {
         "alignmentgroup": "True",
         "hovertemplate": "Nationality=Peruvian<br>Period=Before 1983<br>Department=%{x}<br>Count=%{y}<extra></extra>",
         "legendgroup": "Peruvian",
         "marker": {
          "color": "#8B4513",
          "pattern": {
           "shape": ""
          }
         },
         "name": "Peruvian",
         "offsetgroup": "Peruvian",
         "orientation": "v",
         "showlegend": true,
         "textposition": "outside",
         "texttemplate": "%{y}",
         "type": "bar",
         "x": [
          "Drawings & Prints",
          "Photography"
         ],
         "xaxis": "x",
         "y": [
          6,
          11
         ],
         "yaxis": "y"
        },
        {
         "alignmentgroup": "True",
         "hovertemplate": "Nationality=Peruvian<br>Period=After 1983<br>Department=%{x}<br>Count=%{y}<extra></extra>",
         "legendgroup": "Peruvian",
         "marker": {
          "color": "#8B4513",
          "pattern": {
           "shape": ""
          }
         },
         "name": "Peruvian",
         "offsetgroup": "Peruvian",
         "orientation": "v",
         "showlegend": false,
         "textposition": "outside",
         "texttemplate": "%{y}",
         "type": "bar",
         "x": [
          "Drawings & Prints",
          "Photography"
         ],
         "xaxis": "x2",
         "y": [
          13,
          6
         ],
         "yaxis": "y2"
        },
        {
         "alignmentgroup": "True",
         "hovertemplate": "Nationality=Polish<br>Period=Before 1983<br>Department=%{x}<br>Count=%{y}<extra></extra>",
         "legendgroup": "Polish",
         "marker": {
          "color": "#A52A2A",
          "pattern": {
           "shape": ""
          }
         },
         "name": "Polish",
         "offsetgroup": "Polish",
         "orientation": "v",
         "showlegend": true,
         "textposition": "outside",
         "texttemplate": "%{y}",
         "type": "bar",
         "x": [
          "Drawings & Prints",
          "Film",
          "Photography"
         ],
         "xaxis": "x",
         "y": [
          50,
          3,
          17
         ],
         "yaxis": "y"
        },
        {
         "alignmentgroup": "True",
         "hovertemplate": "Nationality=Polish<br>Period=After 1983<br>Department=%{x}<br>Count=%{y}<extra></extra>",
         "legendgroup": "Polish",
         "marker": {
          "color": "#A52A2A",
          "pattern": {
           "shape": ""
          }
         },
         "name": "Polish",
         "offsetgroup": "Polish",
         "orientation": "v",
         "showlegend": false,
         "textposition": "outside",
         "texttemplate": "%{y}",
         "type": "bar",
         "x": [
          "Drawings & Prints",
          "Photography"
         ],
         "xaxis": "x2",
         "y": [
          73,
          11
         ],
         "yaxis": "y2"
        },
        {
         "alignmentgroup": "True",
         "hovertemplate": "Nationality=Portuguese<br>Period=Before 1983<br>Department=%{x}<br>Count=%{y}<extra></extra>",
         "legendgroup": "Portuguese",
         "marker": {
          "color": "#F0FFF0",
          "pattern": {
           "shape": ""
          }
         },
         "name": "Portuguese",
         "offsetgroup": "Portuguese",
         "orientation": "v",
         "showlegend": true,
         "textposition": "outside",
         "texttemplate": "%{y}",
         "type": "bar",
         "x": [
          "Drawings & Prints"
         ],
         "xaxis": "x",
         "y": [
          2
         ],
         "yaxis": "y"
        },
        {
         "alignmentgroup": "True",
         "hovertemplate": "Nationality=Portuguese<br>Period=After 1983<br>Department=%{x}<br>Count=%{y}<extra></extra>",
         "legendgroup": "Portuguese",
         "marker": {
          "color": "#F0FFF0",
          "pattern": {
           "shape": ""
          }
         },
         "name": "Portuguese",
         "offsetgroup": "Portuguese",
         "orientation": "v",
         "showlegend": false,
         "textposition": "outside",
         "texttemplate": "%{y}",
         "type": "bar",
         "x": [
          "Drawings & Prints"
         ],
         "xaxis": "x2",
         "y": [
          17
         ],
         "yaxis": "y2"
        },
        {
         "alignmentgroup": "True",
         "hovertemplate": "Nationality=Romanian<br>Period=Before 1983<br>Department=%{x}<br>Count=%{y}<extra></extra>",
         "legendgroup": "Romanian",
         "marker": {
          "color": "#708090",
          "pattern": {
           "shape": ""
          }
         },
         "name": "Romanian",
         "offsetgroup": "Romanian",
         "orientation": "v",
         "showlegend": true,
         "textposition": "outside",
         "texttemplate": "%{y}",
         "type": "bar",
         "x": [
          "Drawings & Prints",
          "Media and Performance"
         ],
         "xaxis": "x",
         "y": [
          14,
          1
         ],
         "yaxis": "y"
        },
        {
         "alignmentgroup": "True",
         "hovertemplate": "Nationality=Romanian<br>Period=After 1983<br>Department=%{x}<br>Count=%{y}<extra></extra>",
         "legendgroup": "Romanian",
         "marker": {
          "color": "#708090",
          "pattern": {
           "shape": ""
          }
         },
         "name": "Romanian",
         "offsetgroup": "Romanian",
         "orientation": "v",
         "showlegend": false,
         "textposition": "outside",
         "texttemplate": "%{y}",
         "type": "bar",
         "x": [
          "Drawings & Prints"
         ],
         "xaxis": "x2",
         "y": [
          7
         ],
         "yaxis": "y2"
        },
        {
         "alignmentgroup": "True",
         "hovertemplate": "Nationality=Russian<br>Period=Before 1983<br>Department=%{x}<br>Count=%{y}<extra></extra>",
         "legendgroup": "Russian",
         "marker": {
          "color": "#2F4F4F",
          "pattern": {
           "shape": ""
          }
         },
         "name": "Russian",
         "offsetgroup": "Russian",
         "orientation": "v",
         "showlegend": true,
         "textposition": "outside",
         "texttemplate": "%{y}",
         "type": "bar",
         "x": [
          "Drawings & Prints",
          "Photography"
         ],
         "xaxis": "x",
         "y": [
          679,
          29
         ],
         "yaxis": "y"
        },
        {
         "alignmentgroup": "True",
         "hovertemplate": "Nationality=Russian<br>Period=After 1983<br>Department=%{x}<br>Count=%{y}<extra></extra>",
         "legendgroup": "Russian",
         "marker": {
          "color": "#2F4F4F",
          "pattern": {
           "shape": ""
          }
         },
         "name": "Russian",
         "offsetgroup": "Russian",
         "orientation": "v",
         "showlegend": false,
         "textposition": "outside",
         "texttemplate": "%{y}",
         "type": "bar",
         "x": [
          "Drawings & Prints",
          "Photography"
         ],
         "xaxis": "x2",
         "y": [
          45,
          22
         ],
         "yaxis": "y2"
        },
        {
         "alignmentgroup": "True",
         "hovertemplate": "Nationality=Serbian<br>Period=Before 1983<br>Department=%{x}<br>Count=%{y}<extra></extra>",
         "legendgroup": "Serbian",
         "marker": {
          "color": "#696969",
          "pattern": {
           "shape": ""
          }
         },
         "name": "Serbian",
         "offsetgroup": "Serbian",
         "orientation": "v",
         "showlegend": true,
         "textposition": "outside",
         "texttemplate": "%{y}",
         "type": "bar",
         "x": [
          "Photography"
         ],
         "xaxis": "x",
         "y": [
          3
         ],
         "yaxis": "y"
        },
        {
         "alignmentgroup": "True",
         "hovertemplate": "Nationality=Slovenian<br>Period=Before 1983<br>Department=%{x}<br>Count=%{y}<extra></extra>",
         "legendgroup": "Slovenian",
         "marker": {
          "color": "#8FBC8F",
          "pattern": {
           "shape": ""
          }
         },
         "name": "Slovenian",
         "offsetgroup": "Slovenian",
         "orientation": "v",
         "showlegend": true,
         "textposition": "outside",
         "texttemplate": "%{y}",
         "type": "bar",
         "x": [
          "Drawings & Prints"
         ],
         "xaxis": "x",
         "y": [
          2
         ],
         "yaxis": "y"
        },
        {
         "alignmentgroup": "True",
         "hovertemplate": "Nationality=Slovenian<br>Period=After 1983<br>Department=%{x}<br>Count=%{y}<extra></extra>",
         "legendgroup": "Slovenian",
         "marker": {
          "color": "#8FBC8F",
          "pattern": {
           "shape": ""
          }
         },
         "name": "Slovenian",
         "offsetgroup": "Slovenian",
         "orientation": "v",
         "showlegend": false,
         "textposition": "outside",
         "texttemplate": "%{y}",
         "type": "bar",
         "x": [
          "Drawings & Prints"
         ],
         "xaxis": "x2",
         "y": [
          10
         ],
         "yaxis": "y2"
        },
        {
         "alignmentgroup": "True",
         "hovertemplate": "Nationality=South African<br>Period=Before 1983<br>Department=%{x}<br>Count=%{y}<extra></extra>",
         "legendgroup": "South African",
         "marker": {
          "color": "#00CED1",
          "pattern": {
           "shape": ""
          }
         },
         "name": "South African",
         "offsetgroup": "South African",
         "orientation": "v",
         "showlegend": true,
         "textposition": "outside",
         "texttemplate": "%{y}",
         "type": "bar",
         "x": [
          "Drawings & Prints",
          "Film",
          "Photography"
         ],
         "xaxis": "x",
         "y": [
          6,
          3,
          18
         ],
         "yaxis": "y"
        },
        {
         "alignmentgroup": "True",
         "hovertemplate": "Nationality=South African<br>Period=After 1983<br>Department=%{x}<br>Count=%{y}<extra></extra>",
         "legendgroup": "South African",
         "marker": {
          "color": "#00CED1",
          "pattern": {
           "shape": ""
          }
         },
         "name": "South African",
         "offsetgroup": "South African",
         "orientation": "v",
         "showlegend": false,
         "textposition": "outside",
         "texttemplate": "%{y}",
         "type": "bar",
         "x": [
          "Drawings & Prints",
          "Photography"
         ],
         "xaxis": "x2",
         "y": [
          247,
          61
         ],
         "yaxis": "y2"
        },
        {
         "alignmentgroup": "True",
         "hovertemplate": "Nationality=Spanish<br>Period=Before 1983<br>Department=%{x}<br>Count=%{y}<extra></extra>",
         "legendgroup": "Spanish",
         "marker": {
          "color": "#FFC0CB",
          "pattern": {
           "shape": ""
          }
         },
         "name": "Spanish",
         "offsetgroup": "Spanish",
         "orientation": "v",
         "showlegend": true,
         "textposition": "outside",
         "texttemplate": "%{y}",
         "type": "bar",
         "x": [
          "Drawings & Prints",
          "Film",
          "Photography"
         ],
         "xaxis": "x",
         "y": [
          708,
          7,
          3
         ],
         "yaxis": "y"
        },
        {
         "alignmentgroup": "True",
         "hovertemplate": "Nationality=Spanish<br>Period=After 1983<br>Department=%{x}<br>Count=%{y}<extra></extra>",
         "legendgroup": "Spanish",
         "marker": {
          "color": "#FFC0CB",
          "pattern": {
           "shape": ""
          }
         },
         "name": "Spanish",
         "offsetgroup": "Spanish",
         "orientation": "v",
         "showlegend": false,
         "textposition": "outside",
         "texttemplate": "%{y}",
         "type": "bar",
         "x": [
          "Drawings & Prints",
          "Film",
          "Media and Performance",
          "Photography"
         ],
         "xaxis": "x2",
         "y": [
          413,
          19,
          13,
          9
         ],
         "yaxis": "y2"
        },
        {
         "alignmentgroup": "True",
         "hovertemplate": "Nationality=Sudanese<br>Period=Before 1983<br>Department=%{x}<br>Count=%{y}<extra></extra>",
         "legendgroup": "Sudanese",
         "marker": {
          "color": "#FF69B4",
          "pattern": {
           "shape": ""
          }
         },
         "name": "Sudanese",
         "offsetgroup": "Sudanese",
         "orientation": "v",
         "showlegend": true,
         "textposition": "outside",
         "texttemplate": "%{y}",
         "type": "bar",
         "x": [
          "Drawings & Prints"
         ],
         "xaxis": "x",
         "y": [
          11
         ],
         "yaxis": "y"
        },
        {
         "alignmentgroup": "True",
         "hovertemplate": "Nationality=Sudanese<br>Period=After 1983<br>Department=%{x}<br>Count=%{y}<extra></extra>",
         "legendgroup": "Sudanese",
         "marker": {
          "color": "#FF69B4",
          "pattern": {
           "shape": ""
          }
         },
         "name": "Sudanese",
         "offsetgroup": "Sudanese",
         "orientation": "v",
         "showlegend": false,
         "textposition": "outside",
         "texttemplate": "%{y}",
         "type": "bar",
         "x": [
          "Drawings & Prints"
         ],
         "xaxis": "x2",
         "y": [
          13
         ],
         "yaxis": "y2"
        },
        {
         "alignmentgroup": "True",
         "hovertemplate": "Nationality=Swedish<br>Period=Before 1983<br>Department=%{x}<br>Count=%{y}<extra></extra>",
         "legendgroup": "Swedish",
         "marker": {
          "color": "#DB7093",
          "pattern": {
           "shape": ""
          }
         },
         "name": "Swedish",
         "offsetgroup": "Swedish",
         "orientation": "v",
         "showlegend": true,
         "textposition": "outside",
         "texttemplate": "%{y}",
         "type": "bar",
         "x": [
          "Drawings & Prints",
          "Photography"
         ],
         "xaxis": "x",
         "y": [
          24,
          9
         ],
         "yaxis": "y"
        },
        {
         "alignmentgroup": "True",
         "hovertemplate": "Nationality=Swedish<br>Period=After 1983<br>Department=%{x}<br>Count=%{y}<extra></extra>",
         "legendgroup": "Swedish",
         "marker": {
          "color": "#DB7093",
          "pattern": {
           "shape": ""
          }
         },
         "name": "Swedish",
         "offsetgroup": "Swedish",
         "orientation": "v",
         "showlegend": false,
         "textposition": "outside",
         "texttemplate": "%{y}",
         "type": "bar",
         "x": [
          "Drawings & Prints",
          "Photography"
         ],
         "xaxis": "x2",
         "y": [
          25,
          6
         ],
         "yaxis": "y2"
        },
        {
         "alignmentgroup": "True",
         "hovertemplate": "Nationality=Swiss<br>Period=Before 1983<br>Department=%{x}<br>Count=%{y}<extra></extra>",
         "legendgroup": "Swiss",
         "marker": {
          "color": "#C71585",
          "pattern": {
           "shape": ""
          }
         },
         "name": "Swiss",
         "offsetgroup": "Swiss",
         "orientation": "v",
         "showlegend": true,
         "textposition": "outside",
         "texttemplate": "%{y}",
         "type": "bar",
         "x": [
          "Drawings & Prints",
          "Media and Performance",
          "Photography"
         ],
         "xaxis": "x",
         "y": [
          220,
          38,
          16
         ],
         "yaxis": "y"
        },
        {
         "alignmentgroup": "True",
         "hovertemplate": "Nationality=Swiss<br>Period=After 1983<br>Department=%{x}<br>Count=%{y}<extra></extra>",
         "legendgroup": "Swiss",
         "marker": {
          "color": "#C71585",
          "pattern": {
           "shape": ""
          }
         },
         "name": "Swiss",
         "offsetgroup": "Swiss",
         "orientation": "v",
         "showlegend": false,
         "textposition": "outside",
         "texttemplate": "%{y}",
         "type": "bar",
         "x": [
          "Drawings & Prints",
          "Media and Performance",
          "Photography"
         ],
         "xaxis": "x2",
         "y": [
          372,
          120,
          17
         ],
         "yaxis": "y2"
        },
        {
         "alignmentgroup": "True",
         "hovertemplate": "Nationality=Turkish<br>Period=Before 1983<br>Department=%{x}<br>Count=%{y}<extra></extra>",
         "legendgroup": "Turkish",
         "marker": {
          "color": "#E6E6FA",
          "pattern": {
           "shape": ""
          }
         },
         "name": "Turkish",
         "offsetgroup": "Turkish",
         "orientation": "v",
         "showlegend": true,
         "textposition": "outside",
         "texttemplate": "%{y}",
         "type": "bar",
         "x": [
          "Drawings & Prints"
         ],
         "xaxis": "x",
         "y": [
          6
         ],
         "yaxis": "y"
        },
        {
         "alignmentgroup": "True",
         "hovertemplate": "Nationality=Turkish<br>Period=After 1983<br>Department=%{x}<br>Count=%{y}<extra></extra>",
         "legendgroup": "Turkish",
         "marker": {
          "color": "#E6E6FA",
          "pattern": {
           "shape": ""
          }
         },
         "name": "Turkish",
         "offsetgroup": "Turkish",
         "orientation": "v",
         "showlegend": false,
         "textposition": "outside",
         "texttemplate": "%{y}",
         "type": "bar",
         "x": [
          "Drawings & Prints"
         ],
         "xaxis": "x2",
         "y": [
          10
         ],
         "yaxis": "y2"
        },
        {
         "alignmentgroup": "True",
         "hovertemplate": "Nationality=Ukrainian<br>Period=Before 1983<br>Department=%{x}<br>Count=%{y}<extra></extra>",
         "legendgroup": "Ukrainian",
         "marker": {
          "color": "#DDA0DD",
          "pattern": {
           "shape": ""
          }
         },
         "name": "Ukrainian",
         "offsetgroup": "Ukrainian",
         "orientation": "v",
         "showlegend": true,
         "textposition": "outside",
         "texttemplate": "%{y}",
         "type": "bar",
         "x": [
          "Drawings & Prints",
          "Photography"
         ],
         "xaxis": "x",
         "y": [
          28,
          3
         ],
         "yaxis": "y"
        },
        {
         "alignmentgroup": "True",
         "hovertemplate": "Nationality=Ukrainian<br>Period=After 1983<br>Department=%{x}<br>Count=%{y}<extra></extra>",
         "legendgroup": "Ukrainian",
         "marker": {
          "color": "#DDA0DD",
          "pattern": {
           "shape": ""
          }
         },
         "name": "Ukrainian",
         "offsetgroup": "Ukrainian",
         "orientation": "v",
         "showlegend": false,
         "textposition": "outside",
         "texttemplate": "%{y}",
         "type": "bar",
         "x": [
          "Photography"
         ],
         "xaxis": "x2",
         "y": [
          32
         ],
         "yaxis": "y2"
        },
        {
         "alignmentgroup": "True",
         "hovertemplate": "Nationality=Uruguayan<br>Period=Before 1983<br>Department=%{x}<br>Count=%{y}<extra></extra>",
         "legendgroup": "Uruguayan",
         "marker": {
          "color": "#EE82EE",
          "pattern": {
           "shape": ""
          }
         },
         "name": "Uruguayan",
         "offsetgroup": "Uruguayan",
         "orientation": "v",
         "showlegend": true,
         "textposition": "outside",
         "texttemplate": "%{y}",
         "type": "bar",
         "x": [
          "Drawings & Prints"
         ],
         "xaxis": "x",
         "y": [
          7
         ],
         "yaxis": "y"
        },
        {
         "alignmentgroup": "True",
         "hovertemplate": "Nationality=Uruguayan<br>Period=After 1983<br>Department=%{x}<br>Count=%{y}<extra></extra>",
         "legendgroup": "Uruguayan",
         "marker": {
          "color": "#EE82EE",
          "pattern": {
           "shape": ""
          }
         },
         "name": "Uruguayan",
         "offsetgroup": "Uruguayan",
         "orientation": "v",
         "showlegend": false,
         "textposition": "outside",
         "texttemplate": "%{y}",
         "type": "bar",
         "x": [
          "Drawings & Prints",
          "Media and Performance"
         ],
         "xaxis": "x2",
         "y": [
          43,
          5
         ],
         "yaxis": "y2"
        },
        {
         "alignmentgroup": "True",
         "hovertemplate": "Nationality=Venezuelan<br>Period=Before 1983<br>Department=%{x}<br>Count=%{y}<extra></extra>",
         "legendgroup": "Venezuelan",
         "marker": {
          "color": "#9932CC",
          "pattern": {
           "shape": ""
          }
         },
         "name": "Venezuelan",
         "offsetgroup": "Venezuelan",
         "orientation": "v",
         "showlegend": true,
         "textposition": "outside",
         "texttemplate": "%{y}",
         "type": "bar",
         "x": [
          "Drawings & Prints",
          "Photography"
         ],
         "xaxis": "x",
         "y": [
          65,
          28
         ],
         "yaxis": "y"
        },
        {
         "alignmentgroup": "True",
         "hovertemplate": "Nationality=Venezuelan<br>Period=After 1983<br>Department=%{x}<br>Count=%{y}<extra></extra>",
         "legendgroup": "Venezuelan",
         "marker": {
          "color": "#9932CC",
          "pattern": {
           "shape": ""
          }
         },
         "name": "Venezuelan",
         "offsetgroup": "Venezuelan",
         "orientation": "v",
         "showlegend": false,
         "textposition": "outside",
         "texttemplate": "%{y}",
         "type": "bar",
         "x": [
          "Drawings & Prints"
         ],
         "xaxis": "x2",
         "y": [
          37
         ],
         "yaxis": "y2"
        },
        {
         "alignmentgroup": "True",
         "hovertemplate": "Nationality=Yugoslav<br>Period=Before 1983<br>Department=%{x}<br>Count=%{y}<extra></extra>",
         "legendgroup": "Yugoslav",
         "marker": {
          "color": "#8B008B",
          "pattern": {
           "shape": ""
          }
         },
         "name": "Yugoslav",
         "offsetgroup": "Yugoslav",
         "orientation": "v",
         "showlegend": true,
         "textposition": "outside",
         "texttemplate": "%{y}",
         "type": "bar",
         "x": [
          "Drawings & Prints",
          "Media and Performance"
         ],
         "xaxis": "x",
         "y": [
          23,
          3
         ],
         "yaxis": "y"
        },
        {
         "alignmentgroup": "True",
         "hovertemplate": "Nationality=Yugoslav<br>Period=After 1983<br>Department=%{x}<br>Count=%{y}<extra></extra>",
         "legendgroup": "Yugoslav",
         "marker": {
          "color": "#8B008B",
          "pattern": {
           "shape": ""
          }
         },
         "name": "Yugoslav",
         "offsetgroup": "Yugoslav",
         "orientation": "v",
         "showlegend": false,
         "textposition": "outside",
         "texttemplate": "%{y}",
         "type": "bar",
         "x": [
          "Drawings & Prints"
         ],
         "xaxis": "x2",
         "y": [
          60
         ],
         "yaxis": "y2"
        },
        {
         "alignmentgroup": "True",
         "hovertemplate": "Nationality=missing<br>Period=Before 1983<br>Department=%{x}<br>Count=%{y}<extra></extra>",
         "legendgroup": "missing",
         "marker": {
          "color": "#9370DB",
          "pattern": {
           "shape": ""
          }
         },
         "name": "missing",
         "offsetgroup": "missing",
         "orientation": "v",
         "showlegend": true,
         "textposition": "outside",
         "texttemplate": "%{y}",
         "type": "bar",
         "x": [
          "Drawings & Prints",
          "Film",
          "Media and Performance",
          "Photography"
         ],
         "xaxis": "x",
         "y": [
          703,
          63,
          11,
          899
         ],
         "yaxis": "y"
        },
        {
         "alignmentgroup": "True",
         "hovertemplate": "Nationality=missing<br>Period=After 1983<br>Department=%{x}<br>Count=%{y}<extra></extra>",
         "legendgroup": "missing",
         "marker": {
          "color": "#9370DB",
          "pattern": {
           "shape": ""
          }
         },
         "name": "missing",
         "offsetgroup": "missing",
         "orientation": "v",
         "showlegend": false,
         "textposition": "outside",
         "texttemplate": "%{y}",
         "type": "bar",
         "x": [
          "Drawings & Prints",
          "Film",
          "Media and Performance",
          "Photography"
         ],
         "xaxis": "x2",
         "y": [
          754,
          46,
          65,
          12
         ],
         "yaxis": "y2"
        },
        {
         "alignmentgroup": "True",
         "hovertemplate": "Nationality=Albanian<br>Period=After 1983<br>Department=%{x}<br>Count=%{y}<extra></extra>",
         "legendgroup": "Albanian",
         "marker": {
          "color": "#483D8B",
          "pattern": {
           "shape": ""
          }
         },
         "name": "Albanian",
         "offsetgroup": "Albanian",
         "orientation": "v",
         "showlegend": true,
         "textposition": "outside",
         "texttemplate": "%{y}",
         "type": "bar",
         "x": [
          "Drawings & Prints"
         ],
         "xaxis": "x2",
         "y": [
          20
         ],
         "yaxis": "y2"
        },
        {
         "alignmentgroup": "True",
         "hovertemplate": "Nationality=Cameroonian<br>Period=After 1983<br>Department=%{x}<br>Count=%{y}<extra></extra>",
         "legendgroup": "Cameroonian",
         "marker": {
          "color": "#4B0082",
          "pattern": {
           "shape": ""
          }
         },
         "name": "Cameroonian",
         "offsetgroup": "Cameroonian",
         "orientation": "v",
         "showlegend": true,
         "textposition": "outside",
         "texttemplate": "%{y}",
         "type": "bar",
         "x": [
          "Drawings & Prints"
         ],
         "xaxis": "x2",
         "y": [
          13
         ],
         "yaxis": "y2"
        },
        {
         "alignmentgroup": "True",
         "hovertemplate": "Nationality=Egyptian<br>Period=After 1983<br>Department=%{x}<br>Count=%{y}<extra></extra>",
         "legendgroup": "Egyptian",
         "marker": {
          "color": "#FA8072",
          "pattern": {
           "shape": ""
          }
         },
         "name": "Egyptian",
         "offsetgroup": "Egyptian",
         "orientation": "v",
         "showlegend": true,
         "textposition": "outside",
         "texttemplate": "%{y}",
         "type": "bar",
         "x": [
          "Drawings & Prints",
          "Media and Performance"
         ],
         "xaxis": "x2",
         "y": [
          37,
          17
         ],
         "yaxis": "y2"
        },
        {
         "alignmentgroup": "True",
         "hovertemplate": "Nationality=Emirati<br>Period=After 1983<br>Department=%{x}<br>Count=%{y}<extra></extra>",
         "legendgroup": "Emirati",
         "marker": {
          "color": "#DC143C",
          "pattern": {
           "shape": ""
          }
         },
         "name": "Emirati",
         "offsetgroup": "Emirati",
         "orientation": "v",
         "showlegend": true,
         "textposition": "outside",
         "texttemplate": "%{y}",
         "type": "bar",
         "x": [
          "Photography"
         ],
         "xaxis": "x2",
         "y": [
          6
         ],
         "yaxis": "y2"
        },
        {
         "alignmentgroup": "True",
         "hovertemplate": "Nationality=Ethiopian<br>Period=After 1983<br>Department=%{x}<br>Count=%{y}<extra></extra>",
         "legendgroup": "Ethiopian",
         "marker": {
          "color": "#8B0000",
          "pattern": {
           "shape": ""
          }
         },
         "name": "Ethiopian",
         "offsetgroup": "Ethiopian",
         "orientation": "v",
         "showlegend": true,
         "textposition": "outside",
         "texttemplate": "%{y}",
         "type": "bar",
         "x": [
          "Photography"
         ],
         "xaxis": "x2",
         "y": [
          5
         ],
         "yaxis": "y2"
        },
        {
         "alignmentgroup": "True",
         "hovertemplate": "Nationality=Filipino<br>Period=After 1983<br>Department=%{x}<br>Count=%{y}<extra></extra>",
         "legendgroup": "Filipino",
         "marker": {
          "color": "#FF8C00",
          "pattern": {
           "shape": ""
          }
         },
         "name": "Filipino",
         "offsetgroup": "Filipino",
         "orientation": "v",
         "showlegend": true,
         "textposition": "outside",
         "texttemplate": "%{y}",
         "type": "bar",
         "x": [
          "Photography"
         ],
         "xaxis": "x2",
         "y": [
          25
         ],
         "yaxis": "y2"
        },
        {
         "alignmentgroup": "True",
         "hovertemplate": "Nationality=Iranian<br>Period=After 1983<br>Department=%{x}<br>Count=%{y}<extra></extra>",
         "legendgroup": "Iranian",
         "marker": {
          "color": "#FF4500",
          "pattern": {
           "shape": ""
          }
         },
         "name": "Iranian",
         "offsetgroup": "Iranian",
         "orientation": "v",
         "showlegend": true,
         "textposition": "outside",
         "texttemplate": "%{y}",
         "type": "bar",
         "x": [
          "Media and Performance"
         ],
         "xaxis": "x2",
         "y": [
          9
         ],
         "yaxis": "y2"
        },
        {
         "alignmentgroup": "True",
         "hovertemplate": "Nationality=Kenyan<br>Period=After 1983<br>Department=%{x}<br>Count=%{y}<extra></extra>",
         "legendgroup": "Kenyan",
         "marker": {
          "color": "#FFD700",
          "pattern": {
           "shape": ""
          }
         },
         "name": "Kenyan",
         "offsetgroup": "Kenyan",
         "orientation": "v",
         "showlegend": true,
         "textposition": "outside",
         "texttemplate": "%{y}",
         "type": "bar",
         "x": [
          "Drawings & Prints"
         ],
         "xaxis": "x2",
         "y": [
          11
         ],
         "yaxis": "y2"
        },
        {
         "alignmentgroup": "True",
         "hovertemplate": "Nationality=Lebanese<br>Period=After 1983<br>Department=%{x}<br>Count=%{y}<extra></extra>",
         "legendgroup": "Lebanese",
         "marker": {
          "color": "#FFFF00",
          "pattern": {
           "shape": ""
          }
         },
         "name": "Lebanese",
         "offsetgroup": "Lebanese",
         "orientation": "v",
         "showlegend": true,
         "textposition": "outside",
         "texttemplate": "%{y}",
         "type": "bar",
         "x": [
          "Drawings & Prints",
          "Media and Performance"
         ],
         "xaxis": "x2",
         "y": [
          37,
          9
         ],
         "yaxis": "y2"
        },
        {
         "alignmentgroup": "True",
         "hovertemplate": "Nationality=Moroccan<br>Period=After 1983<br>Department=%{x}<br>Count=%{y}<extra></extra>",
         "legendgroup": "Moroccan",
         "marker": {
          "color": "#F0E68C",
          "pattern": {
           "shape": ""
          }
         },
         "name": "Moroccan",
         "offsetgroup": "Moroccan",
         "orientation": "v",
         "showlegend": true,
         "textposition": "outside",
         "texttemplate": "%{y}",
         "type": "bar",
         "x": [
          "Photography"
         ],
         "xaxis": "x2",
         "y": [
          10
         ],
         "yaxis": "y2"
        },
        {
         "alignmentgroup": "True",
         "hovertemplate": "Nationality=Native American<br>Period=After 1983<br>Department=%{x}<br>Count=%{y}<extra></extra>",
         "legendgroup": "Native American",
         "marker": {
          "color": "#7FFF00",
          "pattern": {
           "shape": ""
          }
         },
         "name": "Native American",
         "offsetgroup": "Native American",
         "orientation": "v",
         "showlegend": true,
         "textposition": "outside",
         "texttemplate": "%{y}",
         "type": "bar",
         "x": [
          "Photography"
         ],
         "xaxis": "x2",
         "y": [
          17
         ],
         "yaxis": "y2"
        },
        {
         "alignmentgroup": "True",
         "hovertemplate": "Nationality=Pakistani<br>Period=After 1983<br>Department=%{x}<br>Count=%{y}<extra></extra>",
         "legendgroup": "Pakistani",
         "marker": {
          "color": "#32CD32",
          "pattern": {
           "shape": ""
          }
         },
         "name": "Pakistani",
         "offsetgroup": "Pakistani",
         "orientation": "v",
         "showlegend": true,
         "textposition": "outside",
         "texttemplate": "%{y}",
         "type": "bar",
         "x": [
          "Drawings & Prints"
         ],
         "xaxis": "x2",
         "y": [
          48
         ],
         "yaxis": "y2"
        },
        {
         "alignmentgroup": "True",
         "hovertemplate": "Nationality=Palestinian<br>Period=After 1983<br>Department=%{x}<br>Count=%{y}<extra></extra>",
         "legendgroup": "Palestinian",
         "marker": {
          "color": "#90EE90",
          "pattern": {
           "shape": ""
          }
         },
         "name": "Palestinian",
         "offsetgroup": "Palestinian",
         "orientation": "v",
         "showlegend": true,
         "textposition": "outside",
         "texttemplate": "%{y}",
         "type": "bar",
         "x": [
          "Media and Performance"
         ],
         "xaxis": "x2",
         "y": [
          7
         ],
         "yaxis": "y2"
        },
        {
         "alignmentgroup": "True",
         "hovertemplate": "Nationality=Thai<br>Period=After 1983<br>Department=%{x}<br>Count=%{y}<extra></extra>",
         "legendgroup": "Thai",
         "marker": {
          "color": "#00FA9A",
          "pattern": {
           "shape": ""
          }
         },
         "name": "Thai",
         "offsetgroup": "Thai",
         "orientation": "v",
         "showlegend": true,
         "textposition": "outside",
         "texttemplate": "%{y}",
         "type": "bar",
         "x": [
          "Drawings & Prints"
         ],
         "xaxis": "x2",
         "y": [
          30
         ],
         "yaxis": "y2"
        }
       ],
       "layout": {
        "annotations": [
         {
          "font": {},
          "showarrow": false,
          "text": "Period=Before 1983",
          "x": 0.235,
          "xanchor": "center",
          "xref": "paper",
          "y": 1,
          "yanchor": "bottom",
          "yref": "paper"
         },
         {
          "font": {},
          "showarrow": false,
          "text": "Period=After 1983",
          "x": 0.765,
          "xanchor": "center",
          "xref": "paper",
          "y": 1,
          "yanchor": "bottom",
          "yref": "paper"
         }
        ],
        "barmode": "relative",
        "height": 600,
        "legend": {
         "title": {
          "text": "Nationality"
         },
         "tracegroupgap": 0
        },
        "template": {
         "data": {
          "bar": [
           {
            "error_x": {
             "color": "rgb(36,36,36)"
            },
            "error_y": {
             "color": "rgb(36,36,36)"
            },
            "marker": {
             "line": {
              "color": "white",
              "width": 0.5
             },
             "pattern": {
              "fillmode": "overlay",
              "size": 10,
              "solidity": 0.2
             }
            },
            "type": "bar"
           }
          ],
          "barpolar": [
           {
            "marker": {
             "line": {
              "color": "white",
              "width": 0.5
             },
             "pattern": {
              "fillmode": "overlay",
              "size": 10,
              "solidity": 0.2
             }
            },
            "type": "barpolar"
           }
          ],
          "carpet": [
           {
            "aaxis": {
             "endlinecolor": "rgb(36,36,36)",
             "gridcolor": "white",
             "linecolor": "white",
             "minorgridcolor": "white",
             "startlinecolor": "rgb(36,36,36)"
            },
            "baxis": {
             "endlinecolor": "rgb(36,36,36)",
             "gridcolor": "white",
             "linecolor": "white",
             "minorgridcolor": "white",
             "startlinecolor": "rgb(36,36,36)"
            },
            "type": "carpet"
           }
          ],
          "choropleth": [
           {
            "colorbar": {
             "outlinewidth": 1,
             "tickcolor": "rgb(36,36,36)",
             "ticks": "outside"
            },
            "type": "choropleth"
           }
          ],
          "contour": [
           {
            "colorbar": {
             "outlinewidth": 1,
             "tickcolor": "rgb(36,36,36)",
             "ticks": "outside"
            },
            "colorscale": [
             [
              0,
              "#440154"
             ],
             [
              0.1111111111111111,
              "#482878"
             ],
             [
              0.2222222222222222,
              "#3e4989"
             ],
             [
              0.3333333333333333,
              "#31688e"
             ],
             [
              0.4444444444444444,
              "#26828e"
             ],
             [
              0.5555555555555556,
              "#1f9e89"
             ],
             [
              0.6666666666666666,
              "#35b779"
             ],
             [
              0.7777777777777778,
              "#6ece58"
             ],
             [
              0.8888888888888888,
              "#b5de2b"
             ],
             [
              1,
              "#fde725"
             ]
            ],
            "type": "contour"
           }
          ],
          "contourcarpet": [
           {
            "colorbar": {
             "outlinewidth": 1,
             "tickcolor": "rgb(36,36,36)",
             "ticks": "outside"
            },
            "type": "contourcarpet"
           }
          ],
          "heatmap": [
           {
            "colorbar": {
             "outlinewidth": 1,
             "tickcolor": "rgb(36,36,36)",
             "ticks": "outside"
            },
            "colorscale": [
             [
              0,
              "#440154"
             ],
             [
              0.1111111111111111,
              "#482878"
             ],
             [
              0.2222222222222222,
              "#3e4989"
             ],
             [
              0.3333333333333333,
              "#31688e"
             ],
             [
              0.4444444444444444,
              "#26828e"
             ],
             [
              0.5555555555555556,
              "#1f9e89"
             ],
             [
              0.6666666666666666,
              "#35b779"
             ],
             [
              0.7777777777777778,
              "#6ece58"
             ],
             [
              0.8888888888888888,
              "#b5de2b"
             ],
             [
              1,
              "#fde725"
             ]
            ],
            "type": "heatmap"
           }
          ],
          "heatmapgl": [
           {
            "colorbar": {
             "outlinewidth": 1,
             "tickcolor": "rgb(36,36,36)",
             "ticks": "outside"
            },
            "colorscale": [
             [
              0,
              "#440154"
             ],
             [
              0.1111111111111111,
              "#482878"
             ],
             [
              0.2222222222222222,
              "#3e4989"
             ],
             [
              0.3333333333333333,
              "#31688e"
             ],
             [
              0.4444444444444444,
              "#26828e"
             ],
             [
              0.5555555555555556,
              "#1f9e89"
             ],
             [
              0.6666666666666666,
              "#35b779"
             ],
             [
              0.7777777777777778,
              "#6ece58"
             ],
             [
              0.8888888888888888,
              "#b5de2b"
             ],
             [
              1,
              "#fde725"
             ]
            ],
            "type": "heatmapgl"
           }
          ],
          "histogram": [
           {
            "marker": {
             "line": {
              "color": "white",
              "width": 0.6
             }
            },
            "type": "histogram"
           }
          ],
          "histogram2d": [
           {
            "colorbar": {
             "outlinewidth": 1,
             "tickcolor": "rgb(36,36,36)",
             "ticks": "outside"
            },
            "colorscale": [
             [
              0,
              "#440154"
             ],
             [
              0.1111111111111111,
              "#482878"
             ],
             [
              0.2222222222222222,
              "#3e4989"
             ],
             [
              0.3333333333333333,
              "#31688e"
             ],
             [
              0.4444444444444444,
              "#26828e"
             ],
             [
              0.5555555555555556,
              "#1f9e89"
             ],
             [
              0.6666666666666666,
              "#35b779"
             ],
             [
              0.7777777777777778,
              "#6ece58"
             ],
             [
              0.8888888888888888,
              "#b5de2b"
             ],
             [
              1,
              "#fde725"
             ]
            ],
            "type": "histogram2d"
           }
          ],
          "histogram2dcontour": [
           {
            "colorbar": {
             "outlinewidth": 1,
             "tickcolor": "rgb(36,36,36)",
             "ticks": "outside"
            },
            "colorscale": [
             [
              0,
              "#440154"
             ],
             [
              0.1111111111111111,
              "#482878"
             ],
             [
              0.2222222222222222,
              "#3e4989"
             ],
             [
              0.3333333333333333,
              "#31688e"
             ],
             [
              0.4444444444444444,
              "#26828e"
             ],
             [
              0.5555555555555556,
              "#1f9e89"
             ],
             [
              0.6666666666666666,
              "#35b779"
             ],
             [
              0.7777777777777778,
              "#6ece58"
             ],
             [
              0.8888888888888888,
              "#b5de2b"
             ],
             [
              1,
              "#fde725"
             ]
            ],
            "type": "histogram2dcontour"
           }
          ],
          "mesh3d": [
           {
            "colorbar": {
             "outlinewidth": 1,
             "tickcolor": "rgb(36,36,36)",
             "ticks": "outside"
            },
            "type": "mesh3d"
           }
          ],
          "parcoords": [
           {
            "line": {
             "colorbar": {
              "outlinewidth": 1,
              "tickcolor": "rgb(36,36,36)",
              "ticks": "outside"
             }
            },
            "type": "parcoords"
           }
          ],
          "pie": [
           {
            "automargin": true,
            "type": "pie"
           }
          ],
          "scatter": [
           {
            "fillpattern": {
             "fillmode": "overlay",
             "size": 10,
             "solidity": 0.2
            },
            "type": "scatter"
           }
          ],
          "scatter3d": [
           {
            "line": {
             "colorbar": {
              "outlinewidth": 1,
              "tickcolor": "rgb(36,36,36)",
              "ticks": "outside"
             }
            },
            "marker": {
             "colorbar": {
              "outlinewidth": 1,
              "tickcolor": "rgb(36,36,36)",
              "ticks": "outside"
             }
            },
            "type": "scatter3d"
           }
          ],
          "scattercarpet": [
           {
            "marker": {
             "colorbar": {
              "outlinewidth": 1,
              "tickcolor": "rgb(36,36,36)",
              "ticks": "outside"
             }
            },
            "type": "scattercarpet"
           }
          ],
          "scattergeo": [
           {
            "marker": {
             "colorbar": {
              "outlinewidth": 1,
              "tickcolor": "rgb(36,36,36)",
              "ticks": "outside"
             }
            },
            "type": "scattergeo"
           }
          ],
          "scattergl": [
           {
            "marker": {
             "colorbar": {
              "outlinewidth": 1,
              "tickcolor": "rgb(36,36,36)",
              "ticks": "outside"
             }
            },
            "type": "scattergl"
           }
          ],
          "scattermapbox": [
           {
            "marker": {
             "colorbar": {
              "outlinewidth": 1,
              "tickcolor": "rgb(36,36,36)",
              "ticks": "outside"
             }
            },
            "type": "scattermapbox"
           }
          ],
          "scatterpolar": [
           {
            "marker": {
             "colorbar": {
              "outlinewidth": 1,
              "tickcolor": "rgb(36,36,36)",
              "ticks": "outside"
             }
            },
            "type": "scatterpolar"
           }
          ],
          "scatterpolargl": [
           {
            "marker": {
             "colorbar": {
              "outlinewidth": 1,
              "tickcolor": "rgb(36,36,36)",
              "ticks": "outside"
             }
            },
            "type": "scatterpolargl"
           }
          ],
          "scatterternary": [
           {
            "marker": {
             "colorbar": {
              "outlinewidth": 1,
              "tickcolor": "rgb(36,36,36)",
              "ticks": "outside"
             }
            },
            "type": "scatterternary"
           }
          ],
          "surface": [
           {
            "colorbar": {
             "outlinewidth": 1,
             "tickcolor": "rgb(36,36,36)",
             "ticks": "outside"
            },
            "colorscale": [
             [
              0,
              "#440154"
             ],
             [
              0.1111111111111111,
              "#482878"
             ],
             [
              0.2222222222222222,
              "#3e4989"
             ],
             [
              0.3333333333333333,
              "#31688e"
             ],
             [
              0.4444444444444444,
              "#26828e"
             ],
             [
              0.5555555555555556,
              "#1f9e89"
             ],
             [
              0.6666666666666666,
              "#35b779"
             ],
             [
              0.7777777777777778,
              "#6ece58"
             ],
             [
              0.8888888888888888,
              "#b5de2b"
             ],
             [
              1,
              "#fde725"
             ]
            ],
            "type": "surface"
           }
          ],
          "table": [
           {
            "cells": {
             "fill": {
              "color": "rgb(237,237,237)"
             },
             "line": {
              "color": "white"
             }
            },
            "header": {
             "fill": {
              "color": "rgb(217,217,217)"
             },
             "line": {
              "color": "white"
             }
            },
            "type": "table"
           }
          ]
         },
         "layout": {
          "annotationdefaults": {
           "arrowhead": 0,
           "arrowwidth": 1
          },
          "autotypenumbers": "strict",
          "coloraxis": {
           "colorbar": {
            "outlinewidth": 1,
            "tickcolor": "rgb(36,36,36)",
            "ticks": "outside"
           }
          },
          "colorscale": {
           "diverging": [
            [
             0,
             "rgb(103,0,31)"
            ],
            [
             0.1,
             "rgb(178,24,43)"
            ],
            [
             0.2,
             "rgb(214,96,77)"
            ],
            [
             0.3,
             "rgb(244,165,130)"
            ],
            [
             0.4,
             "rgb(253,219,199)"
            ],
            [
             0.5,
             "rgb(247,247,247)"
            ],
            [
             0.6,
             "rgb(209,229,240)"
            ],
            [
             0.7,
             "rgb(146,197,222)"
            ],
            [
             0.8,
             "rgb(67,147,195)"
            ],
            [
             0.9,
             "rgb(33,102,172)"
            ],
            [
             1,
             "rgb(5,48,97)"
            ]
           ],
           "sequential": [
            [
             0,
             "#440154"
            ],
            [
             0.1111111111111111,
             "#482878"
            ],
            [
             0.2222222222222222,
             "#3e4989"
            ],
            [
             0.3333333333333333,
             "#31688e"
            ],
            [
             0.4444444444444444,
             "#26828e"
            ],
            [
             0.5555555555555556,
             "#1f9e89"
            ],
            [
             0.6666666666666666,
             "#35b779"
            ],
            [
             0.7777777777777778,
             "#6ece58"
            ],
            [
             0.8888888888888888,
             "#b5de2b"
            ],
            [
             1,
             "#fde725"
            ]
           ],
           "sequentialminus": [
            [
             0,
             "#440154"
            ],
            [
             0.1111111111111111,
             "#482878"
            ],
            [
             0.2222222222222222,
             "#3e4989"
            ],
            [
             0.3333333333333333,
             "#31688e"
            ],
            [
             0.4444444444444444,
             "#26828e"
            ],
            [
             0.5555555555555556,
             "#1f9e89"
            ],
            [
             0.6666666666666666,
             "#35b779"
            ],
            [
             0.7777777777777778,
             "#6ece58"
            ],
            [
             0.8888888888888888,
             "#b5de2b"
            ],
            [
             1,
             "#fde725"
            ]
           ]
          },
          "colorway": [
           "#1F77B4",
           "#FF7F0E",
           "#2CA02C",
           "#D62728",
           "#9467BD",
           "#8C564B",
           "#E377C2",
           "#7F7F7F",
           "#BCBD22",
           "#17BECF"
          ],
          "font": {
           "color": "rgb(36,36,36)"
          },
          "geo": {
           "bgcolor": "white",
           "lakecolor": "white",
           "landcolor": "white",
           "showlakes": true,
           "showland": true,
           "subunitcolor": "white"
          },
          "hoverlabel": {
           "align": "left"
          },
          "hovermode": "closest",
          "mapbox": {
           "style": "light"
          },
          "paper_bgcolor": "white",
          "plot_bgcolor": "white",
          "polar": {
           "angularaxis": {
            "gridcolor": "rgb(232,232,232)",
            "linecolor": "rgb(36,36,36)",
            "showgrid": false,
            "showline": true,
            "ticks": "outside"
           },
           "bgcolor": "white",
           "radialaxis": {
            "gridcolor": "rgb(232,232,232)",
            "linecolor": "rgb(36,36,36)",
            "showgrid": false,
            "showline": true,
            "ticks": "outside"
           }
          },
          "scene": {
           "xaxis": {
            "backgroundcolor": "white",
            "gridcolor": "rgb(232,232,232)",
            "gridwidth": 2,
            "linecolor": "rgb(36,36,36)",
            "showbackground": true,
            "showgrid": false,
            "showline": true,
            "ticks": "outside",
            "zeroline": false,
            "zerolinecolor": "rgb(36,36,36)"
           },
           "yaxis": {
            "backgroundcolor": "white",
            "gridcolor": "rgb(232,232,232)",
            "gridwidth": 2,
            "linecolor": "rgb(36,36,36)",
            "showbackground": true,
            "showgrid": false,
            "showline": true,
            "ticks": "outside",
            "zeroline": false,
            "zerolinecolor": "rgb(36,36,36)"
           },
           "zaxis": {
            "backgroundcolor": "white",
            "gridcolor": "rgb(232,232,232)",
            "gridwidth": 2,
            "linecolor": "rgb(36,36,36)",
            "showbackground": true,
            "showgrid": false,
            "showline": true,
            "ticks": "outside",
            "zeroline": false,
            "zerolinecolor": "rgb(36,36,36)"
           }
          },
          "shapedefaults": {
           "fillcolor": "black",
           "line": {
            "width": 0
           },
           "opacity": 0.3
          },
          "ternary": {
           "aaxis": {
            "gridcolor": "rgb(232,232,232)",
            "linecolor": "rgb(36,36,36)",
            "showgrid": false,
            "showline": true,
            "ticks": "outside"
           },
           "baxis": {
            "gridcolor": "rgb(232,232,232)",
            "linecolor": "rgb(36,36,36)",
            "showgrid": false,
            "showline": true,
            "ticks": "outside"
           },
           "bgcolor": "white",
           "caxis": {
            "gridcolor": "rgb(232,232,232)",
            "linecolor": "rgb(36,36,36)",
            "showgrid": false,
            "showline": true,
            "ticks": "outside"
           }
          },
          "title": {
           "x": 0.05
          },
          "xaxis": {
           "automargin": true,
           "gridcolor": "rgb(232,232,232)",
           "linecolor": "rgb(36,36,36)",
           "showgrid": false,
           "showline": true,
           "ticks": "outside",
           "title": {
            "standoff": 15
           },
           "zeroline": false,
           "zerolinecolor": "rgb(36,36,36)"
          },
          "yaxis": {
           "automargin": true,
           "gridcolor": "rgb(232,232,232)",
           "linecolor": "rgb(36,36,36)",
           "showgrid": false,
           "showline": true,
           "ticks": "outside",
           "title": {
            "standoff": 15
           },
           "zeroline": false,
           "zerolinecolor": "rgb(36,36,36)"
          }
         }
        },
        "title": {
         "text": "Overview total nationalities for department -- comparing MoMA's collection berfore and after 1983"
        },
        "xaxis": {
         "anchor": "y",
         "domain": [
          0,
          0.47
         ],
         "showticklabels": true,
         "title": {
          "text": "Department"
         }
        },
        "xaxis2": {
         "anchor": "y2",
         "domain": [
          0.53,
          1
         ],
         "showticklabels": true,
         "title": {
          "text": "Department"
         }
        },
        "yaxis": {
         "anchor": "x",
         "domain": [
          0,
          1
         ],
         "showticklabels": true,
         "title": {
          "text": "Count"
         },
         "type": "log"
        },
        "yaxis2": {
         "anchor": "x2",
         "domain": [
          0,
          1
         ],
         "matches": "y",
         "showticklabels": true,
         "type": "log"
        }
       }
      }
     },
     "metadata": {},
     "output_type": "display_data"
    },
    {
     "data": {
      "application/vnd.plotly.v1+json": {
       "config": {
        "plotlyServerURL": "https://plot.ly"
       },
       "data": [
        {
         "alignmentgroup": "True",
         "hovertemplate": "Nationality=American<br>Source=Moma compare<br>Department=%{x}<br>Count=%{y}<extra></extra>",
         "legendgroup": "American",
         "marker": {
          "color": "#FFFAFA",
          "pattern": {
           "shape": ""
          }
         },
         "name": "American",
         "offsetgroup": "American",
         "orientation": "v",
         "showlegend": true,
         "textposition": "auto",
         "type": "bar",
         "x": [
          "Architecture & Design",
          "Drawings & Prints",
          "Film",
          "Fluxus Collection",
          "Media and Performance",
          "Painting & Sculpture",
          "Photography"
         ],
         "xaxis": "x",
         "y": [
          41,
          744,
          18,
          0,
          40,
          32,
          169
         ],
         "yaxis": "y"
        },
        {
         "alignmentgroup": "True",
         "hovertemplate": "Nationality=American<br>Source=Rhizome<br>Department=%{x}<br>Count=%{y}<extra></extra>",
         "legendgroup": "American",
         "marker": {
          "color": "#FFFAFA",
          "pattern": {
           "shape": ""
          }
         },
         "name": "American",
         "offsetgroup": "American",
         "orientation": "v",
         "showlegend": false,
         "textposition": "auto",
         "type": "bar",
         "x": [
          "Audio-based",
          "Conceptual",
          "Images, Painting, Photos",
          "Installation & Performance",
          "Interactive",
          "Moving Images",
          "Text-based",
          "Websites & Data",
          "missing"
         ],
         "xaxis": "x2",
         "y": [
          23,
          5,
          97,
          25,
          10,
          201,
          6,
          85,
          29
         ],
         "yaxis": "y2"
        },
        {
         "alignmentgroup": "True",
         "hovertemplate": "Nationality=Argentine<br>Source=Moma compare<br>Department=%{x}<br>Count=%{y}<extra></extra>",
         "legendgroup": "Argentine",
         "marker": {
          "color": "#FFC0CB",
          "pattern": {
           "shape": ""
          }
         },
         "name": "Argentine",
         "offsetgroup": "Argentine",
         "orientation": "v",
         "showlegend": true,
         "textposition": "auto",
         "type": "bar",
         "x": [
          "Architecture & Design",
          "Drawings & Prints",
          "Film",
          "Media and Performance",
          "Painting & Sculpture",
          "Photography"
         ],
         "xaxis": "x",
         "y": [
          0,
          16,
          0,
          0,
          0,
          2
         ],
         "yaxis": "y"
        },
        {
         "alignmentgroup": "True",
         "hovertemplate": "Nationality=Argentine<br>Source=Rhizome<br>Department=%{x}<br>Count=%{y}<extra></extra>",
         "legendgroup": "Argentine",
         "marker": {
          "color": "#FFC0CB",
          "pattern": {
           "shape": ""
          }
         },
         "name": "Argentine",
         "offsetgroup": "Argentine",
         "orientation": "v",
         "showlegend": false,
         "textposition": "auto",
         "type": "bar",
         "x": [
          "Moving Images"
         ],
         "xaxis": "x2",
         "y": [
          10
         ],
         "yaxis": "y2"
        },
        {
         "alignmentgroup": "True",
         "hovertemplate": "Nationality=Australian<br>Source=Moma compare<br>Department=%{x}<br>Count=%{y}<extra></extra>",
         "legendgroup": "Australian",
         "marker": {
          "color": "#FF69B4",
          "pattern": {
           "shape": ""
          }
         },
         "name": "Australian",
         "offsetgroup": "Australian",
         "orientation": "v",
         "showlegend": true,
         "textposition": "auto",
         "type": "bar",
         "x": [
          "Architecture & Design",
          "Drawings & Prints",
          "Media and Performance"
         ],
         "xaxis": "x",
         "y": [
          0,
          3,
          0
         ],
         "yaxis": "y"
        },
        {
         "alignmentgroup": "True",
         "hovertemplate": "Nationality=Australian<br>Source=Rhizome<br>Department=%{x}<br>Count=%{y}<extra></extra>",
         "legendgroup": "Australian",
         "marker": {
          "color": "#FF69B4",
          "pattern": {
           "shape": ""
          }
         },
         "name": "Australian",
         "offsetgroup": "Australian",
         "orientation": "v",
         "showlegend": false,
         "textposition": "auto",
         "type": "bar",
         "x": [
          "Installation & Performance",
          "Websites & Data"
         ],
         "xaxis": "x2",
         "y": [
          4,
          4
         ],
         "yaxis": "y2"
        },
        {
         "alignmentgroup": "True",
         "hovertemplate": "Nationality=Austrian<br>Source=Moma compare<br>Department=%{x}<br>Count=%{y}<extra></extra>",
         "legendgroup": "Austrian",
         "marker": {
          "color": "#DB7093",
          "pattern": {
           "shape": ""
          }
         },
         "name": "Austrian",
         "offsetgroup": "Austrian",
         "orientation": "v",
         "showlegend": true,
         "textposition": "auto",
         "type": "bar",
         "x": [
          "Architecture & Design",
          "Media and Performance",
          "Painting & Sculpture",
          "Photography"
         ],
         "xaxis": "x",
         "y": [
          0,
          1,
          1,
          0
         ],
         "yaxis": "y"
        },
        {
         "alignmentgroup": "True",
         "hovertemplate": "Nationality=Belgian<br>Source=Moma compare<br>Department=%{x}<br>Count=%{y}<extra></extra>",
         "legendgroup": "Belgian",
         "marker": {
          "color": "#C71585",
          "pattern": {
           "shape": ""
          }
         },
         "name": "Belgian",
         "offsetgroup": "Belgian",
         "orientation": "v",
         "showlegend": true,
         "textposition": "auto",
         "type": "bar",
         "x": [
          "Architecture & Design",
          "Drawings & Prints",
          "Media and Performance",
          "Painting & Sculpture",
          "Photography"
         ],
         "xaxis": "x",
         "y": [
          1,
          4,
          14,
          0,
          1
         ],
         "yaxis": "y"
        },
        {
         "alignmentgroup": "True",
         "hovertemplate": "Nationality=Belgian<br>Source=Rhizome<br>Department=%{x}<br>Count=%{y}<extra></extra>",
         "legendgroup": "Belgian",
         "marker": {
          "color": "#C71585",
          "pattern": {
           "shape": ""
          }
         },
         "name": "Belgian",
         "offsetgroup": "Belgian",
         "orientation": "v",
         "showlegend": false,
         "textposition": "auto",
         "type": "bar",
         "x": [
          "Moving Images"
         ],
         "xaxis": "x2",
         "y": [
          9
         ],
         "yaxis": "y2"
        },
        {
         "alignmentgroup": "True",
         "hovertemplate": "Nationality=Brazilian<br>Source=Moma compare<br>Department=%{x}<br>Count=%{y}<extra></extra>",
         "legendgroup": "Brazilian",
         "marker": {
          "color": "#E6E6FA",
          "pattern": {
           "shape": ""
          }
         },
         "name": "Brazilian",
         "offsetgroup": "Brazilian",
         "orientation": "v",
         "showlegend": true,
         "textposition": "auto",
         "type": "bar",
         "x": [
          "Architecture & Design",
          "Drawings & Prints",
          "Film",
          "Media and Performance",
          "Painting & Sculpture",
          "Photography"
         ],
         "xaxis": "x",
         "y": [
          0,
          11,
          0,
          0,
          2,
          5
         ],
         "yaxis": "y"
        },
        {
         "alignmentgroup": "True",
         "hovertemplate": "Nationality=British<br>Source=Moma compare<br>Department=%{x}<br>Count=%{y}<extra></extra>",
         "legendgroup": "British",
         "marker": {
          "color": "#DDA0DD",
          "pattern": {
           "shape": ""
          }
         },
         "name": "British",
         "offsetgroup": "British",
         "orientation": "v",
         "showlegend": true,
         "textposition": "auto",
         "type": "bar",
         "x": [
          "Architecture & Design",
          "Drawings & Prints",
          "Film",
          "Media and Performance",
          "Painting & Sculpture",
          "Photography"
         ],
         "xaxis": "x",
         "y": [
          4,
          63,
          1,
          3,
          3,
          12
         ],
         "yaxis": "y"
        },
        {
         "alignmentgroup": "True",
         "hovertemplate": "Nationality=Canadian<br>Source=Moma compare<br>Department=%{x}<br>Count=%{y}<extra></extra>",
         "legendgroup": "Canadian",
         "marker": {
          "color": "#EE82EE",
          "pattern": {
           "shape": ""
          }
         },
         "name": "Canadian",
         "offsetgroup": "Canadian",
         "orientation": "v",
         "showlegend": true,
         "textposition": "auto",
         "type": "bar",
         "x": [
          "Architecture & Design",
          "Drawings & Prints",
          "Film",
          "Media and Performance",
          "Photography"
         ],
         "xaxis": "x",
         "y": [
          0,
          24,
          1,
          2,
          7
         ],
         "yaxis": "y"
        },
        {
         "alignmentgroup": "True",
         "hovertemplate": "Nationality=Canadian<br>Source=Rhizome<br>Department=%{x}<br>Count=%{y}<extra></extra>",
         "legendgroup": "Canadian",
         "marker": {
          "color": "#EE82EE",
          "pattern": {
           "shape": ""
          }
         },
         "name": "Canadian",
         "offsetgroup": "Canadian",
         "orientation": "v",
         "showlegend": false,
         "textposition": "auto",
         "type": "bar",
         "x": [
          "Installation & Performance",
          "Interactive",
          "Websites & Data"
         ],
         "xaxis": "x2",
         "y": [
          3,
          5,
          9
         ],
         "yaxis": "y2"
        },
        {
         "alignmentgroup": "True",
         "hovertemplate": "Nationality=Chilean<br>Source=Moma compare<br>Department=%{x}<br>Count=%{y}<extra></extra>",
         "legendgroup": "Chilean",
         "marker": {
          "color": "#9932CC",
          "pattern": {
           "shape": ""
          }
         },
         "name": "Chilean",
         "offsetgroup": "Chilean",
         "orientation": "v",
         "showlegend": true,
         "textposition": "auto",
         "type": "bar",
         "x": [
          "Architecture & Design",
          "Drawings & Prints",
          "Film",
          "Media and Performance",
          "Painting & Sculpture",
          "Photography"
         ],
         "xaxis": "x",
         "y": [
          0,
          2,
          0,
          5,
          0,
          0
         ],
         "yaxis": "y"
        },
        {
         "alignmentgroup": "True",
         "hovertemplate": "Nationality=Chilean<br>Source=Rhizome<br>Department=%{x}<br>Count=%{y}<extra></extra>",
         "legendgroup": "Chilean",
         "marker": {
          "color": "#9932CC",
          "pattern": {
           "shape": ""
          }
         },
         "name": "Chilean",
         "offsetgroup": "Chilean",
         "orientation": "v",
         "showlegend": false,
         "textposition": "auto",
         "type": "bar",
         "x": [
          "Moving Images"
         ],
         "xaxis": "x2",
         "y": [
          3
         ],
         "yaxis": "y2"
        },
        {
         "alignmentgroup": "True",
         "hovertemplate": "Nationality=Chinese<br>Source=Moma compare<br>Department=%{x}<br>Count=%{y}<extra></extra>",
         "legendgroup": "Chinese",
         "marker": {
          "color": "#8B008B",
          "pattern": {
           "shape": ""
          }
         },
         "name": "Chinese",
         "offsetgroup": "Chinese",
         "orientation": "v",
         "showlegend": true,
         "textposition": "auto",
         "type": "bar",
         "x": [
          "Architecture & Design",
          "Drawings & Prints",
          "Film",
          "Media and Performance",
          "Painting & Sculpture",
          "Photography"
         ],
         "xaxis": "x",
         "y": [
          1,
          9,
          0,
          2,
          0,
          8
         ],
         "yaxis": "y"
        },
        {
         "alignmentgroup": "True",
         "hovertemplate": "Nationality=Colombian<br>Source=Moma compare<br>Department=%{x}<br>Count=%{y}<extra></extra>",
         "legendgroup": "Colombian",
         "marker": {
          "color": "#9370DB",
          "pattern": {
           "shape": ""
          }
         },
         "name": "Colombian",
         "offsetgroup": "Colombian",
         "orientation": "v",
         "showlegend": true,
         "textposition": "auto",
         "type": "bar",
         "x": [
          "Architecture & Design",
          "Drawings & Prints",
          "Media and Performance",
          "Painting & Sculpture",
          "Photography"
         ],
         "xaxis": "x",
         "y": [
          0,
          48,
          0,
          0,
          0
         ],
         "yaxis": "y"
        },
        {
         "alignmentgroup": "True",
         "hovertemplate": "Nationality=Danish<br>Source=Moma compare<br>Department=%{x}<br>Count=%{y}<extra></extra>",
         "legendgroup": "Danish",
         "marker": {
          "color": "#483D8B",
          "pattern": {
           "shape": ""
          }
         },
         "name": "Danish",
         "offsetgroup": "Danish",
         "orientation": "v",
         "showlegend": true,
         "textposition": "auto",
         "type": "bar",
         "x": [
          "Architecture & Design",
          "Media and Performance",
          "Painting & Sculpture",
          "Photography"
         ],
         "xaxis": "x",
         "y": [
          1,
          1,
          0,
          0
         ],
         "yaxis": "y"
        },
        {
         "alignmentgroup": "True",
         "hovertemplate": "Nationality=Dutch<br>Source=Moma compare<br>Department=%{x}<br>Count=%{y}<extra></extra>",
         "legendgroup": "Dutch",
         "marker": {
          "color": "#4B0082",
          "pattern": {
           "shape": ""
          }
         },
         "name": "Dutch",
         "offsetgroup": "Dutch",
         "orientation": "v",
         "showlegend": true,
         "textposition": "auto",
         "type": "bar",
         "x": [
          "Architecture & Design",
          "Media and Performance",
          "Painting & Sculpture",
          "Photography"
         ],
         "xaxis": "x",
         "y": [
          14,
          0,
          0,
          2
         ],
         "yaxis": "y"
        },
        {
         "alignmentgroup": "True",
         "hovertemplate": "Nationality=French<br>Source=Moma compare<br>Department=%{x}<br>Count=%{y}<extra></extra>",
         "legendgroup": "French",
         "marker": {
          "color": "#FA8072",
          "pattern": {
           "shape": ""
          }
         },
         "name": "French",
         "offsetgroup": "French",
         "orientation": "v",
         "showlegend": true,
         "textposition": "auto",
         "type": "bar",
         "x": [
          "Architecture & Design",
          "Drawings & Prints",
          "Film",
          "Fluxus Collection",
          "Media and Performance",
          "Painting & Sculpture",
          "Photography"
         ],
         "xaxis": "x",
         "y": [
          13,
          8,
          1,
          1,
          1,
          0,
          8
         ],
         "yaxis": "y"
        },
        {
         "alignmentgroup": "True",
         "hovertemplate": "Nationality=French<br>Source=Rhizome<br>Department=%{x}<br>Count=%{y}<extra></extra>",
         "legendgroup": "French",
         "marker": {
          "color": "#FA8072",
          "pattern": {
           "shape": ""
          }
         },
         "name": "French",
         "offsetgroup": "French",
         "orientation": "v",
         "showlegend": false,
         "textposition": "auto",
         "type": "bar",
         "x": [
          "Audio-based",
          "Images, Painting, Photos",
          "Installation & Performance",
          "Interactive",
          "Moving Images",
          "Websites & Data",
          "missing"
         ],
         "xaxis": "x2",
         "y": [
          11,
          27,
          10,
          2,
          62,
          9,
          12
         ],
         "yaxis": "y2"
        },
        {
         "alignmentgroup": "True",
         "hovertemplate": "Nationality=German<br>Source=Moma compare<br>Department=%{x}<br>Count=%{y}<extra></extra>",
         "legendgroup": "German",
         "marker": {
          "color": "#DC143C",
          "pattern": {
           "shape": ""
          }
         },
         "name": "German",
         "offsetgroup": "German",
         "orientation": "v",
         "showlegend": true,
         "textposition": "auto",
         "type": "bar",
         "x": [
          "Architecture & Design",
          "Drawings & Prints",
          "Film",
          "Media and Performance",
          "Painting & Sculpture",
          "Photography"
         ],
         "xaxis": "x",
         "y": [
          7,
          101,
          0,
          6,
          5,
          24
         ],
         "yaxis": "y"
        },
        {
         "alignmentgroup": "True",
         "hovertemplate": "Nationality=Indian<br>Source=Moma compare<br>Department=%{x}<br>Count=%{y}<extra></extra>",
         "legendgroup": "Indian",
         "marker": {
          "color": "#8B0000",
          "pattern": {
           "shape": ""
          }
         },
         "name": "Indian",
         "offsetgroup": "Indian",
         "orientation": "v",
         "showlegend": true,
         "textposition": "auto",
         "type": "bar",
         "x": [
          "Architecture & Design",
          "Drawings & Prints",
          "Media and Performance",
          "Painting & Sculpture",
          "Photography"
         ],
         "xaxis": "x",
         "y": [
          1,
          2,
          0,
          0,
          7
         ],
         "yaxis": "y"
        },
        {
         "alignmentgroup": "True",
         "hovertemplate": "Nationality=Indian<br>Source=Rhizome<br>Department=%{x}<br>Count=%{y}<extra></extra>",
         "legendgroup": "Indian",
         "marker": {
          "color": "#8B0000",
          "pattern": {
           "shape": ""
          }
         },
         "name": "Indian",
         "offsetgroup": "Indian",
         "orientation": "v",
         "showlegend": false,
         "textposition": "auto",
         "type": "bar",
         "x": [
          "Moving Images"
         ],
         "xaxis": "x2",
         "y": [
          2
         ],
         "yaxis": "y2"
        },
        {
         "alignmentgroup": "True",
         "hovertemplate": "Nationality=Israeli<br>Source=Moma compare<br>Department=%{x}<br>Count=%{y}<extra></extra>",
         "legendgroup": "Israeli",
         "marker": {
          "color": "#FF8C00",
          "pattern": {
           "shape": ""
          }
         },
         "name": "Israeli",
         "offsetgroup": "Israeli",
         "orientation": "v",
         "showlegend": true,
         "textposition": "auto",
         "type": "bar",
         "x": [
          "Architecture & Design",
          "Media and Performance",
          "Photography"
         ],
         "xaxis": "x",
         "y": [
          0,
          1,
          2
         ],
         "yaxis": "y"
        },
        {
         "alignmentgroup": "True",
         "hovertemplate": "Nationality=Italian<br>Source=Moma compare<br>Department=%{x}<br>Count=%{y}<extra></extra>",
         "legendgroup": "Italian",
         "marker": {
          "color": "#FF4500",
          "pattern": {
           "shape": ""
          }
         },
         "name": "Italian",
         "offsetgroup": "Italian",
         "orientation": "v",
         "showlegend": true,
         "textposition": "auto",
         "type": "bar",
         "x": [
          "Architecture & Design",
          "Media and Performance",
          "Painting & Sculpture",
          "Photography"
         ],
         "xaxis": "x",
         "y": [
          9,
          0,
          0,
          0
         ],
         "yaxis": "y"
        },
        {
         "alignmentgroup": "True",
         "hovertemplate": "Nationality=Japanese<br>Source=Moma compare<br>Department=%{x}<br>Count=%{y}<extra></extra>",
         "legendgroup": "Japanese",
         "marker": {
          "color": "#FFD700",
          "pattern": {
           "shape": ""
          }
         },
         "name": "Japanese",
         "offsetgroup": "Japanese",
         "orientation": "v",
         "showlegend": true,
         "textposition": "auto",
         "type": "bar",
         "x": [
          "Architecture & Design",
          "Media and Performance",
          "Painting & Sculpture",
          "Photography"
         ],
         "xaxis": "x",
         "y": [
          10,
          1,
          0,
          7
         ],
         "yaxis": "y"
        },
        {
         "alignmentgroup": "True",
         "hovertemplate": "Nationality=Mexican<br>Source=Moma compare<br>Department=%{x}<br>Count=%{y}<extra></extra>",
         "legendgroup": "Mexican",
         "marker": {
          "color": "#FFFF00",
          "pattern": {
           "shape": ""
          }
         },
         "name": "Mexican",
         "offsetgroup": "Mexican",
         "orientation": "v",
         "showlegend": true,
         "textposition": "auto",
         "type": "bar",
         "x": [
          "Architecture & Design",
          "Drawings & Prints",
          "Film",
          "Media and Performance",
          "Painting & Sculpture",
          "Photography"
         ],
         "xaxis": "x",
         "y": [
          1,
          9,
          0,
          2,
          0,
          3
         ],
         "yaxis": "y"
        },
        {
         "alignmentgroup": "True",
         "hovertemplate": "Nationality=Mexican<br>Source=Rhizome<br>Department=%{x}<br>Count=%{y}<extra></extra>",
         "legendgroup": "Mexican",
         "marker": {
          "color": "#FFFF00",
          "pattern": {
           "shape": ""
          }
         },
         "name": "Mexican",
         "offsetgroup": "Mexican",
         "orientation": "v",
         "showlegend": false,
         "textposition": "auto",
         "type": "bar",
         "x": [
          "Images, Painting, Photos",
          "Moving Images",
          "Websites & Data"
         ],
         "xaxis": "x2",
         "y": [
          2,
          5,
          4
         ],
         "yaxis": "y2"
        },
        {
         "alignmentgroup": "True",
         "hovertemplate": "Nationality=Others<br>Source=Moma compare<br>Department=%{x}<br>Count=%{y}<extra></extra>",
         "legendgroup": "Others",
         "marker": {
          "color": "#F0E68C",
          "pattern": {
           "shape": ""
          }
         },
         "name": "Others",
         "offsetgroup": "Others",
         "orientation": "v",
         "showlegend": true,
         "textposition": "auto",
         "type": "bar",
         "x": [
          "Architecture & Design",
          "Drawings & Prints",
          "Film",
          "Fluxus Collection",
          "Media and Performance",
          "Painting & Sculpture",
          "Photography"
         ],
         "xaxis": "x",
         "y": [
          9,
          101,
          2,
          3,
          0,
          0,
          1
         ],
         "yaxis": "y"
        },
        {
         "alignmentgroup": "True",
         "hovertemplate": "Nationality=Others<br>Source=Rhizome<br>Department=%{x}<br>Count=%{y}<extra></extra>",
         "legendgroup": "Others",
         "marker": {
          "color": "#F0E68C",
          "pattern": {
           "shape": ""
          }
         },
         "name": "Others",
         "offsetgroup": "Others",
         "orientation": "v",
         "showlegend": false,
         "textposition": "auto",
         "type": "bar",
         "x": [
          "Audio-based",
          "Conceptual",
          "Images, Painting, Photos",
          "Installation & Performance",
          "Interactive",
          "Moving Images",
          "Text-based",
          "Websites & Data",
          "missing"
         ],
         "xaxis": "x2",
         "y": [
          43,
          5,
          112,
          42,
          20,
          212,
          5,
          111,
          87
         ],
         "yaxis": "y2"
        },
        {
         "alignmentgroup": "True",
         "hovertemplate": "Nationality=Polish<br>Source=Moma compare<br>Department=%{x}<br>Count=%{y}<extra></extra>",
         "legendgroup": "Polish",
         "marker": {
          "color": "#7FFF00",
          "pattern": {
           "shape": ""
          }
         },
         "name": "Polish",
         "offsetgroup": "Polish",
         "orientation": "v",
         "showlegend": true,
         "textposition": "auto",
         "type": "bar",
         "x": [
          "Architecture & Design",
          "Media and Performance",
          "Painting & Sculpture",
          "Photography"
         ],
         "xaxis": "x",
         "y": [
          1,
          0,
          0,
          0
         ],
         "yaxis": "y"
        },
        {
         "alignmentgroup": "True",
         "hovertemplate": "Nationality=Portuguese<br>Source=Moma compare<br>Department=%{x}<br>Count=%{y}<extra></extra>",
         "legendgroup": "Portuguese",
         "marker": {
          "color": "#32CD32",
          "pattern": {
           "shape": ""
          }
         },
         "name": "Portuguese",
         "offsetgroup": "Portuguese",
         "orientation": "v",
         "showlegend": true,
         "textposition": "auto",
         "type": "bar",
         "x": [
          "Architecture & Design",
          "Drawings & Prints",
          "Film"
         ],
         "xaxis": "x",
         "y": [
          2,
          1,
          0
         ],
         "yaxis": "y"
        },
        {
         "alignmentgroup": "True",
         "hovertemplate": "Nationality=Portuguese<br>Source=Rhizome<br>Department=%{x}<br>Count=%{y}<extra></extra>",
         "legendgroup": "Portuguese",
         "marker": {
          "color": "#32CD32",
          "pattern": {
           "shape": ""
          }
         },
         "name": "Portuguese",
         "offsetgroup": "Portuguese",
         "orientation": "v",
         "showlegend": false,
         "textposition": "auto",
         "type": "bar",
         "x": [
          "Images, Painting, Photos",
          "Moving Images",
          "Websites & Data"
         ],
         "xaxis": "x2",
         "y": [
          6,
          2,
          5
         ],
         "yaxis": "y2"
        },
        {
         "alignmentgroup": "True",
         "hovertemplate": "Nationality=Scottish<br>Source=Moma compare<br>Department=%{x}<br>Count=%{y}<extra></extra>",
         "legendgroup": "Scottish",
         "marker": {
          "color": "#90EE90",
          "pattern": {
           "shape": ""
          }
         },
         "name": "Scottish",
         "offsetgroup": "Scottish",
         "orientation": "v",
         "showlegend": true,
         "textposition": "auto",
         "type": "bar",
         "x": [
          "Architecture & Design",
          "Drawings & Prints",
          "Media and Performance",
          "Painting & Sculpture"
         ],
         "xaxis": "x",
         "y": [
          0,
          4,
          0,
          0
         ],
         "yaxis": "y"
        },
        {
         "alignmentgroup": "True",
         "hovertemplate": "Nationality=South African<br>Source=Moma compare<br>Department=%{x}<br>Count=%{y}<extra></extra>",
         "legendgroup": "South African",
         "marker": {
          "color": "#00FA9A",
          "pattern": {
           "shape": ""
          }
         },
         "name": "South African",
         "offsetgroup": "South African",
         "orientation": "v",
         "showlegend": true,
         "textposition": "auto",
         "type": "bar",
         "x": [
          "Architecture & Design",
          "Drawings & Prints",
          "Media and Performance",
          "Painting & Sculpture",
          "Photography"
         ],
         "xaxis": "x",
         "y": [
          0,
          23,
          0,
          0,
          4
         ],
         "yaxis": "y"
        },
        {
         "alignmentgroup": "True",
         "hovertemplate": "Nationality=South African<br>Source=Rhizome<br>Department=%{x}<br>Count=%{y}<extra></extra>",
         "legendgroup": "South African",
         "marker": {
          "color": "#00FA9A",
          "pattern": {
           "shape": ""
          }
         },
         "name": "South African",
         "offsetgroup": "South African",
         "orientation": "v",
         "showlegend": false,
         "textposition": "auto",
         "type": "bar",
         "x": [
          "Images, Painting, Photos"
         ],
         "xaxis": "x2",
         "y": [
          2
         ],
         "yaxis": "y2"
        },
        {
         "alignmentgroup": "True",
         "hovertemplate": "Nationality=Spanish<br>Source=Moma compare<br>Department=%{x}<br>Count=%{y}<extra></extra>",
         "legendgroup": "Spanish",
         "marker": {
          "color": "#3CB371",
          "pattern": {
           "shape": ""
          }
         },
         "name": "Spanish",
         "offsetgroup": "Spanish",
         "orientation": "v",
         "showlegend": true,
         "textposition": "auto",
         "type": "bar",
         "x": [
          "Architecture & Design",
          "Drawings & Prints",
          "Film",
          "Painting & Sculpture"
         ],
         "xaxis": "x",
         "y": [
          4,
          7,
          0,
          0
         ],
         "yaxis": "y"
        },
        {
         "alignmentgroup": "True",
         "hovertemplate": "Nationality=Swedish<br>Source=Moma compare<br>Department=%{x}<br>Count=%{y}<extra></extra>",
         "legendgroup": "Swedish",
         "marker": {
          "color": "#006400",
          "pattern": {
           "shape": ""
          }
         },
         "name": "Swedish",
         "offsetgroup": "Swedish",
         "orientation": "v",
         "showlegend": true,
         "textposition": "auto",
         "type": "bar",
         "x": [
          "Architecture & Design",
          "Media and Performance",
          "Photography"
         ],
         "xaxis": "x",
         "y": [
          0,
          0,
          0
         ],
         "yaxis": "y"
        },
        {
         "alignmentgroup": "True",
         "hovertemplate": "Nationality=Swiss<br>Source=Moma compare<br>Department=%{x}<br>Count=%{y}<extra></extra>",
         "legendgroup": "Swiss",
         "marker": {
          "color": "#9ACD32",
          "pattern": {
           "shape": ""
          }
         },
         "name": "Swiss",
         "offsetgroup": "Swiss",
         "orientation": "v",
         "showlegend": true,
         "textposition": "auto",
         "type": "bar",
         "x": [
          "Architecture & Design",
          "Drawings & Prints",
          "Media and Performance",
          "Painting & Sculpture",
          "Photography"
         ],
         "xaxis": "x",
         "y": [
          10,
          19,
          11,
          0,
          1
         ],
         "yaxis": "y"
        },
        {
         "alignmentgroup": "True",
         "hovertemplate": "Nationality=Swiss<br>Source=Rhizome<br>Department=%{x}<br>Count=%{y}<extra></extra>",
         "legendgroup": "Swiss",
         "marker": {
          "color": "#9ACD32",
          "pattern": {
           "shape": ""
          }
         },
         "name": "Swiss",
         "offsetgroup": "Swiss",
         "orientation": "v",
         "showlegend": false,
         "textposition": "auto",
         "type": "bar",
         "x": [
          "Moving Images",
          "Websites & Data"
         ],
         "xaxis": "x2",
         "y": [
          4,
          3
         ],
         "yaxis": "y2"
        },
        {
         "alignmentgroup": "True",
         "hovertemplate": "Nationality=Turkish<br>Source=Moma compare<br>Department=%{x}<br>Count=%{y}<extra></extra>",
         "legendgroup": "Turkish",
         "marker": {
          "color": "#6B8E23",
          "pattern": {
           "shape": ""
          }
         },
         "name": "Turkish",
         "offsetgroup": "Turkish",
         "orientation": "v",
         "showlegend": true,
         "textposition": "auto",
         "type": "bar",
         "x": [
          "Architecture & Design",
          "Media and Performance",
          "Painting & Sculpture"
         ],
         "xaxis": "x",
         "y": [
          0,
          0,
          0
         ],
         "yaxis": "y"
        },
        {
         "alignmentgroup": "True",
         "hovertemplate": "Nationality=Turkish<br>Source=Rhizome<br>Department=%{x}<br>Count=%{y}<extra></extra>",
         "legendgroup": "Turkish",
         "marker": {
          "color": "#6B8E23",
          "pattern": {
           "shape": ""
          }
         },
         "name": "Turkish",
         "offsetgroup": "Turkish",
         "orientation": "v",
         "showlegend": false,
         "textposition": "auto",
         "type": "bar",
         "x": [
          "Moving Images"
         ],
         "xaxis": "x2",
         "y": [
          2
         ],
         "yaxis": "y2"
        },
        {
         "alignmentgroup": "True",
         "hovertemplate": "Nationality=South Korean<br>Source=Rhizome<br>Department=%{x}<br>Count=%{y}<extra></extra>",
         "legendgroup": "South Korean",
         "marker": {
          "color": "#66CDAA",
          "pattern": {
           "shape": ""
          }
         },
         "name": "South Korean",
         "offsetgroup": "South Korean",
         "orientation": "v",
         "showlegend": true,
         "textposition": "auto",
         "type": "bar",
         "x": [
          "Audio-based",
          "Images, Painting, Photos",
          "Moving Images",
          "Websites & Data"
         ],
         "xaxis": "x2",
         "y": [
          2,
          5,
          3,
          2
         ],
         "yaxis": "y2"
        },
        {
         "alignmentgroup": "True",
         "hovertemplate": "Nationality=Albanian<br>Source=Moma compare<br>Department=%{x}<br>Count=%{y}<extra></extra>",
         "legendgroup": "Albanian",
         "marker": {
          "color": "#20B2AA",
          "pattern": {
           "shape": ""
          }
         },
         "name": "Albanian",
         "offsetgroup": "Albanian",
         "orientation": "v",
         "showlegend": true,
         "textposition": "auto",
         "type": "bar",
         "x": [
          "Drawings & Prints",
          "Media and Performance"
         ],
         "xaxis": "x",
         "y": [
          1,
          0
         ],
         "yaxis": "y"
        },
        {
         "alignmentgroup": "True",
         "hovertemplate": "Nationality=Bosnian<br>Source=Moma compare<br>Department=%{x}<br>Count=%{y}<extra></extra>",
         "legendgroup": "Bosnian",
         "marker": {
          "color": "#5F9EA0",
          "pattern": {
           "shape": ""
          }
         },
         "name": "Bosnian",
         "offsetgroup": "Bosnian",
         "orientation": "v",
         "showlegend": true,
         "textposition": "auto",
         "type": "bar",
         "x": [
          "Drawings & Prints",
          "Film"
         ],
         "xaxis": "x",
         "y": [
          0,
          0
         ],
         "yaxis": "y"
        },
        {
         "alignmentgroup": "True",
         "hovertemplate": "Nationality=Bulgarian<br>Source=Moma compare<br>Department=%{x}<br>Count=%{y}<extra></extra>",
         "legendgroup": "Bulgarian",
         "marker": {
          "color": "#4682B4",
          "pattern": {
           "shape": ""
          }
         },
         "name": "Bulgarian",
         "offsetgroup": "Bulgarian",
         "orientation": "v",
         "showlegend": true,
         "textposition": "auto",
         "type": "bar",
         "x": [
          "Drawings & Prints"
         ],
         "xaxis": "x",
         "y": [
          0
         ],
         "yaxis": "y"
        },
        {
         "alignmentgroup": "True",
         "hovertemplate": "Nationality=Cameroonian<br>Source=Moma compare<br>Department=%{x}<br>Count=%{y}<extra></extra>",
         "legendgroup": "Cameroonian",
         "marker": {
          "color": "#B0C4DE",
          "pattern": {
           "shape": ""
          }
         },
         "name": "Cameroonian",
         "offsetgroup": "Cameroonian",
         "orientation": "v",
         "showlegend": true,
         "textposition": "auto",
         "type": "bar",
         "x": [
          "Drawings & Prints"
         ],
         "xaxis": "x",
         "y": [
          1
         ],
         "yaxis": "y"
        },
        {
         "alignmentgroup": "True",
         "hovertemplate": "Nationality=Cuban<br>Source=Moma compare<br>Department=%{x}<br>Count=%{y}<extra></extra>",
         "legendgroup": "Cuban",
         "marker": {
          "color": "#87CEFA",
          "pattern": {
           "shape": ""
          }
         },
         "name": "Cuban",
         "offsetgroup": "Cuban",
         "orientation": "v",
         "showlegend": true,
         "textposition": "auto",
         "type": "bar",
         "x": [
          "Drawings & Prints",
          "Media and Performance",
          "Photography"
         ],
         "xaxis": "x",
         "y": [
          2,
          0,
          0
         ],
         "yaxis": "y"
        },
        {
         "alignmentgroup": "True",
         "hovertemplate": "Nationality=Norwegian<br>Source=Moma compare<br>Department=%{x}<br>Count=%{y}<extra></extra>",
         "legendgroup": "Norwegian",
         "marker": {
          "color": "#6495ED",
          "pattern": {
           "shape": ""
          }
         },
         "name": "Norwegian",
         "offsetgroup": "Norwegian",
         "orientation": "v",
         "showlegend": true,
         "textposition": "auto",
         "type": "bar",
         "x": [
          "Drawings & Prints",
          "Photography"
         ],
         "xaxis": "x",
         "y": [
          5,
          0
         ],
         "yaxis": "y"
        },
        {
         "alignmentgroup": "True",
         "hovertemplate": "Nationality=Romanian<br>Source=Moma compare<br>Department=%{x}<br>Count=%{y}<extra></extra>",
         "legendgroup": "Romanian",
         "marker": {
          "color": "#00BFFF",
          "pattern": {
           "shape": ""
          }
         },
         "name": "Romanian",
         "offsetgroup": "Romanian",
         "orientation": "v",
         "showlegend": true,
         "textposition": "auto",
         "type": "bar",
         "x": [
          "Drawings & Prints",
          "Media and Performance"
         ],
         "xaxis": "x",
         "y": [
          0,
          0
         ],
         "yaxis": "y"
        },
        {
         "alignmentgroup": "True",
         "hovertemplate": "Nationality=Romanian<br>Source=Rhizome<br>Department=%{x}<br>Count=%{y}<extra></extra>",
         "legendgroup": "Romanian",
         "marker": {
          "color": "#00BFFF",
          "pattern": {
           "shape": ""
          }
         },
         "name": "Romanian",
         "offsetgroup": "Romanian",
         "orientation": "v",
         "showlegend": false,
         "textposition": "auto",
         "type": "bar",
         "x": [
          "Moving Images"
         ],
         "xaxis": "x2",
         "y": [
          2
         ],
         "yaxis": "y2"
        },
        {
         "alignmentgroup": "True",
         "hovertemplate": "Nationality=Sudanese<br>Source=Moma compare<br>Department=%{x}<br>Count=%{y}<extra></extra>",
         "legendgroup": "Sudanese",
         "marker": {
          "color": "#1E90FF",
          "pattern": {
           "shape": ""
          }
         },
         "name": "Sudanese",
         "offsetgroup": "Sudanese",
         "orientation": "v",
         "showlegend": true,
         "textposition": "auto",
         "type": "bar",
         "x": [
          "Drawings & Prints"
         ],
         "xaxis": "x",
         "y": [
          1
         ],
         "yaxis": "y"
        },
        {
         "alignmentgroup": "True",
         "hovertemplate": "Nationality=Zimbabwean<br>Source=Moma compare<br>Department=%{x}<br>Count=%{y}<extra></extra>",
         "legendgroup": "Zimbabwean",
         "marker": {
          "color": "#0000CD",
          "pattern": {
           "shape": ""
          }
         },
         "name": "Zimbabwean",
         "offsetgroup": "Zimbabwean",
         "orientation": "v",
         "showlegend": true,
         "textposition": "auto",
         "type": "bar",
         "x": [
          "Drawings & Prints"
         ],
         "xaxis": "x",
         "y": [
          0
         ],
         "yaxis": "y"
        },
        {
         "alignmentgroup": "True",
         "hovertemplate": "Nationality=Algerian<br>Source=Moma compare<br>Department=%{x}<br>Count=%{y}<extra></extra>",
         "legendgroup": "Algerian",
         "marker": {
          "color": "#191970",
          "pattern": {
           "shape": ""
          }
         },
         "name": "Algerian",
         "offsetgroup": "Algerian",
         "orientation": "v",
         "showlegend": true,
         "textposition": "auto",
         "type": "bar",
         "x": [
          "Film",
          "Media and Performance"
         ],
         "xaxis": "x",
         "y": [
          0,
          0
         ],
         "yaxis": "y"
        },
        {
         "alignmentgroup": "True",
         "hovertemplate": "Nationality=American/Canadian<br>Source=Rhizome<br>Department=%{x}<br>Count=%{y}<extra></extra>",
         "legendgroup": "American/Canadian",
         "marker": {
          "color": "#FFDEAD",
          "pattern": {
           "shape": ""
          }
         },
         "name": "American/Canadian",
         "offsetgroup": "American/Canadian",
         "orientation": "v",
         "showlegend": true,
         "textposition": "auto",
         "type": "bar",
         "x": [
          "Images, Painting, Photos"
         ],
         "xaxis": "x2",
         "y": [
          2
         ],
         "yaxis": "y2"
        },
        {
         "alignmentgroup": "True",
         "hovertemplate": "Nationality=Bangladeshi<br>Source=Moma compare<br>Department=%{x}<br>Count=%{y}<extra></extra>",
         "legendgroup": "Bangladeshi",
         "marker": {
          "color": "#DEB887",
          "pattern": {
           "shape": ""
          }
         },
         "name": "Bangladeshi",
         "offsetgroup": "Bangladeshi",
         "orientation": "v",
         "showlegend": true,
         "textposition": "auto",
         "type": "bar",
         "x": [
          "Media and Performance"
         ],
         "xaxis": "x",
         "y": [
          0
         ],
         "yaxis": "y"
        },
        {
         "alignmentgroup": "True",
         "hovertemplate": "Nationality=Croatian<br>Source=Moma compare<br>Department=%{x}<br>Count=%{y}<extra></extra>",
         "legendgroup": "Croatian",
         "marker": {
          "color": "#BC8F8F",
          "pattern": {
           "shape": ""
          }
         },
         "name": "Croatian",
         "offsetgroup": "Croatian",
         "orientation": "v",
         "showlegend": true,
         "textposition": "auto",
         "type": "bar",
         "x": [
          "Media and Performance"
         ],
         "xaxis": "x",
         "y": [
          0
         ],
         "yaxis": "y"
        },
        {
         "alignmentgroup": "True",
         "hovertemplate": "Nationality=Croatian<br>Source=Rhizome<br>Department=%{x}<br>Count=%{y}<extra></extra>",
         "legendgroup": "Croatian",
         "marker": {
          "color": "#BC8F8F",
          "pattern": {
           "shape": ""
          }
         },
         "name": "Croatian",
         "offsetgroup": "Croatian",
         "orientation": "v",
         "showlegend": false,
         "textposition": "auto",
         "type": "bar",
         "x": [
          "Moving Images"
         ],
         "xaxis": "x2",
         "y": [
          2
         ],
         "yaxis": "y2"
        },
        {
         "alignmentgroup": "True",
         "hovertemplate": "Nationality=Egyptian<br>Source=Moma compare<br>Department=%{x}<br>Count=%{y}<extra></extra>",
         "legendgroup": "Egyptian",
         "marker": {
          "color": "#DAA520",
          "pattern": {
           "shape": ""
          }
         },
         "name": "Egyptian",
         "offsetgroup": "Egyptian",
         "orientation": "v",
         "showlegend": true,
         "textposition": "auto",
         "type": "bar",
         "x": [
          "Media and Performance"
         ],
         "xaxis": "x",
         "y": [
          1
         ],
         "yaxis": "y"
        },
        {
         "alignmentgroup": "True",
         "hovertemplate": "Nationality=Guatemalan<br>Source=Moma compare<br>Department=%{x}<br>Count=%{y}<extra></extra>",
         "legendgroup": "Guatemalan",
         "marker": {
          "color": "#B8860B",
          "pattern": {
           "shape": ""
          }
         },
         "name": "Guatemalan",
         "offsetgroup": "Guatemalan",
         "orientation": "v",
         "showlegend": true,
         "textposition": "auto",
         "type": "bar",
         "x": [
          "Media and Performance"
         ],
         "xaxis": "x",
         "y": [
          0
         ],
         "yaxis": "y"
        },
        {
         "alignmentgroup": "True",
         "hovertemplate": "Nationality=Hungarian<br>Source=Moma compare<br>Department=%{x}<br>Count=%{y}<extra></extra>",
         "legendgroup": "Hungarian",
         "marker": {
          "color": "#D2691E",
          "pattern": {
           "shape": ""
          }
         },
         "name": "Hungarian",
         "offsetgroup": "Hungarian",
         "orientation": "v",
         "showlegend": true,
         "textposition": "auto",
         "type": "bar",
         "x": [
          "Media and Performance"
         ],
         "xaxis": "x",
         "y": [
          0
         ],
         "yaxis": "y"
        },
        {
         "alignmentgroup": "True",
         "hovertemplate": "Nationality=Iranian<br>Source=Moma compare<br>Department=%{x}<br>Count=%{y}<extra></extra>",
         "legendgroup": "Iranian",
         "marker": {
          "color": "#8B4513",
          "pattern": {
           "shape": ""
          }
         },
         "name": "Iranian",
         "offsetgroup": "Iranian",
         "orientation": "v",
         "showlegend": true,
         "textposition": "auto",
         "type": "bar",
         "x": [
          "Media and Performance"
         ],
         "xaxis": "x",
         "y": [
          0
         ],
         "yaxis": "y"
        },
        {
         "alignmentgroup": "True",
         "hovertemplate": "Nationality=Iranian<br>Source=Rhizome<br>Department=%{x}<br>Count=%{y}<extra></extra>",
         "legendgroup": "Iranian",
         "marker": {
          "color": "#8B4513",
          "pattern": {
           "shape": ""
          }
         },
         "name": "Iranian",
         "offsetgroup": "Iranian",
         "orientation": "v",
         "showlegend": false,
         "textposition": "auto",
         "type": "bar",
         "x": [
          "Websites & Data"
         ],
         "xaxis": "x2",
         "y": [
          2
         ],
         "yaxis": "y2"
        },
        {
         "alignmentgroup": "True",
         "hovertemplate": "Nationality=Irish<br>Source=Moma compare<br>Department=%{x}<br>Count=%{y}<extra></extra>",
         "legendgroup": "Irish",
         "marker": {
          "color": "#A52A2A",
          "pattern": {
           "shape": ""
          }
         },
         "name": "Irish",
         "offsetgroup": "Irish",
         "orientation": "v",
         "showlegend": true,
         "textposition": "auto",
         "type": "bar",
         "x": [
          "Media and Performance"
         ],
         "xaxis": "x",
         "y": [
          0
         ],
         "yaxis": "y"
        },
        {
         "alignmentgroup": "True",
         "hovertemplate": "Nationality=Irish<br>Source=Rhizome<br>Department=%{x}<br>Count=%{y}<extra></extra>",
         "legendgroup": "Irish",
         "marker": {
          "color": "#A52A2A",
          "pattern": {
           "shape": ""
          }
         },
         "name": "Irish",
         "offsetgroup": "Irish",
         "orientation": "v",
         "showlegend": false,
         "textposition": "auto",
         "type": "bar",
         "x": [
          "Moving Images"
         ],
         "xaxis": "x2",
         "y": [
          2
         ],
         "yaxis": "y2"
        },
        {
         "alignmentgroup": "True",
         "hovertemplate": "Nationality=Korean<br>Source=Moma compare<br>Department=%{x}<br>Count=%{y}<extra></extra>",
         "legendgroup": "Korean",
         "marker": {
          "color": "#F0FFF0",
          "pattern": {
           "shape": ""
          }
         },
         "name": "Korean",
         "offsetgroup": "Korean",
         "orientation": "v",
         "showlegend": true,
         "textposition": "auto",
         "type": "bar",
         "x": [
          "Media and Performance"
         ],
         "xaxis": "x",
         "y": [
          0
         ],
         "yaxis": "y"
        },
        {
         "alignmentgroup": "True",
         "hovertemplate": "Nationality=Uruguayan<br>Source=Moma compare<br>Department=%{x}<br>Count=%{y}<extra></extra>",
         "legendgroup": "Uruguayan",
         "marker": {
          "color": "#708090",
          "pattern": {
           "shape": ""
          }
         },
         "name": "Uruguayan",
         "offsetgroup": "Uruguayan",
         "orientation": "v",
         "showlegend": true,
         "textposition": "auto",
         "type": "bar",
         "x": [
          "Media and Performance"
         ],
         "xaxis": "x",
         "y": [
          0
         ],
         "yaxis": "y"
        },
        {
         "alignmentgroup": "True",
         "hovertemplate": "Nationality=Finnish<br>Source=Rhizome<br>Department=%{x}<br>Count=%{y}<extra></extra>",
         "legendgroup": "Finnish",
         "marker": {
          "color": "#2F4F4F",
          "pattern": {
           "shape": ""
          }
         },
         "name": "Finnish",
         "offsetgroup": "Finnish",
         "orientation": "v",
         "showlegend": true,
         "textposition": "auto",
         "type": "bar",
         "x": [
          "Moving Images"
         ],
         "xaxis": "x2",
         "y": [
          2
         ],
         "yaxis": "y2"
        },
        {
         "alignmentgroup": "True",
         "hovertemplate": "Nationality=Greek<br>Source=Rhizome<br>Department=%{x}<br>Count=%{y}<extra></extra>",
         "legendgroup": "Greek",
         "marker": {
          "color": "#696969",
          "pattern": {
           "shape": ""
          }
         },
         "name": "Greek",
         "offsetgroup": "Greek",
         "orientation": "v",
         "showlegend": true,
         "textposition": "auto",
         "type": "bar",
         "x": [
          "Moving Images",
          "Websites & Data"
         ],
         "xaxis": "x2",
         "y": [
          2,
          2
         ],
         "yaxis": "y2"
        },
        {
         "alignmentgroup": "True",
         "hovertemplate": "Nationality=Bahamian<br>Source=Moma compare<br>Department=%{x}<br>Count=%{y}<extra></extra>",
         "legendgroup": "Bahamian",
         "marker": {
          "color": "#8FBC8F",
          "pattern": {
           "shape": ""
          }
         },
         "name": "Bahamian",
         "offsetgroup": "Bahamian",
         "orientation": "v",
         "showlegend": true,
         "textposition": "auto",
         "type": "bar",
         "x": [
          "Painting & Sculpture"
         ],
         "xaxis": "x",
         "y": [
          0
         ],
         "yaxis": "y"
        },
        {
         "alignmentgroup": "True",
         "hovertemplate": "Nationality=Beninese<br>Source=Moma compare<br>Department=%{x}<br>Count=%{y}<extra></extra>",
         "legendgroup": "Beninese",
         "marker": {
          "color": "#00CED1",
          "pattern": {
           "shape": ""
          }
         },
         "name": "Beninese",
         "offsetgroup": "Beninese",
         "orientation": "v",
         "showlegend": true,
         "textposition": "auto",
         "type": "bar",
         "x": [
          "Painting & Sculpture"
         ],
         "xaxis": "x",
         "y": [
          0
         ],
         "yaxis": "y"
        },
        {
         "alignmentgroup": "True",
         "hovertemplate": "Nationality=Congolese<br>Source=Moma compare<br>Department=%{x}<br>Count=%{y}<extra></extra>",
         "legendgroup": "Congolese",
         "marker": {
          "color": "#F0FFF0",
          "pattern": {
           "shape": ""
          }
         },
         "name": "Congolese",
         "offsetgroup": "Congolese",
         "orientation": "v",
         "showlegend": true,
         "textposition": "auto",
         "type": "bar",
         "x": [
          "Painting & Sculpture"
         ],
         "xaxis": "x",
         "y": [
          0
         ],
         "yaxis": "y"
        },
        {
         "alignmentgroup": "True",
         "hovertemplate": "Nationality=New Zealander<br>Source=Moma compare<br>Department=%{x}<br>Count=%{y}<extra></extra>",
         "legendgroup": "New Zealander",
         "marker": {
          "color": "#F0FFFF",
          "pattern": {
           "shape": ""
          }
         },
         "name": "New Zealander",
         "offsetgroup": "New Zealander",
         "orientation": "v",
         "showlegend": true,
         "textposition": "auto",
         "type": "bar",
         "x": [
          "Painting & Sculpture"
         ],
         "xaxis": "x",
         "y": [
          0
         ],
         "yaxis": "y"
        },
        {
         "alignmentgroup": "True",
         "hovertemplate": "Nationality=Salvadoran<br>Source=Moma compare<br>Department=%{x}<br>Count=%{y}<extra></extra>",
         "legendgroup": "Salvadoran",
         "marker": {
          "color": "#F5F5DC",
          "pattern": {
           "shape": ""
          }
         },
         "name": "Salvadoran",
         "offsetgroup": "Salvadoran",
         "orientation": "v",
         "showlegend": true,
         "textposition": "auto",
         "type": "bar",
         "x": [
          "Painting & Sculpture"
         ],
         "xaxis": "x",
         "y": [
          0
         ],
         "yaxis": "y"
        },
        {
         "alignmentgroup": "True",
         "hovertemplate": "Nationality=Emirati<br>Source=Moma compare<br>Department=%{x}<br>Count=%{y}<extra></extra>",
         "legendgroup": "Emirati",
         "marker": {
          "color": "#FFFFF0",
          "pattern": {
           "shape": ""
          }
         },
         "name": "Emirati",
         "offsetgroup": "Emirati",
         "orientation": "v",
         "showlegend": true,
         "textposition": "auto",
         "type": "bar",
         "x": [
          "Photography"
         ],
         "xaxis": "x",
         "y": [
          0
         ],
         "yaxis": "y"
        },
        {
         "alignmentgroup": "True",
         "hovertemplate": "Nationality=Ethiopian<br>Source=Moma compare<br>Department=%{x}<br>Count=%{y}<extra></extra>",
         "legendgroup": "Ethiopian",
         "marker": {
          "color": "#FFE4E1",
          "pattern": {
           "shape": ""
          }
         },
         "name": "Ethiopian",
         "offsetgroup": "Ethiopian",
         "orientation": "v",
         "showlegend": true,
         "textposition": "auto",
         "type": "bar",
         "x": [
          "Photography"
         ],
         "xaxis": "x",
         "y": [
          0
         ],
         "yaxis": "y"
        },
        {
         "alignmentgroup": "True",
         "hovertemplate": "Nationality=Ukrainian<br>Source=Moma compare<br>Department=%{x}<br>Count=%{y}<extra></extra>",
         "legendgroup": "Ukrainian",
         "marker": {
          "color": "#FFFAFA",
          "pattern": {
           "shape": ""
          }
         },
         "name": "Ukrainian",
         "offsetgroup": "Ukrainian",
         "orientation": "v",
         "showlegend": true,
         "textposition": "auto",
         "type": "bar",
         "x": [
          "Photography"
         ],
         "xaxis": "x",
         "y": [
          1
         ],
         "yaxis": "y"
        },
        {
         "alignmentgroup": "True",
         "hovertemplate": "Nationality=Afghan/American<br>Source=Rhizome<br>Department=%{x}<br>Count=%{y}<extra></extra>",
         "legendgroup": "Afghan/American",
         "marker": {
          "color": "#FFC0CB",
          "pattern": {
           "shape": ""
          }
         },
         "name": "Afghan/American",
         "offsetgroup": "Afghan/American",
         "orientation": "v",
         "showlegend": true,
         "textposition": "auto",
         "type": "bar",
         "x": [
          "Websites & Data"
         ],
         "xaxis": "x2",
         "y": [
          2
         ],
         "yaxis": "y2"
        }
       ],
       "layout": {
        "annotations": [
         {
          "font": {},
          "showarrow": false,
          "text": "Source=Moma compare",
          "x": 0.235,
          "xanchor": "center",
          "xref": "paper",
          "y": 1,
          "yanchor": "bottom",
          "yref": "paper"
         },
         {
          "font": {},
          "showarrow": false,
          "text": "Source=Rhizome",
          "x": 0.765,
          "xanchor": "center",
          "xref": "paper",
          "y": 1,
          "yanchor": "bottom",
          "yref": "paper"
         }
        ],
        "barmode": "relative",
        "height": 600,
        "legend": {
         "title": {
          "text": "Nationality"
         },
         "tracegroupgap": 0
        },
        "template": {
         "data": {
          "bar": [
           {
            "error_x": {
             "color": "rgb(36,36,36)"
            },
            "error_y": {
             "color": "rgb(36,36,36)"
            },
            "marker": {
             "line": {
              "color": "white",
              "width": 0.5
             },
             "pattern": {
              "fillmode": "overlay",
              "size": 10,
              "solidity": 0.2
             }
            },
            "type": "bar"
           }
          ],
          "barpolar": [
           {
            "marker": {
             "line": {
              "color": "white",
              "width": 0.5
             },
             "pattern": {
              "fillmode": "overlay",
              "size": 10,
              "solidity": 0.2
             }
            },
            "type": "barpolar"
           }
          ],
          "carpet": [
           {
            "aaxis": {
             "endlinecolor": "rgb(36,36,36)",
             "gridcolor": "white",
             "linecolor": "white",
             "minorgridcolor": "white",
             "startlinecolor": "rgb(36,36,36)"
            },
            "baxis": {
             "endlinecolor": "rgb(36,36,36)",
             "gridcolor": "white",
             "linecolor": "white",
             "minorgridcolor": "white",
             "startlinecolor": "rgb(36,36,36)"
            },
            "type": "carpet"
           }
          ],
          "choropleth": [
           {
            "colorbar": {
             "outlinewidth": 1,
             "tickcolor": "rgb(36,36,36)",
             "ticks": "outside"
            },
            "type": "choropleth"
           }
          ],
          "contour": [
           {
            "colorbar": {
             "outlinewidth": 1,
             "tickcolor": "rgb(36,36,36)",
             "ticks": "outside"
            },
            "colorscale": [
             [
              0,
              "#440154"
             ],
             [
              0.1111111111111111,
              "#482878"
             ],
             [
              0.2222222222222222,
              "#3e4989"
             ],
             [
              0.3333333333333333,
              "#31688e"
             ],
             [
              0.4444444444444444,
              "#26828e"
             ],
             [
              0.5555555555555556,
              "#1f9e89"
             ],
             [
              0.6666666666666666,
              "#35b779"
             ],
             [
              0.7777777777777778,
              "#6ece58"
             ],
             [
              0.8888888888888888,
              "#b5de2b"
             ],
             [
              1,
              "#fde725"
             ]
            ],
            "type": "contour"
           }
          ],
          "contourcarpet": [
           {
            "colorbar": {
             "outlinewidth": 1,
             "tickcolor": "rgb(36,36,36)",
             "ticks": "outside"
            },
            "type": "contourcarpet"
           }
          ],
          "heatmap": [
           {
            "colorbar": {
             "outlinewidth": 1,
             "tickcolor": "rgb(36,36,36)",
             "ticks": "outside"
            },
            "colorscale": [
             [
              0,
              "#440154"
             ],
             [
              0.1111111111111111,
              "#482878"
             ],
             [
              0.2222222222222222,
              "#3e4989"
             ],
             [
              0.3333333333333333,
              "#31688e"
             ],
             [
              0.4444444444444444,
              "#26828e"
             ],
             [
              0.5555555555555556,
              "#1f9e89"
             ],
             [
              0.6666666666666666,
              "#35b779"
             ],
             [
              0.7777777777777778,
              "#6ece58"
             ],
             [
              0.8888888888888888,
              "#b5de2b"
             ],
             [
              1,
              "#fde725"
             ]
            ],
            "type": "heatmap"
           }
          ],
          "heatmapgl": [
           {
            "colorbar": {
             "outlinewidth": 1,
             "tickcolor": "rgb(36,36,36)",
             "ticks": "outside"
            },
            "colorscale": [
             [
              0,
              "#440154"
             ],
             [
              0.1111111111111111,
              "#482878"
             ],
             [
              0.2222222222222222,
              "#3e4989"
             ],
             [
              0.3333333333333333,
              "#31688e"
             ],
             [
              0.4444444444444444,
              "#26828e"
             ],
             [
              0.5555555555555556,
              "#1f9e89"
             ],
             [
              0.6666666666666666,
              "#35b779"
             ],
             [
              0.7777777777777778,
              "#6ece58"
             ],
             [
              0.8888888888888888,
              "#b5de2b"
             ],
             [
              1,
              "#fde725"
             ]
            ],
            "type": "heatmapgl"
           }
          ],
          "histogram": [
           {
            "marker": {
             "line": {
              "color": "white",
              "width": 0.6
             }
            },
            "type": "histogram"
           }
          ],
          "histogram2d": [
           {
            "colorbar": {
             "outlinewidth": 1,
             "tickcolor": "rgb(36,36,36)",
             "ticks": "outside"
            },
            "colorscale": [
             [
              0,
              "#440154"
             ],
             [
              0.1111111111111111,
              "#482878"
             ],
             [
              0.2222222222222222,
              "#3e4989"
             ],
             [
              0.3333333333333333,
              "#31688e"
             ],
             [
              0.4444444444444444,
              "#26828e"
             ],
             [
              0.5555555555555556,
              "#1f9e89"
             ],
             [
              0.6666666666666666,
              "#35b779"
             ],
             [
              0.7777777777777778,
              "#6ece58"
             ],
             [
              0.8888888888888888,
              "#b5de2b"
             ],
             [
              1,
              "#fde725"
             ]
            ],
            "type": "histogram2d"
           }
          ],
          "histogram2dcontour": [
           {
            "colorbar": {
             "outlinewidth": 1,
             "tickcolor": "rgb(36,36,36)",
             "ticks": "outside"
            },
            "colorscale": [
             [
              0,
              "#440154"
             ],
             [
              0.1111111111111111,
              "#482878"
             ],
             [
              0.2222222222222222,
              "#3e4989"
             ],
             [
              0.3333333333333333,
              "#31688e"
             ],
             [
              0.4444444444444444,
              "#26828e"
             ],
             [
              0.5555555555555556,
              "#1f9e89"
             ],
             [
              0.6666666666666666,
              "#35b779"
             ],
             [
              0.7777777777777778,
              "#6ece58"
             ],
             [
              0.8888888888888888,
              "#b5de2b"
             ],
             [
              1,
              "#fde725"
             ]
            ],
            "type": "histogram2dcontour"
           }
          ],
          "mesh3d": [
           {
            "colorbar": {
             "outlinewidth": 1,
             "tickcolor": "rgb(36,36,36)",
             "ticks": "outside"
            },
            "type": "mesh3d"
           }
          ],
          "parcoords": [
           {
            "line": {
             "colorbar": {
              "outlinewidth": 1,
              "tickcolor": "rgb(36,36,36)",
              "ticks": "outside"
             }
            },
            "type": "parcoords"
           }
          ],
          "pie": [
           {
            "automargin": true,
            "type": "pie"
           }
          ],
          "scatter": [
           {
            "fillpattern": {
             "fillmode": "overlay",
             "size": 10,
             "solidity": 0.2
            },
            "type": "scatter"
           }
          ],
          "scatter3d": [
           {
            "line": {
             "colorbar": {
              "outlinewidth": 1,
              "tickcolor": "rgb(36,36,36)",
              "ticks": "outside"
             }
            },
            "marker": {
             "colorbar": {
              "outlinewidth": 1,
              "tickcolor": "rgb(36,36,36)",
              "ticks": "outside"
             }
            },
            "type": "scatter3d"
           }
          ],
          "scattercarpet": [
           {
            "marker": {
             "colorbar": {
              "outlinewidth": 1,
              "tickcolor": "rgb(36,36,36)",
              "ticks": "outside"
             }
            },
            "type": "scattercarpet"
           }
          ],
          "scattergeo": [
           {
            "marker": {
             "colorbar": {
              "outlinewidth": 1,
              "tickcolor": "rgb(36,36,36)",
              "ticks": "outside"
             }
            },
            "type": "scattergeo"
           }
          ],
          "scattergl": [
           {
            "marker": {
             "colorbar": {
              "outlinewidth": 1,
              "tickcolor": "rgb(36,36,36)",
              "ticks": "outside"
             }
            },
            "type": "scattergl"
           }
          ],
          "scattermapbox": [
           {
            "marker": {
             "colorbar": {
              "outlinewidth": 1,
              "tickcolor": "rgb(36,36,36)",
              "ticks": "outside"
             }
            },
            "type": "scattermapbox"
           }
          ],
          "scatterpolar": [
           {
            "marker": {
             "colorbar": {
              "outlinewidth": 1,
              "tickcolor": "rgb(36,36,36)",
              "ticks": "outside"
             }
            },
            "type": "scatterpolar"
           }
          ],
          "scatterpolargl": [
           {
            "marker": {
             "colorbar": {
              "outlinewidth": 1,
              "tickcolor": "rgb(36,36,36)",
              "ticks": "outside"
             }
            },
            "type": "scatterpolargl"
           }
          ],
          "scatterternary": [
           {
            "marker": {
             "colorbar": {
              "outlinewidth": 1,
              "tickcolor": "rgb(36,36,36)",
              "ticks": "outside"
             }
            },
            "type": "scatterternary"
           }
          ],
          "surface": [
           {
            "colorbar": {
             "outlinewidth": 1,
             "tickcolor": "rgb(36,36,36)",
             "ticks": "outside"
            },
            "colorscale": [
             [
              0,
              "#440154"
             ],
             [
              0.1111111111111111,
              "#482878"
             ],
             [
              0.2222222222222222,
              "#3e4989"
             ],
             [
              0.3333333333333333,
              "#31688e"
             ],
             [
              0.4444444444444444,
              "#26828e"
             ],
             [
              0.5555555555555556,
              "#1f9e89"
             ],
             [
              0.6666666666666666,
              "#35b779"
             ],
             [
              0.7777777777777778,
              "#6ece58"
             ],
             [
              0.8888888888888888,
              "#b5de2b"
             ],
             [
              1,
              "#fde725"
             ]
            ],
            "type": "surface"
           }
          ],
          "table": [
           {
            "cells": {
             "fill": {
              "color": "rgb(237,237,237)"
             },
             "line": {
              "color": "white"
             }
            },
            "header": {
             "fill": {
              "color": "rgb(217,217,217)"
             },
             "line": {
              "color": "white"
             }
            },
            "type": "table"
           }
          ]
         },
         "layout": {
          "annotationdefaults": {
           "arrowhead": 0,
           "arrowwidth": 1
          },
          "autotypenumbers": "strict",
          "coloraxis": {
           "colorbar": {
            "outlinewidth": 1,
            "tickcolor": "rgb(36,36,36)",
            "ticks": "outside"
           }
          },
          "colorscale": {
           "diverging": [
            [
             0,
             "rgb(103,0,31)"
            ],
            [
             0.1,
             "rgb(178,24,43)"
            ],
            [
             0.2,
             "rgb(214,96,77)"
            ],
            [
             0.3,
             "rgb(244,165,130)"
            ],
            [
             0.4,
             "rgb(253,219,199)"
            ],
            [
             0.5,
             "rgb(247,247,247)"
            ],
            [
             0.6,
             "rgb(209,229,240)"
            ],
            [
             0.7,
             "rgb(146,197,222)"
            ],
            [
             0.8,
             "rgb(67,147,195)"
            ],
            [
             0.9,
             "rgb(33,102,172)"
            ],
            [
             1,
             "rgb(5,48,97)"
            ]
           ],
           "sequential": [
            [
             0,
             "#440154"
            ],
            [
             0.1111111111111111,
             "#482878"
            ],
            [
             0.2222222222222222,
             "#3e4989"
            ],
            [
             0.3333333333333333,
             "#31688e"
            ],
            [
             0.4444444444444444,
             "#26828e"
            ],
            [
             0.5555555555555556,
             "#1f9e89"
            ],
            [
             0.6666666666666666,
             "#35b779"
            ],
            [
             0.7777777777777778,
             "#6ece58"
            ],
            [
             0.8888888888888888,
             "#b5de2b"
            ],
            [
             1,
             "#fde725"
            ]
           ],
           "sequentialminus": [
            [
             0,
             "#440154"
            ],
            [
             0.1111111111111111,
             "#482878"
            ],
            [
             0.2222222222222222,
             "#3e4989"
            ],
            [
             0.3333333333333333,
             "#31688e"
            ],
            [
             0.4444444444444444,
             "#26828e"
            ],
            [
             0.5555555555555556,
             "#1f9e89"
            ],
            [
             0.6666666666666666,
             "#35b779"
            ],
            [
             0.7777777777777778,
             "#6ece58"
            ],
            [
             0.8888888888888888,
             "#b5de2b"
            ],
            [
             1,
             "#fde725"
            ]
           ]
          },
          "colorway": [
           "#1F77B4",
           "#FF7F0E",
           "#2CA02C",
           "#D62728",
           "#9467BD",
           "#8C564B",
           "#E377C2",
           "#7F7F7F",
           "#BCBD22",
           "#17BECF"
          ],
          "font": {
           "color": "rgb(36,36,36)"
          },
          "geo": {
           "bgcolor": "white",
           "lakecolor": "white",
           "landcolor": "white",
           "showlakes": true,
           "showland": true,
           "subunitcolor": "white"
          },
          "hoverlabel": {
           "align": "left"
          },
          "hovermode": "closest",
          "mapbox": {
           "style": "light"
          },
          "paper_bgcolor": "white",
          "plot_bgcolor": "white",
          "polar": {
           "angularaxis": {
            "gridcolor": "rgb(232,232,232)",
            "linecolor": "rgb(36,36,36)",
            "showgrid": false,
            "showline": true,
            "ticks": "outside"
           },
           "bgcolor": "white",
           "radialaxis": {
            "gridcolor": "rgb(232,232,232)",
            "linecolor": "rgb(36,36,36)",
            "showgrid": false,
            "showline": true,
            "ticks": "outside"
           }
          },
          "scene": {
           "xaxis": {
            "backgroundcolor": "white",
            "gridcolor": "rgb(232,232,232)",
            "gridwidth": 2,
            "linecolor": "rgb(36,36,36)",
            "showbackground": true,
            "showgrid": false,
            "showline": true,
            "ticks": "outside",
            "zeroline": false,
            "zerolinecolor": "rgb(36,36,36)"
           },
           "yaxis": {
            "backgroundcolor": "white",
            "gridcolor": "rgb(232,232,232)",
            "gridwidth": 2,
            "linecolor": "rgb(36,36,36)",
            "showbackground": true,
            "showgrid": false,
            "showline": true,
            "ticks": "outside",
            "zeroline": false,
            "zerolinecolor": "rgb(36,36,36)"
           },
           "zaxis": {
            "backgroundcolor": "white",
            "gridcolor": "rgb(232,232,232)",
            "gridwidth": 2,
            "linecolor": "rgb(36,36,36)",
            "showbackground": true,
            "showgrid": false,
            "showline": true,
            "ticks": "outside",
            "zeroline": false,
            "zerolinecolor": "rgb(36,36,36)"
           }
          },
          "shapedefaults": {
           "fillcolor": "black",
           "line": {
            "width": 0
           },
           "opacity": 0.3
          },
          "ternary": {
           "aaxis": {
            "gridcolor": "rgb(232,232,232)",
            "linecolor": "rgb(36,36,36)",
            "showgrid": false,
            "showline": true,
            "ticks": "outside"
           },
           "baxis": {
            "gridcolor": "rgb(232,232,232)",
            "linecolor": "rgb(36,36,36)",
            "showgrid": false,
            "showline": true,
            "ticks": "outside"
           },
           "bgcolor": "white",
           "caxis": {
            "gridcolor": "rgb(232,232,232)",
            "linecolor": "rgb(36,36,36)",
            "showgrid": false,
            "showline": true,
            "ticks": "outside"
           }
          },
          "title": {
           "x": 0.05
          },
          "xaxis": {
           "automargin": true,
           "gridcolor": "rgb(232,232,232)",
           "linecolor": "rgb(36,36,36)",
           "showgrid": false,
           "showline": true,
           "ticks": "outside",
           "title": {
            "standoff": 15
           },
           "zeroline": false,
           "zerolinecolor": "rgb(36,36,36)"
          },
          "yaxis": {
           "automargin": true,
           "gridcolor": "rgb(232,232,232)",
           "linecolor": "rgb(36,36,36)",
           "showgrid": false,
           "showline": true,
           "ticks": "outside",
           "title": {
            "standoff": 15
           },
           "zeroline": false,
           "zerolinecolor": "rgb(36,36,36)"
          }
         }
        },
        "title": {
         "text": "Overview total nationalities for department -- comparing rhizome collection and a moma artworks created and acquired in the same timerange"
        },
        "xaxis": {
         "anchor": "y",
         "domain": [
          0,
          0.47
         ],
         "showticklabels": true,
         "title": {
          "text": "Department"
         }
        },
        "xaxis2": {
         "anchor": "y2",
         "domain": [
          0.53,
          1
         ],
         "showticklabels": true,
         "title": {
          "text": "Department"
         }
        },
        "yaxis": {
         "anchor": "x",
         "domain": [
          0,
          1
         ],
         "showticklabels": true,
         "title": {
          "text": "Count"
         },
         "type": "log"
        },
        "yaxis2": {
         "anchor": "x2",
         "domain": [
          0,
          1
         ],
         "matches": "y",
         "showticklabels": true,
         "type": "log"
        }
       }
      }
     },
     "metadata": {},
     "output_type": "display_data"
    }
   ],
   "source": [
    "#plot first two comparisons\n",
    "fig11 = px.bar(df_Moma_by_periods_compare_departments, x=\"Department\", y=\"Count\", color=\"Nationality\", color_discrete_sequence= momacolorscale,facet_col=\"Period\", log_y=True, facet_col_spacing=0.06,  facet_col_wrap=2, title=\"Overview total nationalities for department -- comparing MoMA's collection berfore and after 1983\",text_auto=True)\n",
    "fig11.update_xaxes(matches=None, showticklabels=True)\n",
    "fig11.update_yaxes(showticklabels=True)\n",
    "fig11.update_traces(textposition='outside')\n",
    "fig11.update_layout(height=600)\n",
    "\n",
    "fig11.show()\n",
    "\n",
    "Compare_nats_department_first = Compare_nats_department.groupby(['Department','Nationality','Source'],as_index=False).agg({'Count': 'sum','Females': 'sum','Males': 'sum','Missing': 'sum','Non-Binary': 'sum'})\n",
    "fig12 = px.bar(Compare_nats_department_first, x=\"Department\", y=\"Count\", color=\"Nationality\", color_discrete_sequence=rhzcolorscale ,facet_col=\"Source\", log_y=True, facet_col_spacing=0.06,  facet_col_wrap=2, title=\"Overview total nationalities for department -- comparing rhizome collection and a moma artworks created and acquired in the same timerange\")\n",
    "fig12.update_xaxes(matches=None, showticklabels=True)\n",
    "fig12.update_yaxes(showticklabels=True)\n",
    "fig12.update_layout(height=600)\n",
    "fig12.show()\n"
   ]
  },
  {
   "cell_type": "code",
   "execution_count": 280,
   "metadata": {},
   "outputs": [
    {
     "data": {
      "application/vnd.plotly.v1+json": {
       "config": {
        "plotlyServerURL": "https://plot.ly"
       },
       "data": [
        {
         "alignmentgroup": "True",
         "hovertemplate": "Nationality=Afghan/American<br>Department=Websites & Data<br>Continent=%{x}<br>Count=%{y}<extra></extra>",
         "legendgroup": "Afghan/American",
         "marker": {
          "color": "#FFC0CB",
          "pattern": {
           "shape": ""
          }
         },
         "name": "Afghan/American",
         "offsetgroup": "Afghan/American",
         "orientation": "v",
         "showlegend": true,
         "textposition": "auto",
         "type": "bar",
         "x": [
          "Mixed"
         ],
         "xaxis": "x15",
         "y": [
          2
         ],
         "yaxis": "y15"
        },
        {
         "alignmentgroup": "True",
         "hovertemplate": "Nationality=Others<br>Department=Websites & Data<br>Continent=%{x}<br>Count=%{y}<extra></extra>",
         "legendgroup": "Others",
         "marker": {
          "color": "#FF69B4",
          "pattern": {
           "shape": ""
          }
         },
         "name": "Others",
         "offsetgroup": "Others",
         "orientation": "v",
         "showlegend": true,
         "textposition": "auto",
         "type": "bar",
         "x": [
          "Mixed",
          "North Globe",
          "South Globe"
         ],
         "xaxis": "x15",
         "y": [
          20,
          76,
          15
         ],
         "yaxis": "y15"
        },
        {
         "alignmentgroup": "True",
         "hovertemplate": "Nationality=Others<br>Department=Audio-based<br>Continent=%{x}<br>Count=%{y}<extra></extra>",
         "legendgroup": "Others",
         "marker": {
          "color": "#FF69B4",
          "pattern": {
           "shape": ""
          }
         },
         "name": "Others",
         "offsetgroup": "Others",
         "orientation": "v",
         "showlegend": false,
         "textposition": "auto",
         "type": "bar",
         "x": [
          "Mixed",
          "North Globe",
          "South Globe"
         ],
         "xaxis": "x16",
         "y": [
          2,
          39,
          2
         ],
         "yaxis": "y16"
        },
        {
         "alignmentgroup": "True",
         "hovertemplate": "Nationality=Others<br>Department=Images, Painting, Photos<br>Continent=%{x}<br>Count=%{y}<extra></extra>",
         "legendgroup": "Others",
         "marker": {
          "color": "#FF69B4",
          "pattern": {
           "shape": ""
          }
         },
         "name": "Others",
         "offsetgroup": "Others",
         "orientation": "v",
         "showlegend": false,
         "textposition": "auto",
         "type": "bar",
         "x": [
          "Mixed",
          "North Globe",
          "South Globe"
         ],
         "xaxis": "x13",
         "y": [
          1,
          108,
          3
         ],
         "yaxis": "y13"
        },
        {
         "alignmentgroup": "True",
         "hovertemplate": "Nationality=Others<br>Department=missing<br>Continent=%{x}<br>Count=%{y}<extra></extra>",
         "legendgroup": "Others",
         "marker": {
          "color": "#FF69B4",
          "pattern": {
           "shape": ""
          }
         },
         "name": "Others",
         "offsetgroup": "Others",
         "orientation": "v",
         "showlegend": false,
         "textposition": "auto",
         "type": "bar",
         "x": [
          "Mixed",
          "North Globe",
          "South Globe"
         ],
         "xaxis": "x14",
         "y": [
          44,
          39,
          4
         ],
         "yaxis": "y14"
        },
        {
         "alignmentgroup": "True",
         "hovertemplate": "Nationality=Others<br>Department=Drawings & Prints<br>Continent=%{x}<br>Count=%{y}<extra></extra>",
         "legendgroup": "Others",
         "marker": {
          "color": "#FF69B4",
          "pattern": {
           "shape": ""
          }
         },
         "name": "Others",
         "offsetgroup": "Others",
         "orientation": "v",
         "showlegend": false,
         "textposition": "auto",
         "type": "bar",
         "x": [
          "North Globe",
          "South Globe"
         ],
         "xaxis": "x11",
         "y": [
          92,
          9
         ],
         "yaxis": "y11"
        },
        {
         "alignmentgroup": "True",
         "hovertemplate": "Nationality=Others<br>Department=Media and Performance<br>Continent=%{x}<br>Count=%{y}<extra></extra>",
         "legendgroup": "Others",
         "marker": {
          "color": "#FF69B4",
          "pattern": {
           "shape": ""
          }
         },
         "name": "Others",
         "offsetgroup": "Others",
         "orientation": "v",
         "showlegend": false,
         "textposition": "auto",
         "type": "bar",
         "x": [
          "North Globe",
          "South Globe"
         ],
         "xaxis": "x12",
         "y": [
          0,
          0
         ],
         "yaxis": "y12"
        },
        {
         "alignmentgroup": "True",
         "hovertemplate": "Nationality=Others<br>Department=Architecture & Design<br>Continent=%{x}<br>Count=%{y}<extra></extra>",
         "legendgroup": "Others",
         "marker": {
          "color": "#FF69B4",
          "pattern": {
           "shape": ""
          }
         },
         "name": "Others",
         "offsetgroup": "Others",
         "orientation": "v",
         "showlegend": false,
         "textposition": "auto",
         "type": "bar",
         "x": [
          "North Globe",
          "South Globe"
         ],
         "xaxis": "x9",
         "y": [
          9,
          0
         ],
         "yaxis": "y9"
        },
        {
         "alignmentgroup": "True",
         "hovertemplate": "Nationality=Others<br>Department=Conceptual<br>Continent=%{x}<br>Count=%{y}<extra></extra>",
         "legendgroup": "Others",
         "marker": {
          "color": "#FF69B4",
          "pattern": {
           "shape": ""
          }
         },
         "name": "Others",
         "offsetgroup": "Others",
         "orientation": "v",
         "showlegend": false,
         "textposition": "auto",
         "type": "bar",
         "x": [
          "North Globe"
         ],
         "xaxis": "x10",
         "y": [
          5
         ],
         "yaxis": "y10"
        },
        {
         "alignmentgroup": "True",
         "hovertemplate": "Nationality=Others<br>Department=Film<br>Continent=%{x}<br>Count=%{y}<extra></extra>",
         "legendgroup": "Others",
         "marker": {
          "color": "#FF69B4",
          "pattern": {
           "shape": ""
          }
         },
         "name": "Others",
         "offsetgroup": "Others",
         "orientation": "v",
         "showlegend": false,
         "textposition": "auto",
         "type": "bar",
         "x": [
          "North Globe",
          "South Globe"
         ],
         "xaxis": "x7",
         "y": [
          2,
          0
         ],
         "yaxis": "y7"
        },
        {
         "alignmentgroup": "True",
         "hovertemplate": "Nationality=Others<br>Department=Fluxus Collection<br>Continent=%{x}<br>Count=%{y}<extra></extra>",
         "legendgroup": "Others",
         "marker": {
          "color": "#FF69B4",
          "pattern": {
           "shape": ""
          }
         },
         "name": "Others",
         "offsetgroup": "Others",
         "orientation": "v",
         "showlegend": false,
         "textposition": "auto",
         "type": "bar",
         "x": [
          "North Globe"
         ],
         "xaxis": "x8",
         "y": [
          3
         ],
         "yaxis": "y8"
        },
        {
         "alignmentgroup": "True",
         "hovertemplate": "Nationality=Others<br>Department=Installation & Performance<br>Continent=%{x}<br>Count=%{y}<extra></extra>",
         "legendgroup": "Others",
         "marker": {
          "color": "#FF69B4",
          "pattern": {
           "shape": ""
          }
         },
         "name": "Others",
         "offsetgroup": "Others",
         "orientation": "v",
         "showlegend": false,
         "textposition": "auto",
         "type": "bar",
         "x": [
          "North Globe",
          "South Globe"
         ],
         "xaxis": "x5",
         "y": [
          40,
          2
         ],
         "yaxis": "y5"
        },
        {
         "alignmentgroup": "True",
         "hovertemplate": "Nationality=Others<br>Department=Interactive<br>Continent=%{x}<br>Count=%{y}<extra></extra>",
         "legendgroup": "Others",
         "marker": {
          "color": "#FF69B4",
          "pattern": {
           "shape": ""
          }
         },
         "name": "Others",
         "offsetgroup": "Others",
         "orientation": "v",
         "showlegend": false,
         "textposition": "auto",
         "type": "bar",
         "x": [
          "North Globe",
          "South Globe"
         ],
         "xaxis": "x6",
         "y": [
          19,
          1
         ],
         "yaxis": "y6"
        },
        {
         "alignmentgroup": "True",
         "hovertemplate": "Nationality=Others<br>Department=Moving Images<br>Continent=%{x}<br>Count=%{y}<extra></extra>",
         "legendgroup": "Others",
         "marker": {
          "color": "#FF69B4",
          "pattern": {
           "shape": ""
          }
         },
         "name": "Others",
         "offsetgroup": "Others",
         "orientation": "v",
         "showlegend": false,
         "textposition": "auto",
         "type": "bar",
         "x": [
          "North Globe",
          "South Globe"
         ],
         "xaxis": "x3",
         "y": [
          210,
          2
         ],
         "yaxis": "y3"
        },
        {
         "alignmentgroup": "True",
         "hovertemplate": "Nationality=Others<br>Department=Painting & Sculpture<br>Continent=%{x}<br>Count=%{y}<extra></extra>",
         "legendgroup": "Others",
         "marker": {
          "color": "#FF69B4",
          "pattern": {
           "shape": ""
          }
         },
         "name": "Others",
         "offsetgroup": "Others",
         "orientation": "v",
         "showlegend": false,
         "textposition": "auto",
         "type": "bar",
         "x": [
          "North Globe",
          "South Globe"
         ],
         "xaxis": "x4",
         "y": [
          0,
          0
         ],
         "yaxis": "y4"
        },
        {
         "alignmentgroup": "True",
         "hovertemplate": "Nationality=Others<br>Department=Photography<br>Continent=%{x}<br>Count=%{y}<extra></extra>",
         "legendgroup": "Others",
         "marker": {
          "color": "#FF69B4",
          "pattern": {
           "shape": ""
          }
         },
         "name": "Others",
         "offsetgroup": "Others",
         "orientation": "v",
         "showlegend": false,
         "textposition": "auto",
         "type": "bar",
         "x": [
          "North Globe",
          "South Globe"
         ],
         "xaxis": "x",
         "y": [
          0,
          1
         ],
         "yaxis": "y"
        },
        {
         "alignmentgroup": "True",
         "hovertemplate": "Nationality=Others<br>Department=Text-based<br>Continent=%{x}<br>Count=%{y}<extra></extra>",
         "legendgroup": "Others",
         "marker": {
          "color": "#FF69B4",
          "pattern": {
           "shape": ""
          }
         },
         "name": "Others",
         "offsetgroup": "Others",
         "orientation": "v",
         "showlegend": false,
         "textposition": "auto",
         "type": "bar",
         "x": [
          "North Globe"
         ],
         "xaxis": "x2",
         "y": [
          5
         ],
         "yaxis": "y2"
        },
        {
         "alignmentgroup": "True",
         "hovertemplate": "Nationality=Albanian<br>Department=Drawings & Prints<br>Continent=%{x}<br>Count=%{y}<extra></extra>",
         "legendgroup": "Albanian",
         "marker": {
          "color": "#DB7093",
          "pattern": {
           "shape": ""
          }
         },
         "name": "Albanian",
         "offsetgroup": "Albanian",
         "orientation": "v",
         "showlegend": true,
         "textposition": "auto",
         "type": "bar",
         "x": [
          "North Globe"
         ],
         "xaxis": "x11",
         "y": [
          1
         ],
         "yaxis": "y11"
        },
        {
         "alignmentgroup": "True",
         "hovertemplate": "Nationality=Albanian<br>Department=Media and Performance<br>Continent=%{x}<br>Count=%{y}<extra></extra>",
         "legendgroup": "Albanian",
         "marker": {
          "color": "#DB7093",
          "pattern": {
           "shape": ""
          }
         },
         "name": "Albanian",
         "offsetgroup": "Albanian",
         "orientation": "v",
         "showlegend": false,
         "textposition": "auto",
         "type": "bar",
         "x": [
          "North Globe"
         ],
         "xaxis": "x12",
         "y": [
          0
         ],
         "yaxis": "y12"
        },
        {
         "alignmentgroup": "True",
         "hovertemplate": "Nationality=American<br>Department=Websites & Data<br>Continent=%{x}<br>Count=%{y}<extra></extra>",
         "legendgroup": "American",
         "marker": {
          "color": "#C71585",
          "pattern": {
           "shape": ""
          }
         },
         "name": "American",
         "offsetgroup": "American",
         "orientation": "v",
         "showlegend": true,
         "textposition": "auto",
         "type": "bar",
         "x": [
          "North Globe"
         ],
         "xaxis": "x15",
         "y": [
          85
         ],
         "yaxis": "y15"
        },
        {
         "alignmentgroup": "True",
         "hovertemplate": "Nationality=American<br>Department=Audio-based<br>Continent=%{x}<br>Count=%{y}<extra></extra>",
         "legendgroup": "American",
         "marker": {
          "color": "#C71585",
          "pattern": {
           "shape": ""
          }
         },
         "name": "American",
         "offsetgroup": "American",
         "orientation": "v",
         "showlegend": false,
         "textposition": "auto",
         "type": "bar",
         "x": [
          "North Globe"
         ],
         "xaxis": "x16",
         "y": [
          23
         ],
         "yaxis": "y16"
        },
        {
         "alignmentgroup": "True",
         "hovertemplate": "Nationality=American<br>Department=Images, Painting, Photos<br>Continent=%{x}<br>Count=%{y}<extra></extra>",
         "legendgroup": "American",
         "marker": {
          "color": "#C71585",
          "pattern": {
           "shape": ""
          }
         },
         "name": "American",
         "offsetgroup": "American",
         "orientation": "v",
         "showlegend": false,
         "textposition": "auto",
         "type": "bar",
         "x": [
          "North Globe"
         ],
         "xaxis": "x13",
         "y": [
          97
         ],
         "yaxis": "y13"
        },
        {
         "alignmentgroup": "True",
         "hovertemplate": "Nationality=American<br>Department=missing<br>Continent=%{x}<br>Count=%{y}<extra></extra>",
         "legendgroup": "American",
         "marker": {
          "color": "#C71585",
          "pattern": {
           "shape": ""
          }
         },
         "name": "American",
         "offsetgroup": "American",
         "orientation": "v",
         "showlegend": false,
         "textposition": "auto",
         "type": "bar",
         "x": [
          "North Globe"
         ],
         "xaxis": "x14",
         "y": [
          29
         ],
         "yaxis": "y14"
        },
        {
         "alignmentgroup": "True",
         "hovertemplate": "Nationality=American<br>Department=Drawings & Prints<br>Continent=%{x}<br>Count=%{y}<extra></extra>",
         "legendgroup": "American",
         "marker": {
          "color": "#C71585",
          "pattern": {
           "shape": ""
          }
         },
         "name": "American",
         "offsetgroup": "American",
         "orientation": "v",
         "showlegend": false,
         "textposition": "auto",
         "type": "bar",
         "x": [
          "North Globe"
         ],
         "xaxis": "x11",
         "y": [
          744
         ],
         "yaxis": "y11"
        },
        {
         "alignmentgroup": "True",
         "hovertemplate": "Nationality=American<br>Department=Media and Performance<br>Continent=%{x}<br>Count=%{y}<extra></extra>",
         "legendgroup": "American",
         "marker": {
          "color": "#C71585",
          "pattern": {
           "shape": ""
          }
         },
         "name": "American",
         "offsetgroup": "American",
         "orientation": "v",
         "showlegend": false,
         "textposition": "auto",
         "type": "bar",
         "x": [
          "North Globe"
         ],
         "xaxis": "x12",
         "y": [
          40
         ],
         "yaxis": "y12"
        },
        {
         "alignmentgroup": "True",
         "hovertemplate": "Nationality=American<br>Department=Architecture & Design<br>Continent=%{x}<br>Count=%{y}<extra></extra>",
         "legendgroup": "American",
         "marker": {
          "color": "#C71585",
          "pattern": {
           "shape": ""
          }
         },
         "name": "American",
         "offsetgroup": "American",
         "orientation": "v",
         "showlegend": false,
         "textposition": "auto",
         "type": "bar",
         "x": [
          "North Globe"
         ],
         "xaxis": "x9",
         "y": [
          41
         ],
         "yaxis": "y9"
        },
        {
         "alignmentgroup": "True",
         "hovertemplate": "Nationality=American<br>Department=Conceptual<br>Continent=%{x}<br>Count=%{y}<extra></extra>",
         "legendgroup": "American",
         "marker": {
          "color": "#C71585",
          "pattern": {
           "shape": ""
          }
         },
         "name": "American",
         "offsetgroup": "American",
         "orientation": "v",
         "showlegend": false,
         "textposition": "auto",
         "type": "bar",
         "x": [
          "North Globe"
         ],
         "xaxis": "x10",
         "y": [
          5
         ],
         "yaxis": "y10"
        },
        {
         "alignmentgroup": "True",
         "hovertemplate": "Nationality=American<br>Department=Film<br>Continent=%{x}<br>Count=%{y}<extra></extra>",
         "legendgroup": "American",
         "marker": {
          "color": "#C71585",
          "pattern": {
           "shape": ""
          }
         },
         "name": "American",
         "offsetgroup": "American",
         "orientation": "v",
         "showlegend": false,
         "textposition": "auto",
         "type": "bar",
         "x": [
          "North Globe"
         ],
         "xaxis": "x7",
         "y": [
          18
         ],
         "yaxis": "y7"
        },
        {
         "alignmentgroup": "True",
         "hovertemplate": "Nationality=American<br>Department=Fluxus Collection<br>Continent=%{x}<br>Count=%{y}<extra></extra>",
         "legendgroup": "American",
         "marker": {
          "color": "#C71585",
          "pattern": {
           "shape": ""
          }
         },
         "name": "American",
         "offsetgroup": "American",
         "orientation": "v",
         "showlegend": false,
         "textposition": "auto",
         "type": "bar",
         "x": [
          "North Globe"
         ],
         "xaxis": "x8",
         "y": [
          0
         ],
         "yaxis": "y8"
        },
        {
         "alignmentgroup": "True",
         "hovertemplate": "Nationality=American<br>Department=Installation & Performance<br>Continent=%{x}<br>Count=%{y}<extra></extra>",
         "legendgroup": "American",
         "marker": {
          "color": "#C71585",
          "pattern": {
           "shape": ""
          }
         },
         "name": "American",
         "offsetgroup": "American",
         "orientation": "v",
         "showlegend": false,
         "textposition": "auto",
         "type": "bar",
         "x": [
          "North Globe"
         ],
         "xaxis": "x5",
         "y": [
          25
         ],
         "yaxis": "y5"
        },
        {
         "alignmentgroup": "True",
         "hovertemplate": "Nationality=American<br>Department=Interactive<br>Continent=%{x}<br>Count=%{y}<extra></extra>",
         "legendgroup": "American",
         "marker": {
          "color": "#C71585",
          "pattern": {
           "shape": ""
          }
         },
         "name": "American",
         "offsetgroup": "American",
         "orientation": "v",
         "showlegend": false,
         "textposition": "auto",
         "type": "bar",
         "x": [
          "North Globe"
         ],
         "xaxis": "x6",
         "y": [
          10
         ],
         "yaxis": "y6"
        },
        {
         "alignmentgroup": "True",
         "hovertemplate": "Nationality=American<br>Department=Moving Images<br>Continent=%{x}<br>Count=%{y}<extra></extra>",
         "legendgroup": "American",
         "marker": {
          "color": "#C71585",
          "pattern": {
           "shape": ""
          }
         },
         "name": "American",
         "offsetgroup": "American",
         "orientation": "v",
         "showlegend": false,
         "textposition": "auto",
         "type": "bar",
         "x": [
          "North Globe"
         ],
         "xaxis": "x3",
         "y": [
          201
         ],
         "yaxis": "y3"
        },
        {
         "alignmentgroup": "True",
         "hovertemplate": "Nationality=American<br>Department=Painting & Sculpture<br>Continent=%{x}<br>Count=%{y}<extra></extra>",
         "legendgroup": "American",
         "marker": {
          "color": "#C71585",
          "pattern": {
           "shape": ""
          }
         },
         "name": "American",
         "offsetgroup": "American",
         "orientation": "v",
         "showlegend": false,
         "textposition": "auto",
         "type": "bar",
         "x": [
          "North Globe"
         ],
         "xaxis": "x4",
         "y": [
          32
         ],
         "yaxis": "y4"
        },
        {
         "alignmentgroup": "True",
         "hovertemplate": "Nationality=American<br>Department=Photography<br>Continent=%{x}<br>Count=%{y}<extra></extra>",
         "legendgroup": "American",
         "marker": {
          "color": "#C71585",
          "pattern": {
           "shape": ""
          }
         },
         "name": "American",
         "offsetgroup": "American",
         "orientation": "v",
         "showlegend": false,
         "textposition": "auto",
         "type": "bar",
         "x": [
          "North Globe"
         ],
         "xaxis": "x",
         "y": [
          169
         ],
         "yaxis": "y"
        },
        {
         "alignmentgroup": "True",
         "hovertemplate": "Nationality=American<br>Department=Text-based<br>Continent=%{x}<br>Count=%{y}<extra></extra>",
         "legendgroup": "American",
         "marker": {
          "color": "#C71585",
          "pattern": {
           "shape": ""
          }
         },
         "name": "American",
         "offsetgroup": "American",
         "orientation": "v",
         "showlegend": false,
         "textposition": "auto",
         "type": "bar",
         "x": [
          "North Globe"
         ],
         "xaxis": "x2",
         "y": [
          6
         ],
         "yaxis": "y2"
        },
        {
         "alignmentgroup": "True",
         "hovertemplate": "Nationality=American/Canadian<br>Department=Images, Painting, Photos<br>Continent=%{x}<br>Count=%{y}<extra></extra>",
         "legendgroup": "American/Canadian",
         "marker": {
          "color": "#E6E6FA",
          "pattern": {
           "shape": ""
          }
         },
         "name": "American/Canadian",
         "offsetgroup": "American/Canadian",
         "orientation": "v",
         "showlegend": true,
         "textposition": "auto",
         "type": "bar",
         "x": [
          "North Globe"
         ],
         "xaxis": "x13",
         "y": [
          2
         ],
         "yaxis": "y13"
        },
        {
         "alignmentgroup": "True",
         "hovertemplate": "Nationality=Australian<br>Department=Websites & Data<br>Continent=%{x}<br>Count=%{y}<extra></extra>",
         "legendgroup": "Australian",
         "marker": {
          "color": "#DDA0DD",
          "pattern": {
           "shape": ""
          }
         },
         "name": "Australian",
         "offsetgroup": "Australian",
         "orientation": "v",
         "showlegend": true,
         "textposition": "auto",
         "type": "bar",
         "x": [
          "North Globe"
         ],
         "xaxis": "x15",
         "y": [
          4
         ],
         "yaxis": "y15"
        },
        {
         "alignmentgroup": "True",
         "hovertemplate": "Nationality=Australian<br>Department=Drawings & Prints<br>Continent=%{x}<br>Count=%{y}<extra></extra>",
         "legendgroup": "Australian",
         "marker": {
          "color": "#DDA0DD",
          "pattern": {
           "shape": ""
          }
         },
         "name": "Australian",
         "offsetgroup": "Australian",
         "orientation": "v",
         "showlegend": false,
         "textposition": "auto",
         "type": "bar",
         "x": [
          "North Globe"
         ],
         "xaxis": "x11",
         "y": [
          3
         ],
         "yaxis": "y11"
        },
        {
         "alignmentgroup": "True",
         "hovertemplate": "Nationality=Australian<br>Department=Media and Performance<br>Continent=%{x}<br>Count=%{y}<extra></extra>",
         "legendgroup": "Australian",
         "marker": {
          "color": "#DDA0DD",
          "pattern": {
           "shape": ""
          }
         },
         "name": "Australian",
         "offsetgroup": "Australian",
         "orientation": "v",
         "showlegend": false,
         "textposition": "auto",
         "type": "bar",
         "x": [
          "North Globe"
         ],
         "xaxis": "x12",
         "y": [
          0
         ],
         "yaxis": "y12"
        },
        {
         "alignmentgroup": "True",
         "hovertemplate": "Nationality=Australian<br>Department=Architecture & Design<br>Continent=%{x}<br>Count=%{y}<extra></extra>",
         "legendgroup": "Australian",
         "marker": {
          "color": "#DDA0DD",
          "pattern": {
           "shape": ""
          }
         },
         "name": "Australian",
         "offsetgroup": "Australian",
         "orientation": "v",
         "showlegend": false,
         "textposition": "auto",
         "type": "bar",
         "x": [
          "North Globe"
         ],
         "xaxis": "x9",
         "y": [
          0
         ],
         "yaxis": "y9"
        },
        {
         "alignmentgroup": "True",
         "hovertemplate": "Nationality=Australian<br>Department=Installation & Performance<br>Continent=%{x}<br>Count=%{y}<extra></extra>",
         "legendgroup": "Australian",
         "marker": {
          "color": "#DDA0DD",
          "pattern": {
           "shape": ""
          }
         },
         "name": "Australian",
         "offsetgroup": "Australian",
         "orientation": "v",
         "showlegend": false,
         "textposition": "auto",
         "type": "bar",
         "x": [
          "North Globe"
         ],
         "xaxis": "x5",
         "y": [
          4
         ],
         "yaxis": "y5"
        },
        {
         "alignmentgroup": "True",
         "hovertemplate": "Nationality=Austrian<br>Department=Media and Performance<br>Continent=%{x}<br>Count=%{y}<extra></extra>",
         "legendgroup": "Austrian",
         "marker": {
          "color": "#EE82EE",
          "pattern": {
           "shape": ""
          }
         },
         "name": "Austrian",
         "offsetgroup": "Austrian",
         "orientation": "v",
         "showlegend": true,
         "textposition": "auto",
         "type": "bar",
         "x": [
          "North Globe"
         ],
         "xaxis": "x12",
         "y": [
          1
         ],
         "yaxis": "y12"
        },
        {
         "alignmentgroup": "True",
         "hovertemplate": "Nationality=Austrian<br>Department=Architecture & Design<br>Continent=%{x}<br>Count=%{y}<extra></extra>",
         "legendgroup": "Austrian",
         "marker": {
          "color": "#EE82EE",
          "pattern": {
           "shape": ""
          }
         },
         "name": "Austrian",
         "offsetgroup": "Austrian",
         "orientation": "v",
         "showlegend": false,
         "textposition": "auto",
         "type": "bar",
         "x": [
          "North Globe"
         ],
         "xaxis": "x9",
         "y": [
          0
         ],
         "yaxis": "y9"
        },
        {
         "alignmentgroup": "True",
         "hovertemplate": "Nationality=Austrian<br>Department=Painting & Sculpture<br>Continent=%{x}<br>Count=%{y}<extra></extra>",
         "legendgroup": "Austrian",
         "marker": {
          "color": "#EE82EE",
          "pattern": {
           "shape": ""
          }
         },
         "name": "Austrian",
         "offsetgroup": "Austrian",
         "orientation": "v",
         "showlegend": false,
         "textposition": "auto",
         "type": "bar",
         "x": [
          "North Globe"
         ],
         "xaxis": "x4",
         "y": [
          1
         ],
         "yaxis": "y4"
        },
        {
         "alignmentgroup": "True",
         "hovertemplate": "Nationality=Austrian<br>Department=Photography<br>Continent=%{x}<br>Count=%{y}<extra></extra>",
         "legendgroup": "Austrian",
         "marker": {
          "color": "#EE82EE",
          "pattern": {
           "shape": ""
          }
         },
         "name": "Austrian",
         "offsetgroup": "Austrian",
         "orientation": "v",
         "showlegend": false,
         "textposition": "auto",
         "type": "bar",
         "x": [
          "North Globe"
         ],
         "xaxis": "x",
         "y": [
          0
         ],
         "yaxis": "y"
        },
        {
         "alignmentgroup": "True",
         "hovertemplate": "Nationality=Belgian<br>Department=Drawings & Prints<br>Continent=%{x}<br>Count=%{y}<extra></extra>",
         "legendgroup": "Belgian",
         "marker": {
          "color": "#9932CC",
          "pattern": {
           "shape": ""
          }
         },
         "name": "Belgian",
         "offsetgroup": "Belgian",
         "orientation": "v",
         "showlegend": true,
         "textposition": "auto",
         "type": "bar",
         "x": [
          "North Globe"
         ],
         "xaxis": "x11",
         "y": [
          4
         ],
         "yaxis": "y11"
        },
        {
         "alignmentgroup": "True",
         "hovertemplate": "Nationality=Belgian<br>Department=Media and Performance<br>Continent=%{x}<br>Count=%{y}<extra></extra>",
         "legendgroup": "Belgian",
         "marker": {
          "color": "#9932CC",
          "pattern": {
           "shape": ""
          }
         },
         "name": "Belgian",
         "offsetgroup": "Belgian",
         "orientation": "v",
         "showlegend": false,
         "textposition": "auto",
         "type": "bar",
         "x": [
          "North Globe"
         ],
         "xaxis": "x12",
         "y": [
          14
         ],
         "yaxis": "y12"
        },
        {
         "alignmentgroup": "True",
         "hovertemplate": "Nationality=Belgian<br>Department=Architecture & Design<br>Continent=%{x}<br>Count=%{y}<extra></extra>",
         "legendgroup": "Belgian",
         "marker": {
          "color": "#9932CC",
          "pattern": {
           "shape": ""
          }
         },
         "name": "Belgian",
         "offsetgroup": "Belgian",
         "orientation": "v",
         "showlegend": false,
         "textposition": "auto",
         "type": "bar",
         "x": [
          "North Globe"
         ],
         "xaxis": "x9",
         "y": [
          1
         ],
         "yaxis": "y9"
        },
        {
         "alignmentgroup": "True",
         "hovertemplate": "Nationality=Belgian<br>Department=Moving Images<br>Continent=%{x}<br>Count=%{y}<extra></extra>",
         "legendgroup": "Belgian",
         "marker": {
          "color": "#9932CC",
          "pattern": {
           "shape": ""
          }
         },
         "name": "Belgian",
         "offsetgroup": "Belgian",
         "orientation": "v",
         "showlegend": false,
         "textposition": "auto",
         "type": "bar",
         "x": [
          "North Globe"
         ],
         "xaxis": "x3",
         "y": [
          9
         ],
         "yaxis": "y3"
        },
        {
         "alignmentgroup": "True",
         "hovertemplate": "Nationality=Belgian<br>Department=Painting & Sculpture<br>Continent=%{x}<br>Count=%{y}<extra></extra>",
         "legendgroup": "Belgian",
         "marker": {
          "color": "#9932CC",
          "pattern": {
           "shape": ""
          }
         },
         "name": "Belgian",
         "offsetgroup": "Belgian",
         "orientation": "v",
         "showlegend": false,
         "textposition": "auto",
         "type": "bar",
         "x": [
          "North Globe"
         ],
         "xaxis": "x4",
         "y": [
          0
         ],
         "yaxis": "y4"
        },
        {
         "alignmentgroup": "True",
         "hovertemplate": "Nationality=Belgian<br>Department=Photography<br>Continent=%{x}<br>Count=%{y}<extra></extra>",
         "legendgroup": "Belgian",
         "marker": {
          "color": "#9932CC",
          "pattern": {
           "shape": ""
          }
         },
         "name": "Belgian",
         "offsetgroup": "Belgian",
         "orientation": "v",
         "showlegend": false,
         "textposition": "auto",
         "type": "bar",
         "x": [
          "North Globe"
         ],
         "xaxis": "x",
         "y": [
          1
         ],
         "yaxis": "y"
        },
        {
         "alignmentgroup": "True",
         "hovertemplate": "Nationality=British<br>Department=Drawings & Prints<br>Continent=%{x}<br>Count=%{y}<extra></extra>",
         "legendgroup": "British",
         "marker": {
          "color": "#8B008B",
          "pattern": {
           "shape": ""
          }
         },
         "name": "British",
         "offsetgroup": "British",
         "orientation": "v",
         "showlegend": true,
         "textposition": "auto",
         "type": "bar",
         "x": [
          "North Globe"
         ],
         "xaxis": "x11",
         "y": [
          63
         ],
         "yaxis": "y11"
        },
        {
         "alignmentgroup": "True",
         "hovertemplate": "Nationality=British<br>Department=Media and Performance<br>Continent=%{x}<br>Count=%{y}<extra></extra>",
         "legendgroup": "British",
         "marker": {
          "color": "#8B008B",
          "pattern": {
           "shape": ""
          }
         },
         "name": "British",
         "offsetgroup": "British",
         "orientation": "v",
         "showlegend": false,
         "textposition": "auto",
         "type": "bar",
         "x": [
          "North Globe"
         ],
         "xaxis": "x12",
         "y": [
          3
         ],
         "yaxis": "y12"
        },
        {
         "alignmentgroup": "True",
         "hovertemplate": "Nationality=British<br>Department=Architecture & Design<br>Continent=%{x}<br>Count=%{y}<extra></extra>",
         "legendgroup": "British",
         "marker": {
          "color": "#8B008B",
          "pattern": {
           "shape": ""
          }
         },
         "name": "British",
         "offsetgroup": "British",
         "orientation": "v",
         "showlegend": false,
         "textposition": "auto",
         "type": "bar",
         "x": [
          "North Globe"
         ],
         "xaxis": "x9",
         "y": [
          4
         ],
         "yaxis": "y9"
        },
        {
         "alignmentgroup": "True",
         "hovertemplate": "Nationality=British<br>Department=Film<br>Continent=%{x}<br>Count=%{y}<extra></extra>",
         "legendgroup": "British",
         "marker": {
          "color": "#8B008B",
          "pattern": {
           "shape": ""
          }
         },
         "name": "British",
         "offsetgroup": "British",
         "orientation": "v",
         "showlegend": false,
         "textposition": "auto",
         "type": "bar",
         "x": [
          "North Globe"
         ],
         "xaxis": "x7",
         "y": [
          1
         ],
         "yaxis": "y7"
        },
        {
         "alignmentgroup": "True",
         "hovertemplate": "Nationality=British<br>Department=Painting & Sculpture<br>Continent=%{x}<br>Count=%{y}<extra></extra>",
         "legendgroup": "British",
         "marker": {
          "color": "#8B008B",
          "pattern": {
           "shape": ""
          }
         },
         "name": "British",
         "offsetgroup": "British",
         "orientation": "v",
         "showlegend": false,
         "textposition": "auto",
         "type": "bar",
         "x": [
          "North Globe"
         ],
         "xaxis": "x4",
         "y": [
          3
         ],
         "yaxis": "y4"
        },
        {
         "alignmentgroup": "True",
         "hovertemplate": "Nationality=British<br>Department=Photography<br>Continent=%{x}<br>Count=%{y}<extra></extra>",
         "legendgroup": "British",
         "marker": {
          "color": "#8B008B",
          "pattern": {
           "shape": ""
          }
         },
         "name": "British",
         "offsetgroup": "British",
         "orientation": "v",
         "showlegend": false,
         "textposition": "auto",
         "type": "bar",
         "x": [
          "North Globe"
         ],
         "xaxis": "x",
         "y": [
          12
         ],
         "yaxis": "y"
        },
        {
         "alignmentgroup": "True",
         "hovertemplate": "Nationality=Bulgarian<br>Department=Drawings & Prints<br>Continent=%{x}<br>Count=%{y}<extra></extra>",
         "legendgroup": "Bulgarian",
         "marker": {
          "color": "#9370DB",
          "pattern": {
           "shape": ""
          }
         },
         "name": "Bulgarian",
         "offsetgroup": "Bulgarian",
         "orientation": "v",
         "showlegend": true,
         "textposition": "auto",
         "type": "bar",
         "x": [
          "North Globe"
         ],
         "xaxis": "x11",
         "y": [
          0
         ],
         "yaxis": "y11"
        },
        {
         "alignmentgroup": "True",
         "hovertemplate": "Nationality=Canadian<br>Department=Websites & Data<br>Continent=%{x}<br>Count=%{y}<extra></extra>",
         "legendgroup": "Canadian",
         "marker": {
          "color": "#483D8B",
          "pattern": {
           "shape": ""
          }
         },
         "name": "Canadian",
         "offsetgroup": "Canadian",
         "orientation": "v",
         "showlegend": true,
         "textposition": "auto",
         "type": "bar",
         "x": [
          "North Globe"
         ],
         "xaxis": "x15",
         "y": [
          9
         ],
         "yaxis": "y15"
        },
        {
         "alignmentgroup": "True",
         "hovertemplate": "Nationality=Canadian<br>Department=Drawings & Prints<br>Continent=%{x}<br>Count=%{y}<extra></extra>",
         "legendgroup": "Canadian",
         "marker": {
          "color": "#483D8B",
          "pattern": {
           "shape": ""
          }
         },
         "name": "Canadian",
         "offsetgroup": "Canadian",
         "orientation": "v",
         "showlegend": false,
         "textposition": "auto",
         "type": "bar",
         "x": [
          "North Globe"
         ],
         "xaxis": "x11",
         "y": [
          24
         ],
         "yaxis": "y11"
        },
        {
         "alignmentgroup": "True",
         "hovertemplate": "Nationality=Canadian<br>Department=Media and Performance<br>Continent=%{x}<br>Count=%{y}<extra></extra>",
         "legendgroup": "Canadian",
         "marker": {
          "color": "#483D8B",
          "pattern": {
           "shape": ""
          }
         },
         "name": "Canadian",
         "offsetgroup": "Canadian",
         "orientation": "v",
         "showlegend": false,
         "textposition": "auto",
         "type": "bar",
         "x": [
          "North Globe"
         ],
         "xaxis": "x12",
         "y": [
          2
         ],
         "yaxis": "y12"
        },
        {
         "alignmentgroup": "True",
         "hovertemplate": "Nationality=Canadian<br>Department=Architecture & Design<br>Continent=%{x}<br>Count=%{y}<extra></extra>",
         "legendgroup": "Canadian",
         "marker": {
          "color": "#483D8B",
          "pattern": {
           "shape": ""
          }
         },
         "name": "Canadian",
         "offsetgroup": "Canadian",
         "orientation": "v",
         "showlegend": false,
         "textposition": "auto",
         "type": "bar",
         "x": [
          "North Globe"
         ],
         "xaxis": "x9",
         "y": [
          0
         ],
         "yaxis": "y9"
        },
        {
         "alignmentgroup": "True",
         "hovertemplate": "Nationality=Canadian<br>Department=Film<br>Continent=%{x}<br>Count=%{y}<extra></extra>",
         "legendgroup": "Canadian",
         "marker": {
          "color": "#483D8B",
          "pattern": {
           "shape": ""
          }
         },
         "name": "Canadian",
         "offsetgroup": "Canadian",
         "orientation": "v",
         "showlegend": false,
         "textposition": "auto",
         "type": "bar",
         "x": [
          "North Globe"
         ],
         "xaxis": "x7",
         "y": [
          1
         ],
         "yaxis": "y7"
        },
        {
         "alignmentgroup": "True",
         "hovertemplate": "Nationality=Canadian<br>Department=Installation & Performance<br>Continent=%{x}<br>Count=%{y}<extra></extra>",
         "legendgroup": "Canadian",
         "marker": {
          "color": "#483D8B",
          "pattern": {
           "shape": ""
          }
         },
         "name": "Canadian",
         "offsetgroup": "Canadian",
         "orientation": "v",
         "showlegend": false,
         "textposition": "auto",
         "type": "bar",
         "x": [
          "North Globe"
         ],
         "xaxis": "x5",
         "y": [
          3
         ],
         "yaxis": "y5"
        },
        {
         "alignmentgroup": "True",
         "hovertemplate": "Nationality=Canadian<br>Department=Interactive<br>Continent=%{x}<br>Count=%{y}<extra></extra>",
         "legendgroup": "Canadian",
         "marker": {
          "color": "#483D8B",
          "pattern": {
           "shape": ""
          }
         },
         "name": "Canadian",
         "offsetgroup": "Canadian",
         "orientation": "v",
         "showlegend": false,
         "textposition": "auto",
         "type": "bar",
         "x": [
          "North Globe"
         ],
         "xaxis": "x6",
         "y": [
          5
         ],
         "yaxis": "y6"
        },
        {
         "alignmentgroup": "True",
         "hovertemplate": "Nationality=Canadian<br>Department=Photography<br>Continent=%{x}<br>Count=%{y}<extra></extra>",
         "legendgroup": "Canadian",
         "marker": {
          "color": "#483D8B",
          "pattern": {
           "shape": ""
          }
         },
         "name": "Canadian",
         "offsetgroup": "Canadian",
         "orientation": "v",
         "showlegend": false,
         "textposition": "auto",
         "type": "bar",
         "x": [
          "North Globe"
         ],
         "xaxis": "x",
         "y": [
          7
         ],
         "yaxis": "y"
        },
        {
         "alignmentgroup": "True",
         "hovertemplate": "Nationality=Croatian<br>Department=Media and Performance<br>Continent=%{x}<br>Count=%{y}<extra></extra>",
         "legendgroup": "Croatian",
         "marker": {
          "color": "#4B0082",
          "pattern": {
           "shape": ""
          }
         },
         "name": "Croatian",
         "offsetgroup": "Croatian",
         "orientation": "v",
         "showlegend": true,
         "textposition": "auto",
         "type": "bar",
         "x": [
          "North Globe"
         ],
         "xaxis": "x12",
         "y": [
          0
         ],
         "yaxis": "y12"
        },
        {
         "alignmentgroup": "True",
         "hovertemplate": "Nationality=Croatian<br>Department=Moving Images<br>Continent=%{x}<br>Count=%{y}<extra></extra>",
         "legendgroup": "Croatian",
         "marker": {
          "color": "#4B0082",
          "pattern": {
           "shape": ""
          }
         },
         "name": "Croatian",
         "offsetgroup": "Croatian",
         "orientation": "v",
         "showlegend": false,
         "textposition": "auto",
         "type": "bar",
         "x": [
          "North Globe"
         ],
         "xaxis": "x3",
         "y": [
          2
         ],
         "yaxis": "y3"
        },
        {
         "alignmentgroup": "True",
         "hovertemplate": "Nationality=Cuban<br>Department=Drawings & Prints<br>Continent=%{x}<br>Count=%{y}<extra></extra>",
         "legendgroup": "Cuban",
         "marker": {
          "color": "#FA8072",
          "pattern": {
           "shape": ""
          }
         },
         "name": "Cuban",
         "offsetgroup": "Cuban",
         "orientation": "v",
         "showlegend": true,
         "textposition": "auto",
         "type": "bar",
         "x": [
          "North Globe"
         ],
         "xaxis": "x11",
         "y": [
          2
         ],
         "yaxis": "y11"
        },
        {
         "alignmentgroup": "True",
         "hovertemplate": "Nationality=Cuban<br>Department=Media and Performance<br>Continent=%{x}<br>Count=%{y}<extra></extra>",
         "legendgroup": "Cuban",
         "marker": {
          "color": "#FA8072",
          "pattern": {
           "shape": ""
          }
         },
         "name": "Cuban",
         "offsetgroup": "Cuban",
         "orientation": "v",
         "showlegend": false,
         "textposition": "auto",
         "type": "bar",
         "x": [
          "North Globe"
         ],
         "xaxis": "x12",
         "y": [
          0
         ],
         "yaxis": "y12"
        },
        {
         "alignmentgroup": "True",
         "hovertemplate": "Nationality=Cuban<br>Department=Photography<br>Continent=%{x}<br>Count=%{y}<extra></extra>",
         "legendgroup": "Cuban",
         "marker": {
          "color": "#FA8072",
          "pattern": {
           "shape": ""
          }
         },
         "name": "Cuban",
         "offsetgroup": "Cuban",
         "orientation": "v",
         "showlegend": false,
         "textposition": "auto",
         "type": "bar",
         "x": [
          "North Globe"
         ],
         "xaxis": "x",
         "y": [
          0
         ],
         "yaxis": "y"
        },
        {
         "alignmentgroup": "True",
         "hovertemplate": "Nationality=Danish<br>Department=Media and Performance<br>Continent=%{x}<br>Count=%{y}<extra></extra>",
         "legendgroup": "Danish",
         "marker": {
          "color": "#DC143C",
          "pattern": {
           "shape": ""
          }
         },
         "name": "Danish",
         "offsetgroup": "Danish",
         "orientation": "v",
         "showlegend": true,
         "textposition": "auto",
         "type": "bar",
         "x": [
          "North Globe"
         ],
         "xaxis": "x12",
         "y": [
          1
         ],
         "yaxis": "y12"
        },
        {
         "alignmentgroup": "True",
         "hovertemplate": "Nationality=Danish<br>Department=Architecture & Design<br>Continent=%{x}<br>Count=%{y}<extra></extra>",
         "legendgroup": "Danish",
         "marker": {
          "color": "#DC143C",
          "pattern": {
           "shape": ""
          }
         },
         "name": "Danish",
         "offsetgroup": "Danish",
         "orientation": "v",
         "showlegend": false,
         "textposition": "auto",
         "type": "bar",
         "x": [
          "North Globe"
         ],
         "xaxis": "x9",
         "y": [
          1
         ],
         "yaxis": "y9"
        },
        {
         "alignmentgroup": "True",
         "hovertemplate": "Nationality=Danish<br>Department=Painting & Sculpture<br>Continent=%{x}<br>Count=%{y}<extra></extra>",
         "legendgroup": "Danish",
         "marker": {
          "color": "#DC143C",
          "pattern": {
           "shape": ""
          }
         },
         "name": "Danish",
         "offsetgroup": "Danish",
         "orientation": "v",
         "showlegend": false,
         "textposition": "auto",
         "type": "bar",
         "x": [
          "North Globe"
         ],
         "xaxis": "x4",
         "y": [
          0
         ],
         "yaxis": "y4"
        },
        {
         "alignmentgroup": "True",
         "hovertemplate": "Nationality=Danish<br>Department=Photography<br>Continent=%{x}<br>Count=%{y}<extra></extra>",
         "legendgroup": "Danish",
         "marker": {
          "color": "#DC143C",
          "pattern": {
           "shape": ""
          }
         },
         "name": "Danish",
         "offsetgroup": "Danish",
         "orientation": "v",
         "showlegend": false,
         "textposition": "auto",
         "type": "bar",
         "x": [
          "North Globe"
         ],
         "xaxis": "x",
         "y": [
          0
         ],
         "yaxis": "y"
        },
        {
         "alignmentgroup": "True",
         "hovertemplate": "Nationality=Dutch<br>Department=Media and Performance<br>Continent=%{x}<br>Count=%{y}<extra></extra>",
         "legendgroup": "Dutch",
         "marker": {
          "color": "#8B0000",
          "pattern": {
           "shape": ""
          }
         },
         "name": "Dutch",
         "offsetgroup": "Dutch",
         "orientation": "v",
         "showlegend": true,
         "textposition": "auto",
         "type": "bar",
         "x": [
          "North Globe"
         ],
         "xaxis": "x12",
         "y": [
          0
         ],
         "yaxis": "y12"
        },
        {
         "alignmentgroup": "True",
         "hovertemplate": "Nationality=Dutch<br>Department=Architecture & Design<br>Continent=%{x}<br>Count=%{y}<extra></extra>",
         "legendgroup": "Dutch",
         "marker": {
          "color": "#8B0000",
          "pattern": {
           "shape": ""
          }
         },
         "name": "Dutch",
         "offsetgroup": "Dutch",
         "orientation": "v",
         "showlegend": false,
         "textposition": "auto",
         "type": "bar",
         "x": [
          "North Globe"
         ],
         "xaxis": "x9",
         "y": [
          14
         ],
         "yaxis": "y9"
        },
        {
         "alignmentgroup": "True",
         "hovertemplate": "Nationality=Dutch<br>Department=Painting & Sculpture<br>Continent=%{x}<br>Count=%{y}<extra></extra>",
         "legendgroup": "Dutch",
         "marker": {
          "color": "#8B0000",
          "pattern": {
           "shape": ""
          }
         },
         "name": "Dutch",
         "offsetgroup": "Dutch",
         "orientation": "v",
         "showlegend": false,
         "textposition": "auto",
         "type": "bar",
         "x": [
          "North Globe"
         ],
         "xaxis": "x4",
         "y": [
          0
         ],
         "yaxis": "y4"
        },
        {
         "alignmentgroup": "True",
         "hovertemplate": "Nationality=Dutch<br>Department=Photography<br>Continent=%{x}<br>Count=%{y}<extra></extra>",
         "legendgroup": "Dutch",
         "marker": {
          "color": "#8B0000",
          "pattern": {
           "shape": ""
          }
         },
         "name": "Dutch",
         "offsetgroup": "Dutch",
         "orientation": "v",
         "showlegend": false,
         "textposition": "auto",
         "type": "bar",
         "x": [
          "North Globe"
         ],
         "xaxis": "x",
         "y": [
          2
         ],
         "yaxis": "y"
        },
        {
         "alignmentgroup": "True",
         "hovertemplate": "Nationality=Finnish<br>Department=Moving Images<br>Continent=%{x}<br>Count=%{y}<extra></extra>",
         "legendgroup": "Finnish",
         "marker": {
          "color": "#FF8C00",
          "pattern": {
           "shape": ""
          }
         },
         "name": "Finnish",
         "offsetgroup": "Finnish",
         "orientation": "v",
         "showlegend": true,
         "textposition": "auto",
         "type": "bar",
         "x": [
          "North Globe"
         ],
         "xaxis": "x3",
         "y": [
          2
         ],
         "yaxis": "y3"
        },
        {
         "alignmentgroup": "True",
         "hovertemplate": "Nationality=French<br>Department=Websites & Data<br>Continent=%{x}<br>Count=%{y}<extra></extra>",
         "legendgroup": "French",
         "marker": {
          "color": "#FF4500",
          "pattern": {
           "shape": ""
          }
         },
         "name": "French",
         "offsetgroup": "French",
         "orientation": "v",
         "showlegend": true,
         "textposition": "auto",
         "type": "bar",
         "x": [
          "North Globe"
         ],
         "xaxis": "x15",
         "y": [
          9
         ],
         "yaxis": "y15"
        },
        {
         "alignmentgroup": "True",
         "hovertemplate": "Nationality=French<br>Department=Audio-based<br>Continent=%{x}<br>Count=%{y}<extra></extra>",
         "legendgroup": "French",
         "marker": {
          "color": "#FF4500",
          "pattern": {
           "shape": ""
          }
         },
         "name": "French",
         "offsetgroup": "French",
         "orientation": "v",
         "showlegend": false,
         "textposition": "auto",
         "type": "bar",
         "x": [
          "North Globe"
         ],
         "xaxis": "x16",
         "y": [
          11
         ],
         "yaxis": "y16"
        },
        {
         "alignmentgroup": "True",
         "hovertemplate": "Nationality=French<br>Department=Images, Painting, Photos<br>Continent=%{x}<br>Count=%{y}<extra></extra>",
         "legendgroup": "French",
         "marker": {
          "color": "#FF4500",
          "pattern": {
           "shape": ""
          }
         },
         "name": "French",
         "offsetgroup": "French",
         "orientation": "v",
         "showlegend": false,
         "textposition": "auto",
         "type": "bar",
         "x": [
          "North Globe"
         ],
         "xaxis": "x13",
         "y": [
          27
         ],
         "yaxis": "y13"
        },
        {
         "alignmentgroup": "True",
         "hovertemplate": "Nationality=French<br>Department=missing<br>Continent=%{x}<br>Count=%{y}<extra></extra>",
         "legendgroup": "French",
         "marker": {
          "color": "#FF4500",
          "pattern": {
           "shape": ""
          }
         },
         "name": "French",
         "offsetgroup": "French",
         "orientation": "v",
         "showlegend": false,
         "textposition": "auto",
         "type": "bar",
         "x": [
          "North Globe"
         ],
         "xaxis": "x14",
         "y": [
          12
         ],
         "yaxis": "y14"
        },
        {
         "alignmentgroup": "True",
         "hovertemplate": "Nationality=French<br>Department=Drawings & Prints<br>Continent=%{x}<br>Count=%{y}<extra></extra>",
         "legendgroup": "French",
         "marker": {
          "color": "#FF4500",
          "pattern": {
           "shape": ""
          }
         },
         "name": "French",
         "offsetgroup": "French",
         "orientation": "v",
         "showlegend": false,
         "textposition": "auto",
         "type": "bar",
         "x": [
          "North Globe"
         ],
         "xaxis": "x11",
         "y": [
          8
         ],
         "yaxis": "y11"
        },
        {
         "alignmentgroup": "True",
         "hovertemplate": "Nationality=French<br>Department=Media and Performance<br>Continent=%{x}<br>Count=%{y}<extra></extra>",
         "legendgroup": "French",
         "marker": {
          "color": "#FF4500",
          "pattern": {
           "shape": ""
          }
         },
         "name": "French",
         "offsetgroup": "French",
         "orientation": "v",
         "showlegend": false,
         "textposition": "auto",
         "type": "bar",
         "x": [
          "North Globe"
         ],
         "xaxis": "x12",
         "y": [
          1
         ],
         "yaxis": "y12"
        },
        {
         "alignmentgroup": "True",
         "hovertemplate": "Nationality=French<br>Department=Architecture & Design<br>Continent=%{x}<br>Count=%{y}<extra></extra>",
         "legendgroup": "French",
         "marker": {
          "color": "#FF4500",
          "pattern": {
           "shape": ""
          }
         },
         "name": "French",
         "offsetgroup": "French",
         "orientation": "v",
         "showlegend": false,
         "textposition": "auto",
         "type": "bar",
         "x": [
          "North Globe"
         ],
         "xaxis": "x9",
         "y": [
          13
         ],
         "yaxis": "y9"
        },
        {
         "alignmentgroup": "True",
         "hovertemplate": "Nationality=French<br>Department=Film<br>Continent=%{x}<br>Count=%{y}<extra></extra>",
         "legendgroup": "French",
         "marker": {
          "color": "#FF4500",
          "pattern": {
           "shape": ""
          }
         },
         "name": "French",
         "offsetgroup": "French",
         "orientation": "v",
         "showlegend": false,
         "textposition": "auto",
         "type": "bar",
         "x": [
          "North Globe"
         ],
         "xaxis": "x7",
         "y": [
          1
         ],
         "yaxis": "y7"
        },
        {
         "alignmentgroup": "True",
         "hovertemplate": "Nationality=French<br>Department=Fluxus Collection<br>Continent=%{x}<br>Count=%{y}<extra></extra>",
         "legendgroup": "French",
         "marker": {
          "color": "#FF4500",
          "pattern": {
           "shape": ""
          }
         },
         "name": "French",
         "offsetgroup": "French",
         "orientation": "v",
         "showlegend": false,
         "textposition": "auto",
         "type": "bar",
         "x": [
          "North Globe"
         ],
         "xaxis": "x8",
         "y": [
          1
         ],
         "yaxis": "y8"
        },
        {
         "alignmentgroup": "True",
         "hovertemplate": "Nationality=French<br>Department=Installation & Performance<br>Continent=%{x}<br>Count=%{y}<extra></extra>",
         "legendgroup": "French",
         "marker": {
          "color": "#FF4500",
          "pattern": {
           "shape": ""
          }
         },
         "name": "French",
         "offsetgroup": "French",
         "orientation": "v",
         "showlegend": false,
         "textposition": "auto",
         "type": "bar",
         "x": [
          "North Globe"
         ],
         "xaxis": "x5",
         "y": [
          10
         ],
         "yaxis": "y5"
        },
        {
         "alignmentgroup": "True",
         "hovertemplate": "Nationality=French<br>Department=Interactive<br>Continent=%{x}<br>Count=%{y}<extra></extra>",
         "legendgroup": "French",
         "marker": {
          "color": "#FF4500",
          "pattern": {
           "shape": ""
          }
         },
         "name": "French",
         "offsetgroup": "French",
         "orientation": "v",
         "showlegend": false,
         "textposition": "auto",
         "type": "bar",
         "x": [
          "North Globe"
         ],
         "xaxis": "x6",
         "y": [
          2
         ],
         "yaxis": "y6"
        },
        {
         "alignmentgroup": "True",
         "hovertemplate": "Nationality=French<br>Department=Moving Images<br>Continent=%{x}<br>Count=%{y}<extra></extra>",
         "legendgroup": "French",
         "marker": {
          "color": "#FF4500",
          "pattern": {
           "shape": ""
          }
         },
         "name": "French",
         "offsetgroup": "French",
         "orientation": "v",
         "showlegend": false,
         "textposition": "auto",
         "type": "bar",
         "x": [
          "North Globe"
         ],
         "xaxis": "x3",
         "y": [
          62
         ],
         "yaxis": "y3"
        },
        {
         "alignmentgroup": "True",
         "hovertemplate": "Nationality=French<br>Department=Painting & Sculpture<br>Continent=%{x}<br>Count=%{y}<extra></extra>",
         "legendgroup": "French",
         "marker": {
          "color": "#FF4500",
          "pattern": {
           "shape": ""
          }
         },
         "name": "French",
         "offsetgroup": "French",
         "orientation": "v",
         "showlegend": false,
         "textposition": "auto",
         "type": "bar",
         "x": [
          "North Globe"
         ],
         "xaxis": "x4",
         "y": [
          0
         ],
         "yaxis": "y4"
        },
        {
         "alignmentgroup": "True",
         "hovertemplate": "Nationality=French<br>Department=Photography<br>Continent=%{x}<br>Count=%{y}<extra></extra>",
         "legendgroup": "French",
         "marker": {
          "color": "#FF4500",
          "pattern": {
           "shape": ""
          }
         },
         "name": "French",
         "offsetgroup": "French",
         "orientation": "v",
         "showlegend": false,
         "textposition": "auto",
         "type": "bar",
         "x": [
          "North Globe"
         ],
         "xaxis": "x",
         "y": [
          8
         ],
         "yaxis": "y"
        },
        {
         "alignmentgroup": "True",
         "hovertemplate": "Nationality=German<br>Department=Drawings & Prints<br>Continent=%{x}<br>Count=%{y}<extra></extra>",
         "legendgroup": "German",
         "marker": {
          "color": "#FFD700",
          "pattern": {
           "shape": ""
          }
         },
         "name": "German",
         "offsetgroup": "German",
         "orientation": "v",
         "showlegend": true,
         "textposition": "auto",
         "type": "bar",
         "x": [
          "North Globe"
         ],
         "xaxis": "x11",
         "y": [
          101
         ],
         "yaxis": "y11"
        },
        {
         "alignmentgroup": "True",
         "hovertemplate": "Nationality=German<br>Department=Media and Performance<br>Continent=%{x}<br>Count=%{y}<extra></extra>",
         "legendgroup": "German",
         "marker": {
          "color": "#FFD700",
          "pattern": {
           "shape": ""
          }
         },
         "name": "German",
         "offsetgroup": "German",
         "orientation": "v",
         "showlegend": false,
         "textposition": "auto",
         "type": "bar",
         "x": [
          "North Globe"
         ],
         "xaxis": "x12",
         "y": [
          6
         ],
         "yaxis": "y12"
        },
        {
         "alignmentgroup": "True",
         "hovertemplate": "Nationality=German<br>Department=Architecture & Design<br>Continent=%{x}<br>Count=%{y}<extra></extra>",
         "legendgroup": "German",
         "marker": {
          "color": "#FFD700",
          "pattern": {
           "shape": ""
          }
         },
         "name": "German",
         "offsetgroup": "German",
         "orientation": "v",
         "showlegend": false,
         "textposition": "auto",
         "type": "bar",
         "x": [
          "North Globe"
         ],
         "xaxis": "x9",
         "y": [
          7
         ],
         "yaxis": "y9"
        },
        {
         "alignmentgroup": "True",
         "hovertemplate": "Nationality=German<br>Department=Film<br>Continent=%{x}<br>Count=%{y}<extra></extra>",
         "legendgroup": "German",
         "marker": {
          "color": "#FFD700",
          "pattern": {
           "shape": ""
          }
         },
         "name": "German",
         "offsetgroup": "German",
         "orientation": "v",
         "showlegend": false,
         "textposition": "auto",
         "type": "bar",
         "x": [
          "North Globe"
         ],
         "xaxis": "x7",
         "y": [
          0
         ],
         "yaxis": "y7"
        },
        {
         "alignmentgroup": "True",
         "hovertemplate": "Nationality=German<br>Department=Painting & Sculpture<br>Continent=%{x}<br>Count=%{y}<extra></extra>",
         "legendgroup": "German",
         "marker": {
          "color": "#FFD700",
          "pattern": {
           "shape": ""
          }
         },
         "name": "German",
         "offsetgroup": "German",
         "orientation": "v",
         "showlegend": false,
         "textposition": "auto",
         "type": "bar",
         "x": [
          "North Globe"
         ],
         "xaxis": "x4",
         "y": [
          5
         ],
         "yaxis": "y4"
        },
        {
         "alignmentgroup": "True",
         "hovertemplate": "Nationality=German<br>Department=Photography<br>Continent=%{x}<br>Count=%{y}<extra></extra>",
         "legendgroup": "German",
         "marker": {
          "color": "#FFD700",
          "pattern": {
           "shape": ""
          }
         },
         "name": "German",
         "offsetgroup": "German",
         "orientation": "v",
         "showlegend": false,
         "textposition": "auto",
         "type": "bar",
         "x": [
          "North Globe"
         ],
         "xaxis": "x",
         "y": [
          24
         ],
         "yaxis": "y"
        },
        {
         "alignmentgroup": "True",
         "hovertemplate": "Nationality=Greek<br>Department=Websites & Data<br>Continent=%{x}<br>Count=%{y}<extra></extra>",
         "legendgroup": "Greek",
         "marker": {
          "color": "#FFFF00",
          "pattern": {
           "shape": ""
          }
         },
         "name": "Greek",
         "offsetgroup": "Greek",
         "orientation": "v",
         "showlegend": true,
         "textposition": "auto",
         "type": "bar",
         "x": [
          "North Globe"
         ],
         "xaxis": "x15",
         "y": [
          2
         ],
         "yaxis": "y15"
        },
        {
         "alignmentgroup": "True",
         "hovertemplate": "Nationality=Greek<br>Department=Moving Images<br>Continent=%{x}<br>Count=%{y}<extra></extra>",
         "legendgroup": "Greek",
         "marker": {
          "color": "#FFFF00",
          "pattern": {
           "shape": ""
          }
         },
         "name": "Greek",
         "offsetgroup": "Greek",
         "orientation": "v",
         "showlegend": false,
         "textposition": "auto",
         "type": "bar",
         "x": [
          "North Globe"
         ],
         "xaxis": "x3",
         "y": [
          2
         ],
         "yaxis": "y3"
        },
        {
         "alignmentgroup": "True",
         "hovertemplate": "Nationality=Guatemalan<br>Department=Media and Performance<br>Continent=%{x}<br>Count=%{y}<extra></extra>",
         "legendgroup": "Guatemalan",
         "marker": {
          "color": "#F0E68C",
          "pattern": {
           "shape": ""
          }
         },
         "name": "Guatemalan",
         "offsetgroup": "Guatemalan",
         "orientation": "v",
         "showlegend": true,
         "textposition": "auto",
         "type": "bar",
         "x": [
          "North Globe"
         ],
         "xaxis": "x12",
         "y": [
          0
         ],
         "yaxis": "y12"
        },
        {
         "alignmentgroup": "True",
         "hovertemplate": "Nationality=Hungarian<br>Department=Media and Performance<br>Continent=%{x}<br>Count=%{y}<extra></extra>",
         "legendgroup": "Hungarian",
         "marker": {
          "color": "#7FFF00",
          "pattern": {
           "shape": ""
          }
         },
         "name": "Hungarian",
         "offsetgroup": "Hungarian",
         "orientation": "v",
         "showlegend": true,
         "textposition": "auto",
         "type": "bar",
         "x": [
          "North Globe"
         ],
         "xaxis": "x12",
         "y": [
          0
         ],
         "yaxis": "y12"
        },
        {
         "alignmentgroup": "True",
         "hovertemplate": "Nationality=Irish<br>Department=Media and Performance<br>Continent=%{x}<br>Count=%{y}<extra></extra>",
         "legendgroup": "Irish",
         "marker": {
          "color": "#32CD32",
          "pattern": {
           "shape": ""
          }
         },
         "name": "Irish",
         "offsetgroup": "Irish",
         "orientation": "v",
         "showlegend": true,
         "textposition": "auto",
         "type": "bar",
         "x": [
          "North Globe"
         ],
         "xaxis": "x12",
         "y": [
          0
         ],
         "yaxis": "y12"
        },
        {
         "alignmentgroup": "True",
         "hovertemplate": "Nationality=Irish<br>Department=Moving Images<br>Continent=%{x}<br>Count=%{y}<extra></extra>",
         "legendgroup": "Irish",
         "marker": {
          "color": "#32CD32",
          "pattern": {
           "shape": ""
          }
         },
         "name": "Irish",
         "offsetgroup": "Irish",
         "orientation": "v",
         "showlegend": false,
         "textposition": "auto",
         "type": "bar",
         "x": [
          "North Globe"
         ],
         "xaxis": "x3",
         "y": [
          2
         ],
         "yaxis": "y3"
        },
        {
         "alignmentgroup": "True",
         "hovertemplate": "Nationality=Israeli<br>Department=Media and Performance<br>Continent=%{x}<br>Count=%{y}<extra></extra>",
         "legendgroup": "Israeli",
         "marker": {
          "color": "#90EE90",
          "pattern": {
           "shape": ""
          }
         },
         "name": "Israeli",
         "offsetgroup": "Israeli",
         "orientation": "v",
         "showlegend": true,
         "textposition": "auto",
         "type": "bar",
         "x": [
          "North Globe"
         ],
         "xaxis": "x12",
         "y": [
          1
         ],
         "yaxis": "y12"
        },
        {
         "alignmentgroup": "True",
         "hovertemplate": "Nationality=Israeli<br>Department=Architecture & Design<br>Continent=%{x}<br>Count=%{y}<extra></extra>",
         "legendgroup": "Israeli",
         "marker": {
          "color": "#90EE90",
          "pattern": {
           "shape": ""
          }
         },
         "name": "Israeli",
         "offsetgroup": "Israeli",
         "orientation": "v",
         "showlegend": false,
         "textposition": "auto",
         "type": "bar",
         "x": [
          "North Globe"
         ],
         "xaxis": "x9",
         "y": [
          0
         ],
         "yaxis": "y9"
        },
        {
         "alignmentgroup": "True",
         "hovertemplate": "Nationality=Israeli<br>Department=Photography<br>Continent=%{x}<br>Count=%{y}<extra></extra>",
         "legendgroup": "Israeli",
         "marker": {
          "color": "#90EE90",
          "pattern": {
           "shape": ""
          }
         },
         "name": "Israeli",
         "offsetgroup": "Israeli",
         "orientation": "v",
         "showlegend": false,
         "textposition": "auto",
         "type": "bar",
         "x": [
          "North Globe"
         ],
         "xaxis": "x",
         "y": [
          2
         ],
         "yaxis": "y"
        },
        {
         "alignmentgroup": "True",
         "hovertemplate": "Nationality=Italian<br>Department=Media and Performance<br>Continent=%{x}<br>Count=%{y}<extra></extra>",
         "legendgroup": "Italian",
         "marker": {
          "color": "#00FA9A",
          "pattern": {
           "shape": ""
          }
         },
         "name": "Italian",
         "offsetgroup": "Italian",
         "orientation": "v",
         "showlegend": true,
         "textposition": "auto",
         "type": "bar",
         "x": [
          "North Globe"
         ],
         "xaxis": "x12",
         "y": [
          0
         ],
         "yaxis": "y12"
        },
        {
         "alignmentgroup": "True",
         "hovertemplate": "Nationality=Italian<br>Department=Architecture & Design<br>Continent=%{x}<br>Count=%{y}<extra></extra>",
         "legendgroup": "Italian",
         "marker": {
          "color": "#00FA9A",
          "pattern": {
           "shape": ""
          }
         },
         "name": "Italian",
         "offsetgroup": "Italian",
         "orientation": "v",
         "showlegend": false,
         "textposition": "auto",
         "type": "bar",
         "x": [
          "North Globe"
         ],
         "xaxis": "x9",
         "y": [
          9
         ],
         "yaxis": "y9"
        },
        {
         "alignmentgroup": "True",
         "hovertemplate": "Nationality=Italian<br>Department=Painting & Sculpture<br>Continent=%{x}<br>Count=%{y}<extra></extra>",
         "legendgroup": "Italian",
         "marker": {
          "color": "#00FA9A",
          "pattern": {
           "shape": ""
          }
         },
         "name": "Italian",
         "offsetgroup": "Italian",
         "orientation": "v",
         "showlegend": false,
         "textposition": "auto",
         "type": "bar",
         "x": [
          "North Globe"
         ],
         "xaxis": "x4",
         "y": [
          0
         ],
         "yaxis": "y4"
        },
        {
         "alignmentgroup": "True",
         "hovertemplate": "Nationality=Italian<br>Department=Photography<br>Continent=%{x}<br>Count=%{y}<extra></extra>",
         "legendgroup": "Italian",
         "marker": {
          "color": "#00FA9A",
          "pattern": {
           "shape": ""
          }
         },
         "name": "Italian",
         "offsetgroup": "Italian",
         "orientation": "v",
         "showlegend": false,
         "textposition": "auto",
         "type": "bar",
         "x": [
          "North Globe"
         ],
         "xaxis": "x",
         "y": [
          0
         ],
         "yaxis": "y"
        },
        {
         "alignmentgroup": "True",
         "hovertemplate": "Nationality=Japanese<br>Department=Media and Performance<br>Continent=%{x}<br>Count=%{y}<extra></extra>",
         "legendgroup": "Japanese",
         "marker": {
          "color": "#3CB371",
          "pattern": {
           "shape": ""
          }
         },
         "name": "Japanese",
         "offsetgroup": "Japanese",
         "orientation": "v",
         "showlegend": true,
         "textposition": "auto",
         "type": "bar",
         "x": [
          "North Globe"
         ],
         "xaxis": "x12",
         "y": [
          1
         ],
         "yaxis": "y12"
        },
        {
         "alignmentgroup": "True",
         "hovertemplate": "Nationality=Japanese<br>Department=Architecture & Design<br>Continent=%{x}<br>Count=%{y}<extra></extra>",
         "legendgroup": "Japanese",
         "marker": {
          "color": "#3CB371",
          "pattern": {
           "shape": ""
          }
         },
         "name": "Japanese",
         "offsetgroup": "Japanese",
         "orientation": "v",
         "showlegend": false,
         "textposition": "auto",
         "type": "bar",
         "x": [
          "North Globe"
         ],
         "xaxis": "x9",
         "y": [
          10
         ],
         "yaxis": "y9"
        },
        {
         "alignmentgroup": "True",
         "hovertemplate": "Nationality=Japanese<br>Department=Painting & Sculpture<br>Continent=%{x}<br>Count=%{y}<extra></extra>",
         "legendgroup": "Japanese",
         "marker": {
          "color": "#3CB371",
          "pattern": {
           "shape": ""
          }
         },
         "name": "Japanese",
         "offsetgroup": "Japanese",
         "orientation": "v",
         "showlegend": false,
         "textposition": "auto",
         "type": "bar",
         "x": [
          "North Globe"
         ],
         "xaxis": "x4",
         "y": [
          0
         ],
         "yaxis": "y4"
        },
        {
         "alignmentgroup": "True",
         "hovertemplate": "Nationality=Japanese<br>Department=Photography<br>Continent=%{x}<br>Count=%{y}<extra></extra>",
         "legendgroup": "Japanese",
         "marker": {
          "color": "#3CB371",
          "pattern": {
           "shape": ""
          }
         },
         "name": "Japanese",
         "offsetgroup": "Japanese",
         "orientation": "v",
         "showlegend": false,
         "textposition": "auto",
         "type": "bar",
         "x": [
          "North Globe"
         ],
         "xaxis": "x",
         "y": [
          7
         ],
         "yaxis": "y"
        },
        {
         "alignmentgroup": "True",
         "hovertemplate": "Nationality=Korean<br>Department=Media and Performance<br>Continent=%{x}<br>Count=%{y}<extra></extra>",
         "legendgroup": "Korean",
         "marker": {
          "color": "#006400",
          "pattern": {
           "shape": ""
          }
         },
         "name": "Korean",
         "offsetgroup": "Korean",
         "orientation": "v",
         "showlegend": true,
         "textposition": "auto",
         "type": "bar",
         "x": [
          "North Globe"
         ],
         "xaxis": "x12",
         "y": [
          0
         ],
         "yaxis": "y12"
        },
        {
         "alignmentgroup": "True",
         "hovertemplate": "Nationality=Mexican<br>Department=Websites & Data<br>Continent=%{x}<br>Count=%{y}<extra></extra>",
         "legendgroup": "Mexican",
         "marker": {
          "color": "#9ACD32",
          "pattern": {
           "shape": ""
          }
         },
         "name": "Mexican",
         "offsetgroup": "Mexican",
         "orientation": "v",
         "showlegend": true,
         "textposition": "auto",
         "type": "bar",
         "x": [
          "North Globe"
         ],
         "xaxis": "x15",
         "y": [
          4
         ],
         "yaxis": "y15"
        },
        {
         "alignmentgroup": "True",
         "hovertemplate": "Nationality=Mexican<br>Department=Images, Painting, Photos<br>Continent=%{x}<br>Count=%{y}<extra></extra>",
         "legendgroup": "Mexican",
         "marker": {
          "color": "#9ACD32",
          "pattern": {
           "shape": ""
          }
         },
         "name": "Mexican",
         "offsetgroup": "Mexican",
         "orientation": "v",
         "showlegend": false,
         "textposition": "auto",
         "type": "bar",
         "x": [
          "North Globe"
         ],
         "xaxis": "x13",
         "y": [
          2
         ],
         "yaxis": "y13"
        },
        {
         "alignmentgroup": "True",
         "hovertemplate": "Nationality=Mexican<br>Department=Drawings & Prints<br>Continent=%{x}<br>Count=%{y}<extra></extra>",
         "legendgroup": "Mexican",
         "marker": {
          "color": "#9ACD32",
          "pattern": {
           "shape": ""
          }
         },
         "name": "Mexican",
         "offsetgroup": "Mexican",
         "orientation": "v",
         "showlegend": false,
         "textposition": "auto",
         "type": "bar",
         "x": [
          "North Globe"
         ],
         "xaxis": "x11",
         "y": [
          9
         ],
         "yaxis": "y11"
        },
        {
         "alignmentgroup": "True",
         "hovertemplate": "Nationality=Mexican<br>Department=Media and Performance<br>Continent=%{x}<br>Count=%{y}<extra></extra>",
         "legendgroup": "Mexican",
         "marker": {
          "color": "#9ACD32",
          "pattern": {
           "shape": ""
          }
         },
         "name": "Mexican",
         "offsetgroup": "Mexican",
         "orientation": "v",
         "showlegend": false,
         "textposition": "auto",
         "type": "bar",
         "x": [
          "North Globe"
         ],
         "xaxis": "x12",
         "y": [
          2
         ],
         "yaxis": "y12"
        },
        {
         "alignmentgroup": "True",
         "hovertemplate": "Nationality=Mexican<br>Department=Architecture & Design<br>Continent=%{x}<br>Count=%{y}<extra></extra>",
         "legendgroup": "Mexican",
         "marker": {
          "color": "#9ACD32",
          "pattern": {
           "shape": ""
          }
         },
         "name": "Mexican",
         "offsetgroup": "Mexican",
         "orientation": "v",
         "showlegend": false,
         "textposition": "auto",
         "type": "bar",
         "x": [
          "North Globe"
         ],
         "xaxis": "x9",
         "y": [
          1
         ],
         "yaxis": "y9"
        },
        {
         "alignmentgroup": "True",
         "hovertemplate": "Nationality=Mexican<br>Department=Film<br>Continent=%{x}<br>Count=%{y}<extra></extra>",
         "legendgroup": "Mexican",
         "marker": {
          "color": "#9ACD32",
          "pattern": {
           "shape": ""
          }
         },
         "name": "Mexican",
         "offsetgroup": "Mexican",
         "orientation": "v",
         "showlegend": false,
         "textposition": "auto",
         "type": "bar",
         "x": [
          "North Globe"
         ],
         "xaxis": "x7",
         "y": [
          0
         ],
         "yaxis": "y7"
        },
        {
         "alignmentgroup": "True",
         "hovertemplate": "Nationality=Mexican<br>Department=Moving Images<br>Continent=%{x}<br>Count=%{y}<extra></extra>",
         "legendgroup": "Mexican",
         "marker": {
          "color": "#9ACD32",
          "pattern": {
           "shape": ""
          }
         },
         "name": "Mexican",
         "offsetgroup": "Mexican",
         "orientation": "v",
         "showlegend": false,
         "textposition": "auto",
         "type": "bar",
         "x": [
          "North Globe"
         ],
         "xaxis": "x3",
         "y": [
          5
         ],
         "yaxis": "y3"
        },
        {
         "alignmentgroup": "True",
         "hovertemplate": "Nationality=Mexican<br>Department=Painting & Sculpture<br>Continent=%{x}<br>Count=%{y}<extra></extra>",
         "legendgroup": "Mexican",
         "marker": {
          "color": "#9ACD32",
          "pattern": {
           "shape": ""
          }
         },
         "name": "Mexican",
         "offsetgroup": "Mexican",
         "orientation": "v",
         "showlegend": false,
         "textposition": "auto",
         "type": "bar",
         "x": [
          "North Globe"
         ],
         "xaxis": "x4",
         "y": [
          0
         ],
         "yaxis": "y4"
        },
        {
         "alignmentgroup": "True",
         "hovertemplate": "Nationality=Mexican<br>Department=Photography<br>Continent=%{x}<br>Count=%{y}<extra></extra>",
         "legendgroup": "Mexican",
         "marker": {
          "color": "#9ACD32",
          "pattern": {
           "shape": ""
          }
         },
         "name": "Mexican",
         "offsetgroup": "Mexican",
         "orientation": "v",
         "showlegend": false,
         "textposition": "auto",
         "type": "bar",
         "x": [
          "North Globe"
         ],
         "xaxis": "x",
         "y": [
          3
         ],
         "yaxis": "y"
        },
        {
         "alignmentgroup": "True",
         "hovertemplate": "Nationality=New Zealander<br>Department=Painting & Sculpture<br>Continent=%{x}<br>Count=%{y}<extra></extra>",
         "legendgroup": "New Zealander",
         "marker": {
          "color": "#6B8E23",
          "pattern": {
           "shape": ""
          }
         },
         "name": "New Zealander",
         "offsetgroup": "New Zealander",
         "orientation": "v",
         "showlegend": true,
         "textposition": "auto",
         "type": "bar",
         "x": [
          "North Globe"
         ],
         "xaxis": "x4",
         "y": [
          0
         ],
         "yaxis": "y4"
        },
        {
         "alignmentgroup": "True",
         "hovertemplate": "Nationality=Norwegian<br>Department=Drawings & Prints<br>Continent=%{x}<br>Count=%{y}<extra></extra>",
         "legendgroup": "Norwegian",
         "marker": {
          "color": "#66CDAA",
          "pattern": {
           "shape": ""
          }
         },
         "name": "Norwegian",
         "offsetgroup": "Norwegian",
         "orientation": "v",
         "showlegend": true,
         "textposition": "auto",
         "type": "bar",
         "x": [
          "North Globe"
         ],
         "xaxis": "x11",
         "y": [
          5
         ],
         "yaxis": "y11"
        },
        {
         "alignmentgroup": "True",
         "hovertemplate": "Nationality=Norwegian<br>Department=Photography<br>Continent=%{x}<br>Count=%{y}<extra></extra>",
         "legendgroup": "Norwegian",
         "marker": {
          "color": "#66CDAA",
          "pattern": {
           "shape": ""
          }
         },
         "name": "Norwegian",
         "offsetgroup": "Norwegian",
         "orientation": "v",
         "showlegend": false,
         "textposition": "auto",
         "type": "bar",
         "x": [
          "North Globe"
         ],
         "xaxis": "x",
         "y": [
          0
         ],
         "yaxis": "y"
        },
        {
         "alignmentgroup": "True",
         "hovertemplate": "Nationality=Polish<br>Department=Media and Performance<br>Continent=%{x}<br>Count=%{y}<extra></extra>",
         "legendgroup": "Polish",
         "marker": {
          "color": "#20B2AA",
          "pattern": {
           "shape": ""
          }
         },
         "name": "Polish",
         "offsetgroup": "Polish",
         "orientation": "v",
         "showlegend": true,
         "textposition": "auto",
         "type": "bar",
         "x": [
          "North Globe"
         ],
         "xaxis": "x12",
         "y": [
          0
         ],
         "yaxis": "y12"
        },
        {
         "alignmentgroup": "True",
         "hovertemplate": "Nationality=Polish<br>Department=Architecture & Design<br>Continent=%{x}<br>Count=%{y}<extra></extra>",
         "legendgroup": "Polish",
         "marker": {
          "color": "#20B2AA",
          "pattern": {
           "shape": ""
          }
         },
         "name": "Polish",
         "offsetgroup": "Polish",
         "orientation": "v",
         "showlegend": false,
         "textposition": "auto",
         "type": "bar",
         "x": [
          "North Globe"
         ],
         "xaxis": "x9",
         "y": [
          1
         ],
         "yaxis": "y9"
        },
        {
         "alignmentgroup": "True",
         "hovertemplate": "Nationality=Polish<br>Department=Painting & Sculpture<br>Continent=%{x}<br>Count=%{y}<extra></extra>",
         "legendgroup": "Polish",
         "marker": {
          "color": "#20B2AA",
          "pattern": {
           "shape": ""
          }
         },
         "name": "Polish",
         "offsetgroup": "Polish",
         "orientation": "v",
         "showlegend": false,
         "textposition": "auto",
         "type": "bar",
         "x": [
          "North Globe"
         ],
         "xaxis": "x4",
         "y": [
          0
         ],
         "yaxis": "y4"
        },
        {
         "alignmentgroup": "True",
         "hovertemplate": "Nationality=Polish<br>Department=Photography<br>Continent=%{x}<br>Count=%{y}<extra></extra>",
         "legendgroup": "Polish",
         "marker": {
          "color": "#20B2AA",
          "pattern": {
           "shape": ""
          }
         },
         "name": "Polish",
         "offsetgroup": "Polish",
         "orientation": "v",
         "showlegend": false,
         "textposition": "auto",
         "type": "bar",
         "x": [
          "North Globe"
         ],
         "xaxis": "x",
         "y": [
          0
         ],
         "yaxis": "y"
        },
        {
         "alignmentgroup": "True",
         "hovertemplate": "Nationality=Portuguese<br>Department=Websites & Data<br>Continent=%{x}<br>Count=%{y}<extra></extra>",
         "legendgroup": "Portuguese",
         "marker": {
          "color": "#5F9EA0",
          "pattern": {
           "shape": ""
          }
         },
         "name": "Portuguese",
         "offsetgroup": "Portuguese",
         "orientation": "v",
         "showlegend": true,
         "textposition": "auto",
         "type": "bar",
         "x": [
          "North Globe"
         ],
         "xaxis": "x15",
         "y": [
          5
         ],
         "yaxis": "y15"
        },
        {
         "alignmentgroup": "True",
         "hovertemplate": "Nationality=Portuguese<br>Department=Images, Painting, Photos<br>Continent=%{x}<br>Count=%{y}<extra></extra>",
         "legendgroup": "Portuguese",
         "marker": {
          "color": "#5F9EA0",
          "pattern": {
           "shape": ""
          }
         },
         "name": "Portuguese",
         "offsetgroup": "Portuguese",
         "orientation": "v",
         "showlegend": false,
         "textposition": "auto",
         "type": "bar",
         "x": [
          "North Globe"
         ],
         "xaxis": "x13",
         "y": [
          6
         ],
         "yaxis": "y13"
        },
        {
         "alignmentgroup": "True",
         "hovertemplate": "Nationality=Portuguese<br>Department=Drawings & Prints<br>Continent=%{x}<br>Count=%{y}<extra></extra>",
         "legendgroup": "Portuguese",
         "marker": {
          "color": "#5F9EA0",
          "pattern": {
           "shape": ""
          }
         },
         "name": "Portuguese",
         "offsetgroup": "Portuguese",
         "orientation": "v",
         "showlegend": false,
         "textposition": "auto",
         "type": "bar",
         "x": [
          "North Globe"
         ],
         "xaxis": "x11",
         "y": [
          1
         ],
         "yaxis": "y11"
        },
        {
         "alignmentgroup": "True",
         "hovertemplate": "Nationality=Portuguese<br>Department=Architecture & Design<br>Continent=%{x}<br>Count=%{y}<extra></extra>",
         "legendgroup": "Portuguese",
         "marker": {
          "color": "#5F9EA0",
          "pattern": {
           "shape": ""
          }
         },
         "name": "Portuguese",
         "offsetgroup": "Portuguese",
         "orientation": "v",
         "showlegend": false,
         "textposition": "auto",
         "type": "bar",
         "x": [
          "North Globe"
         ],
         "xaxis": "x9",
         "y": [
          2
         ],
         "yaxis": "y9"
        },
        {
         "alignmentgroup": "True",
         "hovertemplate": "Nationality=Portuguese<br>Department=Film<br>Continent=%{x}<br>Count=%{y}<extra></extra>",
         "legendgroup": "Portuguese",
         "marker": {
          "color": "#5F9EA0",
          "pattern": {
           "shape": ""
          }
         },
         "name": "Portuguese",
         "offsetgroup": "Portuguese",
         "orientation": "v",
         "showlegend": false,
         "textposition": "auto",
         "type": "bar",
         "x": [
          "North Globe"
         ],
         "xaxis": "x7",
         "y": [
          0
         ],
         "yaxis": "y7"
        },
        {
         "alignmentgroup": "True",
         "hovertemplate": "Nationality=Portuguese<br>Department=Moving Images<br>Continent=%{x}<br>Count=%{y}<extra></extra>",
         "legendgroup": "Portuguese",
         "marker": {
          "color": "#5F9EA0",
          "pattern": {
           "shape": ""
          }
         },
         "name": "Portuguese",
         "offsetgroup": "Portuguese",
         "orientation": "v",
         "showlegend": false,
         "textposition": "auto",
         "type": "bar",
         "x": [
          "North Globe"
         ],
         "xaxis": "x3",
         "y": [
          2
         ],
         "yaxis": "y3"
        },
        {
         "alignmentgroup": "True",
         "hovertemplate": "Nationality=Romanian<br>Department=Drawings & Prints<br>Continent=%{x}<br>Count=%{y}<extra></extra>",
         "legendgroup": "Romanian",
         "marker": {
          "color": "#4682B4",
          "pattern": {
           "shape": ""
          }
         },
         "name": "Romanian",
         "offsetgroup": "Romanian",
         "orientation": "v",
         "showlegend": true,
         "textposition": "auto",
         "type": "bar",
         "x": [
          "North Globe"
         ],
         "xaxis": "x11",
         "y": [
          0
         ],
         "yaxis": "y11"
        },
        {
         "alignmentgroup": "True",
         "hovertemplate": "Nationality=Romanian<br>Department=Media and Performance<br>Continent=%{x}<br>Count=%{y}<extra></extra>",
         "legendgroup": "Romanian",
         "marker": {
          "color": "#4682B4",
          "pattern": {
           "shape": ""
          }
         },
         "name": "Romanian",
         "offsetgroup": "Romanian",
         "orientation": "v",
         "showlegend": false,
         "textposition": "auto",
         "type": "bar",
         "x": [
          "North Globe"
         ],
         "xaxis": "x12",
         "y": [
          0
         ],
         "yaxis": "y12"
        },
        {
         "alignmentgroup": "True",
         "hovertemplate": "Nationality=Romanian<br>Department=Moving Images<br>Continent=%{x}<br>Count=%{y}<extra></extra>",
         "legendgroup": "Romanian",
         "marker": {
          "color": "#4682B4",
          "pattern": {
           "shape": ""
          }
         },
         "name": "Romanian",
         "offsetgroup": "Romanian",
         "orientation": "v",
         "showlegend": false,
         "textposition": "auto",
         "type": "bar",
         "x": [
          "North Globe"
         ],
         "xaxis": "x3",
         "y": [
          2
         ],
         "yaxis": "y3"
        },
        {
         "alignmentgroup": "True",
         "hovertemplate": "Nationality=Scottish<br>Department=Drawings & Prints<br>Continent=%{x}<br>Count=%{y}<extra></extra>",
         "legendgroup": "Scottish",
         "marker": {
          "color": "#B0C4DE",
          "pattern": {
           "shape": ""
          }
         },
         "name": "Scottish",
         "offsetgroup": "Scottish",
         "orientation": "v",
         "showlegend": true,
         "textposition": "auto",
         "type": "bar",
         "x": [
          "North Globe"
         ],
         "xaxis": "x11",
         "y": [
          4
         ],
         "yaxis": "y11"
        },
        {
         "alignmentgroup": "True",
         "hovertemplate": "Nationality=Scottish<br>Department=Media and Performance<br>Continent=%{x}<br>Count=%{y}<extra></extra>",
         "legendgroup": "Scottish",
         "marker": {
          "color": "#B0C4DE",
          "pattern": {
           "shape": ""
          }
         },
         "name": "Scottish",
         "offsetgroup": "Scottish",
         "orientation": "v",
         "showlegend": false,
         "textposition": "auto",
         "type": "bar",
         "x": [
          "North Globe"
         ],
         "xaxis": "x12",
         "y": [
          0
         ],
         "yaxis": "y12"
        },
        {
         "alignmentgroup": "True",
         "hovertemplate": "Nationality=Scottish<br>Department=Architecture & Design<br>Continent=%{x}<br>Count=%{y}<extra></extra>",
         "legendgroup": "Scottish",
         "marker": {
          "color": "#B0C4DE",
          "pattern": {
           "shape": ""
          }
         },
         "name": "Scottish",
         "offsetgroup": "Scottish",
         "orientation": "v",
         "showlegend": false,
         "textposition": "auto",
         "type": "bar",
         "x": [
          "North Globe"
         ],
         "xaxis": "x9",
         "y": [
          0
         ],
         "yaxis": "y9"
        },
        {
         "alignmentgroup": "True",
         "hovertemplate": "Nationality=Scottish<br>Department=Painting & Sculpture<br>Continent=%{x}<br>Count=%{y}<extra></extra>",
         "legendgroup": "Scottish",
         "marker": {
          "color": "#B0C4DE",
          "pattern": {
           "shape": ""
          }
         },
         "name": "Scottish",
         "offsetgroup": "Scottish",
         "orientation": "v",
         "showlegend": false,
         "textposition": "auto",
         "type": "bar",
         "x": [
          "North Globe"
         ],
         "xaxis": "x4",
         "y": [
          0
         ],
         "yaxis": "y4"
        },
        {
         "alignmentgroup": "True",
         "hovertemplate": "Nationality=South Korean<br>Department=Websites & Data<br>Continent=%{x}<br>Count=%{y}<extra></extra>",
         "legendgroup": "South Korean",
         "marker": {
          "color": "#87CEFA",
          "pattern": {
           "shape": ""
          }
         },
         "name": "South Korean",
         "offsetgroup": "South Korean",
         "orientation": "v",
         "showlegend": true,
         "textposition": "auto",
         "type": "bar",
         "x": [
          "North Globe"
         ],
         "xaxis": "x15",
         "y": [
          2
         ],
         "yaxis": "y15"
        },
        {
         "alignmentgroup": "True",
         "hovertemplate": "Nationality=South Korean<br>Department=Audio-based<br>Continent=%{x}<br>Count=%{y}<extra></extra>",
         "legendgroup": "South Korean",
         "marker": {
          "color": "#87CEFA",
          "pattern": {
           "shape": ""
          }
         },
         "name": "South Korean",
         "offsetgroup": "South Korean",
         "orientation": "v",
         "showlegend": false,
         "textposition": "auto",
         "type": "bar",
         "x": [
          "North Globe"
         ],
         "xaxis": "x16",
         "y": [
          2
         ],
         "yaxis": "y16"
        },
        {
         "alignmentgroup": "True",
         "hovertemplate": "Nationality=South Korean<br>Department=Images, Painting, Photos<br>Continent=%{x}<br>Count=%{y}<extra></extra>",
         "legendgroup": "South Korean",
         "marker": {
          "color": "#87CEFA",
          "pattern": {
           "shape": ""
          }
         },
         "name": "South Korean",
         "offsetgroup": "South Korean",
         "orientation": "v",
         "showlegend": false,
         "textposition": "auto",
         "type": "bar",
         "x": [
          "North Globe"
         ],
         "xaxis": "x13",
         "y": [
          5
         ],
         "yaxis": "y13"
        },
        {
         "alignmentgroup": "True",
         "hovertemplate": "Nationality=South Korean<br>Department=Moving Images<br>Continent=%{x}<br>Count=%{y}<extra></extra>",
         "legendgroup": "South Korean",
         "marker": {
          "color": "#87CEFA",
          "pattern": {
           "shape": ""
          }
         },
         "name": "South Korean",
         "offsetgroup": "South Korean",
         "orientation": "v",
         "showlegend": false,
         "textposition": "auto",
         "type": "bar",
         "x": [
          "North Globe"
         ],
         "xaxis": "x3",
         "y": [
          3
         ],
         "yaxis": "y3"
        },
        {
         "alignmentgroup": "True",
         "hovertemplate": "Nationality=Spanish<br>Department=Drawings & Prints<br>Continent=%{x}<br>Count=%{y}<extra></extra>",
         "legendgroup": "Spanish",
         "marker": {
          "color": "#6495ED",
          "pattern": {
           "shape": ""
          }
         },
         "name": "Spanish",
         "offsetgroup": "Spanish",
         "orientation": "v",
         "showlegend": true,
         "textposition": "auto",
         "type": "bar",
         "x": [
          "North Globe"
         ],
         "xaxis": "x11",
         "y": [
          7
         ],
         "yaxis": "y11"
        },
        {
         "alignmentgroup": "True",
         "hovertemplate": "Nationality=Spanish<br>Department=Architecture & Design<br>Continent=%{x}<br>Count=%{y}<extra></extra>",
         "legendgroup": "Spanish",
         "marker": {
          "color": "#6495ED",
          "pattern": {
           "shape": ""
          }
         },
         "name": "Spanish",
         "offsetgroup": "Spanish",
         "orientation": "v",
         "showlegend": false,
         "textposition": "auto",
         "type": "bar",
         "x": [
          "North Globe"
         ],
         "xaxis": "x9",
         "y": [
          4
         ],
         "yaxis": "y9"
        },
        {
         "alignmentgroup": "True",
         "hovertemplate": "Nationality=Spanish<br>Department=Film<br>Continent=%{x}<br>Count=%{y}<extra></extra>",
         "legendgroup": "Spanish",
         "marker": {
          "color": "#6495ED",
          "pattern": {
           "shape": ""
          }
         },
         "name": "Spanish",
         "offsetgroup": "Spanish",
         "orientation": "v",
         "showlegend": false,
         "textposition": "auto",
         "type": "bar",
         "x": [
          "North Globe"
         ],
         "xaxis": "x7",
         "y": [
          0
         ],
         "yaxis": "y7"
        },
        {
         "alignmentgroup": "True",
         "hovertemplate": "Nationality=Spanish<br>Department=Painting & Sculpture<br>Continent=%{x}<br>Count=%{y}<extra></extra>",
         "legendgroup": "Spanish",
         "marker": {
          "color": "#6495ED",
          "pattern": {
           "shape": ""
          }
         },
         "name": "Spanish",
         "offsetgroup": "Spanish",
         "orientation": "v",
         "showlegend": false,
         "textposition": "auto",
         "type": "bar",
         "x": [
          "North Globe"
         ],
         "xaxis": "x4",
         "y": [
          0
         ],
         "yaxis": "y4"
        },
        {
         "alignmentgroup": "True",
         "hovertemplate": "Nationality=Swedish<br>Department=Media and Performance<br>Continent=%{x}<br>Count=%{y}<extra></extra>",
         "legendgroup": "Swedish",
         "marker": {
          "color": "#00BFFF",
          "pattern": {
           "shape": ""
          }
         },
         "name": "Swedish",
         "offsetgroup": "Swedish",
         "orientation": "v",
         "showlegend": true,
         "textposition": "auto",
         "type": "bar",
         "x": [
          "North Globe"
         ],
         "xaxis": "x12",
         "y": [
          0
         ],
         "yaxis": "y12"
        },
        {
         "alignmentgroup": "True",
         "hovertemplate": "Nationality=Swedish<br>Department=Architecture & Design<br>Continent=%{x}<br>Count=%{y}<extra></extra>",
         "legendgroup": "Swedish",
         "marker": {
          "color": "#00BFFF",
          "pattern": {
           "shape": ""
          }
         },
         "name": "Swedish",
         "offsetgroup": "Swedish",
         "orientation": "v",
         "showlegend": false,
         "textposition": "auto",
         "type": "bar",
         "x": [
          "North Globe"
         ],
         "xaxis": "x9",
         "y": [
          0
         ],
         "yaxis": "y9"
        },
        {
         "alignmentgroup": "True",
         "hovertemplate": "Nationality=Swedish<br>Department=Photography<br>Continent=%{x}<br>Count=%{y}<extra></extra>",
         "legendgroup": "Swedish",
         "marker": {
          "color": "#00BFFF",
          "pattern": {
           "shape": ""
          }
         },
         "name": "Swedish",
         "offsetgroup": "Swedish",
         "orientation": "v",
         "showlegend": false,
         "textposition": "auto",
         "type": "bar",
         "x": [
          "North Globe"
         ],
         "xaxis": "x",
         "y": [
          0
         ],
         "yaxis": "y"
        },
        {
         "alignmentgroup": "True",
         "hovertemplate": "Nationality=Swiss<br>Department=Websites & Data<br>Continent=%{x}<br>Count=%{y}<extra></extra>",
         "legendgroup": "Swiss",
         "marker": {
          "color": "#1E90FF",
          "pattern": {
           "shape": ""
          }
         },
         "name": "Swiss",
         "offsetgroup": "Swiss",
         "orientation": "v",
         "showlegend": true,
         "textposition": "auto",
         "type": "bar",
         "x": [
          "North Globe"
         ],
         "xaxis": "x15",
         "y": [
          3
         ],
         "yaxis": "y15"
        },
        {
         "alignmentgroup": "True",
         "hovertemplate": "Nationality=Swiss<br>Department=Drawings & Prints<br>Continent=%{x}<br>Count=%{y}<extra></extra>",
         "legendgroup": "Swiss",
         "marker": {
          "color": "#1E90FF",
          "pattern": {
           "shape": ""
          }
         },
         "name": "Swiss",
         "offsetgroup": "Swiss",
         "orientation": "v",
         "showlegend": false,
         "textposition": "auto",
         "type": "bar",
         "x": [
          "North Globe"
         ],
         "xaxis": "x11",
         "y": [
          19
         ],
         "yaxis": "y11"
        },
        {
         "alignmentgroup": "True",
         "hovertemplate": "Nationality=Swiss<br>Department=Media and Performance<br>Continent=%{x}<br>Count=%{y}<extra></extra>",
         "legendgroup": "Swiss",
         "marker": {
          "color": "#1E90FF",
          "pattern": {
           "shape": ""
          }
         },
         "name": "Swiss",
         "offsetgroup": "Swiss",
         "orientation": "v",
         "showlegend": false,
         "textposition": "auto",
         "type": "bar",
         "x": [
          "North Globe"
         ],
         "xaxis": "x12",
         "y": [
          11
         ],
         "yaxis": "y12"
        },
        {
         "alignmentgroup": "True",
         "hovertemplate": "Nationality=Swiss<br>Department=Architecture & Design<br>Continent=%{x}<br>Count=%{y}<extra></extra>",
         "legendgroup": "Swiss",
         "marker": {
          "color": "#1E90FF",
          "pattern": {
           "shape": ""
          }
         },
         "name": "Swiss",
         "offsetgroup": "Swiss",
         "orientation": "v",
         "showlegend": false,
         "textposition": "auto",
         "type": "bar",
         "x": [
          "North Globe"
         ],
         "xaxis": "x9",
         "y": [
          10
         ],
         "yaxis": "y9"
        },
        {
         "alignmentgroup": "True",
         "hovertemplate": "Nationality=Swiss<br>Department=Moving Images<br>Continent=%{x}<br>Count=%{y}<extra></extra>",
         "legendgroup": "Swiss",
         "marker": {
          "color": "#1E90FF",
          "pattern": {
           "shape": ""
          }
         },
         "name": "Swiss",
         "offsetgroup": "Swiss",
         "orientation": "v",
         "showlegend": false,
         "textposition": "auto",
         "type": "bar",
         "x": [
          "North Globe"
         ],
         "xaxis": "x3",
         "y": [
          4
         ],
         "yaxis": "y3"
        },
        {
         "alignmentgroup": "True",
         "hovertemplate": "Nationality=Swiss<br>Department=Painting & Sculpture<br>Continent=%{x}<br>Count=%{y}<extra></extra>",
         "legendgroup": "Swiss",
         "marker": {
          "color": "#1E90FF",
          "pattern": {
           "shape": ""
          }
         },
         "name": "Swiss",
         "offsetgroup": "Swiss",
         "orientation": "v",
         "showlegend": false,
         "textposition": "auto",
         "type": "bar",
         "x": [
          "North Globe"
         ],
         "xaxis": "x4",
         "y": [
          0
         ],
         "yaxis": "y4"
        },
        {
         "alignmentgroup": "True",
         "hovertemplate": "Nationality=Swiss<br>Department=Photography<br>Continent=%{x}<br>Count=%{y}<extra></extra>",
         "legendgroup": "Swiss",
         "marker": {
          "color": "#1E90FF",
          "pattern": {
           "shape": ""
          }
         },
         "name": "Swiss",
         "offsetgroup": "Swiss",
         "orientation": "v",
         "showlegend": false,
         "textposition": "auto",
         "type": "bar",
         "x": [
          "North Globe"
         ],
         "xaxis": "x",
         "y": [
          1
         ],
         "yaxis": "y"
        },
        {
         "alignmentgroup": "True",
         "hovertemplate": "Nationality=Turkish<br>Department=Media and Performance<br>Continent=%{x}<br>Count=%{y}<extra></extra>",
         "legendgroup": "Turkish",
         "marker": {
          "color": "#0000CD",
          "pattern": {
           "shape": ""
          }
         },
         "name": "Turkish",
         "offsetgroup": "Turkish",
         "orientation": "v",
         "showlegend": true,
         "textposition": "auto",
         "type": "bar",
         "x": [
          "North Globe"
         ],
         "xaxis": "x12",
         "y": [
          0
         ],
         "yaxis": "y12"
        },
        {
         "alignmentgroup": "True",
         "hovertemplate": "Nationality=Turkish<br>Department=Architecture & Design<br>Continent=%{x}<br>Count=%{y}<extra></extra>",
         "legendgroup": "Turkish",
         "marker": {
          "color": "#0000CD",
          "pattern": {
           "shape": ""
          }
         },
         "name": "Turkish",
         "offsetgroup": "Turkish",
         "orientation": "v",
         "showlegend": false,
         "textposition": "auto",
         "type": "bar",
         "x": [
          "North Globe"
         ],
         "xaxis": "x9",
         "y": [
          0
         ],
         "yaxis": "y9"
        },
        {
         "alignmentgroup": "True",
         "hovertemplate": "Nationality=Turkish<br>Department=Moving Images<br>Continent=%{x}<br>Count=%{y}<extra></extra>",
         "legendgroup": "Turkish",
         "marker": {
          "color": "#0000CD",
          "pattern": {
           "shape": ""
          }
         },
         "name": "Turkish",
         "offsetgroup": "Turkish",
         "orientation": "v",
         "showlegend": false,
         "textposition": "auto",
         "type": "bar",
         "x": [
          "North Globe"
         ],
         "xaxis": "x3",
         "y": [
          2
         ],
         "yaxis": "y3"
        },
        {
         "alignmentgroup": "True",
         "hovertemplate": "Nationality=Turkish<br>Department=Painting & Sculpture<br>Continent=%{x}<br>Count=%{y}<extra></extra>",
         "legendgroup": "Turkish",
         "marker": {
          "color": "#0000CD",
          "pattern": {
           "shape": ""
          }
         },
         "name": "Turkish",
         "offsetgroup": "Turkish",
         "orientation": "v",
         "showlegend": false,
         "textposition": "auto",
         "type": "bar",
         "x": [
          "North Globe"
         ],
         "xaxis": "x4",
         "y": [
          0
         ],
         "yaxis": "y4"
        },
        {
         "alignmentgroup": "True",
         "hovertemplate": "Nationality=Ukrainian<br>Department=Photography<br>Continent=%{x}<br>Count=%{y}<extra></extra>",
         "legendgroup": "Ukrainian",
         "marker": {
          "color": "#191970",
          "pattern": {
           "shape": ""
          }
         },
         "name": "Ukrainian",
         "offsetgroup": "Ukrainian",
         "orientation": "v",
         "showlegend": true,
         "textposition": "auto",
         "type": "bar",
         "x": [
          "North Globe"
         ],
         "xaxis": "x",
         "y": [
          1
         ],
         "yaxis": "y"
        },
        {
         "alignmentgroup": "True",
         "hovertemplate": "Nationality=Algerian<br>Department=Media and Performance<br>Continent=%{x}<br>Count=%{y}<extra></extra>",
         "legendgroup": "Algerian",
         "marker": {
          "color": "#FFDEAD",
          "pattern": {
           "shape": ""
          }
         },
         "name": "Algerian",
         "offsetgroup": "Algerian",
         "orientation": "v",
         "showlegend": true,
         "textposition": "auto",
         "type": "bar",
         "x": [
          "South Globe"
         ],
         "xaxis": "x12",
         "y": [
          0
         ],
         "yaxis": "y12"
        },
        {
         "alignmentgroup": "True",
         "hovertemplate": "Nationality=Algerian<br>Department=Film<br>Continent=%{x}<br>Count=%{y}<extra></extra>",
         "legendgroup": "Algerian",
         "marker": {
          "color": "#FFDEAD",
          "pattern": {
           "shape": ""
          }
         },
         "name": "Algerian",
         "offsetgroup": "Algerian",
         "orientation": "v",
         "showlegend": false,
         "textposition": "auto",
         "type": "bar",
         "x": [
          "South Globe"
         ],
         "xaxis": "x7",
         "y": [
          0
         ],
         "yaxis": "y7"
        },
        {
         "alignmentgroup": "True",
         "hovertemplate": "Nationality=Argentine<br>Department=Drawings & Prints<br>Continent=%{x}<br>Count=%{y}<extra></extra>",
         "legendgroup": "Argentine",
         "marker": {
          "color": "#DEB887",
          "pattern": {
           "shape": ""
          }
         },
         "name": "Argentine",
         "offsetgroup": "Argentine",
         "orientation": "v",
         "showlegend": true,
         "textposition": "auto",
         "type": "bar",
         "x": [
          "South Globe"
         ],
         "xaxis": "x11",
         "y": [
          16
         ],
         "yaxis": "y11"
        },
        {
         "alignmentgroup": "True",
         "hovertemplate": "Nationality=Argentine<br>Department=Media and Performance<br>Continent=%{x}<br>Count=%{y}<extra></extra>",
         "legendgroup": "Argentine",
         "marker": {
          "color": "#DEB887",
          "pattern": {
           "shape": ""
          }
         },
         "name": "Argentine",
         "offsetgroup": "Argentine",
         "orientation": "v",
         "showlegend": false,
         "textposition": "auto",
         "type": "bar",
         "x": [
          "South Globe"
         ],
         "xaxis": "x12",
         "y": [
          0
         ],
         "yaxis": "y12"
        },
        {
         "alignmentgroup": "True",
         "hovertemplate": "Nationality=Argentine<br>Department=Architecture & Design<br>Continent=%{x}<br>Count=%{y}<extra></extra>",
         "legendgroup": "Argentine",
         "marker": {
          "color": "#DEB887",
          "pattern": {
           "shape": ""
          }
         },
         "name": "Argentine",
         "offsetgroup": "Argentine",
         "orientation": "v",
         "showlegend": false,
         "textposition": "auto",
         "type": "bar",
         "x": [
          "South Globe"
         ],
         "xaxis": "x9",
         "y": [
          0
         ],
         "yaxis": "y9"
        },
        {
         "alignmentgroup": "True",
         "hovertemplate": "Nationality=Argentine<br>Department=Film<br>Continent=%{x}<br>Count=%{y}<extra></extra>",
         "legendgroup": "Argentine",
         "marker": {
          "color": "#DEB887",
          "pattern": {
           "shape": ""
          }
         },
         "name": "Argentine",
         "offsetgroup": "Argentine",
         "orientation": "v",
         "showlegend": false,
         "textposition": "auto",
         "type": "bar",
         "x": [
          "South Globe"
         ],
         "xaxis": "x7",
         "y": [
          0
         ],
         "yaxis": "y7"
        },
        {
         "alignmentgroup": "True",
         "hovertemplate": "Nationality=Argentine<br>Department=Moving Images<br>Continent=%{x}<br>Count=%{y}<extra></extra>",
         "legendgroup": "Argentine",
         "marker": {
          "color": "#DEB887",
          "pattern": {
           "shape": ""
          }
         },
         "name": "Argentine",
         "offsetgroup": "Argentine",
         "orientation": "v",
         "showlegend": false,
         "textposition": "auto",
         "type": "bar",
         "x": [
          "South Globe"
         ],
         "xaxis": "x3",
         "y": [
          10
         ],
         "yaxis": "y3"
        },
        {
         "alignmentgroup": "True",
         "hovertemplate": "Nationality=Argentine<br>Department=Painting & Sculpture<br>Continent=%{x}<br>Count=%{y}<extra></extra>",
         "legendgroup": "Argentine",
         "marker": {
          "color": "#DEB887",
          "pattern": {
           "shape": ""
          }
         },
         "name": "Argentine",
         "offsetgroup": "Argentine",
         "orientation": "v",
         "showlegend": false,
         "textposition": "auto",
         "type": "bar",
         "x": [
          "South Globe"
         ],
         "xaxis": "x4",
         "y": [
          0
         ],
         "yaxis": "y4"
        },
        {
         "alignmentgroup": "True",
         "hovertemplate": "Nationality=Argentine<br>Department=Photography<br>Continent=%{x}<br>Count=%{y}<extra></extra>",
         "legendgroup": "Argentine",
         "marker": {
          "color": "#DEB887",
          "pattern": {
           "shape": ""
          }
         },
         "name": "Argentine",
         "offsetgroup": "Argentine",
         "orientation": "v",
         "showlegend": false,
         "textposition": "auto",
         "type": "bar",
         "x": [
          "South Globe"
         ],
         "xaxis": "x",
         "y": [
          2
         ],
         "yaxis": "y"
        },
        {
         "alignmentgroup": "True",
         "hovertemplate": "Nationality=Bahamian<br>Department=Painting & Sculpture<br>Continent=%{x}<br>Count=%{y}<extra></extra>",
         "legendgroup": "Bahamian",
         "marker": {
          "color": "#BC8F8F",
          "pattern": {
           "shape": ""
          }
         },
         "name": "Bahamian",
         "offsetgroup": "Bahamian",
         "orientation": "v",
         "showlegend": true,
         "textposition": "auto",
         "type": "bar",
         "x": [
          "South Globe"
         ],
         "xaxis": "x4",
         "y": [
          0
         ],
         "yaxis": "y4"
        },
        {
         "alignmentgroup": "True",
         "hovertemplate": "Nationality=Bangladeshi<br>Department=Media and Performance<br>Continent=%{x}<br>Count=%{y}<extra></extra>",
         "legendgroup": "Bangladeshi",
         "marker": {
          "color": "#DAA520",
          "pattern": {
           "shape": ""
          }
         },
         "name": "Bangladeshi",
         "offsetgroup": "Bangladeshi",
         "orientation": "v",
         "showlegend": true,
         "textposition": "auto",
         "type": "bar",
         "x": [
          "South Globe"
         ],
         "xaxis": "x12",
         "y": [
          0
         ],
         "yaxis": "y12"
        },
        {
         "alignmentgroup": "True",
         "hovertemplate": "Nationality=Beninese<br>Department=Painting & Sculpture<br>Continent=%{x}<br>Count=%{y}<extra></extra>",
         "legendgroup": "Beninese",
         "marker": {
          "color": "#B8860B",
          "pattern": {
           "shape": ""
          }
         },
         "name": "Beninese",
         "offsetgroup": "Beninese",
         "orientation": "v",
         "showlegend": true,
         "textposition": "auto",
         "type": "bar",
         "x": [
          "South Globe"
         ],
         "xaxis": "x4",
         "y": [
          0
         ],
         "yaxis": "y4"
        },
        {
         "alignmentgroup": "True",
         "hovertemplate": "Nationality=Bosnian<br>Department=Drawings & Prints<br>Continent=%{x}<br>Count=%{y}<extra></extra>",
         "legendgroup": "Bosnian",
         "marker": {
          "color": "#D2691E",
          "pattern": {
           "shape": ""
          }
         },
         "name": "Bosnian",
         "offsetgroup": "Bosnian",
         "orientation": "v",
         "showlegend": true,
         "textposition": "auto",
         "type": "bar",
         "x": [
          "South Globe"
         ],
         "xaxis": "x11",
         "y": [
          0
         ],
         "yaxis": "y11"
        },
        {
         "alignmentgroup": "True",
         "hovertemplate": "Nationality=Bosnian<br>Department=Film<br>Continent=%{x}<br>Count=%{y}<extra></extra>",
         "legendgroup": "Bosnian",
         "marker": {
          "color": "#D2691E",
          "pattern": {
           "shape": ""
          }
         },
         "name": "Bosnian",
         "offsetgroup": "Bosnian",
         "orientation": "v",
         "showlegend": false,
         "textposition": "auto",
         "type": "bar",
         "x": [
          "South Globe"
         ],
         "xaxis": "x7",
         "y": [
          0
         ],
         "yaxis": "y7"
        },
        {
         "alignmentgroup": "True",
         "hovertemplate": "Nationality=Brazilian<br>Department=Drawings & Prints<br>Continent=%{x}<br>Count=%{y}<extra></extra>",
         "legendgroup": "Brazilian",
         "marker": {
          "color": "#8B4513",
          "pattern": {
           "shape": ""
          }
         },
         "name": "Brazilian",
         "offsetgroup": "Brazilian",
         "orientation": "v",
         "showlegend": true,
         "textposition": "auto",
         "type": "bar",
         "x": [
          "South Globe"
         ],
         "xaxis": "x11",
         "y": [
          11
         ],
         "yaxis": "y11"
        },
        {
         "alignmentgroup": "True",
         "hovertemplate": "Nationality=Brazilian<br>Department=Media and Performance<br>Continent=%{x}<br>Count=%{y}<extra></extra>",
         "legendgroup": "Brazilian",
         "marker": {
          "color": "#8B4513",
          "pattern": {
           "shape": ""
          }
         },
         "name": "Brazilian",
         "offsetgroup": "Brazilian",
         "orientation": "v",
         "showlegend": false,
         "textposition": "auto",
         "type": "bar",
         "x": [
          "South Globe"
         ],
         "xaxis": "x12",
         "y": [
          0
         ],
         "yaxis": "y12"
        },
        {
         "alignmentgroup": "True",
         "hovertemplate": "Nationality=Brazilian<br>Department=Architecture & Design<br>Continent=%{x}<br>Count=%{y}<extra></extra>",
         "legendgroup": "Brazilian",
         "marker": {
          "color": "#8B4513",
          "pattern": {
           "shape": ""
          }
         },
         "name": "Brazilian",
         "offsetgroup": "Brazilian",
         "orientation": "v",
         "showlegend": false,
         "textposition": "auto",
         "type": "bar",
         "x": [
          "South Globe"
         ],
         "xaxis": "x9",
         "y": [
          0
         ],
         "yaxis": "y9"
        },
        {
         "alignmentgroup": "True",
         "hovertemplate": "Nationality=Brazilian<br>Department=Film<br>Continent=%{x}<br>Count=%{y}<extra></extra>",
         "legendgroup": "Brazilian",
         "marker": {
          "color": "#8B4513",
          "pattern": {
           "shape": ""
          }
         },
         "name": "Brazilian",
         "offsetgroup": "Brazilian",
         "orientation": "v",
         "showlegend": false,
         "textposition": "auto",
         "type": "bar",
         "x": [
          "South Globe"
         ],
         "xaxis": "x7",
         "y": [
          0
         ],
         "yaxis": "y7"
        },
        {
         "alignmentgroup": "True",
         "hovertemplate": "Nationality=Brazilian<br>Department=Painting & Sculpture<br>Continent=%{x}<br>Count=%{y}<extra></extra>",
         "legendgroup": "Brazilian",
         "marker": {
          "color": "#8B4513",
          "pattern": {
           "shape": ""
          }
         },
         "name": "Brazilian",
         "offsetgroup": "Brazilian",
         "orientation": "v",
         "showlegend": false,
         "textposition": "auto",
         "type": "bar",
         "x": [
          "South Globe"
         ],
         "xaxis": "x4",
         "y": [
          2
         ],
         "yaxis": "y4"
        },
        {
         "alignmentgroup": "True",
         "hovertemplate": "Nationality=Brazilian<br>Department=Photography<br>Continent=%{x}<br>Count=%{y}<extra></extra>",
         "legendgroup": "Brazilian",
         "marker": {
          "color": "#8B4513",
          "pattern": {
           "shape": ""
          }
         },
         "name": "Brazilian",
         "offsetgroup": "Brazilian",
         "orientation": "v",
         "showlegend": false,
         "textposition": "auto",
         "type": "bar",
         "x": [
          "South Globe"
         ],
         "xaxis": "x",
         "y": [
          5
         ],
         "yaxis": "y"
        },
        {
         "alignmentgroup": "True",
         "hovertemplate": "Nationality=Cameroonian<br>Department=Drawings & Prints<br>Continent=%{x}<br>Count=%{y}<extra></extra>",
         "legendgroup": "Cameroonian",
         "marker": {
          "color": "#A52A2A",
          "pattern": {
           "shape": ""
          }
         },
         "name": "Cameroonian",
         "offsetgroup": "Cameroonian",
         "orientation": "v",
         "showlegend": true,
         "textposition": "auto",
         "type": "bar",
         "x": [
          "South Globe"
         ],
         "xaxis": "x11",
         "y": [
          1
         ],
         "yaxis": "y11"
        },
        {
         "alignmentgroup": "True",
         "hovertemplate": "Nationality=Chilean<br>Department=Drawings & Prints<br>Continent=%{x}<br>Count=%{y}<extra></extra>",
         "legendgroup": "Chilean",
         "marker": {
          "color": "#F0FFF0",
          "pattern": {
           "shape": ""
          }
         },
         "name": "Chilean",
         "offsetgroup": "Chilean",
         "orientation": "v",
         "showlegend": true,
         "textposition": "auto",
         "type": "bar",
         "x": [
          "South Globe"
         ],
         "xaxis": "x11",
         "y": [
          2
         ],
         "yaxis": "y11"
        },
        {
         "alignmentgroup": "True",
         "hovertemplate": "Nationality=Chilean<br>Department=Media and Performance<br>Continent=%{x}<br>Count=%{y}<extra></extra>",
         "legendgroup": "Chilean",
         "marker": {
          "color": "#F0FFF0",
          "pattern": {
           "shape": ""
          }
         },
         "name": "Chilean",
         "offsetgroup": "Chilean",
         "orientation": "v",
         "showlegend": false,
         "textposition": "auto",
         "type": "bar",
         "x": [
          "South Globe"
         ],
         "xaxis": "x12",
         "y": [
          5
         ],
         "yaxis": "y12"
        },
        {
         "alignmentgroup": "True",
         "hovertemplate": "Nationality=Chilean<br>Department=Architecture & Design<br>Continent=%{x}<br>Count=%{y}<extra></extra>",
         "legendgroup": "Chilean",
         "marker": {
          "color": "#F0FFF0",
          "pattern": {
           "shape": ""
          }
         },
         "name": "Chilean",
         "offsetgroup": "Chilean",
         "orientation": "v",
         "showlegend": false,
         "textposition": "auto",
         "type": "bar",
         "x": [
          "South Globe"
         ],
         "xaxis": "x9",
         "y": [
          0
         ],
         "yaxis": "y9"
        },
        {
         "alignmentgroup": "True",
         "hovertemplate": "Nationality=Chilean<br>Department=Film<br>Continent=%{x}<br>Count=%{y}<extra></extra>",
         "legendgroup": "Chilean",
         "marker": {
          "color": "#F0FFF0",
          "pattern": {
           "shape": ""
          }
         },
         "name": "Chilean",
         "offsetgroup": "Chilean",
         "orientation": "v",
         "showlegend": false,
         "textposition": "auto",
         "type": "bar",
         "x": [
          "South Globe"
         ],
         "xaxis": "x7",
         "y": [
          0
         ],
         "yaxis": "y7"
        },
        {
         "alignmentgroup": "True",
         "hovertemplate": "Nationality=Chilean<br>Department=Moving Images<br>Continent=%{x}<br>Count=%{y}<extra></extra>",
         "legendgroup": "Chilean",
         "marker": {
          "color": "#F0FFF0",
          "pattern": {
           "shape": ""
          }
         },
         "name": "Chilean",
         "offsetgroup": "Chilean",
         "orientation": "v",
         "showlegend": false,
         "textposition": "auto",
         "type": "bar",
         "x": [
          "South Globe"
         ],
         "xaxis": "x3",
         "y": [
          3
         ],
         "yaxis": "y3"
        },
        {
         "alignmentgroup": "True",
         "hovertemplate": "Nationality=Chilean<br>Department=Painting & Sculpture<br>Continent=%{x}<br>Count=%{y}<extra></extra>",
         "legendgroup": "Chilean",
         "marker": {
          "color": "#F0FFF0",
          "pattern": {
           "shape": ""
          }
         },
         "name": "Chilean",
         "offsetgroup": "Chilean",
         "orientation": "v",
         "showlegend": false,
         "textposition": "auto",
         "type": "bar",
         "x": [
          "South Globe"
         ],
         "xaxis": "x4",
         "y": [
          0
         ],
         "yaxis": "y4"
        },
        {
         "alignmentgroup": "True",
         "hovertemplate": "Nationality=Chilean<br>Department=Photography<br>Continent=%{x}<br>Count=%{y}<extra></extra>",
         "legendgroup": "Chilean",
         "marker": {
          "color": "#F0FFF0",
          "pattern": {
           "shape": ""
          }
         },
         "name": "Chilean",
         "offsetgroup": "Chilean",
         "orientation": "v",
         "showlegend": false,
         "textposition": "auto",
         "type": "bar",
         "x": [
          "South Globe"
         ],
         "xaxis": "x",
         "y": [
          0
         ],
         "yaxis": "y"
        },
        {
         "alignmentgroup": "True",
         "hovertemplate": "Nationality=Chinese<br>Department=Drawings & Prints<br>Continent=%{x}<br>Count=%{y}<extra></extra>",
         "legendgroup": "Chinese",
         "marker": {
          "color": "#708090",
          "pattern": {
           "shape": ""
          }
         },
         "name": "Chinese",
         "offsetgroup": "Chinese",
         "orientation": "v",
         "showlegend": true,
         "textposition": "auto",
         "type": "bar",
         "x": [
          "South Globe"
         ],
         "xaxis": "x11",
         "y": [
          9
         ],
         "yaxis": "y11"
        },
        {
         "alignmentgroup": "True",
         "hovertemplate": "Nationality=Chinese<br>Department=Media and Performance<br>Continent=%{x}<br>Count=%{y}<extra></extra>",
         "legendgroup": "Chinese",
         "marker": {
          "color": "#708090",
          "pattern": {
           "shape": ""
          }
         },
         "name": "Chinese",
         "offsetgroup": "Chinese",
         "orientation": "v",
         "showlegend": false,
         "textposition": "auto",
         "type": "bar",
         "x": [
          "South Globe"
         ],
         "xaxis": "x12",
         "y": [
          2
         ],
         "yaxis": "y12"
        },
        {
         "alignmentgroup": "True",
         "hovertemplate": "Nationality=Chinese<br>Department=Architecture & Design<br>Continent=%{x}<br>Count=%{y}<extra></extra>",
         "legendgroup": "Chinese",
         "marker": {
          "color": "#708090",
          "pattern": {
           "shape": ""
          }
         },
         "name": "Chinese",
         "offsetgroup": "Chinese",
         "orientation": "v",
         "showlegend": false,
         "textposition": "auto",
         "type": "bar",
         "x": [
          "South Globe"
         ],
         "xaxis": "x9",
         "y": [
          1
         ],
         "yaxis": "y9"
        },
        {
         "alignmentgroup": "True",
         "hovertemplate": "Nationality=Chinese<br>Department=Film<br>Continent=%{x}<br>Count=%{y}<extra></extra>",
         "legendgroup": "Chinese",
         "marker": {
          "color": "#708090",
          "pattern": {
           "shape": ""
          }
         },
         "name": "Chinese",
         "offsetgroup": "Chinese",
         "orientation": "v",
         "showlegend": false,
         "textposition": "auto",
         "type": "bar",
         "x": [
          "South Globe"
         ],
         "xaxis": "x7",
         "y": [
          0
         ],
         "yaxis": "y7"
        },
        {
         "alignmentgroup": "True",
         "hovertemplate": "Nationality=Chinese<br>Department=Painting & Sculpture<br>Continent=%{x}<br>Count=%{y}<extra></extra>",
         "legendgroup": "Chinese",
         "marker": {
          "color": "#708090",
          "pattern": {
           "shape": ""
          }
         },
         "name": "Chinese",
         "offsetgroup": "Chinese",
         "orientation": "v",
         "showlegend": false,
         "textposition": "auto",
         "type": "bar",
         "x": [
          "South Globe"
         ],
         "xaxis": "x4",
         "y": [
          0
         ],
         "yaxis": "y4"
        },
        {
         "alignmentgroup": "True",
         "hovertemplate": "Nationality=Chinese<br>Department=Photography<br>Continent=%{x}<br>Count=%{y}<extra></extra>",
         "legendgroup": "Chinese",
         "marker": {
          "color": "#708090",
          "pattern": {
           "shape": ""
          }
         },
         "name": "Chinese",
         "offsetgroup": "Chinese",
         "orientation": "v",
         "showlegend": false,
         "textposition": "auto",
         "type": "bar",
         "x": [
          "South Globe"
         ],
         "xaxis": "x",
         "y": [
          8
         ],
         "yaxis": "y"
        },
        {
         "alignmentgroup": "True",
         "hovertemplate": "Nationality=Colombian<br>Department=Drawings & Prints<br>Continent=%{x}<br>Count=%{y}<extra></extra>",
         "legendgroup": "Colombian",
         "marker": {
          "color": "#2F4F4F",
          "pattern": {
           "shape": ""
          }
         },
         "name": "Colombian",
         "offsetgroup": "Colombian",
         "orientation": "v",
         "showlegend": true,
         "textposition": "auto",
         "type": "bar",
         "x": [
          "South Globe"
         ],
         "xaxis": "x11",
         "y": [
          48
         ],
         "yaxis": "y11"
        },
        {
         "alignmentgroup": "True",
         "hovertemplate": "Nationality=Colombian<br>Department=Media and Performance<br>Continent=%{x}<br>Count=%{y}<extra></extra>",
         "legendgroup": "Colombian",
         "marker": {
          "color": "#2F4F4F",
          "pattern": {
           "shape": ""
          }
         },
         "name": "Colombian",
         "offsetgroup": "Colombian",
         "orientation": "v",
         "showlegend": false,
         "textposition": "auto",
         "type": "bar",
         "x": [
          "South Globe"
         ],
         "xaxis": "x12",
         "y": [
          0
         ],
         "yaxis": "y12"
        },
        {
         "alignmentgroup": "True",
         "hovertemplate": "Nationality=Colombian<br>Department=Architecture & Design<br>Continent=%{x}<br>Count=%{y}<extra></extra>",
         "legendgroup": "Colombian",
         "marker": {
          "color": "#2F4F4F",
          "pattern": {
           "shape": ""
          }
         },
         "name": "Colombian",
         "offsetgroup": "Colombian",
         "orientation": "v",
         "showlegend": false,
         "textposition": "auto",
         "type": "bar",
         "x": [
          "South Globe"
         ],
         "xaxis": "x9",
         "y": [
          0
         ],
         "yaxis": "y9"
        },
        {
         "alignmentgroup": "True",
         "hovertemplate": "Nationality=Colombian<br>Department=Painting & Sculpture<br>Continent=%{x}<br>Count=%{y}<extra></extra>",
         "legendgroup": "Colombian",
         "marker": {
          "color": "#2F4F4F",
          "pattern": {
           "shape": ""
          }
         },
         "name": "Colombian",
         "offsetgroup": "Colombian",
         "orientation": "v",
         "showlegend": false,
         "textposition": "auto",
         "type": "bar",
         "x": [
          "South Globe"
         ],
         "xaxis": "x4",
         "y": [
          0
         ],
         "yaxis": "y4"
        },
        {
         "alignmentgroup": "True",
         "hovertemplate": "Nationality=Colombian<br>Department=Photography<br>Continent=%{x}<br>Count=%{y}<extra></extra>",
         "legendgroup": "Colombian",
         "marker": {
          "color": "#2F4F4F",
          "pattern": {
           "shape": ""
          }
         },
         "name": "Colombian",
         "offsetgroup": "Colombian",
         "orientation": "v",
         "showlegend": false,
         "textposition": "auto",
         "type": "bar",
         "x": [
          "South Globe"
         ],
         "xaxis": "x",
         "y": [
          0
         ],
         "yaxis": "y"
        },
        {
         "alignmentgroup": "True",
         "hovertemplate": "Nationality=Congolese<br>Department=Painting & Sculpture<br>Continent=%{x}<br>Count=%{y}<extra></extra>",
         "legendgroup": "Congolese",
         "marker": {
          "color": "#696969",
          "pattern": {
           "shape": ""
          }
         },
         "name": "Congolese",
         "offsetgroup": "Congolese",
         "orientation": "v",
         "showlegend": true,
         "textposition": "auto",
         "type": "bar",
         "x": [
          "South Globe"
         ],
         "xaxis": "x4",
         "y": [
          0
         ],
         "yaxis": "y4"
        },
        {
         "alignmentgroup": "True",
         "hovertemplate": "Nationality=Egyptian<br>Department=Media and Performance<br>Continent=%{x}<br>Count=%{y}<extra></extra>",
         "legendgroup": "Egyptian",
         "marker": {
          "color": "#8FBC8F",
          "pattern": {
           "shape": ""
          }
         },
         "name": "Egyptian",
         "offsetgroup": "Egyptian",
         "orientation": "v",
         "showlegend": true,
         "textposition": "auto",
         "type": "bar",
         "x": [
          "South Globe"
         ],
         "xaxis": "x12",
         "y": [
          1
         ],
         "yaxis": "y12"
        },
        {
         "alignmentgroup": "True",
         "hovertemplate": "Nationality=Emirati<br>Department=Photography<br>Continent=%{x}<br>Count=%{y}<extra></extra>",
         "legendgroup": "Emirati",
         "marker": {
          "color": "#00CED1",
          "pattern": {
           "shape": ""
          }
         },
         "name": "Emirati",
         "offsetgroup": "Emirati",
         "orientation": "v",
         "showlegend": true,
         "textposition": "auto",
         "type": "bar",
         "x": [
          "South Globe"
         ],
         "xaxis": "x",
         "y": [
          0
         ],
         "yaxis": "y"
        },
        {
         "alignmentgroup": "True",
         "hovertemplate": "Nationality=Ethiopian<br>Department=Photography<br>Continent=%{x}<br>Count=%{y}<extra></extra>",
         "legendgroup": "Ethiopian",
         "marker": {
          "color": "#FFC0CB",
          "pattern": {
           "shape": ""
          }
         },
         "name": "Ethiopian",
         "offsetgroup": "Ethiopian",
         "orientation": "v",
         "showlegend": true,
         "textposition": "auto",
         "type": "bar",
         "x": [
          "South Globe"
         ],
         "xaxis": "x",
         "y": [
          0
         ],
         "yaxis": "y"
        },
        {
         "alignmentgroup": "True",
         "hovertemplate": "Nationality=Indian<br>Department=Drawings & Prints<br>Continent=%{x}<br>Count=%{y}<extra></extra>",
         "legendgroup": "Indian",
         "marker": {
          "color": "#FF69B4",
          "pattern": {
           "shape": ""
          }
         },
         "name": "Indian",
         "offsetgroup": "Indian",
         "orientation": "v",
         "showlegend": true,
         "textposition": "auto",
         "type": "bar",
         "x": [
          "South Globe"
         ],
         "xaxis": "x11",
         "y": [
          2
         ],
         "yaxis": "y11"
        },
        {
         "alignmentgroup": "True",
         "hovertemplate": "Nationality=Indian<br>Department=Media and Performance<br>Continent=%{x}<br>Count=%{y}<extra></extra>",
         "legendgroup": "Indian",
         "marker": {
          "color": "#FF69B4",
          "pattern": {
           "shape": ""
          }
         },
         "name": "Indian",
         "offsetgroup": "Indian",
         "orientation": "v",
         "showlegend": false,
         "textposition": "auto",
         "type": "bar",
         "x": [
          "South Globe"
         ],
         "xaxis": "x12",
         "y": [
          0
         ],
         "yaxis": "y12"
        },
        {
         "alignmentgroup": "True",
         "hovertemplate": "Nationality=Indian<br>Department=Architecture & Design<br>Continent=%{x}<br>Count=%{y}<extra></extra>",
         "legendgroup": "Indian",
         "marker": {
          "color": "#FF69B4",
          "pattern": {
           "shape": ""
          }
         },
         "name": "Indian",
         "offsetgroup": "Indian",
         "orientation": "v",
         "showlegend": false,
         "textposition": "auto",
         "type": "bar",
         "x": [
          "South Globe"
         ],
         "xaxis": "x9",
         "y": [
          1
         ],
         "yaxis": "y9"
        },
        {
         "alignmentgroup": "True",
         "hovertemplate": "Nationality=Indian<br>Department=Moving Images<br>Continent=%{x}<br>Count=%{y}<extra></extra>",
         "legendgroup": "Indian",
         "marker": {
          "color": "#FF69B4",
          "pattern": {
           "shape": ""
          }
         },
         "name": "Indian",
         "offsetgroup": "Indian",
         "orientation": "v",
         "showlegend": false,
         "textposition": "auto",
         "type": "bar",
         "x": [
          "South Globe"
         ],
         "xaxis": "x3",
         "y": [
          2
         ],
         "yaxis": "y3"
        },
        {
         "alignmentgroup": "True",
         "hovertemplate": "Nationality=Indian<br>Department=Painting & Sculpture<br>Continent=%{x}<br>Count=%{y}<extra></extra>",
         "legendgroup": "Indian",
         "marker": {
          "color": "#FF69B4",
          "pattern": {
           "shape": ""
          }
         },
         "name": "Indian",
         "offsetgroup": "Indian",
         "orientation": "v",
         "showlegend": false,
         "textposition": "auto",
         "type": "bar",
         "x": [
          "South Globe"
         ],
         "xaxis": "x4",
         "y": [
          0
         ],
         "yaxis": "y4"
        },
        {
         "alignmentgroup": "True",
         "hovertemplate": "Nationality=Indian<br>Department=Photography<br>Continent=%{x}<br>Count=%{y}<extra></extra>",
         "legendgroup": "Indian",
         "marker": {
          "color": "#FF69B4",
          "pattern": {
           "shape": ""
          }
         },
         "name": "Indian",
         "offsetgroup": "Indian",
         "orientation": "v",
         "showlegend": false,
         "textposition": "auto",
         "type": "bar",
         "x": [
          "South Globe"
         ],
         "xaxis": "x",
         "y": [
          7
         ],
         "yaxis": "y"
        },
        {
         "alignmentgroup": "True",
         "hovertemplate": "Nationality=Iranian<br>Department=Websites & Data<br>Continent=%{x}<br>Count=%{y}<extra></extra>",
         "legendgroup": "Iranian",
         "marker": {
          "color": "#DB7093",
          "pattern": {
           "shape": ""
          }
         },
         "name": "Iranian",
         "offsetgroup": "Iranian",
         "orientation": "v",
         "showlegend": true,
         "textposition": "auto",
         "type": "bar",
         "x": [
          "South Globe"
         ],
         "xaxis": "x15",
         "y": [
          2
         ],
         "yaxis": "y15"
        },
        {
         "alignmentgroup": "True",
         "hovertemplate": "Nationality=Iranian<br>Department=Media and Performance<br>Continent=%{x}<br>Count=%{y}<extra></extra>",
         "legendgroup": "Iranian",
         "marker": {
          "color": "#DB7093",
          "pattern": {
           "shape": ""
          }
         },
         "name": "Iranian",
         "offsetgroup": "Iranian",
         "orientation": "v",
         "showlegend": false,
         "textposition": "auto",
         "type": "bar",
         "x": [
          "South Globe"
         ],
         "xaxis": "x12",
         "y": [
          0
         ],
         "yaxis": "y12"
        },
        {
         "alignmentgroup": "True",
         "hovertemplate": "Nationality=Salvadoran<br>Department=Painting & Sculpture<br>Continent=%{x}<br>Count=%{y}<extra></extra>",
         "legendgroup": "Salvadoran",
         "marker": {
          "color": "#C71585",
          "pattern": {
           "shape": ""
          }
         },
         "name": "Salvadoran",
         "offsetgroup": "Salvadoran",
         "orientation": "v",
         "showlegend": true,
         "textposition": "auto",
         "type": "bar",
         "x": [
          "South Globe"
         ],
         "xaxis": "x4",
         "y": [
          0
         ],
         "yaxis": "y4"
        },
        {
         "alignmentgroup": "True",
         "hovertemplate": "Nationality=South African<br>Department=Images, Painting, Photos<br>Continent=%{x}<br>Count=%{y}<extra></extra>",
         "legendgroup": "South African",
         "marker": {
          "color": "#E6E6FA",
          "pattern": {
           "shape": ""
          }
         },
         "name": "South African",
         "offsetgroup": "South African",
         "orientation": "v",
         "showlegend": true,
         "textposition": "auto",
         "type": "bar",
         "x": [
          "South Globe"
         ],
         "xaxis": "x13",
         "y": [
          2
         ],
         "yaxis": "y13"
        },
        {
         "alignmentgroup": "True",
         "hovertemplate": "Nationality=South African<br>Department=Drawings & Prints<br>Continent=%{x}<br>Count=%{y}<extra></extra>",
         "legendgroup": "South African",
         "marker": {
          "color": "#E6E6FA",
          "pattern": {
           "shape": ""
          }
         },
         "name": "South African",
         "offsetgroup": "South African",
         "orientation": "v",
         "showlegend": false,
         "textposition": "auto",
         "type": "bar",
         "x": [
          "South Globe"
         ],
         "xaxis": "x11",
         "y": [
          23
         ],
         "yaxis": "y11"
        },
        {
         "alignmentgroup": "True",
         "hovertemplate": "Nationality=South African<br>Department=Media and Performance<br>Continent=%{x}<br>Count=%{y}<extra></extra>",
         "legendgroup": "South African",
         "marker": {
          "color": "#E6E6FA",
          "pattern": {
           "shape": ""
          }
         },
         "name": "South African",
         "offsetgroup": "South African",
         "orientation": "v",
         "showlegend": false,
         "textposition": "auto",
         "type": "bar",
         "x": [
          "South Globe"
         ],
         "xaxis": "x12",
         "y": [
          0
         ],
         "yaxis": "y12"
        },
        {
         "alignmentgroup": "True",
         "hovertemplate": "Nationality=South African<br>Department=Architecture & Design<br>Continent=%{x}<br>Count=%{y}<extra></extra>",
         "legendgroup": "South African",
         "marker": {
          "color": "#E6E6FA",
          "pattern": {
           "shape": ""
          }
         },
         "name": "South African",
         "offsetgroup": "South African",
         "orientation": "v",
         "showlegend": false,
         "textposition": "auto",
         "type": "bar",
         "x": [
          "South Globe"
         ],
         "xaxis": "x9",
         "y": [
          0
         ],
         "yaxis": "y9"
        },
        {
         "alignmentgroup": "True",
         "hovertemplate": "Nationality=South African<br>Department=Painting & Sculpture<br>Continent=%{x}<br>Count=%{y}<extra></extra>",
         "legendgroup": "South African",
         "marker": {
          "color": "#E6E6FA",
          "pattern": {
           "shape": ""
          }
         },
         "name": "South African",
         "offsetgroup": "South African",
         "orientation": "v",
         "showlegend": false,
         "textposition": "auto",
         "type": "bar",
         "x": [
          "South Globe"
         ],
         "xaxis": "x4",
         "y": [
          0
         ],
         "yaxis": "y4"
        },
        {
         "alignmentgroup": "True",
         "hovertemplate": "Nationality=South African<br>Department=Photography<br>Continent=%{x}<br>Count=%{y}<extra></extra>",
         "legendgroup": "South African",
         "marker": {
          "color": "#E6E6FA",
          "pattern": {
           "shape": ""
          }
         },
         "name": "South African",
         "offsetgroup": "South African",
         "orientation": "v",
         "showlegend": false,
         "textposition": "auto",
         "type": "bar",
         "x": [
          "South Globe"
         ],
         "xaxis": "x",
         "y": [
          4
         ],
         "yaxis": "y"
        },
        {
         "alignmentgroup": "True",
         "hovertemplate": "Nationality=Sudanese<br>Department=Drawings & Prints<br>Continent=%{x}<br>Count=%{y}<extra></extra>",
         "legendgroup": "Sudanese",
         "marker": {
          "color": "#DDA0DD",
          "pattern": {
           "shape": ""
          }
         },
         "name": "Sudanese",
         "offsetgroup": "Sudanese",
         "orientation": "v",
         "showlegend": true,
         "textposition": "auto",
         "type": "bar",
         "x": [
          "South Globe"
         ],
         "xaxis": "x11",
         "y": [
          1
         ],
         "yaxis": "y11"
        },
        {
         "alignmentgroup": "True",
         "hovertemplate": "Nationality=Uruguayan<br>Department=Media and Performance<br>Continent=%{x}<br>Count=%{y}<extra></extra>",
         "legendgroup": "Uruguayan",
         "marker": {
          "color": "#EE82EE",
          "pattern": {
           "shape": ""
          }
         },
         "name": "Uruguayan",
         "offsetgroup": "Uruguayan",
         "orientation": "v",
         "showlegend": true,
         "textposition": "auto",
         "type": "bar",
         "x": [
          "South Globe"
         ],
         "xaxis": "x12",
         "y": [
          0
         ],
         "yaxis": "y12"
        },
        {
         "alignmentgroup": "True",
         "hovertemplate": "Nationality=Zimbabwean<br>Department=Drawings & Prints<br>Continent=%{x}<br>Count=%{y}<extra></extra>",
         "legendgroup": "Zimbabwean",
         "marker": {
          "color": "#9932CC",
          "pattern": {
           "shape": ""
          }
         },
         "name": "Zimbabwean",
         "offsetgroup": "Zimbabwean",
         "orientation": "v",
         "showlegend": true,
         "textposition": "auto",
         "type": "bar",
         "x": [
          "South Globe"
         ],
         "xaxis": "x11",
         "y": [
          0
         ],
         "yaxis": "y11"
        }
       ],
       "layout": {
        "annotations": [
         {
          "font": {},
          "showarrow": false,
          "text": "Department=Photography",
          "x": 0.235,
          "xanchor": "center",
          "xref": "paper",
          "y": 0.06375,
          "yanchor": "bottom",
          "yref": "paper"
         },
         {
          "font": {},
          "showarrow": false,
          "text": "Department=Text-based",
          "x": 0.765,
          "xanchor": "center",
          "xref": "paper",
          "y": 0.06375,
          "yanchor": "bottom",
          "yref": "paper"
         },
         {
          "font": {},
          "showarrow": false,
          "text": "Department=Moving Images",
          "x": 0.235,
          "xanchor": "center",
          "xref": "paper",
          "y": 0.1975,
          "yanchor": "bottom",
          "yref": "paper"
         },
         {
          "font": {},
          "showarrow": false,
          "text": "Department=Painting & Sculpture",
          "x": 0.765,
          "xanchor": "center",
          "xref": "paper",
          "y": 0.1975,
          "yanchor": "bottom",
          "yref": "paper"
         },
         {
          "font": {},
          "showarrow": false,
          "text": "Department=Installation & Performance",
          "x": 0.235,
          "xanchor": "center",
          "xref": "paper",
          "y": 0.33125000000000004,
          "yanchor": "bottom",
          "yref": "paper"
         },
         {
          "font": {},
          "showarrow": false,
          "text": "Department=Interactive",
          "x": 0.765,
          "xanchor": "center",
          "xref": "paper",
          "y": 0.33125000000000004,
          "yanchor": "bottom",
          "yref": "paper"
         },
         {
          "font": {},
          "showarrow": false,
          "text": "Department=Film",
          "x": 0.235,
          "xanchor": "center",
          "xref": "paper",
          "y": 0.46499999999999997,
          "yanchor": "bottom",
          "yref": "paper"
         },
         {
          "font": {},
          "showarrow": false,
          "text": "Department=Fluxus Collection",
          "x": 0.765,
          "xanchor": "center",
          "xref": "paper",
          "y": 0.46499999999999997,
          "yanchor": "bottom",
          "yref": "paper"
         },
         {
          "font": {},
          "showarrow": false,
          "text": "Department=Architecture & Design",
          "x": 0.235,
          "xanchor": "center",
          "xref": "paper",
          "y": 0.59875,
          "yanchor": "bottom",
          "yref": "paper"
         },
         {
          "font": {},
          "showarrow": false,
          "text": "Department=Conceptual",
          "x": 0.765,
          "xanchor": "center",
          "xref": "paper",
          "y": 0.59875,
          "yanchor": "bottom",
          "yref": "paper"
         },
         {
          "font": {},
          "showarrow": false,
          "text": "Department=Drawings & Prints",
          "x": 0.235,
          "xanchor": "center",
          "xref": "paper",
          "y": 0.7324999999999999,
          "yanchor": "bottom",
          "yref": "paper"
         },
         {
          "font": {},
          "showarrow": false,
          "text": "Department=Media and Performance",
          "x": 0.765,
          "xanchor": "center",
          "xref": "paper",
          "y": 0.7324999999999999,
          "yanchor": "bottom",
          "yref": "paper"
         },
         {
          "font": {},
          "showarrow": false,
          "text": "Department=Images, Painting, Photos",
          "x": 0.235,
          "xanchor": "center",
          "xref": "paper",
          "y": 0.86625,
          "yanchor": "bottom",
          "yref": "paper"
         },
         {
          "font": {},
          "showarrow": false,
          "text": "Department=missing",
          "x": 0.765,
          "xanchor": "center",
          "xref": "paper",
          "y": 0.86625,
          "yanchor": "bottom",
          "yref": "paper"
         },
         {
          "font": {},
          "showarrow": false,
          "text": "Department=Websites & Data",
          "x": 0.235,
          "xanchor": "center",
          "xref": "paper",
          "y": 1,
          "yanchor": "bottom",
          "yref": "paper"
         },
         {
          "font": {},
          "showarrow": false,
          "text": "Department=Audio-based",
          "x": 0.765,
          "xanchor": "center",
          "xref": "paper",
          "y": 1,
          "yanchor": "bottom",
          "yref": "paper"
         }
        ],
        "barmode": "relative",
        "height": 1600,
        "legend": {
         "title": {
          "text": "Nationality"
         },
         "tracegroupgap": 0
        },
        "template": {
         "data": {
          "bar": [
           {
            "error_x": {
             "color": "rgb(36,36,36)"
            },
            "error_y": {
             "color": "rgb(36,36,36)"
            },
            "marker": {
             "line": {
              "color": "white",
              "width": 0.5
             },
             "pattern": {
              "fillmode": "overlay",
              "size": 10,
              "solidity": 0.2
             }
            },
            "type": "bar"
           }
          ],
          "barpolar": [
           {
            "marker": {
             "line": {
              "color": "white",
              "width": 0.5
             },
             "pattern": {
              "fillmode": "overlay",
              "size": 10,
              "solidity": 0.2
             }
            },
            "type": "barpolar"
           }
          ],
          "carpet": [
           {
            "aaxis": {
             "endlinecolor": "rgb(36,36,36)",
             "gridcolor": "white",
             "linecolor": "white",
             "minorgridcolor": "white",
             "startlinecolor": "rgb(36,36,36)"
            },
            "baxis": {
             "endlinecolor": "rgb(36,36,36)",
             "gridcolor": "white",
             "linecolor": "white",
             "minorgridcolor": "white",
             "startlinecolor": "rgb(36,36,36)"
            },
            "type": "carpet"
           }
          ],
          "choropleth": [
           {
            "colorbar": {
             "outlinewidth": 1,
             "tickcolor": "rgb(36,36,36)",
             "ticks": "outside"
            },
            "type": "choropleth"
           }
          ],
          "contour": [
           {
            "colorbar": {
             "outlinewidth": 1,
             "tickcolor": "rgb(36,36,36)",
             "ticks": "outside"
            },
            "colorscale": [
             [
              0,
              "#440154"
             ],
             [
              0.1111111111111111,
              "#482878"
             ],
             [
              0.2222222222222222,
              "#3e4989"
             ],
             [
              0.3333333333333333,
              "#31688e"
             ],
             [
              0.4444444444444444,
              "#26828e"
             ],
             [
              0.5555555555555556,
              "#1f9e89"
             ],
             [
              0.6666666666666666,
              "#35b779"
             ],
             [
              0.7777777777777778,
              "#6ece58"
             ],
             [
              0.8888888888888888,
              "#b5de2b"
             ],
             [
              1,
              "#fde725"
             ]
            ],
            "type": "contour"
           }
          ],
          "contourcarpet": [
           {
            "colorbar": {
             "outlinewidth": 1,
             "tickcolor": "rgb(36,36,36)",
             "ticks": "outside"
            },
            "type": "contourcarpet"
           }
          ],
          "heatmap": [
           {
            "colorbar": {
             "outlinewidth": 1,
             "tickcolor": "rgb(36,36,36)",
             "ticks": "outside"
            },
            "colorscale": [
             [
              0,
              "#440154"
             ],
             [
              0.1111111111111111,
              "#482878"
             ],
             [
              0.2222222222222222,
              "#3e4989"
             ],
             [
              0.3333333333333333,
              "#31688e"
             ],
             [
              0.4444444444444444,
              "#26828e"
             ],
             [
              0.5555555555555556,
              "#1f9e89"
             ],
             [
              0.6666666666666666,
              "#35b779"
             ],
             [
              0.7777777777777778,
              "#6ece58"
             ],
             [
              0.8888888888888888,
              "#b5de2b"
             ],
             [
              1,
              "#fde725"
             ]
            ],
            "type": "heatmap"
           }
          ],
          "heatmapgl": [
           {
            "colorbar": {
             "outlinewidth": 1,
             "tickcolor": "rgb(36,36,36)",
             "ticks": "outside"
            },
            "colorscale": [
             [
              0,
              "#440154"
             ],
             [
              0.1111111111111111,
              "#482878"
             ],
             [
              0.2222222222222222,
              "#3e4989"
             ],
             [
              0.3333333333333333,
              "#31688e"
             ],
             [
              0.4444444444444444,
              "#26828e"
             ],
             [
              0.5555555555555556,
              "#1f9e89"
             ],
             [
              0.6666666666666666,
              "#35b779"
             ],
             [
              0.7777777777777778,
              "#6ece58"
             ],
             [
              0.8888888888888888,
              "#b5de2b"
             ],
             [
              1,
              "#fde725"
             ]
            ],
            "type": "heatmapgl"
           }
          ],
          "histogram": [
           {
            "marker": {
             "line": {
              "color": "white",
              "width": 0.6
             }
            },
            "type": "histogram"
           }
          ],
          "histogram2d": [
           {
            "colorbar": {
             "outlinewidth": 1,
             "tickcolor": "rgb(36,36,36)",
             "ticks": "outside"
            },
            "colorscale": [
             [
              0,
              "#440154"
             ],
             [
              0.1111111111111111,
              "#482878"
             ],
             [
              0.2222222222222222,
              "#3e4989"
             ],
             [
              0.3333333333333333,
              "#31688e"
             ],
             [
              0.4444444444444444,
              "#26828e"
             ],
             [
              0.5555555555555556,
              "#1f9e89"
             ],
             [
              0.6666666666666666,
              "#35b779"
             ],
             [
              0.7777777777777778,
              "#6ece58"
             ],
             [
              0.8888888888888888,
              "#b5de2b"
             ],
             [
              1,
              "#fde725"
             ]
            ],
            "type": "histogram2d"
           }
          ],
          "histogram2dcontour": [
           {
            "colorbar": {
             "outlinewidth": 1,
             "tickcolor": "rgb(36,36,36)",
             "ticks": "outside"
            },
            "colorscale": [
             [
              0,
              "#440154"
             ],
             [
              0.1111111111111111,
              "#482878"
             ],
             [
              0.2222222222222222,
              "#3e4989"
             ],
             [
              0.3333333333333333,
              "#31688e"
             ],
             [
              0.4444444444444444,
              "#26828e"
             ],
             [
              0.5555555555555556,
              "#1f9e89"
             ],
             [
              0.6666666666666666,
              "#35b779"
             ],
             [
              0.7777777777777778,
              "#6ece58"
             ],
             [
              0.8888888888888888,
              "#b5de2b"
             ],
             [
              1,
              "#fde725"
             ]
            ],
            "type": "histogram2dcontour"
           }
          ],
          "mesh3d": [
           {
            "colorbar": {
             "outlinewidth": 1,
             "tickcolor": "rgb(36,36,36)",
             "ticks": "outside"
            },
            "type": "mesh3d"
           }
          ],
          "parcoords": [
           {
            "line": {
             "colorbar": {
              "outlinewidth": 1,
              "tickcolor": "rgb(36,36,36)",
              "ticks": "outside"
             }
            },
            "type": "parcoords"
           }
          ],
          "pie": [
           {
            "automargin": true,
            "type": "pie"
           }
          ],
          "scatter": [
           {
            "fillpattern": {
             "fillmode": "overlay",
             "size": 10,
             "solidity": 0.2
            },
            "type": "scatter"
           }
          ],
          "scatter3d": [
           {
            "line": {
             "colorbar": {
              "outlinewidth": 1,
              "tickcolor": "rgb(36,36,36)",
              "ticks": "outside"
             }
            },
            "marker": {
             "colorbar": {
              "outlinewidth": 1,
              "tickcolor": "rgb(36,36,36)",
              "ticks": "outside"
             }
            },
            "type": "scatter3d"
           }
          ],
          "scattercarpet": [
           {
            "marker": {
             "colorbar": {
              "outlinewidth": 1,
              "tickcolor": "rgb(36,36,36)",
              "ticks": "outside"
             }
            },
            "type": "scattercarpet"
           }
          ],
          "scattergeo": [
           {
            "marker": {
             "colorbar": {
              "outlinewidth": 1,
              "tickcolor": "rgb(36,36,36)",
              "ticks": "outside"
             }
            },
            "type": "scattergeo"
           }
          ],
          "scattergl": [
           {
            "marker": {
             "colorbar": {
              "outlinewidth": 1,
              "tickcolor": "rgb(36,36,36)",
              "ticks": "outside"
             }
            },
            "type": "scattergl"
           }
          ],
          "scattermapbox": [
           {
            "marker": {
             "colorbar": {
              "outlinewidth": 1,
              "tickcolor": "rgb(36,36,36)",
              "ticks": "outside"
             }
            },
            "type": "scattermapbox"
           }
          ],
          "scatterpolar": [
           {
            "marker": {
             "colorbar": {
              "outlinewidth": 1,
              "tickcolor": "rgb(36,36,36)",
              "ticks": "outside"
             }
            },
            "type": "scatterpolar"
           }
          ],
          "scatterpolargl": [
           {
            "marker": {
             "colorbar": {
              "outlinewidth": 1,
              "tickcolor": "rgb(36,36,36)",
              "ticks": "outside"
             }
            },
            "type": "scatterpolargl"
           }
          ],
          "scatterternary": [
           {
            "marker": {
             "colorbar": {
              "outlinewidth": 1,
              "tickcolor": "rgb(36,36,36)",
              "ticks": "outside"
             }
            },
            "type": "scatterternary"
           }
          ],
          "surface": [
           {
            "colorbar": {
             "outlinewidth": 1,
             "tickcolor": "rgb(36,36,36)",
             "ticks": "outside"
            },
            "colorscale": [
             [
              0,
              "#440154"
             ],
             [
              0.1111111111111111,
              "#482878"
             ],
             [
              0.2222222222222222,
              "#3e4989"
             ],
             [
              0.3333333333333333,
              "#31688e"
             ],
             [
              0.4444444444444444,
              "#26828e"
             ],
             [
              0.5555555555555556,
              "#1f9e89"
             ],
             [
              0.6666666666666666,
              "#35b779"
             ],
             [
              0.7777777777777778,
              "#6ece58"
             ],
             [
              0.8888888888888888,
              "#b5de2b"
             ],
             [
              1,
              "#fde725"
             ]
            ],
            "type": "surface"
           }
          ],
          "table": [
           {
            "cells": {
             "fill": {
              "color": "rgb(237,237,237)"
             },
             "line": {
              "color": "white"
             }
            },
            "header": {
             "fill": {
              "color": "rgb(217,217,217)"
             },
             "line": {
              "color": "white"
             }
            },
            "type": "table"
           }
          ]
         },
         "layout": {
          "annotationdefaults": {
           "arrowhead": 0,
           "arrowwidth": 1
          },
          "autotypenumbers": "strict",
          "coloraxis": {
           "colorbar": {
            "outlinewidth": 1,
            "tickcolor": "rgb(36,36,36)",
            "ticks": "outside"
           }
          },
          "colorscale": {
           "diverging": [
            [
             0,
             "rgb(103,0,31)"
            ],
            [
             0.1,
             "rgb(178,24,43)"
            ],
            [
             0.2,
             "rgb(214,96,77)"
            ],
            [
             0.3,
             "rgb(244,165,130)"
            ],
            [
             0.4,
             "rgb(253,219,199)"
            ],
            [
             0.5,
             "rgb(247,247,247)"
            ],
            [
             0.6,
             "rgb(209,229,240)"
            ],
            [
             0.7,
             "rgb(146,197,222)"
            ],
            [
             0.8,
             "rgb(67,147,195)"
            ],
            [
             0.9,
             "rgb(33,102,172)"
            ],
            [
             1,
             "rgb(5,48,97)"
            ]
           ],
           "sequential": [
            [
             0,
             "#440154"
            ],
            [
             0.1111111111111111,
             "#482878"
            ],
            [
             0.2222222222222222,
             "#3e4989"
            ],
            [
             0.3333333333333333,
             "#31688e"
            ],
            [
             0.4444444444444444,
             "#26828e"
            ],
            [
             0.5555555555555556,
             "#1f9e89"
            ],
            [
             0.6666666666666666,
             "#35b779"
            ],
            [
             0.7777777777777778,
             "#6ece58"
            ],
            [
             0.8888888888888888,
             "#b5de2b"
            ],
            [
             1,
             "#fde725"
            ]
           ],
           "sequentialminus": [
            [
             0,
             "#440154"
            ],
            [
             0.1111111111111111,
             "#482878"
            ],
            [
             0.2222222222222222,
             "#3e4989"
            ],
            [
             0.3333333333333333,
             "#31688e"
            ],
            [
             0.4444444444444444,
             "#26828e"
            ],
            [
             0.5555555555555556,
             "#1f9e89"
            ],
            [
             0.6666666666666666,
             "#35b779"
            ],
            [
             0.7777777777777778,
             "#6ece58"
            ],
            [
             0.8888888888888888,
             "#b5de2b"
            ],
            [
             1,
             "#fde725"
            ]
           ]
          },
          "colorway": [
           "#1F77B4",
           "#FF7F0E",
           "#2CA02C",
           "#D62728",
           "#9467BD",
           "#8C564B",
           "#E377C2",
           "#7F7F7F",
           "#BCBD22",
           "#17BECF"
          ],
          "font": {
           "color": "rgb(36,36,36)"
          },
          "geo": {
           "bgcolor": "white",
           "lakecolor": "white",
           "landcolor": "white",
           "showlakes": true,
           "showland": true,
           "subunitcolor": "white"
          },
          "hoverlabel": {
           "align": "left"
          },
          "hovermode": "closest",
          "mapbox": {
           "style": "light"
          },
          "paper_bgcolor": "white",
          "plot_bgcolor": "white",
          "polar": {
           "angularaxis": {
            "gridcolor": "rgb(232,232,232)",
            "linecolor": "rgb(36,36,36)",
            "showgrid": false,
            "showline": true,
            "ticks": "outside"
           },
           "bgcolor": "white",
           "radialaxis": {
            "gridcolor": "rgb(232,232,232)",
            "linecolor": "rgb(36,36,36)",
            "showgrid": false,
            "showline": true,
            "ticks": "outside"
           }
          },
          "scene": {
           "xaxis": {
            "backgroundcolor": "white",
            "gridcolor": "rgb(232,232,232)",
            "gridwidth": 2,
            "linecolor": "rgb(36,36,36)",
            "showbackground": true,
            "showgrid": false,
            "showline": true,
            "ticks": "outside",
            "zeroline": false,
            "zerolinecolor": "rgb(36,36,36)"
           },
           "yaxis": {
            "backgroundcolor": "white",
            "gridcolor": "rgb(232,232,232)",
            "gridwidth": 2,
            "linecolor": "rgb(36,36,36)",
            "showbackground": true,
            "showgrid": false,
            "showline": true,
            "ticks": "outside",
            "zeroline": false,
            "zerolinecolor": "rgb(36,36,36)"
           },
           "zaxis": {
            "backgroundcolor": "white",
            "gridcolor": "rgb(232,232,232)",
            "gridwidth": 2,
            "linecolor": "rgb(36,36,36)",
            "showbackground": true,
            "showgrid": false,
            "showline": true,
            "ticks": "outside",
            "zeroline": false,
            "zerolinecolor": "rgb(36,36,36)"
           }
          },
          "shapedefaults": {
           "fillcolor": "black",
           "line": {
            "width": 0
           },
           "opacity": 0.3
          },
          "ternary": {
           "aaxis": {
            "gridcolor": "rgb(232,232,232)",
            "linecolor": "rgb(36,36,36)",
            "showgrid": false,
            "showline": true,
            "ticks": "outside"
           },
           "baxis": {
            "gridcolor": "rgb(232,232,232)",
            "linecolor": "rgb(36,36,36)",
            "showgrid": false,
            "showline": true,
            "ticks": "outside"
           },
           "bgcolor": "white",
           "caxis": {
            "gridcolor": "rgb(232,232,232)",
            "linecolor": "rgb(36,36,36)",
            "showgrid": false,
            "showline": true,
            "ticks": "outside"
           }
          },
          "title": {
           "x": 0.05
          },
          "xaxis": {
           "automargin": true,
           "gridcolor": "rgb(232,232,232)",
           "linecolor": "rgb(36,36,36)",
           "showgrid": false,
           "showline": true,
           "ticks": "outside",
           "title": {
            "standoff": 15
           },
           "zeroline": false,
           "zerolinecolor": "rgb(36,36,36)"
          },
          "yaxis": {
           "automargin": true,
           "gridcolor": "rgb(232,232,232)",
           "linecolor": "rgb(36,36,36)",
           "showgrid": false,
           "showline": true,
           "ticks": "outside",
           "title": {
            "standoff": 15
           },
           "zeroline": false,
           "zerolinecolor": "rgb(36,36,36)"
          }
         }
        },
        "title": {
         "text": "Overview total nationalities for Continent -- comparing rhizome collection and a moma artworks created and acquired in the same timerange"
        },
        "xaxis": {
         "anchor": "y",
         "domain": [
          0,
          0.47
         ],
         "showticklabels": true,
         "title": {
          "text": "Continent"
         }
        },
        "xaxis10": {
         "anchor": "y10",
         "domain": [
          0.53,
          1
         ],
         "showticklabels": true
        },
        "xaxis11": {
         "anchor": "y11",
         "domain": [
          0,
          0.47
         ],
         "showticklabels": true
        },
        "xaxis12": {
         "anchor": "y12",
         "domain": [
          0.53,
          1
         ],
         "showticklabels": true
        },
        "xaxis13": {
         "anchor": "y13",
         "domain": [
          0,
          0.47
         ],
         "showticklabels": true
        },
        "xaxis14": {
         "anchor": "y14",
         "domain": [
          0.53,
          1
         ],
         "showticklabels": true
        },
        "xaxis15": {
         "anchor": "y15",
         "domain": [
          0,
          0.47
         ],
         "showticklabels": true
        },
        "xaxis16": {
         "anchor": "y16",
         "domain": [
          0.53,
          1
         ],
         "showticklabels": true
        },
        "xaxis2": {
         "anchor": "y2",
         "domain": [
          0.53,
          1
         ],
         "showticklabels": true,
         "title": {
          "text": "Continent"
         }
        },
        "xaxis3": {
         "anchor": "y3",
         "domain": [
          0,
          0.47
         ],
         "showticklabels": true
        },
        "xaxis4": {
         "anchor": "y4",
         "domain": [
          0.53,
          1
         ],
         "showticklabels": true
        },
        "xaxis5": {
         "anchor": "y5",
         "domain": [
          0,
          0.47
         ],
         "showticklabels": true
        },
        "xaxis6": {
         "anchor": "y6",
         "domain": [
          0.53,
          1
         ],
         "showticklabels": true
        },
        "xaxis7": {
         "anchor": "y7",
         "domain": [
          0,
          0.47
         ],
         "showticklabels": true
        },
        "xaxis8": {
         "anchor": "y8",
         "domain": [
          0.53,
          1
         ],
         "showticklabels": true
        },
        "xaxis9": {
         "anchor": "y9",
         "domain": [
          0,
          0.47
         ],
         "showticklabels": true
        },
        "yaxis": {
         "anchor": "x",
         "domain": [
          0,
          0.06375
         ],
         "showticklabels": true,
         "title": {
          "text": "Count"
         },
         "type": "log"
        },
        "yaxis10": {
         "anchor": "x10",
         "domain": [
          0.535,
          0.59875
         ],
         "matches": "y",
         "showticklabels": true,
         "type": "log"
        },
        "yaxis11": {
         "anchor": "x11",
         "domain": [
          0.66875,
          0.7324999999999999
         ],
         "matches": "y",
         "showticklabels": true,
         "title": {
          "text": "Count"
         },
         "type": "log"
        },
        "yaxis12": {
         "anchor": "x12",
         "domain": [
          0.66875,
          0.7324999999999999
         ],
         "matches": "y",
         "showticklabels": true,
         "type": "log"
        },
        "yaxis13": {
         "anchor": "x13",
         "domain": [
          0.8025,
          0.86625
         ],
         "matches": "y",
         "showticklabels": true,
         "title": {
          "text": "Count"
         },
         "type": "log"
        },
        "yaxis14": {
         "anchor": "x14",
         "domain": [
          0.8025,
          0.86625
         ],
         "matches": "y",
         "showticklabels": true,
         "type": "log"
        },
        "yaxis15": {
         "anchor": "x15",
         "domain": [
          0.93625,
          1
         ],
         "matches": "y",
         "showticklabels": true,
         "title": {
          "text": "Count"
         },
         "type": "log"
        },
        "yaxis16": {
         "anchor": "x16",
         "domain": [
          0.93625,
          1
         ],
         "matches": "y",
         "showticklabels": true,
         "type": "log"
        },
        "yaxis2": {
         "anchor": "x2",
         "domain": [
          0,
          0.06375
         ],
         "matches": "y",
         "showticklabels": true,
         "type": "log"
        },
        "yaxis3": {
         "anchor": "x3",
         "domain": [
          0.13375,
          0.1975
         ],
         "matches": "y",
         "showticklabels": true,
         "title": {
          "text": "Count"
         },
         "type": "log"
        },
        "yaxis4": {
         "anchor": "x4",
         "domain": [
          0.13375,
          0.1975
         ],
         "matches": "y",
         "showticklabels": true,
         "type": "log"
        },
        "yaxis5": {
         "anchor": "x5",
         "domain": [
          0.2675,
          0.33125000000000004
         ],
         "matches": "y",
         "showticklabels": true,
         "title": {
          "text": "Count"
         },
         "type": "log"
        },
        "yaxis6": {
         "anchor": "x6",
         "domain": [
          0.2675,
          0.33125000000000004
         ],
         "matches": "y",
         "showticklabels": true,
         "type": "log"
        },
        "yaxis7": {
         "anchor": "x7",
         "domain": [
          0.40125,
          0.46499999999999997
         ],
         "matches": "y",
         "showticklabels": true,
         "title": {
          "text": "Count"
         },
         "type": "log"
        },
        "yaxis8": {
         "anchor": "x8",
         "domain": [
          0.40125,
          0.46499999999999997
         ],
         "matches": "y",
         "showticklabels": true,
         "type": "log"
        },
        "yaxis9": {
         "anchor": "x9",
         "domain": [
          0.535,
          0.59875
         ],
         "matches": "y",
         "showticklabels": true,
         "title": {
          "text": "Count"
         },
         "type": "log"
        }
       }
      }
     },
     "metadata": {},
     "output_type": "display_data"
    }
   ],
   "source": [
    "#plotcontinents comparison make for figures for each deparments \n",
    "Compare_nats_department_second = Compare_nats_department.groupby(['Continent','Nationality','Department'],as_index=False).agg({'Count': 'sum','Females': 'sum','Males': 'sum','Missing': 'sum','Non-Binary': 'sum'})\n",
    "fig13 = px.bar(Compare_nats_department_second , x=\"Continent\", y=\"Count\", color=\"Nationality\", color_discrete_sequence= momacolorscale,facet_col=\"Department\", log_y=True, facet_col_spacing=0.06,  facet_col_wrap=2, title=\"Overview total nationalities for Continent -- comparing rhizome collection and a moma artworks created and acquired in the same timerange\")\n",
    "fig13.update_xaxes(matches=None, showticklabels=True)\n",
    "fig13.update_yaxes(showticklabels=True)\n",
    "fig13.update_layout(height=1600)\n",
    "fig13.show() \n",
    "\n",
    "#oki put the bnationalities into global south and north \n",
    "\n"
   ]
  },
  {
   "cell_type": "code",
   "execution_count": 281,
   "metadata": {},
   "outputs": [
    {
     "data": {
      "text/html": [
       "<div>\n",
       "<style scoped>\n",
       "    .dataframe tbody tr th:only-of-type {\n",
       "        vertical-align: middle;\n",
       "    }\n",
       "\n",
       "    .dataframe tbody tr th {\n",
       "        vertical-align: top;\n",
       "    }\n",
       "\n",
       "    .dataframe thead th {\n",
       "        text-align: right;\n",
       "    }\n",
       "</style>\n",
       "<table border=\"1\" class=\"dataframe\">\n",
       "  <thead>\n",
       "    <tr style=\"text-align: right;\">\n",
       "      <th></th>\n",
       "      <th>Nationality</th>\n",
       "      <th>Source</th>\n",
       "      <th>Count</th>\n",
       "      <th>Females</th>\n",
       "      <th>Males</th>\n",
       "      <th>Missing</th>\n",
       "      <th>Non-Binary</th>\n",
       "      <th>country_code</th>\n",
       "    </tr>\n",
       "  </thead>\n",
       "  <tbody>\n",
       "    <tr>\n",
       "      <th>0</th>\n",
       "      <td>Albania</td>\n",
       "      <td>Moma Complete</td>\n",
       "      <td>20</td>\n",
       "      <td>0</td>\n",
       "      <td>18</td>\n",
       "      <td>0</td>\n",
       "      <td>0</td>\n",
       "      <td>ALB</td>\n",
       "    </tr>\n",
       "    <tr>\n",
       "      <th>1</th>\n",
       "      <td>Algeria</td>\n",
       "      <td>Moma Complete</td>\n",
       "      <td>10</td>\n",
       "      <td>0</td>\n",
       "      <td>0</td>\n",
       "      <td>0</td>\n",
       "      <td>0</td>\n",
       "      <td>DZA</td>\n",
       "    </tr>\n",
       "    <tr>\n",
       "      <th>2</th>\n",
       "      <td>United States</td>\n",
       "      <td>Moma Complete</td>\n",
       "      <td>60875</td>\n",
       "      <td>12073</td>\n",
       "      <td>44122</td>\n",
       "      <td>776</td>\n",
       "      <td>11</td>\n",
       "      <td>USA</td>\n",
       "    </tr>\n",
       "    <tr>\n",
       "      <th>3</th>\n",
       "      <td>Argentina</td>\n",
       "      <td>Moma Complete</td>\n",
       "      <td>1059</td>\n",
       "      <td>63</td>\n",
       "      <td>744</td>\n",
       "      <td>10</td>\n",
       "      <td>0</td>\n",
       "      <td>ARG</td>\n",
       "    </tr>\n",
       "    <tr>\n",
       "      <th>4</th>\n",
       "      <td>Australia</td>\n",
       "      <td>Moma Complete</td>\n",
       "      <td>255</td>\n",
       "      <td>30</td>\n",
       "      <td>212</td>\n",
       "      <td>1</td>\n",
       "      <td>0</td>\n",
       "      <td>AUS</td>\n",
       "    </tr>\n",
       "    <tr>\n",
       "      <th>5</th>\n",
       "      <td>Austria</td>\n",
       "      <td>Moma Complete</td>\n",
       "      <td>1124</td>\n",
       "      <td>152</td>\n",
       "      <td>713</td>\n",
       "      <td>18</td>\n",
       "      <td>0</td>\n",
       "      <td>AUT</td>\n",
       "    </tr>\n",
       "    <tr>\n",
       "      <th>6</th>\n",
       "      <td>Belgium</td>\n",
       "      <td>Moma Complete</td>\n",
       "      <td>1519</td>\n",
       "      <td>24</td>\n",
       "      <td>1428</td>\n",
       "      <td>2</td>\n",
       "      <td>0</td>\n",
       "      <td>BEL</td>\n",
       "    </tr>\n",
       "    <tr>\n",
       "      <th>7</th>\n",
       "      <td>Bosnia And Herzegovina</td>\n",
       "      <td>Moma Complete</td>\n",
       "      <td>13</td>\n",
       "      <td>0</td>\n",
       "      <td>13</td>\n",
       "      <td>0</td>\n",
       "      <td>0</td>\n",
       "      <td>BIH</td>\n",
       "    </tr>\n",
       "    <tr>\n",
       "      <th>8</th>\n",
       "      <td>Brazil</td>\n",
       "      <td>Moma Complete</td>\n",
       "      <td>847</td>\n",
       "      <td>222</td>\n",
       "      <td>574</td>\n",
       "      <td>7</td>\n",
       "      <td>0</td>\n",
       "      <td>BRA</td>\n",
       "    </tr>\n",
       "    <tr>\n",
       "      <th>9</th>\n",
       "      <td>United Kingdom</td>\n",
       "      <td>Moma Complete</td>\n",
       "      <td>6309</td>\n",
       "      <td>478</td>\n",
       "      <td>4926</td>\n",
       "      <td>171</td>\n",
       "      <td>1</td>\n",
       "      <td>GBR</td>\n",
       "    </tr>\n",
       "    <tr>\n",
       "      <th>10</th>\n",
       "      <td>Burkina Faso</td>\n",
       "      <td>Moma Complete</td>\n",
       "      <td>26</td>\n",
       "      <td>0</td>\n",
       "      <td>26</td>\n",
       "      <td>0</td>\n",
       "      <td>0</td>\n",
       "      <td>BFA</td>\n",
       "    </tr>\n",
       "    <tr>\n",
       "      <th>11</th>\n",
       "      <td>Cambodia</td>\n",
       "      <td>Moma Complete</td>\n",
       "      <td>8</td>\n",
       "      <td>0</td>\n",
       "      <td>8</td>\n",
       "      <td>0</td>\n",
       "      <td>0</td>\n",
       "      <td>KHM</td>\n",
       "    </tr>\n",
       "    <tr>\n",
       "      <th>12</th>\n",
       "      <td>Cameroon</td>\n",
       "      <td>Moma Complete</td>\n",
       "      <td>13</td>\n",
       "      <td>0</td>\n",
       "      <td>13</td>\n",
       "      <td>0</td>\n",
       "      <td>0</td>\n",
       "      <td>CMR</td>\n",
       "    </tr>\n",
       "    <tr>\n",
       "      <th>13</th>\n",
       "      <td>Canada</td>\n",
       "      <td>Moma Complete</td>\n",
       "      <td>989</td>\n",
       "      <td>83</td>\n",
       "      <td>712</td>\n",
       "      <td>10</td>\n",
       "      <td>0</td>\n",
       "      <td>CAN</td>\n",
       "    </tr>\n",
       "    <tr>\n",
       "      <th>14</th>\n",
       "      <td>Canada</td>\n",
       "      <td>Moma Complete</td>\n",
       "      <td>7</td>\n",
       "      <td>0</td>\n",
       "      <td>7</td>\n",
       "      <td>0</td>\n",
       "      <td>0</td>\n",
       "      <td>CAN</td>\n",
       "    </tr>\n",
       "    <tr>\n",
       "      <th>15</th>\n",
       "      <td>Chile</td>\n",
       "      <td>Moma Complete</td>\n",
       "      <td>597</td>\n",
       "      <td>31</td>\n",
       "      <td>540</td>\n",
       "      <td>3</td>\n",
       "      <td>0</td>\n",
       "      <td>CHL</td>\n",
       "    </tr>\n",
       "    <tr>\n",
       "      <th>16</th>\n",
       "      <td>China</td>\n",
       "      <td>Moma Complete</td>\n",
       "      <td>232</td>\n",
       "      <td>6</td>\n",
       "      <td>184</td>\n",
       "      <td>5</td>\n",
       "      <td>0</td>\n",
       "      <td>CHN</td>\n",
       "    </tr>\n",
       "    <tr>\n",
       "      <th>17</th>\n",
       "      <td>Colombia</td>\n",
       "      <td>Moma Complete</td>\n",
       "      <td>744</td>\n",
       "      <td>45</td>\n",
       "      <td>681</td>\n",
       "      <td>0</td>\n",
       "      <td>0</td>\n",
       "      <td>COL</td>\n",
       "    </tr>\n",
       "    <tr>\n",
       "      <th>18</th>\n",
       "      <td>Republic Of The Congo</td>\n",
       "      <td>Moma Complete</td>\n",
       "      <td>15</td>\n",
       "      <td>0</td>\n",
       "      <td>15</td>\n",
       "      <td>0</td>\n",
       "      <td>0</td>\n",
       "      <td>COG</td>\n",
       "    </tr>\n",
       "    <tr>\n",
       "      <th>19</th>\n",
       "      <td>Costa Rica</td>\n",
       "      <td>Moma Complete</td>\n",
       "      <td>64</td>\n",
       "      <td>0</td>\n",
       "      <td>64</td>\n",
       "      <td>0</td>\n",
       "      <td>0</td>\n",
       "      <td>CRI</td>\n",
       "    </tr>\n",
       "    <tr>\n",
       "      <th>20</th>\n",
       "      <td>Croatia</td>\n",
       "      <td>Moma Complete</td>\n",
       "      <td>164</td>\n",
       "      <td>20</td>\n",
       "      <td>114</td>\n",
       "      <td>2</td>\n",
       "      <td>0</td>\n",
       "      <td>HRV</td>\n",
       "    </tr>\n",
       "    <tr>\n",
       "      <th>21</th>\n",
       "      <td>Cuba</td>\n",
       "      <td>Moma Complete</td>\n",
       "      <td>209</td>\n",
       "      <td>20</td>\n",
       "      <td>164</td>\n",
       "      <td>8</td>\n",
       "      <td>0</td>\n",
       "      <td>CUB</td>\n",
       "    </tr>\n",
       "    <tr>\n",
       "      <th>22</th>\n",
       "      <td>Czech Republic</td>\n",
       "      <td>Moma Complete</td>\n",
       "      <td>794</td>\n",
       "      <td>23</td>\n",
       "      <td>732</td>\n",
       "      <td>11</td>\n",
       "      <td>0</td>\n",
       "      <td>CZE</td>\n",
       "    </tr>\n",
       "    <tr>\n",
       "      <th>23</th>\n",
       "      <td>Czechoslovakia</td>\n",
       "      <td>Moma Complete</td>\n",
       "      <td>5</td>\n",
       "      <td>0</td>\n",
       "      <td>1</td>\n",
       "      <td>4</td>\n",
       "      <td>0</td>\n",
       "      <td>NaN</td>\n",
       "    </tr>\n",
       "    <tr>\n",
       "      <th>24</th>\n",
       "      <td>Denmark</td>\n",
       "      <td>Moma Complete</td>\n",
       "      <td>520</td>\n",
       "      <td>14</td>\n",
       "      <td>436</td>\n",
       "      <td>7</td>\n",
       "      <td>0</td>\n",
       "      <td>DNK</td>\n",
       "    </tr>\n",
       "    <tr>\n",
       "      <th>25</th>\n",
       "      <td>Netherlands</td>\n",
       "      <td>Moma Complete</td>\n",
       "      <td>1836</td>\n",
       "      <td>194</td>\n",
       "      <td>1312</td>\n",
       "      <td>63</td>\n",
       "      <td>0</td>\n",
       "      <td>NLD</td>\n",
       "    </tr>\n",
       "    <tr>\n",
       "      <th>26</th>\n",
       "      <td>Ecuador</td>\n",
       "      <td>Moma Complete</td>\n",
       "      <td>7</td>\n",
       "      <td>0</td>\n",
       "      <td>7</td>\n",
       "      <td>0</td>\n",
       "      <td>0</td>\n",
       "      <td>ECU</td>\n",
       "    </tr>\n",
       "    <tr>\n",
       "      <th>27</th>\n",
       "      <td>Egypt</td>\n",
       "      <td>Moma Complete</td>\n",
       "      <td>54</td>\n",
       "      <td>13</td>\n",
       "      <td>38</td>\n",
       "      <td>0</td>\n",
       "      <td>0</td>\n",
       "      <td>EGY</td>\n",
       "    </tr>\n",
       "    <tr>\n",
       "      <th>28</th>\n",
       "      <td>United Arab Emirates</td>\n",
       "      <td>Moma Complete</td>\n",
       "      <td>6</td>\n",
       "      <td>6</td>\n",
       "      <td>0</td>\n",
       "      <td>0</td>\n",
       "      <td>0</td>\n",
       "      <td>ARE</td>\n",
       "    </tr>\n",
       "    <tr>\n",
       "      <th>29</th>\n",
       "      <td>Ethiopia</td>\n",
       "      <td>Moma Complete</td>\n",
       "      <td>5</td>\n",
       "      <td>0</td>\n",
       "      <td>0</td>\n",
       "      <td>5</td>\n",
       "      <td>0</td>\n",
       "      <td>ETH</td>\n",
       "    </tr>\n",
       "    <tr>\n",
       "      <th>30</th>\n",
       "      <td>Philippines</td>\n",
       "      <td>Moma Complete</td>\n",
       "      <td>25</td>\n",
       "      <td>0</td>\n",
       "      <td>0</td>\n",
       "      <td>0</td>\n",
       "      <td>0</td>\n",
       "      <td>PHL</td>\n",
       "    </tr>\n",
       "    <tr>\n",
       "      <th>31</th>\n",
       "      <td>Finland</td>\n",
       "      <td>Moma Complete</td>\n",
       "      <td>227</td>\n",
       "      <td>40</td>\n",
       "      <td>169</td>\n",
       "      <td>9</td>\n",
       "      <td>0</td>\n",
       "      <td>FIN</td>\n",
       "    </tr>\n",
       "    <tr>\n",
       "      <th>32</th>\n",
       "      <td>France</td>\n",
       "      <td>Moma Complete</td>\n",
       "      <td>23753</td>\n",
       "      <td>397</td>\n",
       "      <td>22060</td>\n",
       "      <td>132</td>\n",
       "      <td>0</td>\n",
       "      <td>FRA</td>\n",
       "    </tr>\n",
       "    <tr>\n",
       "      <th>33</th>\n",
       "      <td>Georgia</td>\n",
       "      <td>Moma Complete</td>\n",
       "      <td>11</td>\n",
       "      <td>0</td>\n",
       "      <td>4</td>\n",
       "      <td>0</td>\n",
       "      <td>0</td>\n",
       "      <td>GEO</td>\n",
       "    </tr>\n",
       "    <tr>\n",
       "      <th>34</th>\n",
       "      <td>Germany</td>\n",
       "      <td>Moma Complete</td>\n",
       "      <td>9888</td>\n",
       "      <td>1436</td>\n",
       "      <td>7661</td>\n",
       "      <td>141</td>\n",
       "      <td>0</td>\n",
       "      <td>DEU</td>\n",
       "    </tr>\n",
       "    <tr>\n",
       "      <th>35</th>\n",
       "      <td>Greece</td>\n",
       "      <td>Moma Complete</td>\n",
       "      <td>45</td>\n",
       "      <td>1</td>\n",
       "      <td>42</td>\n",
       "      <td>0</td>\n",
       "      <td>0</td>\n",
       "      <td>GRC</td>\n",
       "    </tr>\n",
       "    <tr>\n",
       "      <th>36</th>\n",
       "      <td>Guatemala</td>\n",
       "      <td>Moma Complete</td>\n",
       "      <td>66</td>\n",
       "      <td>0</td>\n",
       "      <td>66</td>\n",
       "      <td>0</td>\n",
       "      <td>0</td>\n",
       "      <td>GTM</td>\n",
       "    </tr>\n",
       "    <tr>\n",
       "      <th>37</th>\n",
       "      <td>Haiti</td>\n",
       "      <td>Moma Complete</td>\n",
       "      <td>20</td>\n",
       "      <td>0</td>\n",
       "      <td>17</td>\n",
       "      <td>1</td>\n",
       "      <td>0</td>\n",
       "      <td>HTI</td>\n",
       "    </tr>\n",
       "    <tr>\n",
       "      <th>38</th>\n",
       "      <td>Hungary</td>\n",
       "      <td>Moma Complete</td>\n",
       "      <td>789</td>\n",
       "      <td>27</td>\n",
       "      <td>101</td>\n",
       "      <td>1</td>\n",
       "      <td>0</td>\n",
       "      <td>HUN</td>\n",
       "    </tr>\n",
       "    <tr>\n",
       "      <th>39</th>\n",
       "      <td>Iceland</td>\n",
       "      <td>Moma Complete</td>\n",
       "      <td>49</td>\n",
       "      <td>13</td>\n",
       "      <td>11</td>\n",
       "      <td>0</td>\n",
       "      <td>0</td>\n",
       "      <td>ISL</td>\n",
       "    </tr>\n",
       "    <tr>\n",
       "      <th>40</th>\n",
       "      <td>India</td>\n",
       "      <td>Moma Complete</td>\n",
       "      <td>211</td>\n",
       "      <td>80</td>\n",
       "      <td>86</td>\n",
       "      <td>29</td>\n",
       "      <td>0</td>\n",
       "      <td>IND</td>\n",
       "    </tr>\n",
       "    <tr>\n",
       "      <th>41</th>\n",
       "      <td>Iran</td>\n",
       "      <td>Moma Complete</td>\n",
       "      <td>17</td>\n",
       "      <td>9</td>\n",
       "      <td>2</td>\n",
       "      <td>0</td>\n",
       "      <td>0</td>\n",
       "      <td>IRN</td>\n",
       "    </tr>\n",
       "    <tr>\n",
       "      <th>42</th>\n",
       "      <td>Ireland</td>\n",
       "      <td>Moma Complete</td>\n",
       "      <td>39</td>\n",
       "      <td>2</td>\n",
       "      <td>16</td>\n",
       "      <td>0</td>\n",
       "      <td>0</td>\n",
       "      <td>IRL</td>\n",
       "    </tr>\n",
       "    <tr>\n",
       "      <th>43</th>\n",
       "      <td>Israel</td>\n",
       "      <td>Moma Complete</td>\n",
       "      <td>364</td>\n",
       "      <td>38</td>\n",
       "      <td>298</td>\n",
       "      <td>3</td>\n",
       "      <td>0</td>\n",
       "      <td>ISR</td>\n",
       "    </tr>\n",
       "    <tr>\n",
       "      <th>44</th>\n",
       "      <td>Italy</td>\n",
       "      <td>Moma Complete</td>\n",
       "      <td>3119</td>\n",
       "      <td>230</td>\n",
       "      <td>2481</td>\n",
       "      <td>62</td>\n",
       "      <td>0</td>\n",
       "      <td>ITA</td>\n",
       "    </tr>\n",
       "    <tr>\n",
       "      <th>45</th>\n",
       "      <td>Japan</td>\n",
       "      <td>Moma Complete</td>\n",
       "      <td>2814</td>\n",
       "      <td>357</td>\n",
       "      <td>2019</td>\n",
       "      <td>44</td>\n",
       "      <td>0</td>\n",
       "      <td>JPN</td>\n",
       "    </tr>\n",
       "    <tr>\n",
       "      <th>46</th>\n",
       "      <td>Kenya</td>\n",
       "      <td>Moma Complete</td>\n",
       "      <td>11</td>\n",
       "      <td>11</td>\n",
       "      <td>0</td>\n",
       "      <td>0</td>\n",
       "      <td>0</td>\n",
       "      <td>KEN</td>\n",
       "    </tr>\n",
       "    <tr>\n",
       "      <th>47</th>\n",
       "      <td>Korea</td>\n",
       "      <td>Moma Complete</td>\n",
       "      <td>91</td>\n",
       "      <td>29</td>\n",
       "      <td>53</td>\n",
       "      <td>3</td>\n",
       "      <td>0</td>\n",
       "      <td>PRK</td>\n",
       "    </tr>\n",
       "    <tr>\n",
       "      <th>48</th>\n",
       "      <td>Latvia</td>\n",
       "      <td>Moma Complete</td>\n",
       "      <td>73</td>\n",
       "      <td>0</td>\n",
       "      <td>56</td>\n",
       "      <td>0</td>\n",
       "      <td>0</td>\n",
       "      <td>LVA</td>\n",
       "    </tr>\n",
       "    <tr>\n",
       "      <th>49</th>\n",
       "      <td>Lebanon</td>\n",
       "      <td>Moma Complete</td>\n",
       "      <td>58</td>\n",
       "      <td>1</td>\n",
       "      <td>45</td>\n",
       "      <td>0</td>\n",
       "      <td>0</td>\n",
       "      <td>LBN</td>\n",
       "    </tr>\n",
       "    <tr>\n",
       "      <th>50</th>\n",
       "      <td>Lithuania</td>\n",
       "      <td>Moma Complete</td>\n",
       "      <td>19</td>\n",
       "      <td>0</td>\n",
       "      <td>16</td>\n",
       "      <td>0</td>\n",
       "      <td>0</td>\n",
       "      <td>LTU</td>\n",
       "    </tr>\n",
       "    <tr>\n",
       "      <th>51</th>\n",
       "      <td>Luxembourg</td>\n",
       "      <td>Moma Complete</td>\n",
       "      <td>42</td>\n",
       "      <td>0</td>\n",
       "      <td>42</td>\n",
       "      <td>0</td>\n",
       "      <td>0</td>\n",
       "      <td>LUX</td>\n",
       "    </tr>\n",
       "    <tr>\n",
       "      <th>52</th>\n",
       "      <td>Macedonia</td>\n",
       "      <td>Moma Complete</td>\n",
       "      <td>16</td>\n",
       "      <td>0</td>\n",
       "      <td>9</td>\n",
       "      <td>0</td>\n",
       "      <td>0</td>\n",
       "      <td>MKD</td>\n",
       "    </tr>\n",
       "    <tr>\n",
       "      <th>53</th>\n",
       "      <td>Mali</td>\n",
       "      <td>Moma Complete</td>\n",
       "      <td>21</td>\n",
       "      <td>0</td>\n",
       "      <td>21</td>\n",
       "      <td>0</td>\n",
       "      <td>0</td>\n",
       "      <td>MLI</td>\n",
       "    </tr>\n",
       "    <tr>\n",
       "      <th>54</th>\n",
       "      <td>Mexico</td>\n",
       "      <td>Moma Complete</td>\n",
       "      <td>1358</td>\n",
       "      <td>72</td>\n",
       "      <td>1208</td>\n",
       "      <td>6</td>\n",
       "      <td>0</td>\n",
       "      <td>MEX</td>\n",
       "    </tr>\n",
       "    <tr>\n",
       "      <th>55</th>\n",
       "      <td>Morocco</td>\n",
       "      <td>Moma Complete</td>\n",
       "      <td>10</td>\n",
       "      <td>10</td>\n",
       "      <td>0</td>\n",
       "      <td>0</td>\n",
       "      <td>0</td>\n",
       "      <td>MAR</td>\n",
       "    </tr>\n",
       "    <tr>\n",
       "      <th>56</th>\n",
       "      <td>Nationality unknown</td>\n",
       "      <td>Moma Complete</td>\n",
       "      <td>1249</td>\n",
       "      <td>10</td>\n",
       "      <td>150</td>\n",
       "      <td>989</td>\n",
       "      <td>0</td>\n",
       "      <td>NaN</td>\n",
       "    </tr>\n",
       "    <tr>\n",
       "      <th>57</th>\n",
       "      <td>United States</td>\n",
       "      <td>Moma Complete</td>\n",
       "      <td>17</td>\n",
       "      <td>17</td>\n",
       "      <td>0</td>\n",
       "      <td>0</td>\n",
       "      <td>0</td>\n",
       "      <td>USA</td>\n",
       "    </tr>\n",
       "    <tr>\n",
       "      <th>58</th>\n",
       "      <td>Nigeria</td>\n",
       "      <td>Moma Complete</td>\n",
       "      <td>16</td>\n",
       "      <td>0</td>\n",
       "      <td>16</td>\n",
       "      <td>0</td>\n",
       "      <td>0</td>\n",
       "      <td>NGA</td>\n",
       "    </tr>\n",
       "    <tr>\n",
       "      <th>59</th>\n",
       "      <td>Norway</td>\n",
       "      <td>Moma Complete</td>\n",
       "      <td>158</td>\n",
       "      <td>2</td>\n",
       "      <td>155</td>\n",
       "      <td>0</td>\n",
       "      <td>0</td>\n",
       "      <td>NOR</td>\n",
       "    </tr>\n",
       "    <tr>\n",
       "      <th>60</th>\n",
       "      <td>Others</td>\n",
       "      <td>Moma Complete</td>\n",
       "      <td>1239</td>\n",
       "      <td>143</td>\n",
       "      <td>929</td>\n",
       "      <td>38</td>\n",
       "      <td>0</td>\n",
       "      <td>NaN</td>\n",
       "    </tr>\n",
       "    <tr>\n",
       "      <th>61</th>\n",
       "      <td>Pakistan</td>\n",
       "      <td>Moma Complete</td>\n",
       "      <td>48</td>\n",
       "      <td>48</td>\n",
       "      <td>0</td>\n",
       "      <td>0</td>\n",
       "      <td>0</td>\n",
       "      <td>PAK</td>\n",
       "    </tr>\n",
       "    <tr>\n",
       "      <th>62</th>\n",
       "      <td>Palestine</td>\n",
       "      <td>Moma Complete</td>\n",
       "      <td>7</td>\n",
       "      <td>1</td>\n",
       "      <td>0</td>\n",
       "      <td>0</td>\n",
       "      <td>0</td>\n",
       "      <td>PSE</td>\n",
       "    </tr>\n",
       "    <tr>\n",
       "      <th>63</th>\n",
       "      <td>Peru</td>\n",
       "      <td>Moma Complete</td>\n",
       "      <td>107</td>\n",
       "      <td>11</td>\n",
       "      <td>91</td>\n",
       "      <td>0</td>\n",
       "      <td>0</td>\n",
       "      <td>PER</td>\n",
       "    </tr>\n",
       "    <tr>\n",
       "      <th>64</th>\n",
       "      <td>Poland</td>\n",
       "      <td>Moma Complete</td>\n",
       "      <td>570</td>\n",
       "      <td>67</td>\n",
       "      <td>377</td>\n",
       "      <td>89</td>\n",
       "      <td>0</td>\n",
       "      <td>POL</td>\n",
       "    </tr>\n",
       "    <tr>\n",
       "      <th>65</th>\n",
       "      <td>Portugal</td>\n",
       "      <td>Moma Complete</td>\n",
       "      <td>159</td>\n",
       "      <td>1</td>\n",
       "      <td>142</td>\n",
       "      <td>0</td>\n",
       "      <td>0</td>\n",
       "      <td>PRT</td>\n",
       "    </tr>\n",
       "    <tr>\n",
       "      <th>66</th>\n",
       "      <td>Puerto Rico</td>\n",
       "      <td>Moma Complete</td>\n",
       "      <td>14</td>\n",
       "      <td>0</td>\n",
       "      <td>3</td>\n",
       "      <td>11</td>\n",
       "      <td>0</td>\n",
       "      <td>PRI</td>\n",
       "    </tr>\n",
       "    <tr>\n",
       "      <th>67</th>\n",
       "      <td>Romania</td>\n",
       "      <td>Moma Complete</td>\n",
       "      <td>69</td>\n",
       "      <td>7</td>\n",
       "      <td>53</td>\n",
       "      <td>0</td>\n",
       "      <td>0</td>\n",
       "      <td>ROU</td>\n",
       "    </tr>\n",
       "    <tr>\n",
       "      <th>68</th>\n",
       "      <td>Russia</td>\n",
       "      <td>Moma Complete</td>\n",
       "      <td>2727</td>\n",
       "      <td>603</td>\n",
       "      <td>1538</td>\n",
       "      <td>41</td>\n",
       "      <td>0</td>\n",
       "      <td>RUS</td>\n",
       "    </tr>\n",
       "    <tr>\n",
       "      <th>69</th>\n",
       "      <td>Serbia</td>\n",
       "      <td>Moma Complete</td>\n",
       "      <td>32</td>\n",
       "      <td>0</td>\n",
       "      <td>2</td>\n",
       "      <td>0</td>\n",
       "      <td>0</td>\n",
       "      <td>SRB</td>\n",
       "    </tr>\n",
       "    <tr>\n",
       "      <th>70</th>\n",
       "      <td>Slovakia</td>\n",
       "      <td>Moma Complete</td>\n",
       "      <td>72</td>\n",
       "      <td>1</td>\n",
       "      <td>1</td>\n",
       "      <td>0</td>\n",
       "      <td>0</td>\n",
       "      <td>SVK</td>\n",
       "    </tr>\n",
       "    <tr>\n",
       "      <th>71</th>\n",
       "      <td>Slovenia</td>\n",
       "      <td>Moma Complete</td>\n",
       "      <td>37</td>\n",
       "      <td>18</td>\n",
       "      <td>14</td>\n",
       "      <td>4</td>\n",
       "      <td>0</td>\n",
       "      <td>SVN</td>\n",
       "    </tr>\n",
       "    <tr>\n",
       "      <th>72</th>\n",
       "      <td>South Africa</td>\n",
       "      <td>Moma Complete</td>\n",
       "      <td>425</td>\n",
       "      <td>82</td>\n",
       "      <td>322</td>\n",
       "      <td>0</td>\n",
       "      <td>0</td>\n",
       "      <td>ZAF</td>\n",
       "    </tr>\n",
       "    <tr>\n",
       "      <th>73</th>\n",
       "      <td>Spain</td>\n",
       "      <td>Moma Complete</td>\n",
       "      <td>3196</td>\n",
       "      <td>37</td>\n",
       "      <td>3067</td>\n",
       "      <td>16</td>\n",
       "      <td>0</td>\n",
       "      <td>ESP</td>\n",
       "    </tr>\n",
       "    <tr>\n",
       "      <th>74</th>\n",
       "      <td>Sudan</td>\n",
       "      <td>Moma Complete</td>\n",
       "      <td>50</td>\n",
       "      <td>0</td>\n",
       "      <td>50</td>\n",
       "      <td>0</td>\n",
       "      <td>0</td>\n",
       "      <td>SDN</td>\n",
       "    </tr>\n",
       "    <tr>\n",
       "      <th>75</th>\n",
       "      <td>Sweden</td>\n",
       "      <td>Moma Complete</td>\n",
       "      <td>289</td>\n",
       "      <td>35</td>\n",
       "      <td>190</td>\n",
       "      <td>17</td>\n",
       "      <td>0</td>\n",
       "      <td>SWE</td>\n",
       "    </tr>\n",
       "    <tr>\n",
       "      <th>76</th>\n",
       "      <td>Switzerland</td>\n",
       "      <td>Moma Complete</td>\n",
       "      <td>2492</td>\n",
       "      <td>198</td>\n",
       "      <td>1797</td>\n",
       "      <td>108</td>\n",
       "      <td>0</td>\n",
       "      <td>CHE</td>\n",
       "    </tr>\n",
       "    <tr>\n",
       "      <th>77</th>\n",
       "      <td>Taiwan</td>\n",
       "      <td>Moma Complete</td>\n",
       "      <td>6</td>\n",
       "      <td>0</td>\n",
       "      <td>0</td>\n",
       "      <td>0</td>\n",
       "      <td>0</td>\n",
       "      <td>TWN</td>\n",
       "    </tr>\n",
       "    <tr>\n",
       "      <th>78</th>\n",
       "      <td>Thailand</td>\n",
       "      <td>Moma Complete</td>\n",
       "      <td>30</td>\n",
       "      <td>0</td>\n",
       "      <td>24</td>\n",
       "      <td>0</td>\n",
       "      <td>0</td>\n",
       "      <td>THA</td>\n",
       "    </tr>\n",
       "    <tr>\n",
       "      <th>79</th>\n",
       "      <td>Turkey</td>\n",
       "      <td>Moma Complete</td>\n",
       "      <td>31</td>\n",
       "      <td>5</td>\n",
       "      <td>26</td>\n",
       "      <td>0</td>\n",
       "      <td>0</td>\n",
       "      <td>TUR</td>\n",
       "    </tr>\n",
       "    <tr>\n",
       "      <th>80</th>\n",
       "      <td>Ukraine</td>\n",
       "      <td>Moma Complete</td>\n",
       "      <td>137</td>\n",
       "      <td>0</td>\n",
       "      <td>53</td>\n",
       "      <td>0</td>\n",
       "      <td>0</td>\n",
       "      <td>UKR</td>\n",
       "    </tr>\n",
       "    <tr>\n",
       "      <th>81</th>\n",
       "      <td>Uruguay</td>\n",
       "      <td>Moma Complete</td>\n",
       "      <td>107</td>\n",
       "      <td>1</td>\n",
       "      <td>88</td>\n",
       "      <td>0</td>\n",
       "      <td>0</td>\n",
       "      <td>URY</td>\n",
       "    </tr>\n",
       "    <tr>\n",
       "      <th>82</th>\n",
       "      <td>Venezuela</td>\n",
       "      <td>Moma Complete</td>\n",
       "      <td>504</td>\n",
       "      <td>128</td>\n",
       "      <td>345</td>\n",
       "      <td>15</td>\n",
       "      <td>0</td>\n",
       "      <td>VEN</td>\n",
       "    </tr>\n",
       "    <tr>\n",
       "      <th>83</th>\n",
       "      <td>Yugoslavia</td>\n",
       "      <td>Moma Complete</td>\n",
       "      <td>160</td>\n",
       "      <td>57</td>\n",
       "      <td>54</td>\n",
       "      <td>2</td>\n",
       "      <td>0</td>\n",
       "      <td>NaN</td>\n",
       "    </tr>\n",
       "    <tr>\n",
       "      <th>84</th>\n",
       "      <td>missing</td>\n",
       "      <td>Moma Complete</td>\n",
       "      <td>8313</td>\n",
       "      <td>118</td>\n",
       "      <td>404</td>\n",
       "      <td>5781</td>\n",
       "      <td>0</td>\n",
       "      <td>NaN</td>\n",
       "    </tr>\n",
       "  </tbody>\n",
       "</table>\n",
       "</div>"
      ],
      "text/plain": [
       "               Nationality         Source  Count  Females  Males  Missing  \\\n",
       "0                  Albania  Moma Complete     20        0     18        0   \n",
       "1                  Algeria  Moma Complete     10        0      0        0   \n",
       "2            United States  Moma Complete  60875    12073  44122      776   \n",
       "3                Argentina  Moma Complete   1059       63    744       10   \n",
       "4                Australia  Moma Complete    255       30    212        1   \n",
       "5                  Austria  Moma Complete   1124      152    713       18   \n",
       "6                  Belgium  Moma Complete   1519       24   1428        2   \n",
       "7   Bosnia And Herzegovina  Moma Complete     13        0     13        0   \n",
       "8                   Brazil  Moma Complete    847      222    574        7   \n",
       "9           United Kingdom  Moma Complete   6309      478   4926      171   \n",
       "10            Burkina Faso  Moma Complete     26        0     26        0   \n",
       "11                Cambodia  Moma Complete      8        0      8        0   \n",
       "12                Cameroon  Moma Complete     13        0     13        0   \n",
       "13                  Canada  Moma Complete    989       83    712       10   \n",
       "14                  Canada  Moma Complete      7        0      7        0   \n",
       "15                   Chile  Moma Complete    597       31    540        3   \n",
       "16                   China  Moma Complete    232        6    184        5   \n",
       "17                Colombia  Moma Complete    744       45    681        0   \n",
       "18   Republic Of The Congo  Moma Complete     15        0     15        0   \n",
       "19              Costa Rica  Moma Complete     64        0     64        0   \n",
       "20                 Croatia  Moma Complete    164       20    114        2   \n",
       "21                    Cuba  Moma Complete    209       20    164        8   \n",
       "22          Czech Republic  Moma Complete    794       23    732       11   \n",
       "23          Czechoslovakia  Moma Complete      5        0      1        4   \n",
       "24                 Denmark  Moma Complete    520       14    436        7   \n",
       "25             Netherlands  Moma Complete   1836      194   1312       63   \n",
       "26                 Ecuador  Moma Complete      7        0      7        0   \n",
       "27                   Egypt  Moma Complete     54       13     38        0   \n",
       "28    United Arab Emirates  Moma Complete      6        6      0        0   \n",
       "29                Ethiopia  Moma Complete      5        0      0        5   \n",
       "30             Philippines  Moma Complete     25        0      0        0   \n",
       "31                 Finland  Moma Complete    227       40    169        9   \n",
       "32                  France  Moma Complete  23753      397  22060      132   \n",
       "33                 Georgia  Moma Complete     11        0      4        0   \n",
       "34                 Germany  Moma Complete   9888     1436   7661      141   \n",
       "35                  Greece  Moma Complete     45        1     42        0   \n",
       "36               Guatemala  Moma Complete     66        0     66        0   \n",
       "37                   Haiti  Moma Complete     20        0     17        1   \n",
       "38                 Hungary  Moma Complete    789       27    101        1   \n",
       "39                 Iceland  Moma Complete     49       13     11        0   \n",
       "40                   India  Moma Complete    211       80     86       29   \n",
       "41                    Iran  Moma Complete     17        9      2        0   \n",
       "42                 Ireland  Moma Complete     39        2     16        0   \n",
       "43                  Israel  Moma Complete    364       38    298        3   \n",
       "44                   Italy  Moma Complete   3119      230   2481       62   \n",
       "45                   Japan  Moma Complete   2814      357   2019       44   \n",
       "46                   Kenya  Moma Complete     11       11      0        0   \n",
       "47                   Korea  Moma Complete     91       29     53        3   \n",
       "48                  Latvia  Moma Complete     73        0     56        0   \n",
       "49                 Lebanon  Moma Complete     58        1     45        0   \n",
       "50               Lithuania  Moma Complete     19        0     16        0   \n",
       "51              Luxembourg  Moma Complete     42        0     42        0   \n",
       "52               Macedonia  Moma Complete     16        0      9        0   \n",
       "53                    Mali  Moma Complete     21        0     21        0   \n",
       "54                  Mexico  Moma Complete   1358       72   1208        6   \n",
       "55                 Morocco  Moma Complete     10       10      0        0   \n",
       "56     Nationality unknown  Moma Complete   1249       10    150      989   \n",
       "57           United States  Moma Complete     17       17      0        0   \n",
       "58                 Nigeria  Moma Complete     16        0     16        0   \n",
       "59                  Norway  Moma Complete    158        2    155        0   \n",
       "60                  Others  Moma Complete   1239      143    929       38   \n",
       "61                Pakistan  Moma Complete     48       48      0        0   \n",
       "62               Palestine  Moma Complete      7        1      0        0   \n",
       "63                    Peru  Moma Complete    107       11     91        0   \n",
       "64                  Poland  Moma Complete    570       67    377       89   \n",
       "65                Portugal  Moma Complete    159        1    142        0   \n",
       "66             Puerto Rico  Moma Complete     14        0      3       11   \n",
       "67                 Romania  Moma Complete     69        7     53        0   \n",
       "68                  Russia  Moma Complete   2727      603   1538       41   \n",
       "69                  Serbia  Moma Complete     32        0      2        0   \n",
       "70                Slovakia  Moma Complete     72        1      1        0   \n",
       "71                Slovenia  Moma Complete     37       18     14        4   \n",
       "72            South Africa  Moma Complete    425       82    322        0   \n",
       "73                   Spain  Moma Complete   3196       37   3067       16   \n",
       "74                   Sudan  Moma Complete     50        0     50        0   \n",
       "75                  Sweden  Moma Complete    289       35    190       17   \n",
       "76             Switzerland  Moma Complete   2492      198   1797      108   \n",
       "77                  Taiwan  Moma Complete      6        0      0        0   \n",
       "78                Thailand  Moma Complete     30        0     24        0   \n",
       "79                  Turkey  Moma Complete     31        5     26        0   \n",
       "80                 Ukraine  Moma Complete    137        0     53        0   \n",
       "81                 Uruguay  Moma Complete    107        1     88        0   \n",
       "82               Venezuela  Moma Complete    504      128    345       15   \n",
       "83              Yugoslavia  Moma Complete    160       57     54        2   \n",
       "84                 missing  Moma Complete   8313      118    404     5781   \n",
       "\n",
       "    Non-Binary country_code  \n",
       "0            0          ALB  \n",
       "1            0          DZA  \n",
       "2           11          USA  \n",
       "3            0          ARG  \n",
       "4            0          AUS  \n",
       "5            0          AUT  \n",
       "6            0          BEL  \n",
       "7            0          BIH  \n",
       "8            0          BRA  \n",
       "9            1          GBR  \n",
       "10           0          BFA  \n",
       "11           0          KHM  \n",
       "12           0          CMR  \n",
       "13           0          CAN  \n",
       "14           0          CAN  \n",
       "15           0          CHL  \n",
       "16           0          CHN  \n",
       "17           0          COL  \n",
       "18           0          COG  \n",
       "19           0          CRI  \n",
       "20           0          HRV  \n",
       "21           0          CUB  \n",
       "22           0          CZE  \n",
       "23           0          NaN  \n",
       "24           0          DNK  \n",
       "25           0          NLD  \n",
       "26           0          ECU  \n",
       "27           0          EGY  \n",
       "28           0          ARE  \n",
       "29           0          ETH  \n",
       "30           0          PHL  \n",
       "31           0          FIN  \n",
       "32           0          FRA  \n",
       "33           0          GEO  \n",
       "34           0          DEU  \n",
       "35           0          GRC  \n",
       "36           0          GTM  \n",
       "37           0          HTI  \n",
       "38           0          HUN  \n",
       "39           0          ISL  \n",
       "40           0          IND  \n",
       "41           0          IRN  \n",
       "42           0          IRL  \n",
       "43           0          ISR  \n",
       "44           0          ITA  \n",
       "45           0          JPN  \n",
       "46           0          KEN  \n",
       "47           0          PRK  \n",
       "48           0          LVA  \n",
       "49           0          LBN  \n",
       "50           0          LTU  \n",
       "51           0          LUX  \n",
       "52           0          MKD  \n",
       "53           0          MLI  \n",
       "54           0          MEX  \n",
       "55           0          MAR  \n",
       "56           0          NaN  \n",
       "57           0          USA  \n",
       "58           0          NGA  \n",
       "59           0          NOR  \n",
       "60           0          NaN  \n",
       "61           0          PAK  \n",
       "62           0          PSE  \n",
       "63           0          PER  \n",
       "64           0          POL  \n",
       "65           0          PRT  \n",
       "66           0          PRI  \n",
       "67           0          ROU  \n",
       "68           0          RUS  \n",
       "69           0          SRB  \n",
       "70           0          SVK  \n",
       "71           0          SVN  \n",
       "72           0          ZAF  \n",
       "73           0          ESP  \n",
       "74           0          SDN  \n",
       "75           0          SWE  \n",
       "76           0          CHE  \n",
       "77           0          TWN  \n",
       "78           0          THA  \n",
       "79           0          TUR  \n",
       "80           0          UKR  \n",
       "81           0          URY  \n",
       "82           0          VEN  \n",
       "83           0          NaN  \n",
       "84           0          NaN  "
      ]
     },
     "execution_count": 281,
     "metadata": {},
     "output_type": "execute_result"
    }
   ],
   "source": [
    "df_Moma_by_periods['Source'] = 'Moma Complete'\n",
    "df_Moma_map = df_Moma_by_periods.groupby(['Nationality','Source'],as_index=False).agg({'Count': 'sum','Females': 'sum','Males': 'sum','Missing': 'sum','Non-Binary': 'sum'})\n",
    "\n",
    "natios_MOMA = set(df_Moma_map.Nationality)\n",
    "for item in natios_MOMA:\n",
    "    my = correct_country[correct_country['Aalborgenser'] == item]\n",
    "    \n",
    "    country = my[:1]['Aalborg'].values\n",
    "    if len(country)>0:\n",
    "        country_str = my[:1]['Aalborg'].values[0]\n",
    "\n",
    "        df_Moma_map.loc[df_Moma_map[\"Nationality\"] == item, \"Nationality\"] = country_str\n",
    "\n",
    "df_Moma_map[\"country_code\"] = df_Moma_map[\"Nationality\"].apply(lambda country: do_fuzzy_search(country))\n",
    "df_Moma_map"
   ]
  },
  {
   "cell_type": "code",
   "execution_count": 282,
   "metadata": {},
   "outputs": [
    {
     "data": {
      "text/html": [
       "<div>\n",
       "<style scoped>\n",
       "    .dataframe tbody tr th:only-of-type {\n",
       "        vertical-align: middle;\n",
       "    }\n",
       "\n",
       "    .dataframe tbody tr th {\n",
       "        vertical-align: top;\n",
       "    }\n",
       "\n",
       "    .dataframe thead th {\n",
       "        text-align: right;\n",
       "    }\n",
       "</style>\n",
       "<table border=\"1\" class=\"dataframe\">\n",
       "  <thead>\n",
       "    <tr style=\"text-align: right;\">\n",
       "      <th></th>\n",
       "      <th>Nationality</th>\n",
       "      <th>Source</th>\n",
       "      <th>Count</th>\n",
       "      <th>Females</th>\n",
       "      <th>Males</th>\n",
       "      <th>Missing</th>\n",
       "      <th>Non-Binary</th>\n",
       "      <th>country_code</th>\n",
       "    </tr>\n",
       "  </thead>\n",
       "  <tbody>\n",
       "    <tr>\n",
       "      <th>0</th>\n",
       "      <td>Afghan/American</td>\n",
       "      <td>Rhizome</td>\n",
       "      <td>2</td>\n",
       "      <td>2</td>\n",
       "      <td>0</td>\n",
       "      <td>0</td>\n",
       "      <td>0</td>\n",
       "      <td>NaN</td>\n",
       "    </tr>\n",
       "    <tr>\n",
       "      <th>1</th>\n",
       "      <td>United States</td>\n",
       "      <td>Rhizome</td>\n",
       "      <td>481</td>\n",
       "      <td>138</td>\n",
       "      <td>339</td>\n",
       "      <td>4</td>\n",
       "      <td>0</td>\n",
       "      <td>USA</td>\n",
       "    </tr>\n",
       "    <tr>\n",
       "      <th>2</th>\n",
       "      <td>American/Canadian</td>\n",
       "      <td>Rhizome</td>\n",
       "      <td>2</td>\n",
       "      <td>2</td>\n",
       "      <td>0</td>\n",
       "      <td>0</td>\n",
       "      <td>0</td>\n",
       "      <td>NaN</td>\n",
       "    </tr>\n",
       "    <tr>\n",
       "      <th>3</th>\n",
       "      <td>Argentina</td>\n",
       "      <td>Rhizome</td>\n",
       "      <td>10</td>\n",
       "      <td>4</td>\n",
       "      <td>6</td>\n",
       "      <td>0</td>\n",
       "      <td>0</td>\n",
       "      <td>ARG</td>\n",
       "    </tr>\n",
       "    <tr>\n",
       "      <th>4</th>\n",
       "      <td>Australia</td>\n",
       "      <td>Rhizome</td>\n",
       "      <td>8</td>\n",
       "      <td>5</td>\n",
       "      <td>3</td>\n",
       "      <td>0</td>\n",
       "      <td>0</td>\n",
       "      <td>AUS</td>\n",
       "    </tr>\n",
       "    <tr>\n",
       "      <th>5</th>\n",
       "      <td>Belgium</td>\n",
       "      <td>Rhizome</td>\n",
       "      <td>9</td>\n",
       "      <td>1</td>\n",
       "      <td>8</td>\n",
       "      <td>0</td>\n",
       "      <td>0</td>\n",
       "      <td>BEL</td>\n",
       "    </tr>\n",
       "    <tr>\n",
       "      <th>6</th>\n",
       "      <td>Canada</td>\n",
       "      <td>Rhizome</td>\n",
       "      <td>17</td>\n",
       "      <td>5</td>\n",
       "      <td>12</td>\n",
       "      <td>0</td>\n",
       "      <td>0</td>\n",
       "      <td>CAN</td>\n",
       "    </tr>\n",
       "    <tr>\n",
       "      <th>7</th>\n",
       "      <td>Chile</td>\n",
       "      <td>Rhizome</td>\n",
       "      <td>3</td>\n",
       "      <td>2</td>\n",
       "      <td>1</td>\n",
       "      <td>0</td>\n",
       "      <td>0</td>\n",
       "      <td>CHL</td>\n",
       "    </tr>\n",
       "    <tr>\n",
       "      <th>8</th>\n",
       "      <td>Croatia</td>\n",
       "      <td>Rhizome</td>\n",
       "      <td>2</td>\n",
       "      <td>1</td>\n",
       "      <td>1</td>\n",
       "      <td>0</td>\n",
       "      <td>0</td>\n",
       "      <td>HRV</td>\n",
       "    </tr>\n",
       "    <tr>\n",
       "      <th>9</th>\n",
       "      <td>Finland</td>\n",
       "      <td>Rhizome</td>\n",
       "      <td>2</td>\n",
       "      <td>1</td>\n",
       "      <td>1</td>\n",
       "      <td>0</td>\n",
       "      <td>0</td>\n",
       "      <td>FIN</td>\n",
       "    </tr>\n",
       "    <tr>\n",
       "      <th>10</th>\n",
       "      <td>France</td>\n",
       "      <td>Rhizome</td>\n",
       "      <td>133</td>\n",
       "      <td>27</td>\n",
       "      <td>104</td>\n",
       "      <td>0</td>\n",
       "      <td>0</td>\n",
       "      <td>FRA</td>\n",
       "    </tr>\n",
       "    <tr>\n",
       "      <th>11</th>\n",
       "      <td>Greece</td>\n",
       "      <td>Rhizome</td>\n",
       "      <td>4</td>\n",
       "      <td>1</td>\n",
       "      <td>3</td>\n",
       "      <td>0</td>\n",
       "      <td>0</td>\n",
       "      <td>GRC</td>\n",
       "    </tr>\n",
       "    <tr>\n",
       "      <th>12</th>\n",
       "      <td>India</td>\n",
       "      <td>Rhizome</td>\n",
       "      <td>2</td>\n",
       "      <td>0</td>\n",
       "      <td>2</td>\n",
       "      <td>0</td>\n",
       "      <td>0</td>\n",
       "      <td>IND</td>\n",
       "    </tr>\n",
       "    <tr>\n",
       "      <th>13</th>\n",
       "      <td>Iran</td>\n",
       "      <td>Rhizome</td>\n",
       "      <td>2</td>\n",
       "      <td>2</td>\n",
       "      <td>0</td>\n",
       "      <td>0</td>\n",
       "      <td>0</td>\n",
       "      <td>IRN</td>\n",
       "    </tr>\n",
       "    <tr>\n",
       "      <th>14</th>\n",
       "      <td>Ireland</td>\n",
       "      <td>Rhizome</td>\n",
       "      <td>2</td>\n",
       "      <td>1</td>\n",
       "      <td>1</td>\n",
       "      <td>0</td>\n",
       "      <td>0</td>\n",
       "      <td>IRL</td>\n",
       "    </tr>\n",
       "    <tr>\n",
       "      <th>15</th>\n",
       "      <td>Mexico</td>\n",
       "      <td>Rhizome</td>\n",
       "      <td>11</td>\n",
       "      <td>2</td>\n",
       "      <td>9</td>\n",
       "      <td>0</td>\n",
       "      <td>0</td>\n",
       "      <td>MEX</td>\n",
       "    </tr>\n",
       "    <tr>\n",
       "      <th>16</th>\n",
       "      <td>Others</td>\n",
       "      <td>Rhizome</td>\n",
       "      <td>637</td>\n",
       "      <td>170</td>\n",
       "      <td>456</td>\n",
       "      <td>11</td>\n",
       "      <td>0</td>\n",
       "      <td>NaN</td>\n",
       "    </tr>\n",
       "    <tr>\n",
       "      <th>17</th>\n",
       "      <td>Portugal</td>\n",
       "      <td>Rhizome</td>\n",
       "      <td>13</td>\n",
       "      <td>3</td>\n",
       "      <td>10</td>\n",
       "      <td>0</td>\n",
       "      <td>0</td>\n",
       "      <td>PRT</td>\n",
       "    </tr>\n",
       "    <tr>\n",
       "      <th>18</th>\n",
       "      <td>Romania</td>\n",
       "      <td>Rhizome</td>\n",
       "      <td>2</td>\n",
       "      <td>0</td>\n",
       "      <td>2</td>\n",
       "      <td>0</td>\n",
       "      <td>0</td>\n",
       "      <td>ROU</td>\n",
       "    </tr>\n",
       "    <tr>\n",
       "      <th>19</th>\n",
       "      <td>South Africa</td>\n",
       "      <td>Rhizome</td>\n",
       "      <td>2</td>\n",
       "      <td>0</td>\n",
       "      <td>2</td>\n",
       "      <td>0</td>\n",
       "      <td>0</td>\n",
       "      <td>ZAF</td>\n",
       "    </tr>\n",
       "    <tr>\n",
       "      <th>20</th>\n",
       "      <td>South Korea</td>\n",
       "      <td>Rhizome</td>\n",
       "      <td>12</td>\n",
       "      <td>9</td>\n",
       "      <td>3</td>\n",
       "      <td>0</td>\n",
       "      <td>0</td>\n",
       "      <td>KOR</td>\n",
       "    </tr>\n",
       "    <tr>\n",
       "      <th>21</th>\n",
       "      <td>Switzerland</td>\n",
       "      <td>Rhizome</td>\n",
       "      <td>7</td>\n",
       "      <td>0</td>\n",
       "      <td>7</td>\n",
       "      <td>0</td>\n",
       "      <td>0</td>\n",
       "      <td>CHE</td>\n",
       "    </tr>\n",
       "    <tr>\n",
       "      <th>22</th>\n",
       "      <td>Turkey</td>\n",
       "      <td>Rhizome</td>\n",
       "      <td>2</td>\n",
       "      <td>0</td>\n",
       "      <td>2</td>\n",
       "      <td>0</td>\n",
       "      <td>0</td>\n",
       "      <td>TUR</td>\n",
       "    </tr>\n",
       "  </tbody>\n",
       "</table>\n",
       "</div>"
      ],
      "text/plain": [
       "          Nationality   Source  Count  Females  Males  Missing  Non-Binary  \\\n",
       "0     Afghan/American  Rhizome      2        2      0        0           0   \n",
       "1       United States  Rhizome    481      138    339        4           0   \n",
       "2   American/Canadian  Rhizome      2        2      0        0           0   \n",
       "3           Argentina  Rhizome     10        4      6        0           0   \n",
       "4           Australia  Rhizome      8        5      3        0           0   \n",
       "5             Belgium  Rhizome      9        1      8        0           0   \n",
       "6              Canada  Rhizome     17        5     12        0           0   \n",
       "7               Chile  Rhizome      3        2      1        0           0   \n",
       "8             Croatia  Rhizome      2        1      1        0           0   \n",
       "9             Finland  Rhizome      2        1      1        0           0   \n",
       "10             France  Rhizome    133       27    104        0           0   \n",
       "11             Greece  Rhizome      4        1      3        0           0   \n",
       "12              India  Rhizome      2        0      2        0           0   \n",
       "13               Iran  Rhizome      2        2      0        0           0   \n",
       "14            Ireland  Rhizome      2        1      1        0           0   \n",
       "15             Mexico  Rhizome     11        2      9        0           0   \n",
       "16             Others  Rhizome    637      170    456       11           0   \n",
       "17           Portugal  Rhizome     13        3     10        0           0   \n",
       "18            Romania  Rhizome      2        0      2        0           0   \n",
       "19       South Africa  Rhizome      2        0      2        0           0   \n",
       "20        South Korea  Rhizome     12        9      3        0           0   \n",
       "21        Switzerland  Rhizome      7        0      7        0           0   \n",
       "22             Turkey  Rhizome      2        0      2        0           0   \n",
       "\n",
       "   country_code  \n",
       "0           NaN  \n",
       "1           USA  \n",
       "2           NaN  \n",
       "3           ARG  \n",
       "4           AUS  \n",
       "5           BEL  \n",
       "6           CAN  \n",
       "7           CHL  \n",
       "8           HRV  \n",
       "9           FIN  \n",
       "10          FRA  \n",
       "11          GRC  \n",
       "12          IND  \n",
       "13          IRN  \n",
       "14          IRL  \n",
       "15          MEX  \n",
       "16          NaN  \n",
       "17          PRT  \n",
       "18          ROU  \n",
       "19          ZAF  \n",
       "20          KOR  \n",
       "21          CHE  \n",
       "22          TUR  "
      ]
     },
     "execution_count": 282,
     "metadata": {},
     "output_type": "execute_result"
    }
   ],
   "source": [
    "df_rhizome_map = df_rhizome_barchart.groupby(['Nationality','Source'],as_index=False).agg({'Count': 'sum','Females': 'sum','Males': 'sum','Missing': 'sum','Non-Binary': 'sum'})\n",
    "\n",
    "natios_MOMA = set(df_rhizome_map.Nationality)\n",
    "for item in natios_MOMA:\n",
    "    my = correct_country[correct_country['Aalborgenser'] == item]\n",
    "    \n",
    "    country = my[:1]['Aalborg'].values\n",
    "    if len(country)>0:\n",
    "        country_str = my[:1]['Aalborg'].values[0]\n",
    "\n",
    "        df_rhizome_map.loc[df_rhizome_map[\"Nationality\"] == item, \"Nationality\"] = country_str\n",
    "\n",
    "df_rhizome_map[\"country_code\"] = df_rhizome_map[\"Nationality\"].apply(lambda country: do_fuzzy_search(country))\n",
    "df_rhizome_map"
   ]
  },
  {
   "cell_type": "code",
   "execution_count": 283,
   "metadata": {},
   "outputs": [
    {
     "data": {
      "application/vnd.plotly.v1+json": {
       "config": {
        "plotlyServerURL": "https://plot.ly"
       },
       "data": [
        {
         "lat": [
          9.95,
          6.43,
          14.5,
          8.46
         ],
         "lon": [
          -9.7,
          -9.43,
          -14.45,
          -11.78
         ],
         "marker": {
          "color": "rgb(33,113,181)",
          "line": {
           "width": 0
          },
          "size": [
           20.44,
           67.24,
           0.06,
           38.8
          ]
         },
         "mode": "markers+text",
         "name": "Sept",
         "text": [
          "1022 Guinea",
          "3362 Liberia",
          "3 Senegal",
          "1940 Sierra Leone"
         ],
         "textposition": "bottom center",
         "type": "scattergeo"
        },
        {
         "lat": [
          9.95,
          6.43,
          14.5,
          8.46
         ],
         "lon": [
          -9.7,
          -9.43,
          -14.45,
          -11.78
         ],
         "marker": {
          "color": "rgb(107,174,214)",
          "line": {
           "width": 0
          },
          "size": [
           15.42,
           27.9,
           0.02,
           24.32
          ]
         },
         "name": "Aug",
         "text": [
          771,
          1395,
          1,
          1216
         ],
         "type": "scattergeo"
        },
        {
         "lat": [
          9.95,
          6.43,
          8.46
         ],
         "lon": [
          -9.7,
          -9.43,
          -11.78
         ],
         "marker": {
          "color": "rgb(189,215,231)",
          "line": {
           "width": 0
          },
          "size": [
           9.2,
           6.58,
           10.66
          ]
         },
         "name": "July",
         "text": [
          460,
          329,
          533
         ],
         "type": "scattergeo"
        },
        {
         "lat": [
          9.95,
          6.43,
          8.46
         ],
         "lon": [
          -9.7,
          -9.43,
          -11.78
         ],
         "marker": {
          "color": "rgb(239,243,255)",
          "line": {
           "width": 0
          },
          "size": [
           8.26,
           2.14,
           4.78
          ]
         },
         "name": "June",
         "text": [
          413,
          107,
          239
         ],
         "type": "scattergeo"
        },
        {
         "autocolorscale": false,
         "colorscale": [
          [
           0,
           "rgb(0, 0, 0)"
          ],
          [
           1,
           "rgb(0, 0, 0)"
          ]
         ],
         "geo": "geo2",
         "locationmode": "country names",
         "locations": [
          "Guinea",
          "Liberia",
          "Senegal",
          "Sierra Leone"
         ],
         "showscale": false,
         "text": [
          "Guinea",
          "Liberia",
          "Senegal",
          "Sierra Leone"
         ],
         "type": "choropleth",
         "z": [
          1022,
          3362,
          3,
          1940
         ]
        },
        {
         "geo": "geo2",
         "lat": [
          7.1881
         ],
         "lon": [
          21.0936
         ],
         "mode": "text",
         "showlegend": false,
         "text": [
          "Africa"
         ],
         "type": "scattergeo"
        }
       ],
       "layout": {
        "geo": {
         "coastlinecolor": "white",
         "countrycolor": "white",
         "domain": {
          "x": [
           0,
           1
          ],
          "y": [
           0,
           1
          ]
         },
         "landcolor": "rgb(229, 229, 229)",
         "lataxis": {
          "range": [
           0,
           12
          ]
         },
         "lonaxis": {
          "range": [
           -15,
           -5
          ]
         },
         "projection": {
          "type": "mercator"
         },
         "resolution": 50,
         "scope": "africa",
         "showcoastlines": true,
         "showframe": false
        },
        "geo2": {
         "bgcolor": "rgba(255, 255, 255, 0.0)",
         "domain": {
          "x": [
           0,
           0.6
          ],
          "y": [
           0,
           0.6
          ]
         },
         "landcolor": "rgb(229, 229, 229)",
         "scope": "africa",
         "showcountries": false,
         "showframe": false
        },
        "legend": {
         "traceorder": "reversed"
        },
        "template": {
         "data": {
          "bar": [
           {
            "error_x": {
             "color": "rgb(36,36,36)"
            },
            "error_y": {
             "color": "rgb(36,36,36)"
            },
            "marker": {
             "line": {
              "color": "white",
              "width": 0.5
             },
             "pattern": {
              "fillmode": "overlay",
              "size": 10,
              "solidity": 0.2
             }
            },
            "type": "bar"
           }
          ],
          "barpolar": [
           {
            "marker": {
             "line": {
              "color": "white",
              "width": 0.5
             },
             "pattern": {
              "fillmode": "overlay",
              "size": 10,
              "solidity": 0.2
             }
            },
            "type": "barpolar"
           }
          ],
          "carpet": [
           {
            "aaxis": {
             "endlinecolor": "rgb(36,36,36)",
             "gridcolor": "white",
             "linecolor": "white",
             "minorgridcolor": "white",
             "startlinecolor": "rgb(36,36,36)"
            },
            "baxis": {
             "endlinecolor": "rgb(36,36,36)",
             "gridcolor": "white",
             "linecolor": "white",
             "minorgridcolor": "white",
             "startlinecolor": "rgb(36,36,36)"
            },
            "type": "carpet"
           }
          ],
          "choropleth": [
           {
            "colorbar": {
             "outlinewidth": 1,
             "tickcolor": "rgb(36,36,36)",
             "ticks": "outside"
            },
            "type": "choropleth"
           }
          ],
          "contour": [
           {
            "colorbar": {
             "outlinewidth": 1,
             "tickcolor": "rgb(36,36,36)",
             "ticks": "outside"
            },
            "colorscale": [
             [
              0,
              "#440154"
             ],
             [
              0.1111111111111111,
              "#482878"
             ],
             [
              0.2222222222222222,
              "#3e4989"
             ],
             [
              0.3333333333333333,
              "#31688e"
             ],
             [
              0.4444444444444444,
              "#26828e"
             ],
             [
              0.5555555555555556,
              "#1f9e89"
             ],
             [
              0.6666666666666666,
              "#35b779"
             ],
             [
              0.7777777777777778,
              "#6ece58"
             ],
             [
              0.8888888888888888,
              "#b5de2b"
             ],
             [
              1,
              "#fde725"
             ]
            ],
            "type": "contour"
           }
          ],
          "contourcarpet": [
           {
            "colorbar": {
             "outlinewidth": 1,
             "tickcolor": "rgb(36,36,36)",
             "ticks": "outside"
            },
            "type": "contourcarpet"
           }
          ],
          "heatmap": [
           {
            "colorbar": {
             "outlinewidth": 1,
             "tickcolor": "rgb(36,36,36)",
             "ticks": "outside"
            },
            "colorscale": [
             [
              0,
              "#440154"
             ],
             [
              0.1111111111111111,
              "#482878"
             ],
             [
              0.2222222222222222,
              "#3e4989"
             ],
             [
              0.3333333333333333,
              "#31688e"
             ],
             [
              0.4444444444444444,
              "#26828e"
             ],
             [
              0.5555555555555556,
              "#1f9e89"
             ],
             [
              0.6666666666666666,
              "#35b779"
             ],
             [
              0.7777777777777778,
              "#6ece58"
             ],
             [
              0.8888888888888888,
              "#b5de2b"
             ],
             [
              1,
              "#fde725"
             ]
            ],
            "type": "heatmap"
           }
          ],
          "heatmapgl": [
           {
            "colorbar": {
             "outlinewidth": 1,
             "tickcolor": "rgb(36,36,36)",
             "ticks": "outside"
            },
            "colorscale": [
             [
              0,
              "#440154"
             ],
             [
              0.1111111111111111,
              "#482878"
             ],
             [
              0.2222222222222222,
              "#3e4989"
             ],
             [
              0.3333333333333333,
              "#31688e"
             ],
             [
              0.4444444444444444,
              "#26828e"
             ],
             [
              0.5555555555555556,
              "#1f9e89"
             ],
             [
              0.6666666666666666,
              "#35b779"
             ],
             [
              0.7777777777777778,
              "#6ece58"
             ],
             [
              0.8888888888888888,
              "#b5de2b"
             ],
             [
              1,
              "#fde725"
             ]
            ],
            "type": "heatmapgl"
           }
          ],
          "histogram": [
           {
            "marker": {
             "line": {
              "color": "white",
              "width": 0.6
             }
            },
            "type": "histogram"
           }
          ],
          "histogram2d": [
           {
            "colorbar": {
             "outlinewidth": 1,
             "tickcolor": "rgb(36,36,36)",
             "ticks": "outside"
            },
            "colorscale": [
             [
              0,
              "#440154"
             ],
             [
              0.1111111111111111,
              "#482878"
             ],
             [
              0.2222222222222222,
              "#3e4989"
             ],
             [
              0.3333333333333333,
              "#31688e"
             ],
             [
              0.4444444444444444,
              "#26828e"
             ],
             [
              0.5555555555555556,
              "#1f9e89"
             ],
             [
              0.6666666666666666,
              "#35b779"
             ],
             [
              0.7777777777777778,
              "#6ece58"
             ],
             [
              0.8888888888888888,
              "#b5de2b"
             ],
             [
              1,
              "#fde725"
             ]
            ],
            "type": "histogram2d"
           }
          ],
          "histogram2dcontour": [
           {
            "colorbar": {
             "outlinewidth": 1,
             "tickcolor": "rgb(36,36,36)",
             "ticks": "outside"
            },
            "colorscale": [
             [
              0,
              "#440154"
             ],
             [
              0.1111111111111111,
              "#482878"
             ],
             [
              0.2222222222222222,
              "#3e4989"
             ],
             [
              0.3333333333333333,
              "#31688e"
             ],
             [
              0.4444444444444444,
              "#26828e"
             ],
             [
              0.5555555555555556,
              "#1f9e89"
             ],
             [
              0.6666666666666666,
              "#35b779"
             ],
             [
              0.7777777777777778,
              "#6ece58"
             ],
             [
              0.8888888888888888,
              "#b5de2b"
             ],
             [
              1,
              "#fde725"
             ]
            ],
            "type": "histogram2dcontour"
           }
          ],
          "mesh3d": [
           {
            "colorbar": {
             "outlinewidth": 1,
             "tickcolor": "rgb(36,36,36)",
             "ticks": "outside"
            },
            "type": "mesh3d"
           }
          ],
          "parcoords": [
           {
            "line": {
             "colorbar": {
              "outlinewidth": 1,
              "tickcolor": "rgb(36,36,36)",
              "ticks": "outside"
             }
            },
            "type": "parcoords"
           }
          ],
          "pie": [
           {
            "automargin": true,
            "type": "pie"
           }
          ],
          "scatter": [
           {
            "fillpattern": {
             "fillmode": "overlay",
             "size": 10,
             "solidity": 0.2
            },
            "type": "scatter"
           }
          ],
          "scatter3d": [
           {
            "line": {
             "colorbar": {
              "outlinewidth": 1,
              "tickcolor": "rgb(36,36,36)",
              "ticks": "outside"
             }
            },
            "marker": {
             "colorbar": {
              "outlinewidth": 1,
              "tickcolor": "rgb(36,36,36)",
              "ticks": "outside"
             }
            },
            "type": "scatter3d"
           }
          ],
          "scattercarpet": [
           {
            "marker": {
             "colorbar": {
              "outlinewidth": 1,
              "tickcolor": "rgb(36,36,36)",
              "ticks": "outside"
             }
            },
            "type": "scattercarpet"
           }
          ],
          "scattergeo": [
           {
            "marker": {
             "colorbar": {
              "outlinewidth": 1,
              "tickcolor": "rgb(36,36,36)",
              "ticks": "outside"
             }
            },
            "type": "scattergeo"
           }
          ],
          "scattergl": [
           {
            "marker": {
             "colorbar": {
              "outlinewidth": 1,
              "tickcolor": "rgb(36,36,36)",
              "ticks": "outside"
             }
            },
            "type": "scattergl"
           }
          ],
          "scattermapbox": [
           {
            "marker": {
             "colorbar": {
              "outlinewidth": 1,
              "tickcolor": "rgb(36,36,36)",
              "ticks": "outside"
             }
            },
            "type": "scattermapbox"
           }
          ],
          "scatterpolar": [
           {
            "marker": {
             "colorbar": {
              "outlinewidth": 1,
              "tickcolor": "rgb(36,36,36)",
              "ticks": "outside"
             }
            },
            "type": "scatterpolar"
           }
          ],
          "scatterpolargl": [
           {
            "marker": {
             "colorbar": {
              "outlinewidth": 1,
              "tickcolor": "rgb(36,36,36)",
              "ticks": "outside"
             }
            },
            "type": "scatterpolargl"
           }
          ],
          "scatterternary": [
           {
            "marker": {
             "colorbar": {
              "outlinewidth": 1,
              "tickcolor": "rgb(36,36,36)",
              "ticks": "outside"
             }
            },
            "type": "scatterternary"
           }
          ],
          "surface": [
           {
            "colorbar": {
             "outlinewidth": 1,
             "tickcolor": "rgb(36,36,36)",
             "ticks": "outside"
            },
            "colorscale": [
             [
              0,
              "#440154"
             ],
             [
              0.1111111111111111,
              "#482878"
             ],
             [
              0.2222222222222222,
              "#3e4989"
             ],
             [
              0.3333333333333333,
              "#31688e"
             ],
             [
              0.4444444444444444,
              "#26828e"
             ],
             [
              0.5555555555555556,
              "#1f9e89"
             ],
             [
              0.6666666666666666,
              "#35b779"
             ],
             [
              0.7777777777777778,
              "#6ece58"
             ],
             [
              0.8888888888888888,
              "#b5de2b"
             ],
             [
              1,
              "#fde725"
             ]
            ],
            "type": "surface"
           }
          ],
          "table": [
           {
            "cells": {
             "fill": {
              "color": "rgb(237,237,237)"
             },
             "line": {
              "color": "white"
             }
            },
            "header": {
             "fill": {
              "color": "rgb(217,217,217)"
             },
             "line": {
              "color": "white"
             }
            },
            "type": "table"
           }
          ]
         },
         "layout": {
          "annotationdefaults": {
           "arrowhead": 0,
           "arrowwidth": 1
          },
          "autotypenumbers": "strict",
          "coloraxis": {
           "colorbar": {
            "outlinewidth": 1,
            "tickcolor": "rgb(36,36,36)",
            "ticks": "outside"
           }
          },
          "colorscale": {
           "diverging": [
            [
             0,
             "rgb(103,0,31)"
            ],
            [
             0.1,
             "rgb(178,24,43)"
            ],
            [
             0.2,
             "rgb(214,96,77)"
            ],
            [
             0.3,
             "rgb(244,165,130)"
            ],
            [
             0.4,
             "rgb(253,219,199)"
            ],
            [
             0.5,
             "rgb(247,247,247)"
            ],
            [
             0.6,
             "rgb(209,229,240)"
            ],
            [
             0.7,
             "rgb(146,197,222)"
            ],
            [
             0.8,
             "rgb(67,147,195)"
            ],
            [
             0.9,
             "rgb(33,102,172)"
            ],
            [
             1,
             "rgb(5,48,97)"
            ]
           ],
           "sequential": [
            [
             0,
             "#440154"
            ],
            [
             0.1111111111111111,
             "#482878"
            ],
            [
             0.2222222222222222,
             "#3e4989"
            ],
            [
             0.3333333333333333,
             "#31688e"
            ],
            [
             0.4444444444444444,
             "#26828e"
            ],
            [
             0.5555555555555556,
             "#1f9e89"
            ],
            [
             0.6666666666666666,
             "#35b779"
            ],
            [
             0.7777777777777778,
             "#6ece58"
            ],
            [
             0.8888888888888888,
             "#b5de2b"
            ],
            [
             1,
             "#fde725"
            ]
           ],
           "sequentialminus": [
            [
             0,
             "#440154"
            ],
            [
             0.1111111111111111,
             "#482878"
            ],
            [
             0.2222222222222222,
             "#3e4989"
            ],
            [
             0.3333333333333333,
             "#31688e"
            ],
            [
             0.4444444444444444,
             "#26828e"
            ],
            [
             0.5555555555555556,
             "#1f9e89"
            ],
            [
             0.6666666666666666,
             "#35b779"
            ],
            [
             0.7777777777777778,
             "#6ece58"
            ],
            [
             0.8888888888888888,
             "#b5de2b"
            ],
            [
             1,
             "#fde725"
            ]
           ]
          },
          "colorway": [
           "#1F77B4",
           "#FF7F0E",
           "#2CA02C",
           "#D62728",
           "#9467BD",
           "#8C564B",
           "#E377C2",
           "#7F7F7F",
           "#BCBD22",
           "#17BECF"
          ],
          "font": {
           "color": "rgb(36,36,36)"
          },
          "geo": {
           "bgcolor": "white",
           "lakecolor": "white",
           "landcolor": "white",
           "showlakes": true,
           "showland": true,
           "subunitcolor": "white"
          },
          "hoverlabel": {
           "align": "left"
          },
          "hovermode": "closest",
          "mapbox": {
           "style": "light"
          },
          "paper_bgcolor": "white",
          "plot_bgcolor": "white",
          "polar": {
           "angularaxis": {
            "gridcolor": "rgb(232,232,232)",
            "linecolor": "rgb(36,36,36)",
            "showgrid": false,
            "showline": true,
            "ticks": "outside"
           },
           "bgcolor": "white",
           "radialaxis": {
            "gridcolor": "rgb(232,232,232)",
            "linecolor": "rgb(36,36,36)",
            "showgrid": false,
            "showline": true,
            "ticks": "outside"
           }
          },
          "scene": {
           "xaxis": {
            "backgroundcolor": "white",
            "gridcolor": "rgb(232,232,232)",
            "gridwidth": 2,
            "linecolor": "rgb(36,36,36)",
            "showbackground": true,
            "showgrid": false,
            "showline": true,
            "ticks": "outside",
            "zeroline": false,
            "zerolinecolor": "rgb(36,36,36)"
           },
           "yaxis": {
            "backgroundcolor": "white",
            "gridcolor": "rgb(232,232,232)",
            "gridwidth": 2,
            "linecolor": "rgb(36,36,36)",
            "showbackground": true,
            "showgrid": false,
            "showline": true,
            "ticks": "outside",
            "zeroline": false,
            "zerolinecolor": "rgb(36,36,36)"
           },
           "zaxis": {
            "backgroundcolor": "white",
            "gridcolor": "rgb(232,232,232)",
            "gridwidth": 2,
            "linecolor": "rgb(36,36,36)",
            "showbackground": true,
            "showgrid": false,
            "showline": true,
            "ticks": "outside",
            "zeroline": false,
            "zerolinecolor": "rgb(36,36,36)"
           }
          },
          "shapedefaults": {
           "fillcolor": "black",
           "line": {
            "width": 0
           },
           "opacity": 0.3
          },
          "ternary": {
           "aaxis": {
            "gridcolor": "rgb(232,232,232)",
            "linecolor": "rgb(36,36,36)",
            "showgrid": false,
            "showline": true,
            "ticks": "outside"
           },
           "baxis": {
            "gridcolor": "rgb(232,232,232)",
            "linecolor": "rgb(36,36,36)",
            "showgrid": false,
            "showline": true,
            "ticks": "outside"
           },
           "bgcolor": "white",
           "caxis": {
            "gridcolor": "rgb(232,232,232)",
            "linecolor": "rgb(36,36,36)",
            "showgrid": false,
            "showline": true,
            "ticks": "outside"
           }
          },
          "title": {
           "x": 0.05
          },
          "xaxis": {
           "automargin": true,
           "gridcolor": "rgb(232,232,232)",
           "linecolor": "rgb(36,36,36)",
           "showgrid": false,
           "showline": true,
           "ticks": "outside",
           "title": {
            "standoff": 15
           },
           "zeroline": false,
           "zerolinecolor": "rgb(36,36,36)"
          },
          "yaxis": {
           "automargin": true,
           "gridcolor": "rgb(232,232,232)",
           "linecolor": "rgb(36,36,36)",
           "showgrid": false,
           "showline": true,
           "ticks": "outside",
           "title": {
            "standoff": 15
           },
           "zeroline": false,
           "zerolinecolor": "rgb(36,36,36)"
          }
         }
        },
        "title": {
         "text": "Ebola cases reported by month in West Africa 2014<br> Source: <a href=\"https://data.hdx.rwlabs.org/dataset/rowca-ebola-cases\">HDX</a>"
        }
       }
      }
     },
     "metadata": {},
     "output_type": "display_data"
    }
   ],
   "source": [
    "import plotly.graph_objects as go\n",
    "\n",
    "import pandas as pd\n",
    "\n",
    "df = pd.read_csv('https://raw.githubusercontent.com/plotly/datasets/master/2014_ebola.csv')\n",
    "df.head()\n",
    "\n",
    "colors = ['rgb(239,243,255)','rgb(189,215,231)','rgb(107,174,214)','rgb(33,113,181)']\n",
    "\n",
    "\n",
    "fig = go.Figure()\n",
    "\n",
    "for i in range(6,10)[::-1]:\n",
    "    df_month = df.query('Month == %d' %i)\n",
    "    fig.add_trace(go.Scattergeo(\n",
    "            lon = df_month['Lon'],\n",
    "            lat = df_month['Lat'],\n",
    "            text = df_month['Value'],\n",
    "            name = months[i],\n",
    "            marker = dict(\n",
    "                size = df_month['Value']/50,\n",
    "                color = colors[i-6],\n",
    "                line_width = 0\n",
    "            )))\n",
    "\n",
    "df_sept = df.query('Month == 9')\n",
    "fig['data'][0].update(mode='markers+text', textposition='bottom center',\n",
    "                      text=df_sept['Value'].map('{:.0f}'.format).astype(str)+' '+\\\n",
    "                      df_sept['Country'])\n",
    "\n",
    "# Inset\n",
    "fig.add_trace(go.Choropleth(\n",
    "        locationmode = 'country names',\n",
    "        locations = df_sept['Country'],\n",
    "        z = df_sept['Value'],\n",
    "        text = df_sept['Country'],\n",
    "        colorscale = [[0,'rgb(0, 0, 0)'],[1,'rgb(0, 0, 0)']],\n",
    "        autocolorscale = False,\n",
    "        showscale = False,\n",
    "        geo = 'geo2'\n",
    "    ))\n",
    "fig.add_trace(go.Scattergeo(\n",
    "        lon = [21.0936],\n",
    "        lat = [7.1881],\n",
    "        text = ['Africa'],\n",
    "        mode = 'text',\n",
    "        showlegend = False,\n",
    "        geo = 'geo2'\n",
    "    ))\n",
    "\n",
    "fig.update_layout(\n",
    "    title = go.layout.Title(\n",
    "        text = 'Ebola cases reported by month in West Africa 2014<br> \\\n",
    "Source: <a href=\"https://data.hdx.rwlabs.org/dataset/rowca-ebola-cases\">\\\n",
    "HDX</a>'),\n",
    "    geo = go.layout.Geo(\n",
    "        resolution = 50,\n",
    "        scope = 'africa',\n",
    "        showframe = False,\n",
    "        showcoastlines = True,\n",
    "        landcolor = \"rgb(229, 229, 229)\",\n",
    "        countrycolor = \"white\" ,\n",
    "        coastlinecolor = \"white\",\n",
    "        projection_type = 'mercator',\n",
    "        lonaxis_range= [ -15.0, -5.0 ],\n",
    "        lataxis_range= [ 0.0, 12.0 ],\n",
    "        domain = dict(x = [ 0, 1 ], y = [ 0, 1 ])\n",
    "    ),\n",
    "    geo2 = go.layout.Geo(\n",
    "        scope = 'africa',\n",
    "        showframe = False,\n",
    "        landcolor = \"rgb(229, 229, 229)\",\n",
    "        showcountries = False,\n",
    "        domain = dict(x = [ 0, 0.6 ], y = [ 0, 0.6 ]),\n",
    "        bgcolor = 'rgba(255, 255, 255, 0.0)',\n",
    "    ),\n",
    "    legend_traceorder = 'reversed'\n",
    ")\n",
    "\n",
    "fig.show()"
   ]
  },
  {
   "cell_type": "code",
   "execution_count": null,
   "metadata": {},
   "outputs": [],
   "source": []
  },
  {
   "cell_type": "markdown",
   "metadata": {},
   "source": [
    "# Analysis  female artists nationalities"
   ]
  },
  {
   "cell_type": "markdown",
   "metadata": {},
   "source": [
    "Tot female artists = 2301/15222\n"
   ]
  },
  {
   "cell_type": "code",
   "execution_count": 284,
   "metadata": {},
   "outputs": [
    {
     "data": {
      "text/plain": [
       "15222"
      ]
     },
     "execution_count": 284,
     "metadata": {},
     "output_type": "execute_result"
    }
   ],
   "source": [
    "len(moma_artists)"
   ]
  },
  {
   "cell_type": "code",
   "execution_count": 285,
   "metadata": {},
   "outputs": [],
   "source": [
    "moma_girls = moma_artists[moma_artists[\"Gender\"].str.contains(r'F')]"
   ]
  },
  {
   "cell_type": "code",
   "execution_count": 286,
   "metadata": {},
   "outputs": [
    {
     "data": {
      "text/plain": [
       "71"
      ]
     },
     "execution_count": 286,
     "metadata": {},
     "output_type": "execute_result"
    }
   ],
   "source": [
    "list_galsNats = set(moma_girls.Nationality)\n",
    "len(list_galsNats)"
   ]
  },
  {
   "cell_type": "code",
   "execution_count": 287,
   "metadata": {},
   "outputs": [
    {
     "data": {
      "text/html": [
       "<div>\n",
       "<style scoped>\n",
       "    .dataframe tbody tr th:only-of-type {\n",
       "        vertical-align: middle;\n",
       "    }\n",
       "\n",
       "    .dataframe tbody tr th {\n",
       "        vertical-align: top;\n",
       "    }\n",
       "\n",
       "    .dataframe thead th {\n",
       "        text-align: right;\n",
       "    }\n",
       "</style>\n",
       "<table border=\"1\" class=\"dataframe\">\n",
       "  <thead>\n",
       "    <tr style=\"text-align: right;\">\n",
       "      <th></th>\n",
       "      <th>Nationality</th>\n",
       "      <th>Artists Count</th>\n",
       "    </tr>\n",
       "  </thead>\n",
       "  <tbody>\n",
       "    <tr>\n",
       "      <th>0</th>\n",
       "      <td>American</td>\n",
       "      <td>1100</td>\n",
       "    </tr>\n",
       "    <tr>\n",
       "      <th>1</th>\n",
       "      <td>German</td>\n",
       "      <td>148</td>\n",
       "    </tr>\n",
       "    <tr>\n",
       "      <th>2</th>\n",
       "      <td>British</td>\n",
       "      <td>113</td>\n",
       "    </tr>\n",
       "    <tr>\n",
       "      <th>3</th>\n",
       "      <td>French</td>\n",
       "      <td>69</td>\n",
       "    </tr>\n",
       "    <tr>\n",
       "      <th>4</th>\n",
       "      <td>Japanese</td>\n",
       "      <td>58</td>\n",
       "    </tr>\n",
       "    <tr>\n",
       "      <th>5</th>\n",
       "      <td>Austrian</td>\n",
       "      <td>43</td>\n",
       "    </tr>\n",
       "    <tr>\n",
       "      <th>6</th>\n",
       "      <td>Brazilian</td>\n",
       "      <td>41</td>\n",
       "    </tr>\n",
       "    <tr>\n",
       "      <th>7</th>\n",
       "      <td>Italian</td>\n",
       "      <td>41</td>\n",
       "    </tr>\n",
       "    <tr>\n",
       "      <th>8</th>\n",
       "      <td>Canadian</td>\n",
       "      <td>41</td>\n",
       "    </tr>\n",
       "    <tr>\n",
       "      <th>9</th>\n",
       "      <td>Russian</td>\n",
       "      <td>39</td>\n",
       "    </tr>\n",
       "  </tbody>\n",
       "</table>\n",
       "</div>"
      ],
      "text/plain": [
       "  Nationality  Artists Count\n",
       "0    American           1100\n",
       "1      German            148\n",
       "2     British            113\n",
       "3      French             69\n",
       "4    Japanese             58\n",
       "5    Austrian             43\n",
       "6   Brazilian             41\n",
       "7     Italian             41\n",
       "8    Canadian             41\n",
       "9     Russian             39"
      ]
     },
     "execution_count": 287,
     "metadata": {},
     "output_type": "execute_result"
    }
   ],
   "source": [
    "f_artist_nats_count = pd.DataFrame(columns=['Nationality', 'Artists Count'])\n",
    "for nat in list_galsNats:\n",
    "    that_nat_artists = moma_girls[moma_girls[\"Nationality\"].str.contains(nat)]\n",
    "    nat_row = [nat, len(that_nat_artists)]\n",
    "    #print(nat_row)\n",
    "    f_artist_nats_count.loc[len(f_artist_nats_count.index)] = nat_row\n",
    "\n",
    "f_artist_nats_count_top = f_artist_nats_count[f_artist_nats_count['Nationality']!= 'missing']\n",
    "f_artist_nats_count_top.sort_values(by=['Artists Count'], ascending=False, ignore_index=True)[:10]\n",
    "\n"
   ]
  },
  {
   "cell_type": "code",
   "execution_count": 288,
   "metadata": {},
   "outputs": [
    {
     "data": {
      "text/plain": [
       "71"
      ]
     },
     "execution_count": 288,
     "metadata": {},
     "output_type": "execute_result"
    }
   ],
   "source": [
    "len(f_artist_nats_count)"
   ]
  },
  {
   "cell_type": "code",
   "execution_count": 289,
   "metadata": {},
   "outputs": [
    {
     "data": {
      "text/plain": [
       "<bound method NDFrame.head of             Nationality  Artists Count\n",
       "0               Spanish             18\n",
       "1               British            113\n",
       "2               Italian             41\n",
       "3             Pakistani              3\n",
       "4              Japanese             58\n",
       "5              Canadian             41\n",
       "6              Peruvian              6\n",
       "7            Paraguayan              1\n",
       "8                 Dutch             37\n",
       "9               Iranian              4\n",
       "10            Taiwanese              2\n",
       "11             Bahamian              1\n",
       "12              Finnish             13\n",
       "13              Chinese             12\n",
       "14               Afghan              1\n",
       "15             Algerian              1\n",
       "16                Greek              1\n",
       "17              Belgian              9\n",
       "18            Brazilian             41\n",
       "19            Slovenian              2\n",
       "20                Swiss             32\n",
       "21            Icelandic              5\n",
       "22              Kuwaiti              1\n",
       "23                Welsh              1\n",
       "24           Guatemalan              1\n",
       "25              Chilean             15\n",
       "26              Turkish              5\n",
       "27                Irish              4\n",
       "28              Russian             39\n",
       "29           Australian              7\n",
       "30           Portuguese              2\n",
       "31             Scottish              4\n",
       "32             Romanian              1\n",
       "33              Mexican             19\n",
       "34            Hungarian              6\n",
       "35             Moroccan              2\n",
       "36             American           1100\n",
       "37            Argentine             27\n",
       "38             Georgian              2\n",
       "39      Native American              3\n",
       "40            Malaysian              1\n",
       "41           Venezuelan             12\n",
       "42             Egyptian              3\n",
       "43             Croatian              2\n",
       "44           Macedonian              2\n",
       "45             Austrian             43\n",
       "46  Nationality unknown             11\n",
       "47              Bosnian              3\n",
       "48              Serbian              1\n",
       "49             Yugoslav              4\n",
       "50            Colombian             11\n",
       "52              Israeli             21\n",
       "53               Indian             13\n",
       "54            Uruguayan              1\n",
       "55               German            148\n",
       "56                Cuban              9\n",
       "57        New Zealander              2\n",
       "58        South African             20\n",
       "59             Lebanese              3\n",
       "60          Palestinian              2\n",
       "61               Slovak              2\n",
       "62               French             69\n",
       "63               Polish             21\n",
       "64               Korean              5\n",
       "65                Czech              8\n",
       "66              Emirati              1\n",
       "67            Norwegian              6\n",
       "68              Swedish             20\n",
       "69               Kenyan              1\n",
       "70               Danish             11>"
      ]
     },
     "execution_count": 289,
     "metadata": {},
     "output_type": "execute_result"
    }
   ],
   "source": [
    "f_artist_nats_count_top.head"
   ]
  },
  {
   "cell_type": "code",
   "execution_count": null,
   "metadata": {},
   "outputs": [],
   "source": []
  }
 ],
 "metadata": {
  "interpreter": {
   "hash": "aee8b7b246df8f9039afb4144a1f6fd8d2ca17a180786b69acc140d282b71a49"
  },
  "kernelspec": {
   "display_name": "Python 3.9.4 64-bit",
   "language": "python",
   "name": "python3"
  },
  "language_info": {
   "codemirror_mode": {
    "name": "ipython",
    "version": 3
   },
   "file_extension": ".py",
   "mimetype": "text/x-python",
   "name": "python",
   "nbconvert_exporter": "python",
   "pygments_lexer": "ipython3",
   "version": "3.9.4"
  },
  "orig_nbformat": 4
 },
 "nbformat": 4,
 "nbformat_minor": 2
}
