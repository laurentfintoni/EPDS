{
 "cells": [
  {
   "cell_type": "code",
   "execution_count": 222,
   "metadata": {},
   "outputs": [],
   "source": [
    "import seaborn as sns\n",
    "import matplotlib.pyplot as plt\n",
    "import matplotlib.ticker as ticker\n",
    "import pandas as pd\n",
    "import plotly.express as px\n",
    "import plotly.graph_objects as go\n",
    "import numpy as np\n",
    "import plotly.io as pio\n",
    "from wordcloud import *\n",
    "from functools import reduce\n",
    "from PIL import Image\n",
    "pd.set_option('display.max_rows', 200)\n",
    "from statsmodels.graphics.mosaicplot import mosaic\n",
    "from plotly.subplots import make_subplots\n",
    "pio.templates.default = \"simple_white\"\n",
    "\n",
    "path = './'\n",
    "\n",
    "#complete DFs\n",
    "rhz_artworks = pd.read_pickle(path+'Rhizome_data/rhizome_artworks_extra.pkl')\n",
    "rhz_artists = pd.read_pickle(path+'Rhizome_data/rhizome_artists_extra.pkl')\n",
    "moma_artists = pd.read_pickle(path+'MOMA_data/pickle/MoMAArtists.pkl')\n",
    "moma_artworks = pd.read_pickle(path+'MOMA_data/pickle/MoMAartworks.pkl')\n",
    "moma_artworks_old =  pd.read_pickle(path+'MOMA_data/pickle/old_artworks.pkl')\n",
    "\n",
    "# moma_artworks_old.loc[:,'DateAcquired'] = moma_artworks_old['DateAcquired'].where((moma_artworks_old['DateAcquired'].str.len() <= 4), moma_artworks_old['DateAcquired'].str[0:4])\n",
    "# moma_artworks_old['DateAcquired'] = moma_artworks_old['DateAcquired'].replace('nan', str('0'))\n",
    "# moma_artworks_old['DateAcquired']=moma_artworks_old['DateAcquired'].astype('int')\n",
    "moma_artworks_new = pd.read_pickle(path+'MOMA_data/pickle/new_artworks.pkl')\n",
    "# moma_artworks_new.loc[:,'DateAcquired'] = moma_artworks_new['DateAcquired'].where((moma_artworks_new['DateAcquired'].str.len() <= 4), moma_artworks_new['DateAcquired'].str[0:4])\n",
    "# moma_artworks_new['DateAcquired'] = moma_artworks_new['DateAcquired'].replace('nan', str('0'))\n",
    "# moma_artworks_new['DateAcquired']=moma_artworks_new['DateAcquired'].astype('int')\n",
    "# moma_artworks = pd.concat([moma_artworks_old, moma_artworks_new])\n",
    "moma_rhz_compare = moma_artworks_new.loc[moma_artworks_new['dateAcquired'] >= 2000]\n",
    "moma_rhz_compare = moma_rhz_compare.loc[moma_rhz_compare['dateCreated'] >= 1983]\n",
    "\n",
    "#MoMA department DFs\n",
    "moma_arch_cont = pd.read_pickle(path+'MOMA_data/pickle/departments/architecture_design_cont.pkl')\n",
    "moma_arch_mod = pd.read_pickle(path+'MOMA_data/pickle/departments/architecture_design_mod.pkl')\n",
    "moma_arch = pd.concat([moma_arch_cont, moma_arch_mod])\n",
    "moma_design_cont = pd.read_pickle(path+'MOMA_data/pickle/departments/architecture_design_img_cont.pkl')\n",
    "moma_design_mod = pd.read_pickle(path+'MOMA_data/pickle/departments/architecture_design_img_mod.pkl')\n",
    "moma_design = pd.concat([moma_design_cont, moma_design_mod])\n",
    "moma_draw_cont = pd.read_pickle(path+'MOMA_data/pickle/departments/draws_prints_cont.pkl')\n",
    "moma_draw_mod = pd.read_pickle(path+'MOMA_data/pickle/departments/draws_prints_mod.pkl')\n",
    "moma_draw = pd.concat([moma_draw_cont, moma_draw_mod]) \n",
    "moma_films_cont = pd.read_pickle(path+'MOMA_data/pickle/departments/films_cont.pkl')\n",
    "moma_films_mod = pd.read_pickle(path+'MOMA_data/pickle/departments/films_mod.pkl')\n",
    "moma_films = pd.concat([moma_films_cont, moma_films_mod]) \n",
    "moma_fluxus_cont = pd.read_pickle(path+'MOMA_data/pickle/departments/fluxus_cont.pkl')\n",
    "moma_fluxus_mod = pd.read_pickle(path+'MOMA_data/pickle/departments/fluxus_mod.pkl')\n",
    "moma_fluxus = pd.concat([moma_fluxus_cont, moma_fluxus_mod]) \n",
    "moma_media_cont = pd.read_pickle(path+'MOMA_data/pickle/departments/media_perf_cont.pkl')\n",
    "moma_media_mod = pd.read_pickle(path+'MOMA_data/pickle/departments/media_perf_mod.pkl')\n",
    "moma_media = pd.concat([moma_media_cont, moma_media_mod]) \n",
    "moma_paint_cont = pd.read_pickle(path+'MOMA_data/pickle/departments/paint_sculp_cont.pkl')\n",
    "moma_paint_mod = pd.read_pickle(path+'MOMA_data/pickle/departments/paint_sculp_mod.pkl')\n",
    "moma_paint = pd.concat([moma_paint_cont, moma_paint_mod]) \n",
    "moma_photo_cont = pd.read_pickle(path+'MOMA_data/pickle/departments/photo_cont.pkl')\n",
    "moma_photo_mod = pd.read_pickle(path+'MOMA_data/pickle/departments/photo_mod.pkl')\n",
    "moma_photo = pd.concat([moma_photo_cont, moma_photo_mod]) \n",
    "\n",
    "#Rhizome with text\n",
    "rhizome_txt_clean = pd.read_pickle(path+'Rhizome_data/rhizome_artworks_extra_text_clean.pkl')\n",
    "rhizome_txt_stop_kw = pd.read_pickle(path+'Rhizome_data/rhizome_artworks_extra_text_clean_stop_keywords.pkl')\n",
    "\n",
    "#MoMA with text\n",
    "moma_arch_cont_text = pd.read_pickle(path+'MOMA_data/pickle/departments/architecture_design_cont_text_final.pkl')\n",
    "moma_arch_mod_text = pd.read_pickle(path+'MOMA_data/pickle/departments/architecture_design_mod_text_only_final.pkl')\n",
    "moma_draw_cont_text = pd.read_pickle(path+'MOMA_data/pickle/departments/draws_prints_cont_text_final.pkl')\n",
    "moma_draw_mod_text = pd.read_pickle(path+'MOMA_data/pickle/departments/draws_prints_mod_text_final.pkl')\n",
    "moma_films_cont_text = pd.read_pickle(path+'MOMA_data/pickle/departments/films_cont_text_final.pkl')\n",
    "moma_films_mod_text = pd.read_pickle(path+'MOMA_data/pickle/departments/films_mod_text_final.pkl')\n",
    "moma_fluxus_cont_text = pd.read_pickle(path+'MOMA_data/pickle/departments/fluxus_cont_text_final.pkl')\n",
    "moma_fluxus_mod_text = pd.read_pickle(path+'MOMA_data/pickle/departments/fluxus_mod_text_final.pkl')\n",
    "moma_media_cont_text = pd.read_pickle(path+'MOMA_data/pickle/departments/media_perf_cont_text_final.pkl')\n",
    "moma_media_mod_text = pd.read_pickle(path+'MOMA_data/pickle/departments/media_perf_mod_text_final.pkl')\n",
    "moma_paint_cont_text = pd.read_pickle(path+'MOMA_data/pickle/departments/paint_sculp_cont_text_final.pkl')\n",
    "moma_paint_mod_text = pd.read_pickle(path+'MOMA_data/pickle/departments/paint_sculp_mod_text_final.pkl')\n",
    "moma_photo_cont_text = pd.read_pickle(path+'MOMA_data/pickle/departments/photo_cont_text_final.pkl')\n",
    "moma_photo_mod_text = pd.read_pickle(path+'MOMA_data/pickle/departments/photo_mod_text_final.pkl')\n",
    "\n",
    "#moma text stop and keywords\n",
    "moma_arch_cont_text_stop = pd.read_pickle(path+'MOMA_data/pickle/departments/architecture_design_cont_text_final_stop.pkl')\n",
    "moma_arch_mod_text_stop = pd.read_pickle(path+'MOMA_data/pickle/departments/architecture_design_mod_text_only_final_stop.pkl')\n",
    "moma_draw_cont_text_stop = pd.read_pickle(path+'MOMA_data/pickle/departments/draws_prints_cont_text_final_stop.pkl')\n",
    "moma_draw_mod_text_stop = pd.read_pickle(path+'MOMA_data/pickle/departments/draws_prints_mod_text_final_stop.pkl')\n",
    "moma_films_cont_text_stop = pd.read_pickle(path+'MOMA_data/pickle/departments/films_cont_text_final_stop.pkl')\n",
    "moma_films_mod_text_stop = pd.read_pickle(path+'MOMA_data/pickle/departments/films_mod_text_final_stop.pkl')\n",
    "moma_media_cont_text_stop = pd.read_pickle(path+'MOMA_data/pickle/departments/media_perf_cont_text_final_stop.pkl')\n",
    "moma_media_mod_text_stop = pd.read_pickle(path+'MOMA_data/pickle/departments/media_perf_mod_text_final_stop.pkl')\n",
    "moma_paint_cont_text_stop = pd.read_pickle(path+'MOMA_data/pickle/departments/paint_sculp_cont_text_final_stop.pkl')\n",
    "moma_paint_mod_text_stop = pd.read_pickle(path+'MOMA_data/pickle/departments/paint_sculp_mod_text_final_stop.pkl')\n",
    "moma_photo_cont_text_stop = pd.read_pickle(path+'MOMA_data/pickle/departments/photo_cont_text_final_stop.pkl')\n",
    "moma_photo_mod_text_stop = pd.read_pickle(path+'MOMA_data/pickle/departments/photo_mod_text_final_stop.pkl')\n",
    "moma_full_text_stop = pd.concat([moma_arch_cont_text_stop, moma_draw_cont_text_stop, moma_draw_mod_text_stop, moma_films_cont_text_stop, moma_films_mod_text_stop, moma_media_cont_text_stop, moma_media_mod_text_stop, moma_paint_cont_text_stop, moma_paint_mod_text_stop, moma_photo_cont_text_stop, moma_photo_mod_text_stop])\n",
    "\n",
    "\n",
    "#additional dfs made for support \n",
    "df_nats_MomaFull = pd.concat([moma_artworks_old,moma_artworks_new])"
   ]
  },
  {
   "cell_type": "code",
   "execution_count": 223,
   "metadata": {},
   "outputs": [],
   "source": [
    "def getDecade(date):\n",
    "    decade = str(date)[:-1]\n",
    "    if decade == '':\n",
    "       decade = '0'\n",
    "    decade_int = int(decade)*10\n",
    "    return decade_int"
   ]
  },
  {
   "cell_type": "code",
   "execution_count": 224,
   "metadata": {},
   "outputs": [],
   "source": [
    "#colorscales\n",
    "momacolorscale = ['#FFC0CB', '#FF69B4', '#DB7093', '#C71585', '#E6E6FA', '#DDA0DD', '#EE82EE', '#9932CC', '#8B008B', '#9370DB', '#483D8B', '#4B0082', '#FA8072', '#DC143C', '#8B0000', '#FF8C00', '#FF4500', '#FFD700', '#FFFF00', '#F0E68C', '#7FFF00', '#32CD32', '#90EE90', '#00FA9A', '#3CB371', '#006400', '#9ACD32', '#6B8E23', '#66CDAA', '#20B2AA', '#5F9EA0', '#4682B4', '#B0C4DE', '#87CEFA', '#6495ED', '#00BFFF', '#1E90FF', '#0000CD', '#191970', '#FFDEAD', '#DEB887', '#BC8F8F', '#DAA520', '#B8860B', '#D2691E', '#8B4513', '#A52A2A', '#F0FFF0', '#708090', '#2F4F4F', '#696969', '#8FBC8F', '#00CED1' ]\n",
    "rhzcolorscale = ['#FFFAFA','#FFC0CB', '#FF69B4', '#DB7093', '#C71585', '#E6E6FA', '#DDA0DD', '#EE82EE', '#9932CC', '#8B008B', '#9370DB', '#483D8B', '#4B0082', '#FA8072', '#DC143C', '#8B0000', '#FF8C00', '#FF4500', '#FFD700', '#FFFF00', '#F0E68C', '#7FFF00', '#32CD32', '#90EE90', '#00FA9A', '#3CB371', '#006400', '#9ACD32', '#6B8E23', '#66CDAA', '#20B2AA', '#5F9EA0', '#4682B4', '#B0C4DE', '#87CEFA', '#6495ED', '#00BFFF', '#1E90FF', '#0000CD', '#191970', '#FFDEAD', '#DEB887', '#BC8F8F', '#DAA520', '#B8860B', '#D2691E', '#8B4513', '#A52A2A', '#F0FFF0', '#708090', '#2F4F4F', '#696969', '#8FBC8F', '#00CED1', '#F0FFF0', '#F0FFFF', '#F5F5DC', '#FFFFF0', '#FFE4E1' ]\n"
   ]
  },
  {
   "cell_type": "code",
   "execution_count": 225,
   "metadata": {},
   "outputs": [],
   "source": [
    "moma_artworks_old['Period'] ='Before 1983'\n",
    "moma_artworks_new['Period'] = 'After 1983'\n",
    "\n"
   ]
  },
  {
   "cell_type": "code",
   "execution_count": 226,
   "metadata": {},
   "outputs": [
    {
     "name": "stdout",
     "output_type": "stream",
     "text": [
      "Architecture & Design {'Romanian', 'Hungarian', 'Macedonian', 'Portuguese', 'Uruguayan', 'Turkish', 'Venezuelan', 'Chilean', 'missing', 'Danish', 'Dutch', 'Spanish', 'Peruvian', 'South African', 'Puerto Rican', 'French', 'Mexican', 'Argentine', 'Norwegian', 'Belgian', 'German', 'Croatian', 'Japanese', 'Greek', 'Serbian', 'British', 'Israeli', 'Italian', 'Czech', 'Vietnamese', 'Lebanese', 'Scottish', 'Egyptian', 'Indian', 'Algerian', 'Canadian', 'Swedish', 'Ukrainian', 'Coptic', 'Sahrawi', 'Swiss', 'Polish', 'Bosnian', 'Korean', 'Icelandic', 'Iranian', 'Luxembourgish', 'Taiwanese', 'Finnish', 'Chinese', 'Bulgarian', 'Cypriot', 'Slovak', 'Persian', 'American', 'Welsh', 'New Zealander', 'Nationality unknown', 'Moroccan', 'Yugoslav', 'Russian', 'Czechoslovakian', 'Brazilian', 'Irish', 'Austrian', 'Australian', 'Colombian', 'Latvian', 'Cuban', 'Slovenian'}\n",
      "Film {'Romanian', 'Hungarian', 'Macedonian', 'Uruguayan', 'Turkish', 'Venezuelan', 'Chilean', 'missing', 'Danish', 'Dutch', 'Spanish', 'South African', 'French', 'Mexican', 'Argentine', 'Belgian', 'German', 'Kenyan', 'Japanese', 'Malaysian', 'Greek', 'Serbian', 'British', 'Filipino', 'Italian', 'Egyptian', 'Algerian', 'Canadian', 'Swedish', 'Ukrainian', 'Polish', 'Swiss', 'Bosnian', 'Senegalese', 'Korean', 'Iranian', 'Georgian', 'Finnish', 'Chinese', 'American', 'New Zealander', 'Nationality unknown', 'Yugoslav', 'Russian', 'Lithuanian', 'Brazilian', 'Austrian', 'Australian', 'Palestinian', 'Thai', 'Portuguese'}\n",
      "Painting & Sculpture {'Romanian', 'Hungarian', 'Ghanaian', 'Guatemalan', 'Uruguayan', 'Turkish', 'Tanzanian', 'Venezuelan', 'Chilean', 'Peruvian', 'Danish', 'Dutch', 'Spanish', 'missing', 'Congolese', 'Bolivian', 'French', 'Mexican', 'Argentine', 'South African', 'Norwegian', 'Belgian', 'Beninese', 'Haitian', 'German', 'Croatian', 'Sudanese', 'Japanese', 'Greek', 'British', 'Israeli', 'Italian', 'Czech', 'Lebanese', 'Scottish', 'Egyptian', 'Indian', 'Canadian', 'Nicaraguan', 'Salvadoran', 'Swedish', 'Ukrainian', 'Polish', 'Swiss', 'Bosnian', 'Korean', 'Senegalese', 'Icelandic', 'Iranian', 'Georgian', 'Chinese', 'American', 'New Zealander', 'Moroccan', 'Pakistani', 'Guyanese', 'Yugoslav', 'Russian', 'Zimbabwean', 'Bahamian', 'Brazilian', 'Irish', 'Austrian', 'Australian', 'Colombian', 'Latvian', 'Cuban', 'Thai', 'Slovenian'}\n",
      "Fluxus Collection {'Canadian', 'Japanese', 'Swedish', 'American', 'New Zealander', 'British', 'Polish', 'Swiss', 'missing', 'Czech', 'Dutch', 'Danish', 'Italian', 'Lithuanian', 'French', 'German'}\n",
      "Photography {'Romanian', 'Hungarian', 'Portuguese', 'Turkish', 'Venezuelan', 'Chilean', 'missing', 'Peruvian', 'Dutch', 'South African', 'Congolese', 'Spanish', 'Danish', 'French', 'Mexican', 'Argentine', 'Norwegian', 'Belgian', 'German', 'Croatian', 'Japanese', 'Malaysian', 'Greek', 'Serbian', 'British', 'Israeli', 'Filipino', 'Czech', 'Italian', 'Lebanese', 'Scottish', 'Egyptian', 'Indian', 'Canadian', 'Swedish', 'Ukrainian', 'Ethiopian', 'Swiss', 'Polish', 'Malian', 'Bosnian', 'Burkinabe', 'Korean', 'Icelandic', 'Iranian', 'Luxembourgish', 'Chinese', 'Native American', 'Nigerian', 'American', 'Nationality unknown', 'Moroccan', 'Emirati', 'Russian', 'Lithuanian', 'Brazilian', 'Irish', 'Austrian', 'Australian', 'Cambodian', 'Colombian', 'Cuban', 'Latvian'}\n",
      "Media and Performance {'Romanian', 'Hungarian', 'Bangladeshi', 'Uruguayan', 'Guatemalan', 'Turkish', 'Venezuelan', 'Chilean', 'missing', 'Peruvian', 'Dutch', 'South African', 'Spanish', 'Danish', 'French', 'Mexican', 'Argentine', 'Belgian', 'German', 'Croatian', 'Japanese', 'British', 'Israeli', 'Italian', 'Czech', 'Vietnamese', 'Lebanese', 'Scottish', 'Egyptian', 'Indian', 'Algerian', 'Canadian', 'Afghan', 'Swedish', 'Ukrainian', 'Albanian', 'Swiss', 'Polish', 'Korean', 'Icelandic', 'Iranian', 'Taiwanese', 'Georgian', 'Finnish', 'Chinese', 'Slovak', 'Native American', 'American', 'New Zealander', 'Moroccan', 'Pakistani', 'Yugoslav', 'Russian', 'Singaporean', 'Kyrgyzstani', 'Brazilian', 'Irish', 'Austrian', 'Australian', 'Lithuanian', 'Colombian', 'Palestinian', 'Cuban'}\n",
      "Drawings & Prints {'Ghanaian', 'Ivorian', 'Catalan', 'Dutch', 'Spanish', 'South African', 'Belgian', 'Haitian', 'Croatian', 'Cameroonian', 'Sudanese', 'Italian', 'Indian', 'Ukrainian', 'Bosnian', 'Finnish', 'Chinese', 'Bulgarian', 'Slovak', 'Nigerian', 'New Zealander', 'Pakistani', 'Singaporean', 'Australian', 'Colombian', 'Thai', 'Hungarian', 'Costa Rican', 'Chilean', 'Danish', 'Bolivian', 'Mexican', 'Argentine', 'Azerbaijani', 'Paraguayan', 'Malaysian', 'British', 'Israeli', 'Kuwaiti', 'Panamanian', 'Scottish', 'Egyptian', 'Nicaraguan', 'Polish', 'Taiwanese', 'Nationality unknown', 'Yugoslav', 'Russian', 'Zimbabwean', 'Bahamian', 'Austrian', 'Portuguese', 'Romanian', 'Ugandan', 'Turkish', 'Venezuelan', 'missing', 'Norwegian', 'Japanese', 'Serbian', 'Czech', 'Estonian', 'Icelandic', 'Tunisian', 'Ecuadorian', 'Canadian Inuit', 'American', 'Palestinian', 'Slovenian', 'Uruguayan', 'Guatemalan', 'Peruvian', 'French', 'German', 'Namibian', 'Kenyan', 'Greek', 'Filipino', 'Lebanese', 'Algerian', 'Canadian', 'Swedish', 'Ethiopian', 'Albanian', 'Swiss', 'Korean', 'Iranian', 'Georgian', 'Sierra Leonean', 'Welsh', 'Moroccan', 'Lithuanian', 'Brazilian', 'Irish', 'Cuban', 'Latvian'}\n",
      "Architecture & Design - Image Archive {'American', 'German'}\n"
     ]
    }
   ],
   "source": [
    "#make working df for moma complete\n",
    "Moma_by_periods = pd.concat([moma_artworks_old,moma_artworks_new])\n",
    "department = ', '.join(Moma_by_periods.Department)\n",
    "department = list(set(department.split(', ')))\n",
    "df_Moma_by_periods = pd.DataFrame(columns= ['Nationality', 'Department','Period', \"Count\", \"Females\", \"Males\", 'Missing', 'Non-Binary']) \n",
    "\n",
    "OthersMoma = dict()\n",
    "for dep in department:\n",
    "    dep_sub =  Moma_by_periods[Moma_by_periods.Department == dep]  \n",
    "    nats = set(', '.join(dep_sub.Nationality).split(', '))\n",
    "    for nat in nats:\n",
    "        nats_sub = dep_sub[dep_sub.Nationality.str.contains(nat, regex= True, na=False)]\n",
    "        periods = ', '.join(nats_sub.Period)\n",
    "        periods = set(', '.join(nats_sub.Period).split(', '))\n",
    "        for period in periods:\n",
    "            final_sub = nats_sub[nats_sub['Period']==period]\n",
    "            tot = len(final_sub) \n",
    "            period = final_sub.Period.values[0]\n",
    "            f_count = len(final_sub[final_sub.Gender == 'F'])\n",
    "            m_count = len(final_sub[final_sub.Gender == 'M'])\n",
    "            missing_count = len(final_sub[final_sub.Gender == 'missing'])\n",
    "            nonbinary_count = len(final_sub[final_sub.Gender == 'NB'])\n",
    "            # name as others those countries with count less than 5 in a department\n",
    "            if tot < 5:\n",
    "                if dep not in OthersMoma:\n",
    "                    OthersMoma[dep] = set([nat])\n",
    "                else: \n",
    "                    new = OthersMoma[dep]\n",
    "                    new.add(nat)\n",
    "                    OthersMoma[dep] = set(new)\n",
    "                nat = 'Others'\n",
    "            df_Moma_by_periods.loc[len(df_Moma_by_periods.index)] = [nat, dep,period, tot, f_count, m_count, missing_count, nonbinary_count]\n",
    "\n",
    "df_Moma_by_periods = df_Moma_by_periods.groupby(['Nationality','Department', 'Period'],as_index=False).agg({'Count': 'sum','Females': 'sum','Males': 'sum','Missing': 'sum','Non-Binary': 'sum'})\n"
   ]
  },
  {
   "cell_type": "code",
   "execution_count": 227,
   "metadata": {},
   "outputs": [],
   "source": [
    "#make working df for moma complete\n",
    "department = ', '.join(moma_rhz_compare.Department)\n",
    "department = list(set(department.split(', ')))\n",
    "df_Moma_compare = pd.DataFrame(columns= ['Nationality', 'Department','Source', \"Count\", \"Females\", \"Males\", 'Missing', 'Non-Binary']) \n",
    "\n",
    "OthersRh = dict()\n",
    "for dep in department:\n",
    "    dep_sub =  moma_rhz_compare[moma_rhz_compare.Department == dep]  \n",
    "    nats = set(', '.join(dep_sub.Nationality).split(', '))\n",
    "    # print(nats)\n",
    "    for nat in nats:\n",
    "        final_sub = dep_sub[dep_sub.Nationality.str.contains(nat, regex= True, na=False)]\n",
    "        tot = len(final_sub) \n",
    "        source = 'Moma Compare'\n",
    "        f_count = len(final_sub[final_sub.Gender == 'F'])\n",
    "        m_count = len(final_sub[final_sub.Gender == 'M'])\n",
    "        missing_count = len(final_sub[final_sub.Gender == 'missing'])\n",
    "        nonbinary_count = len(final_sub[final_sub.Gender == 'NB'])\n",
    "        # name as others those countries with count less than 5 in a department\n",
    "        if tot < 5:\n",
    "            if dep not in OthersRh:\n",
    "                OthersRh[dep] = set([nat])\n",
    "            else: \n",
    "                new = OthersRh[dep]\n",
    "                new.add(nat)\n",
    "                OthersRh[dep] = set(new)\n",
    "            nat = 'Others'\n",
    "        df_Moma_compare.loc[len(df_Moma_compare.index)] = [nat, dep,source, tot, f_count, m_count, missing_count, nonbinary_count]\n",
    "\n",
    "df_Moma_compare = df_Moma_compare.groupby(['Nationality','Department', 'Source'],as_index=False).agg({'Count': 'sum','Females': 'sum','Males': 'sum','Missing': 'sum','Non-Binary': 'sum'})\n"
   ]
  },
  {
   "cell_type": "code",
   "execution_count": 230,
   "metadata": {},
   "outputs": [],
   "source": [
    "#make working df for moma comparable\n",
    "nationalities = ', '.join(moma_rhz_compare.Nationality)\n",
    "nationalities = list(set(nationalities.split(', ')))\n",
    "df_Moma_compare = pd.DataFrame(columns= ['Nationality', 'Department','Source', \"Count\", \"Females\", \"Males\", 'Missing', 'Non-Binary']) \n",
    "\n",
    "OthersMoma = dict()\n",
    "for nat in nationalities:\n",
    "    nat_sub =  moma_rhz_compare[moma_rhz_compare.Nationality == nat]   \n",
    "    deps = set(nat_sub.Department)\n",
    "    for department in deps:\n",
    "        dep_sub = nat_sub[nat_sub.Department == department] #look for subset of that departmment inside a nationality\n",
    "        tot = len(dep_sub) \n",
    "        source = 'Moma compare'\n",
    "        f_count = len(dep_sub[dep_sub.Gender == 'F'])\n",
    "        m_count = len(dep_sub[dep_sub.Gender == 'M'])\n",
    "        missing_count = len(dep_sub[dep_sub.Gender == 'missing'])\n",
    "        nonbinary_count = len(dep_sub[dep_sub.Gender == 'NB'])\n",
    "        \n",
    "        # name as others those countries with count less than 5 in a department\n",
    "        if tot < 2:\n",
    "            if department not in OthersMoma:\n",
    "                OthersMoma[department] = set([nat])\n",
    "            else: \n",
    "                new = OthersMoma[department]\n",
    "                new.add(nat)\n",
    "                OthersMoma[department] = set(new)\n",
    "            nat = 'Others'\n",
    "        df_Moma_compare.loc[len(df_Moma_compare.index)] = [nat, department,source, tot, f_count, m_count, missing_count, nonbinary_count]\n",
    "\n",
    "df_Moma_compare = df_Moma_compare.groupby(['Nationality','Department', 'Source'],as_index=False).agg({'Count': 'sum','Females': 'sum','Males': 'sum','Missing': 'sum','Non-Binary': 'sum'})"
   ]
  },
  {
   "cell_type": "code",
   "execution_count": 231,
   "metadata": {},
   "outputs": [],
   "source": [
    "#create a list of rhizome mediums based on keywords research \n",
    "rhz_medium = rhizome_txt_stop_kw.copy()\n",
    "# create a list of our conditionsP\n",
    "conditions = [\n",
    "    (rhz_medium['Text'].str.contains('video|film|animation|movie|tv', regex=True)),\n",
    "    (rhz_medium['Text'].str.contains('images|image|photographs|photography|photo|photos|painting|drawing', regex=True)),\n",
    "    (rhz_medium['Text'].str.contains('installation|performance')),\n",
    "    (rhz_medium['Text'].str.contains('sound|audio|song|music', regex=True)),\n",
    "    (rhz_medium['Text'].str.contains('website|flash|java|data|database|webpage|net|internet|site|sites|online|webbased', regex=True)),\n",
    "    (rhz_medium['Text'].str.contains('conceptual|concept')),\n",
    "    (rhz_medium['Text'].str.contains('augmented|virtual|reality|game|interaction|interactive|interface', regex=True)),\n",
    "    (rhz_medium['Text'].str.contains('text|email')),\n",
    "    ]\n",
    "\n",
    "# create a list of the values we want to assign for each condition\n",
    "values = ['Moving Images', 'Images, Painting, Photos', 'Installation & Performance', 'Audio-based', 'Websites & Data', 'Conceptual', 'Interactive', 'Text-based']\n",
    "\n",
    "# create a new column and use np.select to assign values to it using our lists as arguments\n",
    "rhz_medium['Medium'] = np.select(conditions, values)\n",
    "\n",
    "# display updated DataFrame\n",
    "rhz_medium['Medium'] = rhz_medium['Medium'].replace('0', 'missing')\n",
    "rhz_medium['Medium'] = rhz_medium['Medium'].astype(str)"
   ]
  },
  {
   "cell_type": "code",
   "execution_count": 232,
   "metadata": {},
   "outputs": [],
   "source": [
    "#make working df for rhizome \n",
    "nationalities = ', '.join(rhz_medium.Nationality)\n",
    "nationalities = list(set(nationalities.split(', ')))\n",
    "df_rhizome_barchart = pd.DataFrame(columns= ['Nationality', 'Department','Source', \"Count\", \"Females\", \"Males\", 'Missing', 'Non-Binary']) \n",
    "\n",
    "OthersMoma = dict()\n",
    "for nat in nationalities:\n",
    "    nat_sub =  rhz_medium[rhz_medium.Nationality == nat]   \n",
    "    deps = set(nat_sub.Medium)\n",
    "    for department in deps:\n",
    "        dep_sub = nat_sub[nat_sub.Medium == department] #look for subset of that departmment inside a nationality\n",
    "        tot = len(dep_sub) \n",
    "        source = 'Rhizome'\n",
    "        f_count = len(dep_sub[dep_sub.Gender == 'F'])\n",
    "        m_count = len(dep_sub[dep_sub.Gender == 'M'])\n",
    "        missing_count = len(dep_sub[dep_sub.Gender == 'missing'])\n",
    "        nonbinary_count = len(dep_sub[dep_sub.Gender == 'NB'])\n",
    "        \n",
    "        # name as others those countries with count less than 5 in a department\n",
    "        if tot < 2:\n",
    "            if department not in OthersMoma:\n",
    "                OthersMoma[department] = set([nat])\n",
    "            else: \n",
    "                new = OthersMoma[department]\n",
    "                new.add(nat)\n",
    "                OthersMoma[department] = set(new)\n",
    "            nat = 'Others'\n",
    "        df_rhizome_barchart.loc[len(df_rhizome_barchart.index)] = [nat, department,source, tot, f_count, m_count, missing_count, nonbinary_count]\n",
    "\n",
    "df_rhizome_barchart = df_rhizome_barchart.groupby(['Nationality','Department', 'Source'],as_index=False).agg({'Count': 'sum','Females': 'sum','Males': 'sum','Missing': 'sum','Non-Binary': 'sum'})"
   ]
  },
  {
   "cell_type": "code",
   "execution_count": 233,
   "metadata": {},
   "outputs": [
    {
     "name": "stderr",
     "output_type": "stream",
     "text": [
      "/var/folders/qj/xh48vw9d4z5_h6wzs6r2smdh0000gn/T/ipykernel_70748/2035353323.py:3: SettingWithCopyWarning:\n",
      "\n",
      "\n",
      "A value is trying to be set on a copy of a slice from a DataFrame.\n",
      "Try using .loc[row_indexer,col_indexer] = value instead\n",
      "\n",
      "See the caveats in the documentation: https://pandas.pydata.org/pandas-docs/stable/user_guide/indexing.html#returning-a-view-versus-a-copy\n",
      "\n",
      "/var/folders/qj/xh48vw9d4z5_h6wzs6r2smdh0000gn/T/ipykernel_70748/2035353323.py:4: SettingWithCopyWarning:\n",
      "\n",
      "\n",
      "A value is trying to be set on a copy of a slice from a DataFrame.\n",
      "Try using .loc[row_indexer,col_indexer] = value instead\n",
      "\n",
      "See the caveats in the documentation: https://pandas.pydata.org/pandas-docs/stable/user_guide/indexing.html#returning-a-view-versus-a-copy\n",
      "\n",
      "/var/folders/qj/xh48vw9d4z5_h6wzs6r2smdh0000gn/T/ipykernel_70748/2035353323.py:5: SettingWithCopyWarning:\n",
      "\n",
      "\n",
      "A value is trying to be set on a copy of a slice from a DataFrame.\n",
      "Try using .loc[row_indexer,col_indexer] = value instead\n",
      "\n",
      "See the caveats in the documentation: https://pandas.pydata.org/pandas-docs/stable/user_guide/indexing.html#returning-a-view-versus-a-copy\n",
      "\n"
     ]
    }
   ],
   "source": [
    "#make the two periods comparable\n",
    "old = df_Moma_by_periods[df_Moma_by_periods['Period'] == 'Before 1983']\n",
    "old['Count'] = old['Count'].div(100).round(2)\n",
    "old['Count'] = old['Count'].multiply(30).round(2)\n",
    "old['Count'] = old['Count'].astype('int')\n",
    "new = df_Moma_by_periods[df_Moma_by_periods['Period'] == 'After 1983']\n",
    "\n",
    "df_Moma_by_periods_compare = pd.concat([old,new])"
   ]
  },
  {
   "cell_type": "code",
   "execution_count": 234,
   "metadata": {},
   "outputs": [],
   "source": [
    "#make the moma and rhizome comparable\n",
    "df_Moma_compare['Count'] = df_Moma_compare['Count'].div(10).round(2)\n",
    "df_Moma_compare['Count'] = df_Moma_compare['Count'].astype('int')\n",
    "\n",
    "Compare_nats_department = pd.concat([df_Moma_compare, df_rhizome_barchart])"
   ]
  },
  {
   "cell_type": "code",
   "execution_count": 235,
   "metadata": {},
   "outputs": [
    {
     "data": {
      "text/html": [
       "<div>\n",
       "<style scoped>\n",
       "    .dataframe tbody tr th:only-of-type {\n",
       "        vertical-align: middle;\n",
       "    }\n",
       "\n",
       "    .dataframe tbody tr th {\n",
       "        vertical-align: top;\n",
       "    }\n",
       "\n",
       "    .dataframe thead th {\n",
       "        text-align: right;\n",
       "    }\n",
       "</style>\n",
       "<table border=\"1\" class=\"dataframe\">\n",
       "  <thead>\n",
       "    <tr style=\"text-align: right;\">\n",
       "      <th></th>\n",
       "      <th>Nationality</th>\n",
       "      <th>Department</th>\n",
       "      <th>Period</th>\n",
       "      <th>Count</th>\n",
       "      <th>Females</th>\n",
       "      <th>Males</th>\n",
       "      <th>Missing</th>\n",
       "      <th>Non-Binary</th>\n",
       "    </tr>\n",
       "  </thead>\n",
       "  <tbody>\n",
       "    <tr>\n",
       "      <th>3</th>\n",
       "      <td>American</td>\n",
       "      <td>Architecture &amp; Design</td>\n",
       "      <td>Before 1983</td>\n",
       "      <td>2277</td>\n",
       "      <td>692</td>\n",
       "      <td>5835</td>\n",
       "      <td>311</td>\n",
       "      <td>0</td>\n",
       "    </tr>\n",
       "    <tr>\n",
       "      <th>4</th>\n",
       "      <td>American</td>\n",
       "      <td>Architecture &amp; Design - Image Archive</td>\n",
       "      <td>Before 1983</td>\n",
       "      <td>8</td>\n",
       "      <td>0</td>\n",
       "      <td>25</td>\n",
       "      <td>0</td>\n",
       "      <td>0</td>\n",
       "    </tr>\n",
       "    <tr>\n",
       "      <th>6</th>\n",
       "      <td>American</td>\n",
       "      <td>Drawings &amp; Prints</td>\n",
       "      <td>Before 1983</td>\n",
       "      <td>5918</td>\n",
       "      <td>2542</td>\n",
       "      <td>16556</td>\n",
       "      <td>32</td>\n",
       "      <td>0</td>\n",
       "    </tr>\n",
       "    <tr>\n",
       "      <th>8</th>\n",
       "      <td>American</td>\n",
       "      <td>Film</td>\n",
       "      <td>Before 1983</td>\n",
       "      <td>222</td>\n",
       "      <td>36</td>\n",
       "      <td>248</td>\n",
       "      <td>8</td>\n",
       "      <td>0</td>\n",
       "    </tr>\n",
       "    <tr>\n",
       "      <th>10</th>\n",
       "      <td>American</td>\n",
       "      <td>Fluxus Collection</td>\n",
       "      <td>Before 1983</td>\n",
       "      <td>320</td>\n",
       "      <td>68</td>\n",
       "      <td>861</td>\n",
       "      <td>12</td>\n",
       "      <td>0</td>\n",
       "    </tr>\n",
       "    <tr>\n",
       "      <th>...</th>\n",
       "      <td>...</td>\n",
       "      <td>...</td>\n",
       "      <td>...</td>\n",
       "      <td>...</td>\n",
       "      <td>...</td>\n",
       "      <td>...</td>\n",
       "      <td>...</td>\n",
       "      <td>...</td>\n",
       "    </tr>\n",
       "    <tr>\n",
       "      <th>387</th>\n",
       "      <td>missing</td>\n",
       "      <td>Drawings &amp; Prints</td>\n",
       "      <td>After 1983</td>\n",
       "      <td>754</td>\n",
       "      <td>36</td>\n",
       "      <td>55</td>\n",
       "      <td>289</td>\n",
       "      <td>0</td>\n",
       "    </tr>\n",
       "    <tr>\n",
       "      <th>389</th>\n",
       "      <td>missing</td>\n",
       "      <td>Film</td>\n",
       "      <td>After 1983</td>\n",
       "      <td>46</td>\n",
       "      <td>1</td>\n",
       "      <td>3</td>\n",
       "      <td>34</td>\n",
       "      <td>0</td>\n",
       "    </tr>\n",
       "    <tr>\n",
       "      <th>391</th>\n",
       "      <td>missing</td>\n",
       "      <td>Fluxus Collection</td>\n",
       "      <td>After 1983</td>\n",
       "      <td>17</td>\n",
       "      <td>0</td>\n",
       "      <td>0</td>\n",
       "      <td>15</td>\n",
       "      <td>0</td>\n",
       "    </tr>\n",
       "    <tr>\n",
       "      <th>393</th>\n",
       "      <td>missing</td>\n",
       "      <td>Media and Performance</td>\n",
       "      <td>After 1983</td>\n",
       "      <td>65</td>\n",
       "      <td>4</td>\n",
       "      <td>10</td>\n",
       "      <td>2</td>\n",
       "      <td>0</td>\n",
       "    </tr>\n",
       "    <tr>\n",
       "      <th>395</th>\n",
       "      <td>missing</td>\n",
       "      <td>Photography</td>\n",
       "      <td>After 1983</td>\n",
       "      <td>12</td>\n",
       "      <td>0</td>\n",
       "      <td>0</td>\n",
       "      <td>10</td>\n",
       "      <td>0</td>\n",
       "    </tr>\n",
       "  </tbody>\n",
       "</table>\n",
       "<p>397 rows × 8 columns</p>\n",
       "</div>"
      ],
      "text/plain": [
       "    Nationality                             Department       Period  Count  \\\n",
       "3      American                  Architecture & Design  Before 1983   2277   \n",
       "4      American  Architecture & Design - Image Archive  Before 1983      8   \n",
       "6      American                      Drawings & Prints  Before 1983   5918   \n",
       "8      American                                   Film  Before 1983    222   \n",
       "10     American                      Fluxus Collection  Before 1983    320   \n",
       "..          ...                                    ...          ...    ...   \n",
       "387     missing                      Drawings & Prints   After 1983    754   \n",
       "389     missing                                   Film   After 1983     46   \n",
       "391     missing                      Fluxus Collection   After 1983     17   \n",
       "393     missing                  Media and Performance   After 1983     65   \n",
       "395     missing                            Photography   After 1983     12   \n",
       "\n",
       "     Females  Males  Missing  Non-Binary  \n",
       "3        692   5835      311           0  \n",
       "4          0     25        0           0  \n",
       "6       2542  16556       32           0  \n",
       "8         36    248        8           0  \n",
       "10        68    861       12           0  \n",
       "..       ...    ...      ...         ...  \n",
       "387       36     55      289           0  \n",
       "389        1      3       34           0  \n",
       "391        0      0       15           0  \n",
       "393        4     10        2           0  \n",
       "395        0      0       10           0  \n",
       "\n",
       "[397 rows x 8 columns]"
      ]
     },
     "execution_count": 235,
     "metadata": {},
     "output_type": "execute_result"
    }
   ],
   "source": [
    "df_Moma_by_periods_compare"
   ]
  },
  {
   "cell_type": "code",
   "execution_count": 236,
   "metadata": {},
   "outputs": [
    {
     "data": {
      "application/vnd.plotly.v1+json": {
       "config": {
        "plotlyServerURL": "https://plot.ly"
       },
       "data": [
        {
         "alignmentgroup": "True",
         "hovertemplate": "Nationality=American<br>Period=Before 1983<br>Department=%{x}<br>Count=%{y}<extra></extra>",
         "legendgroup": "American",
         "marker": {
          "color": "#FFC0CB",
          "pattern": {
           "shape": ""
          }
         },
         "name": "American",
         "offsetgroup": "American",
         "orientation": "v",
         "showlegend": true,
         "textposition": "auto",
         "type": "bar",
         "x": [
          "Architecture & Design",
          "Architecture & Design - Image Archive",
          "Drawings & Prints",
          "Film",
          "Fluxus Collection",
          "Media and Performance",
          "Painting & Sculpture",
          "Photography"
         ],
         "xaxis": "x",
         "y": [
          2277,
          8,
          5918,
          222,
          320,
          201,
          443,
          3919
         ],
         "yaxis": "y"
        },
        {
         "alignmentgroup": "True",
         "hovertemplate": "Nationality=American<br>Period=After 1983<br>Department=%{x}<br>Count=%{y}<extra></extra>",
         "legendgroup": "American",
         "marker": {
          "color": "#FFC0CB",
          "pattern": {
           "shape": ""
          }
         },
         "name": "American",
         "offsetgroup": "American",
         "orientation": "v",
         "showlegend": false,
         "textposition": "auto",
         "type": "bar",
         "x": [
          "Architecture & Design",
          "Drawings & Prints",
          "Film",
          "Fluxus Collection",
          "Media and Performance",
          "Painting & Sculpture",
          "Photography"
         ],
         "xaxis": "x2",
         "y": [
          1033,
          11346,
          228,
          13,
          707,
          491,
          2691
         ],
         "yaxis": "y2"
        },
        {
         "alignmentgroup": "True",
         "hovertemplate": "Nationality=Argentine<br>Period=Before 1983<br>Department=%{x}<br>Count=%{y}<extra></extra>",
         "legendgroup": "Argentine",
         "marker": {
          "color": "#FF69B4",
          "pattern": {
           "shape": ""
          }
         },
         "name": "Argentine",
         "offsetgroup": "Argentine",
         "orientation": "v",
         "showlegend": true,
         "textposition": "auto",
         "type": "bar",
         "x": [
          "Architecture & Design",
          "Drawings & Prints",
          "Media and Performance",
          "Painting & Sculpture",
          "Photography"
         ],
         "xaxis": "x",
         "y": [
          76,
          123,
          14,
          11,
          14
         ],
         "yaxis": "y"
        },
        {
         "alignmentgroup": "True",
         "hovertemplate": "Nationality=Argentine<br>Period=After 1983<br>Department=%{x}<br>Count=%{y}<extra></extra>",
         "legendgroup": "Argentine",
         "marker": {
          "color": "#FF69B4",
          "pattern": {
           "shape": ""
          }
         },
         "name": "Argentine",
         "offsetgroup": "Argentine",
         "orientation": "v",
         "showlegend": false,
         "textposition": "auto",
         "type": "bar",
         "x": [
          "Architecture & Design",
          "Drawings & Prints",
          "Film",
          "Media and Performance",
          "Painting & Sculpture",
          "Photography"
         ],
         "xaxis": "x2",
         "y": [
          43,
          175,
          5,
          5,
          7,
          21
         ],
         "yaxis": "y2"
        },
        {
         "alignmentgroup": "True",
         "hovertemplate": "Nationality=Australian<br>Period=Before 1983<br>Department=%{x}<br>Count=%{y}<extra></extra>",
         "legendgroup": "Australian",
         "marker": {
          "color": "#DB7093",
          "pattern": {
           "shape": ""
          }
         },
         "name": "Australian",
         "offsetgroup": "Australian",
         "orientation": "v",
         "showlegend": true,
         "textposition": "auto",
         "type": "bar",
         "x": [
          "Architecture & Design",
          "Drawings & Prints",
          "Painting & Sculpture"
         ],
         "xaxis": "x",
         "y": [
          4,
          40,
          2
         ],
         "yaxis": "y"
        },
        {
         "alignmentgroup": "True",
         "hovertemplate": "Nationality=Australian<br>Period=After 1983<br>Department=%{x}<br>Count=%{y}<extra></extra>",
         "legendgroup": "Australian",
         "marker": {
          "color": "#DB7093",
          "pattern": {
           "shape": ""
          }
         },
         "name": "Australian",
         "offsetgroup": "Australian",
         "orientation": "v",
         "showlegend": false,
         "textposition": "auto",
         "type": "bar",
         "x": [
          "Architecture & Design",
          "Drawings & Prints"
         ],
         "xaxis": "x2",
         "y": [
          14,
          84
         ],
         "yaxis": "y2"
        },
        {
         "alignmentgroup": "True",
         "hovertemplate": "Nationality=Austrian<br>Period=Before 1983<br>Department=%{x}<br>Count=%{y}<extra></extra>",
         "legendgroup": "Austrian",
         "marker": {
          "color": "#C71585",
          "pattern": {
           "shape": ""
          }
         },
         "name": "Austrian",
         "offsetgroup": "Austrian",
         "orientation": "v",
         "showlegend": true,
         "textposition": "auto",
         "type": "bar",
         "x": [
          "Architecture & Design",
          "Drawings & Prints",
          "Media and Performance",
          "Painting & Sculpture",
          "Photography"
         ],
         "xaxis": "x",
         "y": [
          53,
          128,
          21,
          4,
          35
         ],
         "yaxis": "y"
        },
        {
         "alignmentgroup": "True",
         "hovertemplate": "Nationality=Austrian<br>Period=After 1983<br>Department=%{x}<br>Count=%{y}<extra></extra>",
         "legendgroup": "Austrian",
         "marker": {
          "color": "#C71585",
          "pattern": {
           "shape": ""
          }
         },
         "name": "Austrian",
         "offsetgroup": "Austrian",
         "orientation": "v",
         "showlegend": false,
         "textposition": "auto",
         "type": "bar",
         "x": [
          "Architecture & Design",
          "Drawings & Prints",
          "Media and Performance",
          "Painting & Sculpture",
          "Photography"
         ],
         "xaxis": "x2",
         "y": [
          15,
          250,
          13,
          18,
          6
         ],
         "yaxis": "y2"
        },
        {
         "alignmentgroup": "True",
         "hovertemplate": "Nationality=Belgian<br>Period=Before 1983<br>Department=%{x}<br>Count=%{y}<extra></extra>",
         "legendgroup": "Belgian",
         "marker": {
          "color": "#E6E6FA",
          "pattern": {
           "shape": ""
          }
         },
         "name": "Belgian",
         "offsetgroup": "Belgian",
         "orientation": "v",
         "showlegend": true,
         "textposition": "auto",
         "type": "bar",
         "x": [
          "Architecture & Design",
          "Drawings & Prints",
          "Media and Performance",
          "Painting & Sculpture",
          "Photography"
         ],
         "xaxis": "x",
         "y": [
          6,
          323,
          7,
          14,
          4
         ],
         "yaxis": "y"
        },
        {
         "alignmentgroup": "True",
         "hovertemplate": "Nationality=Belgian<br>Period=After 1983<br>Department=%{x}<br>Count=%{y}<extra></extra>",
         "legendgroup": "Belgian",
         "marker": {
          "color": "#E6E6FA",
          "pattern": {
           "shape": ""
          }
         },
         "name": "Belgian",
         "offsetgroup": "Belgian",
         "orientation": "v",
         "showlegend": false,
         "textposition": "auto",
         "type": "bar",
         "x": [
          "Architecture & Design",
          "Drawings & Prints",
          "Media and Performance",
          "Painting & Sculpture",
          "Photography"
         ],
         "xaxis": "x2",
         "y": [
          24,
          104,
          175,
          8,
          19
         ],
         "yaxis": "y2"
        },
        {
         "alignmentgroup": "True",
         "hovertemplate": "Nationality=Brazilian<br>Period=Before 1983<br>Department=%{x}<br>Count=%{y}<extra></extra>",
         "legendgroup": "Brazilian",
         "marker": {
          "color": "#DDA0DD",
          "pattern": {
           "shape": ""
          }
         },
         "name": "Brazilian",
         "offsetgroup": "Brazilian",
         "orientation": "v",
         "showlegend": true,
         "textposition": "auto",
         "type": "bar",
         "x": [
          "Architecture & Design",
          "Drawings & Prints",
          "Media and Performance",
          "Painting & Sculpture",
          "Photography"
         ],
         "xaxis": "x",
         "y": [
          17,
          105,
          2,
          18,
          29
         ],
         "yaxis": "y"
        },
        {
         "alignmentgroup": "True",
         "hovertemplate": "Nationality=Brazilian<br>Period=After 1983<br>Department=%{x}<br>Count=%{y}<extra></extra>",
         "legendgroup": "Brazilian",
         "marker": {
          "color": "#DDA0DD",
          "pattern": {
           "shape": ""
          }
         },
         "name": "Brazilian",
         "offsetgroup": "Brazilian",
         "orientation": "v",
         "showlegend": false,
         "textposition": "auto",
         "type": "bar",
         "x": [
          "Architecture & Design",
          "Drawings & Prints",
          "Media and Performance",
          "Painting & Sculpture",
          "Photography"
         ],
         "xaxis": "x2",
         "y": [
          32,
          127,
          20,
          22,
          68
         ],
         "yaxis": "y2"
        },
        {
         "alignmentgroup": "True",
         "hovertemplate": "Nationality=British<br>Period=Before 1983<br>Department=%{x}<br>Count=%{y}<extra></extra>",
         "legendgroup": "British",
         "marker": {
          "color": "#EE82EE",
          "pattern": {
           "shape": ""
          }
         },
         "name": "British",
         "offsetgroup": "British",
         "orientation": "v",
         "showlegend": true,
         "textposition": "auto",
         "type": "bar",
         "x": [
          "Architecture & Design",
          "Drawings & Prints",
          "Film",
          "Fluxus Collection",
          "Media and Performance",
          "Painting & Sculpture",
          "Photography"
         ],
         "xaxis": "x",
         "y": [
          229,
          661,
          2,
          2,
          8,
          35,
          448
         ],
         "yaxis": "y"
        },
        {
         "alignmentgroup": "True",
         "hovertemplate": "Nationality=British<br>Period=After 1983<br>Department=%{x}<br>Count=%{y}<extra></extra>",
         "legendgroup": "British",
         "marker": {
          "color": "#EE82EE",
          "pattern": {
           "shape": ""
          }
         },
         "name": "British",
         "offsetgroup": "British",
         "orientation": "v",
         "showlegend": false,
         "textposition": "auto",
         "type": "bar",
         "x": [
          "Architecture & Design",
          "Drawings & Prints",
          "Film",
          "Media and Performance",
          "Painting & Sculpture",
          "Photography"
         ],
         "xaxis": "x2",
         "y": [
          180,
          1153,
          16,
          95,
          52,
          187
         ],
         "yaxis": "y2"
        },
        {
         "alignmentgroup": "True",
         "hovertemplate": "Nationality=Burkinabe<br>Period=Before 1983<br>Department=%{x}<br>Count=%{y}<extra></extra>",
         "legendgroup": "Burkinabe",
         "marker": {
          "color": "#9932CC",
          "pattern": {
           "shape": ""
          }
         },
         "name": "Burkinabe",
         "offsetgroup": "Burkinabe",
         "orientation": "v",
         "showlegend": true,
         "textposition": "auto",
         "type": "bar",
         "x": [
          "Photography"
         ],
         "xaxis": "x",
         "y": [
          7
         ],
         "yaxis": "y"
        },
        {
         "alignmentgroup": "True",
         "hovertemplate": "Nationality=Cambodian<br>Period=Before 1983<br>Department=%{x}<br>Count=%{y}<extra></extra>",
         "legendgroup": "Cambodian",
         "marker": {
          "color": "#8B008B",
          "pattern": {
           "shape": ""
          }
         },
         "name": "Cambodian",
         "offsetgroup": "Cambodian",
         "orientation": "v",
         "showlegend": true,
         "textposition": "auto",
         "type": "bar",
         "x": [
          "Photography"
         ],
         "xaxis": "x",
         "y": [
          2
         ],
         "yaxis": "y"
        },
        {
         "alignmentgroup": "True",
         "hovertemplate": "Nationality=Canadian<br>Period=Before 1983<br>Department=%{x}<br>Count=%{y}<extra></extra>",
         "legendgroup": "Canadian",
         "marker": {
          "color": "#9370DB",
          "pattern": {
           "shape": ""
          }
         },
         "name": "Canadian",
         "offsetgroup": "Canadian",
         "orientation": "v",
         "showlegend": true,
         "textposition": "auto",
         "type": "bar",
         "x": [
          "Architecture & Design",
          "Drawings & Prints",
          "Film",
          "Fluxus Collection",
          "Media and Performance",
          "Photography"
         ],
         "xaxis": "x",
         "y": [
          13,
          58,
          3,
          2,
          3,
          25
         ],
         "yaxis": "y"
        },
        {
         "alignmentgroup": "True",
         "hovertemplate": "Nationality=Canadian<br>Period=After 1983<br>Department=%{x}<br>Count=%{y}<extra></extra>",
         "legendgroup": "Canadian",
         "marker": {
          "color": "#9370DB",
          "pattern": {
           "shape": ""
          }
         },
         "name": "Canadian",
         "offsetgroup": "Canadian",
         "orientation": "v",
         "showlegend": false,
         "textposition": "auto",
         "type": "bar",
         "x": [
          "Architecture & Design",
          "Drawings & Prints",
          "Film",
          "Media and Performance",
          "Photography"
         ],
         "xaxis": "x2",
         "y": [
          89,
          268,
          18,
          156,
          85
         ],
         "yaxis": "y2"
        },
        {
         "alignmentgroup": "True",
         "hovertemplate": "Nationality=Canadian Inuit<br>Period=Before 1983<br>Department=%{x}<br>Count=%{y}<extra></extra>",
         "legendgroup": "Canadian Inuit",
         "marker": {
          "color": "#483D8B",
          "pattern": {
           "shape": ""
          }
         },
         "name": "Canadian Inuit",
         "offsetgroup": "Canadian Inuit",
         "orientation": "v",
         "showlegend": true,
         "textposition": "auto",
         "type": "bar",
         "x": [
          "Drawings & Prints"
         ],
         "xaxis": "x",
         "y": [
          2
         ],
         "yaxis": "y"
        },
        {
         "alignmentgroup": "True",
         "hovertemplate": "Nationality=Chilean<br>Period=Before 1983<br>Department=%{x}<br>Count=%{y}<extra></extra>",
         "legendgroup": "Chilean",
         "marker": {
          "color": "#4B0082",
          "pattern": {
           "shape": ""
          }
         },
         "name": "Chilean",
         "offsetgroup": "Chilean",
         "orientation": "v",
         "showlegend": true,
         "textposition": "auto",
         "type": "bar",
         "x": [
          "Architecture & Design",
          "Drawings & Prints",
          "Media and Performance",
          "Photography"
         ],
         "xaxis": "x",
         "y": [
          25,
          85,
          4,
          1
         ],
         "yaxis": "y"
        },
        {
         "alignmentgroup": "True",
         "hovertemplate": "Nationality=Chilean<br>Period=After 1983<br>Department=%{x}<br>Count=%{y}<extra></extra>",
         "legendgroup": "Chilean",
         "marker": {
          "color": "#4B0082",
          "pattern": {
           "shape": ""
          }
         },
         "name": "Chilean",
         "offsetgroup": "Chilean",
         "orientation": "v",
         "showlegend": false,
         "textposition": "auto",
         "type": "bar",
         "x": [
          "Architecture & Design",
          "Drawings & Prints",
          "Media and Performance",
          "Photography"
         ],
         "xaxis": "x2",
         "y": [
          7,
          121,
          62,
          7
         ],
         "yaxis": "y2"
        },
        {
         "alignmentgroup": "True",
         "hovertemplate": "Nationality=Chinese<br>Period=Before 1983<br>Department=%{x}<br>Count=%{y}<extra></extra>",
         "legendgroup": "Chinese",
         "marker": {
          "color": "#FA8072",
          "pattern": {
           "shape": ""
          }
         },
         "name": "Chinese",
         "offsetgroup": "Chinese",
         "orientation": "v",
         "showlegend": true,
         "textposition": "auto",
         "type": "bar",
         "x": [
          "Drawings & Prints"
         ],
         "xaxis": "x",
         "y": [
          2
         ],
         "yaxis": "y"
        },
        {
         "alignmentgroup": "True",
         "hovertemplate": "Nationality=Chinese<br>Period=After 1983<br>Department=%{x}<br>Count=%{y}<extra></extra>",
         "legendgroup": "Chinese",
         "marker": {
          "color": "#FA8072",
          "pattern": {
           "shape": ""
          }
         },
         "name": "Chinese",
         "offsetgroup": "Chinese",
         "orientation": "v",
         "showlegend": false,
         "textposition": "auto",
         "type": "bar",
         "x": [
          "Architecture & Design",
          "Drawings & Prints",
          "Film",
          "Media and Performance",
          "Painting & Sculpture",
          "Photography"
         ],
         "xaxis": "x2",
         "y": [
          18,
          110,
          5,
          36,
          6,
          104
         ],
         "yaxis": "y2"
        },
        {
         "alignmentgroup": "True",
         "hovertemplate": "Nationality=Colombian<br>Period=Before 1983<br>Department=%{x}<br>Count=%{y}<extra></extra>",
         "legendgroup": "Colombian",
         "marker": {
          "color": "#DC143C",
          "pattern": {
           "shape": ""
          }
         },
         "name": "Colombian",
         "offsetgroup": "Colombian",
         "orientation": "v",
         "showlegend": true,
         "textposition": "auto",
         "type": "bar",
         "x": [
          "Architecture & Design",
          "Drawings & Prints"
         ],
         "xaxis": "x",
         "y": [
          1,
          50
         ],
         "yaxis": "y"
        },
        {
         "alignmentgroup": "True",
         "hovertemplate": "Nationality=Colombian<br>Period=After 1983<br>Department=%{x}<br>Count=%{y}<extra></extra>",
         "legendgroup": "Colombian",
         "marker": {
          "color": "#DC143C",
          "pattern": {
           "shape": ""
          }
         },
         "name": "Colombian",
         "offsetgroup": "Colombian",
         "orientation": "v",
         "showlegend": false,
         "textposition": "auto",
         "type": "bar",
         "x": [
          "Architecture & Design",
          "Drawings & Prints",
          "Media and Performance"
         ],
         "xaxis": "x2",
         "y": [
          17,
          533,
          9
         ],
         "yaxis": "y2"
        },
        {
         "alignmentgroup": "True",
         "hovertemplate": "Nationality=Congolese<br>Period=Before 1983<br>Department=%{x}<br>Count=%{y}<extra></extra>",
         "legendgroup": "Congolese",
         "marker": {
          "color": "#8B0000",
          "pattern": {
           "shape": ""
          }
         },
         "name": "Congolese",
         "offsetgroup": "Congolese",
         "orientation": "v",
         "showlegend": true,
         "textposition": "auto",
         "type": "bar",
         "x": [
          "Photography"
         ],
         "xaxis": "x",
         "y": [
          4
         ],
         "yaxis": "y"
        },
        {
         "alignmentgroup": "True",
         "hovertemplate": "Nationality=Congolese<br>Period=After 1983<br>Department=%{x}<br>Count=%{y}<extra></extra>",
         "legendgroup": "Congolese",
         "marker": {
          "color": "#8B0000",
          "pattern": {
           "shape": ""
          }
         },
         "name": "Congolese",
         "offsetgroup": "Congolese",
         "orientation": "v",
         "showlegend": false,
         "textposition": "auto",
         "type": "bar",
         "x": [
          "Painting & Sculpture"
         ],
         "xaxis": "x2",
         "y": [
          7
         ],
         "yaxis": "y2"
        },
        {
         "alignmentgroup": "True",
         "hovertemplate": "Nationality=Costa Rican<br>Period=Before 1983<br>Department=%{x}<br>Count=%{y}<extra></extra>",
         "legendgroup": "Costa Rican",
         "marker": {
          "color": "#FF8C00",
          "pattern": {
           "shape": ""
          }
         },
         "name": "Costa Rican",
         "offsetgroup": "Costa Rican",
         "orientation": "v",
         "showlegend": true,
         "textposition": "auto",
         "type": "bar",
         "x": [
          "Drawings & Prints"
         ],
         "xaxis": "x",
         "y": [
          19
         ],
         "yaxis": "y"
        },
        {
         "alignmentgroup": "True",
         "hovertemplate": "Nationality=Croatian<br>Period=Before 1983<br>Department=%{x}<br>Count=%{y}<extra></extra>",
         "legendgroup": "Croatian",
         "marker": {
          "color": "#FF4500",
          "pattern": {
           "shape": ""
          }
         },
         "name": "Croatian",
         "offsetgroup": "Croatian",
         "orientation": "v",
         "showlegend": true,
         "textposition": "auto",
         "type": "bar",
         "x": [
          "Architecture & Design",
          "Drawings & Prints",
          "Media and Performance"
         ],
         "xaxis": "x",
         "y": [
          15,
          7,
          3
         ],
         "yaxis": "y"
        },
        {
         "alignmentgroup": "True",
         "hovertemplate": "Nationality=Croatian<br>Period=After 1983<br>Department=%{x}<br>Count=%{y}<extra></extra>",
         "legendgroup": "Croatian",
         "marker": {
          "color": "#FF4500",
          "pattern": {
           "shape": ""
          }
         },
         "name": "Croatian",
         "offsetgroup": "Croatian",
         "orientation": "v",
         "showlegend": false,
         "textposition": "auto",
         "type": "bar",
         "x": [
          "Architecture & Design",
          "Drawings & Prints",
          "Media and Performance"
         ],
         "xaxis": "x2",
         "y": [
          14,
          46,
          8
         ],
         "yaxis": "y2"
        },
        {
         "alignmentgroup": "True",
         "hovertemplate": "Nationality=Cuban<br>Period=Before 1983<br>Department=%{x}<br>Count=%{y}<extra></extra>",
         "legendgroup": "Cuban",
         "marker": {
          "color": "#FFD700",
          "pattern": {
           "shape": ""
          }
         },
         "name": "Cuban",
         "offsetgroup": "Cuban",
         "orientation": "v",
         "showlegend": true,
         "textposition": "auto",
         "type": "bar",
         "x": [
          "Drawings & Prints"
         ],
         "xaxis": "x",
         "y": [
          31
         ],
         "yaxis": "y"
        },
        {
         "alignmentgroup": "True",
         "hovertemplate": "Nationality=Cuban<br>Period=After 1983<br>Department=%{x}<br>Count=%{y}<extra></extra>",
         "legendgroup": "Cuban",
         "marker": {
          "color": "#FFD700",
          "pattern": {
           "shape": ""
          }
         },
         "name": "Cuban",
         "offsetgroup": "Cuban",
         "orientation": "v",
         "showlegend": false,
         "textposition": "auto",
         "type": "bar",
         "x": [
          "Drawings & Prints"
         ],
         "xaxis": "x2",
         "y": [
          42
         ],
         "yaxis": "y2"
        },
        {
         "alignmentgroup": "True",
         "hovertemplate": "Nationality=Czech<br>Period=Before 1983<br>Department=%{x}<br>Count=%{y}<extra></extra>",
         "legendgroup": "Czech",
         "marker": {
          "color": "#FFFF00",
          "pattern": {
           "shape": ""
          }
         },
         "name": "Czech",
         "offsetgroup": "Czech",
         "orientation": "v",
         "showlegend": true,
         "textposition": "auto",
         "type": "bar",
         "x": [
          "Drawings & Prints",
          "Photography"
         ],
         "xaxis": "x",
         "y": [
          143,
          24
         ],
         "yaxis": "y"
        },
        {
         "alignmentgroup": "True",
         "hovertemplate": "Nationality=Czech<br>Period=After 1983<br>Department=%{x}<br>Count=%{y}<extra></extra>",
         "legendgroup": "Czech",
         "marker": {
          "color": "#FFFF00",
          "pattern": {
           "shape": ""
          }
         },
         "name": "Czech",
         "offsetgroup": "Czech",
         "orientation": "v",
         "showlegend": false,
         "textposition": "auto",
         "type": "bar",
         "x": [
          "Drawings & Prints",
          "Photography"
         ],
         "xaxis": "x2",
         "y": [
          25,
          13
         ],
         "yaxis": "y2"
        },
        {
         "alignmentgroup": "True",
         "hovertemplate": "Nationality=Czechoslovakian<br>Period=Before 1983<br>Department=%{x}<br>Count=%{y}<extra></extra>",
         "legendgroup": "Czechoslovakian",
         "marker": {
          "color": "#F0E68C",
          "pattern": {
           "shape": ""
          }
         },
         "name": "Czechoslovakian",
         "offsetgroup": "Czechoslovakian",
         "orientation": "v",
         "showlegend": true,
         "textposition": "auto",
         "type": "bar",
         "x": [
          "Architecture & Design"
         ],
         "xaxis": "x",
         "y": [
          1
         ],
         "yaxis": "y"
        },
        {
         "alignmentgroup": "True",
         "hovertemplate": "Nationality=Danish<br>Period=Before 1983<br>Department=%{x}<br>Count=%{y}<extra></extra>",
         "legendgroup": "Danish",
         "marker": {
          "color": "#7FFF00",
          "pattern": {
           "shape": ""
          }
         },
         "name": "Danish",
         "offsetgroup": "Danish",
         "orientation": "v",
         "showlegend": true,
         "textposition": "auto",
         "type": "bar",
         "x": [
          "Architecture & Design",
          "Drawings & Prints"
         ],
         "xaxis": "x",
         "y": [
          41,
          77
         ],
         "yaxis": "y"
        },
        {
         "alignmentgroup": "True",
         "hovertemplate": "Nationality=Danish<br>Period=After 1983<br>Department=%{x}<br>Count=%{y}<extra></extra>",
         "legendgroup": "Danish",
         "marker": {
          "color": "#7FFF00",
          "pattern": {
           "shape": ""
          }
         },
         "name": "Danish",
         "offsetgroup": "Danish",
         "orientation": "v",
         "showlegend": false,
         "textposition": "auto",
         "type": "bar",
         "x": [
          "Architecture & Design",
          "Drawings & Prints",
          "Media and Performance",
          "Painting & Sculpture",
          "Photography"
         ],
         "xaxis": "x2",
         "y": [
          19,
          42,
          24,
          6,
          27
         ],
         "yaxis": "y2"
        },
        {
         "alignmentgroup": "True",
         "hovertemplate": "Nationality=Dutch<br>Period=Before 1983<br>Department=%{x}<br>Count=%{y}<extra></extra>",
         "legendgroup": "Dutch",
         "marker": {
          "color": "#32CD32",
          "pattern": {
           "shape": ""
          }
         },
         "name": "Dutch",
         "offsetgroup": "Dutch",
         "orientation": "v",
         "showlegend": true,
         "textposition": "auto",
         "type": "bar",
         "x": [
          "Architecture & Design",
          "Drawings & Prints",
          "Fluxus Collection",
          "Photography"
         ],
         "xaxis": "x",
         "y": [
          123,
          126,
          7,
          147
         ],
         "yaxis": "y"
        },
        {
         "alignmentgroup": "True",
         "hovertemplate": "Nationality=Dutch<br>Period=After 1983<br>Department=%{x}<br>Count=%{y}<extra></extra>",
         "legendgroup": "Dutch",
         "marker": {
          "color": "#32CD32",
          "pattern": {
           "shape": ""
          }
         },
         "name": "Dutch",
         "offsetgroup": "Dutch",
         "orientation": "v",
         "showlegend": false,
         "textposition": "auto",
         "type": "bar",
         "x": [
          "Architecture & Design",
          "Drawings & Prints",
          "Fluxus Collection",
          "Media and Performance",
          "Photography"
         ],
         "xaxis": "x2",
         "y": [
          332,
          82,
          5,
          9,
          34
         ],
         "yaxis": "y2"
        },
        {
         "alignmentgroup": "True",
         "hovertemplate": "Nationality=Ecuadorian<br>Period=Before 1983<br>Department=%{x}<br>Count=%{y}<extra></extra>",
         "legendgroup": "Ecuadorian",
         "marker": {
          "color": "#90EE90",
          "pattern": {
           "shape": ""
          }
         },
         "name": "Ecuadorian",
         "offsetgroup": "Ecuadorian",
         "orientation": "v",
         "showlegend": true,
         "textposition": "auto",
         "type": "bar",
         "x": [
          "Drawings & Prints"
         ],
         "xaxis": "x",
         "y": [
          2
         ],
         "yaxis": "y"
        },
        {
         "alignmentgroup": "True",
         "hovertemplate": "Nationality=Finnish<br>Period=Before 1983<br>Department=%{x}<br>Count=%{y}<extra></extra>",
         "legendgroup": "Finnish",
         "marker": {
          "color": "#00FA9A",
          "pattern": {
           "shape": ""
          }
         },
         "name": "Finnish",
         "offsetgroup": "Finnish",
         "orientation": "v",
         "showlegend": true,
         "textposition": "auto",
         "type": "bar",
         "x": [
          "Architecture & Design",
          "Drawings & Prints"
         ],
         "xaxis": "x",
         "y": [
          51,
          2
         ],
         "yaxis": "y"
        },
        {
         "alignmentgroup": "True",
         "hovertemplate": "Nationality=Finnish<br>Period=After 1983<br>Department=%{x}<br>Count=%{y}<extra></extra>",
         "legendgroup": "Finnish",
         "marker": {
          "color": "#00FA9A",
          "pattern": {
           "shape": ""
          }
         },
         "name": "Finnish",
         "offsetgroup": "Finnish",
         "orientation": "v",
         "showlegend": false,
         "textposition": "auto",
         "type": "bar",
         "x": [
          "Architecture & Design",
          "Drawings & Prints"
         ],
         "xaxis": "x2",
         "y": [
          25,
          21
         ],
         "yaxis": "y2"
        },
        {
         "alignmentgroup": "True",
         "hovertemplate": "Nationality=French<br>Period=Before 1983<br>Department=%{x}<br>Count=%{y}<extra></extra>",
         "legendgroup": "French",
         "marker": {
          "color": "#3CB371",
          "pattern": {
           "shape": ""
          }
         },
         "name": "French",
         "offsetgroup": "French",
         "orientation": "v",
         "showlegend": true,
         "textposition": "auto",
         "type": "bar",
         "x": [
          "Architecture & Design",
          "Drawings & Prints",
          "Film",
          "Fluxus Collection",
          "Media and Performance",
          "Painting & Sculpture",
          "Photography"
         ],
         "xaxis": "x",
         "y": [
          155,
          4449,
          6,
          30,
          11,
          126,
          2066
         ],
         "yaxis": "y"
        },
        {
         "alignmentgroup": "True",
         "hovertemplate": "Nationality=French<br>Period=After 1983<br>Department=%{x}<br>Count=%{y}<extra></extra>",
         "legendgroup": "French",
         "marker": {
          "color": "#3CB371",
          "pattern": {
           "shape": ""
          }
         },
         "name": "French",
         "offsetgroup": "French",
         "orientation": "v",
         "showlegend": false,
         "textposition": "auto",
         "type": "bar",
         "x": [
          "Architecture & Design",
          "Drawings & Prints",
          "Film",
          "Fluxus Collection",
          "Media and Performance",
          "Painting & Sculpture",
          "Photography"
         ],
         "xaxis": "x2",
         "y": [
          192,
          540,
          21,
          11,
          59,
          10,
          99
         ],
         "yaxis": "y2"
        },
        {
         "alignmentgroup": "True",
         "hovertemplate": "Nationality=Georgian<br>Period=Before 1983<br>Department=%{x}<br>Count=%{y}<extra></extra>",
         "legendgroup": "Georgian",
         "marker": {
          "color": "#006400",
          "pattern": {
           "shape": ""
          }
         },
         "name": "Georgian",
         "offsetgroup": "Georgian",
         "orientation": "v",
         "showlegend": true,
         "textposition": "auto",
         "type": "bar",
         "x": [
          "Drawings & Prints"
         ],
         "xaxis": "x",
         "y": [
          1
         ],
         "yaxis": "y"
        },
        {
         "alignmentgroup": "True",
         "hovertemplate": "Nationality=Georgian<br>Period=After 1983<br>Department=%{x}<br>Count=%{y}<extra></extra>",
         "legendgroup": "Georgian",
         "marker": {
          "color": "#006400",
          "pattern": {
           "shape": ""
          }
         },
         "name": "Georgian",
         "offsetgroup": "Georgian",
         "orientation": "v",
         "showlegend": false,
         "textposition": "auto",
         "type": "bar",
         "x": [
          "Drawings & Prints"
         ],
         "xaxis": "x2",
         "y": [
          5
         ],
         "yaxis": "y2"
        },
        {
         "alignmentgroup": "True",
         "hovertemplate": "Nationality=German<br>Period=Before 1983<br>Department=%{x}<br>Count=%{y}<extra></extra>",
         "legendgroup": "German",
         "marker": {
          "color": "#9ACD32",
          "pattern": {
           "shape": ""
          }
         },
         "name": "German",
         "offsetgroup": "German",
         "orientation": "v",
         "showlegend": true,
         "textposition": "auto",
         "type": "bar",
         "x": [
          "Architecture & Design",
          "Drawings & Prints",
          "Film",
          "Media and Performance",
          "Painting & Sculpture",
          "Photography"
         ],
         "xaxis": "x",
         "y": [
          605,
          1082,
          3,
          8,
          58,
          376
         ],
         "yaxis": "y"
        },
        {
         "alignmentgroup": "True",
         "hovertemplate": "Nationality=German<br>Period=After 1983<br>Department=%{x}<br>Count=%{y}<extra></extra>",
         "legendgroup": "German",
         "marker": {
          "color": "#9ACD32",
          "pattern": {
           "shape": ""
          }
         },
         "name": "German",
         "offsetgroup": "German",
         "orientation": "v",
         "showlegend": false,
         "textposition": "auto",
         "type": "bar",
         "x": [
          "Architecture & Design",
          "Drawings & Prints",
          "Film",
          "Media and Performance",
          "Painting & Sculpture",
          "Photography"
         ],
         "xaxis": "x2",
         "y": [
          160,
          1851,
          11,
          82,
          82,
          495
         ],
         "yaxis": "y2"
        },
        {
         "alignmentgroup": "True",
         "hovertemplate": "Nationality=Greek<br>Period=Before 1983<br>Department=%{x}<br>Count=%{y}<extra></extra>",
         "legendgroup": "Greek",
         "marker": {
          "color": "#6B8E23",
          "pattern": {
           "shape": ""
          }
         },
         "name": "Greek",
         "offsetgroup": "Greek",
         "orientation": "v",
         "showlegend": true,
         "textposition": "auto",
         "type": "bar",
         "x": [
          "Drawings & Prints",
          "Photography"
         ],
         "xaxis": "x",
         "y": [
          5,
          3
         ],
         "yaxis": "y"
        },
        {
         "alignmentgroup": "True",
         "hovertemplate": "Nationality=Greek<br>Period=After 1983<br>Department=%{x}<br>Count=%{y}<extra></extra>",
         "legendgroup": "Greek",
         "marker": {
          "color": "#6B8E23",
          "pattern": {
           "shape": ""
          }
         },
         "name": "Greek",
         "offsetgroup": "Greek",
         "orientation": "v",
         "showlegend": false,
         "textposition": "auto",
         "type": "bar",
         "x": [
          "Architecture & Design",
          "Drawings & Prints"
         ],
         "xaxis": "x2",
         "y": [
          6,
          16
         ],
         "yaxis": "y2"
        },
        {
         "alignmentgroup": "True",
         "hovertemplate": "Nationality=Guatemalan<br>Period=Before 1983<br>Department=%{x}<br>Count=%{y}<extra></extra>",
         "legendgroup": "Guatemalan",
         "marker": {
          "color": "#66CDAA",
          "pattern": {
           "shape": ""
          }
         },
         "name": "Guatemalan",
         "offsetgroup": "Guatemalan",
         "orientation": "v",
         "showlegend": true,
         "textposition": "auto",
         "type": "bar",
         "x": [
          "Drawings & Prints"
         ],
         "xaxis": "x",
         "y": [
          19
         ],
         "yaxis": "y"
        },
        {
         "alignmentgroup": "True",
         "hovertemplate": "Nationality=Haitian<br>Period=Before 1983<br>Department=%{x}<br>Count=%{y}<extra></extra>",
         "legendgroup": "Haitian",
         "marker": {
          "color": "#20B2AA",
          "pattern": {
           "shape": ""
          }
         },
         "name": "Haitian",
         "offsetgroup": "Haitian",
         "orientation": "v",
         "showlegend": true,
         "textposition": "auto",
         "type": "bar",
         "x": [
          "Drawings & Prints",
          "Painting & Sculpture"
         ],
         "xaxis": "x",
         "y": [
          4,
          1
         ],
         "yaxis": "y"
        },
        {
         "alignmentgroup": "True",
         "hovertemplate": "Nationality=Hungarian<br>Period=Before 1983<br>Department=%{x}<br>Count=%{y}<extra></extra>",
         "legendgroup": "Hungarian",
         "marker": {
          "color": "#5F9EA0",
          "pattern": {
           "shape": ""
          }
         },
         "name": "Hungarian",
         "offsetgroup": "Hungarian",
         "orientation": "v",
         "showlegend": true,
         "textposition": "auto",
         "type": "bar",
         "x": [
          "Architecture & Design",
          "Painting & Sculpture",
          "Photography"
         ],
         "xaxis": "x",
         "y": [
          6,
          1,
          206
         ],
         "yaxis": "y"
        },
        {
         "alignmentgroup": "True",
         "hovertemplate": "Nationality=Hungarian<br>Period=After 1983<br>Department=%{x}<br>Count=%{y}<extra></extra>",
         "legendgroup": "Hungarian",
         "marker": {
          "color": "#5F9EA0",
          "pattern": {
           "shape": ""
          }
         },
         "name": "Hungarian",
         "offsetgroup": "Hungarian",
         "orientation": "v",
         "showlegend": false,
         "textposition": "auto",
         "type": "bar",
         "x": [
          "Architecture & Design",
          "Media and Performance"
         ],
         "xaxis": "x2",
         "y": [
          16,
          13
         ],
         "yaxis": "y2"
        },
        {
         "alignmentgroup": "True",
         "hovertemplate": "Nationality=Icelandic<br>Period=Before 1983<br>Department=%{x}<br>Count=%{y}<extra></extra>",
         "legendgroup": "Icelandic",
         "marker": {
          "color": "#4682B4",
          "pattern": {
           "shape": ""
          }
         },
         "name": "Icelandic",
         "offsetgroup": "Icelandic",
         "orientation": "v",
         "showlegend": true,
         "textposition": "auto",
         "type": "bar",
         "x": [
          "Drawings & Prints",
          "Media and Performance"
         ],
         "xaxis": "x",
         "y": [
          2,
          6
         ],
         "yaxis": "y"
        },
        {
         "alignmentgroup": "True",
         "hovertemplate": "Nationality=Icelandic<br>Period=After 1983<br>Department=%{x}<br>Count=%{y}<extra></extra>",
         "legendgroup": "Icelandic",
         "marker": {
          "color": "#4682B4",
          "pattern": {
           "shape": ""
          }
         },
         "name": "Icelandic",
         "offsetgroup": "Icelandic",
         "orientation": "v",
         "showlegend": false,
         "textposition": "auto",
         "type": "bar",
         "x": [
          "Drawings & Prints",
          "Media and Performance"
         ],
         "xaxis": "x2",
         "y": [
          12,
          9
         ],
         "yaxis": "y2"
        },
        {
         "alignmentgroup": "True",
         "hovertemplate": "Nationality=Indian<br>Period=Before 1983<br>Department=%{x}<br>Count=%{y}<extra></extra>",
         "legendgroup": "Indian",
         "marker": {
          "color": "#B0C4DE",
          "pattern": {
           "shape": ""
          }
         },
         "name": "Indian",
         "offsetgroup": "Indian",
         "orientation": "v",
         "showlegend": true,
         "textposition": "auto",
         "type": "bar",
         "x": [
          "Architecture & Design",
          "Drawings & Prints",
          "Photography"
         ],
         "xaxis": "x",
         "y": [
          13,
          4,
          4
         ],
         "yaxis": "y"
        },
        {
         "alignmentgroup": "True",
         "hovertemplate": "Nationality=Indian<br>Period=After 1983<br>Department=%{x}<br>Count=%{y}<extra></extra>",
         "legendgroup": "Indian",
         "marker": {
          "color": "#B0C4DE",
          "pattern": {
           "shape": ""
          }
         },
         "name": "Indian",
         "offsetgroup": "Indian",
         "orientation": "v",
         "showlegend": false,
         "textposition": "auto",
         "type": "bar",
         "x": [
          "Architecture & Design",
          "Drawings & Prints",
          "Photography"
         ],
         "xaxis": "x2",
         "y": [
          13,
          44,
          78
         ],
         "yaxis": "y2"
        },
        {
         "alignmentgroup": "True",
         "hovertemplate": "Nationality=Irish<br>Period=Before 1983<br>Department=%{x}<br>Count=%{y}<extra></extra>",
         "legendgroup": "Irish",
         "marker": {
          "color": "#87CEFA",
          "pattern": {
           "shape": ""
          }
         },
         "name": "Irish",
         "offsetgroup": "Irish",
         "orientation": "v",
         "showlegend": true,
         "textposition": "auto",
         "type": "bar",
         "x": [
          "Drawings & Prints",
          "Photography"
         ],
         "xaxis": "x",
         "y": [
          1,
          3
         ],
         "yaxis": "y"
        },
        {
         "alignmentgroup": "True",
         "hovertemplate": "Nationality=Irish<br>Period=After 1983<br>Department=%{x}<br>Count=%{y}<extra></extra>",
         "legendgroup": "Irish",
         "marker": {
          "color": "#87CEFA",
          "pattern": {
           "shape": ""
          }
         },
         "name": "Irish",
         "offsetgroup": "Irish",
         "orientation": "v",
         "showlegend": false,
         "textposition": "auto",
         "type": "bar",
         "x": [
          "Architecture & Design",
          "Drawings & Prints"
         ],
         "xaxis": "x2",
         "y": [
          15,
          8
         ],
         "yaxis": "y2"
        },
        {
         "alignmentgroup": "True",
         "hovertemplate": "Nationality=Israeli<br>Period=Before 1983<br>Department=%{x}<br>Count=%{y}<extra></extra>",
         "legendgroup": "Israeli",
         "marker": {
          "color": "#6495ED",
          "pattern": {
           "shape": ""
          }
         },
         "name": "Israeli",
         "offsetgroup": "Israeli",
         "orientation": "v",
         "showlegend": true,
         "textposition": "auto",
         "type": "bar",
         "x": [
          "Architecture & Design",
          "Drawings & Prints",
          "Photography"
         ],
         "xaxis": "x",
         "y": [
          6,
          54,
          2
         ],
         "yaxis": "y"
        },
        {
         "alignmentgroup": "True",
         "hovertemplate": "Nationality=Israeli<br>Period=After 1983<br>Department=%{x}<br>Count=%{y}<extra></extra>",
         "legendgroup": "Israeli",
         "marker": {
          "color": "#6495ED",
          "pattern": {
           "shape": ""
          }
         },
         "name": "Israeli",
         "offsetgroup": "Israeli",
         "orientation": "v",
         "showlegend": false,
         "textposition": "auto",
         "type": "bar",
         "x": [
          "Architecture & Design",
          "Drawings & Prints",
          "Media and Performance",
          "Photography"
         ],
         "xaxis": "x2",
         "y": [
          25,
          81,
          11,
          23
         ],
         "yaxis": "y2"
        },
        {
         "alignmentgroup": "True",
         "hovertemplate": "Nationality=Italian<br>Period=Before 1983<br>Department=%{x}<br>Count=%{y}<extra></extra>",
         "legendgroup": "Italian",
         "marker": {
          "color": "#00BFFF",
          "pattern": {
           "shape": ""
          }
         },
         "name": "Italian",
         "offsetgroup": "Italian",
         "orientation": "v",
         "showlegend": true,
         "textposition": "auto",
         "type": "bar",
         "x": [
          "Architecture & Design",
          "Drawings & Prints",
          "Fluxus Collection",
          "Painting & Sculpture",
          "Photography"
         ],
         "xaxis": "x",
         "y": [
          218,
          384,
          1,
          33,
          99
         ],
         "yaxis": "y"
        },
        {
         "alignmentgroup": "True",
         "hovertemplate": "Nationality=Italian<br>Period=After 1983<br>Department=%{x}<br>Count=%{y}<extra></extra>",
         "legendgroup": "Italian",
         "marker": {
          "color": "#00BFFF",
          "pattern": {
           "shape": ""
          }
         },
         "name": "Italian",
         "offsetgroup": "Italian",
         "orientation": "v",
         "showlegend": false,
         "textposition": "auto",
         "type": "bar",
         "x": [
          "Architecture & Design",
          "Drawings & Prints",
          "Media and Performance",
          "Painting & Sculpture",
          "Photography"
         ],
         "xaxis": "x2",
         "y": [
          226,
          394,
          10,
          12,
          9
         ],
         "yaxis": "y2"
        },
        {
         "alignmentgroup": "True",
         "hovertemplate": "Nationality=Japanese<br>Period=Before 1983<br>Department=%{x}<br>Count=%{y}<extra></extra>",
         "legendgroup": "Japanese",
         "marker": {
          "color": "#1E90FF",
          "pattern": {
           "shape": ""
          }
         },
         "name": "Japanese",
         "offsetgroup": "Japanese",
         "orientation": "v",
         "showlegend": true,
         "textposition": "auto",
         "type": "bar",
         "x": [
          "Architecture & Design",
          "Drawings & Prints",
          "Media and Performance",
          "Painting & Sculpture",
          "Photography"
         ],
         "xaxis": "x",
         "y": [
          80,
          309,
          9,
          20,
          146
         ],
         "yaxis": "y"
        },
        {
         "alignmentgroup": "True",
         "hovertemplate": "Nationality=Japanese<br>Period=After 1983<br>Department=%{x}<br>Count=%{y}<extra></extra>",
         "legendgroup": "Japanese",
         "marker": {
          "color": "#1E90FF",
          "pattern": {
           "shape": ""
          }
         },
         "name": "Japanese",
         "offsetgroup": "Japanese",
         "orientation": "v",
         "showlegend": false,
         "textposition": "auto",
         "type": "bar",
         "x": [
          "Architecture & Design",
          "Drawings & Prints",
          "Media and Performance",
          "Painting & Sculpture",
          "Photography"
         ],
         "xaxis": "x2",
         "y": [
          381,
          273,
          45,
          8,
          104
         ],
         "yaxis": "y2"
        },
        {
         "alignmentgroup": "True",
         "hovertemplate": "Nationality=Korean<br>Period=Before 1983<br>Department=%{x}<br>Count=%{y}<extra></extra>",
         "legendgroup": "Korean",
         "marker": {
          "color": "#0000CD",
          "pattern": {
           "shape": ""
          }
         },
         "name": "Korean",
         "offsetgroup": "Korean",
         "orientation": "v",
         "showlegend": true,
         "textposition": "auto",
         "type": "bar",
         "x": [
          "Drawings & Prints"
         ],
         "xaxis": "x",
         "y": [
          3
         ],
         "yaxis": "y"
        },
        {
         "alignmentgroup": "True",
         "hovertemplate": "Nationality=Korean<br>Period=After 1983<br>Department=%{x}<br>Count=%{y}<extra></extra>",
         "legendgroup": "Korean",
         "marker": {
          "color": "#0000CD",
          "pattern": {
           "shape": ""
          }
         },
         "name": "Korean",
         "offsetgroup": "Korean",
         "orientation": "v",
         "showlegend": false,
         "textposition": "auto",
         "type": "bar",
         "x": [
          "Architecture & Design",
          "Drawings & Prints",
          "Film"
         ],
         "xaxis": "x2",
         "y": [
          20,
          53,
          6
         ],
         "yaxis": "y2"
        },
        {
         "alignmentgroup": "True",
         "hovertemplate": "Nationality=Latvian<br>Period=Before 1983<br>Department=%{x}<br>Count=%{y}<extra></extra>",
         "legendgroup": "Latvian",
         "marker": {
          "color": "#191970",
          "pattern": {
           "shape": ""
          }
         },
         "name": "Latvian",
         "offsetgroup": "Latvian",
         "orientation": "v",
         "showlegend": true,
         "textposition": "auto",
         "type": "bar",
         "x": [
          "Architecture & Design",
          "Drawings & Prints"
         ],
         "xaxis": "x",
         "y": [
          9,
          12
         ],
         "yaxis": "y"
        },
        {
         "alignmentgroup": "True",
         "hovertemplate": "Nationality=Lithuanian<br>Period=Before 1983<br>Department=%{x}<br>Count=%{y}<extra></extra>",
         "legendgroup": "Lithuanian",
         "marker": {
          "color": "#FFDEAD",
          "pattern": {
           "shape": ""
          }
         },
         "name": "Lithuanian",
         "offsetgroup": "Lithuanian",
         "orientation": "v",
         "showlegend": true,
         "textposition": "auto",
         "type": "bar",
         "x": [
          "Photography"
         ],
         "xaxis": "x",
         "y": [
          2
         ],
         "yaxis": "y"
        },
        {
         "alignmentgroup": "True",
         "hovertemplate": "Nationality=Luxembourgish<br>Period=Before 1983<br>Department=%{x}<br>Count=%{y}<extra></extra>",
         "legendgroup": "Luxembourgish",
         "marker": {
          "color": "#DEB887",
          "pattern": {
           "shape": ""
          }
         },
         "name": "Luxembourgish",
         "offsetgroup": "Luxembourgish",
         "orientation": "v",
         "showlegend": true,
         "textposition": "auto",
         "type": "bar",
         "x": [
          "Architecture & Design"
         ],
         "xaxis": "x",
         "y": [
          3
         ],
         "yaxis": "y"
        },
        {
         "alignmentgroup": "True",
         "hovertemplate": "Nationality=Luxembourgish<br>Period=After 1983<br>Department=%{x}<br>Count=%{y}<extra></extra>",
         "legendgroup": "Luxembourgish",
         "marker": {
          "color": "#DEB887",
          "pattern": {
           "shape": ""
          }
         },
         "name": "Luxembourgish",
         "offsetgroup": "Luxembourgish",
         "orientation": "v",
         "showlegend": false,
         "textposition": "auto",
         "type": "bar",
         "x": [
          "Architecture & Design"
         ],
         "xaxis": "x2",
         "y": [
          31
         ],
         "yaxis": "y2"
        },
        {
         "alignmentgroup": "True",
         "hovertemplate": "Nationality=Macedonian<br>Period=Before 1983<br>Department=%{x}<br>Count=%{y}<extra></extra>",
         "legendgroup": "Macedonian",
         "marker": {
          "color": "#BC8F8F",
          "pattern": {
           "shape": ""
          }
         },
         "name": "Macedonian",
         "offsetgroup": "Macedonian",
         "orientation": "v",
         "showlegend": true,
         "textposition": "auto",
         "type": "bar",
         "x": [
          "Architecture & Design"
         ],
         "xaxis": "x",
         "y": [
          3
         ],
         "yaxis": "y"
        },
        {
         "alignmentgroup": "True",
         "hovertemplate": "Nationality=Macedonian<br>Period=After 1983<br>Department=%{x}<br>Count=%{y}<extra></extra>",
         "legendgroup": "Macedonian",
         "marker": {
          "color": "#BC8F8F",
          "pattern": {
           "shape": ""
          }
         },
         "name": "Macedonian",
         "offsetgroup": "Macedonian",
         "orientation": "v",
         "showlegend": false,
         "textposition": "auto",
         "type": "bar",
         "x": [
          "Architecture & Design"
         ],
         "xaxis": "x2",
         "y": [
          5
         ],
         "yaxis": "y2"
        },
        {
         "alignmentgroup": "True",
         "hovertemplate": "Nationality=Malian<br>Period=Before 1983<br>Department=%{x}<br>Count=%{y}<extra></extra>",
         "legendgroup": "Malian",
         "marker": {
          "color": "#DAA520",
          "pattern": {
           "shape": ""
          }
         },
         "name": "Malian",
         "offsetgroup": "Malian",
         "orientation": "v",
         "showlegend": true,
         "textposition": "auto",
         "type": "bar",
         "x": [
          "Photography"
         ],
         "xaxis": "x",
         "y": [
          6
         ],
         "yaxis": "y"
        },
        {
         "alignmentgroup": "True",
         "hovertemplate": "Nationality=Mexican<br>Period=Before 1983<br>Department=%{x}<br>Count=%{y}<extra></extra>",
         "legendgroup": "Mexican",
         "marker": {
          "color": "#B8860B",
          "pattern": {
           "shape": ""
          }
         },
         "name": "Mexican",
         "offsetgroup": "Mexican",
         "orientation": "v",
         "showlegend": true,
         "textposition": "auto",
         "type": "bar",
         "x": [
          "Architecture & Design",
          "Drawings & Prints",
          "Painting & Sculpture",
          "Photography"
         ],
         "xaxis": "x",
         "y": [
          40,
          274,
          8,
          27
         ],
         "yaxis": "y"
        },
        {
         "alignmentgroup": "True",
         "hovertemplate": "Nationality=Mexican<br>Period=After 1983<br>Department=%{x}<br>Count=%{y}<extra></extra>",
         "legendgroup": "Mexican",
         "marker": {
          "color": "#B8860B",
          "pattern": {
           "shape": ""
          }
         },
         "name": "Mexican",
         "offsetgroup": "Mexican",
         "orientation": "v",
         "showlegend": false,
         "textposition": "auto",
         "type": "bar",
         "x": [
          "Architecture & Design",
          "Drawings & Prints",
          "Film",
          "Media and Performance",
          "Painting & Sculpture",
          "Photography"
         ],
         "xaxis": "x2",
         "y": [
          16,
          120,
          6,
          34,
          8,
          37
         ],
         "yaxis": "y2"
        },
        {
         "alignmentgroup": "True",
         "hovertemplate": "Nationality=Nationality unknown<br>Period=Before 1983<br>Department=%{x}<br>Count=%{y}<extra></extra>",
         "legendgroup": "Nationality unknown",
         "marker": {
          "color": "#D2691E",
          "pattern": {
           "shape": ""
          }
         },
         "name": "Nationality unknown",
         "offsetgroup": "Nationality unknown",
         "orientation": "v",
         "showlegend": true,
         "textposition": "auto",
         "type": "bar",
         "x": [
          "Architecture & Design"
         ],
         "xaxis": "x",
         "y": [
          231
         ],
         "yaxis": "y"
        },
        {
         "alignmentgroup": "True",
         "hovertemplate": "Nationality=Nationality unknown<br>Period=After 1983<br>Department=%{x}<br>Count=%{y}<extra></extra>",
         "legendgroup": "Nationality unknown",
         "marker": {
          "color": "#D2691E",
          "pattern": {
           "shape": ""
          }
         },
         "name": "Nationality unknown",
         "offsetgroup": "Nationality unknown",
         "orientation": "v",
         "showlegend": false,
         "textposition": "auto",
         "type": "bar",
         "x": [
          "Architecture & Design",
          "Film"
         ],
         "xaxis": "x2",
         "y": [
          22,
          5
         ],
         "yaxis": "y2"
        },
        {
         "alignmentgroup": "True",
         "hovertemplate": "Nationality=Nigerian<br>Period=Before 1983<br>Department=%{x}<br>Count=%{y}<extra></extra>",
         "legendgroup": "Nigerian",
         "marker": {
          "color": "#8B4513",
          "pattern": {
           "shape": ""
          }
         },
         "name": "Nigerian",
         "offsetgroup": "Nigerian",
         "orientation": "v",
         "showlegend": true,
         "textposition": "auto",
         "type": "bar",
         "x": [
          "Photography"
         ],
         "xaxis": "x",
         "y": [
          3
         ],
         "yaxis": "y"
        },
        {
         "alignmentgroup": "True",
         "hovertemplate": "Nationality=Norwegian<br>Period=Before 1983<br>Department=%{x}<br>Count=%{y}<extra></extra>",
         "legendgroup": "Norwegian",
         "marker": {
          "color": "#A52A2A",
          "pattern": {
           "shape": ""
          }
         },
         "name": "Norwegian",
         "offsetgroup": "Norwegian",
         "orientation": "v",
         "showlegend": true,
         "textposition": "auto",
         "type": "bar",
         "x": [
          "Drawings & Prints"
         ],
         "xaxis": "x",
         "y": [
          30
         ],
         "yaxis": "y"
        },
        {
         "alignmentgroup": "True",
         "hovertemplate": "Nationality=Norwegian<br>Period=After 1983<br>Department=%{x}<br>Count=%{y}<extra></extra>",
         "legendgroup": "Norwegian",
         "marker": {
          "color": "#A52A2A",
          "pattern": {
           "shape": ""
          }
         },
         "name": "Norwegian",
         "offsetgroup": "Norwegian",
         "orientation": "v",
         "showlegend": false,
         "textposition": "auto",
         "type": "bar",
         "x": [
          "Architecture & Design",
          "Drawings & Prints",
          "Photography"
         ],
         "xaxis": "x2",
         "y": [
          14,
          57,
          8
         ],
         "yaxis": "y2"
        },
        {
         "alignmentgroup": "True",
         "hovertemplate": "Nationality=Others<br>Period=Before 1983<br>Department=%{x}<br>Count=%{y}<extra></extra>",
         "legendgroup": "Others",
         "marker": {
          "color": "#F0FFF0",
          "pattern": {
           "shape": ""
          }
         },
         "name": "Others",
         "offsetgroup": "Others",
         "orientation": "v",
         "showlegend": true,
         "textposition": "auto",
         "type": "bar",
         "x": [
          "Architecture & Design",
          "Architecture & Design - Image Archive",
          "Drawings & Prints",
          "Film",
          "Fluxus Collection",
          "Media and Performance",
          "Painting & Sculpture",
          "Photography"
         ],
         "xaxis": "x",
         "y": [
          111,
          1,
          183,
          22,
          80,
          12,
          105,
          54
         ],
         "yaxis": "y"
        },
        {
         "alignmentgroup": "True",
         "hovertemplate": "Nationality=Others<br>Period=After 1983<br>Department=%{x}<br>Count=%{y}<extra></extra>",
         "legendgroup": "Others",
         "marker": {
          "color": "#F0FFF0",
          "pattern": {
           "shape": ""
          }
         },
         "name": "Others",
         "offsetgroup": "Others",
         "orientation": "v",
         "showlegend": false,
         "textposition": "auto",
         "type": "bar",
         "x": [
          "Architecture & Design",
          "Drawings & Prints",
          "Film",
          "Fluxus Collection",
          "Media and Performance",
          "Painting & Sculpture",
          "Photography"
         ],
         "xaxis": "x2",
         "y": [
          26,
          34,
          47,
          8,
          75,
          59,
          21
         ],
         "yaxis": "y2"
        },
        {
         "alignmentgroup": "True",
         "hovertemplate": "Nationality=Peruvian<br>Period=Before 1983<br>Department=%{x}<br>Count=%{y}<extra></extra>",
         "legendgroup": "Peruvian",
         "marker": {
          "color": "#708090",
          "pattern": {
           "shape": ""
          }
         },
         "name": "Peruvian",
         "offsetgroup": "Peruvian",
         "orientation": "v",
         "showlegend": true,
         "textposition": "auto",
         "type": "bar",
         "x": [
          "Architecture & Design",
          "Drawings & Prints",
          "Photography"
         ],
         "xaxis": "x",
         "y": [
          8,
          6,
          11
         ],
         "yaxis": "y"
        },
        {
         "alignmentgroup": "True",
         "hovertemplate": "Nationality=Peruvian<br>Period=After 1983<br>Department=%{x}<br>Count=%{y}<extra></extra>",
         "legendgroup": "Peruvian",
         "marker": {
          "color": "#708090",
          "pattern": {
           "shape": ""
          }
         },
         "name": "Peruvian",
         "offsetgroup": "Peruvian",
         "orientation": "v",
         "showlegend": false,
         "textposition": "auto",
         "type": "bar",
         "x": [
          "Drawings & Prints",
          "Photography"
         ],
         "xaxis": "x2",
         "y": [
          13,
          6
         ],
         "yaxis": "y2"
        },
        {
         "alignmentgroup": "True",
         "hovertemplate": "Nationality=Polish<br>Period=Before 1983<br>Department=%{x}<br>Count=%{y}<extra></extra>",
         "legendgroup": "Polish",
         "marker": {
          "color": "#2F4F4F",
          "pattern": {
           "shape": ""
          }
         },
         "name": "Polish",
         "offsetgroup": "Polish",
         "orientation": "v",
         "showlegend": true,
         "textposition": "auto",
         "type": "bar",
         "x": [
          "Architecture & Design",
          "Drawings & Prints",
          "Fluxus Collection",
          "Painting & Sculpture",
          "Photography"
         ],
         "xaxis": "x",
         "y": [
          46,
          50,
          6,
          5,
          17
         ],
         "yaxis": "y"
        },
        {
         "alignmentgroup": "True",
         "hovertemplate": "Nationality=Polish<br>Period=After 1983<br>Department=%{x}<br>Count=%{y}<extra></extra>",
         "legendgroup": "Polish",
         "marker": {
          "color": "#2F4F4F",
          "pattern": {
           "shape": ""
          }
         },
         "name": "Polish",
         "offsetgroup": "Polish",
         "orientation": "v",
         "showlegend": false,
         "textposition": "auto",
         "type": "bar",
         "x": [
          "Architecture & Design",
          "Drawings & Prints",
          "Fluxus Collection",
          "Painting & Sculpture",
          "Photography"
         ],
         "xaxis": "x2",
         "y": [
          22,
          73,
          28,
          5,
          11
         ],
         "yaxis": "y2"
        },
        {
         "alignmentgroup": "True",
         "hovertemplate": "Nationality=Portuguese<br>Period=Before 1983<br>Department=%{x}<br>Count=%{y}<extra></extra>",
         "legendgroup": "Portuguese",
         "marker": {
          "color": "#696969",
          "pattern": {
           "shape": ""
          }
         },
         "name": "Portuguese",
         "offsetgroup": "Portuguese",
         "orientation": "v",
         "showlegend": true,
         "textposition": "auto",
         "type": "bar",
         "x": [
          "Architecture & Design",
          "Drawings & Prints"
         ],
         "xaxis": "x",
         "y": [
          30,
          2
         ],
         "yaxis": "y"
        },
        {
         "alignmentgroup": "True",
         "hovertemplate": "Nationality=Portuguese<br>Period=After 1983<br>Department=%{x}<br>Count=%{y}<extra></extra>",
         "legendgroup": "Portuguese",
         "marker": {
          "color": "#696969",
          "pattern": {
           "shape": ""
          }
         },
         "name": "Portuguese",
         "offsetgroup": "Portuguese",
         "orientation": "v",
         "showlegend": false,
         "textposition": "auto",
         "type": "bar",
         "x": [
          "Architecture & Design",
          "Drawings & Prints"
         ],
         "xaxis": "x2",
         "y": [
          32,
          17
         ],
         "yaxis": "y2"
        },
        {
         "alignmentgroup": "True",
         "hovertemplate": "Nationality=Puerto Rican<br>Period=Before 1983<br>Department=%{x}<br>Count=%{y}<extra></extra>",
         "legendgroup": "Puerto Rican",
         "marker": {
          "color": "#8FBC8F",
          "pattern": {
           "shape": ""
          }
         },
         "name": "Puerto Rican",
         "offsetgroup": "Puerto Rican",
         "orientation": "v",
         "showlegend": true,
         "textposition": "auto",
         "type": "bar",
         "x": [
          "Architecture & Design"
         ],
         "xaxis": "x",
         "y": [
          4
         ],
         "yaxis": "y"
        },
        {
         "alignmentgroup": "True",
         "hovertemplate": "Nationality=Romanian<br>Period=Before 1983<br>Department=%{x}<br>Count=%{y}<extra></extra>",
         "legendgroup": "Romanian",
         "marker": {
          "color": "#00CED1",
          "pattern": {
           "shape": ""
          }
         },
         "name": "Romanian",
         "offsetgroup": "Romanian",
         "orientation": "v",
         "showlegend": true,
         "textposition": "auto",
         "type": "bar",
         "x": [
          "Drawings & Prints",
          "Painting & Sculpture"
         ],
         "xaxis": "x",
         "y": [
          14,
          2
         ],
         "yaxis": "y"
        },
        {
         "alignmentgroup": "True",
         "hovertemplate": "Nationality=Romanian<br>Period=After 1983<br>Department=%{x}<br>Count=%{y}<extra></extra>",
         "legendgroup": "Romanian",
         "marker": {
          "color": "#00CED1",
          "pattern": {
           "shape": ""
          }
         },
         "name": "Romanian",
         "offsetgroup": "Romanian",
         "orientation": "v",
         "showlegend": false,
         "textposition": "auto",
         "type": "bar",
         "x": [
          "Drawings & Prints"
         ],
         "xaxis": "x2",
         "y": [
          7
         ],
         "yaxis": "y2"
        },
        {
         "alignmentgroup": "True",
         "hovertemplate": "Nationality=Russian<br>Period=Before 1983<br>Department=%{x}<br>Count=%{y}<extra></extra>",
         "legendgroup": "Russian",
         "marker": {
          "color": "#FFC0CB",
          "pattern": {
           "shape": ""
          }
         },
         "name": "Russian",
         "offsetgroup": "Russian",
         "orientation": "v",
         "showlegend": true,
         "textposition": "auto",
         "type": "bar",
         "x": [
          "Architecture & Design",
          "Drawings & Prints",
          "Painting & Sculpture",
          "Photography"
         ],
         "xaxis": "x",
         "y": [
          60,
          679,
          11,
          29
         ],
         "yaxis": "y"
        },
        {
         "alignmentgroup": "True",
         "hovertemplate": "Nationality=Russian<br>Period=After 1983<br>Department=%{x}<br>Count=%{y}<extra></extra>",
         "legendgroup": "Russian",
         "marker": {
          "color": "#FFC0CB",
          "pattern": {
           "shape": ""
          }
         },
         "name": "Russian",
         "offsetgroup": "Russian",
         "orientation": "v",
         "showlegend": false,
         "textposition": "auto",
         "type": "bar",
         "x": [
          "Architecture & Design",
          "Drawings & Prints",
          "Photography"
         ],
         "xaxis": "x2",
         "y": [
          58,
          45,
          22
         ],
         "yaxis": "y2"
        },
        {
         "alignmentgroup": "True",
         "hovertemplate": "Nationality=Serbian<br>Period=Before 1983<br>Department=%{x}<br>Count=%{y}<extra></extra>",
         "legendgroup": "Serbian",
         "marker": {
          "color": "#FF69B4",
          "pattern": {
           "shape": ""
          }
         },
         "name": "Serbian",
         "offsetgroup": "Serbian",
         "orientation": "v",
         "showlegend": true,
         "textposition": "auto",
         "type": "bar",
         "x": [
          "Architecture & Design",
          "Photography"
         ],
         "xaxis": "x",
         "y": [
          4,
          3
         ],
         "yaxis": "y"
        },
        {
         "alignmentgroup": "True",
         "hovertemplate": "Nationality=Serbian<br>Period=After 1983<br>Department=%{x}<br>Count=%{y}<extra></extra>",
         "legendgroup": "Serbian",
         "marker": {
          "color": "#FF69B4",
          "pattern": {
           "shape": ""
          }
         },
         "name": "Serbian",
         "offsetgroup": "Serbian",
         "orientation": "v",
         "showlegend": false,
         "textposition": "auto",
         "type": "bar",
         "x": [
          "Architecture & Design"
         ],
         "xaxis": "x2",
         "y": [
          6
         ],
         "yaxis": "y2"
        },
        {
         "alignmentgroup": "True",
         "hovertemplate": "Nationality=Slovenian<br>Period=Before 1983<br>Department=%{x}<br>Count=%{y}<extra></extra>",
         "legendgroup": "Slovenian",
         "marker": {
          "color": "#DB7093",
          "pattern": {
           "shape": ""
          }
         },
         "name": "Slovenian",
         "offsetgroup": "Slovenian",
         "orientation": "v",
         "showlegend": true,
         "textposition": "auto",
         "type": "bar",
         "x": [
          "Architecture & Design",
          "Drawings & Prints"
         ],
         "xaxis": "x",
         "y": [
          2,
          2
         ],
         "yaxis": "y"
        },
        {
         "alignmentgroup": "True",
         "hovertemplate": "Nationality=Slovenian<br>Period=After 1983<br>Department=%{x}<br>Count=%{y}<extra></extra>",
         "legendgroup": "Slovenian",
         "marker": {
          "color": "#DB7093",
          "pattern": {
           "shape": ""
          }
         },
         "name": "Slovenian",
         "offsetgroup": "Slovenian",
         "orientation": "v",
         "showlegend": false,
         "textposition": "auto",
         "type": "bar",
         "x": [
          "Architecture & Design",
          "Drawings & Prints"
         ],
         "xaxis": "x2",
         "y": [
          11,
          10
         ],
         "yaxis": "y2"
        },
        {
         "alignmentgroup": "True",
         "hovertemplate": "Nationality=South African<br>Period=Before 1983<br>Department=%{x}<br>Count=%{y}<extra></extra>",
         "legendgroup": "South African",
         "marker": {
          "color": "#C71585",
          "pattern": {
           "shape": ""
          }
         },
         "name": "South African",
         "offsetgroup": "South African",
         "orientation": "v",
         "showlegend": true,
         "textposition": "auto",
         "type": "bar",
         "x": [
          "Drawings & Prints",
          "Photography"
         ],
         "xaxis": "x",
         "y": [
          6,
          18
         ],
         "yaxis": "y"
        },
        {
         "alignmentgroup": "True",
         "hovertemplate": "Nationality=South African<br>Period=After 1983<br>Department=%{x}<br>Count=%{y}<extra></extra>",
         "legendgroup": "South African",
         "marker": {
          "color": "#C71585",
          "pattern": {
           "shape": ""
          }
         },
         "name": "South African",
         "offsetgroup": "South African",
         "orientation": "v",
         "showlegend": false,
         "textposition": "auto",
         "type": "bar",
         "x": [
          "Architecture & Design",
          "Drawings & Prints",
          "Media and Performance",
          "Painting & Sculpture",
          "Photography"
         ],
         "xaxis": "x2",
         "y": [
          16,
          247,
          9,
          6,
          61
         ],
         "yaxis": "y2"
        },
        {
         "alignmentgroup": "True",
         "hovertemplate": "Nationality=Spanish<br>Period=Before 1983<br>Department=%{x}<br>Count=%{y}<extra></extra>",
         "legendgroup": "Spanish",
         "marker": {
          "color": "#E6E6FA",
          "pattern": {
           "shape": ""
          }
         },
         "name": "Spanish",
         "offsetgroup": "Spanish",
         "orientation": "v",
         "showlegend": true,
         "textposition": "auto",
         "type": "bar",
         "x": [
          "Architecture & Design",
          "Drawings & Prints",
          "Film",
          "Photography"
         ],
         "xaxis": "x",
         "y": [
          35,
          708,
          7,
          3
         ],
         "yaxis": "y"
        },
        {
         "alignmentgroup": "True",
         "hovertemplate": "Nationality=Spanish<br>Period=After 1983<br>Department=%{x}<br>Count=%{y}<extra></extra>",
         "legendgroup": "Spanish",
         "marker": {
          "color": "#E6E6FA",
          "pattern": {
           "shape": ""
          }
         },
         "name": "Spanish",
         "offsetgroup": "Spanish",
         "orientation": "v",
         "showlegend": false,
         "textposition": "auto",
         "type": "bar",
         "x": [
          "Architecture & Design",
          "Drawings & Prints",
          "Film",
          "Media and Performance",
          "Photography"
         ],
         "xaxis": "x2",
         "y": [
          88,
          413,
          19,
          13,
          9
         ],
         "yaxis": "y2"
        },
        {
         "alignmentgroup": "True",
         "hovertemplate": "Nationality=Sudanese<br>Period=Before 1983<br>Department=%{x}<br>Count=%{y}<extra></extra>",
         "legendgroup": "Sudanese",
         "marker": {
          "color": "#DDA0DD",
          "pattern": {
           "shape": ""
          }
         },
         "name": "Sudanese",
         "offsetgroup": "Sudanese",
         "orientation": "v",
         "showlegend": true,
         "textposition": "auto",
         "type": "bar",
         "x": [
          "Drawings & Prints"
         ],
         "xaxis": "x",
         "y": [
          11
         ],
         "yaxis": "y"
        },
        {
         "alignmentgroup": "True",
         "hovertemplate": "Nationality=Sudanese<br>Period=After 1983<br>Department=%{x}<br>Count=%{y}<extra></extra>",
         "legendgroup": "Sudanese",
         "marker": {
          "color": "#DDA0DD",
          "pattern": {
           "shape": ""
          }
         },
         "name": "Sudanese",
         "offsetgroup": "Sudanese",
         "orientation": "v",
         "showlegend": false,
         "textposition": "auto",
         "type": "bar",
         "x": [
          "Drawings & Prints"
         ],
         "xaxis": "x2",
         "y": [
          13
         ],
         "yaxis": "y2"
        },
        {
         "alignmentgroup": "True",
         "hovertemplate": "Nationality=Swedish<br>Period=Before 1983<br>Department=%{x}<br>Count=%{y}<extra></extra>",
         "legendgroup": "Swedish",
         "marker": {
          "color": "#EE82EE",
          "pattern": {
           "shape": ""
          }
         },
         "name": "Swedish",
         "offsetgroup": "Swedish",
         "orientation": "v",
         "showlegend": true,
         "textposition": "auto",
         "type": "bar",
         "x": [
          "Architecture & Design",
          "Drawings & Prints",
          "Photography"
         ],
         "xaxis": "x",
         "y": [
          38,
          24,
          9
         ],
         "yaxis": "y"
        },
        {
         "alignmentgroup": "True",
         "hovertemplate": "Nationality=Swedish<br>Period=After 1983<br>Department=%{x}<br>Count=%{y}<extra></extra>",
         "legendgroup": "Swedish",
         "marker": {
          "color": "#EE82EE",
          "pattern": {
           "shape": ""
          }
         },
         "name": "Swedish",
         "offsetgroup": "Swedish",
         "orientation": "v",
         "showlegend": false,
         "textposition": "auto",
         "type": "bar",
         "x": [
          "Architecture & Design",
          "Drawings & Prints",
          "Media and Performance",
          "Photography"
         ],
         "xaxis": "x2",
         "y": [
          13,
          25,
          8,
          6
         ],
         "yaxis": "y2"
        },
        {
         "alignmentgroup": "True",
         "hovertemplate": "Nationality=Swiss<br>Period=Before 1983<br>Department=%{x}<br>Count=%{y}<extra></extra>",
         "legendgroup": "Swiss",
         "marker": {
          "color": "#9932CC",
          "pattern": {
           "shape": ""
          }
         },
         "name": "Swiss",
         "offsetgroup": "Swiss",
         "orientation": "v",
         "showlegend": true,
         "textposition": "auto",
         "type": "bar",
         "x": [
          "Architecture & Design",
          "Drawings & Prints",
          "Fluxus Collection",
          "Media and Performance",
          "Painting & Sculpture",
          "Photography"
         ],
         "xaxis": "x",
         "y": [
          209,
          220,
          11,
          38,
          18,
          16
         ],
         "yaxis": "y"
        },
        {
         "alignmentgroup": "True",
         "hovertemplate": "Nationality=Swiss<br>Period=After 1983<br>Department=%{x}<br>Count=%{y}<extra></extra>",
         "legendgroup": "Swiss",
         "marker": {
          "color": "#9932CC",
          "pattern": {
           "shape": ""
          }
         },
         "name": "Swiss",
         "offsetgroup": "Swiss",
         "orientation": "v",
         "showlegend": false,
         "textposition": "auto",
         "type": "bar",
         "x": [
          "Architecture & Design",
          "Drawings & Prints",
          "Media and Performance",
          "Painting & Sculpture",
          "Photography"
         ],
         "xaxis": "x2",
         "y": [
          252,
          372,
          120,
          11,
          17
         ],
         "yaxis": "y2"
        },
        {
         "alignmentgroup": "True",
         "hovertemplate": "Nationality=Turkish<br>Period=Before 1983<br>Department=%{x}<br>Count=%{y}<extra></extra>",
         "legendgroup": "Turkish",
         "marker": {
          "color": "#8B008B",
          "pattern": {
           "shape": ""
          }
         },
         "name": "Turkish",
         "offsetgroup": "Turkish",
         "orientation": "v",
         "showlegend": true,
         "textposition": "auto",
         "type": "bar",
         "x": [
          "Drawings & Prints"
         ],
         "xaxis": "x",
         "y": [
          6
         ],
         "yaxis": "y"
        },
        {
         "alignmentgroup": "True",
         "hovertemplate": "Nationality=Turkish<br>Period=After 1983<br>Department=%{x}<br>Count=%{y}<extra></extra>",
         "legendgroup": "Turkish",
         "marker": {
          "color": "#8B008B",
          "pattern": {
           "shape": ""
          }
         },
         "name": "Turkish",
         "offsetgroup": "Turkish",
         "orientation": "v",
         "showlegend": false,
         "textposition": "auto",
         "type": "bar",
         "x": [
          "Drawings & Prints",
          "Painting & Sculpture"
         ],
         "xaxis": "x2",
         "y": [
          10,
          7
         ],
         "yaxis": "y2"
        },
        {
         "alignmentgroup": "True",
         "hovertemplate": "Nationality=Ukrainian<br>Period=Before 1983<br>Department=%{x}<br>Count=%{y}<extra></extra>",
         "legendgroup": "Ukrainian",
         "marker": {
          "color": "#9370DB",
          "pattern": {
           "shape": ""
          }
         },
         "name": "Ukrainian",
         "offsetgroup": "Ukrainian",
         "orientation": "v",
         "showlegend": true,
         "textposition": "auto",
         "type": "bar",
         "x": [
          "Photography"
         ],
         "xaxis": "x",
         "y": [
          3
         ],
         "yaxis": "y"
        },
        {
         "alignmentgroup": "True",
         "hovertemplate": "Nationality=Ukrainian<br>Period=After 1983<br>Department=%{x}<br>Count=%{y}<extra></extra>",
         "legendgroup": "Ukrainian",
         "marker": {
          "color": "#9370DB",
          "pattern": {
           "shape": ""
          }
         },
         "name": "Ukrainian",
         "offsetgroup": "Ukrainian",
         "orientation": "v",
         "showlegend": false,
         "textposition": "auto",
         "type": "bar",
         "x": [
          "Photography"
         ],
         "xaxis": "x2",
         "y": [
          32
         ],
         "yaxis": "y2"
        },
        {
         "alignmentgroup": "True",
         "hovertemplate": "Nationality=Uruguayan<br>Period=Before 1983<br>Department=%{x}<br>Count=%{y}<extra></extra>",
         "legendgroup": "Uruguayan",
         "marker": {
          "color": "#483D8B",
          "pattern": {
           "shape": ""
          }
         },
         "name": "Uruguayan",
         "offsetgroup": "Uruguayan",
         "orientation": "v",
         "showlegend": true,
         "textposition": "auto",
         "type": "bar",
         "x": [
          "Drawings & Prints",
          "Painting & Sculpture"
         ],
         "xaxis": "x",
         "y": [
          7,
          5
         ],
         "yaxis": "y"
        },
        {
         "alignmentgroup": "True",
         "hovertemplate": "Nationality=Uruguayan<br>Period=After 1983<br>Department=%{x}<br>Count=%{y}<extra></extra>",
         "legendgroup": "Uruguayan",
         "marker": {
          "color": "#483D8B",
          "pattern": {
           "shape": ""
          }
         },
         "name": "Uruguayan",
         "offsetgroup": "Uruguayan",
         "orientation": "v",
         "showlegend": false,
         "textposition": "auto",
         "type": "bar",
         "x": [
          "Drawings & Prints",
          "Media and Performance"
         ],
         "xaxis": "x2",
         "y": [
          43,
          5
         ],
         "yaxis": "y2"
        },
        {
         "alignmentgroup": "True",
         "hovertemplate": "Nationality=Venezuelan<br>Period=Before 1983<br>Department=%{x}<br>Count=%{y}<extra></extra>",
         "legendgroup": "Venezuelan",
         "marker": {
          "color": "#4B0082",
          "pattern": {
           "shape": ""
          }
         },
         "name": "Venezuelan",
         "offsetgroup": "Venezuelan",
         "orientation": "v",
         "showlegend": true,
         "textposition": "auto",
         "type": "bar",
         "x": [
          "Drawings & Prints"
         ],
         "xaxis": "x",
         "y": [
          65
         ],
         "yaxis": "y"
        },
        {
         "alignmentgroup": "True",
         "hovertemplate": "Nationality=Venezuelan<br>Period=After 1983<br>Department=%{x}<br>Count=%{y}<extra></extra>",
         "legendgroup": "Venezuelan",
         "marker": {
          "color": "#4B0082",
          "pattern": {
           "shape": ""
          }
         },
         "name": "Venezuelan",
         "offsetgroup": "Venezuelan",
         "orientation": "v",
         "showlegend": false,
         "textposition": "auto",
         "type": "bar",
         "x": [
          "Drawings & Prints"
         ],
         "xaxis": "x2",
         "y": [
          37
         ],
         "yaxis": "y2"
        },
        {
         "alignmentgroup": "True",
         "hovertemplate": "Nationality=Yugoslav<br>Period=Before 1983<br>Department=%{x}<br>Count=%{y}<extra></extra>",
         "legendgroup": "Yugoslav",
         "marker": {
          "color": "#FA8072",
          "pattern": {
           "shape": ""
          }
         },
         "name": "Yugoslav",
         "offsetgroup": "Yugoslav",
         "orientation": "v",
         "showlegend": true,
         "textposition": "auto",
         "type": "bar",
         "x": [
          "Architecture & Design",
          "Drawings & Prints"
         ],
         "xaxis": "x",
         "y": [
          2,
          23
         ],
         "yaxis": "y"
        },
        {
         "alignmentgroup": "True",
         "hovertemplate": "Nationality=Yugoslav<br>Period=After 1983<br>Department=%{x}<br>Count=%{y}<extra></extra>",
         "legendgroup": "Yugoslav",
         "marker": {
          "color": "#FA8072",
          "pattern": {
           "shape": ""
          }
         },
         "name": "Yugoslav",
         "offsetgroup": "Yugoslav",
         "orientation": "v",
         "showlegend": false,
         "textposition": "auto",
         "type": "bar",
         "x": [
          "Drawings & Prints"
         ],
         "xaxis": "x2",
         "y": [
          60
         ],
         "yaxis": "y2"
        },
        {
         "alignmentgroup": "True",
         "hovertemplate": "Nationality=missing<br>Period=Before 1983<br>Department=%{x}<br>Count=%{y}<extra></extra>",
         "legendgroup": "missing",
         "marker": {
          "color": "#DC143C",
          "pattern": {
           "shape": ""
          }
         },
         "name": "missing",
         "offsetgroup": "missing",
         "orientation": "v",
         "showlegend": true,
         "textposition": "auto",
         "type": "bar",
         "x": [
          "Architecture & Design",
          "Drawings & Prints",
          "Film",
          "Fluxus Collection",
          "Media and Performance",
          "Photography"
         ],
         "xaxis": "x",
         "y": [
          292,
          703,
          63,
          149,
          11,
          899
         ],
         "yaxis": "y"
        },
        {
         "alignmentgroup": "True",
         "hovertemplate": "Nationality=missing<br>Period=After 1983<br>Department=%{x}<br>Count=%{y}<extra></extra>",
         "legendgroup": "missing",
         "marker": {
          "color": "#DC143C",
          "pattern": {
           "shape": ""
          }
         },
         "name": "missing",
         "offsetgroup": "missing",
         "orientation": "v",
         "showlegend": false,
         "textposition": "auto",
         "type": "bar",
         "x": [
          "Architecture & Design",
          "Drawings & Prints",
          "Film",
          "Fluxus Collection",
          "Media and Performance",
          "Photography"
         ],
         "xaxis": "x2",
         "y": [
          354,
          754,
          46,
          17,
          65,
          12
         ],
         "yaxis": "y2"
        },
        {
         "alignmentgroup": "True",
         "hovertemplate": "Nationality=Albanian<br>Period=After 1983<br>Department=%{x}<br>Count=%{y}<extra></extra>",
         "legendgroup": "Albanian",
         "marker": {
          "color": "#8B0000",
          "pattern": {
           "shape": ""
          }
         },
         "name": "Albanian",
         "offsetgroup": "Albanian",
         "orientation": "v",
         "showlegend": true,
         "textposition": "auto",
         "type": "bar",
         "x": [
          "Drawings & Prints"
         ],
         "xaxis": "x2",
         "y": [
          20
         ],
         "yaxis": "y2"
        },
        {
         "alignmentgroup": "True",
         "hovertemplate": "Nationality=Algerian<br>Period=After 1983<br>Department=%{x}<br>Count=%{y}<extra></extra>",
         "legendgroup": "Algerian",
         "marker": {
          "color": "#FF8C00",
          "pattern": {
           "shape": ""
          }
         },
         "name": "Algerian",
         "offsetgroup": "Algerian",
         "orientation": "v",
         "showlegend": true,
         "textposition": "auto",
         "type": "bar",
         "x": [
          "Architecture & Design"
         ],
         "xaxis": "x2",
         "y": [
          10
         ],
         "yaxis": "y2"
        },
        {
         "alignmentgroup": "True",
         "hovertemplate": "Nationality=Bulgarian<br>Period=After 1983<br>Department=%{x}<br>Count=%{y}<extra></extra>",
         "legendgroup": "Bulgarian",
         "marker": {
          "color": "#FF4500",
          "pattern": {
           "shape": ""
          }
         },
         "name": "Bulgarian",
         "offsetgroup": "Bulgarian",
         "orientation": "v",
         "showlegend": true,
         "textposition": "auto",
         "type": "bar",
         "x": [
          "Drawings & Prints"
         ],
         "xaxis": "x2",
         "y": [
          8
         ],
         "yaxis": "y2"
        },
        {
         "alignmentgroup": "True",
         "hovertemplate": "Nationality=Cameroonian<br>Period=After 1983<br>Department=%{x}<br>Count=%{y}<extra></extra>",
         "legendgroup": "Cameroonian",
         "marker": {
          "color": "#FFD700",
          "pattern": {
           "shape": ""
          }
         },
         "name": "Cameroonian",
         "offsetgroup": "Cameroonian",
         "orientation": "v",
         "showlegend": true,
         "textposition": "auto",
         "type": "bar",
         "x": [
          "Drawings & Prints"
         ],
         "xaxis": "x2",
         "y": [
          13
         ],
         "yaxis": "y2"
        },
        {
         "alignmentgroup": "True",
         "hovertemplate": "Nationality=Egyptian<br>Period=After 1983<br>Department=%{x}<br>Count=%{y}<extra></extra>",
         "legendgroup": "Egyptian",
         "marker": {
          "color": "#FFFF00",
          "pattern": {
           "shape": ""
          }
         },
         "name": "Egyptian",
         "offsetgroup": "Egyptian",
         "orientation": "v",
         "showlegend": true,
         "textposition": "auto",
         "type": "bar",
         "x": [
          "Drawings & Prints",
          "Media and Performance"
         ],
         "xaxis": "x2",
         "y": [
          37,
          17
         ],
         "yaxis": "y2"
        },
        {
         "alignmentgroup": "True",
         "hovertemplate": "Nationality=Emirati<br>Period=After 1983<br>Department=%{x}<br>Count=%{y}<extra></extra>",
         "legendgroup": "Emirati",
         "marker": {
          "color": "#F0E68C",
          "pattern": {
           "shape": ""
          }
         },
         "name": "Emirati",
         "offsetgroup": "Emirati",
         "orientation": "v",
         "showlegend": true,
         "textposition": "auto",
         "type": "bar",
         "x": [
          "Photography"
         ],
         "xaxis": "x2",
         "y": [
          6
         ],
         "yaxis": "y2"
        },
        {
         "alignmentgroup": "True",
         "hovertemplate": "Nationality=Ethiopian<br>Period=After 1983<br>Department=%{x}<br>Count=%{y}<extra></extra>",
         "legendgroup": "Ethiopian",
         "marker": {
          "color": "#7FFF00",
          "pattern": {
           "shape": ""
          }
         },
         "name": "Ethiopian",
         "offsetgroup": "Ethiopian",
         "orientation": "v",
         "showlegend": true,
         "textposition": "auto",
         "type": "bar",
         "x": [
          "Photography"
         ],
         "xaxis": "x2",
         "y": [
          5
         ],
         "yaxis": "y2"
        },
        {
         "alignmentgroup": "True",
         "hovertemplate": "Nationality=Filipino<br>Period=After 1983<br>Department=%{x}<br>Count=%{y}<extra></extra>",
         "legendgroup": "Filipino",
         "marker": {
          "color": "#32CD32",
          "pattern": {
           "shape": ""
          }
         },
         "name": "Filipino",
         "offsetgroup": "Filipino",
         "orientation": "v",
         "showlegend": true,
         "textposition": "auto",
         "type": "bar",
         "x": [
          "Photography"
         ],
         "xaxis": "x2",
         "y": [
          25
         ],
         "yaxis": "y2"
        },
        {
         "alignmentgroup": "True",
         "hovertemplate": "Nationality=Iranian<br>Period=After 1983<br>Department=%{x}<br>Count=%{y}<extra></extra>",
         "legendgroup": "Iranian",
         "marker": {
          "color": "#90EE90",
          "pattern": {
           "shape": ""
          }
         },
         "name": "Iranian",
         "offsetgroup": "Iranian",
         "orientation": "v",
         "showlegend": true,
         "textposition": "auto",
         "type": "bar",
         "x": [
          "Architecture & Design",
          "Media and Performance"
         ],
         "xaxis": "x2",
         "y": [
          8,
          9
         ],
         "yaxis": "y2"
        },
        {
         "alignmentgroup": "True",
         "hovertemplate": "Nationality=Ivorian<br>Period=After 1983<br>Department=%{x}<br>Count=%{y}<extra></extra>",
         "legendgroup": "Ivorian",
         "marker": {
          "color": "#00FA9A",
          "pattern": {
           "shape": ""
          }
         },
         "name": "Ivorian",
         "offsetgroup": "Ivorian",
         "orientation": "v",
         "showlegend": true,
         "textposition": "auto",
         "type": "bar",
         "x": [
          "Drawings & Prints"
         ],
         "xaxis": "x2",
         "y": [
          482
         ],
         "yaxis": "y2"
        },
        {
         "alignmentgroup": "True",
         "hovertemplate": "Nationality=Kenyan<br>Period=After 1983<br>Department=%{x}<br>Count=%{y}<extra></extra>",
         "legendgroup": "Kenyan",
         "marker": {
          "color": "#3CB371",
          "pattern": {
           "shape": ""
          }
         },
         "name": "Kenyan",
         "offsetgroup": "Kenyan",
         "orientation": "v",
         "showlegend": true,
         "textposition": "auto",
         "type": "bar",
         "x": [
          "Drawings & Prints"
         ],
         "xaxis": "x2",
         "y": [
          11
         ],
         "yaxis": "y2"
        },
        {
         "alignmentgroup": "True",
         "hovertemplate": "Nationality=Lebanese<br>Period=After 1983<br>Department=%{x}<br>Count=%{y}<extra></extra>",
         "legendgroup": "Lebanese",
         "marker": {
          "color": "#006400",
          "pattern": {
           "shape": ""
          }
         },
         "name": "Lebanese",
         "offsetgroup": "Lebanese",
         "orientation": "v",
         "showlegend": true,
         "textposition": "auto",
         "type": "bar",
         "x": [
          "Architecture & Design",
          "Drawings & Prints",
          "Media and Performance"
         ],
         "xaxis": "x2",
         "y": [
          12,
          37,
          9
         ],
         "yaxis": "y2"
        },
        {
         "alignmentgroup": "True",
         "hovertemplate": "Nationality=Moroccan<br>Period=After 1983<br>Department=%{x}<br>Count=%{y}<extra></extra>",
         "legendgroup": "Moroccan",
         "marker": {
          "color": "#9ACD32",
          "pattern": {
           "shape": ""
          }
         },
         "name": "Moroccan",
         "offsetgroup": "Moroccan",
         "orientation": "v",
         "showlegend": true,
         "textposition": "auto",
         "type": "bar",
         "x": [
          "Photography"
         ],
         "xaxis": "x2",
         "y": [
          10
         ],
         "yaxis": "y2"
        },
        {
         "alignmentgroup": "True",
         "hovertemplate": "Nationality=Native American<br>Period=After 1983<br>Department=%{x}<br>Count=%{y}<extra></extra>",
         "legendgroup": "Native American",
         "marker": {
          "color": "#6B8E23",
          "pattern": {
           "shape": ""
          }
         },
         "name": "Native American",
         "offsetgroup": "Native American",
         "orientation": "v",
         "showlegend": true,
         "textposition": "auto",
         "type": "bar",
         "x": [
          "Photography"
         ],
         "xaxis": "x2",
         "y": [
          17
         ],
         "yaxis": "y2"
        },
        {
         "alignmentgroup": "True",
         "hovertemplate": "Nationality=Pakistani<br>Period=After 1983<br>Department=%{x}<br>Count=%{y}<extra></extra>",
         "legendgroup": "Pakistani",
         "marker": {
          "color": "#66CDAA",
          "pattern": {
           "shape": ""
          }
         },
         "name": "Pakistani",
         "offsetgroup": "Pakistani",
         "orientation": "v",
         "showlegend": true,
         "textposition": "auto",
         "type": "bar",
         "x": [
          "Drawings & Prints"
         ],
         "xaxis": "x2",
         "y": [
          48
         ],
         "yaxis": "y2"
        },
        {
         "alignmentgroup": "True",
         "hovertemplate": "Nationality=Palestinian<br>Period=After 1983<br>Department=%{x}<br>Count=%{y}<extra></extra>",
         "legendgroup": "Palestinian",
         "marker": {
          "color": "#20B2AA",
          "pattern": {
           "shape": ""
          }
         },
         "name": "Palestinian",
         "offsetgroup": "Palestinian",
         "orientation": "v",
         "showlegend": true,
         "textposition": "auto",
         "type": "bar",
         "x": [
          "Media and Performance"
         ],
         "xaxis": "x2",
         "y": [
          7
         ],
         "yaxis": "y2"
        },
        {
         "alignmentgroup": "True",
         "hovertemplate": "Nationality=Scottish<br>Period=After 1983<br>Department=%{x}<br>Count=%{y}<extra></extra>",
         "legendgroup": "Scottish",
         "marker": {
          "color": "#5F9EA0",
          "pattern": {
           "shape": ""
          }
         },
         "name": "Scottish",
         "offsetgroup": "Scottish",
         "orientation": "v",
         "showlegend": true,
         "textposition": "auto",
         "type": "bar",
         "x": [
          "Drawings & Prints"
         ],
         "xaxis": "x2",
         "y": [
          46
         ],
         "yaxis": "y2"
        },
        {
         "alignmentgroup": "True",
         "hovertemplate": "Nationality=Slovak<br>Period=After 1983<br>Department=%{x}<br>Count=%{y}<extra></extra>",
         "legendgroup": "Slovak",
         "marker": {
          "color": "#4682B4",
          "pattern": {
           "shape": ""
          }
         },
         "name": "Slovak",
         "offsetgroup": "Slovak",
         "orientation": "v",
         "showlegend": true,
         "textposition": "auto",
         "type": "bar",
         "x": [
          "Architecture & Design",
          "Drawings & Prints"
         ],
         "xaxis": "x2",
         "y": [
          72,
          5
         ],
         "yaxis": "y2"
        },
        {
         "alignmentgroup": "True",
         "hovertemplate": "Nationality=Taiwanese<br>Period=After 1983<br>Department=%{x}<br>Count=%{y}<extra></extra>",
         "legendgroup": "Taiwanese",
         "marker": {
          "color": "#B0C4DE",
          "pattern": {
           "shape": ""
          }
         },
         "name": "Taiwanese",
         "offsetgroup": "Taiwanese",
         "orientation": "v",
         "showlegend": true,
         "textposition": "auto",
         "type": "bar",
         "x": [
          "Architecture & Design"
         ],
         "xaxis": "x2",
         "y": [
          6
         ],
         "yaxis": "y2"
        },
        {
         "alignmentgroup": "True",
         "hovertemplate": "Nationality=Thai<br>Period=After 1983<br>Department=%{x}<br>Count=%{y}<extra></extra>",
         "legendgroup": "Thai",
         "marker": {
          "color": "#87CEFA",
          "pattern": {
           "shape": ""
          }
         },
         "name": "Thai",
         "offsetgroup": "Thai",
         "orientation": "v",
         "showlegend": true,
         "textposition": "auto",
         "type": "bar",
         "x": [
          "Drawings & Prints"
         ],
         "xaxis": "x2",
         "y": [
          30
         ],
         "yaxis": "y2"
        },
        {
         "alignmentgroup": "True",
         "hovertemplate": "Nationality=Tunisian<br>Period=After 1983<br>Department=%{x}<br>Count=%{y}<extra></extra>",
         "legendgroup": "Tunisian",
         "marker": {
          "color": "#6495ED",
          "pattern": {
           "shape": ""
          }
         },
         "name": "Tunisian",
         "offsetgroup": "Tunisian",
         "orientation": "v",
         "showlegend": true,
         "textposition": "auto",
         "type": "bar",
         "x": [
          "Drawings & Prints"
         ],
         "xaxis": "x2",
         "y": [
          12
         ],
         "yaxis": "y2"
        },
        {
         "alignmentgroup": "True",
         "hovertemplate": "Nationality=Zimbabwean<br>Period=After 1983<br>Department=%{x}<br>Count=%{y}<extra></extra>",
         "legendgroup": "Zimbabwean",
         "marker": {
          "color": "#00BFFF",
          "pattern": {
           "shape": ""
          }
         },
         "name": "Zimbabwean",
         "offsetgroup": "Zimbabwean",
         "orientation": "v",
         "showlegend": true,
         "textposition": "auto",
         "type": "bar",
         "x": [
          "Drawings & Prints"
         ],
         "xaxis": "x2",
         "y": [
          9
         ],
         "yaxis": "y2"
        }
       ],
       "layout": {
        "annotations": [
         {
          "font": {},
          "showarrow": false,
          "text": "Period=Before 1983",
          "x": 0.235,
          "xanchor": "center",
          "xref": "paper",
          "y": 1,
          "yanchor": "bottom",
          "yref": "paper"
         },
         {
          "font": {},
          "showarrow": false,
          "text": "Period=After 1983",
          "x": 0.765,
          "xanchor": "center",
          "xref": "paper",
          "y": 1,
          "yanchor": "bottom",
          "yref": "paper"
         }
        ],
        "barmode": "relative",
        "height": 600,
        "legend": {
         "title": {
          "text": "Nationality"
         },
         "tracegroupgap": 0
        },
        "template": {
         "data": {
          "bar": [
           {
            "error_x": {
             "color": "rgb(36,36,36)"
            },
            "error_y": {
             "color": "rgb(36,36,36)"
            },
            "marker": {
             "line": {
              "color": "white",
              "width": 0.5
             },
             "pattern": {
              "fillmode": "overlay",
              "size": 10,
              "solidity": 0.2
             }
            },
            "type": "bar"
           }
          ],
          "barpolar": [
           {
            "marker": {
             "line": {
              "color": "white",
              "width": 0.5
             },
             "pattern": {
              "fillmode": "overlay",
              "size": 10,
              "solidity": 0.2
             }
            },
            "type": "barpolar"
           }
          ],
          "carpet": [
           {
            "aaxis": {
             "endlinecolor": "rgb(36,36,36)",
             "gridcolor": "white",
             "linecolor": "white",
             "minorgridcolor": "white",
             "startlinecolor": "rgb(36,36,36)"
            },
            "baxis": {
             "endlinecolor": "rgb(36,36,36)",
             "gridcolor": "white",
             "linecolor": "white",
             "minorgridcolor": "white",
             "startlinecolor": "rgb(36,36,36)"
            },
            "type": "carpet"
           }
          ],
          "choropleth": [
           {
            "colorbar": {
             "outlinewidth": 1,
             "tickcolor": "rgb(36,36,36)",
             "ticks": "outside"
            },
            "type": "choropleth"
           }
          ],
          "contour": [
           {
            "colorbar": {
             "outlinewidth": 1,
             "tickcolor": "rgb(36,36,36)",
             "ticks": "outside"
            },
            "colorscale": [
             [
              0,
              "#440154"
             ],
             [
              0.1111111111111111,
              "#482878"
             ],
             [
              0.2222222222222222,
              "#3e4989"
             ],
             [
              0.3333333333333333,
              "#31688e"
             ],
             [
              0.4444444444444444,
              "#26828e"
             ],
             [
              0.5555555555555556,
              "#1f9e89"
             ],
             [
              0.6666666666666666,
              "#35b779"
             ],
             [
              0.7777777777777778,
              "#6ece58"
             ],
             [
              0.8888888888888888,
              "#b5de2b"
             ],
             [
              1,
              "#fde725"
             ]
            ],
            "type": "contour"
           }
          ],
          "contourcarpet": [
           {
            "colorbar": {
             "outlinewidth": 1,
             "tickcolor": "rgb(36,36,36)",
             "ticks": "outside"
            },
            "type": "contourcarpet"
           }
          ],
          "heatmap": [
           {
            "colorbar": {
             "outlinewidth": 1,
             "tickcolor": "rgb(36,36,36)",
             "ticks": "outside"
            },
            "colorscale": [
             [
              0,
              "#440154"
             ],
             [
              0.1111111111111111,
              "#482878"
             ],
             [
              0.2222222222222222,
              "#3e4989"
             ],
             [
              0.3333333333333333,
              "#31688e"
             ],
             [
              0.4444444444444444,
              "#26828e"
             ],
             [
              0.5555555555555556,
              "#1f9e89"
             ],
             [
              0.6666666666666666,
              "#35b779"
             ],
             [
              0.7777777777777778,
              "#6ece58"
             ],
             [
              0.8888888888888888,
              "#b5de2b"
             ],
             [
              1,
              "#fde725"
             ]
            ],
            "type": "heatmap"
           }
          ],
          "heatmapgl": [
           {
            "colorbar": {
             "outlinewidth": 1,
             "tickcolor": "rgb(36,36,36)",
             "ticks": "outside"
            },
            "colorscale": [
             [
              0,
              "#440154"
             ],
             [
              0.1111111111111111,
              "#482878"
             ],
             [
              0.2222222222222222,
              "#3e4989"
             ],
             [
              0.3333333333333333,
              "#31688e"
             ],
             [
              0.4444444444444444,
              "#26828e"
             ],
             [
              0.5555555555555556,
              "#1f9e89"
             ],
             [
              0.6666666666666666,
              "#35b779"
             ],
             [
              0.7777777777777778,
              "#6ece58"
             ],
             [
              0.8888888888888888,
              "#b5de2b"
             ],
             [
              1,
              "#fde725"
             ]
            ],
            "type": "heatmapgl"
           }
          ],
          "histogram": [
           {
            "marker": {
             "line": {
              "color": "white",
              "width": 0.6
             }
            },
            "type": "histogram"
           }
          ],
          "histogram2d": [
           {
            "colorbar": {
             "outlinewidth": 1,
             "tickcolor": "rgb(36,36,36)",
             "ticks": "outside"
            },
            "colorscale": [
             [
              0,
              "#440154"
             ],
             [
              0.1111111111111111,
              "#482878"
             ],
             [
              0.2222222222222222,
              "#3e4989"
             ],
             [
              0.3333333333333333,
              "#31688e"
             ],
             [
              0.4444444444444444,
              "#26828e"
             ],
             [
              0.5555555555555556,
              "#1f9e89"
             ],
             [
              0.6666666666666666,
              "#35b779"
             ],
             [
              0.7777777777777778,
              "#6ece58"
             ],
             [
              0.8888888888888888,
              "#b5de2b"
             ],
             [
              1,
              "#fde725"
             ]
            ],
            "type": "histogram2d"
           }
          ],
          "histogram2dcontour": [
           {
            "colorbar": {
             "outlinewidth": 1,
             "tickcolor": "rgb(36,36,36)",
             "ticks": "outside"
            },
            "colorscale": [
             [
              0,
              "#440154"
             ],
             [
              0.1111111111111111,
              "#482878"
             ],
             [
              0.2222222222222222,
              "#3e4989"
             ],
             [
              0.3333333333333333,
              "#31688e"
             ],
             [
              0.4444444444444444,
              "#26828e"
             ],
             [
              0.5555555555555556,
              "#1f9e89"
             ],
             [
              0.6666666666666666,
              "#35b779"
             ],
             [
              0.7777777777777778,
              "#6ece58"
             ],
             [
              0.8888888888888888,
              "#b5de2b"
             ],
             [
              1,
              "#fde725"
             ]
            ],
            "type": "histogram2dcontour"
           }
          ],
          "mesh3d": [
           {
            "colorbar": {
             "outlinewidth": 1,
             "tickcolor": "rgb(36,36,36)",
             "ticks": "outside"
            },
            "type": "mesh3d"
           }
          ],
          "parcoords": [
           {
            "line": {
             "colorbar": {
              "outlinewidth": 1,
              "tickcolor": "rgb(36,36,36)",
              "ticks": "outside"
             }
            },
            "type": "parcoords"
           }
          ],
          "pie": [
           {
            "automargin": true,
            "type": "pie"
           }
          ],
          "scatter": [
           {
            "fillpattern": {
             "fillmode": "overlay",
             "size": 10,
             "solidity": 0.2
            },
            "type": "scatter"
           }
          ],
          "scatter3d": [
           {
            "line": {
             "colorbar": {
              "outlinewidth": 1,
              "tickcolor": "rgb(36,36,36)",
              "ticks": "outside"
             }
            },
            "marker": {
             "colorbar": {
              "outlinewidth": 1,
              "tickcolor": "rgb(36,36,36)",
              "ticks": "outside"
             }
            },
            "type": "scatter3d"
           }
          ],
          "scattercarpet": [
           {
            "marker": {
             "colorbar": {
              "outlinewidth": 1,
              "tickcolor": "rgb(36,36,36)",
              "ticks": "outside"
             }
            },
            "type": "scattercarpet"
           }
          ],
          "scattergeo": [
           {
            "marker": {
             "colorbar": {
              "outlinewidth": 1,
              "tickcolor": "rgb(36,36,36)",
              "ticks": "outside"
             }
            },
            "type": "scattergeo"
           }
          ],
          "scattergl": [
           {
            "marker": {
             "colorbar": {
              "outlinewidth": 1,
              "tickcolor": "rgb(36,36,36)",
              "ticks": "outside"
             }
            },
            "type": "scattergl"
           }
          ],
          "scattermapbox": [
           {
            "marker": {
             "colorbar": {
              "outlinewidth": 1,
              "tickcolor": "rgb(36,36,36)",
              "ticks": "outside"
             }
            },
            "type": "scattermapbox"
           }
          ],
          "scatterpolar": [
           {
            "marker": {
             "colorbar": {
              "outlinewidth": 1,
              "tickcolor": "rgb(36,36,36)",
              "ticks": "outside"
             }
            },
            "type": "scatterpolar"
           }
          ],
          "scatterpolargl": [
           {
            "marker": {
             "colorbar": {
              "outlinewidth": 1,
              "tickcolor": "rgb(36,36,36)",
              "ticks": "outside"
             }
            },
            "type": "scatterpolargl"
           }
          ],
          "scatterternary": [
           {
            "marker": {
             "colorbar": {
              "outlinewidth": 1,
              "tickcolor": "rgb(36,36,36)",
              "ticks": "outside"
             }
            },
            "type": "scatterternary"
           }
          ],
          "surface": [
           {
            "colorbar": {
             "outlinewidth": 1,
             "tickcolor": "rgb(36,36,36)",
             "ticks": "outside"
            },
            "colorscale": [
             [
              0,
              "#440154"
             ],
             [
              0.1111111111111111,
              "#482878"
             ],
             [
              0.2222222222222222,
              "#3e4989"
             ],
             [
              0.3333333333333333,
              "#31688e"
             ],
             [
              0.4444444444444444,
              "#26828e"
             ],
             [
              0.5555555555555556,
              "#1f9e89"
             ],
             [
              0.6666666666666666,
              "#35b779"
             ],
             [
              0.7777777777777778,
              "#6ece58"
             ],
             [
              0.8888888888888888,
              "#b5de2b"
             ],
             [
              1,
              "#fde725"
             ]
            ],
            "type": "surface"
           }
          ],
          "table": [
           {
            "cells": {
             "fill": {
              "color": "rgb(237,237,237)"
             },
             "line": {
              "color": "white"
             }
            },
            "header": {
             "fill": {
              "color": "rgb(217,217,217)"
             },
             "line": {
              "color": "white"
             }
            },
            "type": "table"
           }
          ]
         },
         "layout": {
          "annotationdefaults": {
           "arrowhead": 0,
           "arrowwidth": 1
          },
          "autotypenumbers": "strict",
          "coloraxis": {
           "colorbar": {
            "outlinewidth": 1,
            "tickcolor": "rgb(36,36,36)",
            "ticks": "outside"
           }
          },
          "colorscale": {
           "diverging": [
            [
             0,
             "rgb(103,0,31)"
            ],
            [
             0.1,
             "rgb(178,24,43)"
            ],
            [
             0.2,
             "rgb(214,96,77)"
            ],
            [
             0.3,
             "rgb(244,165,130)"
            ],
            [
             0.4,
             "rgb(253,219,199)"
            ],
            [
             0.5,
             "rgb(247,247,247)"
            ],
            [
             0.6,
             "rgb(209,229,240)"
            ],
            [
             0.7,
             "rgb(146,197,222)"
            ],
            [
             0.8,
             "rgb(67,147,195)"
            ],
            [
             0.9,
             "rgb(33,102,172)"
            ],
            [
             1,
             "rgb(5,48,97)"
            ]
           ],
           "sequential": [
            [
             0,
             "#440154"
            ],
            [
             0.1111111111111111,
             "#482878"
            ],
            [
             0.2222222222222222,
             "#3e4989"
            ],
            [
             0.3333333333333333,
             "#31688e"
            ],
            [
             0.4444444444444444,
             "#26828e"
            ],
            [
             0.5555555555555556,
             "#1f9e89"
            ],
            [
             0.6666666666666666,
             "#35b779"
            ],
            [
             0.7777777777777778,
             "#6ece58"
            ],
            [
             0.8888888888888888,
             "#b5de2b"
            ],
            [
             1,
             "#fde725"
            ]
           ],
           "sequentialminus": [
            [
             0,
             "#440154"
            ],
            [
             0.1111111111111111,
             "#482878"
            ],
            [
             0.2222222222222222,
             "#3e4989"
            ],
            [
             0.3333333333333333,
             "#31688e"
            ],
            [
             0.4444444444444444,
             "#26828e"
            ],
            [
             0.5555555555555556,
             "#1f9e89"
            ],
            [
             0.6666666666666666,
             "#35b779"
            ],
            [
             0.7777777777777778,
             "#6ece58"
            ],
            [
             0.8888888888888888,
             "#b5de2b"
            ],
            [
             1,
             "#fde725"
            ]
           ]
          },
          "colorway": [
           "#1F77B4",
           "#FF7F0E",
           "#2CA02C",
           "#D62728",
           "#9467BD",
           "#8C564B",
           "#E377C2",
           "#7F7F7F",
           "#BCBD22",
           "#17BECF"
          ],
          "font": {
           "color": "rgb(36,36,36)"
          },
          "geo": {
           "bgcolor": "white",
           "lakecolor": "white",
           "landcolor": "white",
           "showlakes": true,
           "showland": true,
           "subunitcolor": "white"
          },
          "hoverlabel": {
           "align": "left"
          },
          "hovermode": "closest",
          "mapbox": {
           "style": "light"
          },
          "paper_bgcolor": "white",
          "plot_bgcolor": "white",
          "polar": {
           "angularaxis": {
            "gridcolor": "rgb(232,232,232)",
            "linecolor": "rgb(36,36,36)",
            "showgrid": false,
            "showline": true,
            "ticks": "outside"
           },
           "bgcolor": "white",
           "radialaxis": {
            "gridcolor": "rgb(232,232,232)",
            "linecolor": "rgb(36,36,36)",
            "showgrid": false,
            "showline": true,
            "ticks": "outside"
           }
          },
          "scene": {
           "xaxis": {
            "backgroundcolor": "white",
            "gridcolor": "rgb(232,232,232)",
            "gridwidth": 2,
            "linecolor": "rgb(36,36,36)",
            "showbackground": true,
            "showgrid": false,
            "showline": true,
            "ticks": "outside",
            "zeroline": false,
            "zerolinecolor": "rgb(36,36,36)"
           },
           "yaxis": {
            "backgroundcolor": "white",
            "gridcolor": "rgb(232,232,232)",
            "gridwidth": 2,
            "linecolor": "rgb(36,36,36)",
            "showbackground": true,
            "showgrid": false,
            "showline": true,
            "ticks": "outside",
            "zeroline": false,
            "zerolinecolor": "rgb(36,36,36)"
           },
           "zaxis": {
            "backgroundcolor": "white",
            "gridcolor": "rgb(232,232,232)",
            "gridwidth": 2,
            "linecolor": "rgb(36,36,36)",
            "showbackground": true,
            "showgrid": false,
            "showline": true,
            "ticks": "outside",
            "zeroline": false,
            "zerolinecolor": "rgb(36,36,36)"
           }
          },
          "shapedefaults": {
           "fillcolor": "black",
           "line": {
            "width": 0
           },
           "opacity": 0.3
          },
          "ternary": {
           "aaxis": {
            "gridcolor": "rgb(232,232,232)",
            "linecolor": "rgb(36,36,36)",
            "showgrid": false,
            "showline": true,
            "ticks": "outside"
           },
           "baxis": {
            "gridcolor": "rgb(232,232,232)",
            "linecolor": "rgb(36,36,36)",
            "showgrid": false,
            "showline": true,
            "ticks": "outside"
           },
           "bgcolor": "white",
           "caxis": {
            "gridcolor": "rgb(232,232,232)",
            "linecolor": "rgb(36,36,36)",
            "showgrid": false,
            "showline": true,
            "ticks": "outside"
           }
          },
          "title": {
           "x": 0.05
          },
          "xaxis": {
           "automargin": true,
           "gridcolor": "rgb(232,232,232)",
           "linecolor": "rgb(36,36,36)",
           "showgrid": false,
           "showline": true,
           "ticks": "outside",
           "title": {
            "standoff": 15
           },
           "zeroline": false,
           "zerolinecolor": "rgb(36,36,36)"
          },
          "yaxis": {
           "automargin": true,
           "gridcolor": "rgb(232,232,232)",
           "linecolor": "rgb(36,36,36)",
           "showgrid": false,
           "showline": true,
           "ticks": "outside",
           "title": {
            "standoff": 15
           },
           "zeroline": false,
           "zerolinecolor": "rgb(36,36,36)"
          }
         }
        },
        "title": {
         "text": "Overview total nationalities for department -- comparing MoMA's collection berfore and after 1983"
        },
        "xaxis": {
         "anchor": "y",
         "domain": [
          0,
          0.47
         ],
         "showticklabels": true,
         "title": {
          "text": "Department"
         }
        },
        "xaxis2": {
         "anchor": "y2",
         "domain": [
          0.53,
          1
         ],
         "showticklabels": true,
         "title": {
          "text": "Department"
         }
        },
        "yaxis": {
         "anchor": "x",
         "domain": [
          0,
          1
         ],
         "showticklabels": true,
         "title": {
          "text": "Count"
         },
         "type": "log"
        },
        "yaxis2": {
         "anchor": "x2",
         "domain": [
          0,
          1
         ],
         "matches": "y",
         "showticklabels": true,
         "type": "log"
        }
       }
      }
     },
     "metadata": {},
     "output_type": "display_data"
    },
    {
     "data": {
      "application/vnd.plotly.v1+json": {
       "config": {
        "plotlyServerURL": "https://plot.ly"
       },
       "data": [
        {
         "alignmentgroup": "True",
         "hovertemplate": "Nationality=Albanian<br>Source=Moma compare<br>Department=%{x}<br>Count=%{y}<extra></extra>",
         "legendgroup": "Albanian",
         "marker": {
          "color": "#FFFAFA",
          "pattern": {
           "shape": ""
          }
         },
         "name": "Albanian",
         "offsetgroup": "Albanian",
         "orientation": "v",
         "showlegend": true,
         "textposition": "auto",
         "type": "bar",
         "x": [
          "Drawings & Prints",
          "Media and Performance"
         ],
         "xaxis": "x",
         "y": [
          1,
          0
         ],
         "yaxis": "y"
        },
        {
         "alignmentgroup": "True",
         "hovertemplate": "Nationality=Algerian<br>Source=Moma compare<br>Department=%{x}<br>Count=%{y}<extra></extra>",
         "legendgroup": "Algerian",
         "marker": {
          "color": "#FFC0CB",
          "pattern": {
           "shape": ""
          }
         },
         "name": "Algerian",
         "offsetgroup": "Algerian",
         "orientation": "v",
         "showlegend": true,
         "textposition": "auto",
         "type": "bar",
         "x": [
          "Film",
          "Media and Performance"
         ],
         "xaxis": "x",
         "y": [
          0,
          0
         ],
         "yaxis": "y"
        },
        {
         "alignmentgroup": "True",
         "hovertemplate": "Nationality=American<br>Source=Moma compare<br>Department=%{x}<br>Count=%{y}<extra></extra>",
         "legendgroup": "American",
         "marker": {
          "color": "#FF69B4",
          "pattern": {
           "shape": ""
          }
         },
         "name": "American",
         "offsetgroup": "American",
         "orientation": "v",
         "showlegend": true,
         "textposition": "auto",
         "type": "bar",
         "x": [
          "Architecture & Design",
          "Drawings & Prints",
          "Film",
          "Fluxus Collection",
          "Media and Performance",
          "Painting & Sculpture",
          "Photography"
         ],
         "xaxis": "x",
         "y": [
          41,
          744,
          18,
          0,
          40,
          32,
          169
         ],
         "yaxis": "y"
        },
        {
         "alignmentgroup": "True",
         "hovertemplate": "Nationality=American<br>Source=Rhizome<br>Department=%{x}<br>Count=%{y}<extra></extra>",
         "legendgroup": "American",
         "marker": {
          "color": "#FF69B4",
          "pattern": {
           "shape": ""
          }
         },
         "name": "American",
         "offsetgroup": "American",
         "orientation": "v",
         "showlegend": false,
         "textposition": "auto",
         "type": "bar",
         "x": [
          "Audio-based",
          "Conceptual",
          "Images, Painting, Photos",
          "Installation & Performance",
          "Interactive",
          "Moving Images",
          "Text-based",
          "Websites & Data",
          "missing"
         ],
         "xaxis": "x2",
         "y": [
          23,
          5,
          97,
          25,
          10,
          201,
          6,
          85,
          29
         ],
         "yaxis": "y2"
        },
        {
         "alignmentgroup": "True",
         "hovertemplate": "Nationality=Argentine<br>Source=Moma compare<br>Department=%{x}<br>Count=%{y}<extra></extra>",
         "legendgroup": "Argentine",
         "marker": {
          "color": "#DB7093",
          "pattern": {
           "shape": ""
          }
         },
         "name": "Argentine",
         "offsetgroup": "Argentine",
         "orientation": "v",
         "showlegend": true,
         "textposition": "auto",
         "type": "bar",
         "x": [
          "Architecture & Design",
          "Drawings & Prints",
          "Film",
          "Media and Performance",
          "Painting & Sculpture",
          "Photography"
         ],
         "xaxis": "x",
         "y": [
          0,
          16,
          0,
          0,
          0,
          2
         ],
         "yaxis": "y"
        },
        {
         "alignmentgroup": "True",
         "hovertemplate": "Nationality=Argentine<br>Source=Rhizome<br>Department=%{x}<br>Count=%{y}<extra></extra>",
         "legendgroup": "Argentine",
         "marker": {
          "color": "#DB7093",
          "pattern": {
           "shape": ""
          }
         },
         "name": "Argentine",
         "offsetgroup": "Argentine",
         "orientation": "v",
         "showlegend": false,
         "textposition": "auto",
         "type": "bar",
         "x": [
          "Websites & Data",
          "missing"
         ],
         "xaxis": "x2",
         "y": [
          7,
          2
         ],
         "yaxis": "y2"
        },
        {
         "alignmentgroup": "True",
         "hovertemplate": "Nationality=Australian<br>Source=Moma compare<br>Department=%{x}<br>Count=%{y}<extra></extra>",
         "legendgroup": "Australian",
         "marker": {
          "color": "#C71585",
          "pattern": {
           "shape": ""
          }
         },
         "name": "Australian",
         "offsetgroup": "Australian",
         "orientation": "v",
         "showlegend": true,
         "textposition": "auto",
         "type": "bar",
         "x": [
          "Architecture & Design",
          "Drawings & Prints",
          "Media and Performance"
         ],
         "xaxis": "x",
         "y": [
          0,
          3,
          0
         ],
         "yaxis": "y"
        },
        {
         "alignmentgroup": "True",
         "hovertemplate": "Nationality=Australian<br>Source=Rhizome<br>Department=%{x}<br>Count=%{y}<extra></extra>",
         "legendgroup": "Australian",
         "marker": {
          "color": "#C71585",
          "pattern": {
           "shape": ""
          }
         },
         "name": "Australian",
         "offsetgroup": "Australian",
         "orientation": "v",
         "showlegend": false,
         "textposition": "auto",
         "type": "bar",
         "x": [
          "Audio-based",
          "Installation & Performance"
         ],
         "xaxis": "x2",
         "y": [
          3,
          4
         ],
         "yaxis": "y2"
        },
        {
         "alignmentgroup": "True",
         "hovertemplate": "Nationality=Austrian<br>Source=Moma compare<br>Department=%{x}<br>Count=%{y}<extra></extra>",
         "legendgroup": "Austrian",
         "marker": {
          "color": "#E6E6FA",
          "pattern": {
           "shape": ""
          }
         },
         "name": "Austrian",
         "offsetgroup": "Austrian",
         "orientation": "v",
         "showlegend": true,
         "textposition": "auto",
         "type": "bar",
         "x": [
          "Architecture & Design"
         ],
         "xaxis": "x",
         "y": [
          0
         ],
         "yaxis": "y"
        },
        {
         "alignmentgroup": "True",
         "hovertemplate": "Nationality=Austrian<br>Source=Rhizome<br>Department=%{x}<br>Count=%{y}<extra></extra>",
         "legendgroup": "Austrian",
         "marker": {
          "color": "#E6E6FA",
          "pattern": {
           "shape": ""
          }
         },
         "name": "Austrian",
         "offsetgroup": "Austrian",
         "orientation": "v",
         "showlegend": false,
         "textposition": "auto",
         "type": "bar",
         "x": [
          "Installation & Performance"
         ],
         "xaxis": "x2",
         "y": [
          4
         ],
         "yaxis": "y2"
        },
        {
         "alignmentgroup": "True",
         "hovertemplate": "Nationality=Bahamian<br>Source=Moma compare<br>Department=%{x}<br>Count=%{y}<extra></extra>",
         "legendgroup": "Bahamian",
         "marker": {
          "color": "#DDA0DD",
          "pattern": {
           "shape": ""
          }
         },
         "name": "Bahamian",
         "offsetgroup": "Bahamian",
         "orientation": "v",
         "showlegend": true,
         "textposition": "auto",
         "type": "bar",
         "x": [
          "Painting & Sculpture"
         ],
         "xaxis": "x",
         "y": [
          0
         ],
         "yaxis": "y"
        },
        {
         "alignmentgroup": "True",
         "hovertemplate": "Nationality=Bangladeshi<br>Source=Moma compare<br>Department=%{x}<br>Count=%{y}<extra></extra>",
         "legendgroup": "Bangladeshi",
         "marker": {
          "color": "#EE82EE",
          "pattern": {
           "shape": ""
          }
         },
         "name": "Bangladeshi",
         "offsetgroup": "Bangladeshi",
         "orientation": "v",
         "showlegend": true,
         "textposition": "auto",
         "type": "bar",
         "x": [
          "Media and Performance"
         ],
         "xaxis": "x",
         "y": [
          0
         ],
         "yaxis": "y"
        },
        {
         "alignmentgroup": "True",
         "hovertemplate": "Nationality=Belgian<br>Source=Moma compare<br>Department=%{x}<br>Count=%{y}<extra></extra>",
         "legendgroup": "Belgian",
         "marker": {
          "color": "#9932CC",
          "pattern": {
           "shape": ""
          }
         },
         "name": "Belgian",
         "offsetgroup": "Belgian",
         "orientation": "v",
         "showlegend": true,
         "textposition": "auto",
         "type": "bar",
         "x": [
          "Architecture & Design",
          "Drawings & Prints",
          "Media and Performance",
          "Painting & Sculpture",
          "Photography"
         ],
         "xaxis": "x",
         "y": [
          1,
          4,
          14,
          0,
          1
         ],
         "yaxis": "y"
        },
        {
         "alignmentgroup": "True",
         "hovertemplate": "Nationality=Beninese<br>Source=Moma compare<br>Department=%{x}<br>Count=%{y}<extra></extra>",
         "legendgroup": "Beninese",
         "marker": {
          "color": "#8B008B",
          "pattern": {
           "shape": ""
          }
         },
         "name": "Beninese",
         "offsetgroup": "Beninese",
         "orientation": "v",
         "showlegend": true,
         "textposition": "auto",
         "type": "bar",
         "x": [
          "Painting & Sculpture"
         ],
         "xaxis": "x",
         "y": [
          0
         ],
         "yaxis": "y"
        },
        {
         "alignmentgroup": "True",
         "hovertemplate": "Nationality=Bosnian<br>Source=Moma compare<br>Department=%{x}<br>Count=%{y}<extra></extra>",
         "legendgroup": "Bosnian",
         "marker": {
          "color": "#9370DB",
          "pattern": {
           "shape": ""
          }
         },
         "name": "Bosnian",
         "offsetgroup": "Bosnian",
         "orientation": "v",
         "showlegend": true,
         "textposition": "auto",
         "type": "bar",
         "x": [
          "Drawings & Prints"
         ],
         "xaxis": "x",
         "y": [
          0
         ],
         "yaxis": "y"
        },
        {
         "alignmentgroup": "True",
         "hovertemplate": "Nationality=Brazilian<br>Source=Moma compare<br>Department=%{x}<br>Count=%{y}<extra></extra>",
         "legendgroup": "Brazilian",
         "marker": {
          "color": "#483D8B",
          "pattern": {
           "shape": ""
          }
         },
         "name": "Brazilian",
         "offsetgroup": "Brazilian",
         "orientation": "v",
         "showlegend": true,
         "textposition": "auto",
         "type": "bar",
         "x": [
          "Architecture & Design",
          "Drawings & Prints",
          "Film",
          "Media and Performance",
          "Painting & Sculpture",
          "Photography"
         ],
         "xaxis": "x",
         "y": [
          0,
          11,
          0,
          0,
          2,
          5
         ],
         "yaxis": "y"
        },
        {
         "alignmentgroup": "True",
         "hovertemplate": "Nationality=British<br>Source=Moma compare<br>Department=%{x}<br>Count=%{y}<extra></extra>",
         "legendgroup": "British",
         "marker": {
          "color": "#4B0082",
          "pattern": {
           "shape": ""
          }
         },
         "name": "British",
         "offsetgroup": "British",
         "orientation": "v",
         "showlegend": true,
         "textposition": "auto",
         "type": "bar",
         "x": [
          "Architecture & Design",
          "Drawings & Prints",
          "Film",
          "Media and Performance",
          "Painting & Sculpture",
          "Photography"
         ],
         "xaxis": "x",
         "y": [
          4,
          63,
          1,
          3,
          3,
          12
         ],
         "yaxis": "y"
        },
        {
         "alignmentgroup": "True",
         "hovertemplate": "Nationality=British<br>Source=Rhizome<br>Department=%{x}<br>Count=%{y}<extra></extra>",
         "legendgroup": "British",
         "marker": {
          "color": "#4B0082",
          "pattern": {
           "shape": ""
          }
         },
         "name": "British",
         "offsetgroup": "British",
         "orientation": "v",
         "showlegend": false,
         "textposition": "auto",
         "type": "bar",
         "x": [
          "Audio-based",
          "Images, Painting, Photos",
          "Installation & Performance",
          "Interactive",
          "Moving Images",
          "Websites & Data",
          "missing"
         ],
         "xaxis": "x2",
         "y": [
          4,
          19,
          8,
          2,
          25,
          16,
          4
         ],
         "yaxis": "y2"
        },
        {
         "alignmentgroup": "True",
         "hovertemplate": "Nationality=Bulgarian<br>Source=Moma compare<br>Department=%{x}<br>Count=%{y}<extra></extra>",
         "legendgroup": "Bulgarian",
         "marker": {
          "color": "#FA8072",
          "pattern": {
           "shape": ""
          }
         },
         "name": "Bulgarian",
         "offsetgroup": "Bulgarian",
         "orientation": "v",
         "showlegend": true,
         "textposition": "auto",
         "type": "bar",
         "x": [
          "Drawings & Prints"
         ],
         "xaxis": "x",
         "y": [
          0
         ],
         "yaxis": "y"
        },
        {
         "alignmentgroup": "True",
         "hovertemplate": "Nationality=Cameroonian<br>Source=Moma compare<br>Department=%{x}<br>Count=%{y}<extra></extra>",
         "legendgroup": "Cameroonian",
         "marker": {
          "color": "#DC143C",
          "pattern": {
           "shape": ""
          }
         },
         "name": "Cameroonian",
         "offsetgroup": "Cameroonian",
         "orientation": "v",
         "showlegend": true,
         "textposition": "auto",
         "type": "bar",
         "x": [
          "Drawings & Prints"
         ],
         "xaxis": "x",
         "y": [
          1
         ],
         "yaxis": "y"
        },
        {
         "alignmentgroup": "True",
         "hovertemplate": "Nationality=Canadian<br>Source=Moma compare<br>Department=%{x}<br>Count=%{y}<extra></extra>",
         "legendgroup": "Canadian",
         "marker": {
          "color": "#8B0000",
          "pattern": {
           "shape": ""
          }
         },
         "name": "Canadian",
         "offsetgroup": "Canadian",
         "orientation": "v",
         "showlegend": true,
         "textposition": "auto",
         "type": "bar",
         "x": [
          "Architecture & Design",
          "Drawings & Prints",
          "Film",
          "Media and Performance",
          "Photography"
         ],
         "xaxis": "x",
         "y": [
          0,
          24,
          1,
          2,
          7
         ],
         "yaxis": "y"
        },
        {
         "alignmentgroup": "True",
         "hovertemplate": "Nationality=Canadian<br>Source=Rhizome<br>Department=%{x}<br>Count=%{y}<extra></extra>",
         "legendgroup": "Canadian",
         "marker": {
          "color": "#8B0000",
          "pattern": {
           "shape": ""
          }
         },
         "name": "Canadian",
         "offsetgroup": "Canadian",
         "orientation": "v",
         "showlegend": false,
         "textposition": "auto",
         "type": "bar",
         "x": [
          "Audio-based",
          "Images, Painting, Photos",
          "Installation & Performance",
          "Interactive",
          "Moving Images",
          "Websites & Data",
          "missing"
         ],
         "xaxis": "x2",
         "y": [
          4,
          16,
          3,
          5,
          44,
          9,
          4
         ],
         "yaxis": "y2"
        },
        {
         "alignmentgroup": "True",
         "hovertemplate": "Nationality=Chilean<br>Source=Moma compare<br>Department=%{x}<br>Count=%{y}<extra></extra>",
         "legendgroup": "Chilean",
         "marker": {
          "color": "#FF8C00",
          "pattern": {
           "shape": ""
          }
         },
         "name": "Chilean",
         "offsetgroup": "Chilean",
         "orientation": "v",
         "showlegend": true,
         "textposition": "auto",
         "type": "bar",
         "x": [
          "Architecture & Design",
          "Drawings & Prints",
          "Film",
          "Media and Performance",
          "Painting & Sculpture",
          "Photography"
         ],
         "xaxis": "x",
         "y": [
          0,
          2,
          0,
          5,
          0,
          0
         ],
         "yaxis": "y"
        },
        {
         "alignmentgroup": "True",
         "hovertemplate": "Nationality=Chinese<br>Source=Moma compare<br>Department=%{x}<br>Count=%{y}<extra></extra>",
         "legendgroup": "Chinese",
         "marker": {
          "color": "#FF4500",
          "pattern": {
           "shape": ""
          }
         },
         "name": "Chinese",
         "offsetgroup": "Chinese",
         "orientation": "v",
         "showlegend": true,
         "textposition": "auto",
         "type": "bar",
         "x": [
          "Architecture & Design",
          "Drawings & Prints",
          "Film",
          "Media and Performance",
          "Painting & Sculpture",
          "Photography"
         ],
         "xaxis": "x",
         "y": [
          1,
          9,
          0,
          2,
          0,
          8
         ],
         "yaxis": "y"
        },
        {
         "alignmentgroup": "True",
         "hovertemplate": "Nationality=Chinese<br>Source=Rhizome<br>Department=%{x}<br>Count=%{y}<extra></extra>",
         "legendgroup": "Chinese",
         "marker": {
          "color": "#FF4500",
          "pattern": {
           "shape": ""
          }
         },
         "name": "Chinese",
         "offsetgroup": "Chinese",
         "orientation": "v",
         "showlegend": false,
         "textposition": "auto",
         "type": "bar",
         "x": [
          "Installation & Performance"
         ],
         "xaxis": "x2",
         "y": [
          2
         ],
         "yaxis": "y2"
        },
        {
         "alignmentgroup": "True",
         "hovertemplate": "Nationality=Colombian<br>Source=Moma compare<br>Department=%{x}<br>Count=%{y}<extra></extra>",
         "legendgroup": "Colombian",
         "marker": {
          "color": "#FFD700",
          "pattern": {
           "shape": ""
          }
         },
         "name": "Colombian",
         "offsetgroup": "Colombian",
         "orientation": "v",
         "showlegend": true,
         "textposition": "auto",
         "type": "bar",
         "x": [
          "Architecture & Design",
          "Drawings & Prints",
          "Media and Performance",
          "Painting & Sculpture",
          "Photography"
         ],
         "xaxis": "x",
         "y": [
          0,
          48,
          0,
          0,
          0
         ],
         "yaxis": "y"
        },
        {
         "alignmentgroup": "True",
         "hovertemplate": "Nationality=Colombian<br>Source=Rhizome<br>Department=%{x}<br>Count=%{y}<extra></extra>",
         "legendgroup": "Colombian",
         "marker": {
          "color": "#FFD700",
          "pattern": {
           "shape": ""
          }
         },
         "name": "Colombian",
         "offsetgroup": "Colombian",
         "orientation": "v",
         "showlegend": false,
         "textposition": "auto",
         "type": "bar",
         "x": [
          "Moving Images",
          "Websites & Data",
          "missing"
         ],
         "xaxis": "x2",
         "y": [
          2,
          5,
          2
         ],
         "yaxis": "y2"
        },
        {
         "alignmentgroup": "True",
         "hovertemplate": "Nationality=Congolese<br>Source=Moma compare<br>Department=%{x}<br>Count=%{y}<extra></extra>",
         "legendgroup": "Congolese",
         "marker": {
          "color": "#FFFF00",
          "pattern": {
           "shape": ""
          }
         },
         "name": "Congolese",
         "offsetgroup": "Congolese",
         "orientation": "v",
         "showlegend": true,
         "textposition": "auto",
         "type": "bar",
         "x": [
          "Painting & Sculpture"
         ],
         "xaxis": "x",
         "y": [
          0
         ],
         "yaxis": "y"
        },
        {
         "alignmentgroup": "True",
         "hovertemplate": "Nationality=Croatian<br>Source=Moma compare<br>Department=%{x}<br>Count=%{y}<extra></extra>",
         "legendgroup": "Croatian",
         "marker": {
          "color": "#F0E68C",
          "pattern": {
           "shape": ""
          }
         },
         "name": "Croatian",
         "offsetgroup": "Croatian",
         "orientation": "v",
         "showlegend": true,
         "textposition": "auto",
         "type": "bar",
         "x": [
          "Architecture & Design"
         ],
         "xaxis": "x",
         "y": [
          1
         ],
         "yaxis": "y"
        },
        {
         "alignmentgroup": "True",
         "hovertemplate": "Nationality=Cuban<br>Source=Moma compare<br>Department=%{x}<br>Count=%{y}<extra></extra>",
         "legendgroup": "Cuban",
         "marker": {
          "color": "#7FFF00",
          "pattern": {
           "shape": ""
          }
         },
         "name": "Cuban",
         "offsetgroup": "Cuban",
         "orientation": "v",
         "showlegend": true,
         "textposition": "auto",
         "type": "bar",
         "x": [
          "Drawings & Prints",
          "Media and Performance",
          "Photography"
         ],
         "xaxis": "x",
         "y": [
          2,
          0,
          0
         ],
         "yaxis": "y"
        },
        {
         "alignmentgroup": "True",
         "hovertemplate": "Nationality=Danish<br>Source=Moma compare<br>Department=%{x}<br>Count=%{y}<extra></extra>",
         "legendgroup": "Danish",
         "marker": {
          "color": "#32CD32",
          "pattern": {
           "shape": ""
          }
         },
         "name": "Danish",
         "offsetgroup": "Danish",
         "orientation": "v",
         "showlegend": true,
         "textposition": "auto",
         "type": "bar",
         "x": [
          "Architecture & Design",
          "Painting & Sculpture"
         ],
         "xaxis": "x",
         "y": [
          1,
          0
         ],
         "yaxis": "y"
        },
        {
         "alignmentgroup": "True",
         "hovertemplate": "Nationality=Dutch<br>Source=Moma compare<br>Department=%{x}<br>Count=%{y}<extra></extra>",
         "legendgroup": "Dutch",
         "marker": {
          "color": "#90EE90",
          "pattern": {
           "shape": ""
          }
         },
         "name": "Dutch",
         "offsetgroup": "Dutch",
         "orientation": "v",
         "showlegend": true,
         "textposition": "auto",
         "type": "bar",
         "x": [
          "Architecture & Design"
         ],
         "xaxis": "x",
         "y": [
          14
         ],
         "yaxis": "y"
        },
        {
         "alignmentgroup": "True",
         "hovertemplate": "Nationality=Dutch<br>Source=Rhizome<br>Department=%{x}<br>Count=%{y}<extra></extra>",
         "legendgroup": "Dutch",
         "marker": {
          "color": "#90EE90",
          "pattern": {
           "shape": ""
          }
         },
         "name": "Dutch",
         "offsetgroup": "Dutch",
         "orientation": "v",
         "showlegend": false,
         "textposition": "auto",
         "type": "bar",
         "x": [
          "Audio-based",
          "Installation & Performance",
          "Moving Images",
          "Websites & Data",
          "missing"
         ],
         "xaxis": "x2",
         "y": [
          4,
          3,
          13,
          4,
          2
         ],
         "yaxis": "y2"
        },
        {
         "alignmentgroup": "True",
         "hovertemplate": "Nationality=Egyptian<br>Source=Moma compare<br>Department=%{x}<br>Count=%{y}<extra></extra>",
         "legendgroup": "Egyptian",
         "marker": {
          "color": "#00FA9A",
          "pattern": {
           "shape": ""
          }
         },
         "name": "Egyptian",
         "offsetgroup": "Egyptian",
         "orientation": "v",
         "showlegend": true,
         "textposition": "auto",
         "type": "bar",
         "x": [
          "Architecture & Design"
         ],
         "xaxis": "x",
         "y": [
          0
         ],
         "yaxis": "y"
        },
        {
         "alignmentgroup": "True",
         "hovertemplate": "Nationality=Emirati<br>Source=Moma compare<br>Department=%{x}<br>Count=%{y}<extra></extra>",
         "legendgroup": "Emirati",
         "marker": {
          "color": "#3CB371",
          "pattern": {
           "shape": ""
          }
         },
         "name": "Emirati",
         "offsetgroup": "Emirati",
         "orientation": "v",
         "showlegend": true,
         "textposition": "auto",
         "type": "bar",
         "x": [
          "Photography"
         ],
         "xaxis": "x",
         "y": [
          0
         ],
         "yaxis": "y"
        },
        {
         "alignmentgroup": "True",
         "hovertemplate": "Nationality=Ethiopian<br>Source=Moma compare<br>Department=%{x}<br>Count=%{y}<extra></extra>",
         "legendgroup": "Ethiopian",
         "marker": {
          "color": "#006400",
          "pattern": {
           "shape": ""
          }
         },
         "name": "Ethiopian",
         "offsetgroup": "Ethiopian",
         "orientation": "v",
         "showlegend": true,
         "textposition": "auto",
         "type": "bar",
         "x": [
          "Photography"
         ],
         "xaxis": "x",
         "y": [
          0
         ],
         "yaxis": "y"
        },
        {
         "alignmentgroup": "True",
         "hovertemplate": "Nationality=Filipino<br>Source=Moma compare<br>Department=%{x}<br>Count=%{y}<extra></extra>",
         "legendgroup": "Filipino",
         "marker": {
          "color": "#9ACD32",
          "pattern": {
           "shape": ""
          }
         },
         "name": "Filipino",
         "offsetgroup": "Filipino",
         "orientation": "v",
         "showlegend": true,
         "textposition": "auto",
         "type": "bar",
         "x": [
          "Film"
         ],
         "xaxis": "x",
         "y": [
          0
         ],
         "yaxis": "y"
        },
        {
         "alignmentgroup": "True",
         "hovertemplate": "Nationality=French<br>Source=Moma compare<br>Department=%{x}<br>Count=%{y}<extra></extra>",
         "legendgroup": "French",
         "marker": {
          "color": "#6B8E23",
          "pattern": {
           "shape": ""
          }
         },
         "name": "French",
         "offsetgroup": "French",
         "orientation": "v",
         "showlegend": true,
         "textposition": "auto",
         "type": "bar",
         "x": [
          "Architecture & Design",
          "Drawings & Prints",
          "Film",
          "Fluxus Collection",
          "Media and Performance",
          "Painting & Sculpture",
          "Photography"
         ],
         "xaxis": "x",
         "y": [
          13,
          8,
          1,
          1,
          1,
          0,
          8
         ],
         "yaxis": "y"
        },
        {
         "alignmentgroup": "True",
         "hovertemplate": "Nationality=French<br>Source=Rhizome<br>Department=%{x}<br>Count=%{y}<extra></extra>",
         "legendgroup": "French",
         "marker": {
          "color": "#6B8E23",
          "pattern": {
           "shape": ""
          }
         },
         "name": "French",
         "offsetgroup": "French",
         "orientation": "v",
         "showlegend": false,
         "textposition": "auto",
         "type": "bar",
         "x": [
          "Audio-based",
          "Images, Painting, Photos",
          "Installation & Performance",
          "Interactive",
          "Moving Images",
          "Websites & Data",
          "missing"
         ],
         "xaxis": "x2",
         "y": [
          11,
          27,
          10,
          2,
          62,
          9,
          12
         ],
         "yaxis": "y2"
        },
        {
         "alignmentgroup": "True",
         "hovertemplate": "Nationality=German<br>Source=Moma compare<br>Department=%{x}<br>Count=%{y}<extra></extra>",
         "legendgroup": "German",
         "marker": {
          "color": "#66CDAA",
          "pattern": {
           "shape": ""
          }
         },
         "name": "German",
         "offsetgroup": "German",
         "orientation": "v",
         "showlegend": true,
         "textposition": "auto",
         "type": "bar",
         "x": [
          "Architecture & Design",
          "Drawings & Prints",
          "Film",
          "Media and Performance",
          "Painting & Sculpture",
          "Photography"
         ],
         "xaxis": "x",
         "y": [
          7,
          101,
          0,
          6,
          5,
          24
         ],
         "yaxis": "y"
        },
        {
         "alignmentgroup": "True",
         "hovertemplate": "Nationality=German<br>Source=Rhizome<br>Department=%{x}<br>Count=%{y}<extra></extra>",
         "legendgroup": "German",
         "marker": {
          "color": "#66CDAA",
          "pattern": {
           "shape": ""
          }
         },
         "name": "German",
         "offsetgroup": "German",
         "orientation": "v",
         "showlegend": false,
         "textposition": "auto",
         "type": "bar",
         "x": [
          "Audio-based",
          "Images, Painting, Photos",
          "Installation & Performance",
          "Interactive",
          "Moving Images",
          "Websites & Data",
          "missing"
         ],
         "xaxis": "x2",
         "y": [
          6,
          12,
          10,
          5,
          33,
          14,
          7
         ],
         "yaxis": "y2"
        },
        {
         "alignmentgroup": "True",
         "hovertemplate": "Nationality=Greek<br>Source=Moma compare<br>Department=%{x}<br>Count=%{y}<extra></extra>",
         "legendgroup": "Greek",
         "marker": {
          "color": "#20B2AA",
          "pattern": {
           "shape": ""
          }
         },
         "name": "Greek",
         "offsetgroup": "Greek",
         "orientation": "v",
         "showlegend": true,
         "textposition": "auto",
         "type": "bar",
         "x": [
          "Drawings & Prints"
         ],
         "xaxis": "x",
         "y": [
          1
         ],
         "yaxis": "y"
        },
        {
         "alignmentgroup": "True",
         "hovertemplate": "Nationality=Guatemalan<br>Source=Moma compare<br>Department=%{x}<br>Count=%{y}<extra></extra>",
         "legendgroup": "Guatemalan",
         "marker": {
          "color": "#5F9EA0",
          "pattern": {
           "shape": ""
          }
         },
         "name": "Guatemalan",
         "offsetgroup": "Guatemalan",
         "orientation": "v",
         "showlegend": true,
         "textposition": "auto",
         "type": "bar",
         "x": [
          "Media and Performance"
         ],
         "xaxis": "x",
         "y": [
          0
         ],
         "yaxis": "y"
        },
        {
         "alignmentgroup": "True",
         "hovertemplate": "Nationality=Hungarian<br>Source=Moma compare<br>Department=%{x}<br>Count=%{y}<extra></extra>",
         "legendgroup": "Hungarian",
         "marker": {
          "color": "#4682B4",
          "pattern": {
           "shape": ""
          }
         },
         "name": "Hungarian",
         "offsetgroup": "Hungarian",
         "orientation": "v",
         "showlegend": true,
         "textposition": "auto",
         "type": "bar",
         "x": [
          "Architecture & Design",
          "Drawings & Prints",
          "Media and Performance"
         ],
         "xaxis": "x",
         "y": [
          1,
          0,
          0
         ],
         "yaxis": "y"
        },
        {
         "alignmentgroup": "True",
         "hovertemplate": "Nationality=Hungarian<br>Source=Rhizome<br>Department=%{x}<br>Count=%{y}<extra></extra>",
         "legendgroup": "Hungarian",
         "marker": {
          "color": "#4682B4",
          "pattern": {
           "shape": ""
          }
         },
         "name": "Hungarian",
         "offsetgroup": "Hungarian",
         "orientation": "v",
         "showlegend": false,
         "textposition": "auto",
         "type": "bar",
         "x": [
          "Installation & Performance"
         ],
         "xaxis": "x2",
         "y": [
          2
         ],
         "yaxis": "y2"
        },
        {
         "alignmentgroup": "True",
         "hovertemplate": "Nationality=Indian<br>Source=Moma compare<br>Department=%{x}<br>Count=%{y}<extra></extra>",
         "legendgroup": "Indian",
         "marker": {
          "color": "#B0C4DE",
          "pattern": {
           "shape": ""
          }
         },
         "name": "Indian",
         "offsetgroup": "Indian",
         "orientation": "v",
         "showlegend": true,
         "textposition": "auto",
         "type": "bar",
         "x": [
          "Architecture & Design",
          "Drawings & Prints",
          "Media and Performance",
          "Painting & Sculpture",
          "Photography"
         ],
         "xaxis": "x",
         "y": [
          1,
          2,
          0,
          0,
          7
         ],
         "yaxis": "y"
        },
        {
         "alignmentgroup": "True",
         "hovertemplate": "Nationality=Iranian<br>Source=Moma compare<br>Department=%{x}<br>Count=%{y}<extra></extra>",
         "legendgroup": "Iranian",
         "marker": {
          "color": "#87CEFA",
          "pattern": {
           "shape": ""
          }
         },
         "name": "Iranian",
         "offsetgroup": "Iranian",
         "orientation": "v",
         "showlegend": true,
         "textposition": "auto",
         "type": "bar",
         "x": [
          "Media and Performance"
         ],
         "xaxis": "x",
         "y": [
          0
         ],
         "yaxis": "y"
        },
        {
         "alignmentgroup": "True",
         "hovertemplate": "Nationality=Iranian<br>Source=Rhizome<br>Department=%{x}<br>Count=%{y}<extra></extra>",
         "legendgroup": "Iranian",
         "marker": {
          "color": "#87CEFA",
          "pattern": {
           "shape": ""
          }
         },
         "name": "Iranian",
         "offsetgroup": "Iranian",
         "orientation": "v",
         "showlegend": false,
         "textposition": "auto",
         "type": "bar",
         "x": [
          "Websites & Data"
         ],
         "xaxis": "x2",
         "y": [
          2
         ],
         "yaxis": "y2"
        },
        {
         "alignmentgroup": "True",
         "hovertemplate": "Nationality=Irish<br>Source=Moma compare<br>Department=%{x}<br>Count=%{y}<extra></extra>",
         "legendgroup": "Irish",
         "marker": {
          "color": "#6495ED",
          "pattern": {
           "shape": ""
          }
         },
         "name": "Irish",
         "offsetgroup": "Irish",
         "orientation": "v",
         "showlegend": true,
         "textposition": "auto",
         "type": "bar",
         "x": [
          "Drawings & Prints",
          "Media and Performance"
         ],
         "xaxis": "x",
         "y": [
          0,
          0
         ],
         "yaxis": "y"
        },
        {
         "alignmentgroup": "True",
         "hovertemplate": "Nationality=Irish<br>Source=Rhizome<br>Department=%{x}<br>Count=%{y}<extra></extra>",
         "legendgroup": "Irish",
         "marker": {
          "color": "#6495ED",
          "pattern": {
           "shape": ""
          }
         },
         "name": "Irish",
         "offsetgroup": "Irish",
         "orientation": "v",
         "showlegend": false,
         "textposition": "auto",
         "type": "bar",
         "x": [
          "Moving Images"
         ],
         "xaxis": "x2",
         "y": [
          2
         ],
         "yaxis": "y2"
        },
        {
         "alignmentgroup": "True",
         "hovertemplate": "Nationality=Israeli<br>Source=Moma compare<br>Department=%{x}<br>Count=%{y}<extra></extra>",
         "legendgroup": "Israeli",
         "marker": {
          "color": "#00BFFF",
          "pattern": {
           "shape": ""
          }
         },
         "name": "Israeli",
         "offsetgroup": "Israeli",
         "orientation": "v",
         "showlegend": true,
         "textposition": "auto",
         "type": "bar",
         "x": [
          "Architecture & Design"
         ],
         "xaxis": "x",
         "y": [
          0
         ],
         "yaxis": "y"
        },
        {
         "alignmentgroup": "True",
         "hovertemplate": "Nationality=Israeli<br>Source=Rhizome<br>Department=%{x}<br>Count=%{y}<extra></extra>",
         "legendgroup": "Israeli",
         "marker": {
          "color": "#00BFFF",
          "pattern": {
           "shape": ""
          }
         },
         "name": "Israeli",
         "offsetgroup": "Israeli",
         "orientation": "v",
         "showlegend": false,
         "textposition": "auto",
         "type": "bar",
         "x": [
          "Audio-based",
          "Installation & Performance"
         ],
         "xaxis": "x2",
         "y": [
          3,
          3
         ],
         "yaxis": "y2"
        },
        {
         "alignmentgroup": "True",
         "hovertemplate": "Nationality=Italian<br>Source=Moma compare<br>Department=%{x}<br>Count=%{y}<extra></extra>",
         "legendgroup": "Italian",
         "marker": {
          "color": "#1E90FF",
          "pattern": {
           "shape": ""
          }
         },
         "name": "Italian",
         "offsetgroup": "Italian",
         "orientation": "v",
         "showlegend": true,
         "textposition": "auto",
         "type": "bar",
         "x": [
          "Architecture & Design"
         ],
         "xaxis": "x",
         "y": [
          9
         ],
         "yaxis": "y"
        },
        {
         "alignmentgroup": "True",
         "hovertemplate": "Nationality=Ivorian<br>Source=Moma compare<br>Department=%{x}<br>Count=%{y}<extra></extra>",
         "legendgroup": "Ivorian",
         "marker": {
          "color": "#0000CD",
          "pattern": {
           "shape": ""
          }
         },
         "name": "Ivorian",
         "offsetgroup": "Ivorian",
         "orientation": "v",
         "showlegend": true,
         "textposition": "auto",
         "type": "bar",
         "x": [
          "Drawings & Prints"
         ],
         "xaxis": "x",
         "y": [
          48
         ],
         "yaxis": "y"
        },
        {
         "alignmentgroup": "True",
         "hovertemplate": "Nationality=Japanese<br>Source=Moma compare<br>Department=%{x}<br>Count=%{y}<extra></extra>",
         "legendgroup": "Japanese",
         "marker": {
          "color": "#191970",
          "pattern": {
           "shape": ""
          }
         },
         "name": "Japanese",
         "offsetgroup": "Japanese",
         "orientation": "v",
         "showlegend": true,
         "textposition": "auto",
         "type": "bar",
         "x": [
          "Architecture & Design"
         ],
         "xaxis": "x",
         "y": [
          10
         ],
         "yaxis": "y"
        },
        {
         "alignmentgroup": "True",
         "hovertemplate": "Nationality=Japanese<br>Source=Rhizome<br>Department=%{x}<br>Count=%{y}<extra></extra>",
         "legendgroup": "Japanese",
         "marker": {
          "color": "#191970",
          "pattern": {
           "shape": ""
          }
         },
         "name": "Japanese",
         "offsetgroup": "Japanese",
         "orientation": "v",
         "showlegend": false,
         "textposition": "auto",
         "type": "bar",
         "x": [
          "Audio-based",
          "missing"
         ],
         "xaxis": "x2",
         "y": [
          3,
          2
         ],
         "yaxis": "y2"
        },
        {
         "alignmentgroup": "True",
         "hovertemplate": "Nationality=Kenyan<br>Source=Moma compare<br>Department=%{x}<br>Count=%{y}<extra></extra>",
         "legendgroup": "Kenyan",
         "marker": {
          "color": "#FFDEAD",
          "pattern": {
           "shape": ""
          }
         },
         "name": "Kenyan",
         "offsetgroup": "Kenyan",
         "orientation": "v",
         "showlegend": true,
         "textposition": "auto",
         "type": "bar",
         "x": [
          "Drawings & Prints"
         ],
         "xaxis": "x",
         "y": [
          1
         ],
         "yaxis": "y"
        },
        {
         "alignmentgroup": "True",
         "hovertemplate": "Nationality=Korean<br>Source=Moma compare<br>Department=%{x}<br>Count=%{y}<extra></extra>",
         "legendgroup": "Korean",
         "marker": {
          "color": "#DEB887",
          "pattern": {
           "shape": ""
          }
         },
         "name": "Korean",
         "offsetgroup": "Korean",
         "orientation": "v",
         "showlegend": true,
         "textposition": "auto",
         "type": "bar",
         "x": [
          "Architecture & Design",
          "Film",
          "Painting & Sculpture"
         ],
         "xaxis": "x",
         "y": [
          1,
          0,
          0
         ],
         "yaxis": "y"
        },
        {
         "alignmentgroup": "True",
         "hovertemplate": "Nationality=Lebanese<br>Source=Moma compare<br>Department=%{x}<br>Count=%{y}<extra></extra>",
         "legendgroup": "Lebanese",
         "marker": {
          "color": "#BC8F8F",
          "pattern": {
           "shape": ""
          }
         },
         "name": "Lebanese",
         "offsetgroup": "Lebanese",
         "orientation": "v",
         "showlegend": true,
         "textposition": "auto",
         "type": "bar",
         "x": [
          "Drawings & Prints",
          "Media and Performance"
         ],
         "xaxis": "x",
         "y": [
          3,
          0
         ],
         "yaxis": "y"
        },
        {
         "alignmentgroup": "True",
         "hovertemplate": "Nationality=Luxembourgish<br>Source=Moma compare<br>Department=%{x}<br>Count=%{y}<extra></extra>",
         "legendgroup": "Luxembourgish",
         "marker": {
          "color": "#DAA520",
          "pattern": {
           "shape": ""
          }
         },
         "name": "Luxembourgish",
         "offsetgroup": "Luxembourgish",
         "orientation": "v",
         "showlegend": true,
         "textposition": "auto",
         "type": "bar",
         "x": [
          "Architecture & Design"
         ],
         "xaxis": "x",
         "y": [
          2
         ],
         "yaxis": "y"
        },
        {
         "alignmentgroup": "True",
         "hovertemplate": "Nationality=Malaysian<br>Source=Moma compare<br>Department=%{x}<br>Count=%{y}<extra></extra>",
         "legendgroup": "Malaysian",
         "marker": {
          "color": "#B8860B",
          "pattern": {
           "shape": ""
          }
         },
         "name": "Malaysian",
         "offsetgroup": "Malaysian",
         "orientation": "v",
         "showlegend": true,
         "textposition": "auto",
         "type": "bar",
         "x": [
          "Drawings & Prints"
         ],
         "xaxis": "x",
         "y": [
          0
         ],
         "yaxis": "y"
        },
        {
         "alignmentgroup": "True",
         "hovertemplate": "Nationality=Mexican<br>Source=Moma compare<br>Department=%{x}<br>Count=%{y}<extra></extra>",
         "legendgroup": "Mexican",
         "marker": {
          "color": "#D2691E",
          "pattern": {
           "shape": ""
          }
         },
         "name": "Mexican",
         "offsetgroup": "Mexican",
         "orientation": "v",
         "showlegend": true,
         "textposition": "auto",
         "type": "bar",
         "x": [
          "Architecture & Design",
          "Drawings & Prints",
          "Film",
          "Media and Performance",
          "Painting & Sculpture",
          "Photography"
         ],
         "xaxis": "x",
         "y": [
          1,
          9,
          0,
          2,
          0,
          3
         ],
         "yaxis": "y"
        },
        {
         "alignmentgroup": "True",
         "hovertemplate": "Nationality=Moroccan<br>Source=Moma compare<br>Department=%{x}<br>Count=%{y}<extra></extra>",
         "legendgroup": "Moroccan",
         "marker": {
          "color": "#8B4513",
          "pattern": {
           "shape": ""
          }
         },
         "name": "Moroccan",
         "offsetgroup": "Moroccan",
         "orientation": "v",
         "showlegend": true,
         "textposition": "auto",
         "type": "bar",
         "x": [
          "Media and Performance"
         ],
         "xaxis": "x",
         "y": [
          0
         ],
         "yaxis": "y"
        },
        {
         "alignmentgroup": "True",
         "hovertemplate": "Nationality=Nationality unknown<br>Source=Moma compare<br>Department=%{x}<br>Count=%{y}<extra></extra>",
         "legendgroup": "Nationality unknown",
         "marker": {
          "color": "#A52A2A",
          "pattern": {
           "shape": ""
          }
         },
         "name": "Nationality unknown",
         "offsetgroup": "Nationality unknown",
         "orientation": "v",
         "showlegend": true,
         "textposition": "auto",
         "type": "bar",
         "x": [
          "Architecture & Design",
          "Film",
          "Photography"
         ],
         "xaxis": "x",
         "y": [
          1,
          0,
          0
         ],
         "yaxis": "y"
        },
        {
         "alignmentgroup": "True",
         "hovertemplate": "Nationality=Native American<br>Source=Moma compare<br>Department=%{x}<br>Count=%{y}<extra></extra>",
         "legendgroup": "Native American",
         "marker": {
          "color": "#F0FFF0",
          "pattern": {
           "shape": ""
          }
         },
         "name": "Native American",
         "offsetgroup": "Native American",
         "orientation": "v",
         "showlegend": true,
         "textposition": "auto",
         "type": "bar",
         "x": [
          "Photography"
         ],
         "xaxis": "x",
         "y": [
          1
         ],
         "yaxis": "y"
        },
        {
         "alignmentgroup": "True",
         "hovertemplate": "Nationality=New Zealander<br>Source=Moma compare<br>Department=%{x}<br>Count=%{y}<extra></extra>",
         "legendgroup": "New Zealander",
         "marker": {
          "color": "#708090",
          "pattern": {
           "shape": ""
          }
         },
         "name": "New Zealander",
         "offsetgroup": "New Zealander",
         "orientation": "v",
         "showlegend": true,
         "textposition": "auto",
         "type": "bar",
         "x": [
          "Painting & Sculpture"
         ],
         "xaxis": "x",
         "y": [
          0
         ],
         "yaxis": "y"
        },
        {
         "alignmentgroup": "True",
         "hovertemplate": "Nationality=Norwegian<br>Source=Moma compare<br>Department=%{x}<br>Count=%{y}<extra></extra>",
         "legendgroup": "Norwegian",
         "marker": {
          "color": "#2F4F4F",
          "pattern": {
           "shape": ""
          }
         },
         "name": "Norwegian",
         "offsetgroup": "Norwegian",
         "orientation": "v",
         "showlegend": true,
         "textposition": "auto",
         "type": "bar",
         "x": [
          "Drawings & Prints",
          "Photography"
         ],
         "xaxis": "x",
         "y": [
          5,
          0
         ],
         "yaxis": "y"
        },
        {
         "alignmentgroup": "True",
         "hovertemplate": "Nationality=Others<br>Source=Moma compare<br>Department=%{x}<br>Count=%{y}<extra></extra>",
         "legendgroup": "Others",
         "marker": {
          "color": "#696969",
          "pattern": {
           "shape": ""
          }
         },
         "name": "Others",
         "offsetgroup": "Others",
         "orientation": "v",
         "showlegend": true,
         "textposition": "auto",
         "type": "bar",
         "x": [
          "Architecture & Design",
          "Drawings & Prints",
          "Film",
          "Fluxus Collection",
          "Media and Performance",
          "Painting & Sculpture",
          "Photography"
         ],
         "xaxis": "x",
         "y": [
          2,
          110,
          2,
          3,
          12,
          4,
          17
         ],
         "yaxis": "y"
        },
        {
         "alignmentgroup": "True",
         "hovertemplate": "Nationality=Others<br>Source=Rhizome<br>Department=%{x}<br>Count=%{y}<extra></extra>",
         "legendgroup": "Others",
         "marker": {
          "color": "#696969",
          "pattern": {
           "shape": ""
          }
         },
         "name": "Others",
         "offsetgroup": "Others",
         "orientation": "v",
         "showlegend": false,
         "textposition": "auto",
         "type": "bar",
         "x": [
          "Audio-based",
          "Conceptual",
          "Images, Painting, Photos",
          "Installation & Performance",
          "Interactive",
          "Moving Images",
          "Text-based",
          "Websites & Data",
          "missing"
         ],
         "xaxis": "x2",
         "y": [
          17,
          7,
          94,
          16,
          15,
          169,
          8,
          62,
          28
         ],
         "yaxis": "y2"
        },
        {
         "alignmentgroup": "True",
         "hovertemplate": "Nationality=Polish<br>Source=Moma compare<br>Department=%{x}<br>Count=%{y}<extra></extra>",
         "legendgroup": "Polish",
         "marker": {
          "color": "#8FBC8F",
          "pattern": {
           "shape": ""
          }
         },
         "name": "Polish",
         "offsetgroup": "Polish",
         "orientation": "v",
         "showlegend": true,
         "textposition": "auto",
         "type": "bar",
         "x": [
          "Architecture & Design"
         ],
         "xaxis": "x",
         "y": [
          1
         ],
         "yaxis": "y"
        },
        {
         "alignmentgroup": "True",
         "hovertemplate": "Nationality=Polish<br>Source=Rhizome<br>Department=%{x}<br>Count=%{y}<extra></extra>",
         "legendgroup": "Polish",
         "marker": {
          "color": "#8FBC8F",
          "pattern": {
           "shape": ""
          }
         },
         "name": "Polish",
         "offsetgroup": "Polish",
         "orientation": "v",
         "showlegend": false,
         "textposition": "auto",
         "type": "bar",
         "x": [
          "Images, Painting, Photos",
          "Interactive",
          "Moving Images",
          "Websites & Data",
          "missing"
         ],
         "xaxis": "x2",
         "y": [
          5,
          3,
          8,
          2,
          2
         ],
         "yaxis": "y2"
        },
        {
         "alignmentgroup": "True",
         "hovertemplate": "Nationality=Portuguese<br>Source=Moma compare<br>Department=%{x}<br>Count=%{y}<extra></extra>",
         "legendgroup": "Portuguese",
         "marker": {
          "color": "#00CED1",
          "pattern": {
           "shape": ""
          }
         },
         "name": "Portuguese",
         "offsetgroup": "Portuguese",
         "orientation": "v",
         "showlegend": true,
         "textposition": "auto",
         "type": "bar",
         "x": [
          "Architecture & Design",
          "Drawings & Prints",
          "Film"
         ],
         "xaxis": "x",
         "y": [
          2,
          1,
          0
         ],
         "yaxis": "y"
        },
        {
         "alignmentgroup": "True",
         "hovertemplate": "Nationality=Portuguese<br>Source=Rhizome<br>Department=%{x}<br>Count=%{y}<extra></extra>",
         "legendgroup": "Portuguese",
         "marker": {
          "color": "#00CED1",
          "pattern": {
           "shape": ""
          }
         },
         "name": "Portuguese",
         "offsetgroup": "Portuguese",
         "orientation": "v",
         "showlegend": false,
         "textposition": "auto",
         "type": "bar",
         "x": [
          "Images, Painting, Photos",
          "Moving Images",
          "Websites & Data"
         ],
         "xaxis": "x2",
         "y": [
          6,
          2,
          5
         ],
         "yaxis": "y2"
        },
        {
         "alignmentgroup": "True",
         "hovertemplate": "Nationality=Romanian<br>Source=Moma compare<br>Department=%{x}<br>Count=%{y}<extra></extra>",
         "legendgroup": "Romanian",
         "marker": {
          "color": "#F0FFF0",
          "pattern": {
           "shape": ""
          }
         },
         "name": "Romanian",
         "offsetgroup": "Romanian",
         "orientation": "v",
         "showlegend": true,
         "textposition": "auto",
         "type": "bar",
         "x": [
          "Drawings & Prints",
          "Media and Performance"
         ],
         "xaxis": "x",
         "y": [
          0,
          0
         ],
         "yaxis": "y"
        },
        {
         "alignmentgroup": "True",
         "hovertemplate": "Nationality=Romanian<br>Source=Rhizome<br>Department=%{x}<br>Count=%{y}<extra></extra>",
         "legendgroup": "Romanian",
         "marker": {
          "color": "#F0FFF0",
          "pattern": {
           "shape": ""
          }
         },
         "name": "Romanian",
         "offsetgroup": "Romanian",
         "orientation": "v",
         "showlegend": false,
         "textposition": "auto",
         "type": "bar",
         "x": [
          "Moving Images"
         ],
         "xaxis": "x2",
         "y": [
          2
         ],
         "yaxis": "y2"
        },
        {
         "alignmentgroup": "True",
         "hovertemplate": "Nationality=Russian<br>Source=Moma compare<br>Department=%{x}<br>Count=%{y}<extra></extra>",
         "legendgroup": "Russian",
         "marker": {
          "color": "#F0FFFF",
          "pattern": {
           "shape": ""
          }
         },
         "name": "Russian",
         "offsetgroup": "Russian",
         "orientation": "v",
         "showlegend": true,
         "textposition": "auto",
         "type": "bar",
         "x": [
          "Architecture & Design",
          "Film",
          "Photography"
         ],
         "xaxis": "x",
         "y": [
          3,
          0,
          0
         ],
         "yaxis": "y"
        },
        {
         "alignmentgroup": "True",
         "hovertemplate": "Nationality=Russian<br>Source=Rhizome<br>Department=%{x}<br>Count=%{y}<extra></extra>",
         "legendgroup": "Russian",
         "marker": {
          "color": "#F0FFFF",
          "pattern": {
           "shape": ""
          }
         },
         "name": "Russian",
         "offsetgroup": "Russian",
         "orientation": "v",
         "showlegend": false,
         "textposition": "auto",
         "type": "bar",
         "x": [
          "Moving Images",
          "Websites & Data"
         ],
         "xaxis": "x2",
         "y": [
          6,
          5
         ],
         "yaxis": "y2"
        },
        {
         "alignmentgroup": "True",
         "hovertemplate": "Nationality=Salvadoran<br>Source=Moma compare<br>Department=%{x}<br>Count=%{y}<extra></extra>",
         "legendgroup": "Salvadoran",
         "marker": {
          "color": "#F5F5DC",
          "pattern": {
           "shape": ""
          }
         },
         "name": "Salvadoran",
         "offsetgroup": "Salvadoran",
         "orientation": "v",
         "showlegend": true,
         "textposition": "auto",
         "type": "bar",
         "x": [
          "Painting & Sculpture"
         ],
         "xaxis": "x",
         "y": [
          0
         ],
         "yaxis": "y"
        },
        {
         "alignmentgroup": "True",
         "hovertemplate": "Nationality=Scottish<br>Source=Moma compare<br>Department=%{x}<br>Count=%{y}<extra></extra>",
         "legendgroup": "Scottish",
         "marker": {
          "color": "#FFFFF0",
          "pattern": {
           "shape": ""
          }
         },
         "name": "Scottish",
         "offsetgroup": "Scottish",
         "orientation": "v",
         "showlegend": true,
         "textposition": "auto",
         "type": "bar",
         "x": [
          "Architecture & Design",
          "Drawings & Prints",
          "Media and Performance",
          "Painting & Sculpture"
         ],
         "xaxis": "x",
         "y": [
          0,
          4,
          0,
          0
         ],
         "yaxis": "y"
        },
        {
         "alignmentgroup": "True",
         "hovertemplate": "Nationality=South African<br>Source=Moma compare<br>Department=%{x}<br>Count=%{y}<extra></extra>",
         "legendgroup": "South African",
         "marker": {
          "color": "#FFE4E1",
          "pattern": {
           "shape": ""
          }
         },
         "name": "South African",
         "offsetgroup": "South African",
         "orientation": "v",
         "showlegend": true,
         "textposition": "auto",
         "type": "bar",
         "x": [
          "Architecture & Design",
          "Drawings & Prints",
          "Media and Performance",
          "Painting & Sculpture",
          "Photography"
         ],
         "xaxis": "x",
         "y": [
          0,
          23,
          0,
          0,
          4
         ],
         "yaxis": "y"
        },
        {
         "alignmentgroup": "True",
         "hovertemplate": "Nationality=Spanish<br>Source=Moma compare<br>Department=%{x}<br>Count=%{y}<extra></extra>",
         "legendgroup": "Spanish",
         "marker": {
          "color": "#FFFAFA",
          "pattern": {
           "shape": ""
          }
         },
         "name": "Spanish",
         "offsetgroup": "Spanish",
         "orientation": "v",
         "showlegend": true,
         "textposition": "auto",
         "type": "bar",
         "x": [
          "Architecture & Design",
          "Drawings & Prints",
          "Film",
          "Painting & Sculpture"
         ],
         "xaxis": "x",
         "y": [
          4,
          7,
          0,
          0
         ],
         "yaxis": "y"
        },
        {
         "alignmentgroup": "True",
         "hovertemplate": "Nationality=Sudanese<br>Source=Moma compare<br>Department=%{x}<br>Count=%{y}<extra></extra>",
         "legendgroup": "Sudanese",
         "marker": {
          "color": "#FFC0CB",
          "pattern": {
           "shape": ""
          }
         },
         "name": "Sudanese",
         "offsetgroup": "Sudanese",
         "orientation": "v",
         "showlegend": true,
         "textposition": "auto",
         "type": "bar",
         "x": [
          "Drawings & Prints"
         ],
         "xaxis": "x",
         "y": [
          1
         ],
         "yaxis": "y"
        },
        {
         "alignmentgroup": "True",
         "hovertemplate": "Nationality=Swedish<br>Source=Moma compare<br>Department=%{x}<br>Count=%{y}<extra></extra>",
         "legendgroup": "Swedish",
         "marker": {
          "color": "#FF69B4",
          "pattern": {
           "shape": ""
          }
         },
         "name": "Swedish",
         "offsetgroup": "Swedish",
         "orientation": "v",
         "showlegend": true,
         "textposition": "auto",
         "type": "bar",
         "x": [
          "Architecture & Design"
         ],
         "xaxis": "x",
         "y": [
          0
         ],
         "yaxis": "y"
        },
        {
         "alignmentgroup": "True",
         "hovertemplate": "Nationality=Swedish<br>Source=Rhizome<br>Department=%{x}<br>Count=%{y}<extra></extra>",
         "legendgroup": "Swedish",
         "marker": {
          "color": "#FF69B4",
          "pattern": {
           "shape": ""
          }
         },
         "name": "Swedish",
         "offsetgroup": "Swedish",
         "orientation": "v",
         "showlegend": false,
         "textposition": "auto",
         "type": "bar",
         "x": [
          "Audio-based",
          "Installation & Performance",
          "Moving Images",
          "Websites & Data",
          "missing"
         ],
         "xaxis": "x2",
         "y": [
          4,
          2,
          10,
          5,
          2
         ],
         "yaxis": "y2"
        },
        {
         "alignmentgroup": "True",
         "hovertemplate": "Nationality=Swiss<br>Source=Moma compare<br>Department=%{x}<br>Count=%{y}<extra></extra>",
         "legendgroup": "Swiss",
         "marker": {
          "color": "#DB7093",
          "pattern": {
           "shape": ""
          }
         },
         "name": "Swiss",
         "offsetgroup": "Swiss",
         "orientation": "v",
         "showlegend": true,
         "textposition": "auto",
         "type": "bar",
         "x": [
          "Architecture & Design",
          "Drawings & Prints",
          "Media and Performance",
          "Painting & Sculpture",
          "Photography"
         ],
         "xaxis": "x",
         "y": [
          10,
          19,
          11,
          0,
          1
         ],
         "yaxis": "y"
        },
        {
         "alignmentgroup": "True",
         "hovertemplate": "Nationality=Tunisian<br>Source=Moma compare<br>Department=%{x}<br>Count=%{y}<extra></extra>",
         "legendgroup": "Tunisian",
         "marker": {
          "color": "#C71585",
          "pattern": {
           "shape": ""
          }
         },
         "name": "Tunisian",
         "offsetgroup": "Tunisian",
         "orientation": "v",
         "showlegend": true,
         "textposition": "auto",
         "type": "bar",
         "x": [
          "Drawings & Prints"
         ],
         "xaxis": "x",
         "y": [
          1
         ],
         "yaxis": "y"
        },
        {
         "alignmentgroup": "True",
         "hovertemplate": "Nationality=Turkish<br>Source=Moma compare<br>Department=%{x}<br>Count=%{y}<extra></extra>",
         "legendgroup": "Turkish",
         "marker": {
          "color": "#E6E6FA",
          "pattern": {
           "shape": ""
          }
         },
         "name": "Turkish",
         "offsetgroup": "Turkish",
         "orientation": "v",
         "showlegend": true,
         "textposition": "auto",
         "type": "bar",
         "x": [
          "Architecture & Design"
         ],
         "xaxis": "x",
         "y": [
          0
         ],
         "yaxis": "y"
        },
        {
         "alignmentgroup": "True",
         "hovertemplate": "Nationality=Turkish<br>Source=Rhizome<br>Department=%{x}<br>Count=%{y}<extra></extra>",
         "legendgroup": "Turkish",
         "marker": {
          "color": "#E6E6FA",
          "pattern": {
           "shape": ""
          }
         },
         "name": "Turkish",
         "offsetgroup": "Turkish",
         "orientation": "v",
         "showlegend": false,
         "textposition": "auto",
         "type": "bar",
         "x": [
          "Moving Images",
          "Websites & Data"
         ],
         "xaxis": "x2",
         "y": [
          2,
          3
         ],
         "yaxis": "y2"
        },
        {
         "alignmentgroup": "True",
         "hovertemplate": "Nationality=Ukrainian<br>Source=Moma compare<br>Department=%{x}<br>Count=%{y}<extra></extra>",
         "legendgroup": "Ukrainian",
         "marker": {
          "color": "#DDA0DD",
          "pattern": {
           "shape": ""
          }
         },
         "name": "Ukrainian",
         "offsetgroup": "Ukrainian",
         "orientation": "v",
         "showlegend": true,
         "textposition": "auto",
         "type": "bar",
         "x": [
          "Photography"
         ],
         "xaxis": "x",
         "y": [
          1
         ],
         "yaxis": "y"
        },
        {
         "alignmentgroup": "True",
         "hovertemplate": "Nationality=Uruguayan<br>Source=Moma compare<br>Department=%{x}<br>Count=%{y}<extra></extra>",
         "legendgroup": "Uruguayan",
         "marker": {
          "color": "#EE82EE",
          "pattern": {
           "shape": ""
          }
         },
         "name": "Uruguayan",
         "offsetgroup": "Uruguayan",
         "orientation": "v",
         "showlegend": true,
         "textposition": "auto",
         "type": "bar",
         "x": [
          "Drawings & Prints",
          "Media and Performance"
         ],
         "xaxis": "x",
         "y": [
          4,
          0
         ],
         "yaxis": "y"
        },
        {
         "alignmentgroup": "True",
         "hovertemplate": "Nationality=Venezuelan<br>Source=Moma compare<br>Department=%{x}<br>Count=%{y}<extra></extra>",
         "legendgroup": "Venezuelan",
         "marker": {
          "color": "#9932CC",
          "pattern": {
           "shape": ""
          }
         },
         "name": "Venezuelan",
         "offsetgroup": "Venezuelan",
         "orientation": "v",
         "showlegend": true,
         "textposition": "auto",
         "type": "bar",
         "x": [
          "Drawings & Prints",
          "Painting & Sculpture",
          "Photography"
         ],
         "xaxis": "x",
         "y": [
          3,
          0,
          0
         ],
         "yaxis": "y"
        },
        {
         "alignmentgroup": "True",
         "hovertemplate": "Nationality=Zimbabwean<br>Source=Moma compare<br>Department=%{x}<br>Count=%{y}<extra></extra>",
         "legendgroup": "Zimbabwean",
         "marker": {
          "color": "#8B008B",
          "pattern": {
           "shape": ""
          }
         },
         "name": "Zimbabwean",
         "offsetgroup": "Zimbabwean",
         "orientation": "v",
         "showlegend": true,
         "textposition": "auto",
         "type": "bar",
         "x": [
          "Drawings & Prints"
         ],
         "xaxis": "x",
         "y": [
          0
         ],
         "yaxis": "y"
        },
        {
         "alignmentgroup": "True",
         "hovertemplate": "Nationality=missing<br>Source=Moma compare<br>Department=%{x}<br>Count=%{y}<extra></extra>",
         "legendgroup": "missing",
         "marker": {
          "color": "#9370DB",
          "pattern": {
           "shape": ""
          }
         },
         "name": "missing",
         "offsetgroup": "missing",
         "orientation": "v",
         "showlegend": true,
         "textposition": "auto",
         "type": "bar",
         "x": [
          "Architecture & Design",
          "Drawings & Prints",
          "Film",
          "Fluxus Collection",
          "Media and Performance",
          "Painting & Sculpture",
          "Photography"
         ],
         "xaxis": "x",
         "y": [
          3,
          32,
          2,
          1,
          0,
          0,
          1
         ],
         "yaxis": "y"
        },
        {
         "alignmentgroup": "True",
         "hovertemplate": "Nationality=missing<br>Source=Rhizome<br>Department=%{x}<br>Count=%{y}<extra></extra>",
         "legendgroup": "missing",
         "marker": {
          "color": "#9370DB",
          "pattern": {
           "shape": ""
          }
         },
         "name": "missing",
         "offsetgroup": "missing",
         "orientation": "v",
         "showlegend": false,
         "textposition": "auto",
         "type": "bar",
         "x": [
          "Audio-based",
          "Conceptual",
          "Images, Painting, Photos",
          "Installation & Performance",
          "Interactive",
          "Moving Images",
          "Text-based",
          "Websites & Data",
          "missing"
         ],
         "xaxis": "x2",
         "y": [
          36,
          10,
          96,
          32,
          19,
          240,
          5,
          106,
          65
         ],
         "yaxis": "y2"
        },
        {
         "alignmentgroup": "True",
         "hovertemplate": "Nationality=Afghan/American<br>Source=Rhizome<br>Department=%{x}<br>Count=%{y}<extra></extra>",
         "legendgroup": "Afghan/American",
         "marker": {
          "color": "#483D8B",
          "pattern": {
           "shape": ""
          }
         },
         "name": "Afghan/American",
         "offsetgroup": "Afghan/American",
         "orientation": "v",
         "showlegend": true,
         "textposition": "auto",
         "type": "bar",
         "x": [
          "Websites & Data"
         ],
         "xaxis": "x2",
         "y": [
          2
         ],
         "yaxis": "y2"
        },
        {
         "alignmentgroup": "True",
         "hovertemplate": "Nationality=American/Canadian<br>Source=Rhizome<br>Department=%{x}<br>Count=%{y}<extra></extra>",
         "legendgroup": "American/Canadian",
         "marker": {
          "color": "#4B0082",
          "pattern": {
           "shape": ""
          }
         },
         "name": "American/Canadian",
         "offsetgroup": "American/Canadian",
         "orientation": "v",
         "showlegend": true,
         "textposition": "auto",
         "type": "bar",
         "x": [
          "Images, Painting, Photos"
         ],
         "xaxis": "x2",
         "y": [
          2
         ],
         "yaxis": "y2"
        },
        {
         "alignmentgroup": "True",
         "hovertemplate": "Nationality=American/South African<br>Source=Rhizome<br>Department=%{x}<br>Count=%{y}<extra></extra>",
         "legendgroup": "American/South African",
         "marker": {
          "color": "#FA8072",
          "pattern": {
           "shape": ""
          }
         },
         "name": "American/South African",
         "offsetgroup": "American/South African",
         "orientation": "v",
         "showlegend": true,
         "textposition": "auto",
         "type": "bar",
         "x": [
          "Installation & Performance"
         ],
         "xaxis": "x2",
         "y": [
          2
         ],
         "yaxis": "y2"
        },
        {
         "alignmentgroup": "True",
         "hovertemplate": "Nationality=Argentine <br>Source=Rhizome<br>Department=%{x}<br>Count=%{y}<extra></extra>",
         "legendgroup": "Argentine ",
         "marker": {
          "color": "#DC143C",
          "pattern": {
           "shape": ""
          }
         },
         "name": "Argentine ",
         "offsetgroup": "Argentine ",
         "orientation": "v",
         "showlegend": true,
         "textposition": "auto",
         "type": "bar",
         "x": [
          "Images, Painting, Photos",
          "Websites & Data"
         ],
         "xaxis": "x2",
         "y": [
          2,
          2
         ],
         "yaxis": "y2"
        },
        {
         "alignmentgroup": "True",
         "hovertemplate": "Nationality=British/Canadian<br>Source=Rhizome<br>Department=%{x}<br>Count=%{y}<extra></extra>",
         "legendgroup": "British/Canadian",
         "marker": {
          "color": "#8B0000",
          "pattern": {
           "shape": ""
          }
         },
         "name": "British/Canadian",
         "offsetgroup": "British/Canadian",
         "orientation": "v",
         "showlegend": true,
         "textposition": "auto",
         "type": "bar",
         "x": [
          "Moving Images"
         ],
         "xaxis": "x2",
         "y": [
          3
         ],
         "yaxis": "y2"
        },
        {
         "alignmentgroup": "True",
         "hovertemplate": "Nationality=Dutch/Brazilian<br>Source=Rhizome<br>Department=%{x}<br>Count=%{y}<extra></extra>",
         "legendgroup": "Dutch/Brazilian",
         "marker": {
          "color": "#FF8C00",
          "pattern": {
           "shape": ""
          }
         },
         "name": "Dutch/Brazilian",
         "offsetgroup": "Dutch/Brazilian",
         "orientation": "v",
         "showlegend": true,
         "textposition": "auto",
         "type": "bar",
         "x": [
          "Audio-based",
          "Websites & Data",
          "missing"
         ],
         "xaxis": "x2",
         "y": [
          2,
          20,
          44
         ],
         "yaxis": "y2"
        },
        {
         "alignmentgroup": "True",
         "hovertemplate": "Nationality=Finnish<br>Source=Rhizome<br>Department=%{x}<br>Count=%{y}<extra></extra>",
         "legendgroup": "Finnish",
         "marker": {
          "color": "#FF4500",
          "pattern": {
           "shape": ""
          }
         },
         "name": "Finnish",
         "offsetgroup": "Finnish",
         "orientation": "v",
         "showlegend": true,
         "textposition": "auto",
         "type": "bar",
         "x": [
          "Moving Images"
         ],
         "xaxis": "x2",
         "y": [
          2
         ],
         "yaxis": "y2"
        },
        {
         "alignmentgroup": "True",
         "hovertemplate": "Nationality=Iranian/Canadian<br>Source=Rhizome<br>Department=%{x}<br>Count=%{y}<extra></extra>",
         "legendgroup": "Iranian/Canadian",
         "marker": {
          "color": "#FFD700",
          "pattern": {
           "shape": ""
          }
         },
         "name": "Iranian/Canadian",
         "offsetgroup": "Iranian/Canadian",
         "orientation": "v",
         "showlegend": true,
         "textposition": "auto",
         "type": "bar",
         "x": [
          "Moving Images"
         ],
         "xaxis": "x2",
         "y": [
          2
         ],
         "yaxis": "y2"
        },
        {
         "alignmentgroup": "True",
         "hovertemplate": "Nationality=Japanese <br>Source=Rhizome<br>Department=%{x}<br>Count=%{y}<extra></extra>",
         "legendgroup": "Japanese ",
         "marker": {
          "color": "#FFFF00",
          "pattern": {
           "shape": ""
          }
         },
         "name": "Japanese ",
         "offsetgroup": "Japanese ",
         "orientation": "v",
         "showlegend": true,
         "textposition": "auto",
         "type": "bar",
         "x": [
          "Moving Images"
         ],
         "xaxis": "x2",
         "y": [
          2
         ],
         "yaxis": "y2"
        },
        {
         "alignmentgroup": "True",
         "hovertemplate": "Nationality=Slovenian<br>Source=Rhizome<br>Department=%{x}<br>Count=%{y}<extra></extra>",
         "legendgroup": "Slovenian",
         "marker": {
          "color": "#F0E68C",
          "pattern": {
           "shape": ""
          }
         },
         "name": "Slovenian",
         "offsetgroup": "Slovenian",
         "orientation": "v",
         "showlegend": true,
         "textposition": "auto",
         "type": "bar",
         "x": [
          "Websites & Data"
         ],
         "xaxis": "x2",
         "y": [
          2
         ],
         "yaxis": "y2"
        },
        {
         "alignmentgroup": "True",
         "hovertemplate": "Nationality=South Korean<br>Source=Rhizome<br>Department=%{x}<br>Count=%{y}<extra></extra>",
         "legendgroup": "South Korean",
         "marker": {
          "color": "#7FFF00",
          "pattern": {
           "shape": ""
          }
         },
         "name": "South Korean",
         "offsetgroup": "South Korean",
         "orientation": "v",
         "showlegend": true,
         "textposition": "auto",
         "type": "bar",
         "x": [
          "Audio-based",
          "Images, Painting, Photos",
          "Moving Images",
          "Websites & Data"
         ],
         "xaxis": "x2",
         "y": [
          2,
          5,
          3,
          2
         ],
         "yaxis": "y2"
        },
        {
         "alignmentgroup": "True",
         "hovertemplate": "Nationality=Taiwanese<br>Source=Rhizome<br>Department=%{x}<br>Count=%{y}<extra></extra>",
         "legendgroup": "Taiwanese",
         "marker": {
          "color": "#32CD32",
          "pattern": {
           "shape": ""
          }
         },
         "name": "Taiwanese",
         "offsetgroup": "Taiwanese",
         "orientation": "v",
         "showlegend": true,
         "textposition": "auto",
         "type": "bar",
         "x": [
          "Installation & Performance"
         ],
         "xaxis": "x2",
         "y": [
          2
         ],
         "yaxis": "y2"
        }
       ],
       "layout": {
        "annotations": [
         {
          "font": {},
          "showarrow": false,
          "text": "Source=Moma compare",
          "x": 0.235,
          "xanchor": "center",
          "xref": "paper",
          "y": 1,
          "yanchor": "bottom",
          "yref": "paper"
         },
         {
          "font": {},
          "showarrow": false,
          "text": "Source=Rhizome",
          "x": 0.765,
          "xanchor": "center",
          "xref": "paper",
          "y": 1,
          "yanchor": "bottom",
          "yref": "paper"
         }
        ],
        "barmode": "relative",
        "height": 600,
        "legend": {
         "title": {
          "text": "Nationality"
         },
         "tracegroupgap": 0
        },
        "template": {
         "data": {
          "bar": [
           {
            "error_x": {
             "color": "rgb(36,36,36)"
            },
            "error_y": {
             "color": "rgb(36,36,36)"
            },
            "marker": {
             "line": {
              "color": "white",
              "width": 0.5
             },
             "pattern": {
              "fillmode": "overlay",
              "size": 10,
              "solidity": 0.2
             }
            },
            "type": "bar"
           }
          ],
          "barpolar": [
           {
            "marker": {
             "line": {
              "color": "white",
              "width": 0.5
             },
             "pattern": {
              "fillmode": "overlay",
              "size": 10,
              "solidity": 0.2
             }
            },
            "type": "barpolar"
           }
          ],
          "carpet": [
           {
            "aaxis": {
             "endlinecolor": "rgb(36,36,36)",
             "gridcolor": "white",
             "linecolor": "white",
             "minorgridcolor": "white",
             "startlinecolor": "rgb(36,36,36)"
            },
            "baxis": {
             "endlinecolor": "rgb(36,36,36)",
             "gridcolor": "white",
             "linecolor": "white",
             "minorgridcolor": "white",
             "startlinecolor": "rgb(36,36,36)"
            },
            "type": "carpet"
           }
          ],
          "choropleth": [
           {
            "colorbar": {
             "outlinewidth": 1,
             "tickcolor": "rgb(36,36,36)",
             "ticks": "outside"
            },
            "type": "choropleth"
           }
          ],
          "contour": [
           {
            "colorbar": {
             "outlinewidth": 1,
             "tickcolor": "rgb(36,36,36)",
             "ticks": "outside"
            },
            "colorscale": [
             [
              0,
              "#440154"
             ],
             [
              0.1111111111111111,
              "#482878"
             ],
             [
              0.2222222222222222,
              "#3e4989"
             ],
             [
              0.3333333333333333,
              "#31688e"
             ],
             [
              0.4444444444444444,
              "#26828e"
             ],
             [
              0.5555555555555556,
              "#1f9e89"
             ],
             [
              0.6666666666666666,
              "#35b779"
             ],
             [
              0.7777777777777778,
              "#6ece58"
             ],
             [
              0.8888888888888888,
              "#b5de2b"
             ],
             [
              1,
              "#fde725"
             ]
            ],
            "type": "contour"
           }
          ],
          "contourcarpet": [
           {
            "colorbar": {
             "outlinewidth": 1,
             "tickcolor": "rgb(36,36,36)",
             "ticks": "outside"
            },
            "type": "contourcarpet"
           }
          ],
          "heatmap": [
           {
            "colorbar": {
             "outlinewidth": 1,
             "tickcolor": "rgb(36,36,36)",
             "ticks": "outside"
            },
            "colorscale": [
             [
              0,
              "#440154"
             ],
             [
              0.1111111111111111,
              "#482878"
             ],
             [
              0.2222222222222222,
              "#3e4989"
             ],
             [
              0.3333333333333333,
              "#31688e"
             ],
             [
              0.4444444444444444,
              "#26828e"
             ],
             [
              0.5555555555555556,
              "#1f9e89"
             ],
             [
              0.6666666666666666,
              "#35b779"
             ],
             [
              0.7777777777777778,
              "#6ece58"
             ],
             [
              0.8888888888888888,
              "#b5de2b"
             ],
             [
              1,
              "#fde725"
             ]
            ],
            "type": "heatmap"
           }
          ],
          "heatmapgl": [
           {
            "colorbar": {
             "outlinewidth": 1,
             "tickcolor": "rgb(36,36,36)",
             "ticks": "outside"
            },
            "colorscale": [
             [
              0,
              "#440154"
             ],
             [
              0.1111111111111111,
              "#482878"
             ],
             [
              0.2222222222222222,
              "#3e4989"
             ],
             [
              0.3333333333333333,
              "#31688e"
             ],
             [
              0.4444444444444444,
              "#26828e"
             ],
             [
              0.5555555555555556,
              "#1f9e89"
             ],
             [
              0.6666666666666666,
              "#35b779"
             ],
             [
              0.7777777777777778,
              "#6ece58"
             ],
             [
              0.8888888888888888,
              "#b5de2b"
             ],
             [
              1,
              "#fde725"
             ]
            ],
            "type": "heatmapgl"
           }
          ],
          "histogram": [
           {
            "marker": {
             "line": {
              "color": "white",
              "width": 0.6
             }
            },
            "type": "histogram"
           }
          ],
          "histogram2d": [
           {
            "colorbar": {
             "outlinewidth": 1,
             "tickcolor": "rgb(36,36,36)",
             "ticks": "outside"
            },
            "colorscale": [
             [
              0,
              "#440154"
             ],
             [
              0.1111111111111111,
              "#482878"
             ],
             [
              0.2222222222222222,
              "#3e4989"
             ],
             [
              0.3333333333333333,
              "#31688e"
             ],
             [
              0.4444444444444444,
              "#26828e"
             ],
             [
              0.5555555555555556,
              "#1f9e89"
             ],
             [
              0.6666666666666666,
              "#35b779"
             ],
             [
              0.7777777777777778,
              "#6ece58"
             ],
             [
              0.8888888888888888,
              "#b5de2b"
             ],
             [
              1,
              "#fde725"
             ]
            ],
            "type": "histogram2d"
           }
          ],
          "histogram2dcontour": [
           {
            "colorbar": {
             "outlinewidth": 1,
             "tickcolor": "rgb(36,36,36)",
             "ticks": "outside"
            },
            "colorscale": [
             [
              0,
              "#440154"
             ],
             [
              0.1111111111111111,
              "#482878"
             ],
             [
              0.2222222222222222,
              "#3e4989"
             ],
             [
              0.3333333333333333,
              "#31688e"
             ],
             [
              0.4444444444444444,
              "#26828e"
             ],
             [
              0.5555555555555556,
              "#1f9e89"
             ],
             [
              0.6666666666666666,
              "#35b779"
             ],
             [
              0.7777777777777778,
              "#6ece58"
             ],
             [
              0.8888888888888888,
              "#b5de2b"
             ],
             [
              1,
              "#fde725"
             ]
            ],
            "type": "histogram2dcontour"
           }
          ],
          "mesh3d": [
           {
            "colorbar": {
             "outlinewidth": 1,
             "tickcolor": "rgb(36,36,36)",
             "ticks": "outside"
            },
            "type": "mesh3d"
           }
          ],
          "parcoords": [
           {
            "line": {
             "colorbar": {
              "outlinewidth": 1,
              "tickcolor": "rgb(36,36,36)",
              "ticks": "outside"
             }
            },
            "type": "parcoords"
           }
          ],
          "pie": [
           {
            "automargin": true,
            "type": "pie"
           }
          ],
          "scatter": [
           {
            "fillpattern": {
             "fillmode": "overlay",
             "size": 10,
             "solidity": 0.2
            },
            "type": "scatter"
           }
          ],
          "scatter3d": [
           {
            "line": {
             "colorbar": {
              "outlinewidth": 1,
              "tickcolor": "rgb(36,36,36)",
              "ticks": "outside"
             }
            },
            "marker": {
             "colorbar": {
              "outlinewidth": 1,
              "tickcolor": "rgb(36,36,36)",
              "ticks": "outside"
             }
            },
            "type": "scatter3d"
           }
          ],
          "scattercarpet": [
           {
            "marker": {
             "colorbar": {
              "outlinewidth": 1,
              "tickcolor": "rgb(36,36,36)",
              "ticks": "outside"
             }
            },
            "type": "scattercarpet"
           }
          ],
          "scattergeo": [
           {
            "marker": {
             "colorbar": {
              "outlinewidth": 1,
              "tickcolor": "rgb(36,36,36)",
              "ticks": "outside"
             }
            },
            "type": "scattergeo"
           }
          ],
          "scattergl": [
           {
            "marker": {
             "colorbar": {
              "outlinewidth": 1,
              "tickcolor": "rgb(36,36,36)",
              "ticks": "outside"
             }
            },
            "type": "scattergl"
           }
          ],
          "scattermapbox": [
           {
            "marker": {
             "colorbar": {
              "outlinewidth": 1,
              "tickcolor": "rgb(36,36,36)",
              "ticks": "outside"
             }
            },
            "type": "scattermapbox"
           }
          ],
          "scatterpolar": [
           {
            "marker": {
             "colorbar": {
              "outlinewidth": 1,
              "tickcolor": "rgb(36,36,36)",
              "ticks": "outside"
             }
            },
            "type": "scatterpolar"
           }
          ],
          "scatterpolargl": [
           {
            "marker": {
             "colorbar": {
              "outlinewidth": 1,
              "tickcolor": "rgb(36,36,36)",
              "ticks": "outside"
             }
            },
            "type": "scatterpolargl"
           }
          ],
          "scatterternary": [
           {
            "marker": {
             "colorbar": {
              "outlinewidth": 1,
              "tickcolor": "rgb(36,36,36)",
              "ticks": "outside"
             }
            },
            "type": "scatterternary"
           }
          ],
          "surface": [
           {
            "colorbar": {
             "outlinewidth": 1,
             "tickcolor": "rgb(36,36,36)",
             "ticks": "outside"
            },
            "colorscale": [
             [
              0,
              "#440154"
             ],
             [
              0.1111111111111111,
              "#482878"
             ],
             [
              0.2222222222222222,
              "#3e4989"
             ],
             [
              0.3333333333333333,
              "#31688e"
             ],
             [
              0.4444444444444444,
              "#26828e"
             ],
             [
              0.5555555555555556,
              "#1f9e89"
             ],
             [
              0.6666666666666666,
              "#35b779"
             ],
             [
              0.7777777777777778,
              "#6ece58"
             ],
             [
              0.8888888888888888,
              "#b5de2b"
             ],
             [
              1,
              "#fde725"
             ]
            ],
            "type": "surface"
           }
          ],
          "table": [
           {
            "cells": {
             "fill": {
              "color": "rgb(237,237,237)"
             },
             "line": {
              "color": "white"
             }
            },
            "header": {
             "fill": {
              "color": "rgb(217,217,217)"
             },
             "line": {
              "color": "white"
             }
            },
            "type": "table"
           }
          ]
         },
         "layout": {
          "annotationdefaults": {
           "arrowhead": 0,
           "arrowwidth": 1
          },
          "autotypenumbers": "strict",
          "coloraxis": {
           "colorbar": {
            "outlinewidth": 1,
            "tickcolor": "rgb(36,36,36)",
            "ticks": "outside"
           }
          },
          "colorscale": {
           "diverging": [
            [
             0,
             "rgb(103,0,31)"
            ],
            [
             0.1,
             "rgb(178,24,43)"
            ],
            [
             0.2,
             "rgb(214,96,77)"
            ],
            [
             0.3,
             "rgb(244,165,130)"
            ],
            [
             0.4,
             "rgb(253,219,199)"
            ],
            [
             0.5,
             "rgb(247,247,247)"
            ],
            [
             0.6,
             "rgb(209,229,240)"
            ],
            [
             0.7,
             "rgb(146,197,222)"
            ],
            [
             0.8,
             "rgb(67,147,195)"
            ],
            [
             0.9,
             "rgb(33,102,172)"
            ],
            [
             1,
             "rgb(5,48,97)"
            ]
           ],
           "sequential": [
            [
             0,
             "#440154"
            ],
            [
             0.1111111111111111,
             "#482878"
            ],
            [
             0.2222222222222222,
             "#3e4989"
            ],
            [
             0.3333333333333333,
             "#31688e"
            ],
            [
             0.4444444444444444,
             "#26828e"
            ],
            [
             0.5555555555555556,
             "#1f9e89"
            ],
            [
             0.6666666666666666,
             "#35b779"
            ],
            [
             0.7777777777777778,
             "#6ece58"
            ],
            [
             0.8888888888888888,
             "#b5de2b"
            ],
            [
             1,
             "#fde725"
            ]
           ],
           "sequentialminus": [
            [
             0,
             "#440154"
            ],
            [
             0.1111111111111111,
             "#482878"
            ],
            [
             0.2222222222222222,
             "#3e4989"
            ],
            [
             0.3333333333333333,
             "#31688e"
            ],
            [
             0.4444444444444444,
             "#26828e"
            ],
            [
             0.5555555555555556,
             "#1f9e89"
            ],
            [
             0.6666666666666666,
             "#35b779"
            ],
            [
             0.7777777777777778,
             "#6ece58"
            ],
            [
             0.8888888888888888,
             "#b5de2b"
            ],
            [
             1,
             "#fde725"
            ]
           ]
          },
          "colorway": [
           "#1F77B4",
           "#FF7F0E",
           "#2CA02C",
           "#D62728",
           "#9467BD",
           "#8C564B",
           "#E377C2",
           "#7F7F7F",
           "#BCBD22",
           "#17BECF"
          ],
          "font": {
           "color": "rgb(36,36,36)"
          },
          "geo": {
           "bgcolor": "white",
           "lakecolor": "white",
           "landcolor": "white",
           "showlakes": true,
           "showland": true,
           "subunitcolor": "white"
          },
          "hoverlabel": {
           "align": "left"
          },
          "hovermode": "closest",
          "mapbox": {
           "style": "light"
          },
          "paper_bgcolor": "white",
          "plot_bgcolor": "white",
          "polar": {
           "angularaxis": {
            "gridcolor": "rgb(232,232,232)",
            "linecolor": "rgb(36,36,36)",
            "showgrid": false,
            "showline": true,
            "ticks": "outside"
           },
           "bgcolor": "white",
           "radialaxis": {
            "gridcolor": "rgb(232,232,232)",
            "linecolor": "rgb(36,36,36)",
            "showgrid": false,
            "showline": true,
            "ticks": "outside"
           }
          },
          "scene": {
           "xaxis": {
            "backgroundcolor": "white",
            "gridcolor": "rgb(232,232,232)",
            "gridwidth": 2,
            "linecolor": "rgb(36,36,36)",
            "showbackground": true,
            "showgrid": false,
            "showline": true,
            "ticks": "outside",
            "zeroline": false,
            "zerolinecolor": "rgb(36,36,36)"
           },
           "yaxis": {
            "backgroundcolor": "white",
            "gridcolor": "rgb(232,232,232)",
            "gridwidth": 2,
            "linecolor": "rgb(36,36,36)",
            "showbackground": true,
            "showgrid": false,
            "showline": true,
            "ticks": "outside",
            "zeroline": false,
            "zerolinecolor": "rgb(36,36,36)"
           },
           "zaxis": {
            "backgroundcolor": "white",
            "gridcolor": "rgb(232,232,232)",
            "gridwidth": 2,
            "linecolor": "rgb(36,36,36)",
            "showbackground": true,
            "showgrid": false,
            "showline": true,
            "ticks": "outside",
            "zeroline": false,
            "zerolinecolor": "rgb(36,36,36)"
           }
          },
          "shapedefaults": {
           "fillcolor": "black",
           "line": {
            "width": 0
           },
           "opacity": 0.3
          },
          "ternary": {
           "aaxis": {
            "gridcolor": "rgb(232,232,232)",
            "linecolor": "rgb(36,36,36)",
            "showgrid": false,
            "showline": true,
            "ticks": "outside"
           },
           "baxis": {
            "gridcolor": "rgb(232,232,232)",
            "linecolor": "rgb(36,36,36)",
            "showgrid": false,
            "showline": true,
            "ticks": "outside"
           },
           "bgcolor": "white",
           "caxis": {
            "gridcolor": "rgb(232,232,232)",
            "linecolor": "rgb(36,36,36)",
            "showgrid": false,
            "showline": true,
            "ticks": "outside"
           }
          },
          "title": {
           "x": 0.05
          },
          "xaxis": {
           "automargin": true,
           "gridcolor": "rgb(232,232,232)",
           "linecolor": "rgb(36,36,36)",
           "showgrid": false,
           "showline": true,
           "ticks": "outside",
           "title": {
            "standoff": 15
           },
           "zeroline": false,
           "zerolinecolor": "rgb(36,36,36)"
          },
          "yaxis": {
           "automargin": true,
           "gridcolor": "rgb(232,232,232)",
           "linecolor": "rgb(36,36,36)",
           "showgrid": false,
           "showline": true,
           "ticks": "outside",
           "title": {
            "standoff": 15
           },
           "zeroline": false,
           "zerolinecolor": "rgb(36,36,36)"
          }
         }
        },
        "title": {
         "text": "Overview total nationalities for department -- comparing rhizome collection and a moma artworks created and acquirred in the same timerange"
        },
        "xaxis": {
         "anchor": "y",
         "domain": [
          0,
          0.47
         ],
         "showticklabels": true,
         "title": {
          "text": "Department"
         }
        },
        "xaxis2": {
         "anchor": "y2",
         "domain": [
          0.53,
          1
         ],
         "showticklabels": true,
         "title": {
          "text": "Department"
         }
        },
        "yaxis": {
         "anchor": "x",
         "domain": [
          0,
          1
         ],
         "showticklabels": true,
         "title": {
          "text": "Count"
         },
         "type": "log"
        },
        "yaxis2": {
         "anchor": "x2",
         "domain": [
          0,
          1
         ],
         "matches": "y",
         "showticklabels": true,
         "type": "log"
        }
       }
      }
     },
     "metadata": {},
     "output_type": "display_data"
    }
   ],
   "source": [
    "fig11 = px.bar(df_Moma_by_periods_compare, x=\"Department\", y=\"Count\", color=\"Nationality\", color_discrete_sequence= momacolorscale,facet_col=\"Period\", log_y=True, facet_col_spacing=0.06,  facet_col_wrap=2, title=\"Overview total nationalities for department -- comparing MoMA's collection berfore and after 1983\")\n",
    "fig11.update_xaxes(matches=None, showticklabels=True)\n",
    "fig11.update_yaxes(showticklabels=True)\n",
    "fig11.update_layout(height=600)\n",
    "fig11.show()\n",
    "\n",
    "fig12 = px.bar(Compare_nats_department, x=\"Department\", y=\"Count\", color=\"Nationality\", color_discrete_sequence=rhzcolorscale ,facet_col=\"Source\", log_y=True, facet_col_spacing=0.06,  facet_col_wrap=2, title=\"Overview total nationalities for department -- comparing rhizome collection and a moma artworks created and acquirred in the same timerange\")\n",
    "fig12.update_xaxes(matches=None, showticklabels=True)\n",
    "fig12.update_yaxes(showticklabels=True)\n",
    "fig12.update_layout(height=600)\n",
    "fig12.show()\n"
   ]
  },
  {
   "cell_type": "code",
   "execution_count": 238,
   "metadata": {},
   "outputs": [
    {
     "data": {
      "text/plain": [
       "{'Afghan/American',\n",
       " 'Albanian',\n",
       " 'Algerian',\n",
       " 'American',\n",
       " 'American/Canadian',\n",
       " 'American/South African',\n",
       " 'Argentine',\n",
       " 'Argentine ',\n",
       " 'Australian',\n",
       " 'Austrian',\n",
       " 'Bahamian',\n",
       " 'Bangladeshi',\n",
       " 'Belgian',\n",
       " 'Beninese',\n",
       " 'Bosnian',\n",
       " 'Brazilian',\n",
       " 'British',\n",
       " 'British/Canadian',\n",
       " 'Bulgarian',\n",
       " 'Cameroonian',\n",
       " 'Canadian',\n",
       " 'Chilean',\n",
       " 'Chinese',\n",
       " 'Colombian',\n",
       " 'Congolese',\n",
       " 'Croatian',\n",
       " 'Cuban',\n",
       " 'Danish',\n",
       " 'Dutch',\n",
       " 'Dutch/Brazilian',\n",
       " 'Egyptian',\n",
       " 'Emirati',\n",
       " 'Ethiopian',\n",
       " 'Filipino',\n",
       " 'Finnish',\n",
       " 'French',\n",
       " 'German',\n",
       " 'Greek',\n",
       " 'Guatemalan',\n",
       " 'Hungarian',\n",
       " 'Indian',\n",
       " 'Iranian',\n",
       " 'Iranian/Canadian',\n",
       " 'Irish',\n",
       " 'Israeli',\n",
       " 'Italian',\n",
       " 'Ivorian',\n",
       " 'Japanese',\n",
       " 'Japanese ',\n",
       " 'Kenyan',\n",
       " 'Korean',\n",
       " 'Lebanese',\n",
       " 'Luxembourgish',\n",
       " 'Malaysian',\n",
       " 'Mexican',\n",
       " 'Moroccan',\n",
       " 'Nationality unknown',\n",
       " 'Native American',\n",
       " 'New Zealander',\n",
       " 'Norwegian',\n",
       " 'Others',\n",
       " 'Polish',\n",
       " 'Portuguese',\n",
       " 'Romanian',\n",
       " 'Russian',\n",
       " 'Salvadoran',\n",
       " 'Scottish',\n",
       " 'Slovenian',\n",
       " 'South African',\n",
       " 'South Korean',\n",
       " 'Spanish',\n",
       " 'Sudanese',\n",
       " 'Swedish',\n",
       " 'Swiss',\n",
       " 'Taiwanese',\n",
       " 'Tunisian',\n",
       " 'Turkish',\n",
       " 'Ukrainian',\n",
       " 'Uruguayan',\n",
       " 'Venezuelan',\n",
       " 'Zimbabwean',\n",
       " 'missing'}"
      ]
     },
     "execution_count": 238,
     "metadata": {},
     "output_type": "execute_result"
    }
   ],
   "source": [
    "#morth south world nats between moma compare e rhizome\n",
    "north_nat = ['Albanian', 'American/Canadian',]\n",
    "south_nat = ['Algerian',]\n",
    "mixed_nat = ['Afghan/American',]\n",
    "{\n",
    " \n",
    " \n",
    " \n",
    " \n",
    " \n",
    " 'Argentine',\n",
    " 'Argentine ',\n",
    " 'Australian',\n",
    " 'Austrian',\n",
    " 'Bahamian',\n",
    " 'Bangladeshi',\n",
    " 'Belgian',\n",
    " 'Beninese',\n",
    " 'Bosnian',\n",
    " 'Brazilian',\n",
    " 'British',\n",
    " 'British/Canadian',\n",
    " 'Bulgarian',\n",
    " 'Cameroonian',\n",
    " 'Canadian',\n",
    " 'Chilean',\n",
    " 'Chinese',\n",
    " 'Colombian',\n",
    " 'Congolese',\n",
    " 'Croatian',\n",
    " 'Cuban',\n",
    " 'Danish',\n",
    " 'Dutch',\n",
    " 'Dutch/Brazilian',\n",
    " 'Egyptian',\n",
    " 'Emirati',\n",
    " 'Ethiopian',\n",
    " 'Filipino',\n",
    " 'Finnish',\n",
    " 'French',\n",
    " 'German',\n",
    " 'Greek',\n",
    " 'Guatemalan',\n",
    " 'Hungarian',\n",
    " 'Indian',\n",
    " 'Iranian',\n",
    " 'Iranian/Canadian',\n",
    " 'Irish',\n",
    " 'Israeli',\n",
    " 'Italian',\n",
    " 'Ivorian',\n",
    " 'Japanese',\n",
    " 'Japanese ',\n",
    " 'Kenyan',\n",
    " 'Korean',\n",
    " 'Lebanese',\n",
    " 'Luxembourgish',\n",
    " 'Malaysian',\n",
    " 'Mexican',\n",
    " 'Moroccan',\n",
    " 'Nationality unknown',\n",
    " 'Native American',\n",
    " 'New Zealander',\n",
    " 'Norwegian',\n",
    " 'Others',\n",
    " 'Polish',\n",
    " 'Portuguese',\n",
    " 'Romanian',\n",
    " 'Russian',\n",
    " 'Salvadoran',\n",
    " 'Scottish',\n",
    " 'Slovenian',\n",
    " 'South African',\n",
    " 'South Korean',\n",
    " 'Spanish',\n",
    " 'Sudanese',\n",
    " 'Swedish',\n",
    " 'Swiss',\n",
    " 'Taiwanese',\n",
    " 'Tunisian',\n",
    " 'Turkish',\n",
    " 'Ukrainian',\n",
    " 'Uruguayan',\n",
    " 'Venezuelan',\n",
    " 'Zimbabwean',\n",
    " 'missing'}\n",
    "set(Compare_nats_department.Nationality)\n"
   ]
  },
  {
   "cell_type": "code",
   "execution_count": null,
   "metadata": {},
   "outputs": [],
   "source": [
    "#create df with common nationalities for comparison \n",
    "nats_M = set(MComparison_working_final.Nationality)\n",
    "nats_RH = set(df_rhz_nats.Nationality)\n",
    "common_nats = nats_M & nats_RH\n",
    "\n",
    "Moma_common_nats_df = pd.DataFrame()\n",
    "Rh_common_nats_df = pd.DataFrame()\n",
    "for item in common_nats:\n",
    "    #moma\n",
    "    moma = MComparison_working_final[MComparison_working_final.Nationality == item].drop('Females', axis = 1)\n",
    "    Moma_common_nats_df = pd.concat([Moma_common_nats_df, moma])\n",
    "    #rhizme\n",
    "    rh = df_rhz_nats[df_rhz_nats.Nationality == item].drop('Females', axis = 1)\n",
    "    Rh_common_nats_df = pd.concat([Rh_common_nats_df, rh])\n",
    "    \n",
    "\n",
    "\n",
    "Moma_common_nats_df = Moma_common_nats_df.rename(columns={'Count':'Moma'})\n",
    "Rh_common_nats_df = Rh_common_nats_df.rename(columns={'Count':'Rhizome'})\n",
    "\n",
    "workingDF = pd.concat([Moma_common_nats_df, Rh_common_nats_df], axis=0, ignore_index=True)\n",
    "workingDF['Moma'] = workingDF['Moma'].fillna('0').astype('int')\n",
    "workingDF['Rhizome'] = workingDF['Rhizome'].fillna('0').astype('int')\n",
    "workingDF['DateAcquired'] = workingDF['DateAcquired'].astype('int')\n",
    "workingDF = workingDF[workingDF.DateAcquired > 0]\n",
    "workingDF_final = workingDF.groupby(['Nationality','DateAcquired'],as_index=False).agg({'Moma': 'sum','Rhizome': 'sum'})\n",
    "workingDF_final = workingDF_final.sort_values(by='DateAcquired')"
   ]
  }
 ],
 "metadata": {
  "interpreter": {
   "hash": "aee8b7b246df8f9039afb4144a1f6fd8d2ca17a180786b69acc140d282b71a49"
  },
  "kernelspec": {
   "display_name": "Python 3.9.4 64-bit",
   "language": "python",
   "name": "python3"
  },
  "language_info": {
   "codemirror_mode": {
    "name": "ipython",
    "version": 3
   },
   "file_extension": ".py",
   "mimetype": "text/x-python",
   "name": "python",
   "nbconvert_exporter": "python",
   "pygments_lexer": "ipython3",
   "version": "3.9.4"
  },
  "orig_nbformat": 4
 },
 "nbformat": 4,
 "nbformat_minor": 2
}
