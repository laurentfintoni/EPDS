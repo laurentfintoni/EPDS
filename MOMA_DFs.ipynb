{
 "cells": [
  {
   "cell_type": "markdown",
   "metadata": {},
   "source": [
    "**MOMA Dataframes**\n",
    "\n",
    "This notebook includes the code used to create dataframes from the available MOMA data. \n",
    "\n",
    "Due to the size and time differences between the datasets we decided to split MOMA's artworks between contemporary (before 1980) and modern (after 1980). This year was chosen as the earliest artwork in Rhizome's database is from 1982. \n",
    "\n",
    "We then also decided to split the artworks by departments to allow us to visualize differences between them as well as have smaller subsets of MOMA's overall artworks data to compare with Rhizome. \n",
    "\n",
    "For the artworks we opted to only keep the columns that would be most relevant for our work: 'Title', 'Artist', 'ConstituentID', 'Date', 'Medium', 'Classification', 'Department', 'DateAcquired', 'URL', ThumbnailURL'.\n",
    "\n",
    "The resulting dataframes are:\n",
    "- 1 x Artist DF (all artists)\n",
    "- 1 x Artworks DF with selected columns (all artworks)\n",
    "- 2 x Artworks DF per department, per time period (contemporary, modern) for a total of 16 DFs"
   ]
  },
  {
   "cell_type": "code",
   "execution_count": 14,
   "metadata": {},
   "outputs": [],
   "source": [
    "#LIBRARIES\n",
    "import re\n",
    "import pandas as pd"
   ]
  },
  {
   "cell_type": "code",
   "execution_count": 15,
   "metadata": {},
   "outputs": [],
   "source": [
    "#PATHS\n",
    "path = 'MoMA_data/'"
   ]
  },
  {
   "cell_type": "markdown",
   "metadata": {},
   "source": [
    "### Pickle originals"
   ]
  },
  {
   "cell_type": "markdown",
   "metadata": {},
   "source": [
    "Before pickling and further manipulating the data inside each set, we need to perform some preliminary cleaning of the columns. "
   ]
  },
  {
   "cell_type": "code",
   "execution_count": 16,
   "metadata": {},
   "outputs": [],
   "source": [
    "#ARTISTS\n",
    "original_artists = pd.read_csv(path+'Artists.csv')\n",
    "artists= original_artists[['ConstituentID','DisplayName','Nationality','Gender','BeginDate','EndDate','Wiki QID','ULAN']]"
   ]
  },
  {
   "cell_type": "code",
   "execution_count": null,
   "metadata": {},
   "outputs": [],
   "source": [
    "artists.rename(columns={'ConstituentID': 'ID', 'DisplayName': 'Artist','BeginDate': 'Birth', 'EndDate': 'Death'}, inplace=True)\n",
    "\n",
    "artists['Gender'] = artists['Gender'].fillna('missing').astype('str')\n",
    "artists['Wiki QID'] = artists['Wiki QID'].fillna('missing').astype('str')\n",
    "artists['ULAN'] = artists['ULAN'].fillna('0').astype('int')\n",
    "artists['ID'] = artists['ID'].fillna('0').astype('str')\n",
    "artists['Artist'] = artists['Artist'].fillna('Unknown').astype('str')\n",
    "artists['Nationality'] = artists['Nationality'].fillna('missing').astype('str')\n",
    "artists['Gender'] = artists['Gender'].fillna('missing').astype('str')\n",
    "artists['Birth'] = artists['Birth'].fillna('0').astype('int')\n",
    "artists['Death'] = artists['Death'].fillna('0').astype('int')\n",
    "\n",
    "\n",
    "\n",
    "#artists.to_pickle(f'./MoMA_data/artists.pkl')"
   ]
  },
  {
   "cell_type": "markdown",
   "metadata": {},
   "source": [
    "Normalize Gender labels to 'M', 'F' and 'NB' to make them easier to compare with Rizome's data "
   ]
  },
  {
   "cell_type": "code",
   "execution_count": 18,
   "metadata": {},
   "outputs": [],
   "source": [
    "for x, row in artists.iterrows():\n",
    "    if re.match(r'[M|m]ale', row.Gender):\n",
    "        artists.at[x, 'Gender'] = 'M'\n",
    "                \n",
    "    elif re.match(r'[F|f]emale',row.Gender):\n",
    "        artists.at[x, 'Gender'] = 'F'\n",
    "\n",
    "    elif re.match(r'Non-[B|b]inary', row.Gender):\n",
    "        artists.at[x, 'Gender'] = 'NB'"
   ]
  },
  {
   "cell_type": "code",
   "execution_count": 19,
   "metadata": {},
   "outputs": [],
   "source": [
    "artists.to_pickle(f'./MoMA_data/pickle/MoMAartists.pkl')"
   ]
  },
  {
   "cell_type": "code",
   "execution_count": 20,
   "metadata": {},
   "outputs": [],
   "source": [
    "#ARTWORKS\n",
    "original_artworks = pd.read_csv(path+'Artworks.csv')\n",
    "original_artworks =  original_artworks[['Title','Artist','ConstituentID','Date','Medium','Department','DateAcquired','URL','ThumbnailURL']]\n"
   ]
  },
  {
   "cell_type": "markdown",
   "metadata": {},
   "source": [
    "### Divide artworks into two datasets"
   ]
  },
  {
   "cell_type": "markdown",
   "metadata": {},
   "source": [
    "The original artworks set is split into two datasets, throughout this little algoritm."
   ]
  },
  {
   "cell_type": "code",
   "execution_count": 21,
   "metadata": {},
   "outputs": [],
   "source": [
    "#START FUNCTION \n",
    "for index, row in original_artworks.iterrows():\n",
    "    #condition to extract only the first number having four digits, i.e. the year\n",
    "    if  re.match('.*\\d\\d\\d\\d.*', str(row[3])):\n",
    "        year = re.findall(r'\\d\\d\\d\\d', row[3])\n",
    "        #modify the date in order to normalize it using the first year in the list \n",
    "        row.Date = str(year[0])\n",
    "        row.DateAcquired = str(row.DateAcquired).split('-')[0]\n",
    "    else: \n",
    "        \n",
    "        row.Date = 0\n",
    "\n",
    "original_artworks['Title'] = original_artworks['Title'].fillna('Unknown').astype('str')\n",
    "original_artworks['Artist'] = original_artworks['Artist'].fillna('Unknown').astype('str')\n",
    "original_artworks['ConstituentID'] = original_artworks['ConstituentID'].fillna('missing').astype('str')\n",
    "original_artworks['Medium'] = original_artworks['Medium'].fillna('missing').astype('str')\n",
    "original_artworks['Date'] = original_artworks['Date'].fillna('0').astype('int')\n",
    "original_artworks['URL'] = original_artworks['URL'].fillna('missing').astype('str')\n",
    "original_artworks['ThumbnailURL'] = original_artworks['ThumbnailURL'].fillna('missing').astype('str')\n",
    "#CREATE THE NEW SUBSETS\n",
    "before80 = original_artworks[original_artworks.Date < 1980]\n",
    "after80 = original_artworks[original_artworks.Date >= 1980]\n",
    "\n",
    "   \n",
    "\n",
    "    "
   ]
  },
  {
   "cell_type": "markdown",
   "metadata": {},
   "source": [
    "After the creation of before and after 1980 subsets we looked for missing values and normalized them with the strings 'Unknown' or 'missing' depending on the kind of data. Additionally we used the .astype command, to meke sure pandas parses/recognizes them using their correct data type.\n",
    "Finally, we pickle the subsets, saving them in the /pickle/ directory "
   ]
  },
  {
   "cell_type": "code",
   "execution_count": 22,
   "metadata": {},
   "outputs": [
    {
     "data": {
      "text/html": [
       "<div>\n",
       "<style scoped>\n",
       "    .dataframe tbody tr th:only-of-type {\n",
       "        vertical-align: middle;\n",
       "    }\n",
       "\n",
       "    .dataframe tbody tr th {\n",
       "        vertical-align: top;\n",
       "    }\n",
       "\n",
       "    .dataframe thead th {\n",
       "        text-align: right;\n",
       "    }\n",
       "</style>\n",
       "<table border=\"1\" class=\"dataframe\">\n",
       "  <thead>\n",
       "    <tr style=\"text-align: right;\">\n",
       "      <th></th>\n",
       "      <th>Title</th>\n",
       "      <th>Artist</th>\n",
       "      <th>ConstituentID</th>\n",
       "      <th>Date</th>\n",
       "      <th>Medium</th>\n",
       "      <th>Department</th>\n",
       "      <th>DateAcquired</th>\n",
       "      <th>URL</th>\n",
       "      <th>ThumbnailURL</th>\n",
       "    </tr>\n",
       "  </thead>\n",
       "  <tbody>\n",
       "    <tr>\n",
       "      <th>1</th>\n",
       "      <td>City of Music, National Superior Conservatory ...</td>\n",
       "      <td>Christian de Portzamparc</td>\n",
       "      <td>7470</td>\n",
       "      <td>1987</td>\n",
       "      <td>Paint and colored pencil on print</td>\n",
       "      <td>Architecture &amp; Design</td>\n",
       "      <td>1995</td>\n",
       "      <td>http://www.moma.org/collection/works/3</td>\n",
       "      <td>http://www.moma.org/media/W1siZiIsIjk3Il0sWyJw...</td>\n",
       "    </tr>\n",
       "    <tr>\n",
       "      <th>3</th>\n",
       "      <td>The Manhattan Transcripts Project, New York, N...</td>\n",
       "      <td>Bernard Tschumi</td>\n",
       "      <td>7056</td>\n",
       "      <td>1980</td>\n",
       "      <td>Photographic reproduction with colored synthet...</td>\n",
       "      <td>Architecture &amp; Design</td>\n",
       "      <td>1995</td>\n",
       "      <td>http://www.moma.org/collection/works/5</td>\n",
       "      <td>http://www.moma.org/media/W1siZiIsIjEyNCJdLFsi...</td>\n",
       "    </tr>\n",
       "    <tr>\n",
       "      <th>31</th>\n",
       "      <td>The Manhattan Transcripts Project, New York, N...</td>\n",
       "      <td>Bernard Tschumi</td>\n",
       "      <td>7056</td>\n",
       "      <td>1980</td>\n",
       "      <td>Photographic reproduction with colored synthet...</td>\n",
       "      <td>Architecture &amp; Design</td>\n",
       "      <td>1995</td>\n",
       "      <td>http://www.moma.org/collection/works/33</td>\n",
       "      <td>http://www.moma.org/media/W1siZiIsIjIwMCJdLFsi...</td>\n",
       "    </tr>\n",
       "    <tr>\n",
       "      <th>35</th>\n",
       "      <td>The Manhattan Transcripts Project, New York, N...</td>\n",
       "      <td>Bernard Tschumi</td>\n",
       "      <td>7056</td>\n",
       "      <td>1980</td>\n",
       "      <td>Photographic reproduction with colored synthet...</td>\n",
       "      <td>Architecture &amp; Design</td>\n",
       "      <td>1995</td>\n",
       "      <td>http://www.moma.org/collection/works/38</td>\n",
       "      <td>http://www.moma.org/media/W1siZiIsIjI2NyJdLFsi...</td>\n",
       "    </tr>\n",
       "    <tr>\n",
       "      <th>40</th>\n",
       "      <td>The Manhattan Transcripts Project, New York, N...</td>\n",
       "      <td>Bernard Tschumi</td>\n",
       "      <td>7056</td>\n",
       "      <td>1980</td>\n",
       "      <td>Ink on tracing paper</td>\n",
       "      <td>Architecture &amp; Design</td>\n",
       "      <td>1995</td>\n",
       "      <td>http://www.moma.org/collection/works/44</td>\n",
       "      <td>http://www.moma.org/media/W1siZiIsIjI5NiJdLFsi...</td>\n",
       "    </tr>\n",
       "    <tr>\n",
       "      <th>...</th>\n",
       "      <td>...</td>\n",
       "      <td>...</td>\n",
       "      <td>...</td>\n",
       "      <td>...</td>\n",
       "      <td>...</td>\n",
       "      <td>...</td>\n",
       "      <td>...</td>\n",
       "      <td>...</td>\n",
       "      <td>...</td>\n",
       "    </tr>\n",
       "    <tr>\n",
       "      <th>138114</th>\n",
       "      <td>Cóctel (Cocktail)</td>\n",
       "      <td>Alejandro Kuropatwa</td>\n",
       "      <td>132939</td>\n",
       "      <td>1996</td>\n",
       "      <td>Chromogenic color print</td>\n",
       "      <td>Photography</td>\n",
       "      <td>2020</td>\n",
       "      <td>missing</td>\n",
       "      <td>missing</td>\n",
       "    </tr>\n",
       "    <tr>\n",
       "      <th>138115</th>\n",
       "      <td>Cóctel (Cocktail)</td>\n",
       "      <td>Alejandro Kuropatwa</td>\n",
       "      <td>132939</td>\n",
       "      <td>1996</td>\n",
       "      <td>Chromogenic color print</td>\n",
       "      <td>Photography</td>\n",
       "      <td>2020</td>\n",
       "      <td>missing</td>\n",
       "      <td>missing</td>\n",
       "    </tr>\n",
       "    <tr>\n",
       "      <th>138116</th>\n",
       "      <td>Cóctel (Cocktail)</td>\n",
       "      <td>Alejandro Kuropatwa</td>\n",
       "      <td>132939</td>\n",
       "      <td>1996</td>\n",
       "      <td>Chromogenic color print</td>\n",
       "      <td>Photography</td>\n",
       "      <td>2020</td>\n",
       "      <td>missing</td>\n",
       "      <td>missing</td>\n",
       "    </tr>\n",
       "    <tr>\n",
       "      <th>138117</th>\n",
       "      <td>Cóctel (Cocktail)</td>\n",
       "      <td>Alejandro Kuropatwa</td>\n",
       "      <td>132939</td>\n",
       "      <td>1996</td>\n",
       "      <td>Chromogenic color print</td>\n",
       "      <td>Photography</td>\n",
       "      <td>2020</td>\n",
       "      <td>missing</td>\n",
       "      <td>missing</td>\n",
       "    </tr>\n",
       "    <tr>\n",
       "      <th>138118</th>\n",
       "      <td>May's Blue Eye</td>\n",
       "      <td>Farah Al Qasimi</td>\n",
       "      <td>131770</td>\n",
       "      <td>2020</td>\n",
       "      <td>Pigmented inkjet print</td>\n",
       "      <td>Photography</td>\n",
       "      <td>2020</td>\n",
       "      <td>missing</td>\n",
       "      <td>missing</td>\n",
       "    </tr>\n",
       "  </tbody>\n",
       "</table>\n",
       "<p>34154 rows × 9 columns</p>\n",
       "</div>"
      ],
      "text/plain": [
       "                                                    Title  \\\n",
       "1       City of Music, National Superior Conservatory ...   \n",
       "3       The Manhattan Transcripts Project, New York, N...   \n",
       "31      The Manhattan Transcripts Project, New York, N...   \n",
       "35      The Manhattan Transcripts Project, New York, N...   \n",
       "40      The Manhattan Transcripts Project, New York, N...   \n",
       "...                                                   ...   \n",
       "138114                                 Cóctel (Cocktail)   \n",
       "138115                                 Cóctel (Cocktail)   \n",
       "138116                                 Cóctel (Cocktail)   \n",
       "138117                                 Cóctel (Cocktail)   \n",
       "138118                                     May's Blue Eye   \n",
       "\n",
       "                          Artist ConstituentID  Date  \\\n",
       "1       Christian de Portzamparc          7470  1987   \n",
       "3                Bernard Tschumi          7056  1980   \n",
       "31               Bernard Tschumi          7056  1980   \n",
       "35               Bernard Tschumi          7056  1980   \n",
       "40               Bernard Tschumi          7056  1980   \n",
       "...                          ...           ...   ...   \n",
       "138114       Alejandro Kuropatwa        132939  1996   \n",
       "138115       Alejandro Kuropatwa        132939  1996   \n",
       "138116       Alejandro Kuropatwa        132939  1996   \n",
       "138117       Alejandro Kuropatwa        132939  1996   \n",
       "138118           Farah Al Qasimi        131770  2020   \n",
       "\n",
       "                                                   Medium  \\\n",
       "1                       Paint and colored pencil on print   \n",
       "3       Photographic reproduction with colored synthet...   \n",
       "31      Photographic reproduction with colored synthet...   \n",
       "35      Photographic reproduction with colored synthet...   \n",
       "40                                   Ink on tracing paper   \n",
       "...                                                   ...   \n",
       "138114                            Chromogenic color print   \n",
       "138115                            Chromogenic color print   \n",
       "138116                            Chromogenic color print   \n",
       "138117                            Chromogenic color print   \n",
       "138118                             Pigmented inkjet print   \n",
       "\n",
       "                   Department DateAcquired  \\\n",
       "1       Architecture & Design         1995   \n",
       "3       Architecture & Design         1995   \n",
       "31      Architecture & Design         1995   \n",
       "35      Architecture & Design         1995   \n",
       "40      Architecture & Design         1995   \n",
       "...                       ...          ...   \n",
       "138114            Photography         2020   \n",
       "138115            Photography         2020   \n",
       "138116            Photography         2020   \n",
       "138117            Photography         2020   \n",
       "138118            Photography         2020   \n",
       "\n",
       "                                            URL  \\\n",
       "1        http://www.moma.org/collection/works/3   \n",
       "3        http://www.moma.org/collection/works/5   \n",
       "31      http://www.moma.org/collection/works/33   \n",
       "35      http://www.moma.org/collection/works/38   \n",
       "40      http://www.moma.org/collection/works/44   \n",
       "...                                         ...   \n",
       "138114                                  missing   \n",
       "138115                                  missing   \n",
       "138116                                  missing   \n",
       "138117                                  missing   \n",
       "138118                                  missing   \n",
       "\n",
       "                                             ThumbnailURL  \n",
       "1       http://www.moma.org/media/W1siZiIsIjk3Il0sWyJw...  \n",
       "3       http://www.moma.org/media/W1siZiIsIjEyNCJdLFsi...  \n",
       "31      http://www.moma.org/media/W1siZiIsIjIwMCJdLFsi...  \n",
       "35      http://www.moma.org/media/W1siZiIsIjI2NyJdLFsi...  \n",
       "40      http://www.moma.org/media/W1siZiIsIjI5NiJdLFsi...  \n",
       "...                                                   ...  \n",
       "138114                                            missing  \n",
       "138115                                            missing  \n",
       "138116                                            missing  \n",
       "138117                                            missing  \n",
       "138118                                            missing  \n",
       "\n",
       "[34154 rows x 9 columns]"
      ]
     },
     "execution_count": 22,
     "metadata": {},
     "output_type": "execute_result"
    }
   ],
   "source": [
    "#old len 100692\n",
    "after80"
   ]
  },
  {
   "cell_type": "code",
   "execution_count": null,
   "metadata": {},
   "outputs": [],
   "source": [
    "after80.rename(columns={'ConstituentID': 'ID', 'Date': 'DateCreated'}, inplace=True)\n",
    "before80.rename(columns={'ConstituentID': 'ID', 'Date': 'DateCreated'}, inplace=True)"
   ]
  },
  {
   "cell_type": "markdown",
   "metadata": {},
   "source": [
    "## Artists and nationality for old and modern MOMA"
   ]
  },
  {
   "cell_type": "markdown",
   "metadata": {},
   "source": [
    "Function performing the task for both datasates"
   ]
  },
  {
   "cell_type": "code",
   "execution_count": 24,
   "metadata": {},
   "outputs": [],
   "source": [
    "def get_gender_nat(df, artists):\n",
    "    for index, i in df.iterrows():    \n",
    "        if ', 'in i['ID']:\n",
    "            IDs = i['ID'].split(', ')\n",
    "            genders = list()\n",
    "            nationalities = list()\n",
    "            for x in IDs:\n",
    "                 gender = getattr(artists[artists['ID']== x], 'Gender')\n",
    "                 gender = gender.values\n",
    "                 gender = gender[0]\n",
    "                 genders.append(gender)\n",
    "                 nationality = getattr(artists[artists['ID']== x], 'Nationality')\n",
    "                 nationality = nationality.values\n",
    "                 nationality = nationality[0]\n",
    "                 nationalities.append(\"\".join(nationality))\n",
    "            df.at[index, 'Gender'] = \", \".join(genders)\n",
    "            df.at[index, 'Nationality'] = \", \".join(nationalities)    \n",
    "        else:\n",
    "            gender_s = getattr(artists[artists['ID'] == i['ID']], 'Gender')\n",
    "            gender_s = gender_s.values\n",
    "            nationality_s = getattr(artists[artists['ID'] == i['ID']], 'Nationality')\n",
    "            nationality_s = nationality_s.values\n",
    "            df.at[index, 'Gender'] = \"\".join(gender_s)\n",
    "            df.at[index, 'Nationality'] = \"\".join(nationality_s)\n",
    "            \n",
    "    return df"
   ]
  },
  {
   "cell_type": "code",
   "execution_count": null,
   "metadata": {},
   "outputs": [],
   "source": [
    "# ADD GENDER AND NAT TO OLDER ARTWORKS\n",
    "# VERY SLOW UP TO 6 MINS\n",
    "\n",
    "before80['Nationality'] = \"to do\"\n",
    "before80['Gender'] = \"to do\"\n",
    "vizOldincorrect = get_gender_nat(before80, artists)\n",
    "before80 = vizOldincorrect.replace([''], ['missing'], regex=True)"
   ]
  },
  {
   "cell_type": "code",
   "execution_count": null,
   "metadata": {},
   "outputs": [],
   "source": [
    "# ADD GENDER AND NAT TO NEWER ARTWORKS\n",
    "# VERY SLOW UP TO 6 MINS\n",
    "\n",
    "after80['Nationality'] = \"to do\"\n",
    "after80['Gender'] = \"to do\"\n",
    "vizNewincorrect = get_gender_nat(after80, artists)\n",
    "after80 = vizNewincorrect.replace([''], ['missing'], regex=True)"
   ]
  },
  {
   "cell_type": "code",
   "execution_count": null,
   "metadata": {},
   "outputs": [],
   "source": [
    "before80"
   ]
  },
  {
   "cell_type": "code",
   "execution_count": 28,
   "metadata": {},
   "outputs": [],
   "source": [
    "after80.to_pickle(f'./MoMA_data/pickle/new_artworks.pkl')\n",
    "before80.to_pickle(f'./MoMA_data/pickle/old_artworks.pkl')"
   ]
  },
  {
   "cell_type": "markdown",
   "metadata": {},
   "source": [
    "## Pickle departments \n",
    "\n",
    "in order to make further analysis easier on MoMA's data we decided to additionally produce a subset for each department, divided by creation date as well as the two ones created in the precedent step  "
   ]
  },
  {
   "cell_type": "code",
   "execution_count": 34,
   "metadata": {},
   "outputs": [],
   "source": [
    "#create pickles for each dempartment in before80 csv\n",
    "\n",
    "architecture_design = before80[before80['Department'] == \"Architecture & Design\"]\n",
    "architecture_design.to_pickle(f'./MoMA_data/pickle/departments/architecture_design_mod.pkl')\n",
    "\n",
    "architecture_design_img  = before80[before80['Department'] == \"Architecture & Design - Image Archive\"]\n",
    "architecture_design_img.to_pickle(f'./MoMA_data/pickle/departments/architecture_design_img_mod.pkl')\n",
    "\n",
    "draws_prints= before80[before80['Department'] == \"Drawings & Prints\"]\n",
    "draws_prints.to_pickle(f'./MoMA_data/pickle/departments/draws_prints_mod.pkl')\n",
    "\n",
    "films= before80[before80['Department'] == \"Film\"]\n",
    "films.to_pickle(f'./MoMA_data/pickle/departments/films_mod.pkl')\n",
    "\n",
    "fluxus= before80[before80['Department'] == \"Fluxus Collection\"]\n",
    "fluxus.to_pickle(f'./MoMA_data/pickle/departments/fluxus_mod.pkl')\n",
    "\n",
    "media_perf= before80[before80['Department'] == \"Media and Performance\"]\n",
    "media_perf.to_pickle(f'./MoMA_data/pickle/departments/media_perf_mod.pkl')\n",
    "\n",
    "painting_sculp= before80[before80['Department'] == \"Painting & Sculpture\"]\n",
    "painting_sculp.to_pickle(f'./MoMA_data/pickle/departments/paint_sculp_mod.pkl')\n",
    "\n",
    "photo= before80[before80['Department'] == \"Photography\"]\n",
    "photo.to_pickle(f'./MoMA_data/pickle/departments/photo_mod.pkl')"
   ]
  },
  {
   "cell_type": "code",
   "execution_count": 35,
   "metadata": {},
   "outputs": [],
   "source": [
    "architecture_design = after80[after80['Department'] == \"Architecture & Design\"]\n",
    "architecture_design.to_pickle(f'./MoMA_data/pickle/departments/architecture_design_cont.pkl')\n",
    "\n",
    "architecture_design_img  = after80[after80['Department'] == \"Architecture & Design - Image Archive\"]\n",
    "architecture_design_img.to_pickle(f'./MoMA_data/pickle/departments/architecture_design_img_cont.pkl')\n",
    "\n",
    "draws_prints= after80[after80['Department'] == \"Drawings & Prints\"]\n",
    "draws_prints.to_pickle(f'./MoMA_data/pickle/departments/draws_prints_cont.pkl')\n",
    "\n",
    "films= after80[after80['Department'] == \"Film\"]\n",
    "films.to_pickle(f'./MoMA_data/pickle/departments/films_cont.pkl')\n",
    "\n",
    "fluxus= after80[after80['Department'] == \"Fluxus Collection\"]\n",
    "fluxus.to_pickle(f'./MoMA_data/pickle/departments/fluxus_cont.pkl')\n",
    "\n",
    "media_perf= after80[after80['Department'] == \"Media and Performance\"]\n",
    "media_perf.to_pickle(f'./MoMA_data/pickle/departments/media_perf_cont.pkl')\n",
    "\n",
    "painting_sculp= after80[after80['Department'] == \"Painting & Sculpture\"]\n",
    "painting_sculp.to_pickle(f'./MoMA_data/pickle/departments/paint_sculp_cont.pkl')\n",
    "\n",
    "photo= after80[after80['Department'] == \"Photography\"]\n",
    "photo.to_pickle(f'./MoMA_data/pickle/departments/photo_cont.pkl')"
   ]
  },
  {
   "cell_type": "code",
   "execution_count": null,
   "metadata": {},
   "outputs": [],
   "source": [
    "photo"
   ]
  }
 ],
 "metadata": {
  "interpreter": {
   "hash": "aee8b7b246df8f9039afb4144a1f6fd8d2ca17a180786b69acc140d282b71a49"
  },
  "kernelspec": {
   "display_name": "Python 3.9.9 64-bit",
   "language": "python",
   "name": "python3"
  },
  "language_info": {
   "codemirror_mode": {
    "name": "ipython",
    "version": 3
   },
   "file_extension": ".py",
   "mimetype": "text/x-python",
   "name": "python",
   "nbconvert_exporter": "python",
   "pygments_lexer": "ipython3",
   "version": "3.9.4"
  },
  "orig_nbformat": 4
 },
 "nbformat": 4,
 "nbformat_minor": 2
}
