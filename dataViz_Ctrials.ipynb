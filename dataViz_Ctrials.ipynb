{
 "cells": [
  {
   "cell_type": "markdown",
   "metadata": {},
   "source": [
    "# Initial research questions\n",
    "\n",
    "* comparative analysis of gender representation in artwork creation between born digital and analogue art collections\n",
    "* with also, potentially, some details on medium, location…\n",
    "* semantic analysis of the narrative about the artworks or what are the keywords associated with different artwork types\n",
    "\n",
    "### The story could be:\n",
    "The internet was supposed to revolutionize things, so how did it do when looking at who makes art and who gets included in collections?\n"
   ]
  },
  {
   "cell_type": "markdown",
   "metadata": {},
   "source": [
    "A simple way to plan your work is:\n",
    "\n",
    " * choose the research question\n",
    " * map the question to pieces of information needed to answer the question (e.g. periods, countings)\n",
    " * map the data to specific data types (categorical, numerical, ordinal)\n",
    " * choose the plot(s) that better help you to visualise some pattern (e.g. a bar chart)\n",
    " * get your data in some form (SPARQL query results)\n",
    " * filter/ manipulate your data (select the variables that matter, make operations like countings) \n",
    " * create a data structure that fits the plotting requirements (a table, a JSON etc) including the number of variables needed (e.g. one categorical and one numerical)\n"
   ]
  },
  {
   "cell_type": "code",
   "execution_count": 1,
   "metadata": {},
   "outputs": [],
   "source": [
    "import plotly.graph_objects as go\n",
    "import plotly.express as px\n",
    "import pandas as pd"
   ]
  },
  {
   "cell_type": "code",
   "execution_count": 10,
   "metadata": {},
   "outputs": [],
   "source": [
    "#IMPORT DATASETS\n",
    "artists = pd.read_pickle('MOMA_data/pickle/MoMAartists.pkl')\n",
    "before80 = pd.read_pickle('MOMA_data/pickle/old_artworks.pkl')\n",
    "after80 = pd.read_pickle('MOMA_data/pickle/new_artworks.pkl')\n",
    "rhizome = pd.read_pickle('Rhizome_data/rhizome_artworks_extra.pkl')"
   ]
  },
  {
   "cell_type": "markdown",
   "metadata": {},
   "source": [
    "# Plotly Visualizations for gender and nationality comparison"
   ]
  },
  {
   "cell_type": "markdown",
   "metadata": {},
   "source": [
    "## Acquisition overview of Moma and Rhizome\n",
    "\n",
    "Count of how many artworks for each country have been added to the MoMA (new and old) and Rhizome collections"
   ]
  },
  {
   "cell_type": "markdown",
   "metadata": {},
   "source": [
    "### MoMA's created before 1980"
   ]
  },
  {
   "cell_type": "code",
   "execution_count": 3,
   "metadata": {},
   "outputs": [
    {
     "data": {
      "text/html": [
       "<div>\n",
       "<style scoped>\n",
       "    .dataframe tbody tr th:only-of-type {\n",
       "        vertical-align: middle;\n",
       "    }\n",
       "\n",
       "    .dataframe tbody tr th {\n",
       "        vertical-align: top;\n",
       "    }\n",
       "\n",
       "    .dataframe thead th {\n",
       "        text-align: right;\n",
       "    }\n",
       "</style>\n",
       "<table border=\"1\" class=\"dataframe\">\n",
       "  <thead>\n",
       "    <tr style=\"text-align: right;\">\n",
       "      <th></th>\n",
       "      <th>Title</th>\n",
       "      <th>Artist</th>\n",
       "      <th>ID</th>\n",
       "      <th>DateCreated</th>\n",
       "      <th>Medium</th>\n",
       "      <th>Department</th>\n",
       "      <th>DateAcquired</th>\n",
       "      <th>URL</th>\n",
       "      <th>ThumbnailURL</th>\n",
       "      <th>Nationality</th>\n",
       "      <th>Gender</th>\n",
       "    </tr>\n",
       "  </thead>\n",
       "  <tbody>\n",
       "    <tr>\n",
       "      <th>0</th>\n",
       "      <td>Ferdinandsbrücke Project, Vienna, Austria (Ele...</td>\n",
       "      <td>Otto Wagner</td>\n",
       "      <td>6210</td>\n",
       "      <td>1896</td>\n",
       "      <td>Ink and cut-and-pasted painted pages on paper</td>\n",
       "      <td>Architecture &amp; Design</td>\n",
       "      <td>1996</td>\n",
       "      <td>http://www.moma.org/collection/works/2</td>\n",
       "      <td>http://www.moma.org/media/W1siZiIsIjU5NDA1Il0s...</td>\n",
       "      <td>Austrian</td>\n",
       "      <td>M</td>\n",
       "    </tr>\n",
       "    <tr>\n",
       "      <th>2</th>\n",
       "      <td>Villa near Vienna Project, Outside Vienna, Aus...</td>\n",
       "      <td>Emil Hoppe</td>\n",
       "      <td>7605</td>\n",
       "      <td>1903</td>\n",
       "      <td>Graphite, pen, color pencil, ink, and gouache ...</td>\n",
       "      <td>Architecture &amp; Design</td>\n",
       "      <td>1997</td>\n",
       "      <td>http://www.moma.org/collection/works/4</td>\n",
       "      <td>http://www.moma.org/media/W1siZiIsIjk4Il0sWyJw...</td>\n",
       "      <td>Austrian</td>\n",
       "      <td>M</td>\n",
       "    </tr>\n",
       "    <tr>\n",
       "      <th>4</th>\n",
       "      <td>Villa, project, outside Vienna, Austria, Exter...</td>\n",
       "      <td>Emil Hoppe</td>\n",
       "      <td>7605</td>\n",
       "      <td>1903</td>\n",
       "      <td>Graphite, color pencil, ink, and gouache on tr...</td>\n",
       "      <td>Architecture &amp; Design</td>\n",
       "      <td>1997</td>\n",
       "      <td>http://www.moma.org/collection/works/6</td>\n",
       "      <td>http://www.moma.org/media/W1siZiIsIjEyNiJdLFsi...</td>\n",
       "      <td>Austrian</td>\n",
       "      <td>M</td>\n",
       "    </tr>\n",
       "    <tr>\n",
       "      <th>5</th>\n",
       "      <td>The Manhattan Transcripts Project, New York, N...</td>\n",
       "      <td>Bernard Tschumi</td>\n",
       "      <td>7056</td>\n",
       "      <td>1976</td>\n",
       "      <td>Gelatin silver photograph</td>\n",
       "      <td>Architecture &amp; Design</td>\n",
       "      <td>1995</td>\n",
       "      <td>http://www.moma.org/collection/works/7</td>\n",
       "      <td>http://www.moma.org/media/W1siZiIsIjE0OCJdLFsi...</td>\n",
       "      <td>missing</td>\n",
       "      <td>M</td>\n",
       "    </tr>\n",
       "    <tr>\n",
       "      <th>6</th>\n",
       "      <td>The Manhattan Transcripts Project, New York, N...</td>\n",
       "      <td>Bernard Tschumi</td>\n",
       "      <td>7056</td>\n",
       "      <td>1976</td>\n",
       "      <td>Gelatin silver photographs</td>\n",
       "      <td>Architecture &amp; Design</td>\n",
       "      <td>1995</td>\n",
       "      <td>http://www.moma.org/collection/works/8</td>\n",
       "      <td>http://www.moma.org/media/W1siZiIsIjE0OSJdLFsi...</td>\n",
       "      <td>missing</td>\n",
       "      <td>M</td>\n",
       "    </tr>\n",
       "    <tr>\n",
       "      <th>...</th>\n",
       "      <td>...</td>\n",
       "      <td>...</td>\n",
       "      <td>...</td>\n",
       "      <td>...</td>\n",
       "      <td>...</td>\n",
       "      <td>...</td>\n",
       "      <td>...</td>\n",
       "      <td>...</td>\n",
       "      <td>...</td>\n",
       "      <td>...</td>\n",
       "      <td>...</td>\n",
       "    </tr>\n",
       "    <tr>\n",
       "      <th>138146</th>\n",
       "      <td>Untitled</td>\n",
       "      <td>Chesnutt Brothers Studio, Andrew Chesnutt, Lew...</td>\n",
       "      <td>133005, 133006, 133007</td>\n",
       "      <td>1890</td>\n",
       "      <td>Gelatin silver print</td>\n",
       "      <td>Photography</td>\n",
       "      <td>2020</td>\n",
       "      <td>http://www.moma.org/collection/works/418928</td>\n",
       "      <td>http://www.moma.org/media/W1siZiIsIjQ5MjcyMiJd...</td>\n",
       "      <td>missing, American, American</td>\n",
       "      <td>missing, M, M</td>\n",
       "    </tr>\n",
       "    <tr>\n",
       "      <th>138147</th>\n",
       "      <td>Plate (folio 2 verso) from Muscheln und schirm...</td>\n",
       "      <td>Sophie Taeuber-Arp</td>\n",
       "      <td>5777</td>\n",
       "      <td>1939</td>\n",
       "      <td>One from an illustrated book with four line bl...</td>\n",
       "      <td>Drawings &amp; Prints</td>\n",
       "      <td>2019</td>\n",
       "      <td>http://www.moma.org/collection/works/419286</td>\n",
       "      <td>http://www.moma.org/media/W1siZiIsIjQ4NTExNSJd...</td>\n",
       "      <td>Swiss</td>\n",
       "      <td>F</td>\n",
       "    </tr>\n",
       "    <tr>\n",
       "      <th>138148</th>\n",
       "      <td>Plate (folio 6) from Muscheln und schirme (She...</td>\n",
       "      <td>Sophie Taeuber-Arp</td>\n",
       "      <td>5777</td>\n",
       "      <td>1939</td>\n",
       "      <td>One from an illustrated book with four line bl...</td>\n",
       "      <td>Drawings &amp; Prints</td>\n",
       "      <td>2019</td>\n",
       "      <td>http://www.moma.org/collection/works/419287</td>\n",
       "      <td>http://www.moma.org/media/W1siZiIsIjQ4NTExOCJd...</td>\n",
       "      <td>Swiss</td>\n",
       "      <td>F</td>\n",
       "    </tr>\n",
       "    <tr>\n",
       "      <th>138149</th>\n",
       "      <td>Plate (folio 12) from Muscheln und schirme (Sh...</td>\n",
       "      <td>Sophie Taeuber-Arp</td>\n",
       "      <td>5777</td>\n",
       "      <td>1939</td>\n",
       "      <td>One from an illustrated book with four line bl...</td>\n",
       "      <td>Drawings &amp; Prints</td>\n",
       "      <td>2019</td>\n",
       "      <td>http://www.moma.org/collection/works/419288</td>\n",
       "      <td>http://www.moma.org/media/W1siZiIsIjQ4NTEyMCJd...</td>\n",
       "      <td>Swiss</td>\n",
       "      <td>F</td>\n",
       "    </tr>\n",
       "    <tr>\n",
       "      <th>138150</th>\n",
       "      <td>Plate (folio 16) from Muscheln und schirme (Sh...</td>\n",
       "      <td>Sophie Taeuber-Arp</td>\n",
       "      <td>5777</td>\n",
       "      <td>1939</td>\n",
       "      <td>One from an illustrated book with four line bl...</td>\n",
       "      <td>Drawings &amp; Prints</td>\n",
       "      <td>2019</td>\n",
       "      <td>http://www.moma.org/collection/works/419289</td>\n",
       "      <td>http://www.moma.org/media/W1siZiIsIjQ4NTEyMSJd...</td>\n",
       "      <td>Swiss</td>\n",
       "      <td>F</td>\n",
       "    </tr>\n",
       "  </tbody>\n",
       "</table>\n",
       "<p>103997 rows × 11 columns</p>\n",
       "</div>"
      ],
      "text/plain": [
       "                                                    Title  \\\n",
       "0       Ferdinandsbrücke Project, Vienna, Austria (Ele...   \n",
       "2       Villa near Vienna Project, Outside Vienna, Aus...   \n",
       "4       Villa, project, outside Vienna, Austria, Exter...   \n",
       "5       The Manhattan Transcripts Project, New York, N...   \n",
       "6       The Manhattan Transcripts Project, New York, N...   \n",
       "...                                                   ...   \n",
       "138146                                           Untitled   \n",
       "138147  Plate (folio 2 verso) from Muscheln und schirm...   \n",
       "138148  Plate (folio 6) from Muscheln und schirme (She...   \n",
       "138149  Plate (folio 12) from Muscheln und schirme (Sh...   \n",
       "138150  Plate (folio 16) from Muscheln und schirme (Sh...   \n",
       "\n",
       "                                                   Artist  \\\n",
       "0                                             Otto Wagner   \n",
       "2                                              Emil Hoppe   \n",
       "4                                              Emil Hoppe   \n",
       "5                                         Bernard Tschumi   \n",
       "6                                         Bernard Tschumi   \n",
       "...                                                   ...   \n",
       "138146  Chesnutt Brothers Studio, Andrew Chesnutt, Lew...   \n",
       "138147                                 Sophie Taeuber-Arp   \n",
       "138148                                 Sophie Taeuber-Arp   \n",
       "138149                                 Sophie Taeuber-Arp   \n",
       "138150                                 Sophie Taeuber-Arp   \n",
       "\n",
       "                            ID  DateCreated  \\\n",
       "0                         6210         1896   \n",
       "2                         7605         1903   \n",
       "4                         7605         1903   \n",
       "5                         7056         1976   \n",
       "6                         7056         1976   \n",
       "...                        ...          ...   \n",
       "138146  133005, 133006, 133007         1890   \n",
       "138147                    5777         1939   \n",
       "138148                    5777         1939   \n",
       "138149                    5777         1939   \n",
       "138150                    5777         1939   \n",
       "\n",
       "                                                   Medium  \\\n",
       "0           Ink and cut-and-pasted painted pages on paper   \n",
       "2       Graphite, pen, color pencil, ink, and gouache ...   \n",
       "4       Graphite, color pencil, ink, and gouache on tr...   \n",
       "5                               Gelatin silver photograph   \n",
       "6                              Gelatin silver photographs   \n",
       "...                                                   ...   \n",
       "138146                               Gelatin silver print   \n",
       "138147  One from an illustrated book with four line bl...   \n",
       "138148  One from an illustrated book with four line bl...   \n",
       "138149  One from an illustrated book with four line bl...   \n",
       "138150  One from an illustrated book with four line bl...   \n",
       "\n",
       "                   Department DateAcquired  \\\n",
       "0       Architecture & Design         1996   \n",
       "2       Architecture & Design         1997   \n",
       "4       Architecture & Design         1997   \n",
       "5       Architecture & Design         1995   \n",
       "6       Architecture & Design         1995   \n",
       "...                       ...          ...   \n",
       "138146            Photography         2020   \n",
       "138147      Drawings & Prints         2019   \n",
       "138148      Drawings & Prints         2019   \n",
       "138149      Drawings & Prints         2019   \n",
       "138150      Drawings & Prints         2019   \n",
       "\n",
       "                                                URL  \\\n",
       "0            http://www.moma.org/collection/works/2   \n",
       "2            http://www.moma.org/collection/works/4   \n",
       "4            http://www.moma.org/collection/works/6   \n",
       "5            http://www.moma.org/collection/works/7   \n",
       "6            http://www.moma.org/collection/works/8   \n",
       "...                                             ...   \n",
       "138146  http://www.moma.org/collection/works/418928   \n",
       "138147  http://www.moma.org/collection/works/419286   \n",
       "138148  http://www.moma.org/collection/works/419287   \n",
       "138149  http://www.moma.org/collection/works/419288   \n",
       "138150  http://www.moma.org/collection/works/419289   \n",
       "\n",
       "                                             ThumbnailURL  \\\n",
       "0       http://www.moma.org/media/W1siZiIsIjU5NDA1Il0s...   \n",
       "2       http://www.moma.org/media/W1siZiIsIjk4Il0sWyJw...   \n",
       "4       http://www.moma.org/media/W1siZiIsIjEyNiJdLFsi...   \n",
       "5       http://www.moma.org/media/W1siZiIsIjE0OCJdLFsi...   \n",
       "6       http://www.moma.org/media/W1siZiIsIjE0OSJdLFsi...   \n",
       "...                                                   ...   \n",
       "138146  http://www.moma.org/media/W1siZiIsIjQ5MjcyMiJd...   \n",
       "138147  http://www.moma.org/media/W1siZiIsIjQ4NTExNSJd...   \n",
       "138148  http://www.moma.org/media/W1siZiIsIjQ4NTExOCJd...   \n",
       "138149  http://www.moma.org/media/W1siZiIsIjQ4NTEyMCJd...   \n",
       "138150  http://www.moma.org/media/W1siZiIsIjQ4NTEyMSJd...   \n",
       "\n",
       "                        Nationality         Gender  \n",
       "0                          Austrian              M  \n",
       "2                          Austrian              M  \n",
       "4                          Austrian              M  \n",
       "5                           missing              M  \n",
       "6                           missing              M  \n",
       "...                             ...            ...  \n",
       "138146  missing, American, American  missing, M, M  \n",
       "138147                        Swiss              F  \n",
       "138148                        Swiss              F  \n",
       "138149                        Swiss              F  \n",
       "138150                        Swiss              F  \n",
       "\n",
       "[103997 rows x 11 columns]"
      ]
     },
     "execution_count": 3,
     "metadata": {},
     "output_type": "execute_result"
    }
   ],
   "source": [
    "before80"
   ]
  },
  {
   "cell_type": "code",
   "execution_count": 4,
   "metadata": {},
   "outputs": [
    {
     "name": "stderr",
     "output_type": "stream",
     "text": [
      "/var/folders/qj/xh48vw9d4z5_h6wzs6r2smdh0000gn/T/ipykernel_2916/3596396940.py:8: SettingWithCopyWarning: \n",
      "A value is trying to be set on a copy of a slice from a DataFrame.\n",
      "Try using .loc[row_indexer,col_indexer] = value instead\n",
      "\n",
      "See the caveats in the documentation: https://pandas.pydata.org/pandas-docs/stable/user_guide/indexing.html#returning-a-view-versus-a-copy\n",
      "  nat_sub.DateAcquired = nat_sub.DateAcquired.astype('str')\n"
     ]
    },
    {
     "data": {
      "text/html": [
       "<div>\n",
       "<style scoped>\n",
       "    .dataframe tbody tr th:only-of-type {\n",
       "        vertical-align: middle;\n",
       "    }\n",
       "\n",
       "    .dataframe tbody tr th {\n",
       "        vertical-align: top;\n",
       "    }\n",
       "\n",
       "    .dataframe thead th {\n",
       "        text-align: right;\n",
       "    }\n",
       "</style>\n",
       "<table border=\"1\" class=\"dataframe\">\n",
       "  <thead>\n",
       "    <tr style=\"text-align: right;\">\n",
       "      <th></th>\n",
       "      <th>Nation</th>\n",
       "      <th>DateAcquired</th>\n",
       "      <th>Count</th>\n",
       "      <th>Females</th>\n",
       "    </tr>\n",
       "  </thead>\n",
       "  <tbody>\n",
       "    <tr>\n",
       "      <th>0</th>\n",
       "      <td>Canadian Inuit</td>\n",
       "      <td>1960</td>\n",
       "      <td>4</td>\n",
       "      <td>0</td>\n",
       "    </tr>\n",
       "    <tr>\n",
       "      <th>1</th>\n",
       "      <td>Hungarian</td>\n",
       "      <td>1940</td>\n",
       "      <td>10</td>\n",
       "      <td>10</td>\n",
       "    </tr>\n",
       "    <tr>\n",
       "      <th>2</th>\n",
       "      <td>Hungarian</td>\n",
       "      <td>1943</td>\n",
       "      <td>1</td>\n",
       "      <td>0</td>\n",
       "    </tr>\n",
       "    <tr>\n",
       "      <th>3</th>\n",
       "      <td>Hungarian</td>\n",
       "      <td>1949</td>\n",
       "      <td>1</td>\n",
       "      <td>0</td>\n",
       "    </tr>\n",
       "    <tr>\n",
       "      <th>4</th>\n",
       "      <td>Hungarian</td>\n",
       "      <td>1952</td>\n",
       "      <td>1</td>\n",
       "      <td>0</td>\n",
       "    </tr>\n",
       "    <tr>\n",
       "      <th>...</th>\n",
       "      <td>...</td>\n",
       "      <td>...</td>\n",
       "      <td>...</td>\n",
       "      <td>...</td>\n",
       "    </tr>\n",
       "    <tr>\n",
       "      <th>2401</th>\n",
       "      <td>Greek</td>\n",
       "      <td>1982</td>\n",
       "      <td>9</td>\n",
       "      <td>0</td>\n",
       "    </tr>\n",
       "    <tr>\n",
       "      <th>2402</th>\n",
       "      <td>Greek</td>\n",
       "      <td>1984</td>\n",
       "      <td>1</td>\n",
       "      <td>0</td>\n",
       "    </tr>\n",
       "    <tr>\n",
       "      <th>2403</th>\n",
       "      <td>Greek</td>\n",
       "      <td>1988</td>\n",
       "      <td>1</td>\n",
       "      <td>0</td>\n",
       "    </tr>\n",
       "    <tr>\n",
       "      <th>2404</th>\n",
       "      <td>Greek</td>\n",
       "      <td>2005</td>\n",
       "      <td>3</td>\n",
       "      <td>0</td>\n",
       "    </tr>\n",
       "    <tr>\n",
       "      <th>2405</th>\n",
       "      <td>Greek</td>\n",
       "      <td>2018</td>\n",
       "      <td>2</td>\n",
       "      <td>0</td>\n",
       "    </tr>\n",
       "  </tbody>\n",
       "</table>\n",
       "<p>2406 rows × 4 columns</p>\n",
       "</div>"
      ],
      "text/plain": [
       "              Nation  DateAcquired  Count  Females\n",
       "0     Canadian Inuit          1960      4        0\n",
       "1          Hungarian          1940     10       10\n",
       "2          Hungarian          1943      1        0\n",
       "3          Hungarian          1949      1        0\n",
       "4          Hungarian          1952      1        0\n",
       "...              ...           ...    ...      ...\n",
       "2401           Greek          1982      9        0\n",
       "2402           Greek          1984      1        0\n",
       "2403           Greek          1988      1        0\n",
       "2404           Greek          2005      3        0\n",
       "2405           Greek          2018      2        0\n",
       "\n",
       "[2406 rows x 4 columns]"
      ]
     },
     "execution_count": 4,
     "metadata": {},
     "output_type": "execute_result"
    }
   ],
   "source": [
    "\n",
    "before80.Nationality = before80.Nationality.astype('str')\n",
    "nats = ', '.join(before80.Nationality)\n",
    "nats = list(set(nats.split(', ')))\n",
    "df_nats_before = pd.DataFrame()\n",
    "\n",
    "for country in nats:\n",
    "    nat_sub =  before80[before80.Nationality == country]    \n",
    "    nat_sub.DateAcquired = nat_sub.DateAcquired.astype('str')\n",
    "    years = ', '.join(nat_sub.DateAcquired)\n",
    "    years = sorted(list([item[:4] for item in list(set(years.split(', ')))]))[0:-1]\n",
    "    for year in years:\n",
    "        year_sub = nat_sub[nat_sub.DateAcquired == year]\n",
    "        entries_year = len(year_sub)\n",
    "        f_count = len(year_sub[year_sub.Gender == 'F'])\n",
    "        new_row = pd.DataFrame([[country, year, entries_year, f_count]])\n",
    "        df_nats_before = pd.concat([df_nats_before, new_row], axis=0, ignore_index=True)\n",
    "df_nats_before.columns= [\"Nation\", \"DateAcquired\", \"Count\", \"Females\"]\n",
    "df_nats_before.DateAcquired = df_nats_before.DateAcquired.astype('int')\n",
    "df_nats_before    "
   ]
  },
  {
   "cell_type": "code",
   "execution_count": 5,
   "metadata": {},
   "outputs": [
    {
     "data": {
      "application/vnd.plotly.v1+json": {
       "config": {
        "plotlyServerURL": "https://plot.ly"
       },
       "data": [
        {
         "fillpattern": {
          "shape": ""
         },
         "hovertemplate": "Nation=Canadian Inuit<br>DateAcquired=%{x}<br>Count=%{y}<extra></extra>",
         "legendgroup": "Canadian Inuit",
         "line": {
          "color": "#636efa"
         },
         "marker": {
          "symbol": "circle"
         },
         "mode": "lines",
         "name": "Canadian Inuit",
         "orientation": "v",
         "showlegend": true,
         "stackgroup": "1",
         "type": "scatter",
         "x": [
          1960
         ],
         "xaxis": "x",
         "y": [
          4
         ],
         "yaxis": "y"
        },
        {
         "fillpattern": {
          "shape": ""
         },
         "hovertemplate": "Nation=Hungarian<br>DateAcquired=%{x}<br>Count=%{y}<extra></extra>",
         "legendgroup": "Hungarian",
         "line": {
          "color": "#EF553B"
         },
         "marker": {
          "symbol": "circle"
         },
         "mode": "lines",
         "name": "Hungarian",
         "orientation": "v",
         "showlegend": true,
         "stackgroup": "1",
         "type": "scatter",
         "x": [
          1940,
          1943,
          1949,
          1952,
          1953,
          1956,
          1966,
          1967,
          1970,
          1981,
          1982,
          1983,
          1985,
          2001,
          2006,
          2008,
          2009,
          2010,
          2012,
          2013,
          2014,
          2015,
          2017
         ],
         "xaxis": "x",
         "y": [
          10,
          1,
          1,
          1,
          1,
          1,
          0,
          1,
          2,
          1,
          1,
          5,
          12,
          7,
          1,
          1,
          1,
          6,
          10,
          11,
          16,
          3,
          3
         ],
         "yaxis": "y"
        },
        {
         "fillpattern": {
          "shape": ""
         },
         "hovertemplate": "Nation=Austrian<br>DateAcquired=%{x}<br>Count=%{y}<extra></extra>",
         "legendgroup": "Austrian",
         "line": {
          "color": "#00cc96"
         },
         "marker": {
          "symbol": "circle"
         },
         "mode": "lines",
         "name": "Austrian",
         "orientation": "v",
         "showlegend": true,
         "stackgroup": "1",
         "type": "scatter",
         "x": [
          1929,
          1935,
          1939,
          1940,
          1941,
          1942,
          1943,
          1945,
          1946,
          1947,
          1948,
          1949,
          1950,
          1951,
          1951,
          1952,
          1953,
          1954,
          1955,
          1956,
          1957,
          1958,
          1959,
          1960,
          1961,
          1962,
          1963,
          1963,
          1964,
          1964,
          1965,
          1966,
          1967,
          1967,
          1968,
          1969,
          1969,
          1970,
          1971,
          1972,
          1973,
          1974,
          1977,
          1978,
          1979,
          1980,
          1981,
          1982,
          1983,
          1984,
          1985,
          1986,
          1987,
          1988,
          1990,
          1991,
          1992,
          1993,
          1994,
          1996,
          1997,
          1998,
          1999,
          2000,
          2001,
          2003,
          2004,
          2005,
          2006,
          2007,
          2008,
          2009,
          2010,
          2011,
          2012,
          2013,
          2014,
          2015,
          2017,
          2018,
          2020
         ],
         "xaxis": "x",
         "y": [
          2,
          1,
          1,
          1,
          1,
          3,
          7,
          2,
          1,
          21,
          4,
          17,
          6,
          4,
          4,
          25,
          1,
          11,
          2,
          8,
          8,
          1,
          7,
          1,
          3,
          3,
          15,
          15,
          76,
          76,
          4,
          11,
          17,
          17,
          9,
          2,
          2,
          1,
          13,
          1,
          3,
          11,
          10,
          6,
          3,
          6,
          13,
          12,
          5,
          3,
          6,
          4,
          4,
          19,
          2,
          2,
          7,
          6,
          2,
          2,
          7,
          3,
          2,
          4,
          9,
          1,
          9,
          6,
          11,
          14,
          10,
          4,
          17,
          34,
          55,
          10,
          2,
          5,
          1,
          8,
          1
         ],
         "yaxis": "y"
        },
        {
         "fillpattern": {
          "shape": ""
         },
         "hovertemplate": "Nation=Brazilian<br>DateAcquired=%{x}<br>Count=%{y}<extra></extra>",
         "legendgroup": "Brazilian",
         "line": {
          "color": "#ab63fa"
         },
         "marker": {
          "symbol": "circle"
         },
         "mode": "lines",
         "name": "Brazilian",
         "orientation": "v",
         "showlegend": true,
         "stackgroup": "1",
         "type": "scatter",
         "x": [
          1939,
          1941,
          1942,
          1943,
          1946,
          1947,
          1948,
          1949,
          1951,
          1954,
          1955,
          1956,
          1957,
          1958,
          1959,
          1961,
          1962,
          1964,
          1965,
          1966,
          1967,
          1968,
          1969,
          1970,
          1970,
          1973,
          1974,
          1975,
          1980,
          1980,
          1991,
          1993,
          1995,
          1997,
          1998,
          1999,
          2000,
          2001,
          2004,
          2005,
          2006,
          2007,
          2008,
          2009,
          2010,
          2011,
          2012,
          2013,
          2014,
          2015,
          2016,
          2017,
          2018,
          2019
         ],
         "xaxis": "x",
         "y": [
          1,
          12,
          7,
          1,
          1,
          1,
          1,
          5,
          2,
          1,
          1,
          4,
          11,
          5,
          1,
          1,
          2,
          4,
          19,
          2,
          18,
          36,
          51,
          2,
          2,
          11,
          12,
          1,
          1,
          1,
          3,
          7,
          1,
          4,
          5,
          3,
          13,
          11,
          4,
          50,
          6,
          12,
          21,
          13,
          2,
          9,
          3,
          6,
          4,
          6,
          94,
          43,
          3,
          7
         ],
         "yaxis": "y"
        },
        {
         "fillpattern": {
          "shape": ""
         },
         "hovertemplate": "Nation=Haitian<br>DateAcquired=%{x}<br>Count=%{y}<extra></extra>",
         "legendgroup": "Haitian",
         "line": {
          "color": "#FFA15A"
         },
         "marker": {
          "symbol": "circle"
         },
         "mode": "lines",
         "name": "Haitian",
         "orientation": "v",
         "showlegend": true,
         "stackgroup": "1",
         "type": "scatter",
         "x": [
          1944,
          1947,
          1948,
          1951,
          1958,
          1962,
          1987,
          1998
         ],
         "xaxis": "x",
         "y": [
          1,
          9,
          2,
          1,
          1,
          1,
          1,
          1
         ],
         "yaxis": "y"
        },
        {
         "fillpattern": {
          "shape": ""
         },
         "hovertemplate": "Nation=Lithuanian<br>DateAcquired=%{x}<br>Count=%{y}<extra></extra>",
         "legendgroup": "Lithuanian",
         "line": {
          "color": "#19d3f3"
         },
         "marker": {
          "symbol": "circle"
         },
         "mode": "lines",
         "name": "Lithuanian",
         "orientation": "v",
         "showlegend": true,
         "stackgroup": "1",
         "type": "scatter",
         "x": [
          2008,
          2008
         ],
         "xaxis": "x",
         "y": [
          1,
          1
         ],
         "yaxis": "y"
        },
        {
         "fillpattern": {
          "shape": ""
         },
         "hovertemplate": "Nation=Danish<br>DateAcquired=%{x}<br>Count=%{y}<extra></extra>",
         "legendgroup": "Danish",
         "line": {
          "color": "#FF6692"
         },
         "marker": {
          "symbol": "circle"
         },
         "mode": "lines",
         "name": "Danish",
         "orientation": "v",
         "showlegend": true,
         "stackgroup": "1",
         "type": "scatter",
         "x": [
          1947,
          1948,
          1950,
          1953,
          1954,
          1955,
          1956,
          1957,
          1958,
          1959,
          1960,
          1961,
          1962,
          1963,
          1964,
          1965,
          1966,
          1967,
          1968,
          1969,
          1970,
          1972,
          1973,
          1974,
          1976,
          1977,
          1978,
          1979,
          1980,
          1982,
          1983,
          1984,
          1986,
          1988,
          1991,
          1992,
          1995,
          1996,
          1997,
          1999,
          2000,
          2001,
          2003,
          2004,
          2005,
          2006,
          2007,
          2008,
          2008,
          2009,
          2010,
          2013,
          2014,
          2015,
          2016,
          2018,
          2019
         ],
         "xaxis": "x",
         "y": [
          33,
          1,
          4,
          3,
          10,
          7,
          1,
          1,
          38,
          6,
          2,
          4,
          1,
          1,
          4,
          35,
          2,
          1,
          3,
          3,
          1,
          7,
          1,
          1,
          2,
          2,
          2,
          10,
          45,
          2,
          1,
          2,
          1,
          2,
          1,
          9,
          2,
          2,
          3,
          3,
          5,
          16,
          1,
          1,
          25,
          1,
          2,
          36,
          36,
          2,
          3,
          1,
          1,
          2,
          1,
          2,
          2
         ],
         "yaxis": "y"
        },
        {
         "fillpattern": {
          "shape": ""
         },
         "hovertemplate": "Nation=Ukrainian<br>DateAcquired=%{x}<br>Count=%{y}<extra></extra>",
         "legendgroup": "Ukrainian",
         "line": {
          "color": "#B6E880"
         },
         "marker": {
          "symbol": "circle"
         },
         "mode": "lines",
         "name": "Ukrainian",
         "orientation": "v",
         "showlegend": true,
         "stackgroup": "1",
         "type": "scatter",
         "x": [
          1964,
          1969,
          1972,
          2001
         ],
         "xaxis": "x",
         "y": [
          1,
          1,
          1,
          21
         ],
         "yaxis": "y"
        },
        {
         "fillpattern": {
          "shape": ""
         },
         "hovertemplate": "Nation=Estonian<br>DateAcquired=%{x}<br>Count=%{y}<extra></extra>",
         "legendgroup": "Estonian",
         "line": {
          "color": "#FF97FF"
         },
         "marker": {
          "symbol": "circle"
         },
         "mode": "lines",
         "name": "Estonian",
         "orientation": "v",
         "showlegend": true,
         "stackgroup": "1",
         "type": "scatter",
         "x": [
          1985
         ],
         "xaxis": "x",
         "y": [
          1
         ],
         "yaxis": "y"
        },
        {
         "fillpattern": {
          "shape": ""
         },
         "hovertemplate": "Nation=Lebanese<br>DateAcquired=%{x}<br>Count=%{y}<extra></extra>",
         "legendgroup": "Lebanese",
         "line": {
          "color": "#FECB52"
         },
         "marker": {
          "symbol": "circle"
         },
         "mode": "lines",
         "name": "Lebanese",
         "orientation": "v",
         "showlegend": true,
         "stackgroup": "1",
         "type": "scatter",
         "x": [
          2012,
          2018
         ],
         "xaxis": "x",
         "y": [
          2,
          1
         ],
         "yaxis": "y"
        },
        {
         "fillpattern": {
          "shape": ""
         },
         "hovertemplate": "Nation=Guatemalan<br>DateAcquired=%{x}<br>Count=%{y}<extra></extra>",
         "legendgroup": "Guatemalan",
         "line": {
          "color": "#636efa"
         },
         "marker": {
          "symbol": "circle"
         },
         "mode": "lines",
         "name": "Guatemalan",
         "orientation": "v",
         "showlegend": true,
         "stackgroup": "1",
         "type": "scatter",
         "x": [
          1942,
          1943,
          1949,
          1955,
          1957,
          1959,
          1961,
          1964,
          1966,
          1970
         ],
         "xaxis": "x",
         "y": [
          1,
          11,
          11,
          1,
          1,
          1,
          1,
          2,
          1,
          2
         ],
         "yaxis": "y"
        },
        {
         "fillpattern": {
          "shape": ""
         },
         "hovertemplate": "Nation=Nicaraguan<br>DateAcquired=%{x}<br>Count=%{y}<extra></extra>",
         "legendgroup": "Nicaraguan",
         "line": {
          "color": "#EF553B"
         },
         "marker": {
          "symbol": "circle"
         },
         "mode": "lines",
         "name": "Nicaraguan",
         "orientation": "v",
         "showlegend": true,
         "stackgroup": "1",
         "type": "scatter",
         "x": [
          1942
         ],
         "xaxis": "x",
         "y": [
          1
         ],
         "yaxis": "y"
        },
        {
         "fillpattern": {
          "shape": ""
         },
         "hovertemplate": "Nation=Romanian<br>DateAcquired=%{x}<br>Count=%{y}<extra></extra>",
         "legendgroup": "Romanian",
         "line": {
          "color": "#00cc96"
         },
         "marker": {
          "symbol": "circle"
         },
         "mode": "lines",
         "name": "Romanian",
         "orientation": "v",
         "showlegend": true,
         "stackgroup": "1",
         "type": "scatter",
         "x": [
          1947,
          1949,
          1961,
          1964,
          1967,
          1968,
          1969,
          1970,
          1975,
          1977,
          1980,
          1986,
          2007,
          2010,
          2011,
          2012,
          2013,
          2015
         ],
         "xaxis": "x",
         "y": [
          2,
          2,
          1,
          5,
          3,
          1,
          1,
          2,
          1,
          8,
          11,
          4,
          1,
          3,
          4,
          1,
          7,
          1
         ],
         "yaxis": "y"
        },
        {
         "fillpattern": {
          "shape": ""
         },
         "hovertemplate": "Nation=Luxembourgish<br>DateAcquired=%{x}<br>Count=%{y}<extra></extra>",
         "legendgroup": "Luxembourgish",
         "line": {
          "color": "#ab63fa"
         },
         "marker": {
          "symbol": "circle"
         },
         "mode": "lines",
         "name": "Luxembourgish",
         "orientation": "v",
         "showlegend": true,
         "stackgroup": "1",
         "type": "scatter",
         "x": [
          1984,
          1986,
          1996,
          2000
         ],
         "xaxis": "x",
         "y": [
          2,
          1,
          1,
          6
         ],
         "yaxis": "y"
        },
        {
         "fillpattern": {
          "shape": ""
         },
         "hovertemplate": "Nation=Norwegian<br>DateAcquired=%{x}<br>Count=%{y}<extra></extra>",
         "legendgroup": "Norwegian",
         "line": {
          "color": "#FFA15A"
         },
         "marker": {
          "symbol": "circle"
         },
         "mode": "lines",
         "name": "Norwegian",
         "orientation": "v",
         "showlegend": true,
         "stackgroup": "1",
         "type": "scatter",
         "x": [
          1935,
          1940,
          1942,
          1949,
          1950,
          1951,
          1953,
          1954,
          1955,
          1956,
          1957,
          1958,
          1959,
          1960,
          1968,
          1969,
          1972,
          1974,
          1979,
          1983,
          1985,
          1993,
          1998,
          2002,
          2008
         ],
         "xaxis": "x",
         "y": [
          1,
          1,
          5,
          2,
          5,
          9,
          3,
          12,
          3,
          6,
          2,
          1,
          1,
          2,
          30,
          2,
          2,
          3,
          1,
          1,
          1,
          2,
          2,
          3,
          5
         ],
         "yaxis": "y"
        },
        {
         "fillpattern": {
          "shape": ""
         },
         "hovertemplate": "Nation=Bulgarian<br>DateAcquired=%{x}<br>Count=%{y}<extra></extra>",
         "legendgroup": "Bulgarian",
         "line": {
          "color": "#19d3f3"
         },
         "marker": {
          "symbol": "circle"
         },
         "mode": "lines",
         "name": "Bulgarian",
         "orientation": "v",
         "showlegend": true,
         "stackgroup": "1",
         "type": "scatter",
         "x": [
          2018
         ],
         "xaxis": "x",
         "y": [
          1
         ],
         "yaxis": "y"
        },
        {
         "fillpattern": {
          "shape": ""
         },
         "hovertemplate": "Nation=Swiss<br>DateAcquired=%{x}<br>Count=%{y}<extra></extra>",
         "legendgroup": "Swiss",
         "line": {
          "color": "#FF6692"
         },
         "marker": {
          "symbol": "circle"
         },
         "mode": "lines",
         "name": "Swiss",
         "orientation": "v",
         "showlegend": true,
         "stackgroup": "1",
         "type": "scatter",
         "x": [
          1930,
          1936,
          1937,
          1937,
          1938,
          1939,
          1942,
          1942,
          1943,
          1944,
          1945,
          1946,
          1947,
          1947,
          1948,
          1949,
          1950,
          1951,
          1952,
          1953,
          1953,
          1954,
          1955,
          1956,
          1957,
          1958,
          1959,
          1960,
          1961,
          1961,
          1962,
          1963,
          1964,
          1965,
          1966,
          1967,
          1967,
          1968,
          1969,
          1970,
          1970,
          1971,
          1973,
          1973,
          1974,
          1975,
          1976,
          1977,
          1978,
          1979,
          1980,
          1981,
          1982,
          1983,
          1984,
          1985,
          1986,
          1987,
          1987,
          1987,
          1988,
          1989,
          1990,
          1991,
          1992,
          1993,
          1994,
          1995,
          1996,
          1997,
          1998,
          1999,
          1999,
          2000,
          2000,
          2001,
          2002,
          2003,
          2004,
          2005,
          2006,
          2007,
          2007,
          2007,
          2008,
          2008,
          2009,
          2010,
          2011,
          2012,
          2013,
          2014,
          2015,
          2016,
          2017,
          2018,
          2019,
          2020
         ],
         "xaxis": "x",
         "y": [
          1,
          1,
          11,
          11,
          2,
          5,
          3,
          3,
          2,
          7,
          3,
          1,
          3,
          3,
          4,
          19,
          4,
          25,
          18,
          19,
          19,
          4,
          14,
          12,
          14,
          33,
          12,
          13,
          10,
          10,
          3,
          13,
          91,
          31,
          33,
          14,
          14,
          29,
          1,
          35,
          35,
          17,
          7,
          7,
          40,
          4,
          3,
          9,
          7,
          7,
          8,
          24,
          6,
          27,
          10,
          22,
          2,
          13,
          13,
          13,
          5,
          3,
          14,
          10,
          4,
          2,
          16,
          2,
          2,
          3,
          4,
          18,
          18,
          26,
          26,
          17,
          6,
          5,
          57,
          17,
          9,
          22,
          22,
          22,
          35,
          35,
          42,
          4,
          11,
          195,
          9,
          1,
          46,
          15,
          2,
          10,
          8,
          2
         ],
         "yaxis": "y"
        },
        {
         "fillpattern": {
          "shape": ""
         },
         "hovertemplate": "Nation=South African<br>DateAcquired=%{x}<br>Count=%{y}<extra></extra>",
         "legendgroup": "South African",
         "line": {
          "color": "#B6E880"
         },
         "marker": {
          "symbol": "circle"
         },
         "mode": "lines",
         "name": "South African",
         "orientation": "v",
         "showlegend": true,
         "stackgroup": "1",
         "type": "scatter",
         "x": [
          1967,
          1978,
          1998,
          1999,
          2002,
          2005,
          2007,
          2009,
          2010,
          2011,
          2015,
          2017
         ],
         "xaxis": "x",
         "y": [
          2,
          12,
          2,
          3,
          3,
          1,
          2,
          1,
          0,
          10,
          2,
          10
         ],
         "yaxis": "y"
        },
        {
         "fillpattern": {
          "shape": ""
         },
         "hovertemplate": "Nation=Polish<br>DateAcquired=%{x}<br>Count=%{y}<extra></extra>",
         "legendgroup": "Polish",
         "line": {
          "color": "#FF97FF"
         },
         "marker": {
          "symbol": "circle"
         },
         "mode": "lines",
         "name": "Polish",
         "orientation": "v",
         "showlegend": true,
         "stackgroup": "1",
         "type": "scatter",
         "x": [
          1939,
          1940,
          1941,
          1943,
          1947,
          1948,
          1949,
          1951,
          1953,
          1955,
          1956,
          1959,
          1960,
          1961,
          1962,
          1963,
          1964,
          1965,
          1967,
          1968,
          1968,
          1969,
          1970,
          1971,
          1972,
          1973,
          1974,
          1976,
          1977,
          1978,
          1979,
          1980,
          1981,
          1982,
          1983,
          1984,
          1985,
          1986,
          1987,
          1989,
          1990,
          1992,
          1994,
          1998,
          1998,
          1999,
          1999,
          2000,
          2001,
          2006,
          2007,
          2008,
          2008,
          2009,
          2010,
          2011,
          2012,
          2013,
          2014,
          2015,
          2017,
          2018
         ],
         "xaxis": "x",
         "y": [
          1,
          1,
          11,
          2,
          1,
          4,
          4,
          1,
          4,
          8,
          1,
          1,
          5,
          20,
          2,
          2,
          19,
          6,
          8,
          17,
          17,
          4,
          3,
          1,
          6,
          1,
          4,
          1,
          2,
          2,
          11,
          2,
          5,
          3,
          1,
          11,
          22,
          1,
          28,
          1,
          1,
          5,
          1,
          4,
          4,
          1,
          1,
          10,
          1,
          5,
          12,
          4,
          4,
          2,
          5,
          10,
          10,
          3,
          14,
          28,
          1,
          12
         ],
         "yaxis": "y"
        },
        {
         "fillpattern": {
          "shape": ""
         },
         "hovertemplate": "Nation=Zimbabwean<br>DateAcquired=%{x}<br>Count=%{y}<extra></extra>",
         "legendgroup": "Zimbabwean",
         "line": {
          "color": "#FECB52"
         },
         "marker": {
          "symbol": "circle"
         },
         "mode": "lines",
         "name": "Zimbabwean",
         "orientation": "v",
         "showlegend": true,
         "stackgroup": "1",
         "type": "scatter",
         "x": [
          1963
         ],
         "xaxis": "x",
         "y": [
          5
         ],
         "yaxis": "y"
        },
        {
         "fillpattern": {
          "shape": ""
         },
         "hovertemplate": "Nation=Chilean<br>DateAcquired=%{x}<br>Count=%{y}<extra></extra>",
         "legendgroup": "Chilean",
         "line": {
          "color": "#636efa"
         },
         "marker": {
          "symbol": "circle"
         },
         "mode": "lines",
         "name": "Chilean",
         "orientation": "v",
         "showlegend": true,
         "stackgroup": "1",
         "type": "scatter",
         "x": [
          1937,
          1942,
          1943,
          1944,
          1947,
          1949,
          1950,
          1951,
          1952,
          1953,
          1954,
          1956,
          1963,
          1964,
          1965,
          1966,
          1967,
          1968,
          1968,
          1969,
          1969,
          1970,
          1974,
          1977,
          1978,
          1979,
          1980,
          1982,
          1984,
          1987,
          1998,
          2013,
          2014,
          2015,
          2016,
          2018
         ],
         "xaxis": "x",
         "y": [
          1,
          2,
          1,
          2,
          2,
          9,
          1,
          2,
          1,
          3,
          1,
          1,
          32,
          8,
          23,
          2,
          36,
          23,
          23,
          47,
          47,
          7,
          29,
          1,
          2,
          5,
          2,
          9,
          10,
          1,
          1,
          3,
          57,
          9,
          3,
          5
         ],
         "yaxis": "y"
        },
        {
         "fillpattern": {
          "shape": ""
         },
         "hovertemplate": "Nation=Venezuelan<br>DateAcquired=%{x}<br>Count=%{y}<extra></extra>",
         "legendgroup": "Venezuelan",
         "line": {
          "color": "#EF553B"
         },
         "marker": {
          "symbol": "circle"
         },
         "mode": "lines",
         "name": "Venezuelan",
         "orientation": "v",
         "showlegend": true,
         "stackgroup": "1",
         "type": "scatter",
         "x": [
          1956,
          1960,
          1962,
          1963,
          1965,
          1967,
          1967,
          1968,
          1969,
          1970,
          1971,
          1972,
          1973,
          1974,
          1976,
          1982,
          1983,
          2001,
          2003,
          2004,
          2007,
          2008,
          2009,
          2010,
          2013,
          2014,
          2015,
          2016,
          2017,
          2018,
          2019,
          2020
         ],
         "xaxis": "x",
         "y": [
          1,
          2,
          1,
          1,
          7,
          8,
          8,
          5,
          2,
          19,
          2,
          50,
          22,
          49,
          1,
          0,
          1,
          3,
          1,
          8,
          21,
          2,
          5,
          2,
          18,
          91,
          12,
          45,
          9,
          25,
          0,
          16
         ],
         "yaxis": "y"
        },
        {
         "fillpattern": {
          "shape": ""
         },
         "hovertemplate": "Nation=Nationality unknown<br>DateAcquired=%{x}<br>Count=%{y}<extra></extra>",
         "legendgroup": "Nationality unknown",
         "line": {
          "color": "#00cc96"
         },
         "marker": {
          "symbol": "circle"
         },
         "mode": "lines",
         "name": "Nationality unknown",
         "orientation": "v",
         "showlegend": true,
         "stackgroup": "1",
         "type": "scatter",
         "x": [
          1934,
          1935,
          1936,
          1936,
          1937,
          1937,
          1938,
          1939,
          1940,
          1940,
          1941,
          1941,
          1942,
          1942,
          1943,
          1943,
          1944,
          1945,
          1945,
          1946,
          1946,
          1947,
          1948,
          1949,
          1950,
          1950,
          1951,
          1952,
          1953,
          1953,
          1954,
          1955,
          1956,
          1956,
          1956,
          1957,
          1957,
          1958,
          1958,
          1960,
          1960,
          1961,
          1963,
          1964,
          1965,
          1966,
          1967,
          1967,
          1967,
          1967,
          1968,
          1969,
          1970,
          1971,
          1971,
          1972,
          1974,
          1977,
          1978,
          1979,
          1980,
          1982,
          1983,
          1984,
          1987,
          1989,
          1992,
          1995,
          1999,
          1999,
          2000,
          2000,
          2001,
          2001,
          2001,
          2001,
          2008,
          2008,
          2010,
          2011,
          2012,
          2013,
          2014,
          2015,
          2015,
          2016,
          2018
         ],
         "xaxis": "x",
         "y": [
          10,
          0,
          17,
          17,
          18,
          18,
          2,
          6,
          7,
          7,
          18,
          18,
          6,
          6,
          247,
          247,
          11,
          6,
          6,
          7,
          7,
          5,
          7,
          1,
          7,
          7,
          0,
          1,
          7,
          7,
          6,
          8,
          10,
          10,
          10,
          9,
          9,
          34,
          34,
          8,
          8,
          1,
          6,
          16,
          20,
          4,
          19,
          19,
          19,
          19,
          10,
          6,
          11,
          1,
          1,
          1,
          7,
          10,
          38,
          1,
          1,
          1,
          5,
          1,
          4,
          1,
          1,
          1,
          82,
          82,
          1,
          1,
          150,
          150,
          150,
          150,
          3,
          3,
          1,
          22,
          31,
          1,
          2,
          46,
          46,
          4,
          3
         ],
         "yaxis": "y"
        },
        {
         "fillpattern": {
          "shape": ""
         },
         "hovertemplate": "Nation=missing<br>DateAcquired=%{x}<br>Count=%{y}<extra></extra>",
         "legendgroup": "missing",
         "line": {
          "color": "#ab63fa"
         },
         "marker": {
          "symbol": "circle"
         },
         "mode": "lines",
         "name": "missing",
         "orientation": "v",
         "showlegend": true,
         "stackgroup": "1",
         "type": "scatter",
         "x": [
          1934,
          1936,
          1937,
          1938,
          1940,
          1941,
          1942,
          1942,
          1943,
          1944,
          1947,
          1948,
          1949,
          1952,
          1953,
          1954,
          1955,
          1956,
          1957,
          1958,
          1958,
          1959,
          1960,
          1961,
          1962,
          1963,
          1964,
          1965,
          1965,
          1966,
          1967,
          1968,
          1969,
          1970,
          1971,
          1971,
          1973,
          1973,
          1974,
          1974,
          1975,
          1975,
          1975,
          1976,
          1976,
          1977,
          1979,
          1979,
          1981,
          1982,
          1982,
          1983,
          1984,
          1985,
          1986,
          1987,
          1988,
          1989,
          1990,
          1991,
          1992,
          1993,
          1994,
          1995,
          1996,
          1997,
          1998,
          2000,
          2001,
          2001,
          2002,
          2002,
          2002,
          2002,
          2002,
          2002,
          2002,
          2002,
          2002,
          2002,
          2002,
          2002,
          2002,
          2002,
          2002,
          2002,
          2002,
          2003,
          2005,
          2005,
          2005,
          2006,
          2007,
          2007,
          2007,
          2008,
          2008,
          2009,
          2010,
          2010,
          2010,
          2010,
          2011,
          2011,
          2012,
          2012,
          2013,
          2013,
          2014,
          2014,
          2015,
          2015,
          2016,
          2016,
          2016,
          2016,
          2017,
          2017,
          2018,
          2018,
          2019,
          2020
         ],
         "xaxis": "x",
         "y": [
          1,
          2,
          2,
          1,
          3,
          5,
          4,
          4,
          383,
          10,
          4,
          3,
          4,
          1,
          1,
          6,
          1,
          9,
          1,
          3,
          3,
          19,
          2,
          1,
          1,
          10,
          21,
          5,
          5,
          1,
          9,
          3,
          5,
          1,
          254,
          254,
          5,
          5,
          24,
          24,
          90,
          90,
          90,
          2,
          2,
          2,
          9,
          9,
          17,
          9,
          9,
          6,
          6,
          1,
          7,
          2,
          5,
          174,
          12,
          6,
          2,
          8,
          10,
          38,
          6,
          6,
          1,
          5,
          788,
          788,
          14,
          14,
          14,
          14,
          14,
          14,
          14,
          14,
          14,
          14,
          14,
          14,
          14,
          14,
          14,
          14,
          14,
          3,
          120,
          120,
          120,
          0,
          86,
          86,
          86,
          565,
          565,
          22,
          583,
          583,
          583,
          583,
          56,
          56,
          11,
          11,
          79,
          79,
          35,
          35,
          23,
          23,
          15,
          15,
          15,
          15,
          591,
          591,
          14,
          14,
          211,
          25
         ],
         "yaxis": "y"
        },
        {
         "fillpattern": {
          "shape": ""
         },
         "hovertemplate": "Nation=Nigerian<br>DateAcquired=%{x}<br>Count=%{y}<extra></extra>",
         "legendgroup": "Nigerian",
         "line": {
          "color": "#FFA15A"
         },
         "marker": {
          "symbol": "circle"
         },
         "mode": "lines",
         "name": "Nigerian",
         "orientation": "v",
         "showlegend": true,
         "stackgroup": "1",
         "type": "scatter",
         "x": [
          2013,
          2015
         ],
         "xaxis": "x",
         "y": [
          3,
          6
         ],
         "yaxis": "y"
        },
        {
         "fillpattern": {
          "shape": ""
         },
         "hovertemplate": "Nation=Scottish<br>DateAcquired=%{x}<br>Count=%{y}<extra></extra>",
         "legendgroup": "Scottish",
         "line": {
          "color": "#19d3f3"
         },
         "marker": {
          "symbol": "circle"
         },
         "mode": "lines",
         "name": "Scottish",
         "orientation": "v",
         "showlegend": true,
         "stackgroup": "1",
         "type": "scatter",
         "x": [
          1948
         ],
         "xaxis": "x",
         "y": [
          1
         ],
         "yaxis": "y"
        },
        {
         "fillpattern": {
          "shape": ""
         },
         "hovertemplate": "Nation=Swedish<br>DateAcquired=%{x}<br>Count=%{y}<extra></extra>",
         "legendgroup": "Swedish",
         "line": {
          "color": "#FF6692"
         },
         "marker": {
          "symbol": "circle"
         },
         "mode": "lines",
         "name": "Swedish",
         "orientation": "v",
         "showlegend": true,
         "stackgroup": "1",
         "type": "scatter",
         "x": [
          1934,
          1941,
          1942,
          1943,
          1944,
          1947,
          1948,
          1949,
          1950,
          1951,
          1953,
          1954,
          1955,
          1956,
          1956,
          1958,
          1959,
          1960,
          1961,
          1962,
          1962,
          1964,
          1965,
          1966,
          1967,
          1968,
          1969,
          1971,
          1972,
          1974,
          1976,
          1978,
          1980,
          1983,
          1984,
          1985,
          1986,
          1987,
          1988,
          1990,
          1990,
          1990,
          1992,
          1993,
          1996,
          2000,
          2001,
          2004,
          2005,
          2006,
          2008,
          2009,
          2012,
          2016,
          2016,
          2018
         ],
         "xaxis": "x",
         "y": [
          1,
          1,
          1,
          1,
          1,
          4,
          4,
          4,
          1,
          1,
          1,
          4,
          1,
          3,
          3,
          8,
          5,
          7,
          7,
          2,
          2,
          9,
          2,
          4,
          11,
          1,
          2,
          3,
          1,
          2,
          1,
          20,
          1,
          2,
          3,
          1,
          2,
          2,
          1,
          31,
          31,
          31,
          2,
          5,
          2,
          2,
          5,
          1,
          2,
          2,
          4,
          2,
          1,
          10,
          10,
          3
         ],
         "yaxis": "y"
        },
        {
         "fillpattern": {
          "shape": ""
         },
         "hovertemplate": "Nation=Korean<br>DateAcquired=%{x}<br>Count=%{y}<extra></extra>",
         "legendgroup": "Korean",
         "line": {
          "color": "#B6E880"
         },
         "marker": {
          "symbol": "circle"
         },
         "mode": "lines",
         "name": "Korean",
         "orientation": "v",
         "showlegend": true,
         "stackgroup": "1",
         "type": "scatter",
         "x": [
          1956,
          1958,
          1960,
          1965,
          1973,
          1975,
          1976,
          2010,
          2015,
          2017
         ],
         "xaxis": "x",
         "y": [
          3,
          2,
          1,
          1,
          1,
          3,
          1,
          1,
          2,
          1
         ],
         "yaxis": "y"
        },
        {
         "fillpattern": {
          "shape": ""
         },
         "hovertemplate": "Nation=Spanish<br>DateAcquired=%{x}<br>Count=%{y}<extra></extra>",
         "legendgroup": "Spanish",
         "line": {
          "color": "#FF97FF"
         },
         "marker": {
          "symbol": "circle"
         },
         "mode": "lines",
         "name": "Spanish",
         "orientation": "v",
         "showlegend": true,
         "stackgroup": "1",
         "type": "scatter",
         "x": [
          1930,
          1934,
          1935,
          1936,
          1937,
          1938,
          1939,
          1940,
          1941,
          1942,
          1943,
          1944,
          1945,
          1947,
          1948,
          1949,
          1950,
          1951,
          1952,
          1953,
          1954,
          1955,
          1956,
          1957,
          1958,
          1959,
          1960,
          1961,
          1962,
          1963,
          1964,
          1965,
          1965,
          1966,
          1967,
          1968,
          1969,
          1970,
          1971,
          1972,
          1973,
          1974,
          1975,
          1976,
          1976,
          1977,
          1978,
          1979,
          1980,
          1981,
          1982,
          1983,
          1984,
          1985,
          1986,
          1987,
          1988,
          1990,
          1991,
          1992,
          1993,
          1994,
          1995,
          1996,
          1997,
          1998,
          1999,
          2000,
          2001,
          2002,
          2003,
          2004,
          2005,
          2006,
          2007,
          2008,
          2009,
          2010,
          2011,
          2012,
          2013,
          2015,
          2016,
          2017,
          2018,
          2019
         ],
         "xaxis": "x",
         "y": [
          1,
          16,
          2,
          12,
          22,
          1,
          8,
          25,
          1,
          4,
          2,
          1,
          13,
          22,
          25,
          144,
          5,
          30,
          21,
          13,
          11,
          29,
          42,
          10,
          33,
          34,
          10,
          4,
          10,
          11,
          1191,
          47,
          47,
          7,
          25,
          12,
          19,
          39,
          4,
          63,
          27,
          32,
          22,
          19,
          19,
          3,
          27,
          33,
          7,
          21,
          1,
          8,
          5,
          28,
          9,
          15,
          1,
          16,
          21,
          54,
          3,
          7,
          18,
          20,
          16,
          1,
          7,
          1,
          12,
          1,
          3,
          2,
          3,
          2,
          4,
          3,
          9,
          2,
          1,
          67,
          2,
          5,
          11,
          6,
          4,
          1
         ],
         "yaxis": "y"
        },
        {
         "fillpattern": {
          "shape": ""
         },
         "hovertemplate": "Nation=Colombian<br>DateAcquired=%{x}<br>Count=%{y}<extra></extra>",
         "legendgroup": "Colombian",
         "line": {
          "color": "#FECB52"
         },
         "marker": {
          "symbol": "circle"
         },
         "mode": "lines",
         "name": "Colombian",
         "orientation": "v",
         "showlegend": true,
         "stackgroup": "1",
         "type": "scatter",
         "x": [
          1942,
          1954,
          1956,
          1961,
          1963,
          1964,
          1965,
          1966,
          1967,
          1968,
          1970,
          1973,
          1974,
          1976,
          1982,
          2005,
          2007,
          2009,
          2014,
          2015,
          2017,
          2018
         ],
         "xaxis": "x",
         "y": [
          6,
          1,
          1,
          1,
          7,
          2,
          33,
          1,
          3,
          16,
          2,
          7,
          7,
          4,
          1,
          16,
          6,
          36,
          4,
          5,
          2,
          1
         ],
         "yaxis": "y"
        },
        {
         "fillpattern": {
          "shape": ""
         },
         "hovertemplate": "Nation=Argentine<br>DateAcquired=%{x}<br>Count=%{y}<extra></extra>",
         "legendgroup": "Argentine",
         "line": {
          "color": "#636efa"
         },
         "marker": {
          "symbol": "circle"
         },
         "mode": "lines",
         "name": "Argentine",
         "orientation": "v",
         "showlegend": true,
         "stackgroup": "1",
         "type": "scatter",
         "x": [
          1942,
          1943,
          1954,
          1956,
          1957,
          1958,
          1962,
          1963,
          1964,
          1965,
          1966,
          1966,
          1967,
          1968,
          1969,
          1970,
          1972,
          1973,
          1974,
          1979,
          1981,
          1990,
          1991,
          1992,
          1994,
          1997,
          2000,
          2001,
          2003,
          2004,
          2006,
          2007,
          2008,
          2009,
          2010,
          2011,
          2012,
          2013,
          2014,
          2015,
          2016,
          2017,
          2018,
          2019
         ],
         "xaxis": "x",
         "y": [
          27,
          1,
          29,
          2,
          2,
          2,
          1,
          4,
          9,
          6,
          5,
          5,
          46,
          22,
          63,
          1,
          11,
          19,
          2,
          4,
          1,
          6,
          2,
          1,
          3,
          3,
          1,
          2,
          5,
          1,
          1,
          93,
          4,
          11,
          10,
          15,
          22,
          6,
          36,
          32,
          34,
          8,
          6,
          2
         ],
         "yaxis": "y"
        },
        {
         "fillpattern": {
          "shape": ""
         },
         "hovertemplate": "Nation=Italian<br>DateAcquired=%{x}<br>Count=%{y}<extra></extra>",
         "legendgroup": "Italian",
         "line": {
          "color": "#EF553B"
         },
         "marker": {
          "symbol": "circle"
         },
         "mode": "lines",
         "name": "Italian",
         "orientation": "v",
         "showlegend": true,
         "stackgroup": "1",
         "type": "scatter",
         "x": [
          1932,
          1934,
          1935,
          1936,
          1937,
          1938,
          1939,
          1940,
          1941,
          1943,
          1944,
          1945,
          1946,
          1947,
          1948,
          1949,
          1949,
          1950,
          1951,
          1952,
          1953,
          1954,
          1955,
          1956,
          1957,
          1958,
          1958,
          1959,
          1960,
          1961,
          1962,
          1962,
          1963,
          1963,
          1964,
          1965,
          1965,
          1966,
          1967,
          1967,
          1967,
          1968,
          1969,
          1970,
          1971,
          1972,
          1973,
          1974,
          1975,
          1976,
          1977,
          1978,
          1978,
          1979,
          1980,
          1981,
          1982,
          1983,
          1984,
          1985,
          1986,
          1987,
          1988,
          1989,
          1990,
          1991,
          1992,
          1993,
          1994,
          1995,
          1995,
          1996,
          1996,
          1997,
          1998,
          1999,
          2000,
          2001,
          2002,
          2003,
          2004,
          2005,
          2006,
          2007,
          2008,
          2008,
          2010,
          2011,
          2012,
          2013,
          2015,
          2015,
          2016,
          2016,
          2017,
          2018
         ],
         "xaxis": "x",
         "y": [
          1,
          2,
          3,
          2,
          1,
          4,
          1,
          3,
          4,
          4,
          1,
          4,
          1,
          2,
          6,
          89,
          89,
          7,
          5,
          9,
          17,
          26,
          15,
          46,
          11,
          37,
          37,
          7,
          13,
          5,
          10,
          10,
          30,
          30,
          146,
          94,
          94,
          74,
          69,
          69,
          69,
          65,
          29,
          10,
          1,
          28,
          17,
          112,
          3,
          21,
          14,
          39,
          39,
          40,
          5,
          21,
          1,
          7,
          5,
          9,
          25,
          16,
          5,
          3,
          2,
          1,
          32,
          1,
          3,
          8,
          8,
          9,
          9,
          19,
          5,
          4,
          41,
          27,
          1,
          8,
          5,
          16,
          8,
          11,
          23,
          23,
          114,
          7,
          191,
          154,
          65,
          65,
          60,
          60,
          15,
          18
         ],
         "yaxis": "y"
        },
        {
         "fillpattern": {
          "shape": ""
         },
         "hovertemplate": "Nation=Paraguayan<br>DateAcquired=%{x}<br>Count=%{y}<extra></extra>",
         "legendgroup": "Paraguayan",
         "line": {
          "color": "#00cc96"
         },
         "marker": {
          "symbol": "circle"
         },
         "mode": "lines",
         "name": "Paraguayan",
         "orientation": "v",
         "showlegend": true,
         "stackgroup": "1",
         "type": "scatter",
         "x": [
          1969
         ],
         "xaxis": "x",
         "y": [
          1
         ],
         "yaxis": "y"
        },
        {
         "fillpattern": {
          "shape": ""
         },
         "hovertemplate": "Nation=Slovenian<br>DateAcquired=%{x}<br>Count=%{y}<extra></extra>",
         "legendgroup": "Slovenian",
         "line": {
          "color": "#ab63fa"
         },
         "marker": {
          "symbol": "circle"
         },
         "mode": "lines",
         "name": "Slovenian",
         "orientation": "v",
         "showlegend": true,
         "stackgroup": "1",
         "type": "scatter",
         "x": [
          1952,
          1953,
          1954,
          1958,
          1964,
          1967,
          2010,
          2012,
          2015,
          2017,
          2018
         ],
         "xaxis": "x",
         "y": [
          1,
          1,
          4,
          1,
          2,
          1,
          1,
          0,
          2,
          1,
          1
         ],
         "yaxis": "y"
        },
        {
         "fillpattern": {
          "shape": ""
         },
         "hovertemplate": "Nation=Panamanian<br>DateAcquired=%{x}<br>Count=%{y}<extra></extra>",
         "legendgroup": "Panamanian",
         "line": {
          "color": "#FFA15A"
         },
         "marker": {
          "symbol": "circle"
         },
         "mode": "lines",
         "name": "Panamanian",
         "orientation": "v",
         "showlegend": true,
         "stackgroup": "1",
         "type": "scatter",
         "x": [
          1963,
          1964
         ],
         "xaxis": "x",
         "y": [
          2,
          1
         ],
         "yaxis": "y"
        },
        {
         "fillpattern": {
          "shape": ""
         },
         "hovertemplate": "Nation=New Zealander<br>DateAcquired=%{x}<br>Count=%{y}<extra></extra>",
         "legendgroup": "New Zealander",
         "line": {
          "color": "#19d3f3"
         },
         "marker": {
          "symbol": "circle"
         },
         "mode": "lines",
         "name": "New Zealander",
         "orientation": "v",
         "showlegend": true,
         "stackgroup": "1",
         "type": "scatter",
         "x": [
          2008
         ],
         "xaxis": "x",
         "y": [
          0
         ],
         "yaxis": "y"
        },
        {
         "fillpattern": {
          "shape": ""
         },
         "hovertemplate": "Nation=Irish<br>DateAcquired=%{x}<br>Count=%{y}<extra></extra>",
         "legendgroup": "Irish",
         "line": {
          "color": "#FF6692"
         },
         "marker": {
          "symbol": "circle"
         },
         "mode": "lines",
         "name": "Irish",
         "orientation": "v",
         "showlegend": true,
         "stackgroup": "1",
         "type": "scatter",
         "x": [
          1956,
          1958,
          1961,
          1964,
          1967,
          1971,
          1977
         ],
         "xaxis": "x",
         "y": [
          1,
          1,
          1,
          1,
          0,
          7,
          1
         ],
         "yaxis": "y"
        },
        {
         "fillpattern": {
          "shape": ""
         },
         "hovertemplate": "Nation=American<br>DateAcquired=%{x}<br>Count=%{y}<extra></extra>",
         "legendgroup": "American",
         "line": {
          "color": "#B6E880"
         },
         "marker": {
          "symbol": "circle"
         },
         "mode": "lines",
         "name": "American",
         "orientation": "v",
         "showlegend": true,
         "stackgroup": "1",
         "type": "scatter",
         "x": [
          1929,
          1930,
          1931,
          1932,
          1933,
          1934,
          1934,
          1935,
          1935,
          1935,
          1936,
          1937,
          1937,
          1938,
          1939,
          1940,
          1940,
          1941,
          1941,
          1941,
          1942,
          1942,
          1942,
          1943,
          1943,
          1944,
          1944,
          1944,
          1945,
          1946,
          1947,
          1948,
          1948,
          1948,
          1949,
          1949,
          1950,
          1950,
          1951,
          1951,
          1952,
          1952,
          1953,
          1954,
          1954,
          1955,
          1955,
          1956,
          1956,
          1956,
          1957,
          1957,
          1957,
          1958,
          1959,
          1959,
          1960,
          1960,
          1961,
          1962,
          1963,
          1963,
          1963,
          1964,
          1964,
          1965,
          1966,
          1966,
          1966,
          1967,
          1967,
          1967,
          1968,
          1968,
          1968,
          1969,
          1969,
          1969,
          1970,
          1970,
          1970,
          1970,
          1971,
          1971,
          1972,
          1972,
          1972,
          1972,
          1973,
          1973,
          1973,
          1973,
          1974,
          1974,
          1974,
          1975,
          1975,
          1975,
          1976,
          1976,
          1976,
          1976,
          1977,
          1977,
          1977,
          1977,
          1978,
          1979,
          1979,
          1979,
          1980,
          1980,
          1980,
          1980,
          1981,
          1981,
          1981,
          1982,
          1983,
          1983,
          1983,
          1984,
          1984,
          1985,
          1985,
          1986,
          1987,
          1988,
          1989,
          1989,
          1990,
          1990,
          1991,
          1991,
          1992,
          1993,
          1994,
          1994,
          1995,
          1995,
          1995,
          1996,
          1996,
          1997,
          1998,
          1998,
          1998,
          1999,
          1999,
          1999,
          1999,
          2000,
          2000,
          2001,
          2001,
          2001,
          2002,
          2002,
          2003,
          2004,
          2004,
          2005,
          2006,
          2007,
          2007,
          2007,
          2008,
          2008,
          2009,
          2009,
          2009,
          2010,
          2010,
          2011,
          2011,
          2012,
          2012,
          2012,
          2012,
          2013,
          2013,
          2013,
          2013,
          2014,
          2014,
          2014,
          2015,
          2015,
          2015,
          2015,
          2016,
          2016,
          2016,
          2017,
          2017,
          2018,
          2018,
          2018,
          2018,
          2019,
          2020
         ],
         "xaxis": "x",
         "y": [
          3,
          2,
          1,
          3,
          92,
          110,
          110,
          261,
          261,
          261,
          36,
          105,
          105,
          87,
          250,
          1035,
          1035,
          654,
          654,
          654,
          561,
          561,
          561,
          221,
          221,
          218,
          218,
          218,
          46,
          61,
          216,
          124,
          124,
          124,
          237,
          237,
          151,
          151,
          130,
          130,
          198,
          198,
          158,
          161,
          161,
          108,
          108,
          279,
          279,
          279,
          105,
          105,
          105,
          86,
          481,
          481,
          220,
          220,
          265,
          212,
          562,
          562,
          562,
          1419,
          1419,
          650,
          837,
          837,
          837,
          1113,
          1113,
          1113,
          1036,
          1036,
          1036,
          1555,
          1555,
          1555,
          743,
          743,
          743,
          743,
          454,
          454,
          383,
          383,
          383,
          383,
          517,
          517,
          517,
          517,
          2603,
          2603,
          2603,
          621,
          621,
          621,
          493,
          493,
          493,
          493,
          655,
          655,
          655,
          655,
          533,
          580,
          580,
          580,
          344,
          344,
          344,
          344,
          426,
          426,
          426,
          199,
          264,
          264,
          264,
          301,
          301,
          224,
          224,
          234,
          304,
          122,
          159,
          159,
          341,
          341,
          163,
          163,
          304,
          285,
          258,
          258,
          508,
          508,
          508,
          152,
          152,
          220,
          228,
          228,
          228,
          278,
          278,
          278,
          278,
          700,
          700,
          590,
          590,
          590,
          98,
          98,
          123,
          134,
          134,
          433,
          86,
          328,
          328,
          328,
          2011,
          2011,
          277,
          277,
          277,
          235,
          235,
          288,
          288,
          420,
          420,
          420,
          420,
          377,
          377,
          377,
          377,
          240,
          240,
          240,
          531,
          531,
          531,
          531,
          249,
          249,
          249,
          141,
          141,
          574,
          574,
          574,
          574,
          237,
          19
         ],
         "yaxis": "y"
        },
        {
         "fillpattern": {
          "shape": ""
         },
         "hovertemplate": "Nation=Icelandic<br>DateAcquired=%{x}<br>Count=%{y}<extra></extra>",
         "legendgroup": "Icelandic",
         "line": {
          "color": "#FF97FF"
         },
         "marker": {
          "symbol": "circle"
         },
         "mode": "lines",
         "name": "Icelandic",
         "orientation": "v",
         "showlegend": true,
         "stackgroup": "1",
         "type": "scatter",
         "x": [
          1953,
          1961,
          1964,
          1992,
          1997,
          2000
         ],
         "xaxis": "x",
         "y": [
          1,
          3,
          1,
          1,
          1,
          3
         ],
         "yaxis": "y"
        },
        {
         "fillpattern": {
          "shape": ""
         },
         "hovertemplate": "Nation=Belgian<br>DateAcquired=%{x}<br>Count=%{y}<extra></extra>",
         "legendgroup": "Belgian",
         "line": {
          "color": "#FECB52"
         },
         "marker": {
          "symbol": "circle"
         },
         "mode": "lines",
         "name": "Belgian",
         "orientation": "v",
         "showlegend": true,
         "stackgroup": "1",
         "type": "scatter",
         "x": [
          1937,
          1939,
          1940,
          1941,
          1941,
          1942,
          1943,
          1944,
          1946,
          1947,
          1949,
          1950,
          1951,
          1952,
          1953,
          1954,
          1955,
          1956,
          1958,
          1959,
          1960,
          1961,
          1962,
          1963,
          1964,
          1966,
          1967,
          1967,
          1968,
          1969,
          1970,
          1972,
          1973,
          1974,
          1976,
          1977,
          1978,
          1979,
          1980,
          1981,
          1982,
          1983,
          1984,
          1985,
          1986,
          1987,
          1988,
          1989,
          1990,
          1991,
          1992,
          1994,
          1995,
          1998,
          1999,
          2001,
          2002,
          2004,
          2005,
          2007,
          2008,
          2009,
          2011,
          2011,
          2011,
          2012,
          2013,
          2014,
          2015,
          2016,
          2018,
          2018
         ],
         "xaxis": "x",
         "y": [
          2,
          1,
          1,
          1,
          1,
          4,
          1,
          1,
          1,
          1,
          210,
          1,
          9,
          4,
          1,
          12,
          4,
          8,
          7,
          2,
          46,
          1,
          6,
          7,
          133,
          26,
          18,
          18,
          10,
          3,
          1,
          6,
          3,
          1,
          4,
          2,
          289,
          24,
          2,
          12,
          5,
          1,
          3,
          6,
          1,
          4,
          54,
          1,
          1,
          17,
          3,
          2,
          2,
          3,
          1,
          7,
          1,
          1,
          3,
          3,
          1,
          4,
          84,
          84,
          84,
          2,
          3,
          1,
          12,
          1,
          2,
          2
         ],
         "yaxis": "y"
        },
        {
         "fillpattern": {
          "shape": ""
         },
         "hovertemplate": "Nation=Chinese<br>DateAcquired=%{x}<br>Count=%{y}<extra></extra>",
         "legendgroup": "Chinese",
         "line": {
          "color": "#636efa"
         },
         "marker": {
          "symbol": "circle"
         },
         "mode": "lines",
         "name": "Chinese",
         "orientation": "v",
         "showlegend": true,
         "stackgroup": "1",
         "type": "scatter",
         "x": [
          1942,
          1948,
          1964,
          1967
         ],
         "xaxis": "x",
         "y": [
          0,
          1,
          1,
          3
         ],
         "yaxis": "y"
        },
        {
         "fillpattern": {
          "shape": ""
         },
         "hovertemplate": "Nation=Sudanese<br>DateAcquired=%{x}<br>Count=%{y}<extra></extra>",
         "legendgroup": "Sudanese",
         "line": {
          "color": "#EF553B"
         },
         "marker": {
          "symbol": "circle"
         },
         "mode": "lines",
         "name": "Sudanese",
         "orientation": "v",
         "showlegend": true,
         "stackgroup": "1",
         "type": "scatter",
         "x": [
          1965,
          2017
         ],
         "xaxis": "x",
         "y": [
          1,
          36
         ],
         "yaxis": "y"
        },
        {
         "fillpattern": {
          "shape": ""
         },
         "hovertemplate": "Nation=Peruvian<br>DateAcquired=%{x}<br>Count=%{y}<extra></extra>",
         "legendgroup": "Peruvian",
         "line": {
          "color": "#00cc96"
         },
         "marker": {
          "symbol": "circle"
         },
         "mode": "lines",
         "name": "Peruvian",
         "orientation": "v",
         "showlegend": true,
         "stackgroup": "1",
         "type": "scatter",
         "x": [
          1942,
          1952,
          1965,
          1966,
          1968,
          1969,
          1979,
          1982,
          1987,
          1992,
          2012,
          2014,
          2015,
          2019
         ],
         "xaxis": "x",
         "y": [
          2,
          9,
          1,
          1,
          5,
          6,
          3,
          3,
          2,
          2,
          26,
          21,
          1,
          1
         ],
         "yaxis": "y"
        },
        {
         "fillpattern": {
          "shape": ""
         },
         "hovertemplate": "Nation=Japanese<br>DateAcquired=%{x}<br>Count=%{y}<extra></extra>",
         "legendgroup": "Japanese",
         "line": {
          "color": "#ab63fa"
         },
         "marker": {
          "symbol": "circle"
         },
         "mode": "lines",
         "name": "Japanese",
         "orientation": "v",
         "showlegend": true,
         "stackgroup": "1",
         "type": "scatter",
         "x": [
          1940,
          1943,
          1949,
          1952,
          1954,
          1954,
          1954,
          1955,
          1956,
          1957,
          1958,
          1959,
          1959,
          1960,
          1961,
          1962,
          1963,
          1964,
          1965,
          1965,
          1966,
          1967,
          1967,
          1968,
          1969,
          1969,
          1970,
          1971,
          1972,
          1973,
          1974,
          1975,
          1976,
          1977,
          1978,
          1979,
          1980,
          1980,
          1981,
          1982,
          1983,
          1983,
          1984,
          1985,
          1986,
          1987,
          1989,
          1990,
          1991,
          1992,
          1993,
          1994,
          1996,
          1996,
          1997,
          1998,
          1999,
          2000,
          2001,
          2002,
          2005,
          2006,
          2007,
          2007,
          2007,
          2008,
          2008,
          2009,
          2010,
          2011,
          2012,
          2013,
          2013,
          2014,
          2015,
          2015,
          2016,
          2018,
          2018,
          2019
         ],
         "xaxis": "x",
         "y": [
          0,
          2,
          1,
          1,
          43,
          43,
          43,
          6,
          4,
          10,
          9,
          123,
          123,
          6,
          6,
          1,
          11,
          23,
          91,
          91,
          31,
          24,
          24,
          18,
          22,
          22,
          23,
          31,
          23,
          23,
          56,
          4,
          62,
          99,
          55,
          32,
          11,
          11,
          14,
          17,
          10,
          10,
          3,
          1,
          5,
          4,
          0,
          16,
          28,
          4,
          1,
          4,
          4,
          4,
          2,
          4,
          4,
          21,
          14,
          2,
          6,
          1,
          176,
          176,
          176,
          181,
          181,
          5,
          33,
          2,
          34,
          20,
          20,
          23,
          30,
          30,
          18,
          6,
          6,
          9
         ],
         "yaxis": "y"
        },
        {
         "fillpattern": {
          "shape": ""
         },
         "hovertemplate": "Nation=Malian<br>DateAcquired=%{x}<br>Count=%{y}<extra></extra>",
         "legendgroup": "Malian",
         "line": {
          "color": "#FFA15A"
         },
         "marker": {
          "symbol": "circle"
         },
         "mode": "lines",
         "name": "Malian",
         "orientation": "v",
         "showlegend": true,
         "stackgroup": "1",
         "type": "scatter",
         "x": [
          1997,
          2001,
          2003,
          2018,
          2019
         ],
         "xaxis": "x",
         "y": [
          3,
          1,
          5,
          4,
          7
         ],
         "yaxis": "y"
        },
        {
         "fillpattern": {
          "shape": ""
         },
         "hovertemplate": "Nation=Czech<br>DateAcquired=%{x}<br>Count=%{y}<extra></extra>",
         "legendgroup": "Czech",
         "line": {
          "color": "#19d3f3"
         },
         "marker": {
          "symbol": "circle"
         },
         "mode": "lines",
         "name": "Czech",
         "orientation": "v",
         "showlegend": true,
         "stackgroup": "1",
         "type": "scatter",
         "x": [
          1942,
          1943,
          1946,
          1947,
          1951,
          1953,
          1956,
          1957,
          1958,
          1963,
          1964,
          1965,
          1966,
          1967,
          1967,
          1968,
          1969,
          1970,
          1971,
          1973,
          1975,
          1976,
          1977,
          1978,
          1979,
          1981,
          1982,
          1983,
          1984,
          1985,
          1986,
          1987,
          1988,
          1989,
          1990,
          1999,
          1999,
          2000,
          2001,
          2005,
          2006,
          2008,
          2008,
          2010,
          2011,
          2012,
          2013,
          2014,
          2015,
          2016,
          2018
         ],
         "xaxis": "x",
         "y": [
          3,
          1,
          1,
          1,
          1,
          4,
          35,
          4,
          2,
          1,
          13,
          1,
          120,
          61,
          61,
          5,
          5,
          3,
          18,
          17,
          11,
          2,
          6,
          3,
          3,
          25,
          3,
          3,
          1,
          5,
          1,
          5,
          2,
          2,
          2,
          95,
          95,
          3,
          16,
          2,
          0,
          131,
          131,
          3,
          1,
          1,
          5,
          19,
          13,
          2,
          4
         ],
         "yaxis": "y"
        },
        {
         "fillpattern": {
          "shape": ""
         },
         "hovertemplate": "Nation=Ecuadorian<br>DateAcquired=%{x}<br>Count=%{y}<extra></extra>",
         "legendgroup": "Ecuadorian",
         "line": {
          "color": "#FF6692"
         },
         "marker": {
          "symbol": "circle"
         },
         "mode": "lines",
         "name": "Ecuadorian",
         "orientation": "v",
         "showlegend": true,
         "stackgroup": "1",
         "type": "scatter",
         "x": [
          1942,
          1943
         ],
         "xaxis": "x",
         "y": [
          1,
          1
         ],
         "yaxis": "y"
        },
        {
         "fillpattern": {
          "shape": ""
         },
         "hovertemplate": "Nation=Mexican<br>DateAcquired=%{x}<br>Count=%{y}<extra></extra>",
         "legendgroup": "Mexican",
         "line": {
          "color": "#B6E880"
         },
         "marker": {
          "symbol": "circle"
         },
         "mode": "lines",
         "name": "Mexican",
         "orientation": "v",
         "showlegend": true,
         "stackgroup": "1",
         "type": "scatter",
         "x": [
          1935,
          1936,
          1937,
          1938,
          1939,
          1940,
          1940,
          1941,
          1942,
          1942,
          1942,
          1943,
          1944,
          1944,
          1945,
          1946,
          1947,
          1948,
          1949,
          1949,
          1950,
          1951,
          1952,
          1953,
          1954,
          1954,
          1955,
          1956,
          1956,
          1957,
          1958,
          1959,
          1961,
          1962,
          1963,
          1964,
          1965,
          1965,
          1965,
          1967,
          1968,
          1968,
          1969,
          1969,
          1969,
          1970,
          1971,
          1971,
          1972,
          1973,
          1974,
          1975,
          1976,
          1977,
          1978,
          1978,
          1979,
          1980,
          1983,
          1985,
          1986,
          1987,
          1988,
          1992,
          1993,
          1995,
          1997,
          1998,
          2001,
          2004,
          2008,
          2010,
          2012,
          2012,
          2014,
          2015,
          2016,
          2017,
          2018,
          2020
         ],
         "xaxis": "x",
         "y": [
          48,
          1,
          3,
          2,
          1,
          30,
          30,
          28,
          101,
          101,
          101,
          21,
          45,
          45,
          2,
          1,
          3,
          1,
          62,
          62,
          1,
          2,
          2,
          2,
          65,
          65,
          1,
          18,
          18,
          4,
          1,
          1,
          2,
          2,
          13,
          66,
          81,
          81,
          81,
          48,
          9,
          9,
          56,
          56,
          56,
          12,
          1,
          1,
          9,
          9,
          36,
          2,
          1,
          4,
          13,
          13,
          9,
          1,
          7,
          1,
          3,
          3,
          1,
          2,
          4,
          2,
          1,
          15,
          6,
          2,
          7,
          1,
          1,
          1,
          79,
          1,
          8,
          1,
          1,
          6
         ],
         "yaxis": "y"
        },
        {
         "fillpattern": {
          "shape": ""
         },
         "hovertemplate": "Nation=Costa Rican<br>DateAcquired=%{x}<br>Count=%{y}<extra></extra>",
         "legendgroup": "Costa Rican",
         "line": {
          "color": "#FF97FF"
         },
         "marker": {
          "symbol": "circle"
         },
         "mode": "lines",
         "name": "Costa Rican",
         "orientation": "v",
         "showlegend": true,
         "stackgroup": "1",
         "type": "scatter",
         "x": [
          1943
         ],
         "xaxis": "x",
         "y": [
          2
         ],
         "yaxis": "y"
        },
        {
         "fillpattern": {
          "shape": ""
         },
         "hovertemplate": "Nation=Canadian<br>DateAcquired=%{x}<br>Count=%{y}<extra></extra>",
         "legendgroup": "Canadian",
         "line": {
          "color": "#FECB52"
         },
         "marker": {
          "symbol": "circle"
         },
         "mode": "lines",
         "name": "Canadian",
         "orientation": "v",
         "showlegend": true,
         "stackgroup": "1",
         "type": "scatter",
         "x": [
          1941,
          1951,
          1953,
          1954,
          1955,
          1956,
          1957,
          1959,
          1960,
          1961,
          1962,
          1963,
          1964,
          1965,
          1966,
          1967,
          1968,
          1969,
          1970,
          1971,
          1972,
          1973,
          1976,
          1977,
          1979,
          1980,
          1982,
          1983,
          1984,
          1987,
          1988,
          1992,
          1994,
          1995,
          1999,
          2003,
          2005,
          2006,
          2007,
          2008,
          2008,
          2011,
          2012,
          2013,
          2013,
          2014,
          2015,
          2016,
          2018
         ],
         "xaxis": "x",
         "y": [
          5,
          1,
          22,
          5,
          3,
          2,
          1,
          1,
          4,
          12,
          2,
          4,
          6,
          9,
          3,
          48,
          2,
          2,
          1,
          22,
          1,
          2,
          1,
          1,
          1,
          1,
          2,
          2,
          1,
          1,
          1,
          2,
          1,
          2,
          1,
          3,
          3,
          1,
          15,
          21,
          21,
          8,
          1,
          3,
          3,
          1,
          2,
          0,
          4
         ],
         "yaxis": "y"
        },
        {
         "fillpattern": {
          "shape": ""
         },
         "hovertemplate": "Nation=Bolivian<br>DateAcquired=%{x}<br>Count=%{y}<extra></extra>",
         "legendgroup": "Bolivian",
         "line": {
          "color": "#636efa"
         },
         "marker": {
          "symbol": "circle"
         },
         "mode": "lines",
         "name": "Bolivian",
         "orientation": "v",
         "showlegend": true,
         "stackgroup": "1",
         "type": "scatter",
         "x": [
          1930,
          1941
         ],
         "xaxis": "x",
         "y": [
          1,
          1
         ],
         "yaxis": "y"
        },
        {
         "fillpattern": {
          "shape": ""
         },
         "hovertemplate": "Nation=Czechoslovakian<br>DateAcquired=%{x}<br>Count=%{y}<extra></extra>",
         "legendgroup": "Czechoslovakian",
         "line": {
          "color": "#EF553B"
         },
         "marker": {
          "symbol": "circle"
         },
         "mode": "lines",
         "name": "Czechoslovakian",
         "orientation": "v",
         "showlegend": true,
         "stackgroup": "1",
         "type": "scatter",
         "x": [
          1937,
          1953,
          1999
         ],
         "xaxis": "x",
         "y": [
          1,
          1,
          1
         ],
         "yaxis": "y"
        },
        {
         "fillpattern": {
          "shape": ""
         },
         "hovertemplate": "Nation=Finnish<br>DateAcquired=%{x}<br>Count=%{y}<extra></extra>",
         "legendgroup": "Finnish",
         "line": {
          "color": "#00cc96"
         },
         "marker": {
          "symbol": "circle"
         },
         "mode": "lines",
         "name": "Finnish",
         "orientation": "v",
         "showlegend": true,
         "stackgroup": "1",
         "type": "scatter",
         "x": [
          1942,
          1943,
          1946,
          1948,
          1949,
          1950,
          1951,
          1953,
          1954,
          1955,
          1956,
          1957,
          1958,
          1960,
          1961,
          1962,
          1964,
          1965,
          1966,
          1967,
          1969,
          1977,
          1980,
          1981,
          1983,
          1984,
          1986,
          1987,
          1990,
          1991,
          1992,
          1994,
          1995,
          1997,
          1998,
          1999,
          2000,
          2001,
          2002,
          2004,
          2005,
          2012,
          2016,
          2016,
          2018,
          2018
         ],
         "xaxis": "x",
         "y": [
          2,
          6,
          5,
          1,
          1,
          1,
          0,
          2,
          2,
          11,
          1,
          2,
          21,
          3,
          0,
          4,
          2,
          1,
          4,
          1,
          1,
          2,
          1,
          3,
          18,
          9,
          2,
          2,
          6,
          1,
          9,
          4,
          7,
          4,
          1,
          2,
          4,
          10,
          1,
          6,
          5,
          1,
          1,
          1,
          1,
          1
         ],
         "yaxis": "y"
        },
        {
         "fillpattern": {
          "shape": ""
         },
         "hovertemplate": "Nation=Yugoslav<br>DateAcquired=%{x}<br>Count=%{y}<extra></extra>",
         "legendgroup": "Yugoslav",
         "line": {
          "color": "#ab63fa"
         },
         "marker": {
          "symbol": "circle"
         },
         "mode": "lines",
         "name": "Yugoslav",
         "orientation": "v",
         "showlegend": true,
         "stackgroup": "1",
         "type": "scatter",
         "x": [
          1943,
          1954,
          1957,
          1964,
          1965,
          1966,
          1967,
          1967,
          1970,
          1971,
          1978,
          2002,
          2011,
          2013,
          2014,
          2015,
          2016
         ],
         "xaxis": "x",
         "y": [
          1,
          1,
          2,
          1,
          2,
          2,
          8,
          8,
          3,
          3,
          11,
          1,
          13,
          1,
          1,
          1,
          3
         ],
         "yaxis": "y"
        },
        {
         "fillpattern": {
          "shape": ""
         },
         "hovertemplate": "Nation=French<br>DateAcquired=%{x}<br>Count=%{y}<extra></extra>",
         "legendgroup": "French",
         "line": {
          "color": "#FFA15A"
         },
         "marker": {
          "symbol": "circle"
         },
         "mode": "lines",
         "name": "French",
         "orientation": "v",
         "showlegend": true,
         "stackgroup": "1",
         "type": "scatter",
         "x": [
          1930,
          1931,
          1932,
          1933,
          1934,
          1935,
          1936,
          1937,
          1938,
          1939,
          1940,
          1940,
          1941,
          1941,
          1942,
          1943,
          1943,
          1944,
          1945,
          1946,
          1947,
          1948,
          1949,
          1949,
          1949,
          1950,
          1951,
          1951,
          1952,
          1952,
          1953,
          1953,
          1954,
          1954,
          1954,
          1955,
          1956,
          1956,
          1957,
          1958,
          1958,
          1959,
          1959,
          1959,
          1960,
          1960,
          1961,
          1961,
          1962,
          1963,
          1964,
          1964,
          1964,
          1965,
          1966,
          1967,
          1967,
          1968,
          1968,
          1969,
          1970,
          1970,
          1971,
          1971,
          1972,
          1973,
          1974,
          1974,
          1975,
          1975,
          1976,
          1976,
          1976,
          1976,
          1977,
          1978,
          1979,
          1979,
          1979,
          1979,
          1980,
          1980,
          1981,
          1982,
          1983,
          1984,
          1985,
          1986,
          1986,
          1987,
          1988,
          1989,
          1990,
          1991,
          1992,
          1993,
          1994,
          1995,
          1995,
          1996,
          1997,
          1998,
          1999,
          2000,
          2001,
          2002,
          2003,
          2004,
          2005,
          2006,
          2007,
          2007,
          2008,
          2008,
          2009,
          2010,
          2011,
          2011,
          2012,
          2013,
          2014,
          2015,
          2016,
          2016,
          2017,
          2018,
          2018,
          2019,
          2020
         ],
         "xaxis": "x",
         "y": [
          2,
          1,
          0,
          1,
          55,
          56,
          15,
          29,
          2,
          83,
          192,
          192,
          43,
          43,
          34,
          24,
          24,
          7,
          84,
          78,
          52,
          158,
          467,
          467,
          467,
          112,
          246,
          246,
          76,
          76,
          55,
          55,
          241,
          241,
          241,
          85,
          264,
          264,
          34,
          225,
          225,
          86,
          86,
          86,
          49,
          49,
          39,
          39,
          44,
          110,
          8457,
          8457,
          8457,
          640,
          467,
          161,
          161,
          5173,
          5173,
          66,
          56,
          56,
          56,
          56,
          17,
          165,
          25,
          25,
          138,
          138,
          89,
          89,
          89,
          89,
          35,
          110,
          100,
          100,
          100,
          100,
          46,
          46,
          48,
          224,
          51,
          8,
          73,
          63,
          63,
          149,
          78,
          40,
          39,
          53,
          62,
          51,
          34,
          17,
          17,
          27,
          46,
          20,
          6,
          127,
          74,
          1,
          19,
          4,
          64,
          9,
          17,
          17,
          317,
          317,
          199,
          36,
          72,
          72,
          8,
          19,
          11,
          62,
          15,
          15,
          13,
          106,
          106,
          8,
          3
         ],
         "yaxis": "y"
        },
        {
         "fillpattern": {
          "shape": ""
         },
         "hovertemplate": "Nation=Bosnian<br>DateAcquired=%{x}<br>Count=%{y}<extra></extra>",
         "legendgroup": "Bosnian",
         "line": {
          "color": "#19d3f3"
         },
         "marker": {
          "symbol": "circle"
         },
         "mode": "lines",
         "name": "Bosnian",
         "orientation": "v",
         "showlegend": true,
         "stackgroup": "1",
         "type": "scatter",
         "x": [
          2007,
          2011,
          2018
         ],
         "xaxis": "x",
         "y": [
          1,
          2,
          9
         ],
         "yaxis": "y"
        },
        {
         "fillpattern": {
          "shape": ""
         },
         "hovertemplate": "Nation=British<br>DateAcquired=%{x}<br>Count=%{y}<extra></extra>",
         "legendgroup": "British",
         "line": {
          "color": "#FF6692"
         },
         "marker": {
          "symbol": "circle"
         },
         "mode": "lines",
         "name": "British",
         "orientation": "v",
         "showlegend": true,
         "stackgroup": "1",
         "type": "scatter",
         "x": [
          1936,
          1937,
          1937,
          1938,
          1939,
          1940,
          1941,
          1942,
          1943,
          1943,
          1944,
          1945,
          1945,
          1946,
          1947,
          1948,
          1949,
          1949,
          1950,
          1950,
          1951,
          1951,
          1952,
          1953,
          1954,
          1955,
          1956,
          1956,
          1957,
          1958,
          1958,
          1959,
          1960,
          1961,
          1962,
          1963,
          1964,
          1964,
          1965,
          1966,
          1967,
          1967,
          1968,
          1968,
          1968,
          1969,
          1970,
          1971,
          1972,
          1973,
          1973,
          1974,
          1975,
          1975,
          1976,
          1976,
          1976,
          1976,
          1977,
          1978,
          1979,
          1980,
          1981,
          1982,
          1983,
          1983,
          1984,
          1985,
          1986,
          1987,
          1988,
          1989,
          1990,
          1991,
          1992,
          1993,
          1994,
          1996,
          1997,
          1998,
          1999,
          2000,
          2001,
          2002,
          2003,
          2004,
          2005,
          2006,
          2007,
          2008,
          2008,
          2009,
          2009,
          2010,
          2011,
          2012,
          2013,
          2014,
          2014,
          2014,
          2015,
          2015,
          2016,
          2017,
          2018,
          2019,
          2020
         ],
         "xaxis": "x",
         "y": [
          42,
          65,
          65,
          15,
          3,
          8,
          18,
          2,
          91,
          91,
          1,
          82,
          82,
          1,
          4,
          7,
          50,
          50,
          22,
          22,
          26,
          26,
          27,
          21,
          28,
          17,
          46,
          46,
          7,
          36,
          36,
          18,
          15,
          12,
          57,
          9,
          682,
          682,
          60,
          41,
          223,
          223,
          72,
          72,
          72,
          74,
          135,
          111,
          110,
          10,
          10,
          133,
          18,
          18,
          96,
          96,
          96,
          96,
          77,
          68,
          49,
          12,
          254,
          35,
          187,
          187,
          10,
          26,
          26,
          17,
          15,
          60,
          18,
          2,
          9,
          5,
          28,
          4,
          34,
          3,
          2,
          28,
          13,
          2,
          3,
          3,
          20,
          34,
          33,
          42,
          42,
          8,
          8,
          5,
          18,
          70,
          11,
          21,
          21,
          21,
          31,
          31,
          1,
          6,
          11,
          11,
          1
         ],
         "yaxis": "y"
        },
        {
         "fillpattern": {
          "shape": ""
         },
         "hovertemplate": "Nation=Portuguese<br>DateAcquired=%{x}<br>Count=%{y}<extra></extra>",
         "legendgroup": "Portuguese",
         "line": {
          "color": "#B6E880"
         },
         "marker": {
          "symbol": "circle"
         },
         "mode": "lines",
         "name": "Portuguese",
         "orientation": "v",
         "showlegend": true,
         "stackgroup": "1",
         "type": "scatter",
         "x": [
          1963,
          1967,
          2012
         ],
         "xaxis": "x",
         "y": [
          1,
          1,
          101
         ],
         "yaxis": "y"
        },
        {
         "fillpattern": {
          "shape": ""
         },
         "hovertemplate": "Nation=Cuban<br>DateAcquired=%{x}<br>Count=%{y}<extra></extra>",
         "legendgroup": "Cuban",
         "line": {
          "color": "#FF97FF"
         },
         "marker": {
          "symbol": "circle"
         },
         "mode": "lines",
         "name": "Cuban",
         "orientation": "v",
         "showlegend": true,
         "stackgroup": "1",
         "type": "scatter",
         "x": [
          1939,
          1942,
          1944,
          1945,
          1947,
          1950,
          1952,
          1954,
          1956,
          1958,
          1959,
          1960,
          1964,
          1965,
          1966,
          1967,
          1968,
          1970,
          1971,
          1973,
          1974,
          1977,
          1978,
          1979,
          1980,
          1987,
          2003,
          2005,
          2012,
          2014,
          2015,
          2016,
          2017,
          2019
         ],
         "xaxis": "x",
         "y": [
          1,
          34,
          7,
          2,
          4,
          12,
          1,
          2,
          1,
          1,
          1,
          3,
          7,
          9,
          1,
          3,
          4,
          1,
          1,
          3,
          1,
          1,
          2,
          1,
          2,
          2,
          2,
          1,
          7,
          2,
          37,
          1,
          1,
          1
         ],
         "yaxis": "y"
        },
        {
         "fillpattern": {
          "shape": ""
         },
         "hovertemplate": "Nation=Congolese<br>DateAcquired=%{x}<br>Count=%{y}<extra></extra>",
         "legendgroup": "Congolese",
         "line": {
          "color": "#FECB52"
         },
         "marker": {
          "symbol": "circle"
         },
         "mode": "lines",
         "name": "Congolese",
         "orientation": "v",
         "showlegend": true,
         "stackgroup": "1",
         "type": "scatter",
         "x": [
          1982
         ],
         "xaxis": "x",
         "y": [
          2
         ],
         "yaxis": "y"
        },
        {
         "fillpattern": {
          "shape": ""
         },
         "hovertemplate": "Nation=Macedonian<br>DateAcquired=%{x}<br>Count=%{y}<extra></extra>",
         "legendgroup": "Macedonian",
         "line": {
          "color": "#636efa"
         },
         "marker": {
          "symbol": "circle"
         },
         "mode": "lines",
         "name": "Macedonian",
         "orientation": "v",
         "showlegend": true,
         "stackgroup": "1",
         "type": "scatter",
         "x": [
          2018
         ],
         "xaxis": "x",
         "y": [
          4
         ],
         "yaxis": "y"
        },
        {
         "fillpattern": {
          "shape": ""
         },
         "hovertemplate": "Nation=Iranian<br>DateAcquired=%{x}<br>Count=%{y}<extra></extra>",
         "legendgroup": "Iranian",
         "line": {
          "color": "#EF553B"
         },
         "marker": {
          "symbol": "circle"
         },
         "mode": "lines",
         "name": "Iranian",
         "orientation": "v",
         "showlegend": true,
         "stackgroup": "1",
         "type": "scatter",
         "x": [
          1962
         ],
         "xaxis": "x",
         "y": [
          2
         ],
         "yaxis": "y"
        },
        {
         "fillpattern": {
          "shape": ""
         },
         "hovertemplate": "Nation=Croatian<br>DateAcquired=%{x}<br>Count=%{y}<extra></extra>",
         "legendgroup": "Croatian",
         "line": {
          "color": "#00cc96"
         },
         "marker": {
          "symbol": "circle"
         },
         "mode": "lines",
         "name": "Croatian",
         "orientation": "v",
         "showlegend": true,
         "stackgroup": "1",
         "type": "scatter",
         "x": [
          1963,
          1982,
          2005,
          2006,
          2007,
          2010,
          2011,
          2012,
          2013,
          2014,
          2015,
          2016,
          2018,
          2019
         ],
         "xaxis": "x",
         "y": [
          1,
          8,
          3,
          7,
          1,
          4,
          9,
          2,
          3,
          4,
          27,
          1,
          2,
          2
         ],
         "yaxis": "y"
        },
        {
         "fillpattern": {
          "shape": ""
         },
         "hovertemplate": "Nation=Uruguayan<br>DateAcquired=%{x}<br>Count=%{y}<extra></extra>",
         "legendgroup": "Uruguayan",
         "line": {
          "color": "#ab63fa"
         },
         "marker": {
          "symbol": "circle"
         },
         "mode": "lines",
         "name": "Uruguayan",
         "orientation": "v",
         "showlegend": true,
         "stackgroup": "1",
         "type": "scatter",
         "x": [
          1942,
          1943,
          1945,
          1956,
          1958,
          1961,
          1962,
          1964,
          1967,
          1968,
          1969,
          1974,
          1977,
          1981,
          2004,
          2008,
          2010,
          2012,
          2014,
          2015,
          2016,
          2017
         ],
         "xaxis": "x",
         "y": [
          4,
          1,
          1,
          1,
          1,
          2,
          2,
          1,
          3,
          6,
          1,
          2,
          1,
          1,
          2,
          1,
          1,
          1,
          2,
          2,
          3,
          1
         ],
         "yaxis": "y"
        },
        {
         "fillpattern": {
          "shape": ""
         },
         "hovertemplate": "Nation=Israeli<br>DateAcquired=%{x}<br>Count=%{y}<extra></extra>",
         "legendgroup": "Israeli",
         "line": {
          "color": "#FFA15A"
         },
         "marker": {
          "symbol": "circle"
         },
         "mode": "lines",
         "name": "Israeli",
         "orientation": "v",
         "showlegend": true,
         "stackgroup": "1",
         "type": "scatter",
         "x": [
          1937,
          1940,
          1942,
          1949,
          1952,
          1953,
          1954,
          1955,
          1958,
          1964,
          1965,
          1966,
          1967,
          1970,
          1972,
          1973,
          1974,
          1975,
          1976,
          1977,
          1978,
          1979,
          1980,
          1981,
          1987,
          1990,
          1998,
          2007,
          2012
         ],
         "xaxis": "x",
         "y": [
          1,
          1,
          3,
          8,
          1,
          4,
          2,
          1,
          1,
          70,
          6,
          30,
          3,
          4,
          1,
          29,
          9,
          5,
          1,
          3,
          1,
          4,
          1,
          2,
          1,
          1,
          6,
          1,
          18
         ],
         "yaxis": "y"
        },
        {
         "fillpattern": {
          "shape": ""
         },
         "hovertemplate": "Nation=Australian<br>DateAcquired=%{x}<br>Count=%{y}<extra></extra>",
         "legendgroup": "Australian",
         "line": {
          "color": "#19d3f3"
         },
         "marker": {
          "symbol": "circle"
         },
         "mode": "lines",
         "name": "Australian",
         "orientation": "v",
         "showlegend": true,
         "stackgroup": "1",
         "type": "scatter",
         "x": [
          1941,
          1949,
          1955,
          1958,
          1960,
          1964,
          1964,
          1966,
          1967,
          1969,
          1972,
          1973,
          1975,
          1977,
          1978,
          1980,
          1983,
          1987,
          2002,
          2003,
          2014,
          2015,
          2017
         ],
         "xaxis": "x",
         "y": [
          2,
          1,
          1,
          3,
          1,
          6,
          6,
          2,
          11,
          1,
          53,
          33,
          2,
          1,
          3,
          1,
          1,
          1,
          1,
          10,
          2,
          9,
          1
         ],
         "yaxis": "y"
        },
        {
         "fillpattern": {
          "shape": ""
         },
         "hovertemplate": "Nation=German<br>DateAcquired=%{x}<br>Count=%{y}<extra></extra>",
         "legendgroup": "German",
         "line": {
          "color": "#FF6692"
         },
         "marker": {
          "symbol": "circle"
         },
         "mode": "lines",
         "name": "German",
         "orientation": "v",
         "showlegend": true,
         "stackgroup": "1",
         "type": "scatter",
         "x": [
          1929,
          1932,
          1934,
          1935,
          1936,
          1937,
          1938,
          1939,
          1939,
          1940,
          1940,
          1941,
          1941,
          1942,
          1942,
          1943,
          1944,
          1945,
          1946,
          1947,
          1948,
          1948,
          1949,
          1950,
          1950,
          1951,
          1952,
          1953,
          1954,
          1955,
          1956,
          1956,
          1956,
          1957,
          1957,
          1958,
          1958,
          1959,
          1960,
          1961,
          1961,
          1962,
          1963,
          1964,
          1965,
          1966,
          1966,
          1967,
          1967,
          1967,
          1968,
          1969,
          1969,
          1970,
          1971,
          1971,
          1972,
          1973,
          1974,
          1975,
          1976,
          1977,
          1977,
          1978,
          1979,
          1980,
          1980,
          1980,
          1981,
          1982,
          1983,
          1984,
          1985,
          1986,
          1987,
          1988,
          1989,
          1990,
          1991,
          1992,
          1993,
          1994,
          1995,
          1996,
          1997,
          1998,
          1999,
          1999,
          2000,
          2001,
          2001,
          2002,
          2003,
          2004,
          2005,
          2005,
          2006,
          2007,
          2008,
          2008,
          2008,
          2009,
          2010,
          2011,
          2012,
          2012,
          2013,
          2014,
          2015,
          2015,
          2015,
          2016,
          2017,
          2018,
          2020
         ],
         "xaxis": "x",
         "y": [
          4,
          10,
          53,
          7,
          3,
          31,
          5,
          32,
          32,
          92,
          92,
          31,
          31,
          41,
          41,
          46,
          10,
          31,
          3,
          37,
          29,
          29,
          172,
          97,
          97,
          104,
          140,
          109,
          128,
          84,
          265,
          265,
          265,
          44,
          44,
          60,
          60,
          10,
          17,
          106,
          106,
          65,
          31,
          230,
          70,
          92,
          92,
          132,
          132,
          132,
          86,
          92,
          92,
          45,
          25,
          25,
          20,
          79,
          50,
          14,
          4,
          58,
          58,
          31,
          82,
          45,
          45,
          45,
          11,
          55,
          17,
          16,
          74,
          19,
          34,
          20,
          7,
          25,
          22,
          20,
          9,
          35,
          10,
          11,
          24,
          45,
          256,
          256,
          17,
          139,
          139,
          12,
          14,
          2,
          94,
          94,
          16,
          22,
          89,
          89,
          89,
          10,
          136,
          164,
          10,
          10,
          47,
          41,
          800,
          800,
          800,
          16,
          31,
          95,
          4
         ],
         "yaxis": "y"
        },
        {
         "fillpattern": {
          "shape": ""
         },
         "hovertemplate": "Nation=Latvian<br>DateAcquired=%{x}<br>Count=%{y}<extra></extra>",
         "legendgroup": "Latvian",
         "line": {
          "color": "#B6E880"
         },
         "marker": {
          "symbol": "circle"
         },
         "mode": "lines",
         "name": "Latvian",
         "orientation": "v",
         "showlegend": true,
         "stackgroup": "1",
         "type": "scatter",
         "x": [
          1937,
          1968,
          1977,
          1979,
          1983,
          1985,
          1992,
          1997,
          1999,
          2001,
          2002,
          2018
         ],
         "xaxis": "x",
         "y": [
          5,
          1,
          6,
          1,
          1,
          1,
          8,
          1,
          7,
          13,
          3,
          10
         ],
         "yaxis": "y"
        },
        {
         "fillpattern": {
          "shape": ""
         },
         "hovertemplate": "Nation=Russian<br>DateAcquired=%{x}<br>Count=%{y}<extra></extra>",
         "legendgroup": "Russian",
         "line": {
          "color": "#FF97FF"
         },
         "marker": {
          "symbol": "circle"
         },
         "mode": "lines",
         "name": "Russian",
         "orientation": "v",
         "showlegend": true,
         "stackgroup": "1",
         "type": "scatter",
         "x": [
          1932,
          1935,
          1936,
          1937,
          1938,
          1939,
          1940,
          1940,
          1941,
          1943,
          1944,
          1947,
          1949,
          1950,
          1953,
          1955,
          1956,
          1958,
          1959,
          1961,
          1962,
          1963,
          1964,
          1965,
          1967,
          1968,
          1968,
          1969,
          1970,
          1971,
          1972,
          1974,
          1974,
          1975,
          1976,
          1977,
          1978,
          1979,
          1980,
          1981,
          1982,
          1983,
          1983,
          1984,
          1985,
          1986,
          1987,
          1988,
          1990,
          1991,
          1992,
          1993,
          1994,
          1995,
          1996,
          1997,
          1998,
          1999,
          2000,
          2000,
          2001,
          2001,
          2002,
          2003,
          2006,
          2007,
          2010,
          2011,
          2013,
          2015,
          2016,
          2017,
          2018,
          2019,
          2020
         ],
         "xaxis": "x",
         "y": [
          2,
          22,
          13,
          7,
          1,
          1,
          6,
          6,
          16,
          12,
          11,
          2,
          1,
          2,
          3,
          1,
          8,
          4,
          1,
          23,
          126,
          4,
          2,
          5,
          11,
          4,
          4,
          3,
          17,
          1,
          19,
          16,
          16,
          4,
          14,
          115,
          28,
          63,
          25,
          1,
          27,
          4,
          4,
          2,
          47,
          6,
          6,
          1,
          1,
          16,
          2,
          16,
          3,
          1,
          1,
          10,
          24,
          46,
          4,
          4,
          1060,
          1060,
          18,
          2,
          2,
          9,
          1,
          1,
          15,
          16,
          1,
          11,
          80,
          3,
          33
         ],
         "yaxis": "y"
        },
        {
         "fillpattern": {
          "shape": ""
         },
         "hovertemplate": "Nation=Dutch<br>DateAcquired=%{x}<br>Count=%{y}<extra></extra>",
         "legendgroup": "Dutch",
         "line": {
          "color": "#FECB52"
         },
         "marker": {
          "symbol": "circle"
         },
         "mode": "lines",
         "name": "Dutch",
         "orientation": "v",
         "showlegend": true,
         "stackgroup": "1",
         "type": "scatter",
         "x": [
          1931,
          1934,
          1935,
          1937,
          1938,
          1939,
          1940,
          1940,
          1941,
          1942,
          1943,
          1944,
          1946,
          1947,
          1948,
          1949,
          1950,
          1951,
          1952,
          1953,
          1954,
          1955,
          1956,
          1957,
          1958,
          1959,
          1960,
          1960,
          1961,
          1962,
          1963,
          1964,
          1966,
          1967,
          1968,
          1969,
          1972,
          1973,
          1974,
          1975,
          1976,
          1977,
          1977,
          1978,
          1979,
          1980,
          1981,
          1981,
          1982,
          1983,
          1984,
          1985,
          1986,
          1987,
          1988,
          1989,
          1990,
          1991,
          1992,
          1993,
          1994,
          1995,
          1996,
          1997,
          1998,
          1999,
          1999,
          2000,
          2001,
          2003,
          2005,
          2006,
          2007,
          2007,
          2008,
          2008,
          2009,
          2010,
          2011,
          2013,
          2014,
          2015,
          2015,
          2016,
          2017,
          2018,
          2020
         ],
         "xaxis": "x",
         "y": [
          1,
          1,
          1,
          3,
          1,
          1,
          2,
          2,
          2,
          4,
          2,
          2,
          1,
          6,
          13,
          3,
          5,
          10,
          1,
          6,
          30,
          4,
          8,
          10,
          6,
          3,
          8,
          8,
          7,
          1,
          7,
          21,
          5,
          24,
          13,
          10,
          10,
          10,
          6,
          7,
          29,
          41,
          41,
          24,
          4,
          8,
          8,
          8,
          3,
          4,
          5,
          22,
          4,
          3,
          3,
          4,
          2,
          1,
          4,
          2,
          2,
          1,
          2,
          1,
          1,
          23,
          23,
          7,
          20,
          1,
          2,
          1,
          66,
          66,
          38,
          38,
          3,
          2,
          16,
          1,
          400,
          103,
          103,
          3,
          17,
          77,
          4
         ],
         "yaxis": "y"
        },
        {
         "fillpattern": {
          "shape": ""
         },
         "hovertemplate": "Nation=Turkish<br>DateAcquired=%{x}<br>Count=%{y}<extra></extra>",
         "legendgroup": "Turkish",
         "line": {
          "color": "#636efa"
         },
         "marker": {
          "symbol": "circle"
         },
         "mode": "lines",
         "name": "Turkish",
         "orientation": "v",
         "showlegend": true,
         "stackgroup": "1",
         "type": "scatter",
         "x": [
          1958,
          1959,
          1961,
          1962,
          1974,
          1975,
          1979
         ],
         "xaxis": "x",
         "y": [
          1,
          1,
          1,
          1,
          20,
          0,
          0
         ],
         "yaxis": "y"
        },
        {
         "fillpattern": {
          "shape": ""
         },
         "hovertemplate": "Nation=Indian<br>DateAcquired=%{x}<br>Count=%{y}<extra></extra>",
         "legendgroup": "Indian",
         "line": {
          "color": "#EF553B"
         },
         "marker": {
          "symbol": "circle"
         },
         "mode": "lines",
         "name": "Indian",
         "orientation": "v",
         "showlegend": true,
         "stackgroup": "1",
         "type": "scatter",
         "x": [
          1963,
          1964,
          1965,
          1966,
          1967,
          1969,
          1973,
          1983,
          2006,
          2015,
          2017,
          2018
         ],
         "xaxis": "x",
         "y": [
          2,
          2,
          1,
          3,
          1,
          1,
          1,
          2,
          3,
          13,
          1,
          46
         ],
         "yaxis": "y"
        },
        {
         "fillpattern": {
          "shape": ""
         },
         "hovertemplate": "Nation=Greek<br>DateAcquired=%{x}<br>Count=%{y}<extra></extra>",
         "legendgroup": "Greek",
         "line": {
          "color": "#00cc96"
         },
         "marker": {
          "symbol": "circle"
         },
         "mode": "lines",
         "name": "Greek",
         "orientation": "v",
         "showlegend": true,
         "stackgroup": "1",
         "type": "scatter",
         "x": [
          1943,
          1945,
          1955,
          1964,
          1965,
          1965,
          1970,
          1974,
          1975,
          1979,
          1982,
          1984,
          1988,
          2005,
          2018
         ],
         "xaxis": "x",
         "y": [
          1,
          1,
          2,
          1,
          1,
          1,
          1,
          1,
          1,
          1,
          9,
          1,
          1,
          3,
          2
         ],
         "yaxis": "y"
        }
       ],
       "layout": {
        "legend": {
         "title": {
          "text": "Nation"
         },
         "tracegroupgap": 0
        },
        "margin": {
         "t": 60
        },
        "paper_bgcolor": "rgb(243, 243, 243)",
        "plot_bgcolor": "rgb(243, 243, 243)",
        "template": {
         "data": {
          "bar": [
           {
            "error_x": {
             "color": "#2a3f5f"
            },
            "error_y": {
             "color": "#2a3f5f"
            },
            "marker": {
             "line": {
              "color": "#E5ECF6",
              "width": 0.5
             },
             "pattern": {
              "fillmode": "overlay",
              "size": 10,
              "solidity": 0.2
             }
            },
            "type": "bar"
           }
          ],
          "barpolar": [
           {
            "marker": {
             "line": {
              "color": "#E5ECF6",
              "width": 0.5
             },
             "pattern": {
              "fillmode": "overlay",
              "size": 10,
              "solidity": 0.2
             }
            },
            "type": "barpolar"
           }
          ],
          "carpet": [
           {
            "aaxis": {
             "endlinecolor": "#2a3f5f",
             "gridcolor": "white",
             "linecolor": "white",
             "minorgridcolor": "white",
             "startlinecolor": "#2a3f5f"
            },
            "baxis": {
             "endlinecolor": "#2a3f5f",
             "gridcolor": "white",
             "linecolor": "white",
             "minorgridcolor": "white",
             "startlinecolor": "#2a3f5f"
            },
            "type": "carpet"
           }
          ],
          "choropleth": [
           {
            "colorbar": {
             "outlinewidth": 0,
             "ticks": ""
            },
            "type": "choropleth"
           }
          ],
          "contour": [
           {
            "colorbar": {
             "outlinewidth": 0,
             "ticks": ""
            },
            "colorscale": [
             [
              0,
              "#0d0887"
             ],
             [
              0.1111111111111111,
              "#46039f"
             ],
             [
              0.2222222222222222,
              "#7201a8"
             ],
             [
              0.3333333333333333,
              "#9c179e"
             ],
             [
              0.4444444444444444,
              "#bd3786"
             ],
             [
              0.5555555555555556,
              "#d8576b"
             ],
             [
              0.6666666666666666,
              "#ed7953"
             ],
             [
              0.7777777777777778,
              "#fb9f3a"
             ],
             [
              0.8888888888888888,
              "#fdca26"
             ],
             [
              1,
              "#f0f921"
             ]
            ],
            "type": "contour"
           }
          ],
          "contourcarpet": [
           {
            "colorbar": {
             "outlinewidth": 0,
             "ticks": ""
            },
            "type": "contourcarpet"
           }
          ],
          "heatmap": [
           {
            "colorbar": {
             "outlinewidth": 0,
             "ticks": ""
            },
            "colorscale": [
             [
              0,
              "#0d0887"
             ],
             [
              0.1111111111111111,
              "#46039f"
             ],
             [
              0.2222222222222222,
              "#7201a8"
             ],
             [
              0.3333333333333333,
              "#9c179e"
             ],
             [
              0.4444444444444444,
              "#bd3786"
             ],
             [
              0.5555555555555556,
              "#d8576b"
             ],
             [
              0.6666666666666666,
              "#ed7953"
             ],
             [
              0.7777777777777778,
              "#fb9f3a"
             ],
             [
              0.8888888888888888,
              "#fdca26"
             ],
             [
              1,
              "#f0f921"
             ]
            ],
            "type": "heatmap"
           }
          ],
          "heatmapgl": [
           {
            "colorbar": {
             "outlinewidth": 0,
             "ticks": ""
            },
            "colorscale": [
             [
              0,
              "#0d0887"
             ],
             [
              0.1111111111111111,
              "#46039f"
             ],
             [
              0.2222222222222222,
              "#7201a8"
             ],
             [
              0.3333333333333333,
              "#9c179e"
             ],
             [
              0.4444444444444444,
              "#bd3786"
             ],
             [
              0.5555555555555556,
              "#d8576b"
             ],
             [
              0.6666666666666666,
              "#ed7953"
             ],
             [
              0.7777777777777778,
              "#fb9f3a"
             ],
             [
              0.8888888888888888,
              "#fdca26"
             ],
             [
              1,
              "#f0f921"
             ]
            ],
            "type": "heatmapgl"
           }
          ],
          "histogram": [
           {
            "marker": {
             "pattern": {
              "fillmode": "overlay",
              "size": 10,
              "solidity": 0.2
             }
            },
            "type": "histogram"
           }
          ],
          "histogram2d": [
           {
            "colorbar": {
             "outlinewidth": 0,
             "ticks": ""
            },
            "colorscale": [
             [
              0,
              "#0d0887"
             ],
             [
              0.1111111111111111,
              "#46039f"
             ],
             [
              0.2222222222222222,
              "#7201a8"
             ],
             [
              0.3333333333333333,
              "#9c179e"
             ],
             [
              0.4444444444444444,
              "#bd3786"
             ],
             [
              0.5555555555555556,
              "#d8576b"
             ],
             [
              0.6666666666666666,
              "#ed7953"
             ],
             [
              0.7777777777777778,
              "#fb9f3a"
             ],
             [
              0.8888888888888888,
              "#fdca26"
             ],
             [
              1,
              "#f0f921"
             ]
            ],
            "type": "histogram2d"
           }
          ],
          "histogram2dcontour": [
           {
            "colorbar": {
             "outlinewidth": 0,
             "ticks": ""
            },
            "colorscale": [
             [
              0,
              "#0d0887"
             ],
             [
              0.1111111111111111,
              "#46039f"
             ],
             [
              0.2222222222222222,
              "#7201a8"
             ],
             [
              0.3333333333333333,
              "#9c179e"
             ],
             [
              0.4444444444444444,
              "#bd3786"
             ],
             [
              0.5555555555555556,
              "#d8576b"
             ],
             [
              0.6666666666666666,
              "#ed7953"
             ],
             [
              0.7777777777777778,
              "#fb9f3a"
             ],
             [
              0.8888888888888888,
              "#fdca26"
             ],
             [
              1,
              "#f0f921"
             ]
            ],
            "type": "histogram2dcontour"
           }
          ],
          "mesh3d": [
           {
            "colorbar": {
             "outlinewidth": 0,
             "ticks": ""
            },
            "type": "mesh3d"
           }
          ],
          "parcoords": [
           {
            "line": {
             "colorbar": {
              "outlinewidth": 0,
              "ticks": ""
             }
            },
            "type": "parcoords"
           }
          ],
          "pie": [
           {
            "automargin": true,
            "type": "pie"
           }
          ],
          "scatter": [
           {
            "fillpattern": {
             "fillmode": "overlay",
             "size": 10,
             "solidity": 0.2
            },
            "type": "scatter"
           }
          ],
          "scatter3d": [
           {
            "line": {
             "colorbar": {
              "outlinewidth": 0,
              "ticks": ""
             }
            },
            "marker": {
             "colorbar": {
              "outlinewidth": 0,
              "ticks": ""
             }
            },
            "type": "scatter3d"
           }
          ],
          "scattercarpet": [
           {
            "marker": {
             "colorbar": {
              "outlinewidth": 0,
              "ticks": ""
             }
            },
            "type": "scattercarpet"
           }
          ],
          "scattergeo": [
           {
            "marker": {
             "colorbar": {
              "outlinewidth": 0,
              "ticks": ""
             }
            },
            "type": "scattergeo"
           }
          ],
          "scattergl": [
           {
            "marker": {
             "colorbar": {
              "outlinewidth": 0,
              "ticks": ""
             }
            },
            "type": "scattergl"
           }
          ],
          "scattermapbox": [
           {
            "marker": {
             "colorbar": {
              "outlinewidth": 0,
              "ticks": ""
             }
            },
            "type": "scattermapbox"
           }
          ],
          "scatterpolar": [
           {
            "marker": {
             "colorbar": {
              "outlinewidth": 0,
              "ticks": ""
             }
            },
            "type": "scatterpolar"
           }
          ],
          "scatterpolargl": [
           {
            "marker": {
             "colorbar": {
              "outlinewidth": 0,
              "ticks": ""
             }
            },
            "type": "scatterpolargl"
           }
          ],
          "scatterternary": [
           {
            "marker": {
             "colorbar": {
              "outlinewidth": 0,
              "ticks": ""
             }
            },
            "type": "scatterternary"
           }
          ],
          "surface": [
           {
            "colorbar": {
             "outlinewidth": 0,
             "ticks": ""
            },
            "colorscale": [
             [
              0,
              "#0d0887"
             ],
             [
              0.1111111111111111,
              "#46039f"
             ],
             [
              0.2222222222222222,
              "#7201a8"
             ],
             [
              0.3333333333333333,
              "#9c179e"
             ],
             [
              0.4444444444444444,
              "#bd3786"
             ],
             [
              0.5555555555555556,
              "#d8576b"
             ],
             [
              0.6666666666666666,
              "#ed7953"
             ],
             [
              0.7777777777777778,
              "#fb9f3a"
             ],
             [
              0.8888888888888888,
              "#fdca26"
             ],
             [
              1,
              "#f0f921"
             ]
            ],
            "type": "surface"
           }
          ],
          "table": [
           {
            "cells": {
             "fill": {
              "color": "#EBF0F8"
             },
             "line": {
              "color": "white"
             }
            },
            "header": {
             "fill": {
              "color": "#C8D4E3"
             },
             "line": {
              "color": "white"
             }
            },
            "type": "table"
           }
          ]
         },
         "layout": {
          "annotationdefaults": {
           "arrowcolor": "#2a3f5f",
           "arrowhead": 0,
           "arrowwidth": 1
          },
          "autotypenumbers": "strict",
          "coloraxis": {
           "colorbar": {
            "outlinewidth": 0,
            "ticks": ""
           }
          },
          "colorscale": {
           "diverging": [
            [
             0,
             "#8e0152"
            ],
            [
             0.1,
             "#c51b7d"
            ],
            [
             0.2,
             "#de77ae"
            ],
            [
             0.3,
             "#f1b6da"
            ],
            [
             0.4,
             "#fde0ef"
            ],
            [
             0.5,
             "#f7f7f7"
            ],
            [
             0.6,
             "#e6f5d0"
            ],
            [
             0.7,
             "#b8e186"
            ],
            [
             0.8,
             "#7fbc41"
            ],
            [
             0.9,
             "#4d9221"
            ],
            [
             1,
             "#276419"
            ]
           ],
           "sequential": [
            [
             0,
             "#0d0887"
            ],
            [
             0.1111111111111111,
             "#46039f"
            ],
            [
             0.2222222222222222,
             "#7201a8"
            ],
            [
             0.3333333333333333,
             "#9c179e"
            ],
            [
             0.4444444444444444,
             "#bd3786"
            ],
            [
             0.5555555555555556,
             "#d8576b"
            ],
            [
             0.6666666666666666,
             "#ed7953"
            ],
            [
             0.7777777777777778,
             "#fb9f3a"
            ],
            [
             0.8888888888888888,
             "#fdca26"
            ],
            [
             1,
             "#f0f921"
            ]
           ],
           "sequentialminus": [
            [
             0,
             "#0d0887"
            ],
            [
             0.1111111111111111,
             "#46039f"
            ],
            [
             0.2222222222222222,
             "#7201a8"
            ],
            [
             0.3333333333333333,
             "#9c179e"
            ],
            [
             0.4444444444444444,
             "#bd3786"
            ],
            [
             0.5555555555555556,
             "#d8576b"
            ],
            [
             0.6666666666666666,
             "#ed7953"
            ],
            [
             0.7777777777777778,
             "#fb9f3a"
            ],
            [
             0.8888888888888888,
             "#fdca26"
            ],
            [
             1,
             "#f0f921"
            ]
           ]
          },
          "colorway": [
           "#636efa",
           "#EF553B",
           "#00cc96",
           "#ab63fa",
           "#FFA15A",
           "#19d3f3",
           "#FF6692",
           "#B6E880",
           "#FF97FF",
           "#FECB52"
          ],
          "font": {
           "color": "#2a3f5f"
          },
          "geo": {
           "bgcolor": "white",
           "lakecolor": "white",
           "landcolor": "#E5ECF6",
           "showlakes": true,
           "showland": true,
           "subunitcolor": "white"
          },
          "hoverlabel": {
           "align": "left"
          },
          "hovermode": "closest",
          "mapbox": {
           "style": "light"
          },
          "paper_bgcolor": "white",
          "plot_bgcolor": "#E5ECF6",
          "polar": {
           "angularaxis": {
            "gridcolor": "white",
            "linecolor": "white",
            "ticks": ""
           },
           "bgcolor": "#E5ECF6",
           "radialaxis": {
            "gridcolor": "white",
            "linecolor": "white",
            "ticks": ""
           }
          },
          "scene": {
           "xaxis": {
            "backgroundcolor": "#E5ECF6",
            "gridcolor": "white",
            "gridwidth": 2,
            "linecolor": "white",
            "showbackground": true,
            "ticks": "",
            "zerolinecolor": "white"
           },
           "yaxis": {
            "backgroundcolor": "#E5ECF6",
            "gridcolor": "white",
            "gridwidth": 2,
            "linecolor": "white",
            "showbackground": true,
            "ticks": "",
            "zerolinecolor": "white"
           },
           "zaxis": {
            "backgroundcolor": "#E5ECF6",
            "gridcolor": "white",
            "gridwidth": 2,
            "linecolor": "white",
            "showbackground": true,
            "ticks": "",
            "zerolinecolor": "white"
           }
          },
          "shapedefaults": {
           "line": {
            "color": "#2a3f5f"
           }
          },
          "ternary": {
           "aaxis": {
            "gridcolor": "white",
            "linecolor": "white",
            "ticks": ""
           },
           "baxis": {
            "gridcolor": "white",
            "linecolor": "white",
            "ticks": ""
           },
           "bgcolor": "#E5ECF6",
           "caxis": {
            "gridcolor": "white",
            "linecolor": "white",
            "ticks": ""
           }
          },
          "title": {
           "x": 0.05
          },
          "xaxis": {
           "automargin": true,
           "gridcolor": "white",
           "linecolor": "white",
           "ticks": "",
           "title": {
            "standoff": 15
           },
           "zerolinecolor": "white",
           "zerolinewidth": 2
          },
          "yaxis": {
           "automargin": true,
           "gridcolor": "white",
           "linecolor": "white",
           "ticks": "",
           "title": {
            "standoff": 15
           },
           "zerolinecolor": "white",
           "zerolinewidth": 2
          }
         }
        },
        "xaxis": {
         "anchor": "y",
         "domain": [
          0,
          1
         ],
         "dtick": 10,
         "tickmode": "linear",
         "title": {
          "text": "DateAcquired"
         }
        },
        "yaxis": {
         "anchor": "x",
         "domain": [
          0,
          1
         ],
         "title": {
          "text": "Count"
         }
        }
       }
      }
     },
     "metadata": {},
     "output_type": "display_data"
    }
   ],
   "source": [
    "import plotly.express as px\n",
    "fig1 = px.area(df_nats_before, x=\"DateAcquired\", y=\"Count\", color=\"Nation\", line_group=\"Nation\")\n",
    "fig1.update_layout(\n",
    "    xaxis = dict(\n",
    "                \n",
    "        tickmode = 'linear',\n",
    "\n",
    "        dtick = 10\n",
    "    ),\n",
    "    paper_bgcolor='rgb(243, 243, 243)',\n",
    "    plot_bgcolor='rgb(243, 243, 243)',\n",
    ")\n",
    "\n",
    "\n",
    "\n",
    "   \n",
    "fig1.show()"
   ]
  },
  {
   "cell_type": "markdown",
   "metadata": {},
   "source": [
    "### MoMA's created after 1980"
   ]
  },
  {
   "cell_type": "code",
   "execution_count": 6,
   "metadata": {},
   "outputs": [
    {
     "data": {
      "text/html": [
       "<div>\n",
       "<style scoped>\n",
       "    .dataframe tbody tr th:only-of-type {\n",
       "        vertical-align: middle;\n",
       "    }\n",
       "\n",
       "    .dataframe tbody tr th {\n",
       "        vertical-align: top;\n",
       "    }\n",
       "\n",
       "    .dataframe thead th {\n",
       "        text-align: right;\n",
       "    }\n",
       "</style>\n",
       "<table border=\"1\" class=\"dataframe\">\n",
       "  <thead>\n",
       "    <tr style=\"text-align: right;\">\n",
       "      <th></th>\n",
       "      <th>Title</th>\n",
       "      <th>Artist</th>\n",
       "      <th>ID</th>\n",
       "      <th>DateCreated</th>\n",
       "      <th>Medium</th>\n",
       "      <th>Department</th>\n",
       "      <th>DateAcquired</th>\n",
       "      <th>URL</th>\n",
       "      <th>ThumbnailURL</th>\n",
       "      <th>Nationality</th>\n",
       "      <th>Gender</th>\n",
       "    </tr>\n",
       "  </thead>\n",
       "  <tbody>\n",
       "    <tr>\n",
       "      <th>1</th>\n",
       "      <td>City of Music, National Superior Conservatory ...</td>\n",
       "      <td>Christian de Portzamparc</td>\n",
       "      <td>7470</td>\n",
       "      <td>1987</td>\n",
       "      <td>Paint and colored pencil on print</td>\n",
       "      <td>Architecture &amp; Design</td>\n",
       "      <td>1995</td>\n",
       "      <td>http://www.moma.org/collection/works/3</td>\n",
       "      <td>http://www.moma.org/media/W1siZiIsIjk3Il0sWyJw...</td>\n",
       "      <td>French</td>\n",
       "      <td>M</td>\n",
       "    </tr>\n",
       "    <tr>\n",
       "      <th>3</th>\n",
       "      <td>The Manhattan Transcripts Project, New York, N...</td>\n",
       "      <td>Bernard Tschumi</td>\n",
       "      <td>7056</td>\n",
       "      <td>1980</td>\n",
       "      <td>Photographic reproduction with colored synthet...</td>\n",
       "      <td>Architecture &amp; Design</td>\n",
       "      <td>1995</td>\n",
       "      <td>http://www.moma.org/collection/works/5</td>\n",
       "      <td>http://www.moma.org/media/W1siZiIsIjEyNCJdLFsi...</td>\n",
       "      <td>missing</td>\n",
       "      <td>M</td>\n",
       "    </tr>\n",
       "    <tr>\n",
       "      <th>31</th>\n",
       "      <td>The Manhattan Transcripts Project, New York, N...</td>\n",
       "      <td>Bernard Tschumi</td>\n",
       "      <td>7056</td>\n",
       "      <td>1980</td>\n",
       "      <td>Photographic reproduction with colored synthet...</td>\n",
       "      <td>Architecture &amp; Design</td>\n",
       "      <td>1995</td>\n",
       "      <td>http://www.moma.org/collection/works/33</td>\n",
       "      <td>http://www.moma.org/media/W1siZiIsIjIwMCJdLFsi...</td>\n",
       "      <td>missing</td>\n",
       "      <td>M</td>\n",
       "    </tr>\n",
       "    <tr>\n",
       "      <th>35</th>\n",
       "      <td>The Manhattan Transcripts Project, New York, N...</td>\n",
       "      <td>Bernard Tschumi</td>\n",
       "      <td>7056</td>\n",
       "      <td>1980</td>\n",
       "      <td>Photographic reproduction with colored synthet...</td>\n",
       "      <td>Architecture &amp; Design</td>\n",
       "      <td>1995</td>\n",
       "      <td>http://www.moma.org/collection/works/38</td>\n",
       "      <td>http://www.moma.org/media/W1siZiIsIjI2NyJdLFsi...</td>\n",
       "      <td>missing</td>\n",
       "      <td>M</td>\n",
       "    </tr>\n",
       "    <tr>\n",
       "      <th>40</th>\n",
       "      <td>The Manhattan Transcripts Project, New York, N...</td>\n",
       "      <td>Bernard Tschumi</td>\n",
       "      <td>7056</td>\n",
       "      <td>1980</td>\n",
       "      <td>Ink on tracing paper</td>\n",
       "      <td>Architecture &amp; Design</td>\n",
       "      <td>1995</td>\n",
       "      <td>http://www.moma.org/collection/works/44</td>\n",
       "      <td>http://www.moma.org/media/W1siZiIsIjI5NiJdLFsi...</td>\n",
       "      <td>missing</td>\n",
       "      <td>M</td>\n",
       "    </tr>\n",
       "    <tr>\n",
       "      <th>...</th>\n",
       "      <td>...</td>\n",
       "      <td>...</td>\n",
       "      <td>...</td>\n",
       "      <td>...</td>\n",
       "      <td>...</td>\n",
       "      <td>...</td>\n",
       "      <td>...</td>\n",
       "      <td>...</td>\n",
       "      <td>...</td>\n",
       "      <td>...</td>\n",
       "      <td>...</td>\n",
       "    </tr>\n",
       "    <tr>\n",
       "      <th>138114</th>\n",
       "      <td>Cóctel (Cocktail)</td>\n",
       "      <td>Alejandro Kuropatwa</td>\n",
       "      <td>132939</td>\n",
       "      <td>1996</td>\n",
       "      <td>Chromogenic color print</td>\n",
       "      <td>Photography</td>\n",
       "      <td>2020</td>\n",
       "      <td>missing</td>\n",
       "      <td>missing</td>\n",
       "      <td>Argentine</td>\n",
       "      <td>missing</td>\n",
       "    </tr>\n",
       "    <tr>\n",
       "      <th>138115</th>\n",
       "      <td>Cóctel (Cocktail)</td>\n",
       "      <td>Alejandro Kuropatwa</td>\n",
       "      <td>132939</td>\n",
       "      <td>1996</td>\n",
       "      <td>Chromogenic color print</td>\n",
       "      <td>Photography</td>\n",
       "      <td>2020</td>\n",
       "      <td>missing</td>\n",
       "      <td>missing</td>\n",
       "      <td>Argentine</td>\n",
       "      <td>missing</td>\n",
       "    </tr>\n",
       "    <tr>\n",
       "      <th>138116</th>\n",
       "      <td>Cóctel (Cocktail)</td>\n",
       "      <td>Alejandro Kuropatwa</td>\n",
       "      <td>132939</td>\n",
       "      <td>1996</td>\n",
       "      <td>Chromogenic color print</td>\n",
       "      <td>Photography</td>\n",
       "      <td>2020</td>\n",
       "      <td>missing</td>\n",
       "      <td>missing</td>\n",
       "      <td>Argentine</td>\n",
       "      <td>missing</td>\n",
       "    </tr>\n",
       "    <tr>\n",
       "      <th>138117</th>\n",
       "      <td>Cóctel (Cocktail)</td>\n",
       "      <td>Alejandro Kuropatwa</td>\n",
       "      <td>132939</td>\n",
       "      <td>1996</td>\n",
       "      <td>Chromogenic color print</td>\n",
       "      <td>Photography</td>\n",
       "      <td>2020</td>\n",
       "      <td>missing</td>\n",
       "      <td>missing</td>\n",
       "      <td>Argentine</td>\n",
       "      <td>missing</td>\n",
       "    </tr>\n",
       "    <tr>\n",
       "      <th>138118</th>\n",
       "      <td>May's Blue Eye</td>\n",
       "      <td>Farah Al Qasimi</td>\n",
       "      <td>131770</td>\n",
       "      <td>2020</td>\n",
       "      <td>Pigmented inkjet print</td>\n",
       "      <td>Photography</td>\n",
       "      <td>2020</td>\n",
       "      <td>missing</td>\n",
       "      <td>missing</td>\n",
       "      <td>Emirati</td>\n",
       "      <td>F</td>\n",
       "    </tr>\n",
       "  </tbody>\n",
       "</table>\n",
       "<p>34154 rows × 11 columns</p>\n",
       "</div>"
      ],
      "text/plain": [
       "                                                    Title  \\\n",
       "1       City of Music, National Superior Conservatory ...   \n",
       "3       The Manhattan Transcripts Project, New York, N...   \n",
       "31      The Manhattan Transcripts Project, New York, N...   \n",
       "35      The Manhattan Transcripts Project, New York, N...   \n",
       "40      The Manhattan Transcripts Project, New York, N...   \n",
       "...                                                   ...   \n",
       "138114                                 Cóctel (Cocktail)   \n",
       "138115                                 Cóctel (Cocktail)   \n",
       "138116                                 Cóctel (Cocktail)   \n",
       "138117                                 Cóctel (Cocktail)   \n",
       "138118                                     May's Blue Eye   \n",
       "\n",
       "                          Artist      ID  DateCreated  \\\n",
       "1       Christian de Portzamparc    7470         1987   \n",
       "3                Bernard Tschumi    7056         1980   \n",
       "31               Bernard Tschumi    7056         1980   \n",
       "35               Bernard Tschumi    7056         1980   \n",
       "40               Bernard Tschumi    7056         1980   \n",
       "...                          ...     ...          ...   \n",
       "138114       Alejandro Kuropatwa  132939         1996   \n",
       "138115       Alejandro Kuropatwa  132939         1996   \n",
       "138116       Alejandro Kuropatwa  132939         1996   \n",
       "138117       Alejandro Kuropatwa  132939         1996   \n",
       "138118           Farah Al Qasimi  131770         2020   \n",
       "\n",
       "                                                   Medium  \\\n",
       "1                       Paint and colored pencil on print   \n",
       "3       Photographic reproduction with colored synthet...   \n",
       "31      Photographic reproduction with colored synthet...   \n",
       "35      Photographic reproduction with colored synthet...   \n",
       "40                                   Ink on tracing paper   \n",
       "...                                                   ...   \n",
       "138114                            Chromogenic color print   \n",
       "138115                            Chromogenic color print   \n",
       "138116                            Chromogenic color print   \n",
       "138117                            Chromogenic color print   \n",
       "138118                             Pigmented inkjet print   \n",
       "\n",
       "                   Department DateAcquired  \\\n",
       "1       Architecture & Design         1995   \n",
       "3       Architecture & Design         1995   \n",
       "31      Architecture & Design         1995   \n",
       "35      Architecture & Design         1995   \n",
       "40      Architecture & Design         1995   \n",
       "...                       ...          ...   \n",
       "138114            Photography         2020   \n",
       "138115            Photography         2020   \n",
       "138116            Photography         2020   \n",
       "138117            Photography         2020   \n",
       "138118            Photography         2020   \n",
       "\n",
       "                                            URL  \\\n",
       "1        http://www.moma.org/collection/works/3   \n",
       "3        http://www.moma.org/collection/works/5   \n",
       "31      http://www.moma.org/collection/works/33   \n",
       "35      http://www.moma.org/collection/works/38   \n",
       "40      http://www.moma.org/collection/works/44   \n",
       "...                                         ...   \n",
       "138114                                  missing   \n",
       "138115                                  missing   \n",
       "138116                                  missing   \n",
       "138117                                  missing   \n",
       "138118                                  missing   \n",
       "\n",
       "                                             ThumbnailURL Nationality   Gender  \n",
       "1       http://www.moma.org/media/W1siZiIsIjk3Il0sWyJw...      French        M  \n",
       "3       http://www.moma.org/media/W1siZiIsIjEyNCJdLFsi...     missing        M  \n",
       "31      http://www.moma.org/media/W1siZiIsIjIwMCJdLFsi...     missing        M  \n",
       "35      http://www.moma.org/media/W1siZiIsIjI2NyJdLFsi...     missing        M  \n",
       "40      http://www.moma.org/media/W1siZiIsIjI5NiJdLFsi...     missing        M  \n",
       "...                                                   ...         ...      ...  \n",
       "138114                                            missing   Argentine  missing  \n",
       "138115                                            missing   Argentine  missing  \n",
       "138116                                            missing   Argentine  missing  \n",
       "138117                                            missing   Argentine  missing  \n",
       "138118                                            missing     Emirati        F  \n",
       "\n",
       "[34154 rows x 11 columns]"
      ]
     },
     "execution_count": 6,
     "metadata": {},
     "output_type": "execute_result"
    }
   ],
   "source": [
    "after80"
   ]
  },
  {
   "cell_type": "code",
   "execution_count": 11,
   "metadata": {},
   "outputs": [
    {
     "data": {
      "text/html": [
       "<div>\n",
       "<style scoped>\n",
       "    .dataframe tbody tr th:only-of-type {\n",
       "        vertical-align: middle;\n",
       "    }\n",
       "\n",
       "    .dataframe tbody tr th {\n",
       "        vertical-align: top;\n",
       "    }\n",
       "\n",
       "    .dataframe thead th {\n",
       "        text-align: right;\n",
       "    }\n",
       "</style>\n",
       "<table border=\"1\" class=\"dataframe\">\n",
       "  <thead>\n",
       "    <tr style=\"text-align: right;\">\n",
       "      <th></th>\n",
       "      <th>Title</th>\n",
       "      <th>Artist</th>\n",
       "      <th>ID</th>\n",
       "      <th>DateCreated</th>\n",
       "      <th>Medium</th>\n",
       "      <th>Department</th>\n",
       "      <th>DateAcquired</th>\n",
       "      <th>URL</th>\n",
       "      <th>ThumbnailURL</th>\n",
       "      <th>Nationality</th>\n",
       "      <th>Gender</th>\n",
       "    </tr>\n",
       "  </thead>\n",
       "  <tbody>\n",
       "    <tr>\n",
       "      <th>1</th>\n",
       "      <td>City of Music, National Superior Conservatory ...</td>\n",
       "      <td>Christian de Portzamparc</td>\n",
       "      <td>7470</td>\n",
       "      <td>1987</td>\n",
       "      <td>Paint and colored pencil on print</td>\n",
       "      <td>Architecture &amp; Design</td>\n",
       "      <td>1995</td>\n",
       "      <td>http://www.moma.org/collection/works/3</td>\n",
       "      <td>http://www.moma.org/media/W1siZiIsIjk3Il0sWyJw...</td>\n",
       "      <td>French</td>\n",
       "      <td>M</td>\n",
       "    </tr>\n",
       "    <tr>\n",
       "      <th>3</th>\n",
       "      <td>The Manhattan Transcripts Project, New York, N...</td>\n",
       "      <td>Bernard Tschumi</td>\n",
       "      <td>7056</td>\n",
       "      <td>1980</td>\n",
       "      <td>Photographic reproduction with colored synthet...</td>\n",
       "      <td>Architecture &amp; Design</td>\n",
       "      <td>1995</td>\n",
       "      <td>http://www.moma.org/collection/works/5</td>\n",
       "      <td>http://www.moma.org/media/W1siZiIsIjEyNCJdLFsi...</td>\n",
       "      <td>missing</td>\n",
       "      <td>M</td>\n",
       "    </tr>\n",
       "    <tr>\n",
       "      <th>31</th>\n",
       "      <td>The Manhattan Transcripts Project, New York, N...</td>\n",
       "      <td>Bernard Tschumi</td>\n",
       "      <td>7056</td>\n",
       "      <td>1980</td>\n",
       "      <td>Photographic reproduction with colored synthet...</td>\n",
       "      <td>Architecture &amp; Design</td>\n",
       "      <td>1995</td>\n",
       "      <td>http://www.moma.org/collection/works/33</td>\n",
       "      <td>http://www.moma.org/media/W1siZiIsIjIwMCJdLFsi...</td>\n",
       "      <td>missing</td>\n",
       "      <td>M</td>\n",
       "    </tr>\n",
       "    <tr>\n",
       "      <th>35</th>\n",
       "      <td>The Manhattan Transcripts Project, New York, N...</td>\n",
       "      <td>Bernard Tschumi</td>\n",
       "      <td>7056</td>\n",
       "      <td>1980</td>\n",
       "      <td>Photographic reproduction with colored synthet...</td>\n",
       "      <td>Architecture &amp; Design</td>\n",
       "      <td>1995</td>\n",
       "      <td>http://www.moma.org/collection/works/38</td>\n",
       "      <td>http://www.moma.org/media/W1siZiIsIjI2NyJdLFsi...</td>\n",
       "      <td>missing</td>\n",
       "      <td>M</td>\n",
       "    </tr>\n",
       "    <tr>\n",
       "      <th>40</th>\n",
       "      <td>The Manhattan Transcripts Project, New York, N...</td>\n",
       "      <td>Bernard Tschumi</td>\n",
       "      <td>7056</td>\n",
       "      <td>1980</td>\n",
       "      <td>Ink on tracing paper</td>\n",
       "      <td>Architecture &amp; Design</td>\n",
       "      <td>1995</td>\n",
       "      <td>http://www.moma.org/collection/works/44</td>\n",
       "      <td>http://www.moma.org/media/W1siZiIsIjI5NiJdLFsi...</td>\n",
       "      <td>missing</td>\n",
       "      <td>M</td>\n",
       "    </tr>\n",
       "    <tr>\n",
       "      <th>...</th>\n",
       "      <td>...</td>\n",
       "      <td>...</td>\n",
       "      <td>...</td>\n",
       "      <td>...</td>\n",
       "      <td>...</td>\n",
       "      <td>...</td>\n",
       "      <td>...</td>\n",
       "      <td>...</td>\n",
       "      <td>...</td>\n",
       "      <td>...</td>\n",
       "      <td>...</td>\n",
       "    </tr>\n",
       "    <tr>\n",
       "      <th>138114</th>\n",
       "      <td>Cóctel (Cocktail)</td>\n",
       "      <td>Alejandro Kuropatwa</td>\n",
       "      <td>132939</td>\n",
       "      <td>1996</td>\n",
       "      <td>Chromogenic color print</td>\n",
       "      <td>Photography</td>\n",
       "      <td>2020</td>\n",
       "      <td>missing</td>\n",
       "      <td>missing</td>\n",
       "      <td>Argentine</td>\n",
       "      <td>missing</td>\n",
       "    </tr>\n",
       "    <tr>\n",
       "      <th>138115</th>\n",
       "      <td>Cóctel (Cocktail)</td>\n",
       "      <td>Alejandro Kuropatwa</td>\n",
       "      <td>132939</td>\n",
       "      <td>1996</td>\n",
       "      <td>Chromogenic color print</td>\n",
       "      <td>Photography</td>\n",
       "      <td>2020</td>\n",
       "      <td>missing</td>\n",
       "      <td>missing</td>\n",
       "      <td>Argentine</td>\n",
       "      <td>missing</td>\n",
       "    </tr>\n",
       "    <tr>\n",
       "      <th>138116</th>\n",
       "      <td>Cóctel (Cocktail)</td>\n",
       "      <td>Alejandro Kuropatwa</td>\n",
       "      <td>132939</td>\n",
       "      <td>1996</td>\n",
       "      <td>Chromogenic color print</td>\n",
       "      <td>Photography</td>\n",
       "      <td>2020</td>\n",
       "      <td>missing</td>\n",
       "      <td>missing</td>\n",
       "      <td>Argentine</td>\n",
       "      <td>missing</td>\n",
       "    </tr>\n",
       "    <tr>\n",
       "      <th>138117</th>\n",
       "      <td>Cóctel (Cocktail)</td>\n",
       "      <td>Alejandro Kuropatwa</td>\n",
       "      <td>132939</td>\n",
       "      <td>1996</td>\n",
       "      <td>Chromogenic color print</td>\n",
       "      <td>Photography</td>\n",
       "      <td>2020</td>\n",
       "      <td>missing</td>\n",
       "      <td>missing</td>\n",
       "      <td>Argentine</td>\n",
       "      <td>missing</td>\n",
       "    </tr>\n",
       "    <tr>\n",
       "      <th>138118</th>\n",
       "      <td>May's Blue Eye</td>\n",
       "      <td>Farah Al Qasimi</td>\n",
       "      <td>131770</td>\n",
       "      <td>2020</td>\n",
       "      <td>Pigmented inkjet print</td>\n",
       "      <td>Photography</td>\n",
       "      <td>2020</td>\n",
       "      <td>missing</td>\n",
       "      <td>missing</td>\n",
       "      <td>Emirati</td>\n",
       "      <td>F</td>\n",
       "    </tr>\n",
       "  </tbody>\n",
       "</table>\n",
       "<p>34153 rows × 11 columns</p>\n",
       "</div>"
      ],
      "text/plain": [
       "                                                    Title  \\\n",
       "1       City of Music, National Superior Conservatory ...   \n",
       "3       The Manhattan Transcripts Project, New York, N...   \n",
       "31      The Manhattan Transcripts Project, New York, N...   \n",
       "35      The Manhattan Transcripts Project, New York, N...   \n",
       "40      The Manhattan Transcripts Project, New York, N...   \n",
       "...                                                   ...   \n",
       "138114                                 Cóctel (Cocktail)   \n",
       "138115                                 Cóctel (Cocktail)   \n",
       "138116                                 Cóctel (Cocktail)   \n",
       "138117                                 Cóctel (Cocktail)   \n",
       "138118                                     May's Blue Eye   \n",
       "\n",
       "                          Artist      ID  DateCreated  \\\n",
       "1       Christian de Portzamparc    7470         1987   \n",
       "3                Bernard Tschumi    7056         1980   \n",
       "31               Bernard Tschumi    7056         1980   \n",
       "35               Bernard Tschumi    7056         1980   \n",
       "40               Bernard Tschumi    7056         1980   \n",
       "...                          ...     ...          ...   \n",
       "138114       Alejandro Kuropatwa  132939         1996   \n",
       "138115       Alejandro Kuropatwa  132939         1996   \n",
       "138116       Alejandro Kuropatwa  132939         1996   \n",
       "138117       Alejandro Kuropatwa  132939         1996   \n",
       "138118           Farah Al Qasimi  131770         2020   \n",
       "\n",
       "                                                   Medium  \\\n",
       "1                       Paint and colored pencil on print   \n",
       "3       Photographic reproduction with colored synthet...   \n",
       "31      Photographic reproduction with colored synthet...   \n",
       "35      Photographic reproduction with colored synthet...   \n",
       "40                                   Ink on tracing paper   \n",
       "...                                                   ...   \n",
       "138114                            Chromogenic color print   \n",
       "138115                            Chromogenic color print   \n",
       "138116                            Chromogenic color print   \n",
       "138117                            Chromogenic color print   \n",
       "138118                             Pigmented inkjet print   \n",
       "\n",
       "                   Department DateAcquired  \\\n",
       "1       Architecture & Design         1995   \n",
       "3       Architecture & Design         1995   \n",
       "31      Architecture & Design         1995   \n",
       "35      Architecture & Design         1995   \n",
       "40      Architecture & Design         1995   \n",
       "...                       ...          ...   \n",
       "138114            Photography         2020   \n",
       "138115            Photography         2020   \n",
       "138116            Photography         2020   \n",
       "138117            Photography         2020   \n",
       "138118            Photography         2020   \n",
       "\n",
       "                                            URL  \\\n",
       "1        http://www.moma.org/collection/works/3   \n",
       "3        http://www.moma.org/collection/works/5   \n",
       "31      http://www.moma.org/collection/works/33   \n",
       "35      http://www.moma.org/collection/works/38   \n",
       "40      http://www.moma.org/collection/works/44   \n",
       "...                                         ...   \n",
       "138114                                  missing   \n",
       "138115                                  missing   \n",
       "138116                                  missing   \n",
       "138117                                  missing   \n",
       "138118                                  missing   \n",
       "\n",
       "                                             ThumbnailURL Nationality   Gender  \n",
       "1       http://www.moma.org/media/W1siZiIsIjk3Il0sWyJw...      French        M  \n",
       "3       http://www.moma.org/media/W1siZiIsIjEyNCJdLFsi...     missing        M  \n",
       "31      http://www.moma.org/media/W1siZiIsIjIwMCJdLFsi...     missing        M  \n",
       "35      http://www.moma.org/media/W1siZiIsIjI2NyJdLFsi...     missing        M  \n",
       "40      http://www.moma.org/media/W1siZiIsIjI5NiJdLFsi...     missing        M  \n",
       "...                                                   ...         ...      ...  \n",
       "138114                                            missing   Argentine  missing  \n",
       "138115                                            missing   Argentine  missing  \n",
       "138116                                            missing   Argentine  missing  \n",
       "138117                                            missing   Argentine  missing  \n",
       "138118                                            missing     Emirati        F  \n",
       "\n",
       "[34153 rows x 11 columns]"
      ]
     },
     "execution_count": 11,
     "metadata": {},
     "output_type": "execute_result"
    }
   ],
   "source": [
    "id = after80[after80['DateAcquired']=='1943'].index\n",
    "after80=after80.drop(68401)\n",
    "after80"
   ]
  },
  {
   "cell_type": "code",
   "execution_count": 8,
   "metadata": {},
   "outputs": [
    {
     "name": "stderr",
     "output_type": "stream",
     "text": [
      "/var/folders/qj/xh48vw9d4z5_h6wzs6r2smdh0000gn/T/ipykernel_2916/1558773548.py:8: SettingWithCopyWarning:\n",
      "\n",
      "\n",
      "A value is trying to be set on a copy of a slice from a DataFrame.\n",
      "Try using .loc[row_indexer,col_indexer] = value instead\n",
      "\n",
      "See the caveats in the documentation: https://pandas.pydata.org/pandas-docs/stable/user_guide/indexing.html#returning-a-view-versus-a-copy\n",
      "\n"
     ]
    },
    {
     "data": {
      "text/html": [
       "<div>\n",
       "<style scoped>\n",
       "    .dataframe tbody tr th:only-of-type {\n",
       "        vertical-align: middle;\n",
       "    }\n",
       "\n",
       "    .dataframe tbody tr th {\n",
       "        vertical-align: top;\n",
       "    }\n",
       "\n",
       "    .dataframe thead th {\n",
       "        text-align: right;\n",
       "    }\n",
       "</style>\n",
       "<table border=\"1\" class=\"dataframe\">\n",
       "  <thead>\n",
       "    <tr style=\"text-align: right;\">\n",
       "      <th></th>\n",
       "      <th>Nation</th>\n",
       "      <th>DateAcquired</th>\n",
       "      <th>Count</th>\n",
       "      <th>Females</th>\n",
       "    </tr>\n",
       "  </thead>\n",
       "  <tbody>\n",
       "    <tr>\n",
       "      <th>0</th>\n",
       "      <td>Hungarian</td>\n",
       "      <td>1981</td>\n",
       "      <td>1</td>\n",
       "      <td>0</td>\n",
       "    </tr>\n",
       "    <tr>\n",
       "      <th>1</th>\n",
       "      <td>Hungarian</td>\n",
       "      <td>1984</td>\n",
       "      <td>1</td>\n",
       "      <td>0</td>\n",
       "    </tr>\n",
       "    <tr>\n",
       "      <th>2</th>\n",
       "      <td>Hungarian</td>\n",
       "      <td>1988</td>\n",
       "      <td>1</td>\n",
       "      <td>0</td>\n",
       "    </tr>\n",
       "    <tr>\n",
       "      <th>3</th>\n",
       "      <td>Hungarian</td>\n",
       "      <td>1995</td>\n",
       "      <td>1</td>\n",
       "      <td>0</td>\n",
       "    </tr>\n",
       "    <tr>\n",
       "      <th>4</th>\n",
       "      <td>Hungarian</td>\n",
       "      <td>1998</td>\n",
       "      <td>8</td>\n",
       "      <td>0</td>\n",
       "    </tr>\n",
       "    <tr>\n",
       "      <th>...</th>\n",
       "      <td>...</td>\n",
       "      <td>...</td>\n",
       "      <td>...</td>\n",
       "      <td>...</td>\n",
       "    </tr>\n",
       "    <tr>\n",
       "      <th>1002</th>\n",
       "      <td>Greek</td>\n",
       "      <td>1989</td>\n",
       "      <td>3</td>\n",
       "      <td>0</td>\n",
       "    </tr>\n",
       "    <tr>\n",
       "      <th>1003</th>\n",
       "      <td>Greek</td>\n",
       "      <td>1998</td>\n",
       "      <td>1</td>\n",
       "      <td>0</td>\n",
       "    </tr>\n",
       "    <tr>\n",
       "      <th>1004</th>\n",
       "      <td>Greek</td>\n",
       "      <td>1999</td>\n",
       "      <td>1</td>\n",
       "      <td>0</td>\n",
       "    </tr>\n",
       "    <tr>\n",
       "      <th>1005</th>\n",
       "      <td>Greek</td>\n",
       "      <td>2005</td>\n",
       "      <td>1</td>\n",
       "      <td>0</td>\n",
       "    </tr>\n",
       "    <tr>\n",
       "      <th>1006</th>\n",
       "      <td>Greek</td>\n",
       "      <td>2014</td>\n",
       "      <td>1</td>\n",
       "      <td>0</td>\n",
       "    </tr>\n",
       "  </tbody>\n",
       "</table>\n",
       "<p>1007 rows × 4 columns</p>\n",
       "</div>"
      ],
      "text/plain": [
       "         Nation  DateAcquired  Count  Females\n",
       "0     Hungarian          1981      1        0\n",
       "1     Hungarian          1984      1        0\n",
       "2     Hungarian          1988      1        0\n",
       "3     Hungarian          1995      1        0\n",
       "4     Hungarian          1998      8        0\n",
       "...         ...           ...    ...      ...\n",
       "1002      Greek          1989      3        0\n",
       "1003      Greek          1998      1        0\n",
       "1004      Greek          1999      1        0\n",
       "1005      Greek          2005      1        0\n",
       "1006      Greek          2014      1        0\n",
       "\n",
       "[1007 rows x 4 columns]"
      ]
     },
     "execution_count": 8,
     "metadata": {},
     "output_type": "execute_result"
    }
   ],
   "source": [
    "after80.Nationality = after80.Nationality.astype('str')\n",
    "nats = ', '.join(after80.Nationality)\n",
    "nats = list(set(nats.split(', ')))\n",
    "df_nats_after = pd.DataFrame()\n",
    "\n",
    "for country in nats:\n",
    "    nat_sub =  after80[after80.Nationality == country]    \n",
    "    nat_sub.DateAcquired = nat_sub.DateAcquired.astype('str')\n",
    "    years = ', '.join(nat_sub.DateAcquired)\n",
    "    years = sorted(list([item[:4] for item in list(set(years.split(', ')))]))[0:-1]\n",
    "    for year in years:\n",
    "        year_sub = nat_sub[nat_sub.DateAcquired == year]\n",
    "        entries_year = len(year_sub)\n",
    "        f_count = len(year_sub[year_sub.Gender == 'F'])\n",
    "        new_row = pd.DataFrame([[country, year, entries_year, f_count]])\n",
    "        df_nats_after = pd.concat([df_nats_after, new_row], axis=0, ignore_index=True)\n",
    "\n",
    "df_nats_after.columns= [\"Nation\", \"DateAcquired\", \"Count\", \"Females\"]\n",
    "\n",
    "df_nats_after.DateAcquired = df_nats_after.DateAcquired.astype('int')\n",
    "\n",
    "df_nats_after   "
   ]
  },
  {
   "cell_type": "code",
   "execution_count": 9,
   "metadata": {},
   "outputs": [
    {
     "data": {
      "application/vnd.plotly.v1+json": {
       "config": {
        "plotlyServerURL": "https://plot.ly"
       },
       "data": [
        {
         "fillpattern": {
          "shape": ""
         },
         "hovertemplate": "Nation=Hungarian<br>DateAcquired=%{x}<br>Count=%{y}<extra></extra>",
         "legendgroup": "Hungarian",
         "line": {
          "color": "#636efa"
         },
         "marker": {
          "symbol": "circle"
         },
         "mode": "lines",
         "name": "Hungarian",
         "orientation": "v",
         "showlegend": true,
         "stackgroup": "1",
         "type": "scatter",
         "x": [
          1981,
          1984,
          1988,
          1995,
          1998,
          2000,
          2001,
          2006,
          2012,
          2013,
          2015
         ],
         "xaxis": "x",
         "y": [
          1,
          1,
          1,
          1,
          8,
          2,
          1,
          3,
          2,
          1,
          18
         ],
         "yaxis": "y"
        },
        {
         "fillpattern": {
          "shape": ""
         },
         "hovertemplate": "Nation=Austrian<br>DateAcquired=%{x}<br>Count=%{y}<extra></extra>",
         "legendgroup": "Austrian",
         "line": {
          "color": "#EF553B"
         },
         "marker": {
          "symbol": "circle"
         },
         "mode": "lines",
         "name": "Austrian",
         "orientation": "v",
         "showlegend": true,
         "stackgroup": "1",
         "type": "scatter",
         "x": [
          1982,
          1983,
          1985,
          1986,
          1987,
          1988,
          1990,
          1992,
          1993,
          1994,
          1996,
          1997,
          1998,
          1999,
          2001,
          2002,
          2005,
          2006,
          2007,
          2008,
          2010,
          2011,
          2012,
          2014,
          2015,
          2016,
          2017,
          2018
         ],
         "xaxis": "x",
         "y": [
          3,
          1,
          1,
          2,
          3,
          1,
          10,
          1,
          1,
          1,
          3,
          8,
          2,
          1,
          1,
          2,
          70,
          74,
          3,
          7,
          1,
          6,
          13,
          2,
          1,
          2,
          2,
          12
         ],
         "yaxis": "y"
        },
        {
         "fillpattern": {
          "shape": ""
         },
         "hovertemplate": "Nation=Brazilian<br>DateAcquired=%{x}<br>Count=%{y}<extra></extra>",
         "legendgroup": "Brazilian",
         "line": {
          "color": "#00cc96"
         },
         "marker": {
          "symbol": "circle"
         },
         "mode": "lines",
         "name": "Brazilian",
         "orientation": "v",
         "showlegend": true,
         "stackgroup": "1",
         "type": "scatter",
         "x": [
          1981,
          1986,
          1990,
          1991,
          1992,
          1994,
          1996,
          1997,
          1998,
          1999,
          2000,
          2001,
          2002,
          2003,
          2005,
          2006,
          2007,
          2008,
          2009,
          2010,
          2011,
          2012,
          2013,
          2014,
          2015,
          2016,
          2017,
          2018,
          2020
         ],
         "xaxis": "x",
         "y": [
          1,
          1,
          1,
          3,
          1,
          6,
          2,
          9,
          1,
          6,
          8,
          42,
          3,
          1,
          17,
          5,
          3,
          20,
          8,
          3,
          3,
          2,
          7,
          18,
          5,
          18,
          25,
          25,
          6
         ],
         "yaxis": "y"
        },
        {
         "fillpattern": {
          "shape": ""
         },
         "hovertemplate": "Nation=Lithuanian<br>DateAcquired=%{x}<br>Count=%{y}<extra></extra>",
         "legendgroup": "Lithuanian",
         "line": {
          "color": "#ab63fa"
         },
         "marker": {
          "symbol": "circle"
         },
         "mode": "lines",
         "name": "Lithuanian",
         "orientation": "v",
         "showlegend": true,
         "stackgroup": "1",
         "type": "scatter",
         "x": [
          2006,
          2008,
          2011
         ],
         "xaxis": "x",
         "y": [
          2,
          1,
          1
         ],
         "yaxis": "y"
        },
        {
         "fillpattern": {
          "shape": ""
         },
         "hovertemplate": "Nation=Danish<br>DateAcquired=%{x}<br>Count=%{y}<extra></extra>",
         "legendgroup": "Danish",
         "line": {
          "color": "#FFA15A"
         },
         "marker": {
          "symbol": "circle"
         },
         "mode": "lines",
         "name": "Danish",
         "orientation": "v",
         "showlegend": true,
         "stackgroup": "1",
         "type": "scatter",
         "x": [
          1981,
          1983,
          1984,
          1985,
          1988,
          1990,
          1992,
          1993,
          1997,
          2001,
          2002,
          2004,
          2005,
          2006,
          2007,
          2008,
          2009,
          2010,
          2011,
          2012,
          2013,
          2014,
          2017
         ],
         "xaxis": "x",
         "y": [
          3,
          7,
          2,
          9,
          1,
          1,
          1,
          1,
          2,
          1,
          2,
          2,
          5,
          8,
          4,
          20,
          1,
          3,
          2,
          1,
          2,
          2,
          1
         ],
         "yaxis": "y"
        },
        {
         "fillpattern": {
          "shape": ""
         },
         "hovertemplate": "Nation=Ukrainian<br>DateAcquired=%{x}<br>Count=%{y}<extra></extra>",
         "legendgroup": "Ukrainian",
         "line": {
          "color": "#19d3f3"
         },
         "marker": {
          "symbol": "circle"
         },
         "mode": "lines",
         "name": "Ukrainian",
         "orientation": "v",
         "showlegend": true,
         "stackgroup": "1",
         "type": "scatter",
         "x": [
          1984,
          1993,
          1998,
          2001
         ],
         "xaxis": "x",
         "y": [
          1,
          17,
          1,
          9
         ],
         "yaxis": "y"
        },
        {
         "fillpattern": {
          "shape": ""
         },
         "hovertemplate": "Nation=Georgian<br>DateAcquired=%{x}<br>Count=%{y}<extra></extra>",
         "legendgroup": "Georgian",
         "line": {
          "color": "#FF6692"
         },
         "marker": {
          "symbol": "circle"
         },
         "mode": "lines",
         "name": "Georgian",
         "orientation": "v",
         "showlegend": true,
         "stackgroup": "1",
         "type": "scatter",
         "x": [
          2005,
          2008,
          2011,
          2014
         ],
         "xaxis": "x",
         "y": [
          3,
          1,
          1,
          1
         ],
         "yaxis": "y"
        },
        {
         "fillpattern": {
          "shape": ""
         },
         "hovertemplate": "Nation=Lebanese<br>DateAcquired=%{x}<br>Count=%{y}<extra></extra>",
         "legendgroup": "Lebanese",
         "line": {
          "color": "#B6E880"
         },
         "marker": {
          "symbol": "circle"
         },
         "mode": "lines",
         "name": "Lebanese",
         "orientation": "v",
         "showlegend": true,
         "stackgroup": "1",
         "type": "scatter",
         "x": [
          2003,
          2004,
          2008,
          2011,
          2012,
          2013,
          2014,
          2016,
          2017
         ],
         "xaxis": "x",
         "y": [
          1,
          1,
          32,
          1,
          3,
          5,
          1,
          2,
          1
         ],
         "yaxis": "y"
        },
        {
         "fillpattern": {
          "shape": ""
         },
         "hovertemplate": "Nation=Romanian<br>DateAcquired=%{x}<br>Count=%{y}<extra></extra>",
         "legendgroup": "Romanian",
         "line": {
          "color": "#FF97FF"
         },
         "marker": {
          "symbol": "circle"
         },
         "mode": "lines",
         "name": "Romanian",
         "orientation": "v",
         "showlegend": true,
         "stackgroup": "1",
         "type": "scatter",
         "x": [
          1995,
          1998,
          2006,
          2007,
          2013,
          2017
         ],
         "xaxis": "x",
         "y": [
          1,
          1,
          2,
          2,
          4,
          1
         ],
         "yaxis": "y"
        },
        {
         "fillpattern": {
          "shape": ""
         },
         "hovertemplate": "Nation=Luxembourgish<br>DateAcquired=%{x}<br>Count=%{y}<extra></extra>",
         "legendgroup": "Luxembourgish",
         "line": {
          "color": "#FECB52"
         },
         "marker": {
          "symbol": "circle"
         },
         "mode": "lines",
         "name": "Luxembourgish",
         "orientation": "v",
         "showlegend": true,
         "stackgroup": "1",
         "type": "scatter",
         "x": [
          1984,
          1985,
          1994,
          2006
         ],
         "xaxis": "x",
         "y": [
          1,
          9,
          1,
          20
         ],
         "yaxis": "y"
        },
        {
         "fillpattern": {
          "shape": ""
         },
         "hovertemplate": "Nation=Norwegian<br>DateAcquired=%{x}<br>Count=%{y}<extra></extra>",
         "legendgroup": "Norwegian",
         "line": {
          "color": "#636efa"
         },
         "marker": {
          "symbol": "circle"
         },
         "mode": "lines",
         "name": "Norwegian",
         "orientation": "v",
         "showlegend": true,
         "stackgroup": "1",
         "type": "scatter",
         "x": [
          1982,
          1988,
          1990,
          1992,
          2005,
          2006,
          2007,
          2009,
          2012,
          2013
         ],
         "xaxis": "x",
         "y": [
          1,
          2,
          2,
          4,
          4,
          1,
          1,
          1,
          48,
          3
         ],
         "yaxis": "y"
        },
        {
         "fillpattern": {
          "shape": ""
         },
         "hovertemplate": "Nation=Bulgarian<br>DateAcquired=%{x}<br>Count=%{y}<extra></extra>",
         "legendgroup": "Bulgarian",
         "line": {
          "color": "#EF553B"
         },
         "marker": {
          "symbol": "circle"
         },
         "mode": "lines",
         "name": "Bulgarian",
         "orientation": "v",
         "showlegend": true,
         "stackgroup": "1",
         "type": "scatter",
         "x": [
          2004,
          2005
         ],
         "xaxis": "x",
         "y": [
          4,
          2
         ],
         "yaxis": "y"
        },
        {
         "fillpattern": {
          "shape": ""
         },
         "hovertemplate": "Nation=Singaporean<br>DateAcquired=%{x}<br>Count=%{y}<extra></extra>",
         "legendgroup": "Singaporean",
         "line": {
          "color": "#00cc96"
         },
         "marker": {
          "symbol": "circle"
         },
         "mode": "lines",
         "name": "Singaporean",
         "orientation": "v",
         "showlegend": true,
         "stackgroup": "1",
         "type": "scatter",
         "x": [
          2006
         ],
         "xaxis": "x",
         "y": [
          1
         ],
         "yaxis": "y"
        },
        {
         "fillpattern": {
          "shape": ""
         },
         "hovertemplate": "Nation=Swiss<br>DateAcquired=%{x}<br>Count=%{y}<extra></extra>",
         "legendgroup": "Swiss",
         "line": {
          "color": "#ab63fa"
         },
         "marker": {
          "symbol": "circle"
         },
         "mode": "lines",
         "name": "Swiss",
         "orientation": "v",
         "showlegend": true,
         "stackgroup": "1",
         "type": "scatter",
         "x": [
          1981,
          1982,
          1983,
          1984,
          1985,
          1986,
          1987,
          1988,
          1989,
          1990,
          1991,
          1992,
          1993,
          1994,
          1995,
          1996,
          1997,
          1998,
          1999,
          2000,
          2001,
          2003,
          2004,
          2005,
          2006,
          2007,
          2008,
          2009,
          2010,
          2011,
          2012,
          2013,
          2014,
          2015,
          2016,
          2017,
          2018
         ],
         "xaxis": "x",
         "y": [
          6,
          1,
          1,
          1,
          26,
          13,
          35,
          23,
          1,
          13,
          2,
          2,
          35,
          5,
          2,
          3,
          16,
          9,
          7,
          3,
          2,
          22,
          1,
          57,
          13,
          195,
          23,
          5,
          6,
          11,
          13,
          36,
          24,
          12,
          7,
          2,
          103
         ],
         "yaxis": "y"
        },
        {
         "fillpattern": {
          "shape": ""
         },
         "hovertemplate": "Nation=South African<br>DateAcquired=%{x}<br>Count=%{y}<extra></extra>",
         "legendgroup": "South African",
         "line": {
          "color": "#FFA15A"
         },
         "marker": {
          "symbol": "circle"
         },
         "mode": "lines",
         "name": "South African",
         "orientation": "v",
         "showlegend": true,
         "stackgroup": "1",
         "type": "scatter",
         "x": [
          1996,
          1998,
          1999,
          2000,
          2001,
          2002,
          2004,
          2005,
          2006,
          2007,
          2008,
          2009,
          2010,
          2011,
          2012,
          2013,
          2014,
          2015,
          2016,
          2017,
          2018
         ],
         "xaxis": "x",
         "y": [
          2,
          25,
          3,
          1,
          12,
          4,
          19,
          70,
          56,
          46,
          7,
          22,
          32,
          1,
          1,
          4,
          1,
          11,
          1,
          2,
          2
         ],
         "yaxis": "y"
        },
        {
         "fillpattern": {
          "shape": ""
         },
         "hovertemplate": "Nation=Polish<br>DateAcquired=%{x}<br>Count=%{y}<extra></extra>",
         "legendgroup": "Polish",
         "line": {
          "color": "#19d3f3"
         },
         "marker": {
          "symbol": "circle"
         },
         "mode": "lines",
         "name": "Polish",
         "orientation": "v",
         "showlegend": true,
         "stackgroup": "1",
         "type": "scatter",
         "x": [
          1981,
          1982,
          1983,
          1984,
          1985,
          1986,
          1992,
          1993,
          1994,
          1997,
          1998,
          2001,
          2002,
          2003,
          2005,
          2006,
          2008,
          2010,
          2011,
          2012,
          2013,
          2014,
          2015,
          2017
         ],
         "xaxis": "x",
         "y": [
          2,
          2,
          2,
          8,
          7,
          4,
          10,
          1,
          2,
          1,
          2,
          1,
          2,
          1,
          17,
          3,
          36,
          6,
          1,
          2,
          8,
          4,
          24,
          1
         ],
         "yaxis": "y"
        },
        {
         "fillpattern": {
          "shape": ""
         },
         "hovertemplate": "Nation=Slovak<br>DateAcquired=%{x}<br>Count=%{y}<extra></extra>",
         "legendgroup": "Slovak",
         "line": {
          "color": "#FF6692"
         },
         "marker": {
          "symbol": "circle"
         },
         "mode": "lines",
         "name": "Slovak",
         "orientation": "v",
         "showlegend": true,
         "stackgroup": "1",
         "type": "scatter",
         "x": [
          2006,
          2009,
          2010
         ],
         "xaxis": "x",
         "y": [
          5,
          1,
          1
         ],
         "yaxis": "y"
        },
        {
         "fillpattern": {
          "shape": ""
         },
         "hovertemplate": "Nation=Zimbabwean<br>DateAcquired=%{x}<br>Count=%{y}<extra></extra>",
         "legendgroup": "Zimbabwean",
         "line": {
          "color": "#B6E880"
         },
         "marker": {
          "symbol": "circle"
         },
         "mode": "lines",
         "name": "Zimbabwean",
         "orientation": "v",
         "showlegend": true,
         "stackgroup": "1",
         "type": "scatter",
         "x": [
          2010
         ],
         "xaxis": "x",
         "y": [
          8
         ],
         "yaxis": "y"
        },
        {
         "fillpattern": {
          "shape": ""
         },
         "hovertemplate": "Nation=Chilean<br>DateAcquired=%{x}<br>Count=%{y}<extra></extra>",
         "legendgroup": "Chilean",
         "line": {
          "color": "#FF97FF"
         },
         "marker": {
          "symbol": "circle"
         },
         "mode": "lines",
         "name": "Chilean",
         "orientation": "v",
         "showlegend": true,
         "stackgroup": "1",
         "type": "scatter",
         "x": [
          1982,
          1984,
          1986,
          1992,
          1994,
          1995,
          1997,
          1998,
          2004,
          2010,
          2011,
          2013,
          2014,
          2015,
          2017,
          2018
         ],
         "xaxis": "x",
         "y": [
          1,
          10,
          4,
          92,
          7,
          1,
          2,
          1,
          2,
          3,
          1,
          12,
          24,
          3,
          12,
          59
         ],
         "yaxis": "y"
        },
        {
         "fillpattern": {
          "shape": ""
         },
         "hovertemplate": "Nation=Venezuelan<br>DateAcquired=%{x}<br>Count=%{y}<extra></extra>",
         "legendgroup": "Venezuelan",
         "line": {
          "color": "#FECB52"
         },
         "marker": {
          "symbol": "circle"
         },
         "mode": "lines",
         "name": "Venezuelan",
         "orientation": "v",
         "showlegend": true,
         "stackgroup": "1",
         "type": "scatter",
         "x": [
          2002,
          2004,
          2005,
          2007,
          2010,
          2014,
          2015,
          2016
         ],
         "xaxis": "x",
         "y": [
          12,
          1,
          3,
          4,
          3,
          3,
          10,
          4
         ],
         "yaxis": "y"
        },
        {
         "fillpattern": {
          "shape": ""
         },
         "hovertemplate": "Nation=Native American<br>DateAcquired=%{x}<br>Count=%{y}<extra></extra>",
         "legendgroup": "Native American",
         "line": {
          "color": "#636efa"
         },
         "marker": {
          "symbol": "circle"
         },
         "mode": "lines",
         "name": "Native American",
         "orientation": "v",
         "showlegend": true,
         "stackgroup": "1",
         "type": "scatter",
         "x": [
          1981,
          1986
         ],
         "xaxis": "x",
         "y": [
          1,
          1
         ],
         "yaxis": "y"
        },
        {
         "fillpattern": {
          "shape": ""
         },
         "hovertemplate": "Nation=Malaysian<br>DateAcquired=%{x}<br>Count=%{y}<extra></extra>",
         "legendgroup": "Malaysian",
         "line": {
          "color": "#EF553B"
         },
         "marker": {
          "symbol": "circle"
         },
         "mode": "lines",
         "name": "Malaysian",
         "orientation": "v",
         "showlegend": true,
         "stackgroup": "1",
         "type": "scatter",
         "x": [
          2006,
          2012,
          2014
         ],
         "xaxis": "x",
         "y": [
          2,
          2,
          1
         ],
         "yaxis": "y"
        },
        {
         "fillpattern": {
          "shape": ""
         },
         "hovertemplate": "Nation=Nationality unknown<br>DateAcquired=%{x}<br>Count=%{y}<extra></extra>",
         "legendgroup": "Nationality unknown",
         "line": {
          "color": "#00cc96"
         },
         "marker": {
          "symbol": "circle"
         },
         "mode": "lines",
         "name": "Nationality unknown",
         "orientation": "v",
         "showlegend": true,
         "stackgroup": "1",
         "type": "scatter",
         "x": [
          1985,
          1994,
          1996,
          1998,
          2001,
          2010,
          2012,
          2015
         ],
         "xaxis": "x",
         "y": [
          1,
          1,
          1,
          1,
          3,
          1,
          49,
          4
         ],
         "yaxis": "y"
        },
        {
         "fillpattern": {
          "shape": ""
         },
         "hovertemplate": "Nation=missing<br>DateAcquired=%{x}<br>Count=%{y}<extra></extra>",
         "legendgroup": "missing",
         "line": {
          "color": "#ab63fa"
         },
         "marker": {
          "symbol": "circle"
         },
         "mode": "lines",
         "name": "missing",
         "orientation": "v",
         "showlegend": true,
         "stackgroup": "1",
         "type": "scatter",
         "x": [
          1985,
          1986,
          1988,
          1989,
          1990,
          1992,
          1993,
          1994,
          1995,
          1996,
          1997,
          1998,
          1999,
          2000,
          2001,
          2002,
          2003,
          2005,
          2006,
          2007,
          2008,
          2009,
          2010,
          2011,
          2012,
          2013,
          2014,
          2015,
          2016,
          2017,
          2018,
          2019,
          2020
         ],
         "xaxis": "x",
         "y": [
          1,
          1,
          3,
          1,
          2,
          2,
          1,
          2,
          21,
          1,
          3,
          49,
          9,
          2,
          2,
          3,
          1,
          17,
          97,
          26,
          34,
          48,
          18,
          1,
          35,
          90,
          16,
          39,
          7,
          5,
          6,
          5,
          4
         ],
         "yaxis": "y"
        },
        {
         "fillpattern": {
          "shape": ""
         },
         "hovertemplate": "Nation=Scottish<br>DateAcquired=%{x}<br>Count=%{y}<extra></extra>",
         "legendgroup": "Scottish",
         "line": {
          "color": "#FFA15A"
         },
         "marker": {
          "symbol": "circle"
         },
         "mode": "lines",
         "name": "Scottish",
         "orientation": "v",
         "showlegend": true,
         "stackgroup": "1",
         "type": "scatter",
         "x": [
          1998,
          2001,
          2005,
          2006,
          2007,
          2008,
          2012
         ],
         "xaxis": "x",
         "y": [
          1,
          1,
          26,
          7,
          1,
          1,
          13
         ],
         "yaxis": "y"
        },
        {
         "fillpattern": {
          "shape": ""
         },
         "hovertemplate": "Nation=Swedish<br>DateAcquired=%{x}<br>Count=%{y}<extra></extra>",
         "legendgroup": "Swedish",
         "line": {
          "color": "#19d3f3"
         },
         "marker": {
          "symbol": "circle"
         },
         "mode": "lines",
         "name": "Swedish",
         "orientation": "v",
         "showlegend": true,
         "stackgroup": "1",
         "type": "scatter",
         "x": [
          1981,
          1983,
          1988,
          1989,
          1995,
          2001,
          2002,
          2004,
          2005,
          2006,
          2008,
          2009,
          2012,
          2013,
          2016,
          2017
         ],
         "xaxis": "x",
         "y": [
          1,
          2,
          1,
          1,
          1,
          3,
          1,
          3,
          3,
          1,
          4,
          3,
          2,
          3,
          4,
          2
         ],
         "yaxis": "y"
        },
        {
         "fillpattern": {
          "shape": ""
         },
         "hovertemplate": "Nation=Korean<br>DateAcquired=%{x}<br>Count=%{y}<extra></extra>",
         "legendgroup": "Korean",
         "line": {
          "color": "#FF6692"
         },
         "marker": {
          "symbol": "circle"
         },
         "mode": "lines",
         "name": "Korean",
         "orientation": "v",
         "showlegend": true,
         "stackgroup": "1",
         "type": "scatter",
         "x": [
          2000,
          2001,
          2002,
          2003,
          2004,
          2005,
          2006,
          2010,
          2011,
          2012,
          2013,
          2014,
          2015,
          2016,
          2017
         ],
         "xaxis": "x",
         "y": [
          2,
          1,
          2,
          4,
          1,
          9,
          1,
          24,
          1,
          3,
          1,
          4,
          2,
          10,
          2
         ],
         "yaxis": "y"
        },
        {
         "fillpattern": {
          "shape": ""
         },
         "hovertemplate": "Nation=Spanish<br>DateAcquired=%{x}<br>Count=%{y}<extra></extra>",
         "legendgroup": "Spanish",
         "line": {
          "color": "#B6E880"
         },
         "marker": {
          "symbol": "circle"
         },
         "mode": "lines",
         "name": "Spanish",
         "orientation": "v",
         "showlegend": true,
         "stackgroup": "1",
         "type": "scatter",
         "x": [
          1983,
          1985,
          1986,
          1987,
          1988,
          1989,
          1990,
          1991,
          1992,
          1993,
          1994,
          1995,
          1996,
          1997,
          1998,
          1999,
          2000,
          2001,
          2004,
          2005,
          2006,
          2007,
          2008,
          2012,
          2013,
          2015,
          2017,
          2018
         ],
         "xaxis": "x",
         "y": [
          6,
          8,
          16,
          20,
          1,
          8,
          118,
          10,
          35,
          56,
          8,
          2,
          4,
          2,
          10,
          6,
          4,
          1,
          3,
          31,
          10,
          1,
          2,
          1,
          34,
          30,
          2,
          2
         ],
         "yaxis": "y"
        },
        {
         "fillpattern": {
          "shape": ""
         },
         "hovertemplate": "Nation=Algerian<br>DateAcquired=%{x}<br>Count=%{y}<extra></extra>",
         "legendgroup": "Algerian",
         "line": {
          "color": "#FF97FF"
         },
         "marker": {
          "symbol": "circle"
         },
         "mode": "lines",
         "name": "Algerian",
         "orientation": "v",
         "showlegend": true,
         "stackgroup": "1",
         "type": "scatter",
         "x": [
          2013
         ],
         "xaxis": "x",
         "y": [
          2
         ],
         "yaxis": "y"
        },
        {
         "fillpattern": {
          "shape": ""
         },
         "hovertemplate": "Nation=Colombian<br>DateAcquired=%{x}<br>Count=%{y}<extra></extra>",
         "legendgroup": "Colombian",
         "line": {
          "color": "#FECB52"
         },
         "marker": {
          "symbol": "circle"
         },
         "mode": "lines",
         "name": "Colombian",
         "orientation": "v",
         "showlegend": true,
         "stackgroup": "1",
         "type": "scatter",
         "x": [
          1982,
          1987,
          1991,
          1993,
          1996,
          2004,
          2005,
          2006,
          2007,
          2008,
          2009,
          2010,
          2011,
          2012,
          2014,
          2015,
          2017,
          2018,
          2019
         ],
         "xaxis": "x",
         "y": [
          1,
          28,
          1,
          1,
          1,
          1,
          18,
          2,
          6,
          4,
          221,
          124,
          42,
          37,
          36,
          5,
          26,
          3,
          2
         ],
         "yaxis": "y"
        },
        {
         "fillpattern": {
          "shape": ""
         },
         "hovertemplate": "Nation=Argentine<br>DateAcquired=%{x}<br>Count=%{y}<extra></extra>",
         "legendgroup": "Argentine",
         "line": {
          "color": "#636efa"
         },
         "marker": {
          "symbol": "circle"
         },
         "mode": "lines",
         "name": "Argentine",
         "orientation": "v",
         "showlegend": true,
         "stackgroup": "1",
         "type": "scatter",
         "x": [
          1986,
          1987,
          1992,
          1993,
          1994,
          1995,
          1996,
          1999,
          2000,
          2002,
          2003,
          2005,
          2006,
          2007,
          2008,
          2009,
          2011,
          2013,
          2014,
          2016,
          2017,
          2018
         ],
         "xaxis": "x",
         "y": [
          3,
          1,
          1,
          1,
          1,
          1,
          2,
          1,
          1,
          1,
          14,
          5,
          15,
          121,
          2,
          6,
          5,
          5,
          3,
          10,
          12,
          19
         ],
         "yaxis": "y"
        },
        {
         "fillpattern": {
          "shape": ""
         },
         "hovertemplate": "Nation=Italian<br>DateAcquired=%{x}<br>Count=%{y}<extra></extra>",
         "legendgroup": "Italian",
         "line": {
          "color": "#EF553B"
         },
         "marker": {
          "symbol": "circle"
         },
         "mode": "lines",
         "name": "Italian",
         "orientation": "v",
         "showlegend": true,
         "stackgroup": "1",
         "type": "scatter",
         "x": [
          1980,
          1981,
          1982,
          1983,
          1984,
          1985,
          1986,
          1987,
          1988,
          1989,
          1990,
          1991,
          1992,
          1993,
          1994,
          1995,
          1996,
          1997,
          1998,
          1999,
          2000,
          2001,
          2002,
          2003,
          2004,
          2005,
          2006,
          2007,
          2008,
          2009,
          2010,
          2011,
          2012,
          2013,
          2014,
          2015,
          2016,
          2017,
          2018
         ],
         "xaxis": "x",
         "y": [
          4,
          7,
          15,
          26,
          4,
          38,
          63,
          30,
          20,
          7,
          5,
          9,
          37,
          19,
          8,
          36,
          3,
          6,
          10,
          5,
          14,
          9,
          1,
          3,
          2,
          49,
          13,
          13,
          52,
          1,
          19,
          2,
          1,
          2,
          1,
          34,
          62,
          5,
          8
         ],
         "yaxis": "y"
        },
        {
         "fillpattern": {
          "shape": ""
         },
         "hovertemplate": "Nation=Slovenian<br>DateAcquired=%{x}<br>Count=%{y}<extra></extra>",
         "legendgroup": "Slovenian",
         "line": {
          "color": "#00cc96"
         },
         "marker": {
          "symbol": "circle"
         },
         "mode": "lines",
         "name": "Slovenian",
         "orientation": "v",
         "showlegend": true,
         "stackgroup": "1",
         "type": "scatter",
         "x": [
          2005,
          2006,
          2012
         ],
         "xaxis": "x",
         "y": [
          5,
          5,
          10
         ],
         "yaxis": "y"
        },
        {
         "fillpattern": {
          "shape": ""
         },
         "hovertemplate": "Nation=New Zealander<br>DateAcquired=%{x}<br>Count=%{y}<extra></extra>",
         "legendgroup": "New Zealander",
         "line": {
          "color": "#ab63fa"
         },
         "marker": {
          "symbol": "circle"
         },
         "mode": "lines",
         "name": "New Zealander",
         "orientation": "v",
         "showlegend": true,
         "stackgroup": "1",
         "type": "scatter",
         "x": [
          2013,
          2014,
          2016
         ],
         "xaxis": "x",
         "y": [
          1,
          3,
          1
         ],
         "yaxis": "y"
        },
        {
         "fillpattern": {
          "shape": ""
         },
         "hovertemplate": "Nation=Irish<br>DateAcquired=%{x}<br>Count=%{y}<extra></extra>",
         "legendgroup": "Irish",
         "line": {
          "color": "#FFA15A"
         },
         "marker": {
          "symbol": "circle"
         },
         "mode": "lines",
         "name": "Irish",
         "orientation": "v",
         "showlegend": true,
         "stackgroup": "1",
         "type": "scatter",
         "x": [
          2004,
          2006,
          2007,
          2008,
          2012,
          2015
         ],
         "xaxis": "x",
         "y": [
          1,
          2,
          1,
          1,
          1,
          1
         ],
         "yaxis": "y"
        },
        {
         "fillpattern": {
          "shape": ""
         },
         "hovertemplate": "Nation=Egyptian<br>DateAcquired=%{x}<br>Count=%{y}<extra></extra>",
         "legendgroup": "Egyptian",
         "line": {
          "color": "#19d3f3"
         },
         "marker": {
          "symbol": "circle"
         },
         "mode": "lines",
         "name": "Egyptian",
         "orientation": "v",
         "showlegend": true,
         "stackgroup": "1",
         "type": "scatter",
         "x": [
          2005,
          2006,
          2007,
          2012,
          2014,
          2015
         ],
         "xaxis": "x",
         "y": [
          1,
          2,
          1,
          7,
          1,
          29
         ],
         "yaxis": "y"
        },
        {
         "fillpattern": {
          "shape": ""
         },
         "hovertemplate": "Nation=Ghanaian<br>DateAcquired=%{x}<br>Count=%{y}<extra></extra>",
         "legendgroup": "Ghanaian",
         "line": {
          "color": "#FF6692"
         },
         "marker": {
          "symbol": "circle"
         },
         "mode": "lines",
         "name": "Ghanaian",
         "orientation": "v",
         "showlegend": true,
         "stackgroup": "1",
         "type": "scatter",
         "x": [
          2007,
          2008
         ],
         "xaxis": "x",
         "y": [
          1,
          1
         ],
         "yaxis": "y"
        },
        {
         "fillpattern": {
          "shape": ""
         },
         "hovertemplate": "Nation=American<br>DateAcquired=%{x}<br>Count=%{y}<extra></extra>",
         "legendgroup": "American",
         "line": {
          "color": "#B6E880"
         },
         "marker": {
          "symbol": "circle"
         },
         "mode": "lines",
         "name": "American",
         "orientation": "v",
         "showlegend": true,
         "stackgroup": "1",
         "type": "scatter",
         "x": [
          1980,
          1981,
          1982,
          1983,
          1984,
          1985,
          1986,
          1987,
          1988,
          1989,
          1990,
          1991,
          1992,
          1993,
          1994,
          1995,
          1996,
          1997,
          1998,
          1999,
          2000,
          2001,
          2002,
          2003,
          2004,
          2005,
          2006,
          2007,
          2008,
          2009,
          2010,
          2011,
          2012,
          2013,
          2014,
          2015,
          2016,
          2017,
          2018,
          2019,
          2020
         ],
         "xaxis": "x",
         "y": [
          49,
          139,
          108,
          367,
          283,
          192,
          380,
          250,
          390,
          268,
          362,
          333,
          280,
          542,
          324,
          181,
          425,
          323,
          269,
          209,
          542,
          354,
          177,
          157,
          247,
          1747,
          564,
          300,
          1371,
          374,
          383,
          378,
          1060,
          762,
          683,
          577,
          529,
          292,
          375,
          281,
          102
         ],
         "yaxis": "y"
        },
        {
         "fillpattern": {
          "shape": ""
         },
         "hovertemplate": "Nation=Icelandic<br>DateAcquired=%{x}<br>Count=%{y}<extra></extra>",
         "legendgroup": "Icelandic",
         "line": {
          "color": "#FF97FF"
         },
         "marker": {
          "symbol": "circle"
         },
         "mode": "lines",
         "name": "Icelandic",
         "orientation": "v",
         "showlegend": true,
         "stackgroup": "1",
         "type": "scatter",
         "x": [
          1980,
          1983,
          2000,
          2003,
          2006,
          2008,
          2011,
          2013,
          2015
         ],
         "xaxis": "x",
         "y": [
          1,
          2,
          6,
          1,
          3,
          1,
          1,
          1,
          2
         ],
         "yaxis": "y"
        },
        {
         "fillpattern": {
          "shape": ""
         },
         "hovertemplate": "Nation=Belgian<br>DateAcquired=%{x}<br>Count=%{y}<extra></extra>",
         "legendgroup": "Belgian",
         "line": {
          "color": "#FECB52"
         },
         "marker": {
          "symbol": "circle"
         },
         "mode": "lines",
         "name": "Belgian",
         "orientation": "v",
         "showlegend": true,
         "stackgroup": "1",
         "type": "scatter",
         "x": [
          1981,
          1984,
          1986,
          1987,
          1988,
          1991,
          1994,
          1996,
          1998,
          1999,
          2000,
          2001,
          2002,
          2003,
          2004,
          2005,
          2006,
          2007,
          2008,
          2009,
          2010,
          2011,
          2012,
          2013,
          2014,
          2015,
          2016,
          2017
         ],
         "xaxis": "x",
         "y": [
          1,
          1,
          3,
          42,
          8,
          1,
          1,
          6,
          1,
          2,
          1,
          4,
          5,
          1,
          3,
          18,
          6,
          142,
          12,
          16,
          3,
          3,
          1,
          2,
          1,
          9,
          1,
          2
         ],
         "yaxis": "y"
        },
        {
         "fillpattern": {
          "shape": ""
         },
         "hovertemplate": "Nation=Chinese<br>DateAcquired=%{x}<br>Count=%{y}<extra></extra>",
         "legendgroup": "Chinese",
         "line": {
          "color": "#636efa"
         },
         "marker": {
          "symbol": "circle"
         },
         "mode": "lines",
         "name": "Chinese",
         "orientation": "v",
         "showlegend": true,
         "stackgroup": "1",
         "type": "scatter",
         "x": [
          1988,
          1998,
          1999,
          2002,
          2003,
          2004,
          2005,
          2006,
          2007,
          2008,
          2009,
          2010,
          2011,
          2012,
          2013,
          2014,
          2015,
          2016,
          2017,
          2018,
          2019
         ],
         "xaxis": "x",
         "y": [
          1,
          2,
          5,
          1,
          2,
          18,
          15,
          7,
          17,
          37,
          3,
          31,
          5,
          3,
          4,
          1,
          5,
          2,
          5,
          26,
          42
         ],
         "yaxis": "y"
        },
        {
         "fillpattern": {
          "shape": ""
         },
         "hovertemplate": "Nation=Ivorian<br>DateAcquired=%{x}<br>Count=%{y}<extra></extra>",
         "legendgroup": "Ivorian",
         "line": {
          "color": "#EF553B"
         },
         "marker": {
          "symbol": "circle"
         },
         "mode": "lines",
         "name": "Ivorian",
         "orientation": "v",
         "showlegend": true,
         "stackgroup": "1",
         "type": "scatter",
         "x": [
          2006
         ],
         "xaxis": "x",
         "y": [
          1
         ],
         "yaxis": "y"
        },
        {
         "fillpattern": {
          "shape": ""
         },
         "hovertemplate": "Nation=Moroccan<br>DateAcquired=%{x}<br>Count=%{y}<extra></extra>",
         "legendgroup": "Moroccan",
         "line": {
          "color": "#00cc96"
         },
         "marker": {
          "symbol": "circle"
         },
         "mode": "lines",
         "name": "Moroccan",
         "orientation": "v",
         "showlegend": true,
         "stackgroup": "1",
         "type": "scatter",
         "x": [
          1986,
          2012,
          2013,
          2014
         ],
         "xaxis": "x",
         "y": [
          1,
          1,
          2,
          1
         ],
         "yaxis": "y"
        },
        {
         "fillpattern": {
          "shape": ""
         },
         "hovertemplate": "Nation=Peruvian<br>DateAcquired=%{x}<br>Count=%{y}<extra></extra>",
         "legendgroup": "Peruvian",
         "line": {
          "color": "#ab63fa"
         },
         "marker": {
          "symbol": "circle"
         },
         "mode": "lines",
         "name": "Peruvian",
         "orientation": "v",
         "showlegend": true,
         "stackgroup": "1",
         "type": "scatter",
         "x": [
          1981,
          1984,
          2003,
          2005,
          2007,
          2008,
          2011,
          2014
         ],
         "xaxis": "x",
         "y": [
          1,
          1,
          1,
          1,
          4,
          7,
          1,
          4
         ],
         "yaxis": "y"
        },
        {
         "fillpattern": {
          "shape": ""
         },
         "hovertemplate": "Nation=Japanese<br>DateAcquired=%{x}<br>Count=%{y}<extra></extra>",
         "legendgroup": "Japanese",
         "line": {
          "color": "#FFA15A"
         },
         "marker": {
          "symbol": "circle"
         },
         "mode": "lines",
         "name": "Japanese",
         "orientation": "v",
         "showlegend": true,
         "stackgroup": "1",
         "type": "scatter",
         "x": [
          1980,
          1981,
          1982,
          1983,
          1984,
          1985,
          1986,
          1987,
          1988,
          1989,
          1990,
          1991,
          1992,
          1993,
          1994,
          1995,
          1996,
          1997,
          1998,
          1999,
          2000,
          2001,
          2002,
          2003,
          2004,
          2005,
          2006,
          2007,
          2008,
          2009,
          2010,
          2012,
          2013,
          2014,
          2015,
          2016,
          2017,
          2018,
          2019,
          2020
         ],
         "xaxis": "x",
         "y": [
          1,
          13,
          4,
          21,
          9,
          2,
          24,
          9,
          2,
          5,
          17,
          11,
          6,
          26,
          22,
          5,
          29,
          12,
          46,
          2,
          11,
          14,
          144,
          3,
          12,
          98,
          25,
          9,
          11,
          8,
          3,
          13,
          11,
          6,
          26,
          26,
          5,
          11,
          15,
          2
         ],
         "yaxis": "y"
        },
        {
         "fillpattern": {
          "shape": ""
         },
         "hovertemplate": "Nation=Kenyan<br>DateAcquired=%{x}<br>Count=%{y}<extra></extra>",
         "legendgroup": "Kenyan",
         "line": {
          "color": "#19d3f3"
         },
         "marker": {
          "symbol": "circle"
         },
         "mode": "lines",
         "name": "Kenyan",
         "orientation": "v",
         "showlegend": true,
         "stackgroup": "1",
         "type": "scatter",
         "x": [
          2005,
          2007
         ],
         "xaxis": "x",
         "y": [
          2,
          9
         ],
         "yaxis": "y"
        },
        {
         "fillpattern": {
          "shape": ""
         },
         "hovertemplate": "Nation=Czech<br>DateAcquired=%{x}<br>Count=%{y}<extra></extra>",
         "legendgroup": "Czech",
         "line": {
          "color": "#FF6692"
         },
         "marker": {
          "symbol": "circle"
         },
         "mode": "lines",
         "name": "Czech",
         "orientation": "v",
         "showlegend": true,
         "stackgroup": "1",
         "type": "scatter",
         "x": [
          1981,
          1982,
          1984,
          1987,
          1990,
          1992,
          1994,
          1999,
          2005,
          2006,
          2007,
          2008,
          2013,
          2014,
          2016
         ],
         "xaxis": "x",
         "y": [
          1,
          1,
          2,
          1,
          6,
          2,
          1,
          2,
          3,
          6,
          1,
          25,
          2,
          1,
          3
         ],
         "yaxis": "y"
        },
        {
         "fillpattern": {
          "shape": ""
         },
         "hovertemplate": "Nation=Albanian<br>DateAcquired=%{x}<br>Count=%{y}<extra></extra>",
         "legendgroup": "Albanian",
         "line": {
          "color": "#B6E880"
         },
         "marker": {
          "symbol": "circle"
         },
         "mode": "lines",
         "name": "Albanian",
         "orientation": "v",
         "showlegend": true,
         "stackgroup": "1",
         "type": "scatter",
         "x": [
          2004,
          2005,
          2006
         ],
         "xaxis": "x",
         "y": [
          1,
          2,
          1
         ],
         "yaxis": "y"
        },
        {
         "fillpattern": {
          "shape": ""
         },
         "hovertemplate": "Nation=Mexican<br>DateAcquired=%{x}<br>Count=%{y}<extra></extra>",
         "legendgroup": "Mexican",
         "line": {
          "color": "#FF97FF"
         },
         "marker": {
          "symbol": "circle"
         },
         "mode": "lines",
         "name": "Mexican",
         "orientation": "v",
         "showlegend": true,
         "stackgroup": "1",
         "type": "scatter",
         "x": [
          1981,
          1985,
          1986,
          1990,
          1994,
          1995,
          1997,
          1998,
          1999,
          2000,
          2001,
          2002,
          2004,
          2005,
          2006,
          2007,
          2008,
          2009,
          2010,
          2011,
          2012,
          2013,
          2014,
          2015,
          2016,
          2017,
          2018,
          2020
         ],
         "xaxis": "x",
         "y": [
          1,
          6,
          5,
          4,
          2,
          3,
          1,
          4,
          7,
          13,
          1,
          1,
          9,
          19,
          15,
          1,
          3,
          13,
          3,
          7,
          1,
          17,
          5,
          31,
          11,
          10,
          16,
          5
         ],
         "yaxis": "y"
        },
        {
         "fillpattern": {
          "shape": ""
         },
         "hovertemplate": "Nation=Canadian<br>DateAcquired=%{x}<br>Count=%{y}<extra></extra>",
         "legendgroup": "Canadian",
         "line": {
          "color": "#FECB52"
         },
         "marker": {
          "symbol": "circle"
         },
         "mode": "lines",
         "name": "Canadian",
         "orientation": "v",
         "showlegend": true,
         "stackgroup": "1",
         "type": "scatter",
         "x": [
          1982,
          1984,
          1985,
          1987,
          1988,
          1989,
          1990,
          1991,
          1992,
          1993,
          1995,
          1997,
          1998,
          1999,
          2000,
          2001,
          2002,
          2003,
          2004,
          2005,
          2006,
          2007,
          2008,
          2009,
          2011,
          2012,
          2013,
          2014,
          2015,
          2016,
          2017,
          2018,
          2019
         ],
         "xaxis": "x",
         "y": [
          2,
          4,
          1,
          5,
          21,
          4,
          1,
          2,
          1,
          1,
          7,
          2,
          3,
          102,
          7,
          3,
          2,
          5,
          42,
          95,
          13,
          2,
          38,
          1,
          7,
          5,
          69,
          6,
          19,
          4,
          3,
          11,
          18
         ],
         "yaxis": "y"
        },
        {
         "fillpattern": {
          "shape": ""
         },
         "hovertemplate": "Nation=Finnish<br>DateAcquired=%{x}<br>Count=%{y}<extra></extra>",
         "legendgroup": "Finnish",
         "line": {
          "color": "#636efa"
         },
         "marker": {
          "symbol": "circle"
         },
         "mode": "lines",
         "name": "Finnish",
         "orientation": "v",
         "showlegend": true,
         "stackgroup": "1",
         "type": "scatter",
         "x": [
          1986,
          1993,
          1996,
          2000,
          2004,
          2005,
          2006,
          2010,
          2013
         ],
         "xaxis": "x",
         "y": [
          1,
          1,
          7,
          1,
          1,
          22,
          2,
          1,
          1
         ],
         "yaxis": "y"
        },
        {
         "fillpattern": {
          "shape": ""
         },
         "hovertemplate": "Nation=Pakistani<br>DateAcquired=%{x}<br>Count=%{y}<extra></extra>",
         "legendgroup": "Pakistani",
         "line": {
          "color": "#EF553B"
         },
         "marker": {
          "symbol": "circle"
         },
         "mode": "lines",
         "name": "Pakistani",
         "orientation": "v",
         "showlegend": true,
         "stackgroup": "1",
         "type": "scatter",
         "x": [
          2000,
          2001,
          2002,
          2005,
          2008,
          2016
         ],
         "xaxis": "x",
         "y": [
          1,
          1,
          10,
          4,
          27,
          5
         ],
         "yaxis": "y"
        },
        {
         "fillpattern": {
          "shape": ""
         },
         "hovertemplate": "Nation=Taiwanese<br>DateAcquired=%{x}<br>Count=%{y}<extra></extra>",
         "legendgroup": "Taiwanese",
         "line": {
          "color": "#00cc96"
         },
         "marker": {
          "symbol": "circle"
         },
         "mode": "lines",
         "name": "Taiwanese",
         "orientation": "v",
         "showlegend": true,
         "stackgroup": "1",
         "type": "scatter",
         "x": [
          2000
         ],
         "xaxis": "x",
         "y": [
          1
         ],
         "yaxis": "y"
        },
        {
         "fillpattern": {
          "shape": ""
         },
         "hovertemplate": "Nation=Yugoslav<br>DateAcquired=%{x}<br>Count=%{y}<extra></extra>",
         "legendgroup": "Yugoslav",
         "line": {
          "color": "#ab63fa"
         },
         "marker": {
          "symbol": "circle"
         },
         "mode": "lines",
         "name": "Yugoslav",
         "orientation": "v",
         "showlegend": true,
         "stackgroup": "1",
         "type": "scatter",
         "x": [
          1984,
          1985,
          2009,
          2011,
          2012
         ],
         "xaxis": "x",
         "y": [
          19,
          1,
          1,
          39,
          1
         ],
         "yaxis": "y"
        },
        {
         "fillpattern": {
          "shape": ""
         },
         "hovertemplate": "Nation=French<br>DateAcquired=%{x}<br>Count=%{y}<extra></extra>",
         "legendgroup": "French",
         "line": {
          "color": "#FFA15A"
         },
         "marker": {
          "symbol": "circle"
         },
         "mode": "lines",
         "name": "French",
         "orientation": "v",
         "showlegend": true,
         "stackgroup": "1",
         "type": "scatter",
         "x": [
          1980,
          1981,
          1982,
          1983,
          1984,
          1985,
          1986,
          1987,
          1988,
          1989,
          1990,
          1991,
          1992,
          1993,
          1994,
          1995,
          1996,
          1997,
          1998,
          1999,
          2000,
          2001,
          2002,
          2003,
          2004,
          2005,
          2006,
          2007,
          2008,
          2009,
          2010,
          2011,
          2012,
          2013,
          2014,
          2015,
          2016,
          2017,
          2018,
          2019
         ],
         "xaxis": "x",
         "y": [
          5,
          23,
          13,
          3,
          20,
          37,
          4,
          4,
          21,
          12,
          5,
          1,
          28,
          9,
          35,
          7,
          2,
          7,
          20,
          266,
          77,
          3,
          1,
          3,
          2,
          27,
          29,
          29,
          40,
          2,
          4,
          17,
          25,
          31,
          14,
          16,
          18,
          34,
          9,
          1
         ],
         "yaxis": "y"
        },
        {
         "fillpattern": {
          "shape": ""
         },
         "hovertemplate": "Nation=Bosnian<br>DateAcquired=%{x}<br>Count=%{y}<extra></extra>",
         "legendgroup": "Bosnian",
         "line": {
          "color": "#19d3f3"
         },
         "marker": {
          "symbol": "circle"
         },
         "mode": "lines",
         "name": "Bosnian",
         "orientation": "v",
         "showlegend": true,
         "stackgroup": "1",
         "type": "scatter",
         "x": [
          2001,
          2006,
          2010
         ],
         "xaxis": "x",
         "y": [
          1,
          2,
          1
         ],
         "yaxis": "y"
        },
        {
         "fillpattern": {
          "shape": ""
         },
         "hovertemplate": "Nation=British<br>DateAcquired=%{x}<br>Count=%{y}<extra></extra>",
         "legendgroup": "British",
         "line": {
          "color": "#FF6692"
         },
         "marker": {
          "symbol": "circle"
         },
         "mode": "lines",
         "name": "British",
         "orientation": "v",
         "showlegend": true,
         "stackgroup": "1",
         "type": "scatter",
         "x": [
          1981,
          1982,
          1983,
          1984,
          1985,
          1986,
          1987,
          1988,
          1989,
          1990,
          1991,
          1992,
          1993,
          1994,
          1995,
          1996,
          1997,
          1998,
          1999,
          2000,
          2001,
          2002,
          2003,
          2004,
          2005,
          2006,
          2007,
          2008,
          2009,
          2010,
          2011,
          2012,
          2013,
          2014,
          2015,
          2016,
          2017,
          2018,
          2019
         ],
         "xaxis": "x",
         "y": [
          4,
          7,
          7,
          7,
          15,
          20,
          54,
          59,
          8,
          28,
          37,
          21,
          19,
          19,
          22,
          49,
          34,
          21,
          85,
          18,
          38,
          61,
          39,
          28,
          149,
          92,
          55,
          24,
          14,
          13,
          113,
          26,
          42,
          164,
          56,
          45,
          11,
          22,
          7
         ],
         "yaxis": "y"
        },
        {
         "fillpattern": {
          "shape": ""
         },
         "hovertemplate": "Nation=Portuguese<br>DateAcquired=%{x}<br>Count=%{y}<extra></extra>",
         "legendgroup": "Portuguese",
         "line": {
          "color": "#B6E880"
         },
         "marker": {
          "symbol": "circle"
         },
         "mode": "lines",
         "name": "Portuguese",
         "orientation": "v",
         "showlegend": true,
         "stackgroup": "1",
         "type": "scatter",
         "x": [
          1990,
          1996,
          2012,
          2013,
          2014
         ],
         "xaxis": "x",
         "y": [
          1,
          1,
          23,
          3,
          1
         ],
         "yaxis": "y"
        },
        {
         "fillpattern": {
          "shape": ""
         },
         "hovertemplate": "Nation=Palestinian<br>DateAcquired=%{x}<br>Count=%{y}<extra></extra>",
         "legendgroup": "Palestinian",
         "line": {
          "color": "#FF97FF"
         },
         "marker": {
          "symbol": "circle"
         },
         "mode": "lines",
         "name": "Palestinian",
         "orientation": "v",
         "showlegend": true,
         "stackgroup": "1",
         "type": "scatter",
         "x": [
          2003
         ],
         "xaxis": "x",
         "y": [
          1
         ],
         "yaxis": "y"
        },
        {
         "fillpattern": {
          "shape": ""
         },
         "hovertemplate": "Nation=Cuban<br>DateAcquired=%{x}<br>Count=%{y}<extra></extra>",
         "legendgroup": "Cuban",
         "line": {
          "color": "#FECB52"
         },
         "marker": {
          "symbol": "circle"
         },
         "mode": "lines",
         "name": "Cuban",
         "orientation": "v",
         "showlegend": true,
         "stackgroup": "1",
         "type": "scatter",
         "x": [
          1983,
          1993,
          1995,
          1996,
          1997,
          1999,
          2000,
          2001,
          2002,
          2003,
          2004,
          2005,
          2007,
          2008,
          2009,
          2015,
          2017
         ],
         "xaxis": "x",
         "y": [
          2,
          1,
          1,
          2,
          1,
          1,
          1,
          2,
          1,
          3,
          2,
          3,
          2,
          4,
          1,
          1,
          2
         ],
         "yaxis": "y"
        },
        {
         "fillpattern": {
          "shape": ""
         },
         "hovertemplate": "Nation=Congolese<br>DateAcquired=%{x}<br>Count=%{y}<extra></extra>",
         "legendgroup": "Congolese",
         "line": {
          "color": "#636efa"
         },
         "marker": {
          "symbol": "circle"
         },
         "mode": "lines",
         "name": "Congolese",
         "orientation": "v",
         "showlegend": true,
         "stackgroup": "1",
         "type": "scatter",
         "x": [
          2002
         ],
         "xaxis": "x",
         "y": [
          1
         ],
         "yaxis": "y"
        },
        {
         "fillpattern": {
          "shape": ""
         },
         "hovertemplate": "Nation=Macedonian<br>DateAcquired=%{x}<br>Count=%{y}<extra></extra>",
         "legendgroup": "Macedonian",
         "line": {
          "color": "#EF553B"
         },
         "marker": {
          "symbol": "circle"
         },
         "mode": "lines",
         "name": "Macedonian",
         "orientation": "v",
         "showlegend": true,
         "stackgroup": "1",
         "type": "scatter",
         "x": [
          2013
         ],
         "xaxis": "x",
         "y": [
          1
         ],
         "yaxis": "y"
        },
        {
         "fillpattern": {
          "shape": ""
         },
         "hovertemplate": "Nation=Iranian<br>DateAcquired=%{x}<br>Count=%{y}<extra></extra>",
         "legendgroup": "Iranian",
         "line": {
          "color": "#00cc96"
         },
         "marker": {
          "symbol": "circle"
         },
         "mode": "lines",
         "name": "Iranian",
         "orientation": "v",
         "showlegend": true,
         "stackgroup": "1",
         "type": "scatter",
         "x": [
          1996,
          2000,
          2007,
          2011,
          2013
         ],
         "xaxis": "x",
         "y": [
          2,
          1,
          2,
          2,
          1
         ],
         "yaxis": "y"
        },
        {
         "fillpattern": {
          "shape": ""
         },
         "hovertemplate": "Nation=Croatian<br>DateAcquired=%{x}<br>Count=%{y}<extra></extra>",
         "legendgroup": "Croatian",
         "line": {
          "color": "#ab63fa"
         },
         "marker": {
          "symbol": "circle"
         },
         "mode": "lines",
         "name": "Croatian",
         "orientation": "v",
         "showlegend": true,
         "stackgroup": "1",
         "type": "scatter",
         "x": [
          2001,
          2006,
          2007,
          2011,
          2014,
          2015
         ],
         "xaxis": "x",
         "y": [
          33,
          3,
          12,
          14,
          1,
          1
         ],
         "yaxis": "y"
        },
        {
         "fillpattern": {
          "shape": ""
         },
         "hovertemplate": "Nation=Uruguayan<br>DateAcquired=%{x}<br>Count=%{y}<extra></extra>",
         "legendgroup": "Uruguayan",
         "line": {
          "color": "#FFA15A"
         },
         "marker": {
          "symbol": "circle"
         },
         "mode": "lines",
         "name": "Uruguayan",
         "orientation": "v",
         "showlegend": true,
         "stackgroup": "1",
         "type": "scatter",
         "x": [
          1994,
          2003,
          2005,
          2010,
          2013,
          2016,
          2017
         ],
         "xaxis": "x",
         "y": [
          1,
          3,
          3,
          1,
          1,
          1,
          3
         ],
         "yaxis": "y"
        },
        {
         "fillpattern": {
          "shape": ""
         },
         "hovertemplate": "Nation=Thai<br>DateAcquired=%{x}<br>Count=%{y}<extra></extra>",
         "legendgroup": "Thai",
         "line": {
          "color": "#19d3f3"
         },
         "marker": {
          "symbol": "circle"
         },
         "mode": "lines",
         "name": "Thai",
         "orientation": "v",
         "showlegend": true,
         "stackgroup": "1",
         "type": "scatter",
         "x": [
          1995,
          1997,
          1998,
          2000,
          2005,
          2006,
          2008,
          2011,
          2012,
          2014,
          2015,
          2017
         ],
         "xaxis": "x",
         "y": [
          2,
          1,
          1,
          1,
          1,
          2,
          7,
          4,
          1,
          2,
          1,
          1
         ],
         "yaxis": "y"
        },
        {
         "fillpattern": {
          "shape": ""
         },
         "hovertemplate": "Nation=Israeli<br>DateAcquired=%{x}<br>Count=%{y}<extra></extra>",
         "legendgroup": "Israeli",
         "line": {
          "color": "#FF6692"
         },
         "marker": {
          "symbol": "circle"
         },
         "mode": "lines",
         "name": "Israeli",
         "orientation": "v",
         "showlegend": true,
         "stackgroup": "1",
         "type": "scatter",
         "x": [
          1982,
          1987,
          1988,
          1990,
          1991,
          1999,
          2000,
          2002,
          2003,
          2004,
          2005,
          2006,
          2007,
          2008,
          2009,
          2010,
          2011,
          2014,
          2015,
          2016
         ],
         "xaxis": "x",
         "y": [
          3,
          1,
          2,
          1,
          1,
          1,
          1,
          9,
          1,
          1,
          6,
          3,
          3,
          4,
          4,
          9,
          2,
          1,
          66,
          1
         ],
         "yaxis": "y"
        },
        {
         "fillpattern": {
          "shape": ""
         },
         "hovertemplate": "Nation=Serbian<br>DateAcquired=%{x}<br>Count=%{y}<extra></extra>",
         "legendgroup": "Serbian",
         "line": {
          "color": "#B6E880"
         },
         "marker": {
          "symbol": "circle"
         },
         "mode": "lines",
         "name": "Serbian",
         "orientation": "v",
         "showlegend": true,
         "stackgroup": "1",
         "type": "scatter",
         "x": [
          2006,
          2009
         ],
         "xaxis": "x",
         "y": [
          1,
          1
         ],
         "yaxis": "y"
        },
        {
         "fillpattern": {
          "shape": ""
         },
         "hovertemplate": "Nation=Australian<br>DateAcquired=%{x}<br>Count=%{y}<extra></extra>",
         "legendgroup": "Australian",
         "line": {
          "color": "#FF97FF"
         },
         "marker": {
          "symbol": "circle"
         },
         "mode": "lines",
         "name": "Australian",
         "orientation": "v",
         "showlegend": true,
         "stackgroup": "1",
         "type": "scatter",
         "x": [
          1981,
          1982,
          1983,
          1984,
          1985,
          1986,
          1987,
          1988,
          1990,
          1991,
          1996,
          1997,
          1998,
          1999,
          2000,
          2005,
          2006,
          2008,
          2010,
          2016,
          2019
         ],
         "xaxis": "x",
         "y": [
          3,
          2,
          2,
          1,
          1,
          2,
          4,
          37,
          1,
          1,
          2,
          1,
          4,
          1,
          11,
          15,
          1,
          1,
          5,
          2,
          2
         ],
         "yaxis": "y"
        },
        {
         "fillpattern": {
          "shape": ""
         },
         "hovertemplate": "Nation=German<br>DateAcquired=%{x}<br>Count=%{y}<extra></extra>",
         "legendgroup": "German",
         "line": {
          "color": "#FECB52"
         },
         "marker": {
          "symbol": "circle"
         },
         "mode": "lines",
         "name": "German",
         "orientation": "v",
         "showlegend": true,
         "stackgroup": "1",
         "type": "scatter",
         "x": [
          1981,
          1982,
          1983,
          1984,
          1985,
          1986,
          1987,
          1988,
          1989,
          1990,
          1991,
          1992,
          1993,
          1994,
          1995,
          1996,
          1997,
          1998,
          1999,
          2000,
          2001,
          2002,
          2003,
          2004,
          2005,
          2006,
          2007,
          2008,
          2009,
          2010,
          2011,
          2012,
          2013,
          2014,
          2015,
          2016,
          2017,
          2018,
          2019
         ],
         "xaxis": "x",
         "y": [
          8,
          23,
          20,
          35,
          56,
          27,
          34,
          45,
          71,
          110,
          37,
          64,
          59,
          32,
          27,
          41,
          33,
          222,
          64,
          22,
          66,
          13,
          16,
          18,
          373,
          67,
          27,
          36,
          7,
          15,
          237,
          83,
          24,
          40,
          253,
          123,
          46,
          18,
          9
         ],
         "yaxis": "y"
        },
        {
         "fillpattern": {
          "shape": ""
         },
         "hovertemplate": "Nation=Russian<br>DateAcquired=%{x}<br>Count=%{y}<extra></extra>",
         "legendgroup": "Russian",
         "line": {
          "color": "#636efa"
         },
         "marker": {
          "symbol": "circle"
         },
         "mode": "lines",
         "name": "Russian",
         "orientation": "v",
         "showlegend": true,
         "stackgroup": "1",
         "type": "scatter",
         "x": [
          1985,
          1986,
          1987,
          1989,
          1992,
          1993,
          1994,
          1996,
          1997,
          1998,
          2001,
          2006,
          2010,
          2012,
          2013,
          2016
         ],
         "xaxis": "x",
         "y": [
          1,
          1,
          6,
          1,
          2,
          6,
          2,
          5,
          10,
          8,
          6,
          14,
          1,
          3,
          1,
          12
         ],
         "yaxis": "y"
        },
        {
         "fillpattern": {
          "shape": ""
         },
         "hovertemplate": "Nation=Bahamian<br>DateAcquired=%{x}<br>Count=%{y}<extra></extra>",
         "legendgroup": "Bahamian",
         "line": {
          "color": "#EF553B"
         },
         "marker": {
          "symbol": "circle"
         },
         "mode": "lines",
         "name": "Bahamian",
         "orientation": "v",
         "showlegend": true,
         "stackgroup": "1",
         "type": "scatter",
         "x": [
          2000,
          2001
         ],
         "xaxis": "x",
         "y": [
          1,
          1
         ],
         "yaxis": "y"
        },
        {
         "fillpattern": {
          "shape": ""
         },
         "hovertemplate": "Nation=Dutch<br>DateAcquired=%{x}<br>Count=%{y}<extra></extra>",
         "legendgroup": "Dutch",
         "line": {
          "color": "#00cc96"
         },
         "marker": {
          "symbol": "circle"
         },
         "mode": "lines",
         "name": "Dutch",
         "orientation": "v",
         "showlegend": true,
         "stackgroup": "1",
         "type": "scatter",
         "x": [
          1981,
          1985,
          1986,
          1987,
          1988,
          1989,
          1990,
          1992,
          1993,
          1995,
          1996,
          1997,
          1998,
          2000,
          2001,
          2002,
          2003,
          2004,
          2005,
          2006,
          2007,
          2008,
          2009,
          2010,
          2011,
          2012,
          2013,
          2014,
          2015,
          2016,
          2017,
          2018,
          2019,
          2020
         ],
         "xaxis": "x",
         "y": [
          9,
          6,
          1,
          5,
          3,
          18,
          1,
          2,
          1,
          1,
          26,
          18,
          4,
          1,
          8,
          8,
          2,
          4,
          33,
          11,
          86,
          17,
          4,
          4,
          7,
          8,
          6,
          17,
          7,
          2,
          1,
          2,
          8,
          1
         ],
         "yaxis": "y"
        },
        {
         "fillpattern": {
          "shape": ""
         },
         "hovertemplate": "Nation=Turkish<br>DateAcquired=%{x}<br>Count=%{y}<extra></extra>",
         "legendgroup": "Turkish",
         "line": {
          "color": "#ab63fa"
         },
         "marker": {
          "symbol": "circle"
         },
         "mode": "lines",
         "name": "Turkish",
         "orientation": "v",
         "showlegend": true,
         "stackgroup": "1",
         "type": "scatter",
         "x": [
          2001,
          2004,
          2006,
          2011,
          2012,
          2014,
          2016
         ],
         "xaxis": "x",
         "y": [
          1,
          1,
          8,
          2,
          7,
          2,
          2
         ],
         "yaxis": "y"
        },
        {
         "fillpattern": {
          "shape": ""
         },
         "hovertemplate": "Nation=Emirati<br>DateAcquired=%{x}<br>Count=%{y}<extra></extra>",
         "legendgroup": "Emirati",
         "line": {
          "color": "#FFA15A"
         },
         "marker": {
          "symbol": "circle"
         },
         "mode": "lines",
         "name": "Emirati",
         "orientation": "v",
         "showlegend": true,
         "stackgroup": "1",
         "type": "scatter",
         "x": [
          2019
         ],
         "xaxis": "x",
         "y": [
          5
         ],
         "yaxis": "y"
        },
        {
         "fillpattern": {
          "shape": ""
         },
         "hovertemplate": "Nation=Indian<br>DateAcquired=%{x}<br>Count=%{y}<extra></extra>",
         "legendgroup": "Indian",
         "line": {
          "color": "#19d3f3"
         },
         "marker": {
          "symbol": "circle"
         },
         "mode": "lines",
         "name": "Indian",
         "orientation": "v",
         "showlegend": true,
         "stackgroup": "1",
         "type": "scatter",
         "x": [
          1995,
          1998,
          2001,
          2005,
          2007,
          2011,
          2012,
          2013,
          2015,
          2016,
          2017,
          2018
         ],
         "xaxis": "x",
         "y": [
          2,
          2,
          4,
          4,
          2,
          2,
          1,
          17,
          3,
          1,
          13,
          53
         ],
         "yaxis": "y"
        },
        {
         "fillpattern": {
          "shape": ""
         },
         "hovertemplate": "Nation=Greek<br>DateAcquired=%{x}<br>Count=%{y}<extra></extra>",
         "legendgroup": "Greek",
         "line": {
          "color": "#FF6692"
         },
         "marker": {
          "symbol": "circle"
         },
         "mode": "lines",
         "name": "Greek",
         "orientation": "v",
         "showlegend": true,
         "stackgroup": "1",
         "type": "scatter",
         "x": [
          1989,
          1998,
          1999,
          2005,
          2014
         ],
         "xaxis": "x",
         "y": [
          3,
          1,
          1,
          1,
          1
         ],
         "yaxis": "y"
        }
       ],
       "layout": {
        "legend": {
         "title": {
          "text": "Nation"
         },
         "tracegroupgap": 0
        },
        "margin": {
         "t": 60
        },
        "paper_bgcolor": "rgb(243, 243, 243)",
        "plot_bgcolor": "rgb(243, 243, 243)",
        "template": {
         "data": {
          "bar": [
           {
            "error_x": {
             "color": "#2a3f5f"
            },
            "error_y": {
             "color": "#2a3f5f"
            },
            "marker": {
             "line": {
              "color": "#E5ECF6",
              "width": 0.5
             },
             "pattern": {
              "fillmode": "overlay",
              "size": 10,
              "solidity": 0.2
             }
            },
            "type": "bar"
           }
          ],
          "barpolar": [
           {
            "marker": {
             "line": {
              "color": "#E5ECF6",
              "width": 0.5
             },
             "pattern": {
              "fillmode": "overlay",
              "size": 10,
              "solidity": 0.2
             }
            },
            "type": "barpolar"
           }
          ],
          "carpet": [
           {
            "aaxis": {
             "endlinecolor": "#2a3f5f",
             "gridcolor": "white",
             "linecolor": "white",
             "minorgridcolor": "white",
             "startlinecolor": "#2a3f5f"
            },
            "baxis": {
             "endlinecolor": "#2a3f5f",
             "gridcolor": "white",
             "linecolor": "white",
             "minorgridcolor": "white",
             "startlinecolor": "#2a3f5f"
            },
            "type": "carpet"
           }
          ],
          "choropleth": [
           {
            "colorbar": {
             "outlinewidth": 0,
             "ticks": ""
            },
            "type": "choropleth"
           }
          ],
          "contour": [
           {
            "colorbar": {
             "outlinewidth": 0,
             "ticks": ""
            },
            "colorscale": [
             [
              0,
              "#0d0887"
             ],
             [
              0.1111111111111111,
              "#46039f"
             ],
             [
              0.2222222222222222,
              "#7201a8"
             ],
             [
              0.3333333333333333,
              "#9c179e"
             ],
             [
              0.4444444444444444,
              "#bd3786"
             ],
             [
              0.5555555555555556,
              "#d8576b"
             ],
             [
              0.6666666666666666,
              "#ed7953"
             ],
             [
              0.7777777777777778,
              "#fb9f3a"
             ],
             [
              0.8888888888888888,
              "#fdca26"
             ],
             [
              1,
              "#f0f921"
             ]
            ],
            "type": "contour"
           }
          ],
          "contourcarpet": [
           {
            "colorbar": {
             "outlinewidth": 0,
             "ticks": ""
            },
            "type": "contourcarpet"
           }
          ],
          "heatmap": [
           {
            "colorbar": {
             "outlinewidth": 0,
             "ticks": ""
            },
            "colorscale": [
             [
              0,
              "#0d0887"
             ],
             [
              0.1111111111111111,
              "#46039f"
             ],
             [
              0.2222222222222222,
              "#7201a8"
             ],
             [
              0.3333333333333333,
              "#9c179e"
             ],
             [
              0.4444444444444444,
              "#bd3786"
             ],
             [
              0.5555555555555556,
              "#d8576b"
             ],
             [
              0.6666666666666666,
              "#ed7953"
             ],
             [
              0.7777777777777778,
              "#fb9f3a"
             ],
             [
              0.8888888888888888,
              "#fdca26"
             ],
             [
              1,
              "#f0f921"
             ]
            ],
            "type": "heatmap"
           }
          ],
          "heatmapgl": [
           {
            "colorbar": {
             "outlinewidth": 0,
             "ticks": ""
            },
            "colorscale": [
             [
              0,
              "#0d0887"
             ],
             [
              0.1111111111111111,
              "#46039f"
             ],
             [
              0.2222222222222222,
              "#7201a8"
             ],
             [
              0.3333333333333333,
              "#9c179e"
             ],
             [
              0.4444444444444444,
              "#bd3786"
             ],
             [
              0.5555555555555556,
              "#d8576b"
             ],
             [
              0.6666666666666666,
              "#ed7953"
             ],
             [
              0.7777777777777778,
              "#fb9f3a"
             ],
             [
              0.8888888888888888,
              "#fdca26"
             ],
             [
              1,
              "#f0f921"
             ]
            ],
            "type": "heatmapgl"
           }
          ],
          "histogram": [
           {
            "marker": {
             "pattern": {
              "fillmode": "overlay",
              "size": 10,
              "solidity": 0.2
             }
            },
            "type": "histogram"
           }
          ],
          "histogram2d": [
           {
            "colorbar": {
             "outlinewidth": 0,
             "ticks": ""
            },
            "colorscale": [
             [
              0,
              "#0d0887"
             ],
             [
              0.1111111111111111,
              "#46039f"
             ],
             [
              0.2222222222222222,
              "#7201a8"
             ],
             [
              0.3333333333333333,
              "#9c179e"
             ],
             [
              0.4444444444444444,
              "#bd3786"
             ],
             [
              0.5555555555555556,
              "#d8576b"
             ],
             [
              0.6666666666666666,
              "#ed7953"
             ],
             [
              0.7777777777777778,
              "#fb9f3a"
             ],
             [
              0.8888888888888888,
              "#fdca26"
             ],
             [
              1,
              "#f0f921"
             ]
            ],
            "type": "histogram2d"
           }
          ],
          "histogram2dcontour": [
           {
            "colorbar": {
             "outlinewidth": 0,
             "ticks": ""
            },
            "colorscale": [
             [
              0,
              "#0d0887"
             ],
             [
              0.1111111111111111,
              "#46039f"
             ],
             [
              0.2222222222222222,
              "#7201a8"
             ],
             [
              0.3333333333333333,
              "#9c179e"
             ],
             [
              0.4444444444444444,
              "#bd3786"
             ],
             [
              0.5555555555555556,
              "#d8576b"
             ],
             [
              0.6666666666666666,
              "#ed7953"
             ],
             [
              0.7777777777777778,
              "#fb9f3a"
             ],
             [
              0.8888888888888888,
              "#fdca26"
             ],
             [
              1,
              "#f0f921"
             ]
            ],
            "type": "histogram2dcontour"
           }
          ],
          "mesh3d": [
           {
            "colorbar": {
             "outlinewidth": 0,
             "ticks": ""
            },
            "type": "mesh3d"
           }
          ],
          "parcoords": [
           {
            "line": {
             "colorbar": {
              "outlinewidth": 0,
              "ticks": ""
             }
            },
            "type": "parcoords"
           }
          ],
          "pie": [
           {
            "automargin": true,
            "type": "pie"
           }
          ],
          "scatter": [
           {
            "fillpattern": {
             "fillmode": "overlay",
             "size": 10,
             "solidity": 0.2
            },
            "type": "scatter"
           }
          ],
          "scatter3d": [
           {
            "line": {
             "colorbar": {
              "outlinewidth": 0,
              "ticks": ""
             }
            },
            "marker": {
             "colorbar": {
              "outlinewidth": 0,
              "ticks": ""
             }
            },
            "type": "scatter3d"
           }
          ],
          "scattercarpet": [
           {
            "marker": {
             "colorbar": {
              "outlinewidth": 0,
              "ticks": ""
             }
            },
            "type": "scattercarpet"
           }
          ],
          "scattergeo": [
           {
            "marker": {
             "colorbar": {
              "outlinewidth": 0,
              "ticks": ""
             }
            },
            "type": "scattergeo"
           }
          ],
          "scattergl": [
           {
            "marker": {
             "colorbar": {
              "outlinewidth": 0,
              "ticks": ""
             }
            },
            "type": "scattergl"
           }
          ],
          "scattermapbox": [
           {
            "marker": {
             "colorbar": {
              "outlinewidth": 0,
              "ticks": ""
             }
            },
            "type": "scattermapbox"
           }
          ],
          "scatterpolar": [
           {
            "marker": {
             "colorbar": {
              "outlinewidth": 0,
              "ticks": ""
             }
            },
            "type": "scatterpolar"
           }
          ],
          "scatterpolargl": [
           {
            "marker": {
             "colorbar": {
              "outlinewidth": 0,
              "ticks": ""
             }
            },
            "type": "scatterpolargl"
           }
          ],
          "scatterternary": [
           {
            "marker": {
             "colorbar": {
              "outlinewidth": 0,
              "ticks": ""
             }
            },
            "type": "scatterternary"
           }
          ],
          "surface": [
           {
            "colorbar": {
             "outlinewidth": 0,
             "ticks": ""
            },
            "colorscale": [
             [
              0,
              "#0d0887"
             ],
             [
              0.1111111111111111,
              "#46039f"
             ],
             [
              0.2222222222222222,
              "#7201a8"
             ],
             [
              0.3333333333333333,
              "#9c179e"
             ],
             [
              0.4444444444444444,
              "#bd3786"
             ],
             [
              0.5555555555555556,
              "#d8576b"
             ],
             [
              0.6666666666666666,
              "#ed7953"
             ],
             [
              0.7777777777777778,
              "#fb9f3a"
             ],
             [
              0.8888888888888888,
              "#fdca26"
             ],
             [
              1,
              "#f0f921"
             ]
            ],
            "type": "surface"
           }
          ],
          "table": [
           {
            "cells": {
             "fill": {
              "color": "#EBF0F8"
             },
             "line": {
              "color": "white"
             }
            },
            "header": {
             "fill": {
              "color": "#C8D4E3"
             },
             "line": {
              "color": "white"
             }
            },
            "type": "table"
           }
          ]
         },
         "layout": {
          "annotationdefaults": {
           "arrowcolor": "#2a3f5f",
           "arrowhead": 0,
           "arrowwidth": 1
          },
          "autotypenumbers": "strict",
          "coloraxis": {
           "colorbar": {
            "outlinewidth": 0,
            "ticks": ""
           }
          },
          "colorscale": {
           "diverging": [
            [
             0,
             "#8e0152"
            ],
            [
             0.1,
             "#c51b7d"
            ],
            [
             0.2,
             "#de77ae"
            ],
            [
             0.3,
             "#f1b6da"
            ],
            [
             0.4,
             "#fde0ef"
            ],
            [
             0.5,
             "#f7f7f7"
            ],
            [
             0.6,
             "#e6f5d0"
            ],
            [
             0.7,
             "#b8e186"
            ],
            [
             0.8,
             "#7fbc41"
            ],
            [
             0.9,
             "#4d9221"
            ],
            [
             1,
             "#276419"
            ]
           ],
           "sequential": [
            [
             0,
             "#0d0887"
            ],
            [
             0.1111111111111111,
             "#46039f"
            ],
            [
             0.2222222222222222,
             "#7201a8"
            ],
            [
             0.3333333333333333,
             "#9c179e"
            ],
            [
             0.4444444444444444,
             "#bd3786"
            ],
            [
             0.5555555555555556,
             "#d8576b"
            ],
            [
             0.6666666666666666,
             "#ed7953"
            ],
            [
             0.7777777777777778,
             "#fb9f3a"
            ],
            [
             0.8888888888888888,
             "#fdca26"
            ],
            [
             1,
             "#f0f921"
            ]
           ],
           "sequentialminus": [
            [
             0,
             "#0d0887"
            ],
            [
             0.1111111111111111,
             "#46039f"
            ],
            [
             0.2222222222222222,
             "#7201a8"
            ],
            [
             0.3333333333333333,
             "#9c179e"
            ],
            [
             0.4444444444444444,
             "#bd3786"
            ],
            [
             0.5555555555555556,
             "#d8576b"
            ],
            [
             0.6666666666666666,
             "#ed7953"
            ],
            [
             0.7777777777777778,
             "#fb9f3a"
            ],
            [
             0.8888888888888888,
             "#fdca26"
            ],
            [
             1,
             "#f0f921"
            ]
           ]
          },
          "colorway": [
           "#636efa",
           "#EF553B",
           "#00cc96",
           "#ab63fa",
           "#FFA15A",
           "#19d3f3",
           "#FF6692",
           "#B6E880",
           "#FF97FF",
           "#FECB52"
          ],
          "font": {
           "color": "#2a3f5f"
          },
          "geo": {
           "bgcolor": "white",
           "lakecolor": "white",
           "landcolor": "#E5ECF6",
           "showlakes": true,
           "showland": true,
           "subunitcolor": "white"
          },
          "hoverlabel": {
           "align": "left"
          },
          "hovermode": "closest",
          "mapbox": {
           "style": "light"
          },
          "paper_bgcolor": "white",
          "plot_bgcolor": "#E5ECF6",
          "polar": {
           "angularaxis": {
            "gridcolor": "white",
            "linecolor": "white",
            "ticks": ""
           },
           "bgcolor": "#E5ECF6",
           "radialaxis": {
            "gridcolor": "white",
            "linecolor": "white",
            "ticks": ""
           }
          },
          "scene": {
           "xaxis": {
            "backgroundcolor": "#E5ECF6",
            "gridcolor": "white",
            "gridwidth": 2,
            "linecolor": "white",
            "showbackground": true,
            "ticks": "",
            "zerolinecolor": "white"
           },
           "yaxis": {
            "backgroundcolor": "#E5ECF6",
            "gridcolor": "white",
            "gridwidth": 2,
            "linecolor": "white",
            "showbackground": true,
            "ticks": "",
            "zerolinecolor": "white"
           },
           "zaxis": {
            "backgroundcolor": "#E5ECF6",
            "gridcolor": "white",
            "gridwidth": 2,
            "linecolor": "white",
            "showbackground": true,
            "ticks": "",
            "zerolinecolor": "white"
           }
          },
          "shapedefaults": {
           "line": {
            "color": "#2a3f5f"
           }
          },
          "ternary": {
           "aaxis": {
            "gridcolor": "white",
            "linecolor": "white",
            "ticks": ""
           },
           "baxis": {
            "gridcolor": "white",
            "linecolor": "white",
            "ticks": ""
           },
           "bgcolor": "#E5ECF6",
           "caxis": {
            "gridcolor": "white",
            "linecolor": "white",
            "ticks": ""
           }
          },
          "title": {
           "x": 0.05
          },
          "xaxis": {
           "automargin": true,
           "gridcolor": "white",
           "linecolor": "white",
           "ticks": "",
           "title": {
            "standoff": 15
           },
           "zerolinecolor": "white",
           "zerolinewidth": 2
          },
          "yaxis": {
           "automargin": true,
           "gridcolor": "white",
           "linecolor": "white",
           "ticks": "",
           "title": {
            "standoff": 15
           },
           "zerolinecolor": "white",
           "zerolinewidth": 2
          }
         }
        },
        "xaxis": {
         "anchor": "y",
         "domain": [
          0,
          1
         ],
         "dtick": 2,
         "tick0": 1980,
         "tickmode": "linear",
         "title": {
          "text": "DateAcquired"
         }
        },
        "yaxis": {
         "anchor": "x",
         "domain": [
          0,
          1
         ],
         "title": {
          "text": "Count"
         }
        }
       }
      }
     },
     "metadata": {},
     "output_type": "display_data"
    }
   ],
   "source": [
    "import plotly.express as px\n",
    "fig3 = px.area(df_nats_after, x=\"DateAcquired\", y=\"Count\", color=\"Nation\", line_group=\"Nation\")\n",
    "fig3.update_layout(\n",
    "    xaxis = dict(\n",
    "\n",
    "        tickmode = 'linear',\n",
    "        tick0 = 1980,\n",
    "        dtick = 2\n",
    "    ),\n",
    "    paper_bgcolor='rgb(243, 243, 243)',\n",
    "    plot_bgcolor='rgb(243, 243, 243)',\n",
    ")\n",
    "\n",
    "   \n",
    "fig3.show()\n"
   ]
  },
  {
   "cell_type": "markdown",
   "metadata": {},
   "source": [
    "### Rhizome's "
   ]
  },
  {
   "cell_type": "code",
   "execution_count": null,
   "metadata": {},
   "outputs": [
    {
     "data": {
      "text/html": [
       "<div>\n",
       "<style scoped>\n",
       "    .dataframe tbody tr th:only-of-type {\n",
       "        vertical-align: middle;\n",
       "    }\n",
       "\n",
       "    .dataframe tbody tr th {\n",
       "        vertical-align: top;\n",
       "    }\n",
       "\n",
       "    .dataframe thead th {\n",
       "        text-align: right;\n",
       "    }\n",
       "</style>\n",
       "<table border=\"1\" class=\"dataframe\">\n",
       "  <thead>\n",
       "    <tr style=\"text-align: right;\">\n",
       "      <th></th>\n",
       "      <th>ID</th>\n",
       "      <th>URL</th>\n",
       "      <th>Title</th>\n",
       "      <th>Artist</th>\n",
       "      <th>dateAcquired</th>\n",
       "      <th>dateCreated</th>\n",
       "      <th>Nationality</th>\n",
       "      <th>Gender</th>\n",
       "    </tr>\n",
       "  </thead>\n",
       "  <tbody>\n",
       "    <tr>\n",
       "      <th>0</th>\n",
       "      <td>879</td>\n",
       "      <td>https://artbase.rhizome.org/wiki/Q2423</td>\n",
       "      <td>ZUR FARBENLEHRE (THEORY OF COLOURS)</td>\n",
       "      <td>Steven Jones</td>\n",
       "      <td>2007</td>\n",
       "      <td>2007</td>\n",
       "      <td>British</td>\n",
       "      <td>M</td>\n",
       "    </tr>\n",
       "    <tr>\n",
       "      <th>1</th>\n",
       "      <td>1020</td>\n",
       "      <td>https://artbase.rhizome.org/wiki/Q4089</td>\n",
       "      <td>Zones de Convergence</td>\n",
       "      <td>cicero</td>\n",
       "      <td>2005</td>\n",
       "      <td>2005</td>\n",
       "      <td>missing</td>\n",
       "      <td>missing</td>\n",
       "    </tr>\n",
       "    <tr>\n",
       "      <th>2</th>\n",
       "      <td>243, 701</td>\n",
       "      <td>https://artbase.rhizome.org/wiki/Q1475</td>\n",
       "      <td>Zombie and Mummy</td>\n",
       "      <td>Dragan Espenschied, Olia Lialina</td>\n",
       "      <td>2004</td>\n",
       "      <td>2002</td>\n",
       "      <td>German, Russian</td>\n",
       "      <td>M, F</td>\n",
       "    </tr>\n",
       "    <tr>\n",
       "      <th>3</th>\n",
       "      <td>312</td>\n",
       "      <td>https://artbase.rhizome.org/wiki/Q4374</td>\n",
       "      <td>Zaira, City of Memories</td>\n",
       "      <td>Gokcen Erguven</td>\n",
       "      <td>2004</td>\n",
       "      <td>2004</td>\n",
       "      <td>Turkish</td>\n",
       "      <td>F</td>\n",
       "    </tr>\n",
       "    <tr>\n",
       "      <th>4</th>\n",
       "      <td>920</td>\n",
       "      <td>https://artbase.rhizome.org/wiki/Q3972</td>\n",
       "      <td>Z_G [zeitgeist gestalten]</td>\n",
       "      <td>Tiago Borges</td>\n",
       "      <td>2008</td>\n",
       "      <td>2007</td>\n",
       "      <td>Angolan</td>\n",
       "      <td>M</td>\n",
       "    </tr>\n",
       "    <tr>\n",
       "      <th>...</th>\n",
       "      <td>...</td>\n",
       "      <td>...</td>\n",
       "      <td>...</td>\n",
       "      <td>...</td>\n",
       "      <td>...</td>\n",
       "      <td>...</td>\n",
       "      <td>...</td>\n",
       "      <td>...</td>\n",
       "    </tr>\n",
       "    <tr>\n",
       "      <th>2265</th>\n",
       "      <td>1075</td>\n",
       "      <td>https://artbase.rhizome.org/wiki/Q4358</td>\n",
       "      <td>1999</td>\n",
       "      <td>joan escofet</td>\n",
       "      <td>2001</td>\n",
       "      <td>2000</td>\n",
       "      <td>missing</td>\n",
       "      <td>missing</td>\n",
       "    </tr>\n",
       "    <tr>\n",
       "      <th>2266</th>\n",
       "      <td>771</td>\n",
       "      <td>https://artbase.rhizome.org/wiki/Q3761</td>\n",
       "      <td>1969</td>\n",
       "      <td>Rhea Myers</td>\n",
       "      <td>2004</td>\n",
       "      <td>2004</td>\n",
       "      <td>British</td>\n",
       "      <td>F</td>\n",
       "    </tr>\n",
       "    <tr>\n",
       "      <th>2267</th>\n",
       "      <td>859</td>\n",
       "      <td>https://artbase.rhizome.org/wiki/Q2283</td>\n",
       "      <td>1953</td>\n",
       "      <td>Skye Thorstenson</td>\n",
       "      <td>2003</td>\n",
       "      <td>2002</td>\n",
       "      <td>missing</td>\n",
       "      <td>M</td>\n",
       "    </tr>\n",
       "    <tr>\n",
       "      <th>2268</th>\n",
       "      <td>481</td>\n",
       "      <td>https://artbase.rhizome.org/wiki/Q2511</td>\n",
       "      <td>160</td>\n",
       "      <td>Katie Lips</td>\n",
       "      <td>2005</td>\n",
       "      <td>2005</td>\n",
       "      <td>British</td>\n",
       "      <td>F</td>\n",
       "    </tr>\n",
       "    <tr>\n",
       "      <th>2269</th>\n",
       "      <td>996</td>\n",
       "      <td>https://artbase.rhizome.org/wiki/Q1629</td>\n",
       "      <td>24</td>\n",
       "      <td>andrew hieronymi</td>\n",
       "      <td>2003</td>\n",
       "      <td>2003</td>\n",
       "      <td>missing</td>\n",
       "      <td>M</td>\n",
       "    </tr>\n",
       "  </tbody>\n",
       "</table>\n",
       "<p>2270 rows × 8 columns</p>\n",
       "</div>"
      ],
      "text/plain": [
       "            ID                                     URL  \\\n",
       "0          879  https://artbase.rhizome.org/wiki/Q2423   \n",
       "1         1020  https://artbase.rhizome.org/wiki/Q4089   \n",
       "2     243, 701  https://artbase.rhizome.org/wiki/Q1475   \n",
       "3          312  https://artbase.rhizome.org/wiki/Q4374   \n",
       "4          920  https://artbase.rhizome.org/wiki/Q3972   \n",
       "...        ...                                     ...   \n",
       "2265      1075  https://artbase.rhizome.org/wiki/Q4358   \n",
       "2266       771  https://artbase.rhizome.org/wiki/Q3761   \n",
       "2267       859  https://artbase.rhizome.org/wiki/Q2283   \n",
       "2268       481  https://artbase.rhizome.org/wiki/Q2511   \n",
       "2269       996  https://artbase.rhizome.org/wiki/Q1629   \n",
       "\n",
       "                                    Title                            Artist  \\\n",
       "0     ZUR FARBENLEHRE (THEORY OF COLOURS)                      Steven Jones   \n",
       "1                    Zones de Convergence                            cicero   \n",
       "2                        Zombie and Mummy  Dragan Espenschied, Olia Lialina   \n",
       "3                 Zaira, City of Memories                    Gokcen Erguven   \n",
       "4               Z_G [zeitgeist gestalten]                      Tiago Borges   \n",
       "...                                   ...                               ...   \n",
       "2265                                 1999                      joan escofet   \n",
       "2266                                 1969                        Rhea Myers   \n",
       "2267                                 1953                  Skye Thorstenson   \n",
       "2268                                  160                        Katie Lips   \n",
       "2269                                   24                  andrew hieronymi   \n",
       "\n",
       "     dateAcquired dateCreated      Nationality   Gender  \n",
       "0            2007        2007          British        M  \n",
       "1            2005        2005          missing  missing  \n",
       "2            2004        2002  German, Russian     M, F  \n",
       "3            2004        2004         Turkish         F  \n",
       "4            2008        2007          Angolan        M  \n",
       "...           ...         ...              ...      ...  \n",
       "2265         2001        2000          missing  missing  \n",
       "2266         2004        2004          British        F  \n",
       "2267         2003        2002          missing        M  \n",
       "2268         2005        2005          British        F  \n",
       "2269         2003        2003          missing        M  \n",
       "\n",
       "[2270 rows x 8 columns]"
      ]
     },
     "execution_count": 93,
     "metadata": {},
     "output_type": "execute_result"
    }
   ],
   "source": [
    "rhizome"
   ]
  },
  {
   "cell_type": "code",
   "execution_count": 21,
   "metadata": {},
   "outputs": [
    {
     "name": "stderr",
     "output_type": "stream",
     "text": [
      "/var/folders/qj/xh48vw9d4z5_h6wzs6r2smdh0000gn/T/ipykernel_29797/2568959807.py:8: UserWarning:\n",
      "\n",
      "Pandas doesn't allow columns to be created via a new attribute name - see https://pandas.pydata.org/pandas-docs/stable/indexing.html#attribute-access\n",
      "\n"
     ]
    },
    {
     "data": {
      "text/html": [
       "<div>\n",
       "<style scoped>\n",
       "    .dataframe tbody tr th:only-of-type {\n",
       "        vertical-align: middle;\n",
       "    }\n",
       "\n",
       "    .dataframe tbody tr th {\n",
       "        vertical-align: top;\n",
       "    }\n",
       "\n",
       "    .dataframe thead th {\n",
       "        text-align: right;\n",
       "    }\n",
       "</style>\n",
       "<table border=\"1\" class=\"dataframe\">\n",
       "  <thead>\n",
       "    <tr style=\"text-align: right;\">\n",
       "      <th></th>\n",
       "      <th>Nation</th>\n",
       "      <th>DateAcquired</th>\n",
       "      <th>Count</th>\n",
       "      <th>Females</th>\n",
       "    </tr>\n",
       "  </thead>\n",
       "  <tbody>\n",
       "    <tr>\n",
       "      <th>0</th>\n",
       "      <td>Russian</td>\n",
       "      <td>2001</td>\n",
       "      <td>5</td>\n",
       "      <td>2</td>\n",
       "    </tr>\n",
       "    <tr>\n",
       "      <th>1</th>\n",
       "      <td>Russian</td>\n",
       "      <td>2002</td>\n",
       "      <td>2</td>\n",
       "      <td>1</td>\n",
       "    </tr>\n",
       "    <tr>\n",
       "      <th>2</th>\n",
       "      <td>Russian</td>\n",
       "      <td>2004</td>\n",
       "      <td>3</td>\n",
       "      <td>2</td>\n",
       "    </tr>\n",
       "    <tr>\n",
       "      <th>3</th>\n",
       "      <td>Russian</td>\n",
       "      <td>2007</td>\n",
       "      <td>1</td>\n",
       "      <td>1</td>\n",
       "    </tr>\n",
       "    <tr>\n",
       "      <th>4</th>\n",
       "      <td>Israeli</td>\n",
       "      <td>2001</td>\n",
       "      <td>5</td>\n",
       "      <td>0</td>\n",
       "    </tr>\n",
       "    <tr>\n",
       "      <th>...</th>\n",
       "      <td>...</td>\n",
       "      <td>...</td>\n",
       "      <td>...</td>\n",
       "      <td>...</td>\n",
       "    </tr>\n",
       "    <tr>\n",
       "      <th>281</th>\n",
       "      <td>Australian</td>\n",
       "      <td>2007</td>\n",
       "      <td>2</td>\n",
       "      <td>1</td>\n",
       "    </tr>\n",
       "    <tr>\n",
       "      <th>282</th>\n",
       "      <td>Australian</td>\n",
       "      <td>2008</td>\n",
       "      <td>1</td>\n",
       "      <td>0</td>\n",
       "    </tr>\n",
       "    <tr>\n",
       "      <th>283</th>\n",
       "      <td>Australian</td>\n",
       "      <td>2010</td>\n",
       "      <td>2</td>\n",
       "      <td>0</td>\n",
       "    </tr>\n",
       "    <tr>\n",
       "      <th>284</th>\n",
       "      <td>Australian</td>\n",
       "      <td>2011</td>\n",
       "      <td>1</td>\n",
       "      <td>0</td>\n",
       "    </tr>\n",
       "    <tr>\n",
       "      <th>285</th>\n",
       "      <td>Australian</td>\n",
       "      <td>2012</td>\n",
       "      <td>1</td>\n",
       "      <td>0</td>\n",
       "    </tr>\n",
       "  </tbody>\n",
       "</table>\n",
       "<p>286 rows × 4 columns</p>\n",
       "</div>"
      ],
      "text/plain": [
       "         Nation DateAcquired  Count  Females\n",
       "0       Russian         2001      5        2\n",
       "1       Russian         2002      2        1\n",
       "2       Russian         2004      3        2\n",
       "3       Russian         2007      1        1\n",
       "4       Israeli         2001      5        0\n",
       "..          ...          ...    ...      ...\n",
       "281  Australian         2007      2        1\n",
       "282  Australian         2008      1        0\n",
       "283  Australian         2010      2        0\n",
       "284  Australian         2011      1        0\n",
       "285  Australian         2012      1        0\n",
       "\n",
       "[286 rows x 4 columns]"
      ]
     },
     "execution_count": 21,
     "metadata": {},
     "output_type": "execute_result"
    }
   ],
   "source": [
    "\n",
    "rhizome.Nationality = rhizome.Nationality.astype('str')\n",
    "nats = ', '.join(rhizome.Nationality)\n",
    "nats = list(set(nats.split(', ')))\n",
    "df_nats_rhizome = pd.DataFrame()\n",
    "\n",
    "for country in nats:\n",
    "    nat_sub =  rhizome[rhizome.Nationality == country]    \n",
    "    nat_sub.DateAcquired = nat_sub.dateAcquired.astype('str')\n",
    "    years = ', '.join(nat_sub.DateAcquired)\n",
    "    years = sorted(list([item[:4] for item in list(set(years.split(', ')))]))[0:-1]\n",
    "    for year in years:\n",
    "        year_sub = nat_sub[nat_sub.DateAcquired == year]\n",
    "        entries_year = len(year_sub)\n",
    "        f_count = len(year_sub[year_sub.Gender == 'F'])\n",
    "        new_row = pd.DataFrame([[country, year, entries_year, f_count]])\n",
    "        df_nats_rhizome = pd.concat([df_nats_rhizome, new_row], axis=0, ignore_index=True)\n",
    "\n",
    "df_nats_rhizome.columns= [\"Nation\", \"DateAcquired\", \"Count\", \"Females\"]\n",
    "df_nats_rhizome    "
   ]
  },
  {
   "cell_type": "code",
   "execution_count": 22,
   "metadata": {},
   "outputs": [
    {
     "data": {
      "text/html": [
       "<div>\n",
       "<style scoped>\n",
       "    .dataframe tbody tr th:only-of-type {\n",
       "        vertical-align: middle;\n",
       "    }\n",
       "\n",
       "    .dataframe tbody tr th {\n",
       "        vertical-align: top;\n",
       "    }\n",
       "\n",
       "    .dataframe thead th {\n",
       "        text-align: right;\n",
       "    }\n",
       "</style>\n",
       "<table border=\"1\" class=\"dataframe\">\n",
       "  <thead>\n",
       "    <tr style=\"text-align: right;\">\n",
       "      <th></th>\n",
       "      <th>Nation</th>\n",
       "      <th>DateAcquired</th>\n",
       "      <th>Count</th>\n",
       "      <th>Females</th>\n",
       "    </tr>\n",
       "  </thead>\n",
       "  <tbody>\n",
       "    <tr>\n",
       "      <th>1914</th>\n",
       "      <td>New Zealander</td>\n",
       "      <td>2008</td>\n",
       "      <td>0</td>\n",
       "      <td>0</td>\n",
       "    </tr>\n",
       "    <tr>\n",
       "      <th>2268</th>\n",
       "      <td>Venezuelan</td>\n",
       "      <td>2019</td>\n",
       "      <td>0</td>\n",
       "      <td>0</td>\n",
       "    </tr>\n",
       "    <tr>\n",
       "      <th>1927</th>\n",
       "      <td>Hungarian</td>\n",
       "      <td>1966</td>\n",
       "      <td>0</td>\n",
       "      <td>0</td>\n",
       "    </tr>\n",
       "    <tr>\n",
       "      <th>2152</th>\n",
       "      <td>Nationality unknown</td>\n",
       "      <td>1935</td>\n",
       "      <td>0</td>\n",
       "      <td>0</td>\n",
       "    </tr>\n",
       "    <tr>\n",
       "      <th>2302</th>\n",
       "      <td>Japanese</td>\n",
       "      <td>1940</td>\n",
       "      <td>0</td>\n",
       "      <td>0</td>\n",
       "    </tr>\n",
       "    <tr>\n",
       "      <th>...</th>\n",
       "      <td>...</td>\n",
       "      <td>...</td>\n",
       "      <td>...</td>\n",
       "      <td>...</td>\n",
       "    </tr>\n",
       "    <tr>\n",
       "      <th>1705</th>\n",
       "      <td>French</td>\n",
       "      <td>1968</td>\n",
       "      <td>5173</td>\n",
       "      <td>3</td>\n",
       "    </tr>\n",
       "    <tr>\n",
       "      <th>1704</th>\n",
       "      <td>French</td>\n",
       "      <td>1968</td>\n",
       "      <td>5173</td>\n",
       "      <td>3</td>\n",
       "    </tr>\n",
       "    <tr>\n",
       "      <th>1698</th>\n",
       "      <td>French</td>\n",
       "      <td>1964</td>\n",
       "      <td>8457</td>\n",
       "      <td>75</td>\n",
       "    </tr>\n",
       "    <tr>\n",
       "      <th>1697</th>\n",
       "      <td>French</td>\n",
       "      <td>1964</td>\n",
       "      <td>8457</td>\n",
       "      <td>75</td>\n",
       "    </tr>\n",
       "    <tr>\n",
       "      <th>1699</th>\n",
       "      <td>French</td>\n",
       "      <td>1964</td>\n",
       "      <td>8457</td>\n",
       "      <td>75</td>\n",
       "    </tr>\n",
       "  </tbody>\n",
       "</table>\n",
       "<p>2406 rows × 4 columns</p>\n",
       "</div>"
      ],
      "text/plain": [
       "                   Nation  DateAcquired  Count  Females\n",
       "1914        New Zealander          2008      0        0\n",
       "2268           Venezuelan          2019      0        0\n",
       "1927            Hungarian          1966      0        0\n",
       "2152  Nationality unknown          1935      0        0\n",
       "2302             Japanese          1940      0        0\n",
       "...                   ...           ...    ...      ...\n",
       "1705               French          1968   5173        3\n",
       "1704               French          1968   5173        3\n",
       "1698               French          1964   8457       75\n",
       "1697               French          1964   8457       75\n",
       "1699               French          1964   8457       75\n",
       "\n",
       "[2406 rows x 4 columns]"
      ]
     },
     "execution_count": 22,
     "metadata": {},
     "output_type": "execute_result"
    }
   ],
   "source": [
    "df_nats_before.sort_values( by=[\"Count\"], ascending=True)\n"
   ]
  },
  {
   "cell_type": "code",
   "execution_count": 23,
   "metadata": {},
   "outputs": [
    {
     "data": {
      "application/vnd.plotly.v1+json": {
       "config": {
        "plotlyServerURL": "https://plot.ly"
       },
       "data": [
        {
         "fillpattern": {
          "shape": ""
         },
         "hovertemplate": "Nation=Russian<br>DateAcquired=%{x}<br>Count=%{y}<extra></extra>",
         "legendgroup": "Russian",
         "line": {
          "color": "#636efa"
         },
         "marker": {
          "symbol": "circle"
         },
         "mode": "lines",
         "name": "Russian",
         "orientation": "v",
         "showlegend": true,
         "stackgroup": "1",
         "type": "scatter",
         "x": [
          "2001",
          "2002",
          "2004",
          "2007"
         ],
         "xaxis": "x",
         "y": [
          5,
          2,
          3,
          1
         ],
         "yaxis": "y"
        },
        {
         "fillpattern": {
          "shape": ""
         },
         "hovertemplate": "Nation=Israeli<br>DateAcquired=%{x}<br>Count=%{y}<extra></extra>",
         "legendgroup": "Israeli",
         "line": {
          "color": "#EF553B"
         },
         "marker": {
          "symbol": "circle"
         },
         "mode": "lines",
         "name": "Israeli",
         "orientation": "v",
         "showlegend": true,
         "stackgroup": "1",
         "type": "scatter",
         "x": [
          "2001",
          "2002",
          "2003",
          "2004",
          "2005",
          "2006",
          "2007",
          "2008"
         ],
         "xaxis": "x",
         "y": [
          5,
          1,
          1,
          13,
          1,
          1,
          1,
          3
         ],
         "yaxis": "y"
        },
        {
         "fillpattern": {
          "shape": ""
         },
         "hovertemplate": "Nation=American/South African<br>DateAcquired=%{x}<br>Count=%{y}<extra></extra>",
         "legendgroup": "American/South African",
         "line": {
          "color": "#00cc96"
         },
         "marker": {
          "symbol": "circle"
         },
         "mode": "lines",
         "name": "American/South African",
         "orientation": "v",
         "showlegend": true,
         "stackgroup": "1",
         "type": "scatter",
         "x": [
          "2001",
          "2002",
          "2004",
          "2005",
          "2009"
         ],
         "xaxis": "x",
         "y": [
          3,
          1,
          1,
          2,
          1
         ],
         "yaxis": "y"
        },
        {
         "fillpattern": {
          "shape": ""
         },
         "hovertemplate": "Nation=Belgian<br>DateAcquired=%{x}<br>Count=%{y}<extra></extra>",
         "legendgroup": "Belgian",
         "line": {
          "color": "#ab63fa"
         },
         "marker": {
          "symbol": "circle"
         },
         "mode": "lines",
         "name": "Belgian",
         "orientation": "v",
         "showlegend": true,
         "stackgroup": "1",
         "type": "scatter",
         "x": [
          "2001",
          "2002",
          "2003",
          "2004",
          "2005",
          "2008"
         ],
         "xaxis": "x",
         "y": [
          1,
          2,
          1,
          2,
          3,
          2
         ],
         "yaxis": "y"
        },
        {
         "fillpattern": {
          "shape": ""
         },
         "hovertemplate": "Nation=Chinese<br>DateAcquired=%{x}<br>Count=%{y}<extra></extra>",
         "legendgroup": "Chinese",
         "line": {
          "color": "#FFA15A"
         },
         "marker": {
          "symbol": "circle"
         },
         "mode": "lines",
         "name": "Chinese",
         "orientation": "v",
         "showlegend": true,
         "stackgroup": "1",
         "type": "scatter",
         "x": [
          "2002"
         ],
         "xaxis": "x",
         "y": [
          2
         ],
         "yaxis": "y"
        },
        {
         "fillpattern": {
          "shape": ""
         },
         "hovertemplate": "Nation=Brasilian/American<br>DateAcquired=%{x}<br>Count=%{y}<extra></extra>",
         "legendgroup": "Brasilian/American",
         "line": {
          "color": "#19d3f3"
         },
         "marker": {
          "symbol": "circle"
         },
         "mode": "lines",
         "name": "Brasilian/American",
         "orientation": "v",
         "showlegend": true,
         "stackgroup": "1",
         "type": "scatter",
         "x": [
          "0",
          "2003"
         ],
         "xaxis": "x",
         "y": [
          1,
          2
         ],
         "yaxis": "y"
        },
        {
         "fillpattern": {
          "shape": ""
         },
         "hovertemplate": "Nation=Mexican/American<br>DateAcquired=%{x}<br>Count=%{y}<extra></extra>",
         "legendgroup": "Mexican/American",
         "line": {
          "color": "#FF6692"
         },
         "marker": {
          "symbol": "circle"
         },
         "mode": "lines",
         "name": "Mexican/American",
         "orientation": "v",
         "showlegend": true,
         "stackgroup": "1",
         "type": "scatter",
         "x": [
          "2006"
         ],
         "xaxis": "x",
         "y": [
          1
         ],
         "yaxis": "y"
        },
        {
         "fillpattern": {
          "shape": ""
         },
         "hovertemplate": "Nation=Polish<br>DateAcquired=%{x}<br>Count=%{y}<extra></extra>",
         "legendgroup": "Polish",
         "line": {
          "color": "#B6E880"
         },
         "marker": {
          "symbol": "circle"
         },
         "mode": "lines",
         "name": "Polish",
         "orientation": "v",
         "showlegend": true,
         "stackgroup": "1",
         "type": "scatter",
         "x": [
          "2001",
          "2002",
          "2004",
          "2005",
          "2006",
          "2007",
          "2008",
          "2009",
          "2011"
         ],
         "xaxis": "x",
         "y": [
          3,
          2,
          1,
          1,
          3,
          3,
          5,
          1,
          1
         ],
         "yaxis": "y"
        },
        {
         "fillpattern": {
          "shape": ""
         },
         "hovertemplate": "Nation=Argentine <br>DateAcquired=%{x}<br>Count=%{y}<extra></extra>",
         "legendgroup": "Argentine ",
         "line": {
          "color": "#FF97FF"
         },
         "marker": {
          "symbol": "circle"
         },
         "mode": "lines",
         "name": "Argentine ",
         "orientation": "v",
         "showlegend": true,
         "stackgroup": "1",
         "type": "scatter",
         "x": [
          "2002"
         ],
         "xaxis": "x",
         "y": [
          2
         ],
         "yaxis": "y"
        },
        {
         "fillpattern": {
          "shape": ""
         },
         "hovertemplate": "Nation=Chilean<br>DateAcquired=%{x}<br>Count=%{y}<extra></extra>",
         "legendgroup": "Chilean",
         "line": {
          "color": "#FECB52"
         },
         "marker": {
          "symbol": "circle"
         },
         "mode": "lines",
         "name": "Chilean",
         "orientation": "v",
         "showlegend": true,
         "stackgroup": "1",
         "type": "scatter",
         "x": [
          "2004",
          "2005"
         ],
         "xaxis": "x",
         "y": [
          1,
          1
         ],
         "yaxis": "y"
        },
        {
         "fillpattern": {
          "shape": ""
         },
         "hovertemplate": "Nation=South African<br>DateAcquired=%{x}<br>Count=%{y}<extra></extra>",
         "legendgroup": "South African",
         "line": {
          "color": "#636efa"
         },
         "marker": {
          "symbol": "circle"
         },
         "mode": "lines",
         "name": "South African",
         "orientation": "v",
         "showlegend": true,
         "stackgroup": "1",
         "type": "scatter",
         "x": [
          "2002",
          "2004"
         ],
         "xaxis": "x",
         "y": [
          1,
          1
         ],
         "yaxis": "y"
        },
        {
         "fillpattern": {
          "shape": ""
         },
         "hovertemplate": "Nation=Italian<br>DateAcquired=%{x}<br>Count=%{y}<extra></extra>",
         "legendgroup": "Italian",
         "line": {
          "color": "#EF553B"
         },
         "marker": {
          "symbol": "circle"
         },
         "mode": "lines",
         "name": "Italian",
         "orientation": "v",
         "showlegend": true,
         "stackgroup": "1",
         "type": "scatter",
         "x": [
          "2001",
          "2002",
          "2003",
          "2005",
          "2006",
          "2007",
          "2009",
          "2011",
          "2012"
         ],
         "xaxis": "x",
         "y": [
          4,
          9,
          3,
          8,
          3,
          5,
          1,
          1,
          3
         ],
         "yaxis": "y"
        },
        {
         "fillpattern": {
          "shape": ""
         },
         "hovertemplate": "Nation=Serbian<br>DateAcquired=%{x}<br>Count=%{y}<extra></extra>",
         "legendgroup": "Serbian",
         "line": {
          "color": "#00cc96"
         },
         "marker": {
          "symbol": "circle"
         },
         "mode": "lines",
         "name": "Serbian",
         "orientation": "v",
         "showlegend": true,
         "stackgroup": "1",
         "type": "scatter",
         "x": [
          "2001",
          "2006"
         ],
         "xaxis": "x",
         "y": [
          1,
          5
         ],
         "yaxis": "y"
        },
        {
         "fillpattern": {
          "shape": ""
         },
         "hovertemplate": "Nation=American/Canadian<br>DateAcquired=%{x}<br>Count=%{y}<extra></extra>",
         "legendgroup": "American/Canadian",
         "line": {
          "color": "#ab63fa"
         },
         "marker": {
          "symbol": "circle"
         },
         "mode": "lines",
         "name": "American/Canadian",
         "orientation": "v",
         "showlegend": true,
         "stackgroup": "1",
         "type": "scatter",
         "x": [
          "2003"
         ],
         "xaxis": "x",
         "y": [
          1
         ],
         "yaxis": "y"
        },
        {
         "fillpattern": {
          "shape": ""
         },
         "hovertemplate": "Nation=Irish<br>DateAcquired=%{x}<br>Count=%{y}<extra></extra>",
         "legendgroup": "Irish",
         "line": {
          "color": "#FFA15A"
         },
         "marker": {
          "symbol": "circle"
         },
         "mode": "lines",
         "name": "Irish",
         "orientation": "v",
         "showlegend": true,
         "stackgroup": "1",
         "type": "scatter",
         "x": [
          "2002"
         ],
         "xaxis": "x",
         "y": [
          1
         ],
         "yaxis": "y"
        },
        {
         "fillpattern": {
          "shape": ""
         },
         "hovertemplate": "Nation=Indian<br>DateAcquired=%{x}<br>Count=%{y}<extra></extra>",
         "legendgroup": "Indian",
         "line": {
          "color": "#19d3f3"
         },
         "marker": {
          "symbol": "circle"
         },
         "mode": "lines",
         "name": "Indian",
         "orientation": "v",
         "showlegend": true,
         "stackgroup": "1",
         "type": "scatter",
         "x": [
          "2002",
          "2007"
         ],
         "xaxis": "x",
         "y": [
          1,
          1
         ],
         "yaxis": "y"
        },
        {
         "fillpattern": {
          "shape": ""
         },
         "hovertemplate": "Nation=Brasilian<br>DateAcquired=%{x}<br>Count=%{y}<extra></extra>",
         "legendgroup": "Brasilian",
         "line": {
          "color": "#FF6692"
         },
         "marker": {
          "symbol": "circle"
         },
         "mode": "lines",
         "name": "Brasilian",
         "orientation": "v",
         "showlegend": true,
         "stackgroup": "1",
         "type": "scatter",
         "x": [
          "0",
          "2001",
          "2002",
          "2003",
          "2004",
          "2005",
          "2007"
         ],
         "xaxis": "x",
         "y": [
          1,
          3,
          4,
          1,
          3,
          1,
          8
         ],
         "yaxis": "y"
        },
        {
         "fillpattern": {
          "shape": ""
         },
         "hovertemplate": "Nation=Slovenian<br>DateAcquired=%{x}<br>Count=%{y}<extra></extra>",
         "legendgroup": "Slovenian",
         "line": {
          "color": "#B6E880"
         },
         "marker": {
          "symbol": "circle"
         },
         "mode": "lines",
         "name": "Slovenian",
         "orientation": "v",
         "showlegend": true,
         "stackgroup": "1",
         "type": "scatter",
         "x": [
          "2001",
          "2005",
          "2007"
         ],
         "xaxis": "x",
         "y": [
          1,
          1,
          1
         ],
         "yaxis": "y"
        },
        {
         "fillpattern": {
          "shape": ""
         },
         "hovertemplate": "Nation=British/Canadian<br>DateAcquired=%{x}<br>Count=%{y}<extra></extra>",
         "legendgroup": "British/Canadian",
         "line": {
          "color": "#FF97FF"
         },
         "marker": {
          "symbol": "circle"
         },
         "mode": "lines",
         "name": "British/Canadian",
         "orientation": "v",
         "showlegend": true,
         "stackgroup": "1",
         "type": "scatter",
         "x": [
          "2002",
          "2003"
         ],
         "xaxis": "x",
         "y": [
          1,
          1
         ],
         "yaxis": "y"
        },
        {
         "fillpattern": {
          "shape": ""
         },
         "hovertemplate": "Nation=Czech<br>DateAcquired=%{x}<br>Count=%{y}<extra></extra>",
         "legendgroup": "Czech",
         "line": {
          "color": "#FECB52"
         },
         "marker": {
          "symbol": "circle"
         },
         "mode": "lines",
         "name": "Czech",
         "orientation": "v",
         "showlegend": true,
         "stackgroup": "1",
         "type": "scatter",
         "x": [
          "2001",
          "2003",
          "2006"
         ],
         "xaxis": "x",
         "y": [
          2,
          1,
          2
         ],
         "yaxis": "y"
        },
        {
         "fillpattern": {
          "shape": ""
         },
         "hovertemplate": "Nation=Italian <br>DateAcquired=%{x}<br>Count=%{y}<extra></extra>",
         "legendgroup": "Italian ",
         "line": {
          "color": "#636efa"
         },
         "marker": {
          "symbol": "circle"
         },
         "mode": "lines",
         "name": "Italian ",
         "orientation": "v",
         "showlegend": true,
         "stackgroup": "1",
         "type": "scatter",
         "x": [
          "2001"
         ],
         "xaxis": "x",
         "y": [
          1
         ],
         "yaxis": "y"
        },
        {
         "fillpattern": {
          "shape": ""
         },
         "hovertemplate": "Nation=Finnish <br>DateAcquired=%{x}<br>Count=%{y}<extra></extra>",
         "legendgroup": "Finnish ",
         "line": {
          "color": "#EF553B"
         },
         "marker": {
          "symbol": "circle"
         },
         "mode": "lines",
         "name": "Finnish ",
         "orientation": "v",
         "showlegend": true,
         "stackgroup": "1",
         "type": "scatter",
         "x": [
          "2001"
         ],
         "xaxis": "x",
         "y": [
          1
         ],
         "yaxis": "y"
        },
        {
         "fillpattern": {
          "shape": ""
         },
         "hovertemplate": "Nation=Portuguese<br>DateAcquired=%{x}<br>Count=%{y}<extra></extra>",
         "legendgroup": "Portuguese",
         "line": {
          "color": "#00cc96"
         },
         "marker": {
          "symbol": "circle"
         },
         "mode": "lines",
         "name": "Portuguese",
         "orientation": "v",
         "showlegend": true,
         "stackgroup": "1",
         "type": "scatter",
         "x": [
          "2003",
          "2004",
          "2005",
          "2006",
          "2007"
         ],
         "xaxis": "x",
         "y": [
          1,
          2,
          2,
          2,
          4
         ],
         "yaxis": "y"
        },
        {
         "fillpattern": {
          "shape": ""
         },
         "hovertemplate": "Nation=Colombian<br>DateAcquired=%{x}<br>Count=%{y}<extra></extra>",
         "legendgroup": "Colombian",
         "line": {
          "color": "#ab63fa"
         },
         "marker": {
          "symbol": "circle"
         },
         "mode": "lines",
         "name": "Colombian",
         "orientation": "v",
         "showlegend": true,
         "stackgroup": "1",
         "type": "scatter",
         "x": [
          "2005",
          "2007"
         ],
         "xaxis": "x",
         "y": [
          2,
          5
         ],
         "yaxis": "y"
        },
        {
         "fillpattern": {
          "shape": ""
         },
         "hovertemplate": "Nation=Finnish<br>DateAcquired=%{x}<br>Count=%{y}<extra></extra>",
         "legendgroup": "Finnish",
         "line": {
          "color": "#FFA15A"
         },
         "marker": {
          "symbol": "circle"
         },
         "mode": "lines",
         "name": "Finnish",
         "orientation": "v",
         "showlegend": true,
         "stackgroup": "1",
         "type": "scatter",
         "x": [
          "2006"
         ],
         "xaxis": "x",
         "y": [
          1
         ],
         "yaxis": "y"
        },
        {
         "fillpattern": {
          "shape": ""
         },
         "hovertemplate": "Nation=British<br>DateAcquired=%{x}<br>Count=%{y}<extra></extra>",
         "legendgroup": "British",
         "line": {
          "color": "#19d3f3"
         },
         "marker": {
          "symbol": "circle"
         },
         "mode": "lines",
         "name": "British",
         "orientation": "v",
         "showlegend": true,
         "stackgroup": "1",
         "type": "scatter",
         "x": [
          "0",
          "2000",
          "2001",
          "2002",
          "2003",
          "2004",
          "2005",
          "2006",
          "2007",
          "2008",
          "2009",
          "2012",
          "2013"
         ],
         "xaxis": "x",
         "y": [
          1,
          1,
          3,
          15,
          5,
          11,
          11,
          8,
          15,
          6,
          1,
          1,
          1
         ],
         "yaxis": "y"
        },
        {
         "fillpattern": {
          "shape": ""
         },
         "hovertemplate": "Nation=American <br>DateAcquired=%{x}<br>Count=%{y}<extra></extra>",
         "legendgroup": "American ",
         "line": {
          "color": "#FF6692"
         },
         "marker": {
          "symbol": "circle"
         },
         "mode": "lines",
         "name": "American ",
         "orientation": "v",
         "showlegend": true,
         "stackgroup": "1",
         "type": "scatter",
         "x": [
          "2001",
          "2002",
          "2003",
          "2004",
          "2005",
          "2006",
          "2007",
          "2009"
         ],
         "xaxis": "x",
         "y": [
          4,
          2,
          1,
          5,
          1,
          10,
          5,
          1
         ],
         "yaxis": "y"
        },
        {
         "fillpattern": {
          "shape": ""
         },
         "hovertemplate": "Nation=American<br>DateAcquired=%{x}<br>Count=%{y}<extra></extra>",
         "legendgroup": "American",
         "line": {
          "color": "#B6E880"
         },
         "marker": {
          "symbol": "circle"
         },
         "mode": "lines",
         "name": "American",
         "orientation": "v",
         "showlegend": true,
         "stackgroup": "1",
         "type": "scatter",
         "x": [
          "0",
          "2000",
          "2001",
          "2002",
          "2003",
          "2004",
          "2005",
          "2006",
          "2007",
          "2008",
          "2009",
          "2010",
          "2011",
          "2012",
          "2013",
          "2015"
         ],
         "xaxis": "x",
         "y": [
          9,
          4,
          54,
          44,
          26,
          44,
          52,
          53,
          65,
          34,
          29,
          7,
          23,
          22,
          3,
          4
         ],
         "yaxis": "y"
        },
        {
         "fillpattern": {
          "shape": ""
         },
         "hovertemplate": "Nation=Austrian<br>DateAcquired=%{x}<br>Count=%{y}<extra></extra>",
         "legendgroup": "Austrian",
         "line": {
          "color": "#FF97FF"
         },
         "marker": {
          "symbol": "circle"
         },
         "mode": "lines",
         "name": "Austrian",
         "orientation": "v",
         "showlegend": true,
         "stackgroup": "1",
         "type": "scatter",
         "x": [
          "0",
          "2001",
          "2002",
          "2003",
          "2004",
          "2005",
          "2006",
          "2007",
          "2008",
          "2009",
          "2010"
         ],
         "xaxis": "x",
         "y": [
          1,
          7,
          5,
          1,
          4,
          2,
          2,
          7,
          5,
          1,
          1
         ],
         "yaxis": "y"
        },
        {
         "fillpattern": {
          "shape": ""
         },
         "hovertemplate": "Nation=Greek/Australian<br>DateAcquired=%{x}<br>Count=%{y}<extra></extra>",
         "legendgroup": "Greek/Australian",
         "line": {
          "color": "#FECB52"
         },
         "marker": {
          "symbol": "circle"
         },
         "mode": "lines",
         "name": "Greek/Australian",
         "orientation": "v",
         "showlegend": true,
         "stackgroup": "1",
         "type": "scatter",
         "x": [
          "2003"
         ],
         "xaxis": "x",
         "y": [
          1
         ],
         "yaxis": "y"
        },
        {
         "fillpattern": {
          "shape": ""
         },
         "hovertemplate": "Nation=Icelandic/American<br>DateAcquired=%{x}<br>Count=%{y}<extra></extra>",
         "legendgroup": "Icelandic/American",
         "line": {
          "color": "#636efa"
         },
         "marker": {
          "symbol": "circle"
         },
         "mode": "lines",
         "name": "Icelandic/American",
         "orientation": "v",
         "showlegend": true,
         "stackgroup": "1",
         "type": "scatter",
         "x": [
          "2002",
          "2003",
          "2004",
          "2005",
          "2006"
         ],
         "xaxis": "x",
         "y": [
          2,
          1,
          1,
          1,
          1
         ],
         "yaxis": "y"
        },
        {
         "fillpattern": {
          "shape": ""
         },
         "hovertemplate": "Nation=Afghan/American<br>DateAcquired=%{x}<br>Count=%{y}<extra></extra>",
         "legendgroup": "Afghan/American",
         "line": {
          "color": "#EF553B"
         },
         "marker": {
          "symbol": "circle"
         },
         "mode": "lines",
         "name": "Afghan/American",
         "orientation": "v",
         "showlegend": true,
         "stackgroup": "1",
         "type": "scatter",
         "x": [
          "2011"
         ],
         "xaxis": "x",
         "y": [
          1
         ],
         "yaxis": "y"
        },
        {
         "fillpattern": {
          "shape": ""
         },
         "hovertemplate": "Nation=Dutch<br>DateAcquired=%{x}<br>Count=%{y}<extra></extra>",
         "legendgroup": "Dutch",
         "line": {
          "color": "#00cc96"
         },
         "marker": {
          "symbol": "circle"
         },
         "mode": "lines",
         "name": "Dutch",
         "orientation": "v",
         "showlegend": true,
         "stackgroup": "1",
         "type": "scatter",
         "x": [
          "2001",
          "2003",
          "2004",
          "2005",
          "2006",
          "2007",
          "2008",
          "2010",
          "2011",
          "2012"
         ],
         "xaxis": "x",
         "y": [
          6,
          1,
          9,
          5,
          4,
          2,
          2,
          1,
          1,
          1
         ],
         "yaxis": "y"
        },
        {
         "fillpattern": {
          "shape": ""
         },
         "hovertemplate": "Nation=Spanish<br>DateAcquired=%{x}<br>Count=%{y}<extra></extra>",
         "legendgroup": "Spanish",
         "line": {
          "color": "#ab63fa"
         },
         "marker": {
          "symbol": "circle"
         },
         "mode": "lines",
         "name": "Spanish",
         "orientation": "v",
         "showlegend": true,
         "stackgroup": "1",
         "type": "scatter",
         "x": [
          "2001",
          "2002",
          "2003",
          "2006",
          "2007",
          "2011",
          "2012"
         ],
         "xaxis": "x",
         "y": [
          4,
          5,
          4,
          1,
          3,
          1,
          2
         ],
         "yaxis": "y"
        },
        {
         "fillpattern": {
          "shape": ""
         },
         "hovertemplate": "Nation=Iranian<br>DateAcquired=%{x}<br>Count=%{y}<extra></extra>",
         "legendgroup": "Iranian",
         "line": {
          "color": "#FFA15A"
         },
         "marker": {
          "symbol": "circle"
         },
         "mode": "lines",
         "name": "Iranian",
         "orientation": "v",
         "showlegend": true,
         "stackgroup": "1",
         "type": "scatter",
         "x": [
          "2001"
         ],
         "xaxis": "x",
         "y": [
          1
         ],
         "yaxis": "y"
        },
        {
         "fillpattern": {
          "shape": ""
         },
         "hovertemplate": "Nation=Swedish<br>DateAcquired=%{x}<br>Count=%{y}<extra></extra>",
         "legendgroup": "Swedish",
         "line": {
          "color": "#19d3f3"
         },
         "marker": {
          "symbol": "circle"
         },
         "mode": "lines",
         "name": "Swedish",
         "orientation": "v",
         "showlegend": true,
         "stackgroup": "1",
         "type": "scatter",
         "x": [
          "0",
          "2001",
          "2002",
          "2003",
          "2004",
          "2007",
          "2008",
          "2009"
         ],
         "xaxis": "x",
         "y": [
          1,
          10,
          2,
          1,
          1,
          8,
          2,
          4
         ],
         "yaxis": "y"
        },
        {
         "fillpattern": {
          "shape": ""
         },
         "hovertemplate": "Nation=South Korean<br>DateAcquired=%{x}<br>Count=%{y}<extra></extra>",
         "legendgroup": "South Korean",
         "line": {
          "color": "#FF6692"
         },
         "marker": {
          "symbol": "circle"
         },
         "mode": "lines",
         "name": "South Korean",
         "orientation": "v",
         "showlegend": true,
         "stackgroup": "1",
         "type": "scatter",
         "x": [
          "2001",
          "2002",
          "2004",
          "2005",
          "2006"
         ],
         "xaxis": "x",
         "y": [
          2,
          3,
          1,
          2,
          3
         ],
         "yaxis": "y"
        },
        {
         "fillpattern": {
          "shape": ""
         },
         "hovertemplate": "Nation=British/Irish<br>DateAcquired=%{x}<br>Count=%{y}<extra></extra>",
         "legendgroup": "British/Irish",
         "line": {
          "color": "#B6E880"
         },
         "marker": {
          "symbol": "circle"
         },
         "mode": "lines",
         "name": "British/Irish",
         "orientation": "v",
         "showlegend": true,
         "stackgroup": "1",
         "type": "scatter",
         "x": [
          "2007",
          "2008",
          "2011"
         ],
         "xaxis": "x",
         "y": [
          4,
          1,
          1
         ],
         "yaxis": "y"
        },
        {
         "fillpattern": {
          "shape": ""
         },
         "hovertemplate": "Nation=Mexican<br>DateAcquired=%{x}<br>Count=%{y}<extra></extra>",
         "legendgroup": "Mexican",
         "line": {
          "color": "#FF97FF"
         },
         "marker": {
          "symbol": "circle"
         },
         "mode": "lines",
         "name": "Mexican",
         "orientation": "v",
         "showlegend": true,
         "stackgroup": "1",
         "type": "scatter",
         "x": [
          "2001",
          "2002",
          "2003",
          "2004",
          "2005",
          "2007"
         ],
         "xaxis": "x",
         "y": [
          2,
          3,
          1,
          1,
          3,
          1
         ],
         "yaxis": "y"
        },
        {
         "fillpattern": {
          "shape": ""
         },
         "hovertemplate": "Nation=German<br>DateAcquired=%{x}<br>Count=%{y}<extra></extra>",
         "legendgroup": "German",
         "line": {
          "color": "#FECB52"
         },
         "marker": {
          "symbol": "circle"
         },
         "mode": "lines",
         "name": "German",
         "orientation": "v",
         "showlegend": true,
         "stackgroup": "1",
         "type": "scatter",
         "x": [
          "0",
          "2001",
          "2002",
          "2003",
          "2004",
          "2005",
          "2006",
          "2007",
          "2008",
          "2009",
          "2010",
          "2012"
         ],
         "xaxis": "x",
         "y": [
          2,
          7,
          11,
          4,
          8,
          11,
          9,
          20,
          3,
          2,
          2,
          8
         ],
         "yaxis": "y"
        },
        {
         "fillpattern": {
          "shape": ""
         },
         "hovertemplate": "Nation=Dutch/Brazilian<br>DateAcquired=%{x}<br>Count=%{y}<extra></extra>",
         "legendgroup": "Dutch/Brazilian",
         "line": {
          "color": "#636efa"
         },
         "marker": {
          "symbol": "circle"
         },
         "mode": "lines",
         "name": "Dutch/Brazilian",
         "orientation": "v",
         "showlegend": true,
         "stackgroup": "1",
         "type": "scatter",
         "x": [
          "0",
          "2008"
         ],
         "xaxis": "x",
         "y": [
          65,
          1
         ],
         "yaxis": "y"
        },
        {
         "fillpattern": {
          "shape": ""
         },
         "hovertemplate": "Nation=French<br>DateAcquired=%{x}<br>Count=%{y}<extra></extra>",
         "legendgroup": "French",
         "line": {
          "color": "#EF553B"
         },
         "marker": {
          "symbol": "circle"
         },
         "mode": "lines",
         "name": "French",
         "orientation": "v",
         "showlegend": true,
         "stackgroup": "1",
         "type": "scatter",
         "x": [
          "2001",
          "2002",
          "2003",
          "2004",
          "2005",
          "2006",
          "2007",
          "2008",
          "2009",
          "2011"
         ],
         "xaxis": "x",
         "y": [
          14,
          26,
          18,
          26,
          13,
          15,
          15,
          1,
          1,
          1
         ],
         "yaxis": "y"
        },
        {
         "fillpattern": {
          "shape": ""
         },
         "hovertemplate": "Nation=missing<br>DateAcquired=%{x}<br>Count=%{y}<extra></extra>",
         "legendgroup": "missing",
         "line": {
          "color": "#00cc96"
         },
         "marker": {
          "symbol": "circle"
         },
         "mode": "lines",
         "name": "missing",
         "orientation": "v",
         "showlegend": true,
         "stackgroup": "1",
         "type": "scatter",
         "x": [
          "0",
          "2000",
          "2001",
          "2002",
          "2003",
          "2004",
          "2005",
          "2006",
          "2007",
          "2008",
          "2009",
          "2010",
          "2011",
          "2012",
          "2013"
         ],
         "xaxis": "x",
         "y": [
          4,
          1,
          74,
          100,
          45,
          83,
          74,
          56,
          78,
          40,
          21,
          5,
          11,
          13,
          1
         ],
         "yaxis": "y"
        },
        {
         "fillpattern": {
          "shape": ""
         },
         "hovertemplate": "Nation=Croatian<br>DateAcquired=%{x}<br>Count=%{y}<extra></extra>",
         "legendgroup": "Croatian",
         "line": {
          "color": "#ab63fa"
         },
         "marker": {
          "symbol": "circle"
         },
         "mode": "lines",
         "name": "Croatian",
         "orientation": "v",
         "showlegend": true,
         "stackgroup": "1",
         "type": "scatter",
         "x": [
          "2003",
          "2005"
         ],
         "xaxis": "x",
         "y": [
          1,
          1
         ],
         "yaxis": "y"
        },
        {
         "fillpattern": {
          "shape": ""
         },
         "hovertemplate": "Nation=Taiwanese<br>DateAcquired=%{x}<br>Count=%{y}<extra></extra>",
         "legendgroup": "Taiwanese",
         "line": {
          "color": "#FFA15A"
         },
         "marker": {
          "symbol": "circle"
         },
         "mode": "lines",
         "name": "Taiwanese",
         "orientation": "v",
         "showlegend": true,
         "stackgroup": "1",
         "type": "scatter",
         "x": [
          "0",
          "2001",
          "2002",
          "2004",
          "2006",
          "2007"
         ],
         "xaxis": "x",
         "y": [
          1,
          2,
          1,
          1,
          1,
          1
         ],
         "yaxis": "y"
        },
        {
         "fillpattern": {
          "shape": ""
         },
         "hovertemplate": "Nation=New Zealander<br>DateAcquired=%{x}<br>Count=%{y}<extra></extra>",
         "legendgroup": "New Zealander",
         "line": {
          "color": "#19d3f3"
         },
         "marker": {
          "symbol": "circle"
         },
         "mode": "lines",
         "name": "New Zealander",
         "orientation": "v",
         "showlegend": true,
         "stackgroup": "1",
         "type": "scatter",
         "x": [
          "2004",
          "2005"
         ],
         "xaxis": "x",
         "y": [
          1,
          3
         ],
         "yaxis": "y"
        },
        {
         "fillpattern": {
          "shape": ""
         },
         "hovertemplate": "Nation=Hungarian<br>DateAcquired=%{x}<br>Count=%{y}<extra></extra>",
         "legendgroup": "Hungarian",
         "line": {
          "color": "#FF6692"
         },
         "marker": {
          "symbol": "circle"
         },
         "mode": "lines",
         "name": "Hungarian",
         "orientation": "v",
         "showlegend": true,
         "stackgroup": "1",
         "type": "scatter",
         "x": [
          "2002",
          "2003"
         ],
         "xaxis": "x",
         "y": [
          1,
          1
         ],
         "yaxis": "y"
        },
        {
         "fillpattern": {
          "shape": ""
         },
         "hovertemplate": "Nation=American/British<br>DateAcquired=%{x}<br>Count=%{y}<extra></extra>",
         "legendgroup": "American/British",
         "line": {
          "color": "#B6E880"
         },
         "marker": {
          "symbol": "circle"
         },
         "mode": "lines",
         "name": "American/British",
         "orientation": "v",
         "showlegend": true,
         "stackgroup": "1",
         "type": "scatter",
         "x": [
          "2001",
          "2003"
         ],
         "xaxis": "x",
         "y": [
          1,
          1
         ],
         "yaxis": "y"
        },
        {
         "fillpattern": {
          "shape": ""
         },
         "hovertemplate": "Nation=Swiss<br>DateAcquired=%{x}<br>Count=%{y}<extra></extra>",
         "legendgroup": "Swiss",
         "line": {
          "color": "#FF97FF"
         },
         "marker": {
          "symbol": "circle"
         },
         "mode": "lines",
         "name": "Swiss",
         "orientation": "v",
         "showlegend": true,
         "stackgroup": "1",
         "type": "scatter",
         "x": [
          "2002",
          "2003",
          "2005",
          "2006",
          "2007"
         ],
         "xaxis": "x",
         "y": [
          1,
          1,
          5,
          1,
          2
         ],
         "yaxis": "y"
        },
        {
         "fillpattern": {
          "shape": ""
         },
         "hovertemplate": "Nation=Argentine<br>DateAcquired=%{x}<br>Count=%{y}<extra></extra>",
         "legendgroup": "Argentine",
         "line": {
          "color": "#FECB52"
         },
         "marker": {
          "symbol": "circle"
         },
         "mode": "lines",
         "name": "Argentine",
         "orientation": "v",
         "showlegend": true,
         "stackgroup": "1",
         "type": "scatter",
         "x": [
          "2001",
          "2002",
          "2003",
          "2004",
          "2005",
          "2006",
          "2007",
          "2008"
         ],
         "xaxis": "x",
         "y": [
          2,
          2,
          2,
          6,
          4,
          1,
          1,
          1
         ],
         "yaxis": "y"
        },
        {
         "fillpattern": {
          "shape": ""
         },
         "hovertemplate": "Nation=Greek<br>DateAcquired=%{x}<br>Count=%{y}<extra></extra>",
         "legendgroup": "Greek",
         "line": {
          "color": "#636efa"
         },
         "marker": {
          "symbol": "circle"
         },
         "mode": "lines",
         "name": "Greek",
         "orientation": "v",
         "showlegend": true,
         "stackgroup": "1",
         "type": "scatter",
         "x": [
          "2002",
          "2003",
          "2005",
          "2008"
         ],
         "xaxis": "x",
         "y": [
          1,
          1,
          1,
          1
         ],
         "yaxis": "y"
        },
        {
         "fillpattern": {
          "shape": ""
         },
         "hovertemplate": "Nation=Canadian<br>DateAcquired=%{x}<br>Count=%{y}<extra></extra>",
         "legendgroup": "Canadian",
         "line": {
          "color": "#EF553B"
         },
         "marker": {
          "symbol": "circle"
         },
         "mode": "lines",
         "name": "Canadian",
         "orientation": "v",
         "showlegend": true,
         "stackgroup": "1",
         "type": "scatter",
         "x": [
          "0",
          "2000",
          "2001",
          "2002",
          "2003",
          "2004",
          "2005",
          "2006",
          "2007",
          "2008",
          "2009",
          "2011"
         ],
         "xaxis": "x",
         "y": [
          1,
          1,
          11,
          6,
          4,
          11,
          16,
          12,
          11,
          4,
          1,
          4
         ],
         "yaxis": "y"
        },
        {
         "fillpattern": {
          "shape": ""
         },
         "hovertemplate": "Nation=Venezuelan<br>DateAcquired=%{x}<br>Count=%{y}<extra></extra>",
         "legendgroup": "Venezuelan",
         "line": {
          "color": "#00cc96"
         },
         "marker": {
          "symbol": "circle"
         },
         "mode": "lines",
         "name": "Venezuelan",
         "orientation": "v",
         "showlegend": true,
         "stackgroup": "1",
         "type": "scatter",
         "x": [
          "2001"
         ],
         "xaxis": "x",
         "y": [
          1
         ],
         "yaxis": "y"
        },
        {
         "fillpattern": {
          "shape": ""
         },
         "hovertemplate": "Nation=Turkish<br>DateAcquired=%{x}<br>Count=%{y}<extra></extra>",
         "legendgroup": "Turkish",
         "line": {
          "color": "#ab63fa"
         },
         "marker": {
          "symbol": "circle"
         },
         "mode": "lines",
         "name": "Turkish",
         "orientation": "v",
         "showlegend": true,
         "stackgroup": "1",
         "type": "scatter",
         "x": [
          "2003",
          "2004",
          "2006",
          "2007"
         ],
         "xaxis": "x",
         "y": [
          1,
          3,
          1,
          2
         ],
         "yaxis": "y"
        },
        {
         "fillpattern": {
          "shape": ""
         },
         "hovertemplate": "Nation=Chilean?Chilean<br>DateAcquired=%{x}<br>Count=%{y}<extra></extra>",
         "legendgroup": "Chilean?Chilean",
         "line": {
          "color": "#FFA15A"
         },
         "marker": {
          "symbol": "circle"
         },
         "mode": "lines",
         "name": "Chilean?Chilean",
         "orientation": "v",
         "showlegend": true,
         "stackgroup": "1",
         "type": "scatter",
         "x": [
          "2002",
          "2003"
         ],
         "xaxis": "x",
         "y": [
          1,
          1
         ],
         "yaxis": "y"
        },
        {
         "fillpattern": {
          "shape": ""
         },
         "hovertemplate": "Nation=Polish/American<br>DateAcquired=%{x}<br>Count=%{y}<extra></extra>",
         "legendgroup": "Polish/American",
         "line": {
          "color": "#19d3f3"
         },
         "marker": {
          "symbol": "circle"
         },
         "mode": "lines",
         "name": "Polish/American",
         "orientation": "v",
         "showlegend": true,
         "stackgroup": "1",
         "type": "scatter",
         "x": [
          "2003",
          "2004"
         ],
         "xaxis": "x",
         "y": [
          1,
          1
         ],
         "yaxis": "y"
        },
        {
         "fillpattern": {
          "shape": ""
         },
         "hovertemplate": "Nation=Norwegian<br>DateAcquired=%{x}<br>Count=%{y}<extra></extra>",
         "legendgroup": "Norwegian",
         "line": {
          "color": "#FF6692"
         },
         "marker": {
          "symbol": "circle"
         },
         "mode": "lines",
         "name": "Norwegian",
         "orientation": "v",
         "showlegend": true,
         "stackgroup": "1",
         "type": "scatter",
         "x": [
          "2001",
          "2002"
         ],
         "xaxis": "x",
         "y": [
          1,
          1
         ],
         "yaxis": "y"
        },
        {
         "fillpattern": {
          "shape": ""
         },
         "hovertemplate": "Nation=Japanese<br>DateAcquired=%{x}<br>Count=%{y}<extra></extra>",
         "legendgroup": "Japanese",
         "line": {
          "color": "#B6E880"
         },
         "marker": {
          "symbol": "circle"
         },
         "mode": "lines",
         "name": "Japanese",
         "orientation": "v",
         "showlegend": true,
         "stackgroup": "1",
         "type": "scatter",
         "x": [
          "2000",
          "2001",
          "2002",
          "2003",
          "2004",
          "2005",
          "2006"
         ],
         "xaxis": "x",
         "y": [
          1,
          2,
          1,
          2,
          2,
          7,
          5
         ],
         "yaxis": "y"
        },
        {
         "fillpattern": {
          "shape": ""
         },
         "hovertemplate": "Nation=Australian<br>DateAcquired=%{x}<br>Count=%{y}<extra></extra>",
         "legendgroup": "Australian",
         "line": {
          "color": "#FF97FF"
         },
         "marker": {
          "symbol": "circle"
         },
         "mode": "lines",
         "name": "Australian",
         "orientation": "v",
         "showlegend": true,
         "stackgroup": "1",
         "type": "scatter",
         "x": [
          "2001",
          "2002",
          "2004",
          "2005",
          "2006",
          "2007",
          "2008",
          "2010",
          "2011",
          "2012"
         ],
         "xaxis": "x",
         "y": [
          5,
          2,
          5,
          8,
          3,
          2,
          1,
          2,
          1,
          1
         ],
         "yaxis": "y"
        }
       ],
       "layout": {
        "legend": {
         "title": {
          "text": "Nation"
         },
         "tracegroupgap": 0
        },
        "margin": {
         "t": 60
        },
        "paper_bgcolor": "rgb(243, 243, 243)",
        "plot_bgcolor": "rgb(243, 243, 243)",
        "template": {
         "data": {
          "bar": [
           {
            "error_x": {
             "color": "#2a3f5f"
            },
            "error_y": {
             "color": "#2a3f5f"
            },
            "marker": {
             "line": {
              "color": "#E5ECF6",
              "width": 0.5
             },
             "pattern": {
              "fillmode": "overlay",
              "size": 10,
              "solidity": 0.2
             }
            },
            "type": "bar"
           }
          ],
          "barpolar": [
           {
            "marker": {
             "line": {
              "color": "#E5ECF6",
              "width": 0.5
             },
             "pattern": {
              "fillmode": "overlay",
              "size": 10,
              "solidity": 0.2
             }
            },
            "type": "barpolar"
           }
          ],
          "carpet": [
           {
            "aaxis": {
             "endlinecolor": "#2a3f5f",
             "gridcolor": "white",
             "linecolor": "white",
             "minorgridcolor": "white",
             "startlinecolor": "#2a3f5f"
            },
            "baxis": {
             "endlinecolor": "#2a3f5f",
             "gridcolor": "white",
             "linecolor": "white",
             "minorgridcolor": "white",
             "startlinecolor": "#2a3f5f"
            },
            "type": "carpet"
           }
          ],
          "choropleth": [
           {
            "colorbar": {
             "outlinewidth": 0,
             "ticks": ""
            },
            "type": "choropleth"
           }
          ],
          "contour": [
           {
            "colorbar": {
             "outlinewidth": 0,
             "ticks": ""
            },
            "colorscale": [
             [
              0,
              "#0d0887"
             ],
             [
              0.1111111111111111,
              "#46039f"
             ],
             [
              0.2222222222222222,
              "#7201a8"
             ],
             [
              0.3333333333333333,
              "#9c179e"
             ],
             [
              0.4444444444444444,
              "#bd3786"
             ],
             [
              0.5555555555555556,
              "#d8576b"
             ],
             [
              0.6666666666666666,
              "#ed7953"
             ],
             [
              0.7777777777777778,
              "#fb9f3a"
             ],
             [
              0.8888888888888888,
              "#fdca26"
             ],
             [
              1,
              "#f0f921"
             ]
            ],
            "type": "contour"
           }
          ],
          "contourcarpet": [
           {
            "colorbar": {
             "outlinewidth": 0,
             "ticks": ""
            },
            "type": "contourcarpet"
           }
          ],
          "heatmap": [
           {
            "colorbar": {
             "outlinewidth": 0,
             "ticks": ""
            },
            "colorscale": [
             [
              0,
              "#0d0887"
             ],
             [
              0.1111111111111111,
              "#46039f"
             ],
             [
              0.2222222222222222,
              "#7201a8"
             ],
             [
              0.3333333333333333,
              "#9c179e"
             ],
             [
              0.4444444444444444,
              "#bd3786"
             ],
             [
              0.5555555555555556,
              "#d8576b"
             ],
             [
              0.6666666666666666,
              "#ed7953"
             ],
             [
              0.7777777777777778,
              "#fb9f3a"
             ],
             [
              0.8888888888888888,
              "#fdca26"
             ],
             [
              1,
              "#f0f921"
             ]
            ],
            "type": "heatmap"
           }
          ],
          "heatmapgl": [
           {
            "colorbar": {
             "outlinewidth": 0,
             "ticks": ""
            },
            "colorscale": [
             [
              0,
              "#0d0887"
             ],
             [
              0.1111111111111111,
              "#46039f"
             ],
             [
              0.2222222222222222,
              "#7201a8"
             ],
             [
              0.3333333333333333,
              "#9c179e"
             ],
             [
              0.4444444444444444,
              "#bd3786"
             ],
             [
              0.5555555555555556,
              "#d8576b"
             ],
             [
              0.6666666666666666,
              "#ed7953"
             ],
             [
              0.7777777777777778,
              "#fb9f3a"
             ],
             [
              0.8888888888888888,
              "#fdca26"
             ],
             [
              1,
              "#f0f921"
             ]
            ],
            "type": "heatmapgl"
           }
          ],
          "histogram": [
           {
            "marker": {
             "pattern": {
              "fillmode": "overlay",
              "size": 10,
              "solidity": 0.2
             }
            },
            "type": "histogram"
           }
          ],
          "histogram2d": [
           {
            "colorbar": {
             "outlinewidth": 0,
             "ticks": ""
            },
            "colorscale": [
             [
              0,
              "#0d0887"
             ],
             [
              0.1111111111111111,
              "#46039f"
             ],
             [
              0.2222222222222222,
              "#7201a8"
             ],
             [
              0.3333333333333333,
              "#9c179e"
             ],
             [
              0.4444444444444444,
              "#bd3786"
             ],
             [
              0.5555555555555556,
              "#d8576b"
             ],
             [
              0.6666666666666666,
              "#ed7953"
             ],
             [
              0.7777777777777778,
              "#fb9f3a"
             ],
             [
              0.8888888888888888,
              "#fdca26"
             ],
             [
              1,
              "#f0f921"
             ]
            ],
            "type": "histogram2d"
           }
          ],
          "histogram2dcontour": [
           {
            "colorbar": {
             "outlinewidth": 0,
             "ticks": ""
            },
            "colorscale": [
             [
              0,
              "#0d0887"
             ],
             [
              0.1111111111111111,
              "#46039f"
             ],
             [
              0.2222222222222222,
              "#7201a8"
             ],
             [
              0.3333333333333333,
              "#9c179e"
             ],
             [
              0.4444444444444444,
              "#bd3786"
             ],
             [
              0.5555555555555556,
              "#d8576b"
             ],
             [
              0.6666666666666666,
              "#ed7953"
             ],
             [
              0.7777777777777778,
              "#fb9f3a"
             ],
             [
              0.8888888888888888,
              "#fdca26"
             ],
             [
              1,
              "#f0f921"
             ]
            ],
            "type": "histogram2dcontour"
           }
          ],
          "mesh3d": [
           {
            "colorbar": {
             "outlinewidth": 0,
             "ticks": ""
            },
            "type": "mesh3d"
           }
          ],
          "parcoords": [
           {
            "line": {
             "colorbar": {
              "outlinewidth": 0,
              "ticks": ""
             }
            },
            "type": "parcoords"
           }
          ],
          "pie": [
           {
            "automargin": true,
            "type": "pie"
           }
          ],
          "scatter": [
           {
            "fillpattern": {
             "fillmode": "overlay",
             "size": 10,
             "solidity": 0.2
            },
            "type": "scatter"
           }
          ],
          "scatter3d": [
           {
            "line": {
             "colorbar": {
              "outlinewidth": 0,
              "ticks": ""
             }
            },
            "marker": {
             "colorbar": {
              "outlinewidth": 0,
              "ticks": ""
             }
            },
            "type": "scatter3d"
           }
          ],
          "scattercarpet": [
           {
            "marker": {
             "colorbar": {
              "outlinewidth": 0,
              "ticks": ""
             }
            },
            "type": "scattercarpet"
           }
          ],
          "scattergeo": [
           {
            "marker": {
             "colorbar": {
              "outlinewidth": 0,
              "ticks": ""
             }
            },
            "type": "scattergeo"
           }
          ],
          "scattergl": [
           {
            "marker": {
             "colorbar": {
              "outlinewidth": 0,
              "ticks": ""
             }
            },
            "type": "scattergl"
           }
          ],
          "scattermapbox": [
           {
            "marker": {
             "colorbar": {
              "outlinewidth": 0,
              "ticks": ""
             }
            },
            "type": "scattermapbox"
           }
          ],
          "scatterpolar": [
           {
            "marker": {
             "colorbar": {
              "outlinewidth": 0,
              "ticks": ""
             }
            },
            "type": "scatterpolar"
           }
          ],
          "scatterpolargl": [
           {
            "marker": {
             "colorbar": {
              "outlinewidth": 0,
              "ticks": ""
             }
            },
            "type": "scatterpolargl"
           }
          ],
          "scatterternary": [
           {
            "marker": {
             "colorbar": {
              "outlinewidth": 0,
              "ticks": ""
             }
            },
            "type": "scatterternary"
           }
          ],
          "surface": [
           {
            "colorbar": {
             "outlinewidth": 0,
             "ticks": ""
            },
            "colorscale": [
             [
              0,
              "#0d0887"
             ],
             [
              0.1111111111111111,
              "#46039f"
             ],
             [
              0.2222222222222222,
              "#7201a8"
             ],
             [
              0.3333333333333333,
              "#9c179e"
             ],
             [
              0.4444444444444444,
              "#bd3786"
             ],
             [
              0.5555555555555556,
              "#d8576b"
             ],
             [
              0.6666666666666666,
              "#ed7953"
             ],
             [
              0.7777777777777778,
              "#fb9f3a"
             ],
             [
              0.8888888888888888,
              "#fdca26"
             ],
             [
              1,
              "#f0f921"
             ]
            ],
            "type": "surface"
           }
          ],
          "table": [
           {
            "cells": {
             "fill": {
              "color": "#EBF0F8"
             },
             "line": {
              "color": "white"
             }
            },
            "header": {
             "fill": {
              "color": "#C8D4E3"
             },
             "line": {
              "color": "white"
             }
            },
            "type": "table"
           }
          ]
         },
         "layout": {
          "annotationdefaults": {
           "arrowcolor": "#2a3f5f",
           "arrowhead": 0,
           "arrowwidth": 1
          },
          "autotypenumbers": "strict",
          "coloraxis": {
           "colorbar": {
            "outlinewidth": 0,
            "ticks": ""
           }
          },
          "colorscale": {
           "diverging": [
            [
             0,
             "#8e0152"
            ],
            [
             0.1,
             "#c51b7d"
            ],
            [
             0.2,
             "#de77ae"
            ],
            [
             0.3,
             "#f1b6da"
            ],
            [
             0.4,
             "#fde0ef"
            ],
            [
             0.5,
             "#f7f7f7"
            ],
            [
             0.6,
             "#e6f5d0"
            ],
            [
             0.7,
             "#b8e186"
            ],
            [
             0.8,
             "#7fbc41"
            ],
            [
             0.9,
             "#4d9221"
            ],
            [
             1,
             "#276419"
            ]
           ],
           "sequential": [
            [
             0,
             "#0d0887"
            ],
            [
             0.1111111111111111,
             "#46039f"
            ],
            [
             0.2222222222222222,
             "#7201a8"
            ],
            [
             0.3333333333333333,
             "#9c179e"
            ],
            [
             0.4444444444444444,
             "#bd3786"
            ],
            [
             0.5555555555555556,
             "#d8576b"
            ],
            [
             0.6666666666666666,
             "#ed7953"
            ],
            [
             0.7777777777777778,
             "#fb9f3a"
            ],
            [
             0.8888888888888888,
             "#fdca26"
            ],
            [
             1,
             "#f0f921"
            ]
           ],
           "sequentialminus": [
            [
             0,
             "#0d0887"
            ],
            [
             0.1111111111111111,
             "#46039f"
            ],
            [
             0.2222222222222222,
             "#7201a8"
            ],
            [
             0.3333333333333333,
             "#9c179e"
            ],
            [
             0.4444444444444444,
             "#bd3786"
            ],
            [
             0.5555555555555556,
             "#d8576b"
            ],
            [
             0.6666666666666666,
             "#ed7953"
            ],
            [
             0.7777777777777778,
             "#fb9f3a"
            ],
            [
             0.8888888888888888,
             "#fdca26"
            ],
            [
             1,
             "#f0f921"
            ]
           ]
          },
          "colorway": [
           "#636efa",
           "#EF553B",
           "#00cc96",
           "#ab63fa",
           "#FFA15A",
           "#19d3f3",
           "#FF6692",
           "#B6E880",
           "#FF97FF",
           "#FECB52"
          ],
          "font": {
           "color": "#2a3f5f"
          },
          "geo": {
           "bgcolor": "white",
           "lakecolor": "white",
           "landcolor": "#E5ECF6",
           "showlakes": true,
           "showland": true,
           "subunitcolor": "white"
          },
          "hoverlabel": {
           "align": "left"
          },
          "hovermode": "closest",
          "mapbox": {
           "style": "light"
          },
          "paper_bgcolor": "white",
          "plot_bgcolor": "#E5ECF6",
          "polar": {
           "angularaxis": {
            "gridcolor": "white",
            "linecolor": "white",
            "ticks": ""
           },
           "bgcolor": "#E5ECF6",
           "radialaxis": {
            "gridcolor": "white",
            "linecolor": "white",
            "ticks": ""
           }
          },
          "scene": {
           "xaxis": {
            "backgroundcolor": "#E5ECF6",
            "gridcolor": "white",
            "gridwidth": 2,
            "linecolor": "white",
            "showbackground": true,
            "ticks": "",
            "zerolinecolor": "white"
           },
           "yaxis": {
            "backgroundcolor": "#E5ECF6",
            "gridcolor": "white",
            "gridwidth": 2,
            "linecolor": "white",
            "showbackground": true,
            "ticks": "",
            "zerolinecolor": "white"
           },
           "zaxis": {
            "backgroundcolor": "#E5ECF6",
            "gridcolor": "white",
            "gridwidth": 2,
            "linecolor": "white",
            "showbackground": true,
            "ticks": "",
            "zerolinecolor": "white"
           }
          },
          "shapedefaults": {
           "line": {
            "color": "#2a3f5f"
           }
          },
          "ternary": {
           "aaxis": {
            "gridcolor": "white",
            "linecolor": "white",
            "ticks": ""
           },
           "baxis": {
            "gridcolor": "white",
            "linecolor": "white",
            "ticks": ""
           },
           "bgcolor": "#E5ECF6",
           "caxis": {
            "gridcolor": "white",
            "linecolor": "white",
            "ticks": ""
           }
          },
          "title": {
           "x": 0.05
          },
          "xaxis": {
           "automargin": true,
           "gridcolor": "white",
           "linecolor": "white",
           "ticks": "",
           "title": {
            "standoff": 15
           },
           "zerolinecolor": "white",
           "zerolinewidth": 2
          },
          "yaxis": {
           "automargin": true,
           "gridcolor": "white",
           "linecolor": "white",
           "ticks": "",
           "title": {
            "standoff": 15
           },
           "zerolinecolor": "white",
           "zerolinewidth": 2
          }
         }
        },
        "xaxis": {
         "anchor": "y",
         "domain": [
          0,
          1
         ],
         "dtick": 2,
         "tick0": 2001,
         "title": {
          "text": "DateAcquired"
         }
        },
        "yaxis": {
         "anchor": "x",
         "domain": [
          0,
          1
         ],
         "title": {
          "text": "Count"
         }
        }
       }
      }
     },
     "metadata": {},
     "output_type": "display_data"
    }
   ],
   "source": [
    "fig4 = px.area(df_nats_rhizome, x=\"DateAcquired\", y=\"Count\", color=\"Nation\", line_group=\"Nation\")\n",
    "fig4.update_layout(\n",
    "     xaxis = dict(\n",
    "        tick0 = 2001,\n",
    "        dtick = 2\n",
    "    ),\n",
    "    paper_bgcolor='rgb(243, 243, 243)',\n",
    "    plot_bgcolor='rgb(243, 243, 243)',\n",
    "   \n",
    ")\n",
    "fig4.show()"
   ]
  },
  {
   "cell_type": "markdown",
   "metadata": {},
   "source": [
    "## Acquisition of artworks by female over total -- of Moma and Rhizome\n",
    "\n",
    "Count of how many artworks for each country have been added to the MoMA (new and old) and Rhizome collections, compared with the number of artworks acquired made by only a female artist. \n",
    "\n",
    "Visualization is on categorical data (gender, nationality), ordinal data (acquisition year) and numerical data (tot artworks per nationality  count, artworks by a female artist per nationality)"
   ]
  },
  {
   "cell_type": "code",
   "execution_count": 35,
   "metadata": {},
   "outputs": [
    {
     "ename": "ValueError",
     "evalue": "Invalid property specified for object of type plotly.graph_objs.Scatter: 'tickformatstops'\n\nDid you mean \"stackgaps\"?\n\n    Valid properties:\n        cliponaxis\n            Determines whether or not markers and text nodes are\n            clipped about the subplot axes. To show markers and\n            text nodes above axis lines and tick labels, make sure\n            to set `xaxis.layer` and `yaxis.layer` to *below\n            traces*.\n        connectgaps\n            Determines whether or not gaps (i.e. {nan} or missing\n            values) in the provided data arrays are connected.\n        customdata\n            Assigns extra data each datum. This may be useful when\n            listening to hover, click and selection events. Note\n            that, \"scatter\" traces also appends customdata items in\n            the markers DOM elements\n        customdatasrc\n            Sets the source reference on Chart Studio Cloud for\n            `customdata`.\n        dx\n            Sets the x coordinate step. See `x0` for more info.\n        dy\n            Sets the y coordinate step. See `y0` for more info.\n        error_x\n            :class:`plotly.graph_objects.scatter.ErrorX` instance\n            or dict with compatible properties\n        error_y\n            :class:`plotly.graph_objects.scatter.ErrorY` instance\n            or dict with compatible properties\n        fill\n            Sets the area to fill with a solid color. Defaults to\n            \"none\" unless this trace is stacked, then it gets\n            \"tonexty\" (\"tonextx\") if `orientation` is \"v\" (\"h\") Use\n            with `fillcolor` if not \"none\". \"tozerox\" and \"tozeroy\"\n            fill to x=0 and y=0 respectively. \"tonextx\" and\n            \"tonexty\" fill between the endpoints of this trace and\n            the endpoints of the trace before it, connecting those\n            endpoints with straight lines (to make a stacked area\n            graph); if there is no trace before it, they behave\n            like \"tozerox\" and \"tozeroy\". \"toself\" connects the\n            endpoints of the trace (or each segment of the trace if\n            it has gaps) into a closed shape. \"tonext\" fills the\n            space between two traces if one completely encloses the\n            other (eg consecutive contour lines), and behaves like\n            \"toself\" if there is no trace before it. \"tonext\"\n            should not be used if one trace does not enclose the\n            other. Traces in a `stackgroup` will only fill to (or\n            be filled to) other traces in the same group. With\n            multiple `stackgroup`s or some traces stacked and some\n            not, if fill-linked traces are not already consecutive,\n            the later ones will be pushed down in the drawing\n            order.\n        fillcolor\n            Sets the fill color. Defaults to a half-transparent\n            variant of the line color, marker color, or marker line\n            color, whichever is available.\n        fillpattern\n            Sets the pattern within the marker.\n        groupnorm\n            Only relevant when `stackgroup` is used, and only the\n            first `groupnorm` found in the `stackgroup` will be\n            used - including if `visible` is \"legendonly\" but not\n            if it is `false`. Sets the normalization for the sum of\n            this `stackgroup`. With \"fraction\", the value of each\n            trace at each location is divided by the sum of all\n            trace values at that location. \"percent\" is the same\n            but multiplied by 100 to show percentages. If there are\n            multiple subplots, or multiple `stackgroup`s on one\n            subplot, each will be normalized within its own set.\n        hoverinfo\n            Determines which trace information appear on hover. If\n            `none` or `skip` are set, no information is displayed\n            upon hovering. But, if `none` is set, click and hover\n            events are still fired.\n        hoverinfosrc\n            Sets the source reference on Chart Studio Cloud for\n            `hoverinfo`.\n        hoverlabel\n            :class:`plotly.graph_objects.scatter.Hoverlabel`\n            instance or dict with compatible properties\n        hoveron\n            Do the hover effects highlight individual points\n            (markers or line points) or do they highlight filled\n            regions? If the fill is \"toself\" or \"tonext\" and there\n            are no markers or text, then the default is \"fills\",\n            otherwise it is \"points\".\n        hovertemplate\n            Template string used for rendering the information that\n            appear on hover box. Note that this will override\n            `hoverinfo`. Variables are inserted using %{variable},\n            for example \"y: %{y}\" as well as %{xother}, {%_xother},\n            {%_xother_}, {%xother_}. When showing info for several\n            points, \"xother\" will be added to those with different\n            x positions from the first point. An underscore before\n            or after \"(x|y)other\" will add a space on that side,\n            only when this field is shown. Numbers are formatted\n            using d3-format's syntax %{variable:d3-format}, for\n            example \"Price: %{y:$.2f}\".\n            https://github.com/d3/d3-format/tree/v1.4.5#d3-format\n            for details on the formatting syntax. Dates are\n            formatted using d3-time-format's syntax\n            %{variable|d3-time-format}, for example \"Day:\n            %{2019-01-01|%A}\". https://github.com/d3/d3-time-\n            format/tree/v2.2.3#locale_format for details on the\n            date formatting syntax. The variables available in\n            `hovertemplate` are the ones emitted as event data\n            described at this link\n            https://plotly.com/javascript/plotlyjs-events/#event-\n            data. Additionally, every attributes that can be\n            specified per-point (the ones that are `arrayOk: true`)\n            are available.  Anything contained in tag `<extra>` is\n            displayed in the secondary box, for example\n            \"<extra>{fullData.name}</extra>\". To hide the secondary\n            box completely, use an empty tag `<extra></extra>`.\n        hovertemplatesrc\n            Sets the source reference on Chart Studio Cloud for\n            `hovertemplate`.\n        hovertext\n            Sets hover text elements associated with each (x,y)\n            pair. If a single string, the same string appears over\n            all the data points. If an array of string, the items\n            are mapped in order to the this trace's (x,y)\n            coordinates. To be seen, trace `hoverinfo` must contain\n            a \"text\" flag.\n        hovertextsrc\n            Sets the source reference on Chart Studio Cloud for\n            `hovertext`.\n        ids\n            Assigns id labels to each datum. These ids for object\n            constancy of data points during animation. Should be an\n            array of strings, not numbers or any other type.\n        idssrc\n            Sets the source reference on Chart Studio Cloud for\n            `ids`.\n        legendgroup\n            Sets the legend group for this trace. Traces part of\n            the same legend group hide/show at the same time when\n            toggling legend items.\n        legendgrouptitle\n            :class:`plotly.graph_objects.scatter.Legendgrouptitle`\n            instance or dict with compatible properties\n        legendrank\n            Sets the legend rank for this trace. Items and groups\n            with smaller ranks are presented on top/left side while\n            with `*reversed* `legend.traceorder` they are on\n            bottom/right side. The default legendrank is 1000, so\n            that you can use ranks less than 1000 to place certain\n            items before all unranked items, and ranks greater than\n            1000 to go after all unranked items.\n        line\n            :class:`plotly.graph_objects.scatter.Line` instance or\n            dict with compatible properties\n        marker\n            :class:`plotly.graph_objects.scatter.Marker` instance\n            or dict with compatible properties\n        meta\n            Assigns extra meta information associated with this\n            trace that can be used in various text attributes.\n            Attributes such as trace `name`, graph, axis and\n            colorbar `title.text`, annotation `text`\n            `rangeselector`, `updatemenues` and `sliders` `label`\n            text all support `meta`. To access the trace `meta`\n            values in an attribute in the same trace, simply use\n            `%{meta[i]}` where `i` is the index or key of the\n            `meta` item in question. To access trace `meta` in\n            layout attributes, use `%{data[n[.meta[i]}` where `i`\n            is the index or key of the `meta` and `n` is the trace\n            index.\n        metasrc\n            Sets the source reference on Chart Studio Cloud for\n            `meta`.\n        mode\n            Determines the drawing mode for this scatter trace. If\n            the provided `mode` includes \"text\" then the `text`\n            elements appear at the coordinates. Otherwise, the\n            `text` elements appear on hover. If there are less than\n            20 points and the trace is not stacked then the default\n            is \"lines+markers\". Otherwise, \"lines\".\n        name\n            Sets the trace name. The trace name appear as the\n            legend item and on hover.\n        opacity\n            Sets the opacity of the trace.\n        orientation\n            Only relevant when `stackgroup` is used, and only the\n            first `orientation` found in the `stackgroup` will be\n            used - including if `visible` is \"legendonly\" but not\n            if it is `false`. Sets the stacking direction. With \"v\"\n            (\"h\"), the y (x) values of subsequent traces are added.\n            Also affects the default value of `fill`.\n        selected\n            :class:`plotly.graph_objects.scatter.Selected` instance\n            or dict with compatible properties\n        selectedpoints\n            Array containing integer indices of selected points.\n            Has an effect only for traces that support selections.\n            Note that an empty array means an empty selection where\n            the `unselected` are turned on for all points, whereas,\n            any other non-array values means no selection all where\n            the `selected` and `unselected` styles have no effect.\n        showlegend\n            Determines whether or not an item corresponding to this\n            trace is shown in the legend.\n        stackgaps\n            Only relevant when `stackgroup` is used, and only the\n            first `stackgaps` found in the `stackgroup` will be\n            used - including if `visible` is \"legendonly\" but not\n            if it is `false`. Determines how we handle locations at\n            which other traces in this group have data but this one\n            does not. With *infer zero* we insert a zero at these\n            locations. With \"interpolate\" we linearly interpolate\n            between existing values, and extrapolate a constant\n            beyond the existing values.\n        stackgroup\n            Set several scatter traces (on the same subplot) to the\n            same stackgroup in order to add their y values (or\n            their x values if `orientation` is \"h\"). If blank or\n            omitted this trace will not be stacked. Stacking also\n            turns `fill` on by default, using \"tonexty\" (\"tonextx\")\n            if `orientation` is \"h\" (\"v\") and sets the default\n            `mode` to \"lines\" irrespective of point count. You can\n            only stack on a numeric (linear or log) axis. Traces in\n            a `stackgroup` will only fill to (or be filled to)\n            other traces in the same group. With multiple\n            `stackgroup`s or some traces stacked and some not, if\n            fill-linked traces are not already consecutive, the\n            later ones will be pushed down in the drawing order.\n        stream\n            :class:`plotly.graph_objects.scatter.Stream` instance\n            or dict with compatible properties\n        text\n            Sets text elements associated with each (x,y) pair. If\n            a single string, the same string appears over all the\n            data points. If an array of string, the items are\n            mapped in order to the this trace's (x,y) coordinates.\n            If trace `hoverinfo` contains a \"text\" flag and\n            \"hovertext\" is not set, these elements will be seen in\n            the hover labels.\n        textfont\n            Sets the text font.\n        textposition\n            Sets the positions of the `text` elements with respects\n            to the (x,y) coordinates.\n        textpositionsrc\n            Sets the source reference on Chart Studio Cloud for\n            `textposition`.\n        textsrc\n            Sets the source reference on Chart Studio Cloud for\n            `text`.\n        texttemplate\n            Template string used for rendering the information text\n            that appear on points. Note that this will override\n            `textinfo`. Variables are inserted using %{variable},\n            for example \"y: %{y}\". Numbers are formatted using\n            d3-format's syntax %{variable:d3-format}, for example\n            \"Price: %{y:$.2f}\".\n            https://github.com/d3/d3-format/tree/v1.4.5#d3-format\n            for details on the formatting syntax. Dates are\n            formatted using d3-time-format's syntax\n            %{variable|d3-time-format}, for example \"Day:\n            %{2019-01-01|%A}\". https://github.com/d3/d3-time-\n            format/tree/v2.2.3#locale_format for details on the\n            date formatting syntax. Every attributes that can be\n            specified per-point (the ones that are `arrayOk: true`)\n            are available.\n        texttemplatesrc\n            Sets the source reference on Chart Studio Cloud for\n            `texttemplate`.\n        uid\n            Assign an id to this trace, Use this to provide object\n            constancy between traces during animations and\n            transitions.\n        uirevision\n            Controls persistence of some user-driven changes to the\n            trace: `constraintrange` in `parcoords` traces, as well\n            as some `editable: true` modifications such as `name`\n            and `colorbar.title`. Defaults to `layout.uirevision`.\n            Note that other user-driven trace attribute changes are\n            controlled by `layout` attributes: `trace.visible` is\n            controlled by `layout.legend.uirevision`,\n            `selectedpoints` is controlled by\n            `layout.selectionrevision`, and `colorbar.(x|y)`\n            (accessible with `config: {editable: true}`) is\n            controlled by `layout.editrevision`. Trace changes are\n            tracked by `uid`, which only falls back on trace index\n            if no `uid` is provided. So if your app can add/remove\n            traces before the end of the `data` array, such that\n            the same trace has a different index, you can still\n            preserve user-driven changes if you give each trace a\n            `uid` that stays with it as it moves.\n        unselected\n            :class:`plotly.graph_objects.scatter.Unselected`\n            instance or dict with compatible properties\n        visible\n            Determines whether or not this trace is visible. If\n            \"legendonly\", the trace is not drawn, but can appear as\n            a legend item (provided that the legend itself is\n            visible).\n        x\n            Sets the x coordinates.\n        x0\n            Alternate to `x`. Builds a linear space of x\n            coordinates. Use with `dx` where `x0` is the starting\n            coordinate and `dx` the step.\n        xaxis\n            Sets a reference between this trace's x coordinates and\n            a 2D cartesian x axis. If \"x\" (the default value), the\n            x coordinates refer to `layout.xaxis`. If \"x2\", the x\n            coordinates refer to `layout.xaxis2`, and so on.\n        xcalendar\n            Sets the calendar system to use with `x` date data.\n        xhoverformat\n            Sets the hover text formatting rulefor `x`  using d3\n            formatting mini-languages which are very similar to\n            those in Python. For numbers, see:\n            https://github.com/d3/d3-format/tree/v1.4.5#d3-format.\n            And for dates see: https://github.com/d3/d3-time-\n            format/tree/v2.2.3#locale_format. We add two items to\n            d3's date formatter: \"%h\" for half of the year as a\n            decimal number as well as \"%{n}f\" for fractional\n            seconds with n digits. For example, *2016-10-13\n            09:15:23.456* with tickformat \"%H~%M~%S.%2f\" would\n            display *09~15~23.46*By default the values are\n            formatted using `xaxis.hoverformat`.\n        xperiod\n            Only relevant when the axis `type` is \"date\". Sets the\n            period positioning in milliseconds or \"M<n>\" on the x\n            axis. Special values in the form of \"M<n>\" could be\n            used to declare the number of months. In this case `n`\n            must be a positive integer.\n        xperiod0\n            Only relevant when the axis `type` is \"date\". Sets the\n            base for period positioning in milliseconds or date\n            string on the x0 axis. When `x0period` is round number\n            of weeks, the `x0period0` by default would be on a\n            Sunday i.e. 2000-01-02, otherwise it would be at\n            2000-01-01.\n        xperiodalignment\n            Only relevant when the axis `type` is \"date\". Sets the\n            alignment of data points on the x axis.\n        xsrc\n            Sets the source reference on Chart Studio Cloud for\n            `x`.\n        y\n            Sets the y coordinates.\n        y0\n            Alternate to `y`. Builds a linear space of y\n            coordinates. Use with `dy` where `y0` is the starting\n            coordinate and `dy` the step.\n        yaxis\n            Sets a reference between this trace's y coordinates and\n            a 2D cartesian y axis. If \"y\" (the default value), the\n            y coordinates refer to `layout.yaxis`. If \"y2\", the y\n            coordinates refer to `layout.yaxis2`, and so on.\n        ycalendar\n            Sets the calendar system to use with `y` date data.\n        yhoverformat\n            Sets the hover text formatting rulefor `y`  using d3\n            formatting mini-languages which are very similar to\n            those in Python. For numbers, see:\n            https://github.com/d3/d3-format/tree/v1.4.5#d3-format.\n            And for dates see: https://github.com/d3/d3-time-\n            format/tree/v2.2.3#locale_format. We add two items to\n            d3's date formatter: \"%h\" for half of the year as a\n            decimal number as well as \"%{n}f\" for fractional\n            seconds with n digits. For example, *2016-10-13\n            09:15:23.456* with tickformat \"%H~%M~%S.%2f\" would\n            display *09~15~23.46*By default the values are\n            formatted using `yaxis.hoverformat`.\n        yperiod\n            Only relevant when the axis `type` is \"date\". Sets the\n            period positioning in milliseconds or \"M<n>\" on the y\n            axis. Special values in the form of \"M<n>\" could be\n            used to declare the number of months. In this case `n`\n            must be a positive integer.\n        yperiod0\n            Only relevant when the axis `type` is \"date\". Sets the\n            base for period positioning in milliseconds or date\n            string on the y0 axis. When `y0period` is round number\n            of weeks, the `y0period0` by default would be on a\n            Sunday i.e. 2000-01-02, otherwise it would be at\n            2000-01-01.\n        yperiodalignment\n            Only relevant when the axis `type` is \"date\". Sets the\n            alignment of data points on the y axis.\n        ysrc\n            Sets the source reference on Chart Studio Cloud for\n            `y`.\n        \nDid you mean \"stackgaps\"?\n\nBad property path:\ntickformatstops\n^^^^^^^^^^^^^^^",
     "output_type": "error",
     "traceback": [
      "\u001b[0;31m---------------------------------------------------------------------------\u001b[0m",
      "\u001b[0;31mValueError\u001b[0m                                Traceback (most recent call last)",
      "\u001b[0;32m/var/folders/qj/xh48vw9d4z5_h6wzs6r2smdh0000gn/T/ipykernel_29797/1144578336.py\u001b[0m in \u001b[0;36m<module>\u001b[0;34m\u001b[0m\n\u001b[1;32m      8\u001b[0m                  \u001b[0mlog_x\u001b[0m\u001b[0;34m=\u001b[0m\u001b[0;32mTrue\u001b[0m\u001b[0;34m,\u001b[0m\u001b[0;34m\u001b[0m\u001b[0;34m\u001b[0m\u001b[0m\n\u001b[1;32m      9\u001b[0m                  title=\"MoMA's created before 1980\")\n\u001b[0;32m---> 10\u001b[0;31m fig5.update_traces(\n\u001b[0m\u001b[1;32m     11\u001b[0m     tickformatstops = {\n\u001b[1;32m     12\u001b[0m         \u001b[0;34m'dtickrange'\u001b[0m\u001b[0;34m:\u001b[0m \u001b[0;34m'[100,10000]'\u001b[0m\u001b[0;34m\u001b[0m\u001b[0;34m\u001b[0m\u001b[0m\n",
      "\u001b[0;32m/Library/Frameworks/Python.framework/Versions/3.9/lib/python3.9/site-packages/plotly/basedatatypes.py\u001b[0m in \u001b[0;36mupdate_traces\u001b[0;34m(self, patch, selector, row, col, secondary_y, overwrite, **kwargs)\u001b[0m\n\u001b[1;32m   1374\u001b[0m             \u001b[0mselector\u001b[0m\u001b[0;34m=\u001b[0m\u001b[0mselector\u001b[0m\u001b[0;34m,\u001b[0m \u001b[0mrow\u001b[0m\u001b[0;34m=\u001b[0m\u001b[0mrow\u001b[0m\u001b[0;34m,\u001b[0m \u001b[0mcol\u001b[0m\u001b[0;34m=\u001b[0m\u001b[0mcol\u001b[0m\u001b[0;34m,\u001b[0m \u001b[0msecondary_y\u001b[0m\u001b[0;34m=\u001b[0m\u001b[0msecondary_y\u001b[0m\u001b[0;34m\u001b[0m\u001b[0;34m\u001b[0m\u001b[0m\n\u001b[1;32m   1375\u001b[0m         ):\n\u001b[0;32m-> 1376\u001b[0;31m             \u001b[0mtrace\u001b[0m\u001b[0;34m.\u001b[0m\u001b[0mupdate\u001b[0m\u001b[0;34m(\u001b[0m\u001b[0mpatch\u001b[0m\u001b[0;34m,\u001b[0m \u001b[0moverwrite\u001b[0m\u001b[0;34m=\u001b[0m\u001b[0moverwrite\u001b[0m\u001b[0;34m,\u001b[0m \u001b[0;34m**\u001b[0m\u001b[0mkwargs\u001b[0m\u001b[0;34m)\u001b[0m\u001b[0;34m\u001b[0m\u001b[0;34m\u001b[0m\u001b[0m\n\u001b[0m\u001b[1;32m   1377\u001b[0m         \u001b[0;32mreturn\u001b[0m \u001b[0mself\u001b[0m\u001b[0;34m\u001b[0m\u001b[0;34m\u001b[0m\u001b[0m\n\u001b[1;32m   1378\u001b[0m \u001b[0;34m\u001b[0m\u001b[0m\n",
      "\u001b[0;32m/Library/Frameworks/Python.framework/Versions/3.9/lib/python3.9/site-packages/plotly/basedatatypes.py\u001b[0m in \u001b[0;36mupdate\u001b[0;34m(self, dict1, overwrite, **kwargs)\u001b[0m\n\u001b[1;32m   5097\u001b[0m             \u001b[0;32mwith\u001b[0m \u001b[0mself\u001b[0m\u001b[0;34m.\u001b[0m\u001b[0mfigure\u001b[0m\u001b[0;34m.\u001b[0m\u001b[0mbatch_update\u001b[0m\u001b[0;34m(\u001b[0m\u001b[0;34m)\u001b[0m\u001b[0;34m:\u001b[0m\u001b[0;34m\u001b[0m\u001b[0;34m\u001b[0m\u001b[0m\n\u001b[1;32m   5098\u001b[0m                 \u001b[0mBaseFigure\u001b[0m\u001b[0;34m.\u001b[0m\u001b[0m_perform_update\u001b[0m\u001b[0;34m(\u001b[0m\u001b[0mself\u001b[0m\u001b[0;34m,\u001b[0m \u001b[0mdict1\u001b[0m\u001b[0;34m,\u001b[0m \u001b[0moverwrite\u001b[0m\u001b[0;34m=\u001b[0m\u001b[0moverwrite\u001b[0m\u001b[0;34m)\u001b[0m\u001b[0;34m\u001b[0m\u001b[0;34m\u001b[0m\u001b[0m\n\u001b[0;32m-> 5099\u001b[0;31m                 \u001b[0mBaseFigure\u001b[0m\u001b[0;34m.\u001b[0m\u001b[0m_perform_update\u001b[0m\u001b[0;34m(\u001b[0m\u001b[0mself\u001b[0m\u001b[0;34m,\u001b[0m \u001b[0mkwargs\u001b[0m\u001b[0;34m,\u001b[0m \u001b[0moverwrite\u001b[0m\u001b[0;34m=\u001b[0m\u001b[0moverwrite\u001b[0m\u001b[0;34m)\u001b[0m\u001b[0;34m\u001b[0m\u001b[0;34m\u001b[0m\u001b[0m\n\u001b[0m\u001b[1;32m   5100\u001b[0m         \u001b[0;32melse\u001b[0m\u001b[0;34m:\u001b[0m\u001b[0;34m\u001b[0m\u001b[0;34m\u001b[0m\u001b[0m\n\u001b[1;32m   5101\u001b[0m             \u001b[0mBaseFigure\u001b[0m\u001b[0;34m.\u001b[0m\u001b[0m_perform_update\u001b[0m\u001b[0;34m(\u001b[0m\u001b[0mself\u001b[0m\u001b[0;34m,\u001b[0m \u001b[0mdict1\u001b[0m\u001b[0;34m,\u001b[0m \u001b[0moverwrite\u001b[0m\u001b[0;34m=\u001b[0m\u001b[0moverwrite\u001b[0m\u001b[0;34m)\u001b[0m\u001b[0;34m\u001b[0m\u001b[0;34m\u001b[0m\u001b[0m\n",
      "\u001b[0;32m/Library/Frameworks/Python.framework/Versions/3.9/lib/python3.9/site-packages/plotly/basedatatypes.py\u001b[0m in \u001b[0;36m_perform_update\u001b[0;34m(plotly_obj, update_obj, overwrite)\u001b[0m\n\u001b[1;32m   3885\u001b[0m                     \u001b[0;31m# contain the _raise_on_invalid_property_error\u001b[0m\u001b[0;34m\u001b[0m\u001b[0;34m\u001b[0m\u001b[0;34m\u001b[0m\u001b[0m\n\u001b[1;32m   3886\u001b[0m                     \u001b[0;31m# generated message\u001b[0m\u001b[0;34m\u001b[0m\u001b[0;34m\u001b[0m\u001b[0;34m\u001b[0m\u001b[0m\n\u001b[0;32m-> 3887\u001b[0;31m                     \u001b[0;32mraise\u001b[0m \u001b[0merr\u001b[0m\u001b[0;34m\u001b[0m\u001b[0;34m\u001b[0m\u001b[0m\n\u001b[0m\u001b[1;32m   3888\u001b[0m \u001b[0;34m\u001b[0m\u001b[0m\n\u001b[1;32m   3889\u001b[0m             \u001b[0;31m# Convert update_obj to dict\u001b[0m\u001b[0;34m\u001b[0m\u001b[0;34m\u001b[0m\u001b[0;34m\u001b[0m\u001b[0m\n",
      "\u001b[0;31mValueError\u001b[0m: Invalid property specified for object of type plotly.graph_objs.Scatter: 'tickformatstops'\n\nDid you mean \"stackgaps\"?\n\n    Valid properties:\n        cliponaxis\n            Determines whether or not markers and text nodes are\n            clipped about the subplot axes. To show markers and\n            text nodes above axis lines and tick labels, make sure\n            to set `xaxis.layer` and `yaxis.layer` to *below\n            traces*.\n        connectgaps\n            Determines whether or not gaps (i.e. {nan} or missing\n            values) in the provided data arrays are connected.\n        customdata\n            Assigns extra data each datum. This may be useful when\n            listening to hover, click and selection events. Note\n            that, \"scatter\" traces also appends customdata items in\n            the markers DOM elements\n        customdatasrc\n            Sets the source reference on Chart Studio Cloud for\n            `customdata`.\n        dx\n            Sets the x coordinate step. See `x0` for more info.\n        dy\n            Sets the y coordinate step. See `y0` for more info.\n        error_x\n            :class:`plotly.graph_objects.scatter.ErrorX` instance\n            or dict with compatible properties\n        error_y\n            :class:`plotly.graph_objects.scatter.ErrorY` instance\n            or dict with compatible properties\n        fill\n            Sets the area to fill with a solid color. Defaults to\n            \"none\" unless this trace is stacked, then it gets\n            \"tonexty\" (\"tonextx\") if `orientation` is \"v\" (\"h\") Use\n            with `fillcolor` if not \"none\". \"tozerox\" and \"tozeroy\"\n            fill to x=0 and y=0 respectively. \"tonextx\" and\n            \"tonexty\" fill between the endpoints of this trace and\n            the endpoints of the trace before it, connecting those\n            endpoints with straight lines (to make a stacked area\n            graph); if there is no trace before it, they behave\n            like \"tozerox\" and \"tozeroy\". \"toself\" connects the\n            endpoints of the trace (or each segment of the trace if\n            it has gaps) into a closed shape. \"tonext\" fills the\n            space between two traces if one completely encloses the\n            other (eg consecutive contour lines), and behaves like\n            \"toself\" if there is no trace before it. \"tonext\"\n            should not be used if one trace does not enclose the\n            other. Traces in a `stackgroup` will only fill to (or\n            be filled to) other traces in the same group. With\n            multiple `stackgroup`s or some traces stacked and some\n            not, if fill-linked traces are not already consecutive,\n            the later ones will be pushed down in the drawing\n            order.\n        fillcolor\n            Sets the fill color. Defaults to a half-transparent\n            variant of the line color, marker color, or marker line\n            color, whichever is available.\n        fillpattern\n            Sets the pattern within the marker.\n        groupnorm\n            Only relevant when `stackgroup` is used, and only the\n            first `groupnorm` found in the `stackgroup` will be\n            used - including if `visible` is \"legendonly\" but not\n            if it is `false`. Sets the normalization for the sum of\n            this `stackgroup`. With \"fraction\", the value of each\n            trace at each location is divided by the sum of all\n            trace values at that location. \"percent\" is the same\n            but multiplied by 100 to show percentages. If there are\n            multiple subplots, or multiple `stackgroup`s on one\n            subplot, each will be normalized within its own set.\n        hoverinfo\n            Determines which trace information appear on hover. If\n            `none` or `skip` are set, no information is displayed\n            upon hovering. But, if `none` is set, click and hover\n            events are still fired.\n        hoverinfosrc\n            Sets the source reference on Chart Studio Cloud for\n            `hoverinfo`.\n        hoverlabel\n            :class:`plotly.graph_objects.scatter.Hoverlabel`\n            instance or dict with compatible properties\n        hoveron\n            Do the hover effects highlight individual points\n            (markers or line points) or do they highlight filled\n            regions? If the fill is \"toself\" or \"tonext\" and there\n            are no markers or text, then the default is \"fills\",\n            otherwise it is \"points\".\n        hovertemplate\n            Template string used for rendering the information that\n            appear on hover box. Note that this will override\n            `hoverinfo`. Variables are inserted using %{variable},\n            for example \"y: %{y}\" as well as %{xother}, {%_xother},\n            {%_xother_}, {%xother_}. When showing info for several\n            points, \"xother\" will be added to those with different\n            x positions from the first point. An underscore before\n            or after \"(x|y)other\" will add a space on that side,\n            only when this field is shown. Numbers are formatted\n            using d3-format's syntax %{variable:d3-format}, for\n            example \"Price: %{y:$.2f}\".\n            https://github.com/d3/d3-format/tree/v1.4.5#d3-format\n            for details on the formatting syntax. Dates are\n            formatted using d3-time-format's syntax\n            %{variable|d3-time-format}, for example \"Day:\n            %{2019-01-01|%A}\". https://github.com/d3/d3-time-\n            format/tree/v2.2.3#locale_format for details on the\n            date formatting syntax. The variables available in\n            `hovertemplate` are the ones emitted as event data\n            described at this link\n            https://plotly.com/javascript/plotlyjs-events/#event-\n            data. Additionally, every attributes that can be\n            specified per-point (the ones that are `arrayOk: true`)\n            are available.  Anything contained in tag `<extra>` is\n            displayed in the secondary box, for example\n            \"<extra>{fullData.name}</extra>\". To hide the secondary\n            box completely, use an empty tag `<extra></extra>`.\n        hovertemplatesrc\n            Sets the source reference on Chart Studio Cloud for\n            `hovertemplate`.\n        hovertext\n            Sets hover text elements associated with each (x,y)\n            pair. If a single string, the same string appears over\n            all the data points. If an array of string, the items\n            are mapped in order to the this trace's (x,y)\n            coordinates. To be seen, trace `hoverinfo` must contain\n            a \"text\" flag.\n        hovertextsrc\n            Sets the source reference on Chart Studio Cloud for\n            `hovertext`.\n        ids\n            Assigns id labels to each datum. These ids for object\n            constancy of data points during animation. Should be an\n            array of strings, not numbers or any other type.\n        idssrc\n            Sets the source reference on Chart Studio Cloud for\n            `ids`.\n        legendgroup\n            Sets the legend group for this trace. Traces part of\n            the same legend group hide/show at the same time when\n            toggling legend items.\n        legendgrouptitle\n            :class:`plotly.graph_objects.scatter.Legendgrouptitle`\n            instance or dict with compatible properties\n        legendrank\n            Sets the legend rank for this trace. Items and groups\n            with smaller ranks are presented on top/left side while\n            with `*reversed* `legend.traceorder` they are on\n            bottom/right side. The default legendrank is 1000, so\n            that you can use ranks less than 1000 to place certain\n            items before all unranked items, and ranks greater than\n            1000 to go after all unranked items.\n        line\n            :class:`plotly.graph_objects.scatter.Line` instance or\n            dict with compatible properties\n        marker\n            :class:`plotly.graph_objects.scatter.Marker` instance\n            or dict with compatible properties\n        meta\n            Assigns extra meta information associated with this\n            trace that can be used in various text attributes.\n            Attributes such as trace `name`, graph, axis and\n            colorbar `title.text`, annotation `text`\n            `rangeselector`, `updatemenues` and `sliders` `label`\n            text all support `meta`. To access the trace `meta`\n            values in an attribute in the same trace, simply use\n            `%{meta[i]}` where `i` is the index or key of the\n            `meta` item in question. To access trace `meta` in\n            layout attributes, use `%{data[n[.meta[i]}` where `i`\n            is the index or key of the `meta` and `n` is the trace\n            index.\n        metasrc\n            Sets the source reference on Chart Studio Cloud for\n            `meta`.\n        mode\n            Determines the drawing mode for this scatter trace. If\n            the provided `mode` includes \"text\" then the `text`\n            elements appear at the coordinates. Otherwise, the\n            `text` elements appear on hover. If there are less than\n            20 points and the trace is not stacked then the default\n            is \"lines+markers\". Otherwise, \"lines\".\n        name\n            Sets the trace name. The trace name appear as the\n            legend item and on hover.\n        opacity\n            Sets the opacity of the trace.\n        orientation\n            Only relevant when `stackgroup` is used, and only the\n            first `orientation` found in the `stackgroup` will be\n            used - including if `visible` is \"legendonly\" but not\n            if it is `false`. Sets the stacking direction. With \"v\"\n            (\"h\"), the y (x) values of subsequent traces are added.\n            Also affects the default value of `fill`.\n        selected\n            :class:`plotly.graph_objects.scatter.Selected` instance\n            or dict with compatible properties\n        selectedpoints\n            Array containing integer indices of selected points.\n            Has an effect only for traces that support selections.\n            Note that an empty array means an empty selection where\n            the `unselected` are turned on for all points, whereas,\n            any other non-array values means no selection all where\n            the `selected` and `unselected` styles have no effect.\n        showlegend\n            Determines whether or not an item corresponding to this\n            trace is shown in the legend.\n        stackgaps\n            Only relevant when `stackgroup` is used, and only the\n            first `stackgaps` found in the `stackgroup` will be\n            used - including if `visible` is \"legendonly\" but not\n            if it is `false`. Determines how we handle locations at\n            which other traces in this group have data but this one\n            does not. With *infer zero* we insert a zero at these\n            locations. With \"interpolate\" we linearly interpolate\n            between existing values, and extrapolate a constant\n            beyond the existing values.\n        stackgroup\n            Set several scatter traces (on the same subplot) to the\n            same stackgroup in order to add their y values (or\n            their x values if `orientation` is \"h\"). If blank or\n            omitted this trace will not be stacked. Stacking also\n            turns `fill` on by default, using \"tonexty\" (\"tonextx\")\n            if `orientation` is \"h\" (\"v\") and sets the default\n            `mode` to \"lines\" irrespective of point count. You can\n            only stack on a numeric (linear or log) axis. Traces in\n            a `stackgroup` will only fill to (or be filled to)\n            other traces in the same group. With multiple\n            `stackgroup`s or some traces stacked and some not, if\n            fill-linked traces are not already consecutive, the\n            later ones will be pushed down in the drawing order.\n        stream\n            :class:`plotly.graph_objects.scatter.Stream` instance\n            or dict with compatible properties\n        text\n            Sets text elements associated with each (x,y) pair. If\n            a single string, the same string appears over all the\n            data points. If an array of string, the items are\n            mapped in order to the this trace's (x,y) coordinates.\n            If trace `hoverinfo` contains a \"text\" flag and\n            \"hovertext\" is not set, these elements will be seen in\n            the hover labels.\n        textfont\n            Sets the text font.\n        textposition\n            Sets the positions of the `text` elements with respects\n            to the (x,y) coordinates.\n        textpositionsrc\n            Sets the source reference on Chart Studio Cloud for\n            `textposition`.\n        textsrc\n            Sets the source reference on Chart Studio Cloud for\n            `text`.\n        texttemplate\n            Template string used for rendering the information text\n            that appear on points. Note that this will override\n            `textinfo`. Variables are inserted using %{variable},\n            for example \"y: %{y}\". Numbers are formatted using\n            d3-format's syntax %{variable:d3-format}, for example\n            \"Price: %{y:$.2f}\".\n            https://github.com/d3/d3-format/tree/v1.4.5#d3-format\n            for details on the formatting syntax. Dates are\n            formatted using d3-time-format's syntax\n            %{variable|d3-time-format}, for example \"Day:\n            %{2019-01-01|%A}\". https://github.com/d3/d3-time-\n            format/tree/v2.2.3#locale_format for details on the\n            date formatting syntax. Every attributes that can be\n            specified per-point (the ones that are `arrayOk: true`)\n            are available.\n        texttemplatesrc\n            Sets the source reference on Chart Studio Cloud for\n            `texttemplate`.\n        uid\n            Assign an id to this trace, Use this to provide object\n            constancy between traces during animations and\n            transitions.\n        uirevision\n            Controls persistence of some user-driven changes to the\n            trace: `constraintrange` in `parcoords` traces, as well\n            as some `editable: true` modifications such as `name`\n            and `colorbar.title`. Defaults to `layout.uirevision`.\n            Note that other user-driven trace attribute changes are\n            controlled by `layout` attributes: `trace.visible` is\n            controlled by `layout.legend.uirevision`,\n            `selectedpoints` is controlled by\n            `layout.selectionrevision`, and `colorbar.(x|y)`\n            (accessible with `config: {editable: true}`) is\n            controlled by `layout.editrevision`. Trace changes are\n            tracked by `uid`, which only falls back on trace index\n            if no `uid` is provided. So if your app can add/remove\n            traces before the end of the `data` array, such that\n            the same trace has a different index, you can still\n            preserve user-driven changes if you give each trace a\n            `uid` that stays with it as it moves.\n        unselected\n            :class:`plotly.graph_objects.scatter.Unselected`\n            instance or dict with compatible properties\n        visible\n            Determines whether or not this trace is visible. If\n            \"legendonly\", the trace is not drawn, but can appear as\n            a legend item (provided that the legend itself is\n            visible).\n        x\n            Sets the x coordinates.\n        x0\n            Alternate to `x`. Builds a linear space of x\n            coordinates. Use with `dx` where `x0` is the starting\n            coordinate and `dx` the step.\n        xaxis\n            Sets a reference between this trace's x coordinates and\n            a 2D cartesian x axis. If \"x\" (the default value), the\n            x coordinates refer to `layout.xaxis`. If \"x2\", the x\n            coordinates refer to `layout.xaxis2`, and so on.\n        xcalendar\n            Sets the calendar system to use with `x` date data.\n        xhoverformat\n            Sets the hover text formatting rulefor `x`  using d3\n            formatting mini-languages which are very similar to\n            those in Python. For numbers, see:\n            https://github.com/d3/d3-format/tree/v1.4.5#d3-format.\n            And for dates see: https://github.com/d3/d3-time-\n            format/tree/v2.2.3#locale_format. We add two items to\n            d3's date formatter: \"%h\" for half of the year as a\n            decimal number as well as \"%{n}f\" for fractional\n            seconds with n digits. For example, *2016-10-13\n            09:15:23.456* with tickformat \"%H~%M~%S.%2f\" would\n            display *09~15~23.46*By default the values are\n            formatted using `xaxis.hoverformat`.\n        xperiod\n            Only relevant when the axis `type` is \"date\". Sets the\n            period positioning in milliseconds or \"M<n>\" on the x\n            axis. Special values in the form of \"M<n>\" could be\n            used to declare the number of months. In this case `n`\n            must be a positive integer.\n        xperiod0\n            Only relevant when the axis `type` is \"date\". Sets the\n            base for period positioning in milliseconds or date\n            string on the x0 axis. When `x0period` is round number\n            of weeks, the `x0period0` by default would be on a\n            Sunday i.e. 2000-01-02, otherwise it would be at\n            2000-01-01.\n        xperiodalignment\n            Only relevant when the axis `type` is \"date\". Sets the\n            alignment of data points on the x axis.\n        xsrc\n            Sets the source reference on Chart Studio Cloud for\n            `x`.\n        y\n            Sets the y coordinates.\n        y0\n            Alternate to `y`. Builds a linear space of y\n            coordinates. Use with `dy` where `y0` is the starting\n            coordinate and `dy` the step.\n        yaxis\n            Sets a reference between this trace's y coordinates and\n            a 2D cartesian y axis. If \"y\" (the default value), the\n            y coordinates refer to `layout.yaxis`. If \"y2\", the y\n            coordinates refer to `layout.yaxis2`, and so on.\n        ycalendar\n            Sets the calendar system to use with `y` date data.\n        yhoverformat\n            Sets the hover text formatting rulefor `y`  using d3\n            formatting mini-languages which are very similar to\n            those in Python. For numbers, see:\n            https://github.com/d3/d3-format/tree/v1.4.5#d3-format.\n            And for dates see: https://github.com/d3/d3-time-\n            format/tree/v2.2.3#locale_format. We add two items to\n            d3's date formatter: \"%h\" for half of the year as a\n            decimal number as well as \"%{n}f\" for fractional\n            seconds with n digits. For example, *2016-10-13\n            09:15:23.456* with tickformat \"%H~%M~%S.%2f\" would\n            display *09~15~23.46*By default the values are\n            formatted using `yaxis.hoverformat`.\n        yperiod\n            Only relevant when the axis `type` is \"date\". Sets the\n            period positioning in milliseconds or \"M<n>\" on the y\n            axis. Special values in the form of \"M<n>\" could be\n            used to declare the number of months. In this case `n`\n            must be a positive integer.\n        yperiod0\n            Only relevant when the axis `type` is \"date\". Sets the\n            base for period positioning in milliseconds or date\n            string on the y0 axis. When `y0period` is round number\n            of weeks, the `y0period0` by default would be on a\n            Sunday i.e. 2000-01-02, otherwise it would be at\n            2000-01-01.\n        yperiodalignment\n            Only relevant when the axis `type` is \"date\". Sets the\n            alignment of data points on the y axis.\n        ysrc\n            Sets the source reference on Chart Studio Cloud for\n            `y`.\n        \nDid you mean \"stackgaps\"?\n\nBad property path:\ntickformatstops\n^^^^^^^^^^^^^^^"
     ]
    }
   ],
   "source": [
    "import plotly.io as pio\n",
    "import plotly.express as px\n",
    "df =df_nats_before[(df_nats_before['DateAcquired'] >= 1970) & (df_nats_before['DateAcquired'] <= 1980)]\n",
    "df2 =df_nats_before.loc[df_nats_before['Count'] > 100]\n",
    "\n",
    "fig5 = px.scatter(df2,\n",
    "                 x=\"Count\", y=\"DateAcquired\", size=\"Females\", color=\"Nation\",\n",
    "                 log_x=True,\n",
    "                 title=\"MoMA's created before 1980\")\n",
    "# fig5.update_traces(\n",
    "#     tickformatstops = {\n",
    "#         'dtickrange': '[100,10000]'\n",
    "#     }\n",
    "# )\n",
    "fig5.update_layout(\n",
    "    paper_bgcolor='rgb(255, 255, 255)',\n",
    "    plot_bgcolor='rgb(243, 243, 243)',\n",
    "    )\n",
    "\n",
    "\n",
    "fig5.show()"
   ]
  },
  {
   "cell_type": "code",
   "execution_count": null,
   "metadata": {},
   "outputs": [],
   "source": []
  },
  {
   "cell_type": "markdown",
   "metadata": {},
   "source": [
    "Add a shape for males "
   ]
  },
  {
   "cell_type": "code",
   "execution_count": 25,
   "metadata": {},
   "outputs": [
    {
     "data": {
      "application/vnd.plotly.v1+json": {
       "config": {
        "plotlyServerURL": "https://plot.ly"
       },
       "data": [
        {
         "hovertemplate": "Nation=Pakistani<br>Count=%{x}<br>DateAcquired=%{y}<br>Females=%{marker.size}<extra></extra>",
         "legendgroup": "Pakistani",
         "marker": {
          "color": "#636efa",
          "size": [
           1,
           1,
           10,
           4,
           27,
           5
          ],
          "sizemode": "area",
          "sizeref": 1.2422222222222221,
          "symbol": "circle"
         },
         "mode": "markers",
         "name": "Pakistani",
         "showlegend": true,
         "type": "scattergl",
         "x": [
          1,
          1,
          10,
          4,
          27,
          5
         ],
         "xaxis": "x",
         "y": [
          2000,
          2001,
          2002,
          2005,
          2008,
          2016
         ],
         "yaxis": "y"
        },
        {
         "hovertemplate": "Nation=Russian<br>Count=%{x}<br>DateAcquired=%{y}<br>Females=%{marker.size}<extra></extra>",
         "legendgroup": "Russian",
         "marker": {
          "color": "#EF553B",
          "size": [
           1,
           0,
           3,
           0,
           1,
           0,
           0,
           0,
           0,
           3,
           6,
           1,
           0,
           0,
           0,
           0
          ],
          "sizemode": "area",
          "sizeref": 1.2422222222222221,
          "symbol": "circle"
         },
         "mode": "markers",
         "name": "Russian",
         "showlegend": true,
         "type": "scattergl",
         "x": [
          1,
          1,
          6,
          1,
          2,
          6,
          2,
          5,
          10,
          8,
          6,
          14,
          1,
          3,
          1,
          12
         ],
         "xaxis": "x",
         "y": [
          1985,
          1986,
          1987,
          1989,
          1992,
          1993,
          1994,
          1996,
          1997,
          1998,
          2001,
          2006,
          2010,
          2012,
          2013,
          2016
         ],
         "yaxis": "y"
        },
        {
         "hovertemplate": "Nation=Israeli<br>Count=%{x}<br>DateAcquired=%{y}<br>Females=%{marker.size}<extra></extra>",
         "legendgroup": "Israeli",
         "marker": {
          "color": "#00cc96",
          "size": [
           0,
           0,
           1,
           0,
           1,
           0,
           0,
           9,
           1,
           1,
           3,
           1,
           1,
           4,
           0,
           0,
           1,
           0,
           1,
           0
          ],
          "sizemode": "area",
          "sizeref": 1.2422222222222221,
          "symbol": "circle"
         },
         "mode": "markers",
         "name": "Israeli",
         "showlegend": true,
         "type": "scattergl",
         "x": [
          3,
          1,
          2,
          1,
          1,
          1,
          1,
          9,
          1,
          1,
          6,
          3,
          3,
          4,
          4,
          9,
          2,
          1,
          66,
          1
         ],
         "xaxis": "x",
         "y": [
          1982,
          1987,
          1988,
          1990,
          1991,
          1999,
          2000,
          2002,
          2003,
          2004,
          2005,
          2006,
          2007,
          2008,
          2009,
          2010,
          2011,
          2014,
          2015,
          2016
         ],
         "yaxis": "y"
        },
        {
         "hovertemplate": "Nation=Bahamian<br>Count=%{x}<br>DateAcquired=%{y}<br>Females=%{marker.size}<extra></extra>",
         "legendgroup": "Bahamian",
         "marker": {
          "color": "#ab63fa",
          "size": [
           1,
           1
          ],
          "sizemode": "area",
          "sizeref": 1.2422222222222221,
          "symbol": "circle"
         },
         "mode": "markers",
         "name": "Bahamian",
         "showlegend": true,
         "type": "scattergl",
         "x": [
          1,
          1
         ],
         "xaxis": "x",
         "y": [
          2000,
          2001
         ],
         "yaxis": "y"
        },
        {
         "hovertemplate": "Nation=Algerian<br>Count=%{x}<br>DateAcquired=%{y}<br>Females=%{marker.size}<extra></extra>",
         "legendgroup": "Algerian",
         "marker": {
          "color": "#FFA15A",
          "size": [
           1
          ],
          "sizemode": "area",
          "sizeref": 1.2422222222222221,
          "symbol": "circle"
         },
         "mode": "markers",
         "name": "Algerian",
         "showlegend": true,
         "type": "scattergl",
         "x": [
          2
         ],
         "xaxis": "x",
         "y": [
          2013
         ],
         "yaxis": "y"
        },
        {
         "hovertemplate": "Nation=Belgian<br>Count=%{x}<br>DateAcquired=%{y}<br>Females=%{marker.size}<extra></extra>",
         "legendgroup": "Belgian",
         "marker": {
          "color": "#19d3f3",
          "size": [
           0,
           0,
           0,
           0,
           0,
           0,
           0,
           0,
           0,
           0,
           0,
           0,
           0,
           0,
           0,
           1,
           1,
           1,
           0,
           10,
           3,
           0,
           0,
           0,
           0,
           0,
           0,
           1
          ],
          "sizemode": "area",
          "sizeref": 1.2422222222222221,
          "symbol": "circle"
         },
         "mode": "markers",
         "name": "Belgian",
         "showlegend": true,
         "type": "scattergl",
         "x": [
          1,
          1,
          3,
          42,
          8,
          1,
          1,
          6,
          1,
          2,
          1,
          4,
          5,
          1,
          3,
          18,
          6,
          142,
          12,
          16,
          3,
          3,
          1,
          2,
          1,
          9,
          1,
          2
         ],
         "xaxis": "x",
         "y": [
          1981,
          1984,
          1986,
          1987,
          1988,
          1991,
          1994,
          1996,
          1998,
          1999,
          2000,
          2001,
          2002,
          2003,
          2004,
          2005,
          2006,
          2007,
          2008,
          2009,
          2010,
          2011,
          2012,
          2013,
          2014,
          2015,
          2016,
          2017
         ],
         "yaxis": "y"
        },
        {
         "hovertemplate": "Nation=Palestinian<br>Count=%{x}<br>DateAcquired=%{y}<br>Females=%{marker.size}<extra></extra>",
         "legendgroup": "Palestinian",
         "marker": {
          "color": "#FF6692",
          "size": [
           0
          ],
          "sizemode": "area",
          "sizeref": 1.2422222222222221,
          "symbol": "circle"
         },
         "mode": "markers",
         "name": "Palestinian",
         "showlegend": true,
         "type": "scattergl",
         "x": [
          1
         ],
         "xaxis": "x",
         "y": [
          2003
         ],
         "yaxis": "y"
        },
        {
         "hovertemplate": "Nation=Lebanese<br>Count=%{x}<br>DateAcquired=%{y}<br>Females=%{marker.size}<extra></extra>",
         "legendgroup": "Lebanese",
         "marker": {
          "color": "#B6E880",
          "size": [
           0,
           0,
           0,
           1,
           0,
           0,
           0,
           0,
           0
          ],
          "sizemode": "area",
          "sizeref": 1.2422222222222221,
          "symbol": "circle"
         },
         "mode": "markers",
         "name": "Lebanese",
         "showlegend": true,
         "type": "scattergl",
         "x": [
          1,
          1,
          32,
          1,
          3,
          5,
          1,
          2,
          1
         ],
         "xaxis": "x",
         "y": [
          2003,
          2004,
          2008,
          2011,
          2012,
          2013,
          2014,
          2016,
          2017
         ],
         "yaxis": "y"
        },
        {
         "hovertemplate": "Nation=Peruvian<br>Count=%{x}<br>DateAcquired=%{y}<br>Females=%{marker.size}<extra></extra>",
         "legendgroup": "Peruvian",
         "marker": {
          "color": "#FF97FF",
          "size": [
           0,
           1,
           0,
           0,
           3,
           7,
           0,
           0
          ],
          "sizemode": "area",
          "sizeref": 1.2422222222222221,
          "symbol": "circle"
         },
         "mode": "markers",
         "name": "Peruvian",
         "showlegend": true,
         "type": "scattergl",
         "x": [
          1,
          1,
          1,
          1,
          4,
          7,
          1,
          4
         ],
         "xaxis": "x",
         "y": [
          1981,
          1984,
          2003,
          2005,
          2007,
          2008,
          2011,
          2014
         ],
         "yaxis": "y"
        },
        {
         "hovertemplate": "Nation=Ivorian<br>Count=%{x}<br>DateAcquired=%{y}<br>Females=%{marker.size}<extra></extra>",
         "legendgroup": "Ivorian",
         "marker": {
          "color": "#FECB52",
          "size": [
           0
          ],
          "sizemode": "area",
          "sizeref": 1.2422222222222221,
          "symbol": "circle"
         },
         "mode": "markers",
         "name": "Ivorian",
         "showlegend": true,
         "type": "scattergl",
         "x": [
          1
         ],
         "xaxis": "x",
         "y": [
          2006
         ],
         "yaxis": "y"
        },
        {
         "hovertemplate": "Nation=Chinese<br>Count=%{x}<br>DateAcquired=%{y}<br>Females=%{marker.size}<extra></extra>",
         "legendgroup": "Chinese",
         "marker": {
          "color": "#636efa",
          "size": [
           0,
           0,
           3,
           0,
           2,
           3,
           0,
           0,
           4,
           2,
           0,
           0,
           0,
           0,
           1,
           0,
           0,
           0,
           1,
           0,
           0
          ],
          "sizemode": "area",
          "sizeref": 1.2422222222222221,
          "symbol": "circle"
         },
         "mode": "markers",
         "name": "Chinese",
         "showlegend": true,
         "type": "scattergl",
         "x": [
          1,
          2,
          5,
          1,
          2,
          18,
          15,
          7,
          17,
          37,
          3,
          31,
          5,
          3,
          4,
          1,
          5,
          2,
          5,
          26,
          42
         ],
         "xaxis": "x",
         "y": [
          1988,
          1998,
          1999,
          2002,
          2003,
          2004,
          2005,
          2006,
          2007,
          2008,
          2009,
          2010,
          2011,
          2012,
          2013,
          2014,
          2015,
          2016,
          2017,
          2018,
          2019
         ],
         "yaxis": "y"
        },
        {
         "hovertemplate": "Nation=Romanian<br>Count=%{x}<br>DateAcquired=%{y}<br>Females=%{marker.size}<extra></extra>",
         "legendgroup": "Romanian",
         "marker": {
          "color": "#EF553B",
          "size": [
           0,
           0,
           0,
           0,
           4,
           0
          ],
          "sizemode": "area",
          "sizeref": 1.2422222222222221,
          "symbol": "circle"
         },
         "mode": "markers",
         "name": "Romanian",
         "showlegend": true,
         "type": "scattergl",
         "x": [
          1,
          1,
          2,
          2,
          4,
          1
         ],
         "xaxis": "x",
         "y": [
          1995,
          1998,
          2006,
          2007,
          2013,
          2017
         ],
         "yaxis": "y"
        },
        {
         "hovertemplate": "Nation=Yugoslav<br>Count=%{x}<br>DateAcquired=%{y}<br>Females=%{marker.size}<extra></extra>",
         "legendgroup": "Yugoslav",
         "marker": {
          "color": "#00cc96",
          "size": [
           0,
           0,
           1,
           39,
           1
          ],
          "sizemode": "area",
          "sizeref": 1.2422222222222221,
          "symbol": "circle"
         },
         "mode": "markers",
         "name": "Yugoslav",
         "showlegend": true,
         "type": "scattergl",
         "x": [
          19,
          1,
          1,
          39,
          1
         ],
         "xaxis": "x",
         "y": [
          1984,
          1985,
          2009,
          2011,
          2012
         ],
         "yaxis": "y"
        },
        {
         "hovertemplate": "Nation=Cuban<br>Count=%{x}<br>DateAcquired=%{y}<br>Females=%{marker.size}<extra></extra>",
         "legendgroup": "Cuban",
         "marker": {
          "color": "#ab63fa",
          "size": [
           0,
           0,
           0,
           0,
           1,
           1,
           0,
           0,
           1,
           1,
           0,
           0,
           0,
           0,
           0,
           1,
           1
          ],
          "sizemode": "area",
          "sizeref": 1.2422222222222221,
          "symbol": "circle"
         },
         "mode": "markers",
         "name": "Cuban",
         "showlegend": true,
         "type": "scattergl",
         "x": [
          2,
          1,
          1,
          2,
          1,
          1,
          1,
          2,
          1,
          3,
          2,
          3,
          2,
          4,
          1,
          1,
          2
         ],
         "xaxis": "x",
         "y": [
          1983,
          1993,
          1995,
          1996,
          1997,
          1999,
          2000,
          2001,
          2002,
          2003,
          2004,
          2005,
          2007,
          2008,
          2009,
          2015,
          2017
         ],
         "yaxis": "y"
        },
        {
         "hovertemplate": "Nation=Slovak<br>Count=%{x}<br>DateAcquired=%{y}<br>Females=%{marker.size}<extra></extra>",
         "legendgroup": "Slovak",
         "marker": {
          "color": "#FFA15A",
          "size": [
           1,
           0,
           1
          ],
          "sizemode": "area",
          "sizeref": 1.2422222222222221,
          "symbol": "circle"
         },
         "mode": "markers",
         "name": "Slovak",
         "showlegend": true,
         "type": "scattergl",
         "x": [
          5,
          1,
          1
         ],
         "xaxis": "x",
         "y": [
          2006,
          2009,
          2010
         ],
         "yaxis": "y"
        },
        {
         "hovertemplate": "Nation=Thai<br>Count=%{x}<br>DateAcquired=%{y}<br>Females=%{marker.size}<extra></extra>",
         "legendgroup": "Thai",
         "marker": {
          "color": "#19d3f3",
          "size": [
           0,
           0,
           0,
           0,
           0,
           0,
           0,
           0,
           0,
           0,
           0,
           0
          ],
          "sizemode": "area",
          "sizeref": 1.2422222222222221,
          "symbol": "circle"
         },
         "mode": "markers",
         "name": "Thai",
         "showlegend": true,
         "type": "scattergl",
         "x": [
          2,
          1,
          1,
          1,
          1,
          2,
          7,
          4,
          1,
          2,
          1,
          1
         ],
         "xaxis": "x",
         "y": [
          1995,
          1997,
          1998,
          2000,
          2005,
          2006,
          2008,
          2011,
          2012,
          2014,
          2015,
          2017
         ],
         "yaxis": "y"
        },
        {
         "hovertemplate": "Nation=Polish<br>Count=%{x}<br>DateAcquired=%{y}<br>Females=%{marker.size}<extra></extra>",
         "legendgroup": "Polish",
         "marker": {
          "color": "#FF6692",
          "size": [
           0,
           0,
           0,
           0,
           1,
           0,
           3,
           1,
           0,
           1,
           0,
           0,
           2,
           0,
           2,
           0,
           0,
           0,
           1,
           1,
           5,
           0,
           1,
           1
          ],
          "sizemode": "area",
          "sizeref": 1.2422222222222221,
          "symbol": "circle"
         },
         "mode": "markers",
         "name": "Polish",
         "showlegend": true,
         "type": "scattergl",
         "x": [
          2,
          2,
          2,
          8,
          7,
          4,
          10,
          1,
          2,
          1,
          2,
          1,
          2,
          1,
          17,
          3,
          36,
          6,
          1,
          2,
          8,
          4,
          24,
          1
         ],
         "xaxis": "x",
         "y": [
          1981,
          1982,
          1983,
          1984,
          1985,
          1986,
          1992,
          1993,
          1994,
          1997,
          1998,
          2001,
          2002,
          2003,
          2005,
          2006,
          2008,
          2010,
          2011,
          2012,
          2013,
          2014,
          2015,
          2017
         ],
         "yaxis": "y"
        },
        {
         "hovertemplate": "Nation=Chilean<br>Count=%{x}<br>DateAcquired=%{y}<br>Females=%{marker.size}<extra></extra>",
         "legendgroup": "Chilean",
         "marker": {
          "color": "#B6E880",
          "size": [
           1,
           0,
           0,
           0,
           3,
           0,
           0,
           0,
           0,
           0,
           0,
           0,
           0,
           0,
           11,
           6
          ],
          "sizemode": "area",
          "sizeref": 1.2422222222222221,
          "symbol": "circle"
         },
         "mode": "markers",
         "name": "Chilean",
         "showlegend": true,
         "type": "scattergl",
         "x": [
          1,
          10,
          4,
          92,
          7,
          1,
          2,
          1,
          2,
          3,
          1,
          12,
          24,
          3,
          12,
          59
         ],
         "xaxis": "x",
         "y": [
          1982,
          1984,
          1986,
          1992,
          1994,
          1995,
          1997,
          1998,
          2004,
          2010,
          2011,
          2013,
          2014,
          2015,
          2017,
          2018
         ],
         "yaxis": "y"
        },
        {
         "hovertemplate": "Nation=South African<br>Count=%{x}<br>DateAcquired=%{y}<br>Females=%{marker.size}<extra></extra>",
         "legendgroup": "South African",
         "marker": {
          "color": "#FF97FF",
          "size": [
           1,
           1,
           0,
           1,
           0,
           0,
           1,
           35,
           4,
           19,
           0,
           0,
           2,
           0,
           1,
           4,
           1,
           0,
           0,
           1,
           1
          ],
          "sizemode": "area",
          "sizeref": 1.2422222222222221,
          "symbol": "circle"
         },
         "mode": "markers",
         "name": "South African",
         "showlegend": true,
         "type": "scattergl",
         "x": [
          2,
          25,
          3,
          1,
          12,
          4,
          19,
          70,
          56,
          46,
          7,
          22,
          32,
          1,
          1,
          4,
          1,
          11,
          1,
          2,
          2
         ],
         "xaxis": "x",
         "y": [
          1996,
          1998,
          1999,
          2000,
          2001,
          2002,
          2004,
          2005,
          2006,
          2007,
          2008,
          2009,
          2010,
          2011,
          2012,
          2013,
          2014,
          2015,
          2016,
          2017,
          2018
         ],
         "yaxis": "y"
        },
        {
         "hovertemplate": "Nation=Italian<br>Count=%{x}<br>DateAcquired=%{y}<br>Females=%{marker.size}<extra></extra>",
         "legendgroup": "Italian",
         "marker": {
          "color": "#FECB52",
          "size": [
           0,
           0,
           1,
           0,
           0,
           1,
           0,
           0,
           0,
           0,
           3,
           0,
           0,
           0,
           1,
           0,
           0,
           0,
           0,
           0,
           14,
           2,
           0,
           0,
           0,
           12,
           4,
           2,
           0,
           0,
           0,
           0,
           0,
           1,
           0,
           3,
           54,
           0,
           1
          ],
          "sizemode": "area",
          "sizeref": 1.2422222222222221,
          "symbol": "circle"
         },
         "mode": "markers",
         "name": "Italian",
         "showlegend": true,
         "type": "scattergl",
         "x": [
          4,
          7,
          15,
          26,
          4,
          38,
          63,
          30,
          20,
          7,
          5,
          9,
          37,
          19,
          8,
          36,
          3,
          6,
          10,
          5,
          14,
          9,
          1,
          3,
          2,
          49,
          13,
          13,
          52,
          1,
          19,
          2,
          1,
          2,
          1,
          34,
          62,
          5,
          8
         ],
         "xaxis": "x",
         "y": [
          1980,
          1981,
          1982,
          1983,
          1984,
          1985,
          1986,
          1987,
          1988,
          1989,
          1990,
          1991,
          1992,
          1993,
          1994,
          1995,
          1996,
          1997,
          1998,
          1999,
          2000,
          2001,
          2002,
          2003,
          2004,
          2005,
          2006,
          2007,
          2008,
          2009,
          2010,
          2011,
          2012,
          2013,
          2014,
          2015,
          2016,
          2017,
          2018
         ],
         "yaxis": "y"
        },
        {
         "hovertemplate": "Nation=Uruguayan<br>Count=%{x}<br>DateAcquired=%{y}<br>Females=%{marker.size}<extra></extra>",
         "legendgroup": "Uruguayan",
         "marker": {
          "color": "#636efa",
          "size": [
           0,
           0,
           0,
           0,
           0,
           0,
           0
          ],
          "sizemode": "area",
          "sizeref": 1.2422222222222221,
          "symbol": "circle"
         },
         "mode": "markers",
         "name": "Uruguayan",
         "showlegend": true,
         "type": "scattergl",
         "x": [
          1,
          3,
          3,
          1,
          1,
          1,
          3
         ],
         "xaxis": "x",
         "y": [
          1994,
          2003,
          2005,
          2010,
          2013,
          2016,
          2017
         ],
         "yaxis": "y"
        },
        {
         "hovertemplate": "Nation=Serbian<br>Count=%{x}<br>DateAcquired=%{y}<br>Females=%{marker.size}<extra></extra>",
         "legendgroup": "Serbian",
         "marker": {
          "color": "#EF553B",
          "size": [
           0,
           0
          ],
          "sizemode": "area",
          "sizeref": 1.2422222222222221,
          "symbol": "circle"
         },
         "mode": "markers",
         "name": "Serbian",
         "showlegend": true,
         "type": "scattergl",
         "x": [
          1,
          1
         ],
         "xaxis": "x",
         "y": [
          2006,
          2009
         ],
         "yaxis": "y"
        },
        {
         "hovertemplate": "Nation=Irish<br>Count=%{x}<br>DateAcquired=%{y}<br>Females=%{marker.size}<extra></extra>",
         "legendgroup": "Irish",
         "marker": {
          "color": "#00cc96",
          "size": [
           1,
           0,
           0,
           1,
           1,
           0
          ],
          "sizemode": "area",
          "sizeref": 1.2422222222222221,
          "symbol": "circle"
         },
         "mode": "markers",
         "name": "Irish",
         "showlegend": true,
         "type": "scattergl",
         "x": [
          1,
          2,
          1,
          1,
          1,
          1
         ],
         "xaxis": "x",
         "y": [
          2004,
          2006,
          2007,
          2008,
          2012,
          2015
         ],
         "yaxis": "y"
        },
        {
         "hovertemplate": "Nation=Indian<br>Count=%{x}<br>DateAcquired=%{y}<br>Females=%{marker.size}<extra></extra>",
         "legendgroup": "Indian",
         "marker": {
          "color": "#ab63fa",
          "size": [
           0,
           0,
           0,
           0,
           1,
           2,
           1,
           17,
           3,
           0,
           11,
           39
          ],
          "sizemode": "area",
          "sizeref": 1.2422222222222221,
          "symbol": "circle"
         },
         "mode": "markers",
         "name": "Indian",
         "showlegend": true,
         "type": "scattergl",
         "x": [
          2,
          2,
          4,
          4,
          2,
          2,
          1,
          17,
          3,
          1,
          13,
          53
         ],
         "xaxis": "x",
         "y": [
          1995,
          1998,
          2001,
          2005,
          2007,
          2011,
          2012,
          2013,
          2015,
          2016,
          2017,
          2018
         ],
         "yaxis": "y"
        },
        {
         "hovertemplate": "Nation=Albanian<br>Count=%{x}<br>DateAcquired=%{y}<br>Females=%{marker.size}<extra></extra>",
         "legendgroup": "Albanian",
         "marker": {
          "color": "#FFA15A",
          "size": [
           0,
           0,
           0
          ],
          "sizemode": "area",
          "sizeref": 1.2422222222222221,
          "symbol": "circle"
         },
         "mode": "markers",
         "name": "Albanian",
         "showlegend": true,
         "type": "scattergl",
         "x": [
          1,
          2,
          1
         ],
         "xaxis": "x",
         "y": [
          2004,
          2005,
          2006
         ],
         "yaxis": "y"
        },
        {
         "hovertemplate": "Nation=Slovenian<br>Count=%{x}<br>DateAcquired=%{y}<br>Females=%{marker.size}<extra></extra>",
         "legendgroup": "Slovenian",
         "marker": {
          "color": "#19d3f3",
          "size": [
           4,
           0,
           10
          ],
          "sizemode": "area",
          "sizeref": 1.2422222222222221,
          "symbol": "circle"
         },
         "mode": "markers",
         "name": "Slovenian",
         "showlegend": true,
         "type": "scattergl",
         "x": [
          5,
          5,
          10
         ],
         "xaxis": "x",
         "y": [
          2005,
          2006,
          2012
         ],
         "yaxis": "y"
        },
        {
         "hovertemplate": "Nation=Georgian<br>Count=%{x}<br>DateAcquired=%{y}<br>Females=%{marker.size}<extra></extra>",
         "legendgroup": "Georgian",
         "marker": {
          "color": "#FF6692",
          "size": [
           0,
           0,
           0,
           1
          ],
          "sizemode": "area",
          "sizeref": 1.2422222222222221,
          "symbol": "circle"
         },
         "mode": "markers",
         "name": "Georgian",
         "showlegend": true,
         "type": "scattergl",
         "x": [
          3,
          1,
          1,
          1
         ],
         "xaxis": "x",
         "y": [
          2005,
          2008,
          2011,
          2014
         ],
         "yaxis": "y"
        },
        {
         "hovertemplate": "Nation=Brazilian<br>Count=%{x}<br>DateAcquired=%{y}<br>Females=%{marker.size}<extra></extra>",
         "legendgroup": "Brazilian",
         "marker": {
          "color": "#B6E880",
          "size": [
           1,
           1,
           0,
           3,
           0,
           0,
           0,
           0,
           0,
           0,
           0,
           29,
           2,
           0,
           1,
           2,
           0,
           1,
           3,
           2,
           0,
           1,
           4,
           1,
           2,
           2,
           10,
           4,
           0
          ],
          "sizemode": "area",
          "sizeref": 1.2422222222222221,
          "symbol": "circle"
         },
         "mode": "markers",
         "name": "Brazilian",
         "showlegend": true,
         "type": "scattergl",
         "x": [
          1,
          1,
          1,
          3,
          1,
          6,
          2,
          9,
          1,
          6,
          8,
          42,
          3,
          1,
          17,
          5,
          3,
          20,
          8,
          3,
          3,
          2,
          7,
          18,
          5,
          18,
          25,
          25,
          6
         ],
         "xaxis": "x",
         "y": [
          1981,
          1986,
          1990,
          1991,
          1992,
          1994,
          1996,
          1997,
          1998,
          1999,
          2000,
          2001,
          2002,
          2003,
          2005,
          2006,
          2007,
          2008,
          2009,
          2010,
          2011,
          2012,
          2013,
          2014,
          2015,
          2016,
          2017,
          2018,
          2020
         ],
         "yaxis": "y"
        },
        {
         "hovertemplate": "Nation=Czech<br>Count=%{x}<br>DateAcquired=%{y}<br>Females=%{marker.size}<extra></extra>",
         "legendgroup": "Czech",
         "marker": {
          "color": "#FF97FF",
          "size": [
           0,
           0,
           0,
           0,
           0,
           0,
           0,
           2,
           0,
           0,
           0,
           0,
           0,
           1,
           0
          ],
          "sizemode": "area",
          "sizeref": 1.2422222222222221,
          "symbol": "circle"
         },
         "mode": "markers",
         "name": "Czech",
         "showlegend": true,
         "type": "scattergl",
         "x": [
          1,
          1,
          2,
          1,
          6,
          2,
          1,
          2,
          3,
          6,
          1,
          25,
          2,
          1,
          3
         ],
         "xaxis": "x",
         "y": [
          1981,
          1982,
          1984,
          1987,
          1990,
          1992,
          1994,
          1999,
          2005,
          2006,
          2007,
          2008,
          2013,
          2014,
          2016
         ],
         "yaxis": "y"
        },
        {
         "hovertemplate": "Nation=Malaysian<br>Count=%{x}<br>DateAcquired=%{y}<br>Females=%{marker.size}<extra></extra>",
         "legendgroup": "Malaysian",
         "marker": {
          "color": "#FECB52",
          "size": [
           1,
           2,
           1
          ],
          "sizemode": "area",
          "sizeref": 1.2422222222222221,
          "symbol": "circle"
         },
         "mode": "markers",
         "name": "Malaysian",
         "showlegend": true,
         "type": "scattergl",
         "x": [
          2,
          2,
          1
         ],
         "xaxis": "x",
         "y": [
          2006,
          2012,
          2014
         ],
         "yaxis": "y"
        },
        {
         "hovertemplate": "Nation=Portuguese<br>Count=%{x}<br>DateAcquired=%{y}<br>Females=%{marker.size}<extra></extra>",
         "legendgroup": "Portuguese",
         "marker": {
          "color": "#636efa",
          "size": [
           1,
           0,
           0,
           0,
           0
          ],
          "sizemode": "area",
          "sizeref": 1.2422222222222221,
          "symbol": "circle"
         },
         "mode": "markers",
         "name": "Portuguese",
         "showlegend": true,
         "type": "scattergl",
         "x": [
          1,
          1,
          23,
          3,
          1
         ],
         "xaxis": "x",
         "y": [
          1990,
          1996,
          2012,
          2013,
          2014
         ],
         "yaxis": "y"
        },
        {
         "hovertemplate": "Nation=Macedonian<br>Count=%{x}<br>DateAcquired=%{y}<br>Females=%{marker.size}<extra></extra>",
         "legendgroup": "Macedonian",
         "marker": {
          "color": "#EF553B",
          "size": [
           1
          ],
          "sizemode": "area",
          "sizeref": 1.2422222222222221,
          "symbol": "circle"
         },
         "mode": "markers",
         "name": "Macedonian",
         "showlegend": true,
         "type": "scattergl",
         "x": [
          1
         ],
         "xaxis": "x",
         "y": [
          2013
         ],
         "yaxis": "y"
        },
        {
         "hovertemplate": "Nation=Colombian<br>Count=%{x}<br>DateAcquired=%{y}<br>Females=%{marker.size}<extra></extra>",
         "legendgroup": "Colombian",
         "marker": {
          "color": "#00cc96",
          "size": [
           1,
           0,
           1,
           0,
           1,
           1,
           0,
           0,
           0,
           0,
           14,
           18,
           0,
           6,
           0,
           0,
           4,
           0,
           0
          ],
          "sizemode": "area",
          "sizeref": 1.2422222222222221,
          "symbol": "circle"
         },
         "mode": "markers",
         "name": "Colombian",
         "showlegend": true,
         "type": "scattergl",
         "x": [
          1,
          28,
          1,
          1,
          1,
          1,
          18,
          2,
          6,
          4,
          221,
          124,
          42,
          37,
          36,
          5,
          26,
          3,
          2
         ],
         "xaxis": "x",
         "y": [
          1982,
          1987,
          1991,
          1993,
          1996,
          2004,
          2005,
          2006,
          2007,
          2008,
          2009,
          2010,
          2011,
          2012,
          2014,
          2015,
          2017,
          2018,
          2019
         ],
         "yaxis": "y"
        },
        {
         "hovertemplate": "Nation=Zimbabwean<br>Count=%{x}<br>DateAcquired=%{y}<br>Females=%{marker.size}<extra></extra>",
         "legendgroup": "Zimbabwean",
         "marker": {
          "color": "#ab63fa",
          "size": [
           0
          ],
          "sizemode": "area",
          "sizeref": 1.2422222222222221,
          "symbol": "circle"
         },
         "mode": "markers",
         "name": "Zimbabwean",
         "showlegend": true,
         "type": "scattergl",
         "x": [
          8
         ],
         "xaxis": "x",
         "y": [
          2010
         ],
         "yaxis": "y"
        },
        {
         "hovertemplate": "Nation=Danish<br>Count=%{x}<br>DateAcquired=%{y}<br>Females=%{marker.size}<extra></extra>",
         "legendgroup": "Danish",
         "marker": {
          "color": "#FFA15A",
          "size": [
           0,
           0,
           0,
           0,
           0,
           0,
           0,
           0,
           0,
           0,
           0,
           0,
           3,
           0,
           3,
           0,
           1,
           0,
           0,
           0,
           0,
           0,
           0
          ],
          "sizemode": "area",
          "sizeref": 1.2422222222222221,
          "symbol": "circle"
         },
         "mode": "markers",
         "name": "Danish",
         "showlegend": true,
         "type": "scattergl",
         "x": [
          3,
          7,
          2,
          9,
          1,
          1,
          1,
          1,
          2,
          1,
          2,
          2,
          5,
          8,
          4,
          20,
          1,
          3,
          2,
          1,
          2,
          2,
          1
         ],
         "xaxis": "x",
         "y": [
          1981,
          1983,
          1984,
          1985,
          1988,
          1990,
          1992,
          1993,
          1997,
          2001,
          2002,
          2004,
          2005,
          2006,
          2007,
          2008,
          2009,
          2010,
          2011,
          2012,
          2013,
          2014,
          2017
         ],
         "yaxis": "y"
        },
        {
         "hovertemplate": "Nation=Finnish<br>Count=%{x}<br>DateAcquired=%{y}<br>Females=%{marker.size}<extra></extra>",
         "legendgroup": "Finnish",
         "marker": {
          "color": "#19d3f3",
          "size": [
           0,
           0,
           7,
           0,
           1,
           2,
           0,
           1,
           0
          ],
          "sizemode": "area",
          "sizeref": 1.2422222222222221,
          "symbol": "circle"
         },
         "mode": "markers",
         "name": "Finnish",
         "showlegend": true,
         "type": "scattergl",
         "x": [
          1,
          1,
          7,
          1,
          1,
          22,
          2,
          1,
          1
         ],
         "xaxis": "x",
         "y": [
          1986,
          1993,
          1996,
          2000,
          2004,
          2005,
          2006,
          2010,
          2013
         ],
         "yaxis": "y"
        },
        {
         "hovertemplate": "Nation=Korean<br>Count=%{x}<br>DateAcquired=%{y}<br>Females=%{marker.size}<extra></extra>",
         "legendgroup": "Korean",
         "marker": {
          "color": "#FF6692",
          "size": [
           0,
           0,
           0,
           1,
           0,
           6,
           1,
           19,
           0,
           2,
           0,
           1,
           0,
           0,
           0
          ],
          "sizemode": "area",
          "sizeref": 1.2422222222222221,
          "symbol": "circle"
         },
         "mode": "markers",
         "name": "Korean",
         "showlegend": true,
         "type": "scattergl",
         "x": [
          2,
          1,
          2,
          4,
          1,
          9,
          1,
          24,
          1,
          3,
          1,
          4,
          2,
          10,
          2
         ],
         "xaxis": "x",
         "y": [
          2000,
          2001,
          2002,
          2003,
          2004,
          2005,
          2006,
          2010,
          2011,
          2012,
          2013,
          2014,
          2015,
          2016,
          2017
         ],
         "yaxis": "y"
        },
        {
         "hovertemplate": "Nation=Luxembourgish<br>Count=%{x}<br>DateAcquired=%{y}<br>Females=%{marker.size}<extra></extra>",
         "legendgroup": "Luxembourgish",
         "marker": {
          "color": "#B6E880",
          "size": [
           0,
           0,
           0,
           0
          ],
          "sizemode": "area",
          "sizeref": 1.2422222222222221,
          "symbol": "circle"
         },
         "mode": "markers",
         "name": "Luxembourgish",
         "showlegend": true,
         "type": "scattergl",
         "x": [
          1,
          9,
          1,
          20
         ],
         "xaxis": "x",
         "y": [
          1984,
          1985,
          1994,
          2006
         ],
         "yaxis": "y"
        },
        {
         "hovertemplate": "Nation=Ghanaian<br>Count=%{x}<br>DateAcquired=%{y}<br>Females=%{marker.size}<extra></extra>",
         "legendgroup": "Ghanaian",
         "marker": {
          "color": "#FF97FF",
          "size": [
           0,
           0
          ],
          "sizemode": "area",
          "sizeref": 1.2422222222222221,
          "symbol": "circle"
         },
         "mode": "markers",
         "name": "Ghanaian",
         "showlegend": true,
         "type": "scattergl",
         "x": [
          1,
          1
         ],
         "xaxis": "x",
         "y": [
          2007,
          2008
         ],
         "yaxis": "y"
        },
        {
         "hovertemplate": "Nation=British<br>Count=%{x}<br>DateAcquired=%{y}<br>Females=%{marker.size}<extra></extra>",
         "legendgroup": "British",
         "marker": {
          "color": "#FECB52",
          "size": [
           0,
           2,
           0,
           0,
           0,
           0,
           0,
           4,
           1,
           1,
           0,
           2,
           2,
           1,
           4,
           35,
           4,
           3,
           7,
           11,
           10,
           4,
           7,
           15,
           39,
           16,
           19,
           4,
           1,
           1,
           6,
           4,
           8,
           86,
           2,
           13,
           6,
           7,
           2
          ],
          "sizemode": "area",
          "sizeref": 1.2422222222222221,
          "symbol": "circle"
         },
         "mode": "markers",
         "name": "British",
         "showlegend": true,
         "type": "scattergl",
         "x": [
          4,
          7,
          7,
          7,
          15,
          20,
          54,
          59,
          8,
          28,
          37,
          21,
          19,
          19,
          22,
          49,
          34,
          21,
          85,
          18,
          38,
          61,
          39,
          28,
          149,
          92,
          55,
          24,
          14,
          13,
          113,
          26,
          42,
          164,
          56,
          45,
          11,
          22,
          7
         ],
         "xaxis": "x",
         "y": [
          1981,
          1982,
          1983,
          1984,
          1985,
          1986,
          1987,
          1988,
          1989,
          1990,
          1991,
          1992,
          1993,
          1994,
          1995,
          1996,
          1997,
          1998,
          1999,
          2000,
          2001,
          2002,
          2003,
          2004,
          2005,
          2006,
          2007,
          2008,
          2009,
          2010,
          2011,
          2012,
          2013,
          2014,
          2015,
          2016,
          2017,
          2018,
          2019
         ],
         "yaxis": "y"
        },
        {
         "hovertemplate": "Nation=Ukrainian<br>Count=%{x}<br>DateAcquired=%{y}<br>Females=%{marker.size}<extra></extra>",
         "legendgroup": "Ukrainian",
         "marker": {
          "color": "#636efa",
          "size": [
           0,
           0,
           0,
           0
          ],
          "sizemode": "area",
          "sizeref": 1.2422222222222221,
          "symbol": "circle"
         },
         "mode": "markers",
         "name": "Ukrainian",
         "showlegend": true,
         "type": "scattergl",
         "x": [
          1,
          17,
          1,
          9
         ],
         "xaxis": "x",
         "y": [
          1984,
          1993,
          1998,
          2001
         ],
         "yaxis": "y"
        },
        {
         "hovertemplate": "Nation=American<br>Count=%{x}<br>DateAcquired=%{y}<br>Females=%{marker.size}<extra></extra>",
         "legendgroup": "American",
         "marker": {
          "color": "#EF553B",
          "size": [
           18,
           12,
           15,
           41,
           57,
           34,
           48,
           48,
           53,
           77,
           82,
           77,
           86,
           313,
           182,
           48,
           216,
           207,
           92,
           109,
           110,
           82,
           83,
           43,
           132,
           480,
           132,
           112,
           1118,
           213,
           189,
           168,
           825,
           128,
           58,
           128,
           224,
           126,
           124,
           34,
           16
          ],
          "sizemode": "area",
          "sizeref": 1.2422222222222221,
          "symbol": "circle"
         },
         "mode": "markers",
         "name": "American",
         "showlegend": true,
         "type": "scattergl",
         "x": [
          49,
          139,
          108,
          367,
          283,
          192,
          380,
          250,
          390,
          268,
          362,
          333,
          280,
          542,
          324,
          181,
          425,
          323,
          269,
          209,
          542,
          354,
          177,
          157,
          247,
          1747,
          564,
          300,
          1371,
          374,
          383,
          378,
          1060,
          762,
          683,
          577,
          529,
          292,
          375,
          281,
          102
         ],
         "xaxis": "x",
         "y": [
          1980,
          1981,
          1982,
          1983,
          1984,
          1985,
          1986,
          1987,
          1988,
          1989,
          1990,
          1991,
          1992,
          1993,
          1994,
          1995,
          1996,
          1997,
          1998,
          1999,
          2000,
          2001,
          2002,
          2003,
          2004,
          2005,
          2006,
          2007,
          2008,
          2009,
          2010,
          2011,
          2012,
          2013,
          2014,
          2015,
          2016,
          2017,
          2018,
          2019,
          2020
         ],
         "yaxis": "y"
        },
        {
         "hovertemplate": "Nation=Austrian<br>Count=%{x}<br>DateAcquired=%{y}<br>Females=%{marker.size}<extra></extra>",
         "legendgroup": "Austrian",
         "marker": {
          "color": "#00cc96",
          "size": [
           0,
           0,
           0,
           0,
           0,
           0,
           0,
           0,
           0,
           0,
           0,
           0,
           0,
           0,
           1,
           2,
           5,
           21,
           0,
           0,
           1,
           5,
           10,
           1,
           1,
           0,
           0,
           6
          ],
          "sizemode": "area",
          "sizeref": 1.2422222222222221,
          "symbol": "circle"
         },
         "mode": "markers",
         "name": "Austrian",
         "showlegend": true,
         "type": "scattergl",
         "x": [
          3,
          1,
          1,
          2,
          3,
          1,
          10,
          1,
          1,
          1,
          3,
          8,
          2,
          1,
          1,
          2,
          70,
          74,
          3,
          7,
          1,
          6,
          13,
          2,
          1,
          2,
          2,
          12
         ],
         "xaxis": "x",
         "y": [
          1982,
          1983,
          1985,
          1986,
          1987,
          1988,
          1990,
          1992,
          1993,
          1994,
          1996,
          1997,
          1998,
          1999,
          2001,
          2002,
          2005,
          2006,
          2007,
          2008,
          2010,
          2011,
          2012,
          2014,
          2015,
          2016,
          2017,
          2018
         ],
         "yaxis": "y"
        },
        {
         "hovertemplate": "Nation=Emirati<br>Count=%{x}<br>DateAcquired=%{y}<br>Females=%{marker.size}<extra></extra>",
         "legendgroup": "Emirati",
         "marker": {
          "color": "#ab63fa",
          "size": [
           5
          ],
          "sizemode": "area",
          "sizeref": 1.2422222222222221,
          "symbol": "circle"
         },
         "mode": "markers",
         "name": "Emirati",
         "showlegend": true,
         "type": "scattergl",
         "x": [
          5
         ],
         "xaxis": "x",
         "y": [
          2019
         ],
         "yaxis": "y"
        },
        {
         "hovertemplate": "Nation=Dutch<br>Count=%{x}<br>DateAcquired=%{y}<br>Females=%{marker.size}<extra></extra>",
         "legendgroup": "Dutch",
         "marker": {
          "color": "#FFA15A",
          "size": [
           0,
           0,
           0,
           2,
           3,
           0,
           0,
           0,
           1,
           0,
           9,
           2,
           0,
           0,
           5,
           0,
           1,
           3,
           15,
           6,
           28,
           1,
           3,
           0,
           4,
           5,
           4,
           15,
           0,
           1,
           0,
           0,
           1,
           1
          ],
          "sizemode": "area",
          "sizeref": 1.2422222222222221,
          "symbol": "circle"
         },
         "mode": "markers",
         "name": "Dutch",
         "showlegend": true,
         "type": "scattergl",
         "x": [
          9,
          6,
          1,
          5,
          3,
          18,
          1,
          2,
          1,
          1,
          26,
          18,
          4,
          1,
          8,
          8,
          2,
          4,
          33,
          11,
          86,
          17,
          4,
          4,
          7,
          8,
          6,
          17,
          7,
          2,
          1,
          2,
          8,
          1
         ],
         "xaxis": "x",
         "y": [
          1981,
          1985,
          1986,
          1987,
          1988,
          1989,
          1990,
          1992,
          1993,
          1995,
          1996,
          1997,
          1998,
          2000,
          2001,
          2002,
          2003,
          2004,
          2005,
          2006,
          2007,
          2008,
          2009,
          2010,
          2011,
          2012,
          2013,
          2014,
          2015,
          2016,
          2017,
          2018,
          2019,
          2020
         ],
         "yaxis": "y"
        },
        {
         "hovertemplate": "Nation=Spanish<br>Count=%{x}<br>DateAcquired=%{y}<br>Females=%{marker.size}<extra></extra>",
         "legendgroup": "Spanish",
         "marker": {
          "color": "#19d3f3",
          "size": [
           0,
           0,
           0,
           1,
           0,
           5,
           0,
           0,
           0,
           1,
           0,
           0,
           0,
           0,
           0,
           0,
           0,
           0,
           1,
           13,
           3,
           0,
           0,
           0,
           0,
           9,
           0,
           0
          ],
          "sizemode": "area",
          "sizeref": 1.2422222222222221,
          "symbol": "circle"
         },
         "mode": "markers",
         "name": "Spanish",
         "showlegend": true,
         "type": "scattergl",
         "x": [
          6,
          8,
          16,
          20,
          1,
          8,
          118,
          10,
          35,
          56,
          8,
          2,
          4,
          2,
          10,
          6,
          4,
          1,
          3,
          31,
          10,
          1,
          2,
          1,
          34,
          30,
          2,
          2
         ],
         "xaxis": "x",
         "y": [
          1983,
          1985,
          1986,
          1987,
          1988,
          1989,
          1990,
          1991,
          1992,
          1993,
          1994,
          1995,
          1996,
          1997,
          1998,
          1999,
          2000,
          2001,
          2004,
          2005,
          2006,
          2007,
          2008,
          2012,
          2013,
          2015,
          2017,
          2018
         ],
         "yaxis": "y"
        },
        {
         "hovertemplate": "Nation=Bosnian<br>Count=%{x}<br>DateAcquired=%{y}<br>Females=%{marker.size}<extra></extra>",
         "legendgroup": "Bosnian",
         "marker": {
          "color": "#FF6692",
          "size": [
           0,
           2,
           1
          ],
          "sizemode": "area",
          "sizeref": 1.2422222222222221,
          "symbol": "circle"
         },
         "mode": "markers",
         "name": "Bosnian",
         "showlegend": true,
         "type": "scattergl",
         "x": [
          1,
          2,
          1
         ],
         "xaxis": "x",
         "y": [
          2001,
          2006,
          2010
         ],
         "yaxis": "y"
        },
        {
         "hovertemplate": "Nation=Scottish<br>Count=%{x}<br>DateAcquired=%{y}<br>Females=%{marker.size}<extra></extra>",
         "legendgroup": "Scottish",
         "marker": {
          "color": "#B6E880",
          "size": [
           0,
           0,
           11,
           0,
           0,
           0,
           0
          ],
          "sizemode": "area",
          "sizeref": 1.2422222222222221,
          "symbol": "circle"
         },
         "mode": "markers",
         "name": "Scottish",
         "showlegend": true,
         "type": "scattergl",
         "x": [
          1,
          1,
          26,
          7,
          1,
          1,
          13
         ],
         "xaxis": "x",
         "y": [
          1998,
          2001,
          2005,
          2006,
          2007,
          2008,
          2012
         ],
         "yaxis": "y"
        },
        {
         "hovertemplate": "Nation=Iranian<br>Count=%{x}<br>DateAcquired=%{y}<br>Females=%{marker.size}<extra></extra>",
         "legendgroup": "Iranian",
         "marker": {
          "color": "#FF97FF",
          "size": [
           0,
           1,
           2,
           2,
           0
          ],
          "sizemode": "area",
          "sizeref": 1.2422222222222221,
          "symbol": "circle"
         },
         "mode": "markers",
         "name": "Iranian",
         "showlegend": true,
         "type": "scattergl",
         "x": [
          2,
          1,
          2,
          2,
          1
         ],
         "xaxis": "x",
         "y": [
          1996,
          2000,
          2007,
          2011,
          2013
         ],
         "yaxis": "y"
        },
        {
         "hovertemplate": "Nation=Native American<br>Count=%{x}<br>DateAcquired=%{y}<br>Females=%{marker.size}<extra></extra>",
         "legendgroup": "Native American",
         "marker": {
          "color": "#FECB52",
          "size": [
           0,
           0
          ],
          "sizemode": "area",
          "sizeref": 1.2422222222222221,
          "symbol": "circle"
         },
         "mode": "markers",
         "name": "Native American",
         "showlegend": true,
         "type": "scattergl",
         "x": [
          1,
          1
         ],
         "xaxis": "x",
         "y": [
          1981,
          1986
         ],
         "yaxis": "y"
        },
        {
         "hovertemplate": "Nation=Lithuanian<br>Count=%{x}<br>DateAcquired=%{y}<br>Females=%{marker.size}<extra></extra>",
         "legendgroup": "Lithuanian",
         "marker": {
          "color": "#636efa",
          "size": [
           0,
           0,
           0
          ],
          "sizemode": "area",
          "sizeref": 1.2422222222222221,
          "symbol": "circle"
         },
         "mode": "markers",
         "name": "Lithuanian",
         "showlegend": true,
         "type": "scattergl",
         "x": [
          2,
          1,
          1
         ],
         "xaxis": "x",
         "y": [
          2006,
          2008,
          2011
         ],
         "yaxis": "y"
        },
        {
         "hovertemplate": "Nation=Swedish<br>Count=%{x}<br>DateAcquired=%{y}<br>Females=%{marker.size}<extra></extra>",
         "legendgroup": "Swedish",
         "marker": {
          "color": "#EF553B",
          "size": [
           0,
           0,
           1,
           0,
           0,
           0,
           1,
           0,
           0,
           0,
           4,
           3,
           2,
           2,
           1,
           1
          ],
          "sizemode": "area",
          "sizeref": 1.2422222222222221,
          "symbol": "circle"
         },
         "mode": "markers",
         "name": "Swedish",
         "showlegend": true,
         "type": "scattergl",
         "x": [
          1,
          2,
          1,
          1,
          1,
          3,
          1,
          3,
          3,
          1,
          4,
          3,
          2,
          3,
          4,
          2
         ],
         "xaxis": "x",
         "y": [
          1981,
          1983,
          1988,
          1989,
          1995,
          2001,
          2002,
          2004,
          2005,
          2006,
          2008,
          2009,
          2012,
          2013,
          2016,
          2017
         ],
         "yaxis": "y"
        },
        {
         "hovertemplate": "Nation=Mexican<br>Count=%{x}<br>DateAcquired=%{y}<br>Females=%{marker.size}<extra></extra>",
         "legendgroup": "Mexican",
         "marker": {
          "color": "#00cc96",
          "size": [
           0,
           0,
           2,
           1,
           1,
           0,
           0,
           4,
           0,
           13,
           0,
           0,
           0,
           0,
           7,
           0,
           0,
           0,
           0,
           1,
           0,
           5,
           0,
           0,
           8,
           4,
           16,
           5
          ],
          "sizemode": "area",
          "sizeref": 1.2422222222222221,
          "symbol": "circle"
         },
         "mode": "markers",
         "name": "Mexican",
         "showlegend": true,
         "type": "scattergl",
         "x": [
          1,
          6,
          5,
          4,
          2,
          3,
          1,
          4,
          7,
          13,
          1,
          1,
          9,
          19,
          15,
          1,
          3,
          13,
          3,
          7,
          1,
          17,
          5,
          31,
          11,
          10,
          16,
          5
         ],
         "xaxis": "x",
         "y": [
          1981,
          1985,
          1986,
          1990,
          1994,
          1995,
          1997,
          1998,
          1999,
          2000,
          2001,
          2002,
          2004,
          2005,
          2006,
          2007,
          2008,
          2009,
          2010,
          2011,
          2012,
          2013,
          2014,
          2015,
          2016,
          2017,
          2018,
          2020
         ],
         "yaxis": "y"
        },
        {
         "hovertemplate": "Nation=German<br>Count=%{x}<br>DateAcquired=%{y}<br>Females=%{marker.size}<extra></extra>",
         "legendgroup": "German",
         "marker": {
          "color": "#ab63fa",
          "size": [
           1,
           0,
           0,
           3,
           0,
           6,
           1,
           0,
           2,
           5,
           4,
           0,
           0,
           17,
           12,
           3,
           3,
           7,
           7,
           1,
           2,
           3,
           1,
           6,
           56,
           7,
           9,
           16,
           5,
           7,
           7,
           16,
           14,
           12,
           108,
           12,
           27,
           4,
           6
          ],
          "sizemode": "area",
          "sizeref": 1.2422222222222221,
          "symbol": "circle"
         },
         "mode": "markers",
         "name": "German",
         "showlegend": true,
         "type": "scattergl",
         "x": [
          8,
          23,
          20,
          35,
          56,
          27,
          34,
          45,
          71,
          110,
          37,
          64,
          59,
          32,
          27,
          41,
          33,
          222,
          64,
          22,
          66,
          13,
          16,
          18,
          373,
          67,
          27,
          36,
          7,
          15,
          237,
          83,
          24,
          40,
          253,
          123,
          46,
          18,
          9
         ],
         "xaxis": "x",
         "y": [
          1981,
          1982,
          1983,
          1984,
          1985,
          1986,
          1987,
          1988,
          1989,
          1990,
          1991,
          1992,
          1993,
          1994,
          1995,
          1996,
          1997,
          1998,
          1999,
          2000,
          2001,
          2002,
          2003,
          2004,
          2005,
          2006,
          2007,
          2008,
          2009,
          2010,
          2011,
          2012,
          2013,
          2014,
          2015,
          2016,
          2017,
          2018,
          2019
         ],
         "yaxis": "y"
        },
        {
         "hovertemplate": "Nation=Moroccan<br>Count=%{x}<br>DateAcquired=%{y}<br>Females=%{marker.size}<extra></extra>",
         "legendgroup": "Moroccan",
         "marker": {
          "color": "#FFA15A",
          "size": [
           0,
           1,
           2,
           1
          ],
          "sizemode": "area",
          "sizeref": 1.2422222222222221,
          "symbol": "circle"
         },
         "mode": "markers",
         "name": "Moroccan",
         "showlegend": true,
         "type": "scattergl",
         "x": [
          1,
          1,
          2,
          1
         ],
         "xaxis": "x",
         "y": [
          1986,
          2012,
          2013,
          2014
         ],
         "yaxis": "y"
        },
        {
         "hovertemplate": "Nation=French<br>Count=%{x}<br>DateAcquired=%{y}<br>Females=%{marker.size}<extra></extra>",
         "legendgroup": "French",
         "marker": {
          "color": "#19d3f3",
          "size": [
           0,
           0,
           12,
           0,
           1,
           0,
           0,
           0,
           3,
           0,
           0,
           1,
           2,
           0,
           0,
           4,
           0,
           3,
           0,
           0,
           0,
           1,
           0,
           0,
           1,
           1,
           1,
           0,
           4,
           0,
           0,
           2,
           0,
           3,
           4,
           7,
           1,
           33,
           2,
           1
          ],
          "sizemode": "area",
          "sizeref": 1.2422222222222221,
          "symbol": "circle"
         },
         "mode": "markers",
         "name": "French",
         "showlegend": true,
         "type": "scattergl",
         "x": [
          5,
          23,
          13,
          3,
          20,
          37,
          4,
          4,
          21,
          12,
          5,
          1,
          28,
          9,
          35,
          7,
          2,
          7,
          20,
          266,
          77,
          3,
          1,
          3,
          2,
          27,
          29,
          29,
          40,
          2,
          4,
          17,
          25,
          31,
          14,
          16,
          18,
          34,
          9,
          1
         ],
         "xaxis": "x",
         "y": [
          1980,
          1981,
          1982,
          1983,
          1984,
          1985,
          1986,
          1987,
          1988,
          1989,
          1990,
          1991,
          1992,
          1993,
          1994,
          1995,
          1996,
          1997,
          1998,
          1999,
          2000,
          2001,
          2002,
          2003,
          2004,
          2005,
          2006,
          2007,
          2008,
          2009,
          2010,
          2011,
          2012,
          2013,
          2014,
          2015,
          2016,
          2017,
          2018,
          2019
         ],
         "yaxis": "y"
        },
        {
         "hovertemplate": "Nation=missing<br>Count=%{x}<br>DateAcquired=%{y}<br>Females=%{marker.size}<extra></extra>",
         "legendgroup": "missing",
         "marker": {
          "color": "#FF6692",
          "size": [
           0,
           0,
           1,
           0,
           0,
           0,
           0,
           0,
           1,
           0,
           0,
           0,
           3,
           0,
           0,
           0,
           0,
           0,
           28,
           2,
           0,
           0,
           0,
           0,
           0,
           8,
           0,
           3,
           0,
           0,
           0,
           0,
           0
          ],
          "sizemode": "area",
          "sizeref": 1.2422222222222221,
          "symbol": "circle"
         },
         "mode": "markers",
         "name": "missing",
         "showlegend": true,
         "type": "scattergl",
         "x": [
          1,
          1,
          3,
          1,
          2,
          2,
          1,
          2,
          21,
          1,
          3,
          49,
          9,
          2,
          2,
          3,
          1,
          17,
          97,
          26,
          34,
          48,
          18,
          1,
          35,
          90,
          16,
          39,
          7,
          5,
          6,
          5,
          4
         ],
         "xaxis": "x",
         "y": [
          1985,
          1986,
          1988,
          1989,
          1990,
          1992,
          1993,
          1994,
          1995,
          1996,
          1997,
          1998,
          1999,
          2000,
          2001,
          2002,
          2003,
          2005,
          2006,
          2007,
          2008,
          2009,
          2010,
          2011,
          2012,
          2013,
          2014,
          2015,
          2016,
          2017,
          2018,
          2019,
          2020
         ],
         "yaxis": "y"
        },
        {
         "hovertemplate": "Nation=Croatian<br>Count=%{x}<br>DateAcquired=%{y}<br>Females=%{marker.size}<extra></extra>",
         "legendgroup": "Croatian",
         "marker": {
          "color": "#B6E880",
          "size": [
           0,
           3,
           0,
           4,
           0,
           0
          ],
          "sizemode": "area",
          "sizeref": 1.2422222222222221,
          "symbol": "circle"
         },
         "mode": "markers",
         "name": "Croatian",
         "showlegend": true,
         "type": "scattergl",
         "x": [
          33,
          3,
          12,
          14,
          1,
          1
         ],
         "xaxis": "x",
         "y": [
          2001,
          2006,
          2007,
          2011,
          2014,
          2015
         ],
         "yaxis": "y"
        },
        {
         "hovertemplate": "Nation=Taiwanese<br>Count=%{x}<br>DateAcquired=%{y}<br>Females=%{marker.size}<extra></extra>",
         "legendgroup": "Taiwanese",
         "marker": {
          "color": "#FF97FF",
          "size": [
           1
          ],
          "sizemode": "area",
          "sizeref": 1.2422222222222221,
          "symbol": "circle"
         },
         "mode": "markers",
         "name": "Taiwanese",
         "showlegend": true,
         "type": "scattergl",
         "x": [
          1
         ],
         "xaxis": "x",
         "y": [
          2000
         ],
         "yaxis": "y"
        },
        {
         "hovertemplate": "Nation=New Zealander<br>Count=%{x}<br>DateAcquired=%{y}<br>Females=%{marker.size}<extra></extra>",
         "legendgroup": "New Zealander",
         "marker": {
          "color": "#FECB52",
          "size": [
           0,
           0,
           0
          ],
          "sizemode": "area",
          "sizeref": 1.2422222222222221,
          "symbol": "circle"
         },
         "mode": "markers",
         "name": "New Zealander",
         "showlegend": true,
         "type": "scattergl",
         "x": [
          1,
          3,
          1
         ],
         "xaxis": "x",
         "y": [
          2013,
          2014,
          2016
         ],
         "yaxis": "y"
        },
        {
         "hovertemplate": "Nation=Icelandic<br>Count=%{x}<br>DateAcquired=%{y}<br>Females=%{marker.size}<extra></extra>",
         "legendgroup": "Icelandic",
         "marker": {
          "color": "#636efa",
          "size": [
           1,
           2,
           6,
           0,
           0,
           0,
           0,
           0,
           0
          ],
          "sizemode": "area",
          "sizeref": 1.2422222222222221,
          "symbol": "circle"
         },
         "mode": "markers",
         "name": "Icelandic",
         "showlegend": true,
         "type": "scattergl",
         "x": [
          1,
          2,
          6,
          1,
          3,
          1,
          1,
          1,
          2
         ],
         "xaxis": "x",
         "y": [
          1980,
          1983,
          2000,
          2003,
          2006,
          2008,
          2011,
          2013,
          2015
         ],
         "yaxis": "y"
        },
        {
         "hovertemplate": "Nation=Hungarian<br>Count=%{x}<br>DateAcquired=%{y}<br>Females=%{marker.size}<extra></extra>",
         "legendgroup": "Hungarian",
         "marker": {
          "color": "#EF553B",
          "size": [
           0,
           0,
           0,
           0,
           0,
           0,
           0,
           0,
           0,
           1,
           0
          ],
          "sizemode": "area",
          "sizeref": 1.2422222222222221,
          "symbol": "circle"
         },
         "mode": "markers",
         "name": "Hungarian",
         "showlegend": true,
         "type": "scattergl",
         "x": [
          1,
          1,
          1,
          1,
          8,
          2,
          1,
          3,
          2,
          1,
          18
         ],
         "xaxis": "x",
         "y": [
          1981,
          1984,
          1988,
          1995,
          1998,
          2000,
          2001,
          2006,
          2012,
          2013,
          2015
         ],
         "yaxis": "y"
        },
        {
         "hovertemplate": "Nation=Congolese<br>Count=%{x}<br>DateAcquired=%{y}<br>Females=%{marker.size}<extra></extra>",
         "legendgroup": "Congolese",
         "marker": {
          "color": "#00cc96",
          "size": [
           0
          ],
          "sizemode": "area",
          "sizeref": 1.2422222222222221,
          "symbol": "circle"
         },
         "mode": "markers",
         "name": "Congolese",
         "showlegend": true,
         "type": "scattergl",
         "x": [
          1
         ],
         "xaxis": "x",
         "y": [
          2002
         ],
         "yaxis": "y"
        },
        {
         "hovertemplate": "Nation=Swiss<br>Count=%{x}<br>DateAcquired=%{y}<br>Females=%{marker.size}<extra></extra>",
         "legendgroup": "Swiss",
         "marker": {
          "color": "#ab63fa",
          "size": [
           0,
           0,
           0,
           1,
           24,
           1,
           0,
           0,
           0,
           0,
           0,
           0,
           0,
           0,
           0,
           0,
           1,
           3,
           0,
           2,
           0,
           0,
           0,
           6,
           0,
           1,
           12,
           1,
           2,
           1,
           0,
           1,
           11,
           6,
           6,
           1,
           7
          ],
          "sizemode": "area",
          "sizeref": 1.2422222222222221,
          "symbol": "circle"
         },
         "mode": "markers",
         "name": "Swiss",
         "showlegend": true,
         "type": "scattergl",
         "x": [
          6,
          1,
          1,
          1,
          26,
          13,
          35,
          23,
          1,
          13,
          2,
          2,
          35,
          5,
          2,
          3,
          16,
          9,
          7,
          3,
          2,
          22,
          1,
          57,
          13,
          195,
          23,
          5,
          6,
          11,
          13,
          36,
          24,
          12,
          7,
          2,
          103
         ],
         "xaxis": "x",
         "y": [
          1981,
          1982,
          1983,
          1984,
          1985,
          1986,
          1987,
          1988,
          1989,
          1990,
          1991,
          1992,
          1993,
          1994,
          1995,
          1996,
          1997,
          1998,
          1999,
          2000,
          2001,
          2003,
          2004,
          2005,
          2006,
          2007,
          2008,
          2009,
          2010,
          2011,
          2012,
          2013,
          2014,
          2015,
          2016,
          2017,
          2018
         ],
         "yaxis": "y"
        },
        {
         "hovertemplate": "Nation=Argentine<br>Count=%{x}<br>DateAcquired=%{y}<br>Females=%{marker.size}<extra></extra>",
         "legendgroup": "Argentine",
         "marker": {
          "color": "#FFA15A",
          "size": [
           0,
           0,
           1,
           0,
           0,
           0,
           0,
           0,
           1,
           0,
           0,
           1,
           0,
           0,
           0,
           0,
           0,
           0,
           1,
           0,
           2,
           0
          ],
          "sizemode": "area",
          "sizeref": 1.2422222222222221,
          "symbol": "circle"
         },
         "mode": "markers",
         "name": "Argentine",
         "showlegend": true,
         "type": "scattergl",
         "x": [
          3,
          1,
          1,
          1,
          1,
          1,
          2,
          1,
          1,
          1,
          14,
          5,
          15,
          121,
          2,
          6,
          5,
          5,
          3,
          10,
          12,
          19
         ],
         "xaxis": "x",
         "y": [
          1986,
          1987,
          1992,
          1993,
          1994,
          1995,
          1996,
          1999,
          2000,
          2002,
          2003,
          2005,
          2006,
          2007,
          2008,
          2009,
          2011,
          2013,
          2014,
          2016,
          2017,
          2018
         ],
         "yaxis": "y"
        },
        {
         "hovertemplate": "Nation=Greek<br>Count=%{x}<br>DateAcquired=%{y}<br>Females=%{marker.size}<extra></extra>",
         "legendgroup": "Greek",
         "marker": {
          "color": "#19d3f3",
          "size": [
           0,
           0,
           0,
           0,
           0
          ],
          "sizemode": "area",
          "sizeref": 1.2422222222222221,
          "symbol": "circle"
         },
         "mode": "markers",
         "name": "Greek",
         "showlegend": true,
         "type": "scattergl",
         "x": [
          3,
          1,
          1,
          1,
          1
         ],
         "xaxis": "x",
         "y": [
          1989,
          1998,
          1999,
          2005,
          2014
         ],
         "yaxis": "y"
        },
        {
         "hovertemplate": "Nation=Canadian<br>Count=%{x}<br>DateAcquired=%{y}<br>Females=%{marker.size}<extra></extra>",
         "legendgroup": "Canadian",
         "marker": {
          "color": "#FF6692",
          "size": [
           1,
           1,
           1,
           1,
           8,
           0,
           0,
           0,
           0,
           0,
           1,
           1,
           1,
           0,
           0,
           3,
           1,
           1,
           0,
           11,
           0,
           0,
           0,
           0,
           3,
           0,
           1,
           6,
           0,
           0,
           0,
           1,
           18
          ],
          "sizemode": "area",
          "sizeref": 1.2422222222222221,
          "symbol": "circle"
         },
         "mode": "markers",
         "name": "Canadian",
         "showlegend": true,
         "type": "scattergl",
         "x": [
          2,
          4,
          1,
          5,
          21,
          4,
          1,
          2,
          1,
          1,
          7,
          2,
          3,
          102,
          7,
          3,
          2,
          5,
          42,
          95,
          13,
          2,
          38,
          1,
          7,
          5,
          69,
          6,
          19,
          4,
          3,
          11,
          18
         ],
         "xaxis": "x",
         "y": [
          1982,
          1984,
          1985,
          1987,
          1988,
          1989,
          1990,
          1991,
          1992,
          1993,
          1995,
          1997,
          1998,
          1999,
          2000,
          2001,
          2002,
          2003,
          2004,
          2005,
          2006,
          2007,
          2008,
          2009,
          2011,
          2012,
          2013,
          2014,
          2015,
          2016,
          2017,
          2018,
          2019
         ],
         "yaxis": "y"
        },
        {
         "hovertemplate": "Nation=Nationality unknown<br>Count=%{x}<br>DateAcquired=%{y}<br>Females=%{marker.size}<extra></extra>",
         "legendgroup": "Nationality unknown",
         "marker": {
          "color": "#B6E880",
          "size": [
           0,
           0,
           0,
           0,
           1,
           0,
           0,
           0
          ],
          "sizemode": "area",
          "sizeref": 1.2422222222222221,
          "symbol": "circle"
         },
         "mode": "markers",
         "name": "Nationality unknown",
         "showlegend": true,
         "type": "scattergl",
         "x": [
          1,
          1,
          1,
          1,
          3,
          1,
          49,
          4
         ],
         "xaxis": "x",
         "y": [
          1985,
          1994,
          1996,
          1998,
          2001,
          2010,
          2012,
          2015
         ],
         "yaxis": "y"
        },
        {
         "hovertemplate": "Nation=Venezuelan<br>Count=%{x}<br>DateAcquired=%{y}<br>Females=%{marker.size}<extra></extra>",
         "legendgroup": "Venezuelan",
         "marker": {
          "color": "#FF97FF",
          "size": [
           0,
           1,
           2,
           0,
           0,
           0,
           0,
           4
          ],
          "sizemode": "area",
          "sizeref": 1.2422222222222221,
          "symbol": "circle"
         },
         "mode": "markers",
         "name": "Venezuelan",
         "showlegend": true,
         "type": "scattergl",
         "x": [
          12,
          1,
          3,
          4,
          3,
          3,
          10,
          4
         ],
         "xaxis": "x",
         "y": [
          2002,
          2004,
          2005,
          2007,
          2010,
          2014,
          2015,
          2016
         ],
         "yaxis": "y"
        },
        {
         "hovertemplate": "Nation=Turkish<br>Count=%{x}<br>DateAcquired=%{y}<br>Females=%{marker.size}<extra></extra>",
         "legendgroup": "Turkish",
         "marker": {
          "color": "#FECB52",
          "size": [
           1,
           0,
           3,
           0,
           0,
           0,
           2
          ],
          "sizemode": "area",
          "sizeref": 1.2422222222222221,
          "symbol": "circle"
         },
         "mode": "markers",
         "name": "Turkish",
         "showlegend": true,
         "type": "scattergl",
         "x": [
          1,
          1,
          8,
          2,
          7,
          2,
          2
         ],
         "xaxis": "x",
         "y": [
          2001,
          2004,
          2006,
          2011,
          2012,
          2014,
          2016
         ],
         "yaxis": "y"
        },
        {
         "hovertemplate": "Nation=Kenyan<br>Count=%{x}<br>DateAcquired=%{y}<br>Females=%{marker.size}<extra></extra>",
         "legendgroup": "Kenyan",
         "marker": {
          "color": "#636efa",
          "size": [
           2,
           9
          ],
          "sizemode": "area",
          "sizeref": 1.2422222222222221,
          "symbol": "circle"
         },
         "mode": "markers",
         "name": "Kenyan",
         "showlegend": true,
         "type": "scattergl",
         "x": [
          2,
          9
         ],
         "xaxis": "x",
         "y": [
          2005,
          2007
         ],
         "yaxis": "y"
        },
        {
         "hovertemplate": "Nation=Egyptian<br>Count=%{x}<br>DateAcquired=%{y}<br>Females=%{marker.size}<extra></extra>",
         "legendgroup": "Egyptian",
         "marker": {
          "color": "#EF553B",
          "size": [
           0,
           0,
           1,
           0,
           0,
           0
          ],
          "sizemode": "area",
          "sizeref": 1.2422222222222221,
          "symbol": "circle"
         },
         "mode": "markers",
         "name": "Egyptian",
         "showlegend": true,
         "type": "scattergl",
         "x": [
          1,
          2,
          1,
          7,
          1,
          29
         ],
         "xaxis": "x",
         "y": [
          2005,
          2006,
          2007,
          2012,
          2014,
          2015
         ],
         "yaxis": "y"
        },
        {
         "hovertemplate": "Nation=Norwegian<br>Count=%{x}<br>DateAcquired=%{y}<br>Females=%{marker.size}<extra></extra>",
         "legendgroup": "Norwegian",
         "marker": {
          "color": "#00cc96",
          "size": [
           0,
           0,
           2,
           0,
           1,
           0,
           0,
           1,
           0,
           3
          ],
          "sizemode": "area",
          "sizeref": 1.2422222222222221,
          "symbol": "circle"
         },
         "mode": "markers",
         "name": "Norwegian",
         "showlegend": true,
         "type": "scattergl",
         "x": [
          1,
          2,
          2,
          4,
          4,
          1,
          1,
          1,
          48,
          3
         ],
         "xaxis": "x",
         "y": [
          1982,
          1988,
          1990,
          1992,
          2005,
          2006,
          2007,
          2009,
          2012,
          2013
         ],
         "yaxis": "y"
        },
        {
         "hovertemplate": "Nation=Singaporean<br>Count=%{x}<br>DateAcquired=%{y}<br>Females=%{marker.size}<extra></extra>",
         "legendgroup": "Singaporean",
         "marker": {
          "color": "#ab63fa",
          "size": [
           0
          ],
          "sizemode": "area",
          "sizeref": 1.2422222222222221,
          "symbol": "circle"
         },
         "mode": "markers",
         "name": "Singaporean",
         "showlegend": true,
         "type": "scattergl",
         "x": [
          1
         ],
         "xaxis": "x",
         "y": [
          2006
         ],
         "yaxis": "y"
        },
        {
         "hovertemplate": "Nation=Japanese<br>Count=%{x}<br>DateAcquired=%{y}<br>Females=%{marker.size}<extra></extra>",
         "legendgroup": "Japanese",
         "marker": {
          "color": "#FFA15A",
          "size": [
           0,
           0,
           0,
           0,
           2,
           0,
           3,
           0,
           0,
           0,
           0,
           2,
           0,
           1,
           7,
           0,
           7,
           1,
           2,
           2,
           3,
           2,
           2,
           0,
           3,
           73,
           1,
           4,
           10,
           6,
           3,
           3,
           0,
           4,
           17,
           12,
           0,
           0,
           15,
           0
          ],
          "sizemode": "area",
          "sizeref": 1.2422222222222221,
          "symbol": "circle"
         },
         "mode": "markers",
         "name": "Japanese",
         "showlegend": true,
         "type": "scattergl",
         "x": [
          1,
          13,
          4,
          21,
          9,
          2,
          24,
          9,
          2,
          5,
          17,
          11,
          6,
          26,
          22,
          5,
          29,
          12,
          46,
          2,
          11,
          14,
          144,
          3,
          12,
          98,
          25,
          9,
          11,
          8,
          3,
          13,
          11,
          6,
          26,
          26,
          5,
          11,
          15,
          2
         ],
         "xaxis": "x",
         "y": [
          1980,
          1981,
          1982,
          1983,
          1984,
          1985,
          1986,
          1987,
          1988,
          1989,
          1990,
          1991,
          1992,
          1993,
          1994,
          1995,
          1996,
          1997,
          1998,
          1999,
          2000,
          2001,
          2002,
          2003,
          2004,
          2005,
          2006,
          2007,
          2008,
          2009,
          2010,
          2012,
          2013,
          2014,
          2015,
          2016,
          2017,
          2018,
          2019,
          2020
         ],
         "yaxis": "y"
        },
        {
         "hovertemplate": "Nation=Bulgarian<br>Count=%{x}<br>DateAcquired=%{y}<br>Females=%{marker.size}<extra></extra>",
         "legendgroup": "Bulgarian",
         "marker": {
          "color": "#19d3f3",
          "size": [
           0,
           0
          ],
          "sizemode": "area",
          "sizeref": 1.2422222222222221,
          "symbol": "circle"
         },
         "mode": "markers",
         "name": "Bulgarian",
         "showlegend": true,
         "type": "scattergl",
         "x": [
          4,
          2
         ],
         "xaxis": "x",
         "y": [
          2004,
          2005
         ],
         "yaxis": "y"
        },
        {
         "hovertemplate": "Nation=Australian<br>Count=%{x}<br>DateAcquired=%{y}<br>Females=%{marker.size}<extra></extra>",
         "legendgroup": "Australian",
         "marker": {
          "color": "#FF6692",
          "size": [
           0,
           0,
           0,
           0,
           0,
           0,
           0,
           0,
           0,
           0,
           1,
           0,
           0,
           1,
           11,
           1,
           0,
           0,
           0,
           0,
           1
          ],
          "sizemode": "area",
          "sizeref": 1.2422222222222221,
          "symbol": "circle"
         },
         "mode": "markers",
         "name": "Australian",
         "showlegend": true,
         "type": "scattergl",
         "x": [
          3,
          2,
          2,
          1,
          1,
          2,
          4,
          37,
          1,
          1,
          2,
          1,
          4,
          1,
          11,
          15,
          1,
          1,
          5,
          2,
          2
         ],
         "xaxis": "x",
         "y": [
          1981,
          1982,
          1983,
          1984,
          1985,
          1986,
          1987,
          1988,
          1990,
          1991,
          1996,
          1997,
          1998,
          1999,
          2000,
          2005,
          2006,
          2008,
          2010,
          2016,
          2019
         ],
         "yaxis": "y"
        }
       ],
       "layout": {
        "legend": {
         "itemsizing": "constant",
         "title": {
          "text": "Nation"
         },
         "tracegroupgap": 0
        },
        "template": {
         "data": {
          "bar": [
           {
            "error_x": {
             "color": "#2a3f5f"
            },
            "error_y": {
             "color": "#2a3f5f"
            },
            "marker": {
             "line": {
              "color": "#E5ECF6",
              "width": 0.5
             },
             "pattern": {
              "fillmode": "overlay",
              "size": 10,
              "solidity": 0.2
             }
            },
            "type": "bar"
           }
          ],
          "barpolar": [
           {
            "marker": {
             "line": {
              "color": "#E5ECF6",
              "width": 0.5
             },
             "pattern": {
              "fillmode": "overlay",
              "size": 10,
              "solidity": 0.2
             }
            },
            "type": "barpolar"
           }
          ],
          "carpet": [
           {
            "aaxis": {
             "endlinecolor": "#2a3f5f",
             "gridcolor": "white",
             "linecolor": "white",
             "minorgridcolor": "white",
             "startlinecolor": "#2a3f5f"
            },
            "baxis": {
             "endlinecolor": "#2a3f5f",
             "gridcolor": "white",
             "linecolor": "white",
             "minorgridcolor": "white",
             "startlinecolor": "#2a3f5f"
            },
            "type": "carpet"
           }
          ],
          "choropleth": [
           {
            "colorbar": {
             "outlinewidth": 0,
             "ticks": ""
            },
            "type": "choropleth"
           }
          ],
          "contour": [
           {
            "colorbar": {
             "outlinewidth": 0,
             "ticks": ""
            },
            "colorscale": [
             [
              0,
              "#0d0887"
             ],
             [
              0.1111111111111111,
              "#46039f"
             ],
             [
              0.2222222222222222,
              "#7201a8"
             ],
             [
              0.3333333333333333,
              "#9c179e"
             ],
             [
              0.4444444444444444,
              "#bd3786"
             ],
             [
              0.5555555555555556,
              "#d8576b"
             ],
             [
              0.6666666666666666,
              "#ed7953"
             ],
             [
              0.7777777777777778,
              "#fb9f3a"
             ],
             [
              0.8888888888888888,
              "#fdca26"
             ],
             [
              1,
              "#f0f921"
             ]
            ],
            "type": "contour"
           }
          ],
          "contourcarpet": [
           {
            "colorbar": {
             "outlinewidth": 0,
             "ticks": ""
            },
            "type": "contourcarpet"
           }
          ],
          "heatmap": [
           {
            "colorbar": {
             "outlinewidth": 0,
             "ticks": ""
            },
            "colorscale": [
             [
              0,
              "#0d0887"
             ],
             [
              0.1111111111111111,
              "#46039f"
             ],
             [
              0.2222222222222222,
              "#7201a8"
             ],
             [
              0.3333333333333333,
              "#9c179e"
             ],
             [
              0.4444444444444444,
              "#bd3786"
             ],
             [
              0.5555555555555556,
              "#d8576b"
             ],
             [
              0.6666666666666666,
              "#ed7953"
             ],
             [
              0.7777777777777778,
              "#fb9f3a"
             ],
             [
              0.8888888888888888,
              "#fdca26"
             ],
             [
              1,
              "#f0f921"
             ]
            ],
            "type": "heatmap"
           }
          ],
          "heatmapgl": [
           {
            "colorbar": {
             "outlinewidth": 0,
             "ticks": ""
            },
            "colorscale": [
             [
              0,
              "#0d0887"
             ],
             [
              0.1111111111111111,
              "#46039f"
             ],
             [
              0.2222222222222222,
              "#7201a8"
             ],
             [
              0.3333333333333333,
              "#9c179e"
             ],
             [
              0.4444444444444444,
              "#bd3786"
             ],
             [
              0.5555555555555556,
              "#d8576b"
             ],
             [
              0.6666666666666666,
              "#ed7953"
             ],
             [
              0.7777777777777778,
              "#fb9f3a"
             ],
             [
              0.8888888888888888,
              "#fdca26"
             ],
             [
              1,
              "#f0f921"
             ]
            ],
            "type": "heatmapgl"
           }
          ],
          "histogram": [
           {
            "marker": {
             "pattern": {
              "fillmode": "overlay",
              "size": 10,
              "solidity": 0.2
             }
            },
            "type": "histogram"
           }
          ],
          "histogram2d": [
           {
            "colorbar": {
             "outlinewidth": 0,
             "ticks": ""
            },
            "colorscale": [
             [
              0,
              "#0d0887"
             ],
             [
              0.1111111111111111,
              "#46039f"
             ],
             [
              0.2222222222222222,
              "#7201a8"
             ],
             [
              0.3333333333333333,
              "#9c179e"
             ],
             [
              0.4444444444444444,
              "#bd3786"
             ],
             [
              0.5555555555555556,
              "#d8576b"
             ],
             [
              0.6666666666666666,
              "#ed7953"
             ],
             [
              0.7777777777777778,
              "#fb9f3a"
             ],
             [
              0.8888888888888888,
              "#fdca26"
             ],
             [
              1,
              "#f0f921"
             ]
            ],
            "type": "histogram2d"
           }
          ],
          "histogram2dcontour": [
           {
            "colorbar": {
             "outlinewidth": 0,
             "ticks": ""
            },
            "colorscale": [
             [
              0,
              "#0d0887"
             ],
             [
              0.1111111111111111,
              "#46039f"
             ],
             [
              0.2222222222222222,
              "#7201a8"
             ],
             [
              0.3333333333333333,
              "#9c179e"
             ],
             [
              0.4444444444444444,
              "#bd3786"
             ],
             [
              0.5555555555555556,
              "#d8576b"
             ],
             [
              0.6666666666666666,
              "#ed7953"
             ],
             [
              0.7777777777777778,
              "#fb9f3a"
             ],
             [
              0.8888888888888888,
              "#fdca26"
             ],
             [
              1,
              "#f0f921"
             ]
            ],
            "type": "histogram2dcontour"
           }
          ],
          "mesh3d": [
           {
            "colorbar": {
             "outlinewidth": 0,
             "ticks": ""
            },
            "type": "mesh3d"
           }
          ],
          "parcoords": [
           {
            "line": {
             "colorbar": {
              "outlinewidth": 0,
              "ticks": ""
             }
            },
            "type": "parcoords"
           }
          ],
          "pie": [
           {
            "automargin": true,
            "type": "pie"
           }
          ],
          "scatter": [
           {
            "fillpattern": {
             "fillmode": "overlay",
             "size": 10,
             "solidity": 0.2
            },
            "type": "scatter"
           }
          ],
          "scatter3d": [
           {
            "line": {
             "colorbar": {
              "outlinewidth": 0,
              "ticks": ""
             }
            },
            "marker": {
             "colorbar": {
              "outlinewidth": 0,
              "ticks": ""
             }
            },
            "type": "scatter3d"
           }
          ],
          "scattercarpet": [
           {
            "marker": {
             "colorbar": {
              "outlinewidth": 0,
              "ticks": ""
             }
            },
            "type": "scattercarpet"
           }
          ],
          "scattergeo": [
           {
            "marker": {
             "colorbar": {
              "outlinewidth": 0,
              "ticks": ""
             }
            },
            "type": "scattergeo"
           }
          ],
          "scattergl": [
           {
            "marker": {
             "colorbar": {
              "outlinewidth": 0,
              "ticks": ""
             }
            },
            "type": "scattergl"
           }
          ],
          "scattermapbox": [
           {
            "marker": {
             "colorbar": {
              "outlinewidth": 0,
              "ticks": ""
             }
            },
            "type": "scattermapbox"
           }
          ],
          "scatterpolar": [
           {
            "marker": {
             "colorbar": {
              "outlinewidth": 0,
              "ticks": ""
             }
            },
            "type": "scatterpolar"
           }
          ],
          "scatterpolargl": [
           {
            "marker": {
             "colorbar": {
              "outlinewidth": 0,
              "ticks": ""
             }
            },
            "type": "scatterpolargl"
           }
          ],
          "scatterternary": [
           {
            "marker": {
             "colorbar": {
              "outlinewidth": 0,
              "ticks": ""
             }
            },
            "type": "scatterternary"
           }
          ],
          "surface": [
           {
            "colorbar": {
             "outlinewidth": 0,
             "ticks": ""
            },
            "colorscale": [
             [
              0,
              "#0d0887"
             ],
             [
              0.1111111111111111,
              "#46039f"
             ],
             [
              0.2222222222222222,
              "#7201a8"
             ],
             [
              0.3333333333333333,
              "#9c179e"
             ],
             [
              0.4444444444444444,
              "#bd3786"
             ],
             [
              0.5555555555555556,
              "#d8576b"
             ],
             [
              0.6666666666666666,
              "#ed7953"
             ],
             [
              0.7777777777777778,
              "#fb9f3a"
             ],
             [
              0.8888888888888888,
              "#fdca26"
             ],
             [
              1,
              "#f0f921"
             ]
            ],
            "type": "surface"
           }
          ],
          "table": [
           {
            "cells": {
             "fill": {
              "color": "#EBF0F8"
             },
             "line": {
              "color": "white"
             }
            },
            "header": {
             "fill": {
              "color": "#C8D4E3"
             },
             "line": {
              "color": "white"
             }
            },
            "type": "table"
           }
          ]
         },
         "layout": {
          "annotationdefaults": {
           "arrowcolor": "#2a3f5f",
           "arrowhead": 0,
           "arrowwidth": 1
          },
          "autotypenumbers": "strict",
          "coloraxis": {
           "colorbar": {
            "outlinewidth": 0,
            "ticks": ""
           }
          },
          "colorscale": {
           "diverging": [
            [
             0,
             "#8e0152"
            ],
            [
             0.1,
             "#c51b7d"
            ],
            [
             0.2,
             "#de77ae"
            ],
            [
             0.3,
             "#f1b6da"
            ],
            [
             0.4,
             "#fde0ef"
            ],
            [
             0.5,
             "#f7f7f7"
            ],
            [
             0.6,
             "#e6f5d0"
            ],
            [
             0.7,
             "#b8e186"
            ],
            [
             0.8,
             "#7fbc41"
            ],
            [
             0.9,
             "#4d9221"
            ],
            [
             1,
             "#276419"
            ]
           ],
           "sequential": [
            [
             0,
             "#0d0887"
            ],
            [
             0.1111111111111111,
             "#46039f"
            ],
            [
             0.2222222222222222,
             "#7201a8"
            ],
            [
             0.3333333333333333,
             "#9c179e"
            ],
            [
             0.4444444444444444,
             "#bd3786"
            ],
            [
             0.5555555555555556,
             "#d8576b"
            ],
            [
             0.6666666666666666,
             "#ed7953"
            ],
            [
             0.7777777777777778,
             "#fb9f3a"
            ],
            [
             0.8888888888888888,
             "#fdca26"
            ],
            [
             1,
             "#f0f921"
            ]
           ],
           "sequentialminus": [
            [
             0,
             "#0d0887"
            ],
            [
             0.1111111111111111,
             "#46039f"
            ],
            [
             0.2222222222222222,
             "#7201a8"
            ],
            [
             0.3333333333333333,
             "#9c179e"
            ],
            [
             0.4444444444444444,
             "#bd3786"
            ],
            [
             0.5555555555555556,
             "#d8576b"
            ],
            [
             0.6666666666666666,
             "#ed7953"
            ],
            [
             0.7777777777777778,
             "#fb9f3a"
            ],
            [
             0.8888888888888888,
             "#fdca26"
            ],
            [
             1,
             "#f0f921"
            ]
           ]
          },
          "colorway": [
           "#636efa",
           "#EF553B",
           "#00cc96",
           "#ab63fa",
           "#FFA15A",
           "#19d3f3",
           "#FF6692",
           "#B6E880",
           "#FF97FF",
           "#FECB52"
          ],
          "font": {
           "color": "#2a3f5f"
          },
          "geo": {
           "bgcolor": "white",
           "lakecolor": "white",
           "landcolor": "#E5ECF6",
           "showlakes": true,
           "showland": true,
           "subunitcolor": "white"
          },
          "hoverlabel": {
           "align": "left"
          },
          "hovermode": "closest",
          "mapbox": {
           "style": "light"
          },
          "paper_bgcolor": "white",
          "plot_bgcolor": "#E5ECF6",
          "polar": {
           "angularaxis": {
            "gridcolor": "white",
            "linecolor": "white",
            "ticks": ""
           },
           "bgcolor": "#E5ECF6",
           "radialaxis": {
            "gridcolor": "white",
            "linecolor": "white",
            "ticks": ""
           }
          },
          "scene": {
           "xaxis": {
            "backgroundcolor": "#E5ECF6",
            "gridcolor": "white",
            "gridwidth": 2,
            "linecolor": "white",
            "showbackground": true,
            "ticks": "",
            "zerolinecolor": "white"
           },
           "yaxis": {
            "backgroundcolor": "#E5ECF6",
            "gridcolor": "white",
            "gridwidth": 2,
            "linecolor": "white",
            "showbackground": true,
            "ticks": "",
            "zerolinecolor": "white"
           },
           "zaxis": {
            "backgroundcolor": "#E5ECF6",
            "gridcolor": "white",
            "gridwidth": 2,
            "linecolor": "white",
            "showbackground": true,
            "ticks": "",
            "zerolinecolor": "white"
           }
          },
          "shapedefaults": {
           "line": {
            "color": "#2a3f5f"
           }
          },
          "ternary": {
           "aaxis": {
            "gridcolor": "white",
            "linecolor": "white",
            "ticks": ""
           },
           "baxis": {
            "gridcolor": "white",
            "linecolor": "white",
            "ticks": ""
           },
           "bgcolor": "#E5ECF6",
           "caxis": {
            "gridcolor": "white",
            "linecolor": "white",
            "ticks": ""
           }
          },
          "title": {
           "x": 0.05
          },
          "xaxis": {
           "automargin": true,
           "gridcolor": "white",
           "linecolor": "white",
           "ticks": "",
           "title": {
            "standoff": 15
           },
           "zerolinecolor": "white",
           "zerolinewidth": 2
          },
          "yaxis": {
           "automargin": true,
           "gridcolor": "white",
           "linecolor": "white",
           "ticks": "",
           "title": {
            "standoff": 15
           },
           "zerolinecolor": "white",
           "zerolinewidth": 2
          }
         }
        },
        "title": {
         "text": "MoMA's created after 1980"
        },
        "xaxis": {
         "anchor": "y",
         "domain": [
          0,
          1
         ],
         "title": {
          "text": "Count"
         },
         "type": "log"
        },
        "yaxis": {
         "anchor": "x",
         "domain": [
          0,
          1
         ],
         "title": {
          "text": "DateAcquired"
         }
        }
       }
      }
     },
     "metadata": {},
     "output_type": "display_data"
    }
   ],
   "source": [
    "fig6 = px.scatter(df_nats_after,\n",
    "                 x=\"Count\", y=\"DateAcquired\", size=\"Females\", color=\"Nation\",\n",
    "                 log_x=True, size_max=30,\n",
    "                 title=\"MoMA's created after 1980\")\n",
    "fig6.show()"
   ]
  },
  {
   "cell_type": "code",
   "execution_count": 36,
   "metadata": {},
   "outputs": [
    {
     "data": {
      "application/vnd.plotly.v1+json": {
       "config": {
        "plotlyServerURL": "https://plot.ly"
       },
       "data": [
        {
         "hovertemplate": "Nation=Russian<br>Count=%{x}<br>DateAcquired=%{y}<br>Females=%{marker.size}<extra></extra>",
         "legendgroup": "Russian",
         "marker": {
          "color": "#636efa",
          "size": [
           2,
           1,
           2,
           1
          ],
          "sizemode": "area",
          "sizeref": 0.023333333333333334,
          "symbol": "circle"
         },
         "mode": "markers",
         "name": "Russian",
         "orientation": "h",
         "showlegend": true,
         "type": "scatter",
         "x": [
          5,
          2,
          3,
          1
         ],
         "xaxis": "x",
         "y": [
          "2001",
          "2002",
          "2004",
          "2007"
         ],
         "yaxis": "y"
        },
        {
         "hovertemplate": "Nation=Israeli<br>Count=%{x}<br>DateAcquired=%{y}<br>Females=%{marker.size}<extra></extra>",
         "legendgroup": "Israeli",
         "marker": {
          "color": "#EF553B",
          "size": [
           0,
           1,
           0,
           2,
           1,
           0,
           1,
           0
          ],
          "sizemode": "area",
          "sizeref": 0.023333333333333334,
          "symbol": "circle"
         },
         "mode": "markers",
         "name": "Israeli",
         "orientation": "h",
         "showlegend": true,
         "type": "scatter",
         "x": [
          5,
          1,
          1,
          13,
          1,
          1,
          1,
          3
         ],
         "xaxis": "x",
         "y": [
          "2001",
          "2002",
          "2003",
          "2004",
          "2005",
          "2006",
          "2007",
          "2008"
         ],
         "yaxis": "y"
        },
        {
         "hovertemplate": "Nation=American/South African<br>Count=%{x}<br>DateAcquired=%{y}<br>Females=%{marker.size}<extra></extra>",
         "legendgroup": "American/South African",
         "marker": {
          "color": "#00cc96",
          "size": [
           0,
           0,
           0,
           0,
           0
          ],
          "sizemode": "area",
          "sizeref": 0.023333333333333334,
          "symbol": "circle"
         },
         "mode": "markers",
         "name": "American/South African",
         "orientation": "h",
         "showlegend": true,
         "type": "scatter",
         "x": [
          3,
          1,
          1,
          2,
          1
         ],
         "xaxis": "x",
         "y": [
          "2001",
          "2002",
          "2004",
          "2005",
          "2009"
         ],
         "yaxis": "y"
        },
        {
         "hovertemplate": "Nation=Belgian<br>Count=%{x}<br>DateAcquired=%{y}<br>Females=%{marker.size}<extra></extra>",
         "legendgroup": "Belgian",
         "marker": {
          "color": "#ab63fa",
          "size": [
           0,
           0,
           0,
           1,
           0,
           0
          ],
          "sizemode": "area",
          "sizeref": 0.023333333333333334,
          "symbol": "circle"
         },
         "mode": "markers",
         "name": "Belgian",
         "orientation": "h",
         "showlegend": true,
         "type": "scatter",
         "x": [
          1,
          2,
          1,
          2,
          3,
          2
         ],
         "xaxis": "x",
         "y": [
          "2001",
          "2002",
          "2003",
          "2004",
          "2005",
          "2008"
         ],
         "yaxis": "y"
        },
        {
         "hovertemplate": "Nation=Chinese<br>Count=%{x}<br>DateAcquired=%{y}<br>Females=%{marker.size}<extra></extra>",
         "legendgroup": "Chinese",
         "marker": {
          "color": "#FFA15A",
          "size": [
           0
          ],
          "sizemode": "area",
          "sizeref": 0.023333333333333334,
          "symbol": "circle"
         },
         "mode": "markers",
         "name": "Chinese",
         "orientation": "h",
         "showlegend": true,
         "type": "scatter",
         "x": [
          2
         ],
         "xaxis": "x",
         "y": [
          "2002"
         ],
         "yaxis": "y"
        },
        {
         "hovertemplate": "Nation=Brasilian/American<br>Count=%{x}<br>DateAcquired=%{y}<br>Females=%{marker.size}<extra></extra>",
         "legendgroup": "Brasilian/American",
         "marker": {
          "color": "#19d3f3",
          "size": [
           0,
           0
          ],
          "sizemode": "area",
          "sizeref": 0.023333333333333334,
          "symbol": "circle"
         },
         "mode": "markers",
         "name": "Brasilian/American",
         "orientation": "h",
         "showlegend": true,
         "type": "scatter",
         "x": [
          1,
          2
         ],
         "xaxis": "x",
         "y": [
          "0",
          "2003"
         ],
         "yaxis": "y"
        },
        {
         "hovertemplate": "Nation=Mexican/American<br>Count=%{x}<br>DateAcquired=%{y}<br>Females=%{marker.size}<extra></extra>",
         "legendgroup": "Mexican/American",
         "marker": {
          "color": "#FF6692",
          "size": [
           1
          ],
          "sizemode": "area",
          "sizeref": 0.023333333333333334,
          "symbol": "circle"
         },
         "mode": "markers",
         "name": "Mexican/American",
         "orientation": "h",
         "showlegend": true,
         "type": "scatter",
         "x": [
          1
         ],
         "xaxis": "x",
         "y": [
          "2006"
         ],
         "yaxis": "y"
        },
        {
         "hovertemplate": "Nation=Polish<br>Count=%{x}<br>DateAcquired=%{y}<br>Females=%{marker.size}<extra></extra>",
         "legendgroup": "Polish",
         "marker": {
          "color": "#B6E880",
          "size": [
           1,
           0,
           1,
           0,
           0,
           1,
           0,
           0,
           0
          ],
          "sizemode": "area",
          "sizeref": 0.023333333333333334,
          "symbol": "circle"
         },
         "mode": "markers",
         "name": "Polish",
         "orientation": "h",
         "showlegend": true,
         "type": "scatter",
         "x": [
          3,
          2,
          1,
          1,
          3,
          3,
          5,
          1,
          1
         ],
         "xaxis": "x",
         "y": [
          "2001",
          "2002",
          "2004",
          "2005",
          "2006",
          "2007",
          "2008",
          "2009",
          "2011"
         ],
         "yaxis": "y"
        },
        {
         "hovertemplate": "Nation=Argentine <br>Count=%{x}<br>DateAcquired=%{y}<br>Females=%{marker.size}<extra></extra>",
         "legendgroup": "Argentine ",
         "marker": {
          "color": "#FF97FF",
          "size": [
           0
          ],
          "sizemode": "area",
          "sizeref": 0.023333333333333334,
          "symbol": "circle"
         },
         "mode": "markers",
         "name": "Argentine ",
         "orientation": "h",
         "showlegend": true,
         "type": "scatter",
         "x": [
          2
         ],
         "xaxis": "x",
         "y": [
          "2002"
         ],
         "yaxis": "y"
        },
        {
         "hovertemplate": "Nation=Chilean<br>Count=%{x}<br>DateAcquired=%{y}<br>Females=%{marker.size}<extra></extra>",
         "legendgroup": "Chilean",
         "marker": {
          "color": "#FECB52",
          "size": [
           1,
           0
          ],
          "sizemode": "area",
          "sizeref": 0.023333333333333334,
          "symbol": "circle"
         },
         "mode": "markers",
         "name": "Chilean",
         "orientation": "h",
         "showlegend": true,
         "type": "scatter",
         "x": [
          1,
          1
         ],
         "xaxis": "x",
         "y": [
          "2004",
          "2005"
         ],
         "yaxis": "y"
        },
        {
         "hovertemplate": "Nation=South African<br>Count=%{x}<br>DateAcquired=%{y}<br>Females=%{marker.size}<extra></extra>",
         "legendgroup": "South African",
         "marker": {
          "color": "#636efa",
          "size": [
           0,
           0
          ],
          "sizemode": "area",
          "sizeref": 0.023333333333333334,
          "symbol": "circle"
         },
         "mode": "markers",
         "name": "South African",
         "orientation": "h",
         "showlegend": true,
         "type": "scatter",
         "x": [
          1,
          1
         ],
         "xaxis": "x",
         "y": [
          "2002",
          "2004"
         ],
         "yaxis": "y"
        },
        {
         "hovertemplate": "Nation=Italian<br>Count=%{x}<br>DateAcquired=%{y}<br>Females=%{marker.size}<extra></extra>",
         "legendgroup": "Italian",
         "marker": {
          "color": "#EF553B",
          "size": [
           0,
           3,
           0,
           5,
           0,
           1,
           0,
           0,
           0
          ],
          "sizemode": "area",
          "sizeref": 0.023333333333333334,
          "symbol": "circle"
         },
         "mode": "markers",
         "name": "Italian",
         "orientation": "h",
         "showlegend": true,
         "type": "scatter",
         "x": [
          4,
          9,
          3,
          8,
          3,
          5,
          1,
          1,
          3
         ],
         "xaxis": "x",
         "y": [
          "2001",
          "2002",
          "2003",
          "2005",
          "2006",
          "2007",
          "2009",
          "2011",
          "2012"
         ],
         "yaxis": "y"
        },
        {
         "hovertemplate": "Nation=Serbian<br>Count=%{x}<br>DateAcquired=%{y}<br>Females=%{marker.size}<extra></extra>",
         "legendgroup": "Serbian",
         "marker": {
          "color": "#00cc96",
          "size": [
           0,
           0
          ],
          "sizemode": "area",
          "sizeref": 0.023333333333333334,
          "symbol": "circle"
         },
         "mode": "markers",
         "name": "Serbian",
         "orientation": "h",
         "showlegend": true,
         "type": "scatter",
         "x": [
          1,
          5
         ],
         "xaxis": "x",
         "y": [
          "2001",
          "2006"
         ],
         "yaxis": "y"
        },
        {
         "hovertemplate": "Nation=American/Canadian<br>Count=%{x}<br>DateAcquired=%{y}<br>Females=%{marker.size}<extra></extra>",
         "legendgroup": "American/Canadian",
         "marker": {
          "color": "#ab63fa",
          "size": [
           1
          ],
          "sizemode": "area",
          "sizeref": 0.023333333333333334,
          "symbol": "circle"
         },
         "mode": "markers",
         "name": "American/Canadian",
         "orientation": "h",
         "showlegend": true,
         "type": "scatter",
         "x": [
          1
         ],
         "xaxis": "x",
         "y": [
          "2003"
         ],
         "yaxis": "y"
        },
        {
         "hovertemplate": "Nation=Irish<br>Count=%{x}<br>DateAcquired=%{y}<br>Females=%{marker.size}<extra></extra>",
         "legendgroup": "Irish",
         "marker": {
          "color": "#FFA15A",
          "size": [
           0
          ],
          "sizemode": "area",
          "sizeref": 0.023333333333333334,
          "symbol": "circle"
         },
         "mode": "markers",
         "name": "Irish",
         "orientation": "h",
         "showlegend": true,
         "type": "scatter",
         "x": [
          1
         ],
         "xaxis": "x",
         "y": [
          "2002"
         ],
         "yaxis": "y"
        },
        {
         "hovertemplate": "Nation=Indian<br>Count=%{x}<br>DateAcquired=%{y}<br>Females=%{marker.size}<extra></extra>",
         "legendgroup": "Indian",
         "marker": {
          "color": "#19d3f3",
          "size": [
           0,
           0
          ],
          "sizemode": "area",
          "sizeref": 0.023333333333333334,
          "symbol": "circle"
         },
         "mode": "markers",
         "name": "Indian",
         "orientation": "h",
         "showlegend": true,
         "type": "scatter",
         "x": [
          1,
          1
         ],
         "xaxis": "x",
         "y": [
          "2002",
          "2007"
         ],
         "yaxis": "y"
        },
        {
         "hovertemplate": "Nation=Brasilian<br>Count=%{x}<br>DateAcquired=%{y}<br>Females=%{marker.size}<extra></extra>",
         "legendgroup": "Brasilian",
         "marker": {
          "color": "#FF6692",
          "size": [
           1,
           1,
           2,
           1,
           0,
           1,
           6
          ],
          "sizemode": "area",
          "sizeref": 0.023333333333333334,
          "symbol": "circle"
         },
         "mode": "markers",
         "name": "Brasilian",
         "orientation": "h",
         "showlegend": true,
         "type": "scatter",
         "x": [
          1,
          3,
          4,
          1,
          3,
          1,
          8
         ],
         "xaxis": "x",
         "y": [
          "0",
          "2001",
          "2002",
          "2003",
          "2004",
          "2005",
          "2007"
         ],
         "yaxis": "y"
        },
        {
         "hovertemplate": "Nation=Slovenian<br>Count=%{x}<br>DateAcquired=%{y}<br>Females=%{marker.size}<extra></extra>",
         "legendgroup": "Slovenian",
         "marker": {
          "color": "#B6E880",
          "size": [
           0,
           0,
           0
          ],
          "sizemode": "area",
          "sizeref": 0.023333333333333334,
          "symbol": "circle"
         },
         "mode": "markers",
         "name": "Slovenian",
         "orientation": "h",
         "showlegend": true,
         "type": "scatter",
         "x": [
          1,
          1,
          1
         ],
         "xaxis": "x",
         "y": [
          "2001",
          "2005",
          "2007"
         ],
         "yaxis": "y"
        },
        {
         "hovertemplate": "Nation=British/Canadian<br>Count=%{x}<br>DateAcquired=%{y}<br>Females=%{marker.size}<extra></extra>",
         "legendgroup": "British/Canadian",
         "marker": {
          "color": "#FF97FF",
          "size": [
           0,
           0
          ],
          "sizemode": "area",
          "sizeref": 0.023333333333333334,
          "symbol": "circle"
         },
         "mode": "markers",
         "name": "British/Canadian",
         "orientation": "h",
         "showlegend": true,
         "type": "scatter",
         "x": [
          1,
          1
         ],
         "xaxis": "x",
         "y": [
          "2002",
          "2003"
         ],
         "yaxis": "y"
        },
        {
         "hovertemplate": "Nation=Czech<br>Count=%{x}<br>DateAcquired=%{y}<br>Females=%{marker.size}<extra></extra>",
         "legendgroup": "Czech",
         "marker": {
          "color": "#FECB52",
          "size": [
           2,
           0,
           1
          ],
          "sizemode": "area",
          "sizeref": 0.023333333333333334,
          "symbol": "circle"
         },
         "mode": "markers",
         "name": "Czech",
         "orientation": "h",
         "showlegend": true,
         "type": "scatter",
         "x": [
          2,
          1,
          2
         ],
         "xaxis": "x",
         "y": [
          "2001",
          "2003",
          "2006"
         ],
         "yaxis": "y"
        },
        {
         "hovertemplate": "Nation=Italian <br>Count=%{x}<br>DateAcquired=%{y}<br>Females=%{marker.size}<extra></extra>",
         "legendgroup": "Italian ",
         "marker": {
          "color": "#636efa",
          "size": [
           0
          ],
          "sizemode": "area",
          "sizeref": 0.023333333333333334,
          "symbol": "circle"
         },
         "mode": "markers",
         "name": "Italian ",
         "orientation": "h",
         "showlegend": true,
         "type": "scatter",
         "x": [
          1
         ],
         "xaxis": "x",
         "y": [
          "2001"
         ],
         "yaxis": "y"
        },
        {
         "hovertemplate": "Nation=Finnish <br>Count=%{x}<br>DateAcquired=%{y}<br>Females=%{marker.size}<extra></extra>",
         "legendgroup": "Finnish ",
         "marker": {
          "color": "#EF553B",
          "size": [
           1
          ],
          "sizemode": "area",
          "sizeref": 0.023333333333333334,
          "symbol": "circle"
         },
         "mode": "markers",
         "name": "Finnish ",
         "orientation": "h",
         "showlegend": true,
         "type": "scatter",
         "x": [
          1
         ],
         "xaxis": "x",
         "y": [
          "2001"
         ],
         "yaxis": "y"
        },
        {
         "hovertemplate": "Nation=Portuguese<br>Count=%{x}<br>DateAcquired=%{y}<br>Females=%{marker.size}<extra></extra>",
         "legendgroup": "Portuguese",
         "marker": {
          "color": "#00cc96",
          "size": [
           0,
           1,
           0,
           1,
           0
          ],
          "sizemode": "area",
          "sizeref": 0.023333333333333334,
          "symbol": "circle"
         },
         "mode": "markers",
         "name": "Portuguese",
         "orientation": "h",
         "showlegend": true,
         "type": "scatter",
         "x": [
          1,
          2,
          2,
          2,
          4
         ],
         "xaxis": "x",
         "y": [
          "2003",
          "2004",
          "2005",
          "2006",
          "2007"
         ],
         "yaxis": "y"
        },
        {
         "hovertemplate": "Nation=Colombian<br>Count=%{x}<br>DateAcquired=%{y}<br>Females=%{marker.size}<extra></extra>",
         "legendgroup": "Colombian",
         "marker": {
          "color": "#ab63fa",
          "size": [
           0,
           1
          ],
          "sizemode": "area",
          "sizeref": 0.023333333333333334,
          "symbol": "circle"
         },
         "mode": "markers",
         "name": "Colombian",
         "orientation": "h",
         "showlegend": true,
         "type": "scatter",
         "x": [
          2,
          5
         ],
         "xaxis": "x",
         "y": [
          "2005",
          "2007"
         ],
         "yaxis": "y"
        },
        {
         "hovertemplate": "Nation=Finnish<br>Count=%{x}<br>DateAcquired=%{y}<br>Females=%{marker.size}<extra></extra>",
         "legendgroup": "Finnish",
         "marker": {
          "color": "#FFA15A",
          "size": [
           1
          ],
          "sizemode": "area",
          "sizeref": 0.023333333333333334,
          "symbol": "circle"
         },
         "mode": "markers",
         "name": "Finnish",
         "orientation": "h",
         "showlegend": true,
         "type": "scatter",
         "x": [
          1
         ],
         "xaxis": "x",
         "y": [
          "2006"
         ],
         "yaxis": "y"
        },
        {
         "hovertemplate": "Nation=British<br>Count=%{x}<br>DateAcquired=%{y}<br>Females=%{marker.size}<extra></extra>",
         "legendgroup": "British",
         "marker": {
          "color": "#19d3f3",
          "size": [
           0,
           1,
           1,
           12,
           1,
           5,
           4,
           5,
           7,
           5,
           0,
           0,
           0
          ],
          "sizemode": "area",
          "sizeref": 0.023333333333333334,
          "symbol": "circle"
         },
         "mode": "markers",
         "name": "British",
         "orientation": "h",
         "showlegend": true,
         "type": "scatter",
         "x": [
          1,
          1,
          3,
          15,
          5,
          11,
          11,
          8,
          15,
          6,
          1,
          1,
          1
         ],
         "xaxis": "x",
         "y": [
          "0",
          "2000",
          "2001",
          "2002",
          "2003",
          "2004",
          "2005",
          "2006",
          "2007",
          "2008",
          "2009",
          "2012",
          "2013"
         ],
         "yaxis": "y"
        },
        {
         "hovertemplate": "Nation=American <br>Count=%{x}<br>DateAcquired=%{y}<br>Females=%{marker.size}<extra></extra>",
         "legendgroup": "American ",
         "marker": {
          "color": "#FF6692",
          "size": [
           3,
           0,
           0,
           1,
           0,
           0,
           0,
           0
          ],
          "sizemode": "area",
          "sizeref": 0.023333333333333334,
          "symbol": "circle"
         },
         "mode": "markers",
         "name": "American ",
         "orientation": "h",
         "showlegend": true,
         "type": "scatter",
         "x": [
          4,
          2,
          1,
          5,
          1,
          10,
          5,
          1
         ],
         "xaxis": "x",
         "y": [
          "2001",
          "2002",
          "2003",
          "2004",
          "2005",
          "2006",
          "2007",
          "2009"
         ],
         "yaxis": "y"
        },
        {
         "hovertemplate": "Nation=American<br>Count=%{x}<br>DateAcquired=%{y}<br>Females=%{marker.size}<extra></extra>",
         "legendgroup": "American",
         "marker": {
          "color": "#B6E880",
          "size": [
           4,
           2,
           19,
           15,
           7,
           16,
           15,
           16,
           20,
           7,
           2,
           0,
           3,
           3,
           1,
           4
          ],
          "sizemode": "area",
          "sizeref": 0.023333333333333334,
          "symbol": "circle"
         },
         "mode": "markers",
         "name": "American",
         "orientation": "h",
         "showlegend": true,
         "type": "scatter",
         "x": [
          9,
          4,
          54,
          44,
          26,
          44,
          52,
          53,
          65,
          34,
          29,
          7,
          23,
          22,
          3,
          4
         ],
         "xaxis": "x",
         "y": [
          "0",
          "2000",
          "2001",
          "2002",
          "2003",
          "2004",
          "2005",
          "2006",
          "2007",
          "2008",
          "2009",
          "2010",
          "2011",
          "2012",
          "2013",
          "2015"
         ],
         "yaxis": "y"
        },
        {
         "hovertemplate": "Nation=Austrian<br>Count=%{x}<br>DateAcquired=%{y}<br>Females=%{marker.size}<extra></extra>",
         "legendgroup": "Austrian",
         "marker": {
          "color": "#FF97FF",
          "size": [
           0,
           2,
           1,
           1,
           0,
           1,
           1,
           7,
           1,
           1,
           1
          ],
          "sizemode": "area",
          "sizeref": 0.023333333333333334,
          "symbol": "circle"
         },
         "mode": "markers",
         "name": "Austrian",
         "orientation": "h",
         "showlegend": true,
         "type": "scatter",
         "x": [
          1,
          7,
          5,
          1,
          4,
          2,
          2,
          7,
          5,
          1,
          1
         ],
         "xaxis": "x",
         "y": [
          "0",
          "2001",
          "2002",
          "2003",
          "2004",
          "2005",
          "2006",
          "2007",
          "2008",
          "2009",
          "2010"
         ],
         "yaxis": "y"
        },
        {
         "hovertemplate": "Nation=Greek/Australian<br>Count=%{x}<br>DateAcquired=%{y}<br>Females=%{marker.size}<extra></extra>",
         "legendgroup": "Greek/Australian",
         "marker": {
          "color": "#FECB52",
          "size": [
           0
          ],
          "sizemode": "area",
          "sizeref": 0.023333333333333334,
          "symbol": "circle"
         },
         "mode": "markers",
         "name": "Greek/Australian",
         "orientation": "h",
         "showlegend": true,
         "type": "scatter",
         "x": [
          1
         ],
         "xaxis": "x",
         "y": [
          "2003"
         ],
         "yaxis": "y"
        },
        {
         "hovertemplate": "Nation=Icelandic/American<br>Count=%{x}<br>DateAcquired=%{y}<br>Females=%{marker.size}<extra></extra>",
         "legendgroup": "Icelandic/American",
         "marker": {
          "color": "#636efa",
          "size": [
           0,
           0,
           0,
           0,
           0
          ],
          "sizemode": "area",
          "sizeref": 0.023333333333333334,
          "symbol": "circle"
         },
         "mode": "markers",
         "name": "Icelandic/American",
         "orientation": "h",
         "showlegend": true,
         "type": "scatter",
         "x": [
          2,
          1,
          1,
          1,
          1
         ],
         "xaxis": "x",
         "y": [
          "2002",
          "2003",
          "2004",
          "2005",
          "2006"
         ],
         "yaxis": "y"
        },
        {
         "hovertemplate": "Nation=Afghan/American<br>Count=%{x}<br>DateAcquired=%{y}<br>Females=%{marker.size}<extra></extra>",
         "legendgroup": "Afghan/American",
         "marker": {
          "color": "#EF553B",
          "size": [
           1
          ],
          "sizemode": "area",
          "sizeref": 0.023333333333333334,
          "symbol": "circle"
         },
         "mode": "markers",
         "name": "Afghan/American",
         "orientation": "h",
         "showlegend": true,
         "type": "scatter",
         "x": [
          1
         ],
         "xaxis": "x",
         "y": [
          "2011"
         ],
         "yaxis": "y"
        },
        {
         "hovertemplate": "Nation=Dutch<br>Count=%{x}<br>DateAcquired=%{y}<br>Females=%{marker.size}<extra></extra>",
         "legendgroup": "Dutch",
         "marker": {
          "color": "#00cc96",
          "size": [
           1,
           1,
           7,
           4,
           4,
           1,
           2,
           0,
           0,
           1
          ],
          "sizemode": "area",
          "sizeref": 0.023333333333333334,
          "symbol": "circle"
         },
         "mode": "markers",
         "name": "Dutch",
         "orientation": "h",
         "showlegend": true,
         "type": "scatter",
         "x": [
          6,
          1,
          9,
          5,
          4,
          2,
          2,
          1,
          1,
          1
         ],
         "xaxis": "x",
         "y": [
          "2001",
          "2003",
          "2004",
          "2005",
          "2006",
          "2007",
          "2008",
          "2010",
          "2011",
          "2012"
         ],
         "yaxis": "y"
        },
        {
         "hovertemplate": "Nation=Spanish<br>Count=%{x}<br>DateAcquired=%{y}<br>Females=%{marker.size}<extra></extra>",
         "legendgroup": "Spanish",
         "marker": {
          "color": "#ab63fa",
          "size": [
           1,
           1,
           0,
           0,
           0,
           0,
           0
          ],
          "sizemode": "area",
          "sizeref": 0.023333333333333334,
          "symbol": "circle"
         },
         "mode": "markers",
         "name": "Spanish",
         "orientation": "h",
         "showlegend": true,
         "type": "scatter",
         "x": [
          4,
          5,
          4,
          1,
          3,
          1,
          2
         ],
         "xaxis": "x",
         "y": [
          "2001",
          "2002",
          "2003",
          "2006",
          "2007",
          "2011",
          "2012"
         ],
         "yaxis": "y"
        },
        {
         "hovertemplate": "Nation=Iranian<br>Count=%{x}<br>DateAcquired=%{y}<br>Females=%{marker.size}<extra></extra>",
         "legendgroup": "Iranian",
         "marker": {
          "color": "#FFA15A",
          "size": [
           1
          ],
          "sizemode": "area",
          "sizeref": 0.023333333333333334,
          "symbol": "circle"
         },
         "mode": "markers",
         "name": "Iranian",
         "orientation": "h",
         "showlegend": true,
         "type": "scatter",
         "x": [
          1
         ],
         "xaxis": "x",
         "y": [
          "2001"
         ],
         "yaxis": "y"
        },
        {
         "hovertemplate": "Nation=Swedish<br>Count=%{x}<br>DateAcquired=%{y}<br>Females=%{marker.size}<extra></extra>",
         "legendgroup": "Swedish",
         "marker": {
          "color": "#19d3f3",
          "size": [
           0,
           1,
           1,
           0,
           0,
           2,
           1,
           0
          ],
          "sizemode": "area",
          "sizeref": 0.023333333333333334,
          "symbol": "circle"
         },
         "mode": "markers",
         "name": "Swedish",
         "orientation": "h",
         "showlegend": true,
         "type": "scatter",
         "x": [
          1,
          10,
          2,
          1,
          1,
          8,
          2,
          4
         ],
         "xaxis": "x",
         "y": [
          "0",
          "2001",
          "2002",
          "2003",
          "2004",
          "2007",
          "2008",
          "2009"
         ],
         "yaxis": "y"
        },
        {
         "hovertemplate": "Nation=South Korean<br>Count=%{x}<br>DateAcquired=%{y}<br>Females=%{marker.size}<extra></extra>",
         "legendgroup": "South Korean",
         "marker": {
          "color": "#FF6692",
          "size": [
           2,
           1,
           0,
           2,
           3
          ],
          "sizemode": "area",
          "sizeref": 0.023333333333333334,
          "symbol": "circle"
         },
         "mode": "markers",
         "name": "South Korean",
         "orientation": "h",
         "showlegend": true,
         "type": "scatter",
         "x": [
          2,
          3,
          1,
          2,
          3
         ],
         "xaxis": "x",
         "y": [
          "2001",
          "2002",
          "2004",
          "2005",
          "2006"
         ],
         "yaxis": "y"
        },
        {
         "hovertemplate": "Nation=British/Irish<br>Count=%{x}<br>DateAcquired=%{y}<br>Females=%{marker.size}<extra></extra>",
         "legendgroup": "British/Irish",
         "marker": {
          "color": "#B6E880",
          "size": [
           0,
           0,
           0
          ],
          "sizemode": "area",
          "sizeref": 0.023333333333333334,
          "symbol": "circle"
         },
         "mode": "markers",
         "name": "British/Irish",
         "orientation": "h",
         "showlegend": true,
         "type": "scatter",
         "x": [
          4,
          1,
          1
         ],
         "xaxis": "x",
         "y": [
          "2007",
          "2008",
          "2011"
         ],
         "yaxis": "y"
        },
        {
         "hovertemplate": "Nation=Mexican<br>Count=%{x}<br>DateAcquired=%{y}<br>Females=%{marker.size}<extra></extra>",
         "legendgroup": "Mexican",
         "marker": {
          "color": "#FF97FF",
          "size": [
           0,
           1,
           0,
           0,
           1,
           0
          ],
          "sizemode": "area",
          "sizeref": 0.023333333333333334,
          "symbol": "circle"
         },
         "mode": "markers",
         "name": "Mexican",
         "orientation": "h",
         "showlegend": true,
         "type": "scatter",
         "x": [
          2,
          3,
          1,
          1,
          3,
          1
         ],
         "xaxis": "x",
         "y": [
          "2001",
          "2002",
          "2003",
          "2004",
          "2005",
          "2007"
         ],
         "yaxis": "y"
        },
        {
         "hovertemplate": "Nation=German<br>Count=%{x}<br>DateAcquired=%{y}<br>Females=%{marker.size}<extra></extra>",
         "legendgroup": "German",
         "marker": {
          "color": "#FECB52",
          "size": [
           0,
           1,
           1,
           0,
           1,
           4,
           0,
           7,
           0,
           0,
           0,
           0
          ],
          "sizemode": "area",
          "sizeref": 0.023333333333333334,
          "symbol": "circle"
         },
         "mode": "markers",
         "name": "German",
         "orientation": "h",
         "showlegend": true,
         "type": "scatter",
         "x": [
          2,
          7,
          11,
          4,
          8,
          11,
          9,
          20,
          3,
          2,
          2,
          8
         ],
         "xaxis": "x",
         "y": [
          "0",
          "2001",
          "2002",
          "2003",
          "2004",
          "2005",
          "2006",
          "2007",
          "2008",
          "2009",
          "2010",
          "2012"
         ],
         "yaxis": "y"
        },
        {
         "hovertemplate": "Nation=Dutch/Brazilian<br>Count=%{x}<br>DateAcquired=%{y}<br>Females=%{marker.size}<extra></extra>",
         "legendgroup": "Dutch/Brazilian",
         "marker": {
          "color": "#636efa",
          "size": [
           0,
           0
          ],
          "sizemode": "area",
          "sizeref": 0.023333333333333334,
          "symbol": "circle"
         },
         "mode": "markers",
         "name": "Dutch/Brazilian",
         "orientation": "h",
         "showlegend": true,
         "type": "scatter",
         "x": [
          65,
          1
         ],
         "xaxis": "x",
         "y": [
          "0",
          "2008"
         ],
         "yaxis": "y"
        },
        {
         "hovertemplate": "Nation=French<br>Count=%{x}<br>DateAcquired=%{y}<br>Females=%{marker.size}<extra></extra>",
         "legendgroup": "French",
         "marker": {
          "color": "#EF553B",
          "size": [
           2,
           2,
           0,
           13,
           2,
           2,
           3,
           0,
           0,
           1
          ],
          "sizemode": "area",
          "sizeref": 0.023333333333333334,
          "symbol": "circle"
         },
         "mode": "markers",
         "name": "French",
         "orientation": "h",
         "showlegend": true,
         "type": "scatter",
         "x": [
          14,
          26,
          18,
          26,
          13,
          15,
          15,
          1,
          1,
          1
         ],
         "xaxis": "x",
         "y": [
          "2001",
          "2002",
          "2003",
          "2004",
          "2005",
          "2006",
          "2007",
          "2008",
          "2009",
          "2011"
         ],
         "yaxis": "y"
        },
        {
         "hovertemplate": "Nation=missing<br>Count=%{x}<br>DateAcquired=%{y}<br>Females=%{marker.size}<extra></extra>",
         "legendgroup": "missing",
         "marker": {
          "color": "#00cc96",
          "size": [
           2,
           0,
           16,
           21,
           7,
           14,
           13,
           9,
           16,
           6,
           2,
           0,
           4,
           2,
           0
          ],
          "sizemode": "area",
          "sizeref": 0.023333333333333334,
          "symbol": "circle"
         },
         "mode": "markers",
         "name": "missing",
         "orientation": "h",
         "showlegend": true,
         "type": "scatter",
         "x": [
          4,
          1,
          74,
          100,
          45,
          83,
          74,
          56,
          78,
          40,
          21,
          5,
          11,
          13,
          1
         ],
         "xaxis": "x",
         "y": [
          "0",
          "2000",
          "2001",
          "2002",
          "2003",
          "2004",
          "2005",
          "2006",
          "2007",
          "2008",
          "2009",
          "2010",
          "2011",
          "2012",
          "2013"
         ],
         "yaxis": "y"
        },
        {
         "hovertemplate": "Nation=Croatian<br>Count=%{x}<br>DateAcquired=%{y}<br>Females=%{marker.size}<extra></extra>",
         "legendgroup": "Croatian",
         "marker": {
          "color": "#ab63fa",
          "size": [
           1,
           1
          ],
          "sizemode": "area",
          "sizeref": 0.023333333333333334,
          "symbol": "circle"
         },
         "mode": "markers",
         "name": "Croatian",
         "orientation": "h",
         "showlegend": true,
         "type": "scatter",
         "x": [
          1,
          1
         ],
         "xaxis": "x",
         "y": [
          "2003",
          "2005"
         ],
         "yaxis": "y"
        },
        {
         "hovertemplate": "Nation=Taiwanese<br>Count=%{x}<br>DateAcquired=%{y}<br>Females=%{marker.size}<extra></extra>",
         "legendgroup": "Taiwanese",
         "marker": {
          "color": "#FFA15A",
          "size": [
           1,
           2,
           0,
           0,
           0,
           0
          ],
          "sizemode": "area",
          "sizeref": 0.023333333333333334,
          "symbol": "circle"
         },
         "mode": "markers",
         "name": "Taiwanese",
         "orientation": "h",
         "showlegend": true,
         "type": "scatter",
         "x": [
          1,
          2,
          1,
          1,
          1,
          1
         ],
         "xaxis": "x",
         "y": [
          "0",
          "2001",
          "2002",
          "2004",
          "2006",
          "2007"
         ],
         "yaxis": "y"
        },
        {
         "hovertemplate": "Nation=New Zealander<br>Count=%{x}<br>DateAcquired=%{y}<br>Females=%{marker.size}<extra></extra>",
         "legendgroup": "New Zealander",
         "marker": {
          "color": "#19d3f3",
          "size": [
           0,
           1
          ],
          "sizemode": "area",
          "sizeref": 0.023333333333333334,
          "symbol": "circle"
         },
         "mode": "markers",
         "name": "New Zealander",
         "orientation": "h",
         "showlegend": true,
         "type": "scatter",
         "x": [
          1,
          3
         ],
         "xaxis": "x",
         "y": [
          "2004",
          "2005"
         ],
         "yaxis": "y"
        },
        {
         "hovertemplate": "Nation=Hungarian<br>Count=%{x}<br>DateAcquired=%{y}<br>Females=%{marker.size}<extra></extra>",
         "legendgroup": "Hungarian",
         "marker": {
          "color": "#FF6692",
          "size": [
           0,
           0
          ],
          "sizemode": "area",
          "sizeref": 0.023333333333333334,
          "symbol": "circle"
         },
         "mode": "markers",
         "name": "Hungarian",
         "orientation": "h",
         "showlegend": true,
         "type": "scatter",
         "x": [
          1,
          1
         ],
         "xaxis": "x",
         "y": [
          "2002",
          "2003"
         ],
         "yaxis": "y"
        },
        {
         "hovertemplate": "Nation=American/British<br>Count=%{x}<br>DateAcquired=%{y}<br>Females=%{marker.size}<extra></extra>",
         "legendgroup": "American/British",
         "marker": {
          "color": "#B6E880",
          "size": [
           1,
           0
          ],
          "sizemode": "area",
          "sizeref": 0.023333333333333334,
          "symbol": "circle"
         },
         "mode": "markers",
         "name": "American/British",
         "orientation": "h",
         "showlegend": true,
         "type": "scatter",
         "x": [
          1,
          1
         ],
         "xaxis": "x",
         "y": [
          "2001",
          "2003"
         ],
         "yaxis": "y"
        },
        {
         "hovertemplate": "Nation=Swiss<br>Count=%{x}<br>DateAcquired=%{y}<br>Females=%{marker.size}<extra></extra>",
         "legendgroup": "Swiss",
         "marker": {
          "color": "#FF97FF",
          "size": [
           0,
           0,
           0,
           0,
           0
          ],
          "sizemode": "area",
          "sizeref": 0.023333333333333334,
          "symbol": "circle"
         },
         "mode": "markers",
         "name": "Swiss",
         "orientation": "h",
         "showlegend": true,
         "type": "scatter",
         "x": [
          1,
          1,
          5,
          1,
          2
         ],
         "xaxis": "x",
         "y": [
          "2002",
          "2003",
          "2005",
          "2006",
          "2007"
         ],
         "yaxis": "y"
        },
        {
         "hovertemplate": "Nation=Argentine<br>Count=%{x}<br>DateAcquired=%{y}<br>Females=%{marker.size}<extra></extra>",
         "legendgroup": "Argentine",
         "marker": {
          "color": "#FECB52",
          "size": [
           0,
           1,
           0,
           4,
           0,
           1,
           0,
           0
          ],
          "sizemode": "area",
          "sizeref": 0.023333333333333334,
          "symbol": "circle"
         },
         "mode": "markers",
         "name": "Argentine",
         "orientation": "h",
         "showlegend": true,
         "type": "scatter",
         "x": [
          2,
          2,
          2,
          6,
          4,
          1,
          1,
          1
         ],
         "xaxis": "x",
         "y": [
          "2001",
          "2002",
          "2003",
          "2004",
          "2005",
          "2006",
          "2007",
          "2008"
         ],
         "yaxis": "y"
        },
        {
         "hovertemplate": "Nation=Greek<br>Count=%{x}<br>DateAcquired=%{y}<br>Females=%{marker.size}<extra></extra>",
         "legendgroup": "Greek",
         "marker": {
          "color": "#636efa",
          "size": [
           1,
           0,
           1,
           0
          ],
          "sizemode": "area",
          "sizeref": 0.023333333333333334,
          "symbol": "circle"
         },
         "mode": "markers",
         "name": "Greek",
         "orientation": "h",
         "showlegend": true,
         "type": "scatter",
         "x": [
          1,
          1,
          1,
          1
         ],
         "xaxis": "x",
         "y": [
          "2002",
          "2003",
          "2005",
          "2008"
         ],
         "yaxis": "y"
        },
        {
         "hovertemplate": "Nation=Canadian<br>Count=%{x}<br>DateAcquired=%{y}<br>Females=%{marker.size}<extra></extra>",
         "legendgroup": "Canadian",
         "marker": {
          "color": "#EF553B",
          "size": [
           1,
           1,
           5,
           2,
           2,
           3,
           1,
           5,
           4,
           4,
           1,
           4
          ],
          "sizemode": "area",
          "sizeref": 0.023333333333333334,
          "symbol": "circle"
         },
         "mode": "markers",
         "name": "Canadian",
         "orientation": "h",
         "showlegend": true,
         "type": "scatter",
         "x": [
          1,
          1,
          11,
          6,
          4,
          11,
          16,
          12,
          11,
          4,
          1,
          4
         ],
         "xaxis": "x",
         "y": [
          "0",
          "2000",
          "2001",
          "2002",
          "2003",
          "2004",
          "2005",
          "2006",
          "2007",
          "2008",
          "2009",
          "2011"
         ],
         "yaxis": "y"
        },
        {
         "hovertemplate": "Nation=Venezuelan<br>Count=%{x}<br>DateAcquired=%{y}<br>Females=%{marker.size}<extra></extra>",
         "legendgroup": "Venezuelan",
         "marker": {
          "color": "#00cc96",
          "size": [
           0
          ],
          "sizemode": "area",
          "sizeref": 0.023333333333333334,
          "symbol": "circle"
         },
         "mode": "markers",
         "name": "Venezuelan",
         "orientation": "h",
         "showlegend": true,
         "type": "scatter",
         "x": [
          1
         ],
         "xaxis": "x",
         "y": [
          "2001"
         ],
         "yaxis": "y"
        },
        {
         "hovertemplate": "Nation=Turkish<br>Count=%{x}<br>DateAcquired=%{y}<br>Females=%{marker.size}<extra></extra>",
         "legendgroup": "Turkish",
         "marker": {
          "color": "#ab63fa",
          "size": [
           0,
           1,
           0,
           0
          ],
          "sizemode": "area",
          "sizeref": 0.023333333333333334,
          "symbol": "circle"
         },
         "mode": "markers",
         "name": "Turkish",
         "orientation": "h",
         "showlegend": true,
         "type": "scatter",
         "x": [
          1,
          3,
          1,
          2
         ],
         "xaxis": "x",
         "y": [
          "2003",
          "2004",
          "2006",
          "2007"
         ],
         "yaxis": "y"
        },
        {
         "hovertemplate": "Nation=Chilean?Chilean<br>Count=%{x}<br>DateAcquired=%{y}<br>Females=%{marker.size}<extra></extra>",
         "legendgroup": "Chilean?Chilean",
         "marker": {
          "color": "#FFA15A",
          "size": [
           0,
           0
          ],
          "sizemode": "area",
          "sizeref": 0.023333333333333334,
          "symbol": "circle"
         },
         "mode": "markers",
         "name": "Chilean?Chilean",
         "orientation": "h",
         "showlegend": true,
         "type": "scatter",
         "x": [
          1,
          1
         ],
         "xaxis": "x",
         "y": [
          "2002",
          "2003"
         ],
         "yaxis": "y"
        },
        {
         "hovertemplate": "Nation=Polish/American<br>Count=%{x}<br>DateAcquired=%{y}<br>Females=%{marker.size}<extra></extra>",
         "legendgroup": "Polish/American",
         "marker": {
          "color": "#19d3f3",
          "size": [
           0,
           0
          ],
          "sizemode": "area",
          "sizeref": 0.023333333333333334,
          "symbol": "circle"
         },
         "mode": "markers",
         "name": "Polish/American",
         "orientation": "h",
         "showlegend": true,
         "type": "scatter",
         "x": [
          1,
          1
         ],
         "xaxis": "x",
         "y": [
          "2003",
          "2004"
         ],
         "yaxis": "y"
        },
        {
         "hovertemplate": "Nation=Norwegian<br>Count=%{x}<br>DateAcquired=%{y}<br>Females=%{marker.size}<extra></extra>",
         "legendgroup": "Norwegian",
         "marker": {
          "color": "#FF6692",
          "size": [
           0,
           1
          ],
          "sizemode": "area",
          "sizeref": 0.023333333333333334,
          "symbol": "circle"
         },
         "mode": "markers",
         "name": "Norwegian",
         "orientation": "h",
         "showlegend": true,
         "type": "scatter",
         "x": [
          1,
          1
         ],
         "xaxis": "x",
         "y": [
          "2001",
          "2002"
         ],
         "yaxis": "y"
        },
        {
         "hovertemplate": "Nation=Japanese<br>Count=%{x}<br>DateAcquired=%{y}<br>Females=%{marker.size}<extra></extra>",
         "legendgroup": "Japanese",
         "marker": {
          "color": "#B6E880",
          "size": [
           0,
           1,
           0,
           2,
           0,
           1,
           0
          ],
          "sizemode": "area",
          "sizeref": 0.023333333333333334,
          "symbol": "circle"
         },
         "mode": "markers",
         "name": "Japanese",
         "orientation": "h",
         "showlegend": true,
         "type": "scatter",
         "x": [
          1,
          2,
          1,
          2,
          2,
          7,
          5
         ],
         "xaxis": "x",
         "y": [
          "2000",
          "2001",
          "2002",
          "2003",
          "2004",
          "2005",
          "2006"
         ],
         "yaxis": "y"
        },
        {
         "hovertemplate": "Nation=Australian<br>Count=%{x}<br>DateAcquired=%{y}<br>Females=%{marker.size}<extra></extra>",
         "legendgroup": "Australian",
         "marker": {
          "color": "#FF97FF",
          "size": [
           1,
           2,
           1,
           3,
           1,
           1,
           0,
           0,
           0,
           0
          ],
          "sizemode": "area",
          "sizeref": 0.023333333333333334,
          "symbol": "circle"
         },
         "mode": "markers",
         "name": "Australian",
         "orientation": "h",
         "showlegend": true,
         "type": "scatter",
         "x": [
          5,
          2,
          5,
          8,
          3,
          2,
          1,
          2,
          1,
          1
         ],
         "xaxis": "x",
         "y": [
          "2001",
          "2002",
          "2004",
          "2005",
          "2006",
          "2007",
          "2008",
          "2010",
          "2011",
          "2012"
         ],
         "yaxis": "y"
        }
       ],
       "layout": {
        "legend": {
         "itemsizing": "constant",
         "title": {
          "text": "Nation"
         },
         "tracegroupgap": 0
        },
        "template": {
         "data": {
          "bar": [
           {
            "error_x": {
             "color": "#2a3f5f"
            },
            "error_y": {
             "color": "#2a3f5f"
            },
            "marker": {
             "line": {
              "color": "#E5ECF6",
              "width": 0.5
             },
             "pattern": {
              "fillmode": "overlay",
              "size": 10,
              "solidity": 0.2
             }
            },
            "type": "bar"
           }
          ],
          "barpolar": [
           {
            "marker": {
             "line": {
              "color": "#E5ECF6",
              "width": 0.5
             },
             "pattern": {
              "fillmode": "overlay",
              "size": 10,
              "solidity": 0.2
             }
            },
            "type": "barpolar"
           }
          ],
          "carpet": [
           {
            "aaxis": {
             "endlinecolor": "#2a3f5f",
             "gridcolor": "white",
             "linecolor": "white",
             "minorgridcolor": "white",
             "startlinecolor": "#2a3f5f"
            },
            "baxis": {
             "endlinecolor": "#2a3f5f",
             "gridcolor": "white",
             "linecolor": "white",
             "minorgridcolor": "white",
             "startlinecolor": "#2a3f5f"
            },
            "type": "carpet"
           }
          ],
          "choropleth": [
           {
            "colorbar": {
             "outlinewidth": 0,
             "ticks": ""
            },
            "type": "choropleth"
           }
          ],
          "contour": [
           {
            "colorbar": {
             "outlinewidth": 0,
             "ticks": ""
            },
            "colorscale": [
             [
              0,
              "#0d0887"
             ],
             [
              0.1111111111111111,
              "#46039f"
             ],
             [
              0.2222222222222222,
              "#7201a8"
             ],
             [
              0.3333333333333333,
              "#9c179e"
             ],
             [
              0.4444444444444444,
              "#bd3786"
             ],
             [
              0.5555555555555556,
              "#d8576b"
             ],
             [
              0.6666666666666666,
              "#ed7953"
             ],
             [
              0.7777777777777778,
              "#fb9f3a"
             ],
             [
              0.8888888888888888,
              "#fdca26"
             ],
             [
              1,
              "#f0f921"
             ]
            ],
            "type": "contour"
           }
          ],
          "contourcarpet": [
           {
            "colorbar": {
             "outlinewidth": 0,
             "ticks": ""
            },
            "type": "contourcarpet"
           }
          ],
          "heatmap": [
           {
            "colorbar": {
             "outlinewidth": 0,
             "ticks": ""
            },
            "colorscale": [
             [
              0,
              "#0d0887"
             ],
             [
              0.1111111111111111,
              "#46039f"
             ],
             [
              0.2222222222222222,
              "#7201a8"
             ],
             [
              0.3333333333333333,
              "#9c179e"
             ],
             [
              0.4444444444444444,
              "#bd3786"
             ],
             [
              0.5555555555555556,
              "#d8576b"
             ],
             [
              0.6666666666666666,
              "#ed7953"
             ],
             [
              0.7777777777777778,
              "#fb9f3a"
             ],
             [
              0.8888888888888888,
              "#fdca26"
             ],
             [
              1,
              "#f0f921"
             ]
            ],
            "type": "heatmap"
           }
          ],
          "heatmapgl": [
           {
            "colorbar": {
             "outlinewidth": 0,
             "ticks": ""
            },
            "colorscale": [
             [
              0,
              "#0d0887"
             ],
             [
              0.1111111111111111,
              "#46039f"
             ],
             [
              0.2222222222222222,
              "#7201a8"
             ],
             [
              0.3333333333333333,
              "#9c179e"
             ],
             [
              0.4444444444444444,
              "#bd3786"
             ],
             [
              0.5555555555555556,
              "#d8576b"
             ],
             [
              0.6666666666666666,
              "#ed7953"
             ],
             [
              0.7777777777777778,
              "#fb9f3a"
             ],
             [
              0.8888888888888888,
              "#fdca26"
             ],
             [
              1,
              "#f0f921"
             ]
            ],
            "type": "heatmapgl"
           }
          ],
          "histogram": [
           {
            "marker": {
             "pattern": {
              "fillmode": "overlay",
              "size": 10,
              "solidity": 0.2
             }
            },
            "type": "histogram"
           }
          ],
          "histogram2d": [
           {
            "colorbar": {
             "outlinewidth": 0,
             "ticks": ""
            },
            "colorscale": [
             [
              0,
              "#0d0887"
             ],
             [
              0.1111111111111111,
              "#46039f"
             ],
             [
              0.2222222222222222,
              "#7201a8"
             ],
             [
              0.3333333333333333,
              "#9c179e"
             ],
             [
              0.4444444444444444,
              "#bd3786"
             ],
             [
              0.5555555555555556,
              "#d8576b"
             ],
             [
              0.6666666666666666,
              "#ed7953"
             ],
             [
              0.7777777777777778,
              "#fb9f3a"
             ],
             [
              0.8888888888888888,
              "#fdca26"
             ],
             [
              1,
              "#f0f921"
             ]
            ],
            "type": "histogram2d"
           }
          ],
          "histogram2dcontour": [
           {
            "colorbar": {
             "outlinewidth": 0,
             "ticks": ""
            },
            "colorscale": [
             [
              0,
              "#0d0887"
             ],
             [
              0.1111111111111111,
              "#46039f"
             ],
             [
              0.2222222222222222,
              "#7201a8"
             ],
             [
              0.3333333333333333,
              "#9c179e"
             ],
             [
              0.4444444444444444,
              "#bd3786"
             ],
             [
              0.5555555555555556,
              "#d8576b"
             ],
             [
              0.6666666666666666,
              "#ed7953"
             ],
             [
              0.7777777777777778,
              "#fb9f3a"
             ],
             [
              0.8888888888888888,
              "#fdca26"
             ],
             [
              1,
              "#f0f921"
             ]
            ],
            "type": "histogram2dcontour"
           }
          ],
          "mesh3d": [
           {
            "colorbar": {
             "outlinewidth": 0,
             "ticks": ""
            },
            "type": "mesh3d"
           }
          ],
          "parcoords": [
           {
            "line": {
             "colorbar": {
              "outlinewidth": 0,
              "ticks": ""
             }
            },
            "type": "parcoords"
           }
          ],
          "pie": [
           {
            "automargin": true,
            "type": "pie"
           }
          ],
          "scatter": [
           {
            "fillpattern": {
             "fillmode": "overlay",
             "size": 10,
             "solidity": 0.2
            },
            "type": "scatter"
           }
          ],
          "scatter3d": [
           {
            "line": {
             "colorbar": {
              "outlinewidth": 0,
              "ticks": ""
             }
            },
            "marker": {
             "colorbar": {
              "outlinewidth": 0,
              "ticks": ""
             }
            },
            "type": "scatter3d"
           }
          ],
          "scattercarpet": [
           {
            "marker": {
             "colorbar": {
              "outlinewidth": 0,
              "ticks": ""
             }
            },
            "type": "scattercarpet"
           }
          ],
          "scattergeo": [
           {
            "marker": {
             "colorbar": {
              "outlinewidth": 0,
              "ticks": ""
             }
            },
            "type": "scattergeo"
           }
          ],
          "scattergl": [
           {
            "marker": {
             "colorbar": {
              "outlinewidth": 0,
              "ticks": ""
             }
            },
            "type": "scattergl"
           }
          ],
          "scattermapbox": [
           {
            "marker": {
             "colorbar": {
              "outlinewidth": 0,
              "ticks": ""
             }
            },
            "type": "scattermapbox"
           }
          ],
          "scatterpolar": [
           {
            "marker": {
             "colorbar": {
              "outlinewidth": 0,
              "ticks": ""
             }
            },
            "type": "scatterpolar"
           }
          ],
          "scatterpolargl": [
           {
            "marker": {
             "colorbar": {
              "outlinewidth": 0,
              "ticks": ""
             }
            },
            "type": "scatterpolargl"
           }
          ],
          "scatterternary": [
           {
            "marker": {
             "colorbar": {
              "outlinewidth": 0,
              "ticks": ""
             }
            },
            "type": "scatterternary"
           }
          ],
          "surface": [
           {
            "colorbar": {
             "outlinewidth": 0,
             "ticks": ""
            },
            "colorscale": [
             [
              0,
              "#0d0887"
             ],
             [
              0.1111111111111111,
              "#46039f"
             ],
             [
              0.2222222222222222,
              "#7201a8"
             ],
             [
              0.3333333333333333,
              "#9c179e"
             ],
             [
              0.4444444444444444,
              "#bd3786"
             ],
             [
              0.5555555555555556,
              "#d8576b"
             ],
             [
              0.6666666666666666,
              "#ed7953"
             ],
             [
              0.7777777777777778,
              "#fb9f3a"
             ],
             [
              0.8888888888888888,
              "#fdca26"
             ],
             [
              1,
              "#f0f921"
             ]
            ],
            "type": "surface"
           }
          ],
          "table": [
           {
            "cells": {
             "fill": {
              "color": "#EBF0F8"
             },
             "line": {
              "color": "white"
             }
            },
            "header": {
             "fill": {
              "color": "#C8D4E3"
             },
             "line": {
              "color": "white"
             }
            },
            "type": "table"
           }
          ]
         },
         "layout": {
          "annotationdefaults": {
           "arrowcolor": "#2a3f5f",
           "arrowhead": 0,
           "arrowwidth": 1
          },
          "autotypenumbers": "strict",
          "coloraxis": {
           "colorbar": {
            "outlinewidth": 0,
            "ticks": ""
           }
          },
          "colorscale": {
           "diverging": [
            [
             0,
             "#8e0152"
            ],
            [
             0.1,
             "#c51b7d"
            ],
            [
             0.2,
             "#de77ae"
            ],
            [
             0.3,
             "#f1b6da"
            ],
            [
             0.4,
             "#fde0ef"
            ],
            [
             0.5,
             "#f7f7f7"
            ],
            [
             0.6,
             "#e6f5d0"
            ],
            [
             0.7,
             "#b8e186"
            ],
            [
             0.8,
             "#7fbc41"
            ],
            [
             0.9,
             "#4d9221"
            ],
            [
             1,
             "#276419"
            ]
           ],
           "sequential": [
            [
             0,
             "#0d0887"
            ],
            [
             0.1111111111111111,
             "#46039f"
            ],
            [
             0.2222222222222222,
             "#7201a8"
            ],
            [
             0.3333333333333333,
             "#9c179e"
            ],
            [
             0.4444444444444444,
             "#bd3786"
            ],
            [
             0.5555555555555556,
             "#d8576b"
            ],
            [
             0.6666666666666666,
             "#ed7953"
            ],
            [
             0.7777777777777778,
             "#fb9f3a"
            ],
            [
             0.8888888888888888,
             "#fdca26"
            ],
            [
             1,
             "#f0f921"
            ]
           ],
           "sequentialminus": [
            [
             0,
             "#0d0887"
            ],
            [
             0.1111111111111111,
             "#46039f"
            ],
            [
             0.2222222222222222,
             "#7201a8"
            ],
            [
             0.3333333333333333,
             "#9c179e"
            ],
            [
             0.4444444444444444,
             "#bd3786"
            ],
            [
             0.5555555555555556,
             "#d8576b"
            ],
            [
             0.6666666666666666,
             "#ed7953"
            ],
            [
             0.7777777777777778,
             "#fb9f3a"
            ],
            [
             0.8888888888888888,
             "#fdca26"
            ],
            [
             1,
             "#f0f921"
            ]
           ]
          },
          "colorway": [
           "#636efa",
           "#EF553B",
           "#00cc96",
           "#ab63fa",
           "#FFA15A",
           "#19d3f3",
           "#FF6692",
           "#B6E880",
           "#FF97FF",
           "#FECB52"
          ],
          "font": {
           "color": "#2a3f5f"
          },
          "geo": {
           "bgcolor": "white",
           "lakecolor": "white",
           "landcolor": "#E5ECF6",
           "showlakes": true,
           "showland": true,
           "subunitcolor": "white"
          },
          "hoverlabel": {
           "align": "left"
          },
          "hovermode": "closest",
          "mapbox": {
           "style": "light"
          },
          "paper_bgcolor": "white",
          "plot_bgcolor": "#E5ECF6",
          "polar": {
           "angularaxis": {
            "gridcolor": "white",
            "linecolor": "white",
            "ticks": ""
           },
           "bgcolor": "#E5ECF6",
           "radialaxis": {
            "gridcolor": "white",
            "linecolor": "white",
            "ticks": ""
           }
          },
          "scene": {
           "xaxis": {
            "backgroundcolor": "#E5ECF6",
            "gridcolor": "white",
            "gridwidth": 2,
            "linecolor": "white",
            "showbackground": true,
            "ticks": "",
            "zerolinecolor": "white"
           },
           "yaxis": {
            "backgroundcolor": "#E5ECF6",
            "gridcolor": "white",
            "gridwidth": 2,
            "linecolor": "white",
            "showbackground": true,
            "ticks": "",
            "zerolinecolor": "white"
           },
           "zaxis": {
            "backgroundcolor": "#E5ECF6",
            "gridcolor": "white",
            "gridwidth": 2,
            "linecolor": "white",
            "showbackground": true,
            "ticks": "",
            "zerolinecolor": "white"
           }
          },
          "shapedefaults": {
           "line": {
            "color": "#2a3f5f"
           }
          },
          "ternary": {
           "aaxis": {
            "gridcolor": "white",
            "linecolor": "white",
            "ticks": ""
           },
           "baxis": {
            "gridcolor": "white",
            "linecolor": "white",
            "ticks": ""
           },
           "bgcolor": "#E5ECF6",
           "caxis": {
            "gridcolor": "white",
            "linecolor": "white",
            "ticks": ""
           }
          },
          "title": {
           "x": 0.05
          },
          "xaxis": {
           "automargin": true,
           "gridcolor": "white",
           "linecolor": "white",
           "ticks": "",
           "title": {
            "standoff": 15
           },
           "zerolinecolor": "white",
           "zerolinewidth": 2
          },
          "yaxis": {
           "automargin": true,
           "gridcolor": "white",
           "linecolor": "white",
           "ticks": "",
           "title": {
            "standoff": 15
           },
           "zerolinecolor": "white",
           "zerolinewidth": 2
          }
         }
        },
        "title": {
         "text": "Rhizome's"
        },
        "xaxis": {
         "anchor": "y",
         "domain": [
          0,
          1
         ],
         "title": {
          "text": "Count"
         },
         "type": "log"
        },
        "yaxis": {
         "anchor": "x",
         "domain": [
          0,
          1
         ],
         "title": {
          "text": "DateAcquired"
         }
        }
       }
      }
     },
     "metadata": {},
     "output_type": "display_data"
    }
   ],
   "source": [
    "fig7 = px.scatter(df_nats_rhizome,\n",
    "                 x=\"Count\", y=\"DateAcquired\", size=\"Females\", color=\"Nation\",\n",
    "                 log_x=True, size_max=30,\n",
    "                 title=\"Rhizome's\")\n",
    "fig7.show()"
   ]
  },
  {
   "cell_type": "code",
   "execution_count": 39,
   "metadata": {},
   "outputs": [
    {
     "data": {
      "text/html": [
       "<div>\n",
       "<style scoped>\n",
       "    .dataframe tbody tr th:only-of-type {\n",
       "        vertical-align: middle;\n",
       "    }\n",
       "\n",
       "    .dataframe tbody tr th {\n",
       "        vertical-align: top;\n",
       "    }\n",
       "\n",
       "    .dataframe thead th {\n",
       "        text-align: right;\n",
       "    }\n",
       "</style>\n",
       "<table border=\"1\" class=\"dataframe\">\n",
       "  <thead>\n",
       "    <tr style=\"text-align: right;\">\n",
       "      <th></th>\n",
       "      <th>Title</th>\n",
       "      <th>Artist</th>\n",
       "      <th>ID</th>\n",
       "      <th>DateCreated</th>\n",
       "      <th>Medium</th>\n",
       "      <th>Department</th>\n",
       "      <th>DateAcquired</th>\n",
       "      <th>URL</th>\n",
       "      <th>ThumbnailURL</th>\n",
       "      <th>Nationality</th>\n",
       "      <th>Gender</th>\n",
       "    </tr>\n",
       "  </thead>\n",
       "  <tbody>\n",
       "    <tr>\n",
       "      <th>0</th>\n",
       "      <td>Ferdinandsbrücke Project, Vienna, Austria (Ele...</td>\n",
       "      <td>Otto Wagner</td>\n",
       "      <td>6210</td>\n",
       "      <td>1896</td>\n",
       "      <td>Ink and cut-and-pasted painted pages on paper</td>\n",
       "      <td>Architecture &amp; Design</td>\n",
       "      <td>1996</td>\n",
       "      <td>http://www.moma.org/collection/works/2</td>\n",
       "      <td>http://www.moma.org/media/W1siZiIsIjU5NDA1Il0s...</td>\n",
       "      <td>Austrian</td>\n",
       "      <td>M</td>\n",
       "    </tr>\n",
       "    <tr>\n",
       "      <th>1</th>\n",
       "      <td>Villa near Vienna Project, Outside Vienna, Aus...</td>\n",
       "      <td>Emil Hoppe</td>\n",
       "      <td>7605</td>\n",
       "      <td>1903</td>\n",
       "      <td>Graphite, pen, color pencil, ink, and gouache ...</td>\n",
       "      <td>Architecture &amp; Design</td>\n",
       "      <td>1997</td>\n",
       "      <td>http://www.moma.org/collection/works/4</td>\n",
       "      <td>http://www.moma.org/media/W1siZiIsIjk4Il0sWyJw...</td>\n",
       "      <td>Austrian</td>\n",
       "      <td>M</td>\n",
       "    </tr>\n",
       "    <tr>\n",
       "      <th>2</th>\n",
       "      <td>Villa, project, outside Vienna, Austria, Exter...</td>\n",
       "      <td>Emil Hoppe</td>\n",
       "      <td>7605</td>\n",
       "      <td>1903</td>\n",
       "      <td>Graphite, color pencil, ink, and gouache on tr...</td>\n",
       "      <td>Architecture &amp; Design</td>\n",
       "      <td>1997</td>\n",
       "      <td>http://www.moma.org/collection/works/6</td>\n",
       "      <td>http://www.moma.org/media/W1siZiIsIjEyNiJdLFsi...</td>\n",
       "      <td>Austrian</td>\n",
       "      <td>M</td>\n",
       "    </tr>\n",
       "    <tr>\n",
       "      <th>3</th>\n",
       "      <td>The Manhattan Transcripts Project, New York, N...</td>\n",
       "      <td>Bernard Tschumi</td>\n",
       "      <td>7056</td>\n",
       "      <td>1976</td>\n",
       "      <td>Gelatin silver photograph</td>\n",
       "      <td>Architecture &amp; Design</td>\n",
       "      <td>1995</td>\n",
       "      <td>http://www.moma.org/collection/works/7</td>\n",
       "      <td>http://www.moma.org/media/W1siZiIsIjE0OCJdLFsi...</td>\n",
       "      <td>missing</td>\n",
       "      <td>M</td>\n",
       "    </tr>\n",
       "    <tr>\n",
       "      <th>4</th>\n",
       "      <td>The Manhattan Transcripts Project, New York, N...</td>\n",
       "      <td>Bernard Tschumi</td>\n",
       "      <td>7056</td>\n",
       "      <td>1976</td>\n",
       "      <td>Gelatin silver photographs</td>\n",
       "      <td>Architecture &amp; Design</td>\n",
       "      <td>1995</td>\n",
       "      <td>http://www.moma.org/collection/works/8</td>\n",
       "      <td>http://www.moma.org/media/W1siZiIsIjE0OSJdLFsi...</td>\n",
       "      <td>missing</td>\n",
       "      <td>M</td>\n",
       "    </tr>\n",
       "    <tr>\n",
       "      <th>...</th>\n",
       "      <td>...</td>\n",
       "      <td>...</td>\n",
       "      <td>...</td>\n",
       "      <td>...</td>\n",
       "      <td>...</td>\n",
       "      <td>...</td>\n",
       "      <td>...</td>\n",
       "      <td>...</td>\n",
       "      <td>...</td>\n",
       "      <td>...</td>\n",
       "      <td>...</td>\n",
       "    </tr>\n",
       "    <tr>\n",
       "      <th>138145</th>\n",
       "      <td>Cóctel (Cocktail)</td>\n",
       "      <td>Alejandro Kuropatwa</td>\n",
       "      <td>132939</td>\n",
       "      <td>1996</td>\n",
       "      <td>Chromogenic color print</td>\n",
       "      <td>Photography</td>\n",
       "      <td>2020</td>\n",
       "      <td>missing</td>\n",
       "      <td>missing</td>\n",
       "      <td>Argentine</td>\n",
       "      <td>missing</td>\n",
       "    </tr>\n",
       "    <tr>\n",
       "      <th>138146</th>\n",
       "      <td>Cóctel (Cocktail)</td>\n",
       "      <td>Alejandro Kuropatwa</td>\n",
       "      <td>132939</td>\n",
       "      <td>1996</td>\n",
       "      <td>Chromogenic color print</td>\n",
       "      <td>Photography</td>\n",
       "      <td>2020</td>\n",
       "      <td>missing</td>\n",
       "      <td>missing</td>\n",
       "      <td>Argentine</td>\n",
       "      <td>missing</td>\n",
       "    </tr>\n",
       "    <tr>\n",
       "      <th>138147</th>\n",
       "      <td>Cóctel (Cocktail)</td>\n",
       "      <td>Alejandro Kuropatwa</td>\n",
       "      <td>132939</td>\n",
       "      <td>1996</td>\n",
       "      <td>Chromogenic color print</td>\n",
       "      <td>Photography</td>\n",
       "      <td>2020</td>\n",
       "      <td>missing</td>\n",
       "      <td>missing</td>\n",
       "      <td>Argentine</td>\n",
       "      <td>missing</td>\n",
       "    </tr>\n",
       "    <tr>\n",
       "      <th>138148</th>\n",
       "      <td>Cóctel (Cocktail)</td>\n",
       "      <td>Alejandro Kuropatwa</td>\n",
       "      <td>132939</td>\n",
       "      <td>1996</td>\n",
       "      <td>Chromogenic color print</td>\n",
       "      <td>Photography</td>\n",
       "      <td>2020</td>\n",
       "      <td>missing</td>\n",
       "      <td>missing</td>\n",
       "      <td>Argentine</td>\n",
       "      <td>missing</td>\n",
       "    </tr>\n",
       "    <tr>\n",
       "      <th>138149</th>\n",
       "      <td>May's Blue Eye</td>\n",
       "      <td>Farah Al Qasimi</td>\n",
       "      <td>131770</td>\n",
       "      <td>2020</td>\n",
       "      <td>Pigmented inkjet print</td>\n",
       "      <td>Photography</td>\n",
       "      <td>2020</td>\n",
       "      <td>missing</td>\n",
       "      <td>missing</td>\n",
       "      <td>Emirati</td>\n",
       "      <td>F</td>\n",
       "    </tr>\n",
       "  </tbody>\n",
       "</table>\n",
       "<p>138150 rows × 11 columns</p>\n",
       "</div>"
      ],
      "text/plain": [
       "                                                    Title  \\\n",
       "0       Ferdinandsbrücke Project, Vienna, Austria (Ele...   \n",
       "1       Villa near Vienna Project, Outside Vienna, Aus...   \n",
       "2       Villa, project, outside Vienna, Austria, Exter...   \n",
       "3       The Manhattan Transcripts Project, New York, N...   \n",
       "4       The Manhattan Transcripts Project, New York, N...   \n",
       "...                                                   ...   \n",
       "138145                                 Cóctel (Cocktail)   \n",
       "138146                                 Cóctel (Cocktail)   \n",
       "138147                                 Cóctel (Cocktail)   \n",
       "138148                                 Cóctel (Cocktail)   \n",
       "138149                                     May's Blue Eye   \n",
       "\n",
       "                     Artist      ID  DateCreated  \\\n",
       "0               Otto Wagner    6210         1896   \n",
       "1                Emil Hoppe    7605         1903   \n",
       "2                Emil Hoppe    7605         1903   \n",
       "3           Bernard Tschumi    7056         1976   \n",
       "4           Bernard Tschumi    7056         1976   \n",
       "...                     ...     ...          ...   \n",
       "138145  Alejandro Kuropatwa  132939         1996   \n",
       "138146  Alejandro Kuropatwa  132939         1996   \n",
       "138147  Alejandro Kuropatwa  132939         1996   \n",
       "138148  Alejandro Kuropatwa  132939         1996   \n",
       "138149      Farah Al Qasimi  131770         2020   \n",
       "\n",
       "                                                   Medium  \\\n",
       "0           Ink and cut-and-pasted painted pages on paper   \n",
       "1       Graphite, pen, color pencil, ink, and gouache ...   \n",
       "2       Graphite, color pencil, ink, and gouache on tr...   \n",
       "3                               Gelatin silver photograph   \n",
       "4                              Gelatin silver photographs   \n",
       "...                                                   ...   \n",
       "138145                            Chromogenic color print   \n",
       "138146                            Chromogenic color print   \n",
       "138147                            Chromogenic color print   \n",
       "138148                            Chromogenic color print   \n",
       "138149                             Pigmented inkjet print   \n",
       "\n",
       "                   Department DateAcquired  \\\n",
       "0       Architecture & Design         1996   \n",
       "1       Architecture & Design         1997   \n",
       "2       Architecture & Design         1997   \n",
       "3       Architecture & Design         1995   \n",
       "4       Architecture & Design         1995   \n",
       "...                       ...          ...   \n",
       "138145            Photography         2020   \n",
       "138146            Photography         2020   \n",
       "138147            Photography         2020   \n",
       "138148            Photography         2020   \n",
       "138149            Photography         2020   \n",
       "\n",
       "                                           URL  \\\n",
       "0       http://www.moma.org/collection/works/2   \n",
       "1       http://www.moma.org/collection/works/4   \n",
       "2       http://www.moma.org/collection/works/6   \n",
       "3       http://www.moma.org/collection/works/7   \n",
       "4       http://www.moma.org/collection/works/8   \n",
       "...                                        ...   \n",
       "138145                                 missing   \n",
       "138146                                 missing   \n",
       "138147                                 missing   \n",
       "138148                                 missing   \n",
       "138149                                 missing   \n",
       "\n",
       "                                             ThumbnailURL Nationality   Gender  \n",
       "0       http://www.moma.org/media/W1siZiIsIjU5NDA1Il0s...    Austrian        M  \n",
       "1       http://www.moma.org/media/W1siZiIsIjk4Il0sWyJw...    Austrian        M  \n",
       "2       http://www.moma.org/media/W1siZiIsIjEyNiJdLFsi...    Austrian        M  \n",
       "3       http://www.moma.org/media/W1siZiIsIjE0OCJdLFsi...     missing        M  \n",
       "4       http://www.moma.org/media/W1siZiIsIjE0OSJdLFsi...     missing        M  \n",
       "...                                                   ...         ...      ...  \n",
       "138145                                            missing   Argentine  missing  \n",
       "138146                                            missing   Argentine  missing  \n",
       "138147                                            missing   Argentine  missing  \n",
       "138148                                            missing   Argentine  missing  \n",
       "138149                                            missing     Emirati        F  \n",
       "\n",
       "[138150 rows x 11 columns]"
      ]
     },
     "execution_count": 39,
     "metadata": {},
     "output_type": "execute_result"
    }
   ],
   "source": [
    "MoMA_complete = pd.concat([before80, after80], axis=0, ignore_index=True)\n",
    "MoMA_complete"
   ]
  },
  {
   "cell_type": "code",
   "execution_count": 40,
   "metadata": {},
   "outputs": [
    {
     "name": "stderr",
     "output_type": "stream",
     "text": [
      "/var/folders/qj/xh48vw9d4z5_h6wzs6r2smdh0000gn/T/ipykernel_29797/758773313.py:8: SettingWithCopyWarning:\n",
      "\n",
      "\n",
      "A value is trying to be set on a copy of a slice from a DataFrame.\n",
      "Try using .loc[row_indexer,col_indexer] = value instead\n",
      "\n",
      "See the caveats in the documentation: https://pandas.pydata.org/pandas-docs/stable/user_guide/indexing.html#returning-a-view-versus-a-copy\n",
      "\n"
     ]
    },
    {
     "data": {
      "text/html": [
       "<div>\n",
       "<style scoped>\n",
       "    .dataframe tbody tr th:only-of-type {\n",
       "        vertical-align: middle;\n",
       "    }\n",
       "\n",
       "    .dataframe tbody tr th {\n",
       "        vertical-align: top;\n",
       "    }\n",
       "\n",
       "    .dataframe thead th {\n",
       "        text-align: right;\n",
       "    }\n",
       "</style>\n",
       "<table border=\"1\" class=\"dataframe\">\n",
       "  <thead>\n",
       "    <tr style=\"text-align: right;\">\n",
       "      <th></th>\n",
       "      <th>Department</th>\n",
       "      <th>DateAcquired</th>\n",
       "      <th>Count</th>\n",
       "      <th>Females</th>\n",
       "    </tr>\n",
       "  </thead>\n",
       "  <tbody>\n",
       "    <tr>\n",
       "      <th>0</th>\n",
       "      <td>Fluxus Collection</td>\n",
       "      <td>2008</td>\n",
       "      <td>946</td>\n",
       "      <td>71</td>\n",
       "    </tr>\n",
       "    <tr>\n",
       "      <th>1</th>\n",
       "      <td>Fluxus Collection</td>\n",
       "      <td>2008</td>\n",
       "      <td>946</td>\n",
       "      <td>71</td>\n",
       "    </tr>\n",
       "    <tr>\n",
       "      <th>2</th>\n",
       "      <td>Architecture &amp; Design</td>\n",
       "      <td>1932</td>\n",
       "      <td>2</td>\n",
       "      <td>0</td>\n",
       "    </tr>\n",
       "    <tr>\n",
       "      <th>3</th>\n",
       "      <td>Architecture &amp; Design</td>\n",
       "      <td>1934</td>\n",
       "      <td>45</td>\n",
       "      <td>0</td>\n",
       "    </tr>\n",
       "    <tr>\n",
       "      <th>4</th>\n",
       "      <td>Architecture &amp; Design</td>\n",
       "      <td>1934</td>\n",
       "      <td>45</td>\n",
       "      <td>0</td>\n",
       "    </tr>\n",
       "    <tr>\n",
       "      <th>...</th>\n",
       "      <td>...</td>\n",
       "      <td>...</td>\n",
       "      <td>...</td>\n",
       "      <td>...</td>\n",
       "    </tr>\n",
       "    <tr>\n",
       "      <th>700</th>\n",
       "      <td>Film</td>\n",
       "      <td>2016</td>\n",
       "      <td>70</td>\n",
       "      <td>6</td>\n",
       "    </tr>\n",
       "    <tr>\n",
       "      <th>701</th>\n",
       "      <td>Film</td>\n",
       "      <td>2017</td>\n",
       "      <td>75</td>\n",
       "      <td>19</td>\n",
       "    </tr>\n",
       "    <tr>\n",
       "      <th>702</th>\n",
       "      <td>Film</td>\n",
       "      <td>2017</td>\n",
       "      <td>75</td>\n",
       "      <td>19</td>\n",
       "    </tr>\n",
       "    <tr>\n",
       "      <th>703</th>\n",
       "      <td>Film</td>\n",
       "      <td>2017</td>\n",
       "      <td>75</td>\n",
       "      <td>19</td>\n",
       "    </tr>\n",
       "    <tr>\n",
       "      <th>704</th>\n",
       "      <td>Film</td>\n",
       "      <td>2018</td>\n",
       "      <td>110</td>\n",
       "      <td>34</td>\n",
       "    </tr>\n",
       "  </tbody>\n",
       "</table>\n",
       "<p>705 rows × 4 columns</p>\n",
       "</div>"
      ],
      "text/plain": [
       "                Department DateAcquired  Count  Females\n",
       "0        Fluxus Collection         2008    946       71\n",
       "1        Fluxus Collection         2008    946       71\n",
       "2    Architecture & Design         1932      2        0\n",
       "3    Architecture & Design         1934     45        0\n",
       "4    Architecture & Design         1934     45        0\n",
       "..                     ...          ...    ...      ...\n",
       "700                   Film         2016     70        6\n",
       "701                   Film         2017     75       19\n",
       "702                   Film         2017     75       19\n",
       "703                   Film         2017     75       19\n",
       "704                   Film         2018    110       34\n",
       "\n",
       "[705 rows x 4 columns]"
      ]
     },
     "execution_count": 40,
     "metadata": {},
     "output_type": "execute_result"
    }
   ],
   "source": [
    "MoMA_complete.Department = MoMA_complete.Department.astype('str')\n",
    "departments = ', '.join(MoMA_complete.Department)\n",
    "departments = list(set(departments.split(', ')))\n",
    "df_moma_complete = pd.DataFrame()\n",
    "\n",
    "for dep in departments:\n",
    "    nat_sub =  MoMA_complete[MoMA_complete.Department == dep]    \n",
    "    nat_sub.DateAcquired = nat_sub.DateAcquired.astype('str')\n",
    "    years = ', '.join(nat_sub.DateAcquired)\n",
    "    years = sorted(list([item[:4] for item in list(set(years.split(', ')))]))[0:-1]\n",
    "    for year in years:\n",
    "        year_sub = nat_sub[nat_sub.DateAcquired == year]\n",
    "        entries_year = len(year_sub)\n",
    "        f_count = len(year_sub[year_sub.Gender == 'F'])\n",
    "        new_row = pd.DataFrame([[dep, year, entries_year, f_count]])\n",
    "        df_moma_complete = pd.concat([df_moma_complete, new_row], axis=0, ignore_index=True)\n",
    "\n",
    "df_moma_complete.columns= [\"Department\", \"DateAcquired\", \"Count\", \"Females\"]\n",
    "df_moma_complete "
   ]
  },
  {
   "cell_type": "code",
   "execution_count": 41,
   "metadata": {},
   "outputs": [
    {
     "data": {
      "application/vnd.plotly.v1+json": {
       "config": {
        "plotlyServerURL": "https://plot.ly"
       },
       "data": [
        {
         "fillpattern": {
          "shape": ""
         },
         "hovertemplate": "Department=Fluxus Collection<br>DateAcquired=%{x}<br>Count=%{y}<extra></extra>",
         "legendgroup": "Fluxus Collection",
         "line": {
          "color": "#636efa"
         },
         "marker": {
          "symbol": "circle"
         },
         "mode": "lines",
         "name": "Fluxus Collection",
         "orientation": "v",
         "showlegend": true,
         "stackgroup": "1",
         "type": "scatter",
         "x": [
          "2008",
          "2008"
         ],
         "xaxis": "x",
         "y": [
          946,
          946
         ],
         "yaxis": "y"
        },
        {
         "fillpattern": {
          "shape": ""
         },
         "hovertemplate": "Department=Architecture & Design<br>DateAcquired=%{x}<br>Count=%{y}<extra></extra>",
         "legendgroup": "Architecture & Design",
         "line": {
          "color": "#EF553B"
         },
         "marker": {
          "symbol": "circle"
         },
         "mode": "lines",
         "name": "Architecture & Design",
         "orientation": "v",
         "showlegend": true,
         "stackgroup": "1",
         "type": "scatter",
         "x": [
          "1932",
          "1934",
          "1934",
          "1934",
          "1935",
          "1936",
          "1936",
          "1937",
          "1937",
          "1937",
          "1938",
          "1939",
          "1940",
          "1941",
          "1942",
          "1942",
          "1943",
          "1943",
          "1944",
          "1945",
          "1945",
          "1946",
          "1946",
          "1947",
          "1948",
          "1948",
          "1949",
          "1949",
          "1950",
          "1950",
          "1951",
          "1951",
          "1952",
          "1952",
          "1953",
          "1953",
          "1954",
          "1955",
          "1955",
          "1956",
          "1956",
          "1956",
          "1957",
          "1957",
          "1958",
          "1958",
          "1959",
          "1960",
          "1960",
          "1960",
          "1961",
          "1961",
          "1962",
          "1962",
          "1963",
          "1963",
          "1964",
          "1964",
          "1965",
          "1965",
          "1966",
          "1966",
          "1967",
          "1968",
          "1969",
          "1969",
          "1970",
          "1970",
          "1971",
          "1972",
          "1973",
          "1974",
          "1975",
          "1976",
          "1976",
          "1977",
          "1977",
          "1978",
          "1979",
          "1979",
          "1980",
          "1980",
          "1981",
          "1981",
          "1981",
          "1982",
          "1983",
          "1983",
          "1983",
          "1984",
          "1985",
          "1985",
          "1986",
          "1987",
          "1987",
          "1987",
          "1988",
          "1989",
          "1990",
          "1990",
          "1990",
          "1991",
          "1992",
          "1993",
          "1994",
          "1994",
          "1995",
          "1996",
          "1996",
          "1997",
          "1998",
          "1998",
          "1999",
          "1999",
          "2000",
          "2000",
          "2000",
          "2001",
          "2001",
          "2002",
          "2003",
          "2004",
          "2005",
          "2006",
          "2006",
          "2007",
          "2008",
          "2009",
          "2010",
          "2011",
          "2011",
          "2012",
          "2012",
          "2013",
          "2014",
          "2014",
          "2015",
          "2015",
          "2015",
          "2015",
          "2016",
          "2016",
          "2017",
          "2018",
          "2018",
          "2019"
         ],
         "xaxis": "x",
         "y": [
          2,
          45,
          45,
          45,
          23,
          89,
          89,
          194,
          194,
          194,
          18,
          139,
          73,
          10,
          79,
          79,
          827,
          827,
          66,
          99,
          99,
          32,
          32,
          77,
          129,
          129,
          28,
          28,
          98,
          98,
          150,
          150,
          64,
          64,
          133,
          133,
          115,
          48,
          48,
          211,
          211,
          211,
          104,
          104,
          187,
          187,
          16,
          112,
          112,
          112,
          59,
          59,
          31,
          31,
          166,
          166,
          90,
          90,
          105,
          105,
          144,
          144,
          200,
          205,
          71,
          71,
          168,
          168,
          3,
          71,
          35,
          812,
          20,
          95,
          95,
          174,
          174,
          60,
          66,
          66,
          132,
          132,
          166,
          166,
          166,
          96,
          223,
          223,
          223,
          103,
          111,
          111,
          71,
          144,
          144,
          144,
          75,
          28,
          146,
          146,
          146,
          29,
          65,
          109,
          119,
          119,
          132,
          204,
          204,
          98,
          130,
          130,
          656,
          656,
          418,
          418,
          418,
          257,
          257,
          39,
          124,
          107,
          104,
          299,
          299,
          227,
          220,
          193,
          145,
          310,
          310,
          737,
          737,
          165,
          839,
          839,
          1351,
          1351,
          1351,
          1351,
          491,
          491,
          101,
          856,
          856,
          183
         ],
         "yaxis": "y"
        },
        {
         "fillpattern": {
          "shape": ""
         },
         "hovertemplate": "Department=Photography<br>DateAcquired=%{x}<br>Count=%{y}<extra></extra>",
         "legendgroup": "Photography",
         "line": {
          "color": "#00cc96"
         },
         "marker": {
          "symbol": "circle"
         },
         "mode": "lines",
         "name": "Photography",
         "orientation": "v",
         "showlegend": true,
         "stackgroup": "1",
         "type": "scatter",
         "x": [
          "1932",
          "1933",
          "1934",
          "1935",
          "1937",
          "1938",
          "1939",
          "1940",
          "1941",
          "1941",
          "1942",
          "1943",
          "1943",
          "1944",
          "1946",
          "1947",
          "1948",
          "1950",
          "1952",
          "1953",
          "1954",
          "1955",
          "1956",
          "1957",
          "1959",
          "1959",
          "1960",
          "1961",
          "1962",
          "1963",
          "1964",
          "1964",
          "1965",
          "1966",
          "1967",
          "1968",
          "1968",
          "1968",
          "1968",
          "1969",
          "1969",
          "1970",
          "1970",
          "1970",
          "1971",
          "1971",
          "1972",
          "1972",
          "1972",
          "1973",
          "1973",
          "1973",
          "1973",
          "1974",
          "1974",
          "1974",
          "1974",
          "1975",
          "1975",
          "1975",
          "1975",
          "1976",
          "1976",
          "1976",
          "1976",
          "1976",
          "1976",
          "1977",
          "1977",
          "1977",
          "1978",
          "1978",
          "1979",
          "1979",
          "1979",
          "1979",
          "1980",
          "1980",
          "1980",
          "1981",
          "1982",
          "1982",
          "1983",
          "1983",
          "1984",
          "1984",
          "1985",
          "1986",
          "1987",
          "1988",
          "1989",
          "1989",
          "1990",
          "1991",
          "1991",
          "1992",
          "1993",
          "1994",
          "1995",
          "1996",
          "1997",
          "1998",
          "1998",
          "1999",
          "2000",
          "2001",
          "2001",
          "2002",
          "2003",
          "2004",
          "2005",
          "2005",
          "2006",
          "2007",
          "2007",
          "2008",
          "2009",
          "2010",
          "2010",
          "2011",
          "2012",
          "2012",
          "2013",
          "2014",
          "2015",
          "2015",
          "2016",
          "2017",
          "2018",
          "2019",
          "2020"
         ],
         "xaxis": "x",
         "y": [
          1,
          91,
          2,
          24,
          57,
          84,
          51,
          125,
          650,
          650,
          218,
          127,
          127,
          113,
          32,
          36,
          1,
          92,
          16,
          51,
          43,
          4,
          65,
          26,
          447,
          447,
          104,
          160,
          155,
          127,
          570,
          570,
          352,
          169,
          337,
          5419,
          5419,
          5419,
          5419,
          303,
          303,
          257,
          257,
          257,
          499,
          499,
          259,
          259,
          259,
          228,
          228,
          228,
          228,
          563,
          563,
          563,
          563,
          283,
          283,
          283,
          283,
          337,
          337,
          337,
          337,
          337,
          337,
          295,
          295,
          295,
          236,
          236,
          255,
          255,
          255,
          255,
          191,
          191,
          191,
          700,
          299,
          299,
          412,
          412,
          287,
          287,
          170,
          309,
          295,
          176,
          390,
          390,
          253,
          192,
          192,
          323,
          258,
          335,
          573,
          196,
          180,
          575,
          575,
          164,
          904,
          1006,
          1006,
          110,
          126,
          137,
          336,
          336,
          336,
          406,
          406,
          267,
          387,
          645,
          645,
          375,
          351,
          351,
          1327,
          810,
          934,
          934,
          603,
          950,
          422,
          623,
          164
         ],
         "yaxis": "y"
        },
        {
         "fillpattern": {
          "shape": ""
         },
         "hovertemplate": "Department=Painting & Sculpture<br>DateAcquired=%{x}<br>Count=%{y}<extra></extra>",
         "legendgroup": "Painting & Sculpture",
         "line": {
          "color": "#ab63fa"
         },
         "marker": {
          "symbol": "circle"
         },
         "mode": "lines",
         "name": "Painting & Sculpture",
         "orientation": "v",
         "showlegend": true,
         "stackgroup": "1",
         "type": "scatter",
         "x": [
          "1930",
          "1931",
          "1932",
          "1934",
          "1935",
          "1936",
          "1937",
          "1938",
          "1939",
          "1940",
          "1941",
          "1941",
          "1942",
          "1943",
          "1944",
          "1945",
          "1946",
          "1947",
          "1948",
          "1949",
          "1949",
          "1950",
          "1951",
          "1952",
          "1952",
          "1953",
          "1954",
          "1955",
          "1956",
          "1957",
          "1958",
          "1959",
          "1960",
          "1961",
          "1962",
          "1963",
          "1964",
          "1965",
          "1966",
          "1967",
          "1968",
          "1969",
          "1970",
          "1971",
          "1972",
          "1973",
          "1974",
          "1975",
          "1975",
          "1976",
          "1977",
          "1978",
          "1979",
          "1980",
          "1981",
          "1982",
          "1983",
          "1983",
          "1984",
          "1985",
          "1986",
          "1987",
          "1988",
          "1989",
          "1990",
          "1991",
          "1992",
          "1993",
          "1994",
          "1995",
          "1995",
          "1996",
          "1997",
          "1998",
          "1999",
          "2000",
          "2001",
          "2002",
          "2003",
          "2004",
          "2005",
          "2006",
          "2007",
          "2008",
          "2009",
          "2010",
          "2011",
          "2011",
          "2012",
          "2013",
          "2014",
          "2015",
          "2016",
          "2017",
          "2018",
          "2018",
          "2019",
          "2019",
          "2020"
         ],
         "xaxis": "x",
         "y": [
          4,
          2,
          1,
          19,
          19,
          23,
          34,
          12,
          47,
          17,
          44,
          44,
          75,
          34,
          19,
          18,
          8,
          17,
          21,
          35,
          35,
          30,
          36,
          31,
          31,
          42,
          36,
          53,
          63,
          27,
          50,
          59,
          55,
          78,
          35,
          52,
          60,
          70,
          52,
          99,
          41,
          72,
          68,
          47,
          11,
          29,
          24,
          39,
          39,
          33,
          24,
          37,
          96,
          25,
          26,
          27,
          47,
          47,
          29,
          112,
          30,
          24,
          16,
          14,
          43,
          87,
          45,
          16,
          75,
          25,
          25,
          77,
          40,
          47,
          35,
          43,
          28,
          34,
          14,
          47,
          151,
          33,
          41,
          46,
          32,
          135,
          89,
          89,
          46,
          68,
          42,
          54,
          119,
          48,
          41,
          41,
          35,
          35,
          13
         ],
         "yaxis": "y"
        },
        {
         "fillpattern": {
          "shape": ""
         },
         "hovertemplate": "Department=Media and Performance<br>DateAcquired=%{x}<br>Count=%{y}<extra></extra>",
         "legendgroup": "Media and Performance",
         "line": {
          "color": "#FFA15A"
         },
         "marker": {
          "symbol": "circle"
         },
         "mode": "lines",
         "name": "Media and Performance",
         "orientation": "v",
         "showlegend": true,
         "stackgroup": "1",
         "type": "scatter",
         "x": [
          "1975",
          "1976",
          "1979",
          "1980",
          "1981",
          "1982",
          "1983",
          "1984",
          "1985",
          "1986",
          "1987",
          "1988",
          "1989",
          "1990",
          "1991",
          "1992",
          "1993",
          "1994",
          "1995",
          "1997",
          "1998",
          "1999",
          "1999",
          "2000",
          "2001",
          "2002",
          "2003",
          "2004",
          "2005",
          "2006",
          "2007",
          "2007",
          "2008",
          "2009",
          "2010",
          "2011",
          "2012",
          "2012",
          "2013",
          "2014",
          "2015",
          "2015",
          "2016",
          "2017",
          "2018",
          "2019",
          "2020"
         ],
         "xaxis": "x",
         "y": [
          26,
          8,
          32,
          15,
          23,
          20,
          14,
          62,
          14,
          62,
          17,
          36,
          10,
          18,
          12,
          18,
          37,
          69,
          6,
          71,
          41,
          152,
          152,
          106,
          10,
          7,
          39,
          36,
          68,
          21,
          424,
          424,
          257,
          55,
          3,
          178,
          139,
          139,
          78,
          65,
          239,
          239,
          63,
          93,
          103,
          138,
          1
         ],
         "yaxis": "y"
        },
        {
         "fillpattern": {
          "shape": ""
         },
         "hovertemplate": "Department=Drawings & Prints<br>DateAcquired=%{x}<br>Count=%{y}<extra></extra>",
         "legendgroup": "Drawings & Prints",
         "line": {
          "color": "#19d3f3"
         },
         "marker": {
          "symbol": "circle"
         },
         "mode": "lines",
         "name": "Drawings & Prints",
         "orientation": "v",
         "showlegend": true,
         "stackgroup": "1",
         "type": "scatter",
         "x": [
          "1929",
          "1930",
          "1931",
          "1932",
          "1932",
          "1933",
          "1934",
          "1935",
          "1935",
          "1935",
          "1936",
          "1937",
          "1937",
          "1938",
          "1939",
          "1939",
          "1940",
          "1940",
          "1940",
          "1941",
          "1941",
          "1941",
          "1942",
          "1942",
          "1942",
          "1942",
          "1942",
          "1943",
          "1943",
          "1944",
          "1944",
          "1944",
          "1945",
          "1946",
          "1947",
          "1947",
          "1948",
          "1948",
          "1948",
          "1949",
          "1949",
          "1949",
          "1950",
          "1950",
          "1951",
          "1951",
          "1952",
          "1952",
          "1953",
          "1953",
          "1954",
          "1954",
          "1954",
          "1954",
          "1955",
          "1955",
          "1956",
          "1956",
          "1956",
          "1956",
          "1957",
          "1957",
          "1957",
          "1958",
          "1958",
          "1958",
          "1958",
          "1959",
          "1959",
          "1959",
          "1959",
          "1960",
          "1960",
          "1961",
          "1961",
          "1961",
          "1962",
          "1963",
          "1963",
          "1963",
          "1964",
          "1964",
          "1964",
          "1964",
          "1965",
          "1965",
          "1965",
          "1965",
          "1965",
          "1966",
          "1966",
          "1966",
          "1967",
          "1967",
          "1967",
          "1967",
          "1967",
          "1967",
          "1967",
          "1968",
          "1968",
          "1968",
          "1969",
          "1969",
          "1969",
          "1969",
          "1969",
          "1970",
          "1970",
          "1970",
          "1970",
          "1971",
          "1971",
          "1971",
          "1971",
          "1972",
          "1972",
          "1973",
          "1973",
          "1973",
          "1974",
          "1974",
          "1974",
          "1975",
          "1975",
          "1975",
          "1976",
          "1976",
          "1977",
          "1977",
          "1978",
          "1978",
          "1979",
          "1980",
          "1980",
          "1980",
          "1981",
          "1981",
          "1982",
          "1982",
          "1983",
          "1983",
          "1984",
          "1985",
          "1986",
          "1986",
          "1987",
          "1988",
          "1989",
          "1989",
          "1990",
          "1990",
          "1991",
          "1992",
          "1993",
          "1994",
          "1995",
          "1995",
          "1995",
          "1996",
          "1996",
          "1996",
          "1997",
          "1998",
          "1999",
          "1999",
          "1999",
          "2000",
          "2001",
          "2001",
          "2001",
          "2002",
          "2003",
          "2004",
          "2004",
          "2005",
          "2005",
          "2006",
          "2006",
          "2007",
          "2007",
          "2007",
          "2008",
          "2008",
          "2008",
          "2008",
          "2009",
          "2009",
          "2009",
          "2009",
          "2010",
          "2010",
          "2010",
          "2011",
          "2011",
          "2011",
          "2012",
          "2012",
          "2013",
          "2013",
          "2013",
          "2013",
          "2014",
          "2014",
          "2014",
          "2015",
          "2016",
          "2017",
          "2018",
          "2018",
          "2018",
          "2019",
          "2019",
          "2020"
         ],
         "xaxis": "x",
         "y": [
          9,
          3,
          1,
          13,
          13,
          2,
          186,
          339,
          339,
          339,
          33,
          33,
          33,
          9,
          159,
          159,
          1204,
          1204,
          1204,
          222,
          222,
          222,
          533,
          533,
          533,
          533,
          533,
          115,
          115,
          144,
          144,
          144,
          165,
          97,
          316,
          316,
          259,
          259,
          259,
          1469,
          1469,
          1469,
          229,
          229,
          439,
          439,
          433,
          433,
          243,
          243,
          661,
          661,
          661,
          661,
          335,
          335,
          764,
          764,
          764,
          764,
          139,
          139,
          139,
          460,
          460,
          460,
          460,
          303,
          303,
          303,
          303,
          178,
          178,
          251,
          251,
          251,
          343,
          589,
          589,
          589,
          12094,
          12094,
          12094,
          12094,
          1455,
          1455,
          1455,
          1455,
          1455,
          1476,
          1476,
          1476,
          1684,
          1684,
          1684,
          1684,
          1684,
          1684,
          1684,
          1131,
          1131,
          1131,
          1736,
          1736,
          1736,
          1736,
          1736,
          726,
          726,
          726,
          726,
          482,
          482,
          482,
          482,
          497,
          497,
          758,
          758,
          758,
          1950,
          1950,
          1950,
          589,
          589,
          589,
          399,
          399,
          711,
          711,
          1012,
          1012,
          700,
          301,
          301,
          301,
          414,
          414,
          406,
          406,
          487,
          487,
          388,
          637,
          550,
          550,
          783,
          716,
          438,
          438,
          795,
          795,
          500,
          744,
          839,
          345,
          228,
          228,
          228,
          489,
          489,
          489,
          561,
          482,
          682,
          682,
          682,
          394,
          2847,
          2847,
          2847,
          443,
          243,
          431,
          431,
          3303,
          3303,
          974,
          974,
          1161,
          1161,
          1161,
          4359,
          4359,
          4359,
          4359,
          819,
          819,
          819,
          819,
          1093,
          1093,
          1093,
          954,
          954,
          954,
          1589,
          1589,
          1159,
          1159,
          1159,
          1159,
          984,
          984,
          984,
          1138,
          481,
          357,
          782,
          782,
          782,
          594,
          594,
          162
         ],
         "yaxis": "y"
        },
        {
         "fillpattern": {
          "shape": ""
         },
         "hovertemplate": "Department=Film<br>DateAcquired=%{x}<br>Count=%{y}<extra></extra>",
         "legendgroup": "Film",
         "line": {
          "color": "#FF6692"
         },
         "marker": {
          "symbol": "circle"
         },
         "mode": "lines",
         "name": "Film",
         "orientation": "v",
         "showlegend": true,
         "stackgroup": "1",
         "type": "scatter",
         "x": [
          "1936",
          "1938",
          "1939",
          "1940",
          "1953",
          "1969",
          "1971",
          "1972",
          "1974",
          "1977",
          "1979",
          "1981",
          "1983",
          "1986",
          "1988",
          "1989",
          "1990",
          "1997",
          "1998",
          "1998",
          "1999",
          "2002",
          "2002",
          "2002",
          "2002",
          "2002",
          "2002",
          "2002",
          "2002",
          "2002",
          "2002",
          "2002",
          "2002",
          "2002",
          "2002",
          "2002",
          "2002",
          "2002",
          "2002",
          "2003",
          "2004",
          "2005",
          "2005",
          "2006",
          "2007",
          "2007",
          "2007",
          "2008",
          "2009",
          "2010",
          "2010",
          "2011",
          "2012",
          "2012",
          "2012",
          "2013",
          "2014",
          "2015",
          "2016",
          "2016",
          "2016",
          "2016",
          "2017",
          "2017",
          "2017",
          "2018"
         ],
         "xaxis": "x",
         "y": [
          1,
          2,
          4,
          3,
          1,
          1,
          1,
          1,
          1,
          1,
          1,
          1,
          1,
          1,
          1,
          7,
          1,
          1,
          1,
          1,
          6,
          19,
          19,
          19,
          19,
          19,
          19,
          19,
          19,
          19,
          19,
          19,
          19,
          19,
          19,
          19,
          19,
          19,
          19,
          3,
          2,
          83,
          83,
          1,
          9,
          9,
          9,
          18,
          6,
          18,
          18,
          43,
          146,
          146,
          146,
          97,
          35,
          22,
          70,
          70,
          70,
          70,
          75,
          75,
          75,
          110
         ],
         "yaxis": "y"
        }
       ],
       "layout": {
        "legend": {
         "title": {
          "text": "Department"
         },
         "tracegroupgap": 0
        },
        "margin": {
         "t": 60
        },
        "template": {
         "data": {
          "bar": [
           {
            "error_x": {
             "color": "#2a3f5f"
            },
            "error_y": {
             "color": "#2a3f5f"
            },
            "marker": {
             "line": {
              "color": "#E5ECF6",
              "width": 0.5
             },
             "pattern": {
              "fillmode": "overlay",
              "size": 10,
              "solidity": 0.2
             }
            },
            "type": "bar"
           }
          ],
          "barpolar": [
           {
            "marker": {
             "line": {
              "color": "#E5ECF6",
              "width": 0.5
             },
             "pattern": {
              "fillmode": "overlay",
              "size": 10,
              "solidity": 0.2
             }
            },
            "type": "barpolar"
           }
          ],
          "carpet": [
           {
            "aaxis": {
             "endlinecolor": "#2a3f5f",
             "gridcolor": "white",
             "linecolor": "white",
             "minorgridcolor": "white",
             "startlinecolor": "#2a3f5f"
            },
            "baxis": {
             "endlinecolor": "#2a3f5f",
             "gridcolor": "white",
             "linecolor": "white",
             "minorgridcolor": "white",
             "startlinecolor": "#2a3f5f"
            },
            "type": "carpet"
           }
          ],
          "choropleth": [
           {
            "colorbar": {
             "outlinewidth": 0,
             "ticks": ""
            },
            "type": "choropleth"
           }
          ],
          "contour": [
           {
            "colorbar": {
             "outlinewidth": 0,
             "ticks": ""
            },
            "colorscale": [
             [
              0,
              "#0d0887"
             ],
             [
              0.1111111111111111,
              "#46039f"
             ],
             [
              0.2222222222222222,
              "#7201a8"
             ],
             [
              0.3333333333333333,
              "#9c179e"
             ],
             [
              0.4444444444444444,
              "#bd3786"
             ],
             [
              0.5555555555555556,
              "#d8576b"
             ],
             [
              0.6666666666666666,
              "#ed7953"
             ],
             [
              0.7777777777777778,
              "#fb9f3a"
             ],
             [
              0.8888888888888888,
              "#fdca26"
             ],
             [
              1,
              "#f0f921"
             ]
            ],
            "type": "contour"
           }
          ],
          "contourcarpet": [
           {
            "colorbar": {
             "outlinewidth": 0,
             "ticks": ""
            },
            "type": "contourcarpet"
           }
          ],
          "heatmap": [
           {
            "colorbar": {
             "outlinewidth": 0,
             "ticks": ""
            },
            "colorscale": [
             [
              0,
              "#0d0887"
             ],
             [
              0.1111111111111111,
              "#46039f"
             ],
             [
              0.2222222222222222,
              "#7201a8"
             ],
             [
              0.3333333333333333,
              "#9c179e"
             ],
             [
              0.4444444444444444,
              "#bd3786"
             ],
             [
              0.5555555555555556,
              "#d8576b"
             ],
             [
              0.6666666666666666,
              "#ed7953"
             ],
             [
              0.7777777777777778,
              "#fb9f3a"
             ],
             [
              0.8888888888888888,
              "#fdca26"
             ],
             [
              1,
              "#f0f921"
             ]
            ],
            "type": "heatmap"
           }
          ],
          "heatmapgl": [
           {
            "colorbar": {
             "outlinewidth": 0,
             "ticks": ""
            },
            "colorscale": [
             [
              0,
              "#0d0887"
             ],
             [
              0.1111111111111111,
              "#46039f"
             ],
             [
              0.2222222222222222,
              "#7201a8"
             ],
             [
              0.3333333333333333,
              "#9c179e"
             ],
             [
              0.4444444444444444,
              "#bd3786"
             ],
             [
              0.5555555555555556,
              "#d8576b"
             ],
             [
              0.6666666666666666,
              "#ed7953"
             ],
             [
              0.7777777777777778,
              "#fb9f3a"
             ],
             [
              0.8888888888888888,
              "#fdca26"
             ],
             [
              1,
              "#f0f921"
             ]
            ],
            "type": "heatmapgl"
           }
          ],
          "histogram": [
           {
            "marker": {
             "pattern": {
              "fillmode": "overlay",
              "size": 10,
              "solidity": 0.2
             }
            },
            "type": "histogram"
           }
          ],
          "histogram2d": [
           {
            "colorbar": {
             "outlinewidth": 0,
             "ticks": ""
            },
            "colorscale": [
             [
              0,
              "#0d0887"
             ],
             [
              0.1111111111111111,
              "#46039f"
             ],
             [
              0.2222222222222222,
              "#7201a8"
             ],
             [
              0.3333333333333333,
              "#9c179e"
             ],
             [
              0.4444444444444444,
              "#bd3786"
             ],
             [
              0.5555555555555556,
              "#d8576b"
             ],
             [
              0.6666666666666666,
              "#ed7953"
             ],
             [
              0.7777777777777778,
              "#fb9f3a"
             ],
             [
              0.8888888888888888,
              "#fdca26"
             ],
             [
              1,
              "#f0f921"
             ]
            ],
            "type": "histogram2d"
           }
          ],
          "histogram2dcontour": [
           {
            "colorbar": {
             "outlinewidth": 0,
             "ticks": ""
            },
            "colorscale": [
             [
              0,
              "#0d0887"
             ],
             [
              0.1111111111111111,
              "#46039f"
             ],
             [
              0.2222222222222222,
              "#7201a8"
             ],
             [
              0.3333333333333333,
              "#9c179e"
             ],
             [
              0.4444444444444444,
              "#bd3786"
             ],
             [
              0.5555555555555556,
              "#d8576b"
             ],
             [
              0.6666666666666666,
              "#ed7953"
             ],
             [
              0.7777777777777778,
              "#fb9f3a"
             ],
             [
              0.8888888888888888,
              "#fdca26"
             ],
             [
              1,
              "#f0f921"
             ]
            ],
            "type": "histogram2dcontour"
           }
          ],
          "mesh3d": [
           {
            "colorbar": {
             "outlinewidth": 0,
             "ticks": ""
            },
            "type": "mesh3d"
           }
          ],
          "parcoords": [
           {
            "line": {
             "colorbar": {
              "outlinewidth": 0,
              "ticks": ""
             }
            },
            "type": "parcoords"
           }
          ],
          "pie": [
           {
            "automargin": true,
            "type": "pie"
           }
          ],
          "scatter": [
           {
            "fillpattern": {
             "fillmode": "overlay",
             "size": 10,
             "solidity": 0.2
            },
            "type": "scatter"
           }
          ],
          "scatter3d": [
           {
            "line": {
             "colorbar": {
              "outlinewidth": 0,
              "ticks": ""
             }
            },
            "marker": {
             "colorbar": {
              "outlinewidth": 0,
              "ticks": ""
             }
            },
            "type": "scatter3d"
           }
          ],
          "scattercarpet": [
           {
            "marker": {
             "colorbar": {
              "outlinewidth": 0,
              "ticks": ""
             }
            },
            "type": "scattercarpet"
           }
          ],
          "scattergeo": [
           {
            "marker": {
             "colorbar": {
              "outlinewidth": 0,
              "ticks": ""
             }
            },
            "type": "scattergeo"
           }
          ],
          "scattergl": [
           {
            "marker": {
             "colorbar": {
              "outlinewidth": 0,
              "ticks": ""
             }
            },
            "type": "scattergl"
           }
          ],
          "scattermapbox": [
           {
            "marker": {
             "colorbar": {
              "outlinewidth": 0,
              "ticks": ""
             }
            },
            "type": "scattermapbox"
           }
          ],
          "scatterpolar": [
           {
            "marker": {
             "colorbar": {
              "outlinewidth": 0,
              "ticks": ""
             }
            },
            "type": "scatterpolar"
           }
          ],
          "scatterpolargl": [
           {
            "marker": {
             "colorbar": {
              "outlinewidth": 0,
              "ticks": ""
             }
            },
            "type": "scatterpolargl"
           }
          ],
          "scatterternary": [
           {
            "marker": {
             "colorbar": {
              "outlinewidth": 0,
              "ticks": ""
             }
            },
            "type": "scatterternary"
           }
          ],
          "surface": [
           {
            "colorbar": {
             "outlinewidth": 0,
             "ticks": ""
            },
            "colorscale": [
             [
              0,
              "#0d0887"
             ],
             [
              0.1111111111111111,
              "#46039f"
             ],
             [
              0.2222222222222222,
              "#7201a8"
             ],
             [
              0.3333333333333333,
              "#9c179e"
             ],
             [
              0.4444444444444444,
              "#bd3786"
             ],
             [
              0.5555555555555556,
              "#d8576b"
             ],
             [
              0.6666666666666666,
              "#ed7953"
             ],
             [
              0.7777777777777778,
              "#fb9f3a"
             ],
             [
              0.8888888888888888,
              "#fdca26"
             ],
             [
              1,
              "#f0f921"
             ]
            ],
            "type": "surface"
           }
          ],
          "table": [
           {
            "cells": {
             "fill": {
              "color": "#EBF0F8"
             },
             "line": {
              "color": "white"
             }
            },
            "header": {
             "fill": {
              "color": "#C8D4E3"
             },
             "line": {
              "color": "white"
             }
            },
            "type": "table"
           }
          ]
         },
         "layout": {
          "annotationdefaults": {
           "arrowcolor": "#2a3f5f",
           "arrowhead": 0,
           "arrowwidth": 1
          },
          "autotypenumbers": "strict",
          "coloraxis": {
           "colorbar": {
            "outlinewidth": 0,
            "ticks": ""
           }
          },
          "colorscale": {
           "diverging": [
            [
             0,
             "#8e0152"
            ],
            [
             0.1,
             "#c51b7d"
            ],
            [
             0.2,
             "#de77ae"
            ],
            [
             0.3,
             "#f1b6da"
            ],
            [
             0.4,
             "#fde0ef"
            ],
            [
             0.5,
             "#f7f7f7"
            ],
            [
             0.6,
             "#e6f5d0"
            ],
            [
             0.7,
             "#b8e186"
            ],
            [
             0.8,
             "#7fbc41"
            ],
            [
             0.9,
             "#4d9221"
            ],
            [
             1,
             "#276419"
            ]
           ],
           "sequential": [
            [
             0,
             "#0d0887"
            ],
            [
             0.1111111111111111,
             "#46039f"
            ],
            [
             0.2222222222222222,
             "#7201a8"
            ],
            [
             0.3333333333333333,
             "#9c179e"
            ],
            [
             0.4444444444444444,
             "#bd3786"
            ],
            [
             0.5555555555555556,
             "#d8576b"
            ],
            [
             0.6666666666666666,
             "#ed7953"
            ],
            [
             0.7777777777777778,
             "#fb9f3a"
            ],
            [
             0.8888888888888888,
             "#fdca26"
            ],
            [
             1,
             "#f0f921"
            ]
           ],
           "sequentialminus": [
            [
             0,
             "#0d0887"
            ],
            [
             0.1111111111111111,
             "#46039f"
            ],
            [
             0.2222222222222222,
             "#7201a8"
            ],
            [
             0.3333333333333333,
             "#9c179e"
            ],
            [
             0.4444444444444444,
             "#bd3786"
            ],
            [
             0.5555555555555556,
             "#d8576b"
            ],
            [
             0.6666666666666666,
             "#ed7953"
            ],
            [
             0.7777777777777778,
             "#fb9f3a"
            ],
            [
             0.8888888888888888,
             "#fdca26"
            ],
            [
             1,
             "#f0f921"
            ]
           ]
          },
          "colorway": [
           "#636efa",
           "#EF553B",
           "#00cc96",
           "#ab63fa",
           "#FFA15A",
           "#19d3f3",
           "#FF6692",
           "#B6E880",
           "#FF97FF",
           "#FECB52"
          ],
          "font": {
           "color": "#2a3f5f"
          },
          "geo": {
           "bgcolor": "white",
           "lakecolor": "white",
           "landcolor": "#E5ECF6",
           "showlakes": true,
           "showland": true,
           "subunitcolor": "white"
          },
          "hoverlabel": {
           "align": "left"
          },
          "hovermode": "closest",
          "mapbox": {
           "style": "light"
          },
          "paper_bgcolor": "white",
          "plot_bgcolor": "#E5ECF6",
          "polar": {
           "angularaxis": {
            "gridcolor": "white",
            "linecolor": "white",
            "ticks": ""
           },
           "bgcolor": "#E5ECF6",
           "radialaxis": {
            "gridcolor": "white",
            "linecolor": "white",
            "ticks": ""
           }
          },
          "scene": {
           "xaxis": {
            "backgroundcolor": "#E5ECF6",
            "gridcolor": "white",
            "gridwidth": 2,
            "linecolor": "white",
            "showbackground": true,
            "ticks": "",
            "zerolinecolor": "white"
           },
           "yaxis": {
            "backgroundcolor": "#E5ECF6",
            "gridcolor": "white",
            "gridwidth": 2,
            "linecolor": "white",
            "showbackground": true,
            "ticks": "",
            "zerolinecolor": "white"
           },
           "zaxis": {
            "backgroundcolor": "#E5ECF6",
            "gridcolor": "white",
            "gridwidth": 2,
            "linecolor": "white",
            "showbackground": true,
            "ticks": "",
            "zerolinecolor": "white"
           }
          },
          "shapedefaults": {
           "line": {
            "color": "#2a3f5f"
           }
          },
          "ternary": {
           "aaxis": {
            "gridcolor": "white",
            "linecolor": "white",
            "ticks": ""
           },
           "baxis": {
            "gridcolor": "white",
            "linecolor": "white",
            "ticks": ""
           },
           "bgcolor": "#E5ECF6",
           "caxis": {
            "gridcolor": "white",
            "linecolor": "white",
            "ticks": ""
           }
          },
          "title": {
           "x": 0.05
          },
          "xaxis": {
           "automargin": true,
           "gridcolor": "white",
           "linecolor": "white",
           "ticks": "",
           "title": {
            "standoff": 15
           },
           "zerolinecolor": "white",
           "zerolinewidth": 2
          },
          "yaxis": {
           "automargin": true,
           "gridcolor": "white",
           "linecolor": "white",
           "ticks": "",
           "title": {
            "standoff": 15
           },
           "zerolinecolor": "white",
           "zerolinewidth": 2
          }
         }
        },
        "xaxis": {
         "anchor": "y",
         "domain": [
          0,
          1
         ],
         "dtick": 10,
         "title": {
          "text": "DateAcquired"
         }
        },
        "yaxis": {
         "anchor": "x",
         "domain": [
          0,
          1
         ],
         "title": {
          "text": "Count"
         }
        }
       }
      }
     },
     "metadata": {},
     "output_type": "display_data"
    }
   ],
   "source": [
    "fig8 = px.area(df_moma_complete, x=\"DateAcquired\", y=\"Count\", color=\"Department\", line_group=\"Department\")\n",
    "fig8.update_layout(\n",
    "     xaxis = dict(\n",
    "        dtick = 10\n",
    "    )\n",
    "   \n",
    ")\n",
    "\n",
    "fig8.show()"
   ]
  },
  {
   "cell_type": "code",
   "execution_count": 42,
   "metadata": {},
   "outputs": [
    {
     "data": {
      "application/vnd.plotly.v1+json": {
       "config": {
        "plotlyServerURL": "https://plot.ly"
       },
       "data": [
        {
         "hovertemplate": "Department=Fluxus Collection<br>Count=%{x}<br>DateAcquired=%{y}<br>Females=%{marker.size}<extra></extra>",
         "legendgroup": "Fluxus Collection",
         "marker": {
          "color": "#636efa",
          "size": [
           71,
           71
          ],
          "sizemode": "area",
          "sizeref": 1.498888888888889,
          "symbol": "circle"
         },
         "mode": "markers",
         "name": "Fluxus Collection",
         "orientation": "h",
         "showlegend": true,
         "type": "scatter",
         "x": [
          946,
          946
         ],
         "xaxis": "x",
         "y": [
          "2008",
          "2008"
         ],
         "yaxis": "y"
        },
        {
         "hovertemplate": "Department=Architecture & Design<br>Count=%{x}<br>DateAcquired=%{y}<br>Females=%{marker.size}<extra></extra>",
         "legendgroup": "Architecture & Design",
         "marker": {
          "color": "#EF553B",
          "size": [
           0,
           0,
           0,
           0,
           1,
           9,
           9,
           5,
           5,
           5,
           4,
           0,
           0,
           0,
           23,
           23,
           5,
           5,
           2,
           3,
           3,
           0,
           0,
           1,
           9,
           9,
           0,
           0,
           7,
           7,
           64,
           64,
           18,
           18,
           7,
           7,
           7,
           0,
           0,
           5,
           5,
           5,
           3,
           3,
           39,
           39,
           1,
           6,
           6,
           6,
           2,
           2,
           4,
           4,
           1,
           1,
           1,
           1,
           6,
           6,
           6,
           6,
           9,
           2,
           2,
           2,
           120,
           120,
           0,
           2,
           0,
           11,
           8,
           0,
           0,
           3,
           3,
           2,
           2,
           2,
           9,
           9,
           6,
           6,
           6,
           3,
           17,
           17,
           17,
           7,
           3,
           3,
           1,
           7,
           7,
           7,
           9,
           1,
           5,
           5,
           5,
           1,
           1,
           3,
           11,
           11,
           7,
           44,
           44,
           3,
           1,
           1,
           1,
           1,
           20,
           20,
           20,
           9,
           9,
           0,
           1,
           1,
           8,
           11,
           11,
           35,
           2,
           5,
           7,
           23,
           23,
           19,
           19,
           2,
           20,
           20,
           61,
           61,
           61,
           61,
           122,
           122,
           14,
           339,
           339,
           27
          ],
          "sizemode": "area",
          "sizeref": 1.498888888888889,
          "symbol": "circle"
         },
         "mode": "markers",
         "name": "Architecture & Design",
         "orientation": "h",
         "showlegend": true,
         "type": "scatter",
         "x": [
          2,
          45,
          45,
          45,
          23,
          89,
          89,
          194,
          194,
          194,
          18,
          139,
          73,
          10,
          79,
          79,
          827,
          827,
          66,
          99,
          99,
          32,
          32,
          77,
          129,
          129,
          28,
          28,
          98,
          98,
          150,
          150,
          64,
          64,
          133,
          133,
          115,
          48,
          48,
          211,
          211,
          211,
          104,
          104,
          187,
          187,
          16,
          112,
          112,
          112,
          59,
          59,
          31,
          31,
          166,
          166,
          90,
          90,
          105,
          105,
          144,
          144,
          200,
          205,
          71,
          71,
          168,
          168,
          3,
          71,
          35,
          812,
          20,
          95,
          95,
          174,
          174,
          60,
          66,
          66,
          132,
          132,
          166,
          166,
          166,
          96,
          223,
          223,
          223,
          103,
          111,
          111,
          71,
          144,
          144,
          144,
          75,
          28,
          146,
          146,
          146,
          29,
          65,
          109,
          119,
          119,
          132,
          204,
          204,
          98,
          130,
          130,
          656,
          656,
          418,
          418,
          418,
          257,
          257,
          39,
          124,
          107,
          104,
          299,
          299,
          227,
          220,
          193,
          145,
          310,
          310,
          737,
          737,
          165,
          839,
          839,
          1351,
          1351,
          1351,
          1351,
          491,
          491,
          101,
          856,
          856,
          183
         ],
         "xaxis": "x",
         "y": [
          "1932",
          "1934",
          "1934",
          "1934",
          "1935",
          "1936",
          "1936",
          "1937",
          "1937",
          "1937",
          "1938",
          "1939",
          "1940",
          "1941",
          "1942",
          "1942",
          "1943",
          "1943",
          "1944",
          "1945",
          "1945",
          "1946",
          "1946",
          "1947",
          "1948",
          "1948",
          "1949",
          "1949",
          "1950",
          "1950",
          "1951",
          "1951",
          "1952",
          "1952",
          "1953",
          "1953",
          "1954",
          "1955",
          "1955",
          "1956",
          "1956",
          "1956",
          "1957",
          "1957",
          "1958",
          "1958",
          "1959",
          "1960",
          "1960",
          "1960",
          "1961",
          "1961",
          "1962",
          "1962",
          "1963",
          "1963",
          "1964",
          "1964",
          "1965",
          "1965",
          "1966",
          "1966",
          "1967",
          "1968",
          "1969",
          "1969",
          "1970",
          "1970",
          "1971",
          "1972",
          "1973",
          "1974",
          "1975",
          "1976",
          "1976",
          "1977",
          "1977",
          "1978",
          "1979",
          "1979",
          "1980",
          "1980",
          "1981",
          "1981",
          "1981",
          "1982",
          "1983",
          "1983",
          "1983",
          "1984",
          "1985",
          "1985",
          "1986",
          "1987",
          "1987",
          "1987",
          "1988",
          "1989",
          "1990",
          "1990",
          "1990",
          "1991",
          "1992",
          "1993",
          "1994",
          "1994",
          "1995",
          "1996",
          "1996",
          "1997",
          "1998",
          "1998",
          "1999",
          "1999",
          "2000",
          "2000",
          "2000",
          "2001",
          "2001",
          "2002",
          "2003",
          "2004",
          "2005",
          "2006",
          "2006",
          "2007",
          "2008",
          "2009",
          "2010",
          "2011",
          "2011",
          "2012",
          "2012",
          "2013",
          "2014",
          "2014",
          "2015",
          "2015",
          "2015",
          "2015",
          "2016",
          "2016",
          "2017",
          "2018",
          "2018",
          "2019"
         ],
         "yaxis": "y"
        },
        {
         "hovertemplate": "Department=Photography<br>Count=%{x}<br>DateAcquired=%{y}<br>Females=%{marker.size}<extra></extra>",
         "legendgroup": "Photography",
         "marker": {
          "color": "#00cc96",
          "size": [
           1,
           0,
           0,
           0,
           1,
           2,
           1,
           35,
           31,
           31,
           40,
           11,
           11,
           11,
           4,
           0,
           0,
           0,
           3,
           0,
           3,
           0,
           0,
           0,
           39,
           39,
           8,
           8,
           13,
           10,
           60,
           60,
           185,
           4,
           88,
           25,
           25,
           25,
           25,
           24,
           24,
           9,
           9,
           9,
           22,
           22,
           32,
           32,
           32,
           30,
           30,
           30,
           30,
           194,
           194,
           194,
           194,
           12,
           12,
           12,
           12,
           22,
           22,
           22,
           22,
           22,
           22,
           15,
           15,
           15,
           13,
           13,
           13,
           13,
           13,
           13,
           65,
           65,
           65,
           18,
           9,
           9,
           39,
           39,
           28,
           28,
           17,
           18,
           33,
           31,
           12,
           12,
           23,
           31,
           31,
           36,
           28,
           116,
           430,
           27,
           48,
           31,
           31,
           9,
           7,
           87,
           87,
           19,
           10,
           60,
           55,
           55,
           37,
           85,
           85,
           22,
           24,
           139,
           139,
           113,
           103,
           103,
           189,
           67,
           69,
           69,
           100,
           139,
           111,
           112,
           65
          ],
          "sizemode": "area",
          "sizeref": 1.498888888888889,
          "symbol": "circle"
         },
         "mode": "markers",
         "name": "Photography",
         "orientation": "h",
         "showlegend": true,
         "type": "scatter",
         "x": [
          1,
          91,
          2,
          24,
          57,
          84,
          51,
          125,
          650,
          650,
          218,
          127,
          127,
          113,
          32,
          36,
          1,
          92,
          16,
          51,
          43,
          4,
          65,
          26,
          447,
          447,
          104,
          160,
          155,
          127,
          570,
          570,
          352,
          169,
          337,
          5419,
          5419,
          5419,
          5419,
          303,
          303,
          257,
          257,
          257,
          499,
          499,
          259,
          259,
          259,
          228,
          228,
          228,
          228,
          563,
          563,
          563,
          563,
          283,
          283,
          283,
          283,
          337,
          337,
          337,
          337,
          337,
          337,
          295,
          295,
          295,
          236,
          236,
          255,
          255,
          255,
          255,
          191,
          191,
          191,
          700,
          299,
          299,
          412,
          412,
          287,
          287,
          170,
          309,
          295,
          176,
          390,
          390,
          253,
          192,
          192,
          323,
          258,
          335,
          573,
          196,
          180,
          575,
          575,
          164,
          904,
          1006,
          1006,
          110,
          126,
          137,
          336,
          336,
          336,
          406,
          406,
          267,
          387,
          645,
          645,
          375,
          351,
          351,
          1327,
          810,
          934,
          934,
          603,
          950,
          422,
          623,
          164
         ],
         "xaxis": "x",
         "y": [
          "1932",
          "1933",
          "1934",
          "1935",
          "1937",
          "1938",
          "1939",
          "1940",
          "1941",
          "1941",
          "1942",
          "1943",
          "1943",
          "1944",
          "1946",
          "1947",
          "1948",
          "1950",
          "1952",
          "1953",
          "1954",
          "1955",
          "1956",
          "1957",
          "1959",
          "1959",
          "1960",
          "1961",
          "1962",
          "1963",
          "1964",
          "1964",
          "1965",
          "1966",
          "1967",
          "1968",
          "1968",
          "1968",
          "1968",
          "1969",
          "1969",
          "1970",
          "1970",
          "1970",
          "1971",
          "1971",
          "1972",
          "1972",
          "1972",
          "1973",
          "1973",
          "1973",
          "1973",
          "1974",
          "1974",
          "1974",
          "1974",
          "1975",
          "1975",
          "1975",
          "1975",
          "1976",
          "1976",
          "1976",
          "1976",
          "1976",
          "1976",
          "1977",
          "1977",
          "1977",
          "1978",
          "1978",
          "1979",
          "1979",
          "1979",
          "1979",
          "1980",
          "1980",
          "1980",
          "1981",
          "1982",
          "1982",
          "1983",
          "1983",
          "1984",
          "1984",
          "1985",
          "1986",
          "1987",
          "1988",
          "1989",
          "1989",
          "1990",
          "1991",
          "1991",
          "1992",
          "1993",
          "1994",
          "1995",
          "1996",
          "1997",
          "1998",
          "1998",
          "1999",
          "2000",
          "2001",
          "2001",
          "2002",
          "2003",
          "2004",
          "2005",
          "2005",
          "2006",
          "2007",
          "2007",
          "2008",
          "2009",
          "2010",
          "2010",
          "2011",
          "2012",
          "2012",
          "2013",
          "2014",
          "2015",
          "2015",
          "2016",
          "2017",
          "2018",
          "2019",
          "2020"
         ],
         "yaxis": "y"
        },
        {
         "hovertemplate": "Department=Painting & Sculpture<br>Count=%{x}<br>DateAcquired=%{y}<br>Females=%{marker.size}<extra></extra>",
         "legendgroup": "Painting & Sculpture",
         "marker": {
          "color": "#ab63fa",
          "size": [
           0,
           0,
           0,
           0,
           0,
           1,
           1,
           1,
           1,
           0,
           4,
           4,
           6,
           2,
           4,
           2,
           2,
           1,
           0,
           1,
           1,
           1,
           2,
           0,
           0,
           2,
           4,
           4,
           5,
           1,
           3,
           2,
           10,
           7,
           2,
           3,
           6,
           4,
           3,
           1,
           4,
           7,
           4,
           3,
           0,
           2,
           3,
           3,
           3,
           2,
           2,
           4,
           9,
           2,
           1,
           2,
           11,
           11,
           3,
           11,
           5,
           6,
           4,
           1,
           4,
           9,
           6,
           2,
           13,
           3,
           3,
           5,
           9,
           3,
           2,
           3,
           6,
           8,
           4,
           22,
           32,
           6,
           13,
           8,
           13,
           14,
           16,
           16,
           13,
           25,
           12,
           14,
           28,
           18,
           22,
           22,
           15,
           15,
           1
          ],
          "sizemode": "area",
          "sizeref": 1.498888888888889,
          "symbol": "circle"
         },
         "mode": "markers",
         "name": "Painting & Sculpture",
         "orientation": "h",
         "showlegend": true,
         "type": "scatter",
         "x": [
          4,
          2,
          1,
          19,
          19,
          23,
          34,
          12,
          47,
          17,
          44,
          44,
          75,
          34,
          19,
          18,
          8,
          17,
          21,
          35,
          35,
          30,
          36,
          31,
          31,
          42,
          36,
          53,
          63,
          27,
          50,
          59,
          55,
          78,
          35,
          52,
          60,
          70,
          52,
          99,
          41,
          72,
          68,
          47,
          11,
          29,
          24,
          39,
          39,
          33,
          24,
          37,
          96,
          25,
          26,
          27,
          47,
          47,
          29,
          112,
          30,
          24,
          16,
          14,
          43,
          87,
          45,
          16,
          75,
          25,
          25,
          77,
          40,
          47,
          35,
          43,
          28,
          34,
          14,
          47,
          151,
          33,
          41,
          46,
          32,
          135,
          89,
          89,
          46,
          68,
          42,
          54,
          119,
          48,
          41,
          41,
          35,
          35,
          13
         ],
         "xaxis": "x",
         "y": [
          "1930",
          "1931",
          "1932",
          "1934",
          "1935",
          "1936",
          "1937",
          "1938",
          "1939",
          "1940",
          "1941",
          "1941",
          "1942",
          "1943",
          "1944",
          "1945",
          "1946",
          "1947",
          "1948",
          "1949",
          "1949",
          "1950",
          "1951",
          "1952",
          "1952",
          "1953",
          "1954",
          "1955",
          "1956",
          "1957",
          "1958",
          "1959",
          "1960",
          "1961",
          "1962",
          "1963",
          "1964",
          "1965",
          "1966",
          "1967",
          "1968",
          "1969",
          "1970",
          "1971",
          "1972",
          "1973",
          "1974",
          "1975",
          "1975",
          "1976",
          "1977",
          "1978",
          "1979",
          "1980",
          "1981",
          "1982",
          "1983",
          "1983",
          "1984",
          "1985",
          "1986",
          "1987",
          "1988",
          "1989",
          "1990",
          "1991",
          "1992",
          "1993",
          "1994",
          "1995",
          "1995",
          "1996",
          "1997",
          "1998",
          "1999",
          "2000",
          "2001",
          "2002",
          "2003",
          "2004",
          "2005",
          "2006",
          "2007",
          "2008",
          "2009",
          "2010",
          "2011",
          "2011",
          "2012",
          "2013",
          "2014",
          "2015",
          "2016",
          "2017",
          "2018",
          "2018",
          "2019",
          "2019",
          "2020"
         ],
         "yaxis": "y"
        },
        {
         "hovertemplate": "Department=Media and Performance<br>Count=%{x}<br>DateAcquired=%{y}<br>Females=%{marker.size}<extra></extra>",
         "legendgroup": "Media and Performance",
         "marker": {
          "color": "#FFA15A",
          "size": [
           1,
           1,
           3,
           6,
           4,
           4,
           7,
           19,
           1,
           8,
           2,
           12,
           1,
           16,
           5,
           8,
           3,
           7,
           0,
           3,
           11,
           19,
           19,
           38,
           5,
           6,
           7,
           9,
           6,
           6,
           23,
           23,
           42,
           23,
           0,
           69,
           80,
           80,
           14,
           29,
           60,
           60,
           8,
           46,
           11,
           14,
           0
          ],
          "sizemode": "area",
          "sizeref": 1.498888888888889,
          "symbol": "circle"
         },
         "mode": "markers",
         "name": "Media and Performance",
         "orientation": "h",
         "showlegend": true,
         "type": "scatter",
         "x": [
          26,
          8,
          32,
          15,
          23,
          20,
          14,
          62,
          14,
          62,
          17,
          36,
          10,
          18,
          12,
          18,
          37,
          69,
          6,
          71,
          41,
          152,
          152,
          106,
          10,
          7,
          39,
          36,
          68,
          21,
          424,
          424,
          257,
          55,
          3,
          178,
          139,
          139,
          78,
          65,
          239,
          239,
          63,
          93,
          103,
          138,
          1
         ],
         "xaxis": "x",
         "y": [
          "1975",
          "1976",
          "1979",
          "1980",
          "1981",
          "1982",
          "1983",
          "1984",
          "1985",
          "1986",
          "1987",
          "1988",
          "1989",
          "1990",
          "1991",
          "1992",
          "1993",
          "1994",
          "1995",
          "1997",
          "1998",
          "1999",
          "1999",
          "2000",
          "2001",
          "2002",
          "2003",
          "2004",
          "2005",
          "2006",
          "2007",
          "2007",
          "2008",
          "2009",
          "2010",
          "2011",
          "2012",
          "2012",
          "2013",
          "2014",
          "2015",
          "2015",
          "2016",
          "2017",
          "2018",
          "2019",
          "2020"
         ],
         "yaxis": "y"
        },
        {
         "hovertemplate": "Department=Drawings & Prints<br>Count=%{x}<br>DateAcquired=%{y}<br>Females=%{marker.size}<extra></extra>",
         "legendgroup": "Drawings & Prints",
         "marker": {
          "color": "#19d3f3",
          "size": [
           0,
           0,
           0,
           0,
           0,
           0,
           4,
           4,
           4,
           4,
           2,
           4,
           4,
           0,
           3,
           3,
           147,
           147,
           147,
           19,
           19,
           19,
           15,
           15,
           15,
           15,
           15,
           0,
           0,
           4,
           4,
           4,
           1,
           0,
           84,
           84,
           5,
           5,
           5,
           31,
           31,
           31,
           10,
           10,
           7,
           7,
           19,
           19,
           7,
           7,
           11,
           11,
           11,
           11,
           6,
           6,
           12,
           12,
           12,
           12,
           7,
           7,
           7,
           12,
           12,
           12,
           12,
           24,
           24,
           24,
           24,
           3,
           3,
           16,
           16,
           16,
           5,
           36,
           36,
           36,
           147,
           147,
           147,
           147,
           41,
           41,
           41,
           41,
           41,
           16,
           16,
           16,
           106,
           106,
           106,
           106,
           106,
           106,
           106,
           39,
           39,
           39,
           136,
           136,
           136,
           136,
           136,
           56,
           56,
           56,
           56,
           17,
           17,
           17,
           17,
           32,
           32,
           85,
           85,
           85,
           308,
           308,
           308,
           19,
           19,
           19,
           29,
           29,
           140,
           140,
           102,
           102,
           136,
           58,
           58,
           58,
           45,
           45,
           51,
           51,
           24,
           24,
           43,
           92,
           40,
           40,
           49,
           94,
           90,
           90,
           188,
           188,
           70,
           163,
           390,
           131,
           58,
           58,
           58,
           220,
           220,
           220,
           185,
           99,
           121,
           121,
           121,
           128,
           446,
           446,
           446,
           111,
           60,
           146,
           146,
           808,
           808,
           217,
           217,
           110,
           110,
           110,
           1349,
           1349,
           1349,
           1349,
           297,
           297,
           297,
           297,
           242,
           242,
           242,
           213,
           213,
           213,
           888,
           888,
           121,
           121,
           121,
           121,
           125,
           125,
           125,
           226,
           284,
           83,
           212,
           212,
           212,
           39,
           39,
           17
          ],
          "sizemode": "area",
          "sizeref": 1.498888888888889,
          "symbol": "circle"
         },
         "mode": "markers",
         "name": "Drawings & Prints",
         "orientation": "h",
         "showlegend": true,
         "type": "scatter",
         "x": [
          9,
          3,
          1,
          13,
          13,
          2,
          186,
          339,
          339,
          339,
          33,
          33,
          33,
          9,
          159,
          159,
          1204,
          1204,
          1204,
          222,
          222,
          222,
          533,
          533,
          533,
          533,
          533,
          115,
          115,
          144,
          144,
          144,
          165,
          97,
          316,
          316,
          259,
          259,
          259,
          1469,
          1469,
          1469,
          229,
          229,
          439,
          439,
          433,
          433,
          243,
          243,
          661,
          661,
          661,
          661,
          335,
          335,
          764,
          764,
          764,
          764,
          139,
          139,
          139,
          460,
          460,
          460,
          460,
          303,
          303,
          303,
          303,
          178,
          178,
          251,
          251,
          251,
          343,
          589,
          589,
          589,
          12094,
          12094,
          12094,
          12094,
          1455,
          1455,
          1455,
          1455,
          1455,
          1476,
          1476,
          1476,
          1684,
          1684,
          1684,
          1684,
          1684,
          1684,
          1684,
          1131,
          1131,
          1131,
          1736,
          1736,
          1736,
          1736,
          1736,
          726,
          726,
          726,
          726,
          482,
          482,
          482,
          482,
          497,
          497,
          758,
          758,
          758,
          1950,
          1950,
          1950,
          589,
          589,
          589,
          399,
          399,
          711,
          711,
          1012,
          1012,
          700,
          301,
          301,
          301,
          414,
          414,
          406,
          406,
          487,
          487,
          388,
          637,
          550,
          550,
          783,
          716,
          438,
          438,
          795,
          795,
          500,
          744,
          839,
          345,
          228,
          228,
          228,
          489,
          489,
          489,
          561,
          482,
          682,
          682,
          682,
          394,
          2847,
          2847,
          2847,
          443,
          243,
          431,
          431,
          3303,
          3303,
          974,
          974,
          1161,
          1161,
          1161,
          4359,
          4359,
          4359,
          4359,
          819,
          819,
          819,
          819,
          1093,
          1093,
          1093,
          954,
          954,
          954,
          1589,
          1589,
          1159,
          1159,
          1159,
          1159,
          984,
          984,
          984,
          1138,
          481,
          357,
          782,
          782,
          782,
          594,
          594,
          162
         ],
         "xaxis": "x",
         "y": [
          "1929",
          "1930",
          "1931",
          "1932",
          "1932",
          "1933",
          "1934",
          "1935",
          "1935",
          "1935",
          "1936",
          "1937",
          "1937",
          "1938",
          "1939",
          "1939",
          "1940",
          "1940",
          "1940",
          "1941",
          "1941",
          "1941",
          "1942",
          "1942",
          "1942",
          "1942",
          "1942",
          "1943",
          "1943",
          "1944",
          "1944",
          "1944",
          "1945",
          "1946",
          "1947",
          "1947",
          "1948",
          "1948",
          "1948",
          "1949",
          "1949",
          "1949",
          "1950",
          "1950",
          "1951",
          "1951",
          "1952",
          "1952",
          "1953",
          "1953",
          "1954",
          "1954",
          "1954",
          "1954",
          "1955",
          "1955",
          "1956",
          "1956",
          "1956",
          "1956",
          "1957",
          "1957",
          "1957",
          "1958",
          "1958",
          "1958",
          "1958",
          "1959",
          "1959",
          "1959",
          "1959",
          "1960",
          "1960",
          "1961",
          "1961",
          "1961",
          "1962",
          "1963",
          "1963",
          "1963",
          "1964",
          "1964",
          "1964",
          "1964",
          "1965",
          "1965",
          "1965",
          "1965",
          "1965",
          "1966",
          "1966",
          "1966",
          "1967",
          "1967",
          "1967",
          "1967",
          "1967",
          "1967",
          "1967",
          "1968",
          "1968",
          "1968",
          "1969",
          "1969",
          "1969",
          "1969",
          "1969",
          "1970",
          "1970",
          "1970",
          "1970",
          "1971",
          "1971",
          "1971",
          "1971",
          "1972",
          "1972",
          "1973",
          "1973",
          "1973",
          "1974",
          "1974",
          "1974",
          "1975",
          "1975",
          "1975",
          "1976",
          "1976",
          "1977",
          "1977",
          "1978",
          "1978",
          "1979",
          "1980",
          "1980",
          "1980",
          "1981",
          "1981",
          "1982",
          "1982",
          "1983",
          "1983",
          "1984",
          "1985",
          "1986",
          "1986",
          "1987",
          "1988",
          "1989",
          "1989",
          "1990",
          "1990",
          "1991",
          "1992",
          "1993",
          "1994",
          "1995",
          "1995",
          "1995",
          "1996",
          "1996",
          "1996",
          "1997",
          "1998",
          "1999",
          "1999",
          "1999",
          "2000",
          "2001",
          "2001",
          "2001",
          "2002",
          "2003",
          "2004",
          "2004",
          "2005",
          "2005",
          "2006",
          "2006",
          "2007",
          "2007",
          "2007",
          "2008",
          "2008",
          "2008",
          "2008",
          "2009",
          "2009",
          "2009",
          "2009",
          "2010",
          "2010",
          "2010",
          "2011",
          "2011",
          "2011",
          "2012",
          "2012",
          "2013",
          "2013",
          "2013",
          "2013",
          "2014",
          "2014",
          "2014",
          "2015",
          "2016",
          "2017",
          "2018",
          "2018",
          "2018",
          "2019",
          "2019",
          "2020"
         ],
         "yaxis": "y"
        },
        {
         "hovertemplate": "Department=Film<br>Count=%{x}<br>DateAcquired=%{y}<br>Females=%{marker.size}<extra></extra>",
         "legendgroup": "Film",
         "marker": {
          "color": "#FF6692",
          "size": [
           0,
           0,
           0,
           0,
           0,
           0,
           0,
           0,
           0,
           0,
           0,
           0,
           0,
           0,
           0,
           1,
           0,
           0,
           0,
           0,
           0,
           2,
           2,
           2,
           2,
           2,
           2,
           2,
           2,
           2,
           2,
           2,
           2,
           2,
           2,
           2,
           2,
           2,
           2,
           0,
           0,
           1,
           1,
           0,
           2,
           2,
           2,
           3,
           3,
           3,
           3,
           8,
           13,
           13,
           13,
           11,
           8,
           1,
           6,
           6,
           6,
           6,
           19,
           19,
           19,
           34
          ],
          "sizemode": "area",
          "sizeref": 1.498888888888889,
          "symbol": "circle"
         },
         "mode": "markers",
         "name": "Film",
         "orientation": "h",
         "showlegend": true,
         "type": "scatter",
         "x": [
          1,
          2,
          4,
          3,
          1,
          1,
          1,
          1,
          1,
          1,
          1,
          1,
          1,
          1,
          1,
          7,
          1,
          1,
          1,
          1,
          6,
          19,
          19,
          19,
          19,
          19,
          19,
          19,
          19,
          19,
          19,
          19,
          19,
          19,
          19,
          19,
          19,
          19,
          19,
          3,
          2,
          83,
          83,
          1,
          9,
          9,
          9,
          18,
          6,
          18,
          18,
          43,
          146,
          146,
          146,
          97,
          35,
          22,
          70,
          70,
          70,
          70,
          75,
          75,
          75,
          110
         ],
         "xaxis": "x",
         "y": [
          "1936",
          "1938",
          "1939",
          "1940",
          "1953",
          "1969",
          "1971",
          "1972",
          "1974",
          "1977",
          "1979",
          "1981",
          "1983",
          "1986",
          "1988",
          "1989",
          "1990",
          "1997",
          "1998",
          "1998",
          "1999",
          "2002",
          "2002",
          "2002",
          "2002",
          "2002",
          "2002",
          "2002",
          "2002",
          "2002",
          "2002",
          "2002",
          "2002",
          "2002",
          "2002",
          "2002",
          "2002",
          "2002",
          "2002",
          "2003",
          "2004",
          "2005",
          "2005",
          "2006",
          "2007",
          "2007",
          "2007",
          "2008",
          "2009",
          "2010",
          "2010",
          "2011",
          "2012",
          "2012",
          "2012",
          "2013",
          "2014",
          "2015",
          "2016",
          "2016",
          "2016",
          "2016",
          "2017",
          "2017",
          "2017",
          "2018"
         ],
         "yaxis": "y"
        }
       ],
       "layout": {
        "legend": {
         "itemsizing": "constant",
         "title": {
          "text": "Department"
         },
         "tracegroupgap": 0
        },
        "template": {
         "data": {
          "bar": [
           {
            "error_x": {
             "color": "#2a3f5f"
            },
            "error_y": {
             "color": "#2a3f5f"
            },
            "marker": {
             "line": {
              "color": "#E5ECF6",
              "width": 0.5
             },
             "pattern": {
              "fillmode": "overlay",
              "size": 10,
              "solidity": 0.2
             }
            },
            "type": "bar"
           }
          ],
          "barpolar": [
           {
            "marker": {
             "line": {
              "color": "#E5ECF6",
              "width": 0.5
             },
             "pattern": {
              "fillmode": "overlay",
              "size": 10,
              "solidity": 0.2
             }
            },
            "type": "barpolar"
           }
          ],
          "carpet": [
           {
            "aaxis": {
             "endlinecolor": "#2a3f5f",
             "gridcolor": "white",
             "linecolor": "white",
             "minorgridcolor": "white",
             "startlinecolor": "#2a3f5f"
            },
            "baxis": {
             "endlinecolor": "#2a3f5f",
             "gridcolor": "white",
             "linecolor": "white",
             "minorgridcolor": "white",
             "startlinecolor": "#2a3f5f"
            },
            "type": "carpet"
           }
          ],
          "choropleth": [
           {
            "colorbar": {
             "outlinewidth": 0,
             "ticks": ""
            },
            "type": "choropleth"
           }
          ],
          "contour": [
           {
            "colorbar": {
             "outlinewidth": 0,
             "ticks": ""
            },
            "colorscale": [
             [
              0,
              "#0d0887"
             ],
             [
              0.1111111111111111,
              "#46039f"
             ],
             [
              0.2222222222222222,
              "#7201a8"
             ],
             [
              0.3333333333333333,
              "#9c179e"
             ],
             [
              0.4444444444444444,
              "#bd3786"
             ],
             [
              0.5555555555555556,
              "#d8576b"
             ],
             [
              0.6666666666666666,
              "#ed7953"
             ],
             [
              0.7777777777777778,
              "#fb9f3a"
             ],
             [
              0.8888888888888888,
              "#fdca26"
             ],
             [
              1,
              "#f0f921"
             ]
            ],
            "type": "contour"
           }
          ],
          "contourcarpet": [
           {
            "colorbar": {
             "outlinewidth": 0,
             "ticks": ""
            },
            "type": "contourcarpet"
           }
          ],
          "heatmap": [
           {
            "colorbar": {
             "outlinewidth": 0,
             "ticks": ""
            },
            "colorscale": [
             [
              0,
              "#0d0887"
             ],
             [
              0.1111111111111111,
              "#46039f"
             ],
             [
              0.2222222222222222,
              "#7201a8"
             ],
             [
              0.3333333333333333,
              "#9c179e"
             ],
             [
              0.4444444444444444,
              "#bd3786"
             ],
             [
              0.5555555555555556,
              "#d8576b"
             ],
             [
              0.6666666666666666,
              "#ed7953"
             ],
             [
              0.7777777777777778,
              "#fb9f3a"
             ],
             [
              0.8888888888888888,
              "#fdca26"
             ],
             [
              1,
              "#f0f921"
             ]
            ],
            "type": "heatmap"
           }
          ],
          "heatmapgl": [
           {
            "colorbar": {
             "outlinewidth": 0,
             "ticks": ""
            },
            "colorscale": [
             [
              0,
              "#0d0887"
             ],
             [
              0.1111111111111111,
              "#46039f"
             ],
             [
              0.2222222222222222,
              "#7201a8"
             ],
             [
              0.3333333333333333,
              "#9c179e"
             ],
             [
              0.4444444444444444,
              "#bd3786"
             ],
             [
              0.5555555555555556,
              "#d8576b"
             ],
             [
              0.6666666666666666,
              "#ed7953"
             ],
             [
              0.7777777777777778,
              "#fb9f3a"
             ],
             [
              0.8888888888888888,
              "#fdca26"
             ],
             [
              1,
              "#f0f921"
             ]
            ],
            "type": "heatmapgl"
           }
          ],
          "histogram": [
           {
            "marker": {
             "pattern": {
              "fillmode": "overlay",
              "size": 10,
              "solidity": 0.2
             }
            },
            "type": "histogram"
           }
          ],
          "histogram2d": [
           {
            "colorbar": {
             "outlinewidth": 0,
             "ticks": ""
            },
            "colorscale": [
             [
              0,
              "#0d0887"
             ],
             [
              0.1111111111111111,
              "#46039f"
             ],
             [
              0.2222222222222222,
              "#7201a8"
             ],
             [
              0.3333333333333333,
              "#9c179e"
             ],
             [
              0.4444444444444444,
              "#bd3786"
             ],
             [
              0.5555555555555556,
              "#d8576b"
             ],
             [
              0.6666666666666666,
              "#ed7953"
             ],
             [
              0.7777777777777778,
              "#fb9f3a"
             ],
             [
              0.8888888888888888,
              "#fdca26"
             ],
             [
              1,
              "#f0f921"
             ]
            ],
            "type": "histogram2d"
           }
          ],
          "histogram2dcontour": [
           {
            "colorbar": {
             "outlinewidth": 0,
             "ticks": ""
            },
            "colorscale": [
             [
              0,
              "#0d0887"
             ],
             [
              0.1111111111111111,
              "#46039f"
             ],
             [
              0.2222222222222222,
              "#7201a8"
             ],
             [
              0.3333333333333333,
              "#9c179e"
             ],
             [
              0.4444444444444444,
              "#bd3786"
             ],
             [
              0.5555555555555556,
              "#d8576b"
             ],
             [
              0.6666666666666666,
              "#ed7953"
             ],
             [
              0.7777777777777778,
              "#fb9f3a"
             ],
             [
              0.8888888888888888,
              "#fdca26"
             ],
             [
              1,
              "#f0f921"
             ]
            ],
            "type": "histogram2dcontour"
           }
          ],
          "mesh3d": [
           {
            "colorbar": {
             "outlinewidth": 0,
             "ticks": ""
            },
            "type": "mesh3d"
           }
          ],
          "parcoords": [
           {
            "line": {
             "colorbar": {
              "outlinewidth": 0,
              "ticks": ""
             }
            },
            "type": "parcoords"
           }
          ],
          "pie": [
           {
            "automargin": true,
            "type": "pie"
           }
          ],
          "scatter": [
           {
            "fillpattern": {
             "fillmode": "overlay",
             "size": 10,
             "solidity": 0.2
            },
            "type": "scatter"
           }
          ],
          "scatter3d": [
           {
            "line": {
             "colorbar": {
              "outlinewidth": 0,
              "ticks": ""
             }
            },
            "marker": {
             "colorbar": {
              "outlinewidth": 0,
              "ticks": ""
             }
            },
            "type": "scatter3d"
           }
          ],
          "scattercarpet": [
           {
            "marker": {
             "colorbar": {
              "outlinewidth": 0,
              "ticks": ""
             }
            },
            "type": "scattercarpet"
           }
          ],
          "scattergeo": [
           {
            "marker": {
             "colorbar": {
              "outlinewidth": 0,
              "ticks": ""
             }
            },
            "type": "scattergeo"
           }
          ],
          "scattergl": [
           {
            "marker": {
             "colorbar": {
              "outlinewidth": 0,
              "ticks": ""
             }
            },
            "type": "scattergl"
           }
          ],
          "scattermapbox": [
           {
            "marker": {
             "colorbar": {
              "outlinewidth": 0,
              "ticks": ""
             }
            },
            "type": "scattermapbox"
           }
          ],
          "scatterpolar": [
           {
            "marker": {
             "colorbar": {
              "outlinewidth": 0,
              "ticks": ""
             }
            },
            "type": "scatterpolar"
           }
          ],
          "scatterpolargl": [
           {
            "marker": {
             "colorbar": {
              "outlinewidth": 0,
              "ticks": ""
             }
            },
            "type": "scatterpolargl"
           }
          ],
          "scatterternary": [
           {
            "marker": {
             "colorbar": {
              "outlinewidth": 0,
              "ticks": ""
             }
            },
            "type": "scatterternary"
           }
          ],
          "surface": [
           {
            "colorbar": {
             "outlinewidth": 0,
             "ticks": ""
            },
            "colorscale": [
             [
              0,
              "#0d0887"
             ],
             [
              0.1111111111111111,
              "#46039f"
             ],
             [
              0.2222222222222222,
              "#7201a8"
             ],
             [
              0.3333333333333333,
              "#9c179e"
             ],
             [
              0.4444444444444444,
              "#bd3786"
             ],
             [
              0.5555555555555556,
              "#d8576b"
             ],
             [
              0.6666666666666666,
              "#ed7953"
             ],
             [
              0.7777777777777778,
              "#fb9f3a"
             ],
             [
              0.8888888888888888,
              "#fdca26"
             ],
             [
              1,
              "#f0f921"
             ]
            ],
            "type": "surface"
           }
          ],
          "table": [
           {
            "cells": {
             "fill": {
              "color": "#EBF0F8"
             },
             "line": {
              "color": "white"
             }
            },
            "header": {
             "fill": {
              "color": "#C8D4E3"
             },
             "line": {
              "color": "white"
             }
            },
            "type": "table"
           }
          ]
         },
         "layout": {
          "annotationdefaults": {
           "arrowcolor": "#2a3f5f",
           "arrowhead": 0,
           "arrowwidth": 1
          },
          "autotypenumbers": "strict",
          "coloraxis": {
           "colorbar": {
            "outlinewidth": 0,
            "ticks": ""
           }
          },
          "colorscale": {
           "diverging": [
            [
             0,
             "#8e0152"
            ],
            [
             0.1,
             "#c51b7d"
            ],
            [
             0.2,
             "#de77ae"
            ],
            [
             0.3,
             "#f1b6da"
            ],
            [
             0.4,
             "#fde0ef"
            ],
            [
             0.5,
             "#f7f7f7"
            ],
            [
             0.6,
             "#e6f5d0"
            ],
            [
             0.7,
             "#b8e186"
            ],
            [
             0.8,
             "#7fbc41"
            ],
            [
             0.9,
             "#4d9221"
            ],
            [
             1,
             "#276419"
            ]
           ],
           "sequential": [
            [
             0,
             "#0d0887"
            ],
            [
             0.1111111111111111,
             "#46039f"
            ],
            [
             0.2222222222222222,
             "#7201a8"
            ],
            [
             0.3333333333333333,
             "#9c179e"
            ],
            [
             0.4444444444444444,
             "#bd3786"
            ],
            [
             0.5555555555555556,
             "#d8576b"
            ],
            [
             0.6666666666666666,
             "#ed7953"
            ],
            [
             0.7777777777777778,
             "#fb9f3a"
            ],
            [
             0.8888888888888888,
             "#fdca26"
            ],
            [
             1,
             "#f0f921"
            ]
           ],
           "sequentialminus": [
            [
             0,
             "#0d0887"
            ],
            [
             0.1111111111111111,
             "#46039f"
            ],
            [
             0.2222222222222222,
             "#7201a8"
            ],
            [
             0.3333333333333333,
             "#9c179e"
            ],
            [
             0.4444444444444444,
             "#bd3786"
            ],
            [
             0.5555555555555556,
             "#d8576b"
            ],
            [
             0.6666666666666666,
             "#ed7953"
            ],
            [
             0.7777777777777778,
             "#fb9f3a"
            ],
            [
             0.8888888888888888,
             "#fdca26"
            ],
            [
             1,
             "#f0f921"
            ]
           ]
          },
          "colorway": [
           "#636efa",
           "#EF553B",
           "#00cc96",
           "#ab63fa",
           "#FFA15A",
           "#19d3f3",
           "#FF6692",
           "#B6E880",
           "#FF97FF",
           "#FECB52"
          ],
          "font": {
           "color": "#2a3f5f"
          },
          "geo": {
           "bgcolor": "white",
           "lakecolor": "white",
           "landcolor": "#E5ECF6",
           "showlakes": true,
           "showland": true,
           "subunitcolor": "white"
          },
          "hoverlabel": {
           "align": "left"
          },
          "hovermode": "closest",
          "mapbox": {
           "style": "light"
          },
          "paper_bgcolor": "white",
          "plot_bgcolor": "#E5ECF6",
          "polar": {
           "angularaxis": {
            "gridcolor": "white",
            "linecolor": "white",
            "ticks": ""
           },
           "bgcolor": "#E5ECF6",
           "radialaxis": {
            "gridcolor": "white",
            "linecolor": "white",
            "ticks": ""
           }
          },
          "scene": {
           "xaxis": {
            "backgroundcolor": "#E5ECF6",
            "gridcolor": "white",
            "gridwidth": 2,
            "linecolor": "white",
            "showbackground": true,
            "ticks": "",
            "zerolinecolor": "white"
           },
           "yaxis": {
            "backgroundcolor": "#E5ECF6",
            "gridcolor": "white",
            "gridwidth": 2,
            "linecolor": "white",
            "showbackground": true,
            "ticks": "",
            "zerolinecolor": "white"
           },
           "zaxis": {
            "backgroundcolor": "#E5ECF6",
            "gridcolor": "white",
            "gridwidth": 2,
            "linecolor": "white",
            "showbackground": true,
            "ticks": "",
            "zerolinecolor": "white"
           }
          },
          "shapedefaults": {
           "line": {
            "color": "#2a3f5f"
           }
          },
          "ternary": {
           "aaxis": {
            "gridcolor": "white",
            "linecolor": "white",
            "ticks": ""
           },
           "baxis": {
            "gridcolor": "white",
            "linecolor": "white",
            "ticks": ""
           },
           "bgcolor": "#E5ECF6",
           "caxis": {
            "gridcolor": "white",
            "linecolor": "white",
            "ticks": ""
           }
          },
          "title": {
           "x": 0.05
          },
          "xaxis": {
           "automargin": true,
           "gridcolor": "white",
           "linecolor": "white",
           "ticks": "",
           "title": {
            "standoff": 15
           },
           "zerolinecolor": "white",
           "zerolinewidth": 2
          },
          "yaxis": {
           "automargin": true,
           "gridcolor": "white",
           "linecolor": "white",
           "ticks": "",
           "title": {
            "standoff": 15
           },
           "zerolinecolor": "white",
           "zerolinewidth": 2
          }
         }
        },
        "title": {
         "text": "MoMA's departmwnts and female works acquisition"
        },
        "xaxis": {
         "anchor": "y",
         "domain": [
          0,
          1
         ],
         "title": {
          "text": "Count"
         },
         "type": "log"
        },
        "yaxis": {
         "anchor": "x",
         "domain": [
          0,
          1
         ],
         "title": {
          "text": "DateAcquired"
         }
        }
       }
      }
     },
     "metadata": {},
     "output_type": "display_data"
    }
   ],
   "source": [
    "fig9 = px.scatter(df_moma_complete,\n",
    "                 x=\"Count\", y=\"DateAcquired\", size=\"Females\", color=\"Department\",\n",
    "                 log_x=True, size_max=30,\n",
    "                 title=\"MoMA's departmwnts and female works acquisition\")\n",
    "fig9.show()"
   ]
  },
  {
   "cell_type": "markdown",
   "metadata": {},
   "source": [
    "Donughts made by laurent for comparisons "
   ]
  },
  {
   "cell_type": "code",
   "execution_count": null,
   "metadata": {},
   "outputs": [],
   "source": []
  }
 ],
 "metadata": {
  "interpreter": {
   "hash": "aee8b7b246df8f9039afb4144a1f6fd8d2ca17a180786b69acc140d282b71a49"
  },
  "kernelspec": {
   "display_name": "Python 3.9.4 64-bit",
   "language": "python",
   "name": "python3"
  },
  "language_info": {
   "codemirror_mode": {
    "name": "ipython",
    "version": 3
   },
   "file_extension": ".py",
   "mimetype": "text/x-python",
   "name": "python",
   "nbconvert_exporter": "python",
   "pygments_lexer": "ipython3",
   "version": "3.9.4"
  },
  "orig_nbformat": 4
 },
 "nbformat": 4,
 "nbformat_minor": 2
}
