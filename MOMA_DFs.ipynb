{
 "cells": [
  {
   "cell_type": "markdown",
   "metadata": {},
   "source": [
    "TO DO:\n",
    "- set dtypes for DF columns to string or int \n",
    "- reset indexes to drop extra indexes \n",
    "- acquisition dates to year only "
   ]
  },
  {
   "cell_type": "code",
   "execution_count": 1,
   "metadata": {},
   "outputs": [],
   "source": [
    "import re\n",
    "import csv\n",
    "import pandas as pd\n",
    "import pandas_profiling as pp"
   ]
  },
  {
   "cell_type": "markdown",
   "metadata": {},
   "source": [
    "Separating MOMA artworks between old (before 1980) and new (after 1980). "
   ]
  },
  {
   "cell_type": "code",
   "execution_count": null,
   "metadata": {},
   "outputs": [],
   "source": [
    "path = './MoMA_data/'"
   ]
  },
  {
   "cell_type": "code",
   "execution_count": null,
   "metadata": {},
   "outputs": [],
   "source": [
    "\n",
    "with open(path+'Artworks.csv','r') as fin, open(path+'old_artworks.csv','w') as mod, open(path+'new_artworks.csv','w') as cont:\n",
    "\n",
    "    m_writer = csv.writer(mod, delimiter=',' )\n",
    "    c_writer = csv.writer(cont, delimiter=',' )\n",
    "    m_writer.writerow(['Title','Artist','ConstituentID','ArtistBio','Nationality','BeginDate','EndDate','Gender','Date','Medium','Dimensions','CreditLine','AccessionNumber','Classification','Department','DateAcquired','Cataloged','ObjectID','URL','ThumbnailURL','Circumference (cm)','Depth (cm)','Diameter (cm)','Height (cm)','Length (cm)','Weight (kg)','Width (cm)','Seat Height (cm)','Duration (sec.)'])\n",
    "    c_writer.writerow(['Title','Artist','ConstituentID','ArtistBio','Nationality','BeginDate','EndDate','Gender','Date','Medium','Dimensions','CreditLine','AccessionNumber','Classification','Department','DateAcquired','Cataloged','ObjectID','URL','ThumbnailURL','Circumference (cm)','Depth (cm)','Diameter (cm)','Height (cm)','Length (cm)','Weight (kg)','Width (cm)','Seat Height (cm)','Duration (sec.)'])\n",
    "\n",
    "\n",
    "    for row in csv.reader(fin, delimiter=','):\n",
    "\n",
    "        begD = row[5]\n",
    "        endD = row[6]\n",
    "        if  re.match('.*\\d\\d\\d\\d.*', row[8]):\n",
    "            year = re.findall(r'\\d\\d\\d\\d', row[8])\n",
    "            row[8] = str(year[0])\n",
    "            if int(year[0]) < 1980:\n",
    "        \n",
    "                m_writer.writerow(row) \n",
    "            else:\n",
    "                c_writer.writerow(row)\n",
    "        \n",
    "        elif \"century\" in str(row[8]):\n",
    "            m_writer.writerow(row) "
   ]
  },
  {
   "cell_type": "code",
   "execution_count": null,
   "metadata": {},
   "outputs": [],
   "source": [
    "#remove columns we don't need and turn csv to df \n",
    "modern = pd.read_csv(path+'old_artworks.csv')\n",
    "modern = modern[['Title','Artist','ConstituentID','Date','Medium','Department','DateAcquired','URL','ThumbnailURL']]\n",
    "modern['Title'] = modern['Title'].fillna('Unknown').astype('str')\n",
    "modern['Artist'] = modern['Artist'].fillna('Unknown').astype('str')\n",
    "modern['ConstituentID'] = modern['ConstituentID'].fillna('missing').astype('str')\n",
    "modern['Date'] = modern['Date'].fillna('0').astype('int')\n",
    "modern['Medium'] = modern['Medium'].fillna('missing').astype('str')\n",
    "modern['Date'] = modern['Date'].fillna('0').astype('int')\n",
    "modern['URL'] = modern['URL'].fillna('missing').astype('str')\n",
    "modern['ThumbnailURL'] = modern['ThumbnailURL'].fillna('missing').astype('str')\n",
    "\n",
    "modern.rename(columns={'ConstituentID': 'ID', 'Date': 'DateCreated'}, inplace=True)\n",
    "\n"
   ]
  },
  {
   "cell_type": "code",
   "execution_count": null,
   "metadata": {},
   "outputs": [],
   "source": [
    "modern\n",
    "modern.to_pickle(f'./MoMA_data/pickle/old_artworks.pkl')"
   ]
  },
  {
   "cell_type": "code",
   "execution_count": null,
   "metadata": {},
   "outputs": [],
   "source": [
    "contemporary = pd.read_csv(path+'new_artworks.csv')\n",
    "contemporary = contemporary[['Title','Artist','ConstituentID','Date','Medium','Department','DateAcquired','URL','ThumbnailURL']]\n",
    "contemporary['Title'] = contemporary['Title'].fillna('Unknown').astype('str')\n",
    "contemporary['Artist'] = contemporary['Artist'].fillna('Unknown').astype('str')\n",
    "contemporary['ConstituentID'] = contemporary['ConstituentID'].fillna('missing').astype('str')\n",
    "contemporary['Date'] = contemporary['Date'].fillna('0').astype('int')\n",
    "contemporary['Medium'] = contemporary['Medium'].fillna('missing').astype('str')\n",
    "contemporary['Date'] = contemporary['Date'].fillna('0').astype('int')\n",
    "contemporary['URL'] = contemporary['URL'].fillna('missing').astype('str')\n",
    "contemporary['ThumbnailURL'] = contemporary['ThumbnailURL'].fillna('missing').astype('str')\n",
    "\n",
    "contemporary.rename(columns={'ConstituentID': 'ID', 'Date': 'DateCreated'}, inplace=True)\n"
   ]
  },
  {
   "cell_type": "code",
   "execution_count": null,
   "metadata": {},
   "outputs": [],
   "source": [
    "contemporary\n",
    "contemporary.to_pickle(f'./MoMA_data/pickle/new_artworks.pkl')"
   ]
  },
  {
   "cell_type": "code",
   "execution_count": null,
   "metadata": {},
   "outputs": [],
   "source": [
    "#create pickles for each dempartment in modern csv\n",
    "\n",
    "architecture_design = modern[modern['Department'] == \"Architecture & Design\"]\n",
    "architecture_design.to_pickle(f'./MoMA_data/pickle/architecture_design_mod.pkl')\n",
    "\n",
    "architecture_design_img  = modern[modern['Department'] == \"Architecture & Design - Image Archive\"]\n",
    "architecture_design_img.to_pickle(f'./MoMA_data/pickle/architecture_design_img_mod.pkl')\n",
    "\n",
    "draws_prints= modern[modern['Department'] == \"Drawings & Prints\"]\n",
    "draws_prints.to_pickle(f'./MoMA_data/pickle/draws_prints_mod.pkl')\n",
    "\n",
    "films= modern[modern['Department'] == \"Film\"]\n",
    "films.to_pickle(f'./MoMA_data/pickle/films_mod.pkl')\n",
    "\n",
    "fluxus= modern[modern['Department'] == \"Fluxus Collection\"]\n",
    "fluxus.to_pickle(f'./MoMA_data/pickle/fluxus_mod.pkl')\n",
    "\n",
    "media_perf= modern[modern['Department'] == \"Media and Performance\"]\n",
    "media_perf.to_pickle(f'./MoMA_data/pickle/media_perf_mod.pkl')\n",
    "\n",
    "painting_sculp= modern[modern['Department'] == \"Painting & Sculpture\"]\n",
    "painting_sculp.to_pickle(f'./MoMA_data/pickle/paint_sculp_mod.pkl')\n",
    "\n",
    "photo= modern[modern['Department'] == \"Photography\"]\n",
    "photo.to_pickle(f'./MoMA_data/pickle/photo_mod.pkl')"
   ]
  },
  {
   "cell_type": "code",
   "execution_count": null,
   "metadata": {},
   "outputs": [],
   "source": [
    "architecture_design = contemporary[contemporary['Department'] == \"Architecture & Design\"]\n",
    "architecture_design.to_pickle(f'./MoMA_data/pickle/architecture_design_cont.pkl')\n",
    "\n",
    "architecture_design_img  = contemporary[contemporary['Department'] == \"Architecture & Design - Image Archive\"]\n",
    "architecture_design_img.to_pickle(f'./MoMA_data/pickle/architecture_design_img_cont.pkl')\n",
    "\n",
    "draws_prints= contemporary[contemporary['Department'] == \"Drawings & Prints\"]\n",
    "draws_prints.to_pickle(f'./MoMA_data/pickle/draws_prints_cont.pkl')\n",
    "\n",
    "films= contemporary[contemporary['Department'] == \"Film\"]\n",
    "films.to_pickle(f'./MoMA_data/pickle/films_cont.pkl')\n",
    "\n",
    "fluxus= contemporary[contemporary['Department'] == \"Fluxus Collection\"]\n",
    "fluxus.to_pickle(f'./MoMA_data/pickle/fluxus_cont.pkl')\n",
    "\n",
    "media_perf= contemporary[contemporary['Department'] == \"Media and Performance\"]\n",
    "media_perf.to_pickle(f'./MoMA_data/pickle/media_perf_cont.pkl')\n",
    "\n",
    "painting_sculp= contemporary[contemporary['Department'] == \"Painting & Sculpture\"]\n",
    "painting_sculp.to_pickle(f'./MoMA_data/pickle/paint_sculp_cont.pkl')\n",
    "\n",
    "photo= contemporary[contemporary['Department'] == \"Photography\"]\n",
    "photo.to_pickle(f'./MoMA_data/pickle/photo_cont.pkl')"
   ]
  },
  {
   "cell_type": "markdown",
   "metadata": {},
   "source": [
    "## Artists cleaning "
   ]
  },
  {
   "cell_type": "code",
   "execution_count": null,
   "metadata": {},
   "outputs": [],
   "source": [
    "df = pd.read_csv(path+'Artists.csv')\n",
    "df"
   ]
  },
  {
   "cell_type": "code",
   "execution_count": null,
   "metadata": {},
   "outputs": [],
   "source": [
    "MoMAartists= df[['ConstituentID','DisplayName','Nationality','Gender','BeginDate','EndDate','Wiki QID','ULAN']]\n",
    "MoMAartists\n"
   ]
  },
  {
   "cell_type": "code",
   "execution_count": null,
   "metadata": {},
   "outputs": [],
   "source": [
    "MoMAartists['Gender'] = MoMAartists['Gender'].fillna('missing').astype('str')\n",
    "MoMAartists['Wiki QID'] = MoMAartists['Wiki QID'].fillna('missing').astype('str')\n",
    "MoMAartists['ULAN'] = MoMAartists['ULAN'].fillna('0').astype('int')"
   ]
  },
  {
   "cell_type": "code",
   "execution_count": null,
   "metadata": {},
   "outputs": [],
   "source": [
    "for x, row in MoMAartists.iterrows():\n",
    "    if re.match(r'[M|m]ale', getattr(row, 'Gender')):\n",
    "        MoMAartists.at[x, 'Gender'] = 'M'\n",
    "                \n",
    "    elif re.match(r'[F|f]emale',getattr(row, 'Gender')):\n",
    "        MoMAartists.at[x, 'Gender'] = 'F'\n",
    "\n",
    "    elif re.match(r'Non-[B|b]inary', getattr(row, 'Gender')):\n",
    "        MoMAartists.at[x, 'Gender'] = 'NB'\n"
   ]
  },
  {
   "cell_type": "code",
   "execution_count": null,
   "metadata": {},
   "outputs": [],
   "source": [
    "MoMAartists"
   ]
  },
  {
   "cell_type": "code",
   "execution_count": null,
   "metadata": {},
   "outputs": [],
   "source": [
    "MoMAartists.rename(columns={'ConstituentID': 'ID', 'DisplayName': 'Artist','BeginDate': 'Birth', 'EndDate': 'Death'}, inplace=True)\n",
    "MoMAartists['ID'] = MoMAartists['ID'].fillna('0').astype('str')\n",
    "MoMAartists['Artist'] = MoMAartists['Artist'].fillna('Unknown').astype('str')\n",
    "MoMAartists['Nationality'] = MoMAartists['Nationality'].fillna('missing').astype('str')\n",
    "MoMAartists['Gender'] = MoMAartists['Gender'].fillna('missing').astype('str')\n",
    "MoMAartists['Birth'] = MoMAartists['Birth'].fillna('0').astype('int')\n",
    "MoMAartists['Death'] = MoMAartists['Death'].fillna('0').astype('int')\n",
    "\n",
    "\n",
    "MoMAartists.to_pickle(f'./MoMA_data/MoMAartists.pkl')"
   ]
  },
  {
   "cell_type": "markdown",
   "metadata": {},
   "source": [
    "## Artists for old and modern MOMA"
   ]
  },
  {
   "cell_type": "code",
   "execution_count": null,
   "metadata": {},
   "outputs": [],
   "source": [
    "old = pd.read_pickle('./MoMA_data/pickle/old_artworks.pkl')\n",
    "new = pd.read_pickle('./MoMA_data/pickle/new_artworks.pkl')\n",
    "artists = new = pd.read_pickle('./MoMA_data/MoMAartists.pkl')"
   ]
  },
  {
   "cell_type": "markdown",
   "metadata": {},
   "source": [
    "Report"
   ]
  },
  {
   "cell_type": "code",
   "execution_count": null,
   "metadata": {},
   "outputs": [],
   "source": [
    "#source file \n",
    "original_doc = pd.read_csv(path+'Artworks.csv')\n",
    "pp.ProfileReport(original_doc)"
   ]
  },
  {
   "cell_type": "code",
   "execution_count": null,
   "metadata": {},
   "outputs": [],
   "source": [
    "#modern/contemporary subsets  \n",
    "pp.ProfileReport(modern)\n"
   ]
  },
  {
   "cell_type": "code",
   "execution_count": null,
   "metadata": {},
   "outputs": [],
   "source": [
    "pp.ProfileReport(contemporary)"
   ]
  }
 ],
 "metadata": {
  "interpreter": {
   "hash": "aee8b7b246df8f9039afb4144a1f6fd8d2ca17a180786b69acc140d282b71a49"
  },
  "kernelspec": {
   "display_name": "Python 3.9.9 64-bit",
   "language": "python",
   "name": "python3"
  },
  "language_info": {
   "codemirror_mode": {
    "name": "ipython",
    "version": 3
   },
   "file_extension": ".py",
   "mimetype": "text/x-python",
   "name": "python",
   "nbconvert_exporter": "python",
   "pygments_lexer": "ipython3",
   "version": "3.9.9"
  },
  "orig_nbformat": 4
 },
 "nbformat": 4,
 "nbformat_minor": 2
}
