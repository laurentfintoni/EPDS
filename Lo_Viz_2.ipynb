{
 "cells": [
  {
   "cell_type": "code",
   "execution_count": 1,
   "metadata": {},
   "outputs": [],
   "source": [
    "import seaborn as sns\n",
    "import matplotlib.pyplot as plt\n",
    "import matplotlib.ticker as ticker\n",
    "import pandas as pd\n",
    "import plotly.express as px\n",
    "import plotly.graph_objects as go\n",
    "import numpy as np\n",
    "from wordcloud import *\n",
    "from functools import reduce\n",
    "pd.set_option('display.max_rows', 200)\n",
    "from statsmodels.graphics.mosaicplot import mosaic\n",
    "from plotly.subplots import make_subplots\n",
    "\n",
    "path = './'\n",
    "\n",
    "#complete DFs\n",
    "rhz_artworks = pd.read_pickle(path+'Rhizome_data/rhizome_artworks_extra.pkl')\n",
    "rhz_artists = pd.read_pickle(path+'Rhizome_data/rhizome_artists_extra.pkl')\n",
    "moma_artists = pd.read_pickle(path+'MOMA_data/pickle/MoMAArtists.pkl')\n",
    "moma_artworks = pd.read_pickle(path+'MOMA_data/pickle/MoMAartworks.pkl')\n",
    "moma_artworks_old = pd.read_pickle(path+'MOMA_data/pickle/old_artworks.pkl')\n",
    "moma_artworks_new = pd.read_pickle(path+'MOMA_data/pickle/new_artworks.pkl')\n",
    "moma_artworks = pd.concat([moma_artworks_old, moma_artworks_new])\n",
    "moma_rhz_compare = moma_artworks_new.loc[moma_artworks_new['DateAcquired'] >= '2000']\n",
    "moma_rhz_compare = moma_rhz_compare.loc[moma_rhz_compare['DateCreated'] >= 1983]\n",
    "\n",
    "#MoMA department DFs\n",
    "moma_arch_cont = pd.read_pickle(path+'MOMA_data/pickle/departments/architecture_design_cont.pkl')\n",
    "moma_arch_mod = pd.read_pickle(path+'MOMA_data/pickle/departments/architecture_design_mod.pkl')\n",
    "moma_arch = pd.concat([moma_arch_cont, moma_arch_mod])\n",
    "moma_design_cont = pd.read_pickle(path+'MOMA_data/pickle/departments/architecture_design_img_cont.pkl')\n",
    "moma_design_mod = pd.read_pickle(path+'MOMA_data/pickle/departments/architecture_design_img_mod.pkl')\n",
    "moma_design = pd.concat([moma_design_cont, moma_design_mod])\n",
    "moma_draw_cont = pd.read_pickle(path+'MOMA_data/pickle/departments/draws_prints_cont.pkl')\n",
    "moma_draw_mod = pd.read_pickle(path+'MOMA_data/pickle/departments/draws_prints_mod.pkl')\n",
    "moma_draw = pd.concat([moma_draw_cont, moma_draw_mod]) \n",
    "moma_films_cont = pd.read_pickle(path+'MOMA_data/pickle/departments/films_cont.pkl')\n",
    "moma_films_mod = pd.read_pickle(path+'MOMA_data/pickle/departments/films_mod.pkl')\n",
    "moma_films = pd.concat([moma_films_cont, moma_films_mod]) \n",
    "moma_fluxus_cont = pd.read_pickle(path+'MOMA_data/pickle/departments/fluxus_cont.pkl')\n",
    "moma_fluxus_mod = pd.read_pickle(path+'MOMA_data/pickle/departments/fluxus_mod.pkl')\n",
    "moma_fluxus = pd.concat([moma_fluxus_cont, moma_fluxus_mod]) \n",
    "moma_media_cont = pd.read_pickle(path+'MOMA_data/pickle/departments/media_perf_cont.pkl')\n",
    "moma_media_mod = pd.read_pickle(path+'MOMA_data/pickle/departments/media_perf_mod.pkl')\n",
    "moma_media = pd.concat([moma_media_cont, moma_media_mod]) \n",
    "moma_paint_cont = pd.read_pickle(path+'MOMA_data/pickle/departments/paint_sculp_cont.pkl')\n",
    "moma_paint_mod = pd.read_pickle(path+'MOMA_data/pickle/departments/paint_sculp_mod.pkl')\n",
    "moma_paint = pd.concat([moma_paint_cont, moma_paint_mod]) \n",
    "moma_photo_cont = pd.read_pickle(path+'MOMA_data/pickle/departments/photo_cont.pkl')\n",
    "moma_photo_mod = pd.read_pickle(path+'MOMA_data/pickle/departments/photo_mod.pkl')\n",
    "moma_photo = pd.concat([moma_photo_cont, moma_photo_mod]) \n",
    "\n",
    "#Rhizome with text\n",
    "rhizome_txt_clean = pd.read_pickle(path+'Rhizome_data/rhizome_artworks_extra_text_clean.pkl')\n",
    "rhizome_txt_stop_kw = pd.read_pickle(path+'Rhizome_data/rhizome_artworks_extra_text_clean_stop_keywords.pkl')\n",
    "\n",
    "#MoMA with text\n",
    "moma_arch_cont_text = pd.read_pickle(path+'MOMA_data/pickle/departments/architecture_design_cont_text_final.pkl')\n",
    "moma_arch_mod_text = pd.read_pickle(path+'MOMA_data/pickle/departments/architecture_design_mod_text_only_final.pkl')\n",
    "moma_draw_cont_text = pd.read_pickle(path+'MOMA_data/pickle/departments/draws_prints_cont_text_final.pkl')\n",
    "moma_draw_mod_text = pd.read_pickle(path+'MOMA_data/pickle/departments/draws_prints_mod_text_final.pkl')\n",
    "moma_films_cont_text = pd.read_pickle(path+'MOMA_data/pickle/departments/films_cont_text_final.pkl')\n",
    "moma_films_mod_text = pd.read_pickle(path+'MOMA_data/pickle/departments/films_mod_text_final.pkl')\n",
    "moma_fluxus_cont_text = pd.read_pickle(path+'MOMA_data/pickle/departments/fluxus_cont_text_final.pkl')\n",
    "moma_fluxus_mod_text = pd.read_pickle(path+'MOMA_data/pickle/departments/fluxus_mod_text_final.pkl')\n",
    "moma_media_cont_text = pd.read_pickle(path+'MOMA_data/pickle/departments/media_perf_cont_text_final.pkl')\n",
    "moma_media_mod_text = pd.read_pickle(path+'MOMA_data/pickle/departments/media_perf_mod_text_final.pkl')\n",
    "moma_paint_cont_text = pd.read_pickle(path+'MOMA_data/pickle/departments/paint_sculp_cont_text_final.pkl')\n",
    "moma_paint_mod_text = pd.read_pickle(path+'MOMA_data/pickle/departments/paint_sculp_mod_text_final.pkl')\n",
    "moma_photo_cont_text = pd.read_pickle(path+'MOMA_data/pickle/departments/photo_cont_text_final.pkl')\n",
    "moma_photo_mod_text = pd.read_pickle(path+'MOMA_data/pickle/departments/photo_mod_text_final.pkl')\n",
    "\n",
    "#moma text stop\n",
    "moma_arch_cont_text_stop = pd.read_pickle(path+'MOMA_data/pickle/departments/architecture_design_cont_text_final_stop.pkl')\n",
    "moma_arch_mod_text_stop = pd.read_pickle(path+'MOMA_data/pickle/departments/architecture_design_mod_text_only_final_stop.pkl')\n",
    "moma_draw_cont_text_stop = pd.read_pickle(path+'MOMA_data/pickle/departments/draws_prints_cont_text_final_stop.pkl')\n",
    "moma_draw_mod_text_stop = pd.read_pickle(path+'MOMA_data/pickle/departments/draws_prints_mod_text_final_stop.pkl')\n",
    "moma_films_cont_text_stop = pd.read_pickle(path+'MOMA_data/pickle/departments/films_cont_text_final_stop.pkl')\n",
    "moma_films_mod_text_stop = pd.read_pickle(path+'MOMA_data/pickle/departments/films_mod_text_final_stop.pkl')\n",
    "moma_fluxus_cont_text_stop = pd.read_pickle(path+'MOMA_data/pickle/departments/fluxus_cont_text_final_stop.pkl')\n",
    "moma_fluxus_mod_text_stop = pd.read_pickle(path+'MOMA_data/pickle/departments/fluxus_mod_text_final_stop.pkl')\n",
    "moma_media_cont_text_stop = pd.read_pickle(path+'MOMA_data/pickle/departments/media_perf_cont_text_final_stop.pkl')\n",
    "moma_media_mod_text_stop = pd.read_pickle(path+'MOMA_data/pickle/departments/media_perf_mod_text_final_stop.pkl')\n",
    "moma_paint_cont_text_stop = pd.read_pickle(path+'MOMA_data/pickle/departments/paint_sculp_cont_text_final_stop.pkl')\n",
    "moma_paint_mod_text_stop = pd.read_pickle(path+'MOMA_data/pickle/departments/paint_sculp_mod_text_final_stop.pkl')\n",
    "moma_photo_cont_text_stop = pd.read_pickle(path+'MOMA_data/pickle/departments/photo_cont_text_final_stop.pkl')\n",
    "moma_photo_mod_text_stop = pd.read_pickle(path+'MOMA_data/pickle/departments/photo_mod_text_final_stop.pkl')"
   ]
  },
  {
   "cell_type": "markdown",
   "metadata": {},
   "source": [
    "1/ What is the gender representation in each datasets? Rhizome, MoMA (full)\n",
    "--> gender across date acquired + date created OR gender across total artworks OR gender across specific medium \n",
    "\n",
    "Viz: \n",
    "1/ line plots or histogram for time dimension over date acquired \n",
    "2/ donut/pie charts for total artworks/medium \n",
    "-> subset question to account for differences in numbers e.g. breakdown by decades \n",
    "Answer/Story: what interesting details do the viz show us? e.g. Females work across more medium than males in MoMA dataset / Male over representation \n"
   ]
  },
  {
   "cell_type": "markdown",
   "metadata": {},
   "source": [
    "**RHIZOME GENDER REP PIE CHART**"
   ]
  },
  {
   "cell_type": "code",
   "execution_count": 2,
   "metadata": {},
   "outputs": [],
   "source": [
    "rhz_gender_rep = rhz_artworks['Gender'].value_counts().rename_axis('Gender').reset_index(name='Counts')"
   ]
  },
  {
   "cell_type": "code",
   "execution_count": 3,
   "metadata": {},
   "outputs": [
    {
     "data": {
      "application/vnd.plotly.v1+json": {
       "config": {
        "plotlyServerURL": "https://plot.ly"
       },
       "data": [
        {
         "domain": {
          "x": [
           0,
           1
          ],
          "y": [
           0,
           1
          ]
         },
         "hoverinfo": "label+value+percent",
         "labels": [
          "M",
          "F",
          "missing",
          "F, M",
          "M, M",
          "M, F",
          "M, M, M",
          "M, F, M",
          "F, F",
          "F, M, M",
          "N/B",
          "F, missing",
          "missing, M, F, F, F",
          "missing, M",
          "F, F, F",
          "missing, F",
          "M, missing",
          "F, M, M, M, M, F, missing, M, missing, M",
          "M, F, F, M, M, M, M"
         ],
         "legendgroup": "",
         "name": "",
         "showlegend": true,
         "textinfo": "label+value",
         "textposition": "inside",
         "type": "pie",
         "values": [
          1448,
          533,
          156,
          46,
          29,
          27,
          6,
          6,
          5,
          3,
          2,
          2,
          1,
          1,
          1,
          1,
          1,
          1,
          1
         ]
        }
       ],
       "layout": {
        "legend": {
         "tracegroupgap": 0
        },
        "template": {
         "data": {
          "bar": [
           {
            "error_x": {
             "color": "#2a3f5f"
            },
            "error_y": {
             "color": "#2a3f5f"
            },
            "marker": {
             "line": {
              "color": "#E5ECF6",
              "width": 0.5
             },
             "pattern": {
              "fillmode": "overlay",
              "size": 10,
              "solidity": 0.2
             }
            },
            "type": "bar"
           }
          ],
          "barpolar": [
           {
            "marker": {
             "line": {
              "color": "#E5ECF6",
              "width": 0.5
             },
             "pattern": {
              "fillmode": "overlay",
              "size": 10,
              "solidity": 0.2
             }
            },
            "type": "barpolar"
           }
          ],
          "carpet": [
           {
            "aaxis": {
             "endlinecolor": "#2a3f5f",
             "gridcolor": "white",
             "linecolor": "white",
             "minorgridcolor": "white",
             "startlinecolor": "#2a3f5f"
            },
            "baxis": {
             "endlinecolor": "#2a3f5f",
             "gridcolor": "white",
             "linecolor": "white",
             "minorgridcolor": "white",
             "startlinecolor": "#2a3f5f"
            },
            "type": "carpet"
           }
          ],
          "choropleth": [
           {
            "colorbar": {
             "outlinewidth": 0,
             "ticks": ""
            },
            "type": "choropleth"
           }
          ],
          "contour": [
           {
            "colorbar": {
             "outlinewidth": 0,
             "ticks": ""
            },
            "colorscale": [
             [
              0,
              "#0d0887"
             ],
             [
              0.1111111111111111,
              "#46039f"
             ],
             [
              0.2222222222222222,
              "#7201a8"
             ],
             [
              0.3333333333333333,
              "#9c179e"
             ],
             [
              0.4444444444444444,
              "#bd3786"
             ],
             [
              0.5555555555555556,
              "#d8576b"
             ],
             [
              0.6666666666666666,
              "#ed7953"
             ],
             [
              0.7777777777777778,
              "#fb9f3a"
             ],
             [
              0.8888888888888888,
              "#fdca26"
             ],
             [
              1,
              "#f0f921"
             ]
            ],
            "type": "contour"
           }
          ],
          "contourcarpet": [
           {
            "colorbar": {
             "outlinewidth": 0,
             "ticks": ""
            },
            "type": "contourcarpet"
           }
          ],
          "heatmap": [
           {
            "colorbar": {
             "outlinewidth": 0,
             "ticks": ""
            },
            "colorscale": [
             [
              0,
              "#0d0887"
             ],
             [
              0.1111111111111111,
              "#46039f"
             ],
             [
              0.2222222222222222,
              "#7201a8"
             ],
             [
              0.3333333333333333,
              "#9c179e"
             ],
             [
              0.4444444444444444,
              "#bd3786"
             ],
             [
              0.5555555555555556,
              "#d8576b"
             ],
             [
              0.6666666666666666,
              "#ed7953"
             ],
             [
              0.7777777777777778,
              "#fb9f3a"
             ],
             [
              0.8888888888888888,
              "#fdca26"
             ],
             [
              1,
              "#f0f921"
             ]
            ],
            "type": "heatmap"
           }
          ],
          "heatmapgl": [
           {
            "colorbar": {
             "outlinewidth": 0,
             "ticks": ""
            },
            "colorscale": [
             [
              0,
              "#0d0887"
             ],
             [
              0.1111111111111111,
              "#46039f"
             ],
             [
              0.2222222222222222,
              "#7201a8"
             ],
             [
              0.3333333333333333,
              "#9c179e"
             ],
             [
              0.4444444444444444,
              "#bd3786"
             ],
             [
              0.5555555555555556,
              "#d8576b"
             ],
             [
              0.6666666666666666,
              "#ed7953"
             ],
             [
              0.7777777777777778,
              "#fb9f3a"
             ],
             [
              0.8888888888888888,
              "#fdca26"
             ],
             [
              1,
              "#f0f921"
             ]
            ],
            "type": "heatmapgl"
           }
          ],
          "histogram": [
           {
            "marker": {
             "pattern": {
              "fillmode": "overlay",
              "size": 10,
              "solidity": 0.2
             }
            },
            "type": "histogram"
           }
          ],
          "histogram2d": [
           {
            "colorbar": {
             "outlinewidth": 0,
             "ticks": ""
            },
            "colorscale": [
             [
              0,
              "#0d0887"
             ],
             [
              0.1111111111111111,
              "#46039f"
             ],
             [
              0.2222222222222222,
              "#7201a8"
             ],
             [
              0.3333333333333333,
              "#9c179e"
             ],
             [
              0.4444444444444444,
              "#bd3786"
             ],
             [
              0.5555555555555556,
              "#d8576b"
             ],
             [
              0.6666666666666666,
              "#ed7953"
             ],
             [
              0.7777777777777778,
              "#fb9f3a"
             ],
             [
              0.8888888888888888,
              "#fdca26"
             ],
             [
              1,
              "#f0f921"
             ]
            ],
            "type": "histogram2d"
           }
          ],
          "histogram2dcontour": [
           {
            "colorbar": {
             "outlinewidth": 0,
             "ticks": ""
            },
            "colorscale": [
             [
              0,
              "#0d0887"
             ],
             [
              0.1111111111111111,
              "#46039f"
             ],
             [
              0.2222222222222222,
              "#7201a8"
             ],
             [
              0.3333333333333333,
              "#9c179e"
             ],
             [
              0.4444444444444444,
              "#bd3786"
             ],
             [
              0.5555555555555556,
              "#d8576b"
             ],
             [
              0.6666666666666666,
              "#ed7953"
             ],
             [
              0.7777777777777778,
              "#fb9f3a"
             ],
             [
              0.8888888888888888,
              "#fdca26"
             ],
             [
              1,
              "#f0f921"
             ]
            ],
            "type": "histogram2dcontour"
           }
          ],
          "mesh3d": [
           {
            "colorbar": {
             "outlinewidth": 0,
             "ticks": ""
            },
            "type": "mesh3d"
           }
          ],
          "parcoords": [
           {
            "line": {
             "colorbar": {
              "outlinewidth": 0,
              "ticks": ""
             }
            },
            "type": "parcoords"
           }
          ],
          "pie": [
           {
            "automargin": true,
            "type": "pie"
           }
          ],
          "scatter": [
           {
            "fillpattern": {
             "fillmode": "overlay",
             "size": 10,
             "solidity": 0.2
            },
            "type": "scatter"
           }
          ],
          "scatter3d": [
           {
            "line": {
             "colorbar": {
              "outlinewidth": 0,
              "ticks": ""
             }
            },
            "marker": {
             "colorbar": {
              "outlinewidth": 0,
              "ticks": ""
             }
            },
            "type": "scatter3d"
           }
          ],
          "scattercarpet": [
           {
            "marker": {
             "colorbar": {
              "outlinewidth": 0,
              "ticks": ""
             }
            },
            "type": "scattercarpet"
           }
          ],
          "scattergeo": [
           {
            "marker": {
             "colorbar": {
              "outlinewidth": 0,
              "ticks": ""
             }
            },
            "type": "scattergeo"
           }
          ],
          "scattergl": [
           {
            "marker": {
             "colorbar": {
              "outlinewidth": 0,
              "ticks": ""
             }
            },
            "type": "scattergl"
           }
          ],
          "scattermapbox": [
           {
            "marker": {
             "colorbar": {
              "outlinewidth": 0,
              "ticks": ""
             }
            },
            "type": "scattermapbox"
           }
          ],
          "scatterpolar": [
           {
            "marker": {
             "colorbar": {
              "outlinewidth": 0,
              "ticks": ""
             }
            },
            "type": "scatterpolar"
           }
          ],
          "scatterpolargl": [
           {
            "marker": {
             "colorbar": {
              "outlinewidth": 0,
              "ticks": ""
             }
            },
            "type": "scatterpolargl"
           }
          ],
          "scatterternary": [
           {
            "marker": {
             "colorbar": {
              "outlinewidth": 0,
              "ticks": ""
             }
            },
            "type": "scatterternary"
           }
          ],
          "surface": [
           {
            "colorbar": {
             "outlinewidth": 0,
             "ticks": ""
            },
            "colorscale": [
             [
              0,
              "#0d0887"
             ],
             [
              0.1111111111111111,
              "#46039f"
             ],
             [
              0.2222222222222222,
              "#7201a8"
             ],
             [
              0.3333333333333333,
              "#9c179e"
             ],
             [
              0.4444444444444444,
              "#bd3786"
             ],
             [
              0.5555555555555556,
              "#d8576b"
             ],
             [
              0.6666666666666666,
              "#ed7953"
             ],
             [
              0.7777777777777778,
              "#fb9f3a"
             ],
             [
              0.8888888888888888,
              "#fdca26"
             ],
             [
              1,
              "#f0f921"
             ]
            ],
            "type": "surface"
           }
          ],
          "table": [
           {
            "cells": {
             "fill": {
              "color": "#EBF0F8"
             },
             "line": {
              "color": "white"
             }
            },
            "header": {
             "fill": {
              "color": "#C8D4E3"
             },
             "line": {
              "color": "white"
             }
            },
            "type": "table"
           }
          ]
         },
         "layout": {
          "annotationdefaults": {
           "arrowcolor": "#2a3f5f",
           "arrowhead": 0,
           "arrowwidth": 1
          },
          "autotypenumbers": "strict",
          "coloraxis": {
           "colorbar": {
            "outlinewidth": 0,
            "ticks": ""
           }
          },
          "colorscale": {
           "diverging": [
            [
             0,
             "#8e0152"
            ],
            [
             0.1,
             "#c51b7d"
            ],
            [
             0.2,
             "#de77ae"
            ],
            [
             0.3,
             "#f1b6da"
            ],
            [
             0.4,
             "#fde0ef"
            ],
            [
             0.5,
             "#f7f7f7"
            ],
            [
             0.6,
             "#e6f5d0"
            ],
            [
             0.7,
             "#b8e186"
            ],
            [
             0.8,
             "#7fbc41"
            ],
            [
             0.9,
             "#4d9221"
            ],
            [
             1,
             "#276419"
            ]
           ],
           "sequential": [
            [
             0,
             "#0d0887"
            ],
            [
             0.1111111111111111,
             "#46039f"
            ],
            [
             0.2222222222222222,
             "#7201a8"
            ],
            [
             0.3333333333333333,
             "#9c179e"
            ],
            [
             0.4444444444444444,
             "#bd3786"
            ],
            [
             0.5555555555555556,
             "#d8576b"
            ],
            [
             0.6666666666666666,
             "#ed7953"
            ],
            [
             0.7777777777777778,
             "#fb9f3a"
            ],
            [
             0.8888888888888888,
             "#fdca26"
            ],
            [
             1,
             "#f0f921"
            ]
           ],
           "sequentialminus": [
            [
             0,
             "#0d0887"
            ],
            [
             0.1111111111111111,
             "#46039f"
            ],
            [
             0.2222222222222222,
             "#7201a8"
            ],
            [
             0.3333333333333333,
             "#9c179e"
            ],
            [
             0.4444444444444444,
             "#bd3786"
            ],
            [
             0.5555555555555556,
             "#d8576b"
            ],
            [
             0.6666666666666666,
             "#ed7953"
            ],
            [
             0.7777777777777778,
             "#fb9f3a"
            ],
            [
             0.8888888888888888,
             "#fdca26"
            ],
            [
             1,
             "#f0f921"
            ]
           ]
          },
          "colorway": [
           "#636efa",
           "#EF553B",
           "#00cc96",
           "#ab63fa",
           "#FFA15A",
           "#19d3f3",
           "#FF6692",
           "#B6E880",
           "#FF97FF",
           "#FECB52"
          ],
          "font": {
           "color": "#2a3f5f"
          },
          "geo": {
           "bgcolor": "white",
           "lakecolor": "white",
           "landcolor": "#E5ECF6",
           "showlakes": true,
           "showland": true,
           "subunitcolor": "white"
          },
          "hoverlabel": {
           "align": "left"
          },
          "hovermode": "closest",
          "mapbox": {
           "style": "light"
          },
          "paper_bgcolor": "white",
          "plot_bgcolor": "#E5ECF6",
          "polar": {
           "angularaxis": {
            "gridcolor": "white",
            "linecolor": "white",
            "ticks": ""
           },
           "bgcolor": "#E5ECF6",
           "radialaxis": {
            "gridcolor": "white",
            "linecolor": "white",
            "ticks": ""
           }
          },
          "scene": {
           "xaxis": {
            "backgroundcolor": "#E5ECF6",
            "gridcolor": "white",
            "gridwidth": 2,
            "linecolor": "white",
            "showbackground": true,
            "ticks": "",
            "zerolinecolor": "white"
           },
           "yaxis": {
            "backgroundcolor": "#E5ECF6",
            "gridcolor": "white",
            "gridwidth": 2,
            "linecolor": "white",
            "showbackground": true,
            "ticks": "",
            "zerolinecolor": "white"
           },
           "zaxis": {
            "backgroundcolor": "#E5ECF6",
            "gridcolor": "white",
            "gridwidth": 2,
            "linecolor": "white",
            "showbackground": true,
            "ticks": "",
            "zerolinecolor": "white"
           }
          },
          "shapedefaults": {
           "line": {
            "color": "#2a3f5f"
           }
          },
          "ternary": {
           "aaxis": {
            "gridcolor": "white",
            "linecolor": "white",
            "ticks": ""
           },
           "baxis": {
            "gridcolor": "white",
            "linecolor": "white",
            "ticks": ""
           },
           "bgcolor": "#E5ECF6",
           "caxis": {
            "gridcolor": "white",
            "linecolor": "white",
            "ticks": ""
           }
          },
          "title": {
           "x": 0.05
          },
          "xaxis": {
           "automargin": true,
           "gridcolor": "white",
           "linecolor": "white",
           "ticks": "",
           "title": {
            "standoff": 15
           },
           "zerolinecolor": "white",
           "zerolinewidth": 2
          },
          "yaxis": {
           "automargin": true,
           "gridcolor": "white",
           "linecolor": "white",
           "ticks": "",
           "title": {
            "standoff": 15
           },
           "zerolinecolor": "white",
           "zerolinewidth": 2
          }
         }
        },
        "title": {
         "text": "Gender Breakdown of Rhizome Collection"
        },
        "uniformtext": {
         "minsize": 12,
         "mode": "hide"
        },
        "width": 800
       }
      }
     },
     "metadata": {},
     "output_type": "display_data"
    }
   ],
   "source": [
    "fig = px.pie(rhz_gender_rep, values='Counts', names='Gender',\n",
    "             title='Gender Breakdown of Rhizome Collection')\n",
    "fig.update_traces(textposition='inside', textinfo='label+value', hoverinfo='label+value+percent', hovertemplate=None)\n",
    "fig.update_layout(width=800, uniformtext_minsize=12, uniformtext_mode='hide')\n",
    "fig.show()"
   ]
  },
  {
   "cell_type": "markdown",
   "metadata": {},
   "source": [
    "**MoMA GENDER REP PIE CHART**"
   ]
  },
  {
   "cell_type": "code",
   "execution_count": 4,
   "metadata": {},
   "outputs": [],
   "source": [
    "moma_gender_rep = moma_artworks['Gender'].value_counts().rename_axis('Gender').reset_index(name='Counts')"
   ]
  },
  {
   "cell_type": "code",
   "execution_count": 5,
   "metadata": {},
   "outputs": [
    {
     "data": {
      "application/vnd.plotly.v1+json": {
       "config": {
        "plotlyServerURL": "https://plot.ly"
       },
       "data": [
        {
         "domain": {
          "x": [
           0,
           1
          ],
          "y": [
           0,
           1
          ]
         },
         "hoverinfo": "label+value+percent",
         "labels": [
          "M",
          "F",
          "missing",
          "M, M",
          "M, M, M",
          "M, missing",
          "M, F",
          "missing, M",
          "F, M",
          "F, F",
          "missing, missing",
          "F, M, M",
          "missing, M, F",
          "missing, M, M",
          "missing, F, M, M, M",
          "M, M, missing",
          "F, M, M, F, M, M",
          "F, M, F, M, M, M, M",
          "M, F, missing",
          "missing, M, M, M, F, M, missing, M, missing, missing, M, M, M, F, M, missing, missing, M, missing, missing",
          "missing, M, M, M",
          "M, missing, missing",
          "F, missing",
          "F, M, F, M, M, M",
          "M, M, M, M",
          "M, F, M",
          "M, M, F",
          "M, F, F",
          "missing, missing, missing",
          "missing, M, M, M, M, M",
          "M, M, F, F",
          "F, missing, missing",
          "missing, F, M",
          "M, missing, M",
          "M, M, M, missing",
          "missing, M, M, M, M",
          "missing, M, F, M",
          "F, M, M, M, M, missing",
          "M, F, M, M",
          "M, M, M, M, M, M, F, M",
          "missing, M, F, missing",
          "M, M, M, M, missing",
          "M, M, M, M, missing, F, M, M, M, M",
          "missing, F",
          "missing, F, F",
          "F, M, missing",
          "M, M, M, M, M",
          "F, M, F, M, M",
          "missing, F, M, M, F, M",
          "missing, M, M, M, M, M, M",
          "NB",
          "M, missing, missing, missing",
          "F, F, M, F, M",
          "F, F, M, F, M, M, M, missing",
          "missing, M, F, M, M",
          "M, M, M, M, M, M, missing",
          "missing, M, M, missing",
          "M, M, F, M, missing",
          "M, missing, F",
          "missing, M, missing",
          "missing, M, M, F",
          "missing, F, M, M",
          "missing, missing, M",
          "missing, M, F, M, M, F",
          "M, M, M, M, M, M, M, missing",
          "M, F, M, missing",
          "missing, M, F, F, missing, M, M, M, missing, missing, missing, missing, missing, missing, missing, missing, missing",
          "missing, missing, F, F, F, F",
          "F, M, M, F, missing, missing",
          "M, F, M, M, missing",
          "F, M, M, M, missing",
          "M, missing, M, M, missing",
          "M, F, missing, M",
          "F, F, M",
          "missing, M, M, F, F, M",
          "M, M, missing, M, missing",
          "M, F, M, F",
          "F, M, F",
          "M, M, missing, missing",
          "missing, F, M, missing",
          "missing, M, missing, missing, F, M",
          "missing, missing, missing, missing, missing",
          "M, M, missing, missing, missing",
          "missing, M, M, M, M, M, M, M",
          "M, M, M, missing, missing",
          "missing, M, M, M, M, M, M, M, M, M, M",
          "missing, M, F, M, M, M",
          "M, M, F, missing",
          "M, missing, M, missing",
          "M, M, missing, missing, M",
          "M, M, M, F",
          "M, M, M, M, M, M",
          "M, M, M, M, M, missing",
          "M, missing, M, M, F, missing",
          "missing, M, M, M, F, M",
          "missing, missing, missing, missing, missing, missing, missing, missing, missing, missing, missing, missing, missing, M",
          "missing, missing, missing, missing, missing, missing, missing, M",
          "missing, missing, missing, missing",
          "missing, F, F, M, F, M",
          "missing, F, M, M, F",
          "missing, M, M, F, M",
          "missing, M, M, M, missing",
          "M, M, M, M, M, F",
          "missing, missing, missing, M",
          "missing, M, F, M, M, missing, missing",
          "missing, M, F, M, F, M",
          "M, M, M, M, F, M, missing",
          "missing, F, M, F, M, M, M, M",
          "M, M, M, M, M, M, M, M, M, M, M, missing",
          "M, F, F, M, M, missing",
          "F, F, M, M, F, missing",
          "M, M, M, M, M, M, M, M, M, missing",
          "M, M, M, M, F, missing",
          "M, M, F, M, M, M, M",
          "missing, missing, missing, missing, missing, missing, missing, missing, missing, M",
          "missing, missing, M, M, M",
          "missing, M, F, F",
          "F, missing, M",
          "M, M, M, F, missing",
          "missing, F, M, F, M, M, F, M",
          "missing, M, M, M, F",
          "M, F, M, M, M, missing, M, M, M",
          "missing, missing, M, M",
          "missing, M, F, M, M, M, M, M, M",
          "missing, M, F, M, M, M, M, M",
          "M, M, missing, M, M",
          "M, F, F, M, missing",
          "missing, M, M, M, M, M, M, M, M",
          "F, F, F",
          "M, missing, F, M",
          "M, M, M, M, M, M, M, M, missing",
          "F, M, M, F, M, missing",
          "missing, M, M, M, M, M, F, F",
          "missing, M, M, M, M, F",
          "F, M, M, M, M, M, F, M, M, F, M, missing",
          "missing, M, F, M, M, M, M, F, M, M, F",
          "missing, missing, missing, missing, missing, missing, missing, M, M, M, M, M, M, F, F, M",
          "missing, M, M, missing, F, M",
          "M, missing, F, M, missing, missing",
          "M, F, M, M, M, M, M, F, F, F, M, missing",
          "F, M, M, M, M, M, M, M, M, M, M, missing",
          "M, M, M, missing, F, missing",
          "M, M, F, M, M, missing",
          "M, missing, F, M, M, M, M",
          "missing, F, M, M, M, M, F, M, M",
          "missing, F, M, F, M, F, M, M, M, M, M, M, F, M, F, M, M",
          "M, F, M, F, missing",
          "missing, missing, M, M, M, missing, missing, missing",
          "missing, F, F, F",
          "missing, F, M, M, M, F, F, F",
          "missing, M, F, M, M, M, F, F, M, M, M, M, F, M, F, F, M, F, F, M, M, F, M, F, F, M, F, M, F, F, F, F, M, M, M, M, M, F, M, missing, M, F, M, M, F, M, M",
          "F, M, M, missing",
          "M, missing, M, M, M, M, M, M, M, M, F, missing",
          "M, M, F, M, M, M, M, M, M, F, missing",
          "F, F, F, M, M, missing",
          "M, M, F, M, M, M, M, M",
          "F, F, missing",
          "missing, M, M, missing, M, M, M, F",
          "missing, M, M, M, M, M, M, M, M, M, M, M, F, M",
          "missing, M, M, M, M, F, M, M, M, M, M, M, M, M, M, M, F",
          "missing, F, M, M, F, M, M, F, M, M, M",
          "missing, M, M, M, missing, M, M, M, M",
          "M, M, missing, M, M, M",
          "F, M, M, M, M, M, F, M, F, F, M, M, F, M, M, M, M, F, M, M, F, F, M, M, M, M, M, F, F, missing",
          "M, F, F, M",
          "M, missing, M, F, M, M, M, M, F",
          "M, M, M, M, F, M, M, M, M, M",
          "M, M, M, M, F, M",
          "missing, missing, F, missing, missing",
          "F, M, M, F, F, missing",
          "missing, M, M, M, M, M, missing",
          "M, M, M, M, F, F, F, missing",
          "F, F, M, M, M, missing",
          "missing, M, M, M, F, F, M, F, M, M, M, F, M, F, M, F, M, M, M",
          "M, F, M, M, M, M, F, F, M, M, M, M, F, M, M, F, M, M, M, M, M, M, M, M, M, M, M, F, missing",
          "missing, M, M, F, M, M, M, F, M",
          "F, M, M, F, missing",
          "F, F, F, missing",
          "M, M, M, F, M, F, missing",
          "M, M, M, missing, M, missing",
          "M, F, M, M, M, M, M, missing",
          "F, F, M, M, missing",
          "M, missing, missing, missing, missing, missing, M, missing, missing, missing",
          "F, F, M, F, missing",
          "M, M, F, M, M, M, M, F, M, M, missing, M, M, M, missing",
          "missing, M, M, F, M, M, F",
          "M, missing, M, missing, M, missing, missing, missing",
          "missing, missing, missing, missing, missing, missing, missing, missing, missing, missing, missing, missing, missing, missing, missing, missing, missing, missing, missing, missing, missing, M",
          "missing, missing, missing, missing, missing, missing, missing, missing, missing, missing, missing, missing, missing, missing, missing, M",
          "M, M, M, M, M, missing, M, M, M, M, M, M, M, M, M, M, M, M, M, M",
          "F, M, M, M",
          "F, M, missing, missing",
          "M, M, M, M, M, M, M, M, M, F, missing, F, M, M, M, M, M, M, missing",
          "missing, missing, M, M, M, M, missing, missing, missing, missing, missing, missing",
          "missing, missing, M, missing",
          "missing, missing, M, M, M, M",
          "missing, missing, F, missing, missing, M, F, missing, M, missing, M, missing",
          "M, missing, missing, missing, M",
          "F, M, M, missing, M, M, M, missing, F, M, missing, missing, F, M, M",
          "missing, missing, M, F, F, M, F",
          "missing, M, M, M, missing, missing, missing, missing, missing",
          "missing, missing, missing, missing, missing, missing, M",
          "missing, M, missing, missing, M, missing, M, missing, M, F, missing, M, missing, F, missing, missing, F, M",
          "missing, F, F, M, M, M, M, M, M, F, M, M, M, missing, M, M, M, F, M, M, M, F",
          "missing, F, missing, missing",
          "missing, F, F, M, F, F, F, F, M, M, F, M",
          "M, missing, missing, missing, missing",
          "missing, F, M, F, F, F, M, M, M, F",
          "M, F, M, M, M, F, M",
          "M, M, M, M, M, F, F, M, M, M, M",
          "F, missing, missing, missing",
          "missing, F, M, F",
          "missing, M, M, F, F",
          "missing, M, F, F, F, M, F, missing, M, M, F",
          "F, M, M, M, M, F, missing, M",
          "missing, M, M, M, M, F, M, F, M",
          "M, M, M, M, missing, missing, missing",
          "M, missing, M, M, M, M, missing",
          "M, M, missing, missing, M, missing, missing, missing",
          "missing, F, M, F, M, F, M",
          "missing, M, M, missing, M, F, F",
          "M, F, missing, missing",
          "missing, F, M, M, F, F, M",
          "missing, M, M, M, M, M, M, M, M, M, M, M, M, M, F, M, M, M, M, M, M, M, M, M",
          "missing, F, M, M, M, M, missing, M, missing, missing",
          "M, M, M, M, M, M, M, M, M, M, M, M, M, M, M, M, M, M, M, F, M, M, M, missing",
          "M, M, M, M, M, M, M, M, M, M, M, M, M, missing",
          "missing, M, F, M, M, M, F, F, F, M",
          "F, M, F, M, missing",
          "F, missing, M, M, M, M, M, missing, M, M, M, F",
          "missing, M, M, M, missing, F, missing, missing, missing",
          "M, F, M, F, M, missing",
          "M, M, M, F, M, missing",
          "M, F, M, M, M, missing",
          "missing, missing, F, M, M, missing",
          "M, M, F, M",
          "F, M, missing, M, missing",
          "missing, missing, missing, missing, missing, missing",
          "missing, F, M, M, M, M",
          "missing, missing, missing, missing, M, missing, missing",
          "M, M, F, M, missing, missing",
          "missing, F, F, F, F, F, F, F, F, F, F, F, F, F, F, F, F, F, F, F, F",
          "missing, F, F, missing, M",
          "M, M, M, M, M, M, M, M, M, M, M, M, M, M, M, F, M",
          "missing, M, M, M, M, missing, M, F, M, M, F, M, M, M, M, M, M, M, F, M, M, M, M",
          "M, F, F, F",
          "M, M, M, F, missing, M",
          "missing, F, F, M, M, M",
          "M, missing, missing, M, missing",
          "missing, M, M, M, M, M, M, M, M, M, F",
          "missing, F, F, M, M",
          "missing, F, F, F, F, M",
          "M, M, M, F, M, M, M, F, M, F, M, M, M, M, missing",
          "missing, M, NB, F, F, F",
          "missing, M, F, missing, M, M",
          "F, M, F, M, M, missing, missing",
          "missing, M, missing, M, missing, M, F, M, M, M",
          "M, missing, M, M, M, M, M, M, missing",
          "missing, F, M, M, M, M, M, F, F, M, M, F, M, M, M, M, F, M, F, M, M, F, F, M, M, M, M, M, M, F, F",
          "M, F, M, M, M",
          "missing, missing, M, M, missing",
          "M, M, M, M, M, M, missing, missing, M, M",
          "M, M, M, F, M, M, M, M, M, missing",
          "M, missing, M, missing, missing",
          "missing, F, F, F, M, M, M, F, F, missing, M, M, F, M",
          "M, M, M, M, M, M, M, M, M, M, M, missing, M, M, M, M, M, M, M, M, M, M, M, M, M, M, M, M, M, missing",
          "M, missing, missing, missing, M, missing",
          "M, M, missing, missing, F, M",
          "M, M, M, M, M, M, M, M, M, F, M, M, missing",
          "M, F, M, M, M, M, M, M, M, M, missing",
          "F, M, M, M, M, M, M, M, M, M, M, M, F, M, M, M, M, missing",
          "M, M, M, M, M, M, M, M, M, M, M, M, M, M, M, M, M, M, M, missing",
          "missing, M, M, M, M, M, F, M, M, M, M, M, M, M, M, M, M, F, M, M, M, F",
          "missing, M, M, M, F, F, M, M, M, M, M, M, M, M",
          "missing, M, M, missing, missing, M, M, M, M, M, M, M, M, M, M, M, M, M, M, missing",
          "M, M, M, M, M, M, M, M, M, M, M, M, M, M, F, F, M, M, M, F, M, F, F, F, missing",
          "missing, M, M, M, M, M, M, M, M, M, M, F, M, M, M, M, M, M",
          "M, F, M, M, missing, missing",
          "M, M, M, M, M, F, M, M, M, F, M, F, missing",
          "missing, M, M, M, M, M, M, M, F, M, M",
          "M, F, F, M, M, M, M, M, M, M, missing",
          "missing, M, M, M, M, M, M, M, M, M, M, M, M",
          "missing, M, F, M, M, M, M, missing, M, M, F, M, M, F, M, missing, M, F, M, F, M, M, M, M, M, F, M, M, M, M, M",
          "M, M, M, M, M, M, M, M, M, F, M, missing",
          "M, M, missing, M, M, M, M, F, M, M, M, F, M, missing",
          "M, F, M, M, M, M, M, M, M, missing, M, missing",
          "M, F, M, missing, missing",
          "M, M, M, F, F, M, M, F, M, M, M, missing",
          "M, F, M, M, M, M, M, M, F, M, F, missing",
          "missing, F, M, M, F, F, M, M, M, M, M, M, M",
          "missing, M, M, M, M, M, M, M, M, M",
          "M, F, F, M, M, M, F, M, F, M, M, F, F, M, M, M, M, M, M, M, M, M, M, M, M, M, M, M, M, missing",
          "M, missing, M, missing, M, missing",
          "missing, M, missing, missing, missing",
          "F, F, F, M",
          "F, missing, M, missing",
          "M, M, missing, M, M, M, M",
          "M, M, M, M, F",
          "missing, missing, missing, M, missing, F",
          "M, M, M, M, M, M, M, M, M, M, M, M, M, M, M, M, M, M, F, M, M, missing",
          "M, M, M, M, M, M, M, M",
          "M, M, M, M, M, F, F, missing",
          "M, M, M, M, M, M, F, M, M, M, M, M, F, missing",
          "missing, M, M, M, M, M, M, M, F, M, F, M",
          "M, M, M, missing, M, M, F",
          "M, F, M, M, M, M, M, M, M, M, M, M, M, M, M, M, M, M, M, M, missing",
          "M, M, M, M, missing, M, M, M, M, M, M, M, M, M, M, M, M, missing",
          "M, F, M, M, M, M, M, M, F, M, M, M, M, M, M, M, M, missing",
          "M, M, M, M, F, M, M, M, M, M, M, M, M, M, M, M, missing, M, M, missing",
          "M, M, M, M, M, M, M, M, F, F, missing",
          "M, M, F, M, M, M, M, M, F, M, missing",
          "M, M, missing, M",
          "M, M, M, M, F, M, M, missing",
          "M, M, M, M, M, M, M, F, M, M, M, M, M, M, M, missing",
          "missing, M, M, M, M, M, F, M, M, M, M, M",
          "M, M, M, M, M, M, M, M, F, M, M, M, M, M, M, M, missing",
          "F, F, M, missing",
          "M, M, F, M, M, M, missing",
          "M, missing, M, M",
          "missing, F, M, missing, M",
          "missing, M, M, F, M, M, M, M",
          "M, M, M, M, F, M, M, F, M, M, M, M, M, M, M, M, M, M, M, M, missing",
          "M, M, F, F, F, M",
          "M, M, M, M, M, M, M, M, M, F, M, M, M, M, M, M, M, F, M, F, M, M, M, M, M, missing",
          "missing, M, M, M, M, M, M, M, M, M, M, M, F, M, M, F, M, M, M, M, M, M, M, M, M, M, M, M",
          "missing, M, M, F, M, M, M, M, M, M, M",
          "M, M, missing, M, M, M, M, M, M, M, M, missing",
          "M, M, M, F, M, M, M, M, M, M, F, M, M, M, M, M, M, M, M, M, missing",
          "M, missing, M, M, M, M, M, M, M, M, M, F, M, M, missing",
          "missing, M, M, M, F, M, M, M, M, M, M, M, M, M, F, M, M",
          "M, M, M, M, M, M, F, M, M, M, missing",
          "F, M, M, M, M, M, M, M, M, M, M, M, M, M, M, M, F, M, M, M, M, M, M, M, M, M, M, M, M, missing",
          "missing, F, F, M, M, M, M",
          "missing, M, M, M, M, M, F, M, M, M, M",
          "M, missing, M, missing, F",
          "M, missing, M, F",
          "F, missing, M, F, M, F, M",
          "M, M, F, missing, M, missing",
          "M, missing, missing, M, M, M, missing",
          "M, missing, M, M, F, M",
          "M, M, M, M, F, M, F",
          "M, M, F, M, M",
          "M, M, missing, F",
          "M, F, missing, M, missing",
          "missing, M, M, missing, M, M, M",
          "missing, missing, F, missing, M, M, missing, M, M, F, M, M, missing, missing, missing, M, M, missing, M, M, M, M, M, M, missing",
          "missing, M, M, missing, M, M, M, missing, M, missing, missing, M, M, missing",
          "missing, M, M, M, M, missing, M, M, missing, M, missing, M, missing, M, missing, M, M, missing",
          "missing, M, missing, M, missing, M, M",
          "M, missing, M, M, M",
          "M, M, M, missing, M, M",
          "M, missing, M, M, missing, missing",
          "M, M, M, F, M, M",
          "F, missing, M, M, M, M",
          "M, M, M, M, M, M, M, M, M, M, missing",
          "missing, M, M, M, M, M, M, M, M, F, M, M, M, M, M",
          "M, M, M, M, M, M, M, M, M, M, M, F, F, M, M, M, M, M, M, M, missing",
          "missing, F, M, M, M, M, missing",
          "M, M, M, M, M, F, M, F, M, M, missing",
          "missing, M, M, M, M, M, M, M, M, M, M, M, M, M",
          "M, missing, F, M, M, M, missing, M, M, missing, missing",
          "missing, M, missing, M, missing, M, missing, missing",
          "missing, M, M, M, M, M, missing, missing, M, missing, M, F, M, M, M, M, M, M, M, F, M, M, M, M, M, missing, M",
          "missing, M, M, M, M, missing, M",
          "M, missing, M, missing, M",
          "M, missing, missing, M",
          "missing, M, missing, missing, M",
          "M, F, M, M, M, F, missing",
          "missing, M, M, M, F, M, M, M, M, missing, M, M",
          "M, missing, M, M, M, M, M",
          "missing, M, M, F, M, M, M, M, M, M, M, M",
          "missing, missing, M, missing, M, M",
          "F, missing, F, M",
          "F, M, M, M, M, M, M, M, M, F, M, M, M, M, M, M, missing",
          "missing, M, M, M, M, M, M, M, M, M, M, M, M, M, M, M, M, M, M, M",
          "missing, M, missing, M, M, M, F",
          "M, M, M, M, M, F, M, M, M, M, M, F, M, M, M, missing",
          "M, missing, M, M, F, M, M, missing, M, M, missing, missing",
          "missing, M, F, F, M",
          "F, M, missing, M, M, M, M, M, missing",
          "M, M, M, M, M, M, M",
          "missing, F, M, M, M, M, M, M, M, M, M",
          "missing, M, M, M, M, M, M, M, M, F",
          "M, M, M, M, F, M, M, M, M, M, M, M, M, M, M, M, M, M, M, M, missing",
          "M, M, M, M, M, M, M, M, M, M, M, M, missing",
          "missing, F, F, M",
          "missing, M, missing, missing",
          "missing, M, M, M, M, F, M, M, M, M, M, M, missing, M, M, M, M",
          "M, missing, M, M, M, M",
          "missing, M, M, M, M, M, M, M, missing, missing, M, F, M, F, M, M, M, M, M, F, M, M",
          "missing, M, M, missing, M, M, M, M, F, F, M, M, M, M",
          "M, M, F, M, M, F, missing, M, missing, M, M, M, M, missing",
          "missing, M, M, M, M, F, M, M, F, M, M, M",
          "missing, M, M, M, M, F, M, M, M, M, M, M, missing, M, M",
          "missing, M, M, missing, M, M, F, M, F, M, M, M, F, M, M, M, M",
          "M, M, M, M, M, M, M, F, M, M, M, missing",
          "missing, M, M, M, M, M, F, M, M, M, M, F, M, M",
          "M, M, M, M, M, M, M, M, M, F, M",
          "missing, M, M, missing, M, F, missing, M, M, M, F, F, M, M, M, F, M, M, F, M, M, M, M",
          "M, M, F, M, M, M",
          "M, M, M, F, M, M, M",
          "M, M, M, M, M, missing, missing, M, M, F, M, M, M, missing, missing, M, M, M, M, F, M, M, M, M, M, missing, M",
          "M, M, M, M, M, missing, missing, M, M, F, M, M, M, missing, missing, M, M, M, M, F",
          "missing, M, M, F, F, F, F"
         ],
         "legendgroup": "",
         "name": "",
         "showlegend": true,
         "textinfo": "label+value",
         "textposition": "inside",
         "type": "pie",
         "values": [
          104167,
          17823,
          8641,
          1760,
          876,
          817,
          714,
          520,
          484,
          171,
          147,
          110,
          107,
          100,
          90,
          73,
          68,
          62,
          56,
          50,
          49,
          42,
          42,
          41,
          40,
          36,
          31,
          28,
          26,
          26,
          25,
          24,
          23,
          22,
          22,
          21,
          21,
          19,
          18,
          17,
          17,
          16,
          14,
          14,
          13,
          13,
          13,
          13,
          12,
          12,
          12,
          11,
          11,
          10,
          10,
          10,
          10,
          10,
          10,
          9,
          9,
          9,
          9,
          8,
          8,
          7,
          6,
          6,
          5,
          5,
          5,
          5,
          5,
          4,
          4,
          4,
          4,
          4,
          3,
          3,
          3,
          3,
          3,
          3,
          3,
          3,
          3,
          3,
          3,
          3,
          3,
          3,
          3,
          2,
          2,
          2,
          2,
          2,
          2,
          2,
          2,
          2,
          2,
          2,
          2,
          2,
          2,
          2,
          2,
          2,
          2,
          2,
          2,
          2,
          2,
          2,
          2,
          2,
          2,
          2,
          2,
          2,
          2,
          2,
          2,
          2,
          2,
          2,
          2,
          2,
          2,
          1,
          1,
          1,
          1,
          1,
          1,
          1,
          1,
          1,
          1,
          1,
          1,
          1,
          1,
          1,
          1,
          1,
          1,
          1,
          1,
          1,
          1,
          1,
          1,
          1,
          1,
          1,
          1,
          1,
          1,
          1,
          1,
          1,
          1,
          1,
          1,
          1,
          1,
          1,
          1,
          1,
          1,
          1,
          1,
          1,
          1,
          1,
          1,
          1,
          1,
          1,
          1,
          1,
          1,
          1,
          1,
          1,
          1,
          1,
          1,
          1,
          1,
          1,
          1,
          1,
          1,
          1,
          1,
          1,
          1,
          1,
          1,
          1,
          1,
          1,
          1,
          1,
          1,
          1,
          1,
          1,
          1,
          1,
          1,
          1,
          1,
          1,
          1,
          1,
          1,
          1,
          1,
          1,
          1,
          1,
          1,
          1,
          1,
          1,
          1,
          1,
          1,
          1,
          1,
          1,
          1,
          1,
          1,
          1,
          1,
          1,
          1,
          1,
          1,
          1,
          1,
          1,
          1,
          1,
          1,
          1,
          1,
          1,
          1,
          1,
          1,
          1,
          1,
          1,
          1,
          1,
          1,
          1,
          1,
          1,
          1,
          1,
          1,
          1,
          1,
          1,
          1,
          1,
          1,
          1,
          1,
          1,
          1,
          1,
          1,
          1,
          1,
          1,
          1,
          1,
          1,
          1,
          1,
          1,
          1,
          1,
          1,
          1,
          1,
          1,
          1,
          1,
          1,
          1,
          1,
          1,
          1,
          1,
          1,
          1,
          1,
          1,
          1,
          1,
          1,
          1,
          1,
          1,
          1,
          1,
          1,
          1,
          1,
          1,
          1,
          1,
          1,
          1,
          1,
          1,
          1,
          1,
          1,
          1,
          1,
          1,
          1,
          1,
          1,
          1,
          1,
          1,
          1,
          1,
          1,
          1,
          1,
          1,
          1,
          1,
          1,
          1,
          1,
          1,
          1,
          1,
          1,
          1,
          1,
          1,
          1,
          1,
          1,
          1,
          1,
          1,
          1,
          1,
          1,
          1,
          1,
          1,
          1,
          1,
          1,
          1,
          1,
          1,
          1,
          1,
          1,
          1,
          1,
          1,
          1,
          1,
          1,
          1,
          1,
          1,
          1,
          1,
          1,
          1,
          1,
          1,
          1,
          1,
          1,
          1,
          1,
          1,
          1,
          1,
          1,
          1,
          1,
          1
         ]
        }
       ],
       "layout": {
        "legend": {
         "tracegroupgap": 0
        },
        "showlegend": false,
        "template": {
         "data": {
          "bar": [
           {
            "error_x": {
             "color": "#2a3f5f"
            },
            "error_y": {
             "color": "#2a3f5f"
            },
            "marker": {
             "line": {
              "color": "#E5ECF6",
              "width": 0.5
             },
             "pattern": {
              "fillmode": "overlay",
              "size": 10,
              "solidity": 0.2
             }
            },
            "type": "bar"
           }
          ],
          "barpolar": [
           {
            "marker": {
             "line": {
              "color": "#E5ECF6",
              "width": 0.5
             },
             "pattern": {
              "fillmode": "overlay",
              "size": 10,
              "solidity": 0.2
             }
            },
            "type": "barpolar"
           }
          ],
          "carpet": [
           {
            "aaxis": {
             "endlinecolor": "#2a3f5f",
             "gridcolor": "white",
             "linecolor": "white",
             "minorgridcolor": "white",
             "startlinecolor": "#2a3f5f"
            },
            "baxis": {
             "endlinecolor": "#2a3f5f",
             "gridcolor": "white",
             "linecolor": "white",
             "minorgridcolor": "white",
             "startlinecolor": "#2a3f5f"
            },
            "type": "carpet"
           }
          ],
          "choropleth": [
           {
            "colorbar": {
             "outlinewidth": 0,
             "ticks": ""
            },
            "type": "choropleth"
           }
          ],
          "contour": [
           {
            "colorbar": {
             "outlinewidth": 0,
             "ticks": ""
            },
            "colorscale": [
             [
              0,
              "#0d0887"
             ],
             [
              0.1111111111111111,
              "#46039f"
             ],
             [
              0.2222222222222222,
              "#7201a8"
             ],
             [
              0.3333333333333333,
              "#9c179e"
             ],
             [
              0.4444444444444444,
              "#bd3786"
             ],
             [
              0.5555555555555556,
              "#d8576b"
             ],
             [
              0.6666666666666666,
              "#ed7953"
             ],
             [
              0.7777777777777778,
              "#fb9f3a"
             ],
             [
              0.8888888888888888,
              "#fdca26"
             ],
             [
              1,
              "#f0f921"
             ]
            ],
            "type": "contour"
           }
          ],
          "contourcarpet": [
           {
            "colorbar": {
             "outlinewidth": 0,
             "ticks": ""
            },
            "type": "contourcarpet"
           }
          ],
          "heatmap": [
           {
            "colorbar": {
             "outlinewidth": 0,
             "ticks": ""
            },
            "colorscale": [
             [
              0,
              "#0d0887"
             ],
             [
              0.1111111111111111,
              "#46039f"
             ],
             [
              0.2222222222222222,
              "#7201a8"
             ],
             [
              0.3333333333333333,
              "#9c179e"
             ],
             [
              0.4444444444444444,
              "#bd3786"
             ],
             [
              0.5555555555555556,
              "#d8576b"
             ],
             [
              0.6666666666666666,
              "#ed7953"
             ],
             [
              0.7777777777777778,
              "#fb9f3a"
             ],
             [
              0.8888888888888888,
              "#fdca26"
             ],
             [
              1,
              "#f0f921"
             ]
            ],
            "type": "heatmap"
           }
          ],
          "heatmapgl": [
           {
            "colorbar": {
             "outlinewidth": 0,
             "ticks": ""
            },
            "colorscale": [
             [
              0,
              "#0d0887"
             ],
             [
              0.1111111111111111,
              "#46039f"
             ],
             [
              0.2222222222222222,
              "#7201a8"
             ],
             [
              0.3333333333333333,
              "#9c179e"
             ],
             [
              0.4444444444444444,
              "#bd3786"
             ],
             [
              0.5555555555555556,
              "#d8576b"
             ],
             [
              0.6666666666666666,
              "#ed7953"
             ],
             [
              0.7777777777777778,
              "#fb9f3a"
             ],
             [
              0.8888888888888888,
              "#fdca26"
             ],
             [
              1,
              "#f0f921"
             ]
            ],
            "type": "heatmapgl"
           }
          ],
          "histogram": [
           {
            "marker": {
             "pattern": {
              "fillmode": "overlay",
              "size": 10,
              "solidity": 0.2
             }
            },
            "type": "histogram"
           }
          ],
          "histogram2d": [
           {
            "colorbar": {
             "outlinewidth": 0,
             "ticks": ""
            },
            "colorscale": [
             [
              0,
              "#0d0887"
             ],
             [
              0.1111111111111111,
              "#46039f"
             ],
             [
              0.2222222222222222,
              "#7201a8"
             ],
             [
              0.3333333333333333,
              "#9c179e"
             ],
             [
              0.4444444444444444,
              "#bd3786"
             ],
             [
              0.5555555555555556,
              "#d8576b"
             ],
             [
              0.6666666666666666,
              "#ed7953"
             ],
             [
              0.7777777777777778,
              "#fb9f3a"
             ],
             [
              0.8888888888888888,
              "#fdca26"
             ],
             [
              1,
              "#f0f921"
             ]
            ],
            "type": "histogram2d"
           }
          ],
          "histogram2dcontour": [
           {
            "colorbar": {
             "outlinewidth": 0,
             "ticks": ""
            },
            "colorscale": [
             [
              0,
              "#0d0887"
             ],
             [
              0.1111111111111111,
              "#46039f"
             ],
             [
              0.2222222222222222,
              "#7201a8"
             ],
             [
              0.3333333333333333,
              "#9c179e"
             ],
             [
              0.4444444444444444,
              "#bd3786"
             ],
             [
              0.5555555555555556,
              "#d8576b"
             ],
             [
              0.6666666666666666,
              "#ed7953"
             ],
             [
              0.7777777777777778,
              "#fb9f3a"
             ],
             [
              0.8888888888888888,
              "#fdca26"
             ],
             [
              1,
              "#f0f921"
             ]
            ],
            "type": "histogram2dcontour"
           }
          ],
          "mesh3d": [
           {
            "colorbar": {
             "outlinewidth": 0,
             "ticks": ""
            },
            "type": "mesh3d"
           }
          ],
          "parcoords": [
           {
            "line": {
             "colorbar": {
              "outlinewidth": 0,
              "ticks": ""
             }
            },
            "type": "parcoords"
           }
          ],
          "pie": [
           {
            "automargin": true,
            "type": "pie"
           }
          ],
          "scatter": [
           {
            "fillpattern": {
             "fillmode": "overlay",
             "size": 10,
             "solidity": 0.2
            },
            "type": "scatter"
           }
          ],
          "scatter3d": [
           {
            "line": {
             "colorbar": {
              "outlinewidth": 0,
              "ticks": ""
             }
            },
            "marker": {
             "colorbar": {
              "outlinewidth": 0,
              "ticks": ""
             }
            },
            "type": "scatter3d"
           }
          ],
          "scattercarpet": [
           {
            "marker": {
             "colorbar": {
              "outlinewidth": 0,
              "ticks": ""
             }
            },
            "type": "scattercarpet"
           }
          ],
          "scattergeo": [
           {
            "marker": {
             "colorbar": {
              "outlinewidth": 0,
              "ticks": ""
             }
            },
            "type": "scattergeo"
           }
          ],
          "scattergl": [
           {
            "marker": {
             "colorbar": {
              "outlinewidth": 0,
              "ticks": ""
             }
            },
            "type": "scattergl"
           }
          ],
          "scattermapbox": [
           {
            "marker": {
             "colorbar": {
              "outlinewidth": 0,
              "ticks": ""
             }
            },
            "type": "scattermapbox"
           }
          ],
          "scatterpolar": [
           {
            "marker": {
             "colorbar": {
              "outlinewidth": 0,
              "ticks": ""
             }
            },
            "type": "scatterpolar"
           }
          ],
          "scatterpolargl": [
           {
            "marker": {
             "colorbar": {
              "outlinewidth": 0,
              "ticks": ""
             }
            },
            "type": "scatterpolargl"
           }
          ],
          "scatterternary": [
           {
            "marker": {
             "colorbar": {
              "outlinewidth": 0,
              "ticks": ""
             }
            },
            "type": "scatterternary"
           }
          ],
          "surface": [
           {
            "colorbar": {
             "outlinewidth": 0,
             "ticks": ""
            },
            "colorscale": [
             [
              0,
              "#0d0887"
             ],
             [
              0.1111111111111111,
              "#46039f"
             ],
             [
              0.2222222222222222,
              "#7201a8"
             ],
             [
              0.3333333333333333,
              "#9c179e"
             ],
             [
              0.4444444444444444,
              "#bd3786"
             ],
             [
              0.5555555555555556,
              "#d8576b"
             ],
             [
              0.6666666666666666,
              "#ed7953"
             ],
             [
              0.7777777777777778,
              "#fb9f3a"
             ],
             [
              0.8888888888888888,
              "#fdca26"
             ],
             [
              1,
              "#f0f921"
             ]
            ],
            "type": "surface"
           }
          ],
          "table": [
           {
            "cells": {
             "fill": {
              "color": "#EBF0F8"
             },
             "line": {
              "color": "white"
             }
            },
            "header": {
             "fill": {
              "color": "#C8D4E3"
             },
             "line": {
              "color": "white"
             }
            },
            "type": "table"
           }
          ]
         },
         "layout": {
          "annotationdefaults": {
           "arrowcolor": "#2a3f5f",
           "arrowhead": 0,
           "arrowwidth": 1
          },
          "autotypenumbers": "strict",
          "coloraxis": {
           "colorbar": {
            "outlinewidth": 0,
            "ticks": ""
           }
          },
          "colorscale": {
           "diverging": [
            [
             0,
             "#8e0152"
            ],
            [
             0.1,
             "#c51b7d"
            ],
            [
             0.2,
             "#de77ae"
            ],
            [
             0.3,
             "#f1b6da"
            ],
            [
             0.4,
             "#fde0ef"
            ],
            [
             0.5,
             "#f7f7f7"
            ],
            [
             0.6,
             "#e6f5d0"
            ],
            [
             0.7,
             "#b8e186"
            ],
            [
             0.8,
             "#7fbc41"
            ],
            [
             0.9,
             "#4d9221"
            ],
            [
             1,
             "#276419"
            ]
           ],
           "sequential": [
            [
             0,
             "#0d0887"
            ],
            [
             0.1111111111111111,
             "#46039f"
            ],
            [
             0.2222222222222222,
             "#7201a8"
            ],
            [
             0.3333333333333333,
             "#9c179e"
            ],
            [
             0.4444444444444444,
             "#bd3786"
            ],
            [
             0.5555555555555556,
             "#d8576b"
            ],
            [
             0.6666666666666666,
             "#ed7953"
            ],
            [
             0.7777777777777778,
             "#fb9f3a"
            ],
            [
             0.8888888888888888,
             "#fdca26"
            ],
            [
             1,
             "#f0f921"
            ]
           ],
           "sequentialminus": [
            [
             0,
             "#0d0887"
            ],
            [
             0.1111111111111111,
             "#46039f"
            ],
            [
             0.2222222222222222,
             "#7201a8"
            ],
            [
             0.3333333333333333,
             "#9c179e"
            ],
            [
             0.4444444444444444,
             "#bd3786"
            ],
            [
             0.5555555555555556,
             "#d8576b"
            ],
            [
             0.6666666666666666,
             "#ed7953"
            ],
            [
             0.7777777777777778,
             "#fb9f3a"
            ],
            [
             0.8888888888888888,
             "#fdca26"
            ],
            [
             1,
             "#f0f921"
            ]
           ]
          },
          "colorway": [
           "#636efa",
           "#EF553B",
           "#00cc96",
           "#ab63fa",
           "#FFA15A",
           "#19d3f3",
           "#FF6692",
           "#B6E880",
           "#FF97FF",
           "#FECB52"
          ],
          "font": {
           "color": "#2a3f5f"
          },
          "geo": {
           "bgcolor": "white",
           "lakecolor": "white",
           "landcolor": "#E5ECF6",
           "showlakes": true,
           "showland": true,
           "subunitcolor": "white"
          },
          "hoverlabel": {
           "align": "left"
          },
          "hovermode": "closest",
          "mapbox": {
           "style": "light"
          },
          "paper_bgcolor": "white",
          "plot_bgcolor": "#E5ECF6",
          "polar": {
           "angularaxis": {
            "gridcolor": "white",
            "linecolor": "white",
            "ticks": ""
           },
           "bgcolor": "#E5ECF6",
           "radialaxis": {
            "gridcolor": "white",
            "linecolor": "white",
            "ticks": ""
           }
          },
          "scene": {
           "xaxis": {
            "backgroundcolor": "#E5ECF6",
            "gridcolor": "white",
            "gridwidth": 2,
            "linecolor": "white",
            "showbackground": true,
            "ticks": "",
            "zerolinecolor": "white"
           },
           "yaxis": {
            "backgroundcolor": "#E5ECF6",
            "gridcolor": "white",
            "gridwidth": 2,
            "linecolor": "white",
            "showbackground": true,
            "ticks": "",
            "zerolinecolor": "white"
           },
           "zaxis": {
            "backgroundcolor": "#E5ECF6",
            "gridcolor": "white",
            "gridwidth": 2,
            "linecolor": "white",
            "showbackground": true,
            "ticks": "",
            "zerolinecolor": "white"
           }
          },
          "shapedefaults": {
           "line": {
            "color": "#2a3f5f"
           }
          },
          "ternary": {
           "aaxis": {
            "gridcolor": "white",
            "linecolor": "white",
            "ticks": ""
           },
           "baxis": {
            "gridcolor": "white",
            "linecolor": "white",
            "ticks": ""
           },
           "bgcolor": "#E5ECF6",
           "caxis": {
            "gridcolor": "white",
            "linecolor": "white",
            "ticks": ""
           }
          },
          "title": {
           "x": 0.05
          },
          "xaxis": {
           "automargin": true,
           "gridcolor": "white",
           "linecolor": "white",
           "ticks": "",
           "title": {
            "standoff": 15
           },
           "zerolinecolor": "white",
           "zerolinewidth": 2
          },
          "yaxis": {
           "automargin": true,
           "gridcolor": "white",
           "linecolor": "white",
           "ticks": "",
           "title": {
            "standoff": 15
           },
           "zerolinecolor": "white",
           "zerolinewidth": 2
          }
         }
        },
        "title": {
         "text": "Gender Breakdown of MoMA Collection"
        },
        "width": 800
       }
      }
     },
     "metadata": {},
     "output_type": "display_data"
    }
   ],
   "source": [
    "fig = px.pie(moma_gender_rep, values='Counts', names='Gender',\n",
    "             title='Gender Breakdown of MoMA Collection')\n",
    "fig.update_traces(textposition='inside', textinfo='label+value', hoverinfo='label+value+percent', hovertemplate=None)\n",
    "fig.update(layout_showlegend=False)\n",
    "fig.update_layout(width=800)\n",
    "fig.show()"
   ]
  },
  {
   "cell_type": "code",
   "execution_count": 6,
   "metadata": {},
   "outputs": [],
   "source": [
    "moma_gender_rep_arch = moma_arch['Gender'].value_counts().rename_axis('Gender').reset_index(name='Counts')\n",
    "moma_gender_rep_design = moma_design['Gender'].value_counts().rename_axis('Gender').reset_index(name='Counts')\n",
    "moma_gender_rep_draw = moma_draw['Gender'].value_counts().rename_axis('Gender').reset_index(name='Counts')\n",
    "moma_gender_rep_films = moma_films['Gender'].value_counts().rename_axis('Gender').reset_index(name='Counts')\n",
    "moma_gender_rep_fluxus = moma_fluxus['Gender'].value_counts().rename_axis('Gender').reset_index(name='Counts')\n",
    "moma_gender_rep_media = moma_media['Gender'].value_counts().rename_axis('Gender').reset_index(name='Counts')\n",
    "moma_gender_rep_paint = moma_paint['Gender'].value_counts().rename_axis('Gender').reset_index(name='Counts')\n",
    "moma_gender_rep_photo = moma_photo['Gender'].value_counts().rename_axis('Gender').reset_index(name='Counts')"
   ]
  },
  {
   "cell_type": "code",
   "execution_count": 7,
   "metadata": {},
   "outputs": [
    {
     "data": {
      "application/vnd.plotly.v1+json": {
       "config": {
        "plotlyServerURL": "https://plot.ly"
       },
       "data": [
        {
         "domain": {
          "x": [
           0,
           0.2125
          ],
          "y": [
           0.625,
           1
          ]
         },
         "hoverinfo": "label+value+percent",
         "labels": [
          "M",
          "missing",
          "F",
          "M, M",
          "M, missing",
          "M, F",
          "M, M, M",
          "F, M",
          "missing, M, F",
          "missing, M",
          "F, F",
          "F, M, M, F, M, M",
          "F, M, F, M, M, M, M",
          "missing, missing",
          "M, M, missing",
          "F, M, F, M, M, M",
          "missing, M, M",
          "M, M, M, M",
          "M, M, F, F",
          "F, missing, missing",
          "M, F, F",
          "M, F, missing",
          "M, M, F",
          "missing, M, M, M",
          "missing, M, F, M",
          "M, missing, missing",
          "missing, M, F, missing",
          "M, F, M",
          "missing, F, M",
          "F, M, M, M, M, missing",
          "M, F, M, M",
          "F, missing",
          "F, M, F, M, M",
          "missing, M, M, M, M, M",
          "missing, F, M, M, F, M",
          "missing, F",
          "M, missing, missing, missing",
          "missing, M, M, M, M",
          "missing, M, F, M, M",
          "missing, M, F, F, missing, M, M, M, missing, missing, missing, missing, missing, missing, missing, missing, missing",
          "missing, missing, missing",
          "missing, M, M, M, M, M, M",
          "M, missing, M",
          "missing, M, M, missing",
          "F, M, M, F, missing, missing",
          "missing, M, missing",
          "missing, M, M, F",
          "missing, F, F",
          "F, M, M",
          "M, F, missing, M",
          "M, M, M, M, missing",
          "M, M, M, M, M",
          "missing, F, M, M",
          "F, M, missing",
          "M, M, M, missing",
          "M, F, M, F",
          "M, missing, M, missing",
          "M, M, missing, missing",
          "missing, missing, missing, missing, missing",
          "M, M, F, missing",
          "missing, missing, M",
          "M, M, M, M, M, missing",
          "M, F, M, missing",
          "M, missing, F, M",
          "F, F, M",
          "F, missing, M",
          "M, M, M, F, missing",
          "M, M, M, M, M, missing, M, M, M, M, M, M, M, M, M, M, M, M, M, M",
          "missing, M, F, M, M, M",
          "F, M, M, M, M, F, missing, M",
          "F, missing, M, M, M, M",
          "missing, F, M, M, M, M, missing",
          "M, M, M, M, F, missing",
          "missing, M, F, M, M, M, M, M",
          "F, missing, F, M",
          "F, missing, missing, missing",
          "missing, M, missing, M, M, M, F",
          "M, missing, missing, missing, missing",
          "M, M, M, M, M, M, M",
          "missing, M, M, M, F, M",
          "M, M, M, M, M, M",
          "missing, F, M, M, M, M",
          "missing, M, F, M, F, M",
          "M, M, M, F",
          "F, M, M, M",
          "M, F, F, M",
          "M, missing, M, F, M, M, M, M, F",
          "missing, M, M, M, M, M, M, M",
          "M, M, M, M, F, M, M, M, M, M",
          "M, M, M, M, F, M",
          "M, M, F, M, M, M, M, M",
          "missing, missing, F, missing, missing",
          "missing, M, M, M, missing",
          "missing, M, M, M, M, M, missing",
          "M, M, missing, M, missing",
          "missing, M, F, M, M, F",
          "missing, missing, missing, missing, missing, missing, missing, M, M, M, M, M, M, F, F, M",
          "missing, M, M, missing, F, M",
          "missing, M, F, M, M, M, M, F, M, M, F",
          "M, missing, missing, missing, missing, missing, M, missing, missing, missing",
          "F, F, F, missing",
          "M, M, F, M, M, M, M, F, M, M, missing, M, M, M, missing",
          "M, F, missing, missing",
          "missing, missing, missing, missing, missing, missing",
          "missing, missing, missing, missing",
          "missing, missing, F, M, M, missing",
          "missing, missing, M, M",
          "missing, F, M, M, M, M, missing, M, missing, missing",
          "missing, missing, missing, missing, M, missing, missing",
          "M, missing, missing, M, missing",
          "M, M, M, F, missing, M",
          "M, missing, F",
          "M, F, F, F",
          "F, M, M, missing, M, M, M, missing, F, M, missing, missing, F, M, M",
          "F, F, missing"
         ],
         "textinfo": "label+value",
         "textposition": "inside",
         "type": "pie",
         "values": [
          12467,
          2487,
          2250,
          562,
          305,
          257,
          197,
          133,
          99,
          80,
          79,
          68,
          62,
          51,
          48,
          41,
          32,
          30,
          25,
          23,
          23,
          22,
          21,
          19,
          19,
          17,
          17,
          17,
          16,
          16,
          16,
          15,
          13,
          11,
          11,
          9,
          9,
          9,
          8,
          6,
          6,
          6,
          6,
          5,
          5,
          5,
          5,
          5,
          5,
          5,
          4,
          4,
          4,
          3,
          3,
          2,
          2,
          2,
          2,
          2,
          2,
          2,
          2,
          2,
          1,
          1,
          1,
          1,
          1,
          1,
          1,
          1,
          1,
          1,
          1,
          1,
          1,
          1,
          1,
          1,
          1,
          1,
          1,
          1,
          1,
          1,
          1,
          1,
          1,
          1,
          1,
          1,
          1,
          1,
          1,
          1,
          1,
          1,
          1,
          1,
          1,
          1,
          1,
          1,
          1,
          1,
          1,
          1,
          1,
          1,
          1,
          1,
          1,
          1,
          1
         ]
        },
        {
         "domain": {
          "x": [
           0.2625,
           0.475
          ],
          "y": [
           0.625,
           1
          ]
         },
         "hoverinfo": "label+value+percent",
         "labels": [
          "M",
          "F, M",
          "F",
          "M, M"
         ],
         "textinfo": "label+value",
         "textposition": "inside",
         "type": "pie",
         "values": [
          25,
          3,
          1,
          1
         ]
        },
        {
         "domain": {
          "x": [
           0.525,
           0.7375
          ],
          "y": [
           0.625,
           1
          ]
         },
         "hoverinfo": "label+value+percent",
         "labels": [
          "M",
          "F",
          "missing",
          "M, M",
          "M, missing",
          "M, F",
          "M, M, M",
          "F, M",
          "missing, M",
          "missing, F, M, M, M",
          "F, F",
          "missing, M, M, M, F, M, missing, M, missing, missing, M, M, M, F, M, missing, missing, M, missing, missing",
          "M, F, missing",
          "missing, M, M",
          "missing, M, M, M",
          "M, M, missing",
          "missing, missing, missing",
          "F, missing",
          "M, M, M, M, M, M, F, M",
          "missing, missing",
          "M, missing, M",
          "M, M, M, missing",
          "M, M, M, M, missing, F, M, M, M, M",
          "M, F, M",
          "M, missing, missing",
          "missing, M, M, M, M, M",
          "M, M, M, M, missing",
          "missing, M, M, M, M",
          "M, M, M, M, M, M, missing",
          "M, M, M, M",
          "F, F, M, F, M, M, M, missing",
          "M, M, F, M, missing",
          "M, missing, F",
          "M, M, M, M, M",
          "missing, M, F",
          "M, M, M, M, M, M, M, missing",
          "missing, M, F, M, M, F",
          "F, M, M",
          "missing, missing, M",
          "missing, M, M, M, M, M, M",
          "missing, F, F",
          "M, M, F",
          "missing, missing, F, F, F, F",
          "M, F, M, M, missing",
          "missing, M, M, missing",
          "missing, F, M, M",
          "M, missing, M, M, missing",
          "M, F, M, missing",
          "M, F, F",
          "F, M, M, M, missing",
          "missing, M, missing",
          "missing, F",
          "missing, F, M",
          "missing, M, M, F",
          "M, M, missing, M, missing",
          "missing, M, M, M, M, M, M, M, M, M, M",
          "M, M, missing, missing, missing",
          "missing, F, M, missing",
          "F, M, M, M, M, missing",
          "missing, M, missing, missing, F, M",
          "M, M, M, M, M, M, M, M, missing",
          "missing, M, F, M, M, M",
          "M, M, M, M, M, F",
          "M, F, F, M, missing",
          "missing, M, M, F, M",
          "missing, missing, missing, missing, missing, missing, missing, M",
          "missing, missing, missing, missing, missing, missing, missing, missing, missing, missing, missing, missing, missing, M",
          "missing, missing, missing, missing, missing, missing, missing, missing, missing, M",
          "missing, M, M, M, M, M, M, M, M",
          "M, missing, missing, missing",
          "missing, M, F, M, M",
          "missing, M, M, M, F",
          "missing, F, M, M, F",
          "F, F, M",
          "missing, F, M, F, M, M, F, M",
          "F, F, M, M, F, missing",
          "M, F, F, M, M, missing",
          "missing, M, F, M, M, missing, missing",
          "missing, F, F, M, F, M",
          "M, M, M, missing, missing",
          "M, F, M, M, M, missing, M, M, M",
          "M, M, M, M, F, M, missing",
          "M, M, M, M, M, M, M, M, M, M, M, missing",
          "F, M, missing",
          "F, M, F",
          "missing, M, M, M, M, M, M, M",
          "missing, missing, missing, M",
          "M, M, missing, M, M",
          "missing, M, F, M, M, M, M, M, M",
          "missing, F, M, F, M, M, M, M",
          "M, M, M, M, M, M, M, M, M, missing",
          "missing, missing, M, M, M",
          "M, M, M, M, M, M",
          "M, M, M, F",
          "M, missing, M, M, F, missing",
          "M, F, M, F",
          "M, F, M, M",
          "missing, M, F, M",
          "missing, M, M, M, F, F, M, M, M, M, M, M, M, M",
          "M, M, M, M, M, missing",
          "F, missing, M, F, M, F, M",
          "missing, M, M, M, M, M, F, M, M, M, M, M, M, M, M, M, M, F, M, M, M, F",
          "M, M, M, M, M, M, M, M, M, M, M, M, M, M, M, M, M, M, M, missing",
          "F, M, M, M, M, M, M, M, M, M, M, M, F, M, M, M, M, missing",
          "M, M, F, missing, M, missing",
          "M, F, M, M, M, M, M, M, M, M, missing",
          "M, M, M, M, M, M, M, M, M, F, M, M, missing",
          "M, missing, missing, M, M, M, missing",
          "M, missing, missing, missing, M, missing",
          "missing, M, M, missing, M, M, M, F",
          "M, missing, M, M, F, M",
          "missing, M, missing, M, missing, M, F, M, M, M",
          "M, missing, M, missing, missing",
          "M, missing, M, M, missing, missing",
          "missing, F, M, M, M, M, M, F, F, M, M, F, M, M, M, M, F, M, F, M, M, F, F, M, M, M, M, M, M, F, F",
          "missing, missing, M, M, missing",
          "M, missing, F, M, M, M, missing, M, M, missing, missing",
          "missing, M, missing, missing, M",
          "M, M, M, M, F, M, F",
          "M, F, M, M, missing, missing",
          "missing, M, M, missing, missing, M, M, M, M, M, M, M, M, M, M, M, M, M, M, missing",
          "F, F, F, M",
          "M, missing, M, missing, M, missing",
          "missing, M, M, M, M, M, M, M, M, M, M, M, F, M",
          "M, missing, M, M, M",
          "M, M, M, M, M, M, M, M",
          "M, M, M, M, M, M, M, M, M, M, M, M, M, M, M, M, M, M, F, M, M, missing",
          "M, missing, M, missing, F",
          "M, M, M, M, F",
          "M, M, M, M, F, M, M, missing",
          "missing, M, M, M, missing, M, M, M, M",
          "M, M, M, M, M, M, M, F, M, M, M, M, M, M, M, missing",
          "missing, M, M, M, M, M, F, M, M, M, M, M",
          "M, M, M, M, M, M, M, M, M, F, M, M, M, M, M, M, M, F, M, F, M, M, M, M, M, missing",
          "missing, M, M, M, F, M, M, M, M, M, M, M, M, M, F, M, M",
          "M, missing, M, M, M, M, M, M, M, M, M, F, M, M, missing",
          "M, M, M, F, M, M, M, M, M, M, F, M, M, M, M, M, M, M, M, M, missing",
          "M, M, missing, M, M, M, M, M, M, M, M, missing",
          "missing, M, M, F, M, M, M, M, M, M, M",
          "missing, missing, missing, missing",
          "missing, M, M, M, M, M, M, M, M, M, M, M, F, M, M, F, M, M, M, M, M, M, M, M, M, M, M, M",
          "M, M, F, F, F, M",
          "M, M, M, M, M, M, M, M, F, M, M, M, M, M, M, M, missing",
          "missing, M, M, F, M, M, M, M",
          "M, M, F, M, M, M, missing",
          "M, missing, M, F",
          "missing, F, M, M, F, M, M, F, M, M, M",
          "F, F, M, missing",
          "missing, M, M, M, M, F, M, M, M, M, M, M, M, M, M, M, F",
          "M, F, M, missing, missing",
          "missing, M, M, M, M, M, M, M, M, M",
          "M, F, F, M, M, M, F, M, F, M, M, F, F, M, M, M, M, M, M, M, M, M, M, M, M, M, M, M, M, missing",
          "missing, M, M, M, M, missing, M, M, missing, M, missing, M, missing, M, missing, M, M, missing",
          "missing, F, M, M, M, M, M, M, M, M, M",
          "M, M, missing, missing",
          "missing, M, missing, M, missing, M, missing, missing",
          "M, missing, M, M, F, M, M, missing, M, M, missing, missing",
          "missing, M, M, M, M, missing, M",
          "missing, M, M, F, M, M, M, M, M, M, M, M",
          "missing, M, M, M, M, M, M, M, M, M, M, M, M, M, M, M, M, M, M, M",
          "missing, M, M, M, M, M, F, M, M, M, M, F, M, M",
          "M, M, M, M, M, missing, missing, M, M, F, M, M, M, missing, missing, M, M, M, M, F",
          "M, M, M, M, M, missing, missing, M, M, F, M, M, M, missing, missing, M, M, M, M, F, M, M, M, M, M, missing, M",
          "M, M, M, F, M, M, M",
          "M, M, F, M, M, M",
          "missing, M, M, M, F, M, M, M, M, missing, M, M",
          "M, M, M, M, M, F, F, missing",
          "M, missing, M, M, M, M, M",
          "missing, M, M, missing, M, F, missing, M, M, M, F, F, M, M, M, F, M, M, F, M, M, M, M",
          "missing, M, M, M, M, F, M, M, M, M, M, M, missing, M, M, M, M",
          "missing, M, M, M, M, M, missing, missing, M, missing, M, F, M, M, M, M, M, M, M, F, M, M, M, M, M, missing, M",
          "M, M, M, M, M, M, M, M, M, F, M",
          "missing, M, M, M, M, M, M, M, missing, missing, M, F, M, F, M, M, M, M, M, F, M, M",
          "M, missing, M, M, M, M",
          "missing, M, M, missing, M, M, F, M, F, M, M, M, F, M, M, M, M",
          "missing, M, M, M, M, F, M, M, M, M, M, M, missing, M, M",
          "missing, M, M, M, M, F, M, M, F, M, M, M",
          "M, M, F, M, M, F, missing, M, missing, M, M, M, M, missing",
          "missing, M, missing, M, missing, M, M",
          "missing, M, M, M, M, M, M, M, M, F",
          "missing, M, M, missing, M, M, M, M, F, F, M, M, M, M",
          "M, missing, M, missing, M",
          "missing, F, M, M, F, F, M, M, M, M, M, M, M",
          "M, F, M, M, M, M, M, M, F, M, F, missing",
          "M, M, M, F, F, M, M, F, M, M, M, missing",
          "M, M, F, M, M",
          "M, F, M, M, M, M, M, M, M, missing, M, missing",
          "M, M, missing, F",
          "M, missing, missing, M",
          "M, M, M, M, M, F, M, M, M, F, M, F, missing",
          "missing, M, F, M, M, M, M, M",
          "M, M, missing, M, M, M, M, F, M, M, M, F, M, missing",
          "M, M, M, M, M, M, M, M, M, F, M, missing",
          "missing, M, F, M, M, M, M, missing, M, M, F, M, M, F, M, missing, M, F, M, F, M, M, M, M, M, F, M, M, M, M, M",
          "missing, M, M, M, M, M, M, M, M, M, M, M, M",
          "M, M, M, missing, M, M",
          "M, F, F, M, M, M, M, M, M, M, missing",
          "missing, M, M, M, M, M, M, M, F, M, M",
          "missing, missing, M, M",
          "M, M, M, M, M, M, F, M, M, M, missing",
          "F, M, M, M, M, M, M, M, M, M, M, M, M, M, M, M, F, M, M, M, M, M, M, M, M, M, M, M, M, missing",
          "M, F, missing, M, missing",
          "missing, F, F, M, M, M, M",
          "missing, M, M, M, M, M, F, M, M, M, M",
          "M, M, M, M, M, M, M, M, M, M, M, M, missing",
          "missing, missing, F, missing, M, M, missing, M, M, F, M, M, missing, missing, missing, M, M, missing, M, M, M, M, M, M, missing",
          "missing, M, M, missing, M, M, M, missing, M, missing, missing, M, M, missing",
          "missing, M, M, M, missing",
          "missing, missing, M, missing, M, M",
          "missing, M, F, F",
          "M, F, M, M, M, missing",
          "M, F, M, F, M, missing",
          "F, F, M, F, missing",
          "missing, M, M, M, missing, F, missing, missing, missing",
          "F, missing, M, M, M, M, M, missing, M, M, M, F",
          "F, M, F, M, missing",
          "missing, M, F, M, M, M, F, F, F, M",
          "F, missing, M",
          "M, M, F, M, missing, missing",
          "missing, M, M, M, M, M, M, M, M, M, F",
          "F, M, F, M, M, missing, missing",
          "missing, F, M, M, F, M",
          "missing, M, F, missing, M, M",
          "missing, M, NB, F, F, F",
          "M, M, M, F, M, M, M, F, M, F, M, M, M, M, missing",
          "missing, F, F, F, F, M",
          "missing, F, F, M, M",
          "missing, F, F, F, F, F, F, F, F, F, F, F, F, F, F, F, F, F, F, F, F",
          "missing, F, F, M, M, M",
          "missing, M, M, M, M, missing, M, F, M, M, F, M, M, M, M, M, M, M, F, M, M, M, M",
          "F, missing, missing",
          "missing, F, M, M, F, F, M",
          "missing, M, M, missing, M, F, F",
          "missing, M, M, F, M, M, F",
          "missing, F, M, F, M, F, M",
          "missing, M, M, M, missing, missing, missing, missing, missing",
          "missing, missing, M, F, F, M, F",
          "M, missing, missing, missing, M",
          "missing, missing, F, missing, missing, M, F, missing, M, missing, M, missing",
          "missing, missing, M, M, M, M",
          "M, M, M, F, M, missing",
          "M, M, F, M",
          "missing, missing, M, M, M, M, missing, missing, missing, missing, missing, missing",
          "F, M, missing, M, missing",
          "M, M, M, M, F, F, F, missing",
          "F, F, M, M, M, missing",
          "missing, M, M, M, F, F, M, F, M, M, M, F, M, F, M, F, M, M, M",
          "M, F, M, M, M, M, F, F, M, M, M, M, F, M, M, F, M, M, M, M, M, M, M, M, M, M, M, F, missing",
          "missing, M, M, F, M, M, M, F, M",
          "F, M, M, F, missing",
          "M, M, M, F, M, F, missing",
          "M, M, M, missing, M, missing",
          "M, F, M, M, M, M, M, missing",
          "F, F, M, M, missing",
          "F, M, M, F, F, missing",
          "F, F, F, M, M, missing",
          "M, F, M, F, missing",
          "F, M, M, F, M, missing",
          "F, M, M, M, M, M, F, M, M, F, M, missing",
          "M, M, M, M, F, missing",
          "F, M, M, M, M, M, M, M, M, M, M, missing",
          "M, missing, F, M, M, M, M",
          "missing, F, M, M, M, M, F, M, M",
          "missing, F, M, F, M, F, M, M, M, M, M, M, F, M, F, M, M",
          "missing, F, F, F",
          "missing, F, M, M, M, F, F, F",
          "missing, M, F, M, M, M, F, F, M, M, M, M, F, M, F, F, M, F, F, M, M, F, M, F, F, M, F, M, F, F, F, F, M, M, M, M, M, F, M, missing, M, F, M, M, F, M, M",
          "missing, missing, M, M, M, missing, missing, missing",
          "M, F, M, M, M, M, M, F, F, F, M, missing",
          "F, M, M, missing",
          "M, M, F, M, M, missing",
          "M, M, M, missing, F, missing",
          "M, missing, F, M, missing, missing",
          "missing, missing, M, missing",
          "M, M, M, M, M, M, M, M, M, F, missing, F, M, M, M, M, M, M, missing",
          "M, M, M, missing, M, M, F",
          "M, M, M, M, M, M, M, F, M, M, M, missing",
          "F, M, M, M, M, M, M, M, M, F, M, M, M, M, M, M, missing",
          "M, M, M, M, M, F, M, M, M, M, M, F, M, M, M, missing",
          "F, M, missing, M, M, M, M, M, missing",
          "M, M, M, M, F, M, M, M, M, M, M, M, M, M, M, M, M, M, M, M, missing",
          "missing, M, M, M, M, M, M, M, M, M, M, F, M, M, M, M, M, M",
          "M, M, M, M, M, M, M, M, M, M, M, M, M, M, F, F, M, M, M, F, M, F, F, F, missing",
          "M, M, M, M, M, M, missing, missing, M, M",
          "M, M, M, F, M, M, M, M, M, missing",
          "missing, F, F, F, M, M, M, F, F, missing, M, M, F, M",
          "M, M, M, M, M, M, M, M, M, M, M, missing, M, M, M, M, M, M, M, M, M, M, M, M, M, M, M, M, M, missing",
          "M, M, missing, missing, F, M",
          "missing, M, missing, missing, missing",
          "M, F, M, M, M",
          "M, M, missing, M, M, M, M",
          "M, missing, M, M",
          "M, M, M, M, F, M, M, F, M, M, M, M, M, M, M, M, M, M, M, M, missing",
          "missing, missing, missing, M, missing, F",
          "M, M, M, M, M, M, F, M, M, M, M, M, F, missing",
          "missing, M, M, M, M, M, M, M, F, M, F, M",
          "M, M, M, M, M, M, M, M, F, F, missing",
          "M, M, F, M, M, M, M, M, F, M, missing",
          "M, M, F, M, M, M, M, M, M, F, missing",
          "M, M, missing, missing, M",
          "M, M, M, F, M, M",
          "M, M, missing, M",
          "M, M, M, M, F, M, M, M, M, M, M, M, M, M, M, M, missing, M, M, missing",
          "M, F, M, M, M, M, M, M, F, M, M, M, M, M, M, M, M, missing",
          "M, M, M, M, missing, M, M, M, M, M, M, M, M, M, M, M, M, missing",
          "M, F, M, M, M, M, M, M, M, M, M, M, M, M, M, M, M, M, M, M, missing",
          "missing, M, missing, missing",
          "M, F, M, M, M, F, missing",
          "F, M, missing, missing",
          "missing, M, M, M, M, M, M, M, M, M, M, M, M, M",
          "missing, missing, missing, missing, missing, missing, missing, missing, missing, missing, missing, missing, missing, missing, missing, M",
          "missing, missing, missing, missing, missing, missing, missing, missing, missing, missing, missing, missing, missing, missing, missing, missing, missing, missing, missing, missing, missing, M",
          "M, missing, M, missing, M, missing, missing, missing",
          "missing, missing, missing, missing, missing, missing, M",
          "missing, M, missing, missing, M, missing, M, missing, M, F, missing, M, missing, F, missing, missing, F, M",
          "missing, F, F, M, M, M, M, M, M, F, M, M, M, missing, M, M, M, F, M, M, M, F",
          "missing, M, M, F, F",
          "M, M, missing, missing, M, missing, missing, missing",
          "M, missing, M, M, M, M, missing",
          "M, M, M, M, missing, missing, missing",
          "M, missing, M, missing",
          "missing, M, M, M, M, F, M, F, M",
          "missing, M, F, F, F, M, F, missing, M, M, F",
          "missing, F, M, F",
          "missing, F, M, F, F, F, M, M, M, F",
          "missing, F, F, M, F, F, F, F, M, M, F, M",
          "missing, M, M, F, F, F, F",
          "missing, M, M, M, M, M, M, M, M, M, M, M, M, M, F, M, M, M, M, M, M, M, M, M",
          "M, M, M, M, M, M, M, M, M, M, M, M, M, M, M, M, M, M, M, F, M, M, M, missing",
          "M, M, M, M, M, M, M, M, M, M, M, M, M, missing",
          "missing, M, M, F, F, M",
          "missing, M, M, M, M, M, F, F",
          "missing, M, M, M, M, F",
          "F, M, M, M, M, M, F, M, F, F, M, M, F, M, M, M, M, F, M, M, F, F, M, M, M, M, M, F, F, missing",
          "M, M, M, M, M, M, M, M, M, M, missing",
          "missing, M, M, M, M, M, M, M, M, F, M, M, M, M, M",
          "M, M, M, M, M, M, M, M, M, M, M, F, F, M, M, M, M, M, M, M, missing",
          "M, M, M, M, M, F, M, F, M, M, missing",
          "M, missing, M, M, M, M, M, M, missing",
          "M, M, missing, M, M, M"
         ],
         "textinfo": "label+value",
         "textposition": "inside",
         "type": "pie",
         "values": [
          61125,
          10518,
          2004,
          587,
          349,
          191,
          117,
          115,
          103,
          90,
          68,
          50,
          34,
          31,
          28,
          23,
          20,
          18,
          17,
          17,
          16,
          14,
          14,
          14,
          14,
          14,
          12,
          12,
          10,
          10,
          10,
          10,
          9,
          8,
          8,
          8,
          7,
          7,
          7,
          6,
          6,
          6,
          6,
          5,
          5,
          5,
          5,
          5,
          5,
          5,
          4,
          4,
          4,
          3,
          3,
          3,
          3,
          3,
          3,
          3,
          2,
          2,
          2,
          2,
          2,
          2,
          2,
          2,
          2,
          2,
          2,
          2,
          2,
          2,
          2,
          2,
          2,
          2,
          2,
          2,
          2,
          2,
          2,
          2,
          2,
          2,
          2,
          2,
          2,
          2,
          2,
          2,
          2,
          2,
          2,
          2,
          1,
          1,
          1,
          1,
          1,
          1,
          1,
          1,
          1,
          1,
          1,
          1,
          1,
          1,
          1,
          1,
          1,
          1,
          1,
          1,
          1,
          1,
          1,
          1,
          1,
          1,
          1,
          1,
          1,
          1,
          1,
          1,
          1,
          1,
          1,
          1,
          1,
          1,
          1,
          1,
          1,
          1,
          1,
          1,
          1,
          1,
          1,
          1,
          1,
          1,
          1,
          1,
          1,
          1,
          1,
          1,
          1,
          1,
          1,
          1,
          1,
          1,
          1,
          1,
          1,
          1,
          1,
          1,
          1,
          1,
          1,
          1,
          1,
          1,
          1,
          1,
          1,
          1,
          1,
          1,
          1,
          1,
          1,
          1,
          1,
          1,
          1,
          1,
          1,
          1,
          1,
          1,
          1,
          1,
          1,
          1,
          1,
          1,
          1,
          1,
          1,
          1,
          1,
          1,
          1,
          1,
          1,
          1,
          1,
          1,
          1,
          1,
          1,
          1,
          1,
          1,
          1,
          1,
          1,
          1,
          1,
          1,
          1,
          1,
          1,
          1,
          1,
          1,
          1,
          1,
          1,
          1,
          1,
          1,
          1,
          1,
          1,
          1,
          1,
          1,
          1,
          1,
          1,
          1,
          1,
          1,
          1,
          1,
          1,
          1,
          1,
          1,
          1,
          1,
          1,
          1,
          1,
          1,
          1,
          1,
          1,
          1,
          1,
          1,
          1,
          1,
          1,
          1,
          1,
          1,
          1,
          1,
          1,
          1,
          1,
          1,
          1,
          1,
          1,
          1,
          1,
          1,
          1,
          1,
          1,
          1,
          1,
          1,
          1,
          1,
          1,
          1,
          1,
          1,
          1,
          1,
          1,
          1,
          1,
          1,
          1,
          1,
          1,
          1,
          1,
          1,
          1,
          1,
          1,
          1,
          1,
          1,
          1,
          1,
          1,
          1,
          1,
          1,
          1,
          1,
          1,
          1,
          1,
          1,
          1,
          1,
          1,
          1,
          1,
          1,
          1,
          1,
          1,
          1,
          1,
          1,
          1,
          1,
          1,
          1,
          1,
          1,
          1,
          1
         ]
        },
        {
         "domain": {
          "x": [
           0.7875,
           1
          ],
          "y": [
           0.625,
           1
          ]
         },
         "hoverinfo": "label+value+percent",
         "labels": [
          "M",
          "missing, M",
          "missing",
          "F",
          "M, F",
          "M, M",
          "F, M",
          "M, missing",
          "M, M, M, missing",
          "M, M, F",
          "missing, M, F, F, M",
          "M, M, missing, missing, M",
          "missing, missing",
          "missing, M, F, F",
          "F, F, F",
          "missing, F, F, M",
          "missing, M, M, M",
          "M, M, M, M, M, M, M, M, M, M, M, M, M, M, M, F, M",
          "F, M, F"
         ],
         "textinfo": "label+value",
         "textposition": "inside",
         "type": "pie",
         "values": [
          637,
          303,
          252,
          125,
          119,
          29,
          9,
          6,
          4,
          2,
          1,
          1,
          1,
          1,
          1,
          1,
          1,
          1,
          1
         ]
        },
        {
         "domain": {
          "x": [
           0,
           0.2125
          ],
          "y": [
           0,
           0.375
          ]
         },
         "hoverinfo": "label+value+percent",
         "labels": [
          "M",
          "missing",
          "F",
          "M, M",
          "M, M, M",
          "M, F",
          "F, M",
          "missing, M",
          "M, missing",
          "M, F, M",
          "F, missing",
          "M, M, F, M, M, M, M",
          "F, M, missing",
          "M, M, M, missing",
          "F, missing, M, missing",
          "M, M, M, F, missing",
          "missing, M, M, missing, M, M, M",
          "missing, M, M, M, F, M",
          "M, M, M, M, M",
          "M, M, M, missing, missing",
          "missing, F",
          "F, F",
          "M, F, M, M, M, F, M",
          "M, M, M, M, M, F, F, M, M, M, M",
          "missing, F, M"
         ],
         "textinfo": "label+value",
         "textposition": "inside",
         "type": "pie",
         "values": [
          1216,
          534,
          104,
          68,
          29,
          14,
          11,
          11,
          10,
          3,
          3,
          2,
          2,
          1,
          1,
          1,
          1,
          1,
          1,
          1,
          1,
          1,
          1,
          1,
          1
         ]
        },
        {
         "domain": {
          "x": [
           0.2625,
           0.475
          ],
          "y": [
           0,
           0.375
          ]
         },
         "hoverinfo": "label+value+percent",
         "labels": [
          "M",
          "F",
          "F, M",
          "M, M",
          "M, F",
          "M, missing",
          "missing",
          "missing, M",
          "F, F",
          "F, F, M, F, M",
          "NB",
          "M, M, M",
          "F, missing",
          "F, M, M",
          "missing, M, M",
          "missing, M, M, F, F, M",
          "missing, F, F",
          "missing, missing",
          "M, M, missing",
          "M, M, F",
          "M, F, M",
          "missing, F, M",
          "M, M, missing, missing, M",
          "F, M, F",
          "missing, M, F, M, F, M",
          "missing, F, F, missing, M",
          "F, F, M",
          "missing, M, M, M",
          "missing, F, missing, missing",
          "M, M, F, missing",
          "M, F, M, M"
         ],
         "textinfo": "label+value",
         "textposition": "inside",
         "type": "pie",
         "values": [
          1841,
          644,
          168,
          97,
          57,
          33,
          20,
          20,
          12,
          11,
          10,
          6,
          4,
          3,
          3,
          3,
          2,
          2,
          2,
          2,
          2,
          2,
          1,
          1,
          1,
          1,
          1,
          1,
          1,
          1,
          1
         ]
        },
        {
         "domain": {
          "x": [
           0.525,
           0.7375
          ],
          "y": [
           0,
           0.375
          ]
         },
         "hoverinfo": "label+value+percent",
         "labels": [
          "M",
          "F",
          "missing",
          "M, M",
          "M, M, M",
          "F, F",
          "NB",
          "M, missing, M, M, M, M, M, M, M, M, F, missing",
          "M, F",
          "M, missing",
          "missing, M, M, M, M, M"
         ],
         "textinfo": "label+value",
         "textposition": "inside",
         "type": "pie",
         "values": [
          3351,
          526,
          12,
          7,
          5,
          2,
          2,
          1,
          1,
          1,
          1
         ]
        },
        {
         "domain": {
          "x": [
           0.7875,
           1
          ],
          "y": [
           0,
           0.375
          ]
         },
         "hoverinfo": "label+value+percent",
         "labels": [
          "M",
          "F",
          "missing",
          "M, M, M",
          "M, M",
          "M, missing",
          "F, M, M",
          "missing, missing",
          "M, F",
          "F, M",
          "missing, M, M",
          "M, missing, missing",
          "F, F",
          "F, M, missing",
          "missing, M",
          "F, missing",
          "missing, F, M, missing, M",
          "missing, missing, missing, missing, missing",
          "F, F, F",
          "missing, M, M, F",
          "missing, M, F, M"
         ],
         "textinfo": "label+value",
         "textposition": "inside",
         "type": "pie",
         "values": [
          23506,
          3655,
          3332,
          522,
          409,
          113,
          95,
          76,
          75,
          45,
          34,
          11,
          9,
          6,
          3,
          2,
          1,
          1,
          1,
          1,
          1
         ]
        }
       ],
       "layout": {
        "annotations": [
         {
          "font": {
           "size": 16
          },
          "showarrow": false,
          "text": "Architecture & Design",
          "x": 0.10625,
          "xanchor": "center",
          "xref": "paper",
          "y": 1,
          "yanchor": "bottom",
          "yref": "paper"
         },
         {
          "font": {
           "size": 16
          },
          "showarrow": false,
          "text": "Architecture & Design: Image Archive",
          "x": 0.36875,
          "xanchor": "center",
          "xref": "paper",
          "y": 1,
          "yanchor": "bottom",
          "yref": "paper"
         },
         {
          "font": {
           "size": 16
          },
          "showarrow": false,
          "text": "Drawings & Print",
          "x": 0.6312500000000001,
          "xanchor": "center",
          "xref": "paper",
          "y": 1,
          "yanchor": "bottom",
          "yref": "paper"
         },
         {
          "font": {
           "size": 16
          },
          "showarrow": false,
          "text": "Film",
          "x": 0.89375,
          "xanchor": "center",
          "xref": "paper",
          "y": 1,
          "yanchor": "bottom",
          "yref": "paper"
         },
         {
          "font": {
           "size": 16
          },
          "showarrow": false,
          "text": "Fluxus Collection",
          "x": 0.10625,
          "xanchor": "center",
          "xref": "paper",
          "y": 0.375,
          "yanchor": "bottom",
          "yref": "paper"
         },
         {
          "font": {
           "size": 16
          },
          "showarrow": false,
          "text": "Media & Performance",
          "x": 0.36875,
          "xanchor": "center",
          "xref": "paper",
          "y": 0.375,
          "yanchor": "bottom",
          "yref": "paper"
         },
         {
          "font": {
           "size": 16
          },
          "showarrow": false,
          "text": "Painting & Sculpture",
          "x": 0.6312500000000001,
          "xanchor": "center",
          "xref": "paper",
          "y": 0.375,
          "yanchor": "bottom",
          "yref": "paper"
         },
         {
          "font": {
           "size": 16
          },
          "showarrow": false,
          "text": "Photography",
          "x": 0.89375,
          "xanchor": "center",
          "xref": "paper",
          "y": 0.375,
          "yanchor": "bottom",
          "yref": "paper"
         }
        ],
        "height": 600,
        "showlegend": false,
        "template": {
         "data": {
          "bar": [
           {
            "error_x": {
             "color": "#2a3f5f"
            },
            "error_y": {
             "color": "#2a3f5f"
            },
            "marker": {
             "line": {
              "color": "#E5ECF6",
              "width": 0.5
             },
             "pattern": {
              "fillmode": "overlay",
              "size": 10,
              "solidity": 0.2
             }
            },
            "type": "bar"
           }
          ],
          "barpolar": [
           {
            "marker": {
             "line": {
              "color": "#E5ECF6",
              "width": 0.5
             },
             "pattern": {
              "fillmode": "overlay",
              "size": 10,
              "solidity": 0.2
             }
            },
            "type": "barpolar"
           }
          ],
          "carpet": [
           {
            "aaxis": {
             "endlinecolor": "#2a3f5f",
             "gridcolor": "white",
             "linecolor": "white",
             "minorgridcolor": "white",
             "startlinecolor": "#2a3f5f"
            },
            "baxis": {
             "endlinecolor": "#2a3f5f",
             "gridcolor": "white",
             "linecolor": "white",
             "minorgridcolor": "white",
             "startlinecolor": "#2a3f5f"
            },
            "type": "carpet"
           }
          ],
          "choropleth": [
           {
            "colorbar": {
             "outlinewidth": 0,
             "ticks": ""
            },
            "type": "choropleth"
           }
          ],
          "contour": [
           {
            "colorbar": {
             "outlinewidth": 0,
             "ticks": ""
            },
            "colorscale": [
             [
              0,
              "#0d0887"
             ],
             [
              0.1111111111111111,
              "#46039f"
             ],
             [
              0.2222222222222222,
              "#7201a8"
             ],
             [
              0.3333333333333333,
              "#9c179e"
             ],
             [
              0.4444444444444444,
              "#bd3786"
             ],
             [
              0.5555555555555556,
              "#d8576b"
             ],
             [
              0.6666666666666666,
              "#ed7953"
             ],
             [
              0.7777777777777778,
              "#fb9f3a"
             ],
             [
              0.8888888888888888,
              "#fdca26"
             ],
             [
              1,
              "#f0f921"
             ]
            ],
            "type": "contour"
           }
          ],
          "contourcarpet": [
           {
            "colorbar": {
             "outlinewidth": 0,
             "ticks": ""
            },
            "type": "contourcarpet"
           }
          ],
          "heatmap": [
           {
            "colorbar": {
             "outlinewidth": 0,
             "ticks": ""
            },
            "colorscale": [
             [
              0,
              "#0d0887"
             ],
             [
              0.1111111111111111,
              "#46039f"
             ],
             [
              0.2222222222222222,
              "#7201a8"
             ],
             [
              0.3333333333333333,
              "#9c179e"
             ],
             [
              0.4444444444444444,
              "#bd3786"
             ],
             [
              0.5555555555555556,
              "#d8576b"
             ],
             [
              0.6666666666666666,
              "#ed7953"
             ],
             [
              0.7777777777777778,
              "#fb9f3a"
             ],
             [
              0.8888888888888888,
              "#fdca26"
             ],
             [
              1,
              "#f0f921"
             ]
            ],
            "type": "heatmap"
           }
          ],
          "heatmapgl": [
           {
            "colorbar": {
             "outlinewidth": 0,
             "ticks": ""
            },
            "colorscale": [
             [
              0,
              "#0d0887"
             ],
             [
              0.1111111111111111,
              "#46039f"
             ],
             [
              0.2222222222222222,
              "#7201a8"
             ],
             [
              0.3333333333333333,
              "#9c179e"
             ],
             [
              0.4444444444444444,
              "#bd3786"
             ],
             [
              0.5555555555555556,
              "#d8576b"
             ],
             [
              0.6666666666666666,
              "#ed7953"
             ],
             [
              0.7777777777777778,
              "#fb9f3a"
             ],
             [
              0.8888888888888888,
              "#fdca26"
             ],
             [
              1,
              "#f0f921"
             ]
            ],
            "type": "heatmapgl"
           }
          ],
          "histogram": [
           {
            "marker": {
             "pattern": {
              "fillmode": "overlay",
              "size": 10,
              "solidity": 0.2
             }
            },
            "type": "histogram"
           }
          ],
          "histogram2d": [
           {
            "colorbar": {
             "outlinewidth": 0,
             "ticks": ""
            },
            "colorscale": [
             [
              0,
              "#0d0887"
             ],
             [
              0.1111111111111111,
              "#46039f"
             ],
             [
              0.2222222222222222,
              "#7201a8"
             ],
             [
              0.3333333333333333,
              "#9c179e"
             ],
             [
              0.4444444444444444,
              "#bd3786"
             ],
             [
              0.5555555555555556,
              "#d8576b"
             ],
             [
              0.6666666666666666,
              "#ed7953"
             ],
             [
              0.7777777777777778,
              "#fb9f3a"
             ],
             [
              0.8888888888888888,
              "#fdca26"
             ],
             [
              1,
              "#f0f921"
             ]
            ],
            "type": "histogram2d"
           }
          ],
          "histogram2dcontour": [
           {
            "colorbar": {
             "outlinewidth": 0,
             "ticks": ""
            },
            "colorscale": [
             [
              0,
              "#0d0887"
             ],
             [
              0.1111111111111111,
              "#46039f"
             ],
             [
              0.2222222222222222,
              "#7201a8"
             ],
             [
              0.3333333333333333,
              "#9c179e"
             ],
             [
              0.4444444444444444,
              "#bd3786"
             ],
             [
              0.5555555555555556,
              "#d8576b"
             ],
             [
              0.6666666666666666,
              "#ed7953"
             ],
             [
              0.7777777777777778,
              "#fb9f3a"
             ],
             [
              0.8888888888888888,
              "#fdca26"
             ],
             [
              1,
              "#f0f921"
             ]
            ],
            "type": "histogram2dcontour"
           }
          ],
          "mesh3d": [
           {
            "colorbar": {
             "outlinewidth": 0,
             "ticks": ""
            },
            "type": "mesh3d"
           }
          ],
          "parcoords": [
           {
            "line": {
             "colorbar": {
              "outlinewidth": 0,
              "ticks": ""
             }
            },
            "type": "parcoords"
           }
          ],
          "pie": [
           {
            "automargin": true,
            "type": "pie"
           }
          ],
          "scatter": [
           {
            "fillpattern": {
             "fillmode": "overlay",
             "size": 10,
             "solidity": 0.2
            },
            "type": "scatter"
           }
          ],
          "scatter3d": [
           {
            "line": {
             "colorbar": {
              "outlinewidth": 0,
              "ticks": ""
             }
            },
            "marker": {
             "colorbar": {
              "outlinewidth": 0,
              "ticks": ""
             }
            },
            "type": "scatter3d"
           }
          ],
          "scattercarpet": [
           {
            "marker": {
             "colorbar": {
              "outlinewidth": 0,
              "ticks": ""
             }
            },
            "type": "scattercarpet"
           }
          ],
          "scattergeo": [
           {
            "marker": {
             "colorbar": {
              "outlinewidth": 0,
              "ticks": ""
             }
            },
            "type": "scattergeo"
           }
          ],
          "scattergl": [
           {
            "marker": {
             "colorbar": {
              "outlinewidth": 0,
              "ticks": ""
             }
            },
            "type": "scattergl"
           }
          ],
          "scattermapbox": [
           {
            "marker": {
             "colorbar": {
              "outlinewidth": 0,
              "ticks": ""
             }
            },
            "type": "scattermapbox"
           }
          ],
          "scatterpolar": [
           {
            "marker": {
             "colorbar": {
              "outlinewidth": 0,
              "ticks": ""
             }
            },
            "type": "scatterpolar"
           }
          ],
          "scatterpolargl": [
           {
            "marker": {
             "colorbar": {
              "outlinewidth": 0,
              "ticks": ""
             }
            },
            "type": "scatterpolargl"
           }
          ],
          "scatterternary": [
           {
            "marker": {
             "colorbar": {
              "outlinewidth": 0,
              "ticks": ""
             }
            },
            "type": "scatterternary"
           }
          ],
          "surface": [
           {
            "colorbar": {
             "outlinewidth": 0,
             "ticks": ""
            },
            "colorscale": [
             [
              0,
              "#0d0887"
             ],
             [
              0.1111111111111111,
              "#46039f"
             ],
             [
              0.2222222222222222,
              "#7201a8"
             ],
             [
              0.3333333333333333,
              "#9c179e"
             ],
             [
              0.4444444444444444,
              "#bd3786"
             ],
             [
              0.5555555555555556,
              "#d8576b"
             ],
             [
              0.6666666666666666,
              "#ed7953"
             ],
             [
              0.7777777777777778,
              "#fb9f3a"
             ],
             [
              0.8888888888888888,
              "#fdca26"
             ],
             [
              1,
              "#f0f921"
             ]
            ],
            "type": "surface"
           }
          ],
          "table": [
           {
            "cells": {
             "fill": {
              "color": "#EBF0F8"
             },
             "line": {
              "color": "white"
             }
            },
            "header": {
             "fill": {
              "color": "#C8D4E3"
             },
             "line": {
              "color": "white"
             }
            },
            "type": "table"
           }
          ]
         },
         "layout": {
          "annotationdefaults": {
           "arrowcolor": "#2a3f5f",
           "arrowhead": 0,
           "arrowwidth": 1
          },
          "autotypenumbers": "strict",
          "coloraxis": {
           "colorbar": {
            "outlinewidth": 0,
            "ticks": ""
           }
          },
          "colorscale": {
           "diverging": [
            [
             0,
             "#8e0152"
            ],
            [
             0.1,
             "#c51b7d"
            ],
            [
             0.2,
             "#de77ae"
            ],
            [
             0.3,
             "#f1b6da"
            ],
            [
             0.4,
             "#fde0ef"
            ],
            [
             0.5,
             "#f7f7f7"
            ],
            [
             0.6,
             "#e6f5d0"
            ],
            [
             0.7,
             "#b8e186"
            ],
            [
             0.8,
             "#7fbc41"
            ],
            [
             0.9,
             "#4d9221"
            ],
            [
             1,
             "#276419"
            ]
           ],
           "sequential": [
            [
             0,
             "#0d0887"
            ],
            [
             0.1111111111111111,
             "#46039f"
            ],
            [
             0.2222222222222222,
             "#7201a8"
            ],
            [
             0.3333333333333333,
             "#9c179e"
            ],
            [
             0.4444444444444444,
             "#bd3786"
            ],
            [
             0.5555555555555556,
             "#d8576b"
            ],
            [
             0.6666666666666666,
             "#ed7953"
            ],
            [
             0.7777777777777778,
             "#fb9f3a"
            ],
            [
             0.8888888888888888,
             "#fdca26"
            ],
            [
             1,
             "#f0f921"
            ]
           ],
           "sequentialminus": [
            [
             0,
             "#0d0887"
            ],
            [
             0.1111111111111111,
             "#46039f"
            ],
            [
             0.2222222222222222,
             "#7201a8"
            ],
            [
             0.3333333333333333,
             "#9c179e"
            ],
            [
             0.4444444444444444,
             "#bd3786"
            ],
            [
             0.5555555555555556,
             "#d8576b"
            ],
            [
             0.6666666666666666,
             "#ed7953"
            ],
            [
             0.7777777777777778,
             "#fb9f3a"
            ],
            [
             0.8888888888888888,
             "#fdca26"
            ],
            [
             1,
             "#f0f921"
            ]
           ]
          },
          "colorway": [
           "#636efa",
           "#EF553B",
           "#00cc96",
           "#ab63fa",
           "#FFA15A",
           "#19d3f3",
           "#FF6692",
           "#B6E880",
           "#FF97FF",
           "#FECB52"
          ],
          "font": {
           "color": "#2a3f5f"
          },
          "geo": {
           "bgcolor": "white",
           "lakecolor": "white",
           "landcolor": "#E5ECF6",
           "showlakes": true,
           "showland": true,
           "subunitcolor": "white"
          },
          "hoverlabel": {
           "align": "left"
          },
          "hovermode": "closest",
          "mapbox": {
           "style": "light"
          },
          "paper_bgcolor": "white",
          "plot_bgcolor": "#E5ECF6",
          "polar": {
           "angularaxis": {
            "gridcolor": "white",
            "linecolor": "white",
            "ticks": ""
           },
           "bgcolor": "#E5ECF6",
           "radialaxis": {
            "gridcolor": "white",
            "linecolor": "white",
            "ticks": ""
           }
          },
          "scene": {
           "xaxis": {
            "backgroundcolor": "#E5ECF6",
            "gridcolor": "white",
            "gridwidth": 2,
            "linecolor": "white",
            "showbackground": true,
            "ticks": "",
            "zerolinecolor": "white"
           },
           "yaxis": {
            "backgroundcolor": "#E5ECF6",
            "gridcolor": "white",
            "gridwidth": 2,
            "linecolor": "white",
            "showbackground": true,
            "ticks": "",
            "zerolinecolor": "white"
           },
           "zaxis": {
            "backgroundcolor": "#E5ECF6",
            "gridcolor": "white",
            "gridwidth": 2,
            "linecolor": "white",
            "showbackground": true,
            "ticks": "",
            "zerolinecolor": "white"
           }
          },
          "shapedefaults": {
           "line": {
            "color": "#2a3f5f"
           }
          },
          "ternary": {
           "aaxis": {
            "gridcolor": "white",
            "linecolor": "white",
            "ticks": ""
           },
           "baxis": {
            "gridcolor": "white",
            "linecolor": "white",
            "ticks": ""
           },
           "bgcolor": "#E5ECF6",
           "caxis": {
            "gridcolor": "white",
            "linecolor": "white",
            "ticks": ""
           }
          },
          "title": {
           "x": 0.05
          },
          "xaxis": {
           "automargin": true,
           "gridcolor": "white",
           "linecolor": "white",
           "ticks": "",
           "title": {
            "standoff": 15
           },
           "zerolinecolor": "white",
           "zerolinewidth": 2
          },
          "yaxis": {
           "automargin": true,
           "gridcolor": "white",
           "linecolor": "white",
           "ticks": "",
           "title": {
            "standoff": 15
           },
           "zerolinecolor": "white",
           "zerolinewidth": 2
          }
         }
        },
        "title": {
         "text": "Gender Breakdown of MoMA Collection by Department"
        },
        "width": 1200
       }
      }
     },
     "metadata": {},
     "output_type": "display_data"
    }
   ],
   "source": [
    "specs = [[{'type':'domain'}, {'type':'domain'}, {'type':'domain'}, {'type':'domain'}], [{'type':'domain'}, {'type':'domain'}, {'type':'domain'}, {'type':'domain'}]]\n",
    "fig = make_subplots(rows=2, cols=4, specs=specs, subplot_titles=['Architecture & Design', 'Architecture & Design: Image Archive', 'Drawings & Print', 'Film', 'Fluxus Collection', 'Media & Performance', 'Painting & Sculpture', 'Photography'])\n",
    "fig.add_trace(go.Pie(values=moma_gender_rep_arch['Counts'], labels=moma_gender_rep_arch['Gender']\n",
    "                     ), 1, 1)\n",
    "fig.add_trace(go.Pie(values=moma_gender_rep_design['Counts'], labels=moma_gender_rep_design['Gender']\n",
    "                    ), 1, 2)\n",
    "fig.add_trace(go.Pie(values=moma_gender_rep_draw['Counts'], labels=moma_gender_rep_draw['Gender']\n",
    "                    ), 1, 3)\n",
    "fig.add_trace(go.Pie(values=moma_gender_rep_films['Counts'], labels=moma_gender_rep_films['Gender']\n",
    "                    ), 1, 4)\n",
    "fig.add_trace(go.Pie(values=moma_gender_rep_fluxus['Counts'], labels=moma_gender_rep_fluxus['Gender']\n",
    "                    ), 2, 1)\n",
    "fig.add_trace(go.Pie(values=moma_gender_rep_media['Counts'], labels=moma_gender_rep_media['Gender']\n",
    "                    ), 2, 2)\n",
    "fig.add_trace(go.Pie(values=moma_gender_rep_paint['Counts'], labels=moma_gender_rep_paint['Gender']\n",
    "                    ), 2, 3)\n",
    "fig.add_trace(go.Pie(values=moma_gender_rep_photo['Counts'], labels=moma_gender_rep_photo['Gender']\n",
    "                    ), 2, 4)\n",
    "fig.update_traces(textposition='inside', textinfo='label+value', hoverinfo='label+value+percent', hovertemplate=None)\n",
    "fig.update(layout_title_text='Gender Breakdown of MoMA Collection by Department',\n",
    "           layout_showlegend=False)\n",
    "\n",
    "fig = go.Figure(fig)\n",
    "fig.update_layout(height=600, width=1200)\n",
    "fig.show()"
   ]
  },
  {
   "cell_type": "code",
   "execution_count": 8,
   "metadata": {},
   "outputs": [],
   "source": [
    "moma_gender_rep_years = moma_artworks.copy()\n",
    "moma_gender_rep_years.loc[:,'DateAcquired'] = moma_gender_rep_years['DateAcquired'].where((moma_gender_rep_years['DateAcquired'].str.len() <= 4), moma_gender_rep_years['DateAcquired'].str[0:4])\n",
    "moma_gender_rep_years['DateAcquired'] = moma_gender_rep_years['DateAcquired'].replace('nan', 0)\n",
    "moma_gender_rep_years['DateAcquired'] = moma_gender_rep_years['DateAcquired'].fillna(0)\n",
    "moma_gender_rep_years['DateAcquired'] = moma_gender_rep_years['DateAcquired'].astype(int)\n",
    "moma_gender_rep_20s = moma_gender_rep_years[(moma_gender_rep_years['DateAcquired'] <= 1929) & (moma_gender_rep_years['DateAcquired'] != 0)]\n",
    "moma_gender_rep_20s = moma_gender_rep_20s['Gender'].value_counts().rename_axis('Gender').reset_index(name='Counts')\n",
    "moma_gender_rep_30s = moma_gender_rep_years[(moma_gender_rep_years['DateAcquired'] <= 1939) & (moma_gender_rep_years['DateAcquired'] >= 1930) & (moma_gender_rep_years['DateAcquired'] != 0)]\n",
    "moma_gender_rep_30s = moma_gender_rep_30s['Gender'].value_counts().rename_axis('Gender').reset_index(name='Counts')\n",
    "moma_gender_rep_40s = moma_gender_rep_years[(moma_gender_rep_years['DateAcquired'] <= 1949) & (moma_gender_rep_years['DateAcquired'] >= 1940) & (moma_gender_rep_years['DateAcquired'] != 0)]\n",
    "moma_gender_rep_40s = moma_gender_rep_40s['Gender'].value_counts().rename_axis('Gender').reset_index(name='Counts')\n",
    "moma_gender_rep_50s = moma_gender_rep_years[(moma_gender_rep_years['DateAcquired'] <= 1959) & (moma_gender_rep_years['DateAcquired'] >= 1950) & (moma_gender_rep_years['DateAcquired'] != 0)]\n",
    "moma_gender_rep_50s = moma_gender_rep_50s['Gender'].value_counts().rename_axis('Gender').reset_index(name='Counts')\n",
    "moma_gender_rep_60s = moma_gender_rep_years[(moma_gender_rep_years['DateAcquired'] <= 1969) & (moma_gender_rep_years['DateAcquired'] >= 1960) & (moma_gender_rep_years['DateAcquired'] != 0)]\n",
    "moma_gender_rep_60s = moma_gender_rep_60s['Gender'].value_counts().rename_axis('Gender').reset_index(name='Counts')\n",
    "moma_gender_rep_70s = moma_gender_rep_years[(moma_gender_rep_years['DateAcquired'] <= 1979) & (moma_gender_rep_years['DateAcquired'] >= 1970) & (moma_gender_rep_years['DateAcquired'] != 0)]\n",
    "moma_gender_rep_70s = moma_gender_rep_70s['Gender'].value_counts().rename_axis('Gender').reset_index(name='Counts')\n",
    "moma_gender_rep_80s = moma_gender_rep_years[(moma_gender_rep_years['DateAcquired'] <= 1989) & (moma_gender_rep_years['DateAcquired'] >= 1980) & (moma_gender_rep_years['DateAcquired'] != 0)]\n",
    "moma_gender_rep_80s = moma_gender_rep_80s['Gender'].value_counts().rename_axis('Gender').reset_index(name='Counts')\n",
    "moma_gender_rep_90s = moma_gender_rep_years[(moma_gender_rep_years['DateAcquired'] <= 1999) & (moma_gender_rep_years['DateAcquired'] >= 1990) & (moma_gender_rep_years['DateAcquired'] != 0)]\n",
    "moma_gender_rep_90s = moma_gender_rep_90s['Gender'].value_counts().rename_axis('Gender').reset_index(name='Counts')\n",
    "moma_gender_rep_00s = moma_gender_rep_years[(moma_gender_rep_years['DateAcquired'] <= 2009) & (moma_gender_rep_years['DateAcquired'] >= 2000) & (moma_gender_rep_years['DateAcquired'] != 0)]\n",
    "moma_gender_rep_00s = moma_gender_rep_00s['Gender'].value_counts().rename_axis('Gender').reset_index(name='Counts')\n",
    "moma_gender_rep_10s = moma_gender_rep_years[(moma_gender_rep_years['DateAcquired'] <= 2019) & (moma_gender_rep_years['DateAcquired'] >= 2010) & (moma_gender_rep_years['DateAcquired'] != 0)]\n",
    "moma_gender_rep_10s = moma_gender_rep_10s['Gender'].value_counts().rename_axis('Gender').reset_index(name='Counts')\n"
   ]
  },
  {
   "cell_type": "code",
   "execution_count": 9,
   "metadata": {},
   "outputs": [
    {
     "data": {
      "application/vnd.plotly.v1+json": {
       "config": {
        "plotlyServerURL": "https://plot.ly"
       },
       "data": [
        {
         "domain": {
          "x": [
           0,
           0.16799999999999998
          ],
          "y": [
           0.625,
           1
          ]
         },
         "hoverinfo": "label+value+percent",
         "labels": [
          "M"
         ],
         "textinfo": "label+value",
         "textposition": "inside",
         "type": "pie",
         "values": [
          9
         ]
        },
        {
         "domain": {
          "x": [
           0.208,
           0.376
          ],
          "y": [
           0.625,
           1
          ]
         },
         "hoverinfo": "label+value+percent",
         "labels": [
          "M",
          "missing",
          "F",
          "M, M",
          "missing, M, M",
          "missing, M",
          "M, M, F",
          "M, missing",
          "missing, M, M, M, M",
          "missing, M, M, F, M, M, M, M",
          "missing, F, M, M, F",
          "M, F, M"
         ],
         "textinfo": "label+value",
         "textposition": "inside",
         "type": "pie",
         "values": [
          1570,
          148,
          45,
          15,
          2,
          2,
          1,
          1,
          1,
          1,
          1,
          1
         ]
        },
        {
         "domain": {
          "x": [
           0.416,
           0.584
          ],
          "y": [
           0.625,
           1
          ]
         },
         "hoverinfo": "label+value+percent",
         "labels": [
          "M",
          "missing",
          "F",
          "M, M",
          "M, missing",
          "M, F",
          "F, M",
          "M, M, M",
          "M, M, F",
          "missing, missing",
          "M, M, M, M, M, M, M, missing",
          "missing, M, M",
          "M, M, F, M, M, M, M, M, M, F, missing",
          "M, M, M, M, M, M, M",
          "M, M, M, M, M, M, missing",
          "missing, M, M, M, M, M, M",
          "missing, M, F, M",
          "M, M, M, M, M, M, M, M, M, M, M, M, M, M, F, F, M, M, M, F, M, F, F, F, missing",
          "M, M, F, M, M, M, M, M, F, M, missing",
          "M, M, M, M, M, M, M, M, F, F, missing",
          "missing, M, M, M, M, M, M, M, F, M, F, M",
          "M, M, M, M, M, M, F, M, M, M, M, M, F, missing",
          "M, M, M, M, M, M, M, M, M, M, M, M, M, M, M, M, M, M, M, F, M, M, M, missing",
          "F, missing"
         ],
         "textinfo": "label+value",
         "textposition": "inside",
         "type": "pie",
         "values": [
          6177,
          916,
          546,
          122,
          12,
          8,
          8,
          3,
          3,
          2,
          2,
          2,
          1,
          1,
          1,
          1,
          1,
          1,
          1,
          1,
          1,
          1,
          1,
          1
         ]
        },
        {
         "domain": {
          "x": [
           0.624,
           0.792
          ],
          "y": [
           0.625,
           1
          ]
         },
         "hoverinfo": "label+value+percent",
         "labels": [
          "M",
          "F",
          "missing",
          "M, M",
          "F, M",
          "M, M, M, M, missing",
          "M, F",
          "M, M, M",
          "M, missing",
          "M, missing, M, M, missing",
          "M, M, missing, missing, missing",
          "M, M, M, M",
          "M, M, M, missing, missing",
          "missing, M",
          "F, F",
          "M, M, M, M, M, M, M, missing",
          "M, M, M, missing",
          "M, M, missing, M, missing",
          "M, missing, M, missing, M, missing",
          "M, F, M, M, missing, missing",
          "missing, M, M, M, M, M, M, M, M, M",
          "M, M, F, M, missing",
          "missing, missing, M, M, missing",
          "missing, M, M, M, M, M, M, M, M",
          "M, F, M, missing, missing",
          "missing, M, M, M, M, M, M, M, M, M, M, F, M, M, M, M, M, M",
          "M, missing, M, missing, missing",
          "missing, M, M, M, M",
          "M, M, M, F, M, M, M, M, M, missing",
          "F, M, M, M, M, M, M, M, M, F, M, M, M, M, M, M, missing",
          "missing, M, M, M",
          "missing, missing",
          "missing, missing, missing",
          "M, M, F",
          "F, missing",
          "F, M, M"
         ],
         "textinfo": "label+value",
         "textposition": "inside",
         "type": "pie",
         "values": [
          5691,
          341,
          242,
          39,
          8,
          8,
          8,
          6,
          5,
          3,
          3,
          3,
          2,
          2,
          2,
          2,
          2,
          2,
          1,
          1,
          1,
          1,
          1,
          1,
          1,
          1,
          1,
          1,
          1,
          1,
          1,
          1,
          1,
          1,
          1,
          1
         ]
        },
        {
         "domain": {
          "x": [
           0.832,
           1
          ],
          "y": [
           0.625,
           1
          ]
         },
         "hoverinfo": "label+value+percent",
         "labels": [
          "M",
          "F",
          "missing",
          "M, M",
          "M, missing",
          "M, M, M",
          "M, F",
          "F, M",
          "M, M, missing",
          "missing, M, M",
          "missing, F, M, missing",
          "M, M, M, M, M, M, M, M, M, M, M, missing",
          "F, M, M",
          "M, M, M, missing",
          "missing, M, M, M, M",
          "missing, M, M, M, F, M, M, M, M, M, M, M, M, M, F, M, M",
          "F, missing",
          "M, missing, M, M, M, M, M, M, M, M, M, F, M, M, missing",
          "M, M, M, F, M, M, M, M, M, M, F, M, M, M, M, M, M, M, M, M, missing",
          "M, M, missing, M, M, M, M, M, M, M, M, missing",
          "missing, M, M, F, M, M, M, M, M, M, M",
          "missing, M, M, M, M, M, M, M, M, M, M, M, F, M, M, F, M, M, M, M, M, M, M, M, M, M, M, M",
          "M, M, M, M, M, M, M, M, M, F, M, M, M, M, M, M, M, F, M, F, M, M, M, M, M, missing",
          "M, M, M, M, M, M, M, M, F, M, M, M, M, M, M, M, missing",
          "missing, M, F, M, M",
          "M, missing, missing, missing, M, missing",
          "missing, M, M, M, M, M, M, M",
          "missing, M, M, M, M, M, M, M, M, M, M",
          "M, F, M, M, M, M, M, M, M, M, missing",
          "missing, M, M, M, M, M, F, M, M, M, M, M",
          "missing, M, M, M, M, M, M, M, F, M, M",
          "missing, M, M, M, M, M, M, M, M",
          "missing, F, F, M, M, M, M",
          "missing, M, M, M, M, M, F, M, M, M, M",
          "missing, M, F, M, M, M",
          "missing, M, M, M, M, M, M, M, M, F",
          "missing, F, M, M, M, M, M, M, M, M, M",
          "missing, M, M, M, M, M",
          "missing, M",
          "M, M, M, M, M, M, missing",
          "M, M, M, M, M, M, M, M, M, M, M, M, M, M, M, M, M, M, F, M, M, missing",
          "M, M, M, M, M, M, M, M, missing",
          "M, M, M, M, M, M, M, M, M, M, M, F, F, M, M, M, M, M, M, M, missing",
          "M, M, F",
          "M, M, M, M, M, missing",
          "missing, missing",
          "M, M, M, M",
          "missing, F, M, M, M, M",
          "F, F",
          "F, M, M, M, M, M, F, M, F, F, M, M, F, M, M, M, M, F, M, M, F, F, M, M, M, M, M, F, F, missing",
          "M, M, M, M, M, M, M, M, M, M, missing",
          "missing, M, M, M, M, M, M, M, M, F, M, M, M, M, M",
          "missing, M, M, M",
          "M, M, M, M, M, M, M, missing",
          "M, M, M, M, M, F, M, F, M, M, missing",
          "M, M, M, M, M, M, M, F, M, M, M, M, M, M, M, missing",
          "M, missing, M, M, M, M, M, M, missing",
          "M, M, M, M, F, M, M, M, M, M, M, M, M, M, M, M, M, M, M, M, missing",
          "F, M, M, M, M, missing",
          "M, M, M, M, F, M, M, F, M, M, M, M, M, M, M, M, M, M, M, M, missing",
          "M, M, missing, M",
          "M, M, M, M, F, M, M, M, M, M, M, M, M, M, M, M, missing, M, M, missing",
          "M, F, M, M, M, M, M, M, F, M, M, M, M, M, M, M, M, missing",
          "M, M, M, M, missing, M, M, M, M, M, M, M, M, M, M, M, M, missing",
          "M, F, M, M, M, M, M, M, M, M, M, M, M, M, M, M, M, M, M, M, missing",
          "F, M, missing",
          "M, M, M, M, F, M, M, missing",
          "M, missing, M"
         ],
         "textinfo": "label+value",
         "textposition": "inside",
         "type": "pie",
         "values": [
          29139,
          1057,
          180,
          133,
          54,
          35,
          19,
          17,
          6,
          3,
          3,
          2,
          2,
          2,
          1,
          1,
          1,
          1,
          1,
          1,
          1,
          1,
          1,
          1,
          1,
          1,
          1,
          1,
          1,
          1,
          1,
          1,
          1,
          1,
          1,
          1,
          1,
          1,
          1,
          1,
          1,
          1,
          1,
          1,
          1,
          1,
          1,
          1,
          1,
          1,
          1,
          1,
          1,
          1,
          1,
          1,
          1,
          1,
          1,
          1,
          1,
          1,
          1,
          1,
          1,
          1,
          1,
          1
         ]
        },
        {
         "domain": {
          "x": [
           0,
           0.16799999999999998
          ],
          "y": [
           0,
           0.375
          ]
         },
         "hoverinfo": "label+value+percent",
         "labels": [
          "M",
          "F",
          "missing",
          "M, M",
          "M, F, missing",
          "M, F",
          "M, M, M",
          "F, M",
          "M, missing",
          "F, missing",
          "missing, missing",
          "F, F",
          "missing, M",
          "M, M, M, M, M, M, missing",
          "M, M, M, M, M, M, M, missing",
          "M, M, missing",
          "missing, M, M, M, M, M",
          "M, M, M, M, M, F, M, M, M, F, M, F, missing",
          "missing, F, M, M, F, F, M, M, M, M, M, M, M",
          "M, F, M, M, M, M, M, M, F, M, F, missing",
          "M, M, M, F, F, M, M, F, M, M, M, missing",
          "M, F, M, M, M, M, M, M, M, missing, M, missing",
          "M, M, M, M, M, M, M, M, M, F, M, missing",
          "M, M, missing, M, M, M, M, F, M, M, M, F, M, missing",
          "M, F, F, M, M, M, F, M, F, M, M, F, F, M, M, M, M, M, M, M, M, M, M, M, M, M, M, M, M, missing",
          "missing, M, M, M, M, M, M, M, M, M, M, M, M",
          "M, F, F, M, M, M, M, M, M, M, missing",
          "M, M, M, M, M, M, F, M, M, M, missing",
          "F, M, M, M, M, M, M, M, M, M, M, M, M, M, M, M, F, M, M, M, M, M, M, M, M, M, M, M, M, missing",
          "M, M, M, M, M, M, M, M, M, M, M, M, missing",
          "missing, M, M, M, M, M, M, M, M, M, M",
          "missing, M, M, M, M, M, F, M, M, M, M, M, M, M, M, M, M, F, M, M, M, F",
          "missing, F, M, F, M, M, M, M",
          "missing, M, M",
          "missing, M, M, M, F, F, M, M, M, M, M, M, M, M",
          "missing, M, M, M, M, M, M, M",
          "missing, F, F, M, F, M",
          "missing, M, M, M, M, M, M",
          "missing, M, F",
          "missing, F, M, M, M",
          "M, M, M, M, M, M, M, F, M, M, M, missing",
          "M, F, M, M, M, F, missing",
          "missing, M, M, M, M, M, M, M, M, M, M, M, M, M",
          "M, M, M, M, M, M, M, M, M, M, M, M, M, missing",
          "M, M, M, M, M",
          "missing, M, F, F, M"
         ],
         "textinfo": "label+value",
         "textposition": "inside",
         "type": "pie",
         "values": [
          10952,
          1482,
          506,
          120,
          28,
          22,
          13,
          10,
          9,
          4,
          4,
          4,
          4,
          2,
          2,
          2,
          1,
          1,
          1,
          1,
          1,
          1,
          1,
          1,
          1,
          1,
          1,
          1,
          1,
          1,
          1,
          1,
          1,
          1,
          1,
          1,
          1,
          1,
          1,
          1,
          1,
          1,
          1,
          1,
          1,
          1
         ]
        },
        {
         "domain": {
          "x": [
           0.208,
           0.376
          ],
          "y": [
           0,
           0.375
          ]
         },
         "hoverinfo": "label+value+percent",
         "labels": [
          "M",
          "F",
          "missing",
          "M, M",
          "missing, missing",
          "M, missing",
          "M, F",
          "F, M",
          "missing, M",
          "M, M, M",
          "missing, M, M",
          "missing, M, M, F",
          "missing, M, M, F, F, M",
          "M, M, F",
          "F, M, M",
          "M, M, F, missing",
          "missing, F, M, M",
          "F, F",
          "M, M, M, M, M, M, M, M, M, M, M, M, M, M, M, M, M, M, M, missing",
          "F, M, M, M, M, M, M, M, M, M, M, M, F, M, M, M, M, missing",
          "F, F, M",
          "missing, F, M",
          "M, M, M, M, M",
          "M, missing, M, M, M, M, M, M, M, M, F, missing",
          "missing, missing, M, M, M, missing, missing, missing",
          "missing, M, F, M, M, M, F, F, M, M, M, M, F, M, F, F, M, F, F, M, M, F, M, F, F, M, F, M, F, F, F, F, M, M, M, M, M, F, M, missing, M, F, M, M, F, M, M",
          "M, M, M, M, M, M, M, M, missing",
          "missing, F, M, F, M, F, M, M, M, M, M, M, F, M, F, M, M",
          "missing, M, M, M, M, M, M",
          "missing, M, F",
          "M, M, M, M, M, M, M, M, M, missing",
          "M, F, M, M, M, M, M, missing",
          "F, F, M, M, M, missing",
          "missing, F",
          "M, M, M, M, M, M",
          "M, M, M, M, F, missing",
          "missing, M, F, F",
          "M, M, M, M, M, M, M, M, M, M, M, missing, M, M, M, M, M, M, M, M, M, M, M, M, M, M, M, M, M, missing",
          "missing, M, M, M",
          "M, M, missing",
          "missing, F, M, missing, M",
          "missing, M, M, missing, missing, M, M, M, M, M, M, M, M, M, M, M, M, M, M, missing",
          "missing, M, F, M, M, M, M, missing, M, M, F, M, M, F, M, missing, M, F, M, F, M, M, M, M, M, F, M, M, M, M, M",
          "missing, M, M, M, M, M, M, M, M, M, M",
          "M, M, M, M, M, M, M, M, M, F, M, M, missing",
          "M, F, M"
         ],
         "textinfo": "label+value",
         "textposition": "inside",
         "type": "pie",
         "values": [
          8180,
          1032,
          387,
          278,
          72,
          60,
          53,
          27,
          25,
          20,
          6,
          4,
          3,
          3,
          2,
          2,
          2,
          2,
          1,
          1,
          1,
          1,
          1,
          1,
          1,
          1,
          1,
          1,
          1,
          1,
          1,
          1,
          1,
          1,
          1,
          1,
          1,
          1,
          1,
          1,
          1,
          1,
          1,
          1,
          1,
          1
         ]
        },
        {
         "domain": {
          "x": [
           0.416,
           0.584
          ],
          "y": [
           0,
           0.375
          ]
         },
         "hoverinfo": "label+value+percent",
         "labels": [
          "M",
          "F",
          "missing",
          "M, missing",
          "M, M",
          "M, F",
          "M, M, M",
          "F, M",
          "missing, M, M",
          "M, M, F, F",
          "missing, M",
          "M, missing, missing",
          "F, F, M, F, M, M, M, missing",
          "missing, F, M, M, F, M",
          "M, M, F, M, missing",
          "M, M, M, missing",
          "M, M, missing",
          "missing, M, M, M",
          "M, M, M, M, M, M, missing",
          "M, M, M, M, M",
          "M, F, M, M, missing",
          "missing, M, M, M, M",
          "missing, F, M, M",
          "F, missing",
          "missing, F, M",
          "F, M, M, M, missing",
          "M, M, M, M, missing",
          "missing, M, M, M, M, M",
          "missing, M, F",
          "missing, missing",
          "M, F, M, missing",
          "M, F, M",
          "M, M, M, M, F, M, missing",
          "M, F, missing",
          "M, F, F, M, M, missing",
          "missing, M, M, M, M, M, M",
          "M, M, F",
          "F, F, M, M, F, missing",
          "M, M, M, missing, M, missing",
          "M, M, M, M, M, M, M, M, M, missing",
          "missing, M, M, F, M, M, M, F, M",
          "missing, F, M, M, M, F, F, F",
          "missing, F, F, F",
          "F, M, M, F, missing",
          "M, missing, F, M, M, M, M",
          "M, M, M, F",
          "F, M, M, M, M, M, M, M, M, M, M, missing",
          "M, M, M, M, F, missing",
          "F, M, missing",
          "F, M, M, M, M, M, F, M, M, F, M, missing",
          "M, M, F, missing",
          "F, F, F, M, M, missing",
          "M, missing, M, M, missing",
          "F, M, M, F, F, missing",
          "M, M, M, F, M, F, missing",
          "F, F, M, M, missing",
          "missing, missing, missing, missing, missing, missing, missing, M, M, M, M, M, M, F, F, M",
          "missing, F",
          "M, F, M, M, M, M, F, F, M, M, M, M, F, M, M, F, M, M, M, M, M, M, M, M, M, M, M, F, missing",
          "M, F, M, M",
          "M, F, M, F",
          "missing, M, M, M, F, M",
          "M, M, M, M, M, F, M, M, M, M, M, F, M, M, M, missing",
          "F, M, missing, M, M, M, M, M, missing",
          "M, M, F, M, M, M, missing",
          "F, F, M, missing",
          "M, F, F",
          "F, F, F, M",
          "F, F, M",
          "M, M, M, M, M, missing",
          "M, M, M, M",
          "M, F, F, M",
          "missing, M, M, M, F, F, M, F, M, M, M, F, M, F, M, F, M, M, M",
          "M, missing, M, F, M, M, M, M, F",
          "missing, M, M, M, M, M, M, M",
          "M, M, M, M, F, M, M, M, M, M",
          "M, M, M, M, F, M",
          "M, M, missing, missing",
          "M, M, F, M, M, M, M, M",
          "missing, missing, F, missing, missing",
          "missing, M, M, M, missing",
          "missing, M, M, M, M, M, missing",
          "M, M, missing, M, missing",
          "M, M, M, M, F, F, F, missing",
          "F, F"
         ],
         "textinfo": "label+value",
         "textposition": "inside",
         "type": "pie",
         "values": [
          7800,
          2610,
          453,
          143,
          107,
          81,
          29,
          26,
          19,
          19,
          13,
          13,
          10,
          10,
          7,
          7,
          7,
          6,
          6,
          5,
          4,
          4,
          4,
          4,
          3,
          3,
          3,
          3,
          3,
          3,
          3,
          3,
          2,
          2,
          2,
          2,
          2,
          1,
          1,
          1,
          1,
          1,
          1,
          1,
          1,
          1,
          1,
          1,
          1,
          1,
          1,
          1,
          1,
          1,
          1,
          1,
          1,
          1,
          1,
          1,
          1,
          1,
          1,
          1,
          1,
          1,
          1,
          1,
          1,
          1,
          1,
          1,
          1,
          1,
          1,
          1,
          1,
          1,
          1,
          1,
          1,
          1,
          1,
          1,
          1
         ]
        },
        {
         "domain": {
          "x": [
           0.624,
           0.792
          ],
          "y": [
           0,
           0.375
          ]
         },
         "hoverinfo": "label+value+percent",
         "labels": [
          "M",
          "F",
          "missing",
          "M, M",
          "M, F",
          "M, missing",
          "M, M, M",
          "F, M",
          "missing, F, M, M, M",
          "missing, M, F",
          "missing, M, M, M, F, M, missing, M, missing, missing, M, M, M, F, M, missing, missing, M, missing, missing",
          "F, F",
          "missing, M",
          "missing, M, M, M",
          "missing, missing",
          "M, F, F",
          "missing, M, M",
          "M, M, missing",
          "M, missing, missing",
          "missing, missing, missing",
          "M, M, M, M, M, M, F, M",
          "M, F, M",
          "missing, F, M",
          "M, M, M, M, missing, F, M, M, M, M",
          "F, missing",
          "M, missing, M",
          "M, F, missing",
          "F, M, missing",
          "missing, M, F, M, M, F",
          "NB",
          "M, missing, missing, missing",
          "missing, M, M, M, M, M",
          "F, M, M",
          "missing, F",
          "M, missing, F",
          "missing, M, missing",
          "missing, M, F, F, missing, M, M, M, missing, missing, missing, missing, missing, missing, missing, missing, missing",
          "F, M, M, F, missing, missing",
          "M, M, M, M",
          "missing, M, M, missing",
          "missing, missing, M",
          "M, M, F",
          "F, missing, missing",
          "M, M, M, M, M",
          "missing, M, M, M, M",
          "M, M, M, missing",
          "missing, M, missing, missing, F, M",
          "missing, M, F, missing",
          "missing, M, M, M, M, M, M",
          "missing, F, F",
          "missing, missing, missing, missing",
          "M, M, F, M, M, M, M",
          "M, M, M, M, M, F",
          "M, M, F, M, missing",
          "missing, missing, missing, missing, missing",
          "M, F, F, M, missing",
          "F, M, M, M, M, missing",
          "M, F, M, missing",
          "M, M, missing, missing",
          "M, F, M, M, M, missing, M, M, M",
          "F, M, F",
          "M, M, M, M, M, M",
          "missing, M, M, F",
          "missing, F, M, M, F, M",
          "missing, M, F, M, M, missing, missing",
          "F, M, M, M, missing",
          "M, M, missing, missing, M",
          "missing, M, F, M, F, M",
          "F, M, M, missing",
          "missing, M, F, M, M, M, M, F, M, M, F",
          "M, missing, M, M, F, missing",
          "missing, M, M, missing, F, M",
          "M, missing, F, M, missing, missing",
          "M, M, M, missing, F, missing",
          "M, M, F, M, M, missing",
          "missing, F, M, M, M, M, F, M, M",
          "M, F, M, M, M, M, M, F, F, F, M, missing",
          "F, missing, M",
          "F, M, M, F, M, missing",
          "missing, M, M, M, M, M, M, M, M, M, F",
          "missing, F, F, F, F, M",
          "F, M, F, M, M, missing, missing",
          "M, M, M, F, M, M, M, F, M, F, M, M, M, M, missing",
          "M, F, M, F, missing",
          "missing, M, F, missing, M, M",
          "missing, M, NB, F, F, F",
          "M, M, F, M, missing, missing",
          "M, M, M, M, M, F, F, M, M, M, M",
          "missing, missing, missing, missing, M, missing, missing",
          "F, missing, M, M, M, M, M, missing, M, M, M, F",
          "missing, M, M, M, missing, F, missing, missing, missing",
          "F, M, F, M, missing",
          "F, F, M, F, missing",
          "missing, M, F, M, M, M, F, F, F, M",
          "M, F, M, F, M, missing",
          "M, M, M, F, M, missing",
          "missing, F, F, M, M",
          "M, F, M, M, missing",
          "M, F, M, M, M, missing",
          "M, F, missing, M",
          "missing, M, M, M, M, missing, M, F, M, M, F, M, M, M, M, M, M, M, F, M, M, M, M",
          "missing, missing, M, M",
          "missing, missing, F, M, M, missing",
          "M, M, F, M",
          "F, M, missing, M, missing",
          "missing, missing, missing, missing, missing, missing",
          "M, F, missing, missing",
          "M, M, F, M, M, M, M, F, M, M, missing, M, M, M, missing",
          "F, F, F, missing",
          "missing, F, M, M, M, M, missing, M, missing, missing",
          "M, missing, missing, missing, missing, missing, M, missing, missing, missing",
          "F, F, M, M, F, missing",
          "M, M, F, M, M, F, missing, M, missing, M, M, M, M, missing",
          "M, F, M, F",
          "M, F, M, M, M",
          "M, M, M, M, F",
          "M, M, missing, M, M",
          "M, M, M, M, M, M, M, M",
          "M, M, M, M, M, F, F, missing",
          "missing, M, F, F",
          "M, M, M, missing, M, M, F",
          "M, M, M, F, M, M",
          "missing, missing, missing, M, missing, F",
          "M, missing, M, M",
          "missing, missing, missing, M",
          "M, M, missing, M, M, M, M",
          "missing, M, missing, missing, missing",
          "M, missing, M, M, F, M, M, missing, M, M, missing, missing",
          "M, M, missing, missing, F, M",
          "missing, F, F, F, M, M, M, F, F, missing, M, M, F, M",
          "M, M, M, M, M, M, missing, missing, M, M",
          "missing, missing, M, missing, M, M",
          "missing, M, missing, missing",
          "missing, M, M, M, F",
          "missing, F, F, M, F, M",
          "missing, M, M, F, M",
          "missing, M, M, M, M, F",
          "missing, M, M, M, M, M, F, F",
          "missing, M, M, F, F, M",
          "M, M, F, F, F, M",
          "missing, M, M, F, M, M, M, M, M, M, M, M",
          "F, missing, M, missing",
          "missing, M, M, M, M, M, M, M, missing, missing, M, F, M, F, M, M, M, M, M, F, M, M",
          "missing, M, M, M, M, M, missing, missing, M, missing, M, F, M, M, M, M, M, M, M, F, M, M, M, M, M, missing, M",
          "missing, M, M, missing, M, M, M",
          "missing, missing, F, missing, M, M, missing, M, M, F, M, M, missing, missing, missing, M, M, missing, M, M, M, M, M, M, missing",
          "missing, M, M, missing, M, M, M, missing, M, missing, missing, M, M, missing",
          "missing, M, M, M, M, missing, M, M, missing, M, missing, M, missing, M, missing, M, M, missing",
          "M, M, M, missing, missing",
          "missing, M, missing, M, missing, M, M",
          "missing, M, M, M, F, M, M, M, M, missing, M, M",
          "missing, M, M, M, F, M",
          "M, missing, M, M, M, M, M",
          "missing, M, M, M, M, F, M, M, M, M, M, M, missing, M, M, M, M",
          "M, F, M, M",
          "missing, M, missing, M, M, M, F",
          "missing, M, M, missing, M, M, M, M, F, F, M, M, M, M",
          "missing, M, M, M, M, F, M, M, F, M, M, M",
          "missing, M, M, M, M, F, M, M, M, M, M, M, missing, M, M",
          "missing, M, M, missing, M, M, F, M, F, M, M, M, F, M, M, M, M",
          "M, missing, M, M, M, M",
          "M, M, M, F",
          "M, M, M, M, M, M, M, M, M, F, M",
          "missing, M, M, missing, M, F, missing, M, M, M, F, F, M, M, M, F, M, M, F, M, M, M, M",
          "missing, M, M, M, missing",
          "F, missing, F, M",
          "missing, M, M, M, M, M, M, M, M, M, M, M, M, M, M, M, M, M, M, M",
          "M, F, M, M, M, F, M"
         ],
         "textinfo": "label+value",
         "textposition": "inside",
         "type": "pie",
         "values": [
          15804,
          4619,
          2451,
          524,
          270,
          198,
          131,
          101,
          86,
          77,
          50,
          36,
          36,
          34,
          31,
          27,
          20,
          20,
          18,
          18,
          17,
          16,
          14,
          14,
          14,
          12,
          10,
          9,
          8,
          8,
          7,
          7,
          7,
          7,
          7,
          6,
          6,
          5,
          5,
          5,
          4,
          4,
          4,
          4,
          4,
          3,
          3,
          2,
          2,
          2,
          2,
          2,
          2,
          2,
          2,
          2,
          2,
          2,
          2,
          2,
          2,
          2,
          2,
          2,
          2,
          2,
          2,
          1,
          1,
          1,
          1,
          1,
          1,
          1,
          1,
          1,
          1,
          1,
          1,
          1,
          1,
          1,
          1,
          1,
          1,
          1,
          1,
          1,
          1,
          1,
          1,
          1,
          1,
          1,
          1,
          1,
          1,
          1,
          1,
          1,
          1,
          1,
          1,
          1,
          1,
          1,
          1,
          1,
          1,
          1,
          1,
          1,
          1,
          1,
          1,
          1,
          1,
          1,
          1,
          1,
          1,
          1,
          1,
          1,
          1,
          1,
          1,
          1,
          1,
          1,
          1,
          1,
          1,
          1,
          1,
          1,
          1,
          1,
          1,
          1,
          1,
          1,
          1,
          1,
          1,
          1,
          1,
          1,
          1,
          1,
          1,
          1,
          1,
          1,
          1,
          1,
          1,
          1,
          1,
          1,
          1,
          1,
          1,
          1,
          1,
          1,
          1,
          1
         ]
        },
        {
         "domain": {
          "x": [
           0.832,
           1
          ],
          "y": [
           0,
           0.375
          ]
         },
         "hoverinfo": "label+value+percent",
         "labels": [
          "M",
          "F",
          "missing",
          "M, M, M",
          "M, M",
          "M, missing",
          "F, M",
          "M, F",
          "F, F",
          "missing, M",
          "F, M, M",
          "F, M, M, F, M, M",
          "F, M, F, M, M, M, M",
          "missing, M, M",
          "F, M, F, M, M, M",
          "missing, missing",
          "M, M, M, M",
          "M, M, missing",
          "missing, M, F",
          "F, missing, missing",
          "M, M, F",
          "M, F, M, M",
          "F, M, M, M, M, missing",
          "F, missing",
          "missing, M, F, missing",
          "M, F, M",
          "missing, M, M, M, M, M",
          "F, M, F, M, M",
          "M, F, missing",
          "F, F, M, F, M",
          "missing, F, F",
          "M, missing, missing",
          "missing, M, M, M, M",
          "missing, M, F, M, M",
          "M, missing, M",
          "M, M, M, missing",
          "missing, missing, missing",
          "missing, missing, F, F, F, F",
          "M, M, F, F",
          "M, M, M, M, missing",
          "missing, M, M, M, M, M, M",
          "missing, M, M, M",
          "missing, M, M, missing",
          "missing, F",
          "missing, F, M",
          "missing, missing, M",
          "M, F, missing, M",
          "M, missing, missing, missing",
          "missing, F, M, M, M",
          "NB",
          "missing, F, M, M",
          "M, missing, M, missing",
          "M, missing, F",
          "missing, M, M, F",
          "missing, M, missing",
          "F, M, F",
          "missing, missing, missing, missing, missing, missing, missing, missing, missing, missing, missing, missing, missing, M",
          "M, F, M, missing",
          "missing, missing, missing, missing, missing, missing, missing, M",
          "M, missing, F, M",
          "missing, M, F, M, M, M",
          "F, F, F",
          "missing, missing, missing, missing, missing, missing, missing, missing, missing, M",
          "missing, F, M, F, M, M, F, M",
          "M, M, M, M, M",
          "missing, missing, M, M, M",
          "missing, M, F, M",
          "missing, M, F, M, M, M, M, M",
          "M, F, M, F",
          "F, F, M",
          "F, M, M, missing, M, M, M, missing, F, M, missing, missing, F, M, M",
          "F, M, M, M",
          "M, M, M, M, M, M, M, missing",
          "missing, missing, F, missing, missing, M, F, missing, M, missing, M, missing",
          "missing, F, F, M, F, F, F, F, M, M, F, M",
          "F, M, missing, missing",
          "M, missing, missing, missing, M",
          "M, missing, missing, missing, missing",
          "missing, missing, M, M, M, M",
          "M, M, M, M, M, M, M, M, M, F, missing, F, M, M, M, M, M, M, missing",
          "missing, missing, M, M, M, M, missing, missing, missing, missing, missing, missing",
          "M, M, M, M, M, missing, M, M, M, M, M, M, M, M, M, M, M, M, M, M",
          "missing, missing, M, missing",
          "M, M, M, F",
          "missing, M, M, F, F",
          "M, M, M, F, missing",
          "F, M, M, M, M, F, missing, M",
          "missing, M, missing, missing, M, missing, M, missing, M, F, missing, M, missing, F, missing, missing, F, M",
          "M, M, missing, missing, M, missing, missing, missing",
          "M, missing, M, M, M, M, missing",
          "M, M, M, M, missing, missing, missing",
          "missing, missing, missing, missing, missing, missing, M",
          "missing, M, M, M, M, F, M, F, M",
          "M, missing, M, missing, M, missing, missing, missing",
          "missing, M, M, M, missing, missing, missing, missing, missing",
          "missing, missing, missing, missing, missing, missing, missing, missing, missing, missing, missing, missing, missing, missing, missing, missing, missing, missing, missing, missing, missing, M",
          "missing, M, F, F, F, M, F, missing, M, M, F",
          "M, M, M, M, M, missing",
          "missing, F, M, F",
          "missing, F, missing, missing",
          "F, missing, missing, missing",
          "missing, M, M, M, F",
          "missing, F, F, M, M, M, M, M, M, F, M, M, M, missing, M, M, M, F, M, M, M, F",
          "missing, F, M, M, F",
          "missing, F, M, F, F, F, M, M, M, F",
          "missing, missing, missing, missing, missing, missing, missing, missing, missing, missing, missing, missing, missing, missing, missing, M",
          "missing, M, M, F, M",
          "missing, missing, M, F, F, M, F",
          "missing, M, missing, M, missing, M, F, M, M, M",
          "missing, F, M, F, M, F, M",
          "missing, M, M, F, M, M, F",
          "missing, missing, M, M",
          "M, missing, missing, M",
          "missing, M, missing, missing, M",
          "M, missing, F, M, M, M, missing, M, M, missing, missing",
          "M, missing, M, M, missing, missing",
          "M, M, M, missing, M, M",
          "M, missing, M, M, M",
          "M, missing, M, missing, F",
          "M, missing, M, F",
          "F, missing, M, F, M, F, M",
          "M, M, F, missing, M, missing",
          "M, missing, missing, M, M, M, missing",
          "M, missing, M, M, F, M",
          "M, M, M, M, F, M, F",
          "M, M, F, M, M",
          "M, M, missing, M, missing",
          "M, missing, M, M, missing",
          "M, missing, M, M, F, missing",
          "M, M, missing, F",
          "M, F, missing, M, missing",
          "missing, missing, missing, M",
          "F, M, missing",
          "M, missing, M, missing, M",
          "missing, M, missing, M, missing, M, missing, missing",
          "missing, F, F, F, F, F, F, F, F, F, F, F, F, F, F, F, F, F, F, F, F",
          "missing, M, M, missing, M, F, F",
          "missing, F, M, M, F, F, M",
          "missing, F, F, missing, M",
          "M, M, M, M, M, M, M, M, M, M, M, M, M, M, M, F, M",
          "missing, F, M, F, M, M, M, M",
          "missing, M, F, M, F, M",
          "M, F, F, F",
          "M, M, M, F, missing, M",
          "missing, F, F, M, M, M",
          "M, missing, missing, M, missing",
          "missing, F, M, M, M, M, missing",
          "missing, M, M, M, missing, M, M, M, M",
          "missing, F, M, M, F, M, M, F, M, M, M",
          "missing, M, M, M, M, F, M, M, M, M, M, M, M, M, M, M, F",
          "missing, M, M, M, M, M, M, M, M, M, M, M, F, M",
          "missing, M, M, missing, M, M, M, F",
          "F, F, missing",
          "missing, missing, missing, missing, missing",
          "F, missing, M",
          "F, missing, M, M, M, M",
          "missing, M, M, F, F, F, F"
         ],
         "textinfo": "label+value",
         "textposition": "inside",
         "type": "pie",
         "values": [
          14097,
          4863,
          2405,
          636,
          392,
          329,
          282,
          128,
          124,
          124,
          98,
          68,
          62,
          46,
          41,
          32,
          29,
          29,
          25,
          19,
          16,
          16,
          16,
          16,
          15,
          15,
          14,
          13,
          12,
          11,
          11,
          11,
          10,
          9,
          9,
          8,
          7,
          6,
          6,
          5,
          5,
          5,
          5,
          5,
          5,
          5,
          4,
          4,
          3,
          3,
          3,
          3,
          3,
          3,
          3,
          2,
          2,
          2,
          2,
          2,
          2,
          2,
          2,
          2,
          2,
          2,
          2,
          2,
          2,
          2,
          1,
          1,
          1,
          1,
          1,
          1,
          1,
          1,
          1,
          1,
          1,
          1,
          1,
          1,
          1,
          1,
          1,
          1,
          1,
          1,
          1,
          1,
          1,
          1,
          1,
          1,
          1,
          1,
          1,
          1,
          1,
          1,
          1,
          1,
          1,
          1,
          1,
          1,
          1,
          1,
          1,
          1,
          1,
          1,
          1,
          1,
          1,
          1,
          1,
          1,
          1,
          1,
          1,
          1,
          1,
          1,
          1,
          1,
          1,
          1,
          1,
          1,
          1,
          1,
          1,
          1,
          1,
          1,
          1,
          1,
          1,
          1,
          1,
          1,
          1,
          1,
          1,
          1,
          1,
          1,
          1,
          1,
          1,
          1,
          1,
          1,
          1
         ]
        }
       ],
       "layout": {
        "annotations": [
         {
          "font": {
           "size": 16
          },
          "showarrow": false,
          "text": "1920s",
          "x": 0.08399999999999999,
          "xanchor": "center",
          "xref": "paper",
          "y": 1,
          "yanchor": "bottom",
          "yref": "paper"
         },
         {
          "font": {
           "size": 16
          },
          "showarrow": false,
          "text": "1930s",
          "x": 0.292,
          "xanchor": "center",
          "xref": "paper",
          "y": 1,
          "yanchor": "bottom",
          "yref": "paper"
         },
         {
          "font": {
           "size": 16
          },
          "showarrow": false,
          "text": "1940s",
          "x": 0.5,
          "xanchor": "center",
          "xref": "paper",
          "y": 1,
          "yanchor": "bottom",
          "yref": "paper"
         },
         {
          "font": {
           "size": 16
          },
          "showarrow": false,
          "text": "1950s",
          "x": 0.708,
          "xanchor": "center",
          "xref": "paper",
          "y": 1,
          "yanchor": "bottom",
          "yref": "paper"
         },
         {
          "font": {
           "size": 16
          },
          "showarrow": false,
          "text": "1960s",
          "x": 0.9159999999999999,
          "xanchor": "center",
          "xref": "paper",
          "y": 1,
          "yanchor": "bottom",
          "yref": "paper"
         },
         {
          "font": {
           "size": 16
          },
          "showarrow": false,
          "text": "1970s",
          "x": 0.08399999999999999,
          "xanchor": "center",
          "xref": "paper",
          "y": 0.375,
          "yanchor": "bottom",
          "yref": "paper"
         },
         {
          "font": {
           "size": 16
          },
          "showarrow": false,
          "text": "1980s",
          "x": 0.292,
          "xanchor": "center",
          "xref": "paper",
          "y": 0.375,
          "yanchor": "bottom",
          "yref": "paper"
         },
         {
          "font": {
           "size": 16
          },
          "showarrow": false,
          "text": "1990s",
          "x": 0.5,
          "xanchor": "center",
          "xref": "paper",
          "y": 0.375,
          "yanchor": "bottom",
          "yref": "paper"
         },
         {
          "font": {
           "size": 16
          },
          "showarrow": false,
          "text": "2000s",
          "x": 0.708,
          "xanchor": "center",
          "xref": "paper",
          "y": 0.375,
          "yanchor": "bottom",
          "yref": "paper"
         },
         {
          "font": {
           "size": 16
          },
          "showarrow": false,
          "text": "2010s",
          "x": 0.9159999999999999,
          "xanchor": "center",
          "xref": "paper",
          "y": 0.375,
          "yanchor": "bottom",
          "yref": "paper"
         }
        ],
        "height": 600,
        "showlegend": false,
        "template": {
         "data": {
          "bar": [
           {
            "error_x": {
             "color": "#2a3f5f"
            },
            "error_y": {
             "color": "#2a3f5f"
            },
            "marker": {
             "line": {
              "color": "#E5ECF6",
              "width": 0.5
             },
             "pattern": {
              "fillmode": "overlay",
              "size": 10,
              "solidity": 0.2
             }
            },
            "type": "bar"
           }
          ],
          "barpolar": [
           {
            "marker": {
             "line": {
              "color": "#E5ECF6",
              "width": 0.5
             },
             "pattern": {
              "fillmode": "overlay",
              "size": 10,
              "solidity": 0.2
             }
            },
            "type": "barpolar"
           }
          ],
          "carpet": [
           {
            "aaxis": {
             "endlinecolor": "#2a3f5f",
             "gridcolor": "white",
             "linecolor": "white",
             "minorgridcolor": "white",
             "startlinecolor": "#2a3f5f"
            },
            "baxis": {
             "endlinecolor": "#2a3f5f",
             "gridcolor": "white",
             "linecolor": "white",
             "minorgridcolor": "white",
             "startlinecolor": "#2a3f5f"
            },
            "type": "carpet"
           }
          ],
          "choropleth": [
           {
            "colorbar": {
             "outlinewidth": 0,
             "ticks": ""
            },
            "type": "choropleth"
           }
          ],
          "contour": [
           {
            "colorbar": {
             "outlinewidth": 0,
             "ticks": ""
            },
            "colorscale": [
             [
              0,
              "#0d0887"
             ],
             [
              0.1111111111111111,
              "#46039f"
             ],
             [
              0.2222222222222222,
              "#7201a8"
             ],
             [
              0.3333333333333333,
              "#9c179e"
             ],
             [
              0.4444444444444444,
              "#bd3786"
             ],
             [
              0.5555555555555556,
              "#d8576b"
             ],
             [
              0.6666666666666666,
              "#ed7953"
             ],
             [
              0.7777777777777778,
              "#fb9f3a"
             ],
             [
              0.8888888888888888,
              "#fdca26"
             ],
             [
              1,
              "#f0f921"
             ]
            ],
            "type": "contour"
           }
          ],
          "contourcarpet": [
           {
            "colorbar": {
             "outlinewidth": 0,
             "ticks": ""
            },
            "type": "contourcarpet"
           }
          ],
          "heatmap": [
           {
            "colorbar": {
             "outlinewidth": 0,
             "ticks": ""
            },
            "colorscale": [
             [
              0,
              "#0d0887"
             ],
             [
              0.1111111111111111,
              "#46039f"
             ],
             [
              0.2222222222222222,
              "#7201a8"
             ],
             [
              0.3333333333333333,
              "#9c179e"
             ],
             [
              0.4444444444444444,
              "#bd3786"
             ],
             [
              0.5555555555555556,
              "#d8576b"
             ],
             [
              0.6666666666666666,
              "#ed7953"
             ],
             [
              0.7777777777777778,
              "#fb9f3a"
             ],
             [
              0.8888888888888888,
              "#fdca26"
             ],
             [
              1,
              "#f0f921"
             ]
            ],
            "type": "heatmap"
           }
          ],
          "heatmapgl": [
           {
            "colorbar": {
             "outlinewidth": 0,
             "ticks": ""
            },
            "colorscale": [
             [
              0,
              "#0d0887"
             ],
             [
              0.1111111111111111,
              "#46039f"
             ],
             [
              0.2222222222222222,
              "#7201a8"
             ],
             [
              0.3333333333333333,
              "#9c179e"
             ],
             [
              0.4444444444444444,
              "#bd3786"
             ],
             [
              0.5555555555555556,
              "#d8576b"
             ],
             [
              0.6666666666666666,
              "#ed7953"
             ],
             [
              0.7777777777777778,
              "#fb9f3a"
             ],
             [
              0.8888888888888888,
              "#fdca26"
             ],
             [
              1,
              "#f0f921"
             ]
            ],
            "type": "heatmapgl"
           }
          ],
          "histogram": [
           {
            "marker": {
             "pattern": {
              "fillmode": "overlay",
              "size": 10,
              "solidity": 0.2
             }
            },
            "type": "histogram"
           }
          ],
          "histogram2d": [
           {
            "colorbar": {
             "outlinewidth": 0,
             "ticks": ""
            },
            "colorscale": [
             [
              0,
              "#0d0887"
             ],
             [
              0.1111111111111111,
              "#46039f"
             ],
             [
              0.2222222222222222,
              "#7201a8"
             ],
             [
              0.3333333333333333,
              "#9c179e"
             ],
             [
              0.4444444444444444,
              "#bd3786"
             ],
             [
              0.5555555555555556,
              "#d8576b"
             ],
             [
              0.6666666666666666,
              "#ed7953"
             ],
             [
              0.7777777777777778,
              "#fb9f3a"
             ],
             [
              0.8888888888888888,
              "#fdca26"
             ],
             [
              1,
              "#f0f921"
             ]
            ],
            "type": "histogram2d"
           }
          ],
          "histogram2dcontour": [
           {
            "colorbar": {
             "outlinewidth": 0,
             "ticks": ""
            },
            "colorscale": [
             [
              0,
              "#0d0887"
             ],
             [
              0.1111111111111111,
              "#46039f"
             ],
             [
              0.2222222222222222,
              "#7201a8"
             ],
             [
              0.3333333333333333,
              "#9c179e"
             ],
             [
              0.4444444444444444,
              "#bd3786"
             ],
             [
              0.5555555555555556,
              "#d8576b"
             ],
             [
              0.6666666666666666,
              "#ed7953"
             ],
             [
              0.7777777777777778,
              "#fb9f3a"
             ],
             [
              0.8888888888888888,
              "#fdca26"
             ],
             [
              1,
              "#f0f921"
             ]
            ],
            "type": "histogram2dcontour"
           }
          ],
          "mesh3d": [
           {
            "colorbar": {
             "outlinewidth": 0,
             "ticks": ""
            },
            "type": "mesh3d"
           }
          ],
          "parcoords": [
           {
            "line": {
             "colorbar": {
              "outlinewidth": 0,
              "ticks": ""
             }
            },
            "type": "parcoords"
           }
          ],
          "pie": [
           {
            "automargin": true,
            "type": "pie"
           }
          ],
          "scatter": [
           {
            "fillpattern": {
             "fillmode": "overlay",
             "size": 10,
             "solidity": 0.2
            },
            "type": "scatter"
           }
          ],
          "scatter3d": [
           {
            "line": {
             "colorbar": {
              "outlinewidth": 0,
              "ticks": ""
             }
            },
            "marker": {
             "colorbar": {
              "outlinewidth": 0,
              "ticks": ""
             }
            },
            "type": "scatter3d"
           }
          ],
          "scattercarpet": [
           {
            "marker": {
             "colorbar": {
              "outlinewidth": 0,
              "ticks": ""
             }
            },
            "type": "scattercarpet"
           }
          ],
          "scattergeo": [
           {
            "marker": {
             "colorbar": {
              "outlinewidth": 0,
              "ticks": ""
             }
            },
            "type": "scattergeo"
           }
          ],
          "scattergl": [
           {
            "marker": {
             "colorbar": {
              "outlinewidth": 0,
              "ticks": ""
             }
            },
            "type": "scattergl"
           }
          ],
          "scattermapbox": [
           {
            "marker": {
             "colorbar": {
              "outlinewidth": 0,
              "ticks": ""
             }
            },
            "type": "scattermapbox"
           }
          ],
          "scatterpolar": [
           {
            "marker": {
             "colorbar": {
              "outlinewidth": 0,
              "ticks": ""
             }
            },
            "type": "scatterpolar"
           }
          ],
          "scatterpolargl": [
           {
            "marker": {
             "colorbar": {
              "outlinewidth": 0,
              "ticks": ""
             }
            },
            "type": "scatterpolargl"
           }
          ],
          "scatterternary": [
           {
            "marker": {
             "colorbar": {
              "outlinewidth": 0,
              "ticks": ""
             }
            },
            "type": "scatterternary"
           }
          ],
          "surface": [
           {
            "colorbar": {
             "outlinewidth": 0,
             "ticks": ""
            },
            "colorscale": [
             [
              0,
              "#0d0887"
             ],
             [
              0.1111111111111111,
              "#46039f"
             ],
             [
              0.2222222222222222,
              "#7201a8"
             ],
             [
              0.3333333333333333,
              "#9c179e"
             ],
             [
              0.4444444444444444,
              "#bd3786"
             ],
             [
              0.5555555555555556,
              "#d8576b"
             ],
             [
              0.6666666666666666,
              "#ed7953"
             ],
             [
              0.7777777777777778,
              "#fb9f3a"
             ],
             [
              0.8888888888888888,
              "#fdca26"
             ],
             [
              1,
              "#f0f921"
             ]
            ],
            "type": "surface"
           }
          ],
          "table": [
           {
            "cells": {
             "fill": {
              "color": "#EBF0F8"
             },
             "line": {
              "color": "white"
             }
            },
            "header": {
             "fill": {
              "color": "#C8D4E3"
             },
             "line": {
              "color": "white"
             }
            },
            "type": "table"
           }
          ]
         },
         "layout": {
          "annotationdefaults": {
           "arrowcolor": "#2a3f5f",
           "arrowhead": 0,
           "arrowwidth": 1
          },
          "autotypenumbers": "strict",
          "coloraxis": {
           "colorbar": {
            "outlinewidth": 0,
            "ticks": ""
           }
          },
          "colorscale": {
           "diverging": [
            [
             0,
             "#8e0152"
            ],
            [
             0.1,
             "#c51b7d"
            ],
            [
             0.2,
             "#de77ae"
            ],
            [
             0.3,
             "#f1b6da"
            ],
            [
             0.4,
             "#fde0ef"
            ],
            [
             0.5,
             "#f7f7f7"
            ],
            [
             0.6,
             "#e6f5d0"
            ],
            [
             0.7,
             "#b8e186"
            ],
            [
             0.8,
             "#7fbc41"
            ],
            [
             0.9,
             "#4d9221"
            ],
            [
             1,
             "#276419"
            ]
           ],
           "sequential": [
            [
             0,
             "#0d0887"
            ],
            [
             0.1111111111111111,
             "#46039f"
            ],
            [
             0.2222222222222222,
             "#7201a8"
            ],
            [
             0.3333333333333333,
             "#9c179e"
            ],
            [
             0.4444444444444444,
             "#bd3786"
            ],
            [
             0.5555555555555556,
             "#d8576b"
            ],
            [
             0.6666666666666666,
             "#ed7953"
            ],
            [
             0.7777777777777778,
             "#fb9f3a"
            ],
            [
             0.8888888888888888,
             "#fdca26"
            ],
            [
             1,
             "#f0f921"
            ]
           ],
           "sequentialminus": [
            [
             0,
             "#0d0887"
            ],
            [
             0.1111111111111111,
             "#46039f"
            ],
            [
             0.2222222222222222,
             "#7201a8"
            ],
            [
             0.3333333333333333,
             "#9c179e"
            ],
            [
             0.4444444444444444,
             "#bd3786"
            ],
            [
             0.5555555555555556,
             "#d8576b"
            ],
            [
             0.6666666666666666,
             "#ed7953"
            ],
            [
             0.7777777777777778,
             "#fb9f3a"
            ],
            [
             0.8888888888888888,
             "#fdca26"
            ],
            [
             1,
             "#f0f921"
            ]
           ]
          },
          "colorway": [
           "#636efa",
           "#EF553B",
           "#00cc96",
           "#ab63fa",
           "#FFA15A",
           "#19d3f3",
           "#FF6692",
           "#B6E880",
           "#FF97FF",
           "#FECB52"
          ],
          "font": {
           "color": "#2a3f5f"
          },
          "geo": {
           "bgcolor": "white",
           "lakecolor": "white",
           "landcolor": "#E5ECF6",
           "showlakes": true,
           "showland": true,
           "subunitcolor": "white"
          },
          "hoverlabel": {
           "align": "left"
          },
          "hovermode": "closest",
          "mapbox": {
           "style": "light"
          },
          "paper_bgcolor": "white",
          "plot_bgcolor": "#E5ECF6",
          "polar": {
           "angularaxis": {
            "gridcolor": "white",
            "linecolor": "white",
            "ticks": ""
           },
           "bgcolor": "#E5ECF6",
           "radialaxis": {
            "gridcolor": "white",
            "linecolor": "white",
            "ticks": ""
           }
          },
          "scene": {
           "xaxis": {
            "backgroundcolor": "#E5ECF6",
            "gridcolor": "white",
            "gridwidth": 2,
            "linecolor": "white",
            "showbackground": true,
            "ticks": "",
            "zerolinecolor": "white"
           },
           "yaxis": {
            "backgroundcolor": "#E5ECF6",
            "gridcolor": "white",
            "gridwidth": 2,
            "linecolor": "white",
            "showbackground": true,
            "ticks": "",
            "zerolinecolor": "white"
           },
           "zaxis": {
            "backgroundcolor": "#E5ECF6",
            "gridcolor": "white",
            "gridwidth": 2,
            "linecolor": "white",
            "showbackground": true,
            "ticks": "",
            "zerolinecolor": "white"
           }
          },
          "shapedefaults": {
           "line": {
            "color": "#2a3f5f"
           }
          },
          "ternary": {
           "aaxis": {
            "gridcolor": "white",
            "linecolor": "white",
            "ticks": ""
           },
           "baxis": {
            "gridcolor": "white",
            "linecolor": "white",
            "ticks": ""
           },
           "bgcolor": "#E5ECF6",
           "caxis": {
            "gridcolor": "white",
            "linecolor": "white",
            "ticks": ""
           }
          },
          "title": {
           "x": 0.05
          },
          "xaxis": {
           "automargin": true,
           "gridcolor": "white",
           "linecolor": "white",
           "ticks": "",
           "title": {
            "standoff": 15
           },
           "zerolinecolor": "white",
           "zerolinewidth": 2
          },
          "yaxis": {
           "automargin": true,
           "gridcolor": "white",
           "linecolor": "white",
           "ticks": "",
           "title": {
            "standoff": 15
           },
           "zerolinecolor": "white",
           "zerolinewidth": 2
          }
         }
        },
        "title": {
         "text": "Gender Breakdown of MoMA Collection by Decade of Acquisition"
        },
        "width": 1200
       }
      }
     },
     "metadata": {},
     "output_type": "display_data"
    }
   ],
   "source": [
    "specs = [[{'type':'domain'}, {'type':'domain'}, {'type':'domain'}, {'type':'domain'}, {'type':'domain'}], [{'type':'domain'}, {'type':'domain'}, {'type':'domain'}, {'type':'domain'}, {'type':'domain'}]]\n",
    "fig = make_subplots(rows=2, cols=5, specs=specs, subplot_titles=['1920s', '1930s', '1940s', '1950s', '1960s', '1970s', '1980s', '1990s', '2000s', '2010s'])\n",
    "fig.add_trace(go.Pie(values=moma_gender_rep_20s['Counts'], labels=moma_gender_rep_20s['Gender']\n",
    "                     ), 1, 1)\n",
    "fig.add_trace(go.Pie(values=moma_gender_rep_30s['Counts'], labels=moma_gender_rep_30s['Gender']\n",
    "                    ), 1, 2)\n",
    "fig.add_trace(go.Pie(values=moma_gender_rep_40s['Counts'], labels=moma_gender_rep_40s['Gender']\n",
    "                    ), 1, 3)\n",
    "fig.add_trace(go.Pie(values=moma_gender_rep_50s['Counts'], labels=moma_gender_rep_50s['Gender']\n",
    "                    ), 1, 4)\n",
    "fig.add_trace(go.Pie(values=moma_gender_rep_60s['Counts'], labels=moma_gender_rep_60s['Gender']\n",
    "                    ), 1, 5)\n",
    "fig.add_trace(go.Pie(values=moma_gender_rep_70s['Counts'], labels=moma_gender_rep_70s['Gender']\n",
    "                    ), 2, 1)\n",
    "fig.add_trace(go.Pie(values=moma_gender_rep_80s['Counts'], labels=moma_gender_rep_80s['Gender']\n",
    "                    ), 2, 2)\n",
    "fig.add_trace(go.Pie(values=moma_gender_rep_90s['Counts'], labels=moma_gender_rep_90s['Gender']\n",
    "                    ), 2, 3)\n",
    "fig.add_trace(go.Pie(values=moma_gender_rep_00s['Counts'], labels=moma_gender_rep_00s['Gender']\n",
    "                    ), 2, 4)\n",
    "fig.add_trace(go.Pie(values=moma_gender_rep_10s['Counts'], labels=moma_gender_rep_10s['Gender']\n",
    "                    ), 2, 5)\n",
    "fig.update_traces(textposition='inside', textinfo='label+value', hoverinfo='label+value+percent', hovertemplate=None)\n",
    "fig.update(layout_title_text='Gender Breakdown of MoMA Collection by Decade of Acquisition',\n",
    "           layout_showlegend=False)\n",
    "\n",
    "fig = go.Figure(fig)\n",
    "fig.update_layout(height=600, width=1200)\n",
    "fig.show()"
   ]
  },
  {
   "cell_type": "markdown",
   "metadata": {},
   "source": [
    "**RHIZOME GENDER LINE PLOTS**"
   ]
  },
  {
   "cell_type": "code",
   "execution_count": 10,
   "metadata": {},
   "outputs": [],
   "source": [
    "#RHIZOME\n",
    "#filter dataset by cat value\n",
    "rhz_male_artworks_acquired = rhz_artworks.loc[rhz_artworks['Gender'] == 'M']\n",
    "#count cat values based on time column\n",
    "rhz_male_artworks_acquired = rhz_male_artworks_acquired['dateAcquired'].value_counts().rename_axis('Date Acquired').reset_index(name='Male Artists')\n",
    "rhz_female_artworks_acquired = rhz_artworks.loc[rhz_artworks['Gender'] == 'F']\n",
    "rhz_female_artworks_acquired = rhz_female_artworks_acquired['dateAcquired'].value_counts().rename_axis('Date Acquired').reset_index(name='Female Artists') \n",
    "#combine the two based on date \n",
    "rhz_gender_artworks_acquired = pd.merge(rhz_male_artworks_acquired, rhz_female_artworks_acquired, left_on='Date Acquired', right_on='Date Acquired')\n",
    "#drop values w/ no date\n",
    "rhz_gender_artworks_acquired = rhz_gender_artworks_acquired.loc[rhz_gender_artworks_acquired['Date Acquired'] != '0']\n",
    "#arrange by date \n",
    "rhz_gender_artworks_acquired = rhz_gender_artworks_acquired.sort_values(by='Date Acquired').reset_index(drop=True)\n",
    "\n",
    "#SAME BUT WITH CREATION\n",
    "#filter dataset by cat value\n",
    "rhz_male_artworks_created = rhz_artworks.loc[rhz_artworks['Gender'] == 'M']\n",
    "#count cat values based on time column\n",
    "rhz_male_artworks_created = rhz_male_artworks_created['dateCreated'].value_counts().rename_axis('Date Created').reset_index(name='Male Artists')\n",
    "rhz_female_artworks_created = rhz_artworks.loc[rhz_artworks['Gender'] == 'F']\n",
    "rhz_female_artworks_created = rhz_female_artworks_created['dateCreated'].value_counts().rename_axis('Date Created').reset_index(name='Female Artists') \n",
    "#combine the two based on date \n",
    "rhz_gender_artworks_created = pd.merge(rhz_male_artworks_created, rhz_female_artworks_created, left_on='Date Created', right_on='Date Created')\n",
    "#drop values w/ no date\n",
    "rhz_gender_artworks_created = rhz_gender_artworks_created.loc[rhz_gender_artworks_created['Date Created'] != '0']\n",
    "#arrange by date \n",
    "rhz_gender_artworks_created = rhz_gender_artworks_created.sort_values(by='Date Created').reset_index(drop=True)\n"
   ]
  },
  {
   "cell_type": "code",
   "execution_count": 11,
   "metadata": {},
   "outputs": [
    {
     "data": {
      "application/vnd.plotly.v1+json": {
       "config": {
        "plotlyServerURL": "https://plot.ly"
       },
       "data": [
        {
         "legendgroup": "Male Artists",
         "line": {
          "color": "#456987",
          "dash": "solid"
         },
         "marker": {
          "symbol": "circle"
         },
         "mode": "lines+markers",
         "name": "Male Artists",
         "orientation": "v",
         "showlegend": true,
         "type": "scatter",
         "x": [
          "2000",
          "2001",
          "2002",
          "2003",
          "2004",
          "2005",
          "2006",
          "2007",
          "2008",
          "2009",
          "2010",
          "2011",
          "2012",
          "2013",
          "2015",
          "2021"
         ],
         "xaxis": "x",
         "y": [
          4,
          163,
          165,
          103,
          167,
          173,
          146,
          180,
          91,
          61,
          19,
          30,
          52,
          9,
          1,
          7
         ],
         "yaxis": "y"
        },
        {
         "legendgroup": "Female Artists",
         "line": {
          "color": "#147852",
          "dash": "solid"
         },
         "marker": {
          "symbol": "circle"
         },
         "mode": "lines+markers",
         "name": "Female Artists",
         "orientation": "v",
         "showlegend": true,
         "type": "scatter",
         "x": [
          "2000",
          "2001",
          "2002",
          "2003",
          "2004",
          "2005",
          "2006",
          "2007",
          "2008",
          "2009",
          "2010",
          "2011",
          "2012",
          "2013",
          "2015",
          "2021"
         ],
         "xaxis": "x",
         "y": [
          4,
          70,
          72,
          24,
          76,
          63,
          55,
          84,
          31,
          7,
          1,
          13,
          11,
          1,
          4,
          7
         ],
         "yaxis": "y"
        }
       ],
       "layout": {
        "hovermode": "x unified",
        "legend": {
         "title": {
          "text": "Gender"
         },
         "tracegroupgap": 0
        },
        "template": {
         "data": {
          "bar": [
           {
            "error_x": {
             "color": "#2a3f5f"
            },
            "error_y": {
             "color": "#2a3f5f"
            },
            "marker": {
             "line": {
              "color": "#E5ECF6",
              "width": 0.5
             },
             "pattern": {
              "fillmode": "overlay",
              "size": 10,
              "solidity": 0.2
             }
            },
            "type": "bar"
           }
          ],
          "barpolar": [
           {
            "marker": {
             "line": {
              "color": "#E5ECF6",
              "width": 0.5
             },
             "pattern": {
              "fillmode": "overlay",
              "size": 10,
              "solidity": 0.2
             }
            },
            "type": "barpolar"
           }
          ],
          "carpet": [
           {
            "aaxis": {
             "endlinecolor": "#2a3f5f",
             "gridcolor": "white",
             "linecolor": "white",
             "minorgridcolor": "white",
             "startlinecolor": "#2a3f5f"
            },
            "baxis": {
             "endlinecolor": "#2a3f5f",
             "gridcolor": "white",
             "linecolor": "white",
             "minorgridcolor": "white",
             "startlinecolor": "#2a3f5f"
            },
            "type": "carpet"
           }
          ],
          "choropleth": [
           {
            "colorbar": {
             "outlinewidth": 0,
             "ticks": ""
            },
            "type": "choropleth"
           }
          ],
          "contour": [
           {
            "colorbar": {
             "outlinewidth": 0,
             "ticks": ""
            },
            "colorscale": [
             [
              0,
              "#0d0887"
             ],
             [
              0.1111111111111111,
              "#46039f"
             ],
             [
              0.2222222222222222,
              "#7201a8"
             ],
             [
              0.3333333333333333,
              "#9c179e"
             ],
             [
              0.4444444444444444,
              "#bd3786"
             ],
             [
              0.5555555555555556,
              "#d8576b"
             ],
             [
              0.6666666666666666,
              "#ed7953"
             ],
             [
              0.7777777777777778,
              "#fb9f3a"
             ],
             [
              0.8888888888888888,
              "#fdca26"
             ],
             [
              1,
              "#f0f921"
             ]
            ],
            "type": "contour"
           }
          ],
          "contourcarpet": [
           {
            "colorbar": {
             "outlinewidth": 0,
             "ticks": ""
            },
            "type": "contourcarpet"
           }
          ],
          "heatmap": [
           {
            "colorbar": {
             "outlinewidth": 0,
             "ticks": ""
            },
            "colorscale": [
             [
              0,
              "#0d0887"
             ],
             [
              0.1111111111111111,
              "#46039f"
             ],
             [
              0.2222222222222222,
              "#7201a8"
             ],
             [
              0.3333333333333333,
              "#9c179e"
             ],
             [
              0.4444444444444444,
              "#bd3786"
             ],
             [
              0.5555555555555556,
              "#d8576b"
             ],
             [
              0.6666666666666666,
              "#ed7953"
             ],
             [
              0.7777777777777778,
              "#fb9f3a"
             ],
             [
              0.8888888888888888,
              "#fdca26"
             ],
             [
              1,
              "#f0f921"
             ]
            ],
            "type": "heatmap"
           }
          ],
          "heatmapgl": [
           {
            "colorbar": {
             "outlinewidth": 0,
             "ticks": ""
            },
            "colorscale": [
             [
              0,
              "#0d0887"
             ],
             [
              0.1111111111111111,
              "#46039f"
             ],
             [
              0.2222222222222222,
              "#7201a8"
             ],
             [
              0.3333333333333333,
              "#9c179e"
             ],
             [
              0.4444444444444444,
              "#bd3786"
             ],
             [
              0.5555555555555556,
              "#d8576b"
             ],
             [
              0.6666666666666666,
              "#ed7953"
             ],
             [
              0.7777777777777778,
              "#fb9f3a"
             ],
             [
              0.8888888888888888,
              "#fdca26"
             ],
             [
              1,
              "#f0f921"
             ]
            ],
            "type": "heatmapgl"
           }
          ],
          "histogram": [
           {
            "marker": {
             "pattern": {
              "fillmode": "overlay",
              "size": 10,
              "solidity": 0.2
             }
            },
            "type": "histogram"
           }
          ],
          "histogram2d": [
           {
            "colorbar": {
             "outlinewidth": 0,
             "ticks": ""
            },
            "colorscale": [
             [
              0,
              "#0d0887"
             ],
             [
              0.1111111111111111,
              "#46039f"
             ],
             [
              0.2222222222222222,
              "#7201a8"
             ],
             [
              0.3333333333333333,
              "#9c179e"
             ],
             [
              0.4444444444444444,
              "#bd3786"
             ],
             [
              0.5555555555555556,
              "#d8576b"
             ],
             [
              0.6666666666666666,
              "#ed7953"
             ],
             [
              0.7777777777777778,
              "#fb9f3a"
             ],
             [
              0.8888888888888888,
              "#fdca26"
             ],
             [
              1,
              "#f0f921"
             ]
            ],
            "type": "histogram2d"
           }
          ],
          "histogram2dcontour": [
           {
            "colorbar": {
             "outlinewidth": 0,
             "ticks": ""
            },
            "colorscale": [
             [
              0,
              "#0d0887"
             ],
             [
              0.1111111111111111,
              "#46039f"
             ],
             [
              0.2222222222222222,
              "#7201a8"
             ],
             [
              0.3333333333333333,
              "#9c179e"
             ],
             [
              0.4444444444444444,
              "#bd3786"
             ],
             [
              0.5555555555555556,
              "#d8576b"
             ],
             [
              0.6666666666666666,
              "#ed7953"
             ],
             [
              0.7777777777777778,
              "#fb9f3a"
             ],
             [
              0.8888888888888888,
              "#fdca26"
             ],
             [
              1,
              "#f0f921"
             ]
            ],
            "type": "histogram2dcontour"
           }
          ],
          "mesh3d": [
           {
            "colorbar": {
             "outlinewidth": 0,
             "ticks": ""
            },
            "type": "mesh3d"
           }
          ],
          "parcoords": [
           {
            "line": {
             "colorbar": {
              "outlinewidth": 0,
              "ticks": ""
             }
            },
            "type": "parcoords"
           }
          ],
          "pie": [
           {
            "automargin": true,
            "type": "pie"
           }
          ],
          "scatter": [
           {
            "fillpattern": {
             "fillmode": "overlay",
             "size": 10,
             "solidity": 0.2
            },
            "type": "scatter"
           }
          ],
          "scatter3d": [
           {
            "line": {
             "colorbar": {
              "outlinewidth": 0,
              "ticks": ""
             }
            },
            "marker": {
             "colorbar": {
              "outlinewidth": 0,
              "ticks": ""
             }
            },
            "type": "scatter3d"
           }
          ],
          "scattercarpet": [
           {
            "marker": {
             "colorbar": {
              "outlinewidth": 0,
              "ticks": ""
             }
            },
            "type": "scattercarpet"
           }
          ],
          "scattergeo": [
           {
            "marker": {
             "colorbar": {
              "outlinewidth": 0,
              "ticks": ""
             }
            },
            "type": "scattergeo"
           }
          ],
          "scattergl": [
           {
            "marker": {
             "colorbar": {
              "outlinewidth": 0,
              "ticks": ""
             }
            },
            "type": "scattergl"
           }
          ],
          "scattermapbox": [
           {
            "marker": {
             "colorbar": {
              "outlinewidth": 0,
              "ticks": ""
             }
            },
            "type": "scattermapbox"
           }
          ],
          "scatterpolar": [
           {
            "marker": {
             "colorbar": {
              "outlinewidth": 0,
              "ticks": ""
             }
            },
            "type": "scatterpolar"
           }
          ],
          "scatterpolargl": [
           {
            "marker": {
             "colorbar": {
              "outlinewidth": 0,
              "ticks": ""
             }
            },
            "type": "scatterpolargl"
           }
          ],
          "scatterternary": [
           {
            "marker": {
             "colorbar": {
              "outlinewidth": 0,
              "ticks": ""
             }
            },
            "type": "scatterternary"
           }
          ],
          "surface": [
           {
            "colorbar": {
             "outlinewidth": 0,
             "ticks": ""
            },
            "colorscale": [
             [
              0,
              "#0d0887"
             ],
             [
              0.1111111111111111,
              "#46039f"
             ],
             [
              0.2222222222222222,
              "#7201a8"
             ],
             [
              0.3333333333333333,
              "#9c179e"
             ],
             [
              0.4444444444444444,
              "#bd3786"
             ],
             [
              0.5555555555555556,
              "#d8576b"
             ],
             [
              0.6666666666666666,
              "#ed7953"
             ],
             [
              0.7777777777777778,
              "#fb9f3a"
             ],
             [
              0.8888888888888888,
              "#fdca26"
             ],
             [
              1,
              "#f0f921"
             ]
            ],
            "type": "surface"
           }
          ],
          "table": [
           {
            "cells": {
             "fill": {
              "color": "#EBF0F8"
             },
             "line": {
              "color": "white"
             }
            },
            "header": {
             "fill": {
              "color": "#C8D4E3"
             },
             "line": {
              "color": "white"
             }
            },
            "type": "table"
           }
          ]
         },
         "layout": {
          "annotationdefaults": {
           "arrowcolor": "#2a3f5f",
           "arrowhead": 0,
           "arrowwidth": 1
          },
          "autotypenumbers": "strict",
          "coloraxis": {
           "colorbar": {
            "outlinewidth": 0,
            "ticks": ""
           }
          },
          "colorscale": {
           "diverging": [
            [
             0,
             "#8e0152"
            ],
            [
             0.1,
             "#c51b7d"
            ],
            [
             0.2,
             "#de77ae"
            ],
            [
             0.3,
             "#f1b6da"
            ],
            [
             0.4,
             "#fde0ef"
            ],
            [
             0.5,
             "#f7f7f7"
            ],
            [
             0.6,
             "#e6f5d0"
            ],
            [
             0.7,
             "#b8e186"
            ],
            [
             0.8,
             "#7fbc41"
            ],
            [
             0.9,
             "#4d9221"
            ],
            [
             1,
             "#276419"
            ]
           ],
           "sequential": [
            [
             0,
             "#0d0887"
            ],
            [
             0.1111111111111111,
             "#46039f"
            ],
            [
             0.2222222222222222,
             "#7201a8"
            ],
            [
             0.3333333333333333,
             "#9c179e"
            ],
            [
             0.4444444444444444,
             "#bd3786"
            ],
            [
             0.5555555555555556,
             "#d8576b"
            ],
            [
             0.6666666666666666,
             "#ed7953"
            ],
            [
             0.7777777777777778,
             "#fb9f3a"
            ],
            [
             0.8888888888888888,
             "#fdca26"
            ],
            [
             1,
             "#f0f921"
            ]
           ],
           "sequentialminus": [
            [
             0,
             "#0d0887"
            ],
            [
             0.1111111111111111,
             "#46039f"
            ],
            [
             0.2222222222222222,
             "#7201a8"
            ],
            [
             0.3333333333333333,
             "#9c179e"
            ],
            [
             0.4444444444444444,
             "#bd3786"
            ],
            [
             0.5555555555555556,
             "#d8576b"
            ],
            [
             0.6666666666666666,
             "#ed7953"
            ],
            [
             0.7777777777777778,
             "#fb9f3a"
            ],
            [
             0.8888888888888888,
             "#fdca26"
            ],
            [
             1,
             "#f0f921"
            ]
           ]
          },
          "colorway": [
           "#636efa",
           "#EF553B",
           "#00cc96",
           "#ab63fa",
           "#FFA15A",
           "#19d3f3",
           "#FF6692",
           "#B6E880",
           "#FF97FF",
           "#FECB52"
          ],
          "font": {
           "color": "#2a3f5f"
          },
          "geo": {
           "bgcolor": "white",
           "lakecolor": "white",
           "landcolor": "#E5ECF6",
           "showlakes": true,
           "showland": true,
           "subunitcolor": "white"
          },
          "hoverlabel": {
           "align": "left"
          },
          "hovermode": "closest",
          "mapbox": {
           "style": "light"
          },
          "paper_bgcolor": "white",
          "plot_bgcolor": "#E5ECF6",
          "polar": {
           "angularaxis": {
            "gridcolor": "white",
            "linecolor": "white",
            "ticks": ""
           },
           "bgcolor": "#E5ECF6",
           "radialaxis": {
            "gridcolor": "white",
            "linecolor": "white",
            "ticks": ""
           }
          },
          "scene": {
           "xaxis": {
            "backgroundcolor": "#E5ECF6",
            "gridcolor": "white",
            "gridwidth": 2,
            "linecolor": "white",
            "showbackground": true,
            "ticks": "",
            "zerolinecolor": "white"
           },
           "yaxis": {
            "backgroundcolor": "#E5ECF6",
            "gridcolor": "white",
            "gridwidth": 2,
            "linecolor": "white",
            "showbackground": true,
            "ticks": "",
            "zerolinecolor": "white"
           },
           "zaxis": {
            "backgroundcolor": "#E5ECF6",
            "gridcolor": "white",
            "gridwidth": 2,
            "linecolor": "white",
            "showbackground": true,
            "ticks": "",
            "zerolinecolor": "white"
           }
          },
          "shapedefaults": {
           "line": {
            "color": "#2a3f5f"
           }
          },
          "ternary": {
           "aaxis": {
            "gridcolor": "white",
            "linecolor": "white",
            "ticks": ""
           },
           "baxis": {
            "gridcolor": "white",
            "linecolor": "white",
            "ticks": ""
           },
           "bgcolor": "#E5ECF6",
           "caxis": {
            "gridcolor": "white",
            "linecolor": "white",
            "ticks": ""
           }
          },
          "title": {
           "x": 0.05
          },
          "xaxis": {
           "automargin": true,
           "gridcolor": "white",
           "linecolor": "white",
           "ticks": "",
           "title": {
            "standoff": 15
           },
           "zerolinecolor": "white",
           "zerolinewidth": 2
          },
          "yaxis": {
           "automargin": true,
           "gridcolor": "white",
           "linecolor": "white",
           "ticks": "",
           "title": {
            "standoff": 15
           },
           "zerolinecolor": "white",
           "zerolinewidth": 2
          }
         }
        },
        "title": {
         "text": "Rhizome Acquisitions by Gender"
        },
        "xaxis": {
         "anchor": "y",
         "domain": [
          0,
          1
         ],
         "title": {
          "text": "Date of Acquisition"
         }
        },
        "yaxis": {
         "anchor": "x",
         "domain": [
          0,
          1
         ],
         "title": {
          "text": "Total Acquisitions"
         }
        }
       }
      }
     },
     "metadata": {},
     "output_type": "display_data"
    }
   ],
   "source": [
    "#Dual line plot for Acquisition\n",
    "fig = px.line(rhz_gender_artworks_acquired, x='Date Acquired', y=['Male Artists', 'Female Artists'], markers=True, labels={'Date Acquired': 'Date of Acquisition', 'value': 'Total Acquisitions', 'variable': 'Gender'}, title='Rhizome Artwork Acquisitions by Gender Over Time', color_discrete_map={\"Male Artists\": \"#456987\",\"Female Artists\": \"#147852\"})\n",
    "fig.update_traces(hovertemplate=None)\n",
    "fig.update_layout(hovermode=\"x unified\")\n",
    "fig.show()"
   ]
  },
  {
   "cell_type": "code",
   "execution_count": 27,
   "metadata": {},
   "outputs": [
    {
     "data": {
      "application/vnd.plotly.v1+json": {
       "config": {
        "plotlyServerURL": "https://plot.ly"
       },
       "data": [
        {
         "alignmentgroup": "True",
         "bingroup": "x",
         "histfunc": "sum",
         "hoverinfo": "y",
         "legendgroup": "Male Artists",
         "marker": {
          "color": "#456987",
          "pattern": {
           "shape": ""
          }
         },
         "name": "Male Artists",
         "offsetgroup": "Male Artists",
         "orientation": "v",
         "showlegend": true,
         "type": "histogram",
         "x": [
          "2000",
          "2001",
          "2002",
          "2003",
          "2004",
          "2005",
          "2006",
          "2007",
          "2008",
          "2009",
          "2010",
          "2011",
          "2012",
          "2013",
          "2015",
          "2021"
         ],
         "xaxis": "x",
         "y": [
          4,
          163,
          165,
          103,
          167,
          173,
          146,
          180,
          91,
          61,
          19,
          30,
          52,
          9,
          1,
          7
         ],
         "yaxis": "y"
        },
        {
         "alignmentgroup": "True",
         "bingroup": "x",
         "histfunc": "sum",
         "hoverinfo": "y",
         "legendgroup": "Female Artists",
         "marker": {
          "color": "#147852",
          "pattern": {
           "shape": ""
          }
         },
         "name": "Female Artists",
         "offsetgroup": "Female Artists",
         "orientation": "v",
         "showlegend": true,
         "type": "histogram",
         "x": [
          "2000",
          "2001",
          "2002",
          "2003",
          "2004",
          "2005",
          "2006",
          "2007",
          "2008",
          "2009",
          "2010",
          "2011",
          "2012",
          "2013",
          "2015",
          "2021"
         ],
         "xaxis": "x",
         "y": [
          4,
          70,
          72,
          24,
          76,
          63,
          55,
          84,
          31,
          7,
          1,
          13,
          11,
          1,
          4,
          7
         ],
         "yaxis": "y"
        }
       ],
       "layout": {
        "barmode": "group",
        "height": 400,
        "legend": {
         "title": {
          "text": "Gender"
         },
         "tracegroupgap": 0
        },
        "template": {
         "data": {
          "bar": [
           {
            "error_x": {
             "color": "#2a3f5f"
            },
            "error_y": {
             "color": "#2a3f5f"
            },
            "marker": {
             "line": {
              "color": "#E5ECF6",
              "width": 0.5
             },
             "pattern": {
              "fillmode": "overlay",
              "size": 10,
              "solidity": 0.2
             }
            },
            "type": "bar"
           }
          ],
          "barpolar": [
           {
            "marker": {
             "line": {
              "color": "#E5ECF6",
              "width": 0.5
             },
             "pattern": {
              "fillmode": "overlay",
              "size": 10,
              "solidity": 0.2
             }
            },
            "type": "barpolar"
           }
          ],
          "carpet": [
           {
            "aaxis": {
             "endlinecolor": "#2a3f5f",
             "gridcolor": "white",
             "linecolor": "white",
             "minorgridcolor": "white",
             "startlinecolor": "#2a3f5f"
            },
            "baxis": {
             "endlinecolor": "#2a3f5f",
             "gridcolor": "white",
             "linecolor": "white",
             "minorgridcolor": "white",
             "startlinecolor": "#2a3f5f"
            },
            "type": "carpet"
           }
          ],
          "choropleth": [
           {
            "colorbar": {
             "outlinewidth": 0,
             "ticks": ""
            },
            "type": "choropleth"
           }
          ],
          "contour": [
           {
            "colorbar": {
             "outlinewidth": 0,
             "ticks": ""
            },
            "colorscale": [
             [
              0,
              "#0d0887"
             ],
             [
              0.1111111111111111,
              "#46039f"
             ],
             [
              0.2222222222222222,
              "#7201a8"
             ],
             [
              0.3333333333333333,
              "#9c179e"
             ],
             [
              0.4444444444444444,
              "#bd3786"
             ],
             [
              0.5555555555555556,
              "#d8576b"
             ],
             [
              0.6666666666666666,
              "#ed7953"
             ],
             [
              0.7777777777777778,
              "#fb9f3a"
             ],
             [
              0.8888888888888888,
              "#fdca26"
             ],
             [
              1,
              "#f0f921"
             ]
            ],
            "type": "contour"
           }
          ],
          "contourcarpet": [
           {
            "colorbar": {
             "outlinewidth": 0,
             "ticks": ""
            },
            "type": "contourcarpet"
           }
          ],
          "heatmap": [
           {
            "colorbar": {
             "outlinewidth": 0,
             "ticks": ""
            },
            "colorscale": [
             [
              0,
              "#0d0887"
             ],
             [
              0.1111111111111111,
              "#46039f"
             ],
             [
              0.2222222222222222,
              "#7201a8"
             ],
             [
              0.3333333333333333,
              "#9c179e"
             ],
             [
              0.4444444444444444,
              "#bd3786"
             ],
             [
              0.5555555555555556,
              "#d8576b"
             ],
             [
              0.6666666666666666,
              "#ed7953"
             ],
             [
              0.7777777777777778,
              "#fb9f3a"
             ],
             [
              0.8888888888888888,
              "#fdca26"
             ],
             [
              1,
              "#f0f921"
             ]
            ],
            "type": "heatmap"
           }
          ],
          "heatmapgl": [
           {
            "colorbar": {
             "outlinewidth": 0,
             "ticks": ""
            },
            "colorscale": [
             [
              0,
              "#0d0887"
             ],
             [
              0.1111111111111111,
              "#46039f"
             ],
             [
              0.2222222222222222,
              "#7201a8"
             ],
             [
              0.3333333333333333,
              "#9c179e"
             ],
             [
              0.4444444444444444,
              "#bd3786"
             ],
             [
              0.5555555555555556,
              "#d8576b"
             ],
             [
              0.6666666666666666,
              "#ed7953"
             ],
             [
              0.7777777777777778,
              "#fb9f3a"
             ],
             [
              0.8888888888888888,
              "#fdca26"
             ],
             [
              1,
              "#f0f921"
             ]
            ],
            "type": "heatmapgl"
           }
          ],
          "histogram": [
           {
            "marker": {
             "pattern": {
              "fillmode": "overlay",
              "size": 10,
              "solidity": 0.2
             }
            },
            "type": "histogram"
           }
          ],
          "histogram2d": [
           {
            "colorbar": {
             "outlinewidth": 0,
             "ticks": ""
            },
            "colorscale": [
             [
              0,
              "#0d0887"
             ],
             [
              0.1111111111111111,
              "#46039f"
             ],
             [
              0.2222222222222222,
              "#7201a8"
             ],
             [
              0.3333333333333333,
              "#9c179e"
             ],
             [
              0.4444444444444444,
              "#bd3786"
             ],
             [
              0.5555555555555556,
              "#d8576b"
             ],
             [
              0.6666666666666666,
              "#ed7953"
             ],
             [
              0.7777777777777778,
              "#fb9f3a"
             ],
             [
              0.8888888888888888,
              "#fdca26"
             ],
             [
              1,
              "#f0f921"
             ]
            ],
            "type": "histogram2d"
           }
          ],
          "histogram2dcontour": [
           {
            "colorbar": {
             "outlinewidth": 0,
             "ticks": ""
            },
            "colorscale": [
             [
              0,
              "#0d0887"
             ],
             [
              0.1111111111111111,
              "#46039f"
             ],
             [
              0.2222222222222222,
              "#7201a8"
             ],
             [
              0.3333333333333333,
              "#9c179e"
             ],
             [
              0.4444444444444444,
              "#bd3786"
             ],
             [
              0.5555555555555556,
              "#d8576b"
             ],
             [
              0.6666666666666666,
              "#ed7953"
             ],
             [
              0.7777777777777778,
              "#fb9f3a"
             ],
             [
              0.8888888888888888,
              "#fdca26"
             ],
             [
              1,
              "#f0f921"
             ]
            ],
            "type": "histogram2dcontour"
           }
          ],
          "mesh3d": [
           {
            "colorbar": {
             "outlinewidth": 0,
             "ticks": ""
            },
            "type": "mesh3d"
           }
          ],
          "parcoords": [
           {
            "line": {
             "colorbar": {
              "outlinewidth": 0,
              "ticks": ""
             }
            },
            "type": "parcoords"
           }
          ],
          "pie": [
           {
            "automargin": true,
            "type": "pie"
           }
          ],
          "scatter": [
           {
            "fillpattern": {
             "fillmode": "overlay",
             "size": 10,
             "solidity": 0.2
            },
            "type": "scatter"
           }
          ],
          "scatter3d": [
           {
            "line": {
             "colorbar": {
              "outlinewidth": 0,
              "ticks": ""
             }
            },
            "marker": {
             "colorbar": {
              "outlinewidth": 0,
              "ticks": ""
             }
            },
            "type": "scatter3d"
           }
          ],
          "scattercarpet": [
           {
            "marker": {
             "colorbar": {
              "outlinewidth": 0,
              "ticks": ""
             }
            },
            "type": "scattercarpet"
           }
          ],
          "scattergeo": [
           {
            "marker": {
             "colorbar": {
              "outlinewidth": 0,
              "ticks": ""
             }
            },
            "type": "scattergeo"
           }
          ],
          "scattergl": [
           {
            "marker": {
             "colorbar": {
              "outlinewidth": 0,
              "ticks": ""
             }
            },
            "type": "scattergl"
           }
          ],
          "scattermapbox": [
           {
            "marker": {
             "colorbar": {
              "outlinewidth": 0,
              "ticks": ""
             }
            },
            "type": "scattermapbox"
           }
          ],
          "scatterpolar": [
           {
            "marker": {
             "colorbar": {
              "outlinewidth": 0,
              "ticks": ""
             }
            },
            "type": "scatterpolar"
           }
          ],
          "scatterpolargl": [
           {
            "marker": {
             "colorbar": {
              "outlinewidth": 0,
              "ticks": ""
             }
            },
            "type": "scatterpolargl"
           }
          ],
          "scatterternary": [
           {
            "marker": {
             "colorbar": {
              "outlinewidth": 0,
              "ticks": ""
             }
            },
            "type": "scatterternary"
           }
          ],
          "surface": [
           {
            "colorbar": {
             "outlinewidth": 0,
             "ticks": ""
            },
            "colorscale": [
             [
              0,
              "#0d0887"
             ],
             [
              0.1111111111111111,
              "#46039f"
             ],
             [
              0.2222222222222222,
              "#7201a8"
             ],
             [
              0.3333333333333333,
              "#9c179e"
             ],
             [
              0.4444444444444444,
              "#bd3786"
             ],
             [
              0.5555555555555556,
              "#d8576b"
             ],
             [
              0.6666666666666666,
              "#ed7953"
             ],
             [
              0.7777777777777778,
              "#fb9f3a"
             ],
             [
              0.8888888888888888,
              "#fdca26"
             ],
             [
              1,
              "#f0f921"
             ]
            ],
            "type": "surface"
           }
          ],
          "table": [
           {
            "cells": {
             "fill": {
              "color": "#EBF0F8"
             },
             "line": {
              "color": "white"
             }
            },
            "header": {
             "fill": {
              "color": "#C8D4E3"
             },
             "line": {
              "color": "white"
             }
            },
            "type": "table"
           }
          ]
         },
         "layout": {
          "annotationdefaults": {
           "arrowcolor": "#2a3f5f",
           "arrowhead": 0,
           "arrowwidth": 1
          },
          "autotypenumbers": "strict",
          "coloraxis": {
           "colorbar": {
            "outlinewidth": 0,
            "ticks": ""
           }
          },
          "colorscale": {
           "diverging": [
            [
             0,
             "#8e0152"
            ],
            [
             0.1,
             "#c51b7d"
            ],
            [
             0.2,
             "#de77ae"
            ],
            [
             0.3,
             "#f1b6da"
            ],
            [
             0.4,
             "#fde0ef"
            ],
            [
             0.5,
             "#f7f7f7"
            ],
            [
             0.6,
             "#e6f5d0"
            ],
            [
             0.7,
             "#b8e186"
            ],
            [
             0.8,
             "#7fbc41"
            ],
            [
             0.9,
             "#4d9221"
            ],
            [
             1,
             "#276419"
            ]
           ],
           "sequential": [
            [
             0,
             "#0d0887"
            ],
            [
             0.1111111111111111,
             "#46039f"
            ],
            [
             0.2222222222222222,
             "#7201a8"
            ],
            [
             0.3333333333333333,
             "#9c179e"
            ],
            [
             0.4444444444444444,
             "#bd3786"
            ],
            [
             0.5555555555555556,
             "#d8576b"
            ],
            [
             0.6666666666666666,
             "#ed7953"
            ],
            [
             0.7777777777777778,
             "#fb9f3a"
            ],
            [
             0.8888888888888888,
             "#fdca26"
            ],
            [
             1,
             "#f0f921"
            ]
           ],
           "sequentialminus": [
            [
             0,
             "#0d0887"
            ],
            [
             0.1111111111111111,
             "#46039f"
            ],
            [
             0.2222222222222222,
             "#7201a8"
            ],
            [
             0.3333333333333333,
             "#9c179e"
            ],
            [
             0.4444444444444444,
             "#bd3786"
            ],
            [
             0.5555555555555556,
             "#d8576b"
            ],
            [
             0.6666666666666666,
             "#ed7953"
            ],
            [
             0.7777777777777778,
             "#fb9f3a"
            ],
            [
             0.8888888888888888,
             "#fdca26"
            ],
            [
             1,
             "#f0f921"
            ]
           ]
          },
          "colorway": [
           "#636efa",
           "#EF553B",
           "#00cc96",
           "#ab63fa",
           "#FFA15A",
           "#19d3f3",
           "#FF6692",
           "#B6E880",
           "#FF97FF",
           "#FECB52"
          ],
          "font": {
           "color": "#2a3f5f"
          },
          "geo": {
           "bgcolor": "white",
           "lakecolor": "white",
           "landcolor": "#E5ECF6",
           "showlakes": true,
           "showland": true,
           "subunitcolor": "white"
          },
          "hoverlabel": {
           "align": "left"
          },
          "hovermode": "closest",
          "mapbox": {
           "style": "light"
          },
          "paper_bgcolor": "white",
          "plot_bgcolor": "#E5ECF6",
          "polar": {
           "angularaxis": {
            "gridcolor": "white",
            "linecolor": "white",
            "ticks": ""
           },
           "bgcolor": "#E5ECF6",
           "radialaxis": {
            "gridcolor": "white",
            "linecolor": "white",
            "ticks": ""
           }
          },
          "scene": {
           "xaxis": {
            "backgroundcolor": "#E5ECF6",
            "gridcolor": "white",
            "gridwidth": 2,
            "linecolor": "white",
            "showbackground": true,
            "ticks": "",
            "zerolinecolor": "white"
           },
           "yaxis": {
            "backgroundcolor": "#E5ECF6",
            "gridcolor": "white",
            "gridwidth": 2,
            "linecolor": "white",
            "showbackground": true,
            "ticks": "",
            "zerolinecolor": "white"
           },
           "zaxis": {
            "backgroundcolor": "#E5ECF6",
            "gridcolor": "white",
            "gridwidth": 2,
            "linecolor": "white",
            "showbackground": true,
            "ticks": "",
            "zerolinecolor": "white"
           }
          },
          "shapedefaults": {
           "line": {
            "color": "#2a3f5f"
           }
          },
          "ternary": {
           "aaxis": {
            "gridcolor": "white",
            "linecolor": "white",
            "ticks": ""
           },
           "baxis": {
            "gridcolor": "white",
            "linecolor": "white",
            "ticks": ""
           },
           "bgcolor": "#E5ECF6",
           "caxis": {
            "gridcolor": "white",
            "linecolor": "white",
            "ticks": ""
           }
          },
          "title": {
           "x": 0.05
          },
          "xaxis": {
           "automargin": true,
           "gridcolor": "white",
           "linecolor": "white",
           "ticks": "",
           "title": {
            "standoff": 15
           },
           "zerolinecolor": "white",
           "zerolinewidth": 2
          },
          "yaxis": {
           "automargin": true,
           "gridcolor": "white",
           "linecolor": "white",
           "ticks": "",
           "title": {
            "standoff": 15
           },
           "zerolinecolor": "white",
           "zerolinewidth": 2
          }
         }
        },
        "title": {
         "text": "Rhizome Artwork Acquisitions by Gender Over Time"
        },
        "xaxis": {
         "anchor": "y",
         "domain": [
          0,
          1
         ],
         "title": {
          "text": "Date of Acquisition"
         }
        },
        "yaxis": {
         "anchor": "x",
         "domain": [
          0,
          1
         ],
         "title": {
          "text": "sum of Total Acquisitions"
         }
        }
       }
      }
     },
     "metadata": {},
     "output_type": "display_data"
    }
   ],
   "source": [
    "fig = px.histogram(rhz_gender_artworks_acquired, x='Date Acquired', y=['Male Artists', 'Female Artists'],\n",
    "            barmode='group', height=400, labels={'Date Acquired': 'Date of Acquisition', 'value': 'Total Acquisitions', 'variable': 'Gender'}, title='Rhizome Artwork Acquisitions by Gender Over Time', color_discrete_map={\"Male Artists\": \"#456987\",\"Female Artists\": \"#147852\"})\n",
    "fig.update_traces(hovertemplate=None, hoverinfo='y')\n",
    "fig.show()"
   ]
  },
  {
   "cell_type": "code",
   "execution_count": 12,
   "metadata": {},
   "outputs": [
    {
     "data": {
      "application/vnd.plotly.v1+json": {
       "config": {
        "plotlyServerURL": "https://plot.ly"
       },
       "data": [
        {
         "legendgroup": "Male Artists",
         "line": {
          "color": "#456987",
          "dash": "solid"
         },
         "marker": {
          "symbol": "circle"
         },
         "mode": "lines+markers",
         "name": "Male Artists",
         "orientation": "v",
         "showlegend": true,
         "type": "scatter",
         "x": [
          "1995",
          "1996",
          "1997",
          "1998",
          "1999",
          "2000",
          "2001",
          "2002",
          "2003",
          "2004",
          "2005",
          "2006",
          "2007",
          "2008",
          "2009",
          "2010",
          "2011",
          "2012",
          "2013",
          "2015",
          "2018",
          "2020",
          "2021"
         ],
         "xaxis": "x",
         "y": [
          6,
          7,
          14,
          12,
          19,
          64,
          168,
          162,
          110,
          149,
          145,
          118,
          172,
          73,
          51,
          23,
          41,
          24,
          2,
          1,
          1,
          1,
          1
         ],
         "yaxis": "y"
        },
        {
         "legendgroup": "Female Artists",
         "line": {
          "color": "#147852",
          "dash": "solid"
         },
         "marker": {
          "symbol": "circle"
         },
         "mode": "lines+markers",
         "name": "Female Artists",
         "orientation": "v",
         "showlegend": true,
         "type": "scatter",
         "x": [
          "1995",
          "1996",
          "1997",
          "1998",
          "1999",
          "2000",
          "2001",
          "2002",
          "2003",
          "2004",
          "2005",
          "2006",
          "2007",
          "2008",
          "2009",
          "2010",
          "2011",
          "2012",
          "2013",
          "2015",
          "2018",
          "2020",
          "2021"
         ],
         "xaxis": "x",
         "y": [
          2,
          5,
          8,
          6,
          13,
          23,
          67,
          70,
          33,
          55,
          65,
          56,
          65,
          16,
          4,
          3,
          12,
          9,
          2,
          2,
          1,
          4,
          1
         ],
         "yaxis": "y"
        }
       ],
       "layout": {
        "hovermode": "x unified",
        "legend": {
         "title": {
          "text": "Gender"
         },
         "tracegroupgap": 0
        },
        "template": {
         "data": {
          "bar": [
           {
            "error_x": {
             "color": "#2a3f5f"
            },
            "error_y": {
             "color": "#2a3f5f"
            },
            "marker": {
             "line": {
              "color": "#E5ECF6",
              "width": 0.5
             },
             "pattern": {
              "fillmode": "overlay",
              "size": 10,
              "solidity": 0.2
             }
            },
            "type": "bar"
           }
          ],
          "barpolar": [
           {
            "marker": {
             "line": {
              "color": "#E5ECF6",
              "width": 0.5
             },
             "pattern": {
              "fillmode": "overlay",
              "size": 10,
              "solidity": 0.2
             }
            },
            "type": "barpolar"
           }
          ],
          "carpet": [
           {
            "aaxis": {
             "endlinecolor": "#2a3f5f",
             "gridcolor": "white",
             "linecolor": "white",
             "minorgridcolor": "white",
             "startlinecolor": "#2a3f5f"
            },
            "baxis": {
             "endlinecolor": "#2a3f5f",
             "gridcolor": "white",
             "linecolor": "white",
             "minorgridcolor": "white",
             "startlinecolor": "#2a3f5f"
            },
            "type": "carpet"
           }
          ],
          "choropleth": [
           {
            "colorbar": {
             "outlinewidth": 0,
             "ticks": ""
            },
            "type": "choropleth"
           }
          ],
          "contour": [
           {
            "colorbar": {
             "outlinewidth": 0,
             "ticks": ""
            },
            "colorscale": [
             [
              0,
              "#0d0887"
             ],
             [
              0.1111111111111111,
              "#46039f"
             ],
             [
              0.2222222222222222,
              "#7201a8"
             ],
             [
              0.3333333333333333,
              "#9c179e"
             ],
             [
              0.4444444444444444,
              "#bd3786"
             ],
             [
              0.5555555555555556,
              "#d8576b"
             ],
             [
              0.6666666666666666,
              "#ed7953"
             ],
             [
              0.7777777777777778,
              "#fb9f3a"
             ],
             [
              0.8888888888888888,
              "#fdca26"
             ],
             [
              1,
              "#f0f921"
             ]
            ],
            "type": "contour"
           }
          ],
          "contourcarpet": [
           {
            "colorbar": {
             "outlinewidth": 0,
             "ticks": ""
            },
            "type": "contourcarpet"
           }
          ],
          "heatmap": [
           {
            "colorbar": {
             "outlinewidth": 0,
             "ticks": ""
            },
            "colorscale": [
             [
              0,
              "#0d0887"
             ],
             [
              0.1111111111111111,
              "#46039f"
             ],
             [
              0.2222222222222222,
              "#7201a8"
             ],
             [
              0.3333333333333333,
              "#9c179e"
             ],
             [
              0.4444444444444444,
              "#bd3786"
             ],
             [
              0.5555555555555556,
              "#d8576b"
             ],
             [
              0.6666666666666666,
              "#ed7953"
             ],
             [
              0.7777777777777778,
              "#fb9f3a"
             ],
             [
              0.8888888888888888,
              "#fdca26"
             ],
             [
              1,
              "#f0f921"
             ]
            ],
            "type": "heatmap"
           }
          ],
          "heatmapgl": [
           {
            "colorbar": {
             "outlinewidth": 0,
             "ticks": ""
            },
            "colorscale": [
             [
              0,
              "#0d0887"
             ],
             [
              0.1111111111111111,
              "#46039f"
             ],
             [
              0.2222222222222222,
              "#7201a8"
             ],
             [
              0.3333333333333333,
              "#9c179e"
             ],
             [
              0.4444444444444444,
              "#bd3786"
             ],
             [
              0.5555555555555556,
              "#d8576b"
             ],
             [
              0.6666666666666666,
              "#ed7953"
             ],
             [
              0.7777777777777778,
              "#fb9f3a"
             ],
             [
              0.8888888888888888,
              "#fdca26"
             ],
             [
              1,
              "#f0f921"
             ]
            ],
            "type": "heatmapgl"
           }
          ],
          "histogram": [
           {
            "marker": {
             "pattern": {
              "fillmode": "overlay",
              "size": 10,
              "solidity": 0.2
             }
            },
            "type": "histogram"
           }
          ],
          "histogram2d": [
           {
            "colorbar": {
             "outlinewidth": 0,
             "ticks": ""
            },
            "colorscale": [
             [
              0,
              "#0d0887"
             ],
             [
              0.1111111111111111,
              "#46039f"
             ],
             [
              0.2222222222222222,
              "#7201a8"
             ],
             [
              0.3333333333333333,
              "#9c179e"
             ],
             [
              0.4444444444444444,
              "#bd3786"
             ],
             [
              0.5555555555555556,
              "#d8576b"
             ],
             [
              0.6666666666666666,
              "#ed7953"
             ],
             [
              0.7777777777777778,
              "#fb9f3a"
             ],
             [
              0.8888888888888888,
              "#fdca26"
             ],
             [
              1,
              "#f0f921"
             ]
            ],
            "type": "histogram2d"
           }
          ],
          "histogram2dcontour": [
           {
            "colorbar": {
             "outlinewidth": 0,
             "ticks": ""
            },
            "colorscale": [
             [
              0,
              "#0d0887"
             ],
             [
              0.1111111111111111,
              "#46039f"
             ],
             [
              0.2222222222222222,
              "#7201a8"
             ],
             [
              0.3333333333333333,
              "#9c179e"
             ],
             [
              0.4444444444444444,
              "#bd3786"
             ],
             [
              0.5555555555555556,
              "#d8576b"
             ],
             [
              0.6666666666666666,
              "#ed7953"
             ],
             [
              0.7777777777777778,
              "#fb9f3a"
             ],
             [
              0.8888888888888888,
              "#fdca26"
             ],
             [
              1,
              "#f0f921"
             ]
            ],
            "type": "histogram2dcontour"
           }
          ],
          "mesh3d": [
           {
            "colorbar": {
             "outlinewidth": 0,
             "ticks": ""
            },
            "type": "mesh3d"
           }
          ],
          "parcoords": [
           {
            "line": {
             "colorbar": {
              "outlinewidth": 0,
              "ticks": ""
             }
            },
            "type": "parcoords"
           }
          ],
          "pie": [
           {
            "automargin": true,
            "type": "pie"
           }
          ],
          "scatter": [
           {
            "fillpattern": {
             "fillmode": "overlay",
             "size": 10,
             "solidity": 0.2
            },
            "type": "scatter"
           }
          ],
          "scatter3d": [
           {
            "line": {
             "colorbar": {
              "outlinewidth": 0,
              "ticks": ""
             }
            },
            "marker": {
             "colorbar": {
              "outlinewidth": 0,
              "ticks": ""
             }
            },
            "type": "scatter3d"
           }
          ],
          "scattercarpet": [
           {
            "marker": {
             "colorbar": {
              "outlinewidth": 0,
              "ticks": ""
             }
            },
            "type": "scattercarpet"
           }
          ],
          "scattergeo": [
           {
            "marker": {
             "colorbar": {
              "outlinewidth": 0,
              "ticks": ""
             }
            },
            "type": "scattergeo"
           }
          ],
          "scattergl": [
           {
            "marker": {
             "colorbar": {
              "outlinewidth": 0,
              "ticks": ""
             }
            },
            "type": "scattergl"
           }
          ],
          "scattermapbox": [
           {
            "marker": {
             "colorbar": {
              "outlinewidth": 0,
              "ticks": ""
             }
            },
            "type": "scattermapbox"
           }
          ],
          "scatterpolar": [
           {
            "marker": {
             "colorbar": {
              "outlinewidth": 0,
              "ticks": ""
             }
            },
            "type": "scatterpolar"
           }
          ],
          "scatterpolargl": [
           {
            "marker": {
             "colorbar": {
              "outlinewidth": 0,
              "ticks": ""
             }
            },
            "type": "scatterpolargl"
           }
          ],
          "scatterternary": [
           {
            "marker": {
             "colorbar": {
              "outlinewidth": 0,
              "ticks": ""
             }
            },
            "type": "scatterternary"
           }
          ],
          "surface": [
           {
            "colorbar": {
             "outlinewidth": 0,
             "ticks": ""
            },
            "colorscale": [
             [
              0,
              "#0d0887"
             ],
             [
              0.1111111111111111,
              "#46039f"
             ],
             [
              0.2222222222222222,
              "#7201a8"
             ],
             [
              0.3333333333333333,
              "#9c179e"
             ],
             [
              0.4444444444444444,
              "#bd3786"
             ],
             [
              0.5555555555555556,
              "#d8576b"
             ],
             [
              0.6666666666666666,
              "#ed7953"
             ],
             [
              0.7777777777777778,
              "#fb9f3a"
             ],
             [
              0.8888888888888888,
              "#fdca26"
             ],
             [
              1,
              "#f0f921"
             ]
            ],
            "type": "surface"
           }
          ],
          "table": [
           {
            "cells": {
             "fill": {
              "color": "#EBF0F8"
             },
             "line": {
              "color": "white"
             }
            },
            "header": {
             "fill": {
              "color": "#C8D4E3"
             },
             "line": {
              "color": "white"
             }
            },
            "type": "table"
           }
          ]
         },
         "layout": {
          "annotationdefaults": {
           "arrowcolor": "#2a3f5f",
           "arrowhead": 0,
           "arrowwidth": 1
          },
          "autotypenumbers": "strict",
          "coloraxis": {
           "colorbar": {
            "outlinewidth": 0,
            "ticks": ""
           }
          },
          "colorscale": {
           "diverging": [
            [
             0,
             "#8e0152"
            ],
            [
             0.1,
             "#c51b7d"
            ],
            [
             0.2,
             "#de77ae"
            ],
            [
             0.3,
             "#f1b6da"
            ],
            [
             0.4,
             "#fde0ef"
            ],
            [
             0.5,
             "#f7f7f7"
            ],
            [
             0.6,
             "#e6f5d0"
            ],
            [
             0.7,
             "#b8e186"
            ],
            [
             0.8,
             "#7fbc41"
            ],
            [
             0.9,
             "#4d9221"
            ],
            [
             1,
             "#276419"
            ]
           ],
           "sequential": [
            [
             0,
             "#0d0887"
            ],
            [
             0.1111111111111111,
             "#46039f"
            ],
            [
             0.2222222222222222,
             "#7201a8"
            ],
            [
             0.3333333333333333,
             "#9c179e"
            ],
            [
             0.4444444444444444,
             "#bd3786"
            ],
            [
             0.5555555555555556,
             "#d8576b"
            ],
            [
             0.6666666666666666,
             "#ed7953"
            ],
            [
             0.7777777777777778,
             "#fb9f3a"
            ],
            [
             0.8888888888888888,
             "#fdca26"
            ],
            [
             1,
             "#f0f921"
            ]
           ],
           "sequentialminus": [
            [
             0,
             "#0d0887"
            ],
            [
             0.1111111111111111,
             "#46039f"
            ],
            [
             0.2222222222222222,
             "#7201a8"
            ],
            [
             0.3333333333333333,
             "#9c179e"
            ],
            [
             0.4444444444444444,
             "#bd3786"
            ],
            [
             0.5555555555555556,
             "#d8576b"
            ],
            [
             0.6666666666666666,
             "#ed7953"
            ],
            [
             0.7777777777777778,
             "#fb9f3a"
            ],
            [
             0.8888888888888888,
             "#fdca26"
            ],
            [
             1,
             "#f0f921"
            ]
           ]
          },
          "colorway": [
           "#636efa",
           "#EF553B",
           "#00cc96",
           "#ab63fa",
           "#FFA15A",
           "#19d3f3",
           "#FF6692",
           "#B6E880",
           "#FF97FF",
           "#FECB52"
          ],
          "font": {
           "color": "#2a3f5f"
          },
          "geo": {
           "bgcolor": "white",
           "lakecolor": "white",
           "landcolor": "#E5ECF6",
           "showlakes": true,
           "showland": true,
           "subunitcolor": "white"
          },
          "hoverlabel": {
           "align": "left"
          },
          "hovermode": "closest",
          "mapbox": {
           "style": "light"
          },
          "paper_bgcolor": "white",
          "plot_bgcolor": "#E5ECF6",
          "polar": {
           "angularaxis": {
            "gridcolor": "white",
            "linecolor": "white",
            "ticks": ""
           },
           "bgcolor": "#E5ECF6",
           "radialaxis": {
            "gridcolor": "white",
            "linecolor": "white",
            "ticks": ""
           }
          },
          "scene": {
           "xaxis": {
            "backgroundcolor": "#E5ECF6",
            "gridcolor": "white",
            "gridwidth": 2,
            "linecolor": "white",
            "showbackground": true,
            "ticks": "",
            "zerolinecolor": "white"
           },
           "yaxis": {
            "backgroundcolor": "#E5ECF6",
            "gridcolor": "white",
            "gridwidth": 2,
            "linecolor": "white",
            "showbackground": true,
            "ticks": "",
            "zerolinecolor": "white"
           },
           "zaxis": {
            "backgroundcolor": "#E5ECF6",
            "gridcolor": "white",
            "gridwidth": 2,
            "linecolor": "white",
            "showbackground": true,
            "ticks": "",
            "zerolinecolor": "white"
           }
          },
          "shapedefaults": {
           "line": {
            "color": "#2a3f5f"
           }
          },
          "ternary": {
           "aaxis": {
            "gridcolor": "white",
            "linecolor": "white",
            "ticks": ""
           },
           "baxis": {
            "gridcolor": "white",
            "linecolor": "white",
            "ticks": ""
           },
           "bgcolor": "#E5ECF6",
           "caxis": {
            "gridcolor": "white",
            "linecolor": "white",
            "ticks": ""
           }
          },
          "title": {
           "x": 0.05
          },
          "xaxis": {
           "automargin": true,
           "gridcolor": "white",
           "linecolor": "white",
           "ticks": "",
           "title": {
            "standoff": 15
           },
           "zerolinecolor": "white",
           "zerolinewidth": 2
          },
          "yaxis": {
           "automargin": true,
           "gridcolor": "white",
           "linecolor": "white",
           "ticks": "",
           "title": {
            "standoff": 15
           },
           "zerolinecolor": "white",
           "zerolinewidth": 2
          }
         }
        },
        "title": {
         "text": "Rhizome Artwork Creations by Gender Over Time"
        },
        "xaxis": {
         "anchor": "y",
         "domain": [
          0,
          1
         ],
         "title": {
          "text": "Date Created"
         }
        },
        "yaxis": {
         "anchor": "x",
         "domain": [
          0,
          1
         ],
         "title": {
          "text": "Total Acquisitions"
         }
        }
       }
      }
     },
     "metadata": {},
     "output_type": "display_data"
    }
   ],
   "source": [
    "#Dual line plot for Creation\n",
    "fig = px.line(rhz_gender_artworks_created, x='Date Created', y=['Male Artists', 'Female Artists'], markers=True, labels={'Date Created': 'Date of Creation', 'value': 'Total Artworks Created', 'variable': 'Gender'}, title='Rhizome Artwork Creations by Gender Over Time', color_discrete_map={\"Male Artists\": \"#456987\",\"Female Artists\": \"#147852\"})\n",
    "fig.update_traces(hovertemplate=None)\n",
    "fig.update_layout(hovermode=\"x unified\")\n",
    "fig.show()"
   ]
  },
  {
   "cell_type": "code",
   "execution_count": 29,
   "metadata": {},
   "outputs": [
    {
     "data": {
      "application/vnd.plotly.v1+json": {
       "config": {
        "plotlyServerURL": "https://plot.ly"
       },
       "data": [
        {
         "alignmentgroup": "True",
         "bingroup": "x",
         "histfunc": "sum",
         "hoverinfo": "y",
         "legendgroup": "Male Artists",
         "marker": {
          "color": "#456987",
          "pattern": {
           "shape": ""
          }
         },
         "name": "Male Artists",
         "offsetgroup": "Male Artists",
         "orientation": "v",
         "showlegend": true,
         "type": "histogram",
         "x": [
          "1995",
          "1996",
          "1997",
          "1998",
          "1999",
          "2000",
          "2001",
          "2002",
          "2003",
          "2004",
          "2005",
          "2006",
          "2007",
          "2008",
          "2009",
          "2010",
          "2011",
          "2012",
          "2013",
          "2015",
          "2018",
          "2020",
          "2021"
         ],
         "xaxis": "x",
         "y": [
          6,
          7,
          14,
          12,
          19,
          64,
          168,
          162,
          110,
          149,
          145,
          118,
          172,
          73,
          51,
          23,
          41,
          24,
          2,
          1,
          1,
          1,
          1
         ],
         "yaxis": "y"
        },
        {
         "alignmentgroup": "True",
         "bingroup": "x",
         "histfunc": "sum",
         "hoverinfo": "y",
         "legendgroup": "Female Artists",
         "marker": {
          "color": "#147852",
          "pattern": {
           "shape": ""
          }
         },
         "name": "Female Artists",
         "offsetgroup": "Female Artists",
         "orientation": "v",
         "showlegend": true,
         "type": "histogram",
         "x": [
          "1995",
          "1996",
          "1997",
          "1998",
          "1999",
          "2000",
          "2001",
          "2002",
          "2003",
          "2004",
          "2005",
          "2006",
          "2007",
          "2008",
          "2009",
          "2010",
          "2011",
          "2012",
          "2013",
          "2015",
          "2018",
          "2020",
          "2021"
         ],
         "xaxis": "x",
         "y": [
          2,
          5,
          8,
          6,
          13,
          23,
          67,
          70,
          33,
          55,
          65,
          56,
          65,
          16,
          4,
          3,
          12,
          9,
          2,
          2,
          1,
          4,
          1
         ],
         "yaxis": "y"
        }
       ],
       "layout": {
        "barmode": "group",
        "height": 400,
        "legend": {
         "title": {
          "text": "Gender"
         },
         "tracegroupgap": 0
        },
        "template": {
         "data": {
          "bar": [
           {
            "error_x": {
             "color": "#2a3f5f"
            },
            "error_y": {
             "color": "#2a3f5f"
            },
            "marker": {
             "line": {
              "color": "#E5ECF6",
              "width": 0.5
             },
             "pattern": {
              "fillmode": "overlay",
              "size": 10,
              "solidity": 0.2
             }
            },
            "type": "bar"
           }
          ],
          "barpolar": [
           {
            "marker": {
             "line": {
              "color": "#E5ECF6",
              "width": 0.5
             },
             "pattern": {
              "fillmode": "overlay",
              "size": 10,
              "solidity": 0.2
             }
            },
            "type": "barpolar"
           }
          ],
          "carpet": [
           {
            "aaxis": {
             "endlinecolor": "#2a3f5f",
             "gridcolor": "white",
             "linecolor": "white",
             "minorgridcolor": "white",
             "startlinecolor": "#2a3f5f"
            },
            "baxis": {
             "endlinecolor": "#2a3f5f",
             "gridcolor": "white",
             "linecolor": "white",
             "minorgridcolor": "white",
             "startlinecolor": "#2a3f5f"
            },
            "type": "carpet"
           }
          ],
          "choropleth": [
           {
            "colorbar": {
             "outlinewidth": 0,
             "ticks": ""
            },
            "type": "choropleth"
           }
          ],
          "contour": [
           {
            "colorbar": {
             "outlinewidth": 0,
             "ticks": ""
            },
            "colorscale": [
             [
              0,
              "#0d0887"
             ],
             [
              0.1111111111111111,
              "#46039f"
             ],
             [
              0.2222222222222222,
              "#7201a8"
             ],
             [
              0.3333333333333333,
              "#9c179e"
             ],
             [
              0.4444444444444444,
              "#bd3786"
             ],
             [
              0.5555555555555556,
              "#d8576b"
             ],
             [
              0.6666666666666666,
              "#ed7953"
             ],
             [
              0.7777777777777778,
              "#fb9f3a"
             ],
             [
              0.8888888888888888,
              "#fdca26"
             ],
             [
              1,
              "#f0f921"
             ]
            ],
            "type": "contour"
           }
          ],
          "contourcarpet": [
           {
            "colorbar": {
             "outlinewidth": 0,
             "ticks": ""
            },
            "type": "contourcarpet"
           }
          ],
          "heatmap": [
           {
            "colorbar": {
             "outlinewidth": 0,
             "ticks": ""
            },
            "colorscale": [
             [
              0,
              "#0d0887"
             ],
             [
              0.1111111111111111,
              "#46039f"
             ],
             [
              0.2222222222222222,
              "#7201a8"
             ],
             [
              0.3333333333333333,
              "#9c179e"
             ],
             [
              0.4444444444444444,
              "#bd3786"
             ],
             [
              0.5555555555555556,
              "#d8576b"
             ],
             [
              0.6666666666666666,
              "#ed7953"
             ],
             [
              0.7777777777777778,
              "#fb9f3a"
             ],
             [
              0.8888888888888888,
              "#fdca26"
             ],
             [
              1,
              "#f0f921"
             ]
            ],
            "type": "heatmap"
           }
          ],
          "heatmapgl": [
           {
            "colorbar": {
             "outlinewidth": 0,
             "ticks": ""
            },
            "colorscale": [
             [
              0,
              "#0d0887"
             ],
             [
              0.1111111111111111,
              "#46039f"
             ],
             [
              0.2222222222222222,
              "#7201a8"
             ],
             [
              0.3333333333333333,
              "#9c179e"
             ],
             [
              0.4444444444444444,
              "#bd3786"
             ],
             [
              0.5555555555555556,
              "#d8576b"
             ],
             [
              0.6666666666666666,
              "#ed7953"
             ],
             [
              0.7777777777777778,
              "#fb9f3a"
             ],
             [
              0.8888888888888888,
              "#fdca26"
             ],
             [
              1,
              "#f0f921"
             ]
            ],
            "type": "heatmapgl"
           }
          ],
          "histogram": [
           {
            "marker": {
             "pattern": {
              "fillmode": "overlay",
              "size": 10,
              "solidity": 0.2
             }
            },
            "type": "histogram"
           }
          ],
          "histogram2d": [
           {
            "colorbar": {
             "outlinewidth": 0,
             "ticks": ""
            },
            "colorscale": [
             [
              0,
              "#0d0887"
             ],
             [
              0.1111111111111111,
              "#46039f"
             ],
             [
              0.2222222222222222,
              "#7201a8"
             ],
             [
              0.3333333333333333,
              "#9c179e"
             ],
             [
              0.4444444444444444,
              "#bd3786"
             ],
             [
              0.5555555555555556,
              "#d8576b"
             ],
             [
              0.6666666666666666,
              "#ed7953"
             ],
             [
              0.7777777777777778,
              "#fb9f3a"
             ],
             [
              0.8888888888888888,
              "#fdca26"
             ],
             [
              1,
              "#f0f921"
             ]
            ],
            "type": "histogram2d"
           }
          ],
          "histogram2dcontour": [
           {
            "colorbar": {
             "outlinewidth": 0,
             "ticks": ""
            },
            "colorscale": [
             [
              0,
              "#0d0887"
             ],
             [
              0.1111111111111111,
              "#46039f"
             ],
             [
              0.2222222222222222,
              "#7201a8"
             ],
             [
              0.3333333333333333,
              "#9c179e"
             ],
             [
              0.4444444444444444,
              "#bd3786"
             ],
             [
              0.5555555555555556,
              "#d8576b"
             ],
             [
              0.6666666666666666,
              "#ed7953"
             ],
             [
              0.7777777777777778,
              "#fb9f3a"
             ],
             [
              0.8888888888888888,
              "#fdca26"
             ],
             [
              1,
              "#f0f921"
             ]
            ],
            "type": "histogram2dcontour"
           }
          ],
          "mesh3d": [
           {
            "colorbar": {
             "outlinewidth": 0,
             "ticks": ""
            },
            "type": "mesh3d"
           }
          ],
          "parcoords": [
           {
            "line": {
             "colorbar": {
              "outlinewidth": 0,
              "ticks": ""
             }
            },
            "type": "parcoords"
           }
          ],
          "pie": [
           {
            "automargin": true,
            "type": "pie"
           }
          ],
          "scatter": [
           {
            "fillpattern": {
             "fillmode": "overlay",
             "size": 10,
             "solidity": 0.2
            },
            "type": "scatter"
           }
          ],
          "scatter3d": [
           {
            "line": {
             "colorbar": {
              "outlinewidth": 0,
              "ticks": ""
             }
            },
            "marker": {
             "colorbar": {
              "outlinewidth": 0,
              "ticks": ""
             }
            },
            "type": "scatter3d"
           }
          ],
          "scattercarpet": [
           {
            "marker": {
             "colorbar": {
              "outlinewidth": 0,
              "ticks": ""
             }
            },
            "type": "scattercarpet"
           }
          ],
          "scattergeo": [
           {
            "marker": {
             "colorbar": {
              "outlinewidth": 0,
              "ticks": ""
             }
            },
            "type": "scattergeo"
           }
          ],
          "scattergl": [
           {
            "marker": {
             "colorbar": {
              "outlinewidth": 0,
              "ticks": ""
             }
            },
            "type": "scattergl"
           }
          ],
          "scattermapbox": [
           {
            "marker": {
             "colorbar": {
              "outlinewidth": 0,
              "ticks": ""
             }
            },
            "type": "scattermapbox"
           }
          ],
          "scatterpolar": [
           {
            "marker": {
             "colorbar": {
              "outlinewidth": 0,
              "ticks": ""
             }
            },
            "type": "scatterpolar"
           }
          ],
          "scatterpolargl": [
           {
            "marker": {
             "colorbar": {
              "outlinewidth": 0,
              "ticks": ""
             }
            },
            "type": "scatterpolargl"
           }
          ],
          "scatterternary": [
           {
            "marker": {
             "colorbar": {
              "outlinewidth": 0,
              "ticks": ""
             }
            },
            "type": "scatterternary"
           }
          ],
          "surface": [
           {
            "colorbar": {
             "outlinewidth": 0,
             "ticks": ""
            },
            "colorscale": [
             [
              0,
              "#0d0887"
             ],
             [
              0.1111111111111111,
              "#46039f"
             ],
             [
              0.2222222222222222,
              "#7201a8"
             ],
             [
              0.3333333333333333,
              "#9c179e"
             ],
             [
              0.4444444444444444,
              "#bd3786"
             ],
             [
              0.5555555555555556,
              "#d8576b"
             ],
             [
              0.6666666666666666,
              "#ed7953"
             ],
             [
              0.7777777777777778,
              "#fb9f3a"
             ],
             [
              0.8888888888888888,
              "#fdca26"
             ],
             [
              1,
              "#f0f921"
             ]
            ],
            "type": "surface"
           }
          ],
          "table": [
           {
            "cells": {
             "fill": {
              "color": "#EBF0F8"
             },
             "line": {
              "color": "white"
             }
            },
            "header": {
             "fill": {
              "color": "#C8D4E3"
             },
             "line": {
              "color": "white"
             }
            },
            "type": "table"
           }
          ]
         },
         "layout": {
          "annotationdefaults": {
           "arrowcolor": "#2a3f5f",
           "arrowhead": 0,
           "arrowwidth": 1
          },
          "autotypenumbers": "strict",
          "coloraxis": {
           "colorbar": {
            "outlinewidth": 0,
            "ticks": ""
           }
          },
          "colorscale": {
           "diverging": [
            [
             0,
             "#8e0152"
            ],
            [
             0.1,
             "#c51b7d"
            ],
            [
             0.2,
             "#de77ae"
            ],
            [
             0.3,
             "#f1b6da"
            ],
            [
             0.4,
             "#fde0ef"
            ],
            [
             0.5,
             "#f7f7f7"
            ],
            [
             0.6,
             "#e6f5d0"
            ],
            [
             0.7,
             "#b8e186"
            ],
            [
             0.8,
             "#7fbc41"
            ],
            [
             0.9,
             "#4d9221"
            ],
            [
             1,
             "#276419"
            ]
           ],
           "sequential": [
            [
             0,
             "#0d0887"
            ],
            [
             0.1111111111111111,
             "#46039f"
            ],
            [
             0.2222222222222222,
             "#7201a8"
            ],
            [
             0.3333333333333333,
             "#9c179e"
            ],
            [
             0.4444444444444444,
             "#bd3786"
            ],
            [
             0.5555555555555556,
             "#d8576b"
            ],
            [
             0.6666666666666666,
             "#ed7953"
            ],
            [
             0.7777777777777778,
             "#fb9f3a"
            ],
            [
             0.8888888888888888,
             "#fdca26"
            ],
            [
             1,
             "#f0f921"
            ]
           ],
           "sequentialminus": [
            [
             0,
             "#0d0887"
            ],
            [
             0.1111111111111111,
             "#46039f"
            ],
            [
             0.2222222222222222,
             "#7201a8"
            ],
            [
             0.3333333333333333,
             "#9c179e"
            ],
            [
             0.4444444444444444,
             "#bd3786"
            ],
            [
             0.5555555555555556,
             "#d8576b"
            ],
            [
             0.6666666666666666,
             "#ed7953"
            ],
            [
             0.7777777777777778,
             "#fb9f3a"
            ],
            [
             0.8888888888888888,
             "#fdca26"
            ],
            [
             1,
             "#f0f921"
            ]
           ]
          },
          "colorway": [
           "#636efa",
           "#EF553B",
           "#00cc96",
           "#ab63fa",
           "#FFA15A",
           "#19d3f3",
           "#FF6692",
           "#B6E880",
           "#FF97FF",
           "#FECB52"
          ],
          "font": {
           "color": "#2a3f5f"
          },
          "geo": {
           "bgcolor": "white",
           "lakecolor": "white",
           "landcolor": "#E5ECF6",
           "showlakes": true,
           "showland": true,
           "subunitcolor": "white"
          },
          "hoverlabel": {
           "align": "left"
          },
          "hovermode": "closest",
          "mapbox": {
           "style": "light"
          },
          "paper_bgcolor": "white",
          "plot_bgcolor": "#E5ECF6",
          "polar": {
           "angularaxis": {
            "gridcolor": "white",
            "linecolor": "white",
            "ticks": ""
           },
           "bgcolor": "#E5ECF6",
           "radialaxis": {
            "gridcolor": "white",
            "linecolor": "white",
            "ticks": ""
           }
          },
          "scene": {
           "xaxis": {
            "backgroundcolor": "#E5ECF6",
            "gridcolor": "white",
            "gridwidth": 2,
            "linecolor": "white",
            "showbackground": true,
            "ticks": "",
            "zerolinecolor": "white"
           },
           "yaxis": {
            "backgroundcolor": "#E5ECF6",
            "gridcolor": "white",
            "gridwidth": 2,
            "linecolor": "white",
            "showbackground": true,
            "ticks": "",
            "zerolinecolor": "white"
           },
           "zaxis": {
            "backgroundcolor": "#E5ECF6",
            "gridcolor": "white",
            "gridwidth": 2,
            "linecolor": "white",
            "showbackground": true,
            "ticks": "",
            "zerolinecolor": "white"
           }
          },
          "shapedefaults": {
           "line": {
            "color": "#2a3f5f"
           }
          },
          "ternary": {
           "aaxis": {
            "gridcolor": "white",
            "linecolor": "white",
            "ticks": ""
           },
           "baxis": {
            "gridcolor": "white",
            "linecolor": "white",
            "ticks": ""
           },
           "bgcolor": "#E5ECF6",
           "caxis": {
            "gridcolor": "white",
            "linecolor": "white",
            "ticks": ""
           }
          },
          "title": {
           "x": 0.05
          },
          "xaxis": {
           "automargin": true,
           "gridcolor": "white",
           "linecolor": "white",
           "ticks": "",
           "title": {
            "standoff": 15
           },
           "zerolinecolor": "white",
           "zerolinewidth": 2
          },
          "yaxis": {
           "automargin": true,
           "gridcolor": "white",
           "linecolor": "white",
           "ticks": "",
           "title": {
            "standoff": 15
           },
           "zerolinecolor": "white",
           "zerolinewidth": 2
          }
         }
        },
        "title": {
         "text": "Rhizome Artwork Acquisitions by Gender Over Time"
        },
        "xaxis": {
         "anchor": "y",
         "domain": [
          0,
          1
         ],
         "title": {
          "text": "Date of Creation"
         }
        },
        "yaxis": {
         "anchor": "x",
         "domain": [
          0,
          1
         ],
         "title": {
          "text": "sum of Total Artworks Created"
         }
        }
       }
      }
     },
     "metadata": {},
     "output_type": "display_data"
    }
   ],
   "source": [
    "fig = px.histogram(rhz_gender_artworks_created, x='Date Created', y=['Male Artists', 'Female Artists'],\n",
    "            barmode='group', height=400, labels={'Date Created': 'Date of Creation', 'value': 'Total Artworks Created', 'variable': 'Gender'}, title='Rhizome Artwork Acquisitions by Gender Over Time', color_discrete_map={\"Male Artists\": \"#456987\",\"Female Artists\": \"#147852\"})\n",
    "fig.update_traces(hovertemplate=None, hoverinfo='y')\n",
    "fig.show()"
   ]
  },
  {
   "cell_type": "markdown",
   "metadata": {},
   "source": [
    "**MOMA GENDER LINE PLOTS**"
   ]
  },
  {
   "cell_type": "code",
   "execution_count": null,
   "metadata": {},
   "outputs": [],
   "source": []
  }
 ],
 "metadata": {
  "interpreter": {
   "hash": "aee8b7b246df8f9039afb4144a1f6fd8d2ca17a180786b69acc140d282b71a49"
  },
  "kernelspec": {
   "display_name": "Python 3.10.4 64-bit",
   "language": "python",
   "name": "python3"
  },
  "language_info": {
   "codemirror_mode": {
    "name": "ipython",
    "version": 3
   },
   "file_extension": ".py",
   "mimetype": "text/x-python",
   "name": "python",
   "nbconvert_exporter": "python",
   "pygments_lexer": "ipython3",
   "version": "3.10.4"
  },
  "orig_nbformat": 4
 },
 "nbformat": 4,
 "nbformat_minor": 2
}
