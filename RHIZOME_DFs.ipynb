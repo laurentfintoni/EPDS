{
 "cells": [
  {
   "cell_type": "markdown",
   "metadata": {},
   "source": [
    "Rhizome Dataframes: \n",
    "- 1 x Artist DF based on rdf information + manual additions \n",
    "- 1 x Artist DF w/ concatenated gender and nationality columns for visualization \n",
    "- 1 x Artworks DF based on rdf information + manual checks \n",
    "- 1 x Artworks DF w/ additional information (gender, nationality) from Artist DF for visualization \n",
    "- 1 x Artworks DF w/ additional info + scraped text\n",
    "\n",
    "For collectives we display all IDs, gender, and nationality of potential members (if they exist as individuals in the db). For individual members of a collective that were not originally included in the Rhizome db we only included them if they were a duo. Therefore collectives with more than two members who did not exist in the original Rhizome DB exist as a sole entry with a corresponding ID while every other type of collective has multiple IDs for their constituent members. "
   ]
  },
  {
   "cell_type": "markdown",
   "metadata": {},
   "source": [
    "TO DO:\n",
    "- clean scrapes, analyse for keywords"
   ]
  },
  {
   "cell_type": "code",
   "execution_count": 12,
   "metadata": {},
   "outputs": [],
   "source": [
    "from __future__ import print_function\n",
    "from bs4 import BeautifulSoup\n",
    "from collections import defaultdict\n",
    "import requests\n",
    "import pandas as pd\n",
    "import pandas_profiling as pp\n",
    "path = '/Users/laurentfintoni/Desktop/University/COURSE DOCS/YEAR 2/EPUB/PROJECT/EPDS/Rhizome_data/'"
   ]
  },
  {
   "cell_type": "code",
   "execution_count": 6,
   "metadata": {},
   "outputs": [],
   "source": [
    "#create a df for artists, pickle \n",
    "\n",
    "rhz_artists= pd.read_csv('./Rhizome_data/artists_complete.csv', dtype='string')\n",
    "#set empty fields w/ missing\n",
    "rhz_artists['artistLabel'] = rhz_artists['artistLabel'].fillna('')\n",
    "rhz_artists['artistPage'] = rhz_artists['artistPage'].fillna('')\n",
    "rhz_artists['Nationality'] = rhz_artists['Nationality'].fillna('')\n",
    "rhz_artists['Nationality Guessed'] = rhz_artists['Nationality Guessed'].fillna('')\n",
    "rhz_artists['Gender'] = rhz_artists['Gender'].fillna('')\n",
    "rhz_artists['Gender Guessed'] = rhz_artists['Gender Guessed'].fillna('')\n",
    "rhz_artists['Birth'] = rhz_artists['Birth'].fillna('0').astype('int')\n",
    "rhz_artists['Death'] = rhz_artists['Death'].fillna('0').astype('int')\n",
    "rhz_artists['Wiki QID'] = rhz_artists['Wiki QID'].fillna('')\n",
    "rhz_artists['ULAN'] = rhz_artists['ULAN'].fillna('')\n",
    "#set collective fields to empty not missing \n",
    "rhz_artists['collectiveLabel'] = rhz_artists['collectiveLabel'].fillna('')\n",
    "rhz_artists['collectivePage'] = rhz_artists['collectivePage'].fillna('')\n",
    "#create and populate ID field to cross reference with artworks \n",
    "rhz_artists['ID'] = range(1, 1+len(rhz_artists))\n",
    "rhz_artists['ID'] = rhz_artists['ID'].astype('string')\n",
    "#drop the notes column \n",
    "rhz_artists = rhz_artists.drop('Notes', axis=1)\n",
    "#rename columns \n",
    "rhz_artists.rename(columns={'artistLabel': 'Artist', 'artistPage': 'Artist URL', 'collectiveLabel': 'Collective', 'collectivePage': 'Collective URL', 'Wiki QID': 'WikiQID', 'Nationality Guessed': 'nationalityGuessed', 'Gender Guessed': 'genderGuessed', 'Wiki QID': 'wikiQID'}, inplace=True)\n",
    "rhz_artists.to_pickle(path+'rhizome_artists.pkl')"
   ]
  },
  {
   "cell_type": "code",
   "execution_count": 7,
   "metadata": {},
   "outputs": [],
   "source": [
    "#create a second artists DF w/ concataned gender and nationality columns \n",
    "\n",
    "rhz_artists_extra = rhz_artists.copy()\n",
    "rhz_artists_extra['Gender'] = rhz_artists_extra['Gender'].str.cat(rhz_artists_extra['genderGuessed'], join='outer', na_rep='missing')\n",
    "rhz_artists_extra = rhz_artists_extra.drop('genderGuessed', axis=1)\n",
    "rhz_artists_extra.loc[rhz_artists_extra['Gender'] == '', 'Gender'] = 'missing'\n",
    "rhz_artists_extra['Nationality'] = rhz_artists_extra['Nationality'].str.cat(rhz_artists_extra['nationalityGuessed'], join='outer', na_rep='missing')\n",
    "rhz_artists_extra = rhz_artists_extra.drop('nationalityGuessed', axis=1)\n",
    "rhz_artists_extra.loc[rhz_artists_extra['Nationality'] == '', 'Nationality'] = 'missing'\n",
    "rhz_artists_extra.to_pickle(path+'rhizome_artists_extra.pkl')"
   ]
  },
  {
   "cell_type": "code",
   "execution_count": 8,
   "metadata": {},
   "outputs": [],
   "source": [
    "#create a df for artworks, pickle \n",
    "\n",
    "rhz_artworks= pd.read_csv('./Rhizome_data/artwork_complete.csv', dtype='string')\n",
    "#set empty fields w/ missing or empty strings \n",
    "rhz_artworks['accession'] = rhz_artworks['accession'].fillna('0')\n",
    "rhz_artworks.loc[:,'accession'] = rhz_artworks['accession'].where((rhz_artworks['accession'].str.len() <= 4), rhz_artworks['accession'].str[0:4])\n",
    "rhz_artworks['inception'] = rhz_artworks['inception'].fillna('0')\n",
    "rhz_artworks.loc[:,'inception'] = rhz_artworks['inception'].where((rhz_artworks['inception'].str.len() <= 4), rhz_artworks['inception'].str[0:4])\n",
    "url_columns = ['summary_url', 'summary_url_2', 'description_url', 'description_url_2', 'statement_url']\n",
    "rhz_artworks[url_columns] = rhz_artworks[url_columns].fillna('')\n",
    "#rename columns \n",
    "rhz_artworks.rename(columns={'artwork_label': 'Title', 'artist_label': 'Artist', 'accession': 'dateAcquired', 'inception': 'dateCreated', 'artwork_page': 'URL'}, inplace=True)\n",
    "#auto populate ID based on artist df \n",
    "for index, row in rhz_artworks.iterrows():\n",
    "    ids = list()\n",
    "    artist = getattr(row, 'Artist')\n",
    "    artist = artist.split(', ')\n",
    "    artists = rhz_artists_extra[['Artist', 'ID']]\n",
    "    artists = dict(list(zip(artists.Artist, artists.ID)))\n",
    "    collective_ids = defaultdict(list)\n",
    "    for i, j in zip(rhz_artists_extra.Collective,rhz_artists_extra.ID):\n",
    "        collective_ids[i].append(j)\n",
    "    collective_ids = dict(collective_ids)\n",
    "    del collective_ids['']\n",
    "    for k, v in collective_ids.items():\n",
    "        collective_ids.update({k: ', '.join([n for n in v])})\n",
    "\n",
    "    for person in artist:\n",
    "        if person in artists:\n",
    "            ids.append(str(artists[person]))\n",
    "        elif person in collective_ids:\n",
    "            ids.append(collective_ids[person])\n",
    "        else:\n",
    "            ids.append('missing')\n",
    "    string = ', '.join(ids)\n",
    "\n",
    "    rhz_artworks.at[index, 'ID'] = string\n",
    "rhz_artworks.to_pickle(path+'rhizome_artworks.pkl')"
   ]
  },
  {
   "cell_type": "code",
   "execution_count": 9,
   "metadata": {},
   "outputs": [],
   "source": [
    "#create a second df for artworks w/ additional artist info for visualisation \n",
    "\n",
    "rhz_artworks_extra = rhz_artworks.copy()\n",
    "rhz_artworks_extra.drop(['summary_url', 'summary_url_2', 'description_url', 'description_url_2', 'statement_url'], inplace=True, axis=1)\n",
    "\n",
    "#add nationality \n",
    "for index, row in rhz_artworks_extra.iterrows():\n",
    "    nationality = list()\n",
    "    artist = getattr(row, 'Artist')\n",
    "    artist = artist.split(', ')\n",
    "    artists = rhz_artists_extra[['Artist', 'Nationality']]\n",
    "    artists = dict(list(zip(artists.Artist, artists.Nationality)))\n",
    "    collectives_nat = defaultdict(list)\n",
    "    for i, j in zip(rhz_artists_extra.Collective,rhz_artists_extra.Nationality):\n",
    "        collectives_nat[i].append(j)\n",
    "    collectives_nat = dict(collectives_nat)\n",
    "    del collectives_nat['']\n",
    "    for k, v in collectives_nat.items():\n",
    "        collectives_nat.update({k: ', '.join([n for n in v])})\n",
    "\n",
    "    for person in artist:\n",
    "        if person in artists:\n",
    "            nationality.append(str(artists[person]))\n",
    "        elif person in collectives_nat:\n",
    "            nationality.append(collectives_nat[person])\n",
    "        else:\n",
    "            nationality.append('missing')\n",
    "    string_nationality = ', '.join(nationality)\n",
    "\n",
    "    rhz_artworks_extra.at[index, 'Nationality'] = string_nationality\n",
    "    \n",
    "#add gender \n",
    "for index, row in rhz_artworks_extra.iterrows():\n",
    "    gender = list()\n",
    "    artist = getattr(row, 'Artist')\n",
    "    artist = artist.split(', ')\n",
    "    artists = rhz_artists_extra[['Artist', 'Gender']]\n",
    "    artists = dict(list(zip(artists.Artist, artists.Gender)))\n",
    "    collectives_gen = defaultdict(list)\n",
    "    for i, j in zip(rhz_artists_extra.Collective,rhz_artists_extra.Gender):\n",
    "        collectives_gen[i].append(j)\n",
    "    collectives_gen = dict(collectives_gen)\n",
    "    del collectives_gen['']\n",
    "    for k, v in collectives_gen.items():\n",
    "        collectives_gen.update({k: ', '.join([n for n in v])})\n",
    "\n",
    "    for person in artist:\n",
    "        if person in artists:\n",
    "            gender.append(str(artists[person]))\n",
    "        elif person in collectives_gen:\n",
    "            gender.append(collectives_gen[person])\n",
    "        else:\n",
    "            gender.append('missing')\n",
    "    string_gender = ', '.join(gender)\n",
    "\n",
    "    rhz_artworks_extra.at[index, 'Gender'] = string_gender\n",
    "\n",
    "rhz_artworks_extra.to_pickle(path+'rhizome_artworks_extra.pkl')\n",
    "rhz_artworks_extra.to_csv(path+'rhizome_artworks_extra.csv')"
   ]
  },
  {
   "cell_type": "code",
   "execution_count": 13,
   "metadata": {},
   "outputs": [],
   "source": [
    "#scrape summaries, descriptions and artists statements from Rhizome website \n",
    "\n",
    "def url_to_text_rhizome(url):\n",
    "    page = requests.get(url).text\n",
    "    soup = BeautifulSoup(page, \"lxml\")\n",
    "    #text = [p.text for p in soup.find(class_=\"mw-parser-output\").find_all('p')]\n",
    "    #description = [div.text.strip() for div in soup.find(class_=\"artbase-summary-1\").find_all('div')]\n",
    "    #summary_statement = [div.text.strip() for div in soup.find(class_=\"artbase-description-1\").find_all('div')]\n",
    "    accordion = [p.text.strip() for p in soup.find(id=\"AccordionDescriptionBody\").find_all('div')]\n",
    "    print(url)\n",
    "    return accordion"
   ]
  },
  {
   "cell_type": "code",
   "execution_count": 16,
   "metadata": {},
   "outputs": [],
   "source": [
    "#grab URLs from artworks DF, scrape them and return them back to the DF\n",
    "urls = rhz_artworks_extra['URL'].to_list()\n",
    "scrapes = [url_to_text_rhizome(u) for u in urls]\n",
    "rhz_artworks_extra['Text'] = pd.Series(scrapes)\n",
    "#fix an erroneous ID in original first round of scraping \n",
    "rhz_artworks_extra.loc[777, 'ID'] = '926, 1268'\n",
    "rhz_artworks_extra = rhz_artworks_extra.astype('string')\n",
    "rhz_artworks_extra.to_pickle(path+'rhizome_artworks_extra_text.pkl')"
   ]
  },
  {
   "cell_type": "code",
   "execution_count": 2,
   "metadata": {},
   "outputs": [],
   "source": [
    "rhz_artworks_extra = pd.read_pickle(path+'rhizome_artworks_extra_text.pkl')"
   ]
  },
  {
   "cell_type": "code",
   "execution_count": null,
   "metadata": {},
   "outputs": [],
   "source": [
    "remove = ['description edit\\\\\\\\n\\\\\\\\n\\\\\\\\t\\\\\\\\t\\\\\\\\t\\\\\\\\t', '[', ']', '\\\\\\\\n\\\\\\\\n\\\\\\\\n\\\\\\\\', '\\'description edit\\', ', 'edit\\\\\\\\n\\\\\\\\n']\n",
    "for char in remove:\n",
    "    rhz_artworks_extra['Text'] = rhz_artworks_extra['Text'].str.replace(char, '')"
   ]
  },
  {
   "cell_type": "code",
   "execution_count": null,
   "metadata": {},
   "outputs": [],
   "source": [
    "rhz_artworks_extra.iloc[3]['Text']"
   ]
  },
  {
   "cell_type": "markdown",
   "metadata": {},
   "source": [
    "Reports "
   ]
  },
  {
   "cell_type": "code",
   "execution_count": null,
   "metadata": {},
   "outputs": [],
   "source": [
    "pp.ProfileReport(rhz_artworks_extra)"
   ]
  }
 ],
 "metadata": {
  "interpreter": {
   "hash": "aee8b7b246df8f9039afb4144a1f6fd8d2ca17a180786b69acc140d282b71a49"
  },
  "kernelspec": {
   "display_name": "Python 3.9.9 64-bit",
   "language": "python",
   "name": "python3"
  },
  "language_info": {
   "codemirror_mode": {
    "name": "ipython",
    "version": 3
   },
   "file_extension": ".py",
   "mimetype": "text/x-python",
   "name": "python",
   "nbconvert_exporter": "python",
   "pygments_lexer": "ipython3",
   "version": "3.10.4"
  },
  "orig_nbformat": 4
 },
 "nbformat": 4,
 "nbformat_minor": 2
}
